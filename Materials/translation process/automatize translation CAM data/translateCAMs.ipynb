{
 "cells": [
  {
   "cell_type": "markdown",
   "metadata": {},
   "source": [
    "# Load needed modules"
   ]
  },
  {
   "cell_type": "code",
   "execution_count": 1,
   "metadata": {},
   "outputs": [],
   "source": [
    "# modules:\n",
    "import pandas as pd\n",
    "import os\n",
    "from openai import OpenAI\n",
    "\n",
    "\n",
    "# get external variables or functions:\n",
    "import src.API_key as key"
   ]
  },
  {
   "cell_type": "markdown",
   "metadata": {},
   "source": [
    "# Load data to translate\n",
    "> this should be the drawn concept data set whereby 1 row is 1 drawn concept"
   ]
  },
  {
   "cell_type": "code",
   "execution_count": 2,
   "metadata": {},
   "outputs": [
    {
     "name": "stdout",
     "output_type": "stream",
     "text": [
      "c:\\Users\\fenn\\Nextcloud\\Artikel Cognitive Affective Maps Tools\\CAM tools\\aaa_translateCAMs\n"
     ]
    }
   ],
   "source": [
    "print(os.getcwd())\n",
    "# Get the current working directory\n",
    "os.chdir(\"data\") \n",
    "directory = os.getcwd()"
   ]
  },
  {
   "cell_type": "code",
   "execution_count": 3,
   "metadata": {},
   "outputs": [
    {
     "name": "stdout",
     "output_type": "stream",
     "text": [
      "c:\\Users\\fenn\\Nextcloud\\Artikel Cognitive Affective Maps Tools\\CAM tools\\aaa_translateCAMs\\data\n"
     ]
    }
   ],
   "source": [
    "# print the current working directory\n",
    "print(directory)"
   ]
  },
  {
   "cell_type": "code",
   "execution_count": 4,
   "metadata": {},
   "outputs": [
    {
     "name": "stdout",
     "output_type": "stream",
     "text": [
      "['drawnConcepts_translate.xlsx']\n"
     ]
    }
   ],
   "source": [
    "# List files in the current working directory\n",
    "files = os.listdir('.')\n",
    "# Display the list of files\n",
    "print(files)"
   ]
  },
  {
   "cell_type": "code",
   "execution_count": 5,
   "metadata": {},
   "outputs": [
    {
     "name": "stdout",
     "output_type": "stream",
     "text": [
      "Length of the text:\n",
      "6404\n",
      "2380\n",
      "Length of the comment:\n",
      "6404\n",
      "1249\n"
     ]
    }
   ],
   "source": [
    "# Load the .xlsx file into a DataFrame\n",
    "df = pd.read_excel(directory + \"/drawnConcepts_translate.xlsx\")\n",
    "# Specify the columns to keep\n",
    "columns_to_keep_text = ['text'] # only the df column 'text' will be kept\n",
    "columns_to_keep_comment = ['id', 'comment'] # only the df columns 'id' and 'comment' will be kept\n",
    "\n",
    "# Filter the DataFrame to keep only the specified columns\n",
    "df_text = df[columns_to_keep_text]\n",
    "df_comment = df[columns_to_keep_comment]\n",
    "\n",
    "# prepare the data frames \n",
    "# for the text only the unique values are kept\n",
    "print(\"Length of the text:\")\n",
    "print(df_text.__len__())\n",
    "df_text = df_text['text'].str.strip()\n",
    "df_text = df_text.unique()\n",
    "print(df_text.__len__())\n",
    "# for the comment the NaN values are removed\n",
    "print(\"Length of the comment:\")\n",
    "print(df_comment.__len__())\n",
    "df_comment = df_comment.dropna()\n",
    "print(df_comment.__len__())"
   ]
  },
  {
   "cell_type": "code",
   "execution_count": 6,
   "metadata": {},
   "outputs": [
    {
     "name": "stdout",
     "output_type": "stream",
     "text": [
      "['Autonomiebedenken' 'Unklare Verantwortung' '\"Kleine\" Operationen' ...\n",
      " 'zuverlassing' 'Zuverlässligkeit' 'Zwiespalt Kind/Erwachsener']\n"
     ]
    }
   ],
   "source": [
    "print(df_text)"
   ]
  },
  {
   "cell_type": "code",
   "execution_count": 7,
   "metadata": {},
   "outputs": [
    {
     "name": "stdout",
     "output_type": "stream",
     "text": [
      "                                        id  \\\n",
      "0     205c7562-cb88-4997-b064-d3a8712dde7f   \n",
      "2     0eb4922a-4e3d-4bae-8eba-e6112322123c   \n",
      "4     bb704e1e-1771-4e41-98c9-6f34634d9e88   \n",
      "6     caff0cfe-11b1-4fd9-a78f-3121ba0d3152   \n",
      "7     0291051a-64c6-43aa-a870-63c529178835   \n",
      "...                                    ...   \n",
      "6373  4a60501f-f8a1-4c35-bcf8-c82f581c1123   \n",
      "6386  11becfac-bff0-47b6-8a6c-2939cf6885e2   \n",
      "6389  6b166e65-dc10-43aa-ab96-24a30588ea18   \n",
      "6392  33d7e5e1-bef4-483e-ac39-c210a6aee480   \n",
      "6395  2f126d53-318b-4919-91f2-1da95c9b6458   \n",
      "\n",
      "                                                comment  \n",
      "0     Überlegung, ob Menschen die Roboter steuern so...  \n",
      "2                 Über das Handeln von Rettungsrobotern  \n",
      "4     Besonders gut für kleinere Operationen und mög...  \n",
      "6                     Organische, süße Assistenzroboter  \n",
      "7     Personen, die keinen Körperkontakt mit anderen...  \n",
      "...                                                 ...  \n",
      "6373                                   ist immer bereit  \n",
      "6386  Maschinen können ihre Aufgaben zuverlässig und...  \n",
      "6389                                           fraglich  \n",
      "6392  Softe Roboter sind noch neuartiger und fallen ...  \n",
      "6395                           fraglich; weicher Körper  \n",
      "\n",
      "[1249 rows x 2 columns]\n"
     ]
    }
   ],
   "source": [
    "print(df_comment)"
   ]
  },
  {
   "cell_type": "markdown",
   "metadata": {},
   "source": [
    "# Set up ChatGPT"
   ]
  },
  {
   "cell_type": "markdown",
   "metadata": {},
   "source": [
    "## Translate written text"
   ]
  },
  {
   "cell_type": "code",
   "execution_count": 8,
   "metadata": {},
   "outputs": [
    {
     "name": "stdout",
     "output_type": "stream",
     "text": [
      "                          German                      English\n",
      "0              Autonomiebedenken          \"autonomy concerns\"\n",
      "1          Unklare Verantwortung     \"unclear responsibility\"\n",
      "2           \"Kleine\" Operationen           \"small operations\"\n",
      "3                  \"Soft robots\"                \"soft robots\"\n",
      "4       \"Touch starved\" Personen     \"\"touch starved\" people\"\n",
      "...                          ...                          ...\n",
      "2375  Zuverlässiger als Menschen  \"more reliable than humans\"\n",
      "2376             Zuverlässigkeit                \"reliability\"\n",
      "2377                zuverlassing                   \"reliable\"\n",
      "2378            Zuverlässligkeit                \"reliability\"\n",
      "2379  Zwiespalt Kind/Erwachsener       \"conflict child/adult\"\n",
      "\n",
      "[2380 rows x 2 columns]\n"
     ]
    }
   ],
   "source": [
    "# Step 1: Set up the OpenAI API\n",
    "client = OpenAI(\n",
    "    api_key=key.openai_api_key,\n",
    ")\n",
    "\n",
    "# Define the array of German words\n",
    "words_to_translate = df_text\n",
    "\n",
    "\n",
    "# Function to translate a word using ChatGPT API\n",
    "def translate_word(word):\n",
    "    try:\n",
    "        response = client.chat.completions.create(\n",
    "            model=\"gpt-4\",\n",
    "            messages=[\n",
    "                {\"role\": \"system\", \"content\": \"You are a helpful assistant that translates German words to English.\"},\n",
    "                {\"role\": \"user\", \"content\": f'Translate the following German word to English: \"{word}\" Be careful with spelling errors and do not use capital letters for adjectives. Only return the translation in quotes.'}\n",
    "            ]\n",
    "        )\n",
    "        # print(response.choices[0].message.content.strip())\n",
    "        \n",
    "        #content = response.choices[0].message.content.strip()\n",
    "        #start_index = content.find('is \"') + 4\n",
    "        #end_index = content.find('\"', start_index)\n",
    "        #translation = content[start_index:end_index]\n",
    "        #print(translation)\n",
    "        return response.choices[0].message.content.strip()\n",
    "    except Exception as e:\n",
    "        print(f\"Error translating word '{word}': {e}\")\n",
    "        return None\n",
    "\n",
    "# Step 2: Translate the words\n",
    "translations = [translate_word(word) for word in words_to_translate]\n",
    "\n",
    "# Remove None values if any translation fails\n",
    "translated_words = [word for word, translation in zip(words_to_translate, translations) if translation is not None]\n",
    "translations = [translation for translation in translations if translation is not None]\n",
    "\n",
    "# Step 3: Store the translations in a .xlsx file\n",
    "df_translated_text = pd.DataFrame({\n",
    "    'German': translated_words,\n",
    "    'English': translations\n",
    "})\n",
    "print(df_translated_text)"
   ]
  },
  {
   "cell_type": "code",
   "execution_count": 9,
   "metadata": {},
   "outputs": [
    {
     "name": "stdout",
     "output_type": "stream",
     "text": [
      "c:\\Users\\fenn\\Nextcloud\\Artikel Cognitive Affective Maps Tools\\CAM tools\\aaa_translateCAMs\\data\n",
      "Translations saved to translations_text.xlsx\n"
     ]
    }
   ],
   "source": [
    "print(os.getcwd())\n",
    "\n",
    "os.chdir(\"../output\") \n",
    "\n",
    "# Save the DataFrame to an Excel file\n",
    "df_translated_text.to_excel('translations_text.xlsx', index=False)\n",
    "print(\"Translations saved to translations_text.xlsx\")"
   ]
  },
  {
   "cell_type": "markdown",
   "metadata": {},
   "source": [
    "## Translate written comments"
   ]
  },
  {
   "cell_type": "code",
   "execution_count": 16,
   "metadata": {},
   "outputs": [
    {
     "name": "stdout",
     "output_type": "stream",
     "text": [
      "0    Überlegung, ob Menschen die Roboter steuern so...\n",
      "2                Über das Handeln von Rettungsrobotern\n",
      "4    Besonders gut für kleinere Operationen und mög...\n",
      "Name: comment, dtype: object\n",
      "                                        id  \\\n",
      "0     205c7562-cb88-4997-b064-d3a8712dde7f   \n",
      "2     0eb4922a-4e3d-4bae-8eba-e6112322123c   \n",
      "4     bb704e1e-1771-4e41-98c9-6f34634d9e88   \n",
      "6     caff0cfe-11b1-4fd9-a78f-3121ba0d3152   \n",
      "7     0291051a-64c6-43aa-a870-63c529178835   \n",
      "...                                    ...   \n",
      "6373  4a60501f-f8a1-4c35-bcf8-c82f581c1123   \n",
      "6386  11becfac-bff0-47b6-8a6c-2939cf6885e2   \n",
      "6389  6b166e65-dc10-43aa-ab96-24a30588ea18   \n",
      "6392  33d7e5e1-bef4-483e-ac39-c210a6aee480   \n",
      "6395  2f126d53-318b-4919-91f2-1da95c9b6458   \n",
      "\n",
      "                                                comment  \n",
      "0     Überlegung, ob Menschen die Roboter steuern so...  \n",
      "2                 Über das Handeln von Rettungsrobotern  \n",
      "4     Besonders gut für kleinere Operationen und mög...  \n",
      "6                     Organische, süße Assistenzroboter  \n",
      "7     Personen, die keinen Körperkontakt mit anderen...  \n",
      "...                                                 ...  \n",
      "6373                                   ist immer bereit  \n",
      "6386  Maschinen können ihre Aufgaben zuverlässig und...  \n",
      "6389                                           fraglich  \n",
      "6392  Softe Roboter sind noch neuartiger und fallen ...  \n",
      "6395                           fraglich; weicher Körper  \n",
      "\n",
      "[1249 rows x 2 columns]\n"
     ]
    }
   ],
   "source": [
    "print(df_comment['comment'][0:3])\n",
    "print(df_comment)"
   ]
  },
  {
   "cell_type": "code",
   "execution_count": 22,
   "metadata": {},
   "outputs": [
    {
     "name": "stdout",
     "output_type": "stream",
     "text": [
      "c:\\Users\\fenn\\Nextcloud\\Artikel Cognitive Affective Maps Tools\\CAM tools\\aaa_translateCAMs\\output\n"
     ]
    }
   ],
   "source": [
    "print(os.getcwd())"
   ]
  },
  {
   "cell_type": "code",
   "execution_count": 23,
   "metadata": {},
   "outputs": [
    {
     "name": "stdout",
     "output_type": "stream",
     "text": [
      "Current counter: 100\n",
      "Current counter: 200\n",
      "Current counter: 300\n",
      "Current counter: 400\n",
      "Current counter: 500\n",
      "Current counter: 600\n",
      "Current counter: 700\n",
      "Current counter: 800\n",
      "Current counter: 900\n",
      "Current counter: 1000\n",
      "Current counter: 1100\n",
      "Current counter: 1200\n",
      "                                        ID  \\\n",
      "0     205c7562-cb88-4997-b064-d3a8712dde7f   \n",
      "2     0eb4922a-4e3d-4bae-8eba-e6112322123c   \n",
      "4     bb704e1e-1771-4e41-98c9-6f34634d9e88   \n",
      "6     caff0cfe-11b1-4fd9-a78f-3121ba0d3152   \n",
      "7     0291051a-64c6-43aa-a870-63c529178835   \n",
      "...                                    ...   \n",
      "6373  4a60501f-f8a1-4c35-bcf8-c82f581c1123   \n",
      "6386  11becfac-bff0-47b6-8a6c-2939cf6885e2   \n",
      "6389  6b166e65-dc10-43aa-ab96-24a30588ea18   \n",
      "6392  33d7e5e1-bef4-483e-ac39-c210a6aee480   \n",
      "6395  2f126d53-318b-4919-91f2-1da95c9b6458   \n",
      "\n",
      "                                                 German  \\\n",
      "0     Überlegung, ob Menschen die Roboter steuern so...   \n",
      "2                 Über das Handeln von Rettungsrobotern   \n",
      "4     Besonders gut für kleinere Operationen und mög...   \n",
      "6                     Organische, süße Assistenzroboter   \n",
      "7     Personen, die keinen Körperkontakt mit anderen...   \n",
      "...                                                 ...   \n",
      "6373                                   ist immer bereit   \n",
      "6386  Maschinen können ihre Aufgaben zuverlässig und...   \n",
      "6389                                           fraglich   \n",
      "6392  Softe Roboter sind noch neuartiger und fallen ...   \n",
      "6395                           fraglich; weicher Körper   \n",
      "\n",
      "                                                English  \n",
      "0     \"Consideration of whether humans should contro...  \n",
      "2                  \"About the actions of rescue robots\"  \n",
      "4     \"Especially good for smaller operations and po...  \n",
      "6                    \"Organic, sweet assistance robots\"  \n",
      "7     \"People who cannot or do not want to have phys...  \n",
      "...                                                 ...  \n",
      "6373                                  \"is always ready\"  \n",
      "6386  \"Machines can perform their tasks reliably and...  \n",
      "6389                                         \"doubtful\"  \n",
      "6392  \"Soft robots are still more novel and therefor...  \n",
      "6395                              \"doubtful; soft body\"  \n",
      "\n",
      "[1249 rows x 3 columns]\n"
     ]
    }
   ],
   "source": [
    "# Step 1: Set up the OpenAI API\n",
    "client = OpenAI(\n",
    "    api_key=key.openai_api_key,\n",
    ")\n",
    "\n",
    "# Define the array of German words\n",
    "comments_to_translate = df_comment['comment']\n",
    "comments_ids_to_translate = df_comment['id']\n",
    "\n",
    "# Function to translate a word using ChatGPT API\n",
    "def translate_comment(comment):\n",
    "    try:\n",
    "        response = client.chat.completions.create(\n",
    "            model=\"gpt-4\",\n",
    "            messages=[\n",
    "                {\"role\": \"system\", \"content\": \"You are a helpful assistant that translates German comments to English.\"},\n",
    "                {\"role\": \"user\", \"content\": f'Translate the following German comment to English: \"{comment}\" Be careful with spelling errors and do not use capital letters for adjectives. Only return the translation in quotes.'}\n",
    "            ]\n",
    "        )\n",
    "        return response.choices[0].message.content.strip()\n",
    "    except Exception as e:\n",
    "        print(f\"Error translating comment '{comment}': {e}\")\n",
    "        return None\n",
    "\n",
    "# Step 2: Translate the words with logging and saving\n",
    "translations = []\n",
    "counter = 0\n",
    "save_interval = 50\n",
    "print_interval = 100\n",
    "\n",
    "for comment in comments_to_translate:\n",
    "    translation = translate_comment(comment)\n",
    "    if translation:\n",
    "        translations.append(translation)\n",
    "    counter += 1\n",
    "    if counter % print_interval == 0:\n",
    "        print(f\"Current counter: {counter}\")\n",
    "    if counter % save_interval == 0:\n",
    "        df_temp = pd.DataFrame({'ID': comments_ids_to_translate[:counter], 'German': comments_to_translate[:counter], 'English': translations})\n",
    "        df_temp.to_excel(f'translations_comment_up_to_{counter}.xlsx', index=False)\n",
    "\n",
    "# Final save\n",
    "df_translated_comments = pd.DataFrame({\n",
    "    'ID': comments_ids_to_translate,\n",
    "    'German': comments_to_translate,\n",
    "    'English': translations\n",
    "})\n",
    "df_translated_comments.to_excel('translations_comment_final.xlsx', index=False)\n",
    "\n",
    "print(df_translated_comments)\n"
   ]
  }
 ],
 "metadata": {
  "kernelspec": {
   "display_name": "spaceenvironment",
   "language": "python",
   "name": "python3"
  },
  "language_info": {
   "codemirror_mode": {
    "name": "ipython",
    "version": 3
   },
   "file_extension": ".py",
   "mimetype": "text/x-python",
   "name": "python",
   "nbconvert_exporter": "python",
   "pygments_lexer": "ipython3",
   "version": "3.11.9"
  }
 },
 "nbformat": 4,
 "nbformat_minor": 2
}
