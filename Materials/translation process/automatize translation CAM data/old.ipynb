{
 "cells": [
  {
   "cell_type": "code",
   "execution_count": null,
   "metadata": {
    "vscode": {
     "languageId": "plaintext"
    }
   },
   "outputs": [],
   "source": [
    "# Step 1: Set up the OpenAI API\n",
    "client = OpenAI(\n",
    "    api_key=key.openai_api_key,\n",
    ")\n",
    "\n",
    "# Define the array of German words\n",
    "words_to_translate = df_text\n",
    "\n",
    "\n",
    "# Function to translate a word using ChatGPT API\n",
    "def translate_word(word):\n",
    "    try:\n",
    "        response = client.chat.completions.create(\n",
    "            model=\"gpt-4\",\n",
    "            messages=[\n",
    "                {\"role\": \"system\", \"content\": \"You are a helpful assistant that translates German words to English.\"},\n",
    "                {\"role\": \"user\", \"content\": f'Translate the following German word to English: \"{word}\" Be careful with spelling errors and do not use capital letters for adjectives. Only return the translation in quotes.'}\n",
    "            ]\n",
    "        )\n",
    "        # print(response.choices[0].message.content.strip())\n",
    "        \n",
    "        #content = response.choices[0].message.content.strip()\n",
    "        #start_index = content.find('is \"') + 4\n",
    "        #end_index = content.find('\"', start_index)\n",
    "        #translation = content[start_index:end_index]\n",
    "        #print(translation)\n",
    "        return response.choices[0].message.content.strip()\n",
    "    except Exception as e:\n",
    "        print(f\"Error translating word '{word}': {e}\")\n",
    "        return None\n",
    "\n",
    "# Step 2: Translate the words\n",
    "translations = [translate_word(word) for word in words_to_translate]\n",
    "\n",
    "# Remove None values if any translation fails\n",
    "translated_words = [word for word, translation in zip(words_to_translate, translations) if translation is not None]\n",
    "translations = [translation for translation in translations if translation is not None]\n",
    "\n",
    "# Step 3: Store the translations in a .xlsx file\n",
    "df_translated_text = pd.DataFrame({\n",
    "    'German': translated_words,\n",
    "    'English': translations\n",
    "})\n",
    "print(df_translated_text)"
   ]
  },
  {
   "cell_type": "code",
   "execution_count": null,
   "metadata": {
    "vscode": {
     "languageId": "plaintext"
    }
   },
   "outputs": [],
   "source": [
    "# Step 1: Set up the OpenAI API\n",
    "client = OpenAI(\n",
    "    api_key=key.openai_api_key,\n",
    ")\n",
    "\n",
    "# Define the array of German words\n",
    "comments_to_translate = df_comment['comment']\n",
    "comments_ids_to_translate = df_comment['id']\n",
    "\n",
    "# Function to translate a word using ChatGPT API\n",
    "def translate_comment(comment):\n",
    "    try:\n",
    "        response = client.chat.completions.create(\n",
    "            model=\"gpt-4\",\n",
    "            messages=[\n",
    "                {\"role\": \"system\", \"content\": \"You are a helpful assistant that translates German comments to English.\"},\n",
    "                {\"role\": \"user\", \"content\": f'Translate the following German comment to English: \"{comment}\" Be careful with spelling errors and do not use capital letters for adjectives. Only return the translation in quotes.'}\n",
    "            ]\n",
    "        )\n",
    "        return response.choices[0].message.content.strip()\n",
    "    except Exception as e:\n",
    "        print(f\"Error translating comment '{comment}': {e}\")\n",
    "        return None\n",
    "\n",
    "# Step 2: Translate the words with logging and saving\n",
    "translations = []\n",
    "counter = 0\n",
    "save_interval = 50\n",
    "print_interval = 100\n",
    "\n",
    "for comment in comments_to_translate:\n",
    "    translation = translate_comment(comment)\n",
    "    if translation:\n",
    "        translations.append(translation)\n",
    "    counter += 1\n",
    "    if counter % print_interval == 0:\n",
    "        print(f\"Current counter: {counter}\")\n",
    "    if counter % save_interval == 0:\n",
    "        df_temp = pd.DataFrame({'ID': comments_ids_to_translate[:counter], 'German': comments_to_translate[:counter], 'English': translations})\n",
    "        df_temp.to_excel(f'translations_comments_up_to_{counter}.xlsx', index=False)\n",
    "\n",
    "# Final save\n",
    "df_translated_comments = pd.DataFrame({\n",
    "    'ID': comments_ids_to_translate,\n",
    "    'German': comments_to_translate,\n",
    "    'English': translations\n",
    "})\n",
    "df_translated_comments.to_excel('translations_comments.xlsx', index=False)\n",
    "\n",
    "print(df_translated_comments)\n"
   ]
  }
 ],
 "metadata": {
  "kernelspec": {
   "display_name": "spaceenvironment",
   "language": "python",
   "name": "python3"
  },
  "language_info": {
   "codemirror_mode": {
    "name": "ipython",
    "version": 3
   },
   "file_extension": ".py",
   "mimetype": "text/x-python",
   "name": "python",
   "nbconvert_exporter": "python",
   "pygments_lexer": "ipython3",
   "version": "3.11.9"
  }
 },
 "nbformat": 4,
 "nbformat_minor": 2
}
