{
 "cells": [
  {
   "cell_type": "markdown",
   "metadata": {},
   "source": [
    "# not working:"
   ]
  },
  {
   "cell_type": "code",
   "execution_count": null,
   "metadata": {
    "vscode": {
     "languageId": "plaintext"
    }
   },
   "outputs": [],
   "source": [
    "system_template = \"\"\"<Context>You are a helpful assistant that translates {language} comments (short texts) to English.</Context>\n",
    "\n",
    "<Data Structure>The lists \"translate\" is an array containing {language} short texts.</Data Structure>\n",
    "\n",
    "<Task>Translate the provided array \"translate\" to English, whereby you return a dictionary with the {language} comments as keys and their English translations as values. \n",
    "The dictionary should be structured according to the provided JSON schema.\n",
    "Be careful with spelling errors and do not use capital letters for adjectives.\n",
    "Repeat this process in case no translations are returned or the dictionary do not follow the JSON schema.\n",
    "Check if you translated the complete comment.</Task>\n",
    "\"\"\"\n",
    "\n",
    "user_template = \"\"\"Array \"translate\": \n",
    "{translate}\n",
    "\"\"\"\n",
    "\n",
    "# rescue robots and socially assistive robots\n",
    "prompt_template = ChatPromptTemplate.from_messages(\n",
    "    [(\"system\", system_template), (\"user\", user_template)]\n",
    ")\n",
    "\n",
    "\n",
    "result = prompt_template.invoke({\"language\": \"German\", \"translate\":[\"text1\", \"text2\"]})\n",
    "print(result)\n",
    "\n",
    "print(\"result:\", result)\n",
    "print(\"result.to_messages():\", result.to_messages())"
   ]
  },
  {
   "cell_type": "code",
   "execution_count": null,
   "metadata": {
    "vscode": {
     "languageId": "plaintext"
    }
   },
   "outputs": [],
   "source": [
    "json_schema = {\n",
    "    \"title\": \"Translation\",\n",
    "    \"description\": \"Dictionary that contains the comments and their respective translations.\",\n",
    "    \"type\": \"object\",\n",
    "    \"properties\": {\n",
    "        \"dictionary\": {\n",
    "            \"type\": \"string\",\n",
    "            \"description\": 'Dictionary that contains the words as keys and their respective translations as values. Provide the dictionary in the following format: {\"comment1\": \"translation1\", \"comment2\": \"translation2\", ...}.',\n",
    "        },\n",
    "    },\n",
    "    \"required\": [\"dictionary\"],\n",
    "}"
   ]
  },
  {
   "cell_type": "code",
   "execution_count": null,
   "metadata": {
    "vscode": {
     "languageId": "plaintext"
    }
   },
   "outputs": [],
   "source": [
    "save_interval = 10\n",
    "\n",
    "dictionary_out = {}\n",
    "counter = 0\n",
    "# Loop through the list in chunks\n",
    "chunk_size = 5\n",
    "for i in range(0, len(df_comment), chunk_size):\n",
    "    # Select the next XX words (or fewer, if there are less than XX remaining)\n",
    "    print(i)\n",
    "    counter += 1\n",
    "    chunk = df_comment[\"comment\"][i:i + chunk_size]\n",
    "    ids = df_comment[\"id\"][i:i + chunk_size]\n",
    "    \n",
    "    print(len(chunk))\n",
    "    print(len(ids))\n",
    "\n",
    "    result = basic_API_call(prompt=prompt_template,\n",
    "    language=\"German\",\n",
    "    translate=chunk,\n",
    "    openai_api_key=key.openai_api_key,\n",
    "    json_schema=json_schema,\n",
    "    model_name=\"gpt-4o\",\n",
    "    max_tokens=1000)\n",
    "    \n",
    "    # Extract the 'parsed' section from the JSON data\n",
    "    parsed_section = result.get('parsed', {})\n",
    "    dictionary = parsed_section.get('dictionary')\n",
    "    \n",
    "    # Convert the string back to a Python dictionary\n",
    "    #print(type(dictionary)) \n",
    "    dictionary = eval(dictionary)\n",
    "\n",
    "    #print(len(dictionary.keys()))\n",
    "    #print(dictionary) \n",
    "\n",
    "    if i == 0:\n",
    "        dictionary_out = dictionary\n",
    "    else:\n",
    "        #break\n",
    "        dictionary_out.update(dictionary)\n",
    "       \n",
    "    # create a DF every time to check if no words were missed \n",
    "    df_temp = pd.DataFrame(list(dictionary.items()), columns=['German', 'English'])\n",
    "    df_temp['ID']= df_comment[\"id\"][i:i + chunk_size].reset_index(drop=True)\n",
    "    \n",
    "    if i == 0:\n",
    "        df_out = df_temp\n",
    "    else:\n",
    "        df_out = pd.concat([df_out, df_temp], axis=0)\n",
    "\n",
    "    if counter % save_interval == 0:\n",
    "        df_out.to_excel(f'translations_comments_up_to_{counter}.xlsx', index=False)\n",
    "        \n",
    "        \n",
    "\n",
    "# Save the DataFrame to an Excel file\n",
    "df_out.to_excel('translations_comments.xlsx', index=False)\n",
    "print(\"Translations saved to translations_comments.xlsx\")\n"
   ]
  },
  {
   "cell_type": "code",
   "execution_count": null,
   "metadata": {
    "vscode": {
     "languageId": "plaintext"
    }
   },
   "outputs": [],
   "source": [
    "# Step 1: Set up the OpenAI API\n",
    "client = OpenAI(\n",
    "    api_key=key.openai_api_key,\n",
    ")\n",
    "\n",
    "# Define the array of German words\n",
    "words_to_translate = df_text\n",
    "\n",
    "\n",
    "# Function to translate a word using ChatGPT API\n",
    "def translate_word(word):\n",
    "    try:\n",
    "        response = client.chat.completions.create(\n",
    "            model=\"gpt-4\",\n",
    "            messages=[\n",
    "                {\"role\": \"system\", \"content\": \"You are a helpful assistant that translates German words to English.\"},\n",
    "                {\"role\": \"user\", \"content\": f'Translate the following German word to English: \"{word}\" Be careful with spelling errors and do not use capital letters for adjectives. Only return the translation in quotes.'}\n",
    "            ]\n",
    "        )\n",
    "        # print(response.choices[0].message.content.strip())\n",
    "        \n",
    "        #content = response.choices[0].message.content.strip()\n",
    "        #start_index = content.find('is \"') + 4\n",
    "        #end_index = content.find('\"', start_index)\n",
    "        #translation = content[start_index:end_index]\n",
    "        #print(translation)\n",
    "        return response.choices[0].message.content.strip()\n",
    "    except Exception as e:\n",
    "        print(f\"Error translating word '{word}': {e}\")\n",
    "        return None\n",
    "\n",
    "# Step 2: Translate the words\n",
    "translations = [translate_word(word) for word in words_to_translate]\n",
    "\n",
    "# Remove None values if any translation fails\n",
    "translated_words = [word for word, translation in zip(words_to_translate, translations) if translation is not None]\n",
    "translations = [translation for translation in translations if translation is not None]\n",
    "\n",
    "# Step 3: Store the translations in a .xlsx file\n",
    "df_translated_text = pd.DataFrame({\n",
    "    'German': translated_words,\n",
    "    'English': translations\n",
    "})\n",
    "print(df_translated_text)"
   ]
  },
  {
   "cell_type": "code",
   "execution_count": null,
   "metadata": {
    "vscode": {
     "languageId": "plaintext"
    }
   },
   "outputs": [],
   "source": [
    "# Step 1: Set up the OpenAI API\n",
    "client = OpenAI(\n",
    "    api_key=key.openai_api_key,\n",
    ")\n",
    "\n",
    "# Define the array of German words\n",
    "comments_to_translate = df_comment['comment']\n",
    "comments_ids_to_translate = df_comment['id']\n",
    "\n",
    "# Function to translate a word using ChatGPT API\n",
    "def translate_comment(comment):\n",
    "    try:\n",
    "        response = client.chat.completions.create(\n",
    "            model=\"gpt-4\",\n",
    "            messages=[\n",
    "                {\"role\": \"system\", \"content\": \"You are a helpful assistant that translates German comments to English.\"},\n",
    "                {\"role\": \"user\", \"content\": f'Translate the following German comment to English: \"{comment}\" Be careful with spelling errors and do not use capital letters for adjectives. Only return the translation in quotes.'}\n",
    "            ]\n",
    "        )\n",
    "        return response.choices[0].message.content.strip()\n",
    "    except Exception as e:\n",
    "        print(f\"Error translating comment '{comment}': {e}\")\n",
    "        return None\n",
    "\n",
    "# Step 2: Translate the words with logging and saving\n",
    "translations = []\n",
    "counter = 0\n",
    "save_interval = 50\n",
    "print_interval = 100\n",
    "\n",
    "for comment in comments_to_translate:\n",
    "    translation = translate_comment(comment)\n",
    "    if translation:\n",
    "        translations.append(translation)\n",
    "    counter += 1\n",
    "    if counter % print_interval == 0:\n",
    "        print(f\"Current counter: {counter}\")\n",
    "    if counter % save_interval == 0:\n",
    "        df_temp = pd.DataFrame({'ID': comments_ids_to_translate[:counter], 'German': comments_to_translate[:counter], 'English': translations})\n",
    "        df_temp.to_excel(f'translations_comments_up_to_{counter}.xlsx', index=False)\n",
    "\n",
    "# Final save\n",
    "df_translated_comments = pd.DataFrame({\n",
    "    'ID': comments_ids_to_translate,\n",
    "    'German': comments_to_translate,\n",
    "    'English': translations\n",
    "})\n",
    "df_translated_comments.to_excel('translations_comments.xlsx', index=False)\n",
    "\n",
    "print(df_translated_comments)\n"
   ]
  }
 ],
 "metadata": {
  "kernelspec": {
   "display_name": "spaceenvironment",
   "language": "python",
   "name": "python3"
  },
  "language_info": {
   "codemirror_mode": {
    "name": "ipython",
    "version": 3
   },
   "file_extension": ".py",
   "mimetype": "text/x-python",
   "name": "python",
   "nbconvert_exporter": "python",
   "pygments_lexer": "ipython3",
   "version": "3.11.9"
  }
 },
 "nbformat": 4,
 "nbformat_minor": 2
}
