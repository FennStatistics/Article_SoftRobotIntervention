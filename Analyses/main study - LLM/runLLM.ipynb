{
 "cells": [
  {
   "cell_type": "markdown",
   "metadata": {},
   "source": [
    "# Summarizing Data for Results Graphics in \"R2: Perceived risks and benefits qualitative\"\n",
    "\n",
    "There are two central steps involved:\n",
    "\n",
    "\n",
    "**Check Szenario Texts:**\n",
    "- to check if topic was already mentioned for the category specific graph\n",
    "\n",
    "**Summarizing Data:**\n",
    "- for A, B graph\n",
    "- for category specific graph\n",
    "\n",
    "\n",
    "\n",
    "***\n",
    "**Coding sources**\n",
    "\n",
    "Code snippets from my (Julius Fenn) Large Language Model Workshop: https://github.com/FennStatistics/introductory-workshop-in-LLMs/\n",
    "\n",
    "\n",
    "I extend the code provided and explained in the following documenations:\n",
    "* Build a PDF ingestion and Question/Answering system: https://python.langchain.com/v0.2/docs/tutorials/pdf_qa/\n",
    "\n",
    "* https://python.langchain.com/v0.2/docs/tutorials/llm_chain/ (Build a Simple LLM Application with LCEL)\n",
    "* https://python.langchain.com/v0.2/docs/how_to/structured_output/ (How to return structured data from a model)\n",
    "* https://python.langchain.com/v0.2/docs/how_to/llm_token_usage_tracking/ (How to track token usage for LLMs)\n",
    "\n",
    "\n",
    "***\n",
    "## If you facing issues running your Code:\n",
    "\n",
    "It could be the case that chroma and langchain-core are not compatible."
   ]
  },
  {
   "cell_type": "markdown",
   "metadata": {},
   "source": []
  },
  {
   "cell_type": "code",
   "execution_count": 1,
   "metadata": {},
   "outputs": [],
   "source": [
    "## run in your terminal; could be necessary to downgrade package:\n",
    "# pip uninstall langchain-core\n",
    "# pip install langchain-core==0.3.10\n",
    "\n",
    "## or install older version of chromadb:\n",
    "# pip install --upgrade chromadb==0.5.0"
   ]
  },
  {
   "cell_type": "markdown",
   "metadata": {},
   "source": [
    "## Get API, local supabase server key(s)"
   ]
  },
  {
   "cell_type": "code",
   "execution_count": 2,
   "metadata": {},
   "outputs": [],
   "source": [
    "import os\n",
    "import sys\n",
    "\n",
    "# Assuming 'src' is one level down (in the current directory or a subdirectory)\n",
    "path_to_src = os.path.join('src')  # Moves one level down to 'src' folder\n",
    "\n",
    "# Add the path to sys.path\n",
    "sys.path.append(path_to_src)\n",
    "\n",
    "# Now you can import your API_key module\n",
    "import API_key as key"
   ]
  },
  {
   "cell_type": "markdown",
   "metadata": {},
   "source": [
    "## include self-written functions"
   ]
  },
  {
   "cell_type": "code",
   "execution_count": 3,
   "metadata": {},
   "outputs": [],
   "source": [
    "import src.forChromaApproach as di_drg"
   ]
  },
  {
   "cell_type": "markdown",
   "metadata": {},
   "source": [
    "# Check Szenario Texts\n",
    "\n",
    "## Load Scenario Texts\n",
    "This should be the final scenario texts in English of the two robots:\n",
    "\n",
    "* rescue robot\n",
    "* socially assistive robot"
   ]
  },
  {
   "cell_type": "code",
   "execution_count": 4,
   "metadata": {},
   "outputs": [
    {
     "name": "stdout",
     "output_type": "stream",
     "text": [
      "\n",
      "PDF: rescue robot.pdf\n",
      "Total Pages: 6\n",
      "\n",
      "PDF: socially assistive robot.pdf\n",
      "Total Pages: 6\n"
     ]
    }
   ],
   "source": [
    "path_to_PDFs = os.path.join('data/scenario texts')  # Moves one level up to 'PDFs' folder\n",
    "\n",
    "pdf_pages = di_drg.load_pdfs_by_filename(path_to_PDFs, verbose=False)\n",
    "\n",
    "# Optional: Print the loaded pages by filename\n",
    "for filename, pages in pdf_pages.items():\n",
    "    print(f\"\\nPDF: {filename}\")\n",
    "    print(f\"Total Pages: {len(pages)}\")\n",
    "    # print(pages[0])"
   ]
  },
  {
   "cell_type": "markdown",
   "metadata": {},
   "source": [
    "## Data Storage: Text chunks are converted into vector embeddings and stored in a vector database (Vector DB) next to their respective text chunks."
   ]
  },
  {
   "cell_type": "code",
   "execution_count": 5,
   "metadata": {},
   "outputs": [
    {
     "name": "stdout",
     "output_type": "stream",
     "text": [
      "\n",
      "PDF: rescue robot.pdf\n",
      "Total Chunks: 15\n",
      "\n",
      "PDF: socially assistive robot.pdf\n",
      "Total Chunks: 16\n"
     ]
    }
   ],
   "source": [
    "pdf_chunks = di_drg.split_pdf_pages_into_chunks(pdf_pages, chunk_size=500, chunk_overlap=150, verbose=False)\n",
    "\n",
    "# Optional: Print a summary of chunks created per PDF\n",
    "for filename, chunks in pdf_chunks.items():\n",
    "    print(f\"\\nPDF: {filename}\")\n",
    "    print(f\"Total Chunks: {len(chunks)}\")"
   ]
  },
  {
   "cell_type": "code",
   "execution_count": 6,
   "metadata": {},
   "outputs": [
    {
     "name": "stderr",
     "output_type": "stream",
     "text": [
      "/home/fenn/Desktop/Publications/soft robot intervention/Analyses/main study - LLM/src/forChromaApproach.py:90: LangChainDeprecationWarning: The class `Chroma` was deprecated in LangChain 0.2.9 and will be removed in 1.0. An updated version of the class exists in the :class:`~langchain-chroma package and should be used instead. To use it run `pip install -U :class:`~langchain-chroma` and import as `from :class:`~langchain_chroma import Chroma``.\n",
      "  db = Chroma(persist_directory=CHROMA_PATH, embedding_function=OpenAIEmbeddings(api_key=openAI_key))\n",
      "⚠️ It looks like you upgraded from a version below 0.6 and could benefit from vacuuming your database. Run chromadb utils vacuum --help for more information.\n"
     ]
    },
    {
     "name": "stdout",
     "output_type": "stream",
     "text": [
      "Number of sources in DB: 2\n",
      "\n",
      "Sources:\n",
      " ['data/scenario texts\\\\socially assistive robot.pdf', 'data/scenario texts\\\\rescue robot.pdf']\n",
      "\n",
      "Cleaned sources:\n",
      " ['socially assistive robot.pdf', 'rescue robot.pdf']\n"
     ]
    }
   ],
   "source": [
    "path_to_Chroma = os.path.join('DB_Chroma')  # Moves one level up to 'PDFs' folder\n",
    "\n",
    "sources_DB = di_drg.inspect_chrom(CHROMA_PATH=path_to_Chroma, openAI_key=key.openAI_key)\n",
    "print(\"Number of sources in DB:\", len(sources_DB))\n",
    "print(\"\\nSources:\\n\", sources_DB)\n",
    "\n",
    "# Remove the \"PDFs\\\\\" prefix from all entries\n",
    "cleaned_sources_DB = [pdf.replace('PDFs\\\\', '').replace('data/scenario texts\\\\', '') for pdf in sources_DB]\n",
    "\n",
    "# Print the result\n",
    "print(\"\\nCleaned sources:\\n\", cleaned_sources_DB)"
   ]
  },
  {
   "cell_type": "code",
   "execution_count": 7,
   "metadata": {},
   "outputs": [],
   "source": [
    "# if you want to remove your DB:\n",
    "## di_drg.remove_chrom(CHROMA_PATH=path_to_Chroma)\n",
    "\n",
    "# pdf_chunks is a dictionary as such we can run over the keys:\n",
    "for pdf in pdf_chunks.keys():\n",
    "    if pdf not in cleaned_sources_DB:\n",
    "        print(f\"The PDF '{pdf}' is not included in the DB, as such:\")\n",
    "        print(\"create DB for\", pdf)\n",
    "        di_drg.save_to_chrom(chunks=pdf_chunks[pdf], CHROMA_PATH=path_to_Chroma, openAI_key=key.openAI_key)"
   ]
  },
  {
   "cell_type": "code",
   "execution_count": 8,
   "metadata": {},
   "outputs": [
    {
     "name": "stdout",
     "output_type": "stream",
     "text": [
      "Number of sources in DB: 2\n",
      "\n",
      "Sources:\n",
      " ['data/scenario texts\\\\socially assistive robot.pdf', 'data/scenario texts\\\\rescue robot.pdf']\n"
     ]
    }
   ],
   "source": [
    "sources_DB = di_drg.inspect_chrom(CHROMA_PATH=path_to_Chroma, openAI_key=key.openAI_key)\n",
    "print(\"Number of sources in DB:\", len(sources_DB))\n",
    "print(\"\\nSources:\\n\", sources_DB)"
   ]
  },
  {
   "cell_type": "markdown",
   "metadata": {},
   "source": [
    "## Data Retrieval and Generation\n",
    "\n",
    "your prompt template (system message):"
   ]
  },
  {
   "cell_type": "code",
   "execution_count": 9,
   "metadata": {},
   "outputs": [],
   "source": [
    "PROMPT_TEMPLATE = \"\"\"\n",
    "    \"You are an assistant for question-answering tasks. \"\n",
    "    \"Use the following pieces of retrieved context to answer \"\n",
    "    \"the question. If you don't know the answer, say that you \"\n",
    "    \"don't know. Use three sentences maximum and keep the \"\n",
    "    \"answer concise.\"\n",
    "    \"\\n\\n\"\n",
    "    \"{context}\"\n",
    "\n",
    "---\n",
    "\n",
    "Answer the question based on the above context: {question}\n",
    "\"\"\""
   ]
  },
  {
   "cell_type": "code",
   "execution_count": 10,
   "metadata": {},
   "outputs": [],
   "source": [
    "# Question query 2\n",
    "question = \"\"\"\n",
    "What are the advantages of soft robots?\n",
    "\"\"\""
   ]
  },
  {
   "cell_type": "code",
   "execution_count": 11,
   "metadata": {},
   "outputs": [
    {
     "name": "stderr",
     "output_type": "stream",
     "text": [
      "Number of requested results 150 is greater than number of elements in index 31, updating n_results = 31\n",
      "/home/fenn/Desktop/Publications/soft robot intervention/Analyses/main study - LLM/src/forChromaApproach.py:147: LangChainDeprecationWarning: The method `BaseChatModel.predict` was deprecated in langchain-core 0.1.7 and will be removed in 1.0. Use :meth:`~invoke` instead.\n",
      "  response_text = model.predict(prompt)\n"
     ]
    },
    {
     "name": "stdout",
     "output_type": "stream",
     "text": [
      "Number of possible relevant text chunks found with a threshold similarity of 0.8: 11\n",
      "Query: Human: \n",
      "    \"You are an assistant for question-answering tasks. \"\n",
      "    \"Use the following pieces of retrieved context to answer \"\n",
      "    \"the question. If you don't know the answer, say that you \"\n",
      "    \"don't know. Use three sentences maximum and keep the \"\n",
      "    \"answer concise.\"\n",
      "    \"\n",
      "\n",
      "\"\n",
      "    \"for individuals with autism, assisting them to recognize and understand \n",
      "emotions in others, which can enhance interpersonal communication skills  \n",
      "●  Less likely to cause injury during physic al interactions because of their \n",
      "softness  \n",
      " \n",
      "Possible risks of socially assistive soft robots (SASR) might be:  \n",
      "●  Users may become overly reliant on the robot for emotional support or \n",
      "companionship, potentially reducing their engagement with human social \n",
      "networks\n",
      "\n",
      "---\n",
      "\n",
      "must be left to wait  \n",
      "●  The soft and  adaptable nature of soft robots could potentially create \n",
      "challenges in ensuring the safety and reliability of the robot in hazardous \n",
      "environments  \n",
      "●  Rescue robots could be misused, particularly in conflict zones for activities \n",
      "such as bomb deployment\n",
      "\n",
      "---\n",
      "\n",
      "–––––––––––––  First Page in Experiment (Intervention) ––––––––––––   \n",
      "Please read the following information on soft robots carefully. \n",
      "Afterwards we will ask you to adjust your CAM.  \n",
      "Currently, there is a trend towards using a new type of so -called soft robots as \n",
      "socially assistive robots for therapy, elderly care, education or as social companions. \n",
      "Soft robots are designed to mimic the properties of living entities such as animals.\n",
      "\n",
      "---\n",
      "\n",
      "––––––––––––  Third  Page in Experiment (Intervention) ––––––––––––   \n",
      "Given the information on soft robots, we invite you to adjust your CAM regarding the \n",
      "risks and benefits of utilizing socially assistive soft robots (SASR). We are interested \n",
      "in knowing if the softness or rigidity of a robot influences your evaluation of its \n",
      "suitability for socially assistive tasks, based on the information available on soft \n",
      "robots.\n",
      "\n",
      "---\n",
      "\n",
      "precision and accuracy  \n",
      "●  Autonomous  rescue capabilities, allowing robots to carry and transport \n",
      "victims to safety   \n",
      "Possible risks of soft robots for search and rescue missions might be:  \n",
      "●  Algorithms guiding soft robots may be biased, leading to unfair or \n",
      "discriminatory outcomes, regarding  (i) where to concentrate rescue efforts, (ii) \n",
      "whom to search for first, (iii) who should be given priority treatment, (iv) who \n",
      "must be left to wait\n",
      "\n",
      "---\n",
      "\n",
      "to mimic the properties of living entities such as animals. Unlike normal robots, which \n",
      "are typically composed of hard materials like metal or hard -plastic, soft robots do not \n",
      "have electronic devices in them and are made of flexible, soft materials like silicone. \n",
      "They often have natural shapes and can bend, twist, and stretch like living \n",
      "organis ms, such as snakes or octopi. Designed with inspiration from living entities,\n",
      "\n",
      "---\n",
      "\n",
      "––––––––––––  Second  Page in Experiment (Intervention) ––––––––––––   \n",
      "Soft Robots for Search and Rescue Missions  \n",
      "Benefits of soft robots for search and rescue missions might be:  \n",
      "●  Access to areas unreachable or too dangerous for human rescuers  \n",
      "●  Delivery  of essential supplies (water, food, medicine) until victims are safely  \n",
      "extracted  \n",
      "●  Reduced risk of injury to victims due to their flexibility and adaptability\n",
      "\n",
      "---\n",
      "\n",
      "––––––––––––  Third  Page in Experiment (Intervention) ––––––––––––   \n",
      "Given the information on soft robots, we invite you to adjust your CAM regarding the \n",
      "risks and benefits of utilizing soft robots for search and rescue missions . We are \n",
      "interested in knowing if the softness or rigidity of a robot influences your evaluation of \n",
      "its suitability for search and rescue missions, based on the information available on \n",
      "soft robots.\n",
      "\n",
      "---\n",
      "\n",
      "often have natural shapes and can bend, twist, and stretch like living organisms, such \n",
      "as snakes or octopi. Designed with inspiration from living entities, these soft robots \n",
      "often look and feel more lifelike than rigid robots.  \n",
      "Furthermore, soft robots have the ability to express and perceive human emotions, \n",
      "communicate through expressions such as gaze and gestures, and offer a life -like \n",
      "experience due to their softness and flexibility. F or example, Paro, a robot for animal\n",
      "\n",
      "---\n",
      "\n",
      "extracted  \n",
      "●  Reduced risk of injury to victims due to their flexibility and adaptability  \n",
      "Possible risks of soft robots for search and rescue missions might be:  \n",
      "●  Algorithms  guiding soft robots may be biased, leading to unfair or \n",
      "discriminatory outcomes, regarding (i) where to concentrate rescue efforts, (ii) \n",
      "whom to search for first, (iii) who should be given priority treatment, (iv) who \n",
      "must be left to wait  \n",
      "●  The soft and  adaptable nature of soft robots could potentially create\"\n",
      "\n",
      "---\n",
      "\n",
      "Answer the question based on the above context: \n",
      "What are the advantages of soft robots?\n",
      "\n",
      " \n",
      "\n",
      "\n"
     ]
    }
   ],
   "source": [
    "response, source_page_pairs, filtered_hits, all_hits = di_drg.retrieveGenerate(query_text=question, prompt_template=PROMPT_TEMPLATE, openAI_key=key.openAI_key, chroma_path=path_to_Chroma, \n",
    "                                                                            docsReturn=10, thresholdSimilarity=0.8)"
   ]
  },
  {
   "cell_type": "code",
   "execution_count": 12,
   "metadata": {},
   "outputs": [
    {
     "name": "stdout",
     "output_type": "stream",
     "text": [
      "The advantages of soft robots include their ability to mimic living entities like animals, their softness which reduces the likelihood of causing injury during physical interactions, and their adaptability and flexibility which allows them to access unreachable or dangerous areas for search and rescue missions.\n"
     ]
    }
   ],
   "source": [
    "print(response)"
   ]
  },
  {
   "cell_type": "code",
   "execution_count": 13,
   "metadata": {},
   "outputs": [
    {
     "name": "stdout",
     "output_type": "stream",
     "text": [
      "[('data/scenario texts\\\\socially assistive robot.pdf', 4), ('data/scenario texts\\\\rescue robot.pdf', 4), ('data/scenario texts\\\\socially assistive robot.pdf', 3), ('data/scenario texts\\\\socially assistive robot.pdf', 5), ('data/scenario texts\\\\rescue robot.pdf', 1), ('data/scenario texts\\\\rescue robot.pdf', 3), ('data/scenario texts\\\\rescue robot.pdf', 4), ('data/scenario texts\\\\rescue robot.pdf', 5), ('data/scenario texts\\\\socially assistive robot.pdf', 3), ('data/scenario texts\\\\rescue robot.pdf', 4)]\n"
     ]
    }
   ],
   "source": [
    "print(source_page_pairs)"
   ]
  },
  {
   "cell_type": "code",
   "execution_count": 14,
   "metadata": {},
   "outputs": [
    {
     "name": "stdout",
     "output_type": "stream",
     "text": [
      "11\n",
      "(Document(metadata={'page': 4, 'source': 'data/scenario texts\\\\rescue robot.pdf'}, page_content='––––––––––––  Second  Page in Experiment (Intervention) ––––––––––––   \\nSoft Robots for Search and Rescue Missions  \\nBenefits of soft robots for search and rescue missions might be:  \\n●  Access to areas unreachable or too dangerous for human rescuers  \\n●  Delivery  of essential supplies (water, food, medicine) until victims are safely  \\nextracted  \\n●  Reduced risk of injury to victims due to their flexibility and adaptability'), 0.8405289303258904)\n"
     ]
    }
   ],
   "source": [
    "print(len(all_hits))\n",
    "print(all_hits[0])"
   ]
  },
  {
   "cell_type": "markdown",
   "metadata": {},
   "source": [
    "# Summarizing Data\n",
    "- for A, B graph\n",
    "- for category specific graph\n",
    "\n",
    "\n",
    "## Load .xlsx files (lists of words)\n",
    "\n",
    "* rescue robot_multipleSheets\n",
    "* socially assistive robot_multipleSheets\n",
    "* rescue robot_socially assistive robot_multipleSheets\n",
    "\n",
    "> there are seperate columns for new (added concepts), deleted (deleted concepts), constant (not changed concepts)\n"
   ]
  },
  {
   "cell_type": "code",
   "execution_count": 15,
   "metadata": {},
   "outputs": [
    {
     "name": "stdout",
     "output_type": "stream",
     "text": [
      "/home/fenn/Desktop/Publications/soft robot intervention/Analyses/main study - LLM\n"
     ]
    }
   ],
   "source": [
    "## set working environment\n",
    "#> Get the current working directory\n",
    "print(os.getcwd())\n",
    "directory = os.getcwd()"
   ]
  },
  {
   "cell_type": "code",
   "execution_count": 16,
   "metadata": {},
   "outputs": [
    {
     "name": "stdout",
     "output_type": "stream",
     "text": [
      "Sheet names combined: ['RCPP', 'LC', 'T', 'SIP', 'HRIP', 'AN', 'SIN', 'R', 'HC', 'RCN', 'SA', 'TP', 'TL', 'RCPN', 'HRIN', 'MT', 'RCA', 'AP']\n",
      "Sheet names RR: ['RCPP', 'LC', 'T', 'SIP', 'HRIP', 'AN', 'SIN', 'R', 'HC', 'RCN', 'SA', 'TP', 'TL', 'RCPN', 'HRIN', 'MT', 'RCA', 'AP']\n",
      "Sheet names SAR: ['RCPP', 'LC', 'T', 'SIP', 'HRIP', 'AN', 'SIN', 'R', 'HC', 'RCN', 'SA', 'TP', 'TL', 'RCPN', 'HRIN', 'MT', 'RCA', 'AP']\n"
     ]
    }
   ],
   "source": [
    "import pandas as pd\n",
    "\n",
    "## Load the xlsx file of the rescue robot and the socially assistive robot combined\n",
    "# Path to your Excel file\n",
    "file_path = directory + \"/data/\" + \"rescue robot_social assistance robot_multipleSheets_new\" + \".xlsx\"\n",
    "# Load the Excel file\n",
    "excel_data = pd.ExcelFile(file_path)\n",
    "# Print the sheet names\n",
    "print(\"Sheet names combined:\", excel_data.sheet_names)\n",
    "# Load all sheets into a dictionary of dataframes\n",
    "all_sheets_Combined = {sheet_name: excel_data.parse(sheet_name) for sheet_name in excel_data.sheet_names}\n",
    "\n",
    "\n",
    "\n",
    "## Load the xlsx file of the rescue robot and the socially assistive robot combined\n",
    "# Path to your Excel file\n",
    "file_path = directory + \"/data/\" + \"rescue robot_multipleSheets_new\" + \".xlsx\"\n",
    "# Load the Excel file\n",
    "excel_data = pd.ExcelFile(file_path)\n",
    "# Print the sheet names\n",
    "print(\"Sheet names RR:\", excel_data.sheet_names)\n",
    "# Load all sheets into a dictionary of dataframes\n",
    "all_sheets_RR = {sheet_name: excel_data.parse(sheet_name) for sheet_name in excel_data.sheet_names}\n",
    "\n",
    "## Load the xlsx file of the rescue robot and the socially assistive robot combined\n",
    "# Path to your Excel file\n",
    "file_path = directory + \"/data/\" + \"social assistance robot_multipleSheets_new\" + \".xlsx\"\n",
    "# Load the Excel file\n",
    "excel_data = pd.ExcelFile(file_path)\n",
    "# Print the sheet names\n",
    "print(\"Sheet names SAR:\", excel_data.sheet_names)\n",
    "# Load all sheets into a dictionary of dataframes\n",
    "all_sheets_SAR = {sheet_name: excel_data.parse(sheet_name) for sheet_name in excel_data.sheet_names}"
   ]
  },
  {
   "cell_type": "markdown",
   "metadata": {},
   "source": [
    "## Additional dictonaries to provide LLM context"
   ]
  },
  {
   "cell_type": "code",
   "execution_count": 17,
   "metadata": {},
   "outputs": [
    {
     "name": "stdout",
     "output_type": "stream",
     "text": [
      "{'RCPP': 'perceived positive usefulness (rest category, refers to a classification of arguments that do not fit into any of the predefined categories)', 'LC': 'perceived low costs', 'T': 'perceived trust', 'SIP': 'perceived positive social impact', 'HRIP': 'perceived positive Human-Robot-Interaction', 'AN': 'perceived negative anthropomorphism', 'SIN': 'perceived positive social impact', 'R': 'perceived risks', 'HC': 'perceived high costs', 'RCN': 'neutral rest category (rest category refers to a classification of arguments that do not fit into any of the predefined categories)', 'SA': 'perceived safety', 'TP': 'perceived technological possibilities', 'TL': 'perceived technological limitations', 'RCPN': 'perceived negative usefulness (rest category, refers to a classification of arguments that do not fit into any of the predefined categories)', 'HRIN': 'perceived negative Human-Robot-Interaction', 'MT': 'perceived mistrust', 'RCA': 'ambivalent rest category (rest category refers to a classification of arguments that do not fit into any of the predefined categories)', 'AP': 'perceived positive anthropomorphism'}\n",
      "dict_keys(['RCPP', 'LC', 'T', 'SIP', 'HRIP', 'AN', 'SIN', 'R', 'HC', 'RCN', 'SA', 'TP', 'TL', 'RCPN', 'HRIN', 'MT', 'RCA', 'AP'])\n",
      "perceived negative anthropomorphism\n"
     ]
    }
   ],
   "source": [
    "abbreviations_dict = {\n",
    "    'RCPP': 'perceived positive usefulness (rest category, refers to a classification of arguments that do not fit into any of the predefined categories)',\n",
    "    'LC': 'perceived low costs',\n",
    "    'T': 'perceived trust',\n",
    "    'SIP': 'perceived positive social impact',\n",
    "    'HRIP': 'perceived positive Human-Robot-Interaction',\n",
    "    'AN': 'perceived negative anthropomorphism',\n",
    "    'SIN': 'perceived positive social impact',\n",
    "    'R': 'perceived risks',\n",
    "    'HC': 'perceived high costs',\n",
    "    'RCN': 'neutral rest category (rest category refers to a classification of arguments that do not fit into any of the predefined categories)',\n",
    "    'SA': 'perceived safety',\n",
    "    'TP': 'perceived technological possibilities',\n",
    "    'TL': 'perceived technological limitations',\n",
    "    'RCPN': 'perceived negative usefulness (rest category, refers to a classification of arguments that do not fit into any of the predefined categories)',\n",
    "    'HRIN': 'perceived negative Human-Robot-Interaction',\n",
    "    'MT': 'perceived mistrust',\n",
    "    'RCA': 'ambivalent rest category (rest category refers to a classification of arguments that do not fit into any of the predefined categories)',\n",
    "    'AP': 'perceived positive anthropomorphism'\n",
    "}\n",
    "\n",
    "print(abbreviations_dict)\n",
    "print(abbreviations_dict.keys())\n",
    "print(abbreviations_dict['AN'])"
   ]
  },
  {
   "cell_type": "markdown",
   "metadata": {},
   "source": [
    "keep only subset of list (which have meaningfull differences):"
   ]
  },
  {
   "cell_type": "code",
   "execution_count": 18,
   "metadata": {},
   "outputs": [
    {
     "name": "stdout",
     "output_type": "stream",
     "text": [
      "{'TP': 'perceived technological possibilities', 'TL': 'perceived technological limitations', 'SA': 'perceived safety', 'R': 'perceived risks', 'HRIP': 'perceived positive Human-Robot-Interaction', 'HRIN': 'perceived negative Human-Robot-Interaction', 'AP': 'perceived positive anthropomorphism', 'AN': 'perceived negative anthropomorphism'}\n"
     ]
    }
   ],
   "source": [
    "# Keys to keep\n",
    "keys_to_keep = ['TP', 'TL', 'SA', 'R', 'HRIP', 'HRIN', 'AP', 'AN']\n",
    "\n",
    "# Filter the dictionary\n",
    "abbreviations_dict = {key: abbreviations_dict[key] for key in keys_to_keep}\n",
    "\n",
    "# Display the filtered dictionary\n",
    "print(abbreviations_dict)"
   ]
  },
  {
   "cell_type": "markdown",
   "metadata": {},
   "source": [
    "Use dictionaries to map each word to its comment:"
   ]
  },
  {
   "cell_type": "code",
   "execution_count": 19,
   "metadata": {},
   "outputs": [
    {
     "name": "stdout",
     "output_type": "stream",
     "text": [
      "{'a': ['comment1', 'comment3'], 'b': ['comment2', 'comment5'], 'c': ['comment4']}\n"
     ]
    }
   ],
   "source": [
    "import numpy as np\n",
    "\n",
    "def create_multivalue_dict(df, key_col, value_col):\n",
    "    \"\"\"\n",
    "    Create a dictionary from a DataFrame where each key maps to a list of values.\n",
    "    \n",
    "    Parameters:\n",
    "    df (pd.DataFrame): The input DataFrame.\n",
    "    key_col (str): The column name to be used as keys.\n",
    "    value_col (str): The column name to be used as values.\n",
    "    \n",
    "    Returns:\n",
    "    dict: A dictionary where each key maps to a list of values.\n",
    "    \"\"\"\n",
    "    # Remove rows with NaN in the key columns\n",
    "    df = df.dropna(subset=[key_col])\n",
    "\n",
    "    # Create a dictionary to map items to their comments, allowing for multiple comments per key\n",
    "    multivalue_dict = {}\n",
    "    for key, value in zip(df[key_col], df[value_col]):\n",
    "        if key in multivalue_dict:\n",
    "            multivalue_dict[key].append(value)\n",
    "        else:\n",
    "            multivalue_dict[key] = [value]\n",
    "\n",
    "    return multivalue_dict\n",
    "\n",
    "# Example usage\n",
    "data = {\n",
    "    'constant': ['a', 'b', 'a', 'c', 'b', np.nan],\n",
    "    'constant_comments': ['comment1', 'comment2', 'comment3', 'comment4', 'comment5', 'comment6']\n",
    "}\n",
    "df = pd.DataFrame(data)\n",
    "\n",
    "df_mapping = create_multivalue_dict(df, 'constant', 'constant_comments')\n",
    "print(df_mapping)\n"
   ]
  },
  {
   "cell_type": "markdown",
   "metadata": {},
   "source": [
    "test create_multivalue_dict() function:"
   ]
  },
  {
   "cell_type": "code",
   "execution_count": 20,
   "metadata": {},
   "outputs": [],
   "source": [
    "sheet_name = \"SA\""
   ]
  },
  {
   "cell_type": "code",
   "execution_count": 21,
   "metadata": {},
   "outputs": [
    {
     "name": "stdout",
     "output_type": "stream",
     "text": [
      "mapping constant x comments: {'quick hygienic help': [nan], 'efficient': ['Work on statistics can be made more efficient through probabilities.', nan, nan, nan], 'safety': ['Prevents people from having to work under difficult or dangerous conditions to increase safety.', 'Enables deployment in difficult situations where human rescuers would put themselves in danger', nan, nan, nan, 'through reliability', 'No people are being put in danger'], 'remote control': ['Can be operated by experts via remote control or autonomous systems to perform operations from a safe distance.', nan, nan, nan, nan, 'Minimizes risks associated with autonomy'], 'speed and efficiency': ['Robots can often act faster than humans and increase the speed of emergency interventions', 'Improvement of speed and efficiency of rescue operations', nan], 'safe': ['People do not have to put themselves in dangerous situations'], 'reliable': ['Can be precisely controlled', nan, nan, nan, nan], 'health monitoring': [nan, 'People no longer necessarily need an emergency button if an external system can watch over them and summon help when in doubt.'], 'Precise execution': ['Robots perform tasks purposefully'], 'Ability to learn': ['The robots are learning and being further developed, making them more efficient'], 'no people necessary': [nan], 'stronger than humans': [nan, 'In many situations, e.g. when clearing rubble, a great advantage.', nan, nan], 'faster than humans': [nan, nan], 'precise handling': [nan], 'reliability': [nan, 'Machines can accomplish their tasks reliably and reproducibly (provided they are well programmed and built)', nan, nan, nan], 'always correct': [nan], 'protection of rescue forces': ['for example in contamination scenarios', 'Reduced deployment of human rescue forces in dangerous situations', nan, 'human rescuers do not have to put themselves in danger'], 'in danger zones': [nan], 'toxic places': ['Places where people can only breathe with special equipment (gas mask)'], 'no distraction': [nan], 'by injuries': [nan], 'consistent': [nan], 'consistent performance': [nan], 'emergency monitoring': ['Depending on how a robot is equipped, it could respond very quickly in an emergency, faster than a human.'], 'more strong': [nan], 'without basic need': ['Water, sleep, food etc.'], 'faster intervention': [nan], 'area of application': ['Can be used in areas too dangerous for humans', 'Can be used in areas that are too dangerous for humans.'], 'reaching hard-to-access places': ['Robots and drones are small and agile. Therefore, they can reach places that are difficult or even dangerous for humans to reach.'], 'discover dangerous areas': [nan], 'quick processing': [nan], 'care of people': [nan], 'perform operations': ['disease'], 'enter dangerous situation': [nan], 'No illness': ['Robots do not get infected, they do not spread diseases, and they do not get sick.'], 'less risk': [nan, 'Specifically less risk to further human lives, as rescue teams can use robots'], 'efficiency in search': [nan], 'no fatigue': [nan, 'Unlike human rescuers, robots do not tire even during long operations'], 'cover dangerous areas': ['even where it is dangerous for humans, a robot can go there'], 'precision & accuracy': [nan], 'no human errors': [nan], 'more attentive': [nan], 'use in dangerous situations': ['Rescue robots can be used in dangerous situations where humans are exposed to too high a risk.'], 'can act quickly': ['Robots can intervene quickly, as they do not need to be dressed or prepared and are autonomous', 'The robots can act faster than a human in an emergency.'], 'No exhaustion': [nan], 'Range': ['Robots, again just the drone can rescue victims faster in difficult terrain or bring help, e.g. medicine, food'], 'accessibility of inaccessible places': [nan], 'improved approach': [nan], 'precise work': [nan], 'rescue of people': [nan], 'deployment possibility': ['Also possible under dangerous conditions'], 'replaceable': ['In case of loss, no human sacrifice', 'During operations, unlike human rescuers, there is no need to pay attention to the safety of the robots, as they can be easily replaced.'], 'unrestricted access': ['Robots can operate in environments that would be toxic to humans, e.g. areas contaminated with radiation.'], 'sparing human life': ['If robots are used instead of human rescuers, the lives and health of the rescuers do not have to be put at risk.'], 'reduced risk': ['By using robots, no human forces are exposed to dangerous situations'], 'precision': [nan], 'more targeted help': [nan], 'saves lives': ['For example, when human helpers are not available, a rescue robot can still save human lives.', 'send a robot into a danger zone instead of a human', nan], 'protects aid workers': ['Since employees are not unnecessarily exposed to dangers, strictly speaking, this also saves their lives.'], 'fewer mistakes': [nan], 'overall more productive': [nan], 'greater accuracy': [nan], 'usable in emergencies': ['To inspect debris more accurately'], 'protection of rescue personnel': [nan], 'accessibility of places': ['Accessibility difficult to reach'], 'increased efficiency': [nan], 'faster recovery': ['One could send robots into the fire without danger to human lives, etc, to combat the cause more quickly.'], 'weather independent': ['Even in storms etc., perhaps an option for critical tasks'], 'safety for emergency personnel': [nan], 'strength (power)': ['for example, for lifting debris parts'], 'quick action': [nan], 'no danger': ['For human rescue forces in action', 'No human doctor etc. needs to enter the operating area and thus it is significantly safer and therefore protects human lives.'], 'efficiency': [nan, 'Robots could be more capable in disaster cases than human helpers.', nan, 'Robots are not limited to human speed, vision, and perception in general.', nan, 'both equally fast work, more productive way of working as well as improved access to danger zones', nan], 'access to areas': ['Access to areas difficult or only reachable through considerable dangers for people'], 'vital objects': ['Victims receive vitally important things, such as water, food, and medicine'], 'rescue forces safety': ['Emergency services can avoid dangers if, for example, pictures of the location were taken by robots.'], 'more/ easier access': ['Robots can create (easier) access to places where it would otherwise be more difficult.'], 'reduce number of victims': ['Robots could make rescue operations more efficient and faster, potentially saving more victims.'], 'no life endangered': [nan], 'can save lives': [nan, nan], 'not emotionally driven': [nan], 'focused': [nan], 'exclusion of human error': [nan], 'flexible': ['The robot could operate in dangerous areas and is therefore not limited.'], 'stronger than human': ['Specially equipped machines could help trapped victims quicker and more efficiently.'], 'chances of success': ['A reliable and error-free rescue robot could therefore save people faster and more than a human.'], 'accuracy of execution': [nan], 'enter dangerous areas': [nan], 'do not get distracted': ['Rescue robots follow their programming and can focus better on the rescue without being influenced by emotions.'], 'speed / agility': [nan], 'real-time data': [nan], 'strength': [nan, 'the robot can, for example, move objects that a human could not move'], 'simplified access': [nan], 'quick help': [nan, nan, nan], 'risk-free rescue': ['From the side of the rescuers, who do not have to put themselves in danger'], 'better CPR': [nan], 'life-threatening places': ['The possibility of entering dangerous places that people do not dare to approach, such as wreck parts, battlefields, etc.'], 'more reliable than humans': [nan], 'reach dangerous places': [nan], 'do not get tired': [nan, nan], 'cannot die': [nan], '\"small\" operations': ['Especially good for smaller operations and possibly the transport'], 'toxic environment': [nan], 'safer for humans': [nan, nan], 'dexterity': ['Often higher skill than human rescuers'], 'responsiveness': ['Robots have a significantly higher reaction capability than human rescuers'], 'Accuracy of rescue robots': ['this way human errors can be reduced'], 'quality/precision': [nan], 'quantity': ['more rescue operations or more people saved possible'], 'fewer deaths': [nan], 'faster operation': [nan], 'accuracy': [nan, nan], 'faster help': ['Since the risk to life is lower, rescue workers can send a robot before a complete analysis of the problem area is available.'], 'stronger': ['Robots might potentially be able to move things that humans would have great difficulty with.'], 'Not susceptible to infection': ['Robots are insensitive to infections.'], '24/7 readiness': [nan], 'access to hard-to-reach places': [nan], 'human safety': [nan], 'useful addition': ['To human rescuers.'], '\"dare\" more': ['can also be used in war zones, only material loss through explosives'], 'eyes and ears': ['for the rescue forces from a safe distance'], 'less danger': ['for human rescue forces', nan, nan], 'dangerous areas': [nan, nan], 'endurance': [nan], 'performance': [nan], 'rescue and safety': [nan], 'danger': ['less human danger'], 'no rescuer endangered': [nan], 'access': ['access to areas where people cannot reach'], 'rational efficiency': ['No suicidal experiments in rescue'], 'quick deployment': [nan, nan], 'no exhaustion': [nan], 'save many people': [nan], 'Adaptability': [nan], 'continuous monitoring': [nan], 'not tired': [nan], 'more human rescue': [nan], 'easier finding': ['Through their sensors like thermal imaging, the robots can better find people.'], 'do not lose strength': ['Robots do not lose stamina while humans could lose strength during missions.'], 'delivery of goods': ['Robots can, for example, deliver goods in war zones, which would be dangerous for humans.'], 'faster abolition': ['Rescue robots could shorten the path to doctors/hospitals and the abolition of injured people.'], 'safety risks': [nan], 'can be replaced': ['Robots can be replaced by other robots in case of loss'], 'better search capabilities': ['Robots can search better in the dark and in smoke etc because they have numerous sensors'], 'for danger': ['can be used in times of danger instead of humans'], 'efficient reconnaissance work': ['Through algorithms, maps can be read and created more quickly'], 'rescue efficient and': [nan], 'higher utilization': ['the robots can be used continuously'], 'faster access': ['easier access to dangerous place'], 'error reduction': [nan], 'simplification of difficult situations': ['Many rescue situations prove difficult for people to reach or to intervene, automation can clearly help here.'], 'accessibility of special regions': [nan], 'risk reduction for aid workers': ['Should people go into difficult areas, for example for avalanche rescue, they put themselves in danger'], 'fire department support': [nan], 'risk': ['In dangerous environments or situations, there is of course much less risk for the people'], 'dispensable': ['the loss of a robot is less tragic than the loss of a human rescuer'], 'immune': ['a robot is immune to many dangers that would be deadly for humans such as smoke gases, chemicals, temperatures'], 'protects people': ['No human risks necessary'], 'surpasses human rescuers': ['Can be used in situations where people cannot reach'], 'low risk': [nan], 'safety for rescue workers': [nan], 'access to dangerous area': [nan], 'no performance drop': [nan], 'follows instructions precisely': [nan], 'earthquake rescue': [nan], 'lifting heavy weights': [nan], 'risk minimization': ['Approximately during search actions in risky areas'], 'precision in search': [nan], 'More flexible than human': ['People cannot access some areas or cannot see whether people are still alive. For example, in an earthquake incident under the rubble.'], 'Faster than human': ['In an earthquake, for example, recently in Turkey, the help arrived too late and this led to more loss. Robots would be more flexible and could be used faster, rather than gathering all people together and rushing to help.'], 'Stronger than human': ['As already mentioned, many people lost their lives in the earthquake in Turkey, and this was because human strength was not enough at a certain point. For example, the walls that fell on people could not be lifted, which is why arms and legs had to be cut off. If the robot was there, it could show more strength and lift the wall.'], 'speed': ['the robot can probably save faster than a human'], 'accessibility of contaminated places': ['Poisonous gases, smoke, radiation etc. play no role'], 'can be stronger': [nan], 'can work long': [nan], 'are physically superior': ['Strength, agility, mobility'], 'are mentally superior': ['No trauma for rescuers'], 'use in dangerous areas': [nan], 'use in inaccessibility': [nan], 'accuracy of work': [nan], 'does not risk human lives': [nan]}\n",
      "181\n",
      "mapping new x comments: {'lower risk of injury': [nan, 'through soft robots', nan, 'due to their softness', 'With soft robots', nan, 'Lower risk of injury due to the adaptability of the robot', nan], 'flexible': [nan, nan, nan], 'low risk of injury': [nan, nan, nan, 'Due to the fact that a soft robot is not made of metal, but rather soft, the risk is lower.', nan, 'In comparison to hard plastic/metal', nan, 'with soft robots', 'helping hand'], 'safety': ['Soft material reduces risk of injury'], 'robots are more efficient': [nan], 'knowledge': ['You get the information from the internet and can capture and assign the data faster than humans.', nan], 'less risk of injury': [nan, nan, nan], 'reduction of injury risk': [nan, nan, \"compared to 'soft' rescue robots; valid for hard rescue robots\", nan, nan], 'delivery of supplies': [nan], 'precise work': [nan], 'food/water transport': [nan], 'animal protection': ['Using a soft robot instead of an animal protects the animal from potentially harmful behavior by the owner.'], 'reach the inaccessible': [nan], 'reduce risk of injury': [nan], 'reliable': ['is always ready'], 'direct help': ['through water/food'], 'reduced risk of injury': ['through soft materials', 'the victim due to the organic construction method', nan, nan], 'time savings in emergencies': [nan], 'care of victims': [nan], 'exploration': ['Assess the safety of the dangerous area'], 'supply with food': [nan, nan], 'adaptability': [nan], 'few physical risks': ['e.g. through injuries'], 'accessible tight spaces': ['Due to their flexibility, they can access narrow spaces that are not accessible to people.'], 'decision-making options': ['in theory, a robot should be able to make a logical decision better than a human because emotions etc. cannot cloud a decision'], 'injury prevention': [nan], 'more people saved': [nan], 'low risks': ['Soft robots pose only a low risk to the victims due to their flexibility.'], 'life-threatening places': [nan], 'vital help': [nan], 'more flexible than humans': [nan], 'fast': ['faster than a human to distribute aid supplies.'], 'Adaptability': [nan], 'camera images': ['To perform an image analysis in retrospect'], 'human error susceptibility': [nan], 'medication supply': [nan], 'inaccessible areas': [nan]}\n",
      "37\n",
      "mapping deleted x comments: {'faster': ['Works faster'], 'precise work possible': [nan], 'higher precision': [nan], 'safety': [nan], 'efficiency': [nan], 'save more people': [nan]}\n",
      "6\n"
     ]
    }
   ],
   "source": [
    "# Remove rows with NaN in the key columns as they cannot be used as dictionary keys\n",
    "#> not sensitive to multiple identical keys: dict(zip(df['constant'], df['constant_comments']))\n",
    "df = all_sheets_Combined[sheet_name]\n",
    "\n",
    "constant_comments_mapping = create_multivalue_dict(df, 'constant', 'constant_comments')\n",
    "print(\"mapping constant x comments:\", constant_comments_mapping)\n",
    "print(len(constant_comments_mapping))\n",
    "\n",
    "new_comments_mapping = create_multivalue_dict(df, 'new', 'new_comments')\n",
    "print(\"mapping new x comments:\", new_comments_mapping)\n",
    "print(len(new_comments_mapping))\n",
    "\n",
    "deleted_comments_mapping = create_multivalue_dict(df, 'deleted', 'deleted_comments')\n",
    "print(\"mapping deleted x comments:\", deleted_comments_mapping)\n",
    "print(len(deleted_comments_mapping))"
   ]
  },
  {
   "cell_type": "code",
   "execution_count": 22,
   "metadata": {},
   "outputs": [],
   "source": [
    "def combine_dicts(dict1, dict2):\n",
    "    \"\"\"\n",
    "    Combine two dictionaries where each key maps to a list of values.\n",
    "    \n",
    "    Parameters:\n",
    "    dict1 (dict): The first dictionary.\n",
    "    dict2 (dict): The second dictionary.\n",
    "    \n",
    "    Returns:\n",
    "    dict: A combined dictionary where each key maps to a concatenated list of values.\n",
    "    \"\"\"\n",
    "    combined_dict = dict1.copy()\n",
    "    for key, values in dict2.items():\n",
    "        if key in combined_dict:\n",
    "            combined_dict[key].extend(values)\n",
    "        else:\n",
    "            combined_dict[key] = values\n",
    "    return combined_dict"
   ]
  },
  {
   "cell_type": "markdown",
   "metadata": {},
   "source": [
    "test combine_dicts() function:"
   ]
  },
  {
   "cell_type": "code",
   "execution_count": 23,
   "metadata": {},
   "outputs": [
    {
     "name": "stdout",
     "output_type": "stream",
     "text": [
      "mapping constant, new x comments: {'quick hygienic help': [nan], 'efficient': ['Work on statistics can be made more efficient through probabilities.', nan, nan, nan], 'safety': ['Prevents people from having to work under difficult or dangerous conditions to increase safety.', 'Enables deployment in difficult situations where human rescuers would put themselves in danger', nan, nan, nan, 'through reliability', 'No people are being put in danger', 'Soft material reduces risk of injury'], 'remote control': ['Can be operated by experts via remote control or autonomous systems to perform operations from a safe distance.', nan, nan, nan, nan, 'Minimizes risks associated with autonomy'], 'speed and efficiency': ['Robots can often act faster than humans and increase the speed of emergency interventions', 'Improvement of speed and efficiency of rescue operations', nan], 'safe': ['People do not have to put themselves in dangerous situations'], 'reliable': ['Can be precisely controlled', nan, nan, nan, nan, 'is always ready'], 'health monitoring': [nan, 'People no longer necessarily need an emergency button if an external system can watch over them and summon help when in doubt.'], 'Precise execution': ['Robots perform tasks purposefully'], 'Ability to learn': ['The robots are learning and being further developed, making them more efficient'], 'no people necessary': [nan], 'stronger than humans': [nan, 'In many situations, e.g. when clearing rubble, a great advantage.', nan, nan], 'faster than humans': [nan, nan], 'precise handling': [nan], 'reliability': [nan, 'Machines can accomplish their tasks reliably and reproducibly (provided they are well programmed and built)', nan, nan, nan], 'always correct': [nan], 'protection of rescue forces': ['for example in contamination scenarios', 'Reduced deployment of human rescue forces in dangerous situations', nan, 'human rescuers do not have to put themselves in danger'], 'in danger zones': [nan], 'toxic places': ['Places where people can only breathe with special equipment (gas mask)'], 'no distraction': [nan], 'by injuries': [nan], 'consistent': [nan], 'consistent performance': [nan], 'emergency monitoring': ['Depending on how a robot is equipped, it could respond very quickly in an emergency, faster than a human.'], 'more strong': [nan], 'without basic need': ['Water, sleep, food etc.'], 'faster intervention': [nan], 'area of application': ['Can be used in areas too dangerous for humans', 'Can be used in areas that are too dangerous for humans.'], 'reaching hard-to-access places': ['Robots and drones are small and agile. Therefore, they can reach places that are difficult or even dangerous for humans to reach.'], 'discover dangerous areas': [nan], 'quick processing': [nan], 'care of people': [nan], 'perform operations': ['disease'], 'enter dangerous situation': [nan], 'No illness': ['Robots do not get infected, they do not spread diseases, and they do not get sick.'], 'less risk': [nan, 'Specifically less risk to further human lives, as rescue teams can use robots'], 'efficiency in search': [nan], 'no fatigue': [nan, 'Unlike human rescuers, robots do not tire even during long operations'], 'cover dangerous areas': ['even where it is dangerous for humans, a robot can go there'], 'precision & accuracy': [nan], 'no human errors': [nan], 'more attentive': [nan], 'use in dangerous situations': ['Rescue robots can be used in dangerous situations where humans are exposed to too high a risk.'], 'can act quickly': ['Robots can intervene quickly, as they do not need to be dressed or prepared and are autonomous', 'The robots can act faster than a human in an emergency.'], 'No exhaustion': [nan], 'Range': ['Robots, again just the drone can rescue victims faster in difficult terrain or bring help, e.g. medicine, food'], 'accessibility of inaccessible places': [nan], 'improved approach': [nan], 'precise work': [nan, nan], 'rescue of people': [nan], 'deployment possibility': ['Also possible under dangerous conditions'], 'replaceable': ['In case of loss, no human sacrifice', 'During operations, unlike human rescuers, there is no need to pay attention to the safety of the robots, as they can be easily replaced.'], 'unrestricted access': ['Robots can operate in environments that would be toxic to humans, e.g. areas contaminated with radiation.'], 'sparing human life': ['If robots are used instead of human rescuers, the lives and health of the rescuers do not have to be put at risk.'], 'reduced risk': ['By using robots, no human forces are exposed to dangerous situations'], 'precision': [nan], 'more targeted help': [nan], 'saves lives': ['For example, when human helpers are not available, a rescue robot can still save human lives.', 'send a robot into a danger zone instead of a human', nan], 'protects aid workers': ['Since employees are not unnecessarily exposed to dangers, strictly speaking, this also saves their lives.'], 'fewer mistakes': [nan], 'overall more productive': [nan], 'greater accuracy': [nan], 'usable in emergencies': ['To inspect debris more accurately'], 'protection of rescue personnel': [nan], 'accessibility of places': ['Accessibility difficult to reach'], 'increased efficiency': [nan], 'faster recovery': ['One could send robots into the fire without danger to human lives, etc, to combat the cause more quickly.'], 'weather independent': ['Even in storms etc., perhaps an option for critical tasks'], 'safety for emergency personnel': [nan], 'strength (power)': ['for example, for lifting debris parts'], 'quick action': [nan], 'no danger': ['For human rescue forces in action', 'No human doctor etc. needs to enter the operating area and thus it is significantly safer and therefore protects human lives.'], 'efficiency': [nan, 'Robots could be more capable in disaster cases than human helpers.', nan, 'Robots are not limited to human speed, vision, and perception in general.', nan, 'both equally fast work, more productive way of working as well as improved access to danger zones', nan], 'access to areas': ['Access to areas difficult or only reachable through considerable dangers for people'], 'vital objects': ['Victims receive vitally important things, such as water, food, and medicine'], 'rescue forces safety': ['Emergency services can avoid dangers if, for example, pictures of the location were taken by robots.'], 'more/ easier access': ['Robots can create (easier) access to places where it would otherwise be more difficult.'], 'reduce number of victims': ['Robots could make rescue operations more efficient and faster, potentially saving more victims.'], 'no life endangered': [nan], 'can save lives': [nan, nan], 'not emotionally driven': [nan], 'focused': [nan], 'exclusion of human error': [nan], 'flexible': ['The robot could operate in dangerous areas and is therefore not limited.', nan, nan, nan], 'stronger than human': ['Specially equipped machines could help trapped victims quicker and more efficiently.'], 'chances of success': ['A reliable and error-free rescue robot could therefore save people faster and more than a human.'], 'accuracy of execution': [nan], 'enter dangerous areas': [nan], 'do not get distracted': ['Rescue robots follow their programming and can focus better on the rescue without being influenced by emotions.'], 'speed / agility': [nan], 'real-time data': [nan], 'strength': [nan, 'the robot can, for example, move objects that a human could not move'], 'simplified access': [nan], 'quick help': [nan, nan, nan], 'risk-free rescue': ['From the side of the rescuers, who do not have to put themselves in danger'], 'better CPR': [nan], 'life-threatening places': ['The possibility of entering dangerous places that people do not dare to approach, such as wreck parts, battlefields, etc.', nan], 'more reliable than humans': [nan], 'reach dangerous places': [nan], 'do not get tired': [nan, nan], 'cannot die': [nan], '\"small\" operations': ['Especially good for smaller operations and possibly the transport'], 'toxic environment': [nan], 'safer for humans': [nan, nan], 'dexterity': ['Often higher skill than human rescuers'], 'responsiveness': ['Robots have a significantly higher reaction capability than human rescuers'], 'Accuracy of rescue robots': ['this way human errors can be reduced'], 'quality/precision': [nan], 'quantity': ['more rescue operations or more people saved possible'], 'fewer deaths': [nan], 'faster operation': [nan], 'accuracy': [nan, nan], 'faster help': ['Since the risk to life is lower, rescue workers can send a robot before a complete analysis of the problem area is available.'], 'stronger': ['Robots might potentially be able to move things that humans would have great difficulty with.'], 'Not susceptible to infection': ['Robots are insensitive to infections.'], '24/7 readiness': [nan], 'access to hard-to-reach places': [nan], 'human safety': [nan], 'useful addition': ['To human rescuers.'], '\"dare\" more': ['can also be used in war zones, only material loss through explosives'], 'eyes and ears': ['for the rescue forces from a safe distance'], 'less danger': ['for human rescue forces', nan, nan], 'dangerous areas': [nan, nan], 'endurance': [nan], 'performance': [nan], 'rescue and safety': [nan], 'danger': ['less human danger'], 'no rescuer endangered': [nan], 'access': ['access to areas where people cannot reach'], 'rational efficiency': ['No suicidal experiments in rescue'], 'quick deployment': [nan, nan], 'no exhaustion': [nan], 'save many people': [nan], 'Adaptability': [nan, nan], 'continuous monitoring': [nan], 'not tired': [nan], 'more human rescue': [nan], 'easier finding': ['Through their sensors like thermal imaging, the robots can better find people.'], 'do not lose strength': ['Robots do not lose stamina while humans could lose strength during missions.'], 'delivery of goods': ['Robots can, for example, deliver goods in war zones, which would be dangerous for humans.'], 'faster abolition': ['Rescue robots could shorten the path to doctors/hospitals and the abolition of injured people.'], 'safety risks': [nan], 'can be replaced': ['Robots can be replaced by other robots in case of loss'], 'better search capabilities': ['Robots can search better in the dark and in smoke etc because they have numerous sensors'], 'for danger': ['can be used in times of danger instead of humans'], 'efficient reconnaissance work': ['Through algorithms, maps can be read and created more quickly'], 'rescue efficient and': [nan], 'higher utilization': ['the robots can be used continuously'], 'faster access': ['easier access to dangerous place'], 'error reduction': [nan], 'simplification of difficult situations': ['Many rescue situations prove difficult for people to reach or to intervene, automation can clearly help here.'], 'accessibility of special regions': [nan], 'risk reduction for aid workers': ['Should people go into difficult areas, for example for avalanche rescue, they put themselves in danger'], 'fire department support': [nan], 'risk': ['In dangerous environments or situations, there is of course much less risk for the people'], 'dispensable': ['the loss of a robot is less tragic than the loss of a human rescuer'], 'immune': ['a robot is immune to many dangers that would be deadly for humans such as smoke gases, chemicals, temperatures'], 'protects people': ['No human risks necessary'], 'surpasses human rescuers': ['Can be used in situations where people cannot reach'], 'low risk': [nan], 'safety for rescue workers': [nan], 'access to dangerous area': [nan], 'no performance drop': [nan], 'follows instructions precisely': [nan], 'earthquake rescue': [nan], 'lifting heavy weights': [nan], 'risk minimization': ['Approximately during search actions in risky areas'], 'precision in search': [nan], 'More flexible than human': ['People cannot access some areas or cannot see whether people are still alive. For example, in an earthquake incident under the rubble.'], 'Faster than human': ['In an earthquake, for example, recently in Turkey, the help arrived too late and this led to more loss. Robots would be more flexible and could be used faster, rather than gathering all people together and rushing to help.'], 'Stronger than human': ['As already mentioned, many people lost their lives in the earthquake in Turkey, and this was because human strength was not enough at a certain point. For example, the walls that fell on people could not be lifted, which is why arms and legs had to be cut off. If the robot was there, it could show more strength and lift the wall.'], 'speed': ['the robot can probably save faster than a human'], 'accessibility of contaminated places': ['Poisonous gases, smoke, radiation etc. play no role'], 'can be stronger': [nan], 'can work long': [nan], 'are physically superior': ['Strength, agility, mobility'], 'are mentally superior': ['No trauma for rescuers'], 'use in dangerous areas': [nan], 'use in inaccessibility': [nan], 'accuracy of work': [nan], 'does not risk human lives': [nan], 'lower risk of injury': [nan, 'through soft robots', nan, 'due to their softness', 'With soft robots', nan, 'Lower risk of injury due to the adaptability of the robot', nan], 'low risk of injury': [nan, nan, nan, 'Due to the fact that a soft robot is not made of metal, but rather soft, the risk is lower.', nan, 'In comparison to hard plastic/metal', nan, 'with soft robots', 'helping hand'], 'robots are more efficient': [nan], 'knowledge': ['You get the information from the internet and can capture and assign the data faster than humans.', nan], 'less risk of injury': [nan, nan, nan], 'reduction of injury risk': [nan, nan, \"compared to 'soft' rescue robots; valid for hard rescue robots\", nan, nan], 'delivery of supplies': [nan], 'food/water transport': [nan], 'animal protection': ['Using a soft robot instead of an animal protects the animal from potentially harmful behavior by the owner.'], 'reach the inaccessible': [nan], 'reduce risk of injury': [nan], 'direct help': ['through water/food'], 'reduced risk of injury': ['through soft materials', 'the victim due to the organic construction method', nan, nan], 'time savings in emergencies': [nan], 'care of victims': [nan], 'exploration': ['Assess the safety of the dangerous area'], 'supply with food': [nan, nan], 'adaptability': [nan], 'few physical risks': ['e.g. through injuries'], 'accessible tight spaces': ['Due to their flexibility, they can access narrow spaces that are not accessible to people.'], 'decision-making options': ['in theory, a robot should be able to make a logical decision better than a human because emotions etc. cannot cloud a decision'], 'injury prevention': [nan], 'more people saved': [nan], 'low risks': ['Soft robots pose only a low risk to the victims due to their flexibility.'], 'vital help': [nan], 'more flexible than humans': [nan], 'fast': ['faster than a human to distribute aid supplies.'], 'camera images': ['To perform an image analysis in retrospect'], 'human error susceptibility': [nan], 'medication supply': [nan], 'inaccessible areas': [nan]}\n",
      "212\n"
     ]
    }
   ],
   "source": [
    "constant_new_comments_mapping = combine_dicts(constant_comments_mapping, new_comments_mapping)\n",
    "print(\"mapping constant, new x comments:\", constant_new_comments_mapping)\n",
    "print(len(constant_new_comments_mapping))\n"
   ]
  },
  {
   "cell_type": "markdown",
   "metadata": {},
   "source": [
    "## Data for A, B graph (G2)\n",
    "\n",
    "Prompt to get list of arguments and explenations:"
   ]
  },
  {
   "cell_type": "code",
   "execution_count": 24,
   "metadata": {},
   "outputs": [
    {
     "name": "stdout",
     "output_type": "stream",
     "text": [
      "messages=[SystemMessage(content='\\nYou are a researcher summarizing two word lists that represent people\\'s assessments of rigid and soft robots, whereby laypersons were informed about the risks and benefits of rescue robots and socially assistive robots through scenario texts.\\n\\nParticipants shared their views on traditional rigid robots in a \"rigid\" list and on flexible, electronic-free soft robots in a \"soft\" list after learning about their respective risks and benefits. \\nThe overall theme is perceived safety.\\n\\nBoth \"rigid\" and \"soft\" lists are dictionaries with argument keys and comment values. If [nan] appears, it means no comment was provided; repeated entries or [nan] values indicate that the argument was emphasized multiple times.\\n\\nYour task:\\nSummarize the main points for each category into a JSON object. Fill the two arrays within the JSON object, \"rigid_arguments\" for the \"rigid\" list and \"soft_arguments\" for the \"soft\" list. \\nSummarize the main points for each category in a JSON object. Populate the two arrays, \"rigid_arguments\" and \"soft_arguments,\" with up to five key arguments each. \\nInclude a brief, interrelated explanation (up to two sentences) for each argument, derived from the provided lists.\\n\\n\\nOutput Format:\\n\\n{\\n  \"assessments\": {\\n    \"rigid_arguments\": [\\n      {\\n        \"argument\": \"argument1\",\\n        \"explanation\": \"explanation of argument1\"\\n      },\\n      {\\n        \"argument\": \"argument2\",\\n        \"explanation\": \"explanation of argument2\"\\n      },\\n      ...\\n    ],\\n    \"soft_arguments\": [\\n      {\\n        \"argument\": \"argument1\",\\n        \"explanation\": \"explanation of argument1\"\\n      },\\n      {\\n        \"argument\": \"argument2\",\\n        \"explanation\": \"explanation of argument2\"\\n      },\\n      ...\\n    ]\\n  }\\n}\\n\\nPlease respond with the entire JSON structure as specified, providing up to five arguments for each list, and without any additional commentary or context.\\n', additional_kwargs={}, response_metadata={}), HumanMessage(content='List \"rigid\": \\n{\\'quick hygienic help\\': [nan], \\'efficient\\': [\\'Work on statistics can be made more efficient through probabilities.\\', nan, nan, nan], \\'safety\\': [\\'Prevents people from having to work under difficult or dangerous conditions to increase safety.\\', \\'Enables deployment in difficult situations where human rescuers would put themselves in danger\\', nan, nan, nan, \\'through reliability\\', \\'No people are being put in danger\\', \\'Soft material reduces risk of injury\\'], \\'remote control\\': [\\'Can be operated by experts via remote control or autonomous systems to perform operations from a safe distance.\\', nan, nan, nan, nan, \\'Minimizes risks associated with autonomy\\'], \\'speed and efficiency\\': [\\'Robots can often act faster than humans and increase the speed of emergency interventions\\', \\'Improvement of speed and efficiency of rescue operations\\', nan], \\'safe\\': [\\'People do not have to put themselves in dangerous situations\\'], \\'reliable\\': [\\'Can be precisely controlled\\', nan, nan, nan, nan, \\'is always ready\\'], \\'health monitoring\\': [nan, \\'People no longer necessarily need an emergency button if an external system can watch over them and summon help when in doubt.\\'], \\'Precise execution\\': [\\'Robots perform tasks purposefully\\'], \\'Ability to learn\\': [\\'The robots are learning and being further developed, making them more efficient\\'], \\'no people necessary\\': [nan], \\'stronger than humans\\': [nan, \\'In many situations, e.g. when clearing rubble, a great advantage.\\', nan, nan], \\'faster than humans\\': [nan, nan], \\'precise handling\\': [nan], \\'reliability\\': [nan, \\'Machines can accomplish their tasks reliably and reproducibly (provided they are well programmed and built)\\', nan, nan, nan], \\'always correct\\': [nan], \\'protection of rescue forces\\': [\\'for example in contamination scenarios\\', \\'Reduced deployment of human rescue forces in dangerous situations\\', nan, \\'human rescuers do not have to put themselves in danger\\'], \\'in danger zones\\': [nan], \\'toxic places\\': [\\'Places where people can only breathe with special equipment (gas mask)\\'], \\'no distraction\\': [nan], \\'by injuries\\': [nan], \\'consistent\\': [nan], \\'consistent performance\\': [nan], \\'emergency monitoring\\': [\\'Depending on how a robot is equipped, it could respond very quickly in an emergency, faster than a human.\\'], \\'more strong\\': [nan], \\'without basic need\\': [\\'Water, sleep, food etc.\\'], \\'faster intervention\\': [nan], \\'area of application\\': [\\'Can be used in areas too dangerous for humans\\', \\'Can be used in areas that are too dangerous for humans.\\'], \\'reaching hard-to-access places\\': [\\'Robots and drones are small and agile. Therefore, they can reach places that are difficult or even dangerous for humans to reach.\\'], \\'discover dangerous areas\\': [nan], \\'quick processing\\': [nan], \\'care of people\\': [nan], \\'perform operations\\': [\\'disease\\'], \\'enter dangerous situation\\': [nan], \\'No illness\\': [\\'Robots do not get infected, they do not spread diseases, and they do not get sick.\\'], \\'less risk\\': [nan, \\'Specifically less risk to further human lives, as rescue teams can use robots\\'], \\'efficiency in search\\': [nan], \\'no fatigue\\': [nan, \\'Unlike human rescuers, robots do not tire even during long operations\\'], \\'cover dangerous areas\\': [\\'even where it is dangerous for humans, a robot can go there\\'], \\'precision & accuracy\\': [nan], \\'no human errors\\': [nan], \\'more attentive\\': [nan], \\'use in dangerous situations\\': [\\'Rescue robots can be used in dangerous situations where humans are exposed to too high a risk.\\'], \\'can act quickly\\': [\\'Robots can intervene quickly, as they do not need to be dressed or prepared and are autonomous\\', \\'The robots can act faster than a human in an emergency.\\'], \\'No exhaustion\\': [nan], \\'Range\\': [\\'Robots, again just the drone can rescue victims faster in difficult terrain or bring help, e.g. medicine, food\\'], \\'accessibility of inaccessible places\\': [nan], \\'improved approach\\': [nan], \\'precise work\\': [nan, nan], \\'rescue of people\\': [nan], \\'deployment possibility\\': [\\'Also possible under dangerous conditions\\'], \\'replaceable\\': [\\'In case of loss, no human sacrifice\\', \\'During operations, unlike human rescuers, there is no need to pay attention to the safety of the robots, as they can be easily replaced.\\'], \\'unrestricted access\\': [\\'Robots can operate in environments that would be toxic to humans, e.g. areas contaminated with radiation.\\'], \\'sparing human life\\': [\\'If robots are used instead of human rescuers, the lives and health of the rescuers do not have to be put at risk.\\'], \\'reduced risk\\': [\\'By using robots, no human forces are exposed to dangerous situations\\'], \\'precision\\': [nan], \\'more targeted help\\': [nan], \\'saves lives\\': [\\'For example, when human helpers are not available, a rescue robot can still save human lives.\\', \\'send a robot into a danger zone instead of a human\\', nan], \\'protects aid workers\\': [\\'Since employees are not unnecessarily exposed to dangers, strictly speaking, this also saves their lives.\\'], \\'fewer mistakes\\': [nan], \\'overall more productive\\': [nan], \\'greater accuracy\\': [nan], \\'usable in emergencies\\': [\\'To inspect debris more accurately\\'], \\'protection of rescue personnel\\': [nan], \\'accessibility of places\\': [\\'Accessibility difficult to reach\\'], \\'increased efficiency\\': [nan], \\'faster recovery\\': [\\'One could send robots into the fire without danger to human lives, etc, to combat the cause more quickly.\\'], \\'weather independent\\': [\\'Even in storms etc., perhaps an option for critical tasks\\'], \\'safety for emergency personnel\\': [nan], \\'strength (power)\\': [\\'for example, for lifting debris parts\\'], \\'quick action\\': [nan], \\'no danger\\': [\\'For human rescue forces in action\\', \\'No human doctor etc. needs to enter the operating area and thus it is significantly safer and therefore protects human lives.\\'], \\'efficiency\\': [nan, \\'Robots could be more capable in disaster cases than human helpers.\\', nan, \\'Robots are not limited to human speed, vision, and perception in general.\\', nan, \\'both equally fast work, more productive way of working as well as improved access to danger zones\\', nan], \\'access to areas\\': [\\'Access to areas difficult or only reachable through considerable dangers for people\\'], \\'vital objects\\': [\\'Victims receive vitally important things, such as water, food, and medicine\\'], \\'rescue forces safety\\': [\\'Emergency services can avoid dangers if, for example, pictures of the location were taken by robots.\\'], \\'more/ easier access\\': [\\'Robots can create (easier) access to places where it would otherwise be more difficult.\\'], \\'reduce number of victims\\': [\\'Robots could make rescue operations more efficient and faster, potentially saving more victims.\\'], \\'no life endangered\\': [nan], \\'can save lives\\': [nan, nan], \\'not emotionally driven\\': [nan], \\'focused\\': [nan], \\'exclusion of human error\\': [nan], \\'flexible\\': [\\'The robot could operate in dangerous areas and is therefore not limited.\\', nan, nan, nan], \\'stronger than human\\': [\\'Specially equipped machines could help trapped victims quicker and more efficiently.\\'], \\'chances of success\\': [\\'A reliable and error-free rescue robot could therefore save people faster and more than a human.\\'], \\'accuracy of execution\\': [nan], \\'enter dangerous areas\\': [nan], \\'do not get distracted\\': [\\'Rescue robots follow their programming and can focus better on the rescue without being influenced by emotions.\\'], \\'speed / agility\\': [nan], \\'real-time data\\': [nan], \\'strength\\': [nan, \\'the robot can, for example, move objects that a human could not move\\'], \\'simplified access\\': [nan], \\'quick help\\': [nan, nan, nan], \\'risk-free rescue\\': [\\'From the side of the rescuers, who do not have to put themselves in danger\\'], \\'better CPR\\': [nan], \\'life-threatening places\\': [\\'The possibility of entering dangerous places that people do not dare to approach, such as wreck parts, battlefields, etc.\\', nan], \\'more reliable than humans\\': [nan], \\'reach dangerous places\\': [nan], \\'do not get tired\\': [nan, nan], \\'cannot die\\': [nan], \\'\"small\" operations\\': [\\'Especially good for smaller operations and possibly the transport\\'], \\'toxic environment\\': [nan], \\'safer for humans\\': [nan, nan], \\'dexterity\\': [\\'Often higher skill than human rescuers\\'], \\'responsiveness\\': [\\'Robots have a significantly higher reaction capability than human rescuers\\'], \\'Accuracy of rescue robots\\': [\\'this way human errors can be reduced\\'], \\'quality/precision\\': [nan], \\'quantity\\': [\\'more rescue operations or more people saved possible\\'], \\'fewer deaths\\': [nan], \\'faster operation\\': [nan], \\'accuracy\\': [nan, nan], \\'faster help\\': [\\'Since the risk to life is lower, rescue workers can send a robot before a complete analysis of the problem area is available.\\'], \\'stronger\\': [\\'Robots might potentially be able to move things that humans would have great difficulty with.\\'], \\'Not susceptible to infection\\': [\\'Robots are insensitive to infections.\\'], \\'24/7 readiness\\': [nan], \\'access to hard-to-reach places\\': [nan], \\'human safety\\': [nan], \\'useful addition\\': [\\'To human rescuers.\\'], \\'\"dare\" more\\': [\\'can also be used in war zones, only material loss through explosives\\'], \\'eyes and ears\\': [\\'for the rescue forces from a safe distance\\'], \\'less danger\\': [\\'for human rescue forces\\', nan, nan], \\'dangerous areas\\': [nan, nan], \\'endurance\\': [nan], \\'performance\\': [nan], \\'rescue and safety\\': [nan], \\'danger\\': [\\'less human danger\\'], \\'no rescuer endangered\\': [nan], \\'access\\': [\\'access to areas where people cannot reach\\'], \\'rational efficiency\\': [\\'No suicidal experiments in rescue\\'], \\'quick deployment\\': [nan, nan], \\'no exhaustion\\': [nan], \\'save many people\\': [nan], \\'Adaptability\\': [nan, nan], \\'continuous monitoring\\': [nan], \\'not tired\\': [nan], \\'more human rescue\\': [nan], \\'easier finding\\': [\\'Through their sensors like thermal imaging, the robots can better find people.\\'], \\'do not lose strength\\': [\\'Robots do not lose stamina while humans could lose strength during missions.\\'], \\'delivery of goods\\': [\\'Robots can, for example, deliver goods in war zones, which would be dangerous for humans.\\'], \\'faster abolition\\': [\\'Rescue robots could shorten the path to doctors/hospitals and the abolition of injured people.\\'], \\'safety risks\\': [nan], \\'can be replaced\\': [\\'Robots can be replaced by other robots in case of loss\\'], \\'better search capabilities\\': [\\'Robots can search better in the dark and in smoke etc because they have numerous sensors\\'], \\'for danger\\': [\\'can be used in times of danger instead of humans\\'], \\'efficient reconnaissance work\\': [\\'Through algorithms, maps can be read and created more quickly\\'], \\'rescue efficient and\\': [nan], \\'higher utilization\\': [\\'the robots can be used continuously\\'], \\'faster access\\': [\\'easier access to dangerous place\\'], \\'error reduction\\': [nan], \\'simplification of difficult situations\\': [\\'Many rescue situations prove difficult for people to reach or to intervene, automation can clearly help here.\\'], \\'accessibility of special regions\\': [nan], \\'risk reduction for aid workers\\': [\\'Should people go into difficult areas, for example for avalanche rescue, they put themselves in danger\\'], \\'fire department support\\': [nan], \\'risk\\': [\\'In dangerous environments or situations, there is of course much less risk for the people\\'], \\'dispensable\\': [\\'the loss of a robot is less tragic than the loss of a human rescuer\\'], \\'immune\\': [\\'a robot is immune to many dangers that would be deadly for humans such as smoke gases, chemicals, temperatures\\'], \\'protects people\\': [\\'No human risks necessary\\'], \\'surpasses human rescuers\\': [\\'Can be used in situations where people cannot reach\\'], \\'low risk\\': [nan], \\'safety for rescue workers\\': [nan], \\'access to dangerous area\\': [nan], \\'no performance drop\\': [nan], \\'follows instructions precisely\\': [nan], \\'earthquake rescue\\': [nan], \\'lifting heavy weights\\': [nan], \\'risk minimization\\': [\\'Approximately during search actions in risky areas\\'], \\'precision in search\\': [nan], \\'More flexible than human\\': [\\'People cannot access some areas or cannot see whether people are still alive. For example, in an earthquake incident under the rubble.\\'], \\'Faster than human\\': [\\'In an earthquake, for example, recently in Turkey, the help arrived too late and this led to more loss. Robots would be more flexible and could be used faster, rather than gathering all people together and rushing to help.\\'], \\'Stronger than human\\': [\\'As already mentioned, many people lost their lives in the earthquake in Turkey, and this was because human strength was not enough at a certain point. For example, the walls that fell on people could not be lifted, which is why arms and legs had to be cut off. If the robot was there, it could show more strength and lift the wall.\\'], \\'speed\\': [\\'the robot can probably save faster than a human\\'], \\'accessibility of contaminated places\\': [\\'Poisonous gases, smoke, radiation etc. play no role\\'], \\'can be stronger\\': [nan], \\'can work long\\': [nan], \\'are physically superior\\': [\\'Strength, agility, mobility\\'], \\'are mentally superior\\': [\\'No trauma for rescuers\\'], \\'use in dangerous areas\\': [nan], \\'use in inaccessibility\\': [nan], \\'accuracy of work\\': [nan], \\'does not risk human lives\\': [nan]}\\n\\nList \"soft\": \\n{\\'lower risk of injury\\': [nan, \\'through soft robots\\', nan, \\'due to their softness\\', \\'With soft robots\\', nan, \\'Lower risk of injury due to the adaptability of the robot\\', nan], \\'flexible\\': [nan, nan, nan], \\'low risk of injury\\': [nan, nan, nan, \\'Due to the fact that a soft robot is not made of metal, but rather soft, the risk is lower.\\', nan, \\'In comparison to hard plastic/metal\\', nan, \\'with soft robots\\', \\'helping hand\\'], \\'safety\\': [\\'Soft material reduces risk of injury\\'], \\'robots are more efficient\\': [nan], \\'knowledge\\': [\\'You get the information from the internet and can capture and assign the data faster than humans.\\', nan], \\'less risk of injury\\': [nan, nan, nan], \\'reduction of injury risk\\': [nan, nan, \"compared to \\'soft\\' rescue robots; valid for hard rescue robots\", nan, nan], \\'delivery of supplies\\': [nan], \\'precise work\\': [nan], \\'food/water transport\\': [nan], \\'animal protection\\': [\\'Using a soft robot instead of an animal protects the animal from potentially harmful behavior by the owner.\\'], \\'reach the inaccessible\\': [nan], \\'reduce risk of injury\\': [nan], \\'reliable\\': [\\'is always ready\\'], \\'direct help\\': [\\'through water/food\\'], \\'reduced risk of injury\\': [\\'through soft materials\\', \\'the victim due to the organic construction method\\', nan, nan], \\'time savings in emergencies\\': [nan], \\'care of victims\\': [nan], \\'exploration\\': [\\'Assess the safety of the dangerous area\\'], \\'supply with food\\': [nan, nan], \\'adaptability\\': [nan], \\'few physical risks\\': [\\'e.g. through injuries\\'], \\'accessible tight spaces\\': [\\'Due to their flexibility, they can access narrow spaces that are not accessible to people.\\'], \\'decision-making options\\': [\\'in theory, a robot should be able to make a logical decision better than a human because emotions etc. cannot cloud a decision\\'], \\'injury prevention\\': [nan], \\'more people saved\\': [nan], \\'low risks\\': [\\'Soft robots pose only a low risk to the victims due to their flexibility.\\'], \\'life-threatening places\\': [nan], \\'vital help\\': [nan], \\'more flexible than humans\\': [nan], \\'fast\\': [\\'faster than a human to distribute aid supplies.\\'], \\'Adaptability\\': [nan], \\'camera images\\': [\\'To perform an image analysis in retrospect\\'], \\'human error susceptibility\\': [nan], \\'medication supply\\': [nan], \\'inaccessible areas\\': [nan]}', additional_kwargs={}, response_metadata={})]\n",
      "template_out: messages=[SystemMessage(content='\\nYou are a researcher summarizing two word lists that represent people\\'s assessments of rigid and soft robots, whereby laypersons were informed about the risks and benefits of rescue robots and socially assistive robots through scenario texts.\\n\\nParticipants shared their views on traditional rigid robots in a \"rigid\" list and on flexible, electronic-free soft robots in a \"soft\" list after learning about their respective risks and benefits. \\nThe overall theme is perceived safety.\\n\\nBoth \"rigid\" and \"soft\" lists are dictionaries with argument keys and comment values. If [nan] appears, it means no comment was provided; repeated entries or [nan] values indicate that the argument was emphasized multiple times.\\n\\nYour task:\\nSummarize the main points for each category into a JSON object. Fill the two arrays within the JSON object, \"rigid_arguments\" for the \"rigid\" list and \"soft_arguments\" for the \"soft\" list. \\nSummarize the main points for each category in a JSON object. Populate the two arrays, \"rigid_arguments\" and \"soft_arguments,\" with up to five key arguments each. \\nInclude a brief, interrelated explanation (up to two sentences) for each argument, derived from the provided lists.\\n\\n\\nOutput Format:\\n\\n{\\n  \"assessments\": {\\n    \"rigid_arguments\": [\\n      {\\n        \"argument\": \"argument1\",\\n        \"explanation\": \"explanation of argument1\"\\n      },\\n      {\\n        \"argument\": \"argument2\",\\n        \"explanation\": \"explanation of argument2\"\\n      },\\n      ...\\n    ],\\n    \"soft_arguments\": [\\n      {\\n        \"argument\": \"argument1\",\\n        \"explanation\": \"explanation of argument1\"\\n      },\\n      {\\n        \"argument\": \"argument2\",\\n        \"explanation\": \"explanation of argument2\"\\n      },\\n      ...\\n    ]\\n  }\\n}\\n\\nPlease respond with the entire JSON structure as specified, providing up to five arguments for each list, and without any additional commentary or context.\\n', additional_kwargs={}, response_metadata={}), HumanMessage(content='List \"rigid\": \\n{\\'quick hygienic help\\': [nan], \\'efficient\\': [\\'Work on statistics can be made more efficient through probabilities.\\', nan, nan, nan], \\'safety\\': [\\'Prevents people from having to work under difficult or dangerous conditions to increase safety.\\', \\'Enables deployment in difficult situations where human rescuers would put themselves in danger\\', nan, nan, nan, \\'through reliability\\', \\'No people are being put in danger\\', \\'Soft material reduces risk of injury\\'], \\'remote control\\': [\\'Can be operated by experts via remote control or autonomous systems to perform operations from a safe distance.\\', nan, nan, nan, nan, \\'Minimizes risks associated with autonomy\\'], \\'speed and efficiency\\': [\\'Robots can often act faster than humans and increase the speed of emergency interventions\\', \\'Improvement of speed and efficiency of rescue operations\\', nan], \\'safe\\': [\\'People do not have to put themselves in dangerous situations\\'], \\'reliable\\': [\\'Can be precisely controlled\\', nan, nan, nan, nan, \\'is always ready\\'], \\'health monitoring\\': [nan, \\'People no longer necessarily need an emergency button if an external system can watch over them and summon help when in doubt.\\'], \\'Precise execution\\': [\\'Robots perform tasks purposefully\\'], \\'Ability to learn\\': [\\'The robots are learning and being further developed, making them more efficient\\'], \\'no people necessary\\': [nan], \\'stronger than humans\\': [nan, \\'In many situations, e.g. when clearing rubble, a great advantage.\\', nan, nan], \\'faster than humans\\': [nan, nan], \\'precise handling\\': [nan], \\'reliability\\': [nan, \\'Machines can accomplish their tasks reliably and reproducibly (provided they are well programmed and built)\\', nan, nan, nan], \\'always correct\\': [nan], \\'protection of rescue forces\\': [\\'for example in contamination scenarios\\', \\'Reduced deployment of human rescue forces in dangerous situations\\', nan, \\'human rescuers do not have to put themselves in danger\\'], \\'in danger zones\\': [nan], \\'toxic places\\': [\\'Places where people can only breathe with special equipment (gas mask)\\'], \\'no distraction\\': [nan], \\'by injuries\\': [nan], \\'consistent\\': [nan], \\'consistent performance\\': [nan], \\'emergency monitoring\\': [\\'Depending on how a robot is equipped, it could respond very quickly in an emergency, faster than a human.\\'], \\'more strong\\': [nan], \\'without basic need\\': [\\'Water, sleep, food etc.\\'], \\'faster intervention\\': [nan], \\'area of application\\': [\\'Can be used in areas too dangerous for humans\\', \\'Can be used in areas that are too dangerous for humans.\\'], \\'reaching hard-to-access places\\': [\\'Robots and drones are small and agile. Therefore, they can reach places that are difficult or even dangerous for humans to reach.\\'], \\'discover dangerous areas\\': [nan], \\'quick processing\\': [nan], \\'care of people\\': [nan], \\'perform operations\\': [\\'disease\\'], \\'enter dangerous situation\\': [nan], \\'No illness\\': [\\'Robots do not get infected, they do not spread diseases, and they do not get sick.\\'], \\'less risk\\': [nan, \\'Specifically less risk to further human lives, as rescue teams can use robots\\'], \\'efficiency in search\\': [nan], \\'no fatigue\\': [nan, \\'Unlike human rescuers, robots do not tire even during long operations\\'], \\'cover dangerous areas\\': [\\'even where it is dangerous for humans, a robot can go there\\'], \\'precision & accuracy\\': [nan], \\'no human errors\\': [nan], \\'more attentive\\': [nan], \\'use in dangerous situations\\': [\\'Rescue robots can be used in dangerous situations where humans are exposed to too high a risk.\\'], \\'can act quickly\\': [\\'Robots can intervene quickly, as they do not need to be dressed or prepared and are autonomous\\', \\'The robots can act faster than a human in an emergency.\\'], \\'No exhaustion\\': [nan], \\'Range\\': [\\'Robots, again just the drone can rescue victims faster in difficult terrain or bring help, e.g. medicine, food\\'], \\'accessibility of inaccessible places\\': [nan], \\'improved approach\\': [nan], \\'precise work\\': [nan, nan], \\'rescue of people\\': [nan], \\'deployment possibility\\': [\\'Also possible under dangerous conditions\\'], \\'replaceable\\': [\\'In case of loss, no human sacrifice\\', \\'During operations, unlike human rescuers, there is no need to pay attention to the safety of the robots, as they can be easily replaced.\\'], \\'unrestricted access\\': [\\'Robots can operate in environments that would be toxic to humans, e.g. areas contaminated with radiation.\\'], \\'sparing human life\\': [\\'If robots are used instead of human rescuers, the lives and health of the rescuers do not have to be put at risk.\\'], \\'reduced risk\\': [\\'By using robots, no human forces are exposed to dangerous situations\\'], \\'precision\\': [nan], \\'more targeted help\\': [nan], \\'saves lives\\': [\\'For example, when human helpers are not available, a rescue robot can still save human lives.\\', \\'send a robot into a danger zone instead of a human\\', nan], \\'protects aid workers\\': [\\'Since employees are not unnecessarily exposed to dangers, strictly speaking, this also saves their lives.\\'], \\'fewer mistakes\\': [nan], \\'overall more productive\\': [nan], \\'greater accuracy\\': [nan], \\'usable in emergencies\\': [\\'To inspect debris more accurately\\'], \\'protection of rescue personnel\\': [nan], \\'accessibility of places\\': [\\'Accessibility difficult to reach\\'], \\'increased efficiency\\': [nan], \\'faster recovery\\': [\\'One could send robots into the fire without danger to human lives, etc, to combat the cause more quickly.\\'], \\'weather independent\\': [\\'Even in storms etc., perhaps an option for critical tasks\\'], \\'safety for emergency personnel\\': [nan], \\'strength (power)\\': [\\'for example, for lifting debris parts\\'], \\'quick action\\': [nan], \\'no danger\\': [\\'For human rescue forces in action\\', \\'No human doctor etc. needs to enter the operating area and thus it is significantly safer and therefore protects human lives.\\'], \\'efficiency\\': [nan, \\'Robots could be more capable in disaster cases than human helpers.\\', nan, \\'Robots are not limited to human speed, vision, and perception in general.\\', nan, \\'both equally fast work, more productive way of working as well as improved access to danger zones\\', nan], \\'access to areas\\': [\\'Access to areas difficult or only reachable through considerable dangers for people\\'], \\'vital objects\\': [\\'Victims receive vitally important things, such as water, food, and medicine\\'], \\'rescue forces safety\\': [\\'Emergency services can avoid dangers if, for example, pictures of the location were taken by robots.\\'], \\'more/ easier access\\': [\\'Robots can create (easier) access to places where it would otherwise be more difficult.\\'], \\'reduce number of victims\\': [\\'Robots could make rescue operations more efficient and faster, potentially saving more victims.\\'], \\'no life endangered\\': [nan], \\'can save lives\\': [nan, nan], \\'not emotionally driven\\': [nan], \\'focused\\': [nan], \\'exclusion of human error\\': [nan], \\'flexible\\': [\\'The robot could operate in dangerous areas and is therefore not limited.\\', nan, nan, nan], \\'stronger than human\\': [\\'Specially equipped machines could help trapped victims quicker and more efficiently.\\'], \\'chances of success\\': [\\'A reliable and error-free rescue robot could therefore save people faster and more than a human.\\'], \\'accuracy of execution\\': [nan], \\'enter dangerous areas\\': [nan], \\'do not get distracted\\': [\\'Rescue robots follow their programming and can focus better on the rescue without being influenced by emotions.\\'], \\'speed / agility\\': [nan], \\'real-time data\\': [nan], \\'strength\\': [nan, \\'the robot can, for example, move objects that a human could not move\\'], \\'simplified access\\': [nan], \\'quick help\\': [nan, nan, nan], \\'risk-free rescue\\': [\\'From the side of the rescuers, who do not have to put themselves in danger\\'], \\'better CPR\\': [nan], \\'life-threatening places\\': [\\'The possibility of entering dangerous places that people do not dare to approach, such as wreck parts, battlefields, etc.\\', nan], \\'more reliable than humans\\': [nan], \\'reach dangerous places\\': [nan], \\'do not get tired\\': [nan, nan], \\'cannot die\\': [nan], \\'\"small\" operations\\': [\\'Especially good for smaller operations and possibly the transport\\'], \\'toxic environment\\': [nan], \\'safer for humans\\': [nan, nan], \\'dexterity\\': [\\'Often higher skill than human rescuers\\'], \\'responsiveness\\': [\\'Robots have a significantly higher reaction capability than human rescuers\\'], \\'Accuracy of rescue robots\\': [\\'this way human errors can be reduced\\'], \\'quality/precision\\': [nan], \\'quantity\\': [\\'more rescue operations or more people saved possible\\'], \\'fewer deaths\\': [nan], \\'faster operation\\': [nan], \\'accuracy\\': [nan, nan], \\'faster help\\': [\\'Since the risk to life is lower, rescue workers can send a robot before a complete analysis of the problem area is available.\\'], \\'stronger\\': [\\'Robots might potentially be able to move things that humans would have great difficulty with.\\'], \\'Not susceptible to infection\\': [\\'Robots are insensitive to infections.\\'], \\'24/7 readiness\\': [nan], \\'access to hard-to-reach places\\': [nan], \\'human safety\\': [nan], \\'useful addition\\': [\\'To human rescuers.\\'], \\'\"dare\" more\\': [\\'can also be used in war zones, only material loss through explosives\\'], \\'eyes and ears\\': [\\'for the rescue forces from a safe distance\\'], \\'less danger\\': [\\'for human rescue forces\\', nan, nan], \\'dangerous areas\\': [nan, nan], \\'endurance\\': [nan], \\'performance\\': [nan], \\'rescue and safety\\': [nan], \\'danger\\': [\\'less human danger\\'], \\'no rescuer endangered\\': [nan], \\'access\\': [\\'access to areas where people cannot reach\\'], \\'rational efficiency\\': [\\'No suicidal experiments in rescue\\'], \\'quick deployment\\': [nan, nan], \\'no exhaustion\\': [nan], \\'save many people\\': [nan], \\'Adaptability\\': [nan, nan], \\'continuous monitoring\\': [nan], \\'not tired\\': [nan], \\'more human rescue\\': [nan], \\'easier finding\\': [\\'Through their sensors like thermal imaging, the robots can better find people.\\'], \\'do not lose strength\\': [\\'Robots do not lose stamina while humans could lose strength during missions.\\'], \\'delivery of goods\\': [\\'Robots can, for example, deliver goods in war zones, which would be dangerous for humans.\\'], \\'faster abolition\\': [\\'Rescue robots could shorten the path to doctors/hospitals and the abolition of injured people.\\'], \\'safety risks\\': [nan], \\'can be replaced\\': [\\'Robots can be replaced by other robots in case of loss\\'], \\'better search capabilities\\': [\\'Robots can search better in the dark and in smoke etc because they have numerous sensors\\'], \\'for danger\\': [\\'can be used in times of danger instead of humans\\'], \\'efficient reconnaissance work\\': [\\'Through algorithms, maps can be read and created more quickly\\'], \\'rescue efficient and\\': [nan], \\'higher utilization\\': [\\'the robots can be used continuously\\'], \\'faster access\\': [\\'easier access to dangerous place\\'], \\'error reduction\\': [nan], \\'simplification of difficult situations\\': [\\'Many rescue situations prove difficult for people to reach or to intervene, automation can clearly help here.\\'], \\'accessibility of special regions\\': [nan], \\'risk reduction for aid workers\\': [\\'Should people go into difficult areas, for example for avalanche rescue, they put themselves in danger\\'], \\'fire department support\\': [nan], \\'risk\\': [\\'In dangerous environments or situations, there is of course much less risk for the people\\'], \\'dispensable\\': [\\'the loss of a robot is less tragic than the loss of a human rescuer\\'], \\'immune\\': [\\'a robot is immune to many dangers that would be deadly for humans such as smoke gases, chemicals, temperatures\\'], \\'protects people\\': [\\'No human risks necessary\\'], \\'surpasses human rescuers\\': [\\'Can be used in situations where people cannot reach\\'], \\'low risk\\': [nan], \\'safety for rescue workers\\': [nan], \\'access to dangerous area\\': [nan], \\'no performance drop\\': [nan], \\'follows instructions precisely\\': [nan], \\'earthquake rescue\\': [nan], \\'lifting heavy weights\\': [nan], \\'risk minimization\\': [\\'Approximately during search actions in risky areas\\'], \\'precision in search\\': [nan], \\'More flexible than human\\': [\\'People cannot access some areas or cannot see whether people are still alive. For example, in an earthquake incident under the rubble.\\'], \\'Faster than human\\': [\\'In an earthquake, for example, recently in Turkey, the help arrived too late and this led to more loss. Robots would be more flexible and could be used faster, rather than gathering all people together and rushing to help.\\'], \\'Stronger than human\\': [\\'As already mentioned, many people lost their lives in the earthquake in Turkey, and this was because human strength was not enough at a certain point. For example, the walls that fell on people could not be lifted, which is why arms and legs had to be cut off. If the robot was there, it could show more strength and lift the wall.\\'], \\'speed\\': [\\'the robot can probably save faster than a human\\'], \\'accessibility of contaminated places\\': [\\'Poisonous gases, smoke, radiation etc. play no role\\'], \\'can be stronger\\': [nan], \\'can work long\\': [nan], \\'are physically superior\\': [\\'Strength, agility, mobility\\'], \\'are mentally superior\\': [\\'No trauma for rescuers\\'], \\'use in dangerous areas\\': [nan], \\'use in inaccessibility\\': [nan], \\'accuracy of work\\': [nan], \\'does not risk human lives\\': [nan]}\\n\\nList \"soft\": \\n{\\'lower risk of injury\\': [nan, \\'through soft robots\\', nan, \\'due to their softness\\', \\'With soft robots\\', nan, \\'Lower risk of injury due to the adaptability of the robot\\', nan], \\'flexible\\': [nan, nan, nan], \\'low risk of injury\\': [nan, nan, nan, \\'Due to the fact that a soft robot is not made of metal, but rather soft, the risk is lower.\\', nan, \\'In comparison to hard plastic/metal\\', nan, \\'with soft robots\\', \\'helping hand\\'], \\'safety\\': [\\'Soft material reduces risk of injury\\'], \\'robots are more efficient\\': [nan], \\'knowledge\\': [\\'You get the information from the internet and can capture and assign the data faster than humans.\\', nan], \\'less risk of injury\\': [nan, nan, nan], \\'reduction of injury risk\\': [nan, nan, \"compared to \\'soft\\' rescue robots; valid for hard rescue robots\", nan, nan], \\'delivery of supplies\\': [nan], \\'precise work\\': [nan], \\'food/water transport\\': [nan], \\'animal protection\\': [\\'Using a soft robot instead of an animal protects the animal from potentially harmful behavior by the owner.\\'], \\'reach the inaccessible\\': [nan], \\'reduce risk of injury\\': [nan], \\'reliable\\': [\\'is always ready\\'], \\'direct help\\': [\\'through water/food\\'], \\'reduced risk of injury\\': [\\'through soft materials\\', \\'the victim due to the organic construction method\\', nan, nan], \\'time savings in emergencies\\': [nan], \\'care of victims\\': [nan], \\'exploration\\': [\\'Assess the safety of the dangerous area\\'], \\'supply with food\\': [nan, nan], \\'adaptability\\': [nan], \\'few physical risks\\': [\\'e.g. through injuries\\'], \\'accessible tight spaces\\': [\\'Due to their flexibility, they can access narrow spaces that are not accessible to people.\\'], \\'decision-making options\\': [\\'in theory, a robot should be able to make a logical decision better than a human because emotions etc. cannot cloud a decision\\'], \\'injury prevention\\': [nan], \\'more people saved\\': [nan], \\'low risks\\': [\\'Soft robots pose only a low risk to the victims due to their flexibility.\\'], \\'life-threatening places\\': [nan], \\'vital help\\': [nan], \\'more flexible than humans\\': [nan], \\'fast\\': [\\'faster than a human to distribute aid supplies.\\'], \\'Adaptability\\': [nan], \\'camera images\\': [\\'To perform an image analysis in retrospect\\'], \\'human error susceptibility\\': [nan], \\'medication supply\\': [nan], \\'inaccessible areas\\': [nan]}', additional_kwargs={}, response_metadata={})]\n",
      "template_out.to_messages(): [SystemMessage(content='\\nYou are a researcher summarizing two word lists that represent people\\'s assessments of rigid and soft robots, whereby laypersons were informed about the risks and benefits of rescue robots and socially assistive robots through scenario texts.\\n\\nParticipants shared their views on traditional rigid robots in a \"rigid\" list and on flexible, electronic-free soft robots in a \"soft\" list after learning about their respective risks and benefits. \\nThe overall theme is perceived safety.\\n\\nBoth \"rigid\" and \"soft\" lists are dictionaries with argument keys and comment values. If [nan] appears, it means no comment was provided; repeated entries or [nan] values indicate that the argument was emphasized multiple times.\\n\\nYour task:\\nSummarize the main points for each category into a JSON object. Fill the two arrays within the JSON object, \"rigid_arguments\" for the \"rigid\" list and \"soft_arguments\" for the \"soft\" list. \\nSummarize the main points for each category in a JSON object. Populate the two arrays, \"rigid_arguments\" and \"soft_arguments,\" with up to five key arguments each. \\nInclude a brief, interrelated explanation (up to two sentences) for each argument, derived from the provided lists.\\n\\n\\nOutput Format:\\n\\n{\\n  \"assessments\": {\\n    \"rigid_arguments\": [\\n      {\\n        \"argument\": \"argument1\",\\n        \"explanation\": \"explanation of argument1\"\\n      },\\n      {\\n        \"argument\": \"argument2\",\\n        \"explanation\": \"explanation of argument2\"\\n      },\\n      ...\\n    ],\\n    \"soft_arguments\": [\\n      {\\n        \"argument\": \"argument1\",\\n        \"explanation\": \"explanation of argument1\"\\n      },\\n      {\\n        \"argument\": \"argument2\",\\n        \"explanation\": \"explanation of argument2\"\\n      },\\n      ...\\n    ]\\n  }\\n}\\n\\nPlease respond with the entire JSON structure as specified, providing up to five arguments for each list, and without any additional commentary or context.\\n', additional_kwargs={}, response_metadata={}), HumanMessage(content='List \"rigid\": \\n{\\'quick hygienic help\\': [nan], \\'efficient\\': [\\'Work on statistics can be made more efficient through probabilities.\\', nan, nan, nan], \\'safety\\': [\\'Prevents people from having to work under difficult or dangerous conditions to increase safety.\\', \\'Enables deployment in difficult situations where human rescuers would put themselves in danger\\', nan, nan, nan, \\'through reliability\\', \\'No people are being put in danger\\', \\'Soft material reduces risk of injury\\'], \\'remote control\\': [\\'Can be operated by experts via remote control or autonomous systems to perform operations from a safe distance.\\', nan, nan, nan, nan, \\'Minimizes risks associated with autonomy\\'], \\'speed and efficiency\\': [\\'Robots can often act faster than humans and increase the speed of emergency interventions\\', \\'Improvement of speed and efficiency of rescue operations\\', nan], \\'safe\\': [\\'People do not have to put themselves in dangerous situations\\'], \\'reliable\\': [\\'Can be precisely controlled\\', nan, nan, nan, nan, \\'is always ready\\'], \\'health monitoring\\': [nan, \\'People no longer necessarily need an emergency button if an external system can watch over them and summon help when in doubt.\\'], \\'Precise execution\\': [\\'Robots perform tasks purposefully\\'], \\'Ability to learn\\': [\\'The robots are learning and being further developed, making them more efficient\\'], \\'no people necessary\\': [nan], \\'stronger than humans\\': [nan, \\'In many situations, e.g. when clearing rubble, a great advantage.\\', nan, nan], \\'faster than humans\\': [nan, nan], \\'precise handling\\': [nan], \\'reliability\\': [nan, \\'Machines can accomplish their tasks reliably and reproducibly (provided they are well programmed and built)\\', nan, nan, nan], \\'always correct\\': [nan], \\'protection of rescue forces\\': [\\'for example in contamination scenarios\\', \\'Reduced deployment of human rescue forces in dangerous situations\\', nan, \\'human rescuers do not have to put themselves in danger\\'], \\'in danger zones\\': [nan], \\'toxic places\\': [\\'Places where people can only breathe with special equipment (gas mask)\\'], \\'no distraction\\': [nan], \\'by injuries\\': [nan], \\'consistent\\': [nan], \\'consistent performance\\': [nan], \\'emergency monitoring\\': [\\'Depending on how a robot is equipped, it could respond very quickly in an emergency, faster than a human.\\'], \\'more strong\\': [nan], \\'without basic need\\': [\\'Water, sleep, food etc.\\'], \\'faster intervention\\': [nan], \\'area of application\\': [\\'Can be used in areas too dangerous for humans\\', \\'Can be used in areas that are too dangerous for humans.\\'], \\'reaching hard-to-access places\\': [\\'Robots and drones are small and agile. Therefore, they can reach places that are difficult or even dangerous for humans to reach.\\'], \\'discover dangerous areas\\': [nan], \\'quick processing\\': [nan], \\'care of people\\': [nan], \\'perform operations\\': [\\'disease\\'], \\'enter dangerous situation\\': [nan], \\'No illness\\': [\\'Robots do not get infected, they do not spread diseases, and they do not get sick.\\'], \\'less risk\\': [nan, \\'Specifically less risk to further human lives, as rescue teams can use robots\\'], \\'efficiency in search\\': [nan], \\'no fatigue\\': [nan, \\'Unlike human rescuers, robots do not tire even during long operations\\'], \\'cover dangerous areas\\': [\\'even where it is dangerous for humans, a robot can go there\\'], \\'precision & accuracy\\': [nan], \\'no human errors\\': [nan], \\'more attentive\\': [nan], \\'use in dangerous situations\\': [\\'Rescue robots can be used in dangerous situations where humans are exposed to too high a risk.\\'], \\'can act quickly\\': [\\'Robots can intervene quickly, as they do not need to be dressed or prepared and are autonomous\\', \\'The robots can act faster than a human in an emergency.\\'], \\'No exhaustion\\': [nan], \\'Range\\': [\\'Robots, again just the drone can rescue victims faster in difficult terrain or bring help, e.g. medicine, food\\'], \\'accessibility of inaccessible places\\': [nan], \\'improved approach\\': [nan], \\'precise work\\': [nan, nan], \\'rescue of people\\': [nan], \\'deployment possibility\\': [\\'Also possible under dangerous conditions\\'], \\'replaceable\\': [\\'In case of loss, no human sacrifice\\', \\'During operations, unlike human rescuers, there is no need to pay attention to the safety of the robots, as they can be easily replaced.\\'], \\'unrestricted access\\': [\\'Robots can operate in environments that would be toxic to humans, e.g. areas contaminated with radiation.\\'], \\'sparing human life\\': [\\'If robots are used instead of human rescuers, the lives and health of the rescuers do not have to be put at risk.\\'], \\'reduced risk\\': [\\'By using robots, no human forces are exposed to dangerous situations\\'], \\'precision\\': [nan], \\'more targeted help\\': [nan], \\'saves lives\\': [\\'For example, when human helpers are not available, a rescue robot can still save human lives.\\', \\'send a robot into a danger zone instead of a human\\', nan], \\'protects aid workers\\': [\\'Since employees are not unnecessarily exposed to dangers, strictly speaking, this also saves their lives.\\'], \\'fewer mistakes\\': [nan], \\'overall more productive\\': [nan], \\'greater accuracy\\': [nan], \\'usable in emergencies\\': [\\'To inspect debris more accurately\\'], \\'protection of rescue personnel\\': [nan], \\'accessibility of places\\': [\\'Accessibility difficult to reach\\'], \\'increased efficiency\\': [nan], \\'faster recovery\\': [\\'One could send robots into the fire without danger to human lives, etc, to combat the cause more quickly.\\'], \\'weather independent\\': [\\'Even in storms etc., perhaps an option for critical tasks\\'], \\'safety for emergency personnel\\': [nan], \\'strength (power)\\': [\\'for example, for lifting debris parts\\'], \\'quick action\\': [nan], \\'no danger\\': [\\'For human rescue forces in action\\', \\'No human doctor etc. needs to enter the operating area and thus it is significantly safer and therefore protects human lives.\\'], \\'efficiency\\': [nan, \\'Robots could be more capable in disaster cases than human helpers.\\', nan, \\'Robots are not limited to human speed, vision, and perception in general.\\', nan, \\'both equally fast work, more productive way of working as well as improved access to danger zones\\', nan], \\'access to areas\\': [\\'Access to areas difficult or only reachable through considerable dangers for people\\'], \\'vital objects\\': [\\'Victims receive vitally important things, such as water, food, and medicine\\'], \\'rescue forces safety\\': [\\'Emergency services can avoid dangers if, for example, pictures of the location were taken by robots.\\'], \\'more/ easier access\\': [\\'Robots can create (easier) access to places where it would otherwise be more difficult.\\'], \\'reduce number of victims\\': [\\'Robots could make rescue operations more efficient and faster, potentially saving more victims.\\'], \\'no life endangered\\': [nan], \\'can save lives\\': [nan, nan], \\'not emotionally driven\\': [nan], \\'focused\\': [nan], \\'exclusion of human error\\': [nan], \\'flexible\\': [\\'The robot could operate in dangerous areas and is therefore not limited.\\', nan, nan, nan], \\'stronger than human\\': [\\'Specially equipped machines could help trapped victims quicker and more efficiently.\\'], \\'chances of success\\': [\\'A reliable and error-free rescue robot could therefore save people faster and more than a human.\\'], \\'accuracy of execution\\': [nan], \\'enter dangerous areas\\': [nan], \\'do not get distracted\\': [\\'Rescue robots follow their programming and can focus better on the rescue without being influenced by emotions.\\'], \\'speed / agility\\': [nan], \\'real-time data\\': [nan], \\'strength\\': [nan, \\'the robot can, for example, move objects that a human could not move\\'], \\'simplified access\\': [nan], \\'quick help\\': [nan, nan, nan], \\'risk-free rescue\\': [\\'From the side of the rescuers, who do not have to put themselves in danger\\'], \\'better CPR\\': [nan], \\'life-threatening places\\': [\\'The possibility of entering dangerous places that people do not dare to approach, such as wreck parts, battlefields, etc.\\', nan], \\'more reliable than humans\\': [nan], \\'reach dangerous places\\': [nan], \\'do not get tired\\': [nan, nan], \\'cannot die\\': [nan], \\'\"small\" operations\\': [\\'Especially good for smaller operations and possibly the transport\\'], \\'toxic environment\\': [nan], \\'safer for humans\\': [nan, nan], \\'dexterity\\': [\\'Often higher skill than human rescuers\\'], \\'responsiveness\\': [\\'Robots have a significantly higher reaction capability than human rescuers\\'], \\'Accuracy of rescue robots\\': [\\'this way human errors can be reduced\\'], \\'quality/precision\\': [nan], \\'quantity\\': [\\'more rescue operations or more people saved possible\\'], \\'fewer deaths\\': [nan], \\'faster operation\\': [nan], \\'accuracy\\': [nan, nan], \\'faster help\\': [\\'Since the risk to life is lower, rescue workers can send a robot before a complete analysis of the problem area is available.\\'], \\'stronger\\': [\\'Robots might potentially be able to move things that humans would have great difficulty with.\\'], \\'Not susceptible to infection\\': [\\'Robots are insensitive to infections.\\'], \\'24/7 readiness\\': [nan], \\'access to hard-to-reach places\\': [nan], \\'human safety\\': [nan], \\'useful addition\\': [\\'To human rescuers.\\'], \\'\"dare\" more\\': [\\'can also be used in war zones, only material loss through explosives\\'], \\'eyes and ears\\': [\\'for the rescue forces from a safe distance\\'], \\'less danger\\': [\\'for human rescue forces\\', nan, nan], \\'dangerous areas\\': [nan, nan], \\'endurance\\': [nan], \\'performance\\': [nan], \\'rescue and safety\\': [nan], \\'danger\\': [\\'less human danger\\'], \\'no rescuer endangered\\': [nan], \\'access\\': [\\'access to areas where people cannot reach\\'], \\'rational efficiency\\': [\\'No suicidal experiments in rescue\\'], \\'quick deployment\\': [nan, nan], \\'no exhaustion\\': [nan], \\'save many people\\': [nan], \\'Adaptability\\': [nan, nan], \\'continuous monitoring\\': [nan], \\'not tired\\': [nan], \\'more human rescue\\': [nan], \\'easier finding\\': [\\'Through their sensors like thermal imaging, the robots can better find people.\\'], \\'do not lose strength\\': [\\'Robots do not lose stamina while humans could lose strength during missions.\\'], \\'delivery of goods\\': [\\'Robots can, for example, deliver goods in war zones, which would be dangerous for humans.\\'], \\'faster abolition\\': [\\'Rescue robots could shorten the path to doctors/hospitals and the abolition of injured people.\\'], \\'safety risks\\': [nan], \\'can be replaced\\': [\\'Robots can be replaced by other robots in case of loss\\'], \\'better search capabilities\\': [\\'Robots can search better in the dark and in smoke etc because they have numerous sensors\\'], \\'for danger\\': [\\'can be used in times of danger instead of humans\\'], \\'efficient reconnaissance work\\': [\\'Through algorithms, maps can be read and created more quickly\\'], \\'rescue efficient and\\': [nan], \\'higher utilization\\': [\\'the robots can be used continuously\\'], \\'faster access\\': [\\'easier access to dangerous place\\'], \\'error reduction\\': [nan], \\'simplification of difficult situations\\': [\\'Many rescue situations prove difficult for people to reach or to intervene, automation can clearly help here.\\'], \\'accessibility of special regions\\': [nan], \\'risk reduction for aid workers\\': [\\'Should people go into difficult areas, for example for avalanche rescue, they put themselves in danger\\'], \\'fire department support\\': [nan], \\'risk\\': [\\'In dangerous environments or situations, there is of course much less risk for the people\\'], \\'dispensable\\': [\\'the loss of a robot is less tragic than the loss of a human rescuer\\'], \\'immune\\': [\\'a robot is immune to many dangers that would be deadly for humans such as smoke gases, chemicals, temperatures\\'], \\'protects people\\': [\\'No human risks necessary\\'], \\'surpasses human rescuers\\': [\\'Can be used in situations where people cannot reach\\'], \\'low risk\\': [nan], \\'safety for rescue workers\\': [nan], \\'access to dangerous area\\': [nan], \\'no performance drop\\': [nan], \\'follows instructions precisely\\': [nan], \\'earthquake rescue\\': [nan], \\'lifting heavy weights\\': [nan], \\'risk minimization\\': [\\'Approximately during search actions in risky areas\\'], \\'precision in search\\': [nan], \\'More flexible than human\\': [\\'People cannot access some areas or cannot see whether people are still alive. For example, in an earthquake incident under the rubble.\\'], \\'Faster than human\\': [\\'In an earthquake, for example, recently in Turkey, the help arrived too late and this led to more loss. Robots would be more flexible and could be used faster, rather than gathering all people together and rushing to help.\\'], \\'Stronger than human\\': [\\'As already mentioned, many people lost their lives in the earthquake in Turkey, and this was because human strength was not enough at a certain point. For example, the walls that fell on people could not be lifted, which is why arms and legs had to be cut off. If the robot was there, it could show more strength and lift the wall.\\'], \\'speed\\': [\\'the robot can probably save faster than a human\\'], \\'accessibility of contaminated places\\': [\\'Poisonous gases, smoke, radiation etc. play no role\\'], \\'can be stronger\\': [nan], \\'can work long\\': [nan], \\'are physically superior\\': [\\'Strength, agility, mobility\\'], \\'are mentally superior\\': [\\'No trauma for rescuers\\'], \\'use in dangerous areas\\': [nan], \\'use in inaccessibility\\': [nan], \\'accuracy of work\\': [nan], \\'does not risk human lives\\': [nan]}\\n\\nList \"soft\": \\n{\\'lower risk of injury\\': [nan, \\'through soft robots\\', nan, \\'due to their softness\\', \\'With soft robots\\', nan, \\'Lower risk of injury due to the adaptability of the robot\\', nan], \\'flexible\\': [nan, nan, nan], \\'low risk of injury\\': [nan, nan, nan, \\'Due to the fact that a soft robot is not made of metal, but rather soft, the risk is lower.\\', nan, \\'In comparison to hard plastic/metal\\', nan, \\'with soft robots\\', \\'helping hand\\'], \\'safety\\': [\\'Soft material reduces risk of injury\\'], \\'robots are more efficient\\': [nan], \\'knowledge\\': [\\'You get the information from the internet and can capture and assign the data faster than humans.\\', nan], \\'less risk of injury\\': [nan, nan, nan], \\'reduction of injury risk\\': [nan, nan, \"compared to \\'soft\\' rescue robots; valid for hard rescue robots\", nan, nan], \\'delivery of supplies\\': [nan], \\'precise work\\': [nan], \\'food/water transport\\': [nan], \\'animal protection\\': [\\'Using a soft robot instead of an animal protects the animal from potentially harmful behavior by the owner.\\'], \\'reach the inaccessible\\': [nan], \\'reduce risk of injury\\': [nan], \\'reliable\\': [\\'is always ready\\'], \\'direct help\\': [\\'through water/food\\'], \\'reduced risk of injury\\': [\\'through soft materials\\', \\'the victim due to the organic construction method\\', nan, nan], \\'time savings in emergencies\\': [nan], \\'care of victims\\': [nan], \\'exploration\\': [\\'Assess the safety of the dangerous area\\'], \\'supply with food\\': [nan, nan], \\'adaptability\\': [nan], \\'few physical risks\\': [\\'e.g. through injuries\\'], \\'accessible tight spaces\\': [\\'Due to their flexibility, they can access narrow spaces that are not accessible to people.\\'], \\'decision-making options\\': [\\'in theory, a robot should be able to make a logical decision better than a human because emotions etc. cannot cloud a decision\\'], \\'injury prevention\\': [nan], \\'more people saved\\': [nan], \\'low risks\\': [\\'Soft robots pose only a low risk to the victims due to their flexibility.\\'], \\'life-threatening places\\': [nan], \\'vital help\\': [nan], \\'more flexible than humans\\': [nan], \\'fast\\': [\\'faster than a human to distribute aid supplies.\\'], \\'Adaptability\\': [nan], \\'camera images\\': [\\'To perform an image analysis in retrospect\\'], \\'human error susceptibility\\': [nan], \\'medication supply\\': [nan], \\'inaccessible areas\\': [nan]}', additional_kwargs={}, response_metadata={})]\n"
     ]
    }
   ],
   "source": [
    "from langchain_core.prompts import ChatPromptTemplate\n",
    "\n",
    "\n",
    "system_template = \"\"\"\n",
    "You are a researcher summarizing two word lists that represent people's assessments of rigid and soft robots, whereby laypersons were informed about the risks and benefits of {robots} through scenario texts.\n",
    "\n",
    "Participants shared their views on traditional rigid robots in a \"rigid\" list and on flexible, electronic-free soft robots in a \"soft\" list after learning about their respective risks and benefits. \n",
    "The overall theme is {topicCategory}.\n",
    "\n",
    "Both \"rigid\" and \"soft\" lists are dictionaries with argument keys and comment values. If [nan] appears, it means no comment was provided; repeated entries or [nan] values indicate that the argument was emphasized multiple times.\n",
    "\n",
    "Your task:\n",
    "Summarize the main points for each category into a JSON object. Fill the two arrays within the JSON object, \"rigid_arguments\" for the \"rigid\" list and \"soft_arguments\" for the \"soft\" list. \n",
    "Summarize the main points for each category in a JSON object. Populate the two arrays, \"rigid_arguments\" and \"soft_arguments,\" with up to five key arguments each. \n",
    "Include a brief, interrelated explanation (up to two sentences) for each argument, derived from the provided lists.\n",
    "\n",
    "\n",
    "Output Format:\n",
    "\n",
    "{{\n",
    "  \"assessments\": {{\n",
    "    \"rigid_arguments\": [\n",
    "      {{\n",
    "        \"argument\": \"argument1\",\n",
    "        \"explanation\": \"explanation of argument1\"\n",
    "      }},\n",
    "      {{\n",
    "        \"argument\": \"argument2\",\n",
    "        \"explanation\": \"explanation of argument2\"\n",
    "      }},\n",
    "      ...\n",
    "    ],\n",
    "    \"soft_arguments\": [\n",
    "      {{\n",
    "        \"argument\": \"argument1\",\n",
    "        \"explanation\": \"explanation of argument1\"\n",
    "      }},\n",
    "      {{\n",
    "        \"argument\": \"argument2\",\n",
    "        \"explanation\": \"explanation of argument2\"\n",
    "      }},\n",
    "      ...\n",
    "    ]\n",
    "  }}\n",
    "}}\n",
    "\n",
    "Please respond with the entire JSON structure as specified, providing up to five arguments for each list, and without any additional commentary or context.\n",
    "\"\"\"\n",
    "\n",
    "\n",
    "user_template = \"\"\"List \"rigid\": \n",
    "{rigid}\n",
    "\n",
    "List \"soft\": \n",
    "{soft}\"\"\"\n",
    "\n",
    "# rescue robots and socially assistive robots\n",
    "prompt_template = ChatPromptTemplate.from_messages(\n",
    "    [(\"system\", system_template), (\"user\", user_template)]\n",
    ")\n",
    "\n",
    "template_out = prompt_template.invoke({\"robots\": \"rescue robots and socially assistive robots\", \"topicCategory\": abbreviations_dict[sheet_name], \"rigid\": constant_comments_mapping, \"soft\": new_comments_mapping})\n",
    "print(template_out)\n",
    "\n",
    "print(\"template_out:\", template_out)\n",
    "print(\"template_out.to_messages():\", template_out.to_messages())"
   ]
  },
  {
   "cell_type": "markdown",
   "metadata": {},
   "source": [
    "### Single Run\n",
    "\n",
    "Function to call LLM:"
   ]
  },
  {
   "cell_type": "code",
   "execution_count": 25,
   "metadata": {},
   "outputs": [],
   "source": [
    "from langchain_openai import ChatOpenAI\n",
    "from langchain.callbacks import get_openai_callback\n",
    "\n",
    "def huggingface_API_call(\n",
    "    prompt,\n",
    "    \n",
    "    robots,\n",
    "    topicCategory,\n",
    "    dictonaryRigid,\n",
    "    dictonarySoft,\n",
    "    \n",
    "    api_key=key.hugging_api_key,\n",
    "\n",
    "    model_name=\"meta-llama/Meta-Llama-3-70B-Instruct\",\n",
    "    json_schema=None,\n",
    "    max_tokens=1000,\n",
    "    temperature=0.2,\n",
    "    verbose=True\n",
    "):\n",
    "\n",
    "    # Initialize the ChatOpenAI model for Hugging Face\n",
    "    model = ChatOpenAI(\n",
    "        model=model_name,\n",
    "        openai_api_key=api_key,\n",
    "        openai_api_base=\"https://api-inference.huggingface.co/v1/\",\n",
    "        max_tokens=max_tokens,\n",
    "        temperature=temperature\n",
    "    )\n",
    "\n",
    "    # Check if structured output is required and configure it\n",
    "    if json_schema:\n",
    "        structured_llm = model.with_structured_output(json_schema, include_raw=True)\n",
    "        chain = prompt | structured_llm\n",
    "    else:\n",
    "        chain = prompt | model\n",
    "\n",
    "    # Execute the model and output response details\n",
    "    with get_openai_callback() as cb:\n",
    "        response = chain.invoke(\n",
    "            {\"robots\": robots, \"topicCategory\": topicCategory, \"rigid\": dictonaryRigid, \"soft\": dictonarySoft}\n",
    "        )\n",
    "        \n",
    "        if cb.total_tokens > max_tokens:\n",
    "            print(\"Warning: The response may be incomplete due to exceeding the maximum token limit.\")\n",
    "        \n",
    "        if verbose:\n",
    "            print(cb)\n",
    "            print(f\"Total Tokens: {cb.total_tokens}\")\n",
    "            print(f\"Prompt Tokens: {cb.prompt_tokens}\")\n",
    "            print(f\"Completion Tokens: {cb.completion_tokens}\")\n",
    "            print(f\"Total Cost (USD): ${cb.total_cost}\")\n",
    "\n",
    "    return response"
   ]
  },
  {
   "cell_type": "code",
   "execution_count": 26,
   "metadata": {},
   "outputs": [
    {
     "name": "stdout",
     "output_type": "stream",
     "text": [
      "Warning: The response may be incomplete due to exceeding the maximum token limit.\n",
      "Tokens Used: 4400\n",
      "\tPrompt Tokens: 3949\n",
      "\tCompletion Tokens: 451\n",
      "Successful Requests: 1\n",
      "Total Cost (USD): $0.0\n",
      "Total Tokens: 4400\n",
      "Prompt Tokens: 3949\n",
      "Completion Tokens: 451\n",
      "Total Cost (USD): $0.0\n"
     ]
    }
   ],
   "source": [
    "response = huggingface_API_call(\n",
    "    prompt=prompt_template,\n",
    "    \n",
    "    robots=\"rescue robots and socially assistive robots\",\n",
    "    topicCategory=abbreviations_dict[sheet_name],\n",
    "    dictonaryRigid=constant_comments_mapping,\n",
    "    dictonarySoft=new_comments_mapping,\n",
    "    \n",
    "    api_key=key.hugging_api_key,\n",
    "    model_name=\"meta-llama/Meta-Llama-3-70B-Instruct\",\n",
    "\n",
    "    json_schema=None,\n",
    "    max_tokens=4000,\n",
    "    temperature=0.2,\n",
    "    verbose=True\n",
    ")"
   ]
  },
  {
   "cell_type": "markdown",
   "metadata": {},
   "source": [
    "result - structured JSON output:"
   ]
  },
  {
   "cell_type": "code",
   "execution_count": 27,
   "metadata": {},
   "outputs": [
    {
     "data": {
      "text/plain": [
       "AIMessage(content='{\\n  \"assessments\": {\\n    \"rigid_arguments\": [\\n      {\\n        \"argument\": \"safety\",\\n        \"explanation\": \"Rigid robots can prevent people from having to work under difficult or dangerous conditions, increasing safety and reducing the risk of injury.\"\\n      },\\n      {\\n        \"argument\": \"efficiency\",\\n        \"explanation\": \"Rigid robots can work faster and more efficiently than humans, improving the speed and effectiveness of rescue operations.\"\\n      },\\n      {\\n        \"argument\": \"reliability\",\\n        \"explanation\": \"Rigid robots can be precisely controlled and are always ready to perform tasks, making them a reliable option for rescue operations.\"\\n      },\\n      {\\n        \"argument\": \"strength\",\\n        \"explanation\": \"Rigid robots can perform tasks that require great strength, such as lifting debris, and can operate in environments that would be toxic to humans.\"\\n      },\\n      {\\n        \"argument\": \"accessibility\",\\n        \"explanation\": \"Rigid robots can access areas that are difficult or impossible for humans to reach, making them ideal for search and rescue operations.\"\\n      }\\n    ],\\n    \"soft_arguments\": [\\n      {\\n        \"argument\": \"lower risk of injury\",\\n        \"explanation\": \"Soft robots pose a lower risk of injury to victims due to their soft and adaptable nature.\"\\n      },\\n      {\\n        \"argument\": \"flexibility\",\\n        \"explanation\": \"Soft robots are flexible and can access narrow spaces that are not accessible to people, making them ideal for search and rescue operations.\"\\n      },\\n      {\\n        \"argument\": \"reliability\",\\n        \"explanation\": \"Soft robots are reliable and can perform tasks efficiently, making them a valuable asset in emergency situations.\"\\n      },\\n      {\\n        \"argument\": \"adaptability\",\\n        \"explanation\": \"Soft robots can adapt to different situations and environments, making them suitable for a wide range of rescue operations.\"\\n      },\\n      {\\n        \"argument\": \"care of victims\",\\n        \"explanation\": \"Soft robots can provide direct help to victims, such as delivering food and water, and can care for them in a way that is not possible with rigid robots.\"\\n      }\\n    ]\\n  }\\n}', additional_kwargs={'refusal': None}, response_metadata={'token_usage': {'completion_tokens': 451, 'prompt_tokens': 3949, 'total_tokens': 4400, 'completion_tokens_details': None, 'prompt_tokens_details': None}, 'model_name': 'meta-llama/Meta-Llama-3-70B-Instruct', 'system_fingerprint': '2.3.1-dev0-sha-169178b', 'finish_reason': 'stop', 'logprobs': None}, id='run-0f6ebb4c-18bd-48b0-a99e-78507ab8906a-0', usage_metadata={'input_tokens': 3949, 'output_tokens': 451, 'total_tokens': 4400, 'input_token_details': {}, 'output_token_details': {}})"
      ]
     },
     "execution_count": 27,
     "metadata": {},
     "output_type": "execute_result"
    }
   ],
   "source": [
    "response"
   ]
  },
  {
   "cell_type": "code",
   "execution_count": 28,
   "metadata": {},
   "outputs": [
    {
     "data": {
      "text/plain": [
       "'{\\n  \"assessments\": {\\n    \"rigid_arguments\": [\\n      {\\n        \"argument\": \"safety\",\\n        \"explanation\": \"Rigid robots can prevent people from having to work under difficult or dangerous conditions, increasing safety and reducing the risk of injury.\"\\n      },\\n      {\\n        \"argument\": \"efficiency\",\\n        \"explanation\": \"Rigid robots can work faster and more efficiently than humans, improving the speed and effectiveness of rescue operations.\"\\n      },\\n      {\\n        \"argument\": \"reliability\",\\n        \"explanation\": \"Rigid robots can be precisely controlled and are always ready to perform tasks, making them a reliable option for rescue operations.\"\\n      },\\n      {\\n        \"argument\": \"strength\",\\n        \"explanation\": \"Rigid robots can perform tasks that require great strength, such as lifting debris, and can operate in environments that would be toxic to humans.\"\\n      },\\n      {\\n        \"argument\": \"accessibility\",\\n        \"explanation\": \"Rigid robots can access areas that are difficult or impossible for humans to reach, making them ideal for search and rescue operations.\"\\n      }\\n    ],\\n    \"soft_arguments\": [\\n      {\\n        \"argument\": \"lower risk of injury\",\\n        \"explanation\": \"Soft robots pose a lower risk of injury to victims due to their soft and adaptable nature.\"\\n      },\\n      {\\n        \"argument\": \"flexibility\",\\n        \"explanation\": \"Soft robots are flexible and can access narrow spaces that are not accessible to people, making them ideal for search and rescue operations.\"\\n      },\\n      {\\n        \"argument\": \"reliability\",\\n        \"explanation\": \"Soft robots are reliable and can perform tasks efficiently, making them a valuable asset in emergency situations.\"\\n      },\\n      {\\n        \"argument\": \"adaptability\",\\n        \"explanation\": \"Soft robots can adapt to different situations and environments, making them suitable for a wide range of rescue operations.\"\\n      },\\n      {\\n        \"argument\": \"care of victims\",\\n        \"explanation\": \"Soft robots can provide direct help to victims, such as delivering food and water, and can care for them in a way that is not possible with rigid robots.\"\\n      }\\n    ]\\n  }\\n}'"
      ]
     },
     "execution_count": 28,
     "metadata": {},
     "output_type": "execute_result"
    }
   ],
   "source": [
    "response.content"
   ]
  },
  {
   "cell_type": "code",
   "execution_count": 29,
   "metadata": {},
   "outputs": [],
   "source": [
    "import json\n",
    "import re\n",
    "\n",
    "try:\n",
    "    # Attempt to parse the response directly as JSON\n",
    "    data = json.loads(response.content)\n",
    "    # print(\"Valid JSON object:\", json.dumps(data, indent=2))\n",
    "except json.JSONDecodeError:\n",
    "    # If not valid JSON, handle extraction using regex to match JSON block between triple backticks (```)\n",
    "    json_match = re.search(r'```(.*?)```', response.content, re.DOTALL)\n",
    "    # If JSON block is found, parse it\n",
    "    if json_match:\n",
    "        json_text = json_match.group(1).strip()  # Extract JSON text and strip whitespace\n",
    "        try:\n",
    "            data = json.loads(json_text)   # Parse JSON\n",
    "            print(\"Valid JSON object after regex:\", json.dumps(data, indent=2))\n",
    "        except json.JSONDecodeError as e:\n",
    "            print(\"Failed to parse JSON:\", e)\n",
    "    else:\n",
    "        print(\"No JSON object found.\")"
   ]
  },
  {
   "cell_type": "code",
   "execution_count": 30,
   "metadata": {},
   "outputs": [
    {
     "name": "stdout",
     "output_type": "stream",
     "text": [
      "    type              argument  \\\n",
      "0  rigid                safety   \n",
      "1  rigid            efficiency   \n",
      "2  rigid           reliability   \n",
      "3  rigid              strength   \n",
      "4  rigid         accessibility   \n",
      "5   soft  lower risk of injury   \n",
      "6   soft           flexibility   \n",
      "7   soft           reliability   \n",
      "8   soft          adaptability   \n",
      "9   soft       care of victims   \n",
      "\n",
      "                                         explanation category  \n",
      "0  Rigid robots can prevent people from having to...       SA  \n",
      "1  Rigid robots can work faster and more efficien...       SA  \n",
      "2  Rigid robots can be precisely controlled and a...       SA  \n",
      "3  Rigid robots can perform tasks that require gr...       SA  \n",
      "4  Rigid robots can access areas that are difficu...       SA  \n",
      "5  Soft robots pose a lower risk of injury to vic...       SA  \n",
      "6  Soft robots are flexible and can access narrow...       SA  \n",
      "7  Soft robots are reliable and can perform tasks...       SA  \n",
      "8  Soft robots can adapt to different situations ...       SA  \n",
      "9  Soft robots can provide direct help to victims...       SA  \n"
     ]
    }
   ],
   "source": [
    "# Extract rigid and soft arguments and format them into a DataFrame\n",
    "arguments = []\n",
    "for category, items in data['assessments'].items():\n",
    "    for item in items:\n",
    "        arguments.append({\n",
    "            'type': category.split('_')[0],  # Extracts 'rigid' or 'soft' from 'rigid_arguments'/'soft_arguments'\n",
    "            'argument': item['argument'],\n",
    "            'explanation': item['explanation']\n",
    "        })\n",
    "\n",
    "# Create DataFrame\n",
    "df = pd.DataFrame(arguments)\n",
    "\n",
    "df[\"category\"] = sheet_name\n",
    "\n",
    "# Display the DataFrame\n",
    "print(df)"
   ]
  },
  {
   "cell_type": "markdown",
   "metadata": {},
   "source": [
    "### Multiple Runs\n",
    "\n",
    "Higher order function to call LLM for all categories:"
   ]
  },
  {
   "cell_type": "code",
   "execution_count": 31,
   "metadata": {},
   "outputs": [],
   "source": [
    "import json\n",
    "import pandas as pd\n",
    "import re\n",
    "\n",
    "def process_robot_data(type_robot):\n",
    "    # Define naming based on type_robot\n",
    "    if type_robot == \"RR\":\n",
    "        all_sheets = all_sheets_RR\n",
    "        naming_robots = \"rescue robots\"\n",
    "    elif type_robot == \"SAR\":\n",
    "        all_sheets = all_sheets_SAR\n",
    "        naming_robots = \"socially assistive robots\"\n",
    "    elif type_robot == \"Combined\":\n",
    "        all_sheets = all_sheets_Combined\n",
    "        naming_robots = \"rescue robots and socially assistive robots\"\n",
    "    else:\n",
    "        raise ValueError(\"Invalid type_robot specified.\")\n",
    "\n",
    "    # Initialize an empty DataFrame for concatenation\n",
    "    final_df = pd.DataFrame()\n",
    "\n",
    "    for index, category in enumerate(abbreviations_dict.keys()):\n",
    "        print(f\"index: {index}, category: {category}\")\n",
    "\n",
    "        # Load the specific DataFrame for the current category\n",
    "        df = all_sheets[category]\n",
    "\n",
    "        # Generate constant and new comments mappings\n",
    "        constant_comments_mapping = create_multivalue_dict(df, 'constant', 'constant_comments')\n",
    "        new_comments_mapping = create_multivalue_dict(df, 'new', 'new_comments')\n",
    "\n",
    "        # Call API with specified parameters\n",
    "        response = huggingface_API_call(\n",
    "            prompt=prompt_template,\n",
    "            robots=naming_robots,\n",
    "            topicCategory=abbreviations_dict[category],\n",
    "            dictonaryRigid=constant_comments_mapping,\n",
    "            dictonarySoft=new_comments_mapping,\n",
    "            api_key=key.hugging_api_key,\n",
    "            model_name=\"meta-llama/Meta-Llama-3-70B-Instruct\",\n",
    "            json_schema=None,\n",
    "            max_tokens=4200,\n",
    "            temperature=0.0,\n",
    "            verbose=False\n",
    "        )\n",
    "        \n",
    "        # print(\"response.content:\\n\", response.content)\n",
    "        #  data = json.loads(response.content)\n",
    "        # Regular expression to match JSON block between triple backticks (```)\n",
    "        try:\n",
    "            # Attempt to parse the response directly as JSON\n",
    "            data = json.loads(response.content)\n",
    "            # print(\"Valid JSON object:\", json.dumps(data, indent=2))\n",
    "        except json.JSONDecodeError:\n",
    "            # If not valid JSON, handle extraction using regex to match JSON block between triple backticks (```)\n",
    "            json_match = re.search(r'```(.*?)```', response.content, re.DOTALL)\n",
    "            # If JSON block is found, parse it\n",
    "            if json_match:\n",
    "                json_text = json_match.group(1).strip()  # Extract JSON text and strip whitespace\n",
    "                try:\n",
    "                    data = json.loads(json_text)   # Parse JSON\n",
    "                    # print(\"Valid JSON object after regex:\", json.dumps(data, indent=2))\n",
    "                except json.JSONDecodeError as e:\n",
    "                    print(\"Failed to parse JSON:\", e)\n",
    "                    # break # !!!\n",
    "            else:\n",
    "                print(\"No JSON object found.\")\n",
    "                # break # !!!\n",
    "\n",
    "        # Extract arguments and format them into a temporary DataFrame\n",
    "        arguments = []\n",
    "        for arg_category, items in data['assessments'].items():\n",
    "            for item in items:\n",
    "                arguments.append({\n",
    "                    'type': arg_category.split('_')[0],\n",
    "                    'argument': item['argument'],\n",
    "                    'explanation': item['explanation']\n",
    "                })\n",
    "\n",
    "        df_tmp = pd.DataFrame(arguments)\n",
    "        df_tmp[\"category\"] = category\n",
    "        \n",
    "        print(f\"length of df_tmp: {len(df_tmp)}\")\n",
    "\n",
    "        # Concatenate the current DataFrame to the final DataFrame\n",
    "        final_df = pd.concat([final_df, df_tmp], ignore_index=True)\n",
    "\n",
    "    return final_df"
   ]
  },
  {
   "cell_type": "markdown",
   "metadata": {},
   "source": [
    "logic if process_robot_data() should be run:"
   ]
  },
  {
   "cell_type": "code",
   "execution_count": 32,
   "metadata": {},
   "outputs": [],
   "source": [
    "run_process_robot_data = False # True"
   ]
  },
  {
   "cell_type": "markdown",
   "metadata": {},
   "source": [
    "for rescue robots:"
   ]
  },
  {
   "cell_type": "code",
   "execution_count": 33,
   "metadata": {},
   "outputs": [],
   "source": [
    "# Path to your Excel file\n",
    "file_path = directory + \"/output/G2/\" + \"rescue robots\" + \".xlsx\"\n",
    "\n",
    "if run_process_robot_data:\n",
    "    df_RR = process_robot_data(type_robot=\"RR\")\n",
    "    # save the dataframe to an Excel file\n",
    "    df_RR.to_excel(file_path, index=False)\n",
    "else:\n",
    "    df_RR = pd.read_excel(file_path)"
   ]
  },
  {
   "cell_type": "markdown",
   "metadata": {},
   "source": [
    "for socially assistive robots:"
   ]
  },
  {
   "cell_type": "code",
   "execution_count": 34,
   "metadata": {},
   "outputs": [],
   "source": [
    "# Path to your Excel file\n",
    "file_path = directory + \"/output/G2/\" + \"socially assistive robots\" + \".xlsx\"\n",
    "    \n",
    "if run_process_robot_data:\n",
    "    df_SAR = process_robot_data(type_robot=\"SAR\")\n",
    "    # save the dataframe to an Excel file\n",
    "    df_SAR.to_excel(file_path, index=False)\n",
    "else:\n",
    "    df_SAR = pd.read_excel(file_path)"
   ]
  },
  {
   "cell_type": "markdown",
   "metadata": {},
   "source": [
    "for rescue robots and socially assistive robots:"
   ]
  },
  {
   "cell_type": "code",
   "execution_count": 35,
   "metadata": {},
   "outputs": [],
   "source": [
    "# Path to your Excel file\n",
    "file_path = directory + \"/output/G2/\" + \"rescue robots AND socially assistive robots\" + \".xlsx\"\n",
    "\n",
    "if run_process_robot_data:\n",
    "    df_Combined = process_robot_data(type_robot=\"Combined\")\n",
    "    # save the dataframe to an Excel file\n",
    "    df_Combined.to_excel(file_path, index=False)\n",
    "else:\n",
    "    df_Combined = pd.read_excel(file_path)"
   ]
  },
  {
   "cell_type": "markdown",
   "metadata": {},
   "source": [
    "### Summarize Generated Data for A, B graph (G2)"
   ]
  },
  {
   "cell_type": "code",
   "execution_count": 36,
   "metadata": {},
   "outputs": [],
   "source": [
    "tmp_rigid = df_RR[(df_RR[\"category\"] == \"TP\") & (df_RR[\"type\"] == \"rigid\")]\n",
    "tmp_soft = df_RR[(df_RR[\"category\"] == \"TP\") & (df_RR[\"type\"] == \"soft\")]\n",
    "\n",
    "tmp_string_rigid = 'Arguments for \"rigid\" robots:'\n",
    "for index, row in tmp_rigid.iterrows():\n",
    "    tmp_string_rigid += \" \\n \" + row[\"argument\"]\n",
    "    tmp_string_rigid += \": \" + row[\"explanation\"]\n",
    "    \n",
    "tmp_string_soft = 'Arguments for \"soft\" robots:'\n",
    "for index, row in tmp_soft.iterrows():\n",
    "    tmp_string_soft += \" \\n \" + row[\"argument\"]\n",
    "    tmp_string_soft += \": \" + row[\"explanation\"]"
   ]
  },
  {
   "cell_type": "code",
   "execution_count": 37,
   "metadata": {},
   "outputs": [
    {
     "data": {
      "text/plain": [
       "'Arguments for \"rigid\" robots: \\n new places: Rigid robots can search in places where people cannot reach, such as underwater caves or narrow openings. \\n resilience: Rigid robots can withstand adverse conditions, making them more effective in disaster areas. \\n special abilities: Rigid robots can perform special tasks like flying, hacking doors, or sending images to the control center with cameras. \\n environment-independent: Rigid robots can operate in various environments, including air, water, and ground, and can withstand toxic or narrow environments. \\n more power: Rigid robots can have more strength than humans, allowing them to perform tasks that require heavy lifting or drilling.'"
      ]
     },
     "execution_count": 37,
     "metadata": {},
     "output_type": "execute_result"
    }
   ],
   "source": [
    "tmp_string_rigid"
   ]
  },
  {
   "cell_type": "code",
   "execution_count": 38,
   "metadata": {},
   "outputs": [
    {
     "data": {
      "text/plain": [
       "'Arguments for \"soft\" robots: \\n deliver supplies: Soft robots can deliver essential goods like food, water, and medicine to victims in hard-to-reach areas. \\n accessible: Soft robots can reach inaccessible places due to their small size and high flexibility, allowing them to supply victims with vital resources. \\n care for victims: Soft robots can provide care for victims during the rescue operation, such as delivering food and medicine. \\n adaptability: Soft robots can adapt to complex problems and changing situations, making them effective in disaster areas. \\n temporary supply: Soft robots can provide temporary supply of vital resources to victims until human rescuers arrive.'"
      ]
     },
     "execution_count": 38,
     "metadata": {},
     "output_type": "execute_result"
    }
   ],
   "source": [
    "tmp_string_soft"
   ]
  },
  {
   "cell_type": "markdown",
   "metadata": {},
   "source": [
    "Prompt to get summary (focus on overlapping, diverging arguments) for A, B graph regarding single categories:"
   ]
  },
  {
   "cell_type": "code",
   "execution_count": 39,
   "metadata": {},
   "outputs": [
    {
     "name": "stdout",
     "output_type": "stream",
     "text": [
      "messages=[SystemMessage(content='\\nYou are a researcher summarizing central arguments and their explenations of people\\'s assessments of rigid and soft robots, \\nwhereby laypersons were informed about the risks and benefits of rescue robots through scenario texts.\\n\\nParticipants shared their central arguments and explenations on traditional rigid robots in arguments for \"rigid\" robots \\nand on flexible, electronic-free soft robots in arguments for \"soft\" robots.\\n\\nThe overall theme of these arguments is perceived technological possibilities.\\n\\nYour task:\\n\\nWrite a paragraph highlighting the commonalities of the arguments for rigid and soft robots followed by a brief discussion of the main differences, \\nfocusing stronger on the arguments for soft robots. \\n\\nThe paragraph should be limited to four sentences. Provide only the paragraph without any additional commentary or context.\\n', additional_kwargs={}, response_metadata={}), HumanMessage(content='arguments for \"rigid\" robots: \\nArguments for \"rigid\" robots: \\n new places: Rigid robots can search in places where people cannot reach, such as underwater caves or narrow openings. \\n resilience: Rigid robots can withstand adverse conditions, making them more effective in disaster areas. \\n special abilities: Rigid robots can perform special tasks like flying, hacking doors, or sending images to the control center with cameras. \\n environment-independent: Rigid robots can operate in various environments, including air, water, and ground, and can withstand toxic or narrow environments. \\n more power: Rigid robots can have more strength than humans, allowing them to perform tasks that require heavy lifting or drilling.\\n\\narguments for \"soft\" robots: \\nArguments for \"soft\" robots: \\n deliver supplies: Soft robots can deliver essential goods like food, water, and medicine to victims in hard-to-reach areas. \\n accessible: Soft robots can reach inaccessible places due to their small size and high flexibility, allowing them to supply victims with vital resources. \\n care for victims: Soft robots can provide care for victims during the rescue operation, such as delivering food and medicine. \\n adaptability: Soft robots can adapt to complex problems and changing situations, making them effective in disaster areas. \\n temporary supply: Soft robots can provide temporary supply of vital resources to victims until human rescuers arrive.', additional_kwargs={}, response_metadata={})]\n",
      "template_out: messages=[SystemMessage(content='\\nYou are a researcher summarizing central arguments and their explenations of people\\'s assessments of rigid and soft robots, \\nwhereby laypersons were informed about the risks and benefits of rescue robots through scenario texts.\\n\\nParticipants shared their central arguments and explenations on traditional rigid robots in arguments for \"rigid\" robots \\nand on flexible, electronic-free soft robots in arguments for \"soft\" robots.\\n\\nThe overall theme of these arguments is perceived technological possibilities.\\n\\nYour task:\\n\\nWrite a paragraph highlighting the commonalities of the arguments for rigid and soft robots followed by a brief discussion of the main differences, \\nfocusing stronger on the arguments for soft robots. \\n\\nThe paragraph should be limited to four sentences. Provide only the paragraph without any additional commentary or context.\\n', additional_kwargs={}, response_metadata={}), HumanMessage(content='arguments for \"rigid\" robots: \\nArguments for \"rigid\" robots: \\n new places: Rigid robots can search in places where people cannot reach, such as underwater caves or narrow openings. \\n resilience: Rigid robots can withstand adverse conditions, making them more effective in disaster areas. \\n special abilities: Rigid robots can perform special tasks like flying, hacking doors, or sending images to the control center with cameras. \\n environment-independent: Rigid robots can operate in various environments, including air, water, and ground, and can withstand toxic or narrow environments. \\n more power: Rigid robots can have more strength than humans, allowing them to perform tasks that require heavy lifting or drilling.\\n\\narguments for \"soft\" robots: \\nArguments for \"soft\" robots: \\n deliver supplies: Soft robots can deliver essential goods like food, water, and medicine to victims in hard-to-reach areas. \\n accessible: Soft robots can reach inaccessible places due to their small size and high flexibility, allowing them to supply victims with vital resources. \\n care for victims: Soft robots can provide care for victims during the rescue operation, such as delivering food and medicine. \\n adaptability: Soft robots can adapt to complex problems and changing situations, making them effective in disaster areas. \\n temporary supply: Soft robots can provide temporary supply of vital resources to victims until human rescuers arrive.', additional_kwargs={}, response_metadata={})]\n",
      "template_out.to_messages(): [SystemMessage(content='\\nYou are a researcher summarizing central arguments and their explenations of people\\'s assessments of rigid and soft robots, \\nwhereby laypersons were informed about the risks and benefits of rescue robots through scenario texts.\\n\\nParticipants shared their central arguments and explenations on traditional rigid robots in arguments for \"rigid\" robots \\nand on flexible, electronic-free soft robots in arguments for \"soft\" robots.\\n\\nThe overall theme of these arguments is perceived technological possibilities.\\n\\nYour task:\\n\\nWrite a paragraph highlighting the commonalities of the arguments for rigid and soft robots followed by a brief discussion of the main differences, \\nfocusing stronger on the arguments for soft robots. \\n\\nThe paragraph should be limited to four sentences. Provide only the paragraph without any additional commentary or context.\\n', additional_kwargs={}, response_metadata={}), HumanMessage(content='arguments for \"rigid\" robots: \\nArguments for \"rigid\" robots: \\n new places: Rigid robots can search in places where people cannot reach, such as underwater caves or narrow openings. \\n resilience: Rigid robots can withstand adverse conditions, making them more effective in disaster areas. \\n special abilities: Rigid robots can perform special tasks like flying, hacking doors, or sending images to the control center with cameras. \\n environment-independent: Rigid robots can operate in various environments, including air, water, and ground, and can withstand toxic or narrow environments. \\n more power: Rigid robots can have more strength than humans, allowing them to perform tasks that require heavy lifting or drilling.\\n\\narguments for \"soft\" robots: \\nArguments for \"soft\" robots: \\n deliver supplies: Soft robots can deliver essential goods like food, water, and medicine to victims in hard-to-reach areas. \\n accessible: Soft robots can reach inaccessible places due to their small size and high flexibility, allowing them to supply victims with vital resources. \\n care for victims: Soft robots can provide care for victims during the rescue operation, such as delivering food and medicine. \\n adaptability: Soft robots can adapt to complex problems and changing situations, making them effective in disaster areas. \\n temporary supply: Soft robots can provide temporary supply of vital resources to victims until human rescuers arrive.', additional_kwargs={}, response_metadata={})]\n"
     ]
    }
   ],
   "source": [
    "from langchain_core.prompts import ChatPromptTemplate\n",
    "\n",
    "\n",
    "system_template = \"\"\"\n",
    "You are a researcher summarizing central arguments and their explenations of people's assessments of rigid and soft robots, \n",
    "whereby laypersons were informed about the risks and benefits of {robots} through scenario texts.\n",
    "\n",
    "Participants shared their central arguments and explenations on traditional rigid robots in arguments for \"rigid\" robots \n",
    "and on flexible, electronic-free soft robots in arguments for \"soft\" robots.\n",
    "\n",
    "The overall theme of these arguments is {topicCategory}.\n",
    "\n",
    "Your task:\n",
    "\n",
    "Write a paragraph highlighting the commonalities of the arguments for rigid and soft robots followed by a brief discussion of the main differences, \n",
    "focusing stronger on the arguments for soft robots. \n",
    "\n",
    "The paragraph should be limited to four sentences. Provide only the paragraph without any additional commentary or context.\n",
    "\"\"\"\n",
    "\n",
    "\n",
    "user_template = \"\"\"arguments for \"rigid\" robots: \n",
    "{rigid}\n",
    "\n",
    "arguments for \"soft\" robots: \n",
    "{soft}\"\"\"\n",
    "\n",
    "# rescue robots and socially assistive robots\n",
    "prompt_template = ChatPromptTemplate.from_messages(\n",
    "    [(\"system\", system_template), (\"user\", user_template)]\n",
    ")\n",
    "\n",
    "template_out = prompt_template.invoke({\"robots\": \"rescue robots\", \"topicCategory\": abbreviations_dict[\"TP\"], \"rigid\": tmp_string_rigid, \"soft\": tmp_string_soft})\n",
    "print(template_out)\n",
    "\n",
    "print(\"template_out:\", template_out)\n",
    "print(\"template_out.to_messages():\", template_out.to_messages())"
   ]
  },
  {
   "cell_type": "markdown",
   "metadata": {},
   "source": [
    "#### Single Run\n",
    "\n",
    "Function to call LLM:"
   ]
  },
  {
   "cell_type": "code",
   "execution_count": 40,
   "metadata": {},
   "outputs": [
    {
     "name": "stdout",
     "output_type": "stream",
     "text": [
      "Tokens Used: 553\n",
      "\tPrompt Tokens: 444\n",
      "\tCompletion Tokens: 109\n",
      "Successful Requests: 1\n",
      "Total Cost (USD): $0.0\n",
      "Total Tokens: 553\n",
      "Prompt Tokens: 444\n",
      "Completion Tokens: 109\n",
      "Total Cost (USD): $0.0\n"
     ]
    }
   ],
   "source": [
    "response = huggingface_API_call(\n",
    "    prompt=prompt_template,\n",
    "    \n",
    "    robots=\"rescue robots\",\n",
    "    topicCategory=abbreviations_dict[\"TP\"],\n",
    "    dictonaryRigid=tmp_string_rigid,\n",
    "    dictonarySoft=tmp_string_soft,\n",
    "    \n",
    "    api_key=key.hugging_api_key,\n",
    "    model_name=\"meta-llama/Meta-Llama-3-70B-Instruct\",\n",
    "\n",
    "    json_schema=None,\n",
    "    max_tokens=4000,\n",
    "    temperature=0.2,\n",
    "    verbose=True\n",
    ")"
   ]
  },
  {
   "cell_type": "code",
   "execution_count": 41,
   "metadata": {},
   "outputs": [
    {
     "data": {
      "text/plain": [
       "AIMessage(content='The arguments for both rigid and soft robots highlight their potential to access and operate in challenging environments, emphasizing their ability to reach and assist victims in hard-to-reach areas. Both types of robots are seen as capable of performing tasks that humans cannot, whether due to environmental constraints or physical limitations. However, the arguments for soft robots place a stronger emphasis on their ability to provide care and deliver essential supplies to victims, suggesting a more humanitarian focus. In contrast, the arguments for rigid robots focus more on their technical capabilities and resilience in adverse conditions.', additional_kwargs={'refusal': None}, response_metadata={'token_usage': {'completion_tokens': 109, 'prompt_tokens': 444, 'total_tokens': 553, 'completion_tokens_details': None, 'prompt_tokens_details': None}, 'model_name': 'meta-llama/Meta-Llama-3-70B-Instruct', 'system_fingerprint': '2.3.1-dev0-sha-169178b', 'finish_reason': 'stop', 'logprobs': None}, id='run-8549da29-f228-4faa-bbcf-59e037f07356-0', usage_metadata={'input_tokens': 444, 'output_tokens': 109, 'total_tokens': 553, 'input_token_details': {}, 'output_token_details': {}})"
      ]
     },
     "execution_count": 41,
     "metadata": {},
     "output_type": "execute_result"
    }
   ],
   "source": [
    "response"
   ]
  },
  {
   "cell_type": "code",
   "execution_count": 42,
   "metadata": {},
   "outputs": [
    {
     "data": {
      "text/plain": [
       "'The arguments for both rigid and soft robots highlight their potential to access and operate in challenging environments, emphasizing their ability to reach and assist victims in hard-to-reach areas. Both types of robots are seen as capable of performing tasks that humans cannot, whether due to environmental constraints or physical limitations. However, the arguments for soft robots place a stronger emphasis on their ability to provide care and deliver essential supplies to victims, suggesting a more humanitarian focus. In contrast, the arguments for rigid robots focus more on their technical capabilities and resilience in adverse conditions.'"
      ]
     },
     "execution_count": 42,
     "metadata": {},
     "output_type": "execute_result"
    }
   ],
   "source": [
    "response.content"
   ]
  },
  {
   "cell_type": "markdown",
   "metadata": {},
   "source": [
    "### Multiple Runs\n",
    "\n",
    "Higher order function to call LLM for all categories:"
   ]
  },
  {
   "cell_type": "code",
   "execution_count": 43,
   "metadata": {},
   "outputs": [],
   "source": [
    "import pandas as pd\n",
    "\n",
    "def summarize_processed_robot_data(type_robot):\n",
    "    # Define naming based on type_robot\n",
    "    if type_robot == \"RR\":\n",
    "        tmp_df = df_RR\n",
    "        naming_robots = \"rescue robots\"\n",
    "    elif type_robot == \"SAR\":\n",
    "        tmp_df = df_SAR\n",
    "        naming_robots = \"socially assistive robots\"\n",
    "    elif type_robot == \"Combined\":\n",
    "        tmp_df = df_Combined\n",
    "        naming_robots = \"rescue robots and socially assistive robots\"\n",
    "    else:\n",
    "        raise ValueError(\"Invalid type_robot specified.\")\n",
    "\n",
    "\n",
    "    # Initialize an empty DataFrame for concatenation\n",
    "    data_array = []\n",
    "    \n",
    "    for index, category in enumerate(abbreviations_dict.keys()):\n",
    "        print(f\"index: {index}, category: {category}\")\n",
    "\n",
    "        # Load the specific DataFrame for the current category\n",
    "        tmp_rigid = tmp_df[(tmp_df[\"category\"] == category) & (tmp_df[\"type\"] == \"rigid\")]\n",
    "        tmp_soft = tmp_df[(tmp_df[\"category\"] == category) & (tmp_df[\"type\"] == \"soft\")]\n",
    "        \n",
    "        tmp_string_rigid = 'Arguments for \"rigid\" robots:'\n",
    "        for index, row in tmp_rigid.iterrows():\n",
    "            tmp_string_rigid += \" \\n \" + row[\"argument\"]\n",
    "            tmp_string_rigid += \": \" + row[\"explanation\"]\n",
    "\n",
    "        tmp_string_soft = 'Arguments for \"soft\" robots:'\n",
    "        for index, row in tmp_soft.iterrows():\n",
    "            tmp_string_soft += \" \\n \" + row[\"argument\"]\n",
    "            tmp_string_soft += \": \" + row[\"explanation\"]\n",
    "        \n",
    "        \n",
    "        # Call API with specified parameters\n",
    "        response = huggingface_API_call(\n",
    "            prompt=prompt_template,\n",
    "            \n",
    "            robots=naming_robots,\n",
    "            topicCategory=abbreviations_dict[category],\n",
    "            dictonaryRigid=tmp_string_rigid,\n",
    "            dictonarySoft=tmp_string_soft,\n",
    "            \n",
    "            api_key=key.hugging_api_key,\n",
    "            model_name=\"meta-llama/Meta-Llama-3-70B-Instruct\",\n",
    "\n",
    "            json_schema=None,\n",
    "            max_tokens=4200,\n",
    "            temperature=0.0,\n",
    "            verbose=False\n",
    "        )\n",
    "        \n",
    "        data_array.append({'category': category, 'summary':response.content})\n",
    "\n",
    "    final_df = pd.DataFrame(data_array)\n",
    "    return final_df"
   ]
  },
  {
   "cell_type": "code",
   "execution_count": 44,
   "metadata": {},
   "outputs": [],
   "source": [
    "run_summary_processed_robot_data = False # True"
   ]
  },
  {
   "cell_type": "markdown",
   "metadata": {},
   "source": [
    "for rescue robots - summary:"
   ]
  },
  {
   "cell_type": "code",
   "execution_count": 45,
   "metadata": {},
   "outputs": [],
   "source": [
    "# Path to your Excel file\n",
    "file_path = directory + \"/output/G2/\" + \"rescue robots summary\" + \".xlsx\"\n",
    "\n",
    "if run_summary_processed_robot_data:\n",
    "    df_RR_summary = summarize_processed_robot_data(type_robot=\"RR\")\n",
    "    # save the dataframe to an Excel file\n",
    "    df_RR_summary.to_excel(file_path, index=False)\n",
    "else:\n",
    "    df_RR_summary = pd.read_excel(file_path)"
   ]
  },
  {
   "cell_type": "markdown",
   "metadata": {},
   "source": [
    "for socially assistive robots - summary:"
   ]
  },
  {
   "cell_type": "code",
   "execution_count": 46,
   "metadata": {},
   "outputs": [],
   "source": [
    "# Path to your Excel file\n",
    "file_path = directory + \"/output/G2/\" + \"socially assistive robots summary\" + \".xlsx\"\n",
    "    \n",
    "if run_summary_processed_robot_data:\n",
    "    df_SAR_summary = summarize_processed_robot_data(type_robot=\"SAR\")\n",
    "    # save the dataframe to an Excel file\n",
    "    df_SAR_summary.to_excel(file_path, index=False)\n",
    "else:\n",
    "    df_SAR_summary = pd.read_excel(file_path)"
   ]
  },
  {
   "cell_type": "markdown",
   "metadata": {},
   "source": [
    "## Data for Category Specific Graph (G3)\n",
    "\n",
    "All the loaded files are originally from the following GitHub page: https://github.com/PerttuHamalainen/LLMCode"
   ]
  },
  {
   "cell_type": "code",
   "execution_count": 47,
   "metadata": {},
   "outputs": [],
   "source": [
    "import os\n",
    "import sys\n",
    "\n",
    "# Assuming 'src' is one level down (in the current directory or a subdirectory)\n",
    "path_to_src = os.path.join('src/LLMCode')  # Moves one level down to 'src' folder\n",
    "\n",
    "# Add the path to sys.path\n",
    "sys.path.append(path_to_src)\n",
    "\n",
    "# Now you can import your modules\n",
    "#import llms as LLMCode_LLMS\n",
    "#import coding as LLMCode_coding\n",
    "\n",
    "import src.LLMCode as LLMCode"
   ]
  },
  {
   "cell_type": "markdown",
   "metadata": {},
   "source": [
    "load openAI key into environment:"
   ]
  },
  {
   "cell_type": "code",
   "execution_count": 48,
   "metadata": {},
   "outputs": [],
   "source": [
    "import os\n",
    "\n",
    "os.environ[\"OPENAI_API_KEY\"] = key.openAI_key"
   ]
  },
  {
   "cell_type": "markdown",
   "metadata": {},
   "source": [
    "initalize LLM:"
   ]
  },
  {
   "cell_type": "code",
   "execution_count": 49,
   "metadata": {},
   "outputs": [],
   "source": [
    "LLMCode.init(API=\"OpenAI\")"
   ]
  },
  {
   "cell_type": "markdown",
   "metadata": {},
   "source": [
    "## Single Run\n",
    "\n",
    "### prepare data"
   ]
  },
  {
   "cell_type": "code",
   "execution_count": 50,
   "metadata": {},
   "outputs": [
    {
     "name": "stdout",
     "output_type": "stream",
     "text": [
      "sheet_name: SA\n",
      "mapping constant x comments: {'safety': ['Prevents people from having to work under difficult or dangerous conditions to increase safety.', 'Enables deployment in difficult situations where human rescuers would put themselves in danger', nan, nan, nan, 'through reliability', 'No people are being put in danger'], 'remote control': ['Can be operated by experts via remote control or autonomous systems to perform operations from a safe distance.', nan, nan, nan, nan, 'Minimizes risks associated with autonomy'], 'speed and efficiency': ['Robots can often act faster than humans and increase the speed of emergency interventions', 'Improvement of speed and efficiency of rescue operations', nan], 'safe': ['People do not have to put themselves in dangerous situations'], 'reliable': ['Can be precisely controlled', nan, nan, nan, nan], 'no people necessary': [nan], 'stronger than humans': [nan, 'In many situations, e.g. when clearing rubble, a great advantage.', nan, nan], 'faster than humans': [nan, nan], 'precise handling': [nan], 'reliability': [nan, 'Machines can accomplish their tasks reliably and reproducibly (provided they are well programmed and built)', nan, nan, nan], 'protection of rescue forces': ['for example in contamination scenarios', 'Reduced deployment of human rescue forces in dangerous situations', nan, 'human rescuers do not have to put themselves in danger'], 'in danger zones': [nan], 'toxic places': ['Places where people can only breathe with special equipment (gas mask)'], 'no distraction': [nan], 'by injuries': [nan], 'consistent': [nan], 'consistent performance': [nan], 'more strong': [nan], 'without basic need': ['Water, sleep, food etc.'], 'faster intervention': [nan], 'area of application': ['Can be used in areas too dangerous for humans', 'Can be used in areas that are too dangerous for humans.'], 'reaching hard-to-access places': ['Robots and drones are small and agile. Therefore, they can reach places that are difficult or even dangerous for humans to reach.'], 'discover dangerous areas': [nan], 'quick processing': [nan], 'care of people': [nan], 'perform operations': ['disease'], 'enter dangerous situation': [nan], 'less risk': [nan, 'Specifically less risk to further human lives, as rescue teams can use robots'], 'efficiency in search': [nan], 'no fatigue': [nan, 'Unlike human rescuers, robots do not tire even during long operations'], 'cover dangerous areas': ['even where it is dangerous for humans, a robot can go there'], 'precision & accuracy': [nan], 'use in dangerous situations': ['Rescue robots can be used in dangerous situations where humans are exposed to too high a risk.'], 'can act quickly': ['Robots can intervene quickly, as they do not need to be dressed or prepared and are autonomous', 'The robots can act faster than a human in an emergency.'], 'No exhaustion': [nan], 'Range': ['Robots, again just the drone can rescue victims faster in difficult terrain or bring help, e.g. medicine, food'], 'accessibility of inaccessible places': [nan], 'improved approach': [nan], 'precise work': [nan], 'rescue of people': [nan], 'deployment possibility': ['Also possible under dangerous conditions'], 'replaceable': ['In case of loss, no human sacrifice', 'During operations, unlike human rescuers, there is no need to pay attention to the safety of the robots, as they can be easily replaced.'], 'unrestricted access': ['Robots can operate in environments that would be toxic to humans, e.g. areas contaminated with radiation.'], 'sparing human life': ['If robots are used instead of human rescuers, the lives and health of the rescuers do not have to be put at risk.'], 'reduced risk': ['By using robots, no human forces are exposed to dangerous situations'], 'precision': [nan], 'more targeted help': [nan], 'saves lives': ['For example, when human helpers are not available, a rescue robot can still save human lives.', 'send a robot into a danger zone instead of a human', nan], 'protects aid workers': ['Since employees are not unnecessarily exposed to dangers, strictly speaking, this also saves their lives.'], 'fewer mistakes': [nan], 'overall more productive': [nan], 'greater accuracy': [nan], 'usable in emergencies': ['To inspect debris more accurately'], 'protection of rescue personnel': [nan], 'accessibility of places': ['Accessibility difficult to reach'], 'increased efficiency': [nan], 'faster recovery': ['One could send robots into the fire without danger to human lives, etc, to combat the cause more quickly.'], 'weather independent': ['Even in storms etc., perhaps an option for critical tasks'], 'safety for emergency personnel': [nan], 'strength (power)': ['for example, for lifting debris parts'], 'quick action': [nan], 'no danger': ['For human rescue forces in action', 'No human doctor etc. needs to enter the operating area and thus it is significantly safer and therefore protects human lives.'], 'efficiency': [nan, 'Robots could be more capable in disaster cases than human helpers.', nan, 'Robots are not limited to human speed, vision, and perception in general.', nan, 'both equally fast work, more productive way of working as well as improved access to danger zones', nan], 'access to areas': ['Access to areas difficult or only reachable through considerable dangers for people'], 'vital objects': ['Victims receive vitally important things, such as water, food, and medicine'], 'rescue forces safety': ['Emergency services can avoid dangers if, for example, pictures of the location were taken by robots.'], 'more/ easier access': ['Robots can create (easier) access to places where it would otherwise be more difficult.'], 'reduce number of victims': ['Robots could make rescue operations more efficient and faster, potentially saving more victims.'], 'no life endangered': [nan], 'can save lives': [nan, nan], 'not emotionally driven': [nan], 'focused': [nan], 'exclusion of human error': [nan], 'flexible': ['The robot could operate in dangerous areas and is therefore not limited.'], 'stronger than human': ['Specially equipped machines could help trapped victims quicker and more efficiently.'], 'chances of success': ['A reliable and error-free rescue robot could therefore save people faster and more than a human.'], 'accuracy of execution': [nan], 'enter dangerous areas': [nan], 'do not get distracted': ['Rescue robots follow their programming and can focus better on the rescue without being influenced by emotions.'], 'speed / agility': [nan], 'real-time data': [nan], 'strength': [nan, 'the robot can, for example, move objects that a human could not move'], 'simplified access': [nan], 'quick help': [nan, nan, nan], 'risk-free rescue': ['From the side of the rescuers, who do not have to put themselves in danger'], 'better CPR': [nan], 'life-threatening places': ['The possibility of entering dangerous places that people do not dare to approach, such as wreck parts, battlefields, etc.'], 'efficient': [nan, nan, nan], 'reach dangerous places': [nan], 'do not get tired': [nan, nan], 'cannot die': [nan], '\"small\" operations': ['Especially good for smaller operations and possibly the transport'], 'toxic environment': [nan], 'safer for humans': [nan, nan], 'dexterity': ['Often higher skill than human rescuers'], 'responsiveness': ['Robots have a significantly higher reaction capability than human rescuers'], 'Accuracy of rescue robots': ['this way human errors can be reduced'], 'quality/precision': [nan], 'quantity': ['more rescue operations or more people saved possible'], 'fewer deaths': [nan], 'faster operation': [nan], 'accuracy': [nan, nan], 'faster help': ['Since the risk to life is lower, rescue workers can send a robot before a complete analysis of the problem area is available.'], 'stronger': ['Robots might potentially be able to move things that humans would have great difficulty with.'], '24/7 readiness': [nan], 'access to hard-to-reach places': [nan], 'human safety': [nan], 'useful addition': ['To human rescuers.'], '\"dare\" more': ['can also be used in war zones, only material loss through explosives'], 'eyes and ears': ['for the rescue forces from a safe distance'], 'less danger': ['for human rescue forces', nan, nan], 'dangerous areas': [nan, nan], 'endurance': [nan], 'performance': [nan], 'rescue and safety': [nan], 'danger': ['less human danger'], 'no rescuer endangered': [nan], 'access': ['access to areas where people cannot reach'], 'rational efficiency': ['No suicidal experiments in rescue'], 'quick deployment': [nan, nan], 'no exhaustion': [nan], 'save many people': [nan], 'not tired': [nan], 'more human rescue': [nan], 'easier finding': ['Through their sensors like thermal imaging, the robots can better find people.'], 'do not lose strength': ['Robots do not lose stamina while humans could lose strength during missions.'], 'delivery of goods': ['Robots can, for example, deliver goods in war zones, which would be dangerous for humans.'], 'faster abolition': ['Rescue robots could shorten the path to doctors/hospitals and the abolition of injured people.'], 'safety risks': [nan], 'can be replaced': ['Robots can be replaced by other robots in case of loss'], 'better search capabilities': ['Robots can search better in the dark and in smoke etc because they have numerous sensors'], 'for danger': ['can be used in times of danger instead of humans'], 'efficient reconnaissance work': ['Through algorithms, maps can be read and created more quickly'], 'rescue efficient and': [nan], 'faster access': ['easier access to dangerous place'], 'error reduction': [nan], 'simplification of difficult situations': ['Many rescue situations prove difficult for people to reach or to intervene, automation can clearly help here.'], 'accessibility of special regions': [nan], 'risk reduction for aid workers': ['Should people go into difficult areas, for example for avalanche rescue, they put themselves in danger'], 'fire department support': [nan], 'risk': ['In dangerous environments or situations, there is of course much less risk for the people'], 'dispensable': ['the loss of a robot is less tragic than the loss of a human rescuer'], 'immune': ['a robot is immune to many dangers that would be deadly for humans such as smoke gases, chemicals, temperatures'], 'protects people': ['No human risks necessary'], 'surpasses human rescuers': ['Can be used in situations where people cannot reach'], 'low risk': [nan], 'safety for rescue workers': [nan], 'access to dangerous area': [nan], 'no performance drop': [nan], 'follows instructions precisely': [nan], 'earthquake rescue': [nan], 'lifting heavy weights': [nan], 'risk minimization': ['Approximately during search actions in risky areas'], 'precision in search': [nan], 'More flexible than human': ['People cannot access some areas or cannot see whether people are still alive. For example, in an earthquake incident under the rubble.'], 'Faster than human': ['In an earthquake, for example, recently in Turkey, the help arrived too late and this led to more loss. Robots would be more flexible and could be used faster, rather than gathering all people together and rushing to help.'], 'Stronger than human': ['As already mentioned, many people lost their lives in the earthquake in Turkey, and this was because human strength was not enough at a certain point. For example, the walls that fell on people could not be lifted, which is why arms and legs had to be cut off. If the robot was there, it could show more strength and lift the wall.'], 'speed': ['the robot can probably save faster than a human'], 'accessibility of contaminated places': ['Poisonous gases, smoke, radiation etc. play no role'], 'can be stronger': [nan], 'can work long': [nan], 'are physically superior': ['Strength, agility, mobility'], 'are mentally superior': ['No trauma for rescuers'], 'use in dangerous areas': [nan], 'use in inaccessibility': [nan], 'accuracy of work': [nan], 'does not risk human lives': [nan]}\n",
      "167\n",
      "mapping new x comments: {'flexible': [nan, nan, nan], 'less risk of injury': [nan, nan], 'reduction of injury risk': [nan, nan, \"compared to 'soft' rescue robots; valid for hard rescue robots\", nan, nan], 'delivery of supplies': [nan], 'precise work': [nan], 'food/water transport': [nan], 'reach the inaccessible': [nan], 'reduce risk of injury': [nan], 'direct help': ['through water/food'], 'time savings in emergencies': [nan], 'lower risk of injury': ['Lower risk of injury due to the adaptability of the robot'], 'care of victims': [nan], 'exploration': ['Assess the safety of the dangerous area'], 'supply with food': [nan, nan], 'adaptability': [nan], 'accessible tight spaces': ['Due to their flexibility, they can access narrow spaces that are not accessible to people.'], 'reduced risk of injury': ['the victim due to the organic construction method', nan, nan], 'injury prevention': [nan], 'more people saved': [nan], 'low risk of injury': ['helping hand'], 'low risks': ['Soft robots pose only a low risk to the victims due to their flexibility.'], 'life-threatening places': [nan], 'vital help': [nan], 'more flexible than humans': [nan], 'fast': ['faster than a human to distribute aid supplies.'], 'Adaptability': [nan], 'camera images': ['To perform an image analysis in retrospect'], 'human error susceptibility': [nan], 'medication supply': [nan], 'inaccessible areas': [nan]}\n",
      "30\n",
      "mapping deleted x comments: {'precise work possible': [nan], 'higher precision': [nan], 'safety': [nan], 'efficiency': [nan], 'save more people': [nan]}\n",
      "5\n"
     ]
    }
   ],
   "source": [
    "print(\"sheet_name:\", sheet_name)\n",
    "\n",
    "# Remove rows with NaN in the key columns as they cannot be used as dictionary keys\n",
    "#> not sensitive to multiple identical keys: dict(zip(df['constant'], df['constant_comments']))\n",
    "df = all_sheets_RR[sheet_name]\n",
    "\n",
    "constant_comments_mapping = create_multivalue_dict(df, 'constant', 'constant_comments')\n",
    "print(\"mapping constant x comments:\", constant_comments_mapping)\n",
    "print(len(constant_comments_mapping))\n",
    "\n",
    "new_comments_mapping = create_multivalue_dict(df, 'new', 'new_comments')\n",
    "print(\"mapping new x comments:\", new_comments_mapping)\n",
    "print(len(new_comments_mapping))\n",
    "\n",
    "deleted_comments_mapping = create_multivalue_dict(df, 'deleted', 'deleted_comments')\n",
    "print(\"mapping deleted x comments:\", deleted_comments_mapping)\n",
    "print(len(deleted_comments_mapping))"
   ]
  },
  {
   "cell_type": "code",
   "execution_count": 51,
   "metadata": {},
   "outputs": [
    {
     "name": "stdout",
     "output_type": "stream",
     "text": [
      "mapping constant, new x comments: {'safety': ['Prevents people from having to work under difficult or dangerous conditions to increase safety.', 'Enables deployment in difficult situations where human rescuers would put themselves in danger', nan, nan, nan, 'through reliability', 'No people are being put in danger'], 'remote control': ['Can be operated by experts via remote control or autonomous systems to perform operations from a safe distance.', nan, nan, nan, nan, 'Minimizes risks associated with autonomy'], 'speed and efficiency': ['Robots can often act faster than humans and increase the speed of emergency interventions', 'Improvement of speed and efficiency of rescue operations', nan], 'safe': ['People do not have to put themselves in dangerous situations'], 'reliable': ['Can be precisely controlled', nan, nan, nan, nan], 'no people necessary': [nan], 'stronger than humans': [nan, 'In many situations, e.g. when clearing rubble, a great advantage.', nan, nan], 'faster than humans': [nan, nan], 'precise handling': [nan], 'reliability': [nan, 'Machines can accomplish their tasks reliably and reproducibly (provided they are well programmed and built)', nan, nan, nan], 'protection of rescue forces': ['for example in contamination scenarios', 'Reduced deployment of human rescue forces in dangerous situations', nan, 'human rescuers do not have to put themselves in danger'], 'in danger zones': [nan], 'toxic places': ['Places where people can only breathe with special equipment (gas mask)'], 'no distraction': [nan], 'by injuries': [nan], 'consistent': [nan], 'consistent performance': [nan], 'more strong': [nan], 'without basic need': ['Water, sleep, food etc.'], 'faster intervention': [nan], 'area of application': ['Can be used in areas too dangerous for humans', 'Can be used in areas that are too dangerous for humans.'], 'reaching hard-to-access places': ['Robots and drones are small and agile. Therefore, they can reach places that are difficult or even dangerous for humans to reach.'], 'discover dangerous areas': [nan], 'quick processing': [nan], 'care of people': [nan], 'perform operations': ['disease'], 'enter dangerous situation': [nan], 'less risk': [nan, 'Specifically less risk to further human lives, as rescue teams can use robots'], 'efficiency in search': [nan], 'no fatigue': [nan, 'Unlike human rescuers, robots do not tire even during long operations'], 'cover dangerous areas': ['even where it is dangerous for humans, a robot can go there'], 'precision & accuracy': [nan], 'use in dangerous situations': ['Rescue robots can be used in dangerous situations where humans are exposed to too high a risk.'], 'can act quickly': ['Robots can intervene quickly, as they do not need to be dressed or prepared and are autonomous', 'The robots can act faster than a human in an emergency.'], 'No exhaustion': [nan], 'Range': ['Robots, again just the drone can rescue victims faster in difficult terrain or bring help, e.g. medicine, food'], 'accessibility of inaccessible places': [nan], 'improved approach': [nan], 'precise work': [nan, nan], 'rescue of people': [nan], 'deployment possibility': ['Also possible under dangerous conditions'], 'replaceable': ['In case of loss, no human sacrifice', 'During operations, unlike human rescuers, there is no need to pay attention to the safety of the robots, as they can be easily replaced.'], 'unrestricted access': ['Robots can operate in environments that would be toxic to humans, e.g. areas contaminated with radiation.'], 'sparing human life': ['If robots are used instead of human rescuers, the lives and health of the rescuers do not have to be put at risk.'], 'reduced risk': ['By using robots, no human forces are exposed to dangerous situations'], 'precision': [nan], 'more targeted help': [nan], 'saves lives': ['For example, when human helpers are not available, a rescue robot can still save human lives.', 'send a robot into a danger zone instead of a human', nan], 'protects aid workers': ['Since employees are not unnecessarily exposed to dangers, strictly speaking, this also saves their lives.'], 'fewer mistakes': [nan], 'overall more productive': [nan], 'greater accuracy': [nan], 'usable in emergencies': ['To inspect debris more accurately'], 'protection of rescue personnel': [nan], 'accessibility of places': ['Accessibility difficult to reach'], 'increased efficiency': [nan], 'faster recovery': ['One could send robots into the fire without danger to human lives, etc, to combat the cause more quickly.'], 'weather independent': ['Even in storms etc., perhaps an option for critical tasks'], 'safety for emergency personnel': [nan], 'strength (power)': ['for example, for lifting debris parts'], 'quick action': [nan], 'no danger': ['For human rescue forces in action', 'No human doctor etc. needs to enter the operating area and thus it is significantly safer and therefore protects human lives.'], 'efficiency': [nan, 'Robots could be more capable in disaster cases than human helpers.', nan, 'Robots are not limited to human speed, vision, and perception in general.', nan, 'both equally fast work, more productive way of working as well as improved access to danger zones', nan], 'access to areas': ['Access to areas difficult or only reachable through considerable dangers for people'], 'vital objects': ['Victims receive vitally important things, such as water, food, and medicine'], 'rescue forces safety': ['Emergency services can avoid dangers if, for example, pictures of the location were taken by robots.'], 'more/ easier access': ['Robots can create (easier) access to places where it would otherwise be more difficult.'], 'reduce number of victims': ['Robots could make rescue operations more efficient and faster, potentially saving more victims.'], 'no life endangered': [nan], 'can save lives': [nan, nan], 'not emotionally driven': [nan], 'focused': [nan], 'exclusion of human error': [nan], 'flexible': ['The robot could operate in dangerous areas and is therefore not limited.', nan, nan, nan], 'stronger than human': ['Specially equipped machines could help trapped victims quicker and more efficiently.'], 'chances of success': ['A reliable and error-free rescue robot could therefore save people faster and more than a human.'], 'accuracy of execution': [nan], 'enter dangerous areas': [nan], 'do not get distracted': ['Rescue robots follow their programming and can focus better on the rescue without being influenced by emotions.'], 'speed / agility': [nan], 'real-time data': [nan], 'strength': [nan, 'the robot can, for example, move objects that a human could not move'], 'simplified access': [nan], 'quick help': [nan, nan, nan], 'risk-free rescue': ['From the side of the rescuers, who do not have to put themselves in danger'], 'better CPR': [nan], 'life-threatening places': ['The possibility of entering dangerous places that people do not dare to approach, such as wreck parts, battlefields, etc.', nan], 'efficient': [nan, nan, nan], 'reach dangerous places': [nan], 'do not get tired': [nan, nan], 'cannot die': [nan], '\"small\" operations': ['Especially good for smaller operations and possibly the transport'], 'toxic environment': [nan], 'safer for humans': [nan, nan], 'dexterity': ['Often higher skill than human rescuers'], 'responsiveness': ['Robots have a significantly higher reaction capability than human rescuers'], 'Accuracy of rescue robots': ['this way human errors can be reduced'], 'quality/precision': [nan], 'quantity': ['more rescue operations or more people saved possible'], 'fewer deaths': [nan], 'faster operation': [nan], 'accuracy': [nan, nan], 'faster help': ['Since the risk to life is lower, rescue workers can send a robot before a complete analysis of the problem area is available.'], 'stronger': ['Robots might potentially be able to move things that humans would have great difficulty with.'], '24/7 readiness': [nan], 'access to hard-to-reach places': [nan], 'human safety': [nan], 'useful addition': ['To human rescuers.'], '\"dare\" more': ['can also be used in war zones, only material loss through explosives'], 'eyes and ears': ['for the rescue forces from a safe distance'], 'less danger': ['for human rescue forces', nan, nan], 'dangerous areas': [nan, nan], 'endurance': [nan], 'performance': [nan], 'rescue and safety': [nan], 'danger': ['less human danger'], 'no rescuer endangered': [nan], 'access': ['access to areas where people cannot reach'], 'rational efficiency': ['No suicidal experiments in rescue'], 'quick deployment': [nan, nan], 'no exhaustion': [nan], 'save many people': [nan], 'not tired': [nan], 'more human rescue': [nan], 'easier finding': ['Through their sensors like thermal imaging, the robots can better find people.'], 'do not lose strength': ['Robots do not lose stamina while humans could lose strength during missions.'], 'delivery of goods': ['Robots can, for example, deliver goods in war zones, which would be dangerous for humans.'], 'faster abolition': ['Rescue robots could shorten the path to doctors/hospitals and the abolition of injured people.'], 'safety risks': [nan], 'can be replaced': ['Robots can be replaced by other robots in case of loss'], 'better search capabilities': ['Robots can search better in the dark and in smoke etc because they have numerous sensors'], 'for danger': ['can be used in times of danger instead of humans'], 'efficient reconnaissance work': ['Through algorithms, maps can be read and created more quickly'], 'rescue efficient and': [nan], 'faster access': ['easier access to dangerous place'], 'error reduction': [nan], 'simplification of difficult situations': ['Many rescue situations prove difficult for people to reach or to intervene, automation can clearly help here.'], 'accessibility of special regions': [nan], 'risk reduction for aid workers': ['Should people go into difficult areas, for example for avalanche rescue, they put themselves in danger'], 'fire department support': [nan], 'risk': ['In dangerous environments or situations, there is of course much less risk for the people'], 'dispensable': ['the loss of a robot is less tragic than the loss of a human rescuer'], 'immune': ['a robot is immune to many dangers that would be deadly for humans such as smoke gases, chemicals, temperatures'], 'protects people': ['No human risks necessary'], 'surpasses human rescuers': ['Can be used in situations where people cannot reach'], 'low risk': [nan], 'safety for rescue workers': [nan], 'access to dangerous area': [nan], 'no performance drop': [nan], 'follows instructions precisely': [nan], 'earthquake rescue': [nan], 'lifting heavy weights': [nan], 'risk minimization': ['Approximately during search actions in risky areas'], 'precision in search': [nan], 'More flexible than human': ['People cannot access some areas or cannot see whether people are still alive. For example, in an earthquake incident under the rubble.'], 'Faster than human': ['In an earthquake, for example, recently in Turkey, the help arrived too late and this led to more loss. Robots would be more flexible and could be used faster, rather than gathering all people together and rushing to help.'], 'Stronger than human': ['As already mentioned, many people lost their lives in the earthquake in Turkey, and this was because human strength was not enough at a certain point. For example, the walls that fell on people could not be lifted, which is why arms and legs had to be cut off. If the robot was there, it could show more strength and lift the wall.'], 'speed': ['the robot can probably save faster than a human'], 'accessibility of contaminated places': ['Poisonous gases, smoke, radiation etc. play no role'], 'can be stronger': [nan], 'can work long': [nan], 'are physically superior': ['Strength, agility, mobility'], 'are mentally superior': ['No trauma for rescuers'], 'use in dangerous areas': [nan], 'use in inaccessibility': [nan], 'accuracy of work': [nan], 'does not risk human lives': [nan], 'less risk of injury': [nan, nan], 'reduction of injury risk': [nan, nan, \"compared to 'soft' rescue robots; valid for hard rescue robots\", nan, nan], 'delivery of supplies': [nan], 'food/water transport': [nan], 'reach the inaccessible': [nan], 'reduce risk of injury': [nan], 'direct help': ['through water/food'], 'time savings in emergencies': [nan], 'lower risk of injury': ['Lower risk of injury due to the adaptability of the robot'], 'care of victims': [nan], 'exploration': ['Assess the safety of the dangerous area'], 'supply with food': [nan, nan], 'adaptability': [nan], 'accessible tight spaces': ['Due to their flexibility, they can access narrow spaces that are not accessible to people.'], 'reduced risk of injury': ['the victim due to the organic construction method', nan, nan], 'injury prevention': [nan], 'more people saved': [nan], 'low risk of injury': ['helping hand'], 'low risks': ['Soft robots pose only a low risk to the victims due to their flexibility.'], 'vital help': [nan], 'more flexible than humans': [nan], 'fast': ['faster than a human to distribute aid supplies.'], 'Adaptability': [nan], 'camera images': ['To perform an image analysis in retrospect'], 'human error susceptibility': [nan], 'medication supply': [nan], 'inaccessible areas': [nan]}\n",
      "194\n"
     ]
    }
   ],
   "source": [
    "constant_new_comments_mapping = combine_dicts(constant_comments_mapping, new_comments_mapping)\n",
    "print(\"mapping constant, new x comments:\", constant_new_comments_mapping)\n",
    "print(len(constant_new_comments_mapping))\n"
   ]
  },
  {
   "cell_type": "code",
   "execution_count": 52,
   "metadata": {},
   "outputs": [
    {
     "name": "stdout",
     "output_type": "stream",
     "text": [
      "262\n",
      "209\n"
     ]
    }
   ],
   "source": [
    "# Sample dictionary with NaN values\n",
    "dictionary = constant_new_comments_mapping\n",
    "\n",
    "# Initialize the list to store single concepts\n",
    "single_concepts = []\n",
    "\n",
    "# Iterate through the dictionary\n",
    "for key, values in dictionary.items():\n",
    "    for value in values:\n",
    "        # Check if the value is not NaN\n",
    "        if isinstance(value, str):\n",
    "            single_concepts.append(f\"{key}: {value}\")\n",
    "        else:\n",
    "            single_concepts.append(key)\n",
    "\n",
    "# Print the result\n",
    "print(len(single_concepts))\n",
    "\n",
    "\n",
    "# Filter unique entries with more than one word\n",
    "single_concepts_unique = list({entry for entry in single_concepts if len(entry.split()) > 1})\n",
    "\n",
    "# Print the result\n",
    "print(len(single_concepts_unique))"
   ]
  },
  {
   "cell_type": "code",
   "execution_count": 53,
   "metadata": {},
   "outputs": [
    {
     "name": "stdout",
     "output_type": "stream",
     "text": [
      "['risk: In dangerous environments or situations, there is of course much less risk for the people', 'speed and efficiency', 'protection of rescue forces: Reduced deployment of human rescue forces in dangerous situations', 'accuracy of execution', 'risk-free rescue: From the side of the rescuers, who do not have to put themselves in danger', 'no distraction', 'consistent performance', 'Accuracy of rescue robots: this way human errors can be reduced', 'are physically superior: Strength, agility, mobility', 'strength (power): for example, for lifting debris parts', 'safety for emergency personnel', 'efficiency: both equally fast work, more productive way of working as well as improved access to danger zones', 'risk minimization: Approximately during search actions in risky areas', 'reach dangerous places', 'access to dangerous area', 'precise work', 'more human rescue', 'use in inaccessibility', 'life-threatening places', 'faster than humans', 'toxic places: Places where people can only breathe with special equipment (gas mask)', 'speed and efficiency: Improvement of speed and efficiency of rescue operations', 'less risk: Specifically less risk to further human lives, as rescue teams can use robots', 'deployment possibility: Also possible under dangerous conditions', 'accuracy of work', 'safe: People do not have to put themselves in dangerous situations', 'precision & accuracy', 'safety: Enables deployment in difficult situations where human rescuers would put themselves in danger', 'replaceable: During operations, unlike human rescuers, there is no need to pay attention to the safety of the robots, as they can be easily replaced.', 'inaccessible areas', 'safety: Prevents people from having to work under difficult or dangerous conditions to increase safety.', 'sparing human life: If robots are used instead of human rescuers, the lives and health of the rescuers do not have to be put at risk.', 'easier finding: Through their sensors like thermal imaging, the robots can better find people.', 'food/water transport', 'danger: less human danger', 'lower risk of injury: Lower risk of injury due to the adaptability of the robot', 'reduced risk of injury', 'quick help', 'protection of rescue forces: human rescuers do not have to put themselves in danger', 'by injuries', 'faster abolition: Rescue robots could shorten the path to doctors/hospitals and the abolition of injured people.', 'greater accuracy', 'more strong', 'direct help: through water/food', 'stronger: Robots might potentially be able to move things that humans would have great difficulty with.', 'rescue of people', 'no fatigue: Unlike human rescuers, robots do not tire even during long operations', 'better CPR', 'vital objects: Victims receive vitally important things, such as water, food, and medicine', 'quick action', 'remote control: Minimizes risks associated with autonomy', 'precise handling', 'faster operation', 'chances of success: A reliable and error-free rescue robot could therefore save people faster and more than a human.', 'lifting heavy weights', 'reaching hard-to-access places: Robots and drones are small and agile. Therefore, they can reach places that are difficult or even dangerous for humans to reach.', 'reliable: Can be precisely controlled', 'quick deployment', 'precision in search', 'can act quickly: Robots can intervene quickly, as they do not need to be dressed or prepared and are autonomous', 'in danger zones', 'cover dangerous areas: even where it is dangerous for humans, a robot can go there', 'no rescuer endangered', 'discover dangerous areas', 'human safety', 'perform operations: disease', 'follows instructions precisely', 'more people saved', 'efficiency: Robots are not limited to human speed, vision, and perception in general.', 'accessibility of special regions', 'rational efficiency: No suicidal experiments in rescue', 'remote control', 'human error susceptibility', 'flexible: The robot could operate in dangerous areas and is therefore not limited.', 'protects people: No human risks necessary', 'reduced risk: By using robots, no human forces are exposed to dangerous situations', 'do not get tired', 'can be stronger', 'efficient reconnaissance work: Through algorithms, maps can be read and created more quickly', 'dexterity: Often higher skill than human rescuers', 'simplification of difficult situations: Many rescue situations prove difficult for people to reach or to intervene, automation can clearly help here.', 'increased efficiency', 'less danger: for human rescue forces', 'medication supply', 'reliability: Machines can accomplish their tasks reliably and reproducibly (provided they are well programmed and built)', 'area of application: Can be used in areas that are too dangerous for humans.', 'less risk', '24/7 readiness', 'eyes and ears: for the rescue forces from a safe distance', 'stronger than humans', 'strength: the robot can, for example, move objects that a human could not move', 'accessible tight spaces: Due to their flexibility, they can access narrow spaces that are not accessible to people.', 'for danger: can be used in times of danger instead of humans', 'Stronger than human: As already mentioned, many people lost their lives in the earthquake in Turkey, and this was because human strength was not enough at a certain point. For example, the walls that fell on people could not be lifted, which is why arms and legs had to be cut off. If the robot was there, it could show more strength and lift the wall.', 'care of victims', 'dispensable: the loss of a robot is less tragic than the loss of a human rescuer', 'faster recovery: One could send robots into the fire without danger to human lives, etc, to combat the cause more quickly.', 'fast: faster than a human to distribute aid supplies.', 'exploration: Assess the safety of the dangerous area', 'safer for humans', 'quick processing', 'can act quickly: The robots can act faster than a human in an emergency.', 'does not risk human lives', 'useful addition: To human rescuers.', 'can be replaced: Robots can be replaced by other robots in case of loss', 'accessibility of contaminated places: Poisonous gases, smoke, radiation etc. play no role', \"reduction of injury risk: compared to 'soft' rescue robots; valid for hard rescue robots\", 'no fatigue', 'Faster than human: In an earthquake, for example, recently in Turkey, the help arrived too late and this led to more loss. Robots would be more flexible and could be used faster, rather than gathering all people together and rushing to help.', 'low risks: Soft robots pose only a low risk to the victims due to their flexibility.', 'overall more productive', 'are mentally superior: No trauma for rescuers', 'supply with food', 'reach the inaccessible', 'speed / agility', 'No exhaustion', 'time savings in emergencies', 'less risk of injury', 'exclusion of human error', 'toxic environment', 'rescue forces safety: Emergency services can avoid dangers if, for example, pictures of the location were taken by robots.', 'camera images: To perform an image analysis in retrospect', '\"dare\" more: can also be used in war zones, only material loss through explosives', 'speed: the robot can probably save faster than a human', 'can save lives', 'without basic need: Water, sleep, food etc.', 'protects aid workers: Since employees are not unnecessarily exposed to dangers, strictly speaking, this also saves their lives.', 'delivery of goods: Robots can, for example, deliver goods in war zones, which would be dangerous for humans.', 'immune: a robot is immune to many dangers that would be deadly for humans such as smoke gases, chemicals, temperatures', 'area of application: Can be used in areas too dangerous for humans', 'do not get distracted: Rescue robots follow their programming and can focus better on the rescue without being influenced by emotions.', 'responsiveness: Robots have a significantly higher reaction capability than human rescuers', 'More flexible than human: People cannot access some areas or cannot see whether people are still alive. For example, in an earthquake incident under the rubble.', 'surpasses human rescuers: Can be used in situations where people cannot reach', 'delivery of supplies', 'accessibility of inaccessible places', 'not emotionally driven', 'stronger than human: Specially equipped machines could help trapped victims quicker and more efficiently.', 'real-time data', 'dangerous areas', 'error reduction', 'stronger than humans: In many situations, e.g. when clearing rubble, a great advantage.', 'can work long', 'access: access to areas where people cannot reach', 'better search capabilities: Robots can search better in the dark and in smoke etc because they have numerous sensors', 'risk reduction for aid workers: Should people go into difficult areas, for example for avalanche rescue, they put themselves in danger', 'care of people', 'faster intervention', 'remote control: Can be operated by experts via remote control or autonomous systems to perform operations from a safe distance.', 'safety for rescue workers', 'reduce risk of injury', 'weather independent: Even in storms etc., perhaps an option for critical tasks', 'replaceable: In case of loss, no human sacrifice', '\"small\" operations: Especially good for smaller operations and possibly the transport', 'use in dangerous situations: Rescue robots can be used in dangerous situations where humans are exposed to too high a risk.', 'no danger: For human rescue forces in action', 'accessibility of places: Accessibility difficult to reach', 'more flexible than humans', 'protection of rescue forces', 'protection of rescue personnel', 'efficiency: Robots could be more capable in disaster cases than human helpers.', 'no people necessary', 'safety: No people are being put in danger', 'protection of rescue forces: for example in contamination scenarios', 'more targeted help', 'use in dangerous areas', 'faster access: easier access to dangerous place', 'no exhaustion', 'do not lose strength: Robots do not lose stamina while humans could lose strength during missions.', 'speed and efficiency: Robots can often act faster than humans and increase the speed of emergency interventions', 'access to hard-to-reach places', 'improved approach', 'faster help: Since the risk to life is lower, rescue workers can send a robot before a complete analysis of the problem area is available.', 'saves lives: send a robot into a danger zone instead of a human', 'not tired', 'vital help', 'no life endangered', 'fewer mistakes', 'simplified access', 'no danger: No human doctor etc. needs to enter the operating area and thus it is significantly safer and therefore protects human lives.', 'cannot die', 'efficiency in search', 'less danger', 'fire department support', 'injury prevention', 'reduce number of victims: Robots could make rescue operations more efficient and faster, potentially saving more victims.', 'save many people', 'quantity: more rescue operations or more people saved possible', 'enter dangerous areas', 'reduction of injury risk', 'low risk', 'low risk of injury: helping hand', 'Range: Robots, again just the drone can rescue victims faster in difficult terrain or bring help, e.g. medicine, food', 'unrestricted access: Robots can operate in environments that would be toxic to humans, e.g. areas contaminated with radiation.', 'enter dangerous situation', 'access to areas: Access to areas difficult or only reachable through considerable dangers for people', 'life-threatening places: The possibility of entering dangerous places that people do not dare to approach, such as wreck parts, battlefields, etc.', 'earthquake rescue', 'saves lives: For example, when human helpers are not available, a rescue robot can still save human lives.', 'usable in emergencies: To inspect debris more accurately', 'no performance drop', 'reduced risk of injury: the victim due to the organic construction method', 'fewer deaths', 'rescue and safety', 'safety risks', 'more/ easier access: Robots can create (easier) access to places where it would otherwise be more difficult.', 'safety: through reliability', 'saves lives', 'rescue efficient and']\n"
     ]
    }
   ],
   "source": [
    "print(single_concepts_unique)"
   ]
  },
  {
   "cell_type": "code",
   "execution_count": 54,
   "metadata": {},
   "outputs": [
    {
     "name": "stdout",
     "output_type": "stream",
     "text": [
      "262\n",
      "20\n"
     ]
    }
   ],
   "source": [
    "import random\n",
    "\n",
    "print(len(single_concepts))\n",
    "\n",
    "# Draw 30 random entries (if the list has less than 30 entries, it will return the entire list)\n",
    "single_concepts = random.sample(single_concepts_unique, min(20, len(single_concepts_unique)))\n",
    "\n",
    "print(len(single_concepts))"
   ]
  },
  {
   "cell_type": "code",
   "execution_count": 55,
   "metadata": {},
   "outputs": [
    {
     "data": {
      "text/plain": [
       "['can act quickly: Robots can intervene quickly, as they do not need to be dressed or prepared and are autonomous',\n",
       " 'rational efficiency: No suicidal experiments in rescue',\n",
       " 'life-threatening places',\n",
       " 'toxic environment',\n",
       " 'replaceable: During operations, unlike human rescuers, there is no need to pay attention to the safety of the robots, as they can be easily replaced.',\n",
       " 'speed / agility',\n",
       " 'protection of rescue forces',\n",
       " 'reach dangerous places',\n",
       " 'accessibility of special regions',\n",
       " 'no people necessary',\n",
       " 'useful addition: To human rescuers.',\n",
       " 'exploration: Assess the safety of the dangerous area',\n",
       " 'reach the inaccessible',\n",
       " 'remote control: Can be operated by experts via remote control or autonomous systems to perform operations from a safe distance.',\n",
       " 'reduced risk of injury',\n",
       " 'safety for rescue workers',\n",
       " 'simplification of difficult situations: Many rescue situations prove difficult for people to reach or to intervene, automation can clearly help here.',\n",
       " 'does not risk human lives',\n",
       " 'follows instructions precisely',\n",
       " 'efficiency: both equally fast work, more productive way of working as well as improved access to danger zones']"
      ]
     },
     "execution_count": 55,
     "metadata": {},
     "output_type": "execute_result"
    }
   ],
   "source": [
    "single_concepts"
   ]
  },
  {
   "cell_type": "markdown",
   "metadata": {},
   "source": [
    "### run LLMCode (inductive)\n",
    "\n",
    "a toolkit for AI-assisted qualitative data analysis"
   ]
  },
  {
   "cell_type": "code",
   "execution_count": 56,
   "metadata": {},
   "outputs": [
    {
     "name": "stdout",
     "output_type": "stream",
     "text": [
      " |█████-----------------------------------------------------------------------------------------------| 5.0% Warning: LLM output differs from the original text, with edit distance 80\n",
      "Original text: \"can act quickly: Robots can intervene quickly, as they do not need to be dressed or prepared and are autonomous\"\n",
      "LLM output: \"The text contains no insights relevant to the research question.\"\n",
      "Text reconstruction successful\n",
      "\n",
      "Had to reconstruct 1 texts due to LLM errors\n",
      " |█████████████████████████---------------------------------------------------------------------------| 25.0% Warning: LLM output differs from the original text, with edit distance 13\n",
      "Original text: \"replaceable: During operations, unlike human rescuers, there is no need to pay attention to the safety of the robots, as they can be easily replaced.\"\n",
      "LLM output: \"**During operations, unlike human rescuers, there is no need to pay attention to the safety of the robots, as they can be easily replaced.**<sup>replaceability; efficiency</sup>\"\n",
      "Text reconstruction successful\n",
      "\n",
      "Had to reconstruct 1 texts due to LLM errors\n",
      " |██████████████████████████████████████████████████--------------------------------------------------| 50.0% Warning: LLM output differs from the original text, with edit distance 141\n",
      "Original text: \"no people necessary\"\n",
      "LLM output: \"I'm sorry, but the text provided does not contain any insightful statements relevant to the research question, so there are no coded statements to highlight.\"\n",
      "Text reconstruction successful\n",
      "\n",
      "Had to reconstruct 1 texts due to LLM errors\n",
      " |██████████████████████████████████████████████████████████████████████████████████████████----------| 90.0% Warning: LLM output differs from the original text, with edit distance 158\n",
      "Original text: \"does not risk human lives\"\n",
      "LLM output: \"I'm sorry, but the text provided does not contain any statements that are insightful with regards to the research question. Therefore, there are no coded statements to highlight.\"\n",
      "Text reconstruction successful\n",
      "\n",
      "Had to reconstruct 1 texts due to LLM errors\n",
      " |████████████████████████████████████████████████████████████████████████████████████████████████████| 100.0% \n"
     ]
    }
   ],
   "source": [
    "import nest_asyncio\n",
    "nest_asyncio.apply()\n",
    "\n",
    "\n",
    "\n",
    "# Sample inputs for function arguments\n",
    "\n",
    "texts = single_concepts\n",
    "\n",
    "research_question = \"What are the key perceived benefits and risks regarding safety of the search and rescue robot?\"\n",
    "\n",
    "\n",
    "few_shot_examples = pd.DataFrame({\n",
    "    \"text\": [\n",
    "        \"The game and it's graphics, music and story made me feel calm and happy  in a way nothing else could at the time. Playing it felt like a journey to another, better place , and that's art to me.\",\n",
    "        \"I played the game Kairo, or Cairo I can't remember, it was an atmospheric puzzle game with big rooms filled with mist and interesting lighting, all the textures were concrete\"],\n",
    "    \"coded_text\": [\n",
    "        \"The game and it's graphics, music and story **made me feel calm and happy**<sup>emotional response</sup> in a way nothing else could at the time. **Playing it felt like a journey to another, better place**<sup>setting; immersion</sup>, and that's art to me.\",\n",
    "        \"I played the game Kairo, or Cairo I can't remember, **it was an atmospheric puzzle game with big rooms filled with mist and interesting lighting, all the textures were concrete**<sup>setting; creativity</sup>\"\n",
    "    ]\n",
    "})\n",
    "\n",
    "\n",
    "\n",
    "gpt_model = \"gpt-4o\"  # or another preferred GPT model\n",
    "use_cache = True\n",
    "max_tokens = 150  # Specify maximum tokens for each prompt if necessary\n",
    "verbose = True\n",
    "topicCategory = abbreviations_dict[sheet_name]\n",
    "\n",
    "\n",
    "# Now you can run:\n",
    "coded_texts, code_descriptions = LLMCode.code_inductively_with_code_consistency_adj(\n",
    "    texts=texts,\n",
    "    research_question=research_question,\n",
    "    topicCategory=topicCategory,\n",
    "    few_shot_examples=few_shot_examples,\n",
    "    gpt_model=gpt_model,\n",
    "    use_cache=use_cache,\n",
    "    max_tokens=max_tokens,\n",
    "    verbose=verbose\n",
    ")"
   ]
  },
  {
   "cell_type": "code",
   "execution_count": 57,
   "metadata": {},
   "outputs": [
    {
     "name": "stdout",
     "output_type": "stream",
     "text": [
      "20\n"
     ]
    },
    {
     "data": {
      "text/plain": [
       "['can act quickly: Robots can intervene quickly, as they do not need to be dressed or prepared and are autonomous',\n",
       " 'rational efficiency: No suicidal experiments in rescue',\n",
       " 'life-threatening places',\n",
       " 'toxic environment',\n",
       " 'replaceable: **During operations, unlike human rescuers, there is no need to pay attention to the safety of the robots, as they can be easily replaced.**<sup>replaceability; efficiency</sup>',\n",
       " 'speed / agility',\n",
       " 'protection of rescue forces',\n",
       " 'reach dangerous places',\n",
       " 'accessibility of special regions',\n",
       " 'no people necessary',\n",
       " 'useful addition: To human rescuers.',\n",
       " 'exploration: Assess the safety of the dangerous area',\n",
       " 'reach the inaccessible',\n",
       " '**remote control: Can be operated by experts via remote control or autonomous systems to perform operations from a safe distance.**<sup>safety</sup>',\n",
       " 'reduced risk of injury',\n",
       " 'safety for rescue workers',\n",
       " 'simplification of difficult situations: Many rescue situations prove difficult for people to reach or to intervene, automation can clearly help here.',\n",
       " 'does not risk human lives',\n",
       " 'follows instructions precisely',\n",
       " 'efficiency: both equally fast work, more productive way of working as well as improved access to danger zones']"
      ]
     },
     "execution_count": 57,
     "metadata": {},
     "output_type": "execute_result"
    }
   ],
   "source": [
    "print(len(coded_texts))\n",
    "coded_texts"
   ]
  },
  {
   "cell_type": "code",
   "execution_count": 58,
   "metadata": {},
   "outputs": [
    {
     "name": "stdout",
     "output_type": "stream",
     "text": [
      "3\n"
     ]
    },
    {
     "data": {
      "text/plain": [
       "{'replaceability': 'Captures discussions where participants highlight the perceived benefit of robots in search and rescue operations being easily replaceable, thus reducing concerns about their safety compared to human rescuers.',\n",
       " 'efficiency': 'Highlights the perceived benefit of search and rescue robots in terms of operational efficiency, as they eliminate the need for safety precautions typically required for human rescuers, thereby streamlining the rescue process.',\n",
       " 'safety': 'Captures discussions about the perceived safety benefits of search and rescue robots, particularly their ability to be operated remotely, which allows experts to conduct operations from a safe distance, thereby minimizing human risk in hazardous environments.'}"
      ]
     },
     "execution_count": 58,
     "metadata": {},
     "output_type": "execute_result"
    }
   ],
   "source": [
    "print(len(code_descriptions))\n",
    "code_descriptions"
   ]
  },
  {
   "cell_type": "code",
   "execution_count": null,
   "metadata": {},
   "outputs": [
    {
     "name": "stdout",
     "output_type": "stream",
     "text": [
      "my_array:\n",
      " [{'robot': 'RR', 'category': 'SA', 'coded_texts': ['can act quickly: Robots can intervene quickly, as they do not need to be dressed or prepared and are autonomous', 'rational efficiency: No suicidal experiments in rescue', 'life-threatening places', 'toxic environment', 'replaceable: **During operations, unlike human rescuers, there is no need to pay attention to the safety of the robots, as they can be easily replaced.**<sup>replaceability; efficiency</sup>', 'speed / agility', 'protection of rescue forces', 'reach dangerous places', 'accessibility of special regions', 'no people necessary', 'useful addition: To human rescuers.', 'exploration: Assess the safety of the dangerous area', 'reach the inaccessible', '**remote control: Can be operated by experts via remote control or autonomous systems to perform operations from a safe distance.**<sup>safety</sup>', 'reduced risk of injury', 'safety for rescue workers', 'simplification of difficult situations: Many rescue situations prove difficult for people to reach or to intervene, automation can clearly help here.', 'does not risk human lives', 'follows instructions precisely', 'efficiency: both equally fast work, more productive way of working as well as improved access to danger zones'], 'code_descriptions': {'replaceability': 'Captures discussions where participants highlight the perceived benefit of robots in search and rescue operations being easily replaceable, thus reducing concerns about their safety compared to human rescuers.', 'efficiency': 'Highlights the perceived benefit of search and rescue robots in terms of operational efficiency, as they eliminate the need for safety precautions typically required for human rescuers, thereby streamlining the rescue process.', 'safety': 'Captures discussions about the perceived safety benefits of search and rescue robots, particularly their ability to be operated remotely, which allows experts to conduct operations from a safe distance, thereby minimizing human risk in hazardous environments.'}}]\n",
      "loaded_array:\n",
      " [{'robot': 'RR', 'category': 'SA', 'coded_texts': ['can act quickly: Robots can intervene quickly, as they do not need to be dressed or prepared and are autonomous', 'rational efficiency: No suicidal experiments in rescue', 'life-threatening places', 'toxic environment', 'replaceable: **During operations, unlike human rescuers, there is no need to pay attention to the safety of the robots, as they can be easily replaced.**<sup>replaceability; efficiency</sup>', 'speed / agility', 'protection of rescue forces', 'reach dangerous places', 'accessibility of special regions', 'no people necessary', 'useful addition: To human rescuers.', 'exploration: Assess the safety of the dangerous area', 'reach the inaccessible', '**remote control: Can be operated by experts via remote control or autonomous systems to perform operations from a safe distance.**<sup>safety</sup>', 'reduced risk of injury', 'safety for rescue workers', 'simplification of difficult situations: Many rescue situations prove difficult for people to reach or to intervene, automation can clearly help here.', 'does not risk human lives', 'follows instructions precisely', 'efficiency: both equally fast work, more productive way of working as well as improved access to danger zones'], 'code_descriptions': {'replaceability': 'Captures discussions where participants highlight the perceived benefit of robots in search and rescue operations being easily replaceable, thus reducing concerns about their safety compared to human rescuers.', 'efficiency': 'Highlights the perceived benefit of search and rescue robots in terms of operational efficiency, as they eliminate the need for safety precautions typically required for human rescuers, thereby streamlining the rescue process.', 'safety': 'Captures discussions about the perceived safety benefits of search and rescue robots, particularly their ability to be operated remotely, which allows experts to conduct operations from a safe distance, thereby minimizing human risk in hazardous environments.'}}]\n"
     ]
    }
   ],
   "source": [
    "import json\n",
    "\n",
    "my_array = [\n",
    "    {'robot': 'RR', 'category': 'SA', 'coded_texts': coded_texts, 'code_descriptions': code_descriptions}\n",
    "]\n",
    "print(\"my_array:\\n\", my_array)\n",
    "\n",
    "file_path = directory + \"/output/G3/\"\n",
    "\n",
    "\n",
    "# Save to JSON file\n",
    "with open(file_path + 'output_LLMcode_test.json', 'w') as file:\n",
    "    json.dump(my_array, file, indent=4)\n",
    "\n",
    "# To load the data back\n",
    "with open(file_path + 'output_LLMcode_test.json', 'r') as file:\n",
    "    loaded_array = json.load(file)\n",
    "\n",
    "# Print loaded data\n",
    "print(\"loaded_array:\\n\", loaded_array)"
   ]
  },
  {
   "cell_type": "markdown",
   "metadata": {},
   "source": [
    "### run LLMCode (deductive)"
   ]
  },
  {
   "cell_type": "code",
   "execution_count": 60,
   "metadata": {},
   "outputs": [
    {
     "name": "stdout",
     "output_type": "stream",
     "text": [
      " |████████████████████████████████████████████████████████████████████████████████████████████████████| 100.0% \n"
     ]
    }
   ],
   "source": [
    "coded_texts_deductively = LLMCode.code_deductively(texts,\n",
    "                     research_question=research_question,\n",
    "                     codebook=code_descriptions,\n",
    "                     gpt_model=gpt_model,\n",
    "                     few_shot_examples=None,\n",
    "                     use_cache=True,\n",
    "                     verbose=False)"
   ]
  },
  {
   "cell_type": "code",
   "execution_count": 61,
   "metadata": {},
   "outputs": [
    {
     "data": {
      "text/plain": [
       "['can act quickly: **Robots can intervene quickly**<sup>efficiency</sup>, **as they do not need to be dressed or prepared and are autonomous**<sup>efficiency; replaceability</sup>',\n",
       " 'rational efficiency: **No suicidal experiments in rescue**<sup>safety</sup>',\n",
       " 'life-threatening places',\n",
       " 'toxic environment',\n",
       " 'replaceable: During operations, unlike human rescuers, **there is no need to pay attention to the safety of the robots**<sup>safety</sup>, **as they can be easily replaced**<sup>replaceability</sup>.',\n",
       " 'speed / agility',\n",
       " '**protection of rescue forces**<sup>safety</sup>',\n",
       " 'reach **dangerous places**<sup>safety</sup>',\n",
       " 'accessibility of special regions',\n",
       " 'no people **necessary**<sup>replaceability</sup>',\n",
       " 'useful addition: To human rescuers.',\n",
       " 'exploration: **Assess the safety of the dangerous area**<sup>safety</sup>',\n",
       " 'reach the **inaccessible**<sup>efficiency</sup>',\n",
       " 'remote control: **Can be operated by experts via remote control or autonomous systems to perform operations from a safe distance.**<sup>safety; efficiency</sup>',\n",
       " '**reduced risk of injury**<sup>safety</sup>',\n",
       " '**safety for rescue workers**<sup>safety</sup>',\n",
       " 'simplification of difficult situations: Many rescue situations prove difficult for people to reach or to intervene, **automation can clearly help here**<sup>efficiency</sup>.',\n",
       " 'does not **risk human lives**<sup>safety</sup>',\n",
       " 'follows instructions precisely',\n",
       " 'efficiency: **both equally fast work, more productive way of working as well as improved access to danger zones**<sup>efficiency</sup>']"
      ]
     },
     "execution_count": 61,
     "metadata": {},
     "output_type": "execute_result"
    }
   ],
   "source": [
    "coded_texts_deductively"
   ]
  },
  {
   "cell_type": "markdown",
   "metadata": {},
   "source": [
    "### analyze given codes"
   ]
  },
  {
   "cell_type": "code",
   "execution_count": 62,
   "metadata": {},
   "outputs": [],
   "source": [
    "#@title Show distribution of LLM-generated deductive codes\n",
    "\n",
    "# Parse all codes and highlights in LLM output\n",
    "code_highlights_ded = LLMCode.get_codes_and_highlights(coded_texts_deductively)\n"
   ]
  },
  {
   "cell_type": "code",
   "execution_count": 63,
   "metadata": {},
   "outputs": [
    {
     "data": {
      "text/plain": [
       "defaultdict(list,\n",
       "            {'efficiency': ['Robots can intervene quickly',\n",
       "              'as they do not need to be dressed or prepared and are autonomous',\n",
       "              'inaccessible',\n",
       "              'Can be operated by experts via remote control or autonomous systems to perform operations from a safe distance.',\n",
       "              'automation can clearly help here',\n",
       "              'both equally fast work, more productive way of working as well as improved access to danger zones'],\n",
       "             'replaceability': ['as they do not need to be dressed or prepared and are autonomous',\n",
       "              'as they can be easily replaced',\n",
       "              'necessary'],\n",
       "             'safety': ['No suicidal experiments in rescue',\n",
       "              'there is no need to pay attention to the safety of the robots',\n",
       "              'protection of rescue forces',\n",
       "              'dangerous places',\n",
       "              'Assess the safety of the dangerous area',\n",
       "              'Can be operated by experts via remote control or autonomous systems to perform operations from a safe distance.',\n",
       "              'reduced risk of injury',\n",
       "              'safety for rescue workers',\n",
       "              'risk human lives']})"
      ]
     },
     "execution_count": 63,
     "metadata": {},
     "output_type": "execute_result"
    }
   ],
   "source": [
    "code_highlights_ded"
   ]
  },
  {
   "cell_type": "code",
   "execution_count": 86,
   "metadata": {},
   "outputs": [
    {
     "data": {
      "application/vnd.plotly.v1+json": {
       "config": {
        "plotlyServerURL": "https://plot.ly"
       },
       "data": [
        {
         "alignmentgroup": "True",
         "hovertemplate": "Code=%{x}<br>Count=%{y}<extra></extra>",
         "legendgroup": "",
         "marker": {
          "color": "#636efa",
          "pattern": {
           "shape": ""
          }
         },
         "name": "",
         "offsetgroup": "",
         "orientation": "v",
         "showlegend": false,
         "textposition": "auto",
         "type": "bar",
         "x": [
          "safety",
          "efficiency",
          "replaceability"
         ],
         "xaxis": "x",
         "y": [
          9,
          6,
          3
         ],
         "yaxis": "y"
        }
       ],
       "layout": {
        "barmode": "relative",
        "legend": {
         "tracegroupgap": 0
        },
        "template": {
         "data": {
          "bar": [
           {
            "error_x": {
             "color": "#2a3f5f"
            },
            "error_y": {
             "color": "#2a3f5f"
            },
            "marker": {
             "line": {
              "color": "#E5ECF6",
              "width": 0.5
             },
             "pattern": {
              "fillmode": "overlay",
              "size": 10,
              "solidity": 0.2
             }
            },
            "type": "bar"
           }
          ],
          "barpolar": [
           {
            "marker": {
             "line": {
              "color": "#E5ECF6",
              "width": 0.5
             },
             "pattern": {
              "fillmode": "overlay",
              "size": 10,
              "solidity": 0.2
             }
            },
            "type": "barpolar"
           }
          ],
          "carpet": [
           {
            "aaxis": {
             "endlinecolor": "#2a3f5f",
             "gridcolor": "white",
             "linecolor": "white",
             "minorgridcolor": "white",
             "startlinecolor": "#2a3f5f"
            },
            "baxis": {
             "endlinecolor": "#2a3f5f",
             "gridcolor": "white",
             "linecolor": "white",
             "minorgridcolor": "white",
             "startlinecolor": "#2a3f5f"
            },
            "type": "carpet"
           }
          ],
          "choropleth": [
           {
            "colorbar": {
             "outlinewidth": 0,
             "ticks": ""
            },
            "type": "choropleth"
           }
          ],
          "contour": [
           {
            "colorbar": {
             "outlinewidth": 0,
             "ticks": ""
            },
            "colorscale": [
             [
              0,
              "#0d0887"
             ],
             [
              0.1111111111111111,
              "#46039f"
             ],
             [
              0.2222222222222222,
              "#7201a8"
             ],
             [
              0.3333333333333333,
              "#9c179e"
             ],
             [
              0.4444444444444444,
              "#bd3786"
             ],
             [
              0.5555555555555556,
              "#d8576b"
             ],
             [
              0.6666666666666666,
              "#ed7953"
             ],
             [
              0.7777777777777778,
              "#fb9f3a"
             ],
             [
              0.8888888888888888,
              "#fdca26"
             ],
             [
              1,
              "#f0f921"
             ]
            ],
            "type": "contour"
           }
          ],
          "contourcarpet": [
           {
            "colorbar": {
             "outlinewidth": 0,
             "ticks": ""
            },
            "type": "contourcarpet"
           }
          ],
          "heatmap": [
           {
            "colorbar": {
             "outlinewidth": 0,
             "ticks": ""
            },
            "colorscale": [
             [
              0,
              "#0d0887"
             ],
             [
              0.1111111111111111,
              "#46039f"
             ],
             [
              0.2222222222222222,
              "#7201a8"
             ],
             [
              0.3333333333333333,
              "#9c179e"
             ],
             [
              0.4444444444444444,
              "#bd3786"
             ],
             [
              0.5555555555555556,
              "#d8576b"
             ],
             [
              0.6666666666666666,
              "#ed7953"
             ],
             [
              0.7777777777777778,
              "#fb9f3a"
             ],
             [
              0.8888888888888888,
              "#fdca26"
             ],
             [
              1,
              "#f0f921"
             ]
            ],
            "type": "heatmap"
           }
          ],
          "heatmapgl": [
           {
            "colorbar": {
             "outlinewidth": 0,
             "ticks": ""
            },
            "colorscale": [
             [
              0,
              "#0d0887"
             ],
             [
              0.1111111111111111,
              "#46039f"
             ],
             [
              0.2222222222222222,
              "#7201a8"
             ],
             [
              0.3333333333333333,
              "#9c179e"
             ],
             [
              0.4444444444444444,
              "#bd3786"
             ],
             [
              0.5555555555555556,
              "#d8576b"
             ],
             [
              0.6666666666666666,
              "#ed7953"
             ],
             [
              0.7777777777777778,
              "#fb9f3a"
             ],
             [
              0.8888888888888888,
              "#fdca26"
             ],
             [
              1,
              "#f0f921"
             ]
            ],
            "type": "heatmapgl"
           }
          ],
          "histogram": [
           {
            "marker": {
             "pattern": {
              "fillmode": "overlay",
              "size": 10,
              "solidity": 0.2
             }
            },
            "type": "histogram"
           }
          ],
          "histogram2d": [
           {
            "colorbar": {
             "outlinewidth": 0,
             "ticks": ""
            },
            "colorscale": [
             [
              0,
              "#0d0887"
             ],
             [
              0.1111111111111111,
              "#46039f"
             ],
             [
              0.2222222222222222,
              "#7201a8"
             ],
             [
              0.3333333333333333,
              "#9c179e"
             ],
             [
              0.4444444444444444,
              "#bd3786"
             ],
             [
              0.5555555555555556,
              "#d8576b"
             ],
             [
              0.6666666666666666,
              "#ed7953"
             ],
             [
              0.7777777777777778,
              "#fb9f3a"
             ],
             [
              0.8888888888888888,
              "#fdca26"
             ],
             [
              1,
              "#f0f921"
             ]
            ],
            "type": "histogram2d"
           }
          ],
          "histogram2dcontour": [
           {
            "colorbar": {
             "outlinewidth": 0,
             "ticks": ""
            },
            "colorscale": [
             [
              0,
              "#0d0887"
             ],
             [
              0.1111111111111111,
              "#46039f"
             ],
             [
              0.2222222222222222,
              "#7201a8"
             ],
             [
              0.3333333333333333,
              "#9c179e"
             ],
             [
              0.4444444444444444,
              "#bd3786"
             ],
             [
              0.5555555555555556,
              "#d8576b"
             ],
             [
              0.6666666666666666,
              "#ed7953"
             ],
             [
              0.7777777777777778,
              "#fb9f3a"
             ],
             [
              0.8888888888888888,
              "#fdca26"
             ],
             [
              1,
              "#f0f921"
             ]
            ],
            "type": "histogram2dcontour"
           }
          ],
          "mesh3d": [
           {
            "colorbar": {
             "outlinewidth": 0,
             "ticks": ""
            },
            "type": "mesh3d"
           }
          ],
          "parcoords": [
           {
            "line": {
             "colorbar": {
              "outlinewidth": 0,
              "ticks": ""
             }
            },
            "type": "parcoords"
           }
          ],
          "pie": [
           {
            "automargin": true,
            "type": "pie"
           }
          ],
          "scatter": [
           {
            "fillpattern": {
             "fillmode": "overlay",
             "size": 10,
             "solidity": 0.2
            },
            "type": "scatter"
           }
          ],
          "scatter3d": [
           {
            "line": {
             "colorbar": {
              "outlinewidth": 0,
              "ticks": ""
             }
            },
            "marker": {
             "colorbar": {
              "outlinewidth": 0,
              "ticks": ""
             }
            },
            "type": "scatter3d"
           }
          ],
          "scattercarpet": [
           {
            "marker": {
             "colorbar": {
              "outlinewidth": 0,
              "ticks": ""
             }
            },
            "type": "scattercarpet"
           }
          ],
          "scattergeo": [
           {
            "marker": {
             "colorbar": {
              "outlinewidth": 0,
              "ticks": ""
             }
            },
            "type": "scattergeo"
           }
          ],
          "scattergl": [
           {
            "marker": {
             "colorbar": {
              "outlinewidth": 0,
              "ticks": ""
             }
            },
            "type": "scattergl"
           }
          ],
          "scattermapbox": [
           {
            "marker": {
             "colorbar": {
              "outlinewidth": 0,
              "ticks": ""
             }
            },
            "type": "scattermapbox"
           }
          ],
          "scatterpolar": [
           {
            "marker": {
             "colorbar": {
              "outlinewidth": 0,
              "ticks": ""
             }
            },
            "type": "scatterpolar"
           }
          ],
          "scatterpolargl": [
           {
            "marker": {
             "colorbar": {
              "outlinewidth": 0,
              "ticks": ""
             }
            },
            "type": "scatterpolargl"
           }
          ],
          "scatterternary": [
           {
            "marker": {
             "colorbar": {
              "outlinewidth": 0,
              "ticks": ""
             }
            },
            "type": "scatterternary"
           }
          ],
          "surface": [
           {
            "colorbar": {
             "outlinewidth": 0,
             "ticks": ""
            },
            "colorscale": [
             [
              0,
              "#0d0887"
             ],
             [
              0.1111111111111111,
              "#46039f"
             ],
             [
              0.2222222222222222,
              "#7201a8"
             ],
             [
              0.3333333333333333,
              "#9c179e"
             ],
             [
              0.4444444444444444,
              "#bd3786"
             ],
             [
              0.5555555555555556,
              "#d8576b"
             ],
             [
              0.6666666666666666,
              "#ed7953"
             ],
             [
              0.7777777777777778,
              "#fb9f3a"
             ],
             [
              0.8888888888888888,
              "#fdca26"
             ],
             [
              1,
              "#f0f921"
             ]
            ],
            "type": "surface"
           }
          ],
          "table": [
           {
            "cells": {
             "fill": {
              "color": "#EBF0F8"
             },
             "line": {
              "color": "white"
             }
            },
            "header": {
             "fill": {
              "color": "#C8D4E3"
             },
             "line": {
              "color": "white"
             }
            },
            "type": "table"
           }
          ]
         },
         "layout": {
          "annotationdefaults": {
           "arrowcolor": "#2a3f5f",
           "arrowhead": 0,
           "arrowwidth": 1
          },
          "autotypenumbers": "strict",
          "coloraxis": {
           "colorbar": {
            "outlinewidth": 0,
            "ticks": ""
           }
          },
          "colorscale": {
           "diverging": [
            [
             0,
             "#8e0152"
            ],
            [
             0.1,
             "#c51b7d"
            ],
            [
             0.2,
             "#de77ae"
            ],
            [
             0.3,
             "#f1b6da"
            ],
            [
             0.4,
             "#fde0ef"
            ],
            [
             0.5,
             "#f7f7f7"
            ],
            [
             0.6,
             "#e6f5d0"
            ],
            [
             0.7,
             "#b8e186"
            ],
            [
             0.8,
             "#7fbc41"
            ],
            [
             0.9,
             "#4d9221"
            ],
            [
             1,
             "#276419"
            ]
           ],
           "sequential": [
            [
             0,
             "#0d0887"
            ],
            [
             0.1111111111111111,
             "#46039f"
            ],
            [
             0.2222222222222222,
             "#7201a8"
            ],
            [
             0.3333333333333333,
             "#9c179e"
            ],
            [
             0.4444444444444444,
             "#bd3786"
            ],
            [
             0.5555555555555556,
             "#d8576b"
            ],
            [
             0.6666666666666666,
             "#ed7953"
            ],
            [
             0.7777777777777778,
             "#fb9f3a"
            ],
            [
             0.8888888888888888,
             "#fdca26"
            ],
            [
             1,
             "#f0f921"
            ]
           ],
           "sequentialminus": [
            [
             0,
             "#0d0887"
            ],
            [
             0.1111111111111111,
             "#46039f"
            ],
            [
             0.2222222222222222,
             "#7201a8"
            ],
            [
             0.3333333333333333,
             "#9c179e"
            ],
            [
             0.4444444444444444,
             "#bd3786"
            ],
            [
             0.5555555555555556,
             "#d8576b"
            ],
            [
             0.6666666666666666,
             "#ed7953"
            ],
            [
             0.7777777777777778,
             "#fb9f3a"
            ],
            [
             0.8888888888888888,
             "#fdca26"
            ],
            [
             1,
             "#f0f921"
            ]
           ]
          },
          "colorway": [
           "#636efa",
           "#EF553B",
           "#00cc96",
           "#ab63fa",
           "#FFA15A",
           "#19d3f3",
           "#FF6692",
           "#B6E880",
           "#FF97FF",
           "#FECB52"
          ],
          "font": {
           "color": "#2a3f5f"
          },
          "geo": {
           "bgcolor": "white",
           "lakecolor": "white",
           "landcolor": "#E5ECF6",
           "showlakes": true,
           "showland": true,
           "subunitcolor": "white"
          },
          "hoverlabel": {
           "align": "left"
          },
          "hovermode": "closest",
          "mapbox": {
           "style": "light"
          },
          "paper_bgcolor": "white",
          "plot_bgcolor": "#E5ECF6",
          "polar": {
           "angularaxis": {
            "gridcolor": "white",
            "linecolor": "white",
            "ticks": ""
           },
           "bgcolor": "#E5ECF6",
           "radialaxis": {
            "gridcolor": "white",
            "linecolor": "white",
            "ticks": ""
           }
          },
          "scene": {
           "xaxis": {
            "backgroundcolor": "#E5ECF6",
            "gridcolor": "white",
            "gridwidth": 2,
            "linecolor": "white",
            "showbackground": true,
            "ticks": "",
            "zerolinecolor": "white"
           },
           "yaxis": {
            "backgroundcolor": "#E5ECF6",
            "gridcolor": "white",
            "gridwidth": 2,
            "linecolor": "white",
            "showbackground": true,
            "ticks": "",
            "zerolinecolor": "white"
           },
           "zaxis": {
            "backgroundcolor": "#E5ECF6",
            "gridcolor": "white",
            "gridwidth": 2,
            "linecolor": "white",
            "showbackground": true,
            "ticks": "",
            "zerolinecolor": "white"
           }
          },
          "shapedefaults": {
           "line": {
            "color": "#2a3f5f"
           }
          },
          "ternary": {
           "aaxis": {
            "gridcolor": "white",
            "linecolor": "white",
            "ticks": ""
           },
           "baxis": {
            "gridcolor": "white",
            "linecolor": "white",
            "ticks": ""
           },
           "bgcolor": "#E5ECF6",
           "caxis": {
            "gridcolor": "white",
            "linecolor": "white",
            "ticks": ""
           }
          },
          "title": {
           "x": 0.05
          },
          "xaxis": {
           "automargin": true,
           "gridcolor": "white",
           "linecolor": "white",
           "ticks": "",
           "title": {
            "standoff": 15
           },
           "zerolinecolor": "white",
           "zerolinewidth": 2
          },
          "yaxis": {
           "automargin": true,
           "gridcolor": "white",
           "linecolor": "white",
           "ticks": "",
           "title": {
            "standoff": 15
           },
           "zerolinecolor": "white",
           "zerolinewidth": 2
          }
         }
        },
        "title": {
         "text": "LLM-generated inductive codes"
        },
        "xaxis": {
         "anchor": "y",
         "domain": [
          0,
          1
         ],
         "tickangle": -45,
         "title": {
          "text": "Code"
         }
        },
        "yaxis": {
         "anchor": "x",
         "domain": [
          0,
          1
         ],
         "title": {
          "text": "Count"
         }
        }
       }
      }
     },
     "metadata": {},
     "output_type": "display_data"
    }
   ],
   "source": [
    "import plotly.express as px\n",
    "\n",
    "\n",
    "# @title\n",
    "def plot_generated_codes(code_highlights, title):\n",
    "    code_counts = [(code, len(highlights)) for code, highlights in code_highlights.items()]\n",
    "    df_codes = pd.DataFrame(code_counts, columns=['Code', 'Count'])\n",
    "    df_codes = df_codes.sort_values(by='Count', ascending=False).reset_index(drop=True)\n",
    "\n",
    "    # Create a vertical bar plot using Plotly with angled x-axis labels\n",
    "    fig = px.bar(df_codes, x='Code', y='Count', title=title)\n",
    "\n",
    "    # Update layout to angle x-axis labels at 45 degrees\n",
    "    fig.update_layout(xaxis_tickangle=-45)\n",
    "    fig.show()\n",
    "\n",
    "# Parse all codes and highlights in LLM output\n",
    "plot_generated_codes(code_highlights_ded, 'LLM-generated inductive codes')"
   ]
  },
  {
   "cell_type": "markdown",
   "metadata": {},
   "source": [
    "## Multiple Runs\n",
    "\n",
    "### run LLMCode (inductive)\n",
    "\n",
    "a toolkit for AI-assisted qualitative data analysis\n",
    "\n",
    "\n",
    "few shots examples are fixed for all runs:"
   ]
  },
  {
   "cell_type": "code",
   "execution_count": 87,
   "metadata": {},
   "outputs": [],
   "source": [
    "few_shot_examples = pd.DataFrame({\n",
    "    \"text\": [\n",
    "        \"The game and it's graphics, music and story made me feel calm and happy  in a way nothing else could at the time. Playing it felt like a journey to another, better place , and that's art to me.\",\n",
    "        \"I played the game Kairo, or Cairo I can't remember, it was an atmospheric puzzle game with big rooms filled with mist and interesting lighting, all the textures were concrete\"],\n",
    "    \"coded_text\": [\n",
    "        \"The game and it's graphics, music and story **made me feel calm and happy**<sup>emotional response</sup> in a way nothing else could at the time. **Playing it felt like a journey to another, better place**<sup>setting; immersion</sup>, and that's art to me.\",\n",
    "        \"I played the game Kairo, or Cairo I can't remember, **it was an atmospheric puzzle game with big rooms filled with mist and interesting lighting, all the textures were concrete**<sup>setting; creativity</sup>\"\n",
    "    ]\n",
    "})"
   ]
  },
  {
   "cell_type": "markdown",
   "metadata": {},
   "source": [
    "function to run multiple times..."
   ]
  },
  {
   "cell_type": "code",
   "execution_count": null,
   "metadata": {},
   "outputs": [],
   "source": [
    "import random\n",
    "import pandas as pd\n",
    "import json\n",
    "\n",
    "def process_robot_data(type_robot, category, abbreviations_dict, all_sheets_RR, all_sheets_SAR, all_sheets_Combined, \n",
    "                       directory, few_shot_examples, create_multivalue_dict, combine_dicts, LLMCode, \n",
    "                       gpt_model=\"gpt-3.5-turbo\", use_cache=True, max_tokens=200, verbose=True, \n",
    "                       random_entries=True, random_entries_count=20):\n",
    "    \"\"\"\n",
    "    Processes data for the specified robot type and category and saves the output as Excel and JSON.\n",
    "\n",
    "    Parameters:\n",
    "        type_robot (str): The type of robot (\"SAR\", \"RR\", or \"Combined\").\n",
    "        category (str): The category to process.\n",
    "        abbreviations_dict (dict): Dictionary containing abbreviations and their meanings.\n",
    "        all_sheets_RR (dict): Data for rescue robots.\n",
    "        all_sheets_SAR (dict): Data for socially assistive robots.\n",
    "        all_sheets_Combined (dict): Data for combined robots.\n",
    "        directory (str): Directory to save output files.\n",
    "        few_shot_examples (list): Few-shot examples for the LLM.\n",
    "        create_multivalue_dict (function): Function to create multi-value mappings.\n",
    "        combine_dicts (function): Function to combine dictionaries.\n",
    "        LLMCode (object): An object with the code induction method.\n",
    "        gpt_model (str): GPT model to use. Defaults to \"gpt-3.5-turbo\".\n",
    "        use_cache (bool): Whether to use cache. Defaults to True.\n",
    "        max_tokens (int): Maximum token length for the GPT response. Defaults to 200.\n",
    "        verbose (bool): Whether to print verbose output. Defaults to True.\n",
    "        random_entries (bool): Whether to sample random entries. Defaults to True.\n",
    "        random_entries_count (int): Number of random entries to sample. Defaults to 20.\n",
    "\n",
    "    Returns:\n",
    "        None\n",
    "    \"\"\"\n",
    "    # Determine the appropriate data source\n",
    "    if type_robot == \"RR\":\n",
    "        tmp_df = all_sheets_RR\n",
    "        naming_robots = \"rescue robots\"\n",
    "    elif type_robot == \"SAR\":\n",
    "        tmp_df = all_sheets_SAR\n",
    "        naming_robots = \"socially assistive robots\"\n",
    "    elif type_robot == \"Combined\":\n",
    "        tmp_df = all_sheets_Combined\n",
    "        naming_robots = \"rescue robots and socially assistive robots\"\n",
    "    else:\n",
    "        raise ValueError(\"Invalid type_robot specified.\")\n",
    "    \n",
    "    # Ensure category exists\n",
    "    if category not in abbreviations_dict:\n",
    "        raise ValueError(f\"Category '{category}' is not in the abbreviations dictionary.\")\n",
    "    \n",
    "    topic_category = abbreviations_dict[category]\n",
    "    df = tmp_df[category]\n",
    "    \n",
    "    # Create combined dictionary\n",
    "    constant_comments_mapping = create_multivalue_dict(df, 'constant', 'constant_comments')\n",
    "    new_comments_mapping = create_multivalue_dict(df, 'new', 'new_comments')\n",
    "    constant_new_comments_mapping = combine_dicts(constant_comments_mapping, new_comments_mapping)\n",
    "    \n",
    "    # Generate single concepts\n",
    "    single_concepts = []\n",
    "    for key, values in constant_new_comments_mapping.items():\n",
    "        for value in values:\n",
    "            if isinstance(value, str):\n",
    "                single_concepts.append(f\"{key}: {value}\")\n",
    "            else:\n",
    "                single_concepts.append(key)\n",
    "    \n",
    "    # Filter for entries with more than one word\n",
    "    single_concepts = list({entry for entry in single_concepts if len(entry.split()) > 1})\n",
    "    \n",
    "    if random_entries:\n",
    "        single_concepts = random.sample(single_concepts, min(random_entries_count, len(single_concepts)))\n",
    "\n",
    "    research_question = f\"What are the mentioned key benefits and risks regarding the {topic_category} of {naming_robots}?\"\n",
    "    \n",
    "    if verbose:\n",
    "        print(f\"Processing category: {category}\")\n",
    "        print(\"Research Question:\", research_question)\n",
    "    \n",
    "    # Perform LLM coding\n",
    "    coded_texts, code_descriptions = LLMCode.code_inductively_with_code_consistency_adj(\n",
    "        texts=single_concepts,\n",
    "        research_question=research_question,\n",
    "        topicCategory=topic_category,\n",
    "        few_shot_examples=few_shot_examples,\n",
    "        gpt_model=gpt_model,\n",
    "        use_cache=use_cache,\n",
    "        max_tokens=max_tokens,\n",
    "        verbose=verbose\n",
    "    )\n",
    "    \n",
    "    # Prepare data for saving\n",
    "    json_data = {'robot': type_robot, 'category': category, 'coded_texts': coded_texts, 'code_descriptions': code_descriptions}\n",
    "\n",
    "    # Save as JSON\n",
    "    if type_robot == \"RR\":\n",
    "        json_file_path = f\"{directory}/output/G3/json RR/{type_robot} - {category}.json\"\n",
    "    elif type_robot == \"SAR\":\n",
    "        json_file_path = f\"{directory}/output/G3/json SAR/{type_robot} - {category}.json\"\n",
    "    else: \n",
    "        json_file_path = f\"{directory}/output/G3/{type_robot} - {category}.json\"\n",
    "\n",
    "    with open(json_file_path, 'w') as file:\n",
    "        json.dump([json_data], file, indent=4)\n",
    "    \n",
    "    if verbose:\n",
    "        print(f\"JSON file saved to {json_file_path}\")"
   ]
  },
  {
   "cell_type": "markdown",
   "metadata": {},
   "source": [
    "#### run LLMCode (inductive) for RR"
   ]
  },
  {
   "cell_type": "code",
   "execution_count": 93,
   "metadata": {},
   "outputs": [],
   "source": [
    "run_inductive_coding = True # True"
   ]
  },
  {
   "cell_type": "code",
   "execution_count": 94,
   "metadata": {},
   "outputs": [
    {
     "name": "stdout",
     "output_type": "stream",
     "text": [
      "index: 0, category: TP\n",
      "Processing category: TP\n",
      "Research Question: What are the mentioned key benefits and risks regarding the perceived technological possibilities of rescue robots?\n",
      " |----------------------------------------------------------------------------------------------------| 0.6% Warning: LLM output differs from the original text, with edit distance 40\n",
      "Original text: \"rescue of injured\"\n",
      "LLM output: \"There are no coded statements in the text provided.\"\n",
      "Text reconstruction successful\n",
      "\n",
      "Had to reconstruct 1 texts due to LLM errors\n",
      " |█---------------------------------------------------------------------------------------------------| 1.7% Warning: LLM output differs from the original text, with edit distance 51\n",
      "Original text: \"access to hindered areas\"\n",
      "LLM output: \"The text contains no insights relevant to the research question.\"\n",
      "Text reconstruction successful\n",
      "\n",
      "Had to reconstruct 1 texts due to LLM errors\n",
      " |██--------------------------------------------------------------------------------------------------| 2.2% Warning: LLM output differs from the original text, with edit distance 82\n",
      "Original text: \"better support possible\"\n",
      "LLM output: \"I'm sorry, but the text provided does not contain any insights relevant to the research question.\"\n",
      "Text reconstruction successful\n",
      "\n",
      "Had to reconstruct 1 texts due to LLM errors\n",
      " |██--------------------------------------------------------------------------------------------------| 2.8% Warning: LLM output differs from the original text, with edit distance 64\n",
      "Original text: \"more targeted search\"\n",
      "LLM output: \"There are no insightful statements in the text related to the research question.\"\n",
      "Text reconstruction successful\n",
      "\n",
      "Had to reconstruct 1 texts due to LLM errors\n",
      " |███-------------------------------------------------------------------------------------------------| 3.4% Warning: LLM output differs from the original text, with edit distance 48\n",
      "Original text: \"recognize dangerous situations\"\n",
      "LLM output: \"The text contains no insights relevant to the research question.\"\n",
      "Text reconstruction successful\n",
      "\n",
      "Had to reconstruct 1 texts due to LLM errors\n",
      " |███-------------------------------------------------------------------------------------------------| 3.9% Warning: LLM output differs from the original text, with edit distance 51\n",
      "Original text: \"delivery of important supplies\"\n",
      "LLM output: \"The text contains no insights relevant to the research question.\"\n",
      "Text reconstruction successful\n",
      "\n",
      "Had to reconstruct 1 texts due to LLM errors\n",
      " |█████-----------------------------------------------------------------------------------------------| 5.6% Warning: LLM output differs from the original text, with edit distance 52\n",
      "Original text: \"can work anywhere\"\n",
      "LLM output: \"The text contains no insights relevant to the research question.\"\n",
      "Text reconstruction successful\n",
      "\n",
      "Had to reconstruct 1 texts due to LLM errors\n",
      " |███████---------------------------------------------------------------------------------------------| 7.3% Warning: LLM output differs from the original text, with edit distance 1\n",
      "Original text: \"Night vision capability: A robot with a highly sensitive camera can perform analyses and actions at night that humans can only accomplish with the aid of tools.\"\n",
      "LLM output: \"**Night vision capability: A robot with a highly sensitive camera can perform analyses and actions at night that humans can only accomplish with the aid of tools**<sup>night vision; enhanced capabilities</sup>\"\n",
      "Distance less than treshold 5, accept\n",
      "\n",
      " |████████--------------------------------------------------------------------------------------------| 8.4% Warning: LLM output differs from the original text, with edit distance 7\n",
      "Original text: \"speed: Robots can make the rescue overall faster, and this can save lives\"\n",
      "LLM output: \"**Robots can make the rescue overall faster, and this can save lives**<sup>speed</sup>\"\n",
      "Text reconstruction successful\n",
      "\n",
      "Had to reconstruct 1 texts due to LLM errors\n",
      " |██████████------------------------------------------------------------------------------------------| 10.6% Warning: LLM output differs from the original text, with edit distance 25\n",
      "Original text: \"information generation: Emergency services can make their own operations more effective through the data collected by the robot.\"\n",
      "LLM output: \"**Emergency services can make their own operations more effective through the data collected by the robot**<sup>information generation</sup>\"\n",
      "Text reconstruction successful\n",
      "\n",
      "Had to reconstruct 1 texts due to LLM errors\n",
      " |████████████████------------------------------------------------------------------------------------| 16.2% Warning: LLM output differs from the original text, with edit distance 20\n",
      "Original text: \"remote controlled: Through remote control, people can be involved in the search and the search can thus be improved\"\n",
      "LLM output: \"***Through remote control, people can be involved in the search and the search can thus be improved***<sup>remote controlled; search improvement</sup>\"\n",
      "Text reconstruction successful\n",
      "\n",
      "Had to reconstruct 1 texts due to LLM errors\n",
      " |██████████████████----------------------------------------------------------------------------------| 19.0% Warning: LLM output differs from the original text, with edit distance 269\n",
      "Original text: \"environment-independent: Operable in air, water, ground. Toxic or narrow environments.\"\n",
      "LLM output: \"***\n",
      "\n",
      "Operable in air, water, ground. Toxic or narrow environments. \n",
      "\n",
      "***environment-independent<sup>versatility; adaptability</sup>:\n",
      "\n",
      "The text highlights a key benefit of rescue robots being **environment-independent**, capable of operating in various settings including air, water, ground, and toxic environments, which enhances their versatility and adaptability for rescue missions.\"\n",
      "Text reconstruction successful\n",
      "\n",
      "Had to reconstruct 1 texts due to LLM errors\n",
      " |█████████████████████-------------------------------------------------------------------------------| 21.8% Warning: LLM output differs from the original text, with edit distance 53\n",
      "Original text: \"accessibility: Comes to additional places like a human\"\n",
      "LLM output: \"The text contains no insights relevant to the research question.\"\n",
      "Text reconstruction successful\n",
      "\n",
      "Had to reconstruct 1 texts due to LLM errors\n",
      " |██████████████████████------------------------------------------------------------------------------| 22.3% Warning: LLM output differs from the original text, with edit distance 47\n",
      "Original text: \"remote controlled: even people think about unexpected situations\"\n",
      "LLM output: \"The text contains no insights relevant to the research question.\"\n",
      "Text reconstruction successful\n",
      "\n",
      "Had to reconstruct 1 texts due to LLM errors\n",
      " |███████████████████████-----------------------------------------------------------------------------| 23.5% Warning: LLM output differs from the original text, with edit distance 6\n",
      "Original text: \"resilience: Can withstand adverse conditions, which makes them more effective in disaster areas\"\n",
      "LLM output: \"***\n",
      "\n",
      "**resilience: Can withstand adverse conditions, which makes them more effective in disaster areas**<sup>effectiveness</sup>\n",
      "\n",
      "***\"\n",
      "Text reconstruction successful\n",
      "\n",
      "Had to reconstruct 1 texts due to LLM errors\n",
      " |████████████████████████----------------------------------------------------------------------------| 24.0% Warning: LLM output differs from the original text, with edit distance 89\n",
      "Original text: \"hybrid system: Where when the goal is reached and a person is found or similar, a human can take over in the situation\"\n",
      "LLM output: \"The text contains no insights relevant to the research question.\"\n",
      "Text reconstruction successful\n",
      "\n",
      "Had to reconstruct 1 texts due to LLM errors\n",
      " |███████████████████████████-------------------------------------------------------------------------| 27.4% Warning: LLM output differs from the original text, with edit distance 2\n",
      "Original text: \"special abilities: Can fly in contrast to human rescuers, make themselves small, and accomplish special tasks like hacking a door or sending images to the control center with cameras.\"\n",
      "LLM output: \"***special abilities: Can fly in contrast to human rescuers, make themselves small, and accomplish special tasks like hacking a door or sending images to the control center with cameras***<sup>versatility; specialized tasks</sup>.\"\n",
      "Distance less than treshold 5, accept\n",
      "\n",
      " |█████████████████████████████-----------------------------------------------------------------------| 29.6% Warning: LLM output differs from the original text, with edit distance 51\n",
      "Original text: \"manageable under more difficult conditions\"\n",
      "LLM output: \"The text contains no insights relevant to the research question.\"\n",
      "Text reconstruction successful\n",
      "\n",
      "Had to reconstruct 1 texts due to LLM errors\n",
      " |██████████████████████████████----------------------------------------------------------------------| 30.7% Warning: LLM output differs from the original text, with edit distance 205\n",
      "Original text: \"learning phase\"\n",
      "LLM output: \"I'm sorry, but the text provided does not contain any insights relevant to the research question. If you have another text or specific information you would like to analyze inductively, please feel free to provide it.\"\n",
      "Text reconstruction successful\n",
      "\n",
      "Had to reconstruct 1 texts due to LLM errors\n",
      " |█████████████████████████████████-------------------------------------------------------------------| 33.5% Warning: LLM output differs from the original text, with edit distance 2\n",
      "Original text: \"Accessibility: You can reach areas that are not accessible to humans\"\n",
      "LLM output: \"***Accessibility: You can reach areas that are not accessible to humans***<sup>information generation</sup>\"\n",
      "Distance less than treshold 5, accept\n",
      "\n",
      " |██████████████████████████████████------------------------------------------------------------------| 34.1% Warning: LLM output differs from the original text, with edit distance 2\n",
      "Original text: \"manual control: Robots are actively remote-controlled by humans\"\n",
      "LLM output: \"***manual control: Robots are actively remote-controlled by humans***<sup>remote controlled</sup>\"\n",
      "Distance less than treshold 5, accept\n",
      "\n",
      " |███████████████████████████████████-----------------------------------------------------------------| 35.8% Warning: LLM output differs from the original text, with edit distance 1\n",
      "Original text: \"special abilities: In certain cases, for example collapsed buildings, robots have better skills to solve certain tasks.\"\n",
      "LLM output: \"**special abilities: In certain cases, for example collapsed buildings, robots have better skills to solve certain tasks**<sup>specialized tasks</sup>\"\n",
      "Distance less than treshold 5, accept\n",
      "\n",
      " |████████████████████████████████████████------------------------------------------------------------| 40.8% Warning: LLM output differs from the original text, with edit distance 2\n",
      "Original text: \"delivery of relief goods: Food, water..\"\n",
      "LLM output: \"***delivery of relief goods: Food, water..***\"\n",
      "Distance less than treshold 5, accept\n",
      "\n",
      " |█████████████████████████████████████████-----------------------------------------------------------| 41.3% Warning: LLM output differs from the original text, with edit distance 50\n",
      "Original text: \"many areas of application\"\n",
      "LLM output: \"The text contains no insights relevant to the research question.\"\n",
      "Text reconstruction successful\n",
      "\n",
      "Had to reconstruct 1 texts due to LLM errors\n",
      " |███████████████████████████████████████████---------------------------------------------------------| 43.0% Warning: LLM output differs from the original text, with edit distance 17\n",
      "Original text: \"mine clearance: Because the robots are smaller, they could help in the event of a spill.\"\n",
      "LLM output: \"***Because the robots are smaller, they could help in the event of a spill.***<sup>mine clearance</sup>\"\n",
      "Text reconstruction successful\n",
      "\n",
      "Had to reconstruct 1 texts due to LLM errors\n",
      " |████████████████████████████████████████████--------------------------------------------------------| 44.7% Warning: LLM output differs from the original text, with edit distance 51\n",
      "Original text: \"can support auxiliary staff\"\n",
      "LLM output: \"The text contains no insights relevant to the research question.\"\n",
      "Text reconstruction successful\n",
      "\n",
      "Had to reconstruct 1 texts due to LLM errors\n",
      " |█████████████████████████████████████████████-------------------------------------------------------| 45.8% Warning: LLM output differs from the original text, with edit distance 2\n",
      "Original text: \"reach places: where people cannot go\"\n",
      "LLM output: \"***reach places: where people cannot go***<sup>exploration</sup>\"\n",
      "Distance less than treshold 5, accept\n",
      "\n",
      " |████████████████████████████████████████████████----------------------------------------------------| 48.6% Warning: LLM output differs from the original text, with edit distance 49\n",
      "Original text: \"does not need provisions\"\n",
      "LLM output: \"The text contains no insights relevant to the research question.\"\n",
      "Text reconstruction successful\n",
      "\n",
      "Had to reconstruct 1 texts due to LLM errors\n",
      " |█████████████████████████████████████████████████---------------------------------------------------| 49.2% Warning: LLM output differs from the original text, with edit distance 2\n",
      "Original text: \"facilitated rescue: Through sensors or similar, rescue efforts can be facilitated, for example by clearing rubble, removing obstacles etc.\"\n",
      "LLM output: \"***facilitated rescue: Through sensors or similar, rescue efforts can be facilitated, for example by clearing rubble, removing obstacles etc.***<sup>sensor technology; obstacle removal</sup>\"\n",
      "Distance less than treshold 5, accept\n",
      "\n",
      " |█████████████████████████████████████████████████---------------------------------------------------| 49.7% Warning: LLM output differs from the original text, with edit distance 2\n",
      "Original text: \"first aid for people: Rescue robots can support initial aid in disasters.\"\n",
      "LLM output: \"***first aid for people: Rescue robots can support initial aid in disasters.***<sup>irrelevant</sup>\"\n",
      "Distance less than treshold 5, accept\n",
      "\n",
      " |██████████████████████████████████████████████████--------------------------------------------------| 50.8% Warning: LLM output differs from the original text, with edit distance 17\n",
      "Original text: \"time commitment: Autonomous robots can complement human searches and accordingly work in parallel, leading to time savings.\"\n",
      "LLM output: \"**Autonomous robots can complement human searches and accordingly work in parallel**, leading to **time savings**<sup>efficiency</sup>.\"\n",
      "Text reconstruction successful\n",
      "\n",
      "Had to reconstruct 1 texts due to LLM errors\n",
      " |███████████████████████████████████████████████████-------------------------------------------------| 51.4% Warning: LLM output differs from the original text, with edit distance 19\n",
      "Original text: \"multiplicability: Unlike humans, theoretically available unlimited times\"\n",
      "LLM output: \"***Unlike humans, theoretically available unlimited times***<sup>multiplicability</sup>\"\n",
      "Text reconstruction successful\n",
      "\n",
      "Had to reconstruct 1 texts due to LLM errors\n",
      " |███████████████████████████████████████████████████-------------------------------------------------| 52.0% Warning: LLM output differs from the original text, with edit distance 60\n",
      "Original text: \"find way\"\n",
      "LLM output: \"The text contains no insights relevant to the research question.\"\n",
      "Text reconstruction successful\n",
      "\n",
      "Had to reconstruct 1 texts due to LLM errors\n",
      " |████████████████████████████████████████████████████------------------------------------------------| 52.5% Warning: LLM output differs from the original text, with edit distance 50\n",
      "Original text: \"does not need breaks\"\n",
      "LLM output: \"The text contains no insights relevant to the research question.\"\n",
      "Text reconstruction successful\n",
      "\n",
      "Had to reconstruct 1 texts due to LLM errors\n",
      " |███████████████████████████████████████████████████████---------------------------------------------| 55.9% Warning: LLM output differs from the original text, with edit distance 48\n",
      "Original text: \"insensitivity to environmental stimuli\"\n",
      "LLM output: \"The text contains no insights relevant to the research question.\"\n",
      "Text reconstruction successful\n",
      "\n",
      "Had to reconstruct 1 texts due to LLM errors\n",
      " |████████████████████████████████████████████████████████--------------------------------------------| 56.4% Warning: LLM output differs from the original text, with edit distance 63\n",
      "Original text: \"are \"unlimited\" available: theoretically speaking, in contrast to human rescuers\"\n",
      "LLM output: \"The text contains no insights relevant to the research question.\"\n",
      "Text reconstruction successful\n",
      "\n",
      "Had to reconstruct 1 texts due to LLM errors\n",
      " |██████████████████████████████████████████████████████████------------------------------------------| 58.7% Warning: LLM output differs from the original text, with edit distance 201\n",
      "Original text: \"transport devices\"\n",
      "LLM output: \"I'm sorry, but the text provided does not contain any insights relevant to the research question. If you have another text or specific information you would like to analyze inductively, please feel free to provide it.\"\n",
      "Text reconstruction successful\n",
      "\n",
      "Had to reconstruct 1 texts due to LLM errors\n",
      " |███████████████████████████████████████████████████████████-----------------------------------------| 59.8% Warning: LLM output differs from the original text, with edit distance 58\n",
      "Original text: \"Rescue work\"\n",
      "LLM output: \"The text contains no insights relevant to the research question.\"\n",
      "Text reconstruction successful\n",
      "\n",
      "Had to reconstruct 1 texts due to LLM errors\n",
      " |████████████████████████████████████████████████████████████----------------------------------------| 60.3% Warning: LLM output differs from the original text, with edit distance 2\n",
      "Original text: \"more power: Robots could have more strength than humans.\"\n",
      "LLM output: \"***more power: Robots could have more strength than humans***<sup>strength</sup>\"\n",
      "Distance less than treshold 5, accept\n",
      "\n",
      " |████████████████████████████████████████████████████████████----------------------------------------| 60.9% Warning: LLM output differs from the original text, with edit distance 83\n",
      "Original text: \"better navigation\"\n",
      "LLM output: \"There are no coded statements in the text that provide insights relevant to the research question.\"\n",
      "Text reconstruction successful\n",
      "\n",
      "Had to reconstruct 1 texts due to LLM errors\n",
      " |███████████████████████████████████████████████████████████████-------------------------------------| 63.7% Warning: LLM output differs from the original text, with edit distance 7\n",
      "Original text: \"mobility: Robots can, for example as drones, also reach places that humans cannot or only very difficultly reach. They can also be faster.\"\n",
      "LLM output: \"*** \n",
      "\n",
      "**mobility: Robots can, for example as drones, also reach places that humans cannot or only very difficultly reach**<sup>accessibility; speed</sup>. **They can also be faster**<sup>speed</sup>.\n",
      "\n",
      "***\"\n",
      "Text reconstruction successful\n",
      "\n",
      "Had to reconstruct 1 texts due to LLM errors\n",
      " |████████████████████████████████████████████████████████████████------------------------------------| 64.2% Warning: LLM output differs from the original text, with edit distance 102\n",
      "Original text: \"precise and efficiency: Robots can also work more accurately than humans.\"\n",
      "LLM output: \"***Robots can also work more accurately than humans.***\n",
      ": Captures references to the precision and efficiency of robots compared to humans.\"\n",
      "Text reconstruction successful\n",
      "\n",
      "Had to reconstruct 1 texts due to LLM errors\n",
      " |█████████████████████████████████████████████████████████████████-----------------------------------| 65.4% Warning: LLM output differs from the original text, with edit distance 57\n",
      "Original text: \"always available\"\n",
      "LLM output: \"The text contains no insights relevant to the research question.\"\n",
      "Text reconstruction successful\n",
      "\n",
      "Had to reconstruct 1 texts due to LLM errors\n",
      " |██████████████████████████████████████████████████████████████████----------------------------------| 66.5% Warning: LLM output differs from the original text, with edit distance 26\n",
      "Original text: \"entering unstable areas: Soft robots can penetrate unstable places because of their small size and high flexibility.\"\n",
      "LLM output: \"***Soft robots can penetrate unstable places because of their small size and high flexibility***<sup>entering unstable areas</sup>\"\n",
      "Text reconstruction successful\n",
      "\n",
      "Had to reconstruct 1 texts due to LLM errors\n",
      " |███████████████████████████████████████████████████████████████████---------------------------------| 67.6% Warning: LLM output differs from the original text, with edit distance 28\n",
      "Original text: \"collection of information: Robots can collect information about victims\"\n",
      "LLM output: \"***Robots can collect information about victims***<sup>data collection</sup>\"\n",
      "Text reconstruction successful\n",
      "\n",
      "Had to reconstruct 1 texts due to LLM errors\n",
      " |████████████████████████████████████████████████████████████████████--------------------------------| 68.7% Warning: LLM output differs from the original text, with edit distance 2\n",
      "Original text: \"applicability: So far, rescue robots are well equipped for individual skills, but more complex tasks or multiple tasks are still difficult.\"\n",
      "LLM output: \"***applicability: So far, rescue robots are well equipped for individual skills, but more complex tasks or multiple tasks are still difficult***<sup>limitations in handling complex or multiple tasks</sup>\"\n",
      "Distance less than treshold 5, accept\n",
      "\n",
      " |██████████████████████████████████████████████████████████████████████------------------------------| 70.9% Warning: LLM output differs from the original text, with edit distance 55\n",
      "Original text: \"delivery of supplies\"\n",
      "LLM output: \"The text contains no insights relevant to the research question.\"\n",
      "Text reconstruction successful\n",
      "\n",
      "Had to reconstruct 1 texts due to LLM errors\n",
      " |███████████████████████████████████████████████████████████████████████████-------------------------| 76.0% Warning: LLM output differs from the original text, with edit distance 1\n",
      "Original text: \"number: With enough resources, many robots can be used, whereas humans are limited.\"\n",
      "LLM output: \"**number: With enough resources, many robots can be used, whereas humans are limited**<sup>multiplicability</sup>\"\n",
      "Distance less than treshold 5, accept\n",
      "\n",
      " |█████████████████████████████████████████████████████████████████████████████-----------------------| 77.7% Warning: LLM output differs from the original text, with edit distance 54\n",
      "Original text: \"care for victims\"\n",
      "LLM output: \"The text contains no insights relevant to the research question.\"\n",
      "Text reconstruction successful\n",
      "\n",
      "Had to reconstruct 1 texts due to LLM errors\n",
      " |███████████████████████████████████████████████████████████████████████████████---------------------| 79.3% Warning: LLM output differs from the original text, with edit distance 54\n",
      "Original text: \"enables much more\"\n",
      "LLM output: \"The text contains no insights relevant to the research question.\"\n",
      "Text reconstruction successful\n",
      "\n",
      "Had to reconstruct 1 texts due to LLM errors\n",
      " |████████████████████████████████████████████████████████████████████████████████--------------------| 80.4% Warning: LLM output differs from the original text, with edit distance 2\n",
      "Original text: \"high local flexibility: can be kept ready everywhere, human rescuers are not always (immediately) on site\"\n",
      "LLM output: \"***high local flexibility: can be kept ready everywhere, human rescuers are not always (immediately) on site***<sup>readiness</sup>\"\n",
      "Distance less than treshold 5, accept\n",
      "\n",
      " |█████████████████████████████████████████████████████████████████████████████████-------------------| 81.6% Warning: LLM output differs from the original text, with edit distance 46\n",
      "Original text: \"data and information transmission\"\n",
      "LLM output: \"The text contains no insights relevant to the research question.\"\n",
      "Text reconstruction successful\n",
      "\n",
      "Had to reconstruct 1 texts due to LLM errors\n",
      " |██████████████████████████████████████████████████████████████████████████████████------------------| 82.1% Warning: LLM output differs from the original text, with edit distance 53\n",
      "Original text: \"simplified education\"\n",
      "LLM output: \"The text contains no insights relevant to the research question.\"\n",
      "Text reconstruction successful\n",
      "\n",
      "Had to reconstruct 1 texts due to LLM errors\n",
      " |███████████████████████████████████████████████████████████████████████████████████-----------------| 83.8% Warning: LLM output differs from the original text, with edit distance 63\n",
      "Original text: \"mapping: Maps can be created over the searched area, which promote an overview\"\n",
      "LLM output: \"The text contains no insights relevant to the research question.\"\n",
      "Text reconstruction successful\n",
      "\n",
      "Had to reconstruct 1 texts due to LLM errors\n",
      " |█████████████████████████████████████████████████████████████████████████████████████---------------| 85.5% Warning: LLM output differs from the original text, with edit distance 54\n",
      "Original text: \"new approaches\"\n",
      "LLM output: \"The text contains no insights relevant to the research question.\"\n",
      "Text reconstruction successful\n",
      "\n",
      "Had to reconstruct 1 texts due to LLM errors\n",
      " |██████████████████████████████████████████████████████████████████████████████████████--------------| 86.6% Warning: LLM output differs from the original text, with edit distance 53\n",
      "Original text: \"rescue after building collapse\"\n",
      "LLM output: \"The text contains no insights relevant to the research question.\"\n",
      "Text reconstruction successful\n",
      "\n",
      "Had to reconstruct 1 texts due to LLM errors\n",
      " |███████████████████████████████████████████████████████████████████████████████████████-------------| 87.2% Warning: LLM output differs from the original text, with edit distance 20\n",
      "Original text: \"more possibilities: Robots could provide disaster aid in a new way that is not physically or mentally possible for humans.\"\n",
      "LLM output: \"**Robots could provide disaster aid in a new way that is not physically or mentally possible for humans**<sup>more possibilities</sup>.\"\n",
      "Text reconstruction successful\n",
      "\n",
      "Had to reconstruct 1 texts due to LLM errors\n",
      " |████████████████████████████████████████████████████████████████████████████████████████------------| 88.8% Warning: LLM output differs from the original text, with edit distance 53\n",
      "Original text: \"emergency care: e.g. with food\"\n",
      "LLM output: \"The text contains no insights relevant to the research question.\"\n",
      "Text reconstruction successful\n",
      "\n",
      "Had to reconstruct 1 texts due to LLM errors\n",
      " |██████████████████████████████████████████████████████████████████████████████████████████----------| 90.5% Warning: LLM output differs from the original text, with edit distance 48\n",
      "Original text: \"diverse: Can reach points where people cannot get to\"\n",
      "LLM output: \"The text contains no insights relevant to the research question.\"\n",
      "Text reconstruction successful\n",
      "\n",
      "Had to reconstruct 1 texts due to LLM errors\n",
      " |█████████████████████████████████████████████████████████████████████████████████████████████-------| 93.3% Warning: LLM output differs from the original text, with edit distance 53\n",
      "Original text: \"influence on misconduct\"\n",
      "LLM output: \"The text contains no insights relevant to the research question.\"\n",
      "Text reconstruction successful\n",
      "\n",
      "Had to reconstruct 1 texts due to LLM errors\n",
      " |█████████████████████████████████████████████████████████████████████████████████████████████-------| 93.9% Warning: LLM output differs from the original text, with edit distance 49\n",
      "Original text: \"help in disaster areas\"\n",
      "LLM output: \"The text contains no insights relevant to the research question.\"\n",
      "Text reconstruction successful\n",
      "\n",
      "Had to reconstruct 1 texts due to LLM errors\n",
      " |███████████████████████████████████████████████████████████████████████████████████████████████-----| 95.5% Warning: LLM output differs from the original text, with edit distance 55\n",
      "Original text: \"specialized tools\"\n",
      "LLM output: \"The text contains no insights relevant to the research question.\"\n",
      "Text reconstruction successful\n",
      "\n",
      "Had to reconstruct 1 texts due to LLM errors\n",
      " |█████████████████████████████████████████████████████████████████████████████████████████████████---| 97.2% Warning: LLM output differs from the original text, with edit distance 1\n",
      "Original text: \"strength: Robots can be constructed to have superhuman strength, for example, to lift debris.\"\n",
      "LLM output: \"**strength: Robots can be constructed to have superhuman strength, for example, to lift debris**<sup>strength</sup>\"\n",
      "Distance less than treshold 5, accept\n",
      "\n",
      " |█████████████████████████████████████████████████████████████████████████████████████████████████---| 97.8% Warning: LLM output differs from the original text, with edit distance 2\n",
      "Original text: \"delivery of essential goods\"\n",
      "LLM output: \"***delivery of essential goods***\"\n",
      "Distance less than treshold 5, accept\n",
      "\n",
      " |████████████████████████████████████████████████████████████████████████████████████████████████████| 100.0% \n",
      "JSON file saved to /home/fenn/Desktop/Publications/soft robot intervention/Analyses/main study - LLM/output/G3/json RR/RR - TP.json\n",
      "index: 1, category: TL\n",
      "Processing category: TL\n",
      "Research Question: What are the mentioned key benefits and risks regarding the perceived technological limitations of rescue robots?\n",
      " |█---------------------------------------------------------------------------------------------------| 1.2% Warning: LLM output differs from the original text, with edit distance 54\n",
      "Original text: \"immature technology\"\n",
      "LLM output: \"The text contains no insights relevant to the research question.\"\n",
      "Text reconstruction successful\n",
      "\n",
      "Had to reconstruct 1 texts due to LLM errors\n",
      " |███-------------------------------------------------------------------------------------------------| 3.6% Warning: LLM output differs from the original text, with edit distance 2\n",
      "Original text: \"traceability of AI: Artificial intelligence is not error-free.\"\n",
      "LLM output: \"***traceability of AI: Artificial intelligence is not error-free.***<sup>error-free</sup>\"\n",
      "Distance less than treshold 5, accept\n",
      "\n",
      " |████------------------------------------------------------------------------------------------------| 4.8% Warning: LLM output differs from the original text, with edit distance 2\n",
      "Original text: \"robot runtime: What does the robot work with? Battery? Energy? Gasoline? If the energy is depleted, do the victims have to wait until it is recharged?\"\n",
      "LLM output: \"***robot runtime: What does the robot work with? Battery? Energy? Gasoline? If the energy is depleted, do the victims have to wait until it is recharged?***<sup>robot runtime; operational delay</sup>\"\n",
      "Distance less than treshold 5, accept\n",
      "\n",
      " |████████--------------------------------------------------------------------------------------------| 8.3% Warning: LLM output differs from the original text, with edit distance 2\n",
      "Original text: \"specialization: There are no robots that are prepared for all eventualities, but mostly those that are specialized in just one type of disaster (e.g. earthquake vs. flood)\"\n",
      "LLM output: \"***specialization***: There are no robots that are prepared for all eventualities, but mostly those that are specialized in just one type of disaster (e.g. earthquake vs. flood)<sup>tailored effectiveness</sup>\"\n",
      "Distance less than treshold 5, accept\n",
      "\n",
      " |██████████------------------------------------------------------------------------------------------| 10.7% Warning: LLM output differs from the original text, with edit distance 2\n",
      "Original text: \"flexible soft parts: these parts can be damaged more quickly\"\n",
      "LLM output: \"***flexible soft parts: these parts can be damaged more quickly***<sup>risk</sup>\"\n",
      "Distance less than treshold 5, accept\n",
      "\n",
      " |███████████-----------------------------------------------------------------------------------------| 11.9% Warning: LLM output differs from the original text, with edit distance 53\n",
      "Original text: \"perhaps less precise\"\n",
      "LLM output: \"The text contains no insights relevant to the research question.\"\n",
      "Text reconstruction successful\n",
      "\n",
      "Had to reconstruct 1 texts due to LLM errors\n",
      " |███████████████-------------------------------------------------------------------------------------| 15.5% Warning: LLM output differs from the original text, with edit distance 67\n",
      "Original text: \"poor spontaneous adjustments: Circumstances that change themselves, or external influences.\"\n",
      "LLM output: \"The text contains no insights relevant to the research question.\"\n",
      "Text reconstruction successful\n",
      "\n",
      "Had to reconstruct 1 texts due to LLM errors\n",
      " |████████████████████--------------------------------------------------------------------------------| 20.2% Warning: LLM output differs from the original text, with edit distance 2\n",
      "Original text: \"cannot improvise: Situations that were not considered in programming could be a challenge and potentially dangerous.\"\n",
      "LLM output: \"***cannot improvise:***<sup>technological limitations</sup> Situations that were not considered in programming could be a challenge and potentially dangerous.\"\n",
      "Distance less than treshold 5, accept\n",
      "\n",
      " |██████████████████████------------------------------------------------------------------------------| 22.6% Warning: LLM output differs from the original text, with edit distance 1\n",
      "Original text: \"robustness: Potentially, rescue robots break because they are not robust (enough).\"\n",
      "LLM output: \"**robustness: Potentially, rescue robots break because they are not robust (enough)**<sup>risk</sup>\"\n",
      "Distance less than treshold 5, accept\n",
      "\n",
      " |██████████████████████████--------------------------------------------------------------------------| 26.2% Warning: LLM output differs from the original text, with edit distance 51\n",
      "Original text: \"possible technical errors\"\n",
      "LLM output: \"The text contains no insights relevant to the research question.\"\n",
      "Text reconstruction successful\n",
      "\n",
      "Had to reconstruct 1 texts due to LLM errors\n",
      " |███████████████████████████-------------------------------------------------------------------------| 27.4% Warning: LLM output differs from the original text, with edit distance 57\n",
      "Original text: \"could break\"\n",
      "LLM output: \"The text contains no insights relevant to the research question.\"\n",
      "Text reconstruction successful\n",
      "\n",
      "Had to reconstruct 1 texts due to LLM errors\n",
      " |█████████████████████████████-----------------------------------------------------------------------| 29.8% Warning: LLM output differs from the original text, with edit distance 49\n",
      "Original text: \"damages: Due to the soft material\"\n",
      "LLM output: \"The text contains no insights relevant to the research question.\"\n",
      "Text reconstruction successful\n",
      "\n",
      "Had to reconstruct 1 texts due to LLM errors\n",
      " |███████████████████████████████████-----------------------------------------------------------------| 35.7% Warning: LLM output differs from the original text, with edit distance 2\n",
      "Original text: \"damage: The robots could be damaged in dangerous situations.\"\n",
      "LLM output: \"***damage: The robots could be damaged in dangerous situations.***<sup>not insightful</sup>\"\n",
      "Distance less than treshold 5, accept\n",
      "\n",
      " |█████████████████████████████████████████-----------------------------------------------------------| 41.7% Warning: LLM output differs from the original text, with edit distance 58\n",
      "Original text: \"take damage\"\n",
      "LLM output: \"The text contains no insights relevant to the research question.\"\n",
      "Text reconstruction successful\n",
      "\n",
      "Had to reconstruct 1 texts due to LLM errors\n",
      " |████████████████████████████████████████████--------------------------------------------------------| 44.0% Warning: LLM output differs from the original text, with edit distance 191\n",
      "Original text: \"technical failures\"\n",
      "LLM output: \"I'm sorry, but the text provided does not contain any insights relevant to the research question. If you have another text or specific information you would like to analyze, please feel free to provide it.\"\n",
      "Text reconstruction successful\n",
      "\n",
      "Had to reconstruct 1 texts due to LLM errors\n",
      " |███████████████████████████████████████████████████-------------------------------------------------| 51.2% Warning: LLM output differs from the original text, with edit distance 46\n",
      "Original text: \"wrong assessment\"\n",
      "LLM output: \"There are no insightful statements in the provided text.\"\n",
      "Text reconstruction successful\n",
      "\n",
      "Had to reconstruct 1 texts due to LLM errors\n",
      " |████████████████████████████████████████████████████████████████------------------------------------| 64.3% Warning: LLM output differs from the original text, with edit distance 1\n",
      "Original text: \"no communication possible: People needing rescue often have to be able to communicate reliably with the rescue forces, which can be difficult.\"\n",
      "LLM output: \"**no communication possible**: People needing rescue often have to be able to communicate reliably with the rescue forces, which can be difficult. <sup>communication</sup>\"\n",
      "Distance less than treshold 5, accept\n",
      "\n",
      " |█████████████████████████████████████████████████████████████████████-------------------------------| 69.0% Warning: LLM output differs from the original text, with edit distance 85\n",
      "Original text: \"programming difficulties\"\n",
      "LLM output: \"I'm sorry, but the text provided does not contain any insights relevant to the research question.\"\n",
      "Text reconstruction successful\n",
      "\n",
      "Had to reconstruct 1 texts due to LLM errors\n",
      " |███████████████████████████████████████████████████████████████████████-----------------------------| 71.4% Warning: LLM output differs from the original text, with edit distance 52\n",
      "Original text: \"power supply etc.: potential logistical challenge\"\n",
      "LLM output: \"The text contains no insights relevant to the research question.\"\n",
      "Text reconstruction successful\n",
      "\n",
      "Had to reconstruct 1 texts due to LLM errors\n",
      " |████████████████████████████████████████████████████████████████████████----------------------------| 72.6% Warning: LLM output differs from the original text, with edit distance 6\n",
      "Original text: \"faulty programming: The software often has errors that only become apparent in practice.\"\n",
      "LLM output: \"***\n",
      "\n",
      "**faulty programming**: The software often has errors that only become apparent in practice.<sup>error risk</sup>\n",
      "\n",
      "***\"\n",
      "Text reconstruction successful\n",
      "\n",
      "Had to reconstruct 1 texts due to LLM errors\n",
      " |████████████████████████████████████████████████████████████████████████████████--------------------| 81.0% Warning: LLM output differs from the original text, with edit distance 20\n",
      "Original text: \"faulty analyses: Fully autonomous robots would have to use recognition software that might make mistakes that wouldn't happen to humans.\"\n",
      "LLM output: \"***\n",
      "\n",
      "**Fully autonomous robots would have to use recognition software that might make mistakes that wouldn't happen to humans**<sup>faulty analyses</sup>.\n",
      "\n",
      "***\"\n",
      "Text reconstruction successful\n",
      "\n",
      "Had to reconstruct 1 texts due to LLM errors\n",
      " |████████████████████████████████████████████████████████████████████████████████████----------------| 84.5% Warning: LLM output differs from the original text, with edit distance 71\n",
      "Original text: \"technical challenge\"\n",
      "LLM output: \"There are no insightful statements in the text related to the research question.\"\n",
      "Text reconstruction successful\n",
      "\n",
      "Had to reconstruct 1 texts due to LLM errors\n",
      " |█████████████████████████████████████████████████████████████████████████████████████---------------| 85.7% Warning: LLM output differs from the original text, with edit distance 53\n",
      "Original text: \"possible technical problems\"\n",
      "LLM output: \"The text contains no insights relevant to the research question.\"\n",
      "Text reconstruction successful\n",
      "\n",
      "Had to reconstruct 1 texts due to LLM errors\n",
      " |█████████████████████████████████████████████████████████████████████████████████████████-----------| 89.3% Warning: LLM output differs from the original text, with edit distance 2\n",
      "Original text: \"battery life: Could no longer function in the midst of rescue\"\n",
      "LLM output: \"***battery life: Could no longer function in the midst of rescue***<sup>operational delay</sup>\"\n",
      "Distance less than treshold 5, accept\n",
      "\n",
      " |████████████████████████████████████████████████████████████████████████████████████████████--------| 92.9% Warning: LLM output differs from the original text, with edit distance 3\n",
      "Original text: \"damage not excludable: the soft material can damage faster and thus become defective\"\n",
      "LLM output: \"***\n",
      "\n",
      "damage not excludable: **the soft material can damage faster and thus become defective**<sup>damage not excludable</sup>\"\n",
      "Distance less than treshold 5, accept\n",
      "\n",
      " |████████████████████████████████████████████████████████████████████████████████████████████████████| 100.0% \n",
      "Warning: LLM output differs from the original text, with edit distance 2\n",
      "Original text: \"development status: Current rescue robots are not yet developed enough to be efficient in all situations\"\n",
      "LLM output: \"***development status: Current rescue robots are not yet developed enough to be efficient in all situations***<sup>perceived technological limitations</sup>\"\n",
      "Distance less than treshold 5, accept\n",
      "\n",
      "JSON file saved to /home/fenn/Desktop/Publications/soft robot intervention/Analyses/main study - LLM/output/G3/json RR/RR - TL.json\n",
      "index: 2, category: SA\n",
      "Processing category: SA\n",
      "Research Question: What are the mentioned key benefits and risks regarding the perceived safety of rescue robots?\n",
      " |----------------------------------------------------------------------------------------------------| 0.5% Warning: LLM output differs from the original text, with edit distance 70\n",
      "Original text: \"risk: In dangerous environments or situations, there is of course much less risk for the people\"\n",
      "LLM output: \"The text contains no insights relevant to the research question.\"\n",
      "Text reconstruction successful\n",
      "\n",
      "Had to reconstruct 1 texts due to LLM errors\n",
      " |█---------------------------------------------------------------------------------------------------| 1.4% Warning: LLM output differs from the original text, with edit distance 29\n",
      "Original text: \"protection of rescue forces: Reduced deployment of human rescue forces in dangerous situations\"\n",
      "LLM output: \"**Reduced deployment of human rescue forces in dangerous situations**<sup>benefit</sup>\"\n",
      "Text reconstruction successful\n",
      "\n",
      "Had to reconstruct 1 texts due to LLM errors\n",
      " |████------------------------------------------------------------------------------------------------| 4.8% Warning: LLM output differs from the original text, with edit distance 53\n",
      "Original text: \"strength (power): for example, for lifting debris parts\"\n",
      "LLM output: \"The text contains no insights relevant to the research question.\"\n",
      "Text reconstruction successful\n",
      "\n",
      "Had to reconstruct 1 texts due to LLM errors\n",
      " |██████----------------------------------------------------------------------------------------------| 6.2% Warning: LLM output differs from the original text, with edit distance 59\n",
      "Original text: \"risk minimization: Approximately during search actions in risky areas\"\n",
      "LLM output: \"The text contains no insights relevant to the research question.\"\n",
      "Text reconstruction successful\n",
      "\n",
      "Had to reconstruct 1 texts due to LLM errors\n",
      " |██████----------------------------------------------------------------------------------------------| 6.7% Warning: LLM output differs from the original text, with edit distance 52\n",
      "Original text: \"reach dangerous places\"\n",
      "LLM output: \"The text contains no insights relevant to the research question.\"\n",
      "Text reconstruction successful\n",
      "\n",
      "Had to reconstruct 1 texts due to LLM errors\n",
      " |███████---------------------------------------------------------------------------------------------| 7.7% Warning: LLM output differs from the original text, with edit distance 56\n",
      "Original text: \"precise work\"\n",
      "LLM output: \"The text contains no insights relevant to the research question.\"\n",
      "Text reconstruction successful\n",
      "\n",
      "Had to reconstruct 1 texts due to LLM errors\n",
      " |████████--------------------------------------------------------------------------------------------| 8.6% Warning: LLM output differs from the original text, with edit distance 53\n",
      "Original text: \"use in inaccessibility\"\n",
      "LLM output: \"The text contains no insights relevant to the research question.\"\n",
      "Text reconstruction successful\n",
      "\n",
      "Had to reconstruct 1 texts due to LLM errors\n",
      " |███████████-----------------------------------------------------------------------------------------| 11.5% Warning: LLM output differs from the original text, with edit distance 2\n",
      "Original text: \"deployment possibility: Also possible under dangerous conditions\"\n",
      "LLM output: \"***deployment possibility: Also possible under dangerous conditions***<sup>benefit</sup>\"\n",
      "Distance less than treshold 5, accept\n",
      "\n",
      " |████████████----------------------------------------------------------------------------------------| 12.4% Warning: LLM output differs from the original text, with edit distance 49\n",
      "Original text: \"safe: People do not have to put themselves in dangerous situations\"\n",
      "LLM output: \"The text contains no insights relevant to the research question.\"\n",
      "Text reconstruction successful\n",
      "\n",
      "Had to reconstruct 1 texts due to LLM errors\n",
      " |█████████████---------------------------------------------------------------------------------------| 13.4% Warning: LLM output differs from the original text, with edit distance 8\n",
      "Original text: \"safety: Enables deployment in difficult situations where human rescuers would put themselves in danger\"\n",
      "LLM output: \"**Enables deployment in difficult situations where human rescuers would put themselves in danger**<sup>safety</sup>\"\n",
      "Text reconstruction successful\n",
      "\n",
      "Had to reconstruct 1 texts due to LLM errors\n",
      " |███████████████-------------------------------------------------------------------------------------| 15.8% Warning: LLM output differs from the original text, with edit distance 1\n",
      "Original text: \"easier finding: Through their sensors like thermal imaging, the robots can better find people.\"\n",
      "LLM output: \"***easier finding**: Through their sensors like thermal imaging, the robots can better find people.<sup>easier finding</sup>\"\n",
      "Distance less than treshold 5, accept\n",
      "\n",
      " |███████████████████---------------------------------------------------------------------------------| 19.6% Warning: LLM output differs from the original text, with edit distance 2\n",
      "Original text: \"faster abolition: Rescue robots could shorten the path to doctors/hospitals and the abolition of injured people.\"\n",
      "LLM output: \"***faster abolition***<sup>speed</sup>: Rescue robots could shorten the path to doctors/hospitals and the abolition of injured people.\"\n",
      "Distance less than treshold 5, accept\n",
      "\n",
      " |█████████████████████-------------------------------------------------------------------------------| 21.1% Warning: LLM output differs from the original text, with edit distance 50\n",
      "Original text: \"direct help: through water/food\"\n",
      "LLM output: \"The text contains no insights relevant to the research question.\"\n",
      "Text reconstruction successful\n",
      "\n",
      "Had to reconstruct 1 texts due to LLM errors\n",
      " |██████████████████████------------------------------------------------------------------------------| 22.0% Warning: LLM output differs from the original text, with edit distance 56\n",
      "Original text: \"rescue of people\"\n",
      "LLM output: \"The text contains no insights relevant to the research question.\"\n",
      "Text reconstruction successful\n",
      "\n",
      "Had to reconstruct 1 texts due to LLM errors\n",
      " |██████████████████████------------------------------------------------------------------------------| 22.5% Warning: LLM output differs from the original text, with edit distance 2\n",
      "Original text: \"no fatigue: Unlike human rescuers, robots do not tire even during long operations\"\n",
      "LLM output: \"***no fatigue***<sup>reliability</sup>: Unlike human rescuers, robots do not tire even during long operations\"\n",
      "Distance less than treshold 5, accept\n",
      "\n",
      " |███████████████████████-----------------------------------------------------------------------------| 23.4% Warning: LLM output differs from the original text, with edit distance 84\n",
      "Original text: \"vital objects: Victims receive vitally important things, such as water, food, and medicine\"\n",
      "LLM output: \"vital objects: Victims receive vitally important things, such as water, food, and medicine; \n",
      "\n",
      "MAIN INSIGHTS: \n",
      "The text contains no insights relevant to the research question.\"\n",
      "Text reconstruction successful\n",
      "\n",
      "Had to reconstruct 1 texts due to LLM errors\n",
      " |████████████████████████----------------------------------------------------------------------------| 24.4% Warning: LLM output differs from the original text, with edit distance 45\n",
      "Original text: \"remote control: Minimizes risks associated with autonomy\"\n",
      "LLM output: \"The text contains no insights relevant to the research question.\"\n",
      "Text reconstruction successful\n",
      "\n",
      "Had to reconstruct 1 texts due to LLM errors\n",
      " |████████████████████████----------------------------------------------------------------------------| 24.9% Warning: LLM output differs from the original text, with edit distance 54\n",
      "Original text: \"precise handling\"\n",
      "LLM output: \"The text contains no insights relevant to the research question.\"\n",
      "Text reconstruction successful\n",
      "\n",
      "Had to reconstruct 1 texts due to LLM errors\n",
      " |███████████████████████████-------------------------------------------------------------------------| 27.3% Warning: LLM output differs from the original text, with edit distance 51\n",
      "Original text: \"reliable: Can be precisely controlled\"\n",
      "LLM output: \"The text contains no insights relevant to the research question.\"\n",
      "Text reconstruction successful\n",
      "\n",
      "Had to reconstruct 1 texts due to LLM errors\n",
      " |████████████████████████████████--------------------------------------------------------------------| 32.1% Warning: LLM output differs from the original text, with edit distance 50\n",
      "Original text: \"follows instructions precisely\"\n",
      "LLM output: \"The text contains no insights relevant to the research question.\"\n",
      "Text reconstruction successful\n",
      "\n",
      "Had to reconstruct 1 texts due to LLM errors\n",
      " |████████████████████████████████--------------------------------------------------------------------| 32.5% Warning: LLM output differs from the original text, with edit distance 55\n",
      "Original text: \"more people saved\"\n",
      "LLM output: \"The text contains no insights relevant to the research question.\"\n",
      "Text reconstruction successful\n",
      "\n",
      "Had to reconstruct 1 texts due to LLM errors\n",
      " |█████████████████████████████████-------------------------------------------------------------------| 33.0% Warning: LLM output differs from the original text, with edit distance 65\n",
      "Original text: \"efficiency: Robots are not limited to human speed, vision, and perception in general.\"\n",
      "LLM output: \"The text contains no insights relevant to the research question.\"\n",
      "Text reconstruction successful\n",
      "\n",
      "Had to reconstruct 1 texts due to LLM errors\n",
      " |█████████████████████████████████-------------------------------------------------------------------| 34.0% Warning: LLM output differs from the original text, with edit distance 59\n",
      "Original text: \"rational efficiency: No suicidal experiments in rescue\"\n",
      "LLM output: \"There are no insightful statements in the text related to the research question.\"\n",
      "Text reconstruction successful\n",
      "\n",
      "Had to reconstruct 1 texts due to LLM errors\n",
      " |██████████████████████████████████------------------------------------------------------------------| 34.4% Warning: LLM output differs from the original text, with edit distance 55\n",
      "Original text: \"remote control\"\n",
      "LLM output: \"The text contains no insights relevant to the research question.\"\n",
      "Text reconstruction successful\n",
      "\n",
      "Had to reconstruct 1 texts due to LLM errors\n",
      " |███████████████████████████████████-----------------------------------------------------------------| 35.4% Warning: LLM output differs from the original text, with edit distance 2\n",
      "Original text: \"flexible: The robot could operate in dangerous areas and is therefore not limited.\"\n",
      "LLM output: \"***flexible: The robot could operate in dangerous areas and is therefore not limited.***<sup>operational capability</sup>\"\n",
      "Distance less than treshold 5, accept\n",
      "\n",
      " |███████████████████████████████████-----------------------------------------------------------------| 35.9% Warning: LLM output differs from the original text, with edit distance 49\n",
      "Original text: \"protects people: No human risks necessary\"\n",
      "LLM output: \"The text contains no insights relevant to the research question.\"\n",
      "Text reconstruction successful\n",
      "\n",
      "Had to reconstruct 1 texts due to LLM errors\n",
      " |████████████████████████████████████----------------------------------------------------------------| 36.4% Warning: LLM output differs from the original text, with edit distance 3\n",
      "Original text: \"reduced risk: By using robots, no human forces are exposed to dangerous situations\"\n",
      "LLM output: \"***\n",
      "\n",
      "reduced risk**: By using robots, no human forces are exposed to dangerous situations<sup>benefit</sup>\"\n",
      "Distance less than treshold 5, accept\n",
      "\n",
      " |████████████████████████████████████----------------------------------------------------------------| 36.8% Warning: LLM output differs from the original text, with edit distance 52\n",
      "Original text: \"do not get tired\"\n",
      "LLM output: \"The text contains no insights relevant to the research question.\"\n",
      "Text reconstruction successful\n",
      "\n",
      "Had to reconstruct 1 texts due to LLM errors\n",
      " |██████████████████████████████████████--------------------------------------------------------------| 38.3% Warning: LLM output differs from the original text, with edit distance 47\n",
      "Original text: \"dexterity: Often higher skill than human rescuers\"\n",
      "LLM output: \"The text contains no insights relevant to the research question.\"\n",
      "Text reconstruction successful\n",
      "\n",
      "Had to reconstruct 1 texts due to LLM errors\n",
      " |██████████████████████████████████████--------------------------------------------------------------| 38.8% Warning: LLM output differs from the original text, with edit distance 2\n",
      "Original text: \"simplification of difficult situations: Many rescue situations prove difficult for people to reach or to intervene, automation can clearly help here.\"\n",
      "LLM output: \"***simplification of difficult situations***<sup>automation</sup>: Many rescue situations prove difficult for people to reach or to intervene, automation can clearly help here.\"\n",
      "Distance less than treshold 5, accept\n",
      "\n",
      " |███████████████████████████████████████-------------------------------------------------------------| 39.2% Warning: LLM output differs from the original text, with edit distance 55\n",
      "Original text: \"increased efficiency\"\n",
      "LLM output: \"The text contains no insights relevant to the research question.\"\n",
      "Text reconstruction successful\n",
      "\n",
      "Had to reconstruct 1 texts due to LLM errors\n",
      " |████████████████████████████████████████------------------------------------------------------------| 40.7% Warning: LLM output differs from the original text, with edit distance 2\n",
      "Original text: \"reliability: Machines can accomplish their tasks reliably and reproducibly (provided they are well programmed and built)\"\n",
      "LLM output: \"***reliability: Machines can accomplish their tasks reliably and reproducibly (provided they are well programmed and built)***<sup>reliability</sup>\"\n",
      "Distance less than treshold 5, accept\n",
      "\n",
      " |█████████████████████████████████████████-----------------------------------------------------------| 41.1% Warning: LLM output differs from the original text, with edit distance 6\n",
      "Original text: \"area of application: Can be used in areas that are too dangerous for humans.\"\n",
      "LLM output: \"***\n",
      "\n",
      "area of application: **Can be used in areas that are too dangerous for humans**<sup>benefit</sup>.\n",
      "\n",
      "***\"\n",
      "Text reconstruction successful\n",
      "\n",
      "Had to reconstruct 1 texts due to LLM errors\n",
      " |██████████████████████████████████████████----------------------------------------------------------| 42.6% Warning: LLM output differs from the original text, with edit distance 50\n",
      "Original text: \"eyes and ears: for the rescue forces from a safe distance\"\n",
      "LLM output: \"The text contains no insights relevant to the research question.\"\n",
      "Text reconstruction successful\n",
      "\n",
      "Had to reconstruct 1 texts due to LLM errors\n",
      " |████████████████████████████████████████████--------------------------------------------------------| 44.0% Warning: LLM output differs from the original text, with edit distance 2\n",
      "Original text: \"accessible tight spaces: Due to their flexibility, they can access narrow spaces that are not accessible to people.\"\n",
      "LLM output: \"***accessible tight spaces: Due to their flexibility, they can access narrow spaces that are not accessible to people.***<sup>accessibility</sup>\"\n",
      "Distance less than treshold 5, accept\n",
      "\n",
      " |████████████████████████████████████████████--------------------------------------------------------| 44.5% Warning: LLM output differs from the original text, with edit distance 2\n",
      "Original text: \"for danger: can be used in times of danger instead of humans\"\n",
      "LLM output: \"***for danger: can be used in times of danger instead of humans***<sup>replaceability</sup>\"\n",
      "Distance less than treshold 5, accept\n",
      "\n",
      " |█████████████████████████████████████████████-------------------------------------------------------| 45.5% Warning: LLM output differs from the original text, with edit distance 54\n",
      "Original text: \"care of victims\"\n",
      "LLM output: \"The text contains no insights relevant to the research question.\"\n",
      "Text reconstruction successful\n",
      "\n",
      "Had to reconstruct 1 texts due to LLM errors\n",
      " |█████████████████████████████████████████████-------------------------------------------------------| 45.9% Warning: LLM output differs from the original text, with edit distance 6\n",
      "Original text: \"dispensable: the loss of a robot is less tragic than the loss of a human rescuer\"\n",
      "LLM output: \"***\n",
      "\n",
      "dispensable: **the loss of a robot is less tragic than the loss of a human rescuer**<sup>replaceability</sup>\n",
      "\n",
      "***\"\n",
      "Text reconstruction successful\n",
      "\n",
      "Had to reconstruct 1 texts due to LLM errors\n",
      " |██████████████████████████████████████████████------------------------------------------------------| 46.4% Warning: LLM output differs from the original text, with edit distance 2\n",
      "Original text: \"faster recovery: One could send robots into the fire without danger to human lives, etc, to combat the cause more quickly.\"\n",
      "LLM output: \"***faster recovery***: One could send robots into the fire without danger to human lives, etc, to combat the cause more quickly.<sup>faster recovery; safety</sup>\"\n",
      "Distance less than treshold 5, accept\n",
      "\n",
      " |█████████████████████████████████████████████████---------------------------------------------------| 49.8% Warning: LLM output differs from the original text, with edit distance 47\n",
      "Original text: \"useful addition: To human rescuers.\"\n",
      "LLM output: \"The text contains no insights relevant to the research question.\"\n",
      "Text reconstruction successful\n",
      "\n",
      "Had to reconstruct 1 texts due to LLM errors\n",
      " |███████████████████████████████████████████████████-------------------------------------------------| 51.2% Warning: LLM output differs from the original text, with edit distance 4\n",
      "Original text: \"reduction of injury risk: compared to 'soft' rescue robots; valid for hard rescue robots\"\n",
      "LLM output: \"***reduction of injury risk: compared to 'soft' rescue robots***<sup>environment</sup>; ***valid for hard rescue robots***<sup>physical capabilities</sup>\"\n",
      "Distance less than treshold 5, accept\n",
      "\n",
      " |████████████████████████████████████████████████████------------------------------------------------| 52.2% Warning: LLM output differs from the original text, with edit distance 3\n",
      "Original text: \"Faster than human: In an earthquake, for example, recently in Turkey, the help arrived too late and this led to more loss. Robots would be more flexible and could be used faster, rather than gathering all people together and rushing to help.\"\n",
      "LLM output: \"***Faster than human***: In an earthquake, for example, recently in Turkey, the help arrived too late and this led to more loss. **Robots would be more flexible and could be used faster**, rather than gathering all people together and rushing to help.<sup>faster response time; flexibility</sup>.\"\n",
      "Distance less than treshold 5, accept\n",
      "\n",
      " |█████████████████████████████████████████████████████-----------------------------------------------| 53.1% Warning: LLM output differs from the original text, with edit distance 193\n",
      "Original text: \"overall more productive\"\n",
      "LLM output: \"I'm sorry, but the text provided does not contain any insights relevant to the research question. If you have any other text or specific information you would like me to analyze, please feel free to provide it.\"\n",
      "Text reconstruction successful\n",
      "\n",
      "Had to reconstruct 1 texts due to LLM errors\n",
      " |█████████████████████████████████████████████████████-----------------------------------------------| 53.6% Warning: LLM output differs from the original text, with edit distance 75\n",
      "Original text: \"are mentally superior: No trauma for rescuers\"\n",
      "LLM output: \"I'm sorry, but the text provided does not contain any insights relevant to the research question.\"\n",
      "Text reconstruction successful\n",
      "\n",
      "Had to reconstruct 1 texts due to LLM errors\n",
      " |█████████████████████████████████████████████████████████-------------------------------------------| 57.9% Warning: LLM output differs from the original text, with edit distance 2\n",
      "Original text: \"rescue forces safety: Emergency services can avoid dangers if, for example, pictures of the location were taken by robots.\"\n",
      "LLM output: \"***rescue forces safety: Emergency services can avoid dangers if, for example, pictures of the location were taken by robots.***<sup>safety</sup>\"\n",
      "Distance less than treshold 5, accept\n",
      "\n",
      " |██████████████████████████████████████████████████████████------------------------------------------| 58.9% Warning: LLM output differs from the original text, with edit distance 61\n",
      "Original text: \"\"dare\" more: can also be used in war zones, only material loss through explosives\"\n",
      "LLM output: \"The text contains no insights relevant to the research question.\"\n",
      "Text reconstruction successful\n",
      "\n",
      "Had to reconstruct 1 texts due to LLM errors\n",
      " |████████████████████████████████████████████████████████████----------------------------------------| 60.8% Warning: LLM output differs from the original text, with edit distance 2\n",
      "Original text: \"protects aid workers: Since employees are not unnecessarily exposed to dangers, strictly speaking, this also saves their lives.\"\n",
      "LLM output: \"***protects aid workers: Since employees are not unnecessarily exposed to dangers, strictly speaking, this also saves their lives.***<sup>benefit</sup>\"\n",
      "Distance less than treshold 5, accept\n",
      "\n",
      " |███████████████████████████████████████████████████████████████-------------------------------------| 63.2% Warning: LLM output differs from the original text, with edit distance 2\n",
      "Original text: \"responsiveness: Robots have a significantly higher reaction capability than human rescuers\"\n",
      "LLM output: \"***responsiveness: Robots have a significantly higher reaction capability than human rescuers***<sup>safety</sup>\"\n",
      "Distance less than treshold 5, accept\n",
      "\n",
      " |███████████████████████████████████████████████████████████████-------------------------------------| 63.6% Warning: LLM output differs from the original text, with edit distance 163\n",
      "Original text: \"More flexible than human: People cannot access some areas or cannot see whether people are still alive. For example, in an earthquake incident under the rubble.\"\n",
      "LLM output: \"More flexible than human: People cannot access some areas or cannot see whether people are still alive. For example, in an earthquake incident under the rubble.  \n",
      "**More flexible than human**: People cannot access some areas or cannot see whether people are still alive. For example, in an earthquake incident under the rubble.<sup>accessibility</sup>\"\n",
      "Text reconstruction successful\n",
      "\n",
      "Had to reconstruct 1 texts due to LLM errors\n",
      " |██████████████████████████████████████████████████████████████████----------------------------------| 67.0% Warning: LLM output differs from the original text, with edit distance 54\n",
      "Original text: \"dangerous areas\"\n",
      "LLM output: \"The text contains no insights relevant to the research question.\"\n",
      "Text reconstruction successful\n",
      "\n",
      "Had to reconstruct 1 texts due to LLM errors\n",
      " |███████████████████████████████████████████████████████████████████---------------------------------| 67.9% Warning: LLM output differs from the original text, with edit distance 2\n",
      "Original text: \"stronger than humans: In many situations, e.g. when clearing rubble, a great advantage.\"\n",
      "LLM output: \"***stronger than humans***<sup>benefit</sup>: In many situations, e.g. when clearing rubble, a great advantage.\"\n",
      "Distance less than treshold 5, accept\n",
      "\n",
      " |████████████████████████████████████████████████████████████████████--------------------------------| 68.4% Warning: LLM output differs from the original text, with edit distance 55\n",
      "Original text: \"can work long\"\n",
      "LLM output: \"The text contains no insights relevant to the research question.\"\n",
      "Text reconstruction successful\n",
      "\n",
      "Had to reconstruct 1 texts due to LLM errors\n",
      " |█████████████████████████████████████████████████████████████████████-------------------------------| 69.4% Warning: LLM output differs from the original text, with edit distance 3\n",
      "Original text: \"better search capabilities: Robots can search better in the dark and in smoke etc because they have numerous sensors\"\n",
      "LLM output: \"***\n",
      "\n",
      "better search capabilities: **Robots can search better in the dark and in smoke etc because they have numerous sensors**<sup>search capabilities</sup>\"\n",
      "Distance less than treshold 5, accept\n",
      "\n",
      " |█████████████████████████████████████████████████████████████████████-------------------------------| 69.9% Warning: LLM output differs from the original text, with edit distance 98\n",
      "Original text: \"risk reduction for aid workers: Should people go into difficult areas, for example for avalanche rescue, they put themselves in danger\"\n",
      "LLM output: \"The text contains no insights relevant to the research question.\"\n",
      "Text reconstruction successful\n",
      "\n",
      "Had to reconstruct 1 texts due to LLM errors\n",
      " |███████████████████████████████████████████████████████████████████████-----------------------------| 71.3% Warning: LLM output differs from the original text, with edit distance 1\n",
      "Original text: \"remote control: Can be operated by experts via remote control or autonomous systems to perform operations from a safe distance.\"\n",
      "LLM output: \"**remote control: Can be operated by experts via remote control or autonomous systems to perform operations from a safe distance**<sup>access</sup>\"\n",
      "Distance less than treshold 5, accept\n",
      "\n",
      " |███████████████████████████████████████████████████████████████████████-----------------------------| 71.8% Warning: LLM output differs from the original text, with edit distance 51\n",
      "Original text: \"safety for rescue workers\"\n",
      "LLM output: \"The text contains no insights relevant to the research question.\"\n",
      "Text reconstruction successful\n",
      "\n",
      "Had to reconstruct 1 texts due to LLM errors\n",
      " |████████████████████████████████████████████████████████████████████████----------------------------| 72.7% Warning: LLM output differs from the original text, with edit distance 2\n",
      "Original text: \"weather independent: Even in storms etc., perhaps an option for critical tasks\"\n",
      "LLM output: \"***weather independent: Even in storms etc., perhaps an option for critical tasks***<sup>benefit</sup>\"\n",
      "Distance less than treshold 5, accept\n",
      "\n",
      " |█████████████████████████████████████████████████████████████████████████---------------------------| 73.2% Warning: LLM output differs from the original text, with edit distance 50\n",
      "Original text: \"replaceable: In case of loss, no human sacrifice\"\n",
      "LLM output: \"The text contains no insights relevant to the research question.\"\n",
      "Text reconstruction successful\n",
      "\n",
      "Had to reconstruct 1 texts due to LLM errors\n",
      " |████████████████████████████████████████████████████████████████████████████------------------------| 76.1% Warning: LLM output differs from the original text, with edit distance 48\n",
      "Original text: \"protection of rescue forces\"\n",
      "LLM output: \"The text contains no insights relevant to the research question.\"\n",
      "Text reconstruction successful\n",
      "\n",
      "Had to reconstruct 1 texts due to LLM errors\n",
      " |█████████████████████████████████████████████████████████████████████████████-----------------------| 77.5% Warning: LLM output differs from the original text, with edit distance 53\n",
      "Original text: \"no people necessary\"\n",
      "LLM output: \"The text contains no insights relevant to the research question.\"\n",
      "Text reconstruction successful\n",
      "\n",
      "Had to reconstruct 1 texts due to LLM errors\n",
      " |████████████████████████████████████████████████████████████████████████████████--------------------| 80.9% Warning: LLM output differs from the original text, with edit distance 6\n",
      "Original text: \"do not lose strength: Robots do not lose stamina while humans could lose strength during missions.\"\n",
      "LLM output: \"***\n",
      "\n",
      "do not lose strength: **Robots do not lose stamina while humans could lose strength during missions**<sup>operational efficiency; safety</sup>.\n",
      "\n",
      "***\"\n",
      "Text reconstruction successful\n",
      "\n",
      "Had to reconstruct 1 texts due to LLM errors\n",
      " |██████████████████████████████████████████████████████████████████████████████████------------------| 82.8% Warning: LLM output differs from the original text, with edit distance 2\n",
      "Original text: \"faster help: Since the risk to life is lower, rescue workers can send a robot before a complete analysis of the problem area is available.\"\n",
      "LLM output: \"***faster help: Since the risk to life is lower, rescue workers can send a robot before a complete analysis of the problem area is available.***<sup>efficiency; safety</sup>\"\n",
      "Distance less than treshold 5, accept\n",
      "\n",
      " |███████████████████████████████████████████████████████████████████████████████████-----------------| 83.7% Warning: LLM output differs from the original text, with edit distance 90\n",
      "Original text: \"not tired\"\n",
      "LLM output: \"There are no coded statements in the text that provide insights relevant to the research question.\"\n",
      "Text reconstruction successful\n",
      "\n",
      "Had to reconstruct 1 texts due to LLM errors\n",
      " |██████████████████████████████████████████████████████████████████████████████████████--------------| 86.6% Warning: LLM output differs from the original text, with edit distance 56\n",
      "Original text: \"cannot die\"\n",
      "LLM output: \"The text contains no insights relevant to the research question.\"\n",
      "Text reconstruction successful\n",
      "\n",
      "Had to reconstruct 1 texts due to LLM errors\n",
      " |████████████████████████████████████████████████████████████████████████████████████████------------| 88.0% Warning: LLM output differs from the original text, with edit distance 53\n",
      "Original text: \"fire department support\"\n",
      "LLM output: \"The text contains no insights relevant to the research question.\"\n",
      "Text reconstruction successful\n",
      "\n",
      "Had to reconstruct 1 texts due to LLM errors\n",
      " |████████████████████████████████████████████████████████████████████████████████████████------------| 89.0% Warning: LLM output differs from the original text, with edit distance 2\n",
      "Original text: \"reduce number of victims: Robots could make rescue operations more efficient and faster, potentially saving more victims.\"\n",
      "LLM output: \"***reduce number of victims: Robots could make rescue operations more efficient and faster, potentially saving more victims.***<sup>productivity; efficiency</sup>\"\n",
      "Distance less than treshold 5, accept\n",
      "\n",
      " |███████████████████████████████████████████████████████████████████████████████████████████---------| 91.4% Warning: LLM output differs from the original text, with edit distance 59\n",
      "Original text: \"low risk\"\n",
      "LLM output: \"The text contains no insights relevant to the research question.\"\n",
      "Text reconstruction successful\n",
      "\n",
      "Had to reconstruct 1 texts due to LLM errors\n",
      " |████████████████████████████████████████████████████████████████████████████████████████████--------| 92.8% Warning: LLM output differs from the original text, with edit distance 1\n",
      "Original text: \"unrestricted access: Robots can operate in environments that would be toxic to humans, e.g. areas contaminated with radiation.\"\n",
      "LLM output: \"**unrestricted access: Robots can operate in environments that would be toxic to humans, e.g. areas contaminated with radiation**<sup>accessibility</sup>\"\n",
      "Distance less than treshold 5, accept\n",
      "\n",
      " |██████████████████████████████████████████████████████████████████████████████████████████████------| 94.3% Warning: LLM output differs from the original text, with edit distance 2\n",
      "Original text: \"life-threatening places: The possibility of entering dangerous places that people do not dare to approach, such as wreck parts, battlefields, etc.\"\n",
      "LLM output: \"***life-threatening places: The possibility of entering dangerous places that people do not dare to approach, such as wreck parts, battlefields, etc.***<sup>access</sup>\"\n",
      "Distance less than treshold 5, accept\n",
      "\n",
      " |█████████████████████████████████████████████████████████████████████████████████████████████████---| 97.6% Warning: LLM output differs from the original text, with edit distance 54\n",
      "Original text: \"rescue and safety\"\n",
      "LLM output: \"The text contains no insights relevant to the research question.\"\n",
      "Text reconstruction successful\n",
      "\n",
      "Had to reconstruct 1 texts due to LLM errors\n",
      " |██████████████████████████████████████████████████████████████████████████████████████████████████--| 98.6% Warning: LLM output differs from the original text, with edit distance 1\n",
      "Original text: \"more/ easier access: Robots can create (easier) access to places where it would otherwise be more difficult.\"\n",
      "LLM output: \"more/ easier access: **Robots can create (easier) access to places where it would otherwise be more difficult**<sup>access</sup>\"\n",
      "Distance less than treshold 5, accept\n",
      "\n",
      " |████████████████████████████████████████████████████████████████████████████████████████████████████| 100.0% \n",
      "Warning: LLM output differs from the original text, with edit distance 53\n",
      "Original text: \"rescue efficient and\"\n",
      "LLM output: \"The text contains no insights relevant to the research question.\"\n",
      "Text reconstruction successful\n",
      "\n",
      "Had to reconstruct 1 texts due to LLM errors\n",
      "JSON file saved to /home/fenn/Desktop/Publications/soft robot intervention/Analyses/main study - LLM/output/G3/json RR/RR - SA.json\n",
      "index: 3, category: R\n",
      "Processing category: R\n",
      "Research Question: What are the mentioned key benefits and risks regarding the perceived risks of rescue robots?\n",
      " |█---------------------------------------------------------------------------------------------------| 1.2% Warning: LLM output differs from the original text, with edit distance 47\n",
      "Original text: \"malfunction: can have a malfunction\"\n",
      "LLM output: \"The text contains no insights relevant to the research question.\"\n",
      "Text reconstruction successful\n",
      "\n",
      "Had to reconstruct 1 texts due to LLM errors\n",
      " |██--------------------------------------------------------------------------------------------------| 2.4% Warning: LLM output differs from the original text, with edit distance 49\n",
      "Original text: \"endangerment of human lives\"\n",
      "LLM output: \"The text contains no insights relevant to the research question.\"\n",
      "Text reconstruction successful\n",
      "\n",
      "Had to reconstruct 1 texts due to LLM errors\n",
      " |███-------------------------------------------------------------------------------------------------| 3.5% Warning: LLM output differs from the original text, with edit distance 52\n",
      "Original text: \"damage to soft robots\"\n",
      "LLM output: \"The text contains no insights relevant to the research question.\"\n",
      "Text reconstruction successful\n",
      "\n",
      "Had to reconstruct 1 texts due to LLM errors\n",
      " |████------------------------------------------------------------------------------------------------| 4.7% Warning: LLM output differs from the original text, with edit distance 45\n",
      "Original text: \"can be damaged: in dangerous areas\"\n",
      "LLM output: \"No insightful statements were found in the text provided.\"\n",
      "Text reconstruction successful\n",
      "\n",
      "Had to reconstruct 1 texts due to LLM errors\n",
      " |█████-----------------------------------------------------------------------------------------------| 5.9% Warning: LLM output differs from the original text, with edit distance 55\n",
      "Original text: \"still needs people\"\n",
      "LLM output: \"The text contains no insights relevant to the research question.\"\n",
      "Text reconstruction successful\n",
      "\n",
      "Had to reconstruct 1 texts due to LLM errors\n",
      " |████████--------------------------------------------------------------------------------------------| 8.2% Warning: LLM output differs from the original text, with edit distance 85\n",
      "Original text: \"functional error\"\n",
      "LLM output: \"I'm sorry, but the text provided does not contain any insights relevant to the research question.\"\n",
      "Text reconstruction successful\n",
      "\n",
      "Had to reconstruct 1 texts due to LLM errors\n",
      " |█████████-------------------------------------------------------------------------------------------| 9.4% Warning: LLM output differs from the original text, with edit distance 82\n",
      "Original text: \"minor damage\"\n",
      "LLM output: \"There are no insightful statements related to the research question in the provided text.\"\n",
      "Text reconstruction successful\n",
      "\n",
      "Had to reconstruct 1 texts due to LLM errors\n",
      " |██████████████--------------------------------------------------------------------------------------| 14.1% Warning: LLM output differs from the original text, with edit distance 56\n",
      "Original text: \"less careful\"\n",
      "LLM output: \"The text contains no insights relevant to the research question.\"\n",
      "Text reconstruction successful\n",
      "\n",
      "Had to reconstruct 1 texts due to LLM errors\n",
      " |█████████████████-----------------------------------------------------------------------------------| 17.6% Warning: LLM output differs from the original text, with edit distance 50\n",
      "Original text: \"possibility to be imprecise\"\n",
      "LLM output: \"The text contains no insights relevant to the research question.\"\n",
      "Text reconstruction successful\n",
      "\n",
      "Had to reconstruct 1 texts due to LLM errors\n",
      " |████████████████████--------------------------------------------------------------------------------| 20.0% Warning: LLM output differs from the original text, with edit distance 56\n",
      "Original text: \"not accurate\"\n",
      "LLM output: \"The text contains no insights relevant to the research question.\"\n",
      "Text reconstruction successful\n",
      "\n",
      "Had to reconstruct 1 texts due to LLM errors\n",
      " |█████████████████████████---------------------------------------------------------------------------| 25.9% Warning: LLM output differs from the original text, with edit distance 2\n",
      "Original text: \"potential further obstacle: An autonomous robot that cannot properly handle an obstacle can potentially represent another obstacle in case of doubt.\"\n",
      "LLM output: \"***potential further obstacle: An autonomous robot that cannot properly handle an obstacle can potentially represent another obstacle in case of doubt.***<sup>technical limitation</sup>\"\n",
      "Distance less than treshold 5, accept\n",
      "\n",
      " |███████████████████████████-------------------------------------------------------------------------| 27.1% Warning: LLM output differs from the original text, with edit distance 2\n",
      "Original text: \"role of the controller: With remote-controlled robots, the controlling person has a high responsibility, which could also be misused.\"\n",
      "LLM output: \"***role of the controller: With remote-controlled robots, the controlling person has a high responsibility, which could also be misused.***<sup>potential misuse</sup>\"\n",
      "Distance less than treshold 5, accept\n",
      "\n",
      " |████████████████████████████------------------------------------------------------------------------| 28.2% Warning: LLM output differs from the original text, with edit distance 2\n",
      "Original text: \"sensitivity to exceptional situations: Robots may potentially not accurately assess unknown situations\"\n",
      "LLM output: \"***sensitivity to exceptional situations: Robots may potentially not accurately assess unknown situations***<sup>accuracy</sup>\"\n",
      "Distance less than treshold 5, accept\n",
      "\n",
      " |█████████████████████████████-----------------------------------------------------------------------| 29.4% Warning: LLM output differs from the original text, with edit distance 56\n",
      "Original text: \"cyber attacks\"\n",
      "LLM output: \"The text contains no insights relevant to the research question.\"\n",
      "Text reconstruction successful\n",
      "\n",
      "Had to reconstruct 1 texts due to LLM errors\n",
      " |██████████████████████████████----------------------------------------------------------------------| 30.6% Warning: LLM output differs from the original text, with edit distance 52\n",
      "Original text: \"make wrong decision\"\n",
      "LLM output: \"The text contains no insights relevant to the research question.\"\n",
      "Text reconstruction successful\n",
      "\n",
      "Had to reconstruct 1 texts due to LLM errors\n",
      " |██████████████████████████████████------------------------------------------------------------------| 34.1% Warning: LLM output differs from the original text, with edit distance 2\n",
      "Original text: \"test prototypes: Risky when using robots to save people and they only get in the way and cause problems. This could cost unnecessary lives.\"\n",
      "LLM output: \"***test prototypes: Risky when using robots to save people and they only get in the way and cause problems. This could cost unnecessary lives.***<sup>potential misuse; safety</sup>\"\n",
      "Distance less than treshold 5, accept\n",
      "\n",
      " |███████████████████████████████████-----------------------------------------------------------------| 35.3% Warning: LLM output differs from the original text, with edit distance 2\n",
      "Original text: \"find, not recover: they can indeed locate people, but they lack the fine motor skills for the actual rescue of the people\"\n",
      "LLM output: \"***find, not recover: they can indeed locate people, but they lack the fine motor skills for the actual rescue of the people***<sup>technical limitation</sup>\"\n",
      "Distance less than treshold 5, accept\n",
      "\n",
      " |██████████████████████████████████████--------------------------------------------------------------| 38.8% Warning: LLM output differs from the original text, with edit distance 56\n",
      "Original text: \"less precise\"\n",
      "LLM output: \"The text contains no insights relevant to the research question.\"\n",
      "Text reconstruction successful\n",
      "\n",
      "Had to reconstruct 1 texts due to LLM errors\n",
      " |██████████████████████████████████████████----------------------------------------------------------| 42.4% Warning: LLM output differs from the original text, with edit distance 50\n",
      "Original text: \"possible misuse: through hacking etc.\"\n",
      "LLM output: \"The text contains no insights relevant to the research question.\"\n",
      "Text reconstruction successful\n",
      "\n",
      "Had to reconstruct 1 texts due to LLM errors\n",
      " |████████████████████████████████████████████████----------------------------------------------------| 48.2% Warning: LLM output differs from the original text, with edit distance 190\n",
      "Original text: \"program disturbances\"\n",
      "LLM output: \"I'm sorry, but the text provided does not contain any insights relevant to the research question. If you have another text or specific information you would like to analyze, please feel free to provide it.\"\n",
      "Text reconstruction successful\n",
      "\n",
      "Had to reconstruct 1 texts due to LLM errors\n",
      " |█████████████████████████████████████████████████---------------------------------------------------| 49.4% Warning: LLM output differs from the original text, with edit distance 1\n",
      "Original text: \"consideration of the type of robot: Some types of robots may be susceptible to damage in certain environments due to their design. Therefore, their use must be optimally adjusted to their environment.\"\n",
      "LLM output: \"**consideration of the type of robot:** Some types of robots may be susceptible to damage in certain environments due to their design. Therefore, their use must be optimally adjusted to their environment. <sup>durability</sup>\"\n",
      "Distance less than treshold 5, accept\n",
      "\n",
      " |███████████████████████████████████████████████████-------------------------------------------------| 51.8% Warning: LLM output differs from the original text, with edit distance 58\n",
      "Original text: \"wrong info\"\n",
      "LLM output: \"The text contains no insights relevant to the research question.\"\n",
      "Text reconstruction successful\n",
      "\n",
      "Had to reconstruct 1 texts due to LLM errors\n",
      " |███████████████████████████████████████████████████████████████████---------------------------------| 67.1% Warning: LLM output differs from the original text, with edit distance 101\n",
      "Original text: \"no moral considerations: Autonomous rescue robots cannot make moral considerations, for example with regard to prioritizing people to be rescued.\"\n",
      "LLM output: \"The text contains insights relevant to the research question: \"**Autonomous rescue robots cannot make moral considerations, for example with regard to prioritizing people to be rescued**\"<sup>no moral considerations</sup>, posing a significant risk in emergency situations.\"\n",
      "Text reconstruction successful\n",
      "\n",
      "Had to reconstruct 1 texts due to LLM errors\n",
      " |██████████████████████████████████████████████████████████████████████------------------------------| 70.6% Warning: LLM output differs from the original text, with edit distance 1\n",
      "Original text: \"More dead: If the development of the robot is not correct, it can also lead to a disaster. So that we lose more people.\"\n",
      "LLM output: \"**More dead:** If the development of the robot is not correct, it can also lead to a disaster. So that we lose more people. <sup>perceived risk</sup>\"\n",
      "Distance less than treshold 5, accept\n",
      "\n",
      " |████████████████████████████████████████████████████████████████████████████████--------------------| 80.0% Warning: LLM output differs from the original text, with edit distance 1\n",
      "Original text: \"can be damaged: Still better than when people are damaged.\"\n",
      "LLM output: \"**can be damaged**: Still better than when people are damaged.<sup>not insightful</sup>.\"\n",
      "Distance less than treshold 5, accept\n",
      "\n",
      " |█████████████████████████████████████████████████████████████████████████████████-------------------| 81.2% Warning: LLM output differs from the original text, with edit distance 19\n",
      "Original text: \"Error development: Of course, there can also be errors in the software, so that the robot does not first recognize the living people and only then rushes to the dead.\"\n",
      "LLM output: \"**Of course, there can also be errors in the software, so that the robot does not first recognize the living people and only then rushes to the dead.**<sup>Error development</sup>\"\n",
      "Text reconstruction successful\n",
      "\n",
      "Had to reconstruct 1 texts due to LLM errors\n",
      " |████████████████████████████████████████████████████████████████████████████████████████------------| 88.2% Warning: LLM output differs from the original text, with edit distance 54\n",
      "Original text: \"can be hacked\"\n",
      "LLM output: \"The text contains no insights relevant to the research question.\"\n",
      "Text reconstruction successful\n",
      "\n",
      "Had to reconstruct 1 texts due to LLM errors\n",
      " |██████████████████████████████████████████████████████████████████████████████████████████████------| 94.1% Warning: LLM output differs from the original text, with edit distance 2\n",
      "Original text: \"prone to hacking: Attackers could deliberately disable robots\"\n",
      "LLM output: \"***prone to hacking***<sup>potential risk</sup>: Attackers could deliberately disable robots\"\n",
      "Distance less than treshold 5, accept\n",
      "\n",
      " |████████████████████████████████████████████████████████████████████████████████████████████████████| 100.0% \n",
      "JSON file saved to /home/fenn/Desktop/Publications/soft robot intervention/Analyses/main study - LLM/output/G3/json RR/RR - R.json\n",
      "index: 4, category: HRIP\n",
      "Processing category: HRIP\n",
      "Research Question: What are the mentioned key benefits and risks regarding the perceived positive Human-Robot-Interaction of rescue robots?\n",
      " |████████████----------------------------------------------------------------------------------------| 12.5% Warning: LLM output differs from the original text, with edit distance 6\n",
      "Original text: \"hope: Robots can give victims hope that they might be rescued, which could impact their endurance\"\n",
      "LLM output: \"**Robots can give victims hope that they might be rescued**<sup>hope</sup>, which could **impact their endurance**<sup>endurance</sup>\"\n",
      "Text reconstruction successful\n",
      "\n",
      "Had to reconstruct 1 texts due to LLM errors\n",
      " |███████████████████████████████████████████████████████████████████████████-------------------------| 75.0% Warning: LLM output differs from the original text, with edit distance 2\n",
      "Original text: \"comforting: Through the non-mechanical appearance, the victim feels more calmed\"\n",
      "LLM output: \"***comforting: Through the non-mechanical appearance, the victim feels more calmed***<sup>comfort</sup>\"\n",
      "Distance less than treshold 5, accept\n",
      "\n",
      " |███████████████████████████████████████████████████████████████████████████████████████-------------| 87.5% Warning: LLM output differs from the original text, with edit distance 102\n",
      "Original text: \"flexible designs/forms: Due to the flexible design of a robot, it can be adapted to various situations depending on what is needed.\"\n",
      "LLM output: \"The text contains no insights relevant to the research question.\"\n",
      "Text reconstruction successful\n",
      "\n",
      "Had to reconstruct 1 texts due to LLM errors\n",
      " |████████████████████████████████████████████████████████████████████████████████████████████████████| 100.0% \n",
      "JSON file saved to /home/fenn/Desktop/Publications/soft robot intervention/Analyses/main study - LLM/output/G3/json RR/RR - HRIP.json\n",
      "index: 5, category: HRIN\n",
      "Processing category: HRIN\n",
      "Research Question: What are the mentioned key benefits and risks regarding the perceived negative Human-Robot-Interaction of rescue robots?\n",
      " |█████-----------------------------------------------------------------------------------------------| 5.3% Warning: LLM output differs from the original text, with edit distance 14\n",
      "Original text: \"fewer people: The emotional component must not be forgotten. The victims need support.\"\n",
      "LLM output: \"The emotional component must not be forgotten. The victims need support.\"\n",
      "Text reconstruction successful\n",
      "\n",
      "Had to reconstruct 1 texts due to LLM errors\n",
      " |██████████------------------------------------------------------------------------------------------| 10.5% Warning: LLM output differs from the original text, with edit distance 55\n",
      "Original text: \"could cause fear\"\n",
      "LLM output: \"The text contains no insights relevant to the research question.\"\n",
      "Text reconstruction successful\n",
      "\n",
      "Had to reconstruct 1 texts due to LLM errors\n",
      " |███████████████-------------------------------------------------------------------------------------| 15.8% Warning: LLM output differs from the original text, with edit distance 55\n",
      "Original text: \"impersonal: lack of human closeness, which the victim may need\"\n",
      "LLM output: \"The text contains no insights relevant to the research question.\"\n",
      "Text reconstruction successful\n",
      "\n",
      "Had to reconstruct 1 texts due to LLM errors\n",
      " |█████████████████████-------------------------------------------------------------------------------| 21.1% Warning: LLM output differs from the original text, with edit distance 79\n",
      "Original text: \"bad communication\"\n",
      "LLM output: \"There are no insightful statements related to the research question in the text provided.\"\n",
      "Text reconstruction successful\n",
      "\n",
      "Had to reconstruct 1 texts due to LLM errors\n",
      " |██████████████████████████--------------------------------------------------------------------------| 26.3% Warning: LLM output differs from the original text, with edit distance 73\n",
      "Original text: \"problems with contacting\"\n",
      "LLM output: \"There are no insightful statements related to the research question in the provided text.\"\n",
      "Text reconstruction successful\n",
      "\n",
      "Had to reconstruct 1 texts due to LLM errors\n",
      " |███████████████████████████████████████████████-----------------------------------------------------| 47.4% Warning: LLM output differs from the original text, with edit distance 46\n",
      "Original text: \"people are afraid\"\n",
      "LLM output: \"There are no insightful statements in the text provided.\"\n",
      "Text reconstruction successful\n",
      "\n",
      "Had to reconstruct 1 texts due to LLM errors\n",
      " |█████████████████████████████████████████████████████████-------------------------------------------| 57.9% Warning: LLM output differs from the original text, with edit distance 20\n",
      "Original text: \"emotional coldness: The use of humans in emergency situations is probably more pleasant for the victims than the use of cold/emotionless robots.\"\n",
      "LLM output: \"**The use of humans in emergency situations is probably more pleasant for the victims than the use of cold/emotionless robots.**<sup>emotional coldness</sup>\"\n",
      "Text reconstruction successful\n",
      "\n",
      "Had to reconstruct 1 texts due to LLM errors\n",
      " |████████████████████████████████████████████████████████████████████████████████████████████████████| 100.0% \n",
      "JSON file saved to /home/fenn/Desktop/Publications/soft robot intervention/Analyses/main study - LLM/output/G3/json RR/RR - HRIN.json\n",
      "index: 6, category: AP\n",
      "Processing category: AP\n",
      "Research Question: What are the mentioned key benefits and risks regarding the perceived positive anthropomorphism of rescue robots?\n",
      " |███████████-----------------------------------------------------------------------------------------| 11.8% Warning: LLM output differs from the original text, with edit distance 68\n",
      "Original text: \"no emotions\"\n",
      "LLM output: \"There are no insights relevant to the research question in the provided text.\"\n",
      "Text reconstruction successful\n",
      "\n",
      "Had to reconstruct 1 texts due to LLM errors\n",
      " |█████████████████-----------------------------------------------------------------------------------| 17.6% Warning: LLM output differs from the original text, with edit distance 22\n",
      "Original text: \"lack of emotionality: Human rescuers could be shocked, carry trauma from it, all of which a robot can handle.\"\n",
      "LLM output: \"**Human rescuers could be shocked, carry trauma from it, all of which a robot can handle**<sup>lack of emotionality</sup>.\"\n",
      "Text reconstruction successful\n",
      "\n",
      "Had to reconstruct 1 texts due to LLM errors\n",
      " |████████████████████████████████████████████████████------------------------------------------------| 52.9% Warning: LLM output differs from the original text, with edit distance 23\n",
      "Original text: \"autonomous decisions: Robots decide on life and death. They possibly make more logical decisions when they are not guided by emotions and prejudices as humans do.\"\n",
      "LLM output: \"***Robots decide on life and death. They possibly make more logical decisions when they are not guided by emotions and prejudices as humans do.***<sup>autonomous decisions</sup>\"\n",
      "Text reconstruction successful\n",
      "\n",
      "Had to reconstruct 1 texts due to LLM errors\n",
      " |████████████████████████████████████████████████████████████████████████████------------------------| 76.5% Warning: LLM output differs from the original text, with edit distance 2\n",
      "Original text: \"robots have improvement potential: Such a robot is capable of learning and thus able to better recognize, anticipate, and deal with situations in the future.\"\n",
      "LLM output: \"***robots have improvement potential***<sup>efficiency</sup>: Such a robot is capable of learning and thus able to better recognize, anticipate, and deal with situations in the future.\"\n",
      "Distance less than treshold 5, accept\n",
      "\n",
      " |████████████████████████████████████████████████████████████████████████████████████████████████████| 100.0% \n",
      "Warning: LLM output differs from the original text, with edit distance 2\n",
      "Original text: \"without emotions: Robots can assess situations without emotional involvement, while humans might waste too much time on hopeless rescue attempts.\"\n",
      "LLM output: \"***without emotions***<sup>lack of emotionality</sup>: Robots can assess situations **without emotional involvement**<sup>lack of emotionality</sup>, while humans might waste too much time on hopeless rescue attempts.\"\n",
      "Distance less than treshold 5, accept\n",
      "\n",
      "JSON file saved to /home/fenn/Desktop/Publications/soft robot intervention/Analyses/main study - LLM/output/G3/json RR/RR - AP.json\n",
      "index: 7, category: AN\n",
      "Processing category: AN\n",
      "Research Question: What are the mentioned key benefits and risks regarding the perceived negative anthropomorphism of rescue robots?\n",
      " |███-------------------------------------------------------------------------------------------------| 3.8% Warning: LLM output differs from the original text, with edit distance 56\n",
      "Original text: \"limited autonomy\"\n",
      "LLM output: \"The text contains no insights relevant to the research question.\"\n",
      "Text reconstruction successful\n",
      "\n",
      "Had to reconstruct 1 texts due to LLM errors\n",
      " |██████████████████████████--------------------------------------------------------------------------| 26.9% Warning: LLM output differs from the original text, with edit distance 5\n",
      "Original text: \"intimidating appearance: a robot could seem frightening\"\n",
      "LLM output: \"***\n",
      "\n",
      "***intimidating appearance***<sup>perceived negative anthropomorphism</sup>: a robot could seem frightening\"\n",
      "Text reconstruction successful\n",
      "\n",
      "Had to reconstruct 1 texts due to LLM errors\n",
      " |██████████████████████████████████████████████████--------------------------------------------------| 50.0% Warning: LLM output differs from the original text, with edit distance 44\n",
      "Original text: \"have no feelings\"\n",
      "LLM output: \"There are no insightful statements in the text provided.\"\n",
      "Text reconstruction successful\n",
      "\n",
      "Had to reconstruct 1 texts due to LLM errors\n",
      " |█████████████████████████████████████████████████████████-------------------------------------------| 57.7% Warning: LLM output differs from the original text, with edit distance 2\n",
      "Original text: \"imitation of nature: Human-like characteristics might not be well received by every person and could cause discomfort.\"\n",
      "LLM output: \"***imitation of nature: Human-like characteristics might not be well received by every person and could cause discomfort.***<sup>perceived negative anthropomorphism</sup>\"\n",
      "Distance less than treshold 5, accept\n",
      "\n",
      " |█████████████████████████████████████████████████████████████████████-------------------------------| 69.2% Warning: LLM output differs from the original text, with edit distance 2\n",
      "Original text: \"errors in autonomy: Autonomously working robots can make mistakes because they judge complex relationships worse.\"\n",
      "LLM output: \"***errors in autonomy***<sup>perceived negative anthropomorphism</sup>: Autonomously working robots can make mistakes because they judge complex relationships worse.\"\n",
      "Distance less than treshold 5, accept\n",
      "\n",
      " |█████████████████████████████████████████████████████████████████████████---------------------------| 73.1% Warning: LLM output differs from the original text, with edit distance 1\n",
      "Original text: \"inhuman: A victim that can be saved is probably not used to dealing with such machines and would not know how to behave. It cannot show empathy or carry out other social interactions naturally with the victim.\"\n",
      "LLM output: \"**inhuman: A victim that can be saved is probably not used to dealing with such machines and would not know how to behave. It cannot show empathy or carry out other social interactions naturally with the victim**<sup>perceived negative anthropomorphism</sup>\"\n",
      "Distance less than treshold 5, accept\n",
      "\n",
      " |████████████████████████████████████████████████████████████████████████████████████----------------| 84.6% Warning: LLM output differs from the original text, with edit distance 52\n",
      "Original text: \"unexpectedly destroyed: One could be afraid and destroy the robot\"\n",
      "LLM output: \"The text contains no insights relevant to the research question.\"\n",
      "Text reconstruction successful\n",
      "\n",
      "Had to reconstruct 1 texts due to LLM errors\n",
      " |████████████████████████████████████████████████████████████████████████████████████████------------| 88.5% Warning: LLM output differs from the original text, with edit distance 20\n",
      "Original text: \"lack of empathy: Robots have 0 empathy and sympathy for the injured.\"\n",
      "LLM output: \"***\n",
      "\n",
      "**Robots have 0 empathy and sympathy for the injured**<sup>lack of empathy</sup>.\n",
      "\n",
      "***\"\n",
      "Text reconstruction successful\n",
      "\n",
      "Had to reconstruct 1 texts due to LLM errors\n",
      " |████████████████████████████████████████████████████████████████████████████████████████████--------| 92.3% Warning: LLM output differs from the original text, with edit distance 12\n",
      "Original text: \"compassion: The robot is not a living being and therefore cannot provide emotional support to potential victims.\"\n",
      "LLM output: \"The robot is not a living being and therefore cannot provide emotional support to potential victims.\"\n",
      "Text reconstruction successful\n",
      "\n",
      "Had to reconstruct 1 texts due to LLM errors\n",
      " |████████████████████████████████████████████████████████████████████████████████████████████████----| 96.2% Warning: LLM output differs from the original text, with edit distance 50\n",
      "Original text: \"flexibility / intuition\"\n",
      "LLM output: \"The text contains no insights relevant to the research question.\"\n",
      "Text reconstruction successful\n",
      "\n",
      "Had to reconstruct 1 texts due to LLM errors\n",
      " |████████████████████████████████████████████████████████████████████████████████████████████████████| 100.0% \n",
      "Warning: LLM output differs from the original text, with edit distance 3\n",
      "Original text: \"lack of human closeness: Let's say if victims of earthquakes are mostly only cared for by rescue robots, this could come across as cold to the affected people - perhaps also as if they weren't worth direct human help or the risk.\"\n",
      "LLM output: \"***\n",
      "\n",
      "**lack of human closeness**<sup>perceived negative anthropomorphism</sup>: Let's say if victims of earthquakes are mostly only cared for by rescue robots, this could come across as cold to the affected people - perhaps also as if they weren't worth direct human help or the risk.\"\n",
      "Distance less than treshold 5, accept\n",
      "\n",
      "JSON file saved to /home/fenn/Desktop/Publications/soft robot intervention/Analyses/main study - LLM/output/G3/json RR/RR - AN.json\n"
     ]
    }
   ],
   "source": [
    "type_robot = \"RR\"\n",
    "\n",
    "if run_inductive_coding:\n",
    "    for index, category in enumerate(abbreviations_dict.keys()):\n",
    "        print(f\"index: {index}, category: {category}\")\n",
    "\n",
    "        process_robot_data(\n",
    "            type_robot=type_robot,\n",
    "            category=category,\n",
    "            abbreviations_dict=abbreviations_dict,\n",
    "            all_sheets_RR=all_sheets_RR,\n",
    "            all_sheets_SAR=all_sheets_SAR,\n",
    "            all_sheets_Combined=all_sheets_Combined,\n",
    "            directory=directory,\n",
    "            few_shot_examples=few_shot_examples,\n",
    "            create_multivalue_dict=create_multivalue_dict,\n",
    "            combine_dicts=combine_dicts,\n",
    "            LLMCode=LLMCode,\n",
    "            gpt_model=\"gpt-3.5-turbo\",\n",
    "            use_cache=True,\n",
    "            max_tokens=200,\n",
    "            verbose=True,\n",
    "            random_entries=False,\n",
    "            random_entries_count=None\n",
    "        )"
   ]
  },
  {
   "cell_type": "markdown",
   "metadata": {},
   "source": [
    "store data into one combined file:"
   ]
  },
  {
   "cell_type": "code",
   "execution_count": 95,
   "metadata": {},
   "outputs": [
    {
     "name": "stdout",
     "output_type": "stream",
     "text": [
      "Combined JSON data saved to /home/fenn/Desktop/Publications/soft robot intervention/Analyses/main study - LLM/output/G3/combined_RR.json\n"
     ]
    }
   ],
   "source": [
    "import os\n",
    "import json\n",
    "\n",
    "# Path to the folder containing the JSON files\n",
    "folder_path = directory + \"/output/G3/json RR\"\n",
    "\n",
    "# Initialize an empty list to store combined data\n",
    "combined_data = []\n",
    "\n",
    "# Loop through all files in the folder\n",
    "for filename in os.listdir(folder_path):\n",
    "    if filename.endswith(\".json\"):  # Check if the file is a JSON file\n",
    "        file_path = os.path.join(folder_path, filename)\n",
    "        with open(file_path, \"r\", encoding=\"utf-8\") as file:\n",
    "            try:\n",
    "                data = json.load(file)\n",
    "                if isinstance(data, list):  # Check if the JSON content is a list\n",
    "                    combined_data.extend(data)  # Add the list's content to the combined data\n",
    "                else:\n",
    "                    print(f\"Skipping {filename}: not a list\")\n",
    "            except json.JSONDecodeError as e:\n",
    "                print(f\"Error reading {filename}: {e}\")\n",
    "\n",
    "# Output the combined data to a new JSON file\n",
    "output_file = directory + \"/output/G3/\" + \"combined_RR.json\"\n",
    "with open(output_file, \"w\", encoding=\"utf-8\") as file:\n",
    "    json.dump(combined_data, file, indent=4, ensure_ascii=False)\n",
    "\n",
    "print(f\"Combined JSON data saved to {output_file}\")"
   ]
  },
  {
   "cell_type": "markdown",
   "metadata": {},
   "source": [
    "#### run LLMCode (inductive) for SAR"
   ]
  },
  {
   "cell_type": "code",
   "execution_count": 96,
   "metadata": {},
   "outputs": [
    {
     "name": "stdout",
     "output_type": "stream",
     "text": [
      "index: 0, category: TP\n",
      "Processing category: TP\n",
      "Research Question: What are the mentioned key benefits and risks regarding the perceived technological possibilities of socially assistive robots?\n",
      " |█████-----------------------------------------------------------------------------------------------| 5.6% Warning: LLM output differs from the original text, with edit distance 2\n",
      "Original text: \"always available: Robots are almost always ready for use, which is particularly helpful for people who need round-the-clock care.\"\n",
      "LLM output: \"\"always available: **Robots are almost always ready for use**, which is particularly helpful for people who need **round-the-clock care**<sup>support</sup>.\"\"\n",
      "Distance less than treshold 5, accept\n",
      "\n",
      " |███████████-----------------------------------------------------------------------------------------| 11.1% Warning: LLM output differs from the original text, with edit distance 75\n",
      "Original text: \"great opportunity\"\n",
      "LLM output: \"There are no coded statements in the text that are relevant to the research question.\"\n",
      "Text reconstruction successful\n",
      "\n",
      "Had to reconstruct 1 texts due to LLM errors\n",
      " |████████████----------------------------------------------------------------------------------------| 12.5% Warning: LLM output differs from the original text, with edit distance 53\n",
      "Original text: \"can be individualized\"\n",
      "LLM output: \"The text contains no insights relevant to the research question.\"\n",
      "Text reconstruction successful\n",
      "\n",
      "Had to reconstruct 1 texts due to LLM errors\n",
      " |█████████████---------------------------------------------------------------------------------------| 13.9% Warning: LLM output differs from the original text, with edit distance 58\n",
      "Original text: \"monitor progress better: so that one can better examine the mental disorder\"\n",
      "LLM output: \"The text contains no insights relevant to the research question.\"\n",
      "Text reconstruction successful\n",
      "\n",
      "Had to reconstruct 1 texts due to LLM errors\n",
      " |████████████████------------------------------------------------------------------------------------| 16.7% Warning: LLM output differs from the original text, with edit distance 1\n",
      "Original text: \"Multifunctional: Robots can take on various tasks and are so versatile in their use.\"\n",
      "LLM output: \"**Multifunctional: Robots can take on various tasks and are so versatile in their use**<sup>versatility</sup>\"\n",
      "Distance less than treshold 5, accept\n",
      "\n",
      " |██████████████████----------------------------------------------------------------------------------| 18.1% Warning: LLM output differs from the original text, with edit distance 54\n",
      "Original text: \"can help people\"\n",
      "LLM output: \"The text contains no insights relevant to the research question.\"\n",
      "Text reconstruction successful\n",
      "\n",
      "Had to reconstruct 1 texts due to LLM errors\n",
      " |███████████████████---------------------------------------------------------------------------------| 19.4% Warning: LLM output differs from the original text, with edit distance 56\n",
      "Original text: \"better equipped\"\n",
      "LLM output: \"The text contains no insights relevant to the research question.\"\n",
      "Text reconstruction successful\n",
      "\n",
      "Had to reconstruct 1 texts due to LLM errors\n",
      " |██████████████████████------------------------------------------------------------------------------| 22.2% Warning: LLM output differs from the original text, with edit distance 28\n",
      "Original text: \"rapid advancement/training: A robot works through programming and does not need to be trained for years. New knowledge can be conveyed in a very short time.\"\n",
      "LLM output: \"***\n",
      "\n",
      "A robot works through programming and does not need to be trained for years. **New knowledge can be conveyed in a very short time**<sup>rapid advancement/training</sup>.\"\n",
      "Text reconstruction successful\n",
      "\n",
      "Had to reconstruct 1 texts due to LLM errors\n",
      " |███████████████████████-----------------------------------------------------------------------------| 23.6% Warning: LLM output differs from the original text, with edit distance 51\n",
      "Original text: \"technical possibilities: e.g. music, screen, dance\"\n",
      "LLM output: \"The text contains no insights relevant to the research question.\"\n",
      "Text reconstruction successful\n",
      "\n",
      "Had to reconstruct 1 texts due to LLM errors\n",
      " |███████████████████████████-------------------------------------------------------------------------| 27.8% Warning: LLM output differs from the original text, with edit distance 2\n",
      "Original text: \"Routine activities: These can be taken over by robots and relieve specialists\"\n",
      "LLM output: \"***Routine activities: These can be taken over by robots and relieve specialists***<sup>relieving specialists</sup>\"\n",
      "Distance less than treshold 5, accept\n",
      "\n",
      " |██████████████████████████████----------------------------------------------------------------------| 30.6% Warning: LLM output differs from the original text, with edit distance 2\n",
      "Original text: \"Use in therapy: for example, as a replacement for therapy dogs\"\n",
      "LLM output: \"***Use in therapy: for example, as a replacement for therapy dogs***<sup>therapy; emotional support</sup>\"\n",
      "Distance less than treshold 5, accept\n",
      "\n",
      " |████████████████████████████████████----------------------------------------------------------------| 36.1% Warning: LLM output differs from the original text, with edit distance 56\n",
      "Original text: \"medical help: Valuable for questions, possibly simple medical concerns/questions\"\n",
      "LLM output: \"The text contains no insights relevant to the research question.\"\n",
      "Text reconstruction successful\n",
      "\n",
      "Had to reconstruct 1 texts due to LLM errors\n",
      " |███████████████████████████████████████████████-----------------------------------------------------| 47.2% Warning: LLM output differs from the original text, with edit distance 46\n",
      "Original text: \"optimize work environments: Create notes, present information\"\n",
      "LLM output: \"The text contains no insights relevant to the research question.\"\n",
      "Text reconstruction successful\n",
      "\n",
      "Had to reconstruct 1 texts due to LLM errors\n",
      " |███████████████████████████████████████████████████-------------------------------------------------| 51.4% Warning: LLM output differs from the original text, with edit distance 56\n",
      "Original text: \"variability: Robots programmed differently for various purposes\"\n",
      "LLM output: \"The text contains no insights relevant to the research question.\"\n",
      "Text reconstruction successful\n",
      "\n",
      "Had to reconstruct 1 texts due to LLM errors\n",
      " |████████████████████████████████████████████████████------------------------------------------------| 52.8% Warning: LLM output differs from the original text, with edit distance 54\n",
      "Original text: \"repetitive tasks\"\n",
      "LLM output: \"The text contains no insights relevant to the research question.\"\n",
      "Text reconstruction successful\n",
      "\n",
      "Had to reconstruct 1 texts due to LLM errors\n",
      " |██████████████████████████████████████████████████████----------------------------------------------| 54.2% Warning: LLM output differs from the original text, with edit distance 61\n",
      "Original text: \"location independence\"\n",
      "LLM output: \"There are no coded statements in the text related to the research question.\"\n",
      "Text reconstruction successful\n",
      "\n",
      "Had to reconstruct 1 texts due to LLM errors\n",
      " |███████████████████████████████████████████████████████---------------------------------------------| 55.6% Warning: LLM output differs from the original text, with edit distance 60\n",
      "Original text: \"entertainment: Entertainment factor\"\n",
      "LLM output: \"There are no insights relevant to the research question in the provided text.\"\n",
      "Text reconstruction successful\n",
      "\n",
      "Had to reconstruct 1 texts due to LLM errors\n",
      " |████████████████████████████████████████████████████████--------------------------------------------| 56.9% Warning: LLM output differs from the original text, with edit distance 978\n",
      "Original text: \"better/greater knowledge: Especially for those who need to learn, an all-knowing robot is very helpful, or generally, the robot is more likely to know which strategies it needs to apply to help someone. Humans do not have such vast knowledge.\"\n",
      "LLM output: \"***\n",
      "\n",
      "\"Provide round-the-clock care and support\"\n",
      "medical advancement: Identifies instances where participants highlight the positive impact of technological advancements in medical diagnosis within the discourse on socially assistive robots. \n",
      "\n",
      "CODED TEXTS:\n",
      "Improved diagnoses<sup>medical advancement</sup>***\n",
      "storage capacity: Captures instances where participants highlight the potential of data storage in socially assistive robots to store diverse knowledge beyond human limitations<sup>better/greater knowledge</sup>.\n",
      "availability: Captures references to the accessibility and presence of socially assistive robots beyond standard operating hours in the context of discussing the benefits and risks of their technological capabilities. \n",
      "\n",
      "*** \n",
      "\n",
      "Availability of robots is crucial for ensuring continuous support and assistance to users, especially in emergency situations. \n",
      "\n",
      "*** \n",
      "\n",
      "Participants highlighted the importance of 24/7 availability of socially assistive robots to address the needs of individuals requiring constant monitoring and care.\n",
      "adaptability: Identifies instances where participants highlight the potential for socially assistive robots to be versatile and function effectively across various environments\"\n",
      "Text reconstruction successful\n",
      "\n",
      "Had to reconstruct 1 texts due to LLM errors\n",
      " |███████████████████████████████████████████████████████████████-------------------------------------| 63.9% Warning: LLM output differs from the original text, with edit distance 1\n",
      "Original text: \"usable at any time: Independent of time/ Independent of human working hours\"\n",
      "LLM output: \"usable at any time: **Independent of time**<sup>availability</sup> / **Independent of human working hours**<sup>availability</sup>\"\n",
      "Distance less than treshold 5, accept\n",
      "\n",
      " |██████████████████████████████████████████████████████████████████----------------------------------| 66.7% Warning: LLM output differs from the original text, with edit distance 48\n",
      "Original text: \"education: Robots as learning assistants\"\n",
      "LLM output: \"The text contains no insights relevant to the research question.\"\n",
      "Text reconstruction successful\n",
      "\n",
      "Had to reconstruct 1 texts due to LLM errors\n",
      " |████████████████████████████████████████████████████████████████████████----------------------------| 72.2% Warning: LLM output differs from the original text, with edit distance 53\n",
      "Original text: \"efficiency increase\"\n",
      "LLM output: \"The text contains no insights relevant to the research question.\"\n",
      "Text reconstruction successful\n",
      "\n",
      "Had to reconstruct 1 texts due to LLM errors\n",
      " |███████████████████████████████████████████████████████████████████████████████---------------------| 79.2% Warning: LLM output differs from the original text, with edit distance 115\n",
      "Original text: \"time saving: The caregivers no longer have to spend so much time with all those needing care, but can use robots instead.\"\n",
      "LLM output: \"time saving: The caregivers no longer have to spend so much time with all those needing care, but can use robots instead. \n",
      "\n",
      "*** \n",
      "\n",
      "**The caregivers no longer have to spend so much time with all those needing care, but can use robots instead**<sup>time saving</sup>.\"\n",
      "Text reconstruction successful\n",
      "\n",
      "Had to reconstruct 1 texts due to LLM errors\n",
      " |█████████████████████████████████████████████████████████████████████████████████-------------------| 81.9% Warning: LLM output differs from the original text, with edit distance 55\n",
      "Original text: \"data collection: Can collect data and learn and improve based on it\"\n",
      "LLM output: \"The text contains no insights relevant to the research question.\"\n",
      "Text reconstruction successful\n",
      "\n",
      "Had to reconstruct 1 texts due to LLM errors\n",
      " |███████████████████████████████████████████████████████████████████████████████████████-------------| 87.5% Warning: LLM output differs from the original text, with edit distance 49\n",
      "Original text: \"do not need vacation\"\n",
      "LLM output: \"The text contains no insights relevant to the research question.\"\n",
      "Text reconstruction successful\n",
      "\n",
      "Had to reconstruct 1 texts due to LLM errors\n",
      " |████████████████████████████████████████████████████████████████████████████████████████------------| 88.9% Warning: LLM output differs from the original text, with edit distance 2\n",
      "Original text: \"individual adaptability: Robots could potentially be better adapted to the individual needs of users than it would be possible with assistants.\"\n",
      "LLM output: \"***individual adaptability: Robots could potentially be better adapted to the individual needs of users than it would be possible with assistants.***<sup>adaptability</sup>\"\n",
      "Distance less than treshold 5, accept\n",
      "\n",
      " |███████████████████████████████████████████████████████████████████████████████████████████---------| 91.7% Warning: LLM output differs from the original text, with edit distance 55\n",
      "Original text: \"easy to use\"\n",
      "LLM output: \"The text contains no insights relevant to the research question.\"\n",
      "Text reconstruction successful\n",
      "\n",
      "Had to reconstruct 1 texts due to LLM errors\n",
      " |█████████████████████████████████████████████████████████████████████████████████████████████-------| 93.1% Warning: LLM output differs from the original text, with edit distance 57\n",
      "Original text: \"better help\"\n",
      "LLM output: \"The text contains no insights relevant to the research question.\"\n",
      "Text reconstruction successful\n",
      "\n",
      "Had to reconstruct 1 texts due to LLM errors\n",
      " |██████████████████████████████████████████████████████████████████████████████████████████████████--| 98.6% Warning: LLM output differs from the original text, with edit distance 53\n",
      "Original text: \"health therapy\"\n",
      "LLM output: \"The text contains no insights relevant to the research question.\"\n",
      "Text reconstruction successful\n",
      "\n",
      "Had to reconstruct 1 texts due to LLM errors\n",
      " |████████████████████████████████████████████████████████████████████████████████████████████████████| 100.0% \n",
      "JSON file saved to /home/fenn/Desktop/Publications/soft robot intervention/Analyses/main study - LLM/output/G3/json RR/SAR - TP.json\n",
      "index: 1, category: TL\n",
      "Processing category: TL\n",
      "Research Question: What are the mentioned key benefits and risks regarding the perceived technological limitations of socially assistive robots?\n",
      " |███-------------------------------------------------------------------------------------------------| 3.6% Warning: LLM output differs from the original text, with edit distance 54\n",
      "Original text: \"difficult to adapt\"\n",
      "LLM output: \"The text contains no insights relevant to the research question.\"\n",
      "Text reconstruction successful\n",
      "\n",
      "Had to reconstruct 1 texts due to LLM errors\n",
      " |██████████------------------------------------------------------------------------------------------| 10.7% Warning: LLM output differs from the original text, with edit distance 71\n",
      "Original text: \"limited know-how\"\n",
      "LLM output: \"There are no insightful statements in the text related to the research question.\"\n",
      "Text reconstruction successful\n",
      "\n",
      "Had to reconstruct 1 texts due to LLM errors\n",
      " |██████████████--------------------------------------------------------------------------------------| 14.3% Warning: LLM output differs from the original text, with edit distance 1\n",
      "Original text: \"possible defects: Possible defects could ensure that interactions between robots and humans can be toxic or harmful.\"\n",
      "LLM output: \"**Possible defects: Possible defects could ensure that interactions between robots and humans can be toxic or harmful.**<sup>risk; interaction</sup>\"\n",
      "Distance less than treshold 5, accept\n",
      "\n",
      " |█████████████████-----------------------------------------------------------------------------------| 17.9% Warning: LLM output differs from the original text, with edit distance 20\n",
      "Original text: \"possibly limited customization options: lower adaptability\"\n",
      "LLM output: \"**possibly limited customization options**<sup>lower adaptability</sup>\"\n",
      "Text reconstruction successful\n",
      "\n",
      "Had to reconstruct 1 texts due to LLM errors\n",
      " |████████████████████████████████--------------------------------------------------------------------| 32.1% Warning: LLM output differs from the original text, with edit distance 2\n",
      "Original text: \"complex operation: The robots could be difficult to configure and operate.\"\n",
      "LLM output: \"***complex operation: The robots could be difficult to configure and operate***<sup>lower adaptability</sup>\"\n",
      "Distance less than treshold 5, accept\n",
      "\n",
      " |███████████████████████████████████████-------------------------------------------------------------| 39.3% Warning: LLM output differs from the original text, with edit distance 53\n",
      "Original text: \"Has limited abilities\"\n",
      "LLM output: \"The text contains no insights relevant to the research question.\"\n",
      "Text reconstruction successful\n",
      "\n",
      "Had to reconstruct 1 texts due to LLM errors\n",
      " |█████████████████████████████████████████████████████-----------------------------------------------| 53.6% Warning: LLM output differs from the original text, with edit distance 57\n",
      "Original text: \"can break\"\n",
      "LLM output: \"The text contains no insights relevant to the research question.\"\n",
      "Text reconstruction successful\n",
      "\n",
      "Had to reconstruct 1 texts due to LLM errors\n",
      " |█████████████████████████████████████████████████████████-------------------------------------------| 57.1% Warning: LLM output differs from the original text, with edit distance 10\n",
      "Original text: \"dialect: The robot does not understand dialect or a person who can no longer express themselves clearly due to age\"\n",
      "LLM output: \"***The robot does not understand dialect or a person who can no longer express themselves clearly due to age***<sup>dialect</sup>\"\n",
      "Text reconstruction successful\n",
      "\n",
      "Had to reconstruct 1 texts due to LLM errors\n",
      " |████████████████████████████████████████████████████████████----------------------------------------| 60.7% Warning: LLM output differs from the original text, with edit distance 48\n",
      "Original text: \"technical problems: Risk of malfunction\"\n",
      "LLM output: \"The text contains no insights relevant to the research question.\"\n",
      "Text reconstruction successful\n",
      "\n",
      "Had to reconstruct 1 texts due to LLM errors\n",
      " |███████████████████████████████████████████████████████████████████████████-------------------------| 75.0% Warning: LLM output differs from the original text, with edit distance 53\n",
      "Original text: \"no specific expertise\"\n",
      "LLM output: \"The text contains no insights relevant to the research question.\"\n",
      "Text reconstruction successful\n",
      "\n",
      "Had to reconstruct 1 texts due to LLM errors\n",
      " |█████████████████████████████████████████████████████████████████████████████████████████-----------| 89.3% Warning: LLM output differs from the original text, with edit distance 54\n",
      "Original text: \"technological limits\"\n",
      "LLM output: \"The text contains no insights relevant to the research question.\"\n",
      "Text reconstruction successful\n",
      "\n",
      "Had to reconstruct 1 texts due to LLM errors\n",
      " |████████████████████████████████████████████████████████████████████████████████████████████████----| 96.4% Warning: LLM output differs from the original text, with edit distance 18\n",
      "Original text: \"prone to errors: Artificial helpers make fewer careless mistakes than humans, but they may not understand glaring errors.\"\n",
      "LLM output: \"***Artificial helpers make fewer careless mistakes than humans***<sup>prone to errors</sup>, but **they may not understand glaring errors**<sup>prone to errors</sup>.\"\n",
      "Text reconstruction successful\n",
      "\n",
      "Had to reconstruct 1 texts due to LLM errors\n",
      " |████████████████████████████████████████████████████████████████████████████████████████████████████| 100.0% \n",
      "Warning: LLM output differs from the original text, with edit distance 55\n",
      "Original text: \"technical progress: The technology is not ready to widely recognize human emotions in the form of robots and to work like humans. Thus, no safety can be guaranteed.\"\n",
      "LLM output: \"***The technology is not ready to widely recognize human emotions in the form of robots and to work like humans***<sup>technical progress; safety concerns</sup>.\"\n",
      "Text reconstruction successful\n",
      "\n",
      "Had to reconstruct 1 texts due to LLM errors\n",
      "JSON file saved to /home/fenn/Desktop/Publications/soft robot intervention/Analyses/main study - LLM/output/G3/json RR/SAR - TL.json\n",
      "index: 2, category: SA\n",
      "Processing category: SA\n",
      "Research Question: What are the mentioned key benefits and risks regarding the perceived safety of socially assistive robots?\n",
      " |███-------------------------------------------------------------------------------------------------| 3.1% Warning: LLM output differs from the original text, with edit distance 49\n",
      "Original text: \"lower risk of injury: With soft robots\"\n",
      "LLM output: \"The text contains no insights relevant to the research question.\"\n",
      "Text reconstruction successful\n",
      "\n",
      "Had to reconstruct 1 texts due to LLM errors\n",
      " |██████----------------------------------------------------------------------------------------------| 6.2% Warning: LLM output differs from the original text, with edit distance 50\n",
      "Original text: \"low risk of injury: with soft robots\"\n",
      "LLM output: \"The text contains no insights relevant to the research question.\"\n",
      "Text reconstruction successful\n",
      "\n",
      "Had to reconstruct 1 texts due to LLM errors\n",
      " |███████████████-------------------------------------------------------------------------------------| 15.6% Warning: LLM output differs from the original text, with edit distance 1\n",
      "Original text: \"low risk of injury: Due to the fact that a soft robot is not made of metal, but rather soft, the risk is lower.\"\n",
      "LLM output: \"***low risk of injury:** Due to the fact that a soft robot is not made of metal, but rather soft, **the risk is lower**<sup>safety</sup>.\"\n",
      "Distance less than treshold 5, accept\n",
      "\n",
      " |██████████████████----------------------------------------------------------------------------------| 18.8% Warning: LLM output differs from the original text, with edit distance 26\n",
      "Original text: \"decision-making options: in theory, a robot should be able to make a logical decision better than a human because emotions etc. cannot cloud a decision\"\n",
      "LLM output: \"***in theory, a robot should be able to make a logical decision better than a human because emotions etc. cannot cloud a decision***<sup>decision-making options</sup>\"\n",
      "Text reconstruction successful\n",
      "\n",
      "Had to reconstruct 1 texts due to LLM errors\n",
      " |███████████████████████████████████████████---------------------------------------------------------| 43.8% Warning: LLM output differs from the original text, with edit distance 1\n",
      "Original text: \"animal protection: Using a soft robot instead of an animal protects the animal from potentially harmful behavior by the owner.\"\n",
      "LLM output: \"***animal protection:** Using a soft robot instead of an animal protects the animal from potentially harmful behavior by the owner.\"\n",
      "Distance less than treshold 5, accept\n",
      "\n",
      " |██████████████████████████████████████████████------------------------------------------------------| 46.9% Warning: LLM output differs from the original text, with edit distance 56\n",
      "Original text: \"low risk of injury\"\n",
      "LLM output: \"The text contains no insights relevant to the research question.\"\n",
      "Text reconstruction successful\n",
      "\n",
      "Had to reconstruct 1 texts due to LLM errors\n",
      " |█████████████████████████████████████████████████████-----------------------------------------------| 53.1% Warning: LLM output differs from the original text, with edit distance 1\n",
      "Original text: \"health monitoring: People no longer necessarily need an emergency button if an external system can watch over them and summon help when in doubt.\"\n",
      "LLM output: \"***health monitoring:** People no longer necessarily need an emergency button if an external system can watch over them and summon help when in doubt.<sup>efficiency; safety</sup>\"\n",
      "Distance less than treshold 5, accept\n",
      "\n",
      " |██████████████████████████████████████████████████████████████--------------------------------------| 62.5% Warning: LLM output differs from the original text, with edit distance 55\n",
      "Original text: \"less risk of injury\"\n",
      "LLM output: \"The text contains no insights relevant to the research question.\"\n",
      "Text reconstruction successful\n",
      "\n",
      "Had to reconstruct 1 texts due to LLM errors\n",
      " |█████████████████████████████████████████████████████████████████-----------------------------------| 65.6% Warning: LLM output differs from the original text, with edit distance 55\n",
      "Original text: \"more attentive\"\n",
      "LLM output: \"The text contains no insights relevant to the research question.\"\n",
      "Text reconstruction successful\n",
      "\n",
      "Had to reconstruct 1 texts due to LLM errors\n",
      " |███████████████████████████████████████████████████████████████████████████-------------------------| 75.0% Warning: LLM output differs from the original text, with edit distance 58\n",
      "Original text: \"efficient: Work on statistics can be made more efficient through probabilities.\"\n",
      "LLM output: \"The text contains no insights relevant to the research question.\"\n",
      "Text reconstruction successful\n",
      "\n",
      "Had to reconstruct 1 texts due to LLM errors\n",
      " |██████████████████████████████████████████████████████████████████████████████----------------------| 78.1% Warning: LLM output differs from the original text, with edit distance 49\n",
      "Original text: \"higher utilization: the robots can be used continuously\"\n",
      "LLM output: \"The text contains no insights relevant to the research question.\"\n",
      "Text reconstruction successful\n",
      "\n",
      "Had to reconstruct 1 texts due to LLM errors\n",
      " |██████████████████████████████████████████████████████████████████████████████████████████----------| 90.6% Warning: LLM output differs from the original text, with edit distance 51\n",
      "Original text: \"more reliable than humans\"\n",
      "LLM output: \"The text contains no insights relevant to the research question.\"\n",
      "Text reconstruction successful\n",
      "\n",
      "Had to reconstruct 1 texts due to LLM errors\n",
      " |█████████████████████████████████████████████████████████████████████████████████████████████-------| 93.8% Warning: LLM output differs from the original text, with edit distance 52\n",
      "Original text: \"reliable: is always ready\"\n",
      "LLM output: \"The text contains no insights relevant to the research question.\"\n",
      "Text reconstruction successful\n",
      "\n",
      "Had to reconstruct 1 texts due to LLM errors\n",
      " |████████████████████████████████████████████████████████████████████████████████████████████████████| 100.0% \n",
      "JSON file saved to /home/fenn/Desktop/Publications/soft robot intervention/Analyses/main study - LLM/output/G3/json RR/SAR - SA.json\n",
      "index: 3, category: R\n",
      "Processing category: R\n",
      "Research Question: What are the mentioned key benefits and risks regarding the perceived risks of socially assistive robots?\n",
      " |████------------------------------------------------------------------------------------------------| 4.5% Warning: LLM output differs from the original text, with edit distance 22\n",
      "Original text: \"information security: Depending on the specification of the robots, data losses can occur and pose a danger.\"\n",
      "LLM output: \"**Depending on the specification of the robots, data losses can occur and pose a danger**<sup>data security risk</sup>.\"\n",
      "Text reconstruction successful\n",
      "\n",
      "Had to reconstruct 1 texts due to LLM errors\n",
      " |███████████████████████████████---------------------------------------------------------------------| 31.8% Warning: LLM output differs from the original text, with edit distance 52\n",
      "Original text: \"repair/ maintenance\"\n",
      "LLM output: \"The text contains no insights relevant to the research question.\"\n",
      "Text reconstruction successful\n",
      "\n",
      "Had to reconstruct 1 texts due to LLM errors\n",
      " |████████████████████████████████████----------------------------------------------------------------| 36.4% Warning: LLM output differs from the original text, with edit distance 50\n",
      "Original text: \"malfunctions: Technical errors can cost human lives\"\n",
      "LLM output: \"The text contains no insights relevant to the research question.\"\n",
      "Text reconstruction successful\n",
      "\n",
      "Had to reconstruct 1 texts due to LLM errors\n",
      " |████████████████████████████████████████------------------------------------------------------------| 40.9% Warning: LLM output differs from the original text, with edit distance 2\n",
      "Original text: \"risk of injury: with non-soft robots, but also with faulty processing with soft ones\"\n",
      "LLM output: \"***risk of injury: with non-soft robots, but also with faulty processing with soft ones***<sup>physical harm</sup>\"\n",
      "Distance less than treshold 5, accept\n",
      "\n",
      " |█████████████████████████████████████████████-------------------------------------------------------| 45.5% Warning: LLM output differs from the original text, with edit distance 6\n",
      "Original text: \"helplessness in case of failures: Technical problems could cause helplessness\"\n",
      "LLM output: \"***\n",
      "\n",
      "**helplessness in case of failures**<sup>technical issues</sup>: Technical problems could cause helplessness\n",
      "\n",
      "***\"\n",
      "Text reconstruction successful\n",
      "\n",
      "Had to reconstruct 1 texts due to LLM errors\n",
      " |██████████████████████████████████████████████████--------------------------------------------------| 50.0% Warning: LLM output differs from the original text, with edit distance 3\n",
      "Original text: \"consequences: There are no rules yet about social assistance robots. The consequences of a data leak are unknown.\"\n",
      "LLM output: \"***\n",
      "\n",
      "consequences: **There are no rules yet about social assistance robots. The consequences of a data leak are unknown.**<sup>lack of regulations</sup>\"\n",
      "Distance less than treshold 5, accept\n",
      "\n",
      " |██████████████████████████████████████████████████████----------------------------------------------| 54.5% Warning: LLM output differs from the original text, with edit distance 2\n",
      "Original text: \"device failure: If devices break down or have malfunctions, it can negatively affect the use of the robots\"\n",
      "LLM output: \"***device failure: If devices break down or have malfunctions, it can negatively affect the use of the robots***<sup>technical issues</sup>\"\n",
      "Distance less than treshold 5, accept\n",
      "\n",
      " |████████████████████████████████████████████████████████████████████████----------------------------| 72.7% Warning: LLM output differs from the original text, with edit distance 51\n",
      "Original text: \"data security: Cannot be 100% sure\"\n",
      "LLM output: \"The text contains no insights relevant to the research question.\"\n",
      "Text reconstruction successful\n",
      "\n",
      "Had to reconstruct 1 texts due to LLM errors\n",
      " |███████████████████████████████████████████████████████████████████████████████████████████████-----| 95.5% Warning: LLM output differs from the original text, with edit distance 6\n",
      "Original text: \"accidents due to bugs: In the early stages, certainly some unforeseen errors occur that could lead to accidents\"\n",
      "LLM output: \"***\n",
      "\n",
      "**accidents due to bugs**<sup>error</sup>: In the early stages, certainly some unforeseen errors occur that could lead to accidents\n",
      "\n",
      "***\"\n",
      "Text reconstruction successful\n",
      "\n",
      "Had to reconstruct 1 texts due to LLM errors\n",
      " |████████████████████████████████████████████████████████████████████████████████████████████████████| 100.0% \n",
      "Warning: LLM output differs from the original text, with edit distance 58\n",
      "Original text: \"risk of injury\"\n",
      "LLM output: \"The text contains no insights relevant to the research question.\"\n",
      "Text reconstruction successful\n",
      "\n",
      "Had to reconstruct 1 texts due to LLM errors\n",
      "JSON file saved to /home/fenn/Desktop/Publications/soft robot intervention/Analyses/main study - LLM/output/G3/json RR/SAR - R.json\n",
      "index: 4, category: HRIP\n",
      "Processing category: HRIP\n",
      "Research Question: What are the mentioned key benefits and risks regarding the perceived positive Human-Robot-Interaction of socially assistive robots?\n",
      " |█---------------------------------------------------------------------------------------------------| 1.1% Warning: LLM output differs from the original text, with edit distance 60\n",
      "Original text: \"emotional interaction\"\n",
      "LLM output: \"No insightful statements were found in the text related to emotional interaction.\"\n",
      "Text reconstruction successful\n",
      "\n",
      "Had to reconstruct 1 texts due to LLM errors\n",
      " |██--------------------------------------------------------------------------------------------------| 2.2% Warning: LLM output differs from the original text, with edit distance 56\n",
      "Original text: \"elderly care\"\n",
      "LLM output: \"The text contains no insights relevant to the research question.\"\n",
      "Text reconstruction successful\n",
      "\n",
      "Had to reconstruct 1 texts due to LLM errors\n",
      " |███-------------------------------------------------------------------------------------------------| 3.3% Warning: LLM output differs from the original text, with edit distance 51\n",
      "Original text: \"reduction of loneliness\"\n",
      "LLM output: \"The text contains no insights relevant to the research question.\"\n",
      "Text reconstruction successful\n",
      "\n",
      "Had to reconstruct 1 texts due to LLM errors\n",
      " |█████-----------------------------------------------------------------------------------------------| 5.5% Warning: LLM output differs from the original text, with edit distance 21\n",
      "Original text: \"promote interaction: Introverted or lonely people could benefit from finding social contact, or they may even be encouraged to interact more with people.\"\n",
      "LLM output: \"**Introverted or lonely people could benefit from finding social contact**, or **they may even be encouraged to interact more with people**<sup>promote interaction</sup>.\"\n",
      "Text reconstruction successful\n",
      "\n",
      "Had to reconstruct 1 texts due to LLM errors\n",
      " |██████----------------------------------------------------------------------------------------------| 6.6% Warning: LLM output differs from the original text, with edit distance 2\n",
      "Original text: \"stay mentally fit: Through interactions with the robot, the brain can continue to be activated and deteriorates less.\"\n",
      "LLM output: \"***stay mentally fit***<sup>brain activation; deterioration</sup>: Through interactions with the robot, the brain can continue to be activated and deteriorates less.\"\n",
      "Distance less than treshold 5, accept\n",
      "\n",
      " |████████--------------------------------------------------------------------------------------------| 8.8% Warning: LLM output differs from the original text, with edit distance 57\n",
      "Original text: \"less shame\"\n",
      "LLM output: \"The text contains no insights relevant to the research question.\"\n",
      "Text reconstruction successful\n",
      "\n",
      "Had to reconstruct 1 texts due to LLM errors\n",
      " |█████████-------------------------------------------------------------------------------------------| 9.9% Warning: LLM output differs from the original text, with edit distance 51\n",
      "Original text: \"are emotional support\"\n",
      "LLM output: \"The text contains no insights relevant to the research question.\"\n",
      "Text reconstruction successful\n",
      "\n",
      "Had to reconstruct 1 texts due to LLM errors\n",
      " |██████████████--------------------------------------------------------------------------------------| 14.3% Warning: LLM output differs from the original text, with edit distance 56\n",
      "Original text: \"address needs\"\n",
      "LLM output: \"The text contains no insights relevant to the research question.\"\n",
      "Text reconstruction successful\n",
      "\n",
      "Had to reconstruct 1 texts due to LLM errors\n",
      " |██████████████████----------------------------------------------------------------------------------| 18.7% Warning: LLM output differs from the original text, with edit distance 55\n",
      "Original text: \"can be multilingual\"\n",
      "LLM output: \"The text contains no insights relevant to the research question.\"\n",
      "Text reconstruction successful\n",
      "\n",
      "Had to reconstruct 1 texts due to LLM errors\n",
      " |███████████████████---------------------------------------------------------------------------------| 19.8% Warning: LLM output differs from the original text, with edit distance 1\n",
      "Original text: \"promote social competence: Promote social skills of people with disabilities or the elderly with a robot that listens\"\n",
      "LLM output: \"**Promote social competence**: Promote social skills of people with disabilities or the elderly with a robot that listens<sup>promote interaction</sup>\"\n",
      "Distance less than treshold 5, accept\n",
      "\n",
      " |█████████████████████████████-----------------------------------------------------------------------| 29.7% Warning: LLM output differs from the original text, with edit distance 58\n",
      "Original text: \"good support\"\n",
      "LLM output: \"The text contains no insights relevant to the research question.\"\n",
      "Text reconstruction successful\n",
      "\n",
      "Had to reconstruct 1 texts due to LLM errors\n",
      " |███████████████████████████████---------------------------------------------------------------------| 31.9% Warning: LLM output differs from the original text, with edit distance 2\n",
      "Original text: \"carry responsibilities: People can take on a task and care for the robot\"\n",
      "LLM output: \"***carry responsibilities: People can take on a task and care for the robot***<sup>robotic assistance</sup>\"\n",
      "Distance less than treshold 5, accept\n",
      "\n",
      " |████████████████████████████████--------------------------------------------------------------------| 33.0% Warning: LLM output differs from the original text, with edit distance 22\n",
      "Original text: \"help with depression: People with depression receive help from their robots to establish a routine or something similar.\"\n",
      "LLM output: \"**People with depression receive help from their robots to establish a routine or something similar**<sup>help with depression</sup>.\"\n",
      "Text reconstruction successful\n",
      "\n",
      "Had to reconstruct 1 texts due to LLM errors\n",
      " |████████████████████████████████████----------------------------------------------------------------| 36.3% Warning: LLM output differs from the original text, with edit distance 53\n",
      "Original text: \"human-like contacts\"\n",
      "LLM output: \"The text contains no insights relevant to the research question.\"\n",
      "Text reconstruction successful\n",
      "\n",
      "Had to reconstruct 1 texts due to LLM errors\n",
      " |████████████████████████████████████████------------------------------------------------------------| 40.7% Warning: LLM output differs from the original text, with edit distance 7\n",
      "Original text: \"help with feelings of shame: Some people are ashamed of their suffering, a robot would help there.\"\n",
      "LLM output: \"*** \n",
      "\n",
      "help with feelings of shame: **Some people are ashamed of their suffering, a robot would help there.**<sup>emotional support</sup>\n",
      "\n",
      "***\"\n",
      "Text reconstruction successful\n",
      "\n",
      "Had to reconstruct 1 texts due to LLM errors\n",
      " |███████████████████████████████████████████---------------------------------------------------------| 44.0% Warning: LLM output differs from the original text, with edit distance 2\n",
      "Original text: \"help for those in need of learning: If someone needs a lot of attention, this can easily be replaced with such a robot\"\n",
      "LLM output: \"***help for those in need of learning***<sup>help with attention</sup>: If someone needs a lot of attention, this can easily be replaced with such a robot\"\n",
      "Distance less than treshold 5, accept\n",
      "\n",
      " |██████████████████████████████████████████████████--------------------------------------------------| 50.5% Warning: LLM output differs from the original text, with edit distance 54\n",
      "Original text: \"more pleasant feeling: Soft materials are more pleasant than hard ones\"\n",
      "LLM output: \"The text contains no insights relevant to the research question.\"\n",
      "Text reconstruction successful\n",
      "\n",
      "Had to reconstruct 1 texts due to LLM errors\n",
      " |████████████████████████████████████████████████████------------------------------------------------| 52.7% Warning: LLM output differs from the original text, with edit distance 13\n",
      "Original text: \"physicality: Depending on the application (e.g. elderly care, dementia, toddlers), soft robots may be advantageous due to their haptic features.\"\n",
      "LLM output: \"**Depending on the application (e.g. elderly care, dementia, toddlers), soft robots may be advantageous due to their haptic features**<sup>physicality</sup>.\"\n",
      "Text reconstruction successful\n",
      "\n",
      "Had to reconstruct 1 texts due to LLM errors\n",
      " |███████████████████████████████████████████████████████████-----------------------------------------| 59.3% Warning: LLM output differs from the original text, with edit distance 29\n",
      "Original text: \"emotional relationships: Robots can also establish emotional connections that many people lack\"\n",
      "LLM output: \"***\n",
      "\n",
      "Robots can also establish emotional connections that many people lack***\n",
      "\n",
      "***\"\n",
      "Text reconstruction successful\n",
      "\n",
      "Had to reconstruct 1 texts due to LLM errors\n",
      " |██████████████████████████████████████████████████████████████--------------------------------------| 62.6% Warning: LLM output differs from the original text, with edit distance 2\n",
      "Original text: \"social contact: for example, for socially isolated and/or elderly people\"\n",
      "LLM output: \"***social contact: for example, for socially isolated and/or elderly people***<sup>benefit; target demographic</sup>\"\n",
      "Distance less than treshold 5, accept\n",
      "\n",
      " |████████████████████████████████████████████████████████████████------------------------------------| 64.8% Warning: LLM output differs from the original text, with edit distance 2\n",
      "Original text: \"Patience: for example, when dealing with people with dementia (repetitive actions are tolerated indefinitely without losing patience)\"\n",
      "LLM output: \"***Patience: for example, when dealing with people with dementia (repetitive actions are tolerated indefinitely without losing patience)***<sup>patience; dementia care</sup>\"\n",
      "Distance less than treshold 5, accept\n",
      "\n",
      " |█████████████████████████████████████████████████████████████████████-------------------------------| 69.2% Warning: LLM output differs from the original text, with edit distance 296\n",
      "Original text: \"adaptation to patient/client: e.g. through biography work/ AI\"\n",
      "LLM output: \"***\n",
      "\n",
      "adaptation to patient/client: e.g. through biography work/ AI***\n",
      "\n",
      "*** \n",
      "\n",
      "The text contains insights relevant to the research question as it highlights the potential benefit of using robotics, specifically AI, for adapting to patients/clients through biography work, indicating a personalized approach to Human-Robot-Interaction in socially assistive robotics.\"\n",
      "Text reconstruction successful\n",
      "\n",
      "Had to reconstruct 1 texts due to LLM errors\n",
      " |█████████████████████████████████████████████████████████████████████████---------------------------| 73.6% Warning: LLM output differs from the original text, with edit distance 143\n",
      "Original text: \"realistic \"companion\": emotional attachment to the robot possible, this makes therapy success more likely\"\n",
      "LLM output: \"The text contains insights relevant to the research question as it highlights a key benefit of socially assistive robots, which is the potential for **emotional attachment to the robot possible**<sup>companion; therapy success</sup>.\"\n",
      "Text reconstruction successful\n",
      "\n",
      "Had to reconstruct 1 texts due to LLM errors\n",
      " |███████████████████████████████████████████████████████████████████████████-------------------------| 75.8% Warning: LLM output differs from the original text, with edit distance 183\n",
      "Original text: \"acceptance of help: There are people who find it very difficult to give up their independence, which they lose due to illness, disability or age. These individuals might prefer to be supported by artificial assistants.\"\n",
      "LLM output: \"***\n",
      "There are people who find it very difficult to give up their independence, which they lose due to illness, disability or age. These individuals might prefer to be supported by artificial assistants.***\n",
      "\n",
      "acceptance of help: Individuals who struggle to maintain their independence due to illness, disability, or age may prefer assistance from artificial assistants<sup>acceptance of help</sup>.\"\n",
      "Text reconstruction successful\n",
      "\n",
      "Had to reconstruct 1 texts due to LLM errors\n",
      " |████████████████████████████████████████████████████████████████████████████------------------------| 76.9% Warning: LLM output differs from the original text, with edit distance 2\n",
      "Original text: \"personal care: For example, in nursing homes the caregivers often change. A robot could be programmed to cater exactly to one resident.\"\n",
      "LLM output: \"***personal care: For example, in nursing homes the caregivers often change. A robot could be programmed to cater exactly to one resident.***<sup>individualized attention; positive interaction</sup>\"\n",
      "Distance less than treshold 5, accept\n",
      "\n",
      " |███████████████████████████████████████████████████████████████████████████████---------------------| 79.1% Warning: LLM output differs from the original text, with edit distance 2\n",
      "Original text: \"help with anxiety disorder: People with social anxiety may feel more comfortable with assistance robots instead of humans\"\n",
      "LLM output: \"***help with anxiety disorder: People with social anxiety may feel more comfortable with assistance robots instead of humans***<sup>disorders</sup>\"\n",
      "Distance less than treshold 5, accept\n",
      "\n",
      " |█████████████████████████████████████████████████████████████████████████████████████████-----------| 89.0% Warning: LLM output differs from the original text, with edit distance 2\n",
      "Original text: \"provides conversation material: encourages and invigorates indifferent nursing home residents\"\n",
      "LLM output: \"***provides conversation material: encourages and invigorates indifferent nursing home residents***<sup>benefit; social interaction</sup>\"\n",
      "Distance less than treshold 5, accept\n",
      "\n",
      " |███████████████████████████████████████████████████████████████████████████████████████████---------| 91.2% Warning: LLM output differs from the original text, with edit distance 25\n",
      "Original text: \"adaptability to needs: Using soft robots allows a customized appearance that improves the relationship\"\n",
      "LLM output: \"*** \n",
      "\n",
      "Using soft robots allows a customized appearance that improves the relationship***\n",
      "\n",
      "<sup>adaptability to needs</sup>\"\n",
      "Text reconstruction successful\n",
      "\n",
      "Had to reconstruct 1 texts due to LLM errors\n",
      " |████████████████████████████████████████████████████████████████████████████████████████████████████| 100.0% \n",
      "Warning: LLM output differs from the original text, with edit distance 50\n",
      "Original text: \"practice social situation\"\n",
      "LLM output: \"The text contains no insights relevant to the research question.\"\n",
      "Text reconstruction successful\n",
      "\n",
      "Had to reconstruct 1 texts due to LLM errors\n",
      "JSON file saved to /home/fenn/Desktop/Publications/soft robot intervention/Analyses/main study - LLM/output/G3/json RR/SAR - HRIP.json\n",
      "index: 5, category: HRIN\n",
      "Processing category: HRIN\n",
      "Research Question: What are the mentioned key benefits and risks regarding the perceived negative Human-Robot-Interaction of socially assistive robots?\n",
      " |████------------------------------------------------------------------------------------------------| 4.1% Warning: LLM output differs from the original text, with edit distance 84\n",
      "Original text: \"dependency: Similar to YouTubers or streamers, a kind of pseudo-relationship that possibly makes you dependent\"\n",
      "LLM output: \"The text contains no insights relevant to the research question.\"\n",
      "Text reconstruction successful\n",
      "\n",
      "Had to reconstruct 1 texts due to LLM errors\n",
      " |█████-----------------------------------------------------------------------------------------------| 5.4% Warning: LLM output differs from the original text, with edit distance 55\n",
      "Original text: \"unsuitable for mentally disabled: Overwhelm, possibly fear\"\n",
      "LLM output: \"The text contains no insights relevant to the research question.\"\n",
      "Text reconstruction successful\n",
      "\n",
      "Had to reconstruct 1 texts due to LLM errors\n",
      " |█████████-------------------------------------------------------------------------------------------| 9.5% Warning: LLM output differs from the original text, with edit distance 61\n",
      "Original text: \"emotional bond: People can form too strong an emotional attachment to robots\"\n",
      "LLM output: \"The text contains no insights relevant to the research question.\"\n",
      "Text reconstruction successful\n",
      "\n",
      "Had to reconstruct 1 texts due to LLM errors\n",
      " |██████████------------------------------------------------------------------------------------------| 10.8% Warning: LLM output differs from the original text, with edit distance 12\n",
      "Original text: \"dependency: The person will be dependent.\"\n",
      "LLM output: \"The person will be dependent.\"\n",
      "Text reconstruction successful\n",
      "\n",
      "Had to reconstruct 1 texts due to LLM errors\n",
      " |████████████----------------------------------------------------------------------------------------| 12.2% Warning: LLM output differs from the original text, with edit distance 42\n",
      "Original text: \"possible dependence\"\n",
      "LLM output: \"There are no coded statements in the text provided.\"\n",
      "Text reconstruction successful\n",
      "\n",
      "Had to reconstruct 1 texts due to LLM errors\n",
      " |██████████████--------------------------------------------------------------------------------------| 14.9% Warning: LLM output differs from the original text, with edit distance 3\n",
      "Original text: \"lack of empathy: Will the Robbi be able to adequately address emotions, or react to them and control his actions accordingly?\"\n",
      "LLM output: \"***\n",
      "\n",
      "lack of empathy: **Will the Robbi be able to adequately address emotions, or react to them and control his actions accordingly?**<sup>emotional understanding</sup>\"\n",
      "Distance less than treshold 5, accept\n",
      "\n",
      " |████████████████------------------------------------------------------------------------------------| 16.2% Warning: LLM output differs from the original text, with edit distance 2\n",
      "Original text: \"possible emotional dependencies\"\n",
      "LLM output: \"***possible emotional dependencies***<sup>emotional understanding</sup>\"\n",
      "Distance less than treshold 5, accept\n",
      "\n",
      " |█████████████████-----------------------------------------------------------------------------------| 17.6% Warning: LLM output differs from the original text, with edit distance 2\n",
      "Original text: \"feelings of fear: Especially older people / dementia patients could be afraid of machines\"\n",
      "LLM output: \"***feelings of fear: Especially older people / dementia patients could be afraid of machines***<sup>fear; older adults; dementia patients</sup>\"\n",
      "Distance less than treshold 5, accept\n",
      "\n",
      " |█████████████████████████---------------------------------------------------------------------------| 25.7% Warning: LLM output differs from the original text, with edit distance 43\n",
      "Original text: \"reaction instead of interaction\"\n",
      "LLM output: \"The text contains no insights relevant to the research question.\"\n",
      "Text reconstruction successful\n",
      "\n",
      "Had to reconstruct 1 texts due to LLM errors\n",
      " |███████████████████████████-------------------------------------------------------------------------| 27.0% Warning: LLM output differs from the original text, with edit distance 8\n",
      "Original text: \"individuality of people: Learned reactions from robots can elicit different responses depending on the person. For one, physical closeness is pleasant, for another it is not or even triggering.\"\n",
      "LLM output: \"*** \n",
      "\n",
      "individuality of people: Learned reactions from robots can elicit different responses depending on the person. For one, **physical closeness is pleasant, for another it is not or even triggering**<sup>individual response</sup>. \n",
      "\n",
      "***\"\n",
      "Text reconstruction successful\n",
      "\n",
      "Had to reconstruct 1 texts due to LLM errors\n",
      " |████████████████████████████------------------------------------------------------------------------| 28.4% Warning: LLM output differs from the original text, with edit distance 2\n",
      "Original text: \"reduction of social contacts: If humans are replaced by robots, some people may still feel lonely because they don't regard robots as a suitable replacement.\"\n",
      "LLM output: \"***reduction of social contacts: If humans are replaced by robots, some people may still feel lonely because they don't regard robots as a suitable replacement.***<sup>loneliness risk</sup>\"\n",
      "Distance less than treshold 5, accept\n",
      "\n",
      " |█████████████████████████████-----------------------------------------------------------------------| 29.7% Warning: LLM output differs from the original text, with edit distance 7\n",
      "Original text: \"digital competence: Staff AND clientele must be competent in handling robots - particularly questionable with older people\"\n",
      "LLM output: \"*** \n",
      "\n",
      "digital competence: **Staff AND clientele must be competent in handling robots**<sup>competence</sup> - particularly questionable with older people\n",
      "\n",
      "***\"\n",
      "Text reconstruction successful\n",
      "\n",
      "Had to reconstruct 1 texts due to LLM errors\n",
      " |███████████████████████████████---------------------------------------------------------------------| 31.1% Warning: LLM output differs from the original text, with edit distance 2\n",
      "Original text: \"rejection of technology: Especially older people reject newer technologies.\"\n",
      "LLM output: \"***rejection of technology: Especially older people reject newer technologies.***<sup>age-related attitudes</sup>\"\n",
      "Distance less than treshold 5, accept\n",
      "\n",
      " |████████████████████████████████--------------------------------------------------------------------| 32.4% Warning: LLM output differs from the original text, with edit distance 48\n",
      "Original text: \"overdependence: Since it is better and cheaper\"\n",
      "LLM output: \"The text contains no insights relevant to the research question.\"\n",
      "Text reconstruction successful\n",
      "\n",
      "Had to reconstruct 1 texts due to LLM errors\n",
      " |████████████████████████████████████████------------------------------------------------------------| 40.5% Warning: LLM output differs from the original text, with edit distance 2\n",
      "Original text: \"fear of robots: some people feel scared of robots and would not let them help\"\n",
      "LLM output: \"***fear of robots***<sup>fear</sup>: some people feel scared of robots and would not let them help\"\n",
      "Distance less than treshold 5, accept\n",
      "\n",
      " |████████████████████████████████████████████████----------------------------------------------------| 48.6% Warning: LLM output differs from the original text, with edit distance 2\n",
      "Original text: \"emotional blunting: If robots replace the last human contact for elderly people, this could lead to emotional numbness.\"\n",
      "LLM output: \"***emotional blunting: If robots replace the last human contact for elderly people, this could lead to emotional numbness.***<sup>emotional replacement</sup>\"\n",
      "Distance less than treshold 5, accept\n",
      "\n",
      " |██████████████████████████████████████████████████--------------------------------------------------| 50.0% Warning: LLM output differs from the original text, with edit distance 6\n",
      "Original text: \"dependency: Danger of dependency on the assistance robot, less contact with people\"\n",
      "LLM output: \"***\n",
      "\n",
      "dependency: Danger of dependency on the assistance robot, less contact with people<sup>dependence</sup>\n",
      "\n",
      "***\"\n",
      "Text reconstruction successful\n",
      "\n",
      "Had to reconstruct 1 texts due to LLM errors\n",
      " |███████████████████████████████████████████████████-------------------------------------------------| 51.4% Warning: LLM output differs from the original text, with edit distance 6\n",
      "Original text: \"possible dependency: Dependency could arise due to 24/7 availability - but this could be reduced by scheduled break times.\"\n",
      "LLM output: \"***\n",
      "\n",
      "possible dependency: Dependency could arise due to 24/7 availability - but this could be reduced by scheduled break times<sup>dependence</sup>.\n",
      "\n",
      "***\"\n",
      "Text reconstruction successful\n",
      "\n",
      "Had to reconstruct 1 texts due to LLM errors\n",
      " |████████████████████████████████████████████████████------------------------------------------------| 52.7% Warning: LLM output differs from the original text, with edit distance 23\n",
      "Original text: \"emotional dependence: People could treat a soft robot emotionally like a real animal.\"\n",
      "LLM output: \"***People could treat a soft robot emotionally like a real animal***<sup>emotional dependence</sup>.\"\n",
      "Text reconstruction successful\n",
      "\n",
      "Had to reconstruct 1 texts due to LLM errors\n",
      " |██████████████████████████████████████████████████████████████████----------------------------------| 66.2% Warning: LLM output differs from the original text, with edit distance 25\n",
      "Original text: \"unhealthy relationships: People could develop unhealthy relationships with robots and thereby lose more contact with humans.\"\n",
      "LLM output: \"***\n",
      "\n",
      "People could develop **unhealthy relationships**<sup>unhealthy relationships</sup> with robots and thereby lose more contact with humans.\"\n",
      "Text reconstruction successful\n",
      "\n",
      "Had to reconstruct 1 texts due to LLM errors\n",
      " |███████████████████████████████████████████████████████████████████---------------------------------| 67.6% Warning: LLM output differs from the original text, with edit distance 2\n",
      "Original text: \"fake interaction: it is a mean trick to pretend to people a human interaction, who may not be able to perceive everything correctly themselves\"\n",
      "LLM output: \"***fake interaction: it is a mean trick to pretend to people a human interaction, who may not be able to perceive everything correctly themselves***<sup>deception</sup>\"\n",
      "Distance less than treshold 5, accept\n",
      "\n",
      " |███████████████████████████████████████████████████████████████████████-----------------------------| 71.6% Warning: LLM output differs from the original text, with edit distance 2\n",
      "Original text: \"communication difficulties: Old people can have communication difficulties that the robot does not understand.\"\n",
      "LLM output: \"***communication difficulties: Old people can have communication difficulties that the robot does not understand.***<sup>age-related attitudes; competence</sup>\"\n",
      "Distance less than treshold 5, accept\n",
      "\n",
      " |████████████████████████████████████████████████████████████████████████----------------------------| 73.0% Warning: LLM output differs from the original text, with edit distance 2\n",
      "Original text: \"emotional skills: Can robots really map the emotional spectrum of a human?\"\n",
      "LLM output: \"***emotional skills: Can robots really map the emotional spectrum of a human?***<sup>lack of insight</sup>\"\n",
      "Distance less than treshold 5, accept\n",
      "\n",
      " |██████████████████████████████████████████████████████████████████████████████████------------------| 82.4% Warning: LLM output differs from the original text, with edit distance 74\n",
      "Original text: \"animal-like shape: The animal-like shape leads to fewer associations with human counterpart\"\n",
      "LLM output: \"***animal-like shape***<sup>The animal-like shape leads to fewer associations with human counterpart</sup>\"\n",
      "Text reconstruction successful\n",
      "\n",
      "Had to reconstruct 1 texts due to LLM errors\n",
      " |███████████████████████████████████████████████████████████████████████████████████████████████-----| 95.9% Warning: LLM output differs from the original text, with edit distance 53\n",
      "Original text: \"influence of behavior\"\n",
      "LLM output: \"The text contains no insights relevant to the research question.\"\n",
      "Text reconstruction successful\n",
      "\n",
      "Had to reconstruct 1 texts due to LLM errors\n",
      " |████████████████████████████████████████████████████████████████████████████████████████████████████| 100.0% \n",
      "Warning: LLM output differs from the original text, with edit distance 2\n",
      "Original text: \"fear due to strangeness: Above all, elderly people could be confused by the concept of robots.\"\n",
      "LLM output: \"***fear due to strangeness: Above all, elderly people could be confused by the concept of robots.***<sup>fear</sup>\"\n",
      "Distance less than treshold 5, accept\n",
      "\n",
      "JSON file saved to /home/fenn/Desktop/Publications/soft robot intervention/Analyses/main study - LLM/output/G3/json RR/SAR - HRIN.json\n",
      "index: 6, category: AP\n",
      "Processing category: AP\n",
      "Research Question: What are the mentioned key benefits and risks regarding the perceived positive anthropomorphism of socially assistive robots?\n",
      " |███-------------------------------------------------------------------------------------------------| 3.7% Warning: LLM output differs from the original text, with edit distance 50\n",
      "Original text: \"evocation of emotions\"\n",
      "LLM output: \"The text contains no insights relevant to the research question.\"\n",
      "Text reconstruction successful\n",
      "\n",
      "Had to reconstruct 1 texts due to LLM errors\n",
      " |███████---------------------------------------------------------------------------------------------| 7.4% Warning: LLM output differs from the original text, with edit distance 55\n",
      "Original text: \"human-like: feel like humans through soft fabrics - like silicone\"\n",
      "LLM output: \"The text contains no insights relevant to the research question.\"\n",
      "Text reconstruction successful\n",
      "\n",
      "Had to reconstruct 1 texts due to LLM errors\n",
      " |██████████████████----------------------------------------------------------------------------------| 18.5% Warning: LLM output differs from the original text, with edit distance 1\n",
      "Original text: \"trauma patients: Traumatized children might find it easier to confide their experienced suffering to a (childishly designed) robot than to a strange adult person.\"\n",
      "LLM output: \"**Trauma patients:** Traumatized children might find it easier to confide their experienced suffering to a (childishly designed) robot than to a strange adult person.<sup>potential benefit</sup>\"\n",
      "Distance less than treshold 5, accept\n",
      "\n",
      " |█████████████████████████---------------------------------------------------------------------------| 25.9% Warning: LLM output differs from the original text, with edit distance 2\n",
      "Original text: \"nicer than humans: not all people who work in social environments are nice and polite\"\n",
      "LLM output: \"***nicer than humans: not all people who work in social environments are nice and polite***\"\n",
      "Distance less than treshold 5, accept\n",
      "\n",
      " |████████████████████████████████████████████████----------------------------------------------------| 48.1% Warning: LLM output differs from the original text, with edit distance 21\n",
      "Original text: \"feeling of empathy: The empathy of the soft robot appears greater due to its lifelike nature\"\n",
      "LLM output: \"The **empathy of the soft robot appears greater**<sup>feeling of empathy</sup> due to its lifelike nature.\"\n",
      "Text reconstruction successful\n",
      "\n",
      "Had to reconstruct 1 texts due to LLM errors\n",
      " |███████████████████████████████████████████████████████████-----------------------------------------| 59.3% Warning: LLM output differs from the original text, with edit distance 52\n",
      "Original text: \"automatic further development\"\n",
      "LLM output: \"The text contains no insights relevant to the research question.\"\n",
      "Text reconstruction successful\n",
      "\n",
      "Had to reconstruct 1 texts due to LLM errors\n",
      " |██████████████████████████████████████████████████████████████--------------------------------------| 63.0% Warning: LLM output differs from the original text, with edit distance 49\n",
      "Original text: \"estimable: We can guess their behavior\"\n",
      "LLM output: \"The text contains no insights relevant to the research question.\"\n",
      "Text reconstruction successful\n",
      "\n",
      "Had to reconstruct 1 texts due to LLM errors\n",
      " |██████████████████████████████████████████████████████████████████----------------------------------| 66.7% Warning: LLM output differs from the original text, with edit distance 53\n",
      "Original text: \"enables closeness\"\n",
      "LLM output: \"The text contains no insights relevant to the research question.\"\n",
      "Text reconstruction successful\n",
      "\n",
      "Had to reconstruct 1 texts due to LLM errors\n",
      " |██████████████████████████████████████████████████████████████████████------------------------------| 70.4% Warning: LLM output differs from the original text, with edit distance 53\n",
      "Original text: \"physical affection possible\"\n",
      "LLM output: \"The text contains no insights relevant to the research question.\"\n",
      "Text reconstruction successful\n",
      "\n",
      "Had to reconstruct 1 texts due to LLM errors\n",
      " |██████████████████████████████████████████████████████████████████████████--------------------------| 74.1% Warning: LLM output differs from the original text, with edit distance 6\n",
      "Original text: \"closer bond: With soft robots, it is easier to establish a connection with the robot than if it were strictly made of metal.\"\n",
      "LLM output: \"***\n",
      "\n",
      "closer bond: With soft robots, **it is easier to establish a connection with the robot than if it were strictly made of metal**<sup>material; connection</sup>.\n",
      "\n",
      "***\"\n",
      "Text reconstruction successful\n",
      "\n",
      "Had to reconstruct 1 texts due to LLM errors\n",
      " |█████████████████████████████████████████████████████████████████████████████-----------------------| 77.8% Warning: LLM output differs from the original text, with edit distance 2\n",
      "Original text: \"robot as friend: A robot can serve as a friend and listener, helping one cope with thoughts and feelings.\"\n",
      "LLM output: \"***robot as friend: A robot can serve as a friend and listener, helping one cope with thoughts and feelings.***<sup>emotional support</sup>\"\n",
      "Distance less than treshold 5, accept\n",
      "\n",
      " |█████████████████████████████████████████████████████████████████████████████████-------------------| 81.5% Warning: LLM output differs from the original text, with edit distance 62\n",
      "Original text: \"emotional affection: Soft robots: advantages of a pet, without the disadvantages?\"\n",
      "LLM output: \"The text contains no insights relevant to the research question.\"\n",
      "Text reconstruction successful\n",
      "\n",
      "Had to reconstruct 1 texts due to LLM errors\n",
      " |█████████████████████████████████████████████████████████████████████████████████████---------------| 85.2% Warning: LLM output differs from the original text, with edit distance 49\n",
      "Original text: \"more resilient than humans: Physically as well as mentally\"\n",
      "LLM output: \"The text contains no insights relevant to the research question.\"\n",
      "Text reconstruction successful\n",
      "\n",
      "Had to reconstruct 1 texts due to LLM errors\n",
      " |████████████████████████████████████████████████████████████████████████████████████████------------| 88.9% Warning: LLM output differs from the original text, with edit distance 49\n",
      "Original text: \"another \"reference person\"\"\n",
      "LLM output: \"The text contains no insights relevant to the research question.\"\n",
      "Text reconstruction successful\n",
      "\n",
      "Had to reconstruct 1 texts due to LLM errors\n",
      " |████████████████████████████████████████████████████████████████████████████████████████████████----| 96.3% Warning: LLM output differs from the original text, with edit distance 2\n",
      "Original text: \"calm disposition: Robots don't have a bad mood and don't get one when patients are uncomfortable\"\n",
      "LLM output: \"***calm disposition: Robots don't have a bad mood and don't get one when patients are uncomfortable***<sup>calmness; user experience</sup>\"\n",
      "Distance less than treshold 5, accept\n",
      "\n",
      " |████████████████████████████████████████████████████████████████████████████████████████████████████| 100.0% \n",
      "Warning: LLM output differs from the original text, with edit distance 2\n",
      "Original text: \"better recognition of emotions: People who react quickly to triggers can be better supported by the robot, by the robot quickly noticing what emotions the human currently has -> better emotional support.\"\n",
      "LLM output: \"***better recognition of emotions: People who react quickly to triggers can be better supported by the robot, by the robot quickly noticing what emotions the human currently has -> better emotional support.***<sup>emotional support</sup>\"\n",
      "Distance less than treshold 5, accept\n",
      "\n",
      "JSON file saved to /home/fenn/Desktop/Publications/soft robot intervention/Analyses/main study - LLM/output/G3/json RR/SAR - AP.json\n",
      "index: 7, category: AN\n",
      "Processing category: AN\n",
      "Research Question: What are the mentioned key benefits and risks regarding the perceived negative anthropomorphism of socially assistive robots?\n",
      " |██--------------------------------------------------------------------------------------------------| 2.6% Warning: LLM output differs from the original text, with edit distance 18\n",
      "Original text: \"feigning empathy: The described robots do not react as a living being would. They have no will and no feelings. The reactions are deceptive as they suggest empathy to those in need.\"\n",
      "LLM output: \"**The described robots do not react as a living being would**<sup>empathy</sup>. They have no will and no feelings. **The reactions are deceptive as they suggest empathy to those in need**<sup>deception</sup>.\"\n",
      "Text reconstruction successful\n",
      "\n",
      "Had to reconstruct 1 texts due to LLM errors\n",
      " |██████████------------------------------------------------------------------------------------------| 10.3% Warning: LLM output differs from the original text, with edit distance 3\n",
      "Original text: \"without empathy: Cannot respond to emotions despite objectivity or possibly not like a human would.\"\n",
      "LLM output: \"***\n",
      "\n",
      "**without empathy**<sup>empathy</sup>: Cannot respond to emotions despite objectivity or possibly not like a human would.\"\n",
      "Distance less than treshold 5, accept\n",
      "\n",
      " |██████████████████████████████----------------------------------------------------------------------| 30.8% Warning: LLM output differs from the original text, with edit distance 55\n",
      "Original text: \"no emotions\"\n",
      "LLM output: \"The text contains no insights relevant to the research question.\"\n",
      "Text reconstruction successful\n",
      "\n",
      "Had to reconstruct 1 texts due to LLM errors\n",
      " |███████████████████████████████████████████---------------------------------------------------------| 43.6% Warning: LLM output differs from the original text, with edit distance 54\n",
      "Original text: \"expectation of AI\"\n",
      "LLM output: \"The text contains no insights relevant to the research question.\"\n",
      "Text reconstruction successful\n",
      "\n",
      "Had to reconstruct 1 texts due to LLM errors\n",
      " |████████████████████████████████████████████████----------------------------------------------------| 48.7% Warning: LLM output differs from the original text, with edit distance 2\n",
      "Original text: \"no empathy: The robots cannot feel or express empathy, only artificial empathy, which is often seen through\"\n",
      "LLM output: \"***no empathy: The robots cannot feel or express empathy, only artificial empathy, which is often seen through***<sup>deception</sup>\"\n",
      "Distance less than treshold 5, accept\n",
      "\n",
      " |██████████████████████████████████████████████████████████████████----------------------------------| 66.7% Warning: LLM output differs from the original text, with edit distance 2\n",
      "Original text: \"Lack of intuition: all skills are programmed and therefore based on a database. Human intuition etc. are not possible.\"\n",
      "LLM output: \"***Lack of intuition: all skills are programmed and therefore based on a database. Human intuition etc. are not possible***<sup>intuition</sup>\"\n",
      "Distance less than treshold 5, accept\n",
      "\n",
      " |███████████████████████████████████████████████████████████████████████-----------------------------| 71.8% Warning: LLM output differs from the original text, with edit distance 2\n",
      "Original text: \"humanization of robots: Robots can become reference persons through use with children or elderly people, which could potentially be harmful to the person. Hacking and then coaxing the person to do something. Emotional bonds are broken when the robot is broken.\"\n",
      "LLM output: \"***humanization of robots: Robots can become reference persons through use with children or elderly people, which could potentially be harmful to the person***<sup>harmful potential</sup>. **Hacking and then coaxing the person to do something**<sup>manipulation</sup>. **Emotional bonds are broken when the robot is broken**<sup>emotional impact</sup>.\"\n",
      "Distance less than treshold 5, accept\n",
      "\n",
      " |██████████████████████████████████████████████████████████████████████████--------------------------| 74.4% Warning: LLM output differs from the original text, with edit distance 197\n",
      "Original text: \"seriousness: Is Robi taken seriously as an assistant?\"\n",
      "LLM output: \"I'm sorry, but the text provided does not contain any insights relevant to the research question. If you have any other text or specific information related to the research question, please feel free to share it for further analysis.\"\n",
      "Text reconstruction successful\n",
      "\n",
      "Had to reconstruct 1 texts due to LLM errors\n",
      " |█████████████████████████████████████████████████████████████████████████████████████████-----------| 89.7% Warning: LLM output differs from the original text, with edit distance 17\n",
      "Original text: \"uncanny valley: Robots could suddenly seem alien and scary in interaction, when one becomes aware of their artificiality again\"\n",
      "LLM output: \"***Robots could suddenly seem alien and scary in interaction, when one becomes aware of their artificiality again***<sup>uncanny valley</sup>\"\n",
      "Text reconstruction successful\n",
      "\n",
      "Had to reconstruct 1 texts due to LLM errors\n",
      " |██████████████████████████████████████████████████████████████████████████████████████████████------| 94.9% Warning: LLM output differs from the original text, with edit distance 54\n",
      "Original text: \"emotionally cold\"\n",
      "LLM output: \"The text contains no insights relevant to the research question.\"\n",
      "Text reconstruction successful\n",
      "\n",
      "Had to reconstruct 1 texts due to LLM errors\n",
      " |████████████████████████████████████████████████████████████████████████████████████████████████████| 100.0% \n",
      "JSON file saved to /home/fenn/Desktop/Publications/soft robot intervention/Analyses/main study - LLM/output/G3/json RR/SAR - AN.json\n"
     ]
    }
   ],
   "source": [
    "type_robot = \"SAR\"\n",
    "\n",
    "if run_inductive_coding:\n",
    "    for index, category in enumerate(abbreviations_dict.keys()):\n",
    "        print(f\"index: {index}, category: {category}\")\n",
    "\n",
    "        process_robot_data(\n",
    "            type_robot=type_robot,\n",
    "            category=category,\n",
    "            abbreviations_dict=abbreviations_dict,\n",
    "            all_sheets_RR=all_sheets_RR,\n",
    "            all_sheets_SAR=all_sheets_SAR,\n",
    "            all_sheets_Combined=all_sheets_Combined,\n",
    "            directory=directory,\n",
    "            few_shot_examples=few_shot_examples,\n",
    "            create_multivalue_dict=create_multivalue_dict,\n",
    "            combine_dicts=combine_dicts,\n",
    "            LLMCode=LLMCode,\n",
    "            gpt_model=\"gpt-3.5-turbo\",\n",
    "            use_cache=True,\n",
    "            max_tokens=200,\n",
    "            verbose=True,\n",
    "            random_entries=False,\n",
    "            random_entries_count=None\n",
    "        )"
   ]
  },
  {
   "cell_type": "markdown",
   "metadata": {},
   "source": [
    "store data into one combined file:"
   ]
  },
  {
   "cell_type": "code",
   "execution_count": 98,
   "metadata": {},
   "outputs": [
    {
     "name": "stdout",
     "output_type": "stream",
     "text": [
      "Combined JSON data saved to /home/fenn/Desktop/Publications/soft robot intervention/Analyses/main study - LLM/output/G3/combined_SAR.json\n"
     ]
    }
   ],
   "source": [
    "import os\n",
    "import json\n",
    "\n",
    "# Path to the folder containing the JSON files\n",
    "folder_path = directory + \"/output/G3/json SAR\"\n",
    "\n",
    "# Initialize an empty list to store combined data\n",
    "combined_data = []\n",
    "\n",
    "# Loop through all files in the folder\n",
    "for filename in os.listdir(folder_path):\n",
    "    if filename.endswith(\".json\"):  # Check if the file is a JSON file\n",
    "        file_path = os.path.join(folder_path, filename)\n",
    "        with open(file_path, \"r\", encoding=\"utf-8\") as file:\n",
    "            try:\n",
    "                data = json.load(file)\n",
    "                if isinstance(data, list):  # Check if the JSON content is a list\n",
    "                    combined_data.extend(data)  # Add the list's content to the combined data\n",
    "                else:\n",
    "                    print(f\"Skipping {filename}: not a list\")\n",
    "            except json.JSONDecodeError as e:\n",
    "                print(f\"Error reading {filename}: {e}\")\n",
    "\n",
    "# Output the combined data to a new JSON file\n",
    "output_file = directory + \"/output/G3/\" + \"combined_SAR.json\"\n",
    "with open(output_file, \"w\", encoding=\"utf-8\") as file:\n",
    "    json.dump(combined_data, file, indent=4, ensure_ascii=False)\n",
    "\n",
    "print(f\"Combined JSON data saved to {output_file}\")\n"
   ]
  },
  {
   "cell_type": "markdown",
   "metadata": {},
   "source": [
    "### analyze given codes"
   ]
  },
  {
   "cell_type": "code",
   "execution_count": null,
   "metadata": {},
   "outputs": [],
   "source": [
    "############"
   ]
  }
 ],
 "metadata": {
  "kernelspec": {
   "display_name": "Python 3",
   "language": "python",
   "name": "python3"
  },
  "language_info": {
   "codemirror_mode": {
    "name": "ipython",
    "version": 3
   },
   "file_extension": ".py",
   "mimetype": "text/x-python",
   "name": "python",
   "nbconvert_exporter": "python",
   "pygments_lexer": "ipython3",
   "version": "3.11.9"
  }
 },
 "nbformat": 4,
 "nbformat_minor": 2
}
