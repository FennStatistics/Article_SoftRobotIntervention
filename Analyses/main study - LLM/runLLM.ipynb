{
 "cells": [
  {
   "cell_type": "markdown",
   "metadata": {},
   "source": [
    "# Summarizing Data for Results Graphics in \"R2: Perceived risks and benefits qualitative\"\n",
    "\n",
    "There are two central steps involved:\n",
    "\n",
    "\n",
    "**Check Szenario Texts:**\n",
    "- to check if topic was already mentioned for the category specific graph\n",
    "\n",
    "**Summarizing Data:**\n",
    "- for A, B graph\n",
    "- for category specific graph\n",
    "\n",
    "\n",
    "\n",
    "***\n",
    "**Coding sources**\n",
    "\n",
    "Code snippets from my (Julius Fenn) Large Language Model Workshop: https://github.com/FennStatistics/introductory-workshop-in-LLMs/\n",
    "\n",
    "\n",
    "I extend the code provided and explained in the following documenations:\n",
    "* Build a PDF ingestion and Question/Answering system: https://python.langchain.com/v0.2/docs/tutorials/pdf_qa/\n",
    "\n",
    "* https://python.langchain.com/v0.2/docs/tutorials/llm_chain/ (Build a Simple LLM Application with LCEL)\n",
    "* https://python.langchain.com/v0.2/docs/how_to/structured_output/ (How to return structured data from a model)\n",
    "* https://python.langchain.com/v0.2/docs/how_to/llm_token_usage_tracking/ (How to track token usage for LLMs)\n",
    "\n",
    "\n",
    "***\n",
    "## If you facing issues running your Code:\n",
    "\n",
    "It could be the case that chroma and langchain-core are not compatible."
   ]
  },
  {
   "cell_type": "code",
   "execution_count": 1,
   "metadata": {},
   "outputs": [],
   "source": [
    "## run in your terminal; could be necessary to downgrade package:\n",
    "# pip uninstall langchain-core\n",
    "# pip install langchain-core==0.3.10\n",
    "\n",
    "## or install older version of chromadb:\n",
    "# pip install --upgrade chromadb==0.5.0"
   ]
  },
  {
   "cell_type": "markdown",
   "metadata": {},
   "source": [
    "## Get API, local supabase server key(s)"
   ]
  },
  {
   "cell_type": "code",
   "execution_count": 2,
   "metadata": {},
   "outputs": [],
   "source": [
    "import os\n",
    "import sys\n",
    "\n",
    "# Assuming 'src' is one level down (in the current directory or a subdirectory)\n",
    "path_to_src = os.path.join('src')  # Moves one level down to 'src' folder\n",
    "\n",
    "# Add the path to sys.path\n",
    "sys.path.append(path_to_src)\n",
    "\n",
    "# Now you can import your API_key module\n",
    "import API_key as key"
   ]
  },
  {
   "cell_type": "markdown",
   "metadata": {},
   "source": [
    "## include self-written functions"
   ]
  },
  {
   "cell_type": "code",
   "execution_count": 3,
   "metadata": {},
   "outputs": [],
   "source": [
    "import src.forChromaApproach as di_drg"
   ]
  },
  {
   "cell_type": "markdown",
   "metadata": {},
   "source": [
    "# Check Szenario Texts\n",
    "\n",
    "## Load Scenario Texts\n",
    "This should be the final scenario texts in English of the two robots:\n",
    "\n",
    "* rescue robot\n",
    "* socially assistive robot"
   ]
  },
  {
   "cell_type": "code",
   "execution_count": 4,
   "metadata": {},
   "outputs": [
    {
     "name": "stdout",
     "output_type": "stream",
     "text": [
      "\n",
      "PDF: rescue robot.pdf\n",
      "Total Pages: 6\n",
      "\n",
      "PDF: socially assistive robot.pdf\n",
      "Total Pages: 6\n"
     ]
    }
   ],
   "source": [
    "path_to_PDFs = os.path.join('data/scenario texts')  # Moves one level up to 'PDFs' folder\n",
    "\n",
    "pdf_pages = di_drg.load_pdfs_by_filename(path_to_PDFs, verbose=False)\n",
    "\n",
    "# Optional: Print the loaded pages by filename\n",
    "for filename, pages in pdf_pages.items():\n",
    "    print(f\"\\nPDF: {filename}\")\n",
    "    print(f\"Total Pages: {len(pages)}\")\n",
    "    # print(pages[0])"
   ]
  },
  {
   "cell_type": "markdown",
   "metadata": {},
   "source": [
    "## Data Storage: Text chunks are converted into vector embeddings and stored in a vector database (Vector DB) next to their respective text chunks."
   ]
  },
  {
   "cell_type": "code",
   "execution_count": 5,
   "metadata": {},
   "outputs": [
    {
     "name": "stdout",
     "output_type": "stream",
     "text": [
      "\n",
      "PDF: rescue robot.pdf\n",
      "Total Chunks: 15\n",
      "\n",
      "PDF: socially assistive robot.pdf\n",
      "Total Chunks: 16\n"
     ]
    }
   ],
   "source": [
    "pdf_chunks = di_drg.split_pdf_pages_into_chunks(pdf_pages, chunk_size=500, chunk_overlap=150, verbose=False)\n",
    "\n",
    "# Optional: Print a summary of chunks created per PDF\n",
    "for filename, chunks in pdf_chunks.items():\n",
    "    print(f\"\\nPDF: {filename}\")\n",
    "    print(f\"Total Chunks: {len(chunks)}\")"
   ]
  },
  {
   "cell_type": "code",
   "execution_count": 6,
   "metadata": {},
   "outputs": [
    {
     "name": "stderr",
     "output_type": "stream",
     "text": [
      "c:\\DATEN\\PHD\\Article_SoftRobotIntervention\\Analyses\\main study - LLM\\src\\forChromaApproach.py:90: LangChainDeprecationWarning: The class `Chroma` was deprecated in LangChain 0.2.9 and will be removed in 1.0. An updated version of the class exists in the :class:`~langchain-chroma package and should be used instead. To use it run `pip install -U :class:`~langchain-chroma` and import as `from :class:`~langchain_chroma import Chroma``.\n",
      "  db = Chroma(persist_directory=CHROMA_PATH, embedding_function=OpenAIEmbeddings(api_key=openAI_key))\n"
     ]
    },
    {
     "name": "stdout",
     "output_type": "stream",
     "text": [
      "Number of sources in DB: 2\n",
      "\n",
      "Sources:\n",
      " ['data/scenario texts\\\\rescue robot.pdf', 'data/scenario texts\\\\socially assistive robot.pdf']\n",
      "\n",
      "Cleaned sources:\n",
      " ['rescue robot.pdf', 'socially assistive robot.pdf']\n"
     ]
    }
   ],
   "source": [
    "path_to_Chroma = os.path.join('DB_Chroma')  # Moves one level up to 'PDFs' folder\n",
    "\n",
    "sources_DB = di_drg.inspect_chrom(CHROMA_PATH=path_to_Chroma, openAI_key=key.openAI_key)\n",
    "print(\"Number of sources in DB:\", len(sources_DB))\n",
    "print(\"\\nSources:\\n\", sources_DB)\n",
    "\n",
    "# Remove the \"PDFs\\\\\" prefix from all entries\n",
    "cleaned_sources_DB = [pdf.replace('PDFs\\\\', '').replace('data/scenario texts\\\\', '') for pdf in sources_DB]\n",
    "\n",
    "# Print the result\n",
    "print(\"\\nCleaned sources:\\n\", cleaned_sources_DB)"
   ]
  },
  {
   "cell_type": "code",
   "execution_count": 7,
   "metadata": {},
   "outputs": [],
   "source": [
    "# if you want to remove your DB:\n",
    "## di_drg.remove_chrom(CHROMA_PATH=path_to_Chroma)\n",
    "\n",
    "# pdf_chunks is a dictionary as such we can run over the keys:\n",
    "for pdf in pdf_chunks.keys():\n",
    "    if pdf not in cleaned_sources_DB:\n",
    "        print(f\"The PDF '{pdf}' is not included in the DB, as such:\")\n",
    "        print(\"create DB for\", pdf)\n",
    "        di_drg.save_to_chrom(chunks=pdf_chunks[pdf], CHROMA_PATH=path_to_Chroma, openAI_key=key.openAI_key)"
   ]
  },
  {
   "cell_type": "code",
   "execution_count": 8,
   "metadata": {},
   "outputs": [
    {
     "name": "stdout",
     "output_type": "stream",
     "text": [
      "Number of sources in DB: 2\n",
      "\n",
      "Sources:\n",
      " ['data/scenario texts\\\\rescue robot.pdf', 'data/scenario texts\\\\socially assistive robot.pdf']\n"
     ]
    }
   ],
   "source": [
    "sources_DB = di_drg.inspect_chrom(CHROMA_PATH=path_to_Chroma, openAI_key=key.openAI_key)\n",
    "print(\"Number of sources in DB:\", len(sources_DB))\n",
    "print(\"\\nSources:\\n\", sources_DB)"
   ]
  },
  {
   "cell_type": "markdown",
   "metadata": {},
   "source": [
    "## Data Retrieval and Generation\n",
    "\n",
    "your prompt template (system message):"
   ]
  },
  {
   "cell_type": "code",
   "execution_count": 9,
   "metadata": {},
   "outputs": [],
   "source": [
    "PROMPT_TEMPLATE = \"\"\"\n",
    "    \"You are an assistant for question-answering tasks. \"\n",
    "    \"Use the following pieces of retrieved context to answer \"\n",
    "    \"the question. If you don't know the answer, say that you \"\n",
    "    \"don't know. Use three sentences maximum and keep the \"\n",
    "    \"answer concise.\"\n",
    "    \"\\n\\n\"\n",
    "    \"{context}\"\n",
    "\n",
    "---\n",
    "\n",
    "Answer the question based on the above context: {question}\n",
    "\"\"\""
   ]
  },
  {
   "cell_type": "code",
   "execution_count": 10,
   "metadata": {},
   "outputs": [],
   "source": [
    "# Question query 2\n",
    "question = \"\"\"\n",
    "What are the advantages of soft robots?\n",
    "\"\"\""
   ]
  },
  {
   "cell_type": "code",
   "execution_count": 11,
   "metadata": {},
   "outputs": [
    {
     "name": "stderr",
     "output_type": "stream",
     "text": [
      "Number of requested results 150 is greater than number of elements in index 31, updating n_results = 31\n"
     ]
    },
    {
     "name": "stdout",
     "output_type": "stream",
     "text": [
      "Number of possible relevant text chunks found with a threshold similarity of 0.8: 11\n",
      "Query: Human: \n",
      "    \"You are an assistant for question-answering tasks. \"\n",
      "    \"Use the following pieces of retrieved context to answer \"\n",
      "    \"the question. If you don't know the answer, say that you \"\n",
      "    \"don't know. Use three sentences maximum and keep the \"\n",
      "    \"answer concise.\"\n",
      "    \"\n",
      "\n",
      "\"\n",
      "    \"for individuals with autism, assisting them to recognize and understand \n",
      "emotions in others, which can enhance interpersonal communication skills  \n",
      "●  Less likely to cause injury during physic al interactions because of their \n",
      "softness  \n",
      " \n",
      "Possible risks of socially assistive soft robots (SASR) might be:  \n",
      "●  Users may become overly reliant on the robot for emotional support or \n",
      "companionship, potentially reducing their engagement with human social \n",
      "networks\n",
      "\n",
      "---\n",
      "\n",
      "extracted  \n",
      "●  Reduced risk of injury to victims due to their flexibility and adaptability  \n",
      "Possible risks of soft robots for search and rescue missions might be:  \n",
      "●  Algorithms  guiding soft robots may be biased, leading to unfair or \n",
      "discriminatory outcomes, regarding (i) where to concentrate rescue efforts, (ii) \n",
      "whom to search for first, (iii) who should be given priority treatment, (iv) who \n",
      "must be left to wait  \n",
      "●  The soft and  adaptable nature of soft robots could potentially create\n",
      "\n",
      "---\n",
      "\n",
      "often have natural shapes and can bend, twist, and stretch like living organisms, such \n",
      "as snakes or octopi. Designed with inspiration from living entities, these soft robots \n",
      "often look and feel more lifelike than rigid robots.  \n",
      "Furthermore, soft robots have the ability to express and perceive human emotions, \n",
      "communicate through expressions such as gaze and gestures, and offer a life -like \n",
      "experience due to their softness and flexibility. F or example, Paro, a robot for animal\n",
      "\n",
      "---\n",
      "\n",
      "––––––––––––  Third  Page in Experiment (Intervention) ––––––––––––   \n",
      "Given the information on soft robots, we invite you to adjust your CAM regarding the \n",
      "risks and benefits of utilizing socially assistive soft robots (SASR). We are interested \n",
      "in knowing if the softness or rigidity of a robot influences your evaluation of its \n",
      "suitability for socially assistive tasks, based on the information available on soft \n",
      "robots.\n",
      "\n",
      "---\n",
      "\n",
      "––––––––––––  Third  Page in Experiment (Intervention) ––––––––––––   \n",
      "Given the information on soft robots, we invite you to adjust your CAM regarding the \n",
      "risks and benefits of utilizing soft robots for search and rescue missions . We are \n",
      "interested in knowing if the softness or rigidity of a robot influences your evaluation of \n",
      "its suitability for search and rescue missions, based on the information available on \n",
      "soft robots.\n",
      "\n",
      "---\n",
      "\n",
      "–––––––––––––  First Page in Experiment (Intervention) ––––––––––––   \n",
      "Please read the following information on soft robots carefully. \n",
      "Afterwards we will ask you to adjust your CAM.  \n",
      "Currently, there is a trend towards using a new type of so -called soft robots as \n",
      "socially assistive robots for therapy, elderly care, education or as social companions. \n",
      "Soft robots are designed to mimic the properties of living entities such as animals.\n",
      "\n",
      "---\n",
      "\n",
      "Soft robots are designed to mimic the properties of living entities such as animals. \n",
      "Unlike rigid robots, which are typically composed of hard materials like metal or hard \n",
      "plastic, soft robots do not have electronic devices in themselves and are made of \n",
      "flexible soft materials like silicone, making them more adaptable and lifelike. They \n",
      "often have natural shapes and can bend, twist, and stretch like living organisms, such\n",
      "\n",
      "---\n",
      "\n",
      "must be left to wait  \n",
      "●  The soft and  adaptable nature of soft robots could potentially create \n",
      "challenges in ensuring the safety and reliability of the robot in hazardous \n",
      "environments  \n",
      "●  Rescue robots could be misused, particularly in conflict zones for activities \n",
      "such as bomb deployment\n",
      "\n",
      "---\n",
      "\n",
      "to mimic the properties of living entities such as animals. Unlike normal robots, which \n",
      "are typically composed of hard materials like metal or hard -plastic, soft robots do not \n",
      "have electronic devices in them and are made of flexible, soft materials like silicone. \n",
      "They often have natural shapes and can bend, twist, and stretch like living \n",
      "organis ms, such as snakes or octopi. Designed with inspiration from living entities,\n",
      "\n",
      "---\n",
      "\n",
      "––––––––––––  Second  Page in Experiment (Intervention) ––––––––––––   \n",
      "Soft Robots for Search and Rescue Missions  \n",
      "Benefits of soft robots for search and rescue missions might be:  \n",
      "●  Access to areas unreachable or too dangerous for human rescuers  \n",
      "●  Delivery  of essential supplies (water, food, medicine) until victims are safely  \n",
      "extracted  \n",
      "●  Reduced risk of injury to victims due to their flexibility and adaptability\"\n",
      "\n",
      "---\n",
      "\n",
      "Answer the question based on the above context: \n",
      "What are the advantages of soft robots?\n",
      "\n",
      " \n",
      "\n",
      "\n"
     ]
    },
    {
     "name": "stderr",
     "output_type": "stream",
     "text": [
      "c:\\DATEN\\PHD\\Article_SoftRobotIntervention\\Analyses\\main study - LLM\\src\\forChromaApproach.py:147: LangChainDeprecationWarning: The method `BaseChatModel.predict` was deprecated in langchain-core 0.1.7 and will be removed in 1.0. Use :meth:`~invoke` instead.\n",
      "  response_text = model.predict(prompt)\n"
     ]
    }
   ],
   "source": [
    "response, source_page_pairs, filtered_hits, all_hits = di_drg.retrieveGenerate(query_text=question, prompt_template=PROMPT_TEMPLATE, openAI_key=key.openAI_key, chroma_path=path_to_Chroma, \n",
    "                                                                            docsReturn=10, thresholdSimilarity=0.8)"
   ]
  },
  {
   "cell_type": "code",
   "execution_count": 12,
   "metadata": {},
   "outputs": [
    {
     "name": "stdout",
     "output_type": "stream",
     "text": [
      "The advantages of soft robots include their ability to mimic living organisms, such as snakes or octopi, making them more adaptable and lifelike. They are designed with inspiration from living entities, allowing them to bend, twist, and stretch in natural shapes. Additionally, soft robots have the potential to access areas unreachable or too dangerous for human rescuers and deliver essential supplies to victims in search and rescue missions.\n"
     ]
    }
   ],
   "source": [
    "print(response)"
   ]
  },
  {
   "cell_type": "code",
   "execution_count": 13,
   "metadata": {},
   "outputs": [
    {
     "name": "stdout",
     "output_type": "stream",
     "text": [
      "[('data/scenario texts\\\\socially assistive robot.pdf', 4), ('data/scenario texts\\\\rescue robot.pdf', 4), ('data/scenario texts\\\\socially assistive robot.pdf', 3), ('data/scenario texts\\\\socially assistive robot.pdf', 5), ('data/scenario texts\\\\rescue robot.pdf', 5), ('data/scenario texts\\\\socially assistive robot.pdf', 3), ('data/scenario texts\\\\socially assistive robot.pdf', 3), ('data/scenario texts\\\\rescue robot.pdf', 4), ('data/scenario texts\\\\rescue robot.pdf', 3), ('data/scenario texts\\\\rescue robot.pdf', 4)]\n"
     ]
    }
   ],
   "source": [
    "print(source_page_pairs)"
   ]
  },
  {
   "cell_type": "code",
   "execution_count": 14,
   "metadata": {},
   "outputs": [
    {
     "name": "stdout",
     "output_type": "stream",
     "text": [
      "11\n",
      "(Document(metadata={'page': 4, 'source': 'data/scenario texts\\\\rescue robot.pdf'}, page_content='––––––––––––  Second  Page in Experiment (Intervention) ––––––––––––   \\nSoft Robots for Search and Rescue Missions  \\nBenefits of soft robots for search and rescue missions might be:  \\n●  Access to areas unreachable or too dangerous for human rescuers  \\n●  Delivery  of essential supplies (water, food, medicine) until victims are safely  \\nextracted  \\n●  Reduced risk of injury to victims due to their flexibility and adaptability'), 0.8405289303258905)\n"
     ]
    }
   ],
   "source": [
    "print(len(all_hits))\n",
    "print(all_hits[0])"
   ]
  },
  {
   "cell_type": "markdown",
   "metadata": {},
   "source": [
    "# Summarizing Data\n",
    "- for A, B graph\n",
    "- for category specific graph\n",
    "\n",
    "\n",
    "## Load .xlsx files (lists of words)\n",
    "\n",
    "* rescue robot_multipleSheets\n",
    "* socially assistive robot_multipleSheets\n",
    "* rescue robot_socially assistive robot_multipleSheets\n",
    "\n",
    "> there are seperate columns for new (added concepts), deleted (deleted concepts), constant (not changed concepts)\n"
   ]
  },
  {
   "cell_type": "code",
   "execution_count": 15,
   "metadata": {},
   "outputs": [
    {
     "name": "stdout",
     "output_type": "stream",
     "text": [
      "c:\\DATEN\\PHD\\Article_SoftRobotIntervention\\Analyses\\main study - LLM\n"
     ]
    }
   ],
   "source": [
    "## set working environment\n",
    "#> Get the current working directory\n",
    "print(os.getcwd())\n",
    "directory = os.getcwd()"
   ]
  },
  {
   "cell_type": "code",
   "execution_count": 16,
   "metadata": {},
   "outputs": [
    {
     "name": "stdout",
     "output_type": "stream",
     "text": [
      "Sheet names combined: ['RCPP', 'LC', 'T', 'SIP', 'HRIP', 'AN', 'SIN', 'R', 'HC', 'RCN', 'SA', 'TP', 'TL', 'RCPN', 'HRIN', 'MT', 'RCA', 'AP']\n",
      "Sheet names RR: ['RCPP', 'LC', 'T', 'SIP', 'HRIP', 'AN', 'SIN', 'R', 'HC', 'RCN', 'SA', 'TP', 'TL', 'RCPN', 'HRIN', 'MT', 'RCA', 'AP']\n",
      "Sheet names SAR: ['RCPP', 'LC', 'T', 'SIP', 'HRIP', 'AN', 'SIN', 'R', 'HC', 'RCN', 'SA', 'TP', 'TL', 'RCPN', 'HRIN', 'MT', 'RCA', 'AP']\n"
     ]
    }
   ],
   "source": [
    "import pandas as pd\n",
    "\n",
    "## Load the xlsx file of the rescue robot and the socially assistive robot combined\n",
    "# Path to your Excel file\n",
    "file_path = directory + \"/data/\" + \"rescue robot_social assistance robot_multipleSheets_new\" + \".xlsx\"\n",
    "# Load the Excel file\n",
    "excel_data = pd.ExcelFile(file_path)\n",
    "# Print the sheet names\n",
    "print(\"Sheet names combined:\", excel_data.sheet_names)\n",
    "# Load all sheets into a dictionary of dataframes\n",
    "all_sheets_Combined = {sheet_name: excel_data.parse(sheet_name) for sheet_name in excel_data.sheet_names}\n",
    "\n",
    "\n",
    "\n",
    "## Load the xlsx file of the rescue robot and the socially assistive robot combined\n",
    "# Path to your Excel file\n",
    "file_path = directory + \"/data/\" + \"rescue robot_multipleSheets_new\" + \".xlsx\"\n",
    "# Load the Excel file\n",
    "excel_data = pd.ExcelFile(file_path)\n",
    "# Print the sheet names\n",
    "print(\"Sheet names RR:\", excel_data.sheet_names)\n",
    "# Load all sheets into a dictionary of dataframes\n",
    "all_sheets_RR = {sheet_name: excel_data.parse(sheet_name) for sheet_name in excel_data.sheet_names}\n",
    "\n",
    "## Load the xlsx file of the rescue robot and the socially assistive robot combined\n",
    "# Path to your Excel file\n",
    "file_path = directory + \"/data/\" + \"social assistance robot_multipleSheets_new\" + \".xlsx\"\n",
    "# Load the Excel file\n",
    "excel_data = pd.ExcelFile(file_path)\n",
    "# Print the sheet names\n",
    "print(\"Sheet names SAR:\", excel_data.sheet_names)\n",
    "# Load all sheets into a dictionary of dataframes\n",
    "all_sheets_SAR = {sheet_name: excel_data.parse(sheet_name) for sheet_name in excel_data.sheet_names}"
   ]
  },
  {
   "cell_type": "markdown",
   "metadata": {},
   "source": [
    "## Additional dictonaries to provide LLM context"
   ]
  },
  {
   "cell_type": "code",
   "execution_count": 17,
   "metadata": {},
   "outputs": [
    {
     "name": "stdout",
     "output_type": "stream",
     "text": [
      "{'RCPP': 'perceived positive usefulness (rest category, refers to a classification of arguments that do not fit into any of the predefined categories)', 'LC': 'perceived low costs', 'T': 'perceived trust', 'SIP': 'perceived positive social impact', 'HRIP': 'perceived positive Human-Robot-Interaction', 'AN': 'perceived negative anthropomorphism', 'SIN': 'perceived positive social impact', 'R': 'perceived risks', 'HC': 'perceived high costs', 'RCN': 'neutral rest category (rest category refers to a classification of arguments that do not fit into any of the predefined categories)', 'SA': 'perceived safety', 'TP': 'perceived technological possibilities', 'TL': 'perceived technological limitations', 'RCPN': 'perceived negative usefulness (rest category, refers to a classification of arguments that do not fit into any of the predefined categories)', 'HRIN': 'perceived negative Human-Robot-Interaction', 'MT': 'perceived mistrust', 'RCA': 'ambivalent rest category (rest category refers to a classification of arguments that do not fit into any of the predefined categories)', 'AP': 'perceived positive anthropomorphism'}\n",
      "dict_keys(['RCPP', 'LC', 'T', 'SIP', 'HRIP', 'AN', 'SIN', 'R', 'HC', 'RCN', 'SA', 'TP', 'TL', 'RCPN', 'HRIN', 'MT', 'RCA', 'AP'])\n",
      "perceived negative anthropomorphism\n"
     ]
    }
   ],
   "source": [
    "abbreviations_dict = {\n",
    "    'RCPP': 'perceived positive usefulness (rest category, refers to a classification of arguments that do not fit into any of the predefined categories)',\n",
    "    'LC': 'perceived low costs',\n",
    "    'T': 'perceived trust',\n",
    "    'SIP': 'perceived positive social impact',\n",
    "    'HRIP': 'perceived positive Human-Robot-Interaction',\n",
    "    'AN': 'perceived negative anthropomorphism',\n",
    "    'SIN': 'perceived positive social impact',\n",
    "    'R': 'perceived risks',\n",
    "    'HC': 'perceived high costs',\n",
    "    'RCN': 'neutral rest category (rest category refers to a classification of arguments that do not fit into any of the predefined categories)',\n",
    "    'SA': 'perceived safety',\n",
    "    'TP': 'perceived technological possibilities',\n",
    "    'TL': 'perceived technological limitations',\n",
    "    'RCPN': 'perceived negative usefulness (rest category, refers to a classification of arguments that do not fit into any of the predefined categories)',\n",
    "    'HRIN': 'perceived negative Human-Robot-Interaction',\n",
    "    'MT': 'perceived mistrust',\n",
    "    'RCA': 'ambivalent rest category (rest category refers to a classification of arguments that do not fit into any of the predefined categories)',\n",
    "    'AP': 'perceived positive anthropomorphism'\n",
    "}\n",
    "\n",
    "print(abbreviations_dict)\n",
    "print(abbreviations_dict.keys())\n",
    "print(abbreviations_dict['AN'])"
   ]
  },
  {
   "cell_type": "markdown",
   "metadata": {},
   "source": [
    "keep only subset of list (which have meaningfull differences):"
   ]
  },
  {
   "cell_type": "code",
   "execution_count": 18,
   "metadata": {},
   "outputs": [
    {
     "name": "stdout",
     "output_type": "stream",
     "text": [
      "{'TP': 'perceived technological possibilities', 'TL': 'perceived technological limitations', 'SA': 'perceived safety', 'R': 'perceived risks', 'HRIP': 'perceived positive Human-Robot-Interaction', 'HRIN': 'perceived negative Human-Robot-Interaction', 'AP': 'perceived positive anthropomorphism', 'AN': 'perceived negative anthropomorphism'}\n"
     ]
    }
   ],
   "source": [
    "# Keys to keep\n",
    "keys_to_keep = ['TP', 'TL', 'SA', 'R', 'HRIP', 'HRIN', 'AP', 'AN']\n",
    "\n",
    "# Filter the dictionary\n",
    "abbreviations_dict = {key: abbreviations_dict[key] for key in keys_to_keep}\n",
    "\n",
    "# Display the filtered dictionary\n",
    "print(abbreviations_dict)"
   ]
  },
  {
   "cell_type": "markdown",
   "metadata": {},
   "source": [
    "Use dictionaries to map each word to its comment:"
   ]
  },
  {
   "cell_type": "code",
   "execution_count": 19,
   "metadata": {},
   "outputs": [
    {
     "name": "stdout",
     "output_type": "stream",
     "text": [
      "{'a': ['comment1', 'comment3'], 'b': ['comment2', 'comment5'], 'c': ['comment4']}\n"
     ]
    }
   ],
   "source": [
    "import numpy as np\n",
    "\n",
    "def create_multivalue_dict(df, key_col, value_col):\n",
    "    \"\"\"\n",
    "    Create a dictionary from a DataFrame where each key maps to a list of values.\n",
    "    \n",
    "    Parameters:\n",
    "    df (pd.DataFrame): The input DataFrame.\n",
    "    key_col (str): The column name to be used as keys.\n",
    "    value_col (str): The column name to be used as values.\n",
    "    \n",
    "    Returns:\n",
    "    dict: A dictionary where each key maps to a list of values.\n",
    "    \"\"\"\n",
    "    # Remove rows with NaN in the key columns\n",
    "    df = df.dropna(subset=[key_col])\n",
    "\n",
    "    # Create a dictionary to map items to their comments, allowing for multiple comments per key\n",
    "    multivalue_dict = {}\n",
    "    for key, value in zip(df[key_col], df[value_col]):\n",
    "        if key in multivalue_dict:\n",
    "            multivalue_dict[key].append(value)\n",
    "        else:\n",
    "            multivalue_dict[key] = [value]\n",
    "\n",
    "    return multivalue_dict\n",
    "\n",
    "# Example usage\n",
    "data = {\n",
    "    'constant': ['a', 'b', 'a', 'c', 'b', np.nan],\n",
    "    'constant_comments': ['comment1', 'comment2', 'comment3', 'comment4', 'comment5', 'comment6']\n",
    "}\n",
    "df = pd.DataFrame(data)\n",
    "\n",
    "df_mapping = create_multivalue_dict(df, 'constant', 'constant_comments')\n",
    "print(df_mapping)\n"
   ]
  },
  {
   "cell_type": "markdown",
   "metadata": {},
   "source": [
    "test create_multivalue_dict() function:"
   ]
  },
  {
   "cell_type": "code",
   "execution_count": 20,
   "metadata": {},
   "outputs": [],
   "source": [
    "sheet_name = \"SA\""
   ]
  },
  {
   "cell_type": "code",
   "execution_count": 21,
   "metadata": {},
   "outputs": [
    {
     "name": "stdout",
     "output_type": "stream",
     "text": [
      "mapping constant x comments: {'quick hygienic help': [nan], 'efficient': ['Work on statistics can be made more efficient through probabilities.', nan, nan, nan], 'safety': ['Prevents people from having to work under difficult or dangerous conditions to increase safety.', 'Enables deployment in difficult situations where human rescuers would put themselves in danger', nan, nan, nan, 'through reliability', 'No people are being put in danger'], 'remote control': ['Can be operated by experts via remote control or autonomous systems to perform operations from a safe distance.', nan, nan, nan, nan, 'Minimizes risks associated with autonomy'], 'speed and efficiency': ['Robots can often act faster than humans and increase the speed of emergency interventions', 'Improvement of speed and efficiency of rescue operations', nan], 'safe': ['People do not have to put themselves in dangerous situations'], 'reliable': ['Can be precisely controlled', nan, nan, nan, nan], 'health monitoring': [nan, 'People no longer necessarily need an emergency button if an external system can watch over them and summon help when in doubt.'], 'Precise execution': ['Robots perform tasks purposefully'], 'Ability to learn': ['The robots are learning and being further developed, making them more efficient'], 'no people necessary': [nan], 'stronger than humans': [nan, 'In many situations, e.g. when clearing rubble, a great advantage.', nan, nan], 'faster than humans': [nan, nan], 'precise handling': [nan], 'reliability': [nan, 'Machines can accomplish their tasks reliably and reproducibly (provided they are well programmed and built)', nan, nan, nan], 'always correct': [nan], 'protection of rescue forces': ['for example in contamination scenarios', 'Reduced deployment of human rescue forces in dangerous situations', nan, 'human rescuers do not have to put themselves in danger'], 'in danger zones': [nan], 'toxic places': ['Places where people can only breathe with special equipment (gas mask)'], 'no distraction': [nan], 'by injuries': [nan], 'consistent': [nan], 'consistent performance': [nan], 'emergency monitoring': ['Depending on how a robot is equipped, it could respond very quickly in an emergency, faster than a human.'], 'more strong': [nan], 'without basic need': ['Water, sleep, food etc.'], 'faster intervention': [nan], 'area of application': ['Can be used in areas too dangerous for humans', 'Can be used in areas that are too dangerous for humans.'], 'reaching hard-to-access places': ['Robots and drones are small and agile. Therefore, they can reach places that are difficult or even dangerous for humans to reach.'], 'discover dangerous areas': [nan], 'quick processing': [nan], 'care of people': [nan], 'perform operations': ['disease'], 'enter dangerous situation': [nan], 'No illness': ['Robots do not get infected, they do not spread diseases, and they do not get sick.'], 'less risk': [nan, 'Specifically less risk to further human lives, as rescue teams can use robots'], 'efficiency in search': [nan], 'no fatigue': [nan, 'Unlike human rescuers, robots do not tire even during long operations'], 'cover dangerous areas': ['even where it is dangerous for humans, a robot can go there'], 'precision & accuracy': [nan], 'no human errors': [nan], 'more attentive': [nan], 'use in dangerous situations': ['Rescue robots can be used in dangerous situations where humans are exposed to too high a risk.'], 'can act quickly': ['Robots can intervene quickly, as they do not need to be dressed or prepared and are autonomous', 'The robots can act faster than a human in an emergency.'], 'No exhaustion': [nan], 'Range': ['Robots, again just the drone can rescue victims faster in difficult terrain or bring help, e.g. medicine, food'], 'accessibility of inaccessible places': [nan], 'improved approach': [nan], 'precise work': [nan], 'rescue of people': [nan], 'deployment possibility': ['Also possible under dangerous conditions'], 'replaceable': ['In case of loss, no human sacrifice', 'During operations, unlike human rescuers, there is no need to pay attention to the safety of the robots, as they can be easily replaced.'], 'unrestricted access': ['Robots can operate in environments that would be toxic to humans, e.g. areas contaminated with radiation.'], 'sparing human life': ['If robots are used instead of human rescuers, the lives and health of the rescuers do not have to be put at risk.'], 'reduced risk': ['By using robots, no human forces are exposed to dangerous situations'], 'precision': [nan], 'more targeted help': [nan], 'saves lives': ['For example, when human helpers are not available, a rescue robot can still save human lives.', 'send a robot into a danger zone instead of a human', nan], 'protects aid workers': ['Since employees are not unnecessarily exposed to dangers, strictly speaking, this also saves their lives.'], 'fewer mistakes': [nan], 'overall more productive': [nan], 'greater accuracy': [nan], 'usable in emergencies': ['To inspect debris more accurately'], 'protection of rescue personnel': [nan], 'accessibility of places': ['Accessibility difficult to reach'], 'increased efficiency': [nan], 'faster recovery': ['One could send robots into the fire without danger to human lives, etc, to combat the cause more quickly.'], 'weather independent': ['Even in storms etc., perhaps an option for critical tasks'], 'safety for emergency personnel': [nan], 'strength (power)': ['for example, for lifting debris parts'], 'quick action': [nan], 'no danger': ['For human rescue forces in action', 'No human doctor etc. needs to enter the operating area and thus it is significantly safer and therefore protects human lives.'], 'efficiency': [nan, 'Robots could be more capable in disaster cases than human helpers.', nan, 'Robots are not limited to human speed, vision, and perception in general.', nan, 'both equally fast work, more productive way of working as well as improved access to danger zones', nan], 'access to areas': ['Access to areas difficult or only reachable through considerable dangers for people'], 'vital objects': ['Victims receive vitally important things, such as water, food, and medicine'], 'rescue forces safety': ['Emergency services can avoid dangers if, for example, pictures of the location were taken by robots.'], 'more/ easier access': ['Robots can create (easier) access to places where it would otherwise be more difficult.'], 'reduce number of victims': ['Robots could make rescue operations more efficient and faster, potentially saving more victims.'], 'no life endangered': [nan], 'can save lives': [nan, nan], 'not emotionally driven': [nan], 'focused': [nan], 'exclusion of human error': [nan], 'flexible': ['The robot could operate in dangerous areas and is therefore not limited.'], 'stronger than human': ['Specially equipped machines could help trapped victims quicker and more efficiently.'], 'chances of success': ['A reliable and error-free rescue robot could therefore save people faster and more than a human.'], 'accuracy of execution': [nan], 'enter dangerous areas': [nan], 'do not get distracted': ['Rescue robots follow their programming and can focus better on the rescue without being influenced by emotions.'], 'speed / agility': [nan], 'real-time data': [nan], 'strength': [nan, 'the robot can, for example, move objects that a human could not move'], 'simplified access': [nan], 'quick help': [nan, nan, nan], 'risk-free rescue': ['From the side of the rescuers, who do not have to put themselves in danger'], 'better CPR': [nan], 'life-threatening places': ['The possibility of entering dangerous places that people do not dare to approach, such as wreck parts, battlefields, etc.'], 'more reliable than humans': [nan], 'reach dangerous places': [nan], 'do not get tired': [nan, nan], 'cannot die': [nan], '\"small\" operations': ['Especially good for smaller operations and possibly the transport'], 'toxic environment': [nan], 'safer for humans': [nan, nan], 'dexterity': ['Often higher skill than human rescuers'], 'responsiveness': ['Robots have a significantly higher reaction capability than human rescuers'], 'Accuracy of rescue robots': ['this way human errors can be reduced'], 'quality/precision': [nan], 'quantity': ['more rescue operations or more people saved possible'], 'fewer deaths': [nan], 'faster operation': [nan], 'accuracy': [nan, nan], 'faster help': ['Since the risk to life is lower, rescue workers can send a robot before a complete analysis of the problem area is available.'], 'stronger': ['Robots might potentially be able to move things that humans would have great difficulty with.'], 'Not susceptible to infection': ['Robots are insensitive to infections.'], '24/7 readiness': [nan], 'access to hard-to-reach places': [nan], 'human safety': [nan], 'useful addition': ['To human rescuers.'], '\"dare\" more': ['can also be used in war zones, only material loss through explosives'], 'eyes and ears': ['for the rescue forces from a safe distance'], 'less danger': ['for human rescue forces', nan, nan], 'dangerous areas': [nan, nan], 'endurance': [nan], 'performance': [nan], 'rescue and safety': [nan], 'danger': ['less human danger'], 'no rescuer endangered': [nan], 'access': ['access to areas where people cannot reach'], 'rational efficiency': ['No suicidal experiments in rescue'], 'quick deployment': [nan, nan], 'no exhaustion': [nan], 'save many people': [nan], 'Adaptability': [nan], 'continuous monitoring': [nan], 'not tired': [nan], 'more human rescue': [nan], 'easier finding': ['Through their sensors like thermal imaging, the robots can better find people.'], 'do not lose strength': ['Robots do not lose stamina while humans could lose strength during missions.'], 'delivery of goods': ['Robots can, for example, deliver goods in war zones, which would be dangerous for humans.'], 'faster abolition': ['Rescue robots could shorten the path to doctors/hospitals and the abolition of injured people.'], 'safety risks': [nan], 'can be replaced': ['Robots can be replaced by other robots in case of loss'], 'better search capabilities': ['Robots can search better in the dark and in smoke etc because they have numerous sensors'], 'for danger': ['can be used in times of danger instead of humans'], 'efficient reconnaissance work': ['Through algorithms, maps can be read and created more quickly'], 'rescue efficient and': [nan], 'higher utilization': ['the robots can be used continuously'], 'faster access': ['easier access to dangerous place'], 'error reduction': [nan], 'simplification of difficult situations': ['Many rescue situations prove difficult for people to reach or to intervene, automation can clearly help here.'], 'accessibility of special regions': [nan], 'risk reduction for aid workers': ['Should people go into difficult areas, for example for avalanche rescue, they put themselves in danger'], 'fire department support': [nan], 'risk': ['In dangerous environments or situations, there is of course much less risk for the people'], 'dispensable': ['the loss of a robot is less tragic than the loss of a human rescuer'], 'immune': ['a robot is immune to many dangers that would be deadly for humans such as smoke gases, chemicals, temperatures'], 'protects people': ['No human risks necessary'], 'surpasses human rescuers': ['Can be used in situations where people cannot reach'], 'low risk': [nan], 'safety for rescue workers': [nan], 'access to dangerous area': [nan], 'no performance drop': [nan], 'follows instructions precisely': [nan], 'earthquake rescue': [nan], 'lifting heavy weights': [nan], 'risk minimization': ['Approximately during search actions in risky areas'], 'precision in search': [nan], 'More flexible than human': ['People cannot access some areas or cannot see whether people are still alive. For example, in an earthquake incident under the rubble.'], 'Faster than human': ['In an earthquake, for example, recently in Turkey, the help arrived too late and this led to more loss. Robots would be more flexible and could be used faster, rather than gathering all people together and rushing to help.'], 'Stronger than human': ['As already mentioned, many people lost their lives in the earthquake in Turkey, and this was because human strength was not enough at a certain point. For example, the walls that fell on people could not be lifted, which is why arms and legs had to be cut off. If the robot was there, it could show more strength and lift the wall.'], 'speed': ['the robot can probably save faster than a human'], 'accessibility of contaminated places': ['Poisonous gases, smoke, radiation etc. play no role'], 'can be stronger': [nan], 'can work long': [nan], 'are physically superior': ['Strength, agility, mobility'], 'are mentally superior': ['No trauma for rescuers'], 'use in dangerous areas': [nan], 'use in inaccessibility': [nan], 'accuracy of work': [nan], 'does not risk human lives': [nan]}\n",
      "181\n",
      "mapping new x comments: {'lower risk of injury': [nan, 'through soft robots', nan, 'due to their softness', 'With soft robots', nan, 'Lower risk of injury due to the adaptability of the robot', nan], 'flexible': [nan, nan, nan], 'low risk of injury': [nan, nan, nan, 'Due to the fact that a soft robot is not made of metal, but rather soft, the risk is lower.', nan, 'In comparison to hard plastic/metal', nan, 'with soft robots', 'helping hand'], 'safety': ['Soft material reduces risk of injury'], 'robots are more efficient': [nan], 'knowledge': ['You get the information from the internet and can capture and assign the data faster than humans.', nan], 'less risk of injury': [nan, nan, nan], 'reduction of injury risk': [nan, nan, \"compared to 'soft' rescue robots; valid for hard rescue robots\", nan, nan], 'delivery of supplies': [nan], 'precise work': [nan], 'food/water transport': [nan], 'animal protection': ['Using a soft robot instead of an animal protects the animal from potentially harmful behavior by the owner.'], 'reach the inaccessible': [nan], 'reduce risk of injury': [nan], 'reliable': ['is always ready'], 'direct help': ['through water/food'], 'reduced risk of injury': ['through soft materials', 'the victim due to the organic construction method', nan, nan], 'time savings in emergencies': [nan], 'care of victims': [nan], 'exploration': ['Assess the safety of the dangerous area'], 'supply with food': [nan, nan], 'adaptability': [nan], 'few physical risks': ['e.g. through injuries'], 'accessible tight spaces': ['Due to their flexibility, they can access narrow spaces that are not accessible to people.'], 'decision-making options': ['in theory, a robot should be able to make a logical decision better than a human because emotions etc. cannot cloud a decision'], 'injury prevention': [nan], 'more people saved': [nan], 'low risks': ['Soft robots pose only a low risk to the victims due to their flexibility.'], 'life-threatening places': [nan], 'vital help': [nan], 'more flexible than humans': [nan], 'fast': ['faster than a human to distribute aid supplies.'], 'Adaptability': [nan], 'camera images': ['To perform an image analysis in retrospect'], 'human error susceptibility': [nan], 'medication supply': [nan], 'inaccessible areas': [nan]}\n",
      "37\n",
      "mapping deleted x comments: {'faster': ['Works faster'], 'precise work possible': [nan], 'higher precision': [nan], 'safety': [nan], 'efficiency': [nan], 'save more people': [nan]}\n",
      "6\n"
     ]
    }
   ],
   "source": [
    "# Remove rows with NaN in the key columns as they cannot be used as dictionary keys\n",
    "#> not sensitive to multiple identical keys: dict(zip(df['constant'], df['constant_comments']))\n",
    "df = all_sheets_Combined[sheet_name]\n",
    "\n",
    "constant_comments_mapping = create_multivalue_dict(df, 'constant', 'constant_comments')\n",
    "print(\"mapping constant x comments:\", constant_comments_mapping)\n",
    "print(len(constant_comments_mapping))\n",
    "\n",
    "new_comments_mapping = create_multivalue_dict(df, 'new', 'new_comments')\n",
    "print(\"mapping new x comments:\", new_comments_mapping)\n",
    "print(len(new_comments_mapping))\n",
    "\n",
    "deleted_comments_mapping = create_multivalue_dict(df, 'deleted', 'deleted_comments')\n",
    "print(\"mapping deleted x comments:\", deleted_comments_mapping)\n",
    "print(len(deleted_comments_mapping))"
   ]
  },
  {
   "cell_type": "code",
   "execution_count": 22,
   "metadata": {},
   "outputs": [],
   "source": [
    "def combine_dicts(dict1, dict2):\n",
    "    \"\"\"\n",
    "    Combine two dictionaries where each key maps to a list of values.\n",
    "    \n",
    "    Parameters:\n",
    "    dict1 (dict): The first dictionary.\n",
    "    dict2 (dict): The second dictionary.\n",
    "    \n",
    "    Returns:\n",
    "    dict: A combined dictionary where each key maps to a concatenated list of values.\n",
    "    \"\"\"\n",
    "    combined_dict = dict1.copy()\n",
    "    for key, values in dict2.items():\n",
    "        if key in combined_dict:\n",
    "            combined_dict[key].extend(values)\n",
    "        else:\n",
    "            combined_dict[key] = values\n",
    "    return combined_dict"
   ]
  },
  {
   "cell_type": "markdown",
   "metadata": {},
   "source": [
    "test combine_dicts() function:"
   ]
  },
  {
   "cell_type": "code",
   "execution_count": 23,
   "metadata": {},
   "outputs": [
    {
     "name": "stdout",
     "output_type": "stream",
     "text": [
      "mapping constant, new x comments: {'quick hygienic help': [nan], 'efficient': ['Work on statistics can be made more efficient through probabilities.', nan, nan, nan], 'safety': ['Prevents people from having to work under difficult or dangerous conditions to increase safety.', 'Enables deployment in difficult situations where human rescuers would put themselves in danger', nan, nan, nan, 'through reliability', 'No people are being put in danger', 'Soft material reduces risk of injury'], 'remote control': ['Can be operated by experts via remote control or autonomous systems to perform operations from a safe distance.', nan, nan, nan, nan, 'Minimizes risks associated with autonomy'], 'speed and efficiency': ['Robots can often act faster than humans and increase the speed of emergency interventions', 'Improvement of speed and efficiency of rescue operations', nan], 'safe': ['People do not have to put themselves in dangerous situations'], 'reliable': ['Can be precisely controlled', nan, nan, nan, nan, 'is always ready'], 'health monitoring': [nan, 'People no longer necessarily need an emergency button if an external system can watch over them and summon help when in doubt.'], 'Precise execution': ['Robots perform tasks purposefully'], 'Ability to learn': ['The robots are learning and being further developed, making them more efficient'], 'no people necessary': [nan], 'stronger than humans': [nan, 'In many situations, e.g. when clearing rubble, a great advantage.', nan, nan], 'faster than humans': [nan, nan], 'precise handling': [nan], 'reliability': [nan, 'Machines can accomplish their tasks reliably and reproducibly (provided they are well programmed and built)', nan, nan, nan], 'always correct': [nan], 'protection of rescue forces': ['for example in contamination scenarios', 'Reduced deployment of human rescue forces in dangerous situations', nan, 'human rescuers do not have to put themselves in danger'], 'in danger zones': [nan], 'toxic places': ['Places where people can only breathe with special equipment (gas mask)'], 'no distraction': [nan], 'by injuries': [nan], 'consistent': [nan], 'consistent performance': [nan], 'emergency monitoring': ['Depending on how a robot is equipped, it could respond very quickly in an emergency, faster than a human.'], 'more strong': [nan], 'without basic need': ['Water, sleep, food etc.'], 'faster intervention': [nan], 'area of application': ['Can be used in areas too dangerous for humans', 'Can be used in areas that are too dangerous for humans.'], 'reaching hard-to-access places': ['Robots and drones are small and agile. Therefore, they can reach places that are difficult or even dangerous for humans to reach.'], 'discover dangerous areas': [nan], 'quick processing': [nan], 'care of people': [nan], 'perform operations': ['disease'], 'enter dangerous situation': [nan], 'No illness': ['Robots do not get infected, they do not spread diseases, and they do not get sick.'], 'less risk': [nan, 'Specifically less risk to further human lives, as rescue teams can use robots'], 'efficiency in search': [nan], 'no fatigue': [nan, 'Unlike human rescuers, robots do not tire even during long operations'], 'cover dangerous areas': ['even where it is dangerous for humans, a robot can go there'], 'precision & accuracy': [nan], 'no human errors': [nan], 'more attentive': [nan], 'use in dangerous situations': ['Rescue robots can be used in dangerous situations where humans are exposed to too high a risk.'], 'can act quickly': ['Robots can intervene quickly, as they do not need to be dressed or prepared and are autonomous', 'The robots can act faster than a human in an emergency.'], 'No exhaustion': [nan], 'Range': ['Robots, again just the drone can rescue victims faster in difficult terrain or bring help, e.g. medicine, food'], 'accessibility of inaccessible places': [nan], 'improved approach': [nan], 'precise work': [nan, nan], 'rescue of people': [nan], 'deployment possibility': ['Also possible under dangerous conditions'], 'replaceable': ['In case of loss, no human sacrifice', 'During operations, unlike human rescuers, there is no need to pay attention to the safety of the robots, as they can be easily replaced.'], 'unrestricted access': ['Robots can operate in environments that would be toxic to humans, e.g. areas contaminated with radiation.'], 'sparing human life': ['If robots are used instead of human rescuers, the lives and health of the rescuers do not have to be put at risk.'], 'reduced risk': ['By using robots, no human forces are exposed to dangerous situations'], 'precision': [nan], 'more targeted help': [nan], 'saves lives': ['For example, when human helpers are not available, a rescue robot can still save human lives.', 'send a robot into a danger zone instead of a human', nan], 'protects aid workers': ['Since employees are not unnecessarily exposed to dangers, strictly speaking, this also saves their lives.'], 'fewer mistakes': [nan], 'overall more productive': [nan], 'greater accuracy': [nan], 'usable in emergencies': ['To inspect debris more accurately'], 'protection of rescue personnel': [nan], 'accessibility of places': ['Accessibility difficult to reach'], 'increased efficiency': [nan], 'faster recovery': ['One could send robots into the fire without danger to human lives, etc, to combat the cause more quickly.'], 'weather independent': ['Even in storms etc., perhaps an option for critical tasks'], 'safety for emergency personnel': [nan], 'strength (power)': ['for example, for lifting debris parts'], 'quick action': [nan], 'no danger': ['For human rescue forces in action', 'No human doctor etc. needs to enter the operating area and thus it is significantly safer and therefore protects human lives.'], 'efficiency': [nan, 'Robots could be more capable in disaster cases than human helpers.', nan, 'Robots are not limited to human speed, vision, and perception in general.', nan, 'both equally fast work, more productive way of working as well as improved access to danger zones', nan], 'access to areas': ['Access to areas difficult or only reachable through considerable dangers for people'], 'vital objects': ['Victims receive vitally important things, such as water, food, and medicine'], 'rescue forces safety': ['Emergency services can avoid dangers if, for example, pictures of the location were taken by robots.'], 'more/ easier access': ['Robots can create (easier) access to places where it would otherwise be more difficult.'], 'reduce number of victims': ['Robots could make rescue operations more efficient and faster, potentially saving more victims.'], 'no life endangered': [nan], 'can save lives': [nan, nan], 'not emotionally driven': [nan], 'focused': [nan], 'exclusion of human error': [nan], 'flexible': ['The robot could operate in dangerous areas and is therefore not limited.', nan, nan, nan], 'stronger than human': ['Specially equipped machines could help trapped victims quicker and more efficiently.'], 'chances of success': ['A reliable and error-free rescue robot could therefore save people faster and more than a human.'], 'accuracy of execution': [nan], 'enter dangerous areas': [nan], 'do not get distracted': ['Rescue robots follow their programming and can focus better on the rescue without being influenced by emotions.'], 'speed / agility': [nan], 'real-time data': [nan], 'strength': [nan, 'the robot can, for example, move objects that a human could not move'], 'simplified access': [nan], 'quick help': [nan, nan, nan], 'risk-free rescue': ['From the side of the rescuers, who do not have to put themselves in danger'], 'better CPR': [nan], 'life-threatening places': ['The possibility of entering dangerous places that people do not dare to approach, such as wreck parts, battlefields, etc.', nan], 'more reliable than humans': [nan], 'reach dangerous places': [nan], 'do not get tired': [nan, nan], 'cannot die': [nan], '\"small\" operations': ['Especially good for smaller operations and possibly the transport'], 'toxic environment': [nan], 'safer for humans': [nan, nan], 'dexterity': ['Often higher skill than human rescuers'], 'responsiveness': ['Robots have a significantly higher reaction capability than human rescuers'], 'Accuracy of rescue robots': ['this way human errors can be reduced'], 'quality/precision': [nan], 'quantity': ['more rescue operations or more people saved possible'], 'fewer deaths': [nan], 'faster operation': [nan], 'accuracy': [nan, nan], 'faster help': ['Since the risk to life is lower, rescue workers can send a robot before a complete analysis of the problem area is available.'], 'stronger': ['Robots might potentially be able to move things that humans would have great difficulty with.'], 'Not susceptible to infection': ['Robots are insensitive to infections.'], '24/7 readiness': [nan], 'access to hard-to-reach places': [nan], 'human safety': [nan], 'useful addition': ['To human rescuers.'], '\"dare\" more': ['can also be used in war zones, only material loss through explosives'], 'eyes and ears': ['for the rescue forces from a safe distance'], 'less danger': ['for human rescue forces', nan, nan], 'dangerous areas': [nan, nan], 'endurance': [nan], 'performance': [nan], 'rescue and safety': [nan], 'danger': ['less human danger'], 'no rescuer endangered': [nan], 'access': ['access to areas where people cannot reach'], 'rational efficiency': ['No suicidal experiments in rescue'], 'quick deployment': [nan, nan], 'no exhaustion': [nan], 'save many people': [nan], 'Adaptability': [nan, nan], 'continuous monitoring': [nan], 'not tired': [nan], 'more human rescue': [nan], 'easier finding': ['Through their sensors like thermal imaging, the robots can better find people.'], 'do not lose strength': ['Robots do not lose stamina while humans could lose strength during missions.'], 'delivery of goods': ['Robots can, for example, deliver goods in war zones, which would be dangerous for humans.'], 'faster abolition': ['Rescue robots could shorten the path to doctors/hospitals and the abolition of injured people.'], 'safety risks': [nan], 'can be replaced': ['Robots can be replaced by other robots in case of loss'], 'better search capabilities': ['Robots can search better in the dark and in smoke etc because they have numerous sensors'], 'for danger': ['can be used in times of danger instead of humans'], 'efficient reconnaissance work': ['Through algorithms, maps can be read and created more quickly'], 'rescue efficient and': [nan], 'higher utilization': ['the robots can be used continuously'], 'faster access': ['easier access to dangerous place'], 'error reduction': [nan], 'simplification of difficult situations': ['Many rescue situations prove difficult for people to reach or to intervene, automation can clearly help here.'], 'accessibility of special regions': [nan], 'risk reduction for aid workers': ['Should people go into difficult areas, for example for avalanche rescue, they put themselves in danger'], 'fire department support': [nan], 'risk': ['In dangerous environments or situations, there is of course much less risk for the people'], 'dispensable': ['the loss of a robot is less tragic than the loss of a human rescuer'], 'immune': ['a robot is immune to many dangers that would be deadly for humans such as smoke gases, chemicals, temperatures'], 'protects people': ['No human risks necessary'], 'surpasses human rescuers': ['Can be used in situations where people cannot reach'], 'low risk': [nan], 'safety for rescue workers': [nan], 'access to dangerous area': [nan], 'no performance drop': [nan], 'follows instructions precisely': [nan], 'earthquake rescue': [nan], 'lifting heavy weights': [nan], 'risk minimization': ['Approximately during search actions in risky areas'], 'precision in search': [nan], 'More flexible than human': ['People cannot access some areas or cannot see whether people are still alive. For example, in an earthquake incident under the rubble.'], 'Faster than human': ['In an earthquake, for example, recently in Turkey, the help arrived too late and this led to more loss. Robots would be more flexible and could be used faster, rather than gathering all people together and rushing to help.'], 'Stronger than human': ['As already mentioned, many people lost their lives in the earthquake in Turkey, and this was because human strength was not enough at a certain point. For example, the walls that fell on people could not be lifted, which is why arms and legs had to be cut off. If the robot was there, it could show more strength and lift the wall.'], 'speed': ['the robot can probably save faster than a human'], 'accessibility of contaminated places': ['Poisonous gases, smoke, radiation etc. play no role'], 'can be stronger': [nan], 'can work long': [nan], 'are physically superior': ['Strength, agility, mobility'], 'are mentally superior': ['No trauma for rescuers'], 'use in dangerous areas': [nan], 'use in inaccessibility': [nan], 'accuracy of work': [nan], 'does not risk human lives': [nan], 'lower risk of injury': [nan, 'through soft robots', nan, 'due to their softness', 'With soft robots', nan, 'Lower risk of injury due to the adaptability of the robot', nan], 'low risk of injury': [nan, nan, nan, 'Due to the fact that a soft robot is not made of metal, but rather soft, the risk is lower.', nan, 'In comparison to hard plastic/metal', nan, 'with soft robots', 'helping hand'], 'robots are more efficient': [nan], 'knowledge': ['You get the information from the internet and can capture and assign the data faster than humans.', nan], 'less risk of injury': [nan, nan, nan], 'reduction of injury risk': [nan, nan, \"compared to 'soft' rescue robots; valid for hard rescue robots\", nan, nan], 'delivery of supplies': [nan], 'food/water transport': [nan], 'animal protection': ['Using a soft robot instead of an animal protects the animal from potentially harmful behavior by the owner.'], 'reach the inaccessible': [nan], 'reduce risk of injury': [nan], 'direct help': ['through water/food'], 'reduced risk of injury': ['through soft materials', 'the victim due to the organic construction method', nan, nan], 'time savings in emergencies': [nan], 'care of victims': [nan], 'exploration': ['Assess the safety of the dangerous area'], 'supply with food': [nan, nan], 'adaptability': [nan], 'few physical risks': ['e.g. through injuries'], 'accessible tight spaces': ['Due to their flexibility, they can access narrow spaces that are not accessible to people.'], 'decision-making options': ['in theory, a robot should be able to make a logical decision better than a human because emotions etc. cannot cloud a decision'], 'injury prevention': [nan], 'more people saved': [nan], 'low risks': ['Soft robots pose only a low risk to the victims due to their flexibility.'], 'vital help': [nan], 'more flexible than humans': [nan], 'fast': ['faster than a human to distribute aid supplies.'], 'camera images': ['To perform an image analysis in retrospect'], 'human error susceptibility': [nan], 'medication supply': [nan], 'inaccessible areas': [nan]}\n",
      "212\n"
     ]
    }
   ],
   "source": [
    "constant_new_comments_mapping = combine_dicts(constant_comments_mapping, new_comments_mapping)\n",
    "print(\"mapping constant, new x comments:\", constant_new_comments_mapping)\n",
    "print(len(constant_new_comments_mapping))\n"
   ]
  },
  {
   "cell_type": "markdown",
   "metadata": {},
   "source": [
    "## Data for A, B graph (G2)\n",
    "\n",
    "Prompt to get list of arguments and explenations:"
   ]
  },
  {
   "cell_type": "code",
   "execution_count": 24,
   "metadata": {},
   "outputs": [
    {
     "name": "stdout",
     "output_type": "stream",
     "text": [
      "messages=[SystemMessage(content='\\nYou are a researcher summarizing two word lists that represent people\\'s assessments of rigid and soft robots, whereby laypersons were informed about the risks and benefits of rescue robots and socially assistive robots through scenario texts.\\n\\nParticipants shared their views on traditional rigid robots in a \"rigid\" list and on flexible, electronic-free soft robots in a \"soft\" list after learning about their respective risks and benefits. \\nThe overall theme is perceived safety.\\n\\nBoth \"rigid\" and \"soft\" lists are dictionaries with argument keys and comment values. If [nan] appears, it means no comment was provided; repeated entries or [nan] values indicate that the argument was emphasized multiple times.\\n\\nYour task:\\nSummarize the main points for each category into a JSON object. Fill the two arrays within the JSON object, \"rigid_arguments\" for the \"rigid\" list and \"soft_arguments\" for the \"soft\" list. \\nSummarize the main points for each category in a JSON object. Populate the two arrays, \"rigid_arguments\" and \"soft_arguments,\" with up to five key arguments each. \\nInclude a brief, interrelated explanation (up to two sentences) for each argument, derived from the provided lists.\\n\\n\\nOutput Format:\\n\\n{\\n  \"assessments\": {\\n    \"rigid_arguments\": [\\n      {\\n        \"argument\": \"argument1\",\\n        \"explanation\": \"explanation of argument1\"\\n      },\\n      {\\n        \"argument\": \"argument2\",\\n        \"explanation\": \"explanation of argument2\"\\n      },\\n      ...\\n    ],\\n    \"soft_arguments\": [\\n      {\\n        \"argument\": \"argument1\",\\n        \"explanation\": \"explanation of argument1\"\\n      },\\n      {\\n        \"argument\": \"argument2\",\\n        \"explanation\": \"explanation of argument2\"\\n      },\\n      ...\\n    ]\\n  }\\n}\\n\\nPlease respond with the entire JSON structure as specified, providing up to five arguments for each list, and without any additional commentary or context.\\n', additional_kwargs={}, response_metadata={}), HumanMessage(content='List \"rigid\": \\n{\\'quick hygienic help\\': [nan], \\'efficient\\': [\\'Work on statistics can be made more efficient through probabilities.\\', nan, nan, nan], \\'safety\\': [\\'Prevents people from having to work under difficult or dangerous conditions to increase safety.\\', \\'Enables deployment in difficult situations where human rescuers would put themselves in danger\\', nan, nan, nan, \\'through reliability\\', \\'No people are being put in danger\\', \\'Soft material reduces risk of injury\\'], \\'remote control\\': [\\'Can be operated by experts via remote control or autonomous systems to perform operations from a safe distance.\\', nan, nan, nan, nan, \\'Minimizes risks associated with autonomy\\'], \\'speed and efficiency\\': [\\'Robots can often act faster than humans and increase the speed of emergency interventions\\', \\'Improvement of speed and efficiency of rescue operations\\', nan], \\'safe\\': [\\'People do not have to put themselves in dangerous situations\\'], \\'reliable\\': [\\'Can be precisely controlled\\', nan, nan, nan, nan, \\'is always ready\\'], \\'health monitoring\\': [nan, \\'People no longer necessarily need an emergency button if an external system can watch over them and summon help when in doubt.\\'], \\'Precise execution\\': [\\'Robots perform tasks purposefully\\'], \\'Ability to learn\\': [\\'The robots are learning and being further developed, making them more efficient\\'], \\'no people necessary\\': [nan], \\'stronger than humans\\': [nan, \\'In many situations, e.g. when clearing rubble, a great advantage.\\', nan, nan], \\'faster than humans\\': [nan, nan], \\'precise handling\\': [nan], \\'reliability\\': [nan, \\'Machines can accomplish their tasks reliably and reproducibly (provided they are well programmed and built)\\', nan, nan, nan], \\'always correct\\': [nan], \\'protection of rescue forces\\': [\\'for example in contamination scenarios\\', \\'Reduced deployment of human rescue forces in dangerous situations\\', nan, \\'human rescuers do not have to put themselves in danger\\'], \\'in danger zones\\': [nan], \\'toxic places\\': [\\'Places where people can only breathe with special equipment (gas mask)\\'], \\'no distraction\\': [nan], \\'by injuries\\': [nan], \\'consistent\\': [nan], \\'consistent performance\\': [nan], \\'emergency monitoring\\': [\\'Depending on how a robot is equipped, it could respond very quickly in an emergency, faster than a human.\\'], \\'more strong\\': [nan], \\'without basic need\\': [\\'Water, sleep, food etc.\\'], \\'faster intervention\\': [nan], \\'area of application\\': [\\'Can be used in areas too dangerous for humans\\', \\'Can be used in areas that are too dangerous for humans.\\'], \\'reaching hard-to-access places\\': [\\'Robots and drones are small and agile. Therefore, they can reach places that are difficult or even dangerous for humans to reach.\\'], \\'discover dangerous areas\\': [nan], \\'quick processing\\': [nan], \\'care of people\\': [nan], \\'perform operations\\': [\\'disease\\'], \\'enter dangerous situation\\': [nan], \\'No illness\\': [\\'Robots do not get infected, they do not spread diseases, and they do not get sick.\\'], \\'less risk\\': [nan, \\'Specifically less risk to further human lives, as rescue teams can use robots\\'], \\'efficiency in search\\': [nan], \\'no fatigue\\': [nan, \\'Unlike human rescuers, robots do not tire even during long operations\\'], \\'cover dangerous areas\\': [\\'even where it is dangerous for humans, a robot can go there\\'], \\'precision & accuracy\\': [nan], \\'no human errors\\': [nan], \\'more attentive\\': [nan], \\'use in dangerous situations\\': [\\'Rescue robots can be used in dangerous situations where humans are exposed to too high a risk.\\'], \\'can act quickly\\': [\\'Robots can intervene quickly, as they do not need to be dressed or prepared and are autonomous\\', \\'The robots can act faster than a human in an emergency.\\'], \\'No exhaustion\\': [nan], \\'Range\\': [\\'Robots, again just the drone can rescue victims faster in difficult terrain or bring help, e.g. medicine, food\\'], \\'accessibility of inaccessible places\\': [nan], \\'improved approach\\': [nan], \\'precise work\\': [nan, nan], \\'rescue of people\\': [nan], \\'deployment possibility\\': [\\'Also possible under dangerous conditions\\'], \\'replaceable\\': [\\'In case of loss, no human sacrifice\\', \\'During operations, unlike human rescuers, there is no need to pay attention to the safety of the robots, as they can be easily replaced.\\'], \\'unrestricted access\\': [\\'Robots can operate in environments that would be toxic to humans, e.g. areas contaminated with radiation.\\'], \\'sparing human life\\': [\\'If robots are used instead of human rescuers, the lives and health of the rescuers do not have to be put at risk.\\'], \\'reduced risk\\': [\\'By using robots, no human forces are exposed to dangerous situations\\'], \\'precision\\': [nan], \\'more targeted help\\': [nan], \\'saves lives\\': [\\'For example, when human helpers are not available, a rescue robot can still save human lives.\\', \\'send a robot into a danger zone instead of a human\\', nan], \\'protects aid workers\\': [\\'Since employees are not unnecessarily exposed to dangers, strictly speaking, this also saves their lives.\\'], \\'fewer mistakes\\': [nan], \\'overall more productive\\': [nan], \\'greater accuracy\\': [nan], \\'usable in emergencies\\': [\\'To inspect debris more accurately\\'], \\'protection of rescue personnel\\': [nan], \\'accessibility of places\\': [\\'Accessibility difficult to reach\\'], \\'increased efficiency\\': [nan], \\'faster recovery\\': [\\'One could send robots into the fire without danger to human lives, etc, to combat the cause more quickly.\\'], \\'weather independent\\': [\\'Even in storms etc., perhaps an option for critical tasks\\'], \\'safety for emergency personnel\\': [nan], \\'strength (power)\\': [\\'for example, for lifting debris parts\\'], \\'quick action\\': [nan], \\'no danger\\': [\\'For human rescue forces in action\\', \\'No human doctor etc. needs to enter the operating area and thus it is significantly safer and therefore protects human lives.\\'], \\'efficiency\\': [nan, \\'Robots could be more capable in disaster cases than human helpers.\\', nan, \\'Robots are not limited to human speed, vision, and perception in general.\\', nan, \\'both equally fast work, more productive way of working as well as improved access to danger zones\\', nan], \\'access to areas\\': [\\'Access to areas difficult or only reachable through considerable dangers for people\\'], \\'vital objects\\': [\\'Victims receive vitally important things, such as water, food, and medicine\\'], \\'rescue forces safety\\': [\\'Emergency services can avoid dangers if, for example, pictures of the location were taken by robots.\\'], \\'more/ easier access\\': [\\'Robots can create (easier) access to places where it would otherwise be more difficult.\\'], \\'reduce number of victims\\': [\\'Robots could make rescue operations more efficient and faster, potentially saving more victims.\\'], \\'no life endangered\\': [nan], \\'can save lives\\': [nan, nan], \\'not emotionally driven\\': [nan], \\'focused\\': [nan], \\'exclusion of human error\\': [nan], \\'flexible\\': [\\'The robot could operate in dangerous areas and is therefore not limited.\\', nan, nan, nan], \\'stronger than human\\': [\\'Specially equipped machines could help trapped victims quicker and more efficiently.\\'], \\'chances of success\\': [\\'A reliable and error-free rescue robot could therefore save people faster and more than a human.\\'], \\'accuracy of execution\\': [nan], \\'enter dangerous areas\\': [nan], \\'do not get distracted\\': [\\'Rescue robots follow their programming and can focus better on the rescue without being influenced by emotions.\\'], \\'speed / agility\\': [nan], \\'real-time data\\': [nan], \\'strength\\': [nan, \\'the robot can, for example, move objects that a human could not move\\'], \\'simplified access\\': [nan], \\'quick help\\': [nan, nan, nan], \\'risk-free rescue\\': [\\'From the side of the rescuers, who do not have to put themselves in danger\\'], \\'better CPR\\': [nan], \\'life-threatening places\\': [\\'The possibility of entering dangerous places that people do not dare to approach, such as wreck parts, battlefields, etc.\\', nan], \\'more reliable than humans\\': [nan], \\'reach dangerous places\\': [nan], \\'do not get tired\\': [nan, nan], \\'cannot die\\': [nan], \\'\"small\" operations\\': [\\'Especially good for smaller operations and possibly the transport\\'], \\'toxic environment\\': [nan], \\'safer for humans\\': [nan, nan], \\'dexterity\\': [\\'Often higher skill than human rescuers\\'], \\'responsiveness\\': [\\'Robots have a significantly higher reaction capability than human rescuers\\'], \\'Accuracy of rescue robots\\': [\\'this way human errors can be reduced\\'], \\'quality/precision\\': [nan], \\'quantity\\': [\\'more rescue operations or more people saved possible\\'], \\'fewer deaths\\': [nan], \\'faster operation\\': [nan], \\'accuracy\\': [nan, nan], \\'faster help\\': [\\'Since the risk to life is lower, rescue workers can send a robot before a complete analysis of the problem area is available.\\'], \\'stronger\\': [\\'Robots might potentially be able to move things that humans would have great difficulty with.\\'], \\'Not susceptible to infection\\': [\\'Robots are insensitive to infections.\\'], \\'24/7 readiness\\': [nan], \\'access to hard-to-reach places\\': [nan], \\'human safety\\': [nan], \\'useful addition\\': [\\'To human rescuers.\\'], \\'\"dare\" more\\': [\\'can also be used in war zones, only material loss through explosives\\'], \\'eyes and ears\\': [\\'for the rescue forces from a safe distance\\'], \\'less danger\\': [\\'for human rescue forces\\', nan, nan], \\'dangerous areas\\': [nan, nan], \\'endurance\\': [nan], \\'performance\\': [nan], \\'rescue and safety\\': [nan], \\'danger\\': [\\'less human danger\\'], \\'no rescuer endangered\\': [nan], \\'access\\': [\\'access to areas where people cannot reach\\'], \\'rational efficiency\\': [\\'No suicidal experiments in rescue\\'], \\'quick deployment\\': [nan, nan], \\'no exhaustion\\': [nan], \\'save many people\\': [nan], \\'Adaptability\\': [nan, nan], \\'continuous monitoring\\': [nan], \\'not tired\\': [nan], \\'more human rescue\\': [nan], \\'easier finding\\': [\\'Through their sensors like thermal imaging, the robots can better find people.\\'], \\'do not lose strength\\': [\\'Robots do not lose stamina while humans could lose strength during missions.\\'], \\'delivery of goods\\': [\\'Robots can, for example, deliver goods in war zones, which would be dangerous for humans.\\'], \\'faster abolition\\': [\\'Rescue robots could shorten the path to doctors/hospitals and the abolition of injured people.\\'], \\'safety risks\\': [nan], \\'can be replaced\\': [\\'Robots can be replaced by other robots in case of loss\\'], \\'better search capabilities\\': [\\'Robots can search better in the dark and in smoke etc because they have numerous sensors\\'], \\'for danger\\': [\\'can be used in times of danger instead of humans\\'], \\'efficient reconnaissance work\\': [\\'Through algorithms, maps can be read and created more quickly\\'], \\'rescue efficient and\\': [nan], \\'higher utilization\\': [\\'the robots can be used continuously\\'], \\'faster access\\': [\\'easier access to dangerous place\\'], \\'error reduction\\': [nan], \\'simplification of difficult situations\\': [\\'Many rescue situations prove difficult for people to reach or to intervene, automation can clearly help here.\\'], \\'accessibility of special regions\\': [nan], \\'risk reduction for aid workers\\': [\\'Should people go into difficult areas, for example for avalanche rescue, they put themselves in danger\\'], \\'fire department support\\': [nan], \\'risk\\': [\\'In dangerous environments or situations, there is of course much less risk for the people\\'], \\'dispensable\\': [\\'the loss of a robot is less tragic than the loss of a human rescuer\\'], \\'immune\\': [\\'a robot is immune to many dangers that would be deadly for humans such as smoke gases, chemicals, temperatures\\'], \\'protects people\\': [\\'No human risks necessary\\'], \\'surpasses human rescuers\\': [\\'Can be used in situations where people cannot reach\\'], \\'low risk\\': [nan], \\'safety for rescue workers\\': [nan], \\'access to dangerous area\\': [nan], \\'no performance drop\\': [nan], \\'follows instructions precisely\\': [nan], \\'earthquake rescue\\': [nan], \\'lifting heavy weights\\': [nan], \\'risk minimization\\': [\\'Approximately during search actions in risky areas\\'], \\'precision in search\\': [nan], \\'More flexible than human\\': [\\'People cannot access some areas or cannot see whether people are still alive. For example, in an earthquake incident under the rubble.\\'], \\'Faster than human\\': [\\'In an earthquake, for example, recently in Turkey, the help arrived too late and this led to more loss. Robots would be more flexible and could be used faster, rather than gathering all people together and rushing to help.\\'], \\'Stronger than human\\': [\\'As already mentioned, many people lost their lives in the earthquake in Turkey, and this was because human strength was not enough at a certain point. For example, the walls that fell on people could not be lifted, which is why arms and legs had to be cut off. If the robot was there, it could show more strength and lift the wall.\\'], \\'speed\\': [\\'the robot can probably save faster than a human\\'], \\'accessibility of contaminated places\\': [\\'Poisonous gases, smoke, radiation etc. play no role\\'], \\'can be stronger\\': [nan], \\'can work long\\': [nan], \\'are physically superior\\': [\\'Strength, agility, mobility\\'], \\'are mentally superior\\': [\\'No trauma for rescuers\\'], \\'use in dangerous areas\\': [nan], \\'use in inaccessibility\\': [nan], \\'accuracy of work\\': [nan], \\'does not risk human lives\\': [nan]}\\n\\nList \"soft\": \\n{\\'lower risk of injury\\': [nan, \\'through soft robots\\', nan, \\'due to their softness\\', \\'With soft robots\\', nan, \\'Lower risk of injury due to the adaptability of the robot\\', nan], \\'flexible\\': [nan, nan, nan], \\'low risk of injury\\': [nan, nan, nan, \\'Due to the fact that a soft robot is not made of metal, but rather soft, the risk is lower.\\', nan, \\'In comparison to hard plastic/metal\\', nan, \\'with soft robots\\', \\'helping hand\\'], \\'safety\\': [\\'Soft material reduces risk of injury\\'], \\'robots are more efficient\\': [nan], \\'knowledge\\': [\\'You get the information from the internet and can capture and assign the data faster than humans.\\', nan], \\'less risk of injury\\': [nan, nan, nan], \\'reduction of injury risk\\': [nan, nan, \"compared to \\'soft\\' rescue robots; valid for hard rescue robots\", nan, nan], \\'delivery of supplies\\': [nan], \\'precise work\\': [nan], \\'food/water transport\\': [nan], \\'animal protection\\': [\\'Using a soft robot instead of an animal protects the animal from potentially harmful behavior by the owner.\\'], \\'reach the inaccessible\\': [nan], \\'reduce risk of injury\\': [nan], \\'reliable\\': [\\'is always ready\\'], \\'direct help\\': [\\'through water/food\\'], \\'reduced risk of injury\\': [\\'through soft materials\\', \\'the victim due to the organic construction method\\', nan, nan], \\'time savings in emergencies\\': [nan], \\'care of victims\\': [nan], \\'exploration\\': [\\'Assess the safety of the dangerous area\\'], \\'supply with food\\': [nan, nan], \\'adaptability\\': [nan], \\'few physical risks\\': [\\'e.g. through injuries\\'], \\'accessible tight spaces\\': [\\'Due to their flexibility, they can access narrow spaces that are not accessible to people.\\'], \\'decision-making options\\': [\\'in theory, a robot should be able to make a logical decision better than a human because emotions etc. cannot cloud a decision\\'], \\'injury prevention\\': [nan], \\'more people saved\\': [nan], \\'low risks\\': [\\'Soft robots pose only a low risk to the victims due to their flexibility.\\'], \\'life-threatening places\\': [nan], \\'vital help\\': [nan], \\'more flexible than humans\\': [nan], \\'fast\\': [\\'faster than a human to distribute aid supplies.\\'], \\'Adaptability\\': [nan], \\'camera images\\': [\\'To perform an image analysis in retrospect\\'], \\'human error susceptibility\\': [nan], \\'medication supply\\': [nan], \\'inaccessible areas\\': [nan]}', additional_kwargs={}, response_metadata={})]\n",
      "template_out: messages=[SystemMessage(content='\\nYou are a researcher summarizing two word lists that represent people\\'s assessments of rigid and soft robots, whereby laypersons were informed about the risks and benefits of rescue robots and socially assistive robots through scenario texts.\\n\\nParticipants shared their views on traditional rigid robots in a \"rigid\" list and on flexible, electronic-free soft robots in a \"soft\" list after learning about their respective risks and benefits. \\nThe overall theme is perceived safety.\\n\\nBoth \"rigid\" and \"soft\" lists are dictionaries with argument keys and comment values. If [nan] appears, it means no comment was provided; repeated entries or [nan] values indicate that the argument was emphasized multiple times.\\n\\nYour task:\\nSummarize the main points for each category into a JSON object. Fill the two arrays within the JSON object, \"rigid_arguments\" for the \"rigid\" list and \"soft_arguments\" for the \"soft\" list. \\nSummarize the main points for each category in a JSON object. Populate the two arrays, \"rigid_arguments\" and \"soft_arguments,\" with up to five key arguments each. \\nInclude a brief, interrelated explanation (up to two sentences) for each argument, derived from the provided lists.\\n\\n\\nOutput Format:\\n\\n{\\n  \"assessments\": {\\n    \"rigid_arguments\": [\\n      {\\n        \"argument\": \"argument1\",\\n        \"explanation\": \"explanation of argument1\"\\n      },\\n      {\\n        \"argument\": \"argument2\",\\n        \"explanation\": \"explanation of argument2\"\\n      },\\n      ...\\n    ],\\n    \"soft_arguments\": [\\n      {\\n        \"argument\": \"argument1\",\\n        \"explanation\": \"explanation of argument1\"\\n      },\\n      {\\n        \"argument\": \"argument2\",\\n        \"explanation\": \"explanation of argument2\"\\n      },\\n      ...\\n    ]\\n  }\\n}\\n\\nPlease respond with the entire JSON structure as specified, providing up to five arguments for each list, and without any additional commentary or context.\\n', additional_kwargs={}, response_metadata={}), HumanMessage(content='List \"rigid\": \\n{\\'quick hygienic help\\': [nan], \\'efficient\\': [\\'Work on statistics can be made more efficient through probabilities.\\', nan, nan, nan], \\'safety\\': [\\'Prevents people from having to work under difficult or dangerous conditions to increase safety.\\', \\'Enables deployment in difficult situations where human rescuers would put themselves in danger\\', nan, nan, nan, \\'through reliability\\', \\'No people are being put in danger\\', \\'Soft material reduces risk of injury\\'], \\'remote control\\': [\\'Can be operated by experts via remote control or autonomous systems to perform operations from a safe distance.\\', nan, nan, nan, nan, \\'Minimizes risks associated with autonomy\\'], \\'speed and efficiency\\': [\\'Robots can often act faster than humans and increase the speed of emergency interventions\\', \\'Improvement of speed and efficiency of rescue operations\\', nan], \\'safe\\': [\\'People do not have to put themselves in dangerous situations\\'], \\'reliable\\': [\\'Can be precisely controlled\\', nan, nan, nan, nan, \\'is always ready\\'], \\'health monitoring\\': [nan, \\'People no longer necessarily need an emergency button if an external system can watch over them and summon help when in doubt.\\'], \\'Precise execution\\': [\\'Robots perform tasks purposefully\\'], \\'Ability to learn\\': [\\'The robots are learning and being further developed, making them more efficient\\'], \\'no people necessary\\': [nan], \\'stronger than humans\\': [nan, \\'In many situations, e.g. when clearing rubble, a great advantage.\\', nan, nan], \\'faster than humans\\': [nan, nan], \\'precise handling\\': [nan], \\'reliability\\': [nan, \\'Machines can accomplish their tasks reliably and reproducibly (provided they are well programmed and built)\\', nan, nan, nan], \\'always correct\\': [nan], \\'protection of rescue forces\\': [\\'for example in contamination scenarios\\', \\'Reduced deployment of human rescue forces in dangerous situations\\', nan, \\'human rescuers do not have to put themselves in danger\\'], \\'in danger zones\\': [nan], \\'toxic places\\': [\\'Places where people can only breathe with special equipment (gas mask)\\'], \\'no distraction\\': [nan], \\'by injuries\\': [nan], \\'consistent\\': [nan], \\'consistent performance\\': [nan], \\'emergency monitoring\\': [\\'Depending on how a robot is equipped, it could respond very quickly in an emergency, faster than a human.\\'], \\'more strong\\': [nan], \\'without basic need\\': [\\'Water, sleep, food etc.\\'], \\'faster intervention\\': [nan], \\'area of application\\': [\\'Can be used in areas too dangerous for humans\\', \\'Can be used in areas that are too dangerous for humans.\\'], \\'reaching hard-to-access places\\': [\\'Robots and drones are small and agile. Therefore, they can reach places that are difficult or even dangerous for humans to reach.\\'], \\'discover dangerous areas\\': [nan], \\'quick processing\\': [nan], \\'care of people\\': [nan], \\'perform operations\\': [\\'disease\\'], \\'enter dangerous situation\\': [nan], \\'No illness\\': [\\'Robots do not get infected, they do not spread diseases, and they do not get sick.\\'], \\'less risk\\': [nan, \\'Specifically less risk to further human lives, as rescue teams can use robots\\'], \\'efficiency in search\\': [nan], \\'no fatigue\\': [nan, \\'Unlike human rescuers, robots do not tire even during long operations\\'], \\'cover dangerous areas\\': [\\'even where it is dangerous for humans, a robot can go there\\'], \\'precision & accuracy\\': [nan], \\'no human errors\\': [nan], \\'more attentive\\': [nan], \\'use in dangerous situations\\': [\\'Rescue robots can be used in dangerous situations where humans are exposed to too high a risk.\\'], \\'can act quickly\\': [\\'Robots can intervene quickly, as they do not need to be dressed or prepared and are autonomous\\', \\'The robots can act faster than a human in an emergency.\\'], \\'No exhaustion\\': [nan], \\'Range\\': [\\'Robots, again just the drone can rescue victims faster in difficult terrain or bring help, e.g. medicine, food\\'], \\'accessibility of inaccessible places\\': [nan], \\'improved approach\\': [nan], \\'precise work\\': [nan, nan], \\'rescue of people\\': [nan], \\'deployment possibility\\': [\\'Also possible under dangerous conditions\\'], \\'replaceable\\': [\\'In case of loss, no human sacrifice\\', \\'During operations, unlike human rescuers, there is no need to pay attention to the safety of the robots, as they can be easily replaced.\\'], \\'unrestricted access\\': [\\'Robots can operate in environments that would be toxic to humans, e.g. areas contaminated with radiation.\\'], \\'sparing human life\\': [\\'If robots are used instead of human rescuers, the lives and health of the rescuers do not have to be put at risk.\\'], \\'reduced risk\\': [\\'By using robots, no human forces are exposed to dangerous situations\\'], \\'precision\\': [nan], \\'more targeted help\\': [nan], \\'saves lives\\': [\\'For example, when human helpers are not available, a rescue robot can still save human lives.\\', \\'send a robot into a danger zone instead of a human\\', nan], \\'protects aid workers\\': [\\'Since employees are not unnecessarily exposed to dangers, strictly speaking, this also saves their lives.\\'], \\'fewer mistakes\\': [nan], \\'overall more productive\\': [nan], \\'greater accuracy\\': [nan], \\'usable in emergencies\\': [\\'To inspect debris more accurately\\'], \\'protection of rescue personnel\\': [nan], \\'accessibility of places\\': [\\'Accessibility difficult to reach\\'], \\'increased efficiency\\': [nan], \\'faster recovery\\': [\\'One could send robots into the fire without danger to human lives, etc, to combat the cause more quickly.\\'], \\'weather independent\\': [\\'Even in storms etc., perhaps an option for critical tasks\\'], \\'safety for emergency personnel\\': [nan], \\'strength (power)\\': [\\'for example, for lifting debris parts\\'], \\'quick action\\': [nan], \\'no danger\\': [\\'For human rescue forces in action\\', \\'No human doctor etc. needs to enter the operating area and thus it is significantly safer and therefore protects human lives.\\'], \\'efficiency\\': [nan, \\'Robots could be more capable in disaster cases than human helpers.\\', nan, \\'Robots are not limited to human speed, vision, and perception in general.\\', nan, \\'both equally fast work, more productive way of working as well as improved access to danger zones\\', nan], \\'access to areas\\': [\\'Access to areas difficult or only reachable through considerable dangers for people\\'], \\'vital objects\\': [\\'Victims receive vitally important things, such as water, food, and medicine\\'], \\'rescue forces safety\\': [\\'Emergency services can avoid dangers if, for example, pictures of the location were taken by robots.\\'], \\'more/ easier access\\': [\\'Robots can create (easier) access to places where it would otherwise be more difficult.\\'], \\'reduce number of victims\\': [\\'Robots could make rescue operations more efficient and faster, potentially saving more victims.\\'], \\'no life endangered\\': [nan], \\'can save lives\\': [nan, nan], \\'not emotionally driven\\': [nan], \\'focused\\': [nan], \\'exclusion of human error\\': [nan], \\'flexible\\': [\\'The robot could operate in dangerous areas and is therefore not limited.\\', nan, nan, nan], \\'stronger than human\\': [\\'Specially equipped machines could help trapped victims quicker and more efficiently.\\'], \\'chances of success\\': [\\'A reliable and error-free rescue robot could therefore save people faster and more than a human.\\'], \\'accuracy of execution\\': [nan], \\'enter dangerous areas\\': [nan], \\'do not get distracted\\': [\\'Rescue robots follow their programming and can focus better on the rescue without being influenced by emotions.\\'], \\'speed / agility\\': [nan], \\'real-time data\\': [nan], \\'strength\\': [nan, \\'the robot can, for example, move objects that a human could not move\\'], \\'simplified access\\': [nan], \\'quick help\\': [nan, nan, nan], \\'risk-free rescue\\': [\\'From the side of the rescuers, who do not have to put themselves in danger\\'], \\'better CPR\\': [nan], \\'life-threatening places\\': [\\'The possibility of entering dangerous places that people do not dare to approach, such as wreck parts, battlefields, etc.\\', nan], \\'more reliable than humans\\': [nan], \\'reach dangerous places\\': [nan], \\'do not get tired\\': [nan, nan], \\'cannot die\\': [nan], \\'\"small\" operations\\': [\\'Especially good for smaller operations and possibly the transport\\'], \\'toxic environment\\': [nan], \\'safer for humans\\': [nan, nan], \\'dexterity\\': [\\'Often higher skill than human rescuers\\'], \\'responsiveness\\': [\\'Robots have a significantly higher reaction capability than human rescuers\\'], \\'Accuracy of rescue robots\\': [\\'this way human errors can be reduced\\'], \\'quality/precision\\': [nan], \\'quantity\\': [\\'more rescue operations or more people saved possible\\'], \\'fewer deaths\\': [nan], \\'faster operation\\': [nan], \\'accuracy\\': [nan, nan], \\'faster help\\': [\\'Since the risk to life is lower, rescue workers can send a robot before a complete analysis of the problem area is available.\\'], \\'stronger\\': [\\'Robots might potentially be able to move things that humans would have great difficulty with.\\'], \\'Not susceptible to infection\\': [\\'Robots are insensitive to infections.\\'], \\'24/7 readiness\\': [nan], \\'access to hard-to-reach places\\': [nan], \\'human safety\\': [nan], \\'useful addition\\': [\\'To human rescuers.\\'], \\'\"dare\" more\\': [\\'can also be used in war zones, only material loss through explosives\\'], \\'eyes and ears\\': [\\'for the rescue forces from a safe distance\\'], \\'less danger\\': [\\'for human rescue forces\\', nan, nan], \\'dangerous areas\\': [nan, nan], \\'endurance\\': [nan], \\'performance\\': [nan], \\'rescue and safety\\': [nan], \\'danger\\': [\\'less human danger\\'], \\'no rescuer endangered\\': [nan], \\'access\\': [\\'access to areas where people cannot reach\\'], \\'rational efficiency\\': [\\'No suicidal experiments in rescue\\'], \\'quick deployment\\': [nan, nan], \\'no exhaustion\\': [nan], \\'save many people\\': [nan], \\'Adaptability\\': [nan, nan], \\'continuous monitoring\\': [nan], \\'not tired\\': [nan], \\'more human rescue\\': [nan], \\'easier finding\\': [\\'Through their sensors like thermal imaging, the robots can better find people.\\'], \\'do not lose strength\\': [\\'Robots do not lose stamina while humans could lose strength during missions.\\'], \\'delivery of goods\\': [\\'Robots can, for example, deliver goods in war zones, which would be dangerous for humans.\\'], \\'faster abolition\\': [\\'Rescue robots could shorten the path to doctors/hospitals and the abolition of injured people.\\'], \\'safety risks\\': [nan], \\'can be replaced\\': [\\'Robots can be replaced by other robots in case of loss\\'], \\'better search capabilities\\': [\\'Robots can search better in the dark and in smoke etc because they have numerous sensors\\'], \\'for danger\\': [\\'can be used in times of danger instead of humans\\'], \\'efficient reconnaissance work\\': [\\'Through algorithms, maps can be read and created more quickly\\'], \\'rescue efficient and\\': [nan], \\'higher utilization\\': [\\'the robots can be used continuously\\'], \\'faster access\\': [\\'easier access to dangerous place\\'], \\'error reduction\\': [nan], \\'simplification of difficult situations\\': [\\'Many rescue situations prove difficult for people to reach or to intervene, automation can clearly help here.\\'], \\'accessibility of special regions\\': [nan], \\'risk reduction for aid workers\\': [\\'Should people go into difficult areas, for example for avalanche rescue, they put themselves in danger\\'], \\'fire department support\\': [nan], \\'risk\\': [\\'In dangerous environments or situations, there is of course much less risk for the people\\'], \\'dispensable\\': [\\'the loss of a robot is less tragic than the loss of a human rescuer\\'], \\'immune\\': [\\'a robot is immune to many dangers that would be deadly for humans such as smoke gases, chemicals, temperatures\\'], \\'protects people\\': [\\'No human risks necessary\\'], \\'surpasses human rescuers\\': [\\'Can be used in situations where people cannot reach\\'], \\'low risk\\': [nan], \\'safety for rescue workers\\': [nan], \\'access to dangerous area\\': [nan], \\'no performance drop\\': [nan], \\'follows instructions precisely\\': [nan], \\'earthquake rescue\\': [nan], \\'lifting heavy weights\\': [nan], \\'risk minimization\\': [\\'Approximately during search actions in risky areas\\'], \\'precision in search\\': [nan], \\'More flexible than human\\': [\\'People cannot access some areas or cannot see whether people are still alive. For example, in an earthquake incident under the rubble.\\'], \\'Faster than human\\': [\\'In an earthquake, for example, recently in Turkey, the help arrived too late and this led to more loss. Robots would be more flexible and could be used faster, rather than gathering all people together and rushing to help.\\'], \\'Stronger than human\\': [\\'As already mentioned, many people lost their lives in the earthquake in Turkey, and this was because human strength was not enough at a certain point. For example, the walls that fell on people could not be lifted, which is why arms and legs had to be cut off. If the robot was there, it could show more strength and lift the wall.\\'], \\'speed\\': [\\'the robot can probably save faster than a human\\'], \\'accessibility of contaminated places\\': [\\'Poisonous gases, smoke, radiation etc. play no role\\'], \\'can be stronger\\': [nan], \\'can work long\\': [nan], \\'are physically superior\\': [\\'Strength, agility, mobility\\'], \\'are mentally superior\\': [\\'No trauma for rescuers\\'], \\'use in dangerous areas\\': [nan], \\'use in inaccessibility\\': [nan], \\'accuracy of work\\': [nan], \\'does not risk human lives\\': [nan]}\\n\\nList \"soft\": \\n{\\'lower risk of injury\\': [nan, \\'through soft robots\\', nan, \\'due to their softness\\', \\'With soft robots\\', nan, \\'Lower risk of injury due to the adaptability of the robot\\', nan], \\'flexible\\': [nan, nan, nan], \\'low risk of injury\\': [nan, nan, nan, \\'Due to the fact that a soft robot is not made of metal, but rather soft, the risk is lower.\\', nan, \\'In comparison to hard plastic/metal\\', nan, \\'with soft robots\\', \\'helping hand\\'], \\'safety\\': [\\'Soft material reduces risk of injury\\'], \\'robots are more efficient\\': [nan], \\'knowledge\\': [\\'You get the information from the internet and can capture and assign the data faster than humans.\\', nan], \\'less risk of injury\\': [nan, nan, nan], \\'reduction of injury risk\\': [nan, nan, \"compared to \\'soft\\' rescue robots; valid for hard rescue robots\", nan, nan], \\'delivery of supplies\\': [nan], \\'precise work\\': [nan], \\'food/water transport\\': [nan], \\'animal protection\\': [\\'Using a soft robot instead of an animal protects the animal from potentially harmful behavior by the owner.\\'], \\'reach the inaccessible\\': [nan], \\'reduce risk of injury\\': [nan], \\'reliable\\': [\\'is always ready\\'], \\'direct help\\': [\\'through water/food\\'], \\'reduced risk of injury\\': [\\'through soft materials\\', \\'the victim due to the organic construction method\\', nan, nan], \\'time savings in emergencies\\': [nan], \\'care of victims\\': [nan], \\'exploration\\': [\\'Assess the safety of the dangerous area\\'], \\'supply with food\\': [nan, nan], \\'adaptability\\': [nan], \\'few physical risks\\': [\\'e.g. through injuries\\'], \\'accessible tight spaces\\': [\\'Due to their flexibility, they can access narrow spaces that are not accessible to people.\\'], \\'decision-making options\\': [\\'in theory, a robot should be able to make a logical decision better than a human because emotions etc. cannot cloud a decision\\'], \\'injury prevention\\': [nan], \\'more people saved\\': [nan], \\'low risks\\': [\\'Soft robots pose only a low risk to the victims due to their flexibility.\\'], \\'life-threatening places\\': [nan], \\'vital help\\': [nan], \\'more flexible than humans\\': [nan], \\'fast\\': [\\'faster than a human to distribute aid supplies.\\'], \\'Adaptability\\': [nan], \\'camera images\\': [\\'To perform an image analysis in retrospect\\'], \\'human error susceptibility\\': [nan], \\'medication supply\\': [nan], \\'inaccessible areas\\': [nan]}', additional_kwargs={}, response_metadata={})]\n",
      "template_out.to_messages(): [SystemMessage(content='\\nYou are a researcher summarizing two word lists that represent people\\'s assessments of rigid and soft robots, whereby laypersons were informed about the risks and benefits of rescue robots and socially assistive robots through scenario texts.\\n\\nParticipants shared their views on traditional rigid robots in a \"rigid\" list and on flexible, electronic-free soft robots in a \"soft\" list after learning about their respective risks and benefits. \\nThe overall theme is perceived safety.\\n\\nBoth \"rigid\" and \"soft\" lists are dictionaries with argument keys and comment values. If [nan] appears, it means no comment was provided; repeated entries or [nan] values indicate that the argument was emphasized multiple times.\\n\\nYour task:\\nSummarize the main points for each category into a JSON object. Fill the two arrays within the JSON object, \"rigid_arguments\" for the \"rigid\" list and \"soft_arguments\" for the \"soft\" list. \\nSummarize the main points for each category in a JSON object. Populate the two arrays, \"rigid_arguments\" and \"soft_arguments,\" with up to five key arguments each. \\nInclude a brief, interrelated explanation (up to two sentences) for each argument, derived from the provided lists.\\n\\n\\nOutput Format:\\n\\n{\\n  \"assessments\": {\\n    \"rigid_arguments\": [\\n      {\\n        \"argument\": \"argument1\",\\n        \"explanation\": \"explanation of argument1\"\\n      },\\n      {\\n        \"argument\": \"argument2\",\\n        \"explanation\": \"explanation of argument2\"\\n      },\\n      ...\\n    ],\\n    \"soft_arguments\": [\\n      {\\n        \"argument\": \"argument1\",\\n        \"explanation\": \"explanation of argument1\"\\n      },\\n      {\\n        \"argument\": \"argument2\",\\n        \"explanation\": \"explanation of argument2\"\\n      },\\n      ...\\n    ]\\n  }\\n}\\n\\nPlease respond with the entire JSON structure as specified, providing up to five arguments for each list, and without any additional commentary or context.\\n', additional_kwargs={}, response_metadata={}), HumanMessage(content='List \"rigid\": \\n{\\'quick hygienic help\\': [nan], \\'efficient\\': [\\'Work on statistics can be made more efficient through probabilities.\\', nan, nan, nan], \\'safety\\': [\\'Prevents people from having to work under difficult or dangerous conditions to increase safety.\\', \\'Enables deployment in difficult situations where human rescuers would put themselves in danger\\', nan, nan, nan, \\'through reliability\\', \\'No people are being put in danger\\', \\'Soft material reduces risk of injury\\'], \\'remote control\\': [\\'Can be operated by experts via remote control or autonomous systems to perform operations from a safe distance.\\', nan, nan, nan, nan, \\'Minimizes risks associated with autonomy\\'], \\'speed and efficiency\\': [\\'Robots can often act faster than humans and increase the speed of emergency interventions\\', \\'Improvement of speed and efficiency of rescue operations\\', nan], \\'safe\\': [\\'People do not have to put themselves in dangerous situations\\'], \\'reliable\\': [\\'Can be precisely controlled\\', nan, nan, nan, nan, \\'is always ready\\'], \\'health monitoring\\': [nan, \\'People no longer necessarily need an emergency button if an external system can watch over them and summon help when in doubt.\\'], \\'Precise execution\\': [\\'Robots perform tasks purposefully\\'], \\'Ability to learn\\': [\\'The robots are learning and being further developed, making them more efficient\\'], \\'no people necessary\\': [nan], \\'stronger than humans\\': [nan, \\'In many situations, e.g. when clearing rubble, a great advantage.\\', nan, nan], \\'faster than humans\\': [nan, nan], \\'precise handling\\': [nan], \\'reliability\\': [nan, \\'Machines can accomplish their tasks reliably and reproducibly (provided they are well programmed and built)\\', nan, nan, nan], \\'always correct\\': [nan], \\'protection of rescue forces\\': [\\'for example in contamination scenarios\\', \\'Reduced deployment of human rescue forces in dangerous situations\\', nan, \\'human rescuers do not have to put themselves in danger\\'], \\'in danger zones\\': [nan], \\'toxic places\\': [\\'Places where people can only breathe with special equipment (gas mask)\\'], \\'no distraction\\': [nan], \\'by injuries\\': [nan], \\'consistent\\': [nan], \\'consistent performance\\': [nan], \\'emergency monitoring\\': [\\'Depending on how a robot is equipped, it could respond very quickly in an emergency, faster than a human.\\'], \\'more strong\\': [nan], \\'without basic need\\': [\\'Water, sleep, food etc.\\'], \\'faster intervention\\': [nan], \\'area of application\\': [\\'Can be used in areas too dangerous for humans\\', \\'Can be used in areas that are too dangerous for humans.\\'], \\'reaching hard-to-access places\\': [\\'Robots and drones are small and agile. Therefore, they can reach places that are difficult or even dangerous for humans to reach.\\'], \\'discover dangerous areas\\': [nan], \\'quick processing\\': [nan], \\'care of people\\': [nan], \\'perform operations\\': [\\'disease\\'], \\'enter dangerous situation\\': [nan], \\'No illness\\': [\\'Robots do not get infected, they do not spread diseases, and they do not get sick.\\'], \\'less risk\\': [nan, \\'Specifically less risk to further human lives, as rescue teams can use robots\\'], \\'efficiency in search\\': [nan], \\'no fatigue\\': [nan, \\'Unlike human rescuers, robots do not tire even during long operations\\'], \\'cover dangerous areas\\': [\\'even where it is dangerous for humans, a robot can go there\\'], \\'precision & accuracy\\': [nan], \\'no human errors\\': [nan], \\'more attentive\\': [nan], \\'use in dangerous situations\\': [\\'Rescue robots can be used in dangerous situations where humans are exposed to too high a risk.\\'], \\'can act quickly\\': [\\'Robots can intervene quickly, as they do not need to be dressed or prepared and are autonomous\\', \\'The robots can act faster than a human in an emergency.\\'], \\'No exhaustion\\': [nan], \\'Range\\': [\\'Robots, again just the drone can rescue victims faster in difficult terrain or bring help, e.g. medicine, food\\'], \\'accessibility of inaccessible places\\': [nan], \\'improved approach\\': [nan], \\'precise work\\': [nan, nan], \\'rescue of people\\': [nan], \\'deployment possibility\\': [\\'Also possible under dangerous conditions\\'], \\'replaceable\\': [\\'In case of loss, no human sacrifice\\', \\'During operations, unlike human rescuers, there is no need to pay attention to the safety of the robots, as they can be easily replaced.\\'], \\'unrestricted access\\': [\\'Robots can operate in environments that would be toxic to humans, e.g. areas contaminated with radiation.\\'], \\'sparing human life\\': [\\'If robots are used instead of human rescuers, the lives and health of the rescuers do not have to be put at risk.\\'], \\'reduced risk\\': [\\'By using robots, no human forces are exposed to dangerous situations\\'], \\'precision\\': [nan], \\'more targeted help\\': [nan], \\'saves lives\\': [\\'For example, when human helpers are not available, a rescue robot can still save human lives.\\', \\'send a robot into a danger zone instead of a human\\', nan], \\'protects aid workers\\': [\\'Since employees are not unnecessarily exposed to dangers, strictly speaking, this also saves their lives.\\'], \\'fewer mistakes\\': [nan], \\'overall more productive\\': [nan], \\'greater accuracy\\': [nan], \\'usable in emergencies\\': [\\'To inspect debris more accurately\\'], \\'protection of rescue personnel\\': [nan], \\'accessibility of places\\': [\\'Accessibility difficult to reach\\'], \\'increased efficiency\\': [nan], \\'faster recovery\\': [\\'One could send robots into the fire without danger to human lives, etc, to combat the cause more quickly.\\'], \\'weather independent\\': [\\'Even in storms etc., perhaps an option for critical tasks\\'], \\'safety for emergency personnel\\': [nan], \\'strength (power)\\': [\\'for example, for lifting debris parts\\'], \\'quick action\\': [nan], \\'no danger\\': [\\'For human rescue forces in action\\', \\'No human doctor etc. needs to enter the operating area and thus it is significantly safer and therefore protects human lives.\\'], \\'efficiency\\': [nan, \\'Robots could be more capable in disaster cases than human helpers.\\', nan, \\'Robots are not limited to human speed, vision, and perception in general.\\', nan, \\'both equally fast work, more productive way of working as well as improved access to danger zones\\', nan], \\'access to areas\\': [\\'Access to areas difficult or only reachable through considerable dangers for people\\'], \\'vital objects\\': [\\'Victims receive vitally important things, such as water, food, and medicine\\'], \\'rescue forces safety\\': [\\'Emergency services can avoid dangers if, for example, pictures of the location were taken by robots.\\'], \\'more/ easier access\\': [\\'Robots can create (easier) access to places where it would otherwise be more difficult.\\'], \\'reduce number of victims\\': [\\'Robots could make rescue operations more efficient and faster, potentially saving more victims.\\'], \\'no life endangered\\': [nan], \\'can save lives\\': [nan, nan], \\'not emotionally driven\\': [nan], \\'focused\\': [nan], \\'exclusion of human error\\': [nan], \\'flexible\\': [\\'The robot could operate in dangerous areas and is therefore not limited.\\', nan, nan, nan], \\'stronger than human\\': [\\'Specially equipped machines could help trapped victims quicker and more efficiently.\\'], \\'chances of success\\': [\\'A reliable and error-free rescue robot could therefore save people faster and more than a human.\\'], \\'accuracy of execution\\': [nan], \\'enter dangerous areas\\': [nan], \\'do not get distracted\\': [\\'Rescue robots follow their programming and can focus better on the rescue without being influenced by emotions.\\'], \\'speed / agility\\': [nan], \\'real-time data\\': [nan], \\'strength\\': [nan, \\'the robot can, for example, move objects that a human could not move\\'], \\'simplified access\\': [nan], \\'quick help\\': [nan, nan, nan], \\'risk-free rescue\\': [\\'From the side of the rescuers, who do not have to put themselves in danger\\'], \\'better CPR\\': [nan], \\'life-threatening places\\': [\\'The possibility of entering dangerous places that people do not dare to approach, such as wreck parts, battlefields, etc.\\', nan], \\'more reliable than humans\\': [nan], \\'reach dangerous places\\': [nan], \\'do not get tired\\': [nan, nan], \\'cannot die\\': [nan], \\'\"small\" operations\\': [\\'Especially good for smaller operations and possibly the transport\\'], \\'toxic environment\\': [nan], \\'safer for humans\\': [nan, nan], \\'dexterity\\': [\\'Often higher skill than human rescuers\\'], \\'responsiveness\\': [\\'Robots have a significantly higher reaction capability than human rescuers\\'], \\'Accuracy of rescue robots\\': [\\'this way human errors can be reduced\\'], \\'quality/precision\\': [nan], \\'quantity\\': [\\'more rescue operations or more people saved possible\\'], \\'fewer deaths\\': [nan], \\'faster operation\\': [nan], \\'accuracy\\': [nan, nan], \\'faster help\\': [\\'Since the risk to life is lower, rescue workers can send a robot before a complete analysis of the problem area is available.\\'], \\'stronger\\': [\\'Robots might potentially be able to move things that humans would have great difficulty with.\\'], \\'Not susceptible to infection\\': [\\'Robots are insensitive to infections.\\'], \\'24/7 readiness\\': [nan], \\'access to hard-to-reach places\\': [nan], \\'human safety\\': [nan], \\'useful addition\\': [\\'To human rescuers.\\'], \\'\"dare\" more\\': [\\'can also be used in war zones, only material loss through explosives\\'], \\'eyes and ears\\': [\\'for the rescue forces from a safe distance\\'], \\'less danger\\': [\\'for human rescue forces\\', nan, nan], \\'dangerous areas\\': [nan, nan], \\'endurance\\': [nan], \\'performance\\': [nan], \\'rescue and safety\\': [nan], \\'danger\\': [\\'less human danger\\'], \\'no rescuer endangered\\': [nan], \\'access\\': [\\'access to areas where people cannot reach\\'], \\'rational efficiency\\': [\\'No suicidal experiments in rescue\\'], \\'quick deployment\\': [nan, nan], \\'no exhaustion\\': [nan], \\'save many people\\': [nan], \\'Adaptability\\': [nan, nan], \\'continuous monitoring\\': [nan], \\'not tired\\': [nan], \\'more human rescue\\': [nan], \\'easier finding\\': [\\'Through their sensors like thermal imaging, the robots can better find people.\\'], \\'do not lose strength\\': [\\'Robots do not lose stamina while humans could lose strength during missions.\\'], \\'delivery of goods\\': [\\'Robots can, for example, deliver goods in war zones, which would be dangerous for humans.\\'], \\'faster abolition\\': [\\'Rescue robots could shorten the path to doctors/hospitals and the abolition of injured people.\\'], \\'safety risks\\': [nan], \\'can be replaced\\': [\\'Robots can be replaced by other robots in case of loss\\'], \\'better search capabilities\\': [\\'Robots can search better in the dark and in smoke etc because they have numerous sensors\\'], \\'for danger\\': [\\'can be used in times of danger instead of humans\\'], \\'efficient reconnaissance work\\': [\\'Through algorithms, maps can be read and created more quickly\\'], \\'rescue efficient and\\': [nan], \\'higher utilization\\': [\\'the robots can be used continuously\\'], \\'faster access\\': [\\'easier access to dangerous place\\'], \\'error reduction\\': [nan], \\'simplification of difficult situations\\': [\\'Many rescue situations prove difficult for people to reach or to intervene, automation can clearly help here.\\'], \\'accessibility of special regions\\': [nan], \\'risk reduction for aid workers\\': [\\'Should people go into difficult areas, for example for avalanche rescue, they put themselves in danger\\'], \\'fire department support\\': [nan], \\'risk\\': [\\'In dangerous environments or situations, there is of course much less risk for the people\\'], \\'dispensable\\': [\\'the loss of a robot is less tragic than the loss of a human rescuer\\'], \\'immune\\': [\\'a robot is immune to many dangers that would be deadly for humans such as smoke gases, chemicals, temperatures\\'], \\'protects people\\': [\\'No human risks necessary\\'], \\'surpasses human rescuers\\': [\\'Can be used in situations where people cannot reach\\'], \\'low risk\\': [nan], \\'safety for rescue workers\\': [nan], \\'access to dangerous area\\': [nan], \\'no performance drop\\': [nan], \\'follows instructions precisely\\': [nan], \\'earthquake rescue\\': [nan], \\'lifting heavy weights\\': [nan], \\'risk minimization\\': [\\'Approximately during search actions in risky areas\\'], \\'precision in search\\': [nan], \\'More flexible than human\\': [\\'People cannot access some areas or cannot see whether people are still alive. For example, in an earthquake incident under the rubble.\\'], \\'Faster than human\\': [\\'In an earthquake, for example, recently in Turkey, the help arrived too late and this led to more loss. Robots would be more flexible and could be used faster, rather than gathering all people together and rushing to help.\\'], \\'Stronger than human\\': [\\'As already mentioned, many people lost their lives in the earthquake in Turkey, and this was because human strength was not enough at a certain point. For example, the walls that fell on people could not be lifted, which is why arms and legs had to be cut off. If the robot was there, it could show more strength and lift the wall.\\'], \\'speed\\': [\\'the robot can probably save faster than a human\\'], \\'accessibility of contaminated places\\': [\\'Poisonous gases, smoke, radiation etc. play no role\\'], \\'can be stronger\\': [nan], \\'can work long\\': [nan], \\'are physically superior\\': [\\'Strength, agility, mobility\\'], \\'are mentally superior\\': [\\'No trauma for rescuers\\'], \\'use in dangerous areas\\': [nan], \\'use in inaccessibility\\': [nan], \\'accuracy of work\\': [nan], \\'does not risk human lives\\': [nan]}\\n\\nList \"soft\": \\n{\\'lower risk of injury\\': [nan, \\'through soft robots\\', nan, \\'due to their softness\\', \\'With soft robots\\', nan, \\'Lower risk of injury due to the adaptability of the robot\\', nan], \\'flexible\\': [nan, nan, nan], \\'low risk of injury\\': [nan, nan, nan, \\'Due to the fact that a soft robot is not made of metal, but rather soft, the risk is lower.\\', nan, \\'In comparison to hard plastic/metal\\', nan, \\'with soft robots\\', \\'helping hand\\'], \\'safety\\': [\\'Soft material reduces risk of injury\\'], \\'robots are more efficient\\': [nan], \\'knowledge\\': [\\'You get the information from the internet and can capture and assign the data faster than humans.\\', nan], \\'less risk of injury\\': [nan, nan, nan], \\'reduction of injury risk\\': [nan, nan, \"compared to \\'soft\\' rescue robots; valid for hard rescue robots\", nan, nan], \\'delivery of supplies\\': [nan], \\'precise work\\': [nan], \\'food/water transport\\': [nan], \\'animal protection\\': [\\'Using a soft robot instead of an animal protects the animal from potentially harmful behavior by the owner.\\'], \\'reach the inaccessible\\': [nan], \\'reduce risk of injury\\': [nan], \\'reliable\\': [\\'is always ready\\'], \\'direct help\\': [\\'through water/food\\'], \\'reduced risk of injury\\': [\\'through soft materials\\', \\'the victim due to the organic construction method\\', nan, nan], \\'time savings in emergencies\\': [nan], \\'care of victims\\': [nan], \\'exploration\\': [\\'Assess the safety of the dangerous area\\'], \\'supply with food\\': [nan, nan], \\'adaptability\\': [nan], \\'few physical risks\\': [\\'e.g. through injuries\\'], \\'accessible tight spaces\\': [\\'Due to their flexibility, they can access narrow spaces that are not accessible to people.\\'], \\'decision-making options\\': [\\'in theory, a robot should be able to make a logical decision better than a human because emotions etc. cannot cloud a decision\\'], \\'injury prevention\\': [nan], \\'more people saved\\': [nan], \\'low risks\\': [\\'Soft robots pose only a low risk to the victims due to their flexibility.\\'], \\'life-threatening places\\': [nan], \\'vital help\\': [nan], \\'more flexible than humans\\': [nan], \\'fast\\': [\\'faster than a human to distribute aid supplies.\\'], \\'Adaptability\\': [nan], \\'camera images\\': [\\'To perform an image analysis in retrospect\\'], \\'human error susceptibility\\': [nan], \\'medication supply\\': [nan], \\'inaccessible areas\\': [nan]}', additional_kwargs={}, response_metadata={})]\n"
     ]
    }
   ],
   "source": [
    "from langchain_core.prompts import ChatPromptTemplate\n",
    "\n",
    "\n",
    "system_template = \"\"\"\n",
    "You are a researcher summarizing two word lists that represent people's assessments of rigid and soft robots, whereby laypersons were informed about the risks and benefits of {robots} through scenario texts.\n",
    "\n",
    "Participants shared their views on traditional rigid robots in a \"rigid\" list and on flexible, electronic-free soft robots in a \"soft\" list after learning about their respective risks and benefits. \n",
    "The overall theme is {topicCategory}.\n",
    "\n",
    "Both \"rigid\" and \"soft\" lists are dictionaries with argument keys and comment values. If [nan] appears, it means no comment was provided; repeated entries or [nan] values indicate that the argument was emphasized multiple times.\n",
    "\n",
    "Your task:\n",
    "Summarize the main points for each category into a JSON object. Fill the two arrays within the JSON object, \"rigid_arguments\" for the \"rigid\" list and \"soft_arguments\" for the \"soft\" list. \n",
    "Summarize the main points for each category in a JSON object. Populate the two arrays, \"rigid_arguments\" and \"soft_arguments,\" with up to five key arguments each. \n",
    "Include a brief, interrelated explanation (up to two sentences) for each argument, derived from the provided lists.\n",
    "\n",
    "\n",
    "Output Format:\n",
    "\n",
    "{{\n",
    "  \"assessments\": {{\n",
    "    \"rigid_arguments\": [\n",
    "      {{\n",
    "        \"argument\": \"argument1\",\n",
    "        \"explanation\": \"explanation of argument1\"\n",
    "      }},\n",
    "      {{\n",
    "        \"argument\": \"argument2\",\n",
    "        \"explanation\": \"explanation of argument2\"\n",
    "      }},\n",
    "      ...\n",
    "    ],\n",
    "    \"soft_arguments\": [\n",
    "      {{\n",
    "        \"argument\": \"argument1\",\n",
    "        \"explanation\": \"explanation of argument1\"\n",
    "      }},\n",
    "      {{\n",
    "        \"argument\": \"argument2\",\n",
    "        \"explanation\": \"explanation of argument2\"\n",
    "      }},\n",
    "      ...\n",
    "    ]\n",
    "  }}\n",
    "}}\n",
    "\n",
    "Please respond with the entire JSON structure as specified, providing up to five arguments for each list, and without any additional commentary or context.\n",
    "\"\"\"\n",
    "\n",
    "\n",
    "user_template = \"\"\"List \"rigid\": \n",
    "{rigid}\n",
    "\n",
    "List \"soft\": \n",
    "{soft}\"\"\"\n",
    "\n",
    "# rescue robots and socially assistive robots\n",
    "prompt_template = ChatPromptTemplate.from_messages(\n",
    "    [(\"system\", system_template), (\"user\", user_template)]\n",
    ")\n",
    "\n",
    "template_out = prompt_template.invoke({\"robots\": \"rescue robots and socially assistive robots\", \"topicCategory\": abbreviations_dict[sheet_name], \"rigid\": constant_comments_mapping, \"soft\": new_comments_mapping})\n",
    "print(template_out)\n",
    "\n",
    "print(\"template_out:\", template_out)\n",
    "print(\"template_out.to_messages():\", template_out.to_messages())"
   ]
  },
  {
   "cell_type": "markdown",
   "metadata": {},
   "source": [
    "### Single Run\n",
    "\n",
    "Function to call LLM:"
   ]
  },
  {
   "cell_type": "code",
   "execution_count": 25,
   "metadata": {},
   "outputs": [],
   "source": [
    "from langchain_openai import ChatOpenAI\n",
    "from langchain.callbacks import get_openai_callback\n",
    "\n",
    "def huggingface_API_call(\n",
    "    prompt,\n",
    "    \n",
    "    robots,\n",
    "    topicCategory,\n",
    "    dictonaryRigid,\n",
    "    dictonarySoft,\n",
    "    \n",
    "    api_key=key.hugging_api_key,\n",
    "\n",
    "    model_name=\"meta-llama/Meta-Llama-3-70B-Instruct\",\n",
    "    json_schema=None,\n",
    "    max_tokens=1000,\n",
    "    temperature=0.2,\n",
    "    verbose=True\n",
    "):\n",
    "\n",
    "    # Initialize the ChatOpenAI model for Hugging Face\n",
    "    model = ChatOpenAI(\n",
    "        model=model_name,\n",
    "        openai_api_key=api_key,\n",
    "        openai_api_base=\"https://api-inference.huggingface.co/v1/\",\n",
    "        max_tokens=max_tokens,\n",
    "        temperature=temperature\n",
    "    )\n",
    "\n",
    "    # Check if structured output is required and configure it\n",
    "    if json_schema:\n",
    "        structured_llm = model.with_structured_output(json_schema, include_raw=True)\n",
    "        chain = prompt | structured_llm\n",
    "    else:\n",
    "        chain = prompt | model\n",
    "\n",
    "    # Execute the model and output response details\n",
    "    with get_openai_callback() as cb:\n",
    "        response = chain.invoke(\n",
    "            {\"robots\": robots, \"topicCategory\": topicCategory, \"rigid\": dictonaryRigid, \"soft\": dictonarySoft}\n",
    "        )\n",
    "        \n",
    "        if cb.total_tokens > max_tokens:\n",
    "            print(\"Warning: The response may be incomplete due to exceeding the maximum token limit.\")\n",
    "        \n",
    "        if verbose:\n",
    "            print(cb)\n",
    "            print(f\"Total Tokens: {cb.total_tokens}\")\n",
    "            print(f\"Prompt Tokens: {cb.prompt_tokens}\")\n",
    "            print(f\"Completion Tokens: {cb.completion_tokens}\")\n",
    "            print(f\"Total Cost (USD): ${cb.total_cost}\")\n",
    "\n",
    "    return response"
   ]
  },
  {
   "cell_type": "code",
   "execution_count": 26,
   "metadata": {},
   "outputs": [
    {
     "name": "stdout",
     "output_type": "stream",
     "text": [
      "Warning: The response may be incomplete due to exceeding the maximum token limit.\n",
      "Tokens Used: 4429\n",
      "\tPrompt Tokens: 3949\n",
      "\tCompletion Tokens: 480\n",
      "Successful Requests: 1\n",
      "Total Cost (USD): $0.0\n",
      "Total Tokens: 4429\n",
      "Prompt Tokens: 3949\n",
      "Completion Tokens: 480\n",
      "Total Cost (USD): $0.0\n"
     ]
    }
   ],
   "source": [
    "response = huggingface_API_call(\n",
    "    prompt=prompt_template,\n",
    "    \n",
    "    robots=\"rescue robots and socially assistive robots\",\n",
    "    topicCategory=abbreviations_dict[sheet_name],\n",
    "    dictonaryRigid=constant_comments_mapping,\n",
    "    dictonarySoft=new_comments_mapping,\n",
    "    \n",
    "    api_key=key.hugging_api_key,\n",
    "    model_name=\"meta-llama/Meta-Llama-3-70B-Instruct\",\n",
    "\n",
    "    json_schema=None,\n",
    "    max_tokens=4000,\n",
    "    temperature=0.2,\n",
    "    verbose=True\n",
    ")"
   ]
  },
  {
   "cell_type": "markdown",
   "metadata": {},
   "source": [
    "result - structured JSON output:"
   ]
  },
  {
   "cell_type": "code",
   "execution_count": 27,
   "metadata": {},
   "outputs": [
    {
     "data": {
      "text/plain": [
       "AIMessage(content='Here is the JSON object summarizing the main points for each category:\\n\\n```\\n{\\n  \"assessments\": {\\n    \"rigid_arguments\": [\\n      {\\n        \"argument\": \"safety\",\\n        \"explanation\": \"Rigid robots can prevent people from having to work under difficult or dangerous conditions, increasing safety and reducing the risk of injury.\"\\n      },\\n      {\\n        \"argument\": \"efficiency\",\\n        \"explanation\": \"Rigid robots can work faster and more efficiently than humans, improving the speed and effectiveness of rescue operations.\"\\n      },\\n      {\\n        \"argument\": \"reliability\",\\n        \"explanation\": \"Rigid robots can be precisely controlled and are always ready to perform tasks, making them a reliable option for rescue operations.\"\\n      },\\n      {\\n        \"argument\": \"strength\",\\n        \"explanation\": \"Rigid robots can perform tasks that require great strength, such as lifting debris, and can operate in environments that would be toxic to humans.\"\\n      },\\n      {\\n        \"argument\": \"accessibility\",\\n        \"explanation\": \"Rigid robots can access areas that are difficult or impossible for humans to reach, making them ideal for search and rescue operations.\"\\n      }\\n    ],\\n    \"soft_arguments\": [\\n      {\\n        \"argument\": \"lower risk of injury\",\\n        \"explanation\": \"Soft robots pose a lower risk of injury to victims due to their flexibility and softness, making them a safer option for rescue operations.\"\\n      },\\n      {\\n        \"argument\": \"flexibility\",\\n        \"explanation\": \"Soft robots are flexible and can adapt to different situations, making them ideal for search and rescue operations in tight or hard-to-reach spaces.\"\\n      },\\n      {\\n        \"argument\": \"reliability\",\\n        \"explanation\": \"Soft robots are reliable and can perform tasks efficiently, making them a trustworthy option for rescue operations.\"\\n      },\\n      {\\n        \"argument\": \"accessibility\",\\n        \"explanation\": \"Soft robots can access areas that are difficult or impossible for humans to reach, making them ideal for search and rescue operations.\"\\n      },\\n      {\\n        \"argument\": \"care of victims\",\\n        \"explanation\": \"Soft robots can provide direct help to victims, such as delivering food and water, and can care for them in a more gentle and safe way.\"\\n      }\\n    ]\\n  }\\n}\\n```', additional_kwargs={'refusal': None}, response_metadata={'token_usage': {'completion_tokens': 480, 'prompt_tokens': 3949, 'total_tokens': 4429, 'completion_tokens_details': None, 'prompt_tokens_details': None}, 'model_name': 'meta-llama/Meta-Llama-3-70B-Instruct', 'system_fingerprint': '2.3.1-dev0-sha-169178b', 'finish_reason': 'stop', 'logprobs': None}, id='run-0ea5ead0-a0a1-4ce0-a79f-b43984a21d9c-0', usage_metadata={'input_tokens': 3949, 'output_tokens': 480, 'total_tokens': 4429, 'input_token_details': {}, 'output_token_details': {}})"
      ]
     },
     "execution_count": 27,
     "metadata": {},
     "output_type": "execute_result"
    }
   ],
   "source": [
    "response"
   ]
  },
  {
   "cell_type": "code",
   "execution_count": 28,
   "metadata": {},
   "outputs": [
    {
     "data": {
      "text/plain": [
       "'Here is the JSON object summarizing the main points for each category:\\n\\n```\\n{\\n  \"assessments\": {\\n    \"rigid_arguments\": [\\n      {\\n        \"argument\": \"safety\",\\n        \"explanation\": \"Rigid robots can prevent people from having to work under difficult or dangerous conditions, increasing safety and reducing the risk of injury.\"\\n      },\\n      {\\n        \"argument\": \"efficiency\",\\n        \"explanation\": \"Rigid robots can work faster and more efficiently than humans, improving the speed and effectiveness of rescue operations.\"\\n      },\\n      {\\n        \"argument\": \"reliability\",\\n        \"explanation\": \"Rigid robots can be precisely controlled and are always ready to perform tasks, making them a reliable option for rescue operations.\"\\n      },\\n      {\\n        \"argument\": \"strength\",\\n        \"explanation\": \"Rigid robots can perform tasks that require great strength, such as lifting debris, and can operate in environments that would be toxic to humans.\"\\n      },\\n      {\\n        \"argument\": \"accessibility\",\\n        \"explanation\": \"Rigid robots can access areas that are difficult or impossible for humans to reach, making them ideal for search and rescue operations.\"\\n      }\\n    ],\\n    \"soft_arguments\": [\\n      {\\n        \"argument\": \"lower risk of injury\",\\n        \"explanation\": \"Soft robots pose a lower risk of injury to victims due to their flexibility and softness, making them a safer option for rescue operations.\"\\n      },\\n      {\\n        \"argument\": \"flexibility\",\\n        \"explanation\": \"Soft robots are flexible and can adapt to different situations, making them ideal for search and rescue operations in tight or hard-to-reach spaces.\"\\n      },\\n      {\\n        \"argument\": \"reliability\",\\n        \"explanation\": \"Soft robots are reliable and can perform tasks efficiently, making them a trustworthy option for rescue operations.\"\\n      },\\n      {\\n        \"argument\": \"accessibility\",\\n        \"explanation\": \"Soft robots can access areas that are difficult or impossible for humans to reach, making them ideal for search and rescue operations.\"\\n      },\\n      {\\n        \"argument\": \"care of victims\",\\n        \"explanation\": \"Soft robots can provide direct help to victims, such as delivering food and water, and can care for them in a more gentle and safe way.\"\\n      }\\n    ]\\n  }\\n}\\n```'"
      ]
     },
     "execution_count": 28,
     "metadata": {},
     "output_type": "execute_result"
    }
   ],
   "source": [
    "response.content"
   ]
  },
  {
   "cell_type": "code",
   "execution_count": 29,
   "metadata": {},
   "outputs": [
    {
     "name": "stdout",
     "output_type": "stream",
     "text": [
      "Valid JSON object after regex: {\n",
      "  \"assessments\": {\n",
      "    \"rigid_arguments\": [\n",
      "      {\n",
      "        \"argument\": \"safety\",\n",
      "        \"explanation\": \"Rigid robots can prevent people from having to work under difficult or dangerous conditions, increasing safety and reducing the risk of injury.\"\n",
      "      },\n",
      "      {\n",
      "        \"argument\": \"efficiency\",\n",
      "        \"explanation\": \"Rigid robots can work faster and more efficiently than humans, improving the speed and effectiveness of rescue operations.\"\n",
      "      },\n",
      "      {\n",
      "        \"argument\": \"reliability\",\n",
      "        \"explanation\": \"Rigid robots can be precisely controlled and are always ready to perform tasks, making them a reliable option for rescue operations.\"\n",
      "      },\n",
      "      {\n",
      "        \"argument\": \"strength\",\n",
      "        \"explanation\": \"Rigid robots can perform tasks that require great strength, such as lifting debris, and can operate in environments that would be toxic to humans.\"\n",
      "      },\n",
      "      {\n",
      "        \"argument\": \"accessibility\",\n",
      "        \"explanation\": \"Rigid robots can access areas that are difficult or impossible for humans to reach, making them ideal for search and rescue operations.\"\n",
      "      }\n",
      "    ],\n",
      "    \"soft_arguments\": [\n",
      "      {\n",
      "        \"argument\": \"lower risk of injury\",\n",
      "        \"explanation\": \"Soft robots pose a lower risk of injury to victims due to their flexibility and softness, making them a safer option for rescue operations.\"\n",
      "      },\n",
      "      {\n",
      "        \"argument\": \"flexibility\",\n",
      "        \"explanation\": \"Soft robots are flexible and can adapt to different situations, making them ideal for search and rescue operations in tight or hard-to-reach spaces.\"\n",
      "      },\n",
      "      {\n",
      "        \"argument\": \"reliability\",\n",
      "        \"explanation\": \"Soft robots are reliable and can perform tasks efficiently, making them a trustworthy option for rescue operations.\"\n",
      "      },\n",
      "      {\n",
      "        \"argument\": \"accessibility\",\n",
      "        \"explanation\": \"Soft robots can access areas that are difficult or impossible for humans to reach, making them ideal for search and rescue operations.\"\n",
      "      },\n",
      "      {\n",
      "        \"argument\": \"care of victims\",\n",
      "        \"explanation\": \"Soft robots can provide direct help to victims, such as delivering food and water, and can care for them in a more gentle and safe way.\"\n",
      "      }\n",
      "    ]\n",
      "  }\n",
      "}\n"
     ]
    }
   ],
   "source": [
    "import json\n",
    "import re\n",
    "\n",
    "try:\n",
    "    # Attempt to parse the response directly as JSON\n",
    "    data = json.loads(response.content)\n",
    "    # print(\"Valid JSON object:\", json.dumps(data, indent=2))\n",
    "except json.JSONDecodeError:\n",
    "    # If not valid JSON, handle extraction using regex to match JSON block between triple backticks (```)\n",
    "    json_match = re.search(r'```(.*?)```', response.content, re.DOTALL)\n",
    "    # If JSON block is found, parse it\n",
    "    if json_match:\n",
    "        json_text = json_match.group(1).strip()  # Extract JSON text and strip whitespace\n",
    "        try:\n",
    "            data = json.loads(json_text)   # Parse JSON\n",
    "            print(\"Valid JSON object after regex:\", json.dumps(data, indent=2))\n",
    "        except json.JSONDecodeError as e:\n",
    "            print(\"Failed to parse JSON:\", e)\n",
    "    else:\n",
    "        print(\"No JSON object found.\")"
   ]
  },
  {
   "cell_type": "code",
   "execution_count": 30,
   "metadata": {},
   "outputs": [
    {
     "name": "stdout",
     "output_type": "stream",
     "text": [
      "    type              argument  \\\n",
      "0  rigid                safety   \n",
      "1  rigid            efficiency   \n",
      "2  rigid           reliability   \n",
      "3  rigid              strength   \n",
      "4  rigid         accessibility   \n",
      "5   soft  lower risk of injury   \n",
      "6   soft           flexibility   \n",
      "7   soft           reliability   \n",
      "8   soft         accessibility   \n",
      "9   soft       care of victims   \n",
      "\n",
      "                                         explanation category  \n",
      "0  Rigid robots can prevent people from having to...       SA  \n",
      "1  Rigid robots can work faster and more efficien...       SA  \n",
      "2  Rigid robots can be precisely controlled and a...       SA  \n",
      "3  Rigid robots can perform tasks that require gr...       SA  \n",
      "4  Rigid robots can access areas that are difficu...       SA  \n",
      "5  Soft robots pose a lower risk of injury to vic...       SA  \n",
      "6  Soft robots are flexible and can adapt to diff...       SA  \n",
      "7  Soft robots are reliable and can perform tasks...       SA  \n",
      "8  Soft robots can access areas that are difficul...       SA  \n",
      "9  Soft robots can provide direct help to victims...       SA  \n"
     ]
    }
   ],
   "source": [
    "# Extract rigid and soft arguments and format them into a DataFrame\n",
    "arguments = []\n",
    "for category, items in data['assessments'].items():\n",
    "    for item in items:\n",
    "        arguments.append({\n",
    "            'type': category.split('_')[0],  # Extracts 'rigid' or 'soft' from 'rigid_arguments'/'soft_arguments'\n",
    "            'argument': item['argument'],\n",
    "            'explanation': item['explanation']\n",
    "        })\n",
    "\n",
    "# Create DataFrame\n",
    "df = pd.DataFrame(arguments)\n",
    "\n",
    "df[\"category\"] = sheet_name\n",
    "\n",
    "# Display the DataFrame\n",
    "print(df)"
   ]
  },
  {
   "cell_type": "markdown",
   "metadata": {},
   "source": [
    "### Multiple Runs\n",
    "\n",
    "Higher order function to call LLM for all categories:"
   ]
  },
  {
   "cell_type": "code",
   "execution_count": 31,
   "metadata": {},
   "outputs": [],
   "source": [
    "import json\n",
    "import pandas as pd\n",
    "import re\n",
    "\n",
    "def process_robot_data(type_robot):\n",
    "    # Define naming based on type_robot\n",
    "    if type_robot == \"RR\":\n",
    "        all_sheets = all_sheets_RR\n",
    "        naming_robots = \"rescue robots\"\n",
    "    elif type_robot == \"SAR\":\n",
    "        all_sheets = all_sheets_SAR\n",
    "        naming_robots = \"socially assistive robots\"\n",
    "    elif type_robot == \"Combined\":\n",
    "        all_sheets = all_sheets_Combined\n",
    "        naming_robots = \"rescue robots and socially assistive robots\"\n",
    "    else:\n",
    "        raise ValueError(\"Invalid type_robot specified.\")\n",
    "\n",
    "    # Initialize an empty DataFrame for concatenation\n",
    "    final_df = pd.DataFrame()\n",
    "\n",
    "    for index, category in enumerate(abbreviations_dict.keys()):\n",
    "        print(f\"index: {index}, category: {category}\")\n",
    "\n",
    "        # Load the specific DataFrame for the current category\n",
    "        df = all_sheets[category]\n",
    "\n",
    "        # Generate constant and new comments mappings\n",
    "        constant_comments_mapping = create_multivalue_dict(df, 'constant', 'constant_comments')\n",
    "        new_comments_mapping = create_multivalue_dict(df, 'new', 'new_comments')\n",
    "\n",
    "        # Call API with specified parameters\n",
    "        response = huggingface_API_call(\n",
    "            prompt=prompt_template,\n",
    "            robots=naming_robots,\n",
    "            topicCategory=abbreviations_dict[category],\n",
    "            dictonaryRigid=constant_comments_mapping,\n",
    "            dictonarySoft=new_comments_mapping,\n",
    "            api_key=key.hugging_api_key,\n",
    "            model_name=\"meta-llama/Meta-Llama-3-70B-Instruct\",\n",
    "            json_schema=None,\n",
    "            max_tokens=4200,\n",
    "            temperature=0.0,\n",
    "            verbose=False\n",
    "        )\n",
    "        \n",
    "        # print(\"response.content:\\n\", response.content)\n",
    "        #  data = json.loads(response.content)\n",
    "        # Regular expression to match JSON block between triple backticks (```)\n",
    "        try:\n",
    "            # Attempt to parse the response directly as JSON\n",
    "            data = json.loads(response.content)\n",
    "            # print(\"Valid JSON object:\", json.dumps(data, indent=2))\n",
    "        except json.JSONDecodeError:\n",
    "            # If not valid JSON, handle extraction using regex to match JSON block between triple backticks (```)\n",
    "            json_match = re.search(r'```(.*?)```', response.content, re.DOTALL)\n",
    "            # If JSON block is found, parse it\n",
    "            if json_match:\n",
    "                json_text = json_match.group(1).strip()  # Extract JSON text and strip whitespace\n",
    "                try:\n",
    "                    data = json.loads(json_text)   # Parse JSON\n",
    "                    # print(\"Valid JSON object after regex:\", json.dumps(data, indent=2))\n",
    "                except json.JSONDecodeError as e:\n",
    "                    print(\"Failed to parse JSON:\", e)\n",
    "                    # break # !!!\n",
    "            else:\n",
    "                print(\"No JSON object found.\")\n",
    "                # break # !!!\n",
    "\n",
    "        # Extract arguments and format them into a temporary DataFrame\n",
    "        arguments = []\n",
    "        for arg_category, items in data['assessments'].items():\n",
    "            for item in items:\n",
    "                arguments.append({\n",
    "                    'type': arg_category.split('_')[0],\n",
    "                    'argument': item['argument'],\n",
    "                    'explanation': item['explanation']\n",
    "                })\n",
    "\n",
    "        df_tmp = pd.DataFrame(arguments)\n",
    "        df_tmp[\"category\"] = category\n",
    "        \n",
    "        print(f\"length of df_tmp: {len(df_tmp)}\")\n",
    "\n",
    "        # Concatenate the current DataFrame to the final DataFrame\n",
    "        final_df = pd.concat([final_df, df_tmp], ignore_index=True)\n",
    "\n",
    "    return final_df"
   ]
  },
  {
   "cell_type": "markdown",
   "metadata": {},
   "source": [
    "logic if process_robot_data() should be run:"
   ]
  },
  {
   "cell_type": "code",
   "execution_count": 32,
   "metadata": {},
   "outputs": [],
   "source": [
    "run_process_robot_data = False # True"
   ]
  },
  {
   "cell_type": "markdown",
   "metadata": {},
   "source": [
    "for rescue robots:"
   ]
  },
  {
   "cell_type": "code",
   "execution_count": 33,
   "metadata": {},
   "outputs": [],
   "source": [
    "# Path to your Excel file\n",
    "file_path = directory + \"/output/G2/\" + \"rescue robots\" + \".xlsx\"\n",
    "\n",
    "if run_process_robot_data:\n",
    "    df_RR = process_robot_data(type_robot=\"RR\")\n",
    "    # save the dataframe to an Excel file\n",
    "    df_RR.to_excel(file_path, index=False)\n",
    "else:\n",
    "    df_RR = pd.read_excel(file_path)"
   ]
  },
  {
   "cell_type": "markdown",
   "metadata": {},
   "source": [
    "for socially assistive robots:"
   ]
  },
  {
   "cell_type": "code",
   "execution_count": 34,
   "metadata": {},
   "outputs": [],
   "source": [
    "# Path to your Excel file\n",
    "file_path = directory + \"/output/G2/\" + \"socially assistive robots\" + \".xlsx\"\n",
    "    \n",
    "if run_process_robot_data:\n",
    "    df_SAR = process_robot_data(type_robot=\"SAR\")\n",
    "    # save the dataframe to an Excel file\n",
    "    df_SAR.to_excel(file_path, index=False)\n",
    "else:\n",
    "    df_SAR = pd.read_excel(file_path)"
   ]
  },
  {
   "cell_type": "markdown",
   "metadata": {},
   "source": [
    "for rescue robots and socially assistive robots:"
   ]
  },
  {
   "cell_type": "code",
   "execution_count": 35,
   "metadata": {},
   "outputs": [],
   "source": [
    "# Path to your Excel file\n",
    "file_path = directory + \"/output/G2/\" + \"rescue robots AND socially assistive robots\" + \".xlsx\"\n",
    "\n",
    "if run_process_robot_data:\n",
    "    df_Combined = process_robot_data(type_robot=\"Combined\")\n",
    "    # save the dataframe to an Excel file\n",
    "    df_Combined.to_excel(file_path, index=False)\n",
    "else:\n",
    "    df_Combined = pd.read_excel(file_path)"
   ]
  },
  {
   "cell_type": "markdown",
   "metadata": {},
   "source": [
    "### Summarize Generated Data for A, B graph (G2)"
   ]
  },
  {
   "cell_type": "code",
   "execution_count": 36,
   "metadata": {},
   "outputs": [],
   "source": [
    "tmp_rigid = df_RR[(df_RR[\"category\"] == \"TP\") & (df_RR[\"type\"] == \"rigid\")]\n",
    "tmp_soft = df_RR[(df_RR[\"category\"] == \"TP\") & (df_RR[\"type\"] == \"soft\")]\n",
    "\n",
    "tmp_string_rigid = 'Arguments for \"rigid\" robots:'\n",
    "for index, row in tmp_rigid.iterrows():\n",
    "    tmp_string_rigid += \" \\n \" + row[\"argument\"]\n",
    "    tmp_string_rigid += \": \" + row[\"explanation\"]\n",
    "    \n",
    "tmp_string_soft = 'Arguments for \"soft\" robots:'\n",
    "for index, row in tmp_soft.iterrows():\n",
    "    tmp_string_soft += \" \\n \" + row[\"argument\"]\n",
    "    tmp_string_soft += \": \" + row[\"explanation\"]"
   ]
  },
  {
   "cell_type": "code",
   "execution_count": 37,
   "metadata": {},
   "outputs": [
    {
     "data": {
      "text/plain": [
       "'Arguments for \"rigid\" robots: \\n new places: Rigid robots can search in places where people cannot reach, such as underwater caves or narrow openings. \\n resilience: Rigid robots can withstand adverse conditions, making them more effective in disaster areas. \\n special abilities: Rigid robots can perform special tasks like flying, hacking doors, or sending images to the control center with cameras. \\n environment-independent: Rigid robots can operate in various environments, including air, water, and ground, and can withstand toxic or narrow environments. \\n more power: Rigid robots can have more strength than humans, allowing them to perform tasks that require heavy lifting or drilling.'"
      ]
     },
     "execution_count": 37,
     "metadata": {},
     "output_type": "execute_result"
    }
   ],
   "source": [
    "tmp_string_rigid"
   ]
  },
  {
   "cell_type": "code",
   "execution_count": 38,
   "metadata": {},
   "outputs": [
    {
     "data": {
      "text/plain": [
       "'Arguments for \"soft\" robots: \\n deliver supplies: Soft robots can deliver essential goods like food, water, and medicine to victims in hard-to-reach areas. \\n accessible: Soft robots can reach inaccessible places due to their small size and high flexibility, allowing them to supply victims with vital resources. \\n care for victims: Soft robots can provide care for victims during the rescue operation, such as delivering food and medicine. \\n adaptability: Soft robots can adapt to complex problems and changing situations, making them effective in disaster areas. \\n temporary supply: Soft robots can provide temporary supply of vital resources to victims until human rescuers arrive.'"
      ]
     },
     "execution_count": 38,
     "metadata": {},
     "output_type": "execute_result"
    }
   ],
   "source": [
    "tmp_string_soft"
   ]
  },
  {
   "cell_type": "markdown",
   "metadata": {},
   "source": [
    "Prompt to get summary (focus on overlapping, diverging arguments) for A, B graph regarding single categories:"
   ]
  },
  {
   "cell_type": "code",
   "execution_count": 39,
   "metadata": {},
   "outputs": [
    {
     "name": "stdout",
     "output_type": "stream",
     "text": [
      "messages=[SystemMessage(content='\\nYou are a researcher summarizing central arguments and their explenations of people\\'s assessments of rigid and soft robots, \\nwhereby laypersons were informed about the risks and benefits of rescue robots through scenario texts.\\n\\nParticipants shared their central arguments and explenations on traditional rigid robots in arguments for \"rigid\" robots \\nand on flexible, electronic-free soft robots in arguments for \"soft\" robots.\\n\\nThe overall theme of these arguments is perceived technological possibilities.\\n\\nYour task:\\n\\nWrite a paragraph highlighting the commonalities of the arguments for rigid and soft robots followed by a brief discussion of the main differences, \\nfocusing stronger on the arguments for soft robots. \\n\\nThe paragraph should be limited to four sentences. Provide only the paragraph without any additional commentary or context.\\n', additional_kwargs={}, response_metadata={}), HumanMessage(content='arguments for \"rigid\" robots: \\nArguments for \"rigid\" robots: \\n new places: Rigid robots can search in places where people cannot reach, such as underwater caves or narrow openings. \\n resilience: Rigid robots can withstand adverse conditions, making them more effective in disaster areas. \\n special abilities: Rigid robots can perform special tasks like flying, hacking doors, or sending images to the control center with cameras. \\n environment-independent: Rigid robots can operate in various environments, including air, water, and ground, and can withstand toxic or narrow environments. \\n more power: Rigid robots can have more strength than humans, allowing them to perform tasks that require heavy lifting or drilling.\\n\\narguments for \"soft\" robots: \\nArguments for \"soft\" robots: \\n deliver supplies: Soft robots can deliver essential goods like food, water, and medicine to victims in hard-to-reach areas. \\n accessible: Soft robots can reach inaccessible places due to their small size and high flexibility, allowing them to supply victims with vital resources. \\n care for victims: Soft robots can provide care for victims during the rescue operation, such as delivering food and medicine. \\n adaptability: Soft robots can adapt to complex problems and changing situations, making them effective in disaster areas. \\n temporary supply: Soft robots can provide temporary supply of vital resources to victims until human rescuers arrive.', additional_kwargs={}, response_metadata={})]\n",
      "template_out: messages=[SystemMessage(content='\\nYou are a researcher summarizing central arguments and their explenations of people\\'s assessments of rigid and soft robots, \\nwhereby laypersons were informed about the risks and benefits of rescue robots through scenario texts.\\n\\nParticipants shared their central arguments and explenations on traditional rigid robots in arguments for \"rigid\" robots \\nand on flexible, electronic-free soft robots in arguments for \"soft\" robots.\\n\\nThe overall theme of these arguments is perceived technological possibilities.\\n\\nYour task:\\n\\nWrite a paragraph highlighting the commonalities of the arguments for rigid and soft robots followed by a brief discussion of the main differences, \\nfocusing stronger on the arguments for soft robots. \\n\\nThe paragraph should be limited to four sentences. Provide only the paragraph without any additional commentary or context.\\n', additional_kwargs={}, response_metadata={}), HumanMessage(content='arguments for \"rigid\" robots: \\nArguments for \"rigid\" robots: \\n new places: Rigid robots can search in places where people cannot reach, such as underwater caves or narrow openings. \\n resilience: Rigid robots can withstand adverse conditions, making them more effective in disaster areas. \\n special abilities: Rigid robots can perform special tasks like flying, hacking doors, or sending images to the control center with cameras. \\n environment-independent: Rigid robots can operate in various environments, including air, water, and ground, and can withstand toxic or narrow environments. \\n more power: Rigid robots can have more strength than humans, allowing them to perform tasks that require heavy lifting or drilling.\\n\\narguments for \"soft\" robots: \\nArguments for \"soft\" robots: \\n deliver supplies: Soft robots can deliver essential goods like food, water, and medicine to victims in hard-to-reach areas. \\n accessible: Soft robots can reach inaccessible places due to their small size and high flexibility, allowing them to supply victims with vital resources. \\n care for victims: Soft robots can provide care for victims during the rescue operation, such as delivering food and medicine. \\n adaptability: Soft robots can adapt to complex problems and changing situations, making them effective in disaster areas. \\n temporary supply: Soft robots can provide temporary supply of vital resources to victims until human rescuers arrive.', additional_kwargs={}, response_metadata={})]\n",
      "template_out.to_messages(): [SystemMessage(content='\\nYou are a researcher summarizing central arguments and their explenations of people\\'s assessments of rigid and soft robots, \\nwhereby laypersons were informed about the risks and benefits of rescue robots through scenario texts.\\n\\nParticipants shared their central arguments and explenations on traditional rigid robots in arguments for \"rigid\" robots \\nand on flexible, electronic-free soft robots in arguments for \"soft\" robots.\\n\\nThe overall theme of these arguments is perceived technological possibilities.\\n\\nYour task:\\n\\nWrite a paragraph highlighting the commonalities of the arguments for rigid and soft robots followed by a brief discussion of the main differences, \\nfocusing stronger on the arguments for soft robots. \\n\\nThe paragraph should be limited to four sentences. Provide only the paragraph without any additional commentary or context.\\n', additional_kwargs={}, response_metadata={}), HumanMessage(content='arguments for \"rigid\" robots: \\nArguments for \"rigid\" robots: \\n new places: Rigid robots can search in places where people cannot reach, such as underwater caves or narrow openings. \\n resilience: Rigid robots can withstand adverse conditions, making them more effective in disaster areas. \\n special abilities: Rigid robots can perform special tasks like flying, hacking doors, or sending images to the control center with cameras. \\n environment-independent: Rigid robots can operate in various environments, including air, water, and ground, and can withstand toxic or narrow environments. \\n more power: Rigid robots can have more strength than humans, allowing them to perform tasks that require heavy lifting or drilling.\\n\\narguments for \"soft\" robots: \\nArguments for \"soft\" robots: \\n deliver supplies: Soft robots can deliver essential goods like food, water, and medicine to victims in hard-to-reach areas. \\n accessible: Soft robots can reach inaccessible places due to their small size and high flexibility, allowing them to supply victims with vital resources. \\n care for victims: Soft robots can provide care for victims during the rescue operation, such as delivering food and medicine. \\n adaptability: Soft robots can adapt to complex problems and changing situations, making them effective in disaster areas. \\n temporary supply: Soft robots can provide temporary supply of vital resources to victims until human rescuers arrive.', additional_kwargs={}, response_metadata={})]\n"
     ]
    }
   ],
   "source": [
    "from langchain_core.prompts import ChatPromptTemplate\n",
    "\n",
    "\n",
    "system_template = \"\"\"\n",
    "You are a researcher summarizing central arguments and their explenations of people's assessments of rigid and soft robots, \n",
    "whereby laypersons were informed about the risks and benefits of {robots} through scenario texts.\n",
    "\n",
    "Participants shared their central arguments and explenations on traditional rigid robots in arguments for \"rigid\" robots \n",
    "and on flexible, electronic-free soft robots in arguments for \"soft\" robots.\n",
    "\n",
    "The overall theme of these arguments is {topicCategory}.\n",
    "\n",
    "Your task:\n",
    "\n",
    "Write a paragraph highlighting the commonalities of the arguments for rigid and soft robots followed by a brief discussion of the main differences, \n",
    "focusing stronger on the arguments for soft robots. \n",
    "\n",
    "The paragraph should be limited to four sentences. Provide only the paragraph without any additional commentary or context.\n",
    "\"\"\"\n",
    "\n",
    "\n",
    "user_template = \"\"\"arguments for \"rigid\" robots: \n",
    "{rigid}\n",
    "\n",
    "arguments for \"soft\" robots: \n",
    "{soft}\"\"\"\n",
    "\n",
    "# rescue robots and socially assistive robots\n",
    "prompt_template = ChatPromptTemplate.from_messages(\n",
    "    [(\"system\", system_template), (\"user\", user_template)]\n",
    ")\n",
    "\n",
    "template_out = prompt_template.invoke({\"robots\": \"rescue robots\", \"topicCategory\": abbreviations_dict[\"TP\"], \"rigid\": tmp_string_rigid, \"soft\": tmp_string_soft})\n",
    "print(template_out)\n",
    "\n",
    "print(\"template_out:\", template_out)\n",
    "print(\"template_out.to_messages():\", template_out.to_messages())"
   ]
  },
  {
   "cell_type": "markdown",
   "metadata": {},
   "source": [
    "#### Single Run\n",
    "\n",
    "Function to call LLM:"
   ]
  },
  {
   "cell_type": "code",
   "execution_count": 40,
   "metadata": {},
   "outputs": [
    {
     "name": "stdout",
     "output_type": "stream",
     "text": [
      "Tokens Used: 571\n",
      "\tPrompt Tokens: 444\n",
      "\tCompletion Tokens: 127\n",
      "Successful Requests: 1\n",
      "Total Cost (USD): $0.0\n",
      "Total Tokens: 571\n",
      "Prompt Tokens: 444\n",
      "Completion Tokens: 127\n",
      "Total Cost (USD): $0.0\n"
     ]
    }
   ],
   "source": [
    "response = huggingface_API_call(\n",
    "    prompt=prompt_template,\n",
    "    \n",
    "    robots=\"rescue robots\",\n",
    "    topicCategory=abbreviations_dict[\"TP\"],\n",
    "    dictonaryRigid=tmp_string_rigid,\n",
    "    dictonarySoft=tmp_string_soft,\n",
    "    \n",
    "    api_key=key.hugging_api_key,\n",
    "    model_name=\"meta-llama/Meta-Llama-3-70B-Instruct\",\n",
    "\n",
    "    json_schema=None,\n",
    "    max_tokens=4000,\n",
    "    temperature=0.2,\n",
    "    verbose=True\n",
    ")"
   ]
  },
  {
   "cell_type": "code",
   "execution_count": 41,
   "metadata": {},
   "outputs": [
    {
     "data": {
      "text/plain": [
       "AIMessage(content='The arguments for both rigid and soft robots share a common focus on their potential to access and operate in challenging environments, emphasizing their ability to reach and assist people in need. Both types of robots are seen as capable of performing tasks that humans cannot, whether due to physical limitations or environmental hazards. However, the arguments for soft robots tend to emphasize their adaptability, flexibility, and ability to provide care and supplies to victims, highlighting their potential for more nuanced and supportive roles in rescue operations. In contrast, the arguments for rigid robots focus more on their strength, resilience, and special abilities, portraying them as more robust and task-oriented.', additional_kwargs={'refusal': None}, response_metadata={'token_usage': {'completion_tokens': 127, 'prompt_tokens': 444, 'total_tokens': 571, 'completion_tokens_details': None, 'prompt_tokens_details': None}, 'model_name': 'meta-llama/Meta-Llama-3-70B-Instruct', 'system_fingerprint': '2.3.1-dev0-sha-169178b', 'finish_reason': 'stop', 'logprobs': None}, id='run-cf75be4b-1448-46dd-92e7-fffa383c4178-0', usage_metadata={'input_tokens': 444, 'output_tokens': 127, 'total_tokens': 571, 'input_token_details': {}, 'output_token_details': {}})"
      ]
     },
     "execution_count": 41,
     "metadata": {},
     "output_type": "execute_result"
    }
   ],
   "source": [
    "response"
   ]
  },
  {
   "cell_type": "code",
   "execution_count": 42,
   "metadata": {},
   "outputs": [
    {
     "data": {
      "text/plain": [
       "'The arguments for both rigid and soft robots share a common focus on their potential to access and operate in challenging environments, emphasizing their ability to reach and assist people in need. Both types of robots are seen as capable of performing tasks that humans cannot, whether due to physical limitations or environmental hazards. However, the arguments for soft robots tend to emphasize their adaptability, flexibility, and ability to provide care and supplies to victims, highlighting their potential for more nuanced and supportive roles in rescue operations. In contrast, the arguments for rigid robots focus more on their strength, resilience, and special abilities, portraying them as more robust and task-oriented.'"
      ]
     },
     "execution_count": 42,
     "metadata": {},
     "output_type": "execute_result"
    }
   ],
   "source": [
    "response.content"
   ]
  },
  {
   "cell_type": "markdown",
   "metadata": {},
   "source": [
    "### Multiple Runs\n",
    "\n",
    "Higher order function to call LLM for all categories:"
   ]
  },
  {
   "cell_type": "code",
   "execution_count": null,
   "metadata": {},
   "outputs": [],
   "source": [
    "import pandas as pd\n",
    "\n",
    "def summarize_processed_robot_data(type_robot):\n",
    "    # Define naming based on type_robot\n",
    "    if type_robot == \"RR\":\n",
    "        tmp_df = df_RR\n",
    "        naming_robots = \"rescue robots\"\n",
    "    elif type_robot == \"SAR\":\n",
    "        tmp_df = df_SAR\n",
    "        naming_robots = \"socially assistive robots\"\n",
    "    elif type_robot == \"Combined\":\n",
    "        tmp_df = df_Combined\n",
    "        naming_robots = \"rescue robots and socially assistive robots\"\n",
    "    else:\n",
    "        raise ValueError(\"Invalid type_robot specified.\")\n",
    "\n",
    "\n",
    "    # Initialize an empty DataFrame for concatenation\n",
    "    data_array = []\n",
    "    \n",
    "    for index, category in enumerate(abbreviations_dict.keys()):\n",
    "        print(f\"index: {index}, category: {category}\")\n",
    "\n",
    "        # Load the specific DataFrame for the current category\n",
    "        tmp_rigid = tmp_df[(tmp_df[\"category\"] == category) & (tmp_df[\"type\"] == \"rigid\")]\n",
    "        tmp_soft = tmp_df[(tmp_df[\"category\"] == category) & (tmp_df[\"type\"] == \"soft\")]\n",
    "        \n",
    "        tmp_string_rigid = 'Arguments for \"rigid\" robots:'\n",
    "        for index, row in tmp_rigid.iterrows():\n",
    "            tmp_string_rigid += \" \\n \" + row[\"argument\"]\n",
    "            tmp_string_rigid += \": \" + row[\"explanation\"]\n",
    "\n",
    "        tmp_string_soft = 'Arguments for \"soft\" robots:'\n",
    "        for index, row in tmp_soft.iterrows():\n",
    "            tmp_string_soft += \" \\n \" + row[\"argument\"]\n",
    "            tmp_string_soft += \": \" + row[\"explanation\"]\n",
    "        \n",
    "        \n",
    "        # Call API with specified parameters\n",
    "        response = huggingface_API_call(\n",
    "            prompt=prompt_template,\n",
    "            \n",
    "            robots=naming_robots,\n",
    "            topicCategory=abbreviations_dict[category],\n",
    "            dictonaryRigid=tmp_string_rigid,\n",
    "            dictonarySoft=tmp_string_soft,\n",
    "            \n",
    "            api_key=key.hugging_api_key,\n",
    "            model_name=\"meta-llama/Meta-Llama-3-70B-Instruct\",\n",
    "\n",
    "            json_schema=None,\n",
    "            max_tokens=4200,\n",
    "            temperature=0.0,\n",
    "            verbose=False\n",
    "        )\n",
    "        \n",
    "        data_array.append({'category': category, 'summary':response.content})\n",
    "\n",
    "    final_df = pd.DataFrame(data_array)\n",
    "    return final_df"
   ]
  },
  {
   "cell_type": "code",
   "execution_count": 44,
   "metadata": {},
   "outputs": [],
   "source": [
    "run_summary_processed_robot_data = False # True"
   ]
  },
  {
   "cell_type": "markdown",
   "metadata": {},
   "source": [
    "for rescue robots - summary:"
   ]
  },
  {
   "cell_type": "code",
   "execution_count": 45,
   "metadata": {},
   "outputs": [],
   "source": [
    "# Path to your Excel file\n",
    "file_path = directory + \"/output/G2/\" + \"rescue robots summary\" + \".xlsx\"\n",
    "\n",
    "if run_summary_processed_robot_data:\n",
    "    df_RR_summary = summarize_processed_robot_data(type_robot=\"RR\")\n",
    "    # save the dataframe to an Excel file\n",
    "    df_RR_summary.to_excel(file_path, index=False)\n",
    "else:\n",
    "    df_RR_summary = pd.read_excel(file_path)"
   ]
  },
  {
   "cell_type": "markdown",
   "metadata": {},
   "source": [
    "for socially assistive robots - summary:"
   ]
  },
  {
   "cell_type": "code",
   "execution_count": 46,
   "metadata": {},
   "outputs": [],
   "source": [
    "# Path to your Excel file\n",
    "file_path = directory + \"/output/G2/\" + \"socially assistive robots summary\" + \".xlsx\"\n",
    "    \n",
    "if run_summary_processed_robot_data:\n",
    "    df_SAR_summary = summarize_processed_robot_data(type_robot=\"SAR\")\n",
    "    # save the dataframe to an Excel file\n",
    "    df_SAR_summary.to_excel(file_path, index=False)\n",
    "else:\n",
    "    df_SAR_summary = pd.read_excel(file_path)"
   ]
  },
  {
   "cell_type": "markdown",
   "metadata": {},
   "source": [
    "## Data for Category Specific Graph (G3)\n",
    "\n",
    "All the loaded files are originally from the following GitHub page: https://github.com/PerttuHamalainen/LLMCode"
   ]
  },
  {
   "cell_type": "code",
   "execution_count": 47,
   "metadata": {},
   "outputs": [],
   "source": [
    "import os\n",
    "import sys\n",
    "\n",
    "# Assuming 'src' is one level down (in the current directory or a subdirectory)\n",
    "path_to_src = os.path.join('src/LLMCode')  # Moves one level down to 'src' folder\n",
    "\n",
    "# Add the path to sys.path\n",
    "sys.path.append(path_to_src)\n",
    "\n",
    "# Now you can import your modules\n",
    "#import llms as LLMCode_LLMS\n",
    "#import coding as LLMCode_coding\n",
    "\n",
    "import src.LLMCode as LLMCode"
   ]
  },
  {
   "cell_type": "markdown",
   "metadata": {},
   "source": [
    "load openAI key into environment:"
   ]
  },
  {
   "cell_type": "code",
   "execution_count": 48,
   "metadata": {},
   "outputs": [],
   "source": [
    "import os\n",
    "\n",
    "os.environ[\"OPENAI_API_KEY\"] = key.openAI_key"
   ]
  },
  {
   "cell_type": "markdown",
   "metadata": {},
   "source": [
    "initalize LLM:"
   ]
  },
  {
   "cell_type": "code",
   "execution_count": null,
   "metadata": {},
   "outputs": [],
   "source": [
    "LLMCode.init(API=\"OpenAI\")"
   ]
  },
  {
   "cell_type": "markdown",
   "metadata": {},
   "source": [
    "## Single Run\n",
    "\n",
    "### prepare data"
   ]
  },
  {
   "cell_type": "code",
   "execution_count": 49,
   "metadata": {},
   "outputs": [
    {
     "name": "stdout",
     "output_type": "stream",
     "text": [
      "sheet_name: SA\n",
      "mapping constant x comments: {'safety': ['Prevents people from having to work under difficult or dangerous conditions to increase safety.', 'Enables deployment in difficult situations where human rescuers would put themselves in danger', nan, nan, nan, 'through reliability', 'No people are being put in danger'], 'remote control': ['Can be operated by experts via remote control or autonomous systems to perform operations from a safe distance.', nan, nan, nan, nan, 'Minimizes risks associated with autonomy'], 'speed and efficiency': ['Robots can often act faster than humans and increase the speed of emergency interventions', 'Improvement of speed and efficiency of rescue operations', nan], 'safe': ['People do not have to put themselves in dangerous situations'], 'reliable': ['Can be precisely controlled', nan, nan, nan, nan], 'no people necessary': [nan], 'stronger than humans': [nan, 'In many situations, e.g. when clearing rubble, a great advantage.', nan, nan], 'faster than humans': [nan, nan], 'precise handling': [nan], 'reliability': [nan, 'Machines can accomplish their tasks reliably and reproducibly (provided they are well programmed and built)', nan, nan, nan], 'protection of rescue forces': ['for example in contamination scenarios', 'Reduced deployment of human rescue forces in dangerous situations', nan, 'human rescuers do not have to put themselves in danger'], 'in danger zones': [nan], 'toxic places': ['Places where people can only breathe with special equipment (gas mask)'], 'no distraction': [nan], 'by injuries': [nan], 'consistent': [nan], 'consistent performance': [nan], 'more strong': [nan], 'without basic need': ['Water, sleep, food etc.'], 'faster intervention': [nan], 'area of application': ['Can be used in areas too dangerous for humans', 'Can be used in areas that are too dangerous for humans.'], 'reaching hard-to-access places': ['Robots and drones are small and agile. Therefore, they can reach places that are difficult or even dangerous for humans to reach.'], 'discover dangerous areas': [nan], 'quick processing': [nan], 'care of people': [nan], 'perform operations': ['disease'], 'enter dangerous situation': [nan], 'less risk': [nan, 'Specifically less risk to further human lives, as rescue teams can use robots'], 'efficiency in search': [nan], 'no fatigue': [nan, 'Unlike human rescuers, robots do not tire even during long operations'], 'cover dangerous areas': ['even where it is dangerous for humans, a robot can go there'], 'precision & accuracy': [nan], 'use in dangerous situations': ['Rescue robots can be used in dangerous situations where humans are exposed to too high a risk.'], 'can act quickly': ['Robots can intervene quickly, as they do not need to be dressed or prepared and are autonomous', 'The robots can act faster than a human in an emergency.'], 'No exhaustion': [nan], 'Range': ['Robots, again just the drone can rescue victims faster in difficult terrain or bring help, e.g. medicine, food'], 'accessibility of inaccessible places': [nan], 'improved approach': [nan], 'precise work': [nan], 'rescue of people': [nan], 'deployment possibility': ['Also possible under dangerous conditions'], 'replaceable': ['In case of loss, no human sacrifice', 'During operations, unlike human rescuers, there is no need to pay attention to the safety of the robots, as they can be easily replaced.'], 'unrestricted access': ['Robots can operate in environments that would be toxic to humans, e.g. areas contaminated with radiation.'], 'sparing human life': ['If robots are used instead of human rescuers, the lives and health of the rescuers do not have to be put at risk.'], 'reduced risk': ['By using robots, no human forces are exposed to dangerous situations'], 'precision': [nan], 'more targeted help': [nan], 'saves lives': ['For example, when human helpers are not available, a rescue robot can still save human lives.', 'send a robot into a danger zone instead of a human', nan], 'protects aid workers': ['Since employees are not unnecessarily exposed to dangers, strictly speaking, this also saves their lives.'], 'fewer mistakes': [nan], 'overall more productive': [nan], 'greater accuracy': [nan], 'usable in emergencies': ['To inspect debris more accurately'], 'protection of rescue personnel': [nan], 'accessibility of places': ['Accessibility difficult to reach'], 'increased efficiency': [nan], 'faster recovery': ['One could send robots into the fire without danger to human lives, etc, to combat the cause more quickly.'], 'weather independent': ['Even in storms etc., perhaps an option for critical tasks'], 'safety for emergency personnel': [nan], 'strength (power)': ['for example, for lifting debris parts'], 'quick action': [nan], 'no danger': ['For human rescue forces in action', 'No human doctor etc. needs to enter the operating area and thus it is significantly safer and therefore protects human lives.'], 'efficiency': [nan, 'Robots could be more capable in disaster cases than human helpers.', nan, 'Robots are not limited to human speed, vision, and perception in general.', nan, 'both equally fast work, more productive way of working as well as improved access to danger zones', nan], 'access to areas': ['Access to areas difficult or only reachable through considerable dangers for people'], 'vital objects': ['Victims receive vitally important things, such as water, food, and medicine'], 'rescue forces safety': ['Emergency services can avoid dangers if, for example, pictures of the location were taken by robots.'], 'more/ easier access': ['Robots can create (easier) access to places where it would otherwise be more difficult.'], 'reduce number of victims': ['Robots could make rescue operations more efficient and faster, potentially saving more victims.'], 'no life endangered': [nan], 'can save lives': [nan, nan], 'not emotionally driven': [nan], 'focused': [nan], 'exclusion of human error': [nan], 'flexible': ['The robot could operate in dangerous areas and is therefore not limited.'], 'stronger than human': ['Specially equipped machines could help trapped victims quicker and more efficiently.'], 'chances of success': ['A reliable and error-free rescue robot could therefore save people faster and more than a human.'], 'accuracy of execution': [nan], 'enter dangerous areas': [nan], 'do not get distracted': ['Rescue robots follow their programming and can focus better on the rescue without being influenced by emotions.'], 'speed / agility': [nan], 'real-time data': [nan], 'strength': [nan, 'the robot can, for example, move objects that a human could not move'], 'simplified access': [nan], 'quick help': [nan, nan, nan], 'risk-free rescue': ['From the side of the rescuers, who do not have to put themselves in danger'], 'better CPR': [nan], 'life-threatening places': ['The possibility of entering dangerous places that people do not dare to approach, such as wreck parts, battlefields, etc.'], 'efficient': [nan, nan, nan], 'reach dangerous places': [nan], 'do not get tired': [nan, nan], 'cannot die': [nan], '\"small\" operations': ['Especially good for smaller operations and possibly the transport'], 'toxic environment': [nan], 'safer for humans': [nan, nan], 'dexterity': ['Often higher skill than human rescuers'], 'responsiveness': ['Robots have a significantly higher reaction capability than human rescuers'], 'Accuracy of rescue robots': ['this way human errors can be reduced'], 'quality/precision': [nan], 'quantity': ['more rescue operations or more people saved possible'], 'fewer deaths': [nan], 'faster operation': [nan], 'accuracy': [nan, nan], 'faster help': ['Since the risk to life is lower, rescue workers can send a robot before a complete analysis of the problem area is available.'], 'stronger': ['Robots might potentially be able to move things that humans would have great difficulty with.'], '24/7 readiness': [nan], 'access to hard-to-reach places': [nan], 'human safety': [nan], 'useful addition': ['To human rescuers.'], '\"dare\" more': ['can also be used in war zones, only material loss through explosives'], 'eyes and ears': ['for the rescue forces from a safe distance'], 'less danger': ['for human rescue forces', nan, nan], 'dangerous areas': [nan, nan], 'endurance': [nan], 'performance': [nan], 'rescue and safety': [nan], 'danger': ['less human danger'], 'no rescuer endangered': [nan], 'access': ['access to areas where people cannot reach'], 'rational efficiency': ['No suicidal experiments in rescue'], 'quick deployment': [nan, nan], 'no exhaustion': [nan], 'save many people': [nan], 'not tired': [nan], 'more human rescue': [nan], 'easier finding': ['Through their sensors like thermal imaging, the robots can better find people.'], 'do not lose strength': ['Robots do not lose stamina while humans could lose strength during missions.'], 'delivery of goods': ['Robots can, for example, deliver goods in war zones, which would be dangerous for humans.'], 'faster abolition': ['Rescue robots could shorten the path to doctors/hospitals and the abolition of injured people.'], 'safety risks': [nan], 'can be replaced': ['Robots can be replaced by other robots in case of loss'], 'better search capabilities': ['Robots can search better in the dark and in smoke etc because they have numerous sensors'], 'for danger': ['can be used in times of danger instead of humans'], 'efficient reconnaissance work': ['Through algorithms, maps can be read and created more quickly'], 'rescue efficient and': [nan], 'faster access': ['easier access to dangerous place'], 'error reduction': [nan], 'simplification of difficult situations': ['Many rescue situations prove difficult for people to reach or to intervene, automation can clearly help here.'], 'accessibility of special regions': [nan], 'risk reduction for aid workers': ['Should people go into difficult areas, for example for avalanche rescue, they put themselves in danger'], 'fire department support': [nan], 'risk': ['In dangerous environments or situations, there is of course much less risk for the people'], 'dispensable': ['the loss of a robot is less tragic than the loss of a human rescuer'], 'immune': ['a robot is immune to many dangers that would be deadly for humans such as smoke gases, chemicals, temperatures'], 'protects people': ['No human risks necessary'], 'surpasses human rescuers': ['Can be used in situations where people cannot reach'], 'low risk': [nan], 'safety for rescue workers': [nan], 'access to dangerous area': [nan], 'no performance drop': [nan], 'follows instructions precisely': [nan], 'earthquake rescue': [nan], 'lifting heavy weights': [nan], 'risk minimization': ['Approximately during search actions in risky areas'], 'precision in search': [nan], 'More flexible than human': ['People cannot access some areas or cannot see whether people are still alive. For example, in an earthquake incident under the rubble.'], 'Faster than human': ['In an earthquake, for example, recently in Turkey, the help arrived too late and this led to more loss. Robots would be more flexible and could be used faster, rather than gathering all people together and rushing to help.'], 'Stronger than human': ['As already mentioned, many people lost their lives in the earthquake in Turkey, and this was because human strength was not enough at a certain point. For example, the walls that fell on people could not be lifted, which is why arms and legs had to be cut off. If the robot was there, it could show more strength and lift the wall.'], 'speed': ['the robot can probably save faster than a human'], 'accessibility of contaminated places': ['Poisonous gases, smoke, radiation etc. play no role'], 'can be stronger': [nan], 'can work long': [nan], 'are physically superior': ['Strength, agility, mobility'], 'are mentally superior': ['No trauma for rescuers'], 'use in dangerous areas': [nan], 'use in inaccessibility': [nan], 'accuracy of work': [nan], 'does not risk human lives': [nan]}\n",
      "167\n",
      "mapping new x comments: {'flexible': [nan, nan, nan], 'less risk of injury': [nan, nan], 'reduction of injury risk': [nan, nan, \"compared to 'soft' rescue robots; valid for hard rescue robots\", nan, nan], 'delivery of supplies': [nan], 'precise work': [nan], 'food/water transport': [nan], 'reach the inaccessible': [nan], 'reduce risk of injury': [nan], 'direct help': ['through water/food'], 'time savings in emergencies': [nan], 'lower risk of injury': ['Lower risk of injury due to the adaptability of the robot'], 'care of victims': [nan], 'exploration': ['Assess the safety of the dangerous area'], 'supply with food': [nan, nan], 'adaptability': [nan], 'accessible tight spaces': ['Due to their flexibility, they can access narrow spaces that are not accessible to people.'], 'reduced risk of injury': ['the victim due to the organic construction method', nan, nan], 'injury prevention': [nan], 'more people saved': [nan], 'low risk of injury': ['helping hand'], 'low risks': ['Soft robots pose only a low risk to the victims due to their flexibility.'], 'life-threatening places': [nan], 'vital help': [nan], 'more flexible than humans': [nan], 'fast': ['faster than a human to distribute aid supplies.'], 'Adaptability': [nan], 'camera images': ['To perform an image analysis in retrospect'], 'human error susceptibility': [nan], 'medication supply': [nan], 'inaccessible areas': [nan]}\n",
      "30\n",
      "mapping deleted x comments: {'precise work possible': [nan], 'higher precision': [nan], 'safety': [nan], 'efficiency': [nan], 'save more people': [nan]}\n",
      "5\n"
     ]
    }
   ],
   "source": [
    "print(\"sheet_name:\", sheet_name)\n",
    "\n",
    "# Remove rows with NaN in the key columns as they cannot be used as dictionary keys\n",
    "#> not sensitive to multiple identical keys: dict(zip(df['constant'], df['constant_comments']))\n",
    "df = all_sheets_RR[sheet_name]\n",
    "\n",
    "constant_comments_mapping = create_multivalue_dict(df, 'constant', 'constant_comments')\n",
    "print(\"mapping constant x comments:\", constant_comments_mapping)\n",
    "print(len(constant_comments_mapping))\n",
    "\n",
    "new_comments_mapping = create_multivalue_dict(df, 'new', 'new_comments')\n",
    "print(\"mapping new x comments:\", new_comments_mapping)\n",
    "print(len(new_comments_mapping))\n",
    "\n",
    "deleted_comments_mapping = create_multivalue_dict(df, 'deleted', 'deleted_comments')\n",
    "print(\"mapping deleted x comments:\", deleted_comments_mapping)\n",
    "print(len(deleted_comments_mapping))"
   ]
  },
  {
   "cell_type": "code",
   "execution_count": 50,
   "metadata": {},
   "outputs": [
    {
     "name": "stdout",
     "output_type": "stream",
     "text": [
      "mapping constant, new x comments: {'safety': ['Prevents people from having to work under difficult or dangerous conditions to increase safety.', 'Enables deployment in difficult situations where human rescuers would put themselves in danger', nan, nan, nan, 'through reliability', 'No people are being put in danger'], 'remote control': ['Can be operated by experts via remote control or autonomous systems to perform operations from a safe distance.', nan, nan, nan, nan, 'Minimizes risks associated with autonomy'], 'speed and efficiency': ['Robots can often act faster than humans and increase the speed of emergency interventions', 'Improvement of speed and efficiency of rescue operations', nan], 'safe': ['People do not have to put themselves in dangerous situations'], 'reliable': ['Can be precisely controlled', nan, nan, nan, nan], 'no people necessary': [nan], 'stronger than humans': [nan, 'In many situations, e.g. when clearing rubble, a great advantage.', nan, nan], 'faster than humans': [nan, nan], 'precise handling': [nan], 'reliability': [nan, 'Machines can accomplish their tasks reliably and reproducibly (provided they are well programmed and built)', nan, nan, nan], 'protection of rescue forces': ['for example in contamination scenarios', 'Reduced deployment of human rescue forces in dangerous situations', nan, 'human rescuers do not have to put themselves in danger'], 'in danger zones': [nan], 'toxic places': ['Places where people can only breathe with special equipment (gas mask)'], 'no distraction': [nan], 'by injuries': [nan], 'consistent': [nan], 'consistent performance': [nan], 'more strong': [nan], 'without basic need': ['Water, sleep, food etc.'], 'faster intervention': [nan], 'area of application': ['Can be used in areas too dangerous for humans', 'Can be used in areas that are too dangerous for humans.'], 'reaching hard-to-access places': ['Robots and drones are small and agile. Therefore, they can reach places that are difficult or even dangerous for humans to reach.'], 'discover dangerous areas': [nan], 'quick processing': [nan], 'care of people': [nan], 'perform operations': ['disease'], 'enter dangerous situation': [nan], 'less risk': [nan, 'Specifically less risk to further human lives, as rescue teams can use robots'], 'efficiency in search': [nan], 'no fatigue': [nan, 'Unlike human rescuers, robots do not tire even during long operations'], 'cover dangerous areas': ['even where it is dangerous for humans, a robot can go there'], 'precision & accuracy': [nan], 'use in dangerous situations': ['Rescue robots can be used in dangerous situations where humans are exposed to too high a risk.'], 'can act quickly': ['Robots can intervene quickly, as they do not need to be dressed or prepared and are autonomous', 'The robots can act faster than a human in an emergency.'], 'No exhaustion': [nan], 'Range': ['Robots, again just the drone can rescue victims faster in difficult terrain or bring help, e.g. medicine, food'], 'accessibility of inaccessible places': [nan], 'improved approach': [nan], 'precise work': [nan, nan], 'rescue of people': [nan], 'deployment possibility': ['Also possible under dangerous conditions'], 'replaceable': ['In case of loss, no human sacrifice', 'During operations, unlike human rescuers, there is no need to pay attention to the safety of the robots, as they can be easily replaced.'], 'unrestricted access': ['Robots can operate in environments that would be toxic to humans, e.g. areas contaminated with radiation.'], 'sparing human life': ['If robots are used instead of human rescuers, the lives and health of the rescuers do not have to be put at risk.'], 'reduced risk': ['By using robots, no human forces are exposed to dangerous situations'], 'precision': [nan], 'more targeted help': [nan], 'saves lives': ['For example, when human helpers are not available, a rescue robot can still save human lives.', 'send a robot into a danger zone instead of a human', nan], 'protects aid workers': ['Since employees are not unnecessarily exposed to dangers, strictly speaking, this also saves their lives.'], 'fewer mistakes': [nan], 'overall more productive': [nan], 'greater accuracy': [nan], 'usable in emergencies': ['To inspect debris more accurately'], 'protection of rescue personnel': [nan], 'accessibility of places': ['Accessibility difficult to reach'], 'increased efficiency': [nan], 'faster recovery': ['One could send robots into the fire without danger to human lives, etc, to combat the cause more quickly.'], 'weather independent': ['Even in storms etc., perhaps an option for critical tasks'], 'safety for emergency personnel': [nan], 'strength (power)': ['for example, for lifting debris parts'], 'quick action': [nan], 'no danger': ['For human rescue forces in action', 'No human doctor etc. needs to enter the operating area and thus it is significantly safer and therefore protects human lives.'], 'efficiency': [nan, 'Robots could be more capable in disaster cases than human helpers.', nan, 'Robots are not limited to human speed, vision, and perception in general.', nan, 'both equally fast work, more productive way of working as well as improved access to danger zones', nan], 'access to areas': ['Access to areas difficult or only reachable through considerable dangers for people'], 'vital objects': ['Victims receive vitally important things, such as water, food, and medicine'], 'rescue forces safety': ['Emergency services can avoid dangers if, for example, pictures of the location were taken by robots.'], 'more/ easier access': ['Robots can create (easier) access to places where it would otherwise be more difficult.'], 'reduce number of victims': ['Robots could make rescue operations more efficient and faster, potentially saving more victims.'], 'no life endangered': [nan], 'can save lives': [nan, nan], 'not emotionally driven': [nan], 'focused': [nan], 'exclusion of human error': [nan], 'flexible': ['The robot could operate in dangerous areas and is therefore not limited.', nan, nan, nan], 'stronger than human': ['Specially equipped machines could help trapped victims quicker and more efficiently.'], 'chances of success': ['A reliable and error-free rescue robot could therefore save people faster and more than a human.'], 'accuracy of execution': [nan], 'enter dangerous areas': [nan], 'do not get distracted': ['Rescue robots follow their programming and can focus better on the rescue without being influenced by emotions.'], 'speed / agility': [nan], 'real-time data': [nan], 'strength': [nan, 'the robot can, for example, move objects that a human could not move'], 'simplified access': [nan], 'quick help': [nan, nan, nan], 'risk-free rescue': ['From the side of the rescuers, who do not have to put themselves in danger'], 'better CPR': [nan], 'life-threatening places': ['The possibility of entering dangerous places that people do not dare to approach, such as wreck parts, battlefields, etc.', nan], 'efficient': [nan, nan, nan], 'reach dangerous places': [nan], 'do not get tired': [nan, nan], 'cannot die': [nan], '\"small\" operations': ['Especially good for smaller operations and possibly the transport'], 'toxic environment': [nan], 'safer for humans': [nan, nan], 'dexterity': ['Often higher skill than human rescuers'], 'responsiveness': ['Robots have a significantly higher reaction capability than human rescuers'], 'Accuracy of rescue robots': ['this way human errors can be reduced'], 'quality/precision': [nan], 'quantity': ['more rescue operations or more people saved possible'], 'fewer deaths': [nan], 'faster operation': [nan], 'accuracy': [nan, nan], 'faster help': ['Since the risk to life is lower, rescue workers can send a robot before a complete analysis of the problem area is available.'], 'stronger': ['Robots might potentially be able to move things that humans would have great difficulty with.'], '24/7 readiness': [nan], 'access to hard-to-reach places': [nan], 'human safety': [nan], 'useful addition': ['To human rescuers.'], '\"dare\" more': ['can also be used in war zones, only material loss through explosives'], 'eyes and ears': ['for the rescue forces from a safe distance'], 'less danger': ['for human rescue forces', nan, nan], 'dangerous areas': [nan, nan], 'endurance': [nan], 'performance': [nan], 'rescue and safety': [nan], 'danger': ['less human danger'], 'no rescuer endangered': [nan], 'access': ['access to areas where people cannot reach'], 'rational efficiency': ['No suicidal experiments in rescue'], 'quick deployment': [nan, nan], 'no exhaustion': [nan], 'save many people': [nan], 'not tired': [nan], 'more human rescue': [nan], 'easier finding': ['Through their sensors like thermal imaging, the robots can better find people.'], 'do not lose strength': ['Robots do not lose stamina while humans could lose strength during missions.'], 'delivery of goods': ['Robots can, for example, deliver goods in war zones, which would be dangerous for humans.'], 'faster abolition': ['Rescue robots could shorten the path to doctors/hospitals and the abolition of injured people.'], 'safety risks': [nan], 'can be replaced': ['Robots can be replaced by other robots in case of loss'], 'better search capabilities': ['Robots can search better in the dark and in smoke etc because they have numerous sensors'], 'for danger': ['can be used in times of danger instead of humans'], 'efficient reconnaissance work': ['Through algorithms, maps can be read and created more quickly'], 'rescue efficient and': [nan], 'faster access': ['easier access to dangerous place'], 'error reduction': [nan], 'simplification of difficult situations': ['Many rescue situations prove difficult for people to reach or to intervene, automation can clearly help here.'], 'accessibility of special regions': [nan], 'risk reduction for aid workers': ['Should people go into difficult areas, for example for avalanche rescue, they put themselves in danger'], 'fire department support': [nan], 'risk': ['In dangerous environments or situations, there is of course much less risk for the people'], 'dispensable': ['the loss of a robot is less tragic than the loss of a human rescuer'], 'immune': ['a robot is immune to many dangers that would be deadly for humans such as smoke gases, chemicals, temperatures'], 'protects people': ['No human risks necessary'], 'surpasses human rescuers': ['Can be used in situations where people cannot reach'], 'low risk': [nan], 'safety for rescue workers': [nan], 'access to dangerous area': [nan], 'no performance drop': [nan], 'follows instructions precisely': [nan], 'earthquake rescue': [nan], 'lifting heavy weights': [nan], 'risk minimization': ['Approximately during search actions in risky areas'], 'precision in search': [nan], 'More flexible than human': ['People cannot access some areas or cannot see whether people are still alive. For example, in an earthquake incident under the rubble.'], 'Faster than human': ['In an earthquake, for example, recently in Turkey, the help arrived too late and this led to more loss. Robots would be more flexible and could be used faster, rather than gathering all people together and rushing to help.'], 'Stronger than human': ['As already mentioned, many people lost their lives in the earthquake in Turkey, and this was because human strength was not enough at a certain point. For example, the walls that fell on people could not be lifted, which is why arms and legs had to be cut off. If the robot was there, it could show more strength and lift the wall.'], 'speed': ['the robot can probably save faster than a human'], 'accessibility of contaminated places': ['Poisonous gases, smoke, radiation etc. play no role'], 'can be stronger': [nan], 'can work long': [nan], 'are physically superior': ['Strength, agility, mobility'], 'are mentally superior': ['No trauma for rescuers'], 'use in dangerous areas': [nan], 'use in inaccessibility': [nan], 'accuracy of work': [nan], 'does not risk human lives': [nan], 'less risk of injury': [nan, nan], 'reduction of injury risk': [nan, nan, \"compared to 'soft' rescue robots; valid for hard rescue robots\", nan, nan], 'delivery of supplies': [nan], 'food/water transport': [nan], 'reach the inaccessible': [nan], 'reduce risk of injury': [nan], 'direct help': ['through water/food'], 'time savings in emergencies': [nan], 'lower risk of injury': ['Lower risk of injury due to the adaptability of the robot'], 'care of victims': [nan], 'exploration': ['Assess the safety of the dangerous area'], 'supply with food': [nan, nan], 'adaptability': [nan], 'accessible tight spaces': ['Due to their flexibility, they can access narrow spaces that are not accessible to people.'], 'reduced risk of injury': ['the victim due to the organic construction method', nan, nan], 'injury prevention': [nan], 'more people saved': [nan], 'low risk of injury': ['helping hand'], 'low risks': ['Soft robots pose only a low risk to the victims due to their flexibility.'], 'vital help': [nan], 'more flexible than humans': [nan], 'fast': ['faster than a human to distribute aid supplies.'], 'Adaptability': [nan], 'camera images': ['To perform an image analysis in retrospect'], 'human error susceptibility': [nan], 'medication supply': [nan], 'inaccessible areas': [nan]}\n",
      "194\n"
     ]
    }
   ],
   "source": [
    "constant_new_comments_mapping = combine_dicts(constant_comments_mapping, new_comments_mapping)\n",
    "print(\"mapping constant, new x comments:\", constant_new_comments_mapping)\n",
    "print(len(constant_new_comments_mapping))\n"
   ]
  },
  {
   "cell_type": "code",
   "execution_count": 70,
   "metadata": {},
   "outputs": [
    {
     "name": "stdout",
     "output_type": "stream",
     "text": [
      "262\n",
      "209\n"
     ]
    }
   ],
   "source": [
    "# Sample dictionary with NaN values\n",
    "dictionary = constant_new_comments_mapping\n",
    "\n",
    "# Initialize the list to store single concepts\n",
    "single_concepts = []\n",
    "\n",
    "# Iterate through the dictionary\n",
    "for key, values in dictionary.items():\n",
    "    for value in values:\n",
    "        # Check if the value is not NaN\n",
    "        if isinstance(value, str):\n",
    "            single_concepts.append(f\"{key}: {value}\")\n",
    "        else:\n",
    "            single_concepts.append(key)\n",
    "\n",
    "# Print the result\n",
    "print(len(single_concepts))\n",
    "\n",
    "\n",
    "# Filter unique entries with more than one word\n",
    "single_concepts_unique = list({entry for entry in single_concepts if len(entry.split()) > 1})\n",
    "\n",
    "# Print the result\n",
    "print(len(single_concepts_unique))"
   ]
  },
  {
   "cell_type": "code",
   "execution_count": 71,
   "metadata": {},
   "outputs": [
    {
     "name": "stdout",
     "output_type": "stream",
     "text": [
      "['safe: People do not have to put themselves in dangerous situations', 'life-threatening places', 'no people necessary', 'protection of rescue forces: human rescuers do not have to put themselves in danger', 'simplification of difficult situations: Many rescue situations prove difficult for people to reach or to intervene, automation can clearly help here.', 'fast: faster than a human to distribute aid supplies.', 'reduced risk: By using robots, no human forces are exposed to dangerous situations', 'safer for humans', 'low risks: Soft robots pose only a low risk to the victims due to their flexibility.', 'speed and efficiency: Robots can often act faster than humans and increase the speed of emergency interventions', 'Range: Robots, again just the drone can rescue victims faster in difficult terrain or bring help, e.g. medicine, food', 'precise work', 'stronger: Robots might potentially be able to move things that humans would have great difficulty with.', 'accuracy of work', 'enter dangerous situation', 'remote control: Can be operated by experts via remote control or autonomous systems to perform operations from a safe distance.', 'dangerous areas', 'can act quickly: The robots can act faster than a human in an emergency.', 'strength: the robot can, for example, move objects that a human could not move', 'precise handling', 'saves lives', 'less risk of injury', 'save many people', 'deployment possibility: Also possible under dangerous conditions', 'risk reduction for aid workers: Should people go into difficult areas, for example for avalanche rescue, they put themselves in danger', 'low risk', 'low risk of injury: helping hand', 'less danger: for human rescue forces', 'use in dangerous situations: Rescue robots can be used in dangerous situations where humans are exposed to too high a risk.', 'protection of rescue personnel', 'quick action', 'precision & accuracy', 'lifting heavy weights', 'do not get tired', 'use in dangerous areas', 'flexible: The robot could operate in dangerous areas and is therefore not limited.', 'exclusion of human error', 'sparing human life: If robots are used instead of human rescuers, the lives and health of the rescuers do not have to be put at risk.', 'can be replaced: Robots can be replaced by other robots in case of loss', 'can act quickly: Robots can intervene quickly, as they do not need to be dressed or prepared and are autonomous', 'do not get distracted: Rescue robots follow their programming and can focus better on the rescue without being influenced by emotions.', 'useful addition: To human rescuers.', 'greater accuracy', 'food/water transport', 'no distraction', 'no rescuer endangered', 'follows instructions precisely', 'access to hard-to-reach places', 'no danger: For human rescue forces in action', 'no danger: No human doctor etc. needs to enter the operating area and thus it is significantly safer and therefore protects human lives.', 'access to areas: Access to areas difficult or only reachable through considerable dangers for people', 'protects people: No human risks necessary', 'medication supply', 'no life endangered', 'improved approach', 'earthquake rescue', 'faster abolition: Rescue robots could shorten the path to doctors/hospitals and the abolition of injured people.', 'exploration: Assess the safety of the dangerous area', 'stronger than humans: In many situations, e.g. when clearing rubble, a great advantage.', 'access to dangerous area', 'easier finding: Through their sensors like thermal imaging, the robots can better find people.', 'reduction of injury risk', 'area of application: Can be used in areas too dangerous for humans', 'delivery of goods: Robots can, for example, deliver goods in war zones, which would be dangerous for humans.', 'accessibility of places: Accessibility difficult to reach', 'better CPR', 'cannot die', 'protection of rescue forces', 'supply with food', 'no fatigue', 'efficient reconnaissance work: Through algorithms, maps can be read and created more quickly', 'vital objects: Victims receive vitally important things, such as water, food, and medicine', 'speed and efficiency: Improvement of speed and efficiency of rescue operations', 'more flexible than humans', 'efficiency in search', 'reduce risk of injury', 'no fatigue: Unlike human rescuers, robots do not tire even during long operations', 'no exhaustion', 'risk: In dangerous environments or situations, there is of course much less risk for the people', 'not emotionally driven', '\"dare\" more: can also be used in war zones, only material loss through explosives', 'better search capabilities: Robots can search better in the dark and in smoke etc because they have numerous sensors', 'protects aid workers: Since employees are not unnecessarily exposed to dangers, strictly speaking, this also saves their lives.', 'do not lose strength: Robots do not lose stamina while humans could lose strength during missions.', 'safety: No people are being put in danger', 'more strong', 'rescue forces safety: Emergency services can avoid dangers if, for example, pictures of the location were taken by robots.', 'area of application: Can be used in areas that are too dangerous for humans.', 'quantity: more rescue operations or more people saved possible', 'risk minimization: Approximately during search actions in risky areas', 'injury prevention', 'safety: Prevents people from having to work under difficult or dangerous conditions to increase safety.', 'safety for emergency personnel', 'enter dangerous areas', 'direct help: through water/food', 'Faster than human: In an earthquake, for example, recently in Turkey, the help arrived too late and this led to more loss. Robots would be more flexible and could be used faster, rather than gathering all people together and rushing to help.', 'are physically superior: Strength, agility, mobility', 'accuracy of execution', 'efficiency: both equally fast work, more productive way of working as well as improved access to danger zones', '24/7 readiness', 'speed / agility', 'safety: Enables deployment in difficult situations where human rescuers would put themselves in danger', 'saves lives: send a robot into a danger zone instead of a human', 'chances of success: A reliable and error-free rescue robot could therefore save people faster and more than a human.', 'more targeted help', 'can be stronger', 'faster than humans', 'for danger: can be used in times of danger instead of humans', 'by injuries', 'responsiveness: Robots have a significantly higher reaction capability than human rescuers', 'efficiency: Robots are not limited to human speed, vision, and perception in general.', 'fewer mistakes', 'consistent performance', 'usable in emergencies: To inspect debris more accurately', 'can save lives', 'cover dangerous areas: even where it is dangerous for humans, a robot can go there', 'less danger', 'no performance drop', '\"small\" operations: Especially good for smaller operations and possibly the transport', 'More flexible than human: People cannot access some areas or cannot see whether people are still alive. For example, in an earthquake incident under the rubble.', 'care of people', 'safety: through reliability', 'faster access: easier access to dangerous place', 'accessibility of special regions', 'reduce number of victims: Robots could make rescue operations more efficient and faster, potentially saving more victims.', 'toxic environment', 'replaceable: In case of loss, no human sacrifice', 'replaceable: During operations, unlike human rescuers, there is no need to pay attention to the safety of the robots, as they can be easily replaced.', 'stronger than humans', 'in danger zones', 'faster operation', 'speed and efficiency', 'more human rescue', 'discover dangerous areas', 'Accuracy of rescue robots: this way human errors can be reduced', 'dispensable: the loss of a robot is less tragic than the loss of a human rescuer', 'vital help', 'inaccessible areas', 'rational efficiency: No suicidal experiments in rescue', 'less risk: Specifically less risk to further human lives, as rescue teams can use robots', 'human error susceptibility', 'reduced risk of injury', 'faster intervention', \"reduction of injury risk: compared to 'soft' rescue robots; valid for hard rescue robots\", 'are mentally superior: No trauma for rescuers', 'simplified access', 'use in inaccessibility', 'fewer deaths', 'time savings in emergencies', 'protection of rescue forces: for example in contamination scenarios', 'weather independent: Even in storms etc., perhaps an option for critical tasks', 'safety risks', 'lower risk of injury: Lower risk of injury due to the adaptability of the robot', 'danger: less human danger', 'camera images: To perform an image analysis in retrospect', 'real-time data', 'reliable: Can be precisely controlled', 'faster help: Since the risk to life is lower, rescue workers can send a robot before a complete analysis of the problem area is available.', 'increased efficiency', 'less risk', 'remote control: Minimizes risks associated with autonomy', 'accessibility of contaminated places: Poisonous gases, smoke, radiation etc. play no role', 'perform operations: disease', 'remote control', 'toxic places: Places where people can only breathe with special equipment (gas mask)', 'human safety', 'can work long', 'reduced risk of injury: the victim due to the organic construction method', 'safety for rescue workers', 'eyes and ears: for the rescue forces from a safe distance', 'error reduction', 'reach the inaccessible', 'speed: the robot can probably save faster than a human', 'risk-free rescue: From the side of the rescuers, who do not have to put themselves in danger', 'does not risk human lives', 'reaching hard-to-access places: Robots and drones are small and agile. Therefore, they can reach places that are difficult or even dangerous for humans to reach.', 'rescue and safety', 'No exhaustion', 'stronger than human: Specially equipped machines could help trapped victims quicker and more efficiently.', 'Stronger than human: As already mentioned, many people lost their lives in the earthquake in Turkey, and this was because human strength was not enough at a certain point. For example, the walls that fell on people could not be lifted, which is why arms and legs had to be cut off. If the robot was there, it could show more strength and lift the wall.', 'access: access to areas where people cannot reach', 'accessible tight spaces: Due to their flexibility, they can access narrow spaces that are not accessible to people.', 'rescue efficient and', 'delivery of supplies', 'reliability: Machines can accomplish their tasks reliably and reproducibly (provided they are well programmed and built)', 'protection of rescue forces: Reduced deployment of human rescue forces in dangerous situations', 'quick processing', 'dexterity: Often higher skill than human rescuers', 'quick deployment', 'strength (power): for example, for lifting debris parts', 'overall more productive', 'faster recovery: One could send robots into the fire without danger to human lives, etc, to combat the cause more quickly.', 'quick help', 'surpasses human rescuers: Can be used in situations where people cannot reach', 'precision in search', 'without basic need: Water, sleep, food etc.', 'unrestricted access: Robots can operate in environments that would be toxic to humans, e.g. areas contaminated with radiation.', 'care of victims', 'reach dangerous places', 'life-threatening places: The possibility of entering dangerous places that people do not dare to approach, such as wreck parts, battlefields, etc.', 'more people saved', 'not tired', 'saves lives: For example, when human helpers are not available, a rescue robot can still save human lives.', 'efficiency: Robots could be more capable in disaster cases than human helpers.', 'more/ easier access: Robots can create (easier) access to places where it would otherwise be more difficult.', 'immune: a robot is immune to many dangers that would be deadly for humans such as smoke gases, chemicals, temperatures', 'rescue of people', 'accessibility of inaccessible places', 'fire department support']\n"
     ]
    }
   ],
   "source": [
    "print(single_concepts_unique)"
   ]
  },
  {
   "cell_type": "code",
   "execution_count": 72,
   "metadata": {},
   "outputs": [
    {
     "name": "stdout",
     "output_type": "stream",
     "text": [
      "262\n",
      "20\n"
     ]
    }
   ],
   "source": [
    "import random\n",
    "\n",
    "print(len(single_concepts))\n",
    "\n",
    "# Draw 30 random entries (if the list has less than 30 entries, it will return the entire list)\n",
    "single_concepts = random.sample(single_concepts_unique, min(20, len(single_concepts_unique)))\n",
    "\n",
    "print(len(single_concepts))"
   ]
  },
  {
   "cell_type": "code",
   "execution_count": 73,
   "metadata": {},
   "outputs": [
    {
     "data": {
      "text/plain": [
       "['in danger zones',\n",
       " 'more human rescue',\n",
       " 'reach dangerous places',\n",
       " 'consistent performance',\n",
       " 'More flexible than human: People cannot access some areas or cannot see whether people are still alive. For example, in an earthquake incident under the rubble.',\n",
       " 'low risk',\n",
       " '24/7 readiness',\n",
       " 'do not lose strength: Robots do not lose stamina while humans could lose strength during missions.',\n",
       " 'less risk: Specifically less risk to further human lives, as rescue teams can use robots',\n",
       " 'exclusion of human error',\n",
       " 'can be stronger',\n",
       " 'camera images: To perform an image analysis in retrospect',\n",
       " 'protection of rescue personnel',\n",
       " 'without basic need: Water, sleep, food etc.',\n",
       " 'can act quickly: The robots can act faster than a human in an emergency.',\n",
       " 'Range: Robots, again just the drone can rescue victims faster in difficult terrain or bring help, e.g. medicine, food',\n",
       " 'speed and efficiency',\n",
       " 'saves lives: For example, when human helpers are not available, a rescue robot can still save human lives.',\n",
       " 'does not risk human lives',\n",
       " 'chances of success: A reliable and error-free rescue robot could therefore save people faster and more than a human.']"
      ]
     },
     "execution_count": 73,
     "metadata": {},
     "output_type": "execute_result"
    }
   ],
   "source": [
    "single_concepts"
   ]
  },
  {
   "cell_type": "markdown",
   "metadata": {},
   "source": [
    "### run LLMCode (inductive)\n",
    "\n",
    "a toolkit for AI-assisted qualitative data analysis"
   ]
  },
  {
   "cell_type": "code",
   "execution_count": 57,
   "metadata": {},
   "outputs": [
    {
     "name": "stdout",
     "output_type": "stream",
     "text": [
      " |████████████████████--------------------------------------------------------------------------------| 20.0% Warning: LLM output differs from the original text, with edit distance 50\n",
      "Original text: \"are physically superior: Strength, agility, mobility\"\n",
      "LLM output: \"The text contains no insights relevant to the research question.\"\n",
      "Text reconstruction successful\n",
      "\n",
      "Had to reconstruct 1 texts due to LLM errors\n",
      " |█████████████████████████████████-------------------------------------------------------------------| 33.3% Warning: LLM output differs from the original text, with edit distance 51\n",
      "Original text: \"reach the inaccessible\"\n",
      "LLM output: \"The text contains no insights relevant to the research question.\"\n",
      "Text reconstruction successful\n",
      "\n",
      "Had to reconstruct 1 texts due to LLM errors\n",
      " |████████████████████████████████████████------------------------------------------------------------| 40.0% Warning: LLM output differs from the original text, with edit distance 50\n",
      "Original text: \"for danger: can be used in times of danger instead of humans\"\n",
      "LLM output: \"The text contains no insights relevant to the research question.\"\n",
      "Text reconstruction successful\n",
      "\n",
      "Had to reconstruct 1 texts due to LLM errors\n",
      " |███████████████████████████████████████████---------------------------------------------------------| 43.3% Warning: LLM output differs from the original text, with edit distance 92\n",
      "Original text: \"enter dangerous situation\"\n",
      "LLM output: \"I'm sorry, but there are no insightful statements in the provided text that relate to the research question.\"\n",
      "Text reconstruction successful\n",
      "\n",
      "Had to reconstruct 1 texts due to LLM errors\n",
      " |██████████████████████████████████████████████████████████████████████------------------------------| 70.0% Warning: LLM output differs from the original text, with edit distance 119\n",
      "Original text: \"quick deployment\"\n",
      "LLM output: \"I'm sorry, but the text provided does not contain any statements that can be highlighted or coded based on the given instructions.\"\n",
      "Text reconstruction successful\n",
      "\n",
      "Had to reconstruct 1 texts due to LLM errors\n",
      " |████████████████████████████████████████████████████████████████████████████████--------------------| 80.0% Warning: LLM output differs from the original text, with edit distance 129\n",
      "Original text: \"more/ easier access: Robots can create (easier) access to places where it would otherwise be more difficult.\"\n",
      "LLM output: \"I'm sorry, but the text provided does not contain any statements that are insightful with regards to the research question. Therefore, there are no coded statements to highlight.\"\n",
      "Text reconstruction successful\n",
      "\n",
      "Had to reconstruct 1 texts due to LLM errors\n",
      " |███████████████████████████████████████████████████████████████████████████████████-----------------| 83.3% Warning: LLM output differs from the original text, with edit distance 52\n",
      "Original text: \"stronger than humans\"\n",
      "LLM output: \"The text contains no insights relevant to the research question.\"\n",
      "Text reconstruction successful\n",
      "\n",
      "Had to reconstruct 1 texts due to LLM errors\n",
      " |██████████████████████████████████████████████████████████████████████████████████████--------------| 86.7% Warning: LLM output differs from the original text, with edit distance 123\n",
      "Original text: \"do not lose strength: Robots do not lose stamina while humans could lose strength during missions.\"\n",
      "LLM output: \"I'm sorry, but the text provided does not contain any statements that are insightful with regards to the research question, so there are no coded statements to highlight.\"\n",
      "Text reconstruction successful\n",
      "\n",
      "Had to reconstruct 1 texts due to LLM errors\n",
      " |██████████████████████████████████████████████████████████████████████████████████████████----------| 90.0% Warning: LLM output differs from the original text, with edit distance 50\n",
      "Original text: \"direct help: through water/food\"\n",
      "LLM output: \"The text contains no insights relevant to the research question.\"\n",
      "Text reconstruction successful\n",
      "\n",
      "Had to reconstruct 1 texts due to LLM errors\n",
      " |█████████████████████████████████████████████████████████████████████████████████████████████-------| 93.3% Warning: LLM output differs from the original text, with edit distance 150\n",
      "Original text: \"less risk\"\n",
      "LLM output: \"I'm sorry, but the text provided does not contain any insightful statements relevant to the research question, so there are no coded statements to highlight.\"\n",
      "Text reconstruction successful\n",
      "\n",
      "Had to reconstruct 1 texts due to LLM errors\n",
      " |████████████████████████████████████████████████████████████████████████████████████████████████----| 96.7% Warning: LLM output differs from the original text, with edit distance 28\n",
      "Original text: \"better search capabilities: Robots can search better in the dark and in smoke etc because they have numerous sensors\"\n",
      "LLM output: \"**Robots can search better in the dark and in smoke etc because they have numerous sensors**<sup>efficiency; hazardous environments</sup>\"\n",
      "Text reconstruction successful\n",
      "\n",
      "Had to reconstruct 1 texts due to LLM errors\n",
      " |████████████████████████████████████████████████████████████████████████████████████████████████████| 100.0% \n",
      "Warning: LLM output differs from the original text, with edit distance 125\n",
      "Original text: \"faster abolition: Rescue robots could shorten the path to doctors/hospitals and the abolition of injured people.\"\n",
      "LLM output: \"I'm sorry, but the text provided does not contain any statements that are insightful with regards to the research question, so there are no coded statements to highlight.\"\n",
      "Text reconstruction successful\n",
      "\n",
      "Had to reconstruct 1 texts due to LLM errors\n"
     ]
    }
   ],
   "source": [
    "import nest_asyncio\n",
    "nest_asyncio.apply()\n",
    "\n",
    "\n",
    "\n",
    "# Sample inputs for function arguments\n",
    "\n",
    "texts = single_concepts\n",
    "\n",
    "research_question = \"What are the key perceived benefits and risks regarding safety of the search and rescue robot?\"\n",
    "\n",
    "\n",
    "few_shot_examples = pd.DataFrame({\n",
    "    \"text\": [\n",
    "        \"The game and it's graphics, music and story made me feel calm and happy  in a way nothing else could at the time. Playing it felt like a journey to another, better place , and that's art to me.\",\n",
    "        \"I played the game Kairo, or Cairo I can't remember, it was an atmospheric puzzle game with big rooms filled with mist and interesting lighting, all the textures were concrete\"],\n",
    "    \"coded_text\": [\n",
    "        \"The game and it's graphics, music and story **made me feel calm and happy**<sup>emotional response</sup> in a way nothing else could at the time. **Playing it felt like a journey to another, better place**<sup>setting; immersion</sup>, and that's art to me.\",\n",
    "        \"I played the game Kairo, or Cairo I can't remember, **it was an atmospheric puzzle game with big rooms filled with mist and interesting lighting, all the textures were concrete**<sup>setting; creativity</sup>\"\n",
    "    ]\n",
    "})\n",
    "\n",
    "\n",
    "\n",
    "gpt_model = \"gpt-4o\"  # or another preferred GPT model\n",
    "use_cache = True\n",
    "max_tokens = 150  # Specify maximum tokens for each prompt if necessary\n",
    "verbose = True\n",
    "topicCategory = abbreviations_dict[sheet_name]\n",
    "\n",
    "\n",
    "# Now you can run:\n",
    "coded_texts, code_descriptions = LLMCode.code_inductively_with_code_consistency_adj(\n",
    "    texts=texts,\n",
    "    research_question=research_question,\n",
    "    topicCategory=topicCategory,\n",
    "    few_shot_examples=few_shot_examples,\n",
    "    gpt_model=gpt_model,\n",
    "    use_cache=use_cache,\n",
    "    max_tokens=max_tokens,\n",
    "    verbose=verbose\n",
    ")"
   ]
  },
  {
   "cell_type": "code",
   "execution_count": 58,
   "metadata": {},
   "outputs": [
    {
     "name": "stdout",
     "output_type": "stream",
     "text": [
      "30\n"
     ]
    },
    {
     "data": {
      "text/plain": [
       "['can save lives',\n",
       " 'more strong',\n",
       " 'better CPR',\n",
       " 'overall more productive',\n",
       " '**immune: a robot is immune to many dangers that would be deadly for humans such as smoke gases, chemicals, temperatures**<sup>safety; hazardous environments</sup>',\n",
       " 'are physically superior: Strength, agility, mobility',\n",
       " 'no distraction',\n",
       " '**unrestricted access: Robots can operate in environments that would be toxic to humans, e.g. areas contaminated with radiation.**<sup>safety; hazardous environments</sup>',\n",
       " 'rational efficiency: No suicidal experiments in rescue',\n",
       " 'reach the inaccessible',\n",
       " 'risk-free rescue: From the side of the rescuers, who do not have to put themselves in danger',\n",
       " 'for danger: can be used in times of danger instead of humans',\n",
       " 'enter dangerous situation',\n",
       " '**stronger than humans: In many situations, e.g. when clearing rubble, a great advantage.**<sup>strength; efficiency</sup>',\n",
       " 'supply with food',\n",
       " '**danger: less human danger**<sup>safety</sup>',\n",
       " 'by injuries',\n",
       " '**usable in emergencies: To inspect debris more accurately**<sup>efficiency; hazardous environments</sup>',\n",
       " 'care of victims',\n",
       " 'are mentally superior: **No trauma for rescuers**<sup>psychological safety</sup>',\n",
       " 'quick deployment',\n",
       " 'lifting heavy weights',\n",
       " 'improved approach',\n",
       " 'more/ easier access: Robots can create (easier) access to places where it would otherwise be more difficult.',\n",
       " 'stronger than humans',\n",
       " 'do not lose strength: Robots do not lose stamina while humans could lose strength during missions.',\n",
       " 'direct help: through water/food',\n",
       " 'less risk',\n",
       " 'better search capabilities: **Robots can search better in the dark and in smoke etc because they have numerous sensors**<sup>efficiency; hazardous environments</sup>',\n",
       " 'faster abolition: Rescue robots could shorten the path to doctors/hospitals and the abolition of injured people.']"
      ]
     },
     "execution_count": 58,
     "metadata": {},
     "output_type": "execute_result"
    }
   ],
   "source": [
    "print(len(coded_texts))\n",
    "coded_texts"
   ]
  },
  {
   "cell_type": "code",
   "execution_count": 59,
   "metadata": {},
   "outputs": [
    {
     "name": "stdout",
     "output_type": "stream",
     "text": [
      "5\n"
     ]
    },
    {
     "data": {
      "text/plain": [
       "{'safety': 'The \"safety\" code highlights discussions where participants perceive robots as having inherent advantages in hazardous environments, emphasizing their immunity to threats like toxic gases, extreme temperatures, and dangerous chemicals that pose significant risks to human rescuers. This perception underscores a key benefit of deploying search and rescue robots, as they can operate in conditions that are otherwise lethal to humans, thereby enhancing overall mission safety.',\n",
       " 'hazardous environments': 'The code \"hazardous environments\" encapsulates discussions where participants highlight the ability of search and rescue robots to operate safely in environments that pose significant risks to human responders, such as those involving toxic gases, extreme temperatures, or hazardous chemicals. This code reflects the perceived benefit of deploying robots in scenarios where human safety would be severely compromised, emphasizing the robots\\' resilience and immunity to conditions that are otherwise life-threatening.',\n",
       " 'strength': 'The code \"strength\" captures discussions where participants highlight the physical robustness and superior force capabilities of search and rescue robots compared to humans, particularly in tasks like clearing debris or navigating challenging environments. This perceived benefit emphasizes the robots\\' ability to perform labor-intensive tasks that would be difficult or dangerous for human rescuers, thereby enhancing operational efficiency and safety.',\n",
       " 'efficiency': 'The code \"efficiency\" captures participants\\' perceptions of the search and rescue robot\\'s ability to perform tasks more effectively and swiftly than human counterparts, particularly in physically demanding scenarios such as clearing rubble. This perceived efficiency is highlighted as a significant benefit, suggesting that the robot\\'s strength and capability to handle arduous tasks can enhance overall rescue operations.',\n",
       " 'psychological safety': 'The code \"psychological safety\" refers to the perceived benefit of using search and rescue robots to mitigate the emotional and mental strain on human rescuers, as they are not directly exposed to potentially traumatic situations. This allows rescuers to maintain a sense of security and well-being, knowing that the robots can handle dangerous or distressing tasks.'}"
      ]
     },
     "execution_count": 59,
     "metadata": {},
     "output_type": "execute_result"
    }
   ],
   "source": [
    "print(len(code_descriptions))\n",
    "code_descriptions"
   ]
  },
  {
   "cell_type": "code",
   "execution_count": null,
   "metadata": {},
   "outputs": [
    {
     "name": "stdout",
     "output_type": "stream",
     "text": [
      "[{'robot': 'RR', 'category': 'SA', 'coded_texts': ['can save lives', 'more strong', 'better CPR', 'overall more productive', '**immune: a robot is immune to many dangers that would be deadly for humans such as smoke gases, chemicals, temperatures**<sup>safety; hazardous environments</sup>', 'are physically superior: Strength, agility, mobility', 'no distraction', '**unrestricted access: Robots can operate in environments that would be toxic to humans, e.g. areas contaminated with radiation.**<sup>safety; hazardous environments</sup>', 'rational efficiency: No suicidal experiments in rescue', 'reach the inaccessible', 'risk-free rescue: From the side of the rescuers, who do not have to put themselves in danger', 'for danger: can be used in times of danger instead of humans', 'enter dangerous situation', '**stronger than humans: In many situations, e.g. when clearing rubble, a great advantage.**<sup>strength; efficiency</sup>', 'supply with food', '**danger: less human danger**<sup>safety</sup>', 'by injuries', '**usable in emergencies: To inspect debris more accurately**<sup>efficiency; hazardous environments</sup>', 'care of victims', 'are mentally superior: **No trauma for rescuers**<sup>psychological safety</sup>', 'quick deployment', 'lifting heavy weights', 'improved approach', 'more/ easier access: Robots can create (easier) access to places where it would otherwise be more difficult.', 'stronger than humans', 'do not lose strength: Robots do not lose stamina while humans could lose strength during missions.', 'direct help: through water/food', 'less risk', 'better search capabilities: **Robots can search better in the dark and in smoke etc because they have numerous sensors**<sup>efficiency; hazardous environments</sup>', 'faster abolition: Rescue robots could shorten the path to doctors/hospitals and the abolition of injured people.'], 'code_descriptions': {'safety': 'The \"safety\" code highlights discussions where participants perceive robots as having inherent advantages in hazardous environments, emphasizing their immunity to threats like toxic gases, extreme temperatures, and dangerous chemicals that pose significant risks to human rescuers. This perception underscores a key benefit of deploying search and rescue robots, as they can operate in conditions that are otherwise lethal to humans, thereby enhancing overall mission safety.', 'hazardous environments': 'The code \"hazardous environments\" encapsulates discussions where participants highlight the ability of search and rescue robots to operate safely in environments that pose significant risks to human responders, such as those involving toxic gases, extreme temperatures, or hazardous chemicals. This code reflects the perceived benefit of deploying robots in scenarios where human safety would be severely compromised, emphasizing the robots\\' resilience and immunity to conditions that are otherwise life-threatening.', 'strength': 'The code \"strength\" captures discussions where participants highlight the physical robustness and superior force capabilities of search and rescue robots compared to humans, particularly in tasks like clearing debris or navigating challenging environments. This perceived benefit emphasizes the robots\\' ability to perform labor-intensive tasks that would be difficult or dangerous for human rescuers, thereby enhancing operational efficiency and safety.', 'efficiency': 'The code \"efficiency\" captures participants\\' perceptions of the search and rescue robot\\'s ability to perform tasks more effectively and swiftly than human counterparts, particularly in physically demanding scenarios such as clearing rubble. This perceived efficiency is highlighted as a significant benefit, suggesting that the robot\\'s strength and capability to handle arduous tasks can enhance overall rescue operations.', 'psychological safety': 'The code \"psychological safety\" refers to the perceived benefit of using search and rescue robots to mitigate the emotional and mental strain on human rescuers, as they are not directly exposed to potentially traumatic situations. This allows rescuers to maintain a sense of security and well-being, knowing that the robots can handle dangerous or distressing tasks.'}}, {'robot': 'RR_2', 'category': 'SA_2', 'coded_texts': ['can save lives', 'more strong', 'better CPR', 'overall more productive', '**immune: a robot is immune to many dangers that would be deadly for humans such as smoke gases, chemicals, temperatures**<sup>safety; hazardous environments</sup>', 'are physically superior: Strength, agility, mobility', 'no distraction', '**unrestricted access: Robots can operate in environments that would be toxic to humans, e.g. areas contaminated with radiation.**<sup>safety; hazardous environments</sup>', 'rational efficiency: No suicidal experiments in rescue', 'reach the inaccessible', 'risk-free rescue: From the side of the rescuers, who do not have to put themselves in danger', 'for danger: can be used in times of danger instead of humans', 'enter dangerous situation', '**stronger than humans: In many situations, e.g. when clearing rubble, a great advantage.**<sup>strength; efficiency</sup>', 'supply with food', '**danger: less human danger**<sup>safety</sup>', 'by injuries', '**usable in emergencies: To inspect debris more accurately**<sup>efficiency; hazardous environments</sup>', 'care of victims', 'are mentally superior: **No trauma for rescuers**<sup>psychological safety</sup>', 'quick deployment', 'lifting heavy weights', 'improved approach', 'more/ easier access: Robots can create (easier) access to places where it would otherwise be more difficult.', 'stronger than humans', 'do not lose strength: Robots do not lose stamina while humans could lose strength during missions.', 'direct help: through water/food', 'less risk', 'better search capabilities: **Robots can search better in the dark and in smoke etc because they have numerous sensors**<sup>efficiency; hazardous environments</sup>', 'faster abolition: Rescue robots could shorten the path to doctors/hospitals and the abolition of injured people.'], 'code_descriptions': {'safety': 'The \"safety\" code highlights discussions where participants perceive robots as having inherent advantages in hazardous environments, emphasizing their immunity to threats like toxic gases, extreme temperatures, and dangerous chemicals that pose significant risks to human rescuers. This perception underscores a key benefit of deploying search and rescue robots, as they can operate in conditions that are otherwise lethal to humans, thereby enhancing overall mission safety.', 'hazardous environments': 'The code \"hazardous environments\" encapsulates discussions where participants highlight the ability of search and rescue robots to operate safely in environments that pose significant risks to human responders, such as those involving toxic gases, extreme temperatures, or hazardous chemicals. This code reflects the perceived benefit of deploying robots in scenarios where human safety would be severely compromised, emphasizing the robots\\' resilience and immunity to conditions that are otherwise life-threatening.', 'strength': 'The code \"strength\" captures discussions where participants highlight the physical robustness and superior force capabilities of search and rescue robots compared to humans, particularly in tasks like clearing debris or navigating challenging environments. This perceived benefit emphasizes the robots\\' ability to perform labor-intensive tasks that would be difficult or dangerous for human rescuers, thereby enhancing operational efficiency and safety.', 'efficiency': 'The code \"efficiency\" captures participants\\' perceptions of the search and rescue robot\\'s ability to perform tasks more effectively and swiftly than human counterparts, particularly in physically demanding scenarios such as clearing rubble. This perceived efficiency is highlighted as a significant benefit, suggesting that the robot\\'s strength and capability to handle arduous tasks can enhance overall rescue operations.', 'psychological safety': 'The code \"psychological safety\" refers to the perceived benefit of using search and rescue robots to mitigate the emotional and mental strain on human rescuers, as they are not directly exposed to potentially traumatic situations. This allows rescuers to maintain a sense of security and well-being, knowing that the robots can handle dangerous or distressing tasks.'}}]\n"
     ]
    }
   ],
   "source": [
    "import json\n",
    "\n",
    "my_array = [\n",
    "    {'robot': 'RR', 'category': 'SA', 'coded_texts': coded_texts, 'code_descriptions': code_descriptions},\n",
    "    {'robot': 'RR_2', 'category': 'SA_2', 'coded_texts': coded_texts, 'code_descriptions': code_descriptions},\n",
    "]\n",
    "print(\"my_array:\\n\", my_array)\n",
    "\n",
    "file_path = directory + \"/output/G3/\" # + \"rescue robots\" + \".xlsx\"\n",
    "\n",
    "\n",
    "# Save to JSON file\n",
    "with open(file_path + 'output_LLMcode.json', 'w') as file:\n",
    "    json.dump(my_array, file, indent=4)\n",
    "\n",
    "# To load the data back\n",
    "with open(file_path + 'output_LLMcode.json', 'r') as file:\n",
    "    loaded_array = json.load(file)\n",
    "\n",
    "# Print loaded data\n",
    "print(\"loaded_array:\\n\", loaded_array)"
   ]
  },
  {
   "cell_type": "markdown",
   "metadata": {},
   "source": [
    "### run LLMCode (deductive)"
   ]
  },
  {
   "cell_type": "code",
   "execution_count": 62,
   "metadata": {},
   "outputs": [
    {
     "name": "stdout",
     "output_type": "stream",
     "text": [
      " |████████████████████████████████████████████████████████████████████████████████████████████████████| 100.0% \n"
     ]
    }
   ],
   "source": [
    "coded_texts_deductively = LLMCode.code_deductively(texts,\n",
    "                     research_question=research_question,\n",
    "                     codebook=code_descriptions,\n",
    "                     gpt_model=gpt_model,\n",
    "                     few_shot_examples=None,\n",
    "                     use_cache=True,\n",
    "                     verbose=False)"
   ]
  },
  {
   "cell_type": "code",
   "execution_count": 63,
   "metadata": {},
   "outputs": [
    {
     "data": {
      "text/plain": [
       "['**can save lives**<sup>safety</sup>',\n",
       " 'more **strong**<sup>strength</sup>',\n",
       " 'better CPR',\n",
       " 'overall **more productive**<sup>efficiency</sup>',\n",
       " 'immune: **a robot is immune to many dangers that would be deadly for humans such as smoke gases, chemicals, temperatures**<sup>hazardous environments; safety</sup>',\n",
       " 'are physically superior: **Strength, agility, mobility**<sup>strength</sup>',\n",
       " 'no distraction',\n",
       " 'unrestricted access: **Robots can operate in environments that would be toxic to humans, e.g. areas contaminated with radiation.**<sup>hazardous environments</sup>',\n",
       " '**rational efficiency**<sup>efficiency</sup>: No suicidal experiments in rescue',\n",
       " 'reach the **inaccessible**<sup>hazardous environments</sup>',\n",
       " 'risk-free rescue: **From the side of the rescuers, who do not have to put themselves in danger**<sup>safety</sup>',\n",
       " 'for danger: **can be used in times of danger instead of humans**<sup>safety; hazardous environments</sup>',\n",
       " '**enter dangerous situation**<sup>hazardous environments</sup>',\n",
       " 'stronger than humans: **In many situations, e.g. when clearing rubble, a great advantage.**<sup>strength; efficiency</sup>',\n",
       " 'supply with food',\n",
       " 'danger: **less human danger**<sup>safety; hazardous environments</sup>',\n",
       " 'by injuries',\n",
       " 'usable in emergencies: **To inspect debris more accurately**<sup>efficiency; hazardous environments</sup>',\n",
       " 'care of victims',\n",
       " 'are mentally superior: **No trauma for rescuers**<sup>psychological safety</sup>',\n",
       " 'quick **deployment**<sup>efficiency</sup>',\n",
       " 'lifting heavy weights',\n",
       " 'improved approach',\n",
       " 'more/ easier access: **Robots can create (easier) access to places where it would otherwise be more difficult.**<sup>efficiency; hazardous environments</sup>',\n",
       " '**stronger than humans**<sup>strength</sup>',\n",
       " 'do not lose strength: **Robots do not lose stamina while humans could lose strength during missions.**<sup>strength; efficiency</sup>',\n",
       " 'direct help: through water/food',\n",
       " 'less **risk**<sup>safety</sup>',\n",
       " 'better search capabilities: **Robots can search better in the dark and in smoke etc because they have numerous sensors**<sup>efficiency; hazardous environments</sup>',\n",
       " 'faster abolition: **Rescue robots could shorten the path to doctors/hospitals**<sup>efficiency</sup> and **the abolition of injured people**<sup>safety</sup>.']"
      ]
     },
     "execution_count": 63,
     "metadata": {},
     "output_type": "execute_result"
    }
   ],
   "source": [
    "coded_texts_deductively"
   ]
  },
  {
   "cell_type": "markdown",
   "metadata": {},
   "source": [
    "### analyze given codes"
   ]
  },
  {
   "cell_type": "code",
   "execution_count": 64,
   "metadata": {},
   "outputs": [],
   "source": [
    "#@title Show distribution of LLM-generated deductive codes\n",
    "\n",
    "# Parse all codes and highlights in LLM output\n",
    "code_highlights_ded = LLMCode.get_codes_and_highlights(coded_texts_deductively)\n"
   ]
  },
  {
   "cell_type": "code",
   "execution_count": 65,
   "metadata": {},
   "outputs": [
    {
     "data": {
      "text/plain": [
       "defaultdict(list,\n",
       "            {'safety': ['can save lives',\n",
       "              'a robot is immune to many dangers that would be deadly for humans such as smoke gases, chemicals, temperatures',\n",
       "              'From the side of the rescuers, who do not have to put themselves in danger',\n",
       "              'can be used in times of danger instead of humans',\n",
       "              'less human danger',\n",
       "              'risk',\n",
       "              'the abolition of injured people'],\n",
       "             'strength': ['strong',\n",
       "              'Strength, agility, mobility',\n",
       "              'In many situations, e.g. when clearing rubble, a great advantage.',\n",
       "              'stronger than humans',\n",
       "              'Robots do not lose stamina while humans could lose strength during missions.'],\n",
       "             'efficiency': ['more productive',\n",
       "              'rational efficiency',\n",
       "              'In many situations, e.g. when clearing rubble, a great advantage.',\n",
       "              'To inspect debris more accurately',\n",
       "              'deployment',\n",
       "              'Robots can create (easier) access to places where it would otherwise be more difficult.',\n",
       "              'Robots do not lose stamina while humans could lose strength during missions.',\n",
       "              'Robots can search better in the dark and in smoke etc because they have numerous sensors',\n",
       "              'Rescue robots could shorten the path to doctors/hospitals'],\n",
       "             'hazardous environments': ['a robot is immune to many dangers that would be deadly for humans such as smoke gases, chemicals, temperatures',\n",
       "              'Robots can operate in environments that would be toxic to humans, e.g. areas contaminated with radiation.',\n",
       "              'inaccessible',\n",
       "              'can be used in times of danger instead of humans',\n",
       "              'enter dangerous situation',\n",
       "              'less human danger',\n",
       "              'To inspect debris more accurately',\n",
       "              'Robots can create (easier) access to places where it would otherwise be more difficult.',\n",
       "              'Robots can search better in the dark and in smoke etc because they have numerous sensors'],\n",
       "             'psychological safety': ['No trauma for rescuers']})"
      ]
     },
     "execution_count": 65,
     "metadata": {},
     "output_type": "execute_result"
    }
   ],
   "source": [
    "code_highlights_ded"
   ]
  },
  {
   "cell_type": "code",
   "execution_count": 66,
   "metadata": {},
   "outputs": [
    {
     "data": {
      "application/vnd.plotly.v1+json": {
       "config": {
        "plotlyServerURL": "https://plot.ly"
       },
       "data": [
        {
         "alignmentgroup": "True",
         "hovertemplate": "Code=%{x}<br>Count=%{y}<extra></extra>",
         "legendgroup": "",
         "marker": {
          "color": "#636efa",
          "pattern": {
           "shape": ""
          }
         },
         "name": "",
         "offsetgroup": "",
         "orientation": "v",
         "showlegend": false,
         "textposition": "auto",
         "type": "bar",
         "x": [
          "efficiency",
          "hazardous environments",
          "safety",
          "strength",
          "psychological safety"
         ],
         "xaxis": "x",
         "y": [
          9,
          9,
          7,
          5,
          1
         ],
         "yaxis": "y"
        }
       ],
       "layout": {
        "barmode": "relative",
        "legend": {
         "tracegroupgap": 0
        },
        "template": {
         "data": {
          "bar": [
           {
            "error_x": {
             "color": "#2a3f5f"
            },
            "error_y": {
             "color": "#2a3f5f"
            },
            "marker": {
             "line": {
              "color": "#E5ECF6",
              "width": 0.5
             },
             "pattern": {
              "fillmode": "overlay",
              "size": 10,
              "solidity": 0.2
             }
            },
            "type": "bar"
           }
          ],
          "barpolar": [
           {
            "marker": {
             "line": {
              "color": "#E5ECF6",
              "width": 0.5
             },
             "pattern": {
              "fillmode": "overlay",
              "size": 10,
              "solidity": 0.2
             }
            },
            "type": "barpolar"
           }
          ],
          "carpet": [
           {
            "aaxis": {
             "endlinecolor": "#2a3f5f",
             "gridcolor": "white",
             "linecolor": "white",
             "minorgridcolor": "white",
             "startlinecolor": "#2a3f5f"
            },
            "baxis": {
             "endlinecolor": "#2a3f5f",
             "gridcolor": "white",
             "linecolor": "white",
             "minorgridcolor": "white",
             "startlinecolor": "#2a3f5f"
            },
            "type": "carpet"
           }
          ],
          "choropleth": [
           {
            "colorbar": {
             "outlinewidth": 0,
             "ticks": ""
            },
            "type": "choropleth"
           }
          ],
          "contour": [
           {
            "colorbar": {
             "outlinewidth": 0,
             "ticks": ""
            },
            "colorscale": [
             [
              0,
              "#0d0887"
             ],
             [
              0.1111111111111111,
              "#46039f"
             ],
             [
              0.2222222222222222,
              "#7201a8"
             ],
             [
              0.3333333333333333,
              "#9c179e"
             ],
             [
              0.4444444444444444,
              "#bd3786"
             ],
             [
              0.5555555555555556,
              "#d8576b"
             ],
             [
              0.6666666666666666,
              "#ed7953"
             ],
             [
              0.7777777777777778,
              "#fb9f3a"
             ],
             [
              0.8888888888888888,
              "#fdca26"
             ],
             [
              1,
              "#f0f921"
             ]
            ],
            "type": "contour"
           }
          ],
          "contourcarpet": [
           {
            "colorbar": {
             "outlinewidth": 0,
             "ticks": ""
            },
            "type": "contourcarpet"
           }
          ],
          "heatmap": [
           {
            "colorbar": {
             "outlinewidth": 0,
             "ticks": ""
            },
            "colorscale": [
             [
              0,
              "#0d0887"
             ],
             [
              0.1111111111111111,
              "#46039f"
             ],
             [
              0.2222222222222222,
              "#7201a8"
             ],
             [
              0.3333333333333333,
              "#9c179e"
             ],
             [
              0.4444444444444444,
              "#bd3786"
             ],
             [
              0.5555555555555556,
              "#d8576b"
             ],
             [
              0.6666666666666666,
              "#ed7953"
             ],
             [
              0.7777777777777778,
              "#fb9f3a"
             ],
             [
              0.8888888888888888,
              "#fdca26"
             ],
             [
              1,
              "#f0f921"
             ]
            ],
            "type": "heatmap"
           }
          ],
          "heatmapgl": [
           {
            "colorbar": {
             "outlinewidth": 0,
             "ticks": ""
            },
            "colorscale": [
             [
              0,
              "#0d0887"
             ],
             [
              0.1111111111111111,
              "#46039f"
             ],
             [
              0.2222222222222222,
              "#7201a8"
             ],
             [
              0.3333333333333333,
              "#9c179e"
             ],
             [
              0.4444444444444444,
              "#bd3786"
             ],
             [
              0.5555555555555556,
              "#d8576b"
             ],
             [
              0.6666666666666666,
              "#ed7953"
             ],
             [
              0.7777777777777778,
              "#fb9f3a"
             ],
             [
              0.8888888888888888,
              "#fdca26"
             ],
             [
              1,
              "#f0f921"
             ]
            ],
            "type": "heatmapgl"
           }
          ],
          "histogram": [
           {
            "marker": {
             "pattern": {
              "fillmode": "overlay",
              "size": 10,
              "solidity": 0.2
             }
            },
            "type": "histogram"
           }
          ],
          "histogram2d": [
           {
            "colorbar": {
             "outlinewidth": 0,
             "ticks": ""
            },
            "colorscale": [
             [
              0,
              "#0d0887"
             ],
             [
              0.1111111111111111,
              "#46039f"
             ],
             [
              0.2222222222222222,
              "#7201a8"
             ],
             [
              0.3333333333333333,
              "#9c179e"
             ],
             [
              0.4444444444444444,
              "#bd3786"
             ],
             [
              0.5555555555555556,
              "#d8576b"
             ],
             [
              0.6666666666666666,
              "#ed7953"
             ],
             [
              0.7777777777777778,
              "#fb9f3a"
             ],
             [
              0.8888888888888888,
              "#fdca26"
             ],
             [
              1,
              "#f0f921"
             ]
            ],
            "type": "histogram2d"
           }
          ],
          "histogram2dcontour": [
           {
            "colorbar": {
             "outlinewidth": 0,
             "ticks": ""
            },
            "colorscale": [
             [
              0,
              "#0d0887"
             ],
             [
              0.1111111111111111,
              "#46039f"
             ],
             [
              0.2222222222222222,
              "#7201a8"
             ],
             [
              0.3333333333333333,
              "#9c179e"
             ],
             [
              0.4444444444444444,
              "#bd3786"
             ],
             [
              0.5555555555555556,
              "#d8576b"
             ],
             [
              0.6666666666666666,
              "#ed7953"
             ],
             [
              0.7777777777777778,
              "#fb9f3a"
             ],
             [
              0.8888888888888888,
              "#fdca26"
             ],
             [
              1,
              "#f0f921"
             ]
            ],
            "type": "histogram2dcontour"
           }
          ],
          "mesh3d": [
           {
            "colorbar": {
             "outlinewidth": 0,
             "ticks": ""
            },
            "type": "mesh3d"
           }
          ],
          "parcoords": [
           {
            "line": {
             "colorbar": {
              "outlinewidth": 0,
              "ticks": ""
             }
            },
            "type": "parcoords"
           }
          ],
          "pie": [
           {
            "automargin": true,
            "type": "pie"
           }
          ],
          "scatter": [
           {
            "fillpattern": {
             "fillmode": "overlay",
             "size": 10,
             "solidity": 0.2
            },
            "type": "scatter"
           }
          ],
          "scatter3d": [
           {
            "line": {
             "colorbar": {
              "outlinewidth": 0,
              "ticks": ""
             }
            },
            "marker": {
             "colorbar": {
              "outlinewidth": 0,
              "ticks": ""
             }
            },
            "type": "scatter3d"
           }
          ],
          "scattercarpet": [
           {
            "marker": {
             "colorbar": {
              "outlinewidth": 0,
              "ticks": ""
             }
            },
            "type": "scattercarpet"
           }
          ],
          "scattergeo": [
           {
            "marker": {
             "colorbar": {
              "outlinewidth": 0,
              "ticks": ""
             }
            },
            "type": "scattergeo"
           }
          ],
          "scattergl": [
           {
            "marker": {
             "colorbar": {
              "outlinewidth": 0,
              "ticks": ""
             }
            },
            "type": "scattergl"
           }
          ],
          "scattermapbox": [
           {
            "marker": {
             "colorbar": {
              "outlinewidth": 0,
              "ticks": ""
             }
            },
            "type": "scattermapbox"
           }
          ],
          "scatterpolar": [
           {
            "marker": {
             "colorbar": {
              "outlinewidth": 0,
              "ticks": ""
             }
            },
            "type": "scatterpolar"
           }
          ],
          "scatterpolargl": [
           {
            "marker": {
             "colorbar": {
              "outlinewidth": 0,
              "ticks": ""
             }
            },
            "type": "scatterpolargl"
           }
          ],
          "scatterternary": [
           {
            "marker": {
             "colorbar": {
              "outlinewidth": 0,
              "ticks": ""
             }
            },
            "type": "scatterternary"
           }
          ],
          "surface": [
           {
            "colorbar": {
             "outlinewidth": 0,
             "ticks": ""
            },
            "colorscale": [
             [
              0,
              "#0d0887"
             ],
             [
              0.1111111111111111,
              "#46039f"
             ],
             [
              0.2222222222222222,
              "#7201a8"
             ],
             [
              0.3333333333333333,
              "#9c179e"
             ],
             [
              0.4444444444444444,
              "#bd3786"
             ],
             [
              0.5555555555555556,
              "#d8576b"
             ],
             [
              0.6666666666666666,
              "#ed7953"
             ],
             [
              0.7777777777777778,
              "#fb9f3a"
             ],
             [
              0.8888888888888888,
              "#fdca26"
             ],
             [
              1,
              "#f0f921"
             ]
            ],
            "type": "surface"
           }
          ],
          "table": [
           {
            "cells": {
             "fill": {
              "color": "#EBF0F8"
             },
             "line": {
              "color": "white"
             }
            },
            "header": {
             "fill": {
              "color": "#C8D4E3"
             },
             "line": {
              "color": "white"
             }
            },
            "type": "table"
           }
          ]
         },
         "layout": {
          "annotationdefaults": {
           "arrowcolor": "#2a3f5f",
           "arrowhead": 0,
           "arrowwidth": 1
          },
          "autotypenumbers": "strict",
          "coloraxis": {
           "colorbar": {
            "outlinewidth": 0,
            "ticks": ""
           }
          },
          "colorscale": {
           "diverging": [
            [
             0,
             "#8e0152"
            ],
            [
             0.1,
             "#c51b7d"
            ],
            [
             0.2,
             "#de77ae"
            ],
            [
             0.3,
             "#f1b6da"
            ],
            [
             0.4,
             "#fde0ef"
            ],
            [
             0.5,
             "#f7f7f7"
            ],
            [
             0.6,
             "#e6f5d0"
            ],
            [
             0.7,
             "#b8e186"
            ],
            [
             0.8,
             "#7fbc41"
            ],
            [
             0.9,
             "#4d9221"
            ],
            [
             1,
             "#276419"
            ]
           ],
           "sequential": [
            [
             0,
             "#0d0887"
            ],
            [
             0.1111111111111111,
             "#46039f"
            ],
            [
             0.2222222222222222,
             "#7201a8"
            ],
            [
             0.3333333333333333,
             "#9c179e"
            ],
            [
             0.4444444444444444,
             "#bd3786"
            ],
            [
             0.5555555555555556,
             "#d8576b"
            ],
            [
             0.6666666666666666,
             "#ed7953"
            ],
            [
             0.7777777777777778,
             "#fb9f3a"
            ],
            [
             0.8888888888888888,
             "#fdca26"
            ],
            [
             1,
             "#f0f921"
            ]
           ],
           "sequentialminus": [
            [
             0,
             "#0d0887"
            ],
            [
             0.1111111111111111,
             "#46039f"
            ],
            [
             0.2222222222222222,
             "#7201a8"
            ],
            [
             0.3333333333333333,
             "#9c179e"
            ],
            [
             0.4444444444444444,
             "#bd3786"
            ],
            [
             0.5555555555555556,
             "#d8576b"
            ],
            [
             0.6666666666666666,
             "#ed7953"
            ],
            [
             0.7777777777777778,
             "#fb9f3a"
            ],
            [
             0.8888888888888888,
             "#fdca26"
            ],
            [
             1,
             "#f0f921"
            ]
           ]
          },
          "colorway": [
           "#636efa",
           "#EF553B",
           "#00cc96",
           "#ab63fa",
           "#FFA15A",
           "#19d3f3",
           "#FF6692",
           "#B6E880",
           "#FF97FF",
           "#FECB52"
          ],
          "font": {
           "color": "#2a3f5f"
          },
          "geo": {
           "bgcolor": "white",
           "lakecolor": "white",
           "landcolor": "#E5ECF6",
           "showlakes": true,
           "showland": true,
           "subunitcolor": "white"
          },
          "hoverlabel": {
           "align": "left"
          },
          "hovermode": "closest",
          "mapbox": {
           "style": "light"
          },
          "paper_bgcolor": "white",
          "plot_bgcolor": "#E5ECF6",
          "polar": {
           "angularaxis": {
            "gridcolor": "white",
            "linecolor": "white",
            "ticks": ""
           },
           "bgcolor": "#E5ECF6",
           "radialaxis": {
            "gridcolor": "white",
            "linecolor": "white",
            "ticks": ""
           }
          },
          "scene": {
           "xaxis": {
            "backgroundcolor": "#E5ECF6",
            "gridcolor": "white",
            "gridwidth": 2,
            "linecolor": "white",
            "showbackground": true,
            "ticks": "",
            "zerolinecolor": "white"
           },
           "yaxis": {
            "backgroundcolor": "#E5ECF6",
            "gridcolor": "white",
            "gridwidth": 2,
            "linecolor": "white",
            "showbackground": true,
            "ticks": "",
            "zerolinecolor": "white"
           },
           "zaxis": {
            "backgroundcolor": "#E5ECF6",
            "gridcolor": "white",
            "gridwidth": 2,
            "linecolor": "white",
            "showbackground": true,
            "ticks": "",
            "zerolinecolor": "white"
           }
          },
          "shapedefaults": {
           "line": {
            "color": "#2a3f5f"
           }
          },
          "ternary": {
           "aaxis": {
            "gridcolor": "white",
            "linecolor": "white",
            "ticks": ""
           },
           "baxis": {
            "gridcolor": "white",
            "linecolor": "white",
            "ticks": ""
           },
           "bgcolor": "#E5ECF6",
           "caxis": {
            "gridcolor": "white",
            "linecolor": "white",
            "ticks": ""
           }
          },
          "title": {
           "x": 0.05
          },
          "xaxis": {
           "automargin": true,
           "gridcolor": "white",
           "linecolor": "white",
           "ticks": "",
           "title": {
            "standoff": 15
           },
           "zerolinecolor": "white",
           "zerolinewidth": 2
          },
          "yaxis": {
           "automargin": true,
           "gridcolor": "white",
           "linecolor": "white",
           "ticks": "",
           "title": {
            "standoff": 15
           },
           "zerolinecolor": "white",
           "zerolinewidth": 2
          }
         }
        },
        "title": {
         "text": "LLM-generated inductive codes"
        },
        "xaxis": {
         "anchor": "y",
         "domain": [
          0,
          1
         ],
         "tickangle": -45,
         "title": {
          "text": "Code"
         }
        },
        "yaxis": {
         "anchor": "x",
         "domain": [
          0,
          1
         ],
         "title": {
          "text": "Count"
         }
        }
       }
      }
     },
     "metadata": {},
     "output_type": "display_data"
    }
   ],
   "source": [
    "import plotly.express as px\n",
    "\n",
    "\n",
    "# @title\n",
    "def plot_generated_codes(code_highlights, title):\n",
    "    code_counts = [(code, len(highlights)) for code, highlights in code_highlights.items()]\n",
    "    df_codes = pd.DataFrame(code_counts, columns=['Code', 'Count'])\n",
    "    df_codes = df_codes.sort_values(by='Count', ascending=False).reset_index(drop=True)\n",
    "\n",
    "    # Create a vertical bar plot using Plotly with angled x-axis labels\n",
    "    fig = px.bar(df_codes, x='Code', y='Count', title=title)\n",
    "\n",
    "    # Update layout to angle x-axis labels at 45 degrees\n",
    "    fig.update_layout(xaxis_tickangle=-45)\n",
    "    fig.show()\n",
    "\n",
    "# Parse all codes and highlights in LLM output\n",
    "plot_generated_codes(code_highlights_ded, 'LLM-generated inductive codes')"
   ]
  },
  {
   "cell_type": "markdown",
   "metadata": {},
   "source": [
    "## Multiple Runs\n",
    "\n",
    "### run LLMCode (inductive)\n",
    "\n",
    "a toolkit for AI-assisted qualitative data analysis\n",
    "\n",
    "\n",
    "few shots examples are fixed for all runs:"
   ]
  },
  {
   "cell_type": "code",
   "execution_count": null,
   "metadata": {},
   "outputs": [],
   "source": [
    "few_shot_examples = pd.DataFrame({\n",
    "    \"text\": [\n",
    "        \"The game and it's graphics, music and story made me feel calm and happy  in a way nothing else could at the time. Playing it felt like a journey to another, better place , and that's art to me.\",\n",
    "        \"I played the game Kairo, or Cairo I can't remember, it was an atmospheric puzzle game with big rooms filled with mist and interesting lighting, all the textures were concrete\"],\n",
    "    \"coded_text\": [\n",
    "        \"The game and it's graphics, music and story **made me feel calm and happy**<sup>emotional response</sup> in a way nothing else could at the time. **Playing it felt like a journey to another, better place**<sup>setting; immersion</sup>, and that's art to me.\",\n",
    "        \"I played the game Kairo, or Cairo I can't remember, **it was an atmospheric puzzle game with big rooms filled with mist and interesting lighting, all the textures were concrete**<sup>setting; creativity</sup>\"\n",
    "    ]\n",
    "})"
   ]
  },
  {
   "cell_type": "markdown",
   "metadata": {},
   "source": [
    "function to run multiple times..."
   ]
  },
  {
   "cell_type": "code",
   "execution_count": null,
   "metadata": {},
   "outputs": [
    {
     "name": "stdout",
     "output_type": "stream",
     "text": [
      "index: 0, category: TP\n",
      "20\n",
      "research_question:\n",
      " What are the mentioned key benefits and risks regarding the perceived technological possibilities of socially assistive robots?\n",
      " |███████████████-------------------------------------------------------------------------------------| 15.0% Warning: LLM output differs from the original text, with edit distance 50\n",
      "Original text: \"reporting: about all kinds of people\"\n",
      "LLM output: \"The text contains no insights relevant to the research question.\"\n",
      "Text reconstruction successful\n",
      "\n",
      "Had to reconstruct 1 texts due to LLM errors\n",
      " |████████████████████--------------------------------------------------------------------------------| 20.0% Warning: LLM output differs from the original text, with edit distance 56\n",
      "Original text: \"Is always available\"\n",
      "LLM output: \"The text contains no insights relevant to the research question.\"\n",
      "Text reconstruction successful\n",
      "\n",
      "Had to reconstruct 1 texts due to LLM errors\n",
      " |█████████████████████████---------------------------------------------------------------------------| 25.0% Warning: LLM output differs from the original text, with edit distance 48\n",
      "Original text: \"education: Robots as learning assistants\"\n",
      "LLM output: \"The text contains no insights relevant to the research question.\"\n",
      "Text reconstruction successful\n",
      "\n",
      "Had to reconstruct 1 texts due to LLM errors\n",
      " |██████████████████████████████----------------------------------------------------------------------| 30.0% Warning: LLM output differs from the original text, with edit distance 18\n",
      "Original text: \"always available: Robots are almost always ready for use, which is particularly helpful for people who need round-the-clock care.\"\n",
      "LLM output: \"**Robots are almost always ready for use, which is particularly helpful for people who need round-the-clock care**<sup>availability</sup>.\"\n",
      "Text reconstruction successful\n",
      "\n",
      "Had to reconstruct 1 texts due to LLM errors\n",
      " |██████████████████████████████████████████████████████████████████████------------------------------| 70.0% Warning: LLM output differs from the original text, with edit distance 57\n",
      "Original text: \"well adaptable\"\n",
      "LLM output: \"The text contains no insights relevant to the research question.\"\n",
      "Text reconstruction successful\n",
      "\n",
      "Had to reconstruct 1 texts due to LLM errors\n",
      " |███████████████████████████████████████████████████████████████████████████-------------------------| 75.0% Warning: LLM output differs from the original text, with edit distance 350\n",
      "Original text: \"time saving: The caregivers no longer have to spend so much time with all those needing care, but can use robots instead.\"\n",
      "LLM output: \"***time saving: The caregivers no longer have to spend so much time with all those needing care, but can use robots instead.***<sup>organization</sup>\n",
      "\n",
      "MAIN INSIGHTS:\n",
      "The key benefit mentioned in the text is the time-saving aspect for caregivers, as they can use robots to assist with care tasks, reducing the time spent on individual care needs. However, the potential risk of reduced human interaction and the need to ensure the robots are capable of providing adequate care are also highlighted.\"\n",
      "Text reconstruction successful\n",
      "\n",
      "Had to reconstruct 1 texts due to LLM errors\n",
      " |████████████████████████████████████████████████████████████████████████████████--------------------| 80.0% Warning: LLM output differs from the original text, with edit distance 68\n",
      "Original text: \"meal preparation: Could pay attention to scientific standards when it comes to healthy eating\"\n",
      "LLM output: \"The text contains no insights relevant to the research question.\"\n",
      "Text reconstruction successful\n",
      "\n",
      "Had to reconstruct 1 texts due to LLM errors\n",
      " |████████████████████████████████████████████████████████████████████████████████████████████████████| 100.0% \n",
      "index: 1, category: TL\n",
      "20\n",
      "research_question:\n",
      " What are the mentioned key benefits and risks regarding the perceived technological limitations of socially assistive robots?\n",
      " |█████-----------------------------------------------------------------------------------------------| 5.0% Warning: LLM output differs from the original text, with edit distance 19\n",
      "Original text: \"complex operation: The robots could be difficult to configure and operate.\"\n",
      "LLM output: \"**The robots could be difficult to configure and operate**<sup>complex operation</sup>.\"\n",
      "Text reconstruction successful\n",
      "\n",
      "Had to reconstruct 1 texts due to LLM errors\n",
      " |████████████████████--------------------------------------------------------------------------------| 20.0% Warning: LLM output differs from the original text, with edit distance 26\n",
      "Original text: \"technical progress: The technology is not ready to widely recognize human emotions in the form of robots and to work like humans. Thus, no safety can be guaranteed.\"\n",
      "LLM output: \"**The technology is not ready to widely recognize human emotions in the form of robots and to work like humans.**<sup>technical progress</sup>; no safety can be guaranteed.\"\n",
      "Text reconstruction successful\n",
      "\n",
      "Had to reconstruct 1 texts due to LLM errors\n",
      " |███████████████████████████████████-----------------------------------------------------------------| 35.0% Warning: LLM output differs from the original text, with edit distance 53\n",
      "Original text: \"Has limited abilities\"\n",
      "LLM output: \"The text contains no insights relevant to the research question.\"\n",
      "Text reconstruction successful\n",
      "\n",
      "Had to reconstruct 1 texts due to LLM errors\n",
      " |█████████████████████████████████████████████-------------------------------------------------------| 45.0% Warning: LLM output differs from the original text, with edit distance 17\n",
      "Original text: \"prone to errors: Artificial helpers make fewer careless mistakes than humans, but they may not understand glaring errors.\"\n",
      "LLM output: \"**Artificial helpers make fewer careless mistakes than humans**, but they may not understand glaring errors.<sup>prone to errors</sup>\"\n",
      "Text reconstruction successful\n",
      "\n",
      "Had to reconstruct 1 texts due to LLM errors\n",
      " |█████████████████████████████████████████████████████████████████-----------------------------------| 65.0% Warning: LLM output differs from the original text, with edit distance 54\n",
      "Original text: \"difficult to adapt\"\n",
      "LLM output: \"The text contains no insights relevant to the research question.\"\n",
      "Text reconstruction successful\n",
      "\n",
      "Had to reconstruct 1 texts due to LLM errors\n",
      " |████████████████████████████████████████████████████████████████████████████████████████████████████| 100.0% \n",
      "index: 2, category: SA\n",
      "20\n",
      "research_question:\n",
      " What are the mentioned key benefits and risks regarding the perceived safety of socially assistive robots?\n",
      " |█████-----------------------------------------------------------------------------------------------| 5.0% Warning: LLM output differs from the original text, with edit distance 49\n",
      "Original text: \"few physical risks: e.g. through injuries\"\n",
      "LLM output: \"The text contains no insights relevant to the research question.\"\n",
      "Text reconstruction successful\n",
      "\n",
      "Had to reconstruct 1 texts due to LLM errors\n",
      " |██████████------------------------------------------------------------------------------------------| 10.0% Warning: LLM output differs from the original text, with edit distance 45\n",
      "Original text: \"always correct\"\n",
      "LLM output: \"There are no coded statements in the text provided.\"\n",
      "Text reconstruction successful\n",
      "\n",
      "Had to reconstruct 1 texts due to LLM errors\n",
      " |███████████████-------------------------------------------------------------------------------------| 15.0% Warning: LLM output differs from the original text, with edit distance 49\n",
      "Original text: \"reduced risk of injury: through soft materials\"\n",
      "LLM output: \"The text contains no insights relevant to the research question.\"\n",
      "Text reconstruction successful\n",
      "\n",
      "Had to reconstruct 1 texts due to LLM errors\n",
      " |████████████████████--------------------------------------------------------------------------------| 20.0% Warning: LLM output differs from the original text, with edit distance 56\n",
      "Original text: \"low risk of injury\"\n",
      "LLM output: \"The text contains no insights relevant to the research question.\"\n",
      "Text reconstruction successful\n",
      "\n",
      "Had to reconstruct 1 texts due to LLM errors\n",
      " |█████████████████████████---------------------------------------------------------------------------| 25.0% Warning: LLM output differs from the original text, with edit distance 51\n",
      "Original text: \"more reliable than humans\"\n",
      "LLM output: \"The text contains no insights relevant to the research question.\"\n",
      "Text reconstruction successful\n",
      "\n",
      "Had to reconstruct 1 texts due to LLM errors\n",
      " |██████████████████████████████----------------------------------------------------------------------| 30.0% Warning: LLM output differs from the original text, with edit distance 58\n",
      "Original text: \"efficient: Work on statistics can be made more efficient through probabilities.\"\n",
      "LLM output: \"The text contains no insights relevant to the research question.\"\n",
      "Text reconstruction successful\n",
      "\n",
      "Had to reconstruct 1 texts due to LLM errors\n",
      " |███████████████████████████████████-----------------------------------------------------------------| 35.0% Warning: LLM output differs from the original text, with edit distance 39\n",
      "Original text: \"more attentive\"\n",
      "LLM output: \"There are no coded statements in the text provided.\"\n",
      "Text reconstruction successful\n",
      "\n",
      "Had to reconstruct 1 texts due to LLM errors\n",
      " |████████████████████████████████████████------------------------------------------------------------| 40.0% Warning: LLM output differs from the original text, with edit distance 8\n",
      "Original text: \"safety: Soft material reduces risk of injury\"\n",
      "LLM output: \"**Soft material reduces risk of injury**<sup>safety</sup>\"\n",
      "Text reconstruction successful\n",
      "\n",
      "Had to reconstruct 1 texts due to LLM errors\n",
      " |████████████████████████████████████████████████████████████████████████████████████████████████████| 100.0% \n",
      "index: 3, category: R\n",
      "20\n",
      "research_question:\n",
      " What are the mentioned key benefits and risks regarding the perceived risks of socially assistive robots?\n",
      " |█████-----------------------------------------------------------------------------------------------| 5.0% Warning: LLM output differs from the original text, with edit distance 80\n",
      "Original text: \"device failure: If devices break down or have malfunctions, it can negatively affect the use of the robots\"\n",
      "LLM output: \"The text contains no insights relevant to the research question.\"\n",
      "Text reconstruction successful\n",
      "\n",
      "Had to reconstruct 1 texts due to LLM errors\n",
      " |███████████████████████████████████-----------------------------------------------------------------| 35.0% Warning: LLM output differs from the original text, with edit distance 2\n",
      "Original text: \"influence through human likeness\"\n",
      "LLM output: \"***influence through human likeness***\"\n",
      "Distance less than treshold 5, accept\n",
      "\n",
      " |████████████████████████████████████████------------------------------------------------------------| 40.0% Warning: LLM output differs from the original text, with edit distance 52\n",
      "Original text: \"repair/ maintenance\"\n",
      "LLM output: \"The text contains no insights relevant to the research question.\"\n",
      "Text reconstruction successful\n",
      "\n",
      "Had to reconstruct 1 texts due to LLM errors\n",
      " |█████████████████████████████████████████████-------------------------------------------------------| 45.0% Warning: LLM output differs from the original text, with edit distance 49\n",
      "Original text: \"wrong conditions can harm\"\n",
      "LLM output: \"The text contains no insights relevant to the research question.\"\n",
      "Text reconstruction successful\n",
      "\n",
      "Had to reconstruct 1 texts due to LLM errors\n",
      " |███████████████████████████████████████████████████████---------------------------------------------| 55.0% Warning: LLM output differs from the original text, with edit distance 2\n",
      "Original text: \"risk of injury: with non-soft robots, but also with faulty processing with soft ones\"\n",
      "LLM output: \"***risk of injury: with non-soft robots, but also with faulty processing with soft ones***<sup>physical safety</sup>\"\n",
      "Distance less than treshold 5, accept\n",
      "\n",
      " |████████████████████████████████████████████████████████████----------------------------------------| 60.0% Warning: LLM output differs from the original text, with edit distance 51\n",
      "Original text: \"data security: Cannot be 100% sure\"\n",
      "LLM output: \"The text contains no insights relevant to the research question.\"\n",
      "Text reconstruction successful\n",
      "\n",
      "Had to reconstruct 1 texts due to LLM errors\n",
      " |█████████████████████████████████████████████████████████████████-----------------------------------| 65.0% Warning: LLM output differs from the original text, with edit distance 61\n",
      "Original text: \"helplessness in case of failures: Technical problems could cause helplessness\"\n",
      "LLM output: \"The text contains no insights relevant to the research question.\"\n",
      "Text reconstruction successful\n",
      "\n",
      "Had to reconstruct 1 texts due to LLM errors\n",
      " |██████████████████████████████████████████████████████████████████████------------------------------| 70.0% Warning: LLM output differs from the original text, with edit distance 51\n",
      "Original text: \"possible data protection issues\"\n",
      "LLM output: \"The text contains no insights relevant to the research question.\"\n",
      "Text reconstruction successful\n",
      "\n",
      "Had to reconstruct 1 texts due to LLM errors\n",
      " |████████████████████████████████████████████████████████████████████████████████--------------------| 80.0% Warning: LLM output differs from the original text, with edit distance 6\n",
      "Original text: \"Unforeseen reactions: Reactions of robots can turn out differently than desired if the program does not work 100% correctly.\"\n",
      "LLM output: \"***\n",
      "\n",
      "Unforeseen reactions: Reactions of robots can turn out differently than desired if the program does not work 100% correctly.<sup>potential consequences</sup>\n",
      "\n",
      "***\"\n",
      "Text reconstruction successful\n",
      "\n",
      "Had to reconstruct 1 texts due to LLM errors\n",
      " |██████████████████████████████████████████████████████████████████████████████████████████----------| 90.0% Warning: LLM output differs from the original text, with edit distance 6\n",
      "Original text: \"dangers: Similar to what was mentioned before. It can lead to interpersonal desensitization.\"\n",
      "LLM output: \"***\n",
      "\n",
      "dangers: Similar to what was mentioned before. **It can lead to interpersonal desensitization**<sup>interpersonal desensitization</sup>.\n",
      "\n",
      "***\"\n",
      "Text reconstruction successful\n",
      "\n",
      "Had to reconstruct 1 texts due to LLM errors\n",
      " |███████████████████████████████████████████████████████████████████████████████████████████████-----| 95.0% Warning: LLM output differs from the original text, with edit distance 7\n",
      "Original text: \"information security: Depending on the specification of the robots, data losses can occur and pose a danger.\"\n",
      "LLM output: \"*** \n",
      "\n",
      "information security: Depending on the specification of the robots, **data losses can occur and pose a danger**<sup>potential risk</sup>.\n",
      "\n",
      "***\"\n",
      "Text reconstruction successful\n",
      "\n",
      "Had to reconstruct 1 texts due to LLM errors\n",
      " |████████████████████████████████████████████████████████████████████████████████████████████████████| 100.0% \n",
      "index: 4, category: HRIP\n",
      "20\n",
      "research_question:\n",
      " What are the mentioned key benefits and risks regarding the perceived positive Human-Robot-Interaction of socially assistive robots?\n",
      " |█████-----------------------------------------------------------------------------------------------| 5.0% Warning: LLM output differs from the original text, with edit distance 41\n",
      "Original text: \"easy interaction\"\n",
      "LLM output: \"There are no coded statements in the text provided.\"\n",
      "Text reconstruction successful\n",
      "\n",
      "Had to reconstruct 1 texts due to LLM errors\n",
      " |██████████------------------------------------------------------------------------------------------| 10.0% Warning: LLM output differs from the original text, with edit distance 176\n",
      "Original text: \"acceptance of help: There are people who find it very difficult to give up their independence, which they lose due to illness, disability or age. These individuals might prefer to be supported by artificial assistants.\"\n",
      "LLM output: \"The text contains no insights relevant to the research question.\"\n",
      "Text reconstruction successful\n",
      "\n",
      "Had to reconstruct 1 texts due to LLM errors\n",
      " |███████████████-------------------------------------------------------------------------------------| 15.0% Warning: LLM output differs from the original text, with edit distance 52\n",
      "Original text: \"promotion of interactions: For improving communication skills\"\n",
      "LLM output: \"The text contains no insights relevant to the research question.\"\n",
      "Text reconstruction successful\n",
      "\n",
      "Had to reconstruct 1 texts due to LLM errors\n",
      " |████████████████████--------------------------------------------------------------------------------| 20.0% Warning: LLM output differs from the original text, with edit distance 103\n",
      "Original text: \"personal care: For example, in nursing homes the caregivers often change. A robot could be programmed to cater exactly to one resident.\"\n",
      "LLM output: \"The text contains no insights relevant to the research question.\"\n",
      "Text reconstruction successful\n",
      "\n",
      "Had to reconstruct 1 texts due to LLM errors\n",
      " |██████████████████████████████████████████████████████████████████████------------------------------| 70.0% Warning: LLM output differs from the original text, with edit distance 53\n",
      "Original text: \"helpful: Helpful for autism or similar disorders\"\n",
      "LLM output: \"The text contains no insights relevant to the research question.\"\n",
      "Text reconstruction successful\n",
      "\n",
      "Had to reconstruct 1 texts due to LLM errors\n",
      " |███████████████████████████████████████████████████████████████████████████-------------------------| 75.0% Warning: LLM output differs from the original text, with edit distance 29\n",
      "Original text: \"taking over degrading tasks: Physical care is associated with shame. Patients might find it more pleasant to have physical care performed by robots and to encounter caregivers in social settings.\"\n",
      "LLM output: \"**Physical care is associated with shame.**<sup>taking over degrading tasks; benefit</sup> Patients might find it more pleasant to have physical care performed by robots and to encounter caregivers in social settings.\"\n",
      "Text reconstruction successful\n",
      "\n",
      "Had to reconstruct 1 texts due to LLM errors\n",
      " |████████████████████████████████████████████████████████████████████████████████--------------------| 80.0% Warning: LLM output differs from the original text, with edit distance 51\n",
      "Original text: \"helpful with loneliness\"\n",
      "LLM output: \"The text contains no insights relevant to the research question.\"\n",
      "Text reconstruction successful\n",
      "\n",
      "Had to reconstruct 1 texts due to LLM errors\n",
      " |████████████████████████████████████████████████████████████████████████████████████████████████████| 100.0% \n",
      "index: 5, category: HRIN\n",
      "20\n",
      "research_question:\n",
      " What are the mentioned key benefits and risks regarding the perceived negative Human-Robot-Interaction of socially assistive robots?\n",
      " |█████-----------------------------------------------------------------------------------------------| 5.0% Warning: LLM output differs from the original text, with edit distance 67\n",
      "Original text: \"humans emotionally replaced: human closeness is being replaced with assistance robots\"\n",
      "LLM output: \"The text contains no insights relevant to the research question.\"\n",
      "Text reconstruction successful\n",
      "\n",
      "Had to reconstruct 1 texts due to LLM errors\n",
      " |██████████------------------------------------------------------------------------------------------| 10.0% Warning: LLM output differs from the original text, with edit distance 48\n",
      "Original text: \"too impersonal: Contact with real people is important.\"\n",
      "LLM output: \"The text contains no insights relevant to the research question.\"\n",
      "Text reconstruction successful\n",
      "\n",
      "Had to reconstruct 1 texts due to LLM errors\n",
      " |███████████████-------------------------------------------------------------------------------------| 15.0% Warning: LLM output differs from the original text, with edit distance 37\n",
      "Original text: \"reaction instead of interaction\"\n",
      "LLM output: \"There are no coded statements in the text provided.\"\n",
      "Text reconstruction successful\n",
      "\n",
      "Had to reconstruct 1 texts due to LLM errors\n",
      " |████████████████████--------------------------------------------------------------------------------| 20.0% Warning: LLM output differs from the original text, with edit distance 51\n",
      "Original text: \"greater risk of dependency\"\n",
      "LLM output: \"The text contains no insights relevant to the research question.\"\n",
      "Text reconstruction successful\n",
      "\n",
      "Had to reconstruct 1 texts due to LLM errors\n",
      " |████████████████████████████████████████------------------------------------------------------------| 40.0% Warning: LLM output differs from the original text, with edit distance 77\n",
      "Original text: \"human needs difficult: Meeting human needs through robots can prove to be difficult or even a mistake.\"\n",
      "LLM output: \"The text contains no insights relevant to the research question.\"\n",
      "Text reconstruction successful\n",
      "\n",
      "Had to reconstruct 1 texts due to LLM errors\n",
      " |████████████████████████████████████████████████████████████████████████████████--------------------| 80.0% Warning: LLM output differs from the original text, with edit distance 12\n",
      "Original text: \"dependency: The person will be dependent.\"\n",
      "LLM output: \"The person will be dependent.\"\n",
      "Text reconstruction successful\n",
      "\n",
      "Had to reconstruct 1 texts due to LLM errors\n",
      " |████████████████████████████████████████████████████████████████████████████████████████████████████| 100.0% \n",
      "index: 6, category: AP\n",
      "20\n",
      "research_question:\n",
      " What are the mentioned key benefits and risks regarding the perceived positive anthropomorphism of socially assistive robots?\n",
      " |█████-----------------------------------------------------------------------------------------------| 5.0% Warning: LLM output differs from the original text, with edit distance 13\n",
      "Original text: \"closer bond: With soft robots, it is easier to establish a connection with the robot than if it were strictly made of metal.\"\n",
      "LLM output: \"**With soft robots, it is easier to establish a connection with the robot**<sup>benefit</sup> than if it were strictly made of metal.\"\n",
      "Text reconstruction successful\n",
      "\n",
      "Had to reconstruct 1 texts due to LLM errors\n",
      " |███████████████-------------------------------------------------------------------------------------| 15.0% Warning: LLM output differs from the original text, with edit distance 74\n",
      "Original text: \"humanity AI: Advanced AI are probably hard to distinguish from real humans (in their language)\"\n",
      "LLM output: \"The text contains no insights relevant to the research question.\"\n",
      "Text reconstruction successful\n",
      "\n",
      "Had to reconstruct 1 texts due to LLM errors\n",
      " |██████████████████████████████████████████████████--------------------------------------------------| 50.0% Warning: LLM output differs from the original text, with edit distance 18\n",
      "Original text: \"trauma patients: Traumatized children might find it easier to confide their experienced suffering to a (childishly designed) robot than to a strange adult person.\"\n",
      "LLM output: \"***Traumatized children might find it easier to confide their experienced suffering to a (childishly designed) robot than to a strange adult person.***<sup>trauma patients</sup>\"\n",
      "Text reconstruction successful\n",
      "\n",
      "Had to reconstruct 1 texts due to LLM errors\n",
      " |███████████████████████████████████████████████████████---------------------------------------------| 55.0% Warning: LLM output differs from the original text, with edit distance 2\n",
      "Original text: \"feeling of empathy: The empathy of the soft robot appears greater due to its lifelike nature\"\n",
      "LLM output: \"***feeling of empathy***<sup>empathy</sup>: The empathy of the soft robot appears greater due to its lifelike nature\"\n",
      "Distance less than treshold 5, accept\n",
      "\n",
      " |██████████████████████████████████████████████████████████████████████------------------------------| 70.0% Warning: LLM output differs from the original text, with edit distance 2\n",
      "Original text: \"robot as friend: A robot can serve as a friend and listener, helping one cope with thoughts and feelings.\"\n",
      "LLM output: \"***robot as friend: A robot can serve as a friend and listener, helping one cope with thoughts and feelings.***<sup>benefit</sup>\"\n",
      "Distance less than treshold 5, accept\n",
      "\n",
      " |████████████████████████████████████████████████████████████████████████████████--------------------| 80.0% Warning: LLM output differs from the original text, with edit distance 53\n",
      "Original text: \"enables closeness\"\n",
      "LLM output: \"The text contains no insights relevant to the research question.\"\n",
      "Text reconstruction successful\n",
      "\n",
      "Had to reconstruct 1 texts due to LLM errors\n",
      " |██████████████████████████████████████████████████████████████████████████████████████████----------| 90.0% Warning: LLM output differs from the original text, with edit distance 49\n",
      "Original text: \"another \"reference person\"\"\n",
      "LLM output: \"The text contains no insights relevant to the research question.\"\n",
      "Text reconstruction successful\n",
      "\n",
      "Had to reconstruct 1 texts due to LLM errors\n",
      " |████████████████████████████████████████████████████████████████████████████████████████████████████| 100.0% \n",
      "index: 7, category: AN\n",
      "20\n",
      "research_question:\n",
      " What are the mentioned key benefits and risks regarding the perceived negative anthropomorphism of socially assistive robots?\n",
      " |█████-----------------------------------------------------------------------------------------------| 5.0% Warning: LLM output differs from the original text, with edit distance 58\n",
      "Original text: \"\"uncanny valley\": Anthropomorphized robots are often perceived as creepy\"\n",
      "LLM output: \"The text contains no insights relevant to the research question.\"\n",
      "Text reconstruction successful\n",
      "\n",
      "Had to reconstruct 1 texts due to LLM errors\n",
      " |██████████------------------------------------------------------------------------------------------| 10.0% Warning: LLM output differs from the original text, with edit distance 37\n",
      "Original text: \"Lack of emotions\"\n",
      "LLM output: \"No insights relevant to the research question.\"\n",
      "Text reconstruction successful\n",
      "\n",
      "Had to reconstruct 1 texts due to LLM errors\n",
      " |███████████████-------------------------------------------------------------------------------------| 15.0% Warning: LLM output differs from the original text, with edit distance 46\n",
      "Original text: \"reading emotions: can misinterpret emotions\"\n",
      "LLM output: \"The text contains no insights relevant to the research question.\"\n",
      "Text reconstruction successful\n",
      "\n",
      "Had to reconstruct 1 texts due to LLM errors\n",
      " |████████████████████--------------------------------------------------------------------------------| 20.0% Warning: LLM output differs from the original text, with edit distance 52\n",
      "Original text: \"negative perceptions: opposite robots\"\n",
      "LLM output: \"The text contains no insights relevant to the research question.\"\n",
      "Text reconstruction successful\n",
      "\n",
      "Had to reconstruct 1 texts due to LLM errors\n",
      " |██████████████████████████████████████████████████--------------------------------------------------| 50.0% Warning: LLM output differs from the original text, with edit distance 24\n",
      "Original text: \"humanization of robots: Robots can become reference persons through use with children or elderly people, which could potentially be harmful to the person. Hacking and then coaxing the person to do something. Emotional bonds are broken when the robot is broken.\"\n",
      "LLM output: \"***\n",
      "\n",
      "Robots can become reference persons through use with children or elderly people, which could potentially be harmful to the person. **Hacking and then coaxing the person to do something**<sup>security; manipulation</sup>. Emotional bonds are broken when the robot is broken.\"\n",
      "Text reconstruction successful\n",
      "\n",
      "Had to reconstruct 1 texts due to LLM errors\n",
      " |████████████████████████████████████████████████████████████----------------------------------------| 60.0% Warning: LLM output differs from the original text, with edit distance 3\n",
      "Original text: \"human warmth: and gentle touch (comfort) cannot really be conveyed by the robot\"\n",
      "LLM output: \"***\n",
      "\n",
      "**human warmth: and gentle touch (comfort) cannot really be conveyed by the robot**<sup>emotional support</sup>\"\n",
      "Distance less than treshold 5, accept\n",
      "\n",
      " |████████████████████████████████████████████████████████████████████████████████--------------------| 80.0% Warning: LLM output differs from the original text, with edit distance 74\n",
      "Original text: \"without empathy: Cannot respond to emotions despite objectivity or possibly not like a human would.\"\n",
      "LLM output: \"The text contains no insights relevant to the research question.\"\n",
      "Text reconstruction successful\n",
      "\n",
      "Had to reconstruct 1 texts due to LLM errors\n",
      " |████████████████████████████████████████████████████████████████████████████████████████████████████| 100.0% \n"
     ]
    }
   ],
   "source": [
    "import random\n",
    "\n",
    "# fixed arguments:\n",
    "gpt_model = \"gpt-3.5-turbo\" # \"gpt-4o\"\n",
    "use_cache = True\n",
    "max_tokens = 200\n",
    "verbose = True\n",
    "\n",
    "\n",
    "\n",
    "# arguments function: \n",
    "type_robot = \"SAR\" # SAR\n",
    "random_entries = True\n",
    "random_entries_count = 20\n",
    "\n",
    "array_json = []\n",
    "\n",
    "array_categories = []\n",
    "array_coded_texts = []\n",
    "array_code_descriptions = []\n",
    "\n",
    "for index, category in enumerate(abbreviations_dict.keys()):\n",
    "        print(f\"index: {index}, category: {category}\")\n",
    "        \n",
    "        # Define naming based on type_robot\n",
    "        if type_robot == \"RR\":\n",
    "                tmp_df = all_sheets_RR\n",
    "                naming_robots = \"rescue robots\"\n",
    "        elif type_robot == \"SAR\":\n",
    "                tmp_df = all_sheets_SAR\n",
    "                naming_robots = \"socially assistive robots\"\n",
    "        elif type_robot == \"Combined\":\n",
    "                tmp_df = all_sheets_Combined\n",
    "                naming_robots = \"rescue robots and socially assistive robots\"\n",
    "        else:\n",
    "                raise ValueError(\"Invalid type_robot specified.\")\n",
    "        \n",
    "        \n",
    "        topic_category = abbreviations_dict[category]\n",
    "        \n",
    "        ## create combined dictionary for each category\n",
    "        df = tmp_df[category]\n",
    "        \n",
    "        constant_comments_mapping = create_multivalue_dict(df, 'constant', 'constant_comments')\n",
    "        new_comments_mapping = create_multivalue_dict(df, 'new', 'new_comments')\n",
    "        constant_new_comments_mapping = combine_dicts(constant_comments_mapping, new_comments_mapping)\n",
    "        \n",
    "        # store single concepts as an array\n",
    "        single_concepts = []\n",
    "        # Iterate through the dictionary: constant_new_comments_mapping\n",
    "        for key, values in constant_new_comments_mapping.items():\n",
    "                for value in values:\n",
    "                        # Check if the value is not NaN\n",
    "                        if isinstance(value, str):\n",
    "                                single_concepts.append(f\"{key}: {value}\")\n",
    "                        else:\n",
    "                                single_concepts.append(key)\n",
    "\n",
    "        # Only keep entries with more than one word\n",
    "        single_concepts = list({entry for entry in single_concepts if len(entry.split()) > 1})\n",
    "        \n",
    "        if random_entries:\n",
    "                single_concepts = random.sample(single_concepts, min(random_entries_count, len(single_concepts)))\n",
    "\n",
    "        print(len(single_concepts))\n",
    "        \n",
    "        research_question = f\"\"\"What are the mentioned key benefits and risks regarding the {topic_category} of {naming_robots}?\"\"\"\n",
    "        print(\"research_question:\\n\", research_question)\n",
    "        \n",
    "        \n",
    "        coded_texts, code_descriptions = LLMCode.code_inductively_with_code_consistency_adj(\n",
    "                texts=single_concepts,\n",
    "                research_question=research_question,\n",
    "                topicCategory=topic_category,\n",
    "                few_shot_examples=few_shot_examples,\n",
    "                gpt_model=gpt_model,\n",
    "                use_cache=use_cache,\n",
    "                max_tokens=max_tokens,\n",
    "                verbose=verbose\n",
    "        )\n",
    "        \n",
    "        # to store as Excel file\n",
    "        array_categories.append(category)\n",
    "        array_coded_texts.append(coded_texts)\n",
    "        array_code_descriptions.append(code_descriptions)\n",
    "        \n",
    "        # to store as JSON\n",
    "        row = {'robot': type_robot, 'category': category, 'coded_texts': coded_texts, 'code_descriptions': code_descriptions}\n",
    "        array_json.append(row)"
   ]
  },
  {
   "cell_type": "code",
   "execution_count": 102,
   "metadata": {},
   "outputs": [
    {
     "data": {
      "text/html": [
       "<div>\n",
       "<style scoped>\n",
       "    .dataframe tbody tr th:only-of-type {\n",
       "        vertical-align: middle;\n",
       "    }\n",
       "\n",
       "    .dataframe tbody tr th {\n",
       "        vertical-align: top;\n",
       "    }\n",
       "\n",
       "    .dataframe thead th {\n",
       "        text-align: right;\n",
       "    }\n",
       "</style>\n",
       "<table border=\"1\" class=\"dataframe\">\n",
       "  <thead>\n",
       "    <tr style=\"text-align: right;\">\n",
       "      <th></th>\n",
       "      <th>Categories</th>\n",
       "      <th>Coded_Texts</th>\n",
       "      <th>Code_Descriptions</th>\n",
       "    </tr>\n",
       "  </thead>\n",
       "  <tbody>\n",
       "    <tr>\n",
       "      <th>0</th>\n",
       "      <td>TP</td>\n",
       "      <td>[**rapid advancement/training**: A robot works...</td>\n",
       "      <td>{'availability': 'Captures instances where par...</td>\n",
       "    </tr>\n",
       "    <tr>\n",
       "      <th>1</th>\n",
       "      <td>TL</td>\n",
       "      <td>[complex operation: **The robots could be diff...</td>\n",
       "      <td>{'complex operation': 'Identifies instances wh...</td>\n",
       "    </tr>\n",
       "    <tr>\n",
       "      <th>2</th>\n",
       "      <td>SA</td>\n",
       "      <td>[few physical risks: e.g. through injuries, al...</td>\n",
       "      <td>{'safety': 'Captures references to the use of ...</td>\n",
       "    </tr>\n",
       "    <tr>\n",
       "      <th>3</th>\n",
       "      <td>R</td>\n",
       "      <td>[device failure: If devices break down or have...</td>\n",
       "      <td>{'bugs': 'Captures instances where participant...</td>\n",
       "    </tr>\n",
       "    <tr>\n",
       "      <th>4</th>\n",
       "      <td>HRIP</td>\n",
       "      <td>[easy interaction, acceptance of help: There a...</td>\n",
       "      <td>{'advantages': 'Identifies instances where par...</td>\n",
       "    </tr>\n",
       "    <tr>\n",
       "      <th>5</th>\n",
       "      <td>HRIN</td>\n",
       "      <td>[humans emotionally replaced: human closeness ...</td>\n",
       "      <td>{'technical knowledge': 'Captures instances wh...</td>\n",
       "    </tr>\n",
       "    <tr>\n",
       "      <th>6</th>\n",
       "      <td>AP</td>\n",
       "      <td>[closer bond: **With soft robots, it is easier...</td>\n",
       "      <td>{'benefit': 'The code \"benefit\" encapsulates r...</td>\n",
       "    </tr>\n",
       "    <tr>\n",
       "      <th>7</th>\n",
       "      <td>AN</td>\n",
       "      <td>[\"uncanny valley\": Anthropomorphized robots ar...</td>\n",
       "      <td>{'not insightful': 'Identifies instances where...</td>\n",
       "    </tr>\n",
       "  </tbody>\n",
       "</table>\n",
       "</div>"
      ],
      "text/plain": [
       "  Categories                                        Coded_Texts  \\\n",
       "0         TP  [**rapid advancement/training**: A robot works...   \n",
       "1         TL  [complex operation: **The robots could be diff...   \n",
       "2         SA  [few physical risks: e.g. through injuries, al...   \n",
       "3          R  [device failure: If devices break down or have...   \n",
       "4       HRIP  [easy interaction, acceptance of help: There a...   \n",
       "5       HRIN  [humans emotionally replaced: human closeness ...   \n",
       "6         AP  [closer bond: **With soft robots, it is easier...   \n",
       "7         AN  [\"uncanny valley\": Anthropomorphized robots ar...   \n",
       "\n",
       "                                   Code_Descriptions  \n",
       "0  {'availability': 'Captures instances where par...  \n",
       "1  {'complex operation': 'Identifies instances wh...  \n",
       "2  {'safety': 'Captures references to the use of ...  \n",
       "3  {'bugs': 'Captures instances where participant...  \n",
       "4  {'advantages': 'Identifies instances where par...  \n",
       "5  {'technical knowledge': 'Captures instances wh...  \n",
       "6  {'benefit': 'The code \"benefit\" encapsulates r...  \n",
       "7  {'not insightful': 'Identifies instances where...  "
      ]
     },
     "execution_count": 102,
     "metadata": {},
     "output_type": "execute_result"
    }
   ],
   "source": [
    "file_path = directory + \"/output/G3/\" + f\"\"\"{type_robot} - coded text and code descriptions\"\"\" + \".xlsx\"\n",
    "\n",
    "\n",
    "# Create a DataFrame from the arrays\n",
    "df = pd.DataFrame({\n",
    "    'Categories': array_categories,\n",
    "    'Coded_Texts': array_coded_texts,\n",
    "    'Code_Descriptions': array_code_descriptions\n",
    "})\n",
    "\n",
    "# Save DataFrame to an Excel file\n",
    "df.to_excel(file_path, index=False)\n",
    "df"
   ]
  },
  {
   "cell_type": "code",
   "execution_count": null,
   "metadata": {},
   "outputs": [],
   "source": [
    "row = {'robot': type_robot, 'category': category, 'coded_texts': coded_texts, 'code_descriptions': code_descriptions}\n",
    "array_json.append(row)"
   ]
  },
  {
   "cell_type": "code",
   "execution_count": 105,
   "metadata": {},
   "outputs": [
    {
     "name": "stdout",
     "output_type": "stream",
     "text": [
      "index: 0, category: TP\n",
      "index: 1, category: TL\n",
      "index: 2, category: SA\n",
      "index: 3, category: R\n",
      "index: 4, category: HRIP\n",
      "index: 5, category: HRIN\n",
      "index: 6, category: AP\n",
      "index: 7, category: AN\n"
     ]
    }
   ],
   "source": [
    "import json\n",
    "\n",
    "\n",
    "file_path = directory + \"/output/G3/\" + f\"\"\"{type_robot} - coded text and code descriptions\"\"\" + \".json\"\n",
    "\n",
    "\n",
    "array_json = []\n",
    "\n",
    "for index, category in enumerate(abbreviations_dict.keys()):\n",
    "        print(f\"index: {index}, category: {category}\")\n",
    "        \n",
    "        row = {'robot': type_robot, 'category': category, 'coded_texts': array_coded_texts[index], 'code_descriptions': array_code_descriptions[index]}\n",
    "        array_json.append(row)\n",
    "# Save to JSON file\n",
    "with open(file_path, 'w') as file:\n",
    "    json.dump(array_json, file, indent=4)"
   ]
  },
  {
   "cell_type": "code",
   "execution_count": 106,
   "metadata": {},
   "outputs": [
    {
     "name": "stdout",
     "output_type": "stream",
     "text": [
      "loaded_array:\n",
      " [{'robot': 'SAR', 'category': 'TP', 'coded_texts': ['**rapid advancement/training**: A robot works through programming and does not need to be trained for years. New knowledge can be conveyed in a very short time.<sup>efficiency; adaptability</sup>', 'Efficiency increase', 'reporting: about all kinds of people', 'Is always available', 'education: Robots as learning assistants', 'always available: **Robots are almost always ready for use, which is particularly helpful for people who need round-the-clock care**<sup>availability</sup>.', 'do not need vacation', '**always there/ ready for use**<sup>availability</sup>', 'temporal flexibility', '**individual adaptability**: Robots could potentially be better adapted to the individual needs of users than it would be possible with assistants.<sup></sup>', 'optimize work environments: **Create notes, present information**<sup>organization</sup>', 'health: **Improved diagnoses**<sup>medical advancement</sup>', 'capable of learning', 'well adaptable', '**time saving: The caregivers no longer have to spend so much time with all those needing care, but can use robots instead.**<sup>organization</sup>', 'meal preparation: Could pay attention to scientific standards when it comes to healthy eating', 'monitoring of vital signs', '24/7 support', 'better equipped', 'repetitive tasks'], 'code_descriptions': {'availability': 'Captures instances where participants highlight the convenience and reliability of socially assistive robots being readily available for continuous support, especially beneficial for individuals requiring constant care and assistance. This code reflects the emphasis on the uninterrupted accessibility of robots as a key advantage in providing continuous assistance and support to users in need.', 'organization': 'Captures instances where participants discuss the importance of structuring and managing information effectively to enhance the organization of tasks and data within the context of socially assistive robots. Participants emphasize the need for clear and systematic approaches to handling information to optimize the benefits and mitigate the risks associated with technological possibilities.\\n\\n*** \\n\\nParticipants highlight the significance of establishing clear guidelines and structures for organizing tasks and data related to socially assistive robots. They stress the importance of efficient information management to ensure smooth operations and effective utilization of technological capabilities.', 'medical advancement': 'Captures instances where participants highlight the positive impact of technological advancements in the medical field, particularly in enhancing diagnostic capabilities and accuracy. Participants express optimism about the potential benefits of cutting-edge medical technologies in improving healthcare outcomes and patient care.\\n\\n*** \\n\\nRevolutionary treatments and therapies that were previously unimaginable.'}}, {'robot': 'SAR', 'category': 'TL', 'coded_texts': ['complex operation: **The robots could be difficult to configure and operate**<sup>complex operation</sup>.', 'Maintenance & Co.', 'no specific expertise', 'technical progress: **The technology is not ready to widely recognize human emotions in the form of robots and to work like humans.**<sup>technical progress</sup> Thus, no safety can be guaranteed.', 'technical errors: **Misprogramming of the robots**<sup>programming</sup>', 'learning difficulties', 'Has limited abilities', 'technical problems', 'prone to errors: Artificial helpers make fewer careless mistakes than humans, but they may not understand glaring errors.', 'risk of breakdowns', 'limited know-how', 'limited learning ability', 'difficult to adapt', 'Technical errors: **There is a risk of technical errors**<sup>technical issues</sup>', 'no emotions/feelings: **Emotions/feelings are not available for automations**<sup>not insightful</sup>', 'can break', '**technological limits**<sup>not insightful</sup>', '**possibly limited customization options: lower adaptability**<sup>customization; adaptability</sup>', 'possible defects: **Possible defects could ensure that interactions between robots and humans can be toxic or harmful.**<sup>ethics; safety</sup>', 'emergency situation: **can only provide limited help in emergency situations**<sup>limited assistance</sup>'], 'code_descriptions': {'complex operation': 'Identifies instances where participants express challenges in setting up and using socially assistive robots due to their intricate operational procedures, potentially hindering their effective deployment in various settings.***\\n\\nParticipants highlight the complexity involved in configuring and operating the robots, suggesting a need for simplified interfaces and user-friendly designs to enhance usability and maximize the benefits of socially assistive robots.', 'technical progress': \"Captures instances where participants express skepticism about the current state of technological advancement in enabling robots to effectively recognize and respond to human emotions, highlighting concerns about the limitations in replicating human-like capabilities in robots. This code reflects participants' perceptions of the current progress in technology and its ability to meet the complex demands of socially assistive robots in understanding and emulating human emotions.\", 'programming': 'Identifies instances where errors or faults occur in the coding or configuration of socially assistive robots, potentially leading to malfunctions or unintended behaviors. This code highlights the importance of accurate programming in ensuring the proper functioning and effectiveness of these robots in providing social assistance.', 'technical issues': \"Captures instances where participants express concerns or frustrations related to the occurrence of technical errors or malfunctions when interacting with socially assistive robots, highlighting potential disruptions or limitations in the robot's functionality. Participants may discuss experiences such as system crashes, connectivity issues, or hardware malfunctions that hinder the intended benefits of robot assistance in various contexts.\", 'not insightful': 'Captures instances where participants express dissatisfaction with the lack of depth or meaningful insights provided by socially assistive robots, highlighting a perceived absence of emotional depth or genuine understanding in interactions with these technologies.\\n\\n*** \\n\\nParticipants critique the superficial nature of interactions with socially assistive robots, emphasizing a desire for more profound emotional engagement and meaningful exchanges beyond basic functionalities.', 'customization': 'Captures instances where participants express concerns about the restricted ability to personalize or tailor socially assistive robots to individual needs or preferences, potentially hindering their adaptability and effectiveness in providing support.***\\n\\nParticipants highlight the importance of customization in enhancing the user experience and effectiveness of socially assistive robots, emphasizing the need for greater flexibility in adapting the robots to meet diverse user requirements and preferences.', 'adaptability': \"Captures instances where participants express concerns about the restricted ability to customize or modify socially assistive robots, leading to lower adaptability in meeting individual needs or preferences. This code highlights the importance of flexibility and personalized features in enhancing the effectiveness and acceptance of such technological solutions in addressing users' diverse requirements and expectations.\\n\\n*** \\n\\nParticipants emphasized the need for greater adaptability in socially assistive robots to cater to varying user preferences and requirements, suggesting that a one-size-fits-all approach may limit their utility and acceptance in different contexts.\", 'ethics': 'The code \"ethics\" encapsulates concerns raised about the potential negative consequences of socially assistive robots, highlighting the importance of ethical considerations in ensuring safe and beneficial human-robot interactions.\\n\\n*** \\n\\nIn the context of a qualitative research project investigating the perceived technological limitations of socially assistive robots, the code \"ethics\" points to the critical need to address and mitigate possible risks and harms that may arise from the use of such technology.', 'safety': 'The code \"safety\" encapsulates concerns raised about potential flaws in socially assistive robots that could lead to negative or harmful interactions between robots and humans, highlighting the importance of ensuring the safety and well-being of individuals in human-robot interactions.\\n\\n*** \\n\\nIn the context of a qualitative research project investigating the key benefits and risks related to the perceived technological limitations of socially assistive robots, the code \"safety\" points to the critical consideration of preventing toxic or harmful interactions that may arise from defects in these robots.', 'limited assistance': \"Captures instances where participants express concerns about socially assistive robots being able to offer only restricted assistance, particularly in critical or urgent scenarios. This code highlights the perceived limitations of these robots in providing comprehensive support, especially during emergencies. \\n\\n*** \\n\\nParticipants frequently mentioned the robots' inability to offer substantial aid in urgent situations, emphasizing the potential risks associated with relying on them for critical assistance.\"}}, {'robot': 'SAR', 'category': 'SA', 'coded_texts': ['few physical risks: e.g. through injuries', 'always correct', 'reduced risk of injury: through soft materials', 'low risk of injury', 'more reliable than humans', 'efficient: Work on statistics can be made more efficient through probabilities.', 'more attentive', 'safety: **Soft material reduces risk of injury**<sup>safety</sup>', '**low risk of injury**<sup>safety</sup>: Due to the fact that a soft robot is not made of metal, but rather soft, the risk is lower.', '**lower risk of injury: due to their softness**<sup>safety</sup>', 'quick hygienic help', 'continuous monitoring', 'decision-making options: **in theory, a robot should be able to make a logical decision better than a human because emotions etc. cannot cloud a decision**<sup>logic; artificial intelligence</sup>', 'knowledge: **You get the information from the internet and can capture and assign the data faster than humans**<sup>data processing</sup>.', '**Ability to learn**: The robots are learning and being further developed, making them more efficient<sup>learning; development</sup>', '**reliable: is always ready**<sup>not insightful</sup>', 'emergency monitoring: Depending on how a robot is equipped, **it could respond very quickly in an emergency, faster than a human**<sup>response time</sup>.', 'low risk of injury: with soft robots', 'robots are more efficient', 'No illness: **Robots do not get infected, they do not spread diseases, and they do not get sick.**<sup>safety</sup>'], 'code_descriptions': {'safety': 'Captures references to the use of soft materials in socially assistive robots as a safety measure to minimize the risk of injury during human-robot interactions.\\n\\n---\\nSoft material reduces risk of injury\\n***', 'logic': 'Identifies instances where participants emphasize the expectation that robots should excel in making logical decisions due to their perceived lack of emotional bias, contrasting human decision-making processes. This code highlights the belief in the rationality and objectivity of robots as a key benefit in the context of safety considerations for socially assistive robots.\\n\\n*** \\n\\nThis code suggests a preference for the logical reasoning capabilities of robots over human decision-making, emphasizing the potential for robots to outperform humans in making unbiased and rational choices, particularly in safety-critical situations.', 'artificial intelligence': 'Identifies instances where participants express beliefs in the superior decision-making capabilities of robots over humans due to the absence of emotional biases, emphasizing the potential of artificial intelligence in enhancing logical reasoning and decision-making processes in comparison to human cognition.\\n\\n---\\nin theory, a robot should be able to make a logical decision better than a human because emotions etc. cannot cloud a decision', 'data processing': 'Captures instances where participants highlight the efficiency and speed of data processing by socially assistive robots, emphasizing their ability to quickly gather and organize information from various sources. This code reflects the perceived benefits of improved data handling capabilities in comparison to human processing speeds, suggesting a potential advantage for utilizing robots in data-intensive tasks within the context of safety-related applications.', 'not insightful': 'Captures instances where participants express dissatisfaction with the lack of depth or meaningful content in discussions related to the perceived safety of socially assistive robots, highlighting a perceived absence of valuable insights or perspectives in the discourse.\\n\\n*** \\n\\nParticipants frequently mention the importance of a socially assistive robot being reliable and always ready to assist, but they also critique discussions that they perceive as lacking depth or insight, labeling them as \"not insightful.\"', 'response time': 'Identifies instances where participants highlight the importance of rapid response times in emergency situations when discussing the perceived safety of socially assistive robots, emphasizing the advantage of quicker reactions compared to human capabilities.'}}, {'robot': 'SAR', 'category': 'R', 'coded_texts': ['device failure: If devices break down or have malfunctions, it can negatively affect the use of the robots', 'accidents due to bugs: **In the early stages, certainly some unforeseen errors occur that could lead to accidents**<sup>bugs; early stages</sup>', 'environmental conditions: For example: What to do during a long power outage? Professionals could still work, robots cannot without energy.', 'technical malfunction: **Machines make brutal mistakes**<sup>bugs</sup>', 'safety concerns', 'consequences: There are no rules yet about social assistance robots. The **consequences of a data leak are unknown**<sup>data security</sup>.', '***influence through human likeness***', 'repair/ maintenance', 'wrong conditions can harm', 'malfunctions: **Technical errors can cost human lives**<sup>potential consequences</sup>', '***risk of injury: with non-soft robots, but also with faulty processing with soft ones***<sup>physical safety</sup>', 'data security: Cannot be 100% sure', 'helplessness in case of failures: Technical problems could cause helplessness', 'possible data protection issues', 'limited spontaneity', 'Unforeseen reactions: Reactions of robots can turn out differently than desired if the program does not work 100% correctly.', 'risk of injury', 'dangers: Similar to what was mentioned before. **It can lead to interpersonal desensitization**<sup>interpersonal desensitization</sup>.', 'information security: Depending on the specification of the robots, **data losses can occur and pose a danger**<sup>potential risk</sup>.', 'no physical accompaniment'], 'code_descriptions': {'bugs': 'Captures instances where participants express concerns about unexpected errors or malfunctions in socially assistive robots that could potentially result in accidents or negative outcomes, highlighting the perceived risks associated with technical flaws in the technology.\\n\\n*** \\n\\nParticipants frequently mentioned the need for rigorous testing and debugging processes to ensure the safety and reliability of socially assistive robots in various settings.', 'early stages': 'Captures references to the initial phases or developmental periods of socially assistive robot implementation, highlighting the potential for unexpected errors or accidents during this early stage of deployment. This code may signify the importance of addressing and mitigating risks associated with the nascent use of socially assistive robots to ensure safe and effective integration into various settings.', 'data security': 'Captures concerns expressed by participants regarding the potential consequences and uncertainties associated with a data breach or unauthorized access to personal information, highlighting the importance of safeguarding data security in the context of socially assistive robots. Participants express apprehension about the potential risks and implications of a data leak, emphasizing the need for robust measures to protect sensitive information in interactions with socially assistive robots.', 'potential consequences': 'Captures instances where participants express concerns about the potential negative outcomes or repercussions that may arise from errors or failures in socially assistive robots, highlighting the significance of reliability and safety in human-robot interactions.\\n\\n*** \\n\\nParticipants emphasize the need for thorough testing and quality assurance to prevent any potential consequences that could result from technical errors in socially assistive robots.', 'physical safety': 'Identifies concerns related to the potential for physical harm or injury associated with socially assistive robots, encompassing risks from both the physical design of the robots and errors in their processing mechanisms.', 'interpersonal desensitization': 'Captures instances where participants express concerns about the potential for socially assistive robots to contribute to a decrease in sensitivity or responsiveness in human-to-human interactions, possibly leading to a diminished sense of empathy or emotional connection. This code highlights the perceived risk of technology-induced desensitization in interpersonal relationships within the context of socially assistive robots.', 'potential risk': \"Identifies instances where participants express concerns about the possibility of experiencing negative outcomes, such as data losses, that could potentially jeopardize their well-being or safety when interacting with socially assistive robots. This code highlights the participants' awareness of potential risks associated with using these robots, emphasizing the need for safeguards and protective measures to mitigate such dangers.\"}}, {'robot': 'SAR', 'category': 'HRIP', 'coded_texts': ['easy interaction', 'acceptance of help: There are people who find it very difficult to give up their independence, which they lose due to illness, disability or age. These individuals might prefer to be supported by artificial assistants.', 'promotion of interactions: For improving communication skills', 'personal care: For example, in nursing homes the caregivers often change. A robot could be programmed to cater exactly to one resident.', 'physicality: Depending on the application (e.g. elderly care, dementia, toddlers), **soft robots may be advantageous due to their haptic features**<sup>advantages</sup>.', '\"touch starved\" persons: **People who cannot or do not want to have physical contact with other humans can achieve emotional satisfaction with a soft robot.**<sup>emotional satisfaction</sup>', 'social integration: is not endangered by this', '**patience and perseverance**<sup>benefit; preference</sup>: Overwhelmed care and unsuitable therapy workers sometimes harm those in need more than they help them. In these cases, an assistance robot might be preferable.', 'support of people', 'more pleasant feeling: **Soft materials are more pleasant than hard ones**<sup>comfort</sup>', 'Social interactions: Robots behave differently than humans', 'social companions', '**stay mentally fit**<sup>benefit</sup>: Through interactions with the robot, the brain can continue to be activated and deteriorates less.', 'helpful: Helpful for autism or similar disorders', 'taking over degrading tasks: **Physical care is associated with shame.**<sup>taking over degrading tasks; benefit</sup> Patients might find it more pleasant to have physical care performed by robots and to encounter caregivers in social settings.', 'helpful with loneliness', '**reduction of loneliness**<sup>not insightful</sup>', '**social contact**: for example, for socially isolated and/or elderly people', '**activation: welcome distraction for nursing home residents**<sup></sup>', '**help for widows: Loneliness can be greatly limited here**<sup>not insightful</sup>'], 'code_descriptions': {'advantages': \"Identifies instances where participants highlight the potential benefits or advantages associated with socially assistive robots, such as emphasizing the positive aspects of soft robots' haptic capabilities in enhancing human-robot interaction.\\n\\n*** \\n\\nParticipants discuss the advantages of soft robots, particularly focusing on the haptic features that may offer unique benefits in the context of human-robot interaction.\", 'emotional satisfaction': 'Captures instances where individuals express finding emotional fulfillment through interactions with socially assistive robots, particularly in situations where physical contact with other humans is limited or undesired. This code highlights the role of soft robots in providing emotional satisfaction to individuals who may benefit from non-human companionship or support.\\n\\n---', 'benefit': 'Captures instances where participants highlight the importance of patience and perseverance as key benefits in the context of positive Human-Robot-Interaction with socially assistive robots.***\\n\\nThese texts suggest that participants recognize the value of persistence and resilience when engaging with socially assistive robots, indicating a nuanced understanding of the benefits beyond immediate outcomes.', 'preference': 'Captures instances where participants express a preference for qualities like patience and perseverance in their interactions with socially assistive robots, highlighting the importance of these attributes for positive Human-Robot-Interaction.***\\n\\nParticipants emphasize a preference for socially assistive robots that exhibit patience and perseverance, suggesting that these qualities are key benefits that enhance the perceived positive interactions with such robots.', 'comfort': 'Captures references to the preference for soft materials over hard ones in the context of Human-Robot-Interaction, suggesting that comfort plays a significant role in shaping perceptions of positive interactions with socially assistive robots. *** Participants highlight the importance of tactile comfort in their interactions with robots, emphasizing the role of soft materials in enhancing the overall experience and promoting a sense of ease and well-being.', 'taking over degrading tasks': 'Captures instances where participants express discomfort or negative emotions related to the delegation of degrading tasks to socially assistive robots, particularly in the context of physical care, potentially highlighting concerns about loss of dignity or autonomy in such interactions.\\n\\n*** \\n\\nParticipants discuss feeling ashamed or uncomfortable when socially assistive robots are tasked with handling degrading responsibilities, suggesting a complex interplay between technology and human emotions in the context of physical care.', 'not insightful': 'Identifies instances where participants express dissatisfaction with the lack of depth or meaningful engagement in interactions with socially assistive robots, highlighting a desire for more profound and thought-provoking engagements to address feelings of loneliness and isolation.\\n\\n*** \\n\\nlimited emotional connection with the robot', '': 'Captures instances where socially assistive robots are seen as providing a welcome distraction for nursing home residents, potentially enhancing their engagement and well-being within the care environment. This code suggests that the activation of these robots serves as a positive stimulus, offering a beneficial break from routine and potentially addressing social isolation among residents in nursing homes.'}}, {'robot': 'SAR', 'category': 'HRIN', 'coded_texts': ['humans emotionally replaced: human closeness is being replaced with assistance robots', 'too impersonal: Contact with real people is important.', 'reaction instead of interaction', 'greater risk of dependency', 'No human reference', 'Dependence on robots', '**lack of human warmth**: the feeling of interacting with a real person is important', 'human needs difficult: Meeting human needs through robots can prove to be difficult or even a mistake.', 'communication barrier', '**know-how required: about operating the robot**<sup>technical knowledge</sup>', 'possible dependence: Users could become dependent', \"normal interaction: Maybe it's no longer possible to correctly respond to/embody emotional human interaction.\", 'no friendship', 'loss of social skills', 'lack of humanity: **missing human interactions and empathy cannot be replaced**<sup>social interaction; empathy</sup>', 'dependency: The person will be dependent.', 'no social interaction: **Interaction with people cannot be replaced by robots**<sup>social interaction</sup>', 'no real relationships', 'unacceptance among nursing home residents: Nursing home residents do not interact', 'alternative to real: If real people potentially cause too much overwhelm for autistic individuals.'], 'code_descriptions': {'technical knowledge': \"Captures instances where participants highlight the necessity of possessing technical knowledge for effectively operating socially assistive robots, emphasizing the importance of understanding the robot's functionalities and operational procedures. Participants discuss the specific skills and expertise needed to interact with these robots, underscoring the role of technical proficiency in optimizing the human-robot interaction experience.\\n\\n*** \\n\\nParticipants mentioned the significance of having technical knowledge when engaging with socially assistive robots, emphasizing the need for understanding the operational aspects and functionalities of the robot to ensure successful interactions. The coded texts suggest that possessing the requisite know-how is crucial for users to effectively utilize and benefit from the capabilities of these robots in various contexts.\", 'social interaction': 'Captures instances where participants express a desire for genuine human interactions and emphasize the irreplaceable nature of empathy in contrast to interactions with socially assistive robots.***\\n\\nIn the context of a qualitative research project exploring the key benefits and risks of socially assistive robots in Human-Robot Interaction, the code \"social interaction\" highlights participants\\' recognition of the unique value of human connections and empathy that cannot be replicated by robotic interactions.', 'empathy': 'Captures instances where participants express a desire for human interactions and emphasize the irreplaceable nature of empathy in the context of Human-Robot-Interaction with socially assistive robots.\\n\\n*** \\n\\nParticipants highlight the importance of empathy in human interactions and suggest that it cannot be replicated or substituted by interactions with robots.'}}, {'robot': 'SAR', 'category': 'AP', 'coded_texts': ['closer bond: **With soft robots, it is easier to establish a connection with the robot**<sup>benefit</sup> than if it were strictly made of metal.', 'nicer than humans: not all people who work in social environments are nice and polite', 'humanity AI: Advanced AI are probably hard to distinguish from real humans (in their language)', 'estimable: We can guess their behavior', 'physical proximity possible', 'emotional support: For example, during panic attacks, tantrums or other emotional crisis situations', 'in therapy: **emotion recognition**<sup></sup>', 'more resilient than humans: **Physically as well as mentally**<sup>resilience</sup>', 'physical affection possible', 'trauma patients: **Traumatized children might find it easier to confide their experienced suffering to a (childishly designed) robot than to a strange adult person.**<sup>trauma patients</sup>', '***feeling of empathy***<sup>empathy</sup>: The empathy of the soft robot appears greater due to its lifelike nature', 'emotional support', 'Emotion recognition', '***robot as friend: A robot can serve as a friend and listener, helping one cope with thoughts and feelings.***<sup>benefit</sup>', 'emotional affection: Soft robots: advantages of a pet, without the disadvantages?', 'enables closeness', 'almost like a pet', 'another \"reference person\"', 'social support: Can help bring a sense of closeness to lonely people who otherwise have no contact', 'human-like: **feel like humans through soft fabrics - like silicone**<sup>description</sup>'], 'code_descriptions': {'benefit': 'The code \"benefit\" encapsulates references to advantages or positive outcomes associated with the interaction or use of socially assistive robots, highlighting benefits such as enhanced emotional connection or ease of establishing rapport with the robot.\\n\\n*** \\n\\nThe participants emphasized the benefits of using socially assistive robots for companionship and emotional support, noting how these robots can provide comfort and understanding in various situations.', '': 'Identifies passages where participants express opinions or experiences related to the ability of socially assistive robots to recognize and respond to human emotions, highlighting the significance of emotional understanding in human-robot interactions.\\n\\n***Participants discuss the importance of robots accurately identifying and responding to their emotions, emphasizing the role of emotion recognition in enhancing the quality of interactions with socially assistive robots.***', 'resilience': \"Captures instances where participants discuss the ability of socially assistive robots to enhance individuals' resilience, both physically and mentally, potentially aiding in overcoming challenges and adversity. This code may highlight how participants perceive these robots as sources of support and strength in navigating difficult situations or circumstances.\\n\\n*** \\n\\nby providing emotional support and encouragement.\", 'trauma patients': 'Identifies instances where socially assistive robots are seen as potentially beneficial for traumatized individuals, particularly children, as they may provide a non-threatening outlet for expressing their trauma compared to interacting with unfamiliar adults. This code highlights the potential role of robots in supporting emotional disclosure and communication for trauma patients, emphasizing the unique comfort and accessibility they may offer in such sensitive contexts.', 'empathy': 'Captures instances where participants express a sense of emotional connection and understanding towards socially assistive robots, highlighting the potential for these robots to evoke empathetic responses in users. This code signifies the recognition of robots as capable of eliciting feelings of empathy, suggesting a shift towards perceiving them as more than just machines in the context of socially assistive interactions.', 'description': 'Captures instances where participants attribute human-like qualities to socially assistive robots based on tactile experiences, such as perceiving robots as human-like due to their soft and tactile materials.\\n\\n*** \\n\\nParticipants express a sense of anthropomorphism towards socially assistive robots by associating human characteristics with the tactile qualities of the robots, such as feeling like humans through the use of soft fabrics like silicone.'}}, {'robot': 'SAR', 'category': 'AN', 'coded_texts': ['\"uncanny valley\": Anthropomorphized robots are often perceived as creepy', 'Lack of emotions', 'reading emotions: can misinterpret emotions', 'negative perceptions: opposite robots', 'not creative: **no imagination**<sup>not insightful</sup>', 'disappearing boundaries: **The line between human and machine is disappearing**<sup>technological advancement</sup>', 'limitation: **Robots can only partially replace human communication**<sup>communication</sup>', 'life-like properties', 'no spontaneous action', 'humanization of robots: Robots can become reference persons through use with children or elderly people, which could potentially be harmful to the person. **Hacking and then coaxing the person to do something**<sup>security; manipulation</sup>. Emotional bonds are broken when the robot is broken.', 'Lack of empathy', '***\\n\\n**human warmth: and gentle touch (comfort) cannot really be conveyed by the robot**<sup>emotional support</sup>', 'expectation of AI', 'Lack of intuition: **all skills are programmed and therefore based on a database**<sup>programming</sup>. Human intuition etc. are not possible.', 'Not empathetic (enough): **Robots cannot empathize or understand human emotions.**<sup>empathy</sup>', 'without empathy: Cannot respond to emotions despite objectivity or possibly not like a human would.', 'societal awkwardness', 'no emotions', 'only fake empathy', 'no \"real\" empathy'], 'code_descriptions': {'not insightful': 'Identifies instances where participants express dissatisfaction with the lack of depth or thought-provoking content in discussions related to socially assistive robots, highlighting a perceived absence of meaningful insights or perspectives on the topic.\\n\\n*** \\n\\nParticipants critique the shallow discussions around robot interactions, emphasizing the need for more profound insights and thought-provoking conversations to enhance understanding and engagement with socially assistive robots.', 'technological advancement': 'Captures instances where participants acknowledge the blurring boundary between humans and machines, reflecting on the evolving landscape of technological advancement in the context of socially assistive robots.\\n\\n*** \\n\\nAs technology progresses, the integration of advanced features in robots challenges traditional distinctions between human and machine, highlighting the ongoing impact of technological advancement in the field of socially assistive robotics.', 'communication': 'Captures references to the role and limitations of communication in interactions involving socially assistive robots, highlighting the nuanced understanding of how robots can complement but not fully substitute human communication in various contexts.\\n\\n*** \\n\\nThe success of socially assistive robots hinges on effective communication strategies that bridge the gap between human needs and technological capabilities. *** Participants express skepticism about the ability of robots to fully replicate the nuances and empathy inherent in human communication, emphasizing the importance of maintaining authentic human connections in caregiving scenarios.', 'security': 'Identifies instances where concerns related to the vulnerability of socially assistive robots to hacking or unauthorized access are discussed, potentially leading to compromised user safety and privacy. This code highlights the perceived risks associated with the security of these robots in terms of potential manipulation or unauthorized control by external parties.\\n\\n*** \\n\\nThe team is working on enhancing the security features of the robot to prevent any unauthorized access or tampering.', 'manipulation': 'Identifies instances where individuals describe actions aimed at influencing or controlling others through deceptive or coercive means, often involving manipulation tactics that exploit vulnerabilities or trust.\\n\\n*** \\n\\nThe subtle manipulation of emotions to achieve desired outcomes, such as influencing behavior or decisions through deceitful or cunning strategies.', 'emotional support': 'Captures instances where participants express the limitations of socially assistive robots in providing emotional support, highlighting the inability of robots to convey human warmth and gentle touch for comfort.', 'programming': 'Identifies references to the process of designing and implementing specific instructions or algorithms to enable the functioning of socially assistive robots, highlighting the notion that the abilities of these robots are predetermined and structured through coding.***\\n\\nThe texts suggest a focus on the technical aspect of programming as a foundational element in shaping the capabilities and behaviors of socially assistive robots, emphasizing the role of pre-defined algorithms and data structures in their operation.', 'empathy': 'The code \"empathy\" encapsulates instances where participants express the belief that robots lack the capacity to empathize or comprehend human emotions, highlighting a perceived limitation in the emotional capabilities of socially assistive robots.\\n\\n*** \\n\\nParticipants frequently mention the absence of empathy in robots as a key concern, emphasizing the importance of emotional understanding and connection in interactions with socially assistive robots.'}}]\n"
     ]
    }
   ],
   "source": [
    "# To load the data back\n",
    "with open(file_path, 'r') as file:\n",
    "    loaded_array = json.load(file)\n",
    "\n",
    "# Print loaded data\n",
    "print(\"loaded_array:\\n\", loaded_array)"
   ]
  },
  {
   "cell_type": "markdown",
   "metadata": {},
   "source": [
    "### run LLMCode (deductive)"
   ]
  },
  {
   "cell_type": "code",
   "execution_count": null,
   "metadata": {},
   "outputs": [],
   "source": [
    "############"
   ]
  },
  {
   "cell_type": "markdown",
   "metadata": {},
   "source": [
    "### analyze given codes"
   ]
  },
  {
   "cell_type": "code",
   "execution_count": null,
   "metadata": {},
   "outputs": [],
   "source": [
    "############"
   ]
  }
 ],
 "metadata": {
  "kernelspec": {
   "display_name": "Python 3",
   "language": "python",
   "name": "python3"
  },
  "language_info": {
   "codemirror_mode": {
    "name": "ipython",
    "version": 3
   },
   "file_extension": ".py",
   "mimetype": "text/x-python",
   "name": "python",
   "nbconvert_exporter": "python",
   "pygments_lexer": "ipython3",
   "version": "3.11.9"
  }
 },
 "nbformat": 4,
 "nbformat_minor": 2
}
