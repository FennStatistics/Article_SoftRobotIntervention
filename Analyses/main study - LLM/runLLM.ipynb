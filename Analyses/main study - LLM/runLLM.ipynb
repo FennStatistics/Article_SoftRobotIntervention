{
 "cells": [
  {
   "cell_type": "markdown",
   "metadata": {},
   "source": [
    "# Summarizing Data for Results Graphics in \"R2: Perceived risks and benefits qualitative\"\n",
    "\n",
    "There are two central steps involved:\n",
    "\n",
    "\n",
    "**Check Szenario Texts:**\n",
    "- to check if topic was already mentioned for the category specific graph\n",
    "\n",
    "**Summarizing Data:**\n",
    "- for A, B graph\n",
    "- for category specific graph\n",
    "\n",
    "\n",
    "\n",
    "***\n",
    "**Coding sources**\n",
    "\n",
    "Code snippets from my (Julius Fenn) Large Language Model Workshop: https://github.com/FennStatistics/introductory-workshop-in-LLMs/\n",
    "\n",
    "\n",
    "I extend the code provided and explained in the following documenations:\n",
    "* Build a PDF ingestion and Question/Answering system: https://python.langchain.com/v0.2/docs/tutorials/pdf_qa/\n",
    "\n",
    "* https://python.langchain.com/v0.2/docs/tutorials/llm_chain/ (Build a Simple LLM Application with LCEL)\n",
    "* https://python.langchain.com/v0.2/docs/how_to/structured_output/ (How to return structured data from a model)\n",
    "* https://python.langchain.com/v0.2/docs/how_to/llm_token_usage_tracking/ (How to track token usage for LLMs)\n",
    "\n",
    "\n",
    "***\n",
    "## If you facing issues running your Code:\n",
    "\n",
    "It could be the case that chroma and langchain-core are not compatible."
   ]
  },
  {
   "cell_type": "code",
   "execution_count": 1,
   "metadata": {},
   "outputs": [],
   "source": [
    "## run in your terminal; could be necessary to downgrade package:\n",
    "# pip uninstall langchain-core\n",
    "# pip install langchain-core==0.3.10\n",
    "\n",
    "## or install older version of chromadb:\n",
    "# pip install --upgrade chromadb==0.5.0"
   ]
  },
  {
   "cell_type": "markdown",
   "metadata": {},
   "source": [
    "## Get API, local supabase server key(s)"
   ]
  },
  {
   "cell_type": "code",
   "execution_count": 2,
   "metadata": {},
   "outputs": [],
   "source": [
    "import os\n",
    "import sys\n",
    "\n",
    "# Assuming 'src' is one level down (in the current directory or a subdirectory)\n",
    "path_to_src = os.path.join('src')  # Moves one level down to 'src' folder\n",
    "\n",
    "# Add the path to sys.path\n",
    "sys.path.append(path_to_src)\n",
    "\n",
    "# Now you can import your API_key module\n",
    "import API_key as key"
   ]
  },
  {
   "cell_type": "markdown",
   "metadata": {},
   "source": [
    "## include self-written functions"
   ]
  },
  {
   "cell_type": "code",
   "execution_count": 3,
   "metadata": {},
   "outputs": [],
   "source": [
    "import src.forChromaApproach as di_drg"
   ]
  },
  {
   "cell_type": "markdown",
   "metadata": {},
   "source": [
    "# Check Szenario Texts\n",
    "\n",
    "## Load Scenario Texts\n",
    "This should be the final scenario texts in English of the two robots:\n",
    "\n",
    "* rescue robot\n",
    "* socially assistive robot"
   ]
  },
  {
   "cell_type": "code",
   "execution_count": 4,
   "metadata": {},
   "outputs": [
    {
     "name": "stdout",
     "output_type": "stream",
     "text": [
      "\n",
      "PDF: rescue robot.pdf\n",
      "Total Pages: 6\n",
      "\n",
      "PDF: socially assistive robot.pdf\n",
      "Total Pages: 6\n"
     ]
    }
   ],
   "source": [
    "path_to_PDFs = os.path.join('data/scenario texts')  # Moves one level up to 'PDFs' folder\n",
    "\n",
    "pdf_pages = di_drg.load_pdfs_by_filename(path_to_PDFs, verbose=False)\n",
    "\n",
    "# Optional: Print the loaded pages by filename\n",
    "for filename, pages in pdf_pages.items():\n",
    "    print(f\"\\nPDF: {filename}\")\n",
    "    print(f\"Total Pages: {len(pages)}\")\n",
    "    # print(pages[0])"
   ]
  },
  {
   "cell_type": "markdown",
   "metadata": {},
   "source": [
    "## Data Storage: Text chunks are converted into vector embeddings and stored in a vector database (Vector DB) next to their respective text chunks."
   ]
  },
  {
   "cell_type": "code",
   "execution_count": 5,
   "metadata": {},
   "outputs": [
    {
     "name": "stdout",
     "output_type": "stream",
     "text": [
      "\n",
      "PDF: rescue robot.pdf\n",
      "Total Chunks: 15\n",
      "\n",
      "PDF: socially assistive robot.pdf\n",
      "Total Chunks: 16\n"
     ]
    }
   ],
   "source": [
    "pdf_chunks = di_drg.split_pdf_pages_into_chunks(pdf_pages, chunk_size=500, chunk_overlap=150, verbose=False)\n",
    "\n",
    "# Optional: Print a summary of chunks created per PDF\n",
    "for filename, chunks in pdf_chunks.items():\n",
    "    print(f\"\\nPDF: {filename}\")\n",
    "    print(f\"Total Chunks: {len(chunks)}\")"
   ]
  },
  {
   "cell_type": "code",
   "execution_count": 6,
   "metadata": {},
   "outputs": [
    {
     "name": "stderr",
     "output_type": "stream",
     "text": [
      "c:\\DATEN\\PHD\\Article_SoftRobotIntervention\\Analyses\\main study - LLM\\src\\forChromaApproach.py:90: LangChainDeprecationWarning: The class `Chroma` was deprecated in LangChain 0.2.9 and will be removed in 1.0. An updated version of the class exists in the :class:`~langchain-chroma package and should be used instead. To use it run `pip install -U :class:`~langchain-chroma` and import as `from :class:`~langchain_chroma import Chroma``.\n",
      "  db = Chroma(persist_directory=CHROMA_PATH, embedding_function=OpenAIEmbeddings(api_key=openAI_key))\n"
     ]
    },
    {
     "name": "stdout",
     "output_type": "stream",
     "text": [
      "Number of sources in DB: 2\n",
      "\n",
      "Sources:\n",
      " ['data/scenario texts\\\\rescue robot.pdf', 'data/scenario texts\\\\socially assistive robot.pdf']\n",
      "\n",
      "Cleaned sources:\n",
      " ['rescue robot.pdf', 'socially assistive robot.pdf']\n"
     ]
    }
   ],
   "source": [
    "path_to_Chroma = os.path.join('DB_Chroma')  # Moves one level up to 'PDFs' folder\n",
    "\n",
    "sources_DB = di_drg.inspect_chrom(CHROMA_PATH=path_to_Chroma, openAI_key=key.openAI_key)\n",
    "print(\"Number of sources in DB:\", len(sources_DB))\n",
    "print(\"\\nSources:\\n\", sources_DB)\n",
    "\n",
    "# Remove the \"PDFs\\\\\" prefix from all entries\n",
    "cleaned_sources_DB = [pdf.replace('PDFs\\\\', '').replace('data/scenario texts\\\\', '') for pdf in sources_DB]\n",
    "\n",
    "# Print the result\n",
    "print(\"\\nCleaned sources:\\n\", cleaned_sources_DB)"
   ]
  },
  {
   "cell_type": "code",
   "execution_count": 7,
   "metadata": {},
   "outputs": [],
   "source": [
    "# if you want to remove your DB:\n",
    "## di_drg.remove_chrom(CHROMA_PATH=path_to_Chroma)\n",
    "\n",
    "# pdf_chunks is a dictionary as such we can run over the keys:\n",
    "for pdf in pdf_chunks.keys():\n",
    "    if pdf not in cleaned_sources_DB:\n",
    "        print(f\"The PDF '{pdf}' is not included in the DB, as such:\")\n",
    "        print(\"create DB for\", pdf)\n",
    "        di_drg.save_to_chrom(chunks=pdf_chunks[pdf], CHROMA_PATH=path_to_Chroma, openAI_key=key.openAI_key)"
   ]
  },
  {
   "cell_type": "code",
   "execution_count": 8,
   "metadata": {},
   "outputs": [
    {
     "name": "stdout",
     "output_type": "stream",
     "text": [
      "Number of sources in DB: 2\n",
      "\n",
      "Sources:\n",
      " ['data/scenario texts\\\\rescue robot.pdf', 'data/scenario texts\\\\socially assistive robot.pdf']\n"
     ]
    }
   ],
   "source": [
    "sources_DB = di_drg.inspect_chrom(CHROMA_PATH=path_to_Chroma, openAI_key=key.openAI_key)\n",
    "print(\"Number of sources in DB:\", len(sources_DB))\n",
    "print(\"\\nSources:\\n\", sources_DB)"
   ]
  },
  {
   "cell_type": "markdown",
   "metadata": {},
   "source": [
    "## Data Retrieval and Generation\n",
    "\n",
    "your prompt template (system message):"
   ]
  },
  {
   "cell_type": "code",
   "execution_count": 9,
   "metadata": {},
   "outputs": [],
   "source": [
    "PROMPT_TEMPLATE = \"\"\"\n",
    "    \"You are an assistant for question-answering tasks. \"\n",
    "    \"Use the following pieces of retrieved context to answer \"\n",
    "    \"the question. If you don't know the answer, say that you \"\n",
    "    \"don't know. Use three sentences maximum and keep the \"\n",
    "    \"answer concise.\"\n",
    "    \"\\n\\n\"\n",
    "    \"{context}\"\n",
    "\n",
    "---\n",
    "\n",
    "Answer the question based on the above context: {question}\n",
    "\"\"\""
   ]
  },
  {
   "cell_type": "code",
   "execution_count": 10,
   "metadata": {},
   "outputs": [],
   "source": [
    "# Question query 2\n",
    "question = \"\"\"\n",
    "What are the advantages of soft robots?\n",
    "\"\"\""
   ]
  },
  {
   "cell_type": "code",
   "execution_count": 11,
   "metadata": {},
   "outputs": [
    {
     "name": "stderr",
     "output_type": "stream",
     "text": [
      "Number of requested results 150 is greater than number of elements in index 31, updating n_results = 31\n"
     ]
    },
    {
     "name": "stdout",
     "output_type": "stream",
     "text": [
      "Number of possible relevant text chunks found with a threshold similarity of 0.8: 11\n",
      "Query: Human: \n",
      "    \"You are an assistant for question-answering tasks. \"\n",
      "    \"Use the following pieces of retrieved context to answer \"\n",
      "    \"the question. If you don't know the answer, say that you \"\n",
      "    \"don't know. Use three sentences maximum and keep the \"\n",
      "    \"answer concise.\"\n",
      "    \"\n",
      "\n",
      "\"\n",
      "    \"––––––––––––  Third  Page in Experiment (Intervention) ––––––––––––   \n",
      "Given the information on soft robots, we invite you to adjust your CAM regarding the \n",
      "risks and benefits of utilizing soft robots for search and rescue missions . We are \n",
      "interested in knowing if the softness or rigidity of a robot influences your evaluation of \n",
      "its suitability for search and rescue missions, based on the information available on \n",
      "soft robots.\n",
      "\n",
      "---\n",
      "\n",
      "for individuals with autism, assisting them to recognize and understand \n",
      "emotions in others, which can enhance interpersonal communication skills  \n",
      "●  Less likely to cause injury during physic al interactions because of their \n",
      "softness  \n",
      " \n",
      "Possible risks of socially assistive soft robots (SASR) might be:  \n",
      "●  Users may become overly reliant on the robot for emotional support or \n",
      "companionship, potentially reducing their engagement with human social \n",
      "networks\n",
      "\n",
      "---\n",
      "\n",
      "precision and accuracy  \n",
      "●  Autonomous  rescue capabilities, allowing robots to carry and transport \n",
      "victims to safety   \n",
      "Possible risks of soft robots for search and rescue missions might be:  \n",
      "●  Algorithms guiding soft robots may be biased, leading to unfair or \n",
      "discriminatory outcomes, regarding  (i) where to concentrate rescue efforts, (ii) \n",
      "whom to search for first, (iii) who should be given priority treatment, (iv) who \n",
      "must be left to wait\n",
      "\n",
      "---\n",
      "\n",
      "often have natural shapes and can bend, twist, and stretch like living organisms, such \n",
      "as snakes or octopi. Designed with inspiration from living entities, these soft robots \n",
      "often look and feel more lifelike than rigid robots.  \n",
      "Furthermore, soft robots have the ability to express and perceive human emotions, \n",
      "communicate through expressions such as gaze and gestures, and offer a life -like \n",
      "experience due to their softness and flexibility. F or example, Paro, a robot for animal\n",
      "\n",
      "---\n",
      "\n",
      "Soft robots are designed to mimic the properties of living entities such as animals. \n",
      "Unlike rigid robots, which are typically composed of hard materials like metal or hard \n",
      "plastic, soft robots do not have electronic devices in themselves and are made of \n",
      "flexible soft materials like silicone, making them more adaptable and lifelike. They \n",
      "often have natural shapes and can bend, twist, and stretch like living organisms, such\n",
      "\n",
      "---\n",
      "\n",
      "––––––––––––  Second  Page in Experiment (Intervention) ––––––––––––   \n",
      "Soft Robots for Search and Rescue Missions  \n",
      "Benefits of soft robots for search and rescue missions might be:  \n",
      "●  Access to areas unreachable or too dangerous for human rescuers  \n",
      "●  Delivery  of essential supplies (water, food, medicine) until victims are safely  \n",
      "extracted  \n",
      "●  Reduced risk of injury to victims due to their flexibility and adaptability\n",
      "\n",
      "---\n",
      "\n",
      "must be left to wait  \n",
      "●  The soft and  adaptable nature of soft robots could potentially create \n",
      "challenges in ensuring the safety and reliability of the robot in hazardous \n",
      "environments  \n",
      "●  Rescue robots could be misused, particularly in conflict zones for activities \n",
      "such as bomb deployment\n",
      "\n",
      "---\n",
      "\n",
      "extracted  \n",
      "●  Reduced risk of injury to victims due to their flexibility and adaptability  \n",
      "Possible risks of soft robots for search and rescue missions might be:  \n",
      "●  Algorithms  guiding soft robots may be biased, leading to unfair or \n",
      "discriminatory outcomes, regarding (i) where to concentrate rescue efforts, (ii) \n",
      "whom to search for first, (iii) who should be given priority treatment, (iv) who \n",
      "must be left to wait  \n",
      "●  The soft and  adaptable nature of soft robots could potentially create\n",
      "\n",
      "---\n",
      "\n",
      "to mimic the properties of living entities such as animals. Unlike normal robots, which \n",
      "are typically composed of hard materials like metal or hard -plastic, soft robots do not \n",
      "have electronic devices in them and are made of flexible, soft materials like silicone. \n",
      "They often have natural shapes and can bend, twist, and stretch like living \n",
      "organis ms, such as snakes or octopi. Designed with inspiration from living entities,\n",
      "\n",
      "---\n",
      "\n",
      "–––––––––––––  First Page in Experiment (Intervention) ––––––––––––   \n",
      "Please read the following information on soft robots carefully. \n",
      "Afterwards we will ask you to adjust your CAM.  \n",
      "Currently, there is a trend towards using a new type of so -called soft robots as \n",
      "socially assistive robots for therapy, elderly care, education or as social companions. \n",
      "Soft robots are designed to mimic the properties of living entities such as animals.\"\n",
      "\n",
      "---\n",
      "\n",
      "Answer the question based on the above context: \n",
      "What are the advantages of soft robots?\n",
      "\n",
      " \n",
      "\n",
      "\n"
     ]
    },
    {
     "name": "stderr",
     "output_type": "stream",
     "text": [
      "c:\\DATEN\\PHD\\Article_SoftRobotIntervention\\Analyses\\main study - LLM\\src\\forChromaApproach.py:147: LangChainDeprecationWarning: The method `BaseChatModel.predict` was deprecated in langchain-core 0.1.7 and will be removed in 1.0. Use :meth:`~invoke` instead.\n",
      "  response_text = model.predict(prompt)\n"
     ]
    }
   ],
   "source": [
    "response, source_page_pairs, filtered_hits, all_hits = di_drg.retrieveGenerate(query_text=question, prompt_template=PROMPT_TEMPLATE, openAI_key=key.openAI_key, chroma_path=path_to_Chroma, \n",
    "                                                                            docsReturn=10, thresholdSimilarity=0.8)"
   ]
  },
  {
   "cell_type": "code",
   "execution_count": 12,
   "metadata": {},
   "outputs": [
    {
     "name": "stdout",
     "output_type": "stream",
     "text": [
      "The advantages of soft robots include access to unreachable or dangerous areas for human rescuers, delivery of essential supplies to victims, and reduced risk of injury due to their flexibility and adaptability.\n"
     ]
    }
   ],
   "source": [
    "print(response)"
   ]
  },
  {
   "cell_type": "code",
   "execution_count": 13,
   "metadata": {},
   "outputs": [
    {
     "name": "stdout",
     "output_type": "stream",
     "text": [
      "[('data/scenario texts\\\\rescue robot.pdf', 5), ('data/scenario texts\\\\socially assistive robot.pdf', 4), ('data/scenario texts\\\\rescue robot.pdf', 1), ('data/scenario texts\\\\socially assistive robot.pdf', 3), ('data/scenario texts\\\\socially assistive robot.pdf', 3), ('data/scenario texts\\\\rescue robot.pdf', 4), ('data/scenario texts\\\\rescue robot.pdf', 4), ('data/scenario texts\\\\rescue robot.pdf', 4), ('data/scenario texts\\\\rescue robot.pdf', 3), ('data/scenario texts\\\\socially assistive robot.pdf', 3)]\n"
     ]
    }
   ],
   "source": [
    "print(source_page_pairs)"
   ]
  },
  {
   "cell_type": "code",
   "execution_count": 14,
   "metadata": {},
   "outputs": [
    {
     "name": "stdout",
     "output_type": "stream",
     "text": [
      "11\n",
      "(Document(metadata={'page': 4, 'source': 'data/scenario texts\\\\rescue robot.pdf'}, page_content='––––––––––––  Second  Page in Experiment (Intervention) ––––––––––––   \\nSoft Robots for Search and Rescue Missions  \\nBenefits of soft robots for search and rescue missions might be:  \\n●  Access to areas unreachable or too dangerous for human rescuers  \\n●  Delivery  of essential supplies (water, food, medicine) until victims are safely  \\nextracted  \\n●  Reduced risk of injury to victims due to their flexibility and adaptability'), 0.8405289303258905)\n"
     ]
    }
   ],
   "source": [
    "print(len(all_hits))\n",
    "print(all_hits[0])"
   ]
  },
  {
   "cell_type": "markdown",
   "metadata": {},
   "source": [
    "# Summarizing Data\n",
    "- for A, B graph\n",
    "- for category specific graph\n",
    "\n",
    "\n",
    "## Load .xlsx files (lists of words)\n",
    "\n",
    "* rescue robot_multipleSheets\n",
    "* socially assistive robot_multipleSheets\n",
    "* rescue robot_socially assistive robot_multipleSheets\n",
    "\n",
    "> there are seperate columns for new (added concepts), deleted (deleted concepts), constant (not changed concepts)\n"
   ]
  },
  {
   "cell_type": "code",
   "execution_count": 15,
   "metadata": {},
   "outputs": [
    {
     "name": "stdout",
     "output_type": "stream",
     "text": [
      "c:\\DATEN\\PHD\\Article_SoftRobotIntervention\\Analyses\\main study - LLM\n"
     ]
    }
   ],
   "source": [
    "## set working environment\n",
    "#> Get the current working directory\n",
    "print(os.getcwd())\n",
    "directory = os.getcwd()"
   ]
  },
  {
   "cell_type": "code",
   "execution_count": 16,
   "metadata": {},
   "outputs": [
    {
     "name": "stdout",
     "output_type": "stream",
     "text": [
      "Sheet names combined: ['RCPP', 'LC', 'T', 'SIP', 'HRIP', 'AN', 'SIN', 'R', 'HC', 'RCN', 'SA', 'TP', 'TL', 'RCPN', 'HRIN', 'MT', 'RCA', 'AP']\n",
      "Sheet names RR: ['RCPP', 'LC', 'T', 'SIP', 'HRIP', 'AN', 'SIN', 'R', 'HC', 'RCN', 'SA', 'TP', 'TL', 'RCPN', 'HRIN', 'MT', 'RCA', 'AP']\n",
      "Sheet names SAR: ['RCPP', 'LC', 'T', 'SIP', 'HRIP', 'AN', 'SIN', 'R', 'HC', 'RCN', 'SA', 'TP', 'TL', 'RCPN', 'HRIN', 'MT', 'RCA', 'AP']\n"
     ]
    }
   ],
   "source": [
    "import pandas as pd\n",
    "\n",
    "## Load the xlsx file of the rescue robot and the socially assistive robot combined\n",
    "# Path to your Excel file\n",
    "file_path = directory + \"/data/\" + \"rescue robot_social assistance robot_multipleSheets_new\" + \".xlsx\"\n",
    "# Load the Excel file\n",
    "excel_data = pd.ExcelFile(file_path)\n",
    "# Print the sheet names\n",
    "print(\"Sheet names combined:\", excel_data.sheet_names)\n",
    "# Load all sheets into a dictionary of dataframes\n",
    "all_sheets_Combined = {sheet_name: excel_data.parse(sheet_name) for sheet_name in excel_data.sheet_names}\n",
    "\n",
    "\n",
    "\n",
    "## Load the xlsx file of the rescue robot and the socially assistive robot combined\n",
    "# Path to your Excel file\n",
    "file_path = directory + \"/data/\" + \"rescue robot_multipleSheets_new\" + \".xlsx\"\n",
    "# Load the Excel file\n",
    "excel_data = pd.ExcelFile(file_path)\n",
    "# Print the sheet names\n",
    "print(\"Sheet names RR:\", excel_data.sheet_names)\n",
    "# Load all sheets into a dictionary of dataframes\n",
    "all_sheets_RR = {sheet_name: excel_data.parse(sheet_name) for sheet_name in excel_data.sheet_names}\n",
    "\n",
    "## Load the xlsx file of the rescue robot and the socially assistive robot combined\n",
    "# Path to your Excel file\n",
    "file_path = directory + \"/data/\" + \"social assistance robot_multipleSheets_new\" + \".xlsx\"\n",
    "# Load the Excel file\n",
    "excel_data = pd.ExcelFile(file_path)\n",
    "# Print the sheet names\n",
    "print(\"Sheet names SAR:\", excel_data.sheet_names)\n",
    "# Load all sheets into a dictionary of dataframes\n",
    "all_sheets_SAR = {sheet_name: excel_data.parse(sheet_name) for sheet_name in excel_data.sheet_names}"
   ]
  },
  {
   "cell_type": "markdown",
   "metadata": {},
   "source": [
    "## Additional dictonaries to provide LLM context"
   ]
  },
  {
   "cell_type": "code",
   "execution_count": 17,
   "metadata": {},
   "outputs": [
    {
     "name": "stdout",
     "output_type": "stream",
     "text": [
      "{'RCPP': 'perceived positive usefulness (rest category, refers to a classification of arguments that do not fit into any of the predefined categories)', 'LC': 'perceived low costs', 'T': 'perceived trust', 'SIP': 'perceived positive social impact', 'HRIP': 'perceived positive Human-Robot-Interaction', 'AN': 'perceived negative anthropomorphism', 'SIN': 'perceived positive social impact', 'R': 'perceived risks', 'HC': 'perceived high costs', 'RCN': 'neutral rest category (rest category refers to a classification of arguments that do not fit into any of the predefined categories)', 'SA': 'perceived safety', 'TP': 'perceived technological possibilities', 'TL': 'perceived technological limitations', 'RCPN': 'perceived negative usefulness (rest category, refers to a classification of arguments that do not fit into any of the predefined categories)', 'HRIN': 'perceived negative Human-Robot-Interaction', 'MT': 'perceived mistrust', 'RCA': 'ambivalent rest category (rest category refers to a classification of arguments that do not fit into any of the predefined categories)', 'AP': 'perceived positive anthropomorphism'}\n",
      "dict_keys(['RCPP', 'LC', 'T', 'SIP', 'HRIP', 'AN', 'SIN', 'R', 'HC', 'RCN', 'SA', 'TP', 'TL', 'RCPN', 'HRIN', 'MT', 'RCA', 'AP'])\n",
      "perceived negative anthropomorphism\n"
     ]
    }
   ],
   "source": [
    "abbreviations_dict = {\n",
    "    'RCPP': 'perceived positive usefulness (rest category, refers to a classification of arguments that do not fit into any of the predefined categories)',\n",
    "    'LC': 'perceived low costs',\n",
    "    'T': 'perceived trust',\n",
    "    'SIP': 'perceived positive social impact',\n",
    "    'HRIP': 'perceived positive Human-Robot-Interaction',\n",
    "    'AN': 'perceived negative anthropomorphism',\n",
    "    'SIN': 'perceived positive social impact',\n",
    "    'R': 'perceived risks',\n",
    "    'HC': 'perceived high costs',\n",
    "    'RCN': 'neutral rest category (rest category refers to a classification of arguments that do not fit into any of the predefined categories)',\n",
    "    'SA': 'perceived safety',\n",
    "    'TP': 'perceived technological possibilities',\n",
    "    'TL': 'perceived technological limitations',\n",
    "    'RCPN': 'perceived negative usefulness (rest category, refers to a classification of arguments that do not fit into any of the predefined categories)',\n",
    "    'HRIN': 'perceived negative Human-Robot-Interaction',\n",
    "    'MT': 'perceived mistrust',\n",
    "    'RCA': 'ambivalent rest category (rest category refers to a classification of arguments that do not fit into any of the predefined categories)',\n",
    "    'AP': 'perceived positive anthropomorphism'\n",
    "}\n",
    "\n",
    "print(abbreviations_dict)\n",
    "print(abbreviations_dict.keys())\n",
    "print(abbreviations_dict['AN'])"
   ]
  },
  {
   "cell_type": "markdown",
   "metadata": {},
   "source": [
    "keep only subset of list (which have meaningfull differences):"
   ]
  },
  {
   "cell_type": "code",
   "execution_count": 18,
   "metadata": {},
   "outputs": [
    {
     "name": "stdout",
     "output_type": "stream",
     "text": [
      "{'TP': 'perceived technological possibilities', 'TL': 'perceived technological limitations', 'SA': 'perceived safety', 'R': 'perceived risks', 'HRIP': 'perceived positive Human-Robot-Interaction', 'HRIN': 'perceived negative Human-Robot-Interaction', 'AP': 'perceived positive anthropomorphism', 'AN': 'perceived negative anthropomorphism'}\n"
     ]
    }
   ],
   "source": [
    "# Keys to keep\n",
    "keys_to_keep = ['TP', 'TL', 'SA', 'R', 'HRIP', 'HRIN', 'AP', 'AN']\n",
    "\n",
    "# Filter the dictionary\n",
    "abbreviations_dict = {key: abbreviations_dict[key] for key in keys_to_keep}\n",
    "\n",
    "# Display the filtered dictionary\n",
    "print(abbreviations_dict)"
   ]
  },
  {
   "cell_type": "markdown",
   "metadata": {},
   "source": [
    "Use dictionaries to map each word to its comment:"
   ]
  },
  {
   "cell_type": "code",
   "execution_count": 19,
   "metadata": {},
   "outputs": [
    {
     "name": "stdout",
     "output_type": "stream",
     "text": [
      "{'a': ['comment1', 'comment3'], 'b': ['comment2', 'comment5'], 'c': ['comment4']}\n"
     ]
    }
   ],
   "source": [
    "import numpy as np\n",
    "\n",
    "def create_multivalue_dict(df, key_col, value_col):\n",
    "    \"\"\"\n",
    "    Create a dictionary from a DataFrame where each key maps to a list of values.\n",
    "    \n",
    "    Parameters:\n",
    "    df (pd.DataFrame): The input DataFrame.\n",
    "    key_col (str): The column name to be used as keys.\n",
    "    value_col (str): The column name to be used as values.\n",
    "    \n",
    "    Returns:\n",
    "    dict: A dictionary where each key maps to a list of values.\n",
    "    \"\"\"\n",
    "    # Remove rows with NaN in the key columns\n",
    "    df = df.dropna(subset=[key_col])\n",
    "\n",
    "    # Create a dictionary to map items to their comments, allowing for multiple comments per key\n",
    "    multivalue_dict = {}\n",
    "    for key, value in zip(df[key_col], df[value_col]):\n",
    "        if key in multivalue_dict:\n",
    "            multivalue_dict[key].append(value)\n",
    "        else:\n",
    "            multivalue_dict[key] = [value]\n",
    "\n",
    "    return multivalue_dict\n",
    "\n",
    "# Example usage\n",
    "data = {\n",
    "    'constant': ['a', 'b', 'a', 'c', 'b', np.nan],\n",
    "    'constant_comments': ['comment1', 'comment2', 'comment3', 'comment4', 'comment5', 'comment6']\n",
    "}\n",
    "df = pd.DataFrame(data)\n",
    "\n",
    "df_mapping = create_multivalue_dict(df, 'constant', 'constant_comments')\n",
    "print(df_mapping)\n"
   ]
  },
  {
   "cell_type": "markdown",
   "metadata": {},
   "source": [
    "test create_multivalue_dict() function:"
   ]
  },
  {
   "cell_type": "code",
   "execution_count": 20,
   "metadata": {},
   "outputs": [],
   "source": [
    "sheet_name = \"SA\""
   ]
  },
  {
   "cell_type": "code",
   "execution_count": 21,
   "metadata": {},
   "outputs": [
    {
     "name": "stdout",
     "output_type": "stream",
     "text": [
      "mapping constant x comments: {'quick hygienic help': [nan], 'efficient': ['Work on statistics can be made more efficient through probabilities.', nan, nan, nan], 'safety': ['Prevents people from having to work under difficult or dangerous conditions to increase safety.', 'Enables deployment in difficult situations where human rescuers would put themselves in danger', nan, nan, nan, 'through reliability', 'No people are being put in danger'], 'remote control': ['Can be operated by experts via remote control or autonomous systems to perform operations from a safe distance.', nan, nan, nan, nan, 'Minimizes risks associated with autonomy'], 'speed and efficiency': ['Robots can often act faster than humans and increase the speed of emergency interventions', 'Improvement of speed and efficiency of rescue operations', nan], 'safe': ['People do not have to put themselves in dangerous situations'], 'reliable': ['Can be precisely controlled', nan, nan, nan, nan], 'health monitoring': [nan, 'People no longer necessarily need an emergency button if an external system can watch over them and summon help when in doubt.'], 'Precise execution': ['Robots perform tasks purposefully'], 'Ability to learn': ['The robots are learning and being further developed, making them more efficient'], 'no people necessary': [nan], 'stronger than humans': [nan, 'In many situations, e.g. when clearing rubble, a great advantage.', nan, nan], 'faster than humans': [nan, nan], 'precise handling': [nan], 'reliability': [nan, 'Machines can accomplish their tasks reliably and reproducibly (provided they are well programmed and built)', nan, nan, nan], 'always correct': [nan], 'protection of rescue forces': ['for example in contamination scenarios', 'Reduced deployment of human rescue forces in dangerous situations', nan, 'human rescuers do not have to put themselves in danger'], 'in danger zones': [nan], 'toxic places': ['Places where people can only breathe with special equipment (gas mask)'], 'no distraction': [nan], 'by injuries': [nan], 'consistent': [nan], 'consistent performance': [nan], 'emergency monitoring': ['Depending on how a robot is equipped, it could respond very quickly in an emergency, faster than a human.'], 'more strong': [nan], 'without basic need': ['Water, sleep, food etc.'], 'faster intervention': [nan], 'area of application': ['Can be used in areas too dangerous for humans', 'Can be used in areas that are too dangerous for humans.'], 'reaching hard-to-access places': ['Robots and drones are small and agile. Therefore, they can reach places that are difficult or even dangerous for humans to reach.'], 'discover dangerous areas': [nan], 'quick processing': [nan], 'care of people': [nan], 'perform operations': ['disease'], 'enter dangerous situation': [nan], 'No illness': ['Robots do not get infected, they do not spread diseases, and they do not get sick.'], 'less risk': [nan, 'Specifically less risk to further human lives, as rescue teams can use robots'], 'efficiency in search': [nan], 'no fatigue': [nan, 'Unlike human rescuers, robots do not tire even during long operations'], 'cover dangerous areas': ['even where it is dangerous for humans, a robot can go there'], 'precision & accuracy': [nan], 'no human errors': [nan], 'more attentive': [nan], 'use in dangerous situations': ['Rescue robots can be used in dangerous situations where humans are exposed to too high a risk.'], 'can act quickly': ['Robots can intervene quickly, as they do not need to be dressed or prepared and are autonomous', 'The robots can act faster than a human in an emergency.'], 'No exhaustion': [nan], 'Range': ['Robots, again just the drone can rescue victims faster in difficult terrain or bring help, e.g. medicine, food'], 'accessibility of inaccessible places': [nan], 'improved approach': [nan], 'precise work': [nan], 'rescue of people': [nan], 'deployment possibility': ['Also possible under dangerous conditions'], 'replaceable': ['In case of loss, no human sacrifice', 'During operations, unlike human rescuers, there is no need to pay attention to the safety of the robots, as they can be easily replaced.'], 'unrestricted access': ['Robots can operate in environments that would be toxic to humans, e.g. areas contaminated with radiation.'], 'sparing human life': ['If robots are used instead of human rescuers, the lives and health of the rescuers do not have to be put at risk.'], 'reduced risk': ['By using robots, no human forces are exposed to dangerous situations'], 'precision': [nan], 'more targeted help': [nan], 'saves lives': ['For example, when human helpers are not available, a rescue robot can still save human lives.', 'send a robot into a danger zone instead of a human', nan], 'protects aid workers': ['Since employees are not unnecessarily exposed to dangers, strictly speaking, this also saves their lives.'], 'fewer mistakes': [nan], 'overall more productive': [nan], 'greater accuracy': [nan], 'usable in emergencies': ['To inspect debris more accurately'], 'protection of rescue personnel': [nan], 'accessibility of places': ['Accessibility difficult to reach'], 'increased efficiency': [nan], 'faster recovery': ['One could send robots into the fire without danger to human lives, etc, to combat the cause more quickly.'], 'weather independent': ['Even in storms etc., perhaps an option for critical tasks'], 'safety for emergency personnel': [nan], 'strength (power)': ['for example, for lifting debris parts'], 'quick action': [nan], 'no danger': ['For human rescue forces in action', 'No human doctor etc. needs to enter the operating area and thus it is significantly safer and therefore protects human lives.'], 'efficiency': [nan, 'Robots could be more capable in disaster cases than human helpers.', nan, 'Robots are not limited to human speed, vision, and perception in general.', nan, 'both equally fast work, more productive way of working as well as improved access to danger zones', nan], 'access to areas': ['Access to areas difficult or only reachable through considerable dangers for people'], 'vital objects': ['Victims receive vitally important things, such as water, food, and medicine'], 'rescue forces safety': ['Emergency services can avoid dangers if, for example, pictures of the location were taken by robots.'], 'more/ easier access': ['Robots can create (easier) access to places where it would otherwise be more difficult.'], 'reduce number of victims': ['Robots could make rescue operations more efficient and faster, potentially saving more victims.'], 'no life endangered': [nan], 'can save lives': [nan, nan], 'not emotionally driven': [nan], 'focused': [nan], 'exclusion of human error': [nan], 'flexible': ['The robot could operate in dangerous areas and is therefore not limited.'], 'stronger than human': ['Specially equipped machines could help trapped victims quicker and more efficiently.'], 'chances of success': ['A reliable and error-free rescue robot could therefore save people faster and more than a human.'], 'accuracy of execution': [nan], 'enter dangerous areas': [nan], 'do not get distracted': ['Rescue robots follow their programming and can focus better on the rescue without being influenced by emotions.'], 'speed / agility': [nan], 'real-time data': [nan], 'strength': [nan, 'the robot can, for example, move objects that a human could not move'], 'simplified access': [nan], 'quick help': [nan, nan, nan], 'risk-free rescue': ['From the side of the rescuers, who do not have to put themselves in danger'], 'better CPR': [nan], 'life-threatening places': ['The possibility of entering dangerous places that people do not dare to approach, such as wreck parts, battlefields, etc.'], 'more reliable than humans': [nan], 'reach dangerous places': [nan], 'do not get tired': [nan, nan], 'cannot die': [nan], '\"small\" operations': ['Especially good for smaller operations and possibly the transport'], 'toxic environment': [nan], 'safer for humans': [nan, nan], 'dexterity': ['Often higher skill than human rescuers'], 'responsiveness': ['Robots have a significantly higher reaction capability than human rescuers'], 'Accuracy of rescue robots': ['this way human errors can be reduced'], 'quality/precision': [nan], 'quantity': ['more rescue operations or more people saved possible'], 'fewer deaths': [nan], 'faster operation': [nan], 'accuracy': [nan, nan], 'faster help': ['Since the risk to life is lower, rescue workers can send a robot before a complete analysis of the problem area is available.'], 'stronger': ['Robots might potentially be able to move things that humans would have great difficulty with.'], 'Not susceptible to infection': ['Robots are insensitive to infections.'], '24/7 readiness': [nan], 'access to hard-to-reach places': [nan], 'human safety': [nan], 'useful addition': ['To human rescuers.'], '\"dare\" more': ['can also be used in war zones, only material loss through explosives'], 'eyes and ears': ['for the rescue forces from a safe distance'], 'less danger': ['for human rescue forces', nan, nan], 'dangerous areas': [nan, nan], 'endurance': [nan], 'performance': [nan], 'rescue and safety': [nan], 'danger': ['less human danger'], 'no rescuer endangered': [nan], 'access': ['access to areas where people cannot reach'], 'rational efficiency': ['No suicidal experiments in rescue'], 'quick deployment': [nan, nan], 'no exhaustion': [nan], 'save many people': [nan], 'Adaptability': [nan], 'continuous monitoring': [nan], 'not tired': [nan], 'more human rescue': [nan], 'easier finding': ['Through their sensors like thermal imaging, the robots can better find people.'], 'do not lose strength': ['Robots do not lose stamina while humans could lose strength during missions.'], 'delivery of goods': ['Robots can, for example, deliver goods in war zones, which would be dangerous for humans.'], 'faster abolition': ['Rescue robots could shorten the path to doctors/hospitals and the abolition of injured people.'], 'safety risks': [nan], 'can be replaced': ['Robots can be replaced by other robots in case of loss'], 'better search capabilities': ['Robots can search better in the dark and in smoke etc because they have numerous sensors'], 'for danger': ['can be used in times of danger instead of humans'], 'efficient reconnaissance work': ['Through algorithms, maps can be read and created more quickly'], 'rescue efficient and': [nan], 'higher utilization': ['the robots can be used continuously'], 'faster access': ['easier access to dangerous place'], 'error reduction': [nan], 'simplification of difficult situations': ['Many rescue situations prove difficult for people to reach or to intervene, automation can clearly help here.'], 'accessibility of special regions': [nan], 'risk reduction for aid workers': ['Should people go into difficult areas, for example for avalanche rescue, they put themselves in danger'], 'fire department support': [nan], 'risk': ['In dangerous environments or situations, there is of course much less risk for the people'], 'dispensable': ['the loss of a robot is less tragic than the loss of a human rescuer'], 'immune': ['a robot is immune to many dangers that would be deadly for humans such as smoke gases, chemicals, temperatures'], 'protects people': ['No human risks necessary'], 'surpasses human rescuers': ['Can be used in situations where people cannot reach'], 'low risk': [nan], 'safety for rescue workers': [nan], 'access to dangerous area': [nan], 'no performance drop': [nan], 'follows instructions precisely': [nan], 'earthquake rescue': [nan], 'lifting heavy weights': [nan], 'risk minimization': ['Approximately during search actions in risky areas'], 'precision in search': [nan], 'More flexible than human': ['People cannot access some areas or cannot see whether people are still alive. For example, in an earthquake incident under the rubble.'], 'Faster than human': ['In an earthquake, for example, recently in Turkey, the help arrived too late and this led to more loss. Robots would be more flexible and could be used faster, rather than gathering all people together and rushing to help.'], 'Stronger than human': ['As already mentioned, many people lost their lives in the earthquake in Turkey, and this was because human strength was not enough at a certain point. For example, the walls that fell on people could not be lifted, which is why arms and legs had to be cut off. If the robot was there, it could show more strength and lift the wall.'], 'speed': ['the robot can probably save faster than a human'], 'accessibility of contaminated places': ['Poisonous gases, smoke, radiation etc. play no role'], 'can be stronger': [nan], 'can work long': [nan], 'are physically superior': ['Strength, agility, mobility'], 'are mentally superior': ['No trauma for rescuers'], 'use in dangerous areas': [nan], 'use in inaccessibility': [nan], 'accuracy of work': [nan], 'does not risk human lives': [nan]}\n",
      "181\n",
      "mapping new x comments: {'lower risk of injury': [nan, 'through soft robots', nan, 'due to their softness', 'With soft robots', nan, 'Lower risk of injury due to the adaptability of the robot', nan], 'flexible': [nan, nan, nan], 'low risk of injury': [nan, nan, nan, 'Due to the fact that a soft robot is not made of metal, but rather soft, the risk is lower.', nan, 'In comparison to hard plastic/metal', nan, 'with soft robots', 'helping hand'], 'safety': ['Soft material reduces risk of injury'], 'robots are more efficient': [nan], 'knowledge': ['You get the information from the internet and can capture and assign the data faster than humans.', nan], 'less risk of injury': [nan, nan, nan], 'reduction of injury risk': [nan, nan, \"compared to 'soft' rescue robots; valid for hard rescue robots\", nan, nan], 'delivery of supplies': [nan], 'precise work': [nan], 'food/water transport': [nan], 'animal protection': ['Using a soft robot instead of an animal protects the animal from potentially harmful behavior by the owner.'], 'reach the inaccessible': [nan], 'reduce risk of injury': [nan], 'reliable': ['is always ready'], 'direct help': ['through water/food'], 'reduced risk of injury': ['through soft materials', 'the victim due to the organic construction method', nan, nan], 'time savings in emergencies': [nan], 'care of victims': [nan], 'exploration': ['Assess the safety of the dangerous area'], 'supply with food': [nan, nan], 'adaptability': [nan], 'few physical risks': ['e.g. through injuries'], 'accessible tight spaces': ['Due to their flexibility, they can access narrow spaces that are not accessible to people.'], 'decision-making options': ['in theory, a robot should be able to make a logical decision better than a human because emotions etc. cannot cloud a decision'], 'injury prevention': [nan], 'more people saved': [nan], 'low risks': ['Soft robots pose only a low risk to the victims due to their flexibility.'], 'life-threatening places': [nan], 'vital help': [nan], 'more flexible than humans': [nan], 'fast': ['faster than a human to distribute aid supplies.'], 'Adaptability': [nan], 'camera images': ['To perform an image analysis in retrospect'], 'human error susceptibility': [nan], 'medication supply': [nan], 'inaccessible areas': [nan]}\n",
      "37\n",
      "mapping deleted x comments: {'faster': ['Works faster'], 'precise work possible': [nan], 'higher precision': [nan], 'safety': [nan], 'efficiency': [nan], 'save more people': [nan]}\n",
      "6\n"
     ]
    }
   ],
   "source": [
    "# Remove rows with NaN in the key columns as they cannot be used as dictionary keys\n",
    "#> not sensitive to multiple identical keys: dict(zip(df['constant'], df['constant_comments']))\n",
    "df = all_sheets_Combined[sheet_name]\n",
    "\n",
    "constant_comments_mapping = create_multivalue_dict(df, 'constant', 'constant_comments')\n",
    "print(\"mapping constant x comments:\", constant_comments_mapping)\n",
    "print(len(constant_comments_mapping))\n",
    "\n",
    "new_comments_mapping = create_multivalue_dict(df, 'new', 'new_comments')\n",
    "print(\"mapping new x comments:\", new_comments_mapping)\n",
    "print(len(new_comments_mapping))\n",
    "\n",
    "deleted_comments_mapping = create_multivalue_dict(df, 'deleted', 'deleted_comments')\n",
    "print(\"mapping deleted x comments:\", deleted_comments_mapping)\n",
    "print(len(deleted_comments_mapping))"
   ]
  },
  {
   "cell_type": "code",
   "execution_count": 22,
   "metadata": {},
   "outputs": [],
   "source": [
    "def combine_dicts(dict1, dict2):\n",
    "    \"\"\"\n",
    "    Combine two dictionaries where each key maps to a list of values.\n",
    "    \n",
    "    Parameters:\n",
    "    dict1 (dict): The first dictionary.\n",
    "    dict2 (dict): The second dictionary.\n",
    "    \n",
    "    Returns:\n",
    "    dict: A combined dictionary where each key maps to a concatenated list of values.\n",
    "    \"\"\"\n",
    "    combined_dict = dict1.copy()\n",
    "    for key, values in dict2.items():\n",
    "        if key in combined_dict:\n",
    "            combined_dict[key].extend(values)\n",
    "        else:\n",
    "            combined_dict[key] = values\n",
    "    return combined_dict"
   ]
  },
  {
   "cell_type": "markdown",
   "metadata": {},
   "source": [
    "test combine_dicts() function:"
   ]
  },
  {
   "cell_type": "code",
   "execution_count": 23,
   "metadata": {},
   "outputs": [
    {
     "name": "stdout",
     "output_type": "stream",
     "text": [
      "mapping constant, new x comments: {'quick hygienic help': [nan], 'efficient': ['Work on statistics can be made more efficient through probabilities.', nan, nan, nan], 'safety': ['Prevents people from having to work under difficult or dangerous conditions to increase safety.', 'Enables deployment in difficult situations where human rescuers would put themselves in danger', nan, nan, nan, 'through reliability', 'No people are being put in danger', 'Soft material reduces risk of injury'], 'remote control': ['Can be operated by experts via remote control or autonomous systems to perform operations from a safe distance.', nan, nan, nan, nan, 'Minimizes risks associated with autonomy'], 'speed and efficiency': ['Robots can often act faster than humans and increase the speed of emergency interventions', 'Improvement of speed and efficiency of rescue operations', nan], 'safe': ['People do not have to put themselves in dangerous situations'], 'reliable': ['Can be precisely controlled', nan, nan, nan, nan, 'is always ready'], 'health monitoring': [nan, 'People no longer necessarily need an emergency button if an external system can watch over them and summon help when in doubt.'], 'Precise execution': ['Robots perform tasks purposefully'], 'Ability to learn': ['The robots are learning and being further developed, making them more efficient'], 'no people necessary': [nan], 'stronger than humans': [nan, 'In many situations, e.g. when clearing rubble, a great advantage.', nan, nan], 'faster than humans': [nan, nan], 'precise handling': [nan], 'reliability': [nan, 'Machines can accomplish their tasks reliably and reproducibly (provided they are well programmed and built)', nan, nan, nan], 'always correct': [nan], 'protection of rescue forces': ['for example in contamination scenarios', 'Reduced deployment of human rescue forces in dangerous situations', nan, 'human rescuers do not have to put themselves in danger'], 'in danger zones': [nan], 'toxic places': ['Places where people can only breathe with special equipment (gas mask)'], 'no distraction': [nan], 'by injuries': [nan], 'consistent': [nan], 'consistent performance': [nan], 'emergency monitoring': ['Depending on how a robot is equipped, it could respond very quickly in an emergency, faster than a human.'], 'more strong': [nan], 'without basic need': ['Water, sleep, food etc.'], 'faster intervention': [nan], 'area of application': ['Can be used in areas too dangerous for humans', 'Can be used in areas that are too dangerous for humans.'], 'reaching hard-to-access places': ['Robots and drones are small and agile. Therefore, they can reach places that are difficult or even dangerous for humans to reach.'], 'discover dangerous areas': [nan], 'quick processing': [nan], 'care of people': [nan], 'perform operations': ['disease'], 'enter dangerous situation': [nan], 'No illness': ['Robots do not get infected, they do not spread diseases, and they do not get sick.'], 'less risk': [nan, 'Specifically less risk to further human lives, as rescue teams can use robots'], 'efficiency in search': [nan], 'no fatigue': [nan, 'Unlike human rescuers, robots do not tire even during long operations'], 'cover dangerous areas': ['even where it is dangerous for humans, a robot can go there'], 'precision & accuracy': [nan], 'no human errors': [nan], 'more attentive': [nan], 'use in dangerous situations': ['Rescue robots can be used in dangerous situations where humans are exposed to too high a risk.'], 'can act quickly': ['Robots can intervene quickly, as they do not need to be dressed or prepared and are autonomous', 'The robots can act faster than a human in an emergency.'], 'No exhaustion': [nan], 'Range': ['Robots, again just the drone can rescue victims faster in difficult terrain or bring help, e.g. medicine, food'], 'accessibility of inaccessible places': [nan], 'improved approach': [nan], 'precise work': [nan, nan], 'rescue of people': [nan], 'deployment possibility': ['Also possible under dangerous conditions'], 'replaceable': ['In case of loss, no human sacrifice', 'During operations, unlike human rescuers, there is no need to pay attention to the safety of the robots, as they can be easily replaced.'], 'unrestricted access': ['Robots can operate in environments that would be toxic to humans, e.g. areas contaminated with radiation.'], 'sparing human life': ['If robots are used instead of human rescuers, the lives and health of the rescuers do not have to be put at risk.'], 'reduced risk': ['By using robots, no human forces are exposed to dangerous situations'], 'precision': [nan], 'more targeted help': [nan], 'saves lives': ['For example, when human helpers are not available, a rescue robot can still save human lives.', 'send a robot into a danger zone instead of a human', nan], 'protects aid workers': ['Since employees are not unnecessarily exposed to dangers, strictly speaking, this also saves their lives.'], 'fewer mistakes': [nan], 'overall more productive': [nan], 'greater accuracy': [nan], 'usable in emergencies': ['To inspect debris more accurately'], 'protection of rescue personnel': [nan], 'accessibility of places': ['Accessibility difficult to reach'], 'increased efficiency': [nan], 'faster recovery': ['One could send robots into the fire without danger to human lives, etc, to combat the cause more quickly.'], 'weather independent': ['Even in storms etc., perhaps an option for critical tasks'], 'safety for emergency personnel': [nan], 'strength (power)': ['for example, for lifting debris parts'], 'quick action': [nan], 'no danger': ['For human rescue forces in action', 'No human doctor etc. needs to enter the operating area and thus it is significantly safer and therefore protects human lives.'], 'efficiency': [nan, 'Robots could be more capable in disaster cases than human helpers.', nan, 'Robots are not limited to human speed, vision, and perception in general.', nan, 'both equally fast work, more productive way of working as well as improved access to danger zones', nan], 'access to areas': ['Access to areas difficult or only reachable through considerable dangers for people'], 'vital objects': ['Victims receive vitally important things, such as water, food, and medicine'], 'rescue forces safety': ['Emergency services can avoid dangers if, for example, pictures of the location were taken by robots.'], 'more/ easier access': ['Robots can create (easier) access to places where it would otherwise be more difficult.'], 'reduce number of victims': ['Robots could make rescue operations more efficient and faster, potentially saving more victims.'], 'no life endangered': [nan], 'can save lives': [nan, nan], 'not emotionally driven': [nan], 'focused': [nan], 'exclusion of human error': [nan], 'flexible': ['The robot could operate in dangerous areas and is therefore not limited.', nan, nan, nan], 'stronger than human': ['Specially equipped machines could help trapped victims quicker and more efficiently.'], 'chances of success': ['A reliable and error-free rescue robot could therefore save people faster and more than a human.'], 'accuracy of execution': [nan], 'enter dangerous areas': [nan], 'do not get distracted': ['Rescue robots follow their programming and can focus better on the rescue without being influenced by emotions.'], 'speed / agility': [nan], 'real-time data': [nan], 'strength': [nan, 'the robot can, for example, move objects that a human could not move'], 'simplified access': [nan], 'quick help': [nan, nan, nan], 'risk-free rescue': ['From the side of the rescuers, who do not have to put themselves in danger'], 'better CPR': [nan], 'life-threatening places': ['The possibility of entering dangerous places that people do not dare to approach, such as wreck parts, battlefields, etc.', nan], 'more reliable than humans': [nan], 'reach dangerous places': [nan], 'do not get tired': [nan, nan], 'cannot die': [nan], '\"small\" operations': ['Especially good for smaller operations and possibly the transport'], 'toxic environment': [nan], 'safer for humans': [nan, nan], 'dexterity': ['Often higher skill than human rescuers'], 'responsiveness': ['Robots have a significantly higher reaction capability than human rescuers'], 'Accuracy of rescue robots': ['this way human errors can be reduced'], 'quality/precision': [nan], 'quantity': ['more rescue operations or more people saved possible'], 'fewer deaths': [nan], 'faster operation': [nan], 'accuracy': [nan, nan], 'faster help': ['Since the risk to life is lower, rescue workers can send a robot before a complete analysis of the problem area is available.'], 'stronger': ['Robots might potentially be able to move things that humans would have great difficulty with.'], 'Not susceptible to infection': ['Robots are insensitive to infections.'], '24/7 readiness': [nan], 'access to hard-to-reach places': [nan], 'human safety': [nan], 'useful addition': ['To human rescuers.'], '\"dare\" more': ['can also be used in war zones, only material loss through explosives'], 'eyes and ears': ['for the rescue forces from a safe distance'], 'less danger': ['for human rescue forces', nan, nan], 'dangerous areas': [nan, nan], 'endurance': [nan], 'performance': [nan], 'rescue and safety': [nan], 'danger': ['less human danger'], 'no rescuer endangered': [nan], 'access': ['access to areas where people cannot reach'], 'rational efficiency': ['No suicidal experiments in rescue'], 'quick deployment': [nan, nan], 'no exhaustion': [nan], 'save many people': [nan], 'Adaptability': [nan, nan], 'continuous monitoring': [nan], 'not tired': [nan], 'more human rescue': [nan], 'easier finding': ['Through their sensors like thermal imaging, the robots can better find people.'], 'do not lose strength': ['Robots do not lose stamina while humans could lose strength during missions.'], 'delivery of goods': ['Robots can, for example, deliver goods in war zones, which would be dangerous for humans.'], 'faster abolition': ['Rescue robots could shorten the path to doctors/hospitals and the abolition of injured people.'], 'safety risks': [nan], 'can be replaced': ['Robots can be replaced by other robots in case of loss'], 'better search capabilities': ['Robots can search better in the dark and in smoke etc because they have numerous sensors'], 'for danger': ['can be used in times of danger instead of humans'], 'efficient reconnaissance work': ['Through algorithms, maps can be read and created more quickly'], 'rescue efficient and': [nan], 'higher utilization': ['the robots can be used continuously'], 'faster access': ['easier access to dangerous place'], 'error reduction': [nan], 'simplification of difficult situations': ['Many rescue situations prove difficult for people to reach or to intervene, automation can clearly help here.'], 'accessibility of special regions': [nan], 'risk reduction for aid workers': ['Should people go into difficult areas, for example for avalanche rescue, they put themselves in danger'], 'fire department support': [nan], 'risk': ['In dangerous environments or situations, there is of course much less risk for the people'], 'dispensable': ['the loss of a robot is less tragic than the loss of a human rescuer'], 'immune': ['a robot is immune to many dangers that would be deadly for humans such as smoke gases, chemicals, temperatures'], 'protects people': ['No human risks necessary'], 'surpasses human rescuers': ['Can be used in situations where people cannot reach'], 'low risk': [nan], 'safety for rescue workers': [nan], 'access to dangerous area': [nan], 'no performance drop': [nan], 'follows instructions precisely': [nan], 'earthquake rescue': [nan], 'lifting heavy weights': [nan], 'risk minimization': ['Approximately during search actions in risky areas'], 'precision in search': [nan], 'More flexible than human': ['People cannot access some areas or cannot see whether people are still alive. For example, in an earthquake incident under the rubble.'], 'Faster than human': ['In an earthquake, for example, recently in Turkey, the help arrived too late and this led to more loss. Robots would be more flexible and could be used faster, rather than gathering all people together and rushing to help.'], 'Stronger than human': ['As already mentioned, many people lost their lives in the earthquake in Turkey, and this was because human strength was not enough at a certain point. For example, the walls that fell on people could not be lifted, which is why arms and legs had to be cut off. If the robot was there, it could show more strength and lift the wall.'], 'speed': ['the robot can probably save faster than a human'], 'accessibility of contaminated places': ['Poisonous gases, smoke, radiation etc. play no role'], 'can be stronger': [nan], 'can work long': [nan], 'are physically superior': ['Strength, agility, mobility'], 'are mentally superior': ['No trauma for rescuers'], 'use in dangerous areas': [nan], 'use in inaccessibility': [nan], 'accuracy of work': [nan], 'does not risk human lives': [nan], 'lower risk of injury': [nan, 'through soft robots', nan, 'due to their softness', 'With soft robots', nan, 'Lower risk of injury due to the adaptability of the robot', nan], 'low risk of injury': [nan, nan, nan, 'Due to the fact that a soft robot is not made of metal, but rather soft, the risk is lower.', nan, 'In comparison to hard plastic/metal', nan, 'with soft robots', 'helping hand'], 'robots are more efficient': [nan], 'knowledge': ['You get the information from the internet and can capture and assign the data faster than humans.', nan], 'less risk of injury': [nan, nan, nan], 'reduction of injury risk': [nan, nan, \"compared to 'soft' rescue robots; valid for hard rescue robots\", nan, nan], 'delivery of supplies': [nan], 'food/water transport': [nan], 'animal protection': ['Using a soft robot instead of an animal protects the animal from potentially harmful behavior by the owner.'], 'reach the inaccessible': [nan], 'reduce risk of injury': [nan], 'direct help': ['through water/food'], 'reduced risk of injury': ['through soft materials', 'the victim due to the organic construction method', nan, nan], 'time savings in emergencies': [nan], 'care of victims': [nan], 'exploration': ['Assess the safety of the dangerous area'], 'supply with food': [nan, nan], 'adaptability': [nan], 'few physical risks': ['e.g. through injuries'], 'accessible tight spaces': ['Due to their flexibility, they can access narrow spaces that are not accessible to people.'], 'decision-making options': ['in theory, a robot should be able to make a logical decision better than a human because emotions etc. cannot cloud a decision'], 'injury prevention': [nan], 'more people saved': [nan], 'low risks': ['Soft robots pose only a low risk to the victims due to their flexibility.'], 'vital help': [nan], 'more flexible than humans': [nan], 'fast': ['faster than a human to distribute aid supplies.'], 'camera images': ['To perform an image analysis in retrospect'], 'human error susceptibility': [nan], 'medication supply': [nan], 'inaccessible areas': [nan]}\n",
      "212\n"
     ]
    }
   ],
   "source": [
    "constant_new_comments_mapping = combine_dicts(constant_comments_mapping, new_comments_mapping)\n",
    "print(\"mapping constant, new x comments:\", constant_new_comments_mapping)\n",
    "print(len(constant_new_comments_mapping))\n"
   ]
  },
  {
   "cell_type": "markdown",
   "metadata": {},
   "source": [
    "## Data for A, B graph (G2)\n",
    "\n",
    "Prompt to get list of arguments and explenations:"
   ]
  },
  {
   "cell_type": "code",
   "execution_count": 24,
   "metadata": {},
   "outputs": [
    {
     "name": "stdout",
     "output_type": "stream",
     "text": [
      "messages=[SystemMessage(content='\\nYou are a researcher summarizing two word lists that represent people\\'s assessments of rigid and soft robots, whereby laypersons were informed about the risks and benefits of rescue robots and socially assistive robots through scenario texts.\\n\\nParticipants shared their views on traditional rigid robots in a \"rigid\" list and on flexible, electronic-free soft robots in a \"soft\" list after learning about their respective risks and benefits. \\nThe overall theme is perceived safety.\\n\\nBoth \"rigid\" and \"soft\" lists are dictionaries with argument keys and comment values. If [nan] appears, it means no comment was provided; repeated entries or [nan] values indicate that the argument was emphasized multiple times.\\n\\nYour task:\\nSummarize the main points for each category into a JSON object. Fill the two arrays within the JSON object, \"rigid_arguments\" for the \"rigid\" list and \"soft_arguments\" for the \"soft\" list. \\nSummarize the main points for each category in a JSON object. Populate the two arrays, \"rigid_arguments\" and \"soft_arguments,\" with up to five key arguments each. \\nInclude a brief, interrelated explanation (up to two sentences) for each argument, derived from the provided lists.\\n\\n\\nOutput Format:\\n\\n{\\n  \"assessments\": {\\n    \"rigid_arguments\": [\\n      {\\n        \"argument\": \"argument1\",\\n        \"explanation\": \"explanation of argument1\"\\n      },\\n      {\\n        \"argument\": \"argument2\",\\n        \"explanation\": \"explanation of argument2\"\\n      },\\n      ...\\n    ],\\n    \"soft_arguments\": [\\n      {\\n        \"argument\": \"argument1\",\\n        \"explanation\": \"explanation of argument1\"\\n      },\\n      {\\n        \"argument\": \"argument2\",\\n        \"explanation\": \"explanation of argument2\"\\n      },\\n      ...\\n    ]\\n  }\\n}\\n\\nPlease respond with the entire JSON structure as specified, providing up to five arguments for each list, and without any additional commentary or context.\\n', additional_kwargs={}, response_metadata={}), HumanMessage(content='List \"rigid\": \\n{\\'quick hygienic help\\': [nan], \\'efficient\\': [\\'Work on statistics can be made more efficient through probabilities.\\', nan, nan, nan], \\'safety\\': [\\'Prevents people from having to work under difficult or dangerous conditions to increase safety.\\', \\'Enables deployment in difficult situations where human rescuers would put themselves in danger\\', nan, nan, nan, \\'through reliability\\', \\'No people are being put in danger\\', \\'Soft material reduces risk of injury\\'], \\'remote control\\': [\\'Can be operated by experts via remote control or autonomous systems to perform operations from a safe distance.\\', nan, nan, nan, nan, \\'Minimizes risks associated with autonomy\\'], \\'speed and efficiency\\': [\\'Robots can often act faster than humans and increase the speed of emergency interventions\\', \\'Improvement of speed and efficiency of rescue operations\\', nan], \\'safe\\': [\\'People do not have to put themselves in dangerous situations\\'], \\'reliable\\': [\\'Can be precisely controlled\\', nan, nan, nan, nan, \\'is always ready\\'], \\'health monitoring\\': [nan, \\'People no longer necessarily need an emergency button if an external system can watch over them and summon help when in doubt.\\'], \\'Precise execution\\': [\\'Robots perform tasks purposefully\\'], \\'Ability to learn\\': [\\'The robots are learning and being further developed, making them more efficient\\'], \\'no people necessary\\': [nan], \\'stronger than humans\\': [nan, \\'In many situations, e.g. when clearing rubble, a great advantage.\\', nan, nan], \\'faster than humans\\': [nan, nan], \\'precise handling\\': [nan], \\'reliability\\': [nan, \\'Machines can accomplish their tasks reliably and reproducibly (provided they are well programmed and built)\\', nan, nan, nan], \\'always correct\\': [nan], \\'protection of rescue forces\\': [\\'for example in contamination scenarios\\', \\'Reduced deployment of human rescue forces in dangerous situations\\', nan, \\'human rescuers do not have to put themselves in danger\\'], \\'in danger zones\\': [nan], \\'toxic places\\': [\\'Places where people can only breathe with special equipment (gas mask)\\'], \\'no distraction\\': [nan], \\'by injuries\\': [nan], \\'consistent\\': [nan], \\'consistent performance\\': [nan], \\'emergency monitoring\\': [\\'Depending on how a robot is equipped, it could respond very quickly in an emergency, faster than a human.\\'], \\'more strong\\': [nan], \\'without basic need\\': [\\'Water, sleep, food etc.\\'], \\'faster intervention\\': [nan], \\'area of application\\': [\\'Can be used in areas too dangerous for humans\\', \\'Can be used in areas that are too dangerous for humans.\\'], \\'reaching hard-to-access places\\': [\\'Robots and drones are small and agile. Therefore, they can reach places that are difficult or even dangerous for humans to reach.\\'], \\'discover dangerous areas\\': [nan], \\'quick processing\\': [nan], \\'care of people\\': [nan], \\'perform operations\\': [\\'disease\\'], \\'enter dangerous situation\\': [nan], \\'No illness\\': [\\'Robots do not get infected, they do not spread diseases, and they do not get sick.\\'], \\'less risk\\': [nan, \\'Specifically less risk to further human lives, as rescue teams can use robots\\'], \\'efficiency in search\\': [nan], \\'no fatigue\\': [nan, \\'Unlike human rescuers, robots do not tire even during long operations\\'], \\'cover dangerous areas\\': [\\'even where it is dangerous for humans, a robot can go there\\'], \\'precision & accuracy\\': [nan], \\'no human errors\\': [nan], \\'more attentive\\': [nan], \\'use in dangerous situations\\': [\\'Rescue robots can be used in dangerous situations where humans are exposed to too high a risk.\\'], \\'can act quickly\\': [\\'Robots can intervene quickly, as they do not need to be dressed or prepared and are autonomous\\', \\'The robots can act faster than a human in an emergency.\\'], \\'No exhaustion\\': [nan], \\'Range\\': [\\'Robots, again just the drone can rescue victims faster in difficult terrain or bring help, e.g. medicine, food\\'], \\'accessibility of inaccessible places\\': [nan], \\'improved approach\\': [nan], \\'precise work\\': [nan, nan], \\'rescue of people\\': [nan], \\'deployment possibility\\': [\\'Also possible under dangerous conditions\\'], \\'replaceable\\': [\\'In case of loss, no human sacrifice\\', \\'During operations, unlike human rescuers, there is no need to pay attention to the safety of the robots, as they can be easily replaced.\\'], \\'unrestricted access\\': [\\'Robots can operate in environments that would be toxic to humans, e.g. areas contaminated with radiation.\\'], \\'sparing human life\\': [\\'If robots are used instead of human rescuers, the lives and health of the rescuers do not have to be put at risk.\\'], \\'reduced risk\\': [\\'By using robots, no human forces are exposed to dangerous situations\\'], \\'precision\\': [nan], \\'more targeted help\\': [nan], \\'saves lives\\': [\\'For example, when human helpers are not available, a rescue robot can still save human lives.\\', \\'send a robot into a danger zone instead of a human\\', nan], \\'protects aid workers\\': [\\'Since employees are not unnecessarily exposed to dangers, strictly speaking, this also saves their lives.\\'], \\'fewer mistakes\\': [nan], \\'overall more productive\\': [nan], \\'greater accuracy\\': [nan], \\'usable in emergencies\\': [\\'To inspect debris more accurately\\'], \\'protection of rescue personnel\\': [nan], \\'accessibility of places\\': [\\'Accessibility difficult to reach\\'], \\'increased efficiency\\': [nan], \\'faster recovery\\': [\\'One could send robots into the fire without danger to human lives, etc, to combat the cause more quickly.\\'], \\'weather independent\\': [\\'Even in storms etc., perhaps an option for critical tasks\\'], \\'safety for emergency personnel\\': [nan], \\'strength (power)\\': [\\'for example, for lifting debris parts\\'], \\'quick action\\': [nan], \\'no danger\\': [\\'For human rescue forces in action\\', \\'No human doctor etc. needs to enter the operating area and thus it is significantly safer and therefore protects human lives.\\'], \\'efficiency\\': [nan, \\'Robots could be more capable in disaster cases than human helpers.\\', nan, \\'Robots are not limited to human speed, vision, and perception in general.\\', nan, \\'both equally fast work, more productive way of working as well as improved access to danger zones\\', nan], \\'access to areas\\': [\\'Access to areas difficult or only reachable through considerable dangers for people\\'], \\'vital objects\\': [\\'Victims receive vitally important things, such as water, food, and medicine\\'], \\'rescue forces safety\\': [\\'Emergency services can avoid dangers if, for example, pictures of the location were taken by robots.\\'], \\'more/ easier access\\': [\\'Robots can create (easier) access to places where it would otherwise be more difficult.\\'], \\'reduce number of victims\\': [\\'Robots could make rescue operations more efficient and faster, potentially saving more victims.\\'], \\'no life endangered\\': [nan], \\'can save lives\\': [nan, nan], \\'not emotionally driven\\': [nan], \\'focused\\': [nan], \\'exclusion of human error\\': [nan], \\'flexible\\': [\\'The robot could operate in dangerous areas and is therefore not limited.\\', nan, nan, nan], \\'stronger than human\\': [\\'Specially equipped machines could help trapped victims quicker and more efficiently.\\'], \\'chances of success\\': [\\'A reliable and error-free rescue robot could therefore save people faster and more than a human.\\'], \\'accuracy of execution\\': [nan], \\'enter dangerous areas\\': [nan], \\'do not get distracted\\': [\\'Rescue robots follow their programming and can focus better on the rescue without being influenced by emotions.\\'], \\'speed / agility\\': [nan], \\'real-time data\\': [nan], \\'strength\\': [nan, \\'the robot can, for example, move objects that a human could not move\\'], \\'simplified access\\': [nan], \\'quick help\\': [nan, nan, nan], \\'risk-free rescue\\': [\\'From the side of the rescuers, who do not have to put themselves in danger\\'], \\'better CPR\\': [nan], \\'life-threatening places\\': [\\'The possibility of entering dangerous places that people do not dare to approach, such as wreck parts, battlefields, etc.\\', nan], \\'more reliable than humans\\': [nan], \\'reach dangerous places\\': [nan], \\'do not get tired\\': [nan, nan], \\'cannot die\\': [nan], \\'\"small\" operations\\': [\\'Especially good for smaller operations and possibly the transport\\'], \\'toxic environment\\': [nan], \\'safer for humans\\': [nan, nan], \\'dexterity\\': [\\'Often higher skill than human rescuers\\'], \\'responsiveness\\': [\\'Robots have a significantly higher reaction capability than human rescuers\\'], \\'Accuracy of rescue robots\\': [\\'this way human errors can be reduced\\'], \\'quality/precision\\': [nan], \\'quantity\\': [\\'more rescue operations or more people saved possible\\'], \\'fewer deaths\\': [nan], \\'faster operation\\': [nan], \\'accuracy\\': [nan, nan], \\'faster help\\': [\\'Since the risk to life is lower, rescue workers can send a robot before a complete analysis of the problem area is available.\\'], \\'stronger\\': [\\'Robots might potentially be able to move things that humans would have great difficulty with.\\'], \\'Not susceptible to infection\\': [\\'Robots are insensitive to infections.\\'], \\'24/7 readiness\\': [nan], \\'access to hard-to-reach places\\': [nan], \\'human safety\\': [nan], \\'useful addition\\': [\\'To human rescuers.\\'], \\'\"dare\" more\\': [\\'can also be used in war zones, only material loss through explosives\\'], \\'eyes and ears\\': [\\'for the rescue forces from a safe distance\\'], \\'less danger\\': [\\'for human rescue forces\\', nan, nan], \\'dangerous areas\\': [nan, nan], \\'endurance\\': [nan], \\'performance\\': [nan], \\'rescue and safety\\': [nan], \\'danger\\': [\\'less human danger\\'], \\'no rescuer endangered\\': [nan], \\'access\\': [\\'access to areas where people cannot reach\\'], \\'rational efficiency\\': [\\'No suicidal experiments in rescue\\'], \\'quick deployment\\': [nan, nan], \\'no exhaustion\\': [nan], \\'save many people\\': [nan], \\'Adaptability\\': [nan, nan], \\'continuous monitoring\\': [nan], \\'not tired\\': [nan], \\'more human rescue\\': [nan], \\'easier finding\\': [\\'Through their sensors like thermal imaging, the robots can better find people.\\'], \\'do not lose strength\\': [\\'Robots do not lose stamina while humans could lose strength during missions.\\'], \\'delivery of goods\\': [\\'Robots can, for example, deliver goods in war zones, which would be dangerous for humans.\\'], \\'faster abolition\\': [\\'Rescue robots could shorten the path to doctors/hospitals and the abolition of injured people.\\'], \\'safety risks\\': [nan], \\'can be replaced\\': [\\'Robots can be replaced by other robots in case of loss\\'], \\'better search capabilities\\': [\\'Robots can search better in the dark and in smoke etc because they have numerous sensors\\'], \\'for danger\\': [\\'can be used in times of danger instead of humans\\'], \\'efficient reconnaissance work\\': [\\'Through algorithms, maps can be read and created more quickly\\'], \\'rescue efficient and\\': [nan], \\'higher utilization\\': [\\'the robots can be used continuously\\'], \\'faster access\\': [\\'easier access to dangerous place\\'], \\'error reduction\\': [nan], \\'simplification of difficult situations\\': [\\'Many rescue situations prove difficult for people to reach or to intervene, automation can clearly help here.\\'], \\'accessibility of special regions\\': [nan], \\'risk reduction for aid workers\\': [\\'Should people go into difficult areas, for example for avalanche rescue, they put themselves in danger\\'], \\'fire department support\\': [nan], \\'risk\\': [\\'In dangerous environments or situations, there is of course much less risk for the people\\'], \\'dispensable\\': [\\'the loss of a robot is less tragic than the loss of a human rescuer\\'], \\'immune\\': [\\'a robot is immune to many dangers that would be deadly for humans such as smoke gases, chemicals, temperatures\\'], \\'protects people\\': [\\'No human risks necessary\\'], \\'surpasses human rescuers\\': [\\'Can be used in situations where people cannot reach\\'], \\'low risk\\': [nan], \\'safety for rescue workers\\': [nan], \\'access to dangerous area\\': [nan], \\'no performance drop\\': [nan], \\'follows instructions precisely\\': [nan], \\'earthquake rescue\\': [nan], \\'lifting heavy weights\\': [nan], \\'risk minimization\\': [\\'Approximately during search actions in risky areas\\'], \\'precision in search\\': [nan], \\'More flexible than human\\': [\\'People cannot access some areas or cannot see whether people are still alive. For example, in an earthquake incident under the rubble.\\'], \\'Faster than human\\': [\\'In an earthquake, for example, recently in Turkey, the help arrived too late and this led to more loss. Robots would be more flexible and could be used faster, rather than gathering all people together and rushing to help.\\'], \\'Stronger than human\\': [\\'As already mentioned, many people lost their lives in the earthquake in Turkey, and this was because human strength was not enough at a certain point. For example, the walls that fell on people could not be lifted, which is why arms and legs had to be cut off. If the robot was there, it could show more strength and lift the wall.\\'], \\'speed\\': [\\'the robot can probably save faster than a human\\'], \\'accessibility of contaminated places\\': [\\'Poisonous gases, smoke, radiation etc. play no role\\'], \\'can be stronger\\': [nan], \\'can work long\\': [nan], \\'are physically superior\\': [\\'Strength, agility, mobility\\'], \\'are mentally superior\\': [\\'No trauma for rescuers\\'], \\'use in dangerous areas\\': [nan], \\'use in inaccessibility\\': [nan], \\'accuracy of work\\': [nan], \\'does not risk human lives\\': [nan]}\\n\\nList \"soft\": \\n{\\'lower risk of injury\\': [nan, \\'through soft robots\\', nan, \\'due to their softness\\', \\'With soft robots\\', nan, \\'Lower risk of injury due to the adaptability of the robot\\', nan], \\'flexible\\': [nan, nan, nan], \\'low risk of injury\\': [nan, nan, nan, \\'Due to the fact that a soft robot is not made of metal, but rather soft, the risk is lower.\\', nan, \\'In comparison to hard plastic/metal\\', nan, \\'with soft robots\\', \\'helping hand\\'], \\'safety\\': [\\'Soft material reduces risk of injury\\'], \\'robots are more efficient\\': [nan], \\'knowledge\\': [\\'You get the information from the internet and can capture and assign the data faster than humans.\\', nan], \\'less risk of injury\\': [nan, nan, nan], \\'reduction of injury risk\\': [nan, nan, \"compared to \\'soft\\' rescue robots; valid for hard rescue robots\", nan, nan], \\'delivery of supplies\\': [nan], \\'precise work\\': [nan], \\'food/water transport\\': [nan], \\'animal protection\\': [\\'Using a soft robot instead of an animal protects the animal from potentially harmful behavior by the owner.\\'], \\'reach the inaccessible\\': [nan], \\'reduce risk of injury\\': [nan], \\'reliable\\': [\\'is always ready\\'], \\'direct help\\': [\\'through water/food\\'], \\'reduced risk of injury\\': [\\'through soft materials\\', \\'the victim due to the organic construction method\\', nan, nan], \\'time savings in emergencies\\': [nan], \\'care of victims\\': [nan], \\'exploration\\': [\\'Assess the safety of the dangerous area\\'], \\'supply with food\\': [nan, nan], \\'adaptability\\': [nan], \\'few physical risks\\': [\\'e.g. through injuries\\'], \\'accessible tight spaces\\': [\\'Due to their flexibility, they can access narrow spaces that are not accessible to people.\\'], \\'decision-making options\\': [\\'in theory, a robot should be able to make a logical decision better than a human because emotions etc. cannot cloud a decision\\'], \\'injury prevention\\': [nan], \\'more people saved\\': [nan], \\'low risks\\': [\\'Soft robots pose only a low risk to the victims due to their flexibility.\\'], \\'life-threatening places\\': [nan], \\'vital help\\': [nan], \\'more flexible than humans\\': [nan], \\'fast\\': [\\'faster than a human to distribute aid supplies.\\'], \\'Adaptability\\': [nan], \\'camera images\\': [\\'To perform an image analysis in retrospect\\'], \\'human error susceptibility\\': [nan], \\'medication supply\\': [nan], \\'inaccessible areas\\': [nan]}', additional_kwargs={}, response_metadata={})]\n",
      "template_out: messages=[SystemMessage(content='\\nYou are a researcher summarizing two word lists that represent people\\'s assessments of rigid and soft robots, whereby laypersons were informed about the risks and benefits of rescue robots and socially assistive robots through scenario texts.\\n\\nParticipants shared their views on traditional rigid robots in a \"rigid\" list and on flexible, electronic-free soft robots in a \"soft\" list after learning about their respective risks and benefits. \\nThe overall theme is perceived safety.\\n\\nBoth \"rigid\" and \"soft\" lists are dictionaries with argument keys and comment values. If [nan] appears, it means no comment was provided; repeated entries or [nan] values indicate that the argument was emphasized multiple times.\\n\\nYour task:\\nSummarize the main points for each category into a JSON object. Fill the two arrays within the JSON object, \"rigid_arguments\" for the \"rigid\" list and \"soft_arguments\" for the \"soft\" list. \\nSummarize the main points for each category in a JSON object. Populate the two arrays, \"rigid_arguments\" and \"soft_arguments,\" with up to five key arguments each. \\nInclude a brief, interrelated explanation (up to two sentences) for each argument, derived from the provided lists.\\n\\n\\nOutput Format:\\n\\n{\\n  \"assessments\": {\\n    \"rigid_arguments\": [\\n      {\\n        \"argument\": \"argument1\",\\n        \"explanation\": \"explanation of argument1\"\\n      },\\n      {\\n        \"argument\": \"argument2\",\\n        \"explanation\": \"explanation of argument2\"\\n      },\\n      ...\\n    ],\\n    \"soft_arguments\": [\\n      {\\n        \"argument\": \"argument1\",\\n        \"explanation\": \"explanation of argument1\"\\n      },\\n      {\\n        \"argument\": \"argument2\",\\n        \"explanation\": \"explanation of argument2\"\\n      },\\n      ...\\n    ]\\n  }\\n}\\n\\nPlease respond with the entire JSON structure as specified, providing up to five arguments for each list, and without any additional commentary or context.\\n', additional_kwargs={}, response_metadata={}), HumanMessage(content='List \"rigid\": \\n{\\'quick hygienic help\\': [nan], \\'efficient\\': [\\'Work on statistics can be made more efficient through probabilities.\\', nan, nan, nan], \\'safety\\': [\\'Prevents people from having to work under difficult or dangerous conditions to increase safety.\\', \\'Enables deployment in difficult situations where human rescuers would put themselves in danger\\', nan, nan, nan, \\'through reliability\\', \\'No people are being put in danger\\', \\'Soft material reduces risk of injury\\'], \\'remote control\\': [\\'Can be operated by experts via remote control or autonomous systems to perform operations from a safe distance.\\', nan, nan, nan, nan, \\'Minimizes risks associated with autonomy\\'], \\'speed and efficiency\\': [\\'Robots can often act faster than humans and increase the speed of emergency interventions\\', \\'Improvement of speed and efficiency of rescue operations\\', nan], \\'safe\\': [\\'People do not have to put themselves in dangerous situations\\'], \\'reliable\\': [\\'Can be precisely controlled\\', nan, nan, nan, nan, \\'is always ready\\'], \\'health monitoring\\': [nan, \\'People no longer necessarily need an emergency button if an external system can watch over them and summon help when in doubt.\\'], \\'Precise execution\\': [\\'Robots perform tasks purposefully\\'], \\'Ability to learn\\': [\\'The robots are learning and being further developed, making them more efficient\\'], \\'no people necessary\\': [nan], \\'stronger than humans\\': [nan, \\'In many situations, e.g. when clearing rubble, a great advantage.\\', nan, nan], \\'faster than humans\\': [nan, nan], \\'precise handling\\': [nan], \\'reliability\\': [nan, \\'Machines can accomplish their tasks reliably and reproducibly (provided they are well programmed and built)\\', nan, nan, nan], \\'always correct\\': [nan], \\'protection of rescue forces\\': [\\'for example in contamination scenarios\\', \\'Reduced deployment of human rescue forces in dangerous situations\\', nan, \\'human rescuers do not have to put themselves in danger\\'], \\'in danger zones\\': [nan], \\'toxic places\\': [\\'Places where people can only breathe with special equipment (gas mask)\\'], \\'no distraction\\': [nan], \\'by injuries\\': [nan], \\'consistent\\': [nan], \\'consistent performance\\': [nan], \\'emergency monitoring\\': [\\'Depending on how a robot is equipped, it could respond very quickly in an emergency, faster than a human.\\'], \\'more strong\\': [nan], \\'without basic need\\': [\\'Water, sleep, food etc.\\'], \\'faster intervention\\': [nan], \\'area of application\\': [\\'Can be used in areas too dangerous for humans\\', \\'Can be used in areas that are too dangerous for humans.\\'], \\'reaching hard-to-access places\\': [\\'Robots and drones are small and agile. Therefore, they can reach places that are difficult or even dangerous for humans to reach.\\'], \\'discover dangerous areas\\': [nan], \\'quick processing\\': [nan], \\'care of people\\': [nan], \\'perform operations\\': [\\'disease\\'], \\'enter dangerous situation\\': [nan], \\'No illness\\': [\\'Robots do not get infected, they do not spread diseases, and they do not get sick.\\'], \\'less risk\\': [nan, \\'Specifically less risk to further human lives, as rescue teams can use robots\\'], \\'efficiency in search\\': [nan], \\'no fatigue\\': [nan, \\'Unlike human rescuers, robots do not tire even during long operations\\'], \\'cover dangerous areas\\': [\\'even where it is dangerous for humans, a robot can go there\\'], \\'precision & accuracy\\': [nan], \\'no human errors\\': [nan], \\'more attentive\\': [nan], \\'use in dangerous situations\\': [\\'Rescue robots can be used in dangerous situations where humans are exposed to too high a risk.\\'], \\'can act quickly\\': [\\'Robots can intervene quickly, as they do not need to be dressed or prepared and are autonomous\\', \\'The robots can act faster than a human in an emergency.\\'], \\'No exhaustion\\': [nan], \\'Range\\': [\\'Robots, again just the drone can rescue victims faster in difficult terrain or bring help, e.g. medicine, food\\'], \\'accessibility of inaccessible places\\': [nan], \\'improved approach\\': [nan], \\'precise work\\': [nan, nan], \\'rescue of people\\': [nan], \\'deployment possibility\\': [\\'Also possible under dangerous conditions\\'], \\'replaceable\\': [\\'In case of loss, no human sacrifice\\', \\'During operations, unlike human rescuers, there is no need to pay attention to the safety of the robots, as they can be easily replaced.\\'], \\'unrestricted access\\': [\\'Robots can operate in environments that would be toxic to humans, e.g. areas contaminated with radiation.\\'], \\'sparing human life\\': [\\'If robots are used instead of human rescuers, the lives and health of the rescuers do not have to be put at risk.\\'], \\'reduced risk\\': [\\'By using robots, no human forces are exposed to dangerous situations\\'], \\'precision\\': [nan], \\'more targeted help\\': [nan], \\'saves lives\\': [\\'For example, when human helpers are not available, a rescue robot can still save human lives.\\', \\'send a robot into a danger zone instead of a human\\', nan], \\'protects aid workers\\': [\\'Since employees are not unnecessarily exposed to dangers, strictly speaking, this also saves their lives.\\'], \\'fewer mistakes\\': [nan], \\'overall more productive\\': [nan], \\'greater accuracy\\': [nan], \\'usable in emergencies\\': [\\'To inspect debris more accurately\\'], \\'protection of rescue personnel\\': [nan], \\'accessibility of places\\': [\\'Accessibility difficult to reach\\'], \\'increased efficiency\\': [nan], \\'faster recovery\\': [\\'One could send robots into the fire without danger to human lives, etc, to combat the cause more quickly.\\'], \\'weather independent\\': [\\'Even in storms etc., perhaps an option for critical tasks\\'], \\'safety for emergency personnel\\': [nan], \\'strength (power)\\': [\\'for example, for lifting debris parts\\'], \\'quick action\\': [nan], \\'no danger\\': [\\'For human rescue forces in action\\', \\'No human doctor etc. needs to enter the operating area and thus it is significantly safer and therefore protects human lives.\\'], \\'efficiency\\': [nan, \\'Robots could be more capable in disaster cases than human helpers.\\', nan, \\'Robots are not limited to human speed, vision, and perception in general.\\', nan, \\'both equally fast work, more productive way of working as well as improved access to danger zones\\', nan], \\'access to areas\\': [\\'Access to areas difficult or only reachable through considerable dangers for people\\'], \\'vital objects\\': [\\'Victims receive vitally important things, such as water, food, and medicine\\'], \\'rescue forces safety\\': [\\'Emergency services can avoid dangers if, for example, pictures of the location were taken by robots.\\'], \\'more/ easier access\\': [\\'Robots can create (easier) access to places where it would otherwise be more difficult.\\'], \\'reduce number of victims\\': [\\'Robots could make rescue operations more efficient and faster, potentially saving more victims.\\'], \\'no life endangered\\': [nan], \\'can save lives\\': [nan, nan], \\'not emotionally driven\\': [nan], \\'focused\\': [nan], \\'exclusion of human error\\': [nan], \\'flexible\\': [\\'The robot could operate in dangerous areas and is therefore not limited.\\', nan, nan, nan], \\'stronger than human\\': [\\'Specially equipped machines could help trapped victims quicker and more efficiently.\\'], \\'chances of success\\': [\\'A reliable and error-free rescue robot could therefore save people faster and more than a human.\\'], \\'accuracy of execution\\': [nan], \\'enter dangerous areas\\': [nan], \\'do not get distracted\\': [\\'Rescue robots follow their programming and can focus better on the rescue without being influenced by emotions.\\'], \\'speed / agility\\': [nan], \\'real-time data\\': [nan], \\'strength\\': [nan, \\'the robot can, for example, move objects that a human could not move\\'], \\'simplified access\\': [nan], \\'quick help\\': [nan, nan, nan], \\'risk-free rescue\\': [\\'From the side of the rescuers, who do not have to put themselves in danger\\'], \\'better CPR\\': [nan], \\'life-threatening places\\': [\\'The possibility of entering dangerous places that people do not dare to approach, such as wreck parts, battlefields, etc.\\', nan], \\'more reliable than humans\\': [nan], \\'reach dangerous places\\': [nan], \\'do not get tired\\': [nan, nan], \\'cannot die\\': [nan], \\'\"small\" operations\\': [\\'Especially good for smaller operations and possibly the transport\\'], \\'toxic environment\\': [nan], \\'safer for humans\\': [nan, nan], \\'dexterity\\': [\\'Often higher skill than human rescuers\\'], \\'responsiveness\\': [\\'Robots have a significantly higher reaction capability than human rescuers\\'], \\'Accuracy of rescue robots\\': [\\'this way human errors can be reduced\\'], \\'quality/precision\\': [nan], \\'quantity\\': [\\'more rescue operations or more people saved possible\\'], \\'fewer deaths\\': [nan], \\'faster operation\\': [nan], \\'accuracy\\': [nan, nan], \\'faster help\\': [\\'Since the risk to life is lower, rescue workers can send a robot before a complete analysis of the problem area is available.\\'], \\'stronger\\': [\\'Robots might potentially be able to move things that humans would have great difficulty with.\\'], \\'Not susceptible to infection\\': [\\'Robots are insensitive to infections.\\'], \\'24/7 readiness\\': [nan], \\'access to hard-to-reach places\\': [nan], \\'human safety\\': [nan], \\'useful addition\\': [\\'To human rescuers.\\'], \\'\"dare\" more\\': [\\'can also be used in war zones, only material loss through explosives\\'], \\'eyes and ears\\': [\\'for the rescue forces from a safe distance\\'], \\'less danger\\': [\\'for human rescue forces\\', nan, nan], \\'dangerous areas\\': [nan, nan], \\'endurance\\': [nan], \\'performance\\': [nan], \\'rescue and safety\\': [nan], \\'danger\\': [\\'less human danger\\'], \\'no rescuer endangered\\': [nan], \\'access\\': [\\'access to areas where people cannot reach\\'], \\'rational efficiency\\': [\\'No suicidal experiments in rescue\\'], \\'quick deployment\\': [nan, nan], \\'no exhaustion\\': [nan], \\'save many people\\': [nan], \\'Adaptability\\': [nan, nan], \\'continuous monitoring\\': [nan], \\'not tired\\': [nan], \\'more human rescue\\': [nan], \\'easier finding\\': [\\'Through their sensors like thermal imaging, the robots can better find people.\\'], \\'do not lose strength\\': [\\'Robots do not lose stamina while humans could lose strength during missions.\\'], \\'delivery of goods\\': [\\'Robots can, for example, deliver goods in war zones, which would be dangerous for humans.\\'], \\'faster abolition\\': [\\'Rescue robots could shorten the path to doctors/hospitals and the abolition of injured people.\\'], \\'safety risks\\': [nan], \\'can be replaced\\': [\\'Robots can be replaced by other robots in case of loss\\'], \\'better search capabilities\\': [\\'Robots can search better in the dark and in smoke etc because they have numerous sensors\\'], \\'for danger\\': [\\'can be used in times of danger instead of humans\\'], \\'efficient reconnaissance work\\': [\\'Through algorithms, maps can be read and created more quickly\\'], \\'rescue efficient and\\': [nan], \\'higher utilization\\': [\\'the robots can be used continuously\\'], \\'faster access\\': [\\'easier access to dangerous place\\'], \\'error reduction\\': [nan], \\'simplification of difficult situations\\': [\\'Many rescue situations prove difficult for people to reach or to intervene, automation can clearly help here.\\'], \\'accessibility of special regions\\': [nan], \\'risk reduction for aid workers\\': [\\'Should people go into difficult areas, for example for avalanche rescue, they put themselves in danger\\'], \\'fire department support\\': [nan], \\'risk\\': [\\'In dangerous environments or situations, there is of course much less risk for the people\\'], \\'dispensable\\': [\\'the loss of a robot is less tragic than the loss of a human rescuer\\'], \\'immune\\': [\\'a robot is immune to many dangers that would be deadly for humans such as smoke gases, chemicals, temperatures\\'], \\'protects people\\': [\\'No human risks necessary\\'], \\'surpasses human rescuers\\': [\\'Can be used in situations where people cannot reach\\'], \\'low risk\\': [nan], \\'safety for rescue workers\\': [nan], \\'access to dangerous area\\': [nan], \\'no performance drop\\': [nan], \\'follows instructions precisely\\': [nan], \\'earthquake rescue\\': [nan], \\'lifting heavy weights\\': [nan], \\'risk minimization\\': [\\'Approximately during search actions in risky areas\\'], \\'precision in search\\': [nan], \\'More flexible than human\\': [\\'People cannot access some areas or cannot see whether people are still alive. For example, in an earthquake incident under the rubble.\\'], \\'Faster than human\\': [\\'In an earthquake, for example, recently in Turkey, the help arrived too late and this led to more loss. Robots would be more flexible and could be used faster, rather than gathering all people together and rushing to help.\\'], \\'Stronger than human\\': [\\'As already mentioned, many people lost their lives in the earthquake in Turkey, and this was because human strength was not enough at a certain point. For example, the walls that fell on people could not be lifted, which is why arms and legs had to be cut off. If the robot was there, it could show more strength and lift the wall.\\'], \\'speed\\': [\\'the robot can probably save faster than a human\\'], \\'accessibility of contaminated places\\': [\\'Poisonous gases, smoke, radiation etc. play no role\\'], \\'can be stronger\\': [nan], \\'can work long\\': [nan], \\'are physically superior\\': [\\'Strength, agility, mobility\\'], \\'are mentally superior\\': [\\'No trauma for rescuers\\'], \\'use in dangerous areas\\': [nan], \\'use in inaccessibility\\': [nan], \\'accuracy of work\\': [nan], \\'does not risk human lives\\': [nan]}\\n\\nList \"soft\": \\n{\\'lower risk of injury\\': [nan, \\'through soft robots\\', nan, \\'due to their softness\\', \\'With soft robots\\', nan, \\'Lower risk of injury due to the adaptability of the robot\\', nan], \\'flexible\\': [nan, nan, nan], \\'low risk of injury\\': [nan, nan, nan, \\'Due to the fact that a soft robot is not made of metal, but rather soft, the risk is lower.\\', nan, \\'In comparison to hard plastic/metal\\', nan, \\'with soft robots\\', \\'helping hand\\'], \\'safety\\': [\\'Soft material reduces risk of injury\\'], \\'robots are more efficient\\': [nan], \\'knowledge\\': [\\'You get the information from the internet and can capture and assign the data faster than humans.\\', nan], \\'less risk of injury\\': [nan, nan, nan], \\'reduction of injury risk\\': [nan, nan, \"compared to \\'soft\\' rescue robots; valid for hard rescue robots\", nan, nan], \\'delivery of supplies\\': [nan], \\'precise work\\': [nan], \\'food/water transport\\': [nan], \\'animal protection\\': [\\'Using a soft robot instead of an animal protects the animal from potentially harmful behavior by the owner.\\'], \\'reach the inaccessible\\': [nan], \\'reduce risk of injury\\': [nan], \\'reliable\\': [\\'is always ready\\'], \\'direct help\\': [\\'through water/food\\'], \\'reduced risk of injury\\': [\\'through soft materials\\', \\'the victim due to the organic construction method\\', nan, nan], \\'time savings in emergencies\\': [nan], \\'care of victims\\': [nan], \\'exploration\\': [\\'Assess the safety of the dangerous area\\'], \\'supply with food\\': [nan, nan], \\'adaptability\\': [nan], \\'few physical risks\\': [\\'e.g. through injuries\\'], \\'accessible tight spaces\\': [\\'Due to their flexibility, they can access narrow spaces that are not accessible to people.\\'], \\'decision-making options\\': [\\'in theory, a robot should be able to make a logical decision better than a human because emotions etc. cannot cloud a decision\\'], \\'injury prevention\\': [nan], \\'more people saved\\': [nan], \\'low risks\\': [\\'Soft robots pose only a low risk to the victims due to their flexibility.\\'], \\'life-threatening places\\': [nan], \\'vital help\\': [nan], \\'more flexible than humans\\': [nan], \\'fast\\': [\\'faster than a human to distribute aid supplies.\\'], \\'Adaptability\\': [nan], \\'camera images\\': [\\'To perform an image analysis in retrospect\\'], \\'human error susceptibility\\': [nan], \\'medication supply\\': [nan], \\'inaccessible areas\\': [nan]}', additional_kwargs={}, response_metadata={})]\n",
      "template_out.to_messages(): [SystemMessage(content='\\nYou are a researcher summarizing two word lists that represent people\\'s assessments of rigid and soft robots, whereby laypersons were informed about the risks and benefits of rescue robots and socially assistive robots through scenario texts.\\n\\nParticipants shared their views on traditional rigid robots in a \"rigid\" list and on flexible, electronic-free soft robots in a \"soft\" list after learning about their respective risks and benefits. \\nThe overall theme is perceived safety.\\n\\nBoth \"rigid\" and \"soft\" lists are dictionaries with argument keys and comment values. If [nan] appears, it means no comment was provided; repeated entries or [nan] values indicate that the argument was emphasized multiple times.\\n\\nYour task:\\nSummarize the main points for each category into a JSON object. Fill the two arrays within the JSON object, \"rigid_arguments\" for the \"rigid\" list and \"soft_arguments\" for the \"soft\" list. \\nSummarize the main points for each category in a JSON object. Populate the two arrays, \"rigid_arguments\" and \"soft_arguments,\" with up to five key arguments each. \\nInclude a brief, interrelated explanation (up to two sentences) for each argument, derived from the provided lists.\\n\\n\\nOutput Format:\\n\\n{\\n  \"assessments\": {\\n    \"rigid_arguments\": [\\n      {\\n        \"argument\": \"argument1\",\\n        \"explanation\": \"explanation of argument1\"\\n      },\\n      {\\n        \"argument\": \"argument2\",\\n        \"explanation\": \"explanation of argument2\"\\n      },\\n      ...\\n    ],\\n    \"soft_arguments\": [\\n      {\\n        \"argument\": \"argument1\",\\n        \"explanation\": \"explanation of argument1\"\\n      },\\n      {\\n        \"argument\": \"argument2\",\\n        \"explanation\": \"explanation of argument2\"\\n      },\\n      ...\\n    ]\\n  }\\n}\\n\\nPlease respond with the entire JSON structure as specified, providing up to five arguments for each list, and without any additional commentary or context.\\n', additional_kwargs={}, response_metadata={}), HumanMessage(content='List \"rigid\": \\n{\\'quick hygienic help\\': [nan], \\'efficient\\': [\\'Work on statistics can be made more efficient through probabilities.\\', nan, nan, nan], \\'safety\\': [\\'Prevents people from having to work under difficult or dangerous conditions to increase safety.\\', \\'Enables deployment in difficult situations where human rescuers would put themselves in danger\\', nan, nan, nan, \\'through reliability\\', \\'No people are being put in danger\\', \\'Soft material reduces risk of injury\\'], \\'remote control\\': [\\'Can be operated by experts via remote control or autonomous systems to perform operations from a safe distance.\\', nan, nan, nan, nan, \\'Minimizes risks associated with autonomy\\'], \\'speed and efficiency\\': [\\'Robots can often act faster than humans and increase the speed of emergency interventions\\', \\'Improvement of speed and efficiency of rescue operations\\', nan], \\'safe\\': [\\'People do not have to put themselves in dangerous situations\\'], \\'reliable\\': [\\'Can be precisely controlled\\', nan, nan, nan, nan, \\'is always ready\\'], \\'health monitoring\\': [nan, \\'People no longer necessarily need an emergency button if an external system can watch over them and summon help when in doubt.\\'], \\'Precise execution\\': [\\'Robots perform tasks purposefully\\'], \\'Ability to learn\\': [\\'The robots are learning and being further developed, making them more efficient\\'], \\'no people necessary\\': [nan], \\'stronger than humans\\': [nan, \\'In many situations, e.g. when clearing rubble, a great advantage.\\', nan, nan], \\'faster than humans\\': [nan, nan], \\'precise handling\\': [nan], \\'reliability\\': [nan, \\'Machines can accomplish their tasks reliably and reproducibly (provided they are well programmed and built)\\', nan, nan, nan], \\'always correct\\': [nan], \\'protection of rescue forces\\': [\\'for example in contamination scenarios\\', \\'Reduced deployment of human rescue forces in dangerous situations\\', nan, \\'human rescuers do not have to put themselves in danger\\'], \\'in danger zones\\': [nan], \\'toxic places\\': [\\'Places where people can only breathe with special equipment (gas mask)\\'], \\'no distraction\\': [nan], \\'by injuries\\': [nan], \\'consistent\\': [nan], \\'consistent performance\\': [nan], \\'emergency monitoring\\': [\\'Depending on how a robot is equipped, it could respond very quickly in an emergency, faster than a human.\\'], \\'more strong\\': [nan], \\'without basic need\\': [\\'Water, sleep, food etc.\\'], \\'faster intervention\\': [nan], \\'area of application\\': [\\'Can be used in areas too dangerous for humans\\', \\'Can be used in areas that are too dangerous for humans.\\'], \\'reaching hard-to-access places\\': [\\'Robots and drones are small and agile. Therefore, they can reach places that are difficult or even dangerous for humans to reach.\\'], \\'discover dangerous areas\\': [nan], \\'quick processing\\': [nan], \\'care of people\\': [nan], \\'perform operations\\': [\\'disease\\'], \\'enter dangerous situation\\': [nan], \\'No illness\\': [\\'Robots do not get infected, they do not spread diseases, and they do not get sick.\\'], \\'less risk\\': [nan, \\'Specifically less risk to further human lives, as rescue teams can use robots\\'], \\'efficiency in search\\': [nan], \\'no fatigue\\': [nan, \\'Unlike human rescuers, robots do not tire even during long operations\\'], \\'cover dangerous areas\\': [\\'even where it is dangerous for humans, a robot can go there\\'], \\'precision & accuracy\\': [nan], \\'no human errors\\': [nan], \\'more attentive\\': [nan], \\'use in dangerous situations\\': [\\'Rescue robots can be used in dangerous situations where humans are exposed to too high a risk.\\'], \\'can act quickly\\': [\\'Robots can intervene quickly, as they do not need to be dressed or prepared and are autonomous\\', \\'The robots can act faster than a human in an emergency.\\'], \\'No exhaustion\\': [nan], \\'Range\\': [\\'Robots, again just the drone can rescue victims faster in difficult terrain or bring help, e.g. medicine, food\\'], \\'accessibility of inaccessible places\\': [nan], \\'improved approach\\': [nan], \\'precise work\\': [nan, nan], \\'rescue of people\\': [nan], \\'deployment possibility\\': [\\'Also possible under dangerous conditions\\'], \\'replaceable\\': [\\'In case of loss, no human sacrifice\\', \\'During operations, unlike human rescuers, there is no need to pay attention to the safety of the robots, as they can be easily replaced.\\'], \\'unrestricted access\\': [\\'Robots can operate in environments that would be toxic to humans, e.g. areas contaminated with radiation.\\'], \\'sparing human life\\': [\\'If robots are used instead of human rescuers, the lives and health of the rescuers do not have to be put at risk.\\'], \\'reduced risk\\': [\\'By using robots, no human forces are exposed to dangerous situations\\'], \\'precision\\': [nan], \\'more targeted help\\': [nan], \\'saves lives\\': [\\'For example, when human helpers are not available, a rescue robot can still save human lives.\\', \\'send a robot into a danger zone instead of a human\\', nan], \\'protects aid workers\\': [\\'Since employees are not unnecessarily exposed to dangers, strictly speaking, this also saves their lives.\\'], \\'fewer mistakes\\': [nan], \\'overall more productive\\': [nan], \\'greater accuracy\\': [nan], \\'usable in emergencies\\': [\\'To inspect debris more accurately\\'], \\'protection of rescue personnel\\': [nan], \\'accessibility of places\\': [\\'Accessibility difficult to reach\\'], \\'increased efficiency\\': [nan], \\'faster recovery\\': [\\'One could send robots into the fire without danger to human lives, etc, to combat the cause more quickly.\\'], \\'weather independent\\': [\\'Even in storms etc., perhaps an option for critical tasks\\'], \\'safety for emergency personnel\\': [nan], \\'strength (power)\\': [\\'for example, for lifting debris parts\\'], \\'quick action\\': [nan], \\'no danger\\': [\\'For human rescue forces in action\\', \\'No human doctor etc. needs to enter the operating area and thus it is significantly safer and therefore protects human lives.\\'], \\'efficiency\\': [nan, \\'Robots could be more capable in disaster cases than human helpers.\\', nan, \\'Robots are not limited to human speed, vision, and perception in general.\\', nan, \\'both equally fast work, more productive way of working as well as improved access to danger zones\\', nan], \\'access to areas\\': [\\'Access to areas difficult or only reachable through considerable dangers for people\\'], \\'vital objects\\': [\\'Victims receive vitally important things, such as water, food, and medicine\\'], \\'rescue forces safety\\': [\\'Emergency services can avoid dangers if, for example, pictures of the location were taken by robots.\\'], \\'more/ easier access\\': [\\'Robots can create (easier) access to places where it would otherwise be more difficult.\\'], \\'reduce number of victims\\': [\\'Robots could make rescue operations more efficient and faster, potentially saving more victims.\\'], \\'no life endangered\\': [nan], \\'can save lives\\': [nan, nan], \\'not emotionally driven\\': [nan], \\'focused\\': [nan], \\'exclusion of human error\\': [nan], \\'flexible\\': [\\'The robot could operate in dangerous areas and is therefore not limited.\\', nan, nan, nan], \\'stronger than human\\': [\\'Specially equipped machines could help trapped victims quicker and more efficiently.\\'], \\'chances of success\\': [\\'A reliable and error-free rescue robot could therefore save people faster and more than a human.\\'], \\'accuracy of execution\\': [nan], \\'enter dangerous areas\\': [nan], \\'do not get distracted\\': [\\'Rescue robots follow their programming and can focus better on the rescue without being influenced by emotions.\\'], \\'speed / agility\\': [nan], \\'real-time data\\': [nan], \\'strength\\': [nan, \\'the robot can, for example, move objects that a human could not move\\'], \\'simplified access\\': [nan], \\'quick help\\': [nan, nan, nan], \\'risk-free rescue\\': [\\'From the side of the rescuers, who do not have to put themselves in danger\\'], \\'better CPR\\': [nan], \\'life-threatening places\\': [\\'The possibility of entering dangerous places that people do not dare to approach, such as wreck parts, battlefields, etc.\\', nan], \\'more reliable than humans\\': [nan], \\'reach dangerous places\\': [nan], \\'do not get tired\\': [nan, nan], \\'cannot die\\': [nan], \\'\"small\" operations\\': [\\'Especially good for smaller operations and possibly the transport\\'], \\'toxic environment\\': [nan], \\'safer for humans\\': [nan, nan], \\'dexterity\\': [\\'Often higher skill than human rescuers\\'], \\'responsiveness\\': [\\'Robots have a significantly higher reaction capability than human rescuers\\'], \\'Accuracy of rescue robots\\': [\\'this way human errors can be reduced\\'], \\'quality/precision\\': [nan], \\'quantity\\': [\\'more rescue operations or more people saved possible\\'], \\'fewer deaths\\': [nan], \\'faster operation\\': [nan], \\'accuracy\\': [nan, nan], \\'faster help\\': [\\'Since the risk to life is lower, rescue workers can send a robot before a complete analysis of the problem area is available.\\'], \\'stronger\\': [\\'Robots might potentially be able to move things that humans would have great difficulty with.\\'], \\'Not susceptible to infection\\': [\\'Robots are insensitive to infections.\\'], \\'24/7 readiness\\': [nan], \\'access to hard-to-reach places\\': [nan], \\'human safety\\': [nan], \\'useful addition\\': [\\'To human rescuers.\\'], \\'\"dare\" more\\': [\\'can also be used in war zones, only material loss through explosives\\'], \\'eyes and ears\\': [\\'for the rescue forces from a safe distance\\'], \\'less danger\\': [\\'for human rescue forces\\', nan, nan], \\'dangerous areas\\': [nan, nan], \\'endurance\\': [nan], \\'performance\\': [nan], \\'rescue and safety\\': [nan], \\'danger\\': [\\'less human danger\\'], \\'no rescuer endangered\\': [nan], \\'access\\': [\\'access to areas where people cannot reach\\'], \\'rational efficiency\\': [\\'No suicidal experiments in rescue\\'], \\'quick deployment\\': [nan, nan], \\'no exhaustion\\': [nan], \\'save many people\\': [nan], \\'Adaptability\\': [nan, nan], \\'continuous monitoring\\': [nan], \\'not tired\\': [nan], \\'more human rescue\\': [nan], \\'easier finding\\': [\\'Through their sensors like thermal imaging, the robots can better find people.\\'], \\'do not lose strength\\': [\\'Robots do not lose stamina while humans could lose strength during missions.\\'], \\'delivery of goods\\': [\\'Robots can, for example, deliver goods in war zones, which would be dangerous for humans.\\'], \\'faster abolition\\': [\\'Rescue robots could shorten the path to doctors/hospitals and the abolition of injured people.\\'], \\'safety risks\\': [nan], \\'can be replaced\\': [\\'Robots can be replaced by other robots in case of loss\\'], \\'better search capabilities\\': [\\'Robots can search better in the dark and in smoke etc because they have numerous sensors\\'], \\'for danger\\': [\\'can be used in times of danger instead of humans\\'], \\'efficient reconnaissance work\\': [\\'Through algorithms, maps can be read and created more quickly\\'], \\'rescue efficient and\\': [nan], \\'higher utilization\\': [\\'the robots can be used continuously\\'], \\'faster access\\': [\\'easier access to dangerous place\\'], \\'error reduction\\': [nan], \\'simplification of difficult situations\\': [\\'Many rescue situations prove difficult for people to reach or to intervene, automation can clearly help here.\\'], \\'accessibility of special regions\\': [nan], \\'risk reduction for aid workers\\': [\\'Should people go into difficult areas, for example for avalanche rescue, they put themselves in danger\\'], \\'fire department support\\': [nan], \\'risk\\': [\\'In dangerous environments or situations, there is of course much less risk for the people\\'], \\'dispensable\\': [\\'the loss of a robot is less tragic than the loss of a human rescuer\\'], \\'immune\\': [\\'a robot is immune to many dangers that would be deadly for humans such as smoke gases, chemicals, temperatures\\'], \\'protects people\\': [\\'No human risks necessary\\'], \\'surpasses human rescuers\\': [\\'Can be used in situations where people cannot reach\\'], \\'low risk\\': [nan], \\'safety for rescue workers\\': [nan], \\'access to dangerous area\\': [nan], \\'no performance drop\\': [nan], \\'follows instructions precisely\\': [nan], \\'earthquake rescue\\': [nan], \\'lifting heavy weights\\': [nan], \\'risk minimization\\': [\\'Approximately during search actions in risky areas\\'], \\'precision in search\\': [nan], \\'More flexible than human\\': [\\'People cannot access some areas or cannot see whether people are still alive. For example, in an earthquake incident under the rubble.\\'], \\'Faster than human\\': [\\'In an earthquake, for example, recently in Turkey, the help arrived too late and this led to more loss. Robots would be more flexible and could be used faster, rather than gathering all people together and rushing to help.\\'], \\'Stronger than human\\': [\\'As already mentioned, many people lost their lives in the earthquake in Turkey, and this was because human strength was not enough at a certain point. For example, the walls that fell on people could not be lifted, which is why arms and legs had to be cut off. If the robot was there, it could show more strength and lift the wall.\\'], \\'speed\\': [\\'the robot can probably save faster than a human\\'], \\'accessibility of contaminated places\\': [\\'Poisonous gases, smoke, radiation etc. play no role\\'], \\'can be stronger\\': [nan], \\'can work long\\': [nan], \\'are physically superior\\': [\\'Strength, agility, mobility\\'], \\'are mentally superior\\': [\\'No trauma for rescuers\\'], \\'use in dangerous areas\\': [nan], \\'use in inaccessibility\\': [nan], \\'accuracy of work\\': [nan], \\'does not risk human lives\\': [nan]}\\n\\nList \"soft\": \\n{\\'lower risk of injury\\': [nan, \\'through soft robots\\', nan, \\'due to their softness\\', \\'With soft robots\\', nan, \\'Lower risk of injury due to the adaptability of the robot\\', nan], \\'flexible\\': [nan, nan, nan], \\'low risk of injury\\': [nan, nan, nan, \\'Due to the fact that a soft robot is not made of metal, but rather soft, the risk is lower.\\', nan, \\'In comparison to hard plastic/metal\\', nan, \\'with soft robots\\', \\'helping hand\\'], \\'safety\\': [\\'Soft material reduces risk of injury\\'], \\'robots are more efficient\\': [nan], \\'knowledge\\': [\\'You get the information from the internet and can capture and assign the data faster than humans.\\', nan], \\'less risk of injury\\': [nan, nan, nan], \\'reduction of injury risk\\': [nan, nan, \"compared to \\'soft\\' rescue robots; valid for hard rescue robots\", nan, nan], \\'delivery of supplies\\': [nan], \\'precise work\\': [nan], \\'food/water transport\\': [nan], \\'animal protection\\': [\\'Using a soft robot instead of an animal protects the animal from potentially harmful behavior by the owner.\\'], \\'reach the inaccessible\\': [nan], \\'reduce risk of injury\\': [nan], \\'reliable\\': [\\'is always ready\\'], \\'direct help\\': [\\'through water/food\\'], \\'reduced risk of injury\\': [\\'through soft materials\\', \\'the victim due to the organic construction method\\', nan, nan], \\'time savings in emergencies\\': [nan], \\'care of victims\\': [nan], \\'exploration\\': [\\'Assess the safety of the dangerous area\\'], \\'supply with food\\': [nan, nan], \\'adaptability\\': [nan], \\'few physical risks\\': [\\'e.g. through injuries\\'], \\'accessible tight spaces\\': [\\'Due to their flexibility, they can access narrow spaces that are not accessible to people.\\'], \\'decision-making options\\': [\\'in theory, a robot should be able to make a logical decision better than a human because emotions etc. cannot cloud a decision\\'], \\'injury prevention\\': [nan], \\'more people saved\\': [nan], \\'low risks\\': [\\'Soft robots pose only a low risk to the victims due to their flexibility.\\'], \\'life-threatening places\\': [nan], \\'vital help\\': [nan], \\'more flexible than humans\\': [nan], \\'fast\\': [\\'faster than a human to distribute aid supplies.\\'], \\'Adaptability\\': [nan], \\'camera images\\': [\\'To perform an image analysis in retrospect\\'], \\'human error susceptibility\\': [nan], \\'medication supply\\': [nan], \\'inaccessible areas\\': [nan]}', additional_kwargs={}, response_metadata={})]\n"
     ]
    }
   ],
   "source": [
    "from langchain_core.prompts import ChatPromptTemplate\n",
    "\n",
    "\n",
    "system_template = \"\"\"\n",
    "You are a researcher summarizing two word lists that represent people's assessments of rigid and soft robots, whereby laypersons were informed about the risks and benefits of {robots} through scenario texts.\n",
    "\n",
    "Participants shared their views on traditional rigid robots in a \"rigid\" list and on flexible, electronic-free soft robots in a \"soft\" list after learning about their respective risks and benefits. \n",
    "The overall theme is {topicCategory}.\n",
    "\n",
    "Both \"rigid\" and \"soft\" lists are dictionaries with argument keys and comment values. If [nan] appears, it means no comment was provided; repeated entries or [nan] values indicate that the argument was emphasized multiple times.\n",
    "\n",
    "Your task:\n",
    "Summarize the main points for each category into a JSON object. Fill the two arrays within the JSON object, \"rigid_arguments\" for the \"rigid\" list and \"soft_arguments\" for the \"soft\" list. \n",
    "Summarize the main points for each category in a JSON object. Populate the two arrays, \"rigid_arguments\" and \"soft_arguments,\" with up to five key arguments each. \n",
    "Include a brief, interrelated explanation (up to two sentences) for each argument, derived from the provided lists.\n",
    "\n",
    "\n",
    "Output Format:\n",
    "\n",
    "{{\n",
    "  \"assessments\": {{\n",
    "    \"rigid_arguments\": [\n",
    "      {{\n",
    "        \"argument\": \"argument1\",\n",
    "        \"explanation\": \"explanation of argument1\"\n",
    "      }},\n",
    "      {{\n",
    "        \"argument\": \"argument2\",\n",
    "        \"explanation\": \"explanation of argument2\"\n",
    "      }},\n",
    "      ...\n",
    "    ],\n",
    "    \"soft_arguments\": [\n",
    "      {{\n",
    "        \"argument\": \"argument1\",\n",
    "        \"explanation\": \"explanation of argument1\"\n",
    "      }},\n",
    "      {{\n",
    "        \"argument\": \"argument2\",\n",
    "        \"explanation\": \"explanation of argument2\"\n",
    "      }},\n",
    "      ...\n",
    "    ]\n",
    "  }}\n",
    "}}\n",
    "\n",
    "Please respond with the entire JSON structure as specified, providing up to five arguments for each list, and without any additional commentary or context.\n",
    "\"\"\"\n",
    "\n",
    "\n",
    "user_template = \"\"\"List \"rigid\": \n",
    "{rigid}\n",
    "\n",
    "List \"soft\": \n",
    "{soft}\"\"\"\n",
    "\n",
    "# rescue robots and socially assistive robots\n",
    "prompt_template = ChatPromptTemplate.from_messages(\n",
    "    [(\"system\", system_template), (\"user\", user_template)]\n",
    ")\n",
    "\n",
    "template_out = prompt_template.invoke({\"robots\": \"rescue robots and socially assistive robots\", \"topicCategory\": abbreviations_dict[sheet_name], \"rigid\": constant_comments_mapping, \"soft\": new_comments_mapping})\n",
    "print(template_out)\n",
    "\n",
    "print(\"template_out:\", template_out)\n",
    "print(\"template_out.to_messages():\", template_out.to_messages())"
   ]
  },
  {
   "cell_type": "markdown",
   "metadata": {},
   "source": [
    "### Single Run\n",
    "\n",
    "Function to call LLM:"
   ]
  },
  {
   "cell_type": "code",
   "execution_count": 25,
   "metadata": {},
   "outputs": [],
   "source": [
    "from langchain_openai import ChatOpenAI\n",
    "from langchain.callbacks import get_openai_callback\n",
    "\n",
    "def huggingface_API_call(\n",
    "    prompt,\n",
    "    \n",
    "    robots,\n",
    "    topicCategory,\n",
    "    dictonaryRigid,\n",
    "    dictonarySoft,\n",
    "    \n",
    "    api_key=key.hugging_api_key,\n",
    "\n",
    "    model_name=\"meta-llama/Meta-Llama-3-70B-Instruct\",\n",
    "    json_schema=None,\n",
    "    max_tokens=1000,\n",
    "    temperature=0.2,\n",
    "    verbose=True\n",
    "):\n",
    "\n",
    "    # Initialize the ChatOpenAI model for Hugging Face\n",
    "    model = ChatOpenAI(\n",
    "        model=model_name,\n",
    "        openai_api_key=api_key,\n",
    "        openai_api_base=\"https://api-inference.huggingface.co/v1/\",\n",
    "        max_tokens=max_tokens,\n",
    "        temperature=temperature\n",
    "    )\n",
    "\n",
    "    # Check if structured output is required and configure it\n",
    "    if json_schema:\n",
    "        structured_llm = model.with_structured_output(json_schema, include_raw=True)\n",
    "        chain = prompt | structured_llm\n",
    "    else:\n",
    "        chain = prompt | model\n",
    "\n",
    "    # Execute the model and output response details\n",
    "    with get_openai_callback() as cb:\n",
    "        response = chain.invoke(\n",
    "            {\"robots\": robots, \"topicCategory\": topicCategory, \"rigid\": dictonaryRigid, \"soft\": dictonarySoft}\n",
    "        )\n",
    "        \n",
    "        if cb.total_tokens > max_tokens:\n",
    "            print(\"Warning: The response may be incomplete due to exceeding the maximum token limit.\")\n",
    "        \n",
    "        if verbose:\n",
    "            print(cb)\n",
    "            print(f\"Total Tokens: {cb.total_tokens}\")\n",
    "            print(f\"Prompt Tokens: {cb.prompt_tokens}\")\n",
    "            print(f\"Completion Tokens: {cb.completion_tokens}\")\n",
    "            print(f\"Total Cost (USD): ${cb.total_cost}\")\n",
    "\n",
    "    return response"
   ]
  },
  {
   "cell_type": "code",
   "execution_count": 26,
   "metadata": {},
   "outputs": [
    {
     "name": "stdout",
     "output_type": "stream",
     "text": [
      "Warning: The response may be incomplete due to exceeding the maximum token limit.\n",
      "Tokens Used: 4422\n",
      "\tPrompt Tokens: 3949\n",
      "\tCompletion Tokens: 473\n",
      "Successful Requests: 1\n",
      "Total Cost (USD): $0.0\n",
      "Total Tokens: 4422\n",
      "Prompt Tokens: 3949\n",
      "Completion Tokens: 473\n",
      "Total Cost (USD): $0.0\n"
     ]
    }
   ],
   "source": [
    "response = huggingface_API_call(\n",
    "    prompt=prompt_template,\n",
    "    \n",
    "    robots=\"rescue robots and socially assistive robots\",\n",
    "    topicCategory=abbreviations_dict[sheet_name],\n",
    "    dictonaryRigid=constant_comments_mapping,\n",
    "    dictonarySoft=new_comments_mapping,\n",
    "    \n",
    "    api_key=key.hugging_api_key,\n",
    "    model_name=\"meta-llama/Meta-Llama-3-70B-Instruct\",\n",
    "\n",
    "    json_schema=None,\n",
    "    max_tokens=4000,\n",
    "    temperature=0.2,\n",
    "    verbose=True\n",
    ")"
   ]
  },
  {
   "cell_type": "markdown",
   "metadata": {},
   "source": [
    "result - structured JSON output:"
   ]
  },
  {
   "cell_type": "code",
   "execution_count": 27,
   "metadata": {},
   "outputs": [
    {
     "data": {
      "text/plain": [
       "AIMessage(content='Here is the JSON object summarizing the main points for each category:\\n\\n```\\n{\\n  \"assessments\": {\\n    \"rigid_arguments\": [\\n      {\\n        \"argument\": \"safety\",\\n        \"explanation\": \"Rigid robots can prevent people from having to work under difficult or dangerous conditions, increasing safety and reducing risks to human rescuers.\"\\n      },\\n      {\\n        \"argument\": \"efficiency\",\\n        \"explanation\": \"Rigid robots can work faster and more efficiently than humans, improving the speed and effectiveness of rescue operations.\"\\n      },\\n      {\\n        \"argument\": \"reliability\",\\n        \"explanation\": \"Rigid robots can be precisely controlled and are always ready to perform tasks, making them a reliable option for rescue operations.\"\\n      },\\n      {\\n        \"argument\": \"strength\",\\n        \"explanation\": \"Rigid robots can perform tasks that require greater strength than humans, such as lifting debris or moving heavy objects.\"\\n      },\\n      {\\n        \"argument\": \"accessibility\",\\n        \"explanation\": \"Rigid robots can access areas that are difficult or dangerous for humans to reach, making them useful for search and rescue operations.\"\\n      }\\n    ],\\n    \"soft_arguments\": [\\n      {\\n        \"argument\": \"lower risk of injury\",\\n        \"explanation\": \"Soft robots pose a lower risk of injury to humans due to their soft and flexible nature.\"\\n      },\\n      {\\n        \"argument\": \"flexibility\",\\n        \"explanation\": \"Soft robots are flexible and can adapt to different situations, making them useful for search and rescue operations in tight or hard-to-reach spaces.\"\\n      },\\n      {\\n        \"argument\": \"reduction of injury risk\",\\n        \"explanation\": \"Soft robots can reduce the risk of injury to humans by providing a safer and more gentle way to interact with victims or provide aid.\"\\n      },\\n      {\\n        \"argument\": \"accessibility\",\\n        \"explanation\": \"Soft robots can access areas that are difficult or impossible for humans to reach, making them useful for search and rescue operations.\"\\n      },\\n      {\\n        \"argument\": \"care and supply\",\\n        \"explanation\": \"Soft robots can provide care and supply to victims in a more gentle and safe way, such as delivering food, water, or medication.\"\\n      }\\n    ]\\n  }\\n}\\n```', additional_kwargs={'refusal': None}, response_metadata={'token_usage': {'completion_tokens': 473, 'prompt_tokens': 3949, 'total_tokens': 4422, 'completion_tokens_details': None, 'prompt_tokens_details': None}, 'model_name': 'meta-llama/Meta-Llama-3-70B-Instruct', 'system_fingerprint': '2.3.1-dev0-sha-169178b', 'finish_reason': 'stop', 'logprobs': None}, id='run-559e3622-cb09-4726-badb-abe61c3baae7-0', usage_metadata={'input_tokens': 3949, 'output_tokens': 473, 'total_tokens': 4422, 'input_token_details': {}, 'output_token_details': {}})"
      ]
     },
     "execution_count": 27,
     "metadata": {},
     "output_type": "execute_result"
    }
   ],
   "source": [
    "response"
   ]
  },
  {
   "cell_type": "code",
   "execution_count": 28,
   "metadata": {},
   "outputs": [
    {
     "data": {
      "text/plain": [
       "'Here is the JSON object summarizing the main points for each category:\\n\\n```\\n{\\n  \"assessments\": {\\n    \"rigid_arguments\": [\\n      {\\n        \"argument\": \"safety\",\\n        \"explanation\": \"Rigid robots can prevent people from having to work under difficult or dangerous conditions, increasing safety and reducing risks to human rescuers.\"\\n      },\\n      {\\n        \"argument\": \"efficiency\",\\n        \"explanation\": \"Rigid robots can work faster and more efficiently than humans, improving the speed and effectiveness of rescue operations.\"\\n      },\\n      {\\n        \"argument\": \"reliability\",\\n        \"explanation\": \"Rigid robots can be precisely controlled and are always ready to perform tasks, making them a reliable option for rescue operations.\"\\n      },\\n      {\\n        \"argument\": \"strength\",\\n        \"explanation\": \"Rigid robots can perform tasks that require greater strength than humans, such as lifting debris or moving heavy objects.\"\\n      },\\n      {\\n        \"argument\": \"accessibility\",\\n        \"explanation\": \"Rigid robots can access areas that are difficult or dangerous for humans to reach, making them useful for search and rescue operations.\"\\n      }\\n    ],\\n    \"soft_arguments\": [\\n      {\\n        \"argument\": \"lower risk of injury\",\\n        \"explanation\": \"Soft robots pose a lower risk of injury to humans due to their soft and flexible nature.\"\\n      },\\n      {\\n        \"argument\": \"flexibility\",\\n        \"explanation\": \"Soft robots are flexible and can adapt to different situations, making them useful for search and rescue operations in tight or hard-to-reach spaces.\"\\n      },\\n      {\\n        \"argument\": \"reduction of injury risk\",\\n        \"explanation\": \"Soft robots can reduce the risk of injury to humans by providing a safer and more gentle way to interact with victims or provide aid.\"\\n      },\\n      {\\n        \"argument\": \"accessibility\",\\n        \"explanation\": \"Soft robots can access areas that are difficult or impossible for humans to reach, making them useful for search and rescue operations.\"\\n      },\\n      {\\n        \"argument\": \"care and supply\",\\n        \"explanation\": \"Soft robots can provide care and supply to victims in a more gentle and safe way, such as delivering food, water, or medication.\"\\n      }\\n    ]\\n  }\\n}\\n```'"
      ]
     },
     "execution_count": 28,
     "metadata": {},
     "output_type": "execute_result"
    }
   ],
   "source": [
    "response.content"
   ]
  },
  {
   "cell_type": "code",
   "execution_count": 29,
   "metadata": {},
   "outputs": [
    {
     "name": "stdout",
     "output_type": "stream",
     "text": [
      "Valid JSON object after regex: {\n",
      "  \"assessments\": {\n",
      "    \"rigid_arguments\": [\n",
      "      {\n",
      "        \"argument\": \"safety\",\n",
      "        \"explanation\": \"Rigid robots can prevent people from having to work under difficult or dangerous conditions, increasing safety and reducing risks to human rescuers.\"\n",
      "      },\n",
      "      {\n",
      "        \"argument\": \"efficiency\",\n",
      "        \"explanation\": \"Rigid robots can work faster and more efficiently than humans, improving the speed and effectiveness of rescue operations.\"\n",
      "      },\n",
      "      {\n",
      "        \"argument\": \"reliability\",\n",
      "        \"explanation\": \"Rigid robots can be precisely controlled and are always ready to perform tasks, making them a reliable option for rescue operations.\"\n",
      "      },\n",
      "      {\n",
      "        \"argument\": \"strength\",\n",
      "        \"explanation\": \"Rigid robots can perform tasks that require greater strength than humans, such as lifting debris or moving heavy objects.\"\n",
      "      },\n",
      "      {\n",
      "        \"argument\": \"accessibility\",\n",
      "        \"explanation\": \"Rigid robots can access areas that are difficult or dangerous for humans to reach, making them useful for search and rescue operations.\"\n",
      "      }\n",
      "    ],\n",
      "    \"soft_arguments\": [\n",
      "      {\n",
      "        \"argument\": \"lower risk of injury\",\n",
      "        \"explanation\": \"Soft robots pose a lower risk of injury to humans due to their soft and flexible nature.\"\n",
      "      },\n",
      "      {\n",
      "        \"argument\": \"flexibility\",\n",
      "        \"explanation\": \"Soft robots are flexible and can adapt to different situations, making them useful for search and rescue operations in tight or hard-to-reach spaces.\"\n",
      "      },\n",
      "      {\n",
      "        \"argument\": \"reduction of injury risk\",\n",
      "        \"explanation\": \"Soft robots can reduce the risk of injury to humans by providing a safer and more gentle way to interact with victims or provide aid.\"\n",
      "      },\n",
      "      {\n",
      "        \"argument\": \"accessibility\",\n",
      "        \"explanation\": \"Soft robots can access areas that are difficult or impossible for humans to reach, making them useful for search and rescue operations.\"\n",
      "      },\n",
      "      {\n",
      "        \"argument\": \"care and supply\",\n",
      "        \"explanation\": \"Soft robots can provide care and supply to victims in a more gentle and safe way, such as delivering food, water, or medication.\"\n",
      "      }\n",
      "    ]\n",
      "  }\n",
      "}\n"
     ]
    }
   ],
   "source": [
    "import json\n",
    "import re\n",
    "\n",
    "try:\n",
    "    # Attempt to parse the response directly as JSON\n",
    "    data = json.loads(response.content)\n",
    "    # print(\"Valid JSON object:\", json.dumps(data, indent=2))\n",
    "except json.JSONDecodeError:\n",
    "    # If not valid JSON, handle extraction using regex to match JSON block between triple backticks (```)\n",
    "    json_match = re.search(r'```(.*?)```', response.content, re.DOTALL)\n",
    "    # If JSON block is found, parse it\n",
    "    if json_match:\n",
    "        json_text = json_match.group(1).strip()  # Extract JSON text and strip whitespace\n",
    "        try:\n",
    "            data = json.loads(json_text)   # Parse JSON\n",
    "            print(\"Valid JSON object after regex:\", json.dumps(data, indent=2))\n",
    "        except json.JSONDecodeError as e:\n",
    "            print(\"Failed to parse JSON:\", e)\n",
    "    else:\n",
    "        print(\"No JSON object found.\")"
   ]
  },
  {
   "cell_type": "code",
   "execution_count": 30,
   "metadata": {},
   "outputs": [
    {
     "name": "stdout",
     "output_type": "stream",
     "text": [
      "    type                  argument  \\\n",
      "0  rigid                    safety   \n",
      "1  rigid                efficiency   \n",
      "2  rigid               reliability   \n",
      "3  rigid                  strength   \n",
      "4  rigid             accessibility   \n",
      "5   soft      lower risk of injury   \n",
      "6   soft               flexibility   \n",
      "7   soft  reduction of injury risk   \n",
      "8   soft             accessibility   \n",
      "9   soft           care and supply   \n",
      "\n",
      "                                         explanation category  \n",
      "0  Rigid robots can prevent people from having to...       SA  \n",
      "1  Rigid robots can work faster and more efficien...       SA  \n",
      "2  Rigid robots can be precisely controlled and a...       SA  \n",
      "3  Rigid robots can perform tasks that require gr...       SA  \n",
      "4  Rigid robots can access areas that are difficu...       SA  \n",
      "5  Soft robots pose a lower risk of injury to hum...       SA  \n",
      "6  Soft robots are flexible and can adapt to diff...       SA  \n",
      "7  Soft robots can reduce the risk of injury to h...       SA  \n",
      "8  Soft robots can access areas that are difficul...       SA  \n",
      "9  Soft robots can provide care and supply to vic...       SA  \n"
     ]
    }
   ],
   "source": [
    "# Extract rigid and soft arguments and format them into a DataFrame\n",
    "arguments = []\n",
    "for category, items in data['assessments'].items():\n",
    "    for item in items:\n",
    "        arguments.append({\n",
    "            'type': category.split('_')[0],  # Extracts 'rigid' or 'soft' from 'rigid_arguments'/'soft_arguments'\n",
    "            'argument': item['argument'],\n",
    "            'explanation': item['explanation']\n",
    "        })\n",
    "\n",
    "# Create DataFrame\n",
    "df = pd.DataFrame(arguments)\n",
    "\n",
    "df[\"category\"] = sheet_name\n",
    "\n",
    "# Display the DataFrame\n",
    "print(df)"
   ]
  },
  {
   "cell_type": "markdown",
   "metadata": {},
   "source": [
    "### Multiple Runs\n",
    "\n",
    "Higher order function to call LLM for all categories:"
   ]
  },
  {
   "cell_type": "code",
   "execution_count": 31,
   "metadata": {},
   "outputs": [],
   "source": [
    "import json\n",
    "import pandas as pd\n",
    "import re\n",
    "\n",
    "def process_robot_data(type_robot):\n",
    "    # Define naming based on type_robot\n",
    "    if type_robot == \"RR\":\n",
    "        all_sheets = all_sheets_RR\n",
    "        naming_robots = \"rescue robots\"\n",
    "    elif type_robot == \"SAR\":\n",
    "        all_sheets = all_sheets_SAR\n",
    "        naming_robots = \"socially assistive robots\"\n",
    "    elif type_robot == \"Combined\":\n",
    "        all_sheets = all_sheets_Combined\n",
    "        naming_robots = \"rescue robots and socially assistive robots\"\n",
    "    else:\n",
    "        raise ValueError(\"Invalid type_robot specified.\")\n",
    "\n",
    "    # Initialize an empty DataFrame for concatenation\n",
    "    final_df = pd.DataFrame()\n",
    "\n",
    "    for index, category in enumerate(abbreviations_dict.keys()):\n",
    "        print(f\"index: {index}, category: {category}\")\n",
    "\n",
    "        # Load the specific DataFrame for the current category\n",
    "        df = all_sheets[category]\n",
    "\n",
    "        # Generate constant and new comments mappings\n",
    "        constant_comments_mapping = create_multivalue_dict(df, 'constant', 'constant_comments')\n",
    "        new_comments_mapping = create_multivalue_dict(df, 'new', 'new_comments')\n",
    "\n",
    "        # Call API with specified parameters\n",
    "        response = huggingface_API_call(\n",
    "            prompt=prompt_template,\n",
    "            robots=naming_robots,\n",
    "            topicCategory=abbreviations_dict[category],\n",
    "            dictonaryRigid=constant_comments_mapping,\n",
    "            dictonarySoft=new_comments_mapping,\n",
    "            api_key=key.hugging_api_key,\n",
    "            model_name=\"meta-llama/Meta-Llama-3-70B-Instruct\",\n",
    "            json_schema=None,\n",
    "            max_tokens=4200,\n",
    "            temperature=0.0,\n",
    "            verbose=False\n",
    "        )\n",
    "        \n",
    "        # print(\"response.content:\\n\", response.content)\n",
    "        #  data = json.loads(response.content)\n",
    "        # Regular expression to match JSON block between triple backticks (```)\n",
    "        try:\n",
    "            # Attempt to parse the response directly as JSON\n",
    "            data = json.loads(response.content)\n",
    "            # print(\"Valid JSON object:\", json.dumps(data, indent=2))\n",
    "        except json.JSONDecodeError:\n",
    "            # If not valid JSON, handle extraction using regex to match JSON block between triple backticks (```)\n",
    "            json_match = re.search(r'```(.*?)```', response.content, re.DOTALL)\n",
    "            # If JSON block is found, parse it\n",
    "            if json_match:\n",
    "                json_text = json_match.group(1).strip()  # Extract JSON text and strip whitespace\n",
    "                try:\n",
    "                    data = json.loads(json_text)   # Parse JSON\n",
    "                    # print(\"Valid JSON object after regex:\", json.dumps(data, indent=2))\n",
    "                except json.JSONDecodeError as e:\n",
    "                    print(\"Failed to parse JSON:\", e)\n",
    "                    # break # !!!\n",
    "            else:\n",
    "                print(\"No JSON object found.\")\n",
    "                # break # !!!\n",
    "\n",
    "        # Extract arguments and format them into a temporary DataFrame\n",
    "        arguments = []\n",
    "        for arg_category, items in data['assessments'].items():\n",
    "            for item in items:\n",
    "                arguments.append({\n",
    "                    'type': arg_category.split('_')[0],\n",
    "                    'argument': item['argument'],\n",
    "                    'explanation': item['explanation']\n",
    "                })\n",
    "\n",
    "        df_tmp = pd.DataFrame(arguments)\n",
    "        df_tmp[\"category\"] = category\n",
    "        \n",
    "        print(f\"length of df_tmp: {len(df_tmp)}\")\n",
    "\n",
    "        # Concatenate the current DataFrame to the final DataFrame\n",
    "        final_df = pd.concat([final_df, df_tmp], ignore_index=True)\n",
    "\n",
    "    return final_df"
   ]
  },
  {
   "cell_type": "markdown",
   "metadata": {},
   "source": [
    "logic if process_robot_data() should be run:"
   ]
  },
  {
   "cell_type": "code",
   "execution_count": 32,
   "metadata": {},
   "outputs": [],
   "source": [
    "run_process_robot_data = False # True"
   ]
  },
  {
   "cell_type": "markdown",
   "metadata": {},
   "source": [
    "for rescue robots:"
   ]
  },
  {
   "cell_type": "code",
   "execution_count": 33,
   "metadata": {},
   "outputs": [],
   "source": [
    "# Path to your Excel file\n",
    "file_path = directory + \"/output/G2/\" + \"rescue robots\" + \".xlsx\"\n",
    "\n",
    "if run_process_robot_data:\n",
    "    df_RR = process_robot_data(type_robot=\"RR\")\n",
    "    # save the dataframe to an Excel file\n",
    "    df_RR.to_excel(file_path, index=False)\n",
    "else:\n",
    "    df_RR = pd.read_excel(file_path)"
   ]
  },
  {
   "cell_type": "markdown",
   "metadata": {},
   "source": [
    "for socially assistive robots:"
   ]
  },
  {
   "cell_type": "code",
   "execution_count": 34,
   "metadata": {},
   "outputs": [],
   "source": [
    "# Path to your Excel file\n",
    "file_path = directory + \"/output/G2/\" + \"socially assistive robots\" + \".xlsx\"\n",
    "    \n",
    "if run_process_robot_data:\n",
    "    df_SAR = process_robot_data(type_robot=\"SAR\")\n",
    "    # save the dataframe to an Excel file\n",
    "    df_SAR.to_excel(file_path, index=False)\n",
    "else:\n",
    "    df_SAR = pd.read_excel(file_path)"
   ]
  },
  {
   "cell_type": "markdown",
   "metadata": {},
   "source": [
    "for rescue robots and socially assistive robots:"
   ]
  },
  {
   "cell_type": "code",
   "execution_count": 35,
   "metadata": {},
   "outputs": [],
   "source": [
    "# Path to your Excel file\n",
    "file_path = directory + \"/output/G2/\" + \"rescue robots AND socially assistive robots\" + \".xlsx\"\n",
    "\n",
    "if run_process_robot_data:\n",
    "    df_Combined = process_robot_data(type_robot=\"Combined\")\n",
    "    # save the dataframe to an Excel file\n",
    "    df_Combined.to_excel(file_path, index=False)\n",
    "else:\n",
    "    df_Combined = pd.read_excel(file_path)"
   ]
  },
  {
   "cell_type": "markdown",
   "metadata": {},
   "source": [
    "### Summarize Generated Data for A, B graph (G2)"
   ]
  },
  {
   "cell_type": "code",
   "execution_count": 36,
   "metadata": {},
   "outputs": [],
   "source": [
    "tmp_rigid = df_RR[(df_RR[\"category\"] == \"TP\") & (df_RR[\"type\"] == \"rigid\")]\n",
    "tmp_soft = df_RR[(df_RR[\"category\"] == \"TP\") & (df_RR[\"type\"] == \"soft\")]\n",
    "\n",
    "tmp_string_rigid = 'Arguments for \"rigid\" robots:'\n",
    "for index, row in tmp_rigid.iterrows():\n",
    "    tmp_string_rigid += \" \\n \" + row[\"argument\"]\n",
    "    tmp_string_rigid += \": \" + row[\"explanation\"]\n",
    "    \n",
    "tmp_string_soft = 'Arguments for \"soft\" robots:'\n",
    "for index, row in tmp_soft.iterrows():\n",
    "    tmp_string_soft += \" \\n \" + row[\"argument\"]\n",
    "    tmp_string_soft += \": \" + row[\"explanation\"]"
   ]
  },
  {
   "cell_type": "code",
   "execution_count": 37,
   "metadata": {},
   "outputs": [
    {
     "data": {
      "text/plain": [
       "'Arguments for \"rigid\" robots: \\n new places: Rigid robots can search in places where people cannot reach, such as underwater caves or narrow openings. \\n resilience: Rigid robots can withstand adverse conditions, making them more effective in disaster areas. \\n special abilities: Rigid robots can perform special tasks like flying, hacking doors, or sending images to the control center with cameras. \\n environment-independent: Rigid robots can operate in various environments, including air, water, and ground, and can withstand toxic or narrow environments. \\n more power: Rigid robots can have more strength than humans, allowing them to perform tasks that require heavy lifting or drilling.'"
      ]
     },
     "execution_count": 37,
     "metadata": {},
     "output_type": "execute_result"
    }
   ],
   "source": [
    "tmp_string_rigid"
   ]
  },
  {
   "cell_type": "code",
   "execution_count": 38,
   "metadata": {},
   "outputs": [
    {
     "data": {
      "text/plain": [
       "'Arguments for \"soft\" robots: \\n deliver supplies: Soft robots can deliver essential goods like food, water, and medicine to victims in hard-to-reach areas. \\n accessible: Soft robots can reach inaccessible places due to their small size and high flexibility, allowing them to supply victims with vital resources. \\n care for victims: Soft robots can provide care for victims during the rescue operation, such as delivering food and medicine. \\n adaptability: Soft robots can adapt to complex problems and changing situations, making them effective in disaster areas. \\n temporary supply: Soft robots can provide temporary supply of vital resources to victims until human rescuers arrive.'"
      ]
     },
     "execution_count": 38,
     "metadata": {},
     "output_type": "execute_result"
    }
   ],
   "source": [
    "tmp_string_soft"
   ]
  },
  {
   "cell_type": "markdown",
   "metadata": {},
   "source": [
    "Prompt to get summary (focus on overlapping, diverging arguments) for A, B graph regarding single categories:"
   ]
  },
  {
   "cell_type": "code",
   "execution_count": 39,
   "metadata": {},
   "outputs": [
    {
     "name": "stdout",
     "output_type": "stream",
     "text": [
      "messages=[SystemMessage(content='\\nYou are a researcher summarizing central arguments and their explenations of people\\'s assessments of rigid and soft robots, \\nwhereby laypersons were informed about the risks and benefits of rescue robots through scenario texts.\\n\\nParticipants shared their central arguments and explenations on traditional rigid robots in arguments for \"rigid\" robots \\nand on flexible, electronic-free soft robots in arguments for \"soft\" robots.\\n\\nThe overall theme of these arguments is perceived technological possibilities.\\n\\nYour task:\\n\\nWrite a paragraph highlighting the commonalities of the arguments for rigid and soft robots followed by a brief discussion of the main differences, \\nfocusing stronger on the arguments for soft robots. \\n\\nThe paragraph should be limited to four sentences. Provide only the paragraph without any additional commentary or context.\\n', additional_kwargs={}, response_metadata={}), HumanMessage(content='arguments for \"rigid\" robots: \\nArguments for \"rigid\" robots: \\n new places: Rigid robots can search in places where people cannot reach, such as underwater caves or narrow openings. \\n resilience: Rigid robots can withstand adverse conditions, making them more effective in disaster areas. \\n special abilities: Rigid robots can perform special tasks like flying, hacking doors, or sending images to the control center with cameras. \\n environment-independent: Rigid robots can operate in various environments, including air, water, and ground, and can withstand toxic or narrow environments. \\n more power: Rigid robots can have more strength than humans, allowing them to perform tasks that require heavy lifting or drilling.\\n\\narguments for \"soft\" robots: \\nArguments for \"soft\" robots: \\n deliver supplies: Soft robots can deliver essential goods like food, water, and medicine to victims in hard-to-reach areas. \\n accessible: Soft robots can reach inaccessible places due to their small size and high flexibility, allowing them to supply victims with vital resources. \\n care for victims: Soft robots can provide care for victims during the rescue operation, such as delivering food and medicine. \\n adaptability: Soft robots can adapt to complex problems and changing situations, making them effective in disaster areas. \\n temporary supply: Soft robots can provide temporary supply of vital resources to victims until human rescuers arrive.', additional_kwargs={}, response_metadata={})]\n",
      "template_out: messages=[SystemMessage(content='\\nYou are a researcher summarizing central arguments and their explenations of people\\'s assessments of rigid and soft robots, \\nwhereby laypersons were informed about the risks and benefits of rescue robots through scenario texts.\\n\\nParticipants shared their central arguments and explenations on traditional rigid robots in arguments for \"rigid\" robots \\nand on flexible, electronic-free soft robots in arguments for \"soft\" robots.\\n\\nThe overall theme of these arguments is perceived technological possibilities.\\n\\nYour task:\\n\\nWrite a paragraph highlighting the commonalities of the arguments for rigid and soft robots followed by a brief discussion of the main differences, \\nfocusing stronger on the arguments for soft robots. \\n\\nThe paragraph should be limited to four sentences. Provide only the paragraph without any additional commentary or context.\\n', additional_kwargs={}, response_metadata={}), HumanMessage(content='arguments for \"rigid\" robots: \\nArguments for \"rigid\" robots: \\n new places: Rigid robots can search in places where people cannot reach, such as underwater caves or narrow openings. \\n resilience: Rigid robots can withstand adverse conditions, making them more effective in disaster areas. \\n special abilities: Rigid robots can perform special tasks like flying, hacking doors, or sending images to the control center with cameras. \\n environment-independent: Rigid robots can operate in various environments, including air, water, and ground, and can withstand toxic or narrow environments. \\n more power: Rigid robots can have more strength than humans, allowing them to perform tasks that require heavy lifting or drilling.\\n\\narguments for \"soft\" robots: \\nArguments for \"soft\" robots: \\n deliver supplies: Soft robots can deliver essential goods like food, water, and medicine to victims in hard-to-reach areas. \\n accessible: Soft robots can reach inaccessible places due to their small size and high flexibility, allowing them to supply victims with vital resources. \\n care for victims: Soft robots can provide care for victims during the rescue operation, such as delivering food and medicine. \\n adaptability: Soft robots can adapt to complex problems and changing situations, making them effective in disaster areas. \\n temporary supply: Soft robots can provide temporary supply of vital resources to victims until human rescuers arrive.', additional_kwargs={}, response_metadata={})]\n",
      "template_out.to_messages(): [SystemMessage(content='\\nYou are a researcher summarizing central arguments and their explenations of people\\'s assessments of rigid and soft robots, \\nwhereby laypersons were informed about the risks and benefits of rescue robots through scenario texts.\\n\\nParticipants shared their central arguments and explenations on traditional rigid robots in arguments for \"rigid\" robots \\nand on flexible, electronic-free soft robots in arguments for \"soft\" robots.\\n\\nThe overall theme of these arguments is perceived technological possibilities.\\n\\nYour task:\\n\\nWrite a paragraph highlighting the commonalities of the arguments for rigid and soft robots followed by a brief discussion of the main differences, \\nfocusing stronger on the arguments for soft robots. \\n\\nThe paragraph should be limited to four sentences. Provide only the paragraph without any additional commentary or context.\\n', additional_kwargs={}, response_metadata={}), HumanMessage(content='arguments for \"rigid\" robots: \\nArguments for \"rigid\" robots: \\n new places: Rigid robots can search in places where people cannot reach, such as underwater caves or narrow openings. \\n resilience: Rigid robots can withstand adverse conditions, making them more effective in disaster areas. \\n special abilities: Rigid robots can perform special tasks like flying, hacking doors, or sending images to the control center with cameras. \\n environment-independent: Rigid robots can operate in various environments, including air, water, and ground, and can withstand toxic or narrow environments. \\n more power: Rigid robots can have more strength than humans, allowing them to perform tasks that require heavy lifting or drilling.\\n\\narguments for \"soft\" robots: \\nArguments for \"soft\" robots: \\n deliver supplies: Soft robots can deliver essential goods like food, water, and medicine to victims in hard-to-reach areas. \\n accessible: Soft robots can reach inaccessible places due to their small size and high flexibility, allowing them to supply victims with vital resources. \\n care for victims: Soft robots can provide care for victims during the rescue operation, such as delivering food and medicine. \\n adaptability: Soft robots can adapt to complex problems and changing situations, making them effective in disaster areas. \\n temporary supply: Soft robots can provide temporary supply of vital resources to victims until human rescuers arrive.', additional_kwargs={}, response_metadata={})]\n"
     ]
    }
   ],
   "source": [
    "from langchain_core.prompts import ChatPromptTemplate\n",
    "\n",
    "\n",
    "system_template = \"\"\"\n",
    "You are a researcher summarizing central arguments and their explenations of people's assessments of rigid and soft robots, \n",
    "whereby laypersons were informed about the risks and benefits of {robots} through scenario texts.\n",
    "\n",
    "Participants shared their central arguments and explenations on traditional rigid robots in arguments for \"rigid\" robots \n",
    "and on flexible, electronic-free soft robots in arguments for \"soft\" robots.\n",
    "\n",
    "The overall theme of these arguments is {topicCategory}.\n",
    "\n",
    "Your task:\n",
    "\n",
    "Write a paragraph highlighting the commonalities of the arguments for rigid and soft robots followed by a brief discussion of the main differences, \n",
    "focusing stronger on the arguments for soft robots. \n",
    "\n",
    "The paragraph should be limited to four sentences. Provide only the paragraph without any additional commentary or context.\n",
    "\"\"\"\n",
    "\n",
    "\n",
    "user_template = \"\"\"arguments for \"rigid\" robots: \n",
    "{rigid}\n",
    "\n",
    "arguments for \"soft\" robots: \n",
    "{soft}\"\"\"\n",
    "\n",
    "# rescue robots and socially assistive robots\n",
    "prompt_template = ChatPromptTemplate.from_messages(\n",
    "    [(\"system\", system_template), (\"user\", user_template)]\n",
    ")\n",
    "\n",
    "template_out = prompt_template.invoke({\"robots\": \"rescue robots\", \"topicCategory\": abbreviations_dict[\"TP\"], \"rigid\": tmp_string_rigid, \"soft\": tmp_string_soft})\n",
    "print(template_out)\n",
    "\n",
    "print(\"template_out:\", template_out)\n",
    "print(\"template_out.to_messages():\", template_out.to_messages())"
   ]
  },
  {
   "cell_type": "markdown",
   "metadata": {},
   "source": [
    "#### Single Run\n",
    "\n",
    "Function to call LLM:"
   ]
  },
  {
   "cell_type": "code",
   "execution_count": 40,
   "metadata": {},
   "outputs": [
    {
     "name": "stdout",
     "output_type": "stream",
     "text": [
      "Tokens Used: 561\n",
      "\tPrompt Tokens: 444\n",
      "\tCompletion Tokens: 117\n",
      "Successful Requests: 1\n",
      "Total Cost (USD): $0.0\n",
      "Total Tokens: 561\n",
      "Prompt Tokens: 444\n",
      "Completion Tokens: 117\n",
      "Total Cost (USD): $0.0\n"
     ]
    }
   ],
   "source": [
    "response = huggingface_API_call(\n",
    "    prompt=prompt_template,\n",
    "    \n",
    "    robots=\"rescue robots\",\n",
    "    topicCategory=abbreviations_dict[\"TP\"],\n",
    "    dictonaryRigid=tmp_string_rigid,\n",
    "    dictonarySoft=tmp_string_soft,\n",
    "    \n",
    "    api_key=key.hugging_api_key,\n",
    "    model_name=\"meta-llama/Meta-Llama-3-70B-Instruct\",\n",
    "\n",
    "    json_schema=None,\n",
    "    max_tokens=4000,\n",
    "    temperature=0.2,\n",
    "    verbose=True\n",
    ")"
   ]
  },
  {
   "cell_type": "code",
   "execution_count": 41,
   "metadata": {},
   "outputs": [
    {
     "data": {
      "text/plain": [
       "AIMessage(content='The arguments for both rigid and soft robots share a common focus on their potential to access and operate in challenging environments, highlighting their ability to reach and assist victims in hard-to-reach areas. Both types of robots are seen as capable of performing tasks that humans cannot, whether due to environmental constraints or physical limitations. However, the arguments for soft robots tend to emphasize their potential for providing care and support to victims, with a focus on delivering essential supplies and adapting to complex situations. In contrast, the arguments for rigid robots focus more on their technical capabilities and ability to withstand adverse conditions.', additional_kwargs={'refusal': None}, response_metadata={'token_usage': {'completion_tokens': 117, 'prompt_tokens': 444, 'total_tokens': 561, 'completion_tokens_details': None, 'prompt_tokens_details': None}, 'model_name': 'meta-llama/Meta-Llama-3-70B-Instruct', 'system_fingerprint': '2.3.1-dev0-sha-169178b', 'finish_reason': 'stop', 'logprobs': None}, id='run-ea4dd916-edfe-492b-877a-22263d54775a-0', usage_metadata={'input_tokens': 444, 'output_tokens': 117, 'total_tokens': 561, 'input_token_details': {}, 'output_token_details': {}})"
      ]
     },
     "execution_count": 41,
     "metadata": {},
     "output_type": "execute_result"
    }
   ],
   "source": [
    "response"
   ]
  },
  {
   "cell_type": "code",
   "execution_count": 42,
   "metadata": {},
   "outputs": [
    {
     "data": {
      "text/plain": [
       "'The arguments for both rigid and soft robots share a common focus on their potential to access and operate in challenging environments, highlighting their ability to reach and assist victims in hard-to-reach areas. Both types of robots are seen as capable of performing tasks that humans cannot, whether due to environmental constraints or physical limitations. However, the arguments for soft robots tend to emphasize their potential for providing care and support to victims, with a focus on delivering essential supplies and adapting to complex situations. In contrast, the arguments for rigid robots focus more on their technical capabilities and ability to withstand adverse conditions.'"
      ]
     },
     "execution_count": 42,
     "metadata": {},
     "output_type": "execute_result"
    }
   ],
   "source": [
    "response.content"
   ]
  },
  {
   "cell_type": "markdown",
   "metadata": {},
   "source": [
    "### Multiple Runs\n",
    "\n",
    "Higher order function to call LLM for all categories:"
   ]
  },
  {
   "cell_type": "code",
   "execution_count": 43,
   "metadata": {},
   "outputs": [],
   "source": [
    "import pandas as pd\n",
    "\n",
    "def summarize_processed_robot_data(type_robot):\n",
    "    # Define naming based on type_robot\n",
    "    if type_robot == \"RR\":\n",
    "        tmp_df = df_RR\n",
    "        naming_robots = \"rescue robots\"\n",
    "    elif type_robot == \"SAR\":\n",
    "        tmp_df = df_SAR\n",
    "        naming_robots = \"socially assistive robots\"\n",
    "    elif type_robot == \"Combined\":\n",
    "        tmp_df = df_Combined\n",
    "        naming_robots = \"rescue robots and socially assistive robots\"\n",
    "    else:\n",
    "        raise ValueError(\"Invalid type_robot specified.\")\n",
    "\n",
    "\n",
    "    # Initialize an empty DataFrame for concatenation\n",
    "    data_array = []\n",
    "    \n",
    "    for index, category in enumerate(abbreviations_dict.keys()):\n",
    "        print(f\"index: {index}, category: {category}\")\n",
    "\n",
    "        # Load the specific DataFrame for the current category\n",
    "        tmp_rigid = tmp_df[(tmp_df[\"category\"] == category) & (tmp_df[\"type\"] == \"rigid\")]\n",
    "        tmp_soft = tmp_df[(tmp_df[\"category\"] == category) & (tmp_df[\"type\"] == \"soft\")]\n",
    "        \n",
    "        tmp_string_rigid = 'Arguments for \"rigid\" robots:'\n",
    "        for index, row in tmp_rigid.iterrows():\n",
    "            tmp_string_rigid += \" \\n \" + row[\"argument\"]\n",
    "            tmp_string_rigid += \": \" + row[\"explanation\"]\n",
    "\n",
    "        tmp_string_soft = 'Arguments for \"soft\" robots:'\n",
    "        for index, row in tmp_soft.iterrows():\n",
    "            tmp_string_soft += \" \\n \" + row[\"argument\"]\n",
    "            tmp_string_soft += \": \" + row[\"explanation\"]\n",
    "        \n",
    "        \n",
    "        # Call API with specified parameters\n",
    "        response = huggingface_API_call(\n",
    "            prompt=prompt_template,\n",
    "            \n",
    "            robots=naming_robots,\n",
    "            topicCategory=abbreviations_dict[category],\n",
    "            dictonaryRigid=tmp_string_rigid,\n",
    "            dictonarySoft=tmp_string_soft,\n",
    "            \n",
    "            api_key=key.hugging_api_key,\n",
    "            model_name=\"meta-llama/Meta-Llama-3-70B-Instruct\",\n",
    "\n",
    "            json_schema=None,\n",
    "            max_tokens=4200,\n",
    "            temperature=0.0,\n",
    "            verbose=False\n",
    "        )\n",
    "        \n",
    "        data_array.append({'category': category, 'summary':response.content})\n",
    "\n",
    "    final_df = pd.DataFrame(data_array)\n",
    "    return final_df"
   ]
  },
  {
   "cell_type": "code",
   "execution_count": 44,
   "metadata": {},
   "outputs": [],
   "source": [
    "run_summary_processed_robot_data = False # True"
   ]
  },
  {
   "cell_type": "markdown",
   "metadata": {},
   "source": [
    "for rescue robots - summary:"
   ]
  },
  {
   "cell_type": "code",
   "execution_count": 45,
   "metadata": {},
   "outputs": [],
   "source": [
    "# Path to your Excel file\n",
    "file_path = directory + \"/output/G2/\" + \"rescue robots summary\" + \".xlsx\"\n",
    "\n",
    "if run_summary_processed_robot_data:\n",
    "    df_RR_summary = summarize_processed_robot_data(type_robot=\"RR\")\n",
    "    # save the dataframe to an Excel file\n",
    "    df_RR_summary.to_excel(file_path, index=False)\n",
    "else:\n",
    "    df_RR_summary = pd.read_excel(file_path)"
   ]
  },
  {
   "cell_type": "markdown",
   "metadata": {},
   "source": [
    "for socially assistive robots - summary:"
   ]
  },
  {
   "cell_type": "code",
   "execution_count": 46,
   "metadata": {},
   "outputs": [],
   "source": [
    "# Path to your Excel file\n",
    "file_path = directory + \"/output/G2/\" + \"socially assistive robots summary\" + \".xlsx\"\n",
    "    \n",
    "if run_summary_processed_robot_data:\n",
    "    df_SAR_summary = summarize_processed_robot_data(type_robot=\"SAR\")\n",
    "    # save the dataframe to an Excel file\n",
    "    df_SAR_summary.to_excel(file_path, index=False)\n",
    "else:\n",
    "    df_SAR_summary = pd.read_excel(file_path)"
   ]
  },
  {
   "cell_type": "markdown",
   "metadata": {},
   "source": [
    "## Data for Category Specific Graph (G3)\n",
    "\n",
    "Prompt to get coding guidelines (bottom up):"
   ]
  },
  {
   "cell_type": "code",
   "execution_count": 47,
   "metadata": {},
   "outputs": [],
   "source": [
    "system_template = \"\"\"\n",
    "<Context> You are a researcher tasked with summarizing a list of words into generic/superordinate categories. Based on these categories, create a dictionary that assigns the respective subordinate terms (keys from the provided \"overallList\") to the generic terms. Laypersons were informed about the potential risks and benefits of rigid and soft {robots} through scenario texts. They then listed their perceived risks and benefits of rigid and soft robots in the \"overallList\" wordlist. The overarching topic of the list is {topicCategory}, whereby the topic involved {topicCategoryDetails}.</Context>\n",
    "\n",
    "<Data Structure> The list \"overallList\" is a dictionary where the keys are written arguments, and the corresponding values are one or more comments related to those arguments. The value [nan] indicates that no specific comment was provided for the respective entry. If there are multiple comments or missing entries ([nan]), it signifies that the respective argument was mentioned multiple times, emphasizing its importance. </Data Structure>\n",
    "\n",
    "<Task> Your task is to create two outputs:\n",
    "1. A list called \"listGeneric\" that contains the generic/superordinate categories. You may use no more than six different categories.\n",
    "2. A dictionary called \"dictionary\" that contains: Keys (the generic/superordinate categories) and values (the corresponding words - keys - from the \"overallList\" that have been summarized under each category).\n",
    "The dictionary must contain all corresponding words (keys) from the \"overallList\". If it is not possible to assign a specific word, please place it in a category called \"rest category\".</Task>\n",
    "\"\"\"\n",
    "\n",
    "\n",
    "user_template = \"\"\"\n",
    "List \"overallList\": \n",
    "{overallList}\n",
    "\"\"\""
   ]
  },
  {
   "cell_type": "markdown",
   "metadata": {},
   "source": [
    "Prompt to apply coding guidelines:"
   ]
  },
  {
   "cell_type": "code",
   "execution_count": 48,
   "metadata": {},
   "outputs": [],
   "source": [
    "# aaa"
   ]
  },
  {
   "cell_type": "code",
   "execution_count": 49,
   "metadata": {},
   "outputs": [
    {
     "ename": "NameError",
     "evalue": "name 'ERROR' is not defined",
     "output_type": "error",
     "traceback": [
      "\u001b[1;31m---------------------------------------------------------------------------\u001b[0m",
      "\u001b[1;31mNameError\u001b[0m                                 Traceback (most recent call last)",
      "Cell \u001b[1;32mIn[49], line 1\u001b[0m\n\u001b[1;32m----> 1\u001b[0m ERROR\n",
      "\u001b[1;31mNameError\u001b[0m: name 'ERROR' is not defined"
     ]
    }
   ],
   "source": [
    "ERROR\n",
    "\n",
    "\n",
    "\n",
    "###############################################"
   ]
  },
  {
   "cell_type": "markdown",
   "metadata": {},
   "source": [
    "# aaaaaaaaaaaaaaaaaaaa"
   ]
  },
  {
   "cell_type": "markdown",
   "metadata": {},
   "source": [
    "### for task to get superordinate categories within single categories"
   ]
  },
  {
   "cell_type": "code",
   "execution_count": null,
   "metadata": {},
   "outputs": [],
   "source": [
    "system_template = \"\"\"\n",
    "<Context>\n",
    "You are a researcher tasked with summarizing a list of words into generic/superordinate categories. Based on these categories, create a dictionary that assigns the respective subordinate terms (keys from the provided \"overallList\") to the generic terms. Laypersons were informed about the potential risks and benefits of rigid and soft {robots} through scenario texts. They then listed their perceived risks and benefits of rigid and soft robots in the \"overallList\" wordlist. The overarching topic of the list is {topicCategory}.\n",
    "</Context>\n",
    "\n",
    "<Data Structure>\n",
    "The list \"overallList\" is a dictionary where the keys are written arguments, and the corresponding values are one or more comments related to those arguments. The value [nan] indicates that no specific comment was provided for the respective entry. If there are multiple comments or missing entries ([nan]), it signifies that the respective argument was mentioned multiple times, emphasizing its importance.\n",
    "</Data Structure>\n",
    "\n",
    "<Task>\n",
    "Your task is to create two outputs:\n",
    "1. A list called \"listGeneric\" that contains the generic/superordinate categories. You may use no more than six different categories.\n",
    "2. A dictionary called \"dictionary\" that contains:\n",
    "   - Keys: The generic/superordinate categories.\n",
    "   - Values: The corresponding words (keys) from the \"overallList\" that have been summarized under each category.\n",
    "The dictionary must contain all corresponding words (keys) from the \"overallList\". If it is not possible to assign a specific word, please place it in a category called \"rest category\".\n",
    "</Task>\n",
    "\"\"\"\n",
    "\n",
    "# !!!\n",
    "system_template = \"\"\"\n",
    "<Context> You are a researcher tasked with summarizing a list of words into generic/superordinate categories. Based on these categories, create a dictionary that assigns the respective subordinate terms (keys from the provided \"overallList\") to the generic terms. Laypersons were informed about the potential risks and benefits of rigid and soft {robots} through scenario texts. They then listed their perceived risks and benefits of rigid and soft robots in the \"overallList\" wordlist. The overarching topic of the list is {topicCategory}, whereby the topic involved {topicCategoryDetails}.</Context>\n",
    "\n",
    "<Data Structure> The list \"overallList\" is a dictionary where the keys are written arguments, and the corresponding values are one or more comments related to those arguments. The value [nan] indicates that no specific comment was provided for the respective entry. If there are multiple comments or missing entries ([nan]), it signifies that the respective argument was mentioned multiple times, emphasizing its importance. </Data Structure>\n",
    "\n",
    "<Task> Your task is to create two outputs:\n",
    "1. A list called \"listGeneric\" that contains the generic/superordinate categories. You may use no more than six different categories.\n",
    "2. A dictionary called \"dictionary\" that contains: Keys (the generic/superordinate categories) and values (the corresponding words - keys - from the \"overallList\" that have been summarized under each category).\n",
    "The dictionary must contain all corresponding words (keys) from the \"overallList\". If it is not possible to assign a specific word, please place it in a category called \"rest category\".</Task>\n",
    "\"\"\"\n",
    "\n",
    "\n",
    "\n",
    "\n",
    "user_template = \"\"\"\n",
    "List \"overallList\": \n",
    "{overallList}\n",
    "\"\"\"\n",
    "\n",
    "# rescue robots and socially assistive robots\n",
    "prompt_template_SC = ChatPromptTemplate.from_messages(\n",
    "    [(\"system\", system_template), (\"user\", user_template)]\n",
    ")\n",
    "\n",
    "constant_new_comments_mapping = combine_dicts(constant_comments_mapping, new_comments_mapping)\n",
    "\n",
    "result = prompt_template_SC.invoke({\"robots\": \"rescue robots and socially assistive robots\", \"topicCategory\": abbreviations_dict[sheet_name], \"overallList\": constant_new_comments_mapping})\n",
    "print(result)\n",
    "\n",
    "print(\"result:\", result)\n",
    "print(\"result.to_messages():\", result.to_messages())"
   ]
  },
  {
   "cell_type": "markdown",
   "metadata": {},
   "source": [
    "## Provide schemas for structured outputs\n",
    "\n",
    "### for task to get main findings, differences and summary"
   ]
  },
  {
   "cell_type": "code",
   "execution_count": null,
   "metadata": {},
   "outputs": [],
   "source": [
    "json_schema = {\n",
    "    \"title\": \"Outputs\",\n",
    "    \"description\": \"Bullet lists detailing the similarities and differences between the rigid and soft lists and a summary paragraph.\",\n",
    "    \"type\": \"object\",\n",
    "    \"properties\": {\n",
    "        \"mainFindings\": {\n",
    "            \"type\": \"string\",\n",
    "            \"description\": \"Bullet lists highlighting the main findings of the provided rigid and soft lists\",\n",
    "        },\n",
    "        \"differences\": {\n",
    "            \"type\": \"string\",\n",
    "            \"description\": \"Bullet lists detailing the differences between the rigid and soft lists\",\n",
    "        },\n",
    "          \"summary\": {\n",
    "            \"type\": \"string\",\n",
    "            \"description\": \"Summary paragraph that provides a summary of the main findings and the found differences\",\n",
    "        },\n",
    "    },\n",
    "    \"required\": [\"similarities\", \"differences\", \"summary\"],\n",
    "}"
   ]
  },
  {
   "cell_type": "markdown",
   "metadata": {},
   "source": [
    "### for task to get superordinate categories within single categories"
   ]
  },
  {
   "cell_type": "code",
   "execution_count": null,
   "metadata": {},
   "outputs": [],
   "source": [
    "json_schema_notUsed = {\n",
    "    \"title\": \"Outputs\",\n",
    "    \"description\": \"List that contains the generic / superordinate categories and a dictionary, which assigns the respective subordinate terms to the generic terms.\",\n",
    "    \"type\": \"object\",\n",
    "    \"properties\": {\n",
    "        \"listGeneric\": {\n",
    "            \"type\": \"string\",\n",
    "            \"description\": \"List that contains the generic / superordinate categories\",\n",
    "        },\n",
    "        \"dictionary\": {\n",
    "            \"type\": \"string\",\n",
    "            \"description\": \"Dictionary that contains the keys, the generic / superordinate categories and the corresponding words that have been summarised under the respective category\",\n",
    "        },\n",
    "    },\n",
    "    \"required\": [\"listGeneric\", \"dictionary\"],\n",
    "}"
   ]
  },
  {
   "cell_type": "code",
   "execution_count": null,
   "metadata": {},
   "outputs": [],
   "source": [
    "json_schema_SC = {\n",
    "    \"title\": \"Outputs\",\n",
    "    \"description\": \"List that contains the generic/superordinate categories and a dictionary that assigns the respective subordinate terms to the generic terms.\",\n",
    "    \"type\": \"object\",\n",
    "    \"properties\": {\n",
    "        \"listGeneric\": {\n",
    "            \"type\": \"array\",\n",
    "            \"description\": \"List that contains the generic/superordinate categories.\",\n",
    "            \"items\": {\n",
    "                \"type\": \"string\"\n",
    "            }\n",
    "        },\n",
    "        \"dictionary\": {\n",
    "            \"type\": \"object\",\n",
    "            \"description\": \"Dictionary that contains the generic/superordinate categories as keys and the corresponding words from the 'overallList' as values.\",\n",
    "            \"additionalProperties\": {\n",
    "                \"type\": \"array\",\n",
    "                \"items\": {\n",
    "                    \"type\": \"string\"\n",
    "                }\n",
    "            }\n",
    "        }\n",
    "    },\n",
    "    \"required\": [\"listGeneric\", \"dictionary\"]\n",
    "}"
   ]
  },
  {
   "cell_type": "markdown",
   "metadata": {},
   "source": [
    "## Define basic API call\n",
    "\n",
    "### for task to get main findings, differences and summary"
   ]
  },
  {
   "cell_type": "code",
   "execution_count": null,
   "metadata": {},
   "outputs": [],
   "source": [
    "def basic_API_call(\n",
    "    prompt,\n",
    "    robots,\n",
    "    topicCategory,\n",
    "    openai_api_key,\n",
    "    dictonaryRigid,\n",
    "    dictonarySoft,\n",
    "    json_schema,\n",
    "    model_name=\"gpt-4o\",\n",
    "    max_tokens=1000,\n",
    "):\n",
    "\n",
    "    # prompt = PromptTemplate(template=template)\n",
    "    seed = 123\n",
    "\n",
    "    model = ChatOpenAI(model=model_name, openai_api_key=openai_api_key, max_tokens=max_tokens, model_kwargs={\"seed\": seed}, temperature=0.0)\n",
    "       \n",
    "    structured_llm = model.with_structured_output(json_schema, include_raw=True)\n",
    "    chain = prompt | structured_llm\n",
    "\n",
    "    with get_openai_callback() as cb:\n",
    "        response = chain.invoke(\n",
    "            {\"robots\": robots, \"topicCategory\": topicCategory, \"rigid\": dictonaryRigid, \"soft\": dictonarySoft}\n",
    "        )\n",
    "        print(cb)\n",
    "    \n",
    "    print(f\"Total Tokens: {cb.total_tokens}\")\n",
    "    print(f\"Prompt Tokens: {cb.prompt_tokens}\")\n",
    "    print(f\"Completion Tokens: {cb.completion_tokens}\")\n",
    "    print(f\"Total Cost (USD): ${cb.total_cost}\")\n",
    "        \n",
    "    return response"
   ]
  },
  {
   "cell_type": "markdown",
   "metadata": {},
   "source": [
    "### for task to get superordinate categories within single categories"
   ]
  },
  {
   "cell_type": "code",
   "execution_count": null,
   "metadata": {},
   "outputs": [],
   "source": [
    "def basic_API_call_SC(\n",
    "    prompt,\n",
    "    robots,\n",
    "    topicCategory,\n",
    "    openai_api_key,\n",
    "    dictonaryCombined,\n",
    "    json_schema,\n",
    "    model_name=\"gpt-4o\",\n",
    "    max_tokens=1000,\n",
    "):\n",
    "\n",
    "    # prompt = PromptTemplate(template=template)\n",
    "    seed = 123\n",
    "\n",
    "    model = ChatOpenAI(model=model_name, openai_api_key=openai_api_key, max_tokens=max_tokens, model_kwargs={\"seed\": seed}, temperature=0.0)\n",
    "       \n",
    "    structured_llm = model.with_structured_output(json_schema, include_raw=True)\n",
    "    chain = prompt | structured_llm\n",
    "\n",
    "    with get_openai_callback() as cb:\n",
    "        response = chain.invoke(\n",
    "            {\"robots\": robots, \"topicCategory\": topicCategory, \"overallList\": dictonaryCombined}\n",
    "        )\n",
    "        print(cb)\n",
    "    \n",
    "    print(f\"Total Tokens: {cb.total_tokens}\")\n",
    "    print(f\"Prompt Tokens: {cb.prompt_tokens}\")\n",
    "    print(f\"Completion Tokens: {cb.completion_tokens}\")\n",
    "    print(f\"Total Cost (USD): ${cb.total_cost}\")\n",
    "        \n",
    "    return response"
   ]
  },
  {
   "cell_type": "markdown",
   "metadata": {},
   "source": [
    "# Run ChatGPT\n",
    "\n",
    "## Example (overall)\n",
    "\n",
    "only for main findings, difference, summary\n",
    "\n",
    "> Remark: The argument structures between the two types of robots differ significantly. Therefore, the robots are qualitatively summarized separately to ensure a clear and accurate comparison."
   ]
  },
  {
   "cell_type": "code",
   "execution_count": null,
   "metadata": {},
   "outputs": [],
   "source": [
    "print(f\"sheet_name: {sheet_name}\")\n",
    "print(f\"abbreviations_dict[sheet_name]: {abbreviations_dict[sheet_name]}\")\n",
    "\n",
    "\n",
    "result = basic_API_call(prompt=prompt_template,\n",
    "    robots=\"rescue robots and socially assistive robots\",\n",
    "    topicCategory=abbreviations_dict[sheet_name],\n",
    "    openai_api_key=key.openai_api_key,\n",
    "    dictonaryRigid=constant_comments_mapping, # overall\n",
    "    dictonarySoft=new_comments_mapping,\n",
    "    json_schema=json_schema,\n",
    "    model_name=\"gpt-4o\",\n",
    "    max_tokens=1000,\n",
    ")"
   ]
  },
  {
   "cell_type": "code",
   "execution_count": null,
   "metadata": {},
   "outputs": [],
   "source": [
    "# Extract the 'parsed' section from the JSON data\n",
    "parsed_section = result.get('parsed', {})\n",
    "#print(parsed_section)\n",
    "# Extract the translations\n",
    "mainFindings = parsed_section.get('mainFindings')\n",
    "differences = parsed_section.get('differences')\n",
    "summary = parsed_section.get('summary')\n",
    "\n",
    "print(f\"result (raw): {result}\")\n",
    "print(f\"mainFindings: {mainFindings}\")\n",
    "print(f\"differences: {differences}\")\n",
    "print(f\"summary: {summary}\")"
   ]
  },
  {
   "cell_type": "markdown",
   "metadata": {},
   "source": [
    "## Separately for robots (rescue robot and socially assistive robot)"
   ]
  },
  {
   "cell_type": "markdown",
   "metadata": {},
   "source": [
    "### for rescue robots (main findings, difference, summary)"
   ]
  },
  {
   "cell_type": "code",
   "execution_count": null,
   "metadata": {},
   "outputs": [],
   "source": [
    "categories = []\n",
    "mainFindings = []\n",
    "differences = []\n",
    "summary = []\n",
    "rawResults = []\n",
    "\n",
    "\n",
    "for category in abbreviations_dict.keys():\n",
    "    print(f\"category: {category}\")\n",
    "    \n",
    "    # do not process the rest categories\n",
    "    if category not in ['RCPP', 'RCPN', 'RCA', 'RCN']:\n",
    "        df = all_sheets_RR[category]\n",
    "        constant_comments_mapping = create_multivalue_dict(df, 'constant', 'constant_comments')\n",
    "        # print(\"mapping constant x comments:\", constant_comments_mapping)\n",
    "        # print(len(constant_comments_mapping))\n",
    "        \n",
    "        new_comments_mapping = create_multivalue_dict(df, 'new', 'new_comments')\n",
    "        # print(\"mapping new x comments:\", new_comments_mapping)\n",
    "        # print(len(new_comments_mapping))\n",
    "    \n",
    "        result = basic_API_call(prompt=prompt_template,\n",
    "            robots=\"rescue robots\",\n",
    "            topicCategory=abbreviations_dict[category],\n",
    "            openai_api_key=key.openai_api_key,\n",
    "            dictonaryRigid=constant_comments_mapping,\n",
    "            dictonarySoft=new_comments_mapping,\n",
    "            json_schema=json_schema,\n",
    "            model_name=\"gpt-4o\",\n",
    "            max_tokens=1600, # increase limit\n",
    "        )\n",
    "        \n",
    "        # append raw results\n",
    "        categories.append(category)\n",
    "        rawResults.append(result)\n",
    "        \n",
    "        # append parsed results\n",
    "        parsed_section = result.get('parsed', {})\n",
    "        mainFindings.append(parsed_section.get('mainFindings'))\n",
    "        differences.append(parsed_section.get('differences'))\n",
    "        summary.append(parsed_section.get('summary'))\n",
    "        #print(\"length of mainFindings:\", len(parsed_section.get('mainFindings')))\n",
    "        #print(\"length of differences:\", len(parsed_section.get('differences')))\n",
    "        #print(\"length of summary:\", len(parsed_section.get('summary')))\n",
    "        \n",
    "# save file\n",
    "df_RR = pd.DataFrame({\n",
    "    'Category': categories,\n",
    "    'mainFindings': mainFindings,\n",
    "    'differences': differences,\n",
    "    'summary': summary,\n",
    "    'rawResults' : rawResults\n",
    "})\n",
    "\n",
    "# Path to your Excel file\n",
    "file_path = directory + \"/output/\" + \"rescue robot_ChatGPT\" + \".xlsx\"\n",
    "# save the dataframe to an Excel file\n",
    "df_RR.to_excel(file_path, index=False)"
   ]
  },
  {
   "cell_type": "markdown",
   "metadata": {},
   "source": [
    "### for rescue robots (get superordinate categories within single categories: listGeneric, dictionary)"
   ]
  },
  {
   "cell_type": "code",
   "execution_count": null,
   "metadata": {},
   "outputs": [],
   "source": [
    "categories = []\n",
    "mainFindings = []\n",
    "differences = []\n",
    "summary = []\n",
    "rawResults = []\n",
    "\n",
    "\n",
    "for category in abbreviations_dict.keys():\n",
    "    print(f\"category: {category}\")\n",
    "    \n",
    "    # do not process the rest categories\n",
    "    # not in ['RCPP', 'RCPN', 'RCA', 'RCN']:\n",
    "    if category in ['MT']:\n",
    "        df = all_sheets_RR[category]\n",
    "        constant_comments_mapping = create_multivalue_dict(df, 'constant', 'constant_comments')\n",
    "        # print(\"mapping constant x comments:\", constant_comments_mapping)\n",
    "        # print(len(constant_comments_mapping))\n",
    "        \n",
    "        new_comments_mapping = create_multivalue_dict(df, 'new', 'new_comments')\n",
    "        # print(\"mapping new x comments:\", new_comments_mapping)\n",
    "        # print(len(new_comments_mapping))\n",
    "        constant_new_comments_mapping = combine_dicts(constant_comments_mapping, new_comments_mapping)\n",
    "\n",
    "\n",
    "        result = basic_API_call_SC(prompt=prompt_template_SC,\n",
    "            robots=\"rescue robots\",\n",
    "            topicCategory=abbreviations_dict[category],\n",
    "            openai_api_key=key.openai_api_key,\n",
    "            dictonaryCombined=constant_new_comments_mapping,\n",
    "            json_schema=json_schema_SC,\n",
    "            model_name=\"gpt-4o\",\n",
    "            max_tokens=2000, # increase limit\n",
    "        )\n",
    "        \n",
    "        # append raw results\n",
    "        categories.append(category)\n",
    "        rawResults.append(result)\n",
    "        \n",
    "        # append parsed results\n",
    "        #parsed_section = result.get('parsed', {})\n",
    "        #mainFindings.append(parsed_section.get('mainFindings'))\n",
    "        #differences.append(parsed_section.get('differences'))\n",
    "        #summary.append(parsed_section.get('summary'))\n",
    "        #print(\"length of mainFindings:\", len(parsed_section.get('mainFindings')))\n",
    "        #print(\"length of differences:\", len(parsed_section.get('differences')))\n",
    "        #print(\"length of summary:\", len(parsed_section.get('summary')))\n",
    "        \n"
   ]
  },
  {
   "cell_type": "code",
   "execution_count": null,
   "metadata": {},
   "outputs": [],
   "source": [
    "parsed_section = result.get('parsed', {})\n",
    "print(parsed_section)"
   ]
  },
  {
   "cell_type": "code",
   "execution_count": null,
   "metadata": {},
   "outputs": [],
   "source": [
    "# save file\n",
    "df_RR = pd.DataFrame({\n",
    "    'Category': categories,\n",
    "    'mainFindings': mainFindings,\n",
    "    'differences': differences,\n",
    "    'summary': summary,\n",
    "    'rawResults' : rawResults\n",
    "})\n",
    "\n",
    "# Path to your Excel file\n",
    "file_path = directory + \"/output/\" + \"rescue robot_ChatGPT\" + \".xlsx\"\n",
    "# save the dataframe to an Excel file\n",
    "df_RR.to_excel(file_path, index=False)"
   ]
  },
  {
   "cell_type": "markdown",
   "metadata": {},
   "source": [
    "### for socially assistive robots (main findings, difference, summary)"
   ]
  },
  {
   "cell_type": "code",
   "execution_count": null,
   "metadata": {},
   "outputs": [],
   "source": [
    "categories = []\n",
    "mainFindings = []\n",
    "differences = []\n",
    "summary = []\n",
    "rawResults = []\n",
    "\n",
    "\n",
    "for category in abbreviations_dict.keys():\n",
    "    print(f\"category: {category}\")\n",
    "    \n",
    "    # do not process the rest categories\n",
    "    if category not in ['RCPP', 'RCPN', 'RCA', 'RCN']:\n",
    "        df = all_sheets_SAR[category]\n",
    "        constant_comments_mapping = create_multivalue_dict(df, 'constant', 'constant_comments')\n",
    "        # print(\"mapping constant x comments:\", constant_comments_mapping)\n",
    "        # print(len(constant_comments_mapping))\n",
    "        \n",
    "        new_comments_mapping = create_multivalue_dict(df, 'new', 'new_comments')\n",
    "        # print(\"mapping new x comments:\", new_comments_mapping)\n",
    "        # print(len(new_comments_mapping))\n",
    "    \n",
    "        result = basic_API_call(prompt=prompt_template,\n",
    "            robots=\"socially assistive robots\",\n",
    "            topicCategory=abbreviations_dict[category],\n",
    "            openai_api_key=key.openai_api_key,\n",
    "            dictonaryRigid=constant_comments_mapping,\n",
    "            dictonarySoft=new_comments_mapping,\n",
    "            json_schema=json_schema,\n",
    "            model_name=\"gpt-4o\",\n",
    "            max_tokens=1000,\n",
    "        )\n",
    "        \n",
    "        # append raw results\n",
    "        categories.append(category)\n",
    "        rawResults.append(result)\n",
    "        \n",
    "        # append parsed results\n",
    "        parsed_section = result.get('parsed', {})\n",
    "        mainFindings.append(parsed_section.get('mainFindings'))\n",
    "        differences.append(parsed_section.get('differences'))\n",
    "        summary.append(parsed_section.get('summary'))\n",
    "        \n",
    "# save file\n",
    "df_SAR = pd.DataFrame({\n",
    "    'Category': categories,\n",
    "    'mainFindings': mainFindings,\n",
    "    'differences': differences,\n",
    "    'summary': summary,\n",
    "    'rawResults' : rawResults\n",
    "})\n",
    "\n",
    "# Path to your Excel file\n",
    "file_path = directory + \"/output/\" + \"socially assistive robot_ChatGPT\" + \".xlsx\"\n",
    "# save the dataframe to an Excel file\n",
    "df_SAR.to_excel(file_path, index=False)"
   ]
  }
 ],
 "metadata": {
  "kernelspec": {
   "display_name": "Python 3",
   "language": "python",
   "name": "python3"
  },
  "language_info": {
   "codemirror_mode": {
    "name": "ipython",
    "version": 3
   },
   "file_extension": ".py",
   "mimetype": "text/x-python",
   "name": "python",
   "nbconvert_exporter": "python",
   "pygments_lexer": "ipython3",
   "version": "3.11.9"
  }
 },
 "nbformat": 4,
 "nbformat_minor": 2
}
