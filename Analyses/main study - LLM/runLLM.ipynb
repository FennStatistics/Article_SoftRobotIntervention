{
 "cells": [
  {
   "cell_type": "markdown",
   "metadata": {},
   "source": [
    "# Summarizing Data for Results Graphics in \"R2: Perceived risks and benefits qualitative\"\n",
    "\n",
    "There are two central steps involved:\n",
    "\n",
    "\n",
    "**Check Szenario Texts:**\n",
    "- to check if topic was already mentioned for the category specific graph\n",
    "\n",
    "**Summarizing Data:**\n",
    "- for A, B graph\n",
    "- for category specific graph\n",
    "\n",
    "\n",
    "\n",
    "***\n",
    "**Coding sources**\n",
    "\n",
    "Code snippets from my (Julius Fenn) Large Language Model Workshop: https://github.com/FennStatistics/introductory-workshop-in-LLMs/\n",
    "\n",
    "\n",
    "I extend the code provided and explained in the following documenations:\n",
    "* Build a PDF ingestion and Question/Answering system: https://python.langchain.com/v0.2/docs/tutorials/pdf_qa/\n",
    "\n",
    "* https://python.langchain.com/v0.2/docs/tutorials/llm_chain/ (Build a Simple LLM Application with LCEL)\n",
    "* https://python.langchain.com/v0.2/docs/how_to/structured_output/ (How to return structured data from a model)\n",
    "* https://python.langchain.com/v0.2/docs/how_to/llm_token_usage_tracking/ (How to track token usage for LLMs)\n",
    "\n",
    "\n",
    "***\n",
    "## If you facing issues running your Code:\n",
    "\n",
    "It could be the case that chroma and langchain-core are not compatible."
   ]
  },
  {
   "cell_type": "code",
   "execution_count": 1,
   "metadata": {},
   "outputs": [],
   "source": [
    "## run in your terminal; could be necessary to downgrade package:\n",
    "# pip uninstall langchain-core\n",
    "# pip install langchain-core==0.3.10\n",
    "\n",
    "## or install older version of chromadb:\n",
    "# pip install --upgrade chromadb==0.5.0"
   ]
  },
  {
   "cell_type": "markdown",
   "metadata": {},
   "source": [
    "## Get API, local supabase server key(s)"
   ]
  },
  {
   "cell_type": "code",
   "execution_count": 2,
   "metadata": {},
   "outputs": [],
   "source": [
    "import os\n",
    "import sys\n",
    "\n",
    "# Assuming 'src' is one level down (in the current directory or a subdirectory)\n",
    "path_to_src = os.path.join('src')  # Moves one level down to 'src' folder\n",
    "\n",
    "# Add the path to sys.path\n",
    "sys.path.append(path_to_src)\n",
    "\n",
    "# Now you can import your API_key module\n",
    "import API_key as key"
   ]
  },
  {
   "cell_type": "markdown",
   "metadata": {},
   "source": [
    "## include self-written functions"
   ]
  },
  {
   "cell_type": "code",
   "execution_count": 3,
   "metadata": {},
   "outputs": [],
   "source": [
    "import src.forChromaApproach as di_drg"
   ]
  },
  {
   "cell_type": "markdown",
   "metadata": {},
   "source": [
    "# Check Szenario Texts\n",
    "\n",
    "## Load Scenario Texts\n",
    "This should be the final scenario texts in English of the two robots:\n",
    "\n",
    "* rescue robot\n",
    "* socially assistive robot"
   ]
  },
  {
   "cell_type": "code",
   "execution_count": 4,
   "metadata": {},
   "outputs": [
    {
     "name": "stdout",
     "output_type": "stream",
     "text": [
      "\n",
      "PDF: rescue robot.pdf\n",
      "Total Pages: 6\n",
      "\n",
      "PDF: socially assistive robot.pdf\n",
      "Total Pages: 6\n"
     ]
    }
   ],
   "source": [
    "path_to_PDFs = os.path.join('data/scenario texts')  # Moves one level up to 'PDFs' folder\n",
    "\n",
    "pdf_pages = di_drg.load_pdfs_by_filename(path_to_PDFs, verbose=False)\n",
    "\n",
    "# Optional: Print the loaded pages by filename\n",
    "for filename, pages in pdf_pages.items():\n",
    "    print(f\"\\nPDF: {filename}\")\n",
    "    print(f\"Total Pages: {len(pages)}\")\n",
    "    # print(pages[0])"
   ]
  },
  {
   "cell_type": "markdown",
   "metadata": {},
   "source": [
    "## Data Storage: Text chunks are converted into vector embeddings and stored in a vector database (Vector DB) next to their respective text chunks."
   ]
  },
  {
   "cell_type": "code",
   "execution_count": 5,
   "metadata": {},
   "outputs": [
    {
     "name": "stdout",
     "output_type": "stream",
     "text": [
      "\n",
      "PDF: rescue robot.pdf\n",
      "Total Chunks: 15\n",
      "\n",
      "PDF: socially assistive robot.pdf\n",
      "Total Chunks: 16\n"
     ]
    }
   ],
   "source": [
    "pdf_chunks = di_drg.split_pdf_pages_into_chunks(pdf_pages, chunk_size=500, chunk_overlap=150, verbose=False)\n",
    "\n",
    "# Optional: Print a summary of chunks created per PDF\n",
    "for filename, chunks in pdf_chunks.items():\n",
    "    print(f\"\\nPDF: {filename}\")\n",
    "    print(f\"Total Chunks: {len(chunks)}\")"
   ]
  },
  {
   "cell_type": "code",
   "execution_count": 6,
   "metadata": {},
   "outputs": [
    {
     "name": "stderr",
     "output_type": "stream",
     "text": [
      "c:\\DATEN\\PHD\\Article_SoftRobotIntervention\\Analyses\\main study - LLM\\src\\forChromaApproach.py:90: LangChainDeprecationWarning: The class `Chroma` was deprecated in LangChain 0.2.9 and will be removed in 1.0. An updated version of the class exists in the :class:`~langchain-chroma package and should be used instead. To use it run `pip install -U :class:`~langchain-chroma` and import as `from :class:`~langchain_chroma import Chroma``.\n",
      "  db = Chroma(persist_directory=CHROMA_PATH, embedding_function=OpenAIEmbeddings(api_key=openAI_key))\n"
     ]
    },
    {
     "name": "stdout",
     "output_type": "stream",
     "text": [
      "Number of sources in DB: 2\n",
      "\n",
      "Sources:\n",
      " ['data/scenario texts\\\\socially assistive robot.pdf', 'data/scenario texts\\\\rescue robot.pdf']\n",
      "\n",
      "Cleaned sources:\n",
      " ['socially assistive robot.pdf', 'rescue robot.pdf']\n"
     ]
    }
   ],
   "source": [
    "path_to_Chroma = os.path.join('DB_Chroma')  # Moves one level up to 'PDFs' folder\n",
    "\n",
    "sources_DB = di_drg.inspect_chrom(CHROMA_PATH=path_to_Chroma, openAI_key=key.openAI_key)\n",
    "print(\"Number of sources in DB:\", len(sources_DB))\n",
    "print(\"\\nSources:\\n\", sources_DB)\n",
    "\n",
    "# Remove the \"PDFs\\\\\" prefix from all entries\n",
    "cleaned_sources_DB = [pdf.replace('PDFs\\\\', '').replace('data/scenario texts\\\\', '') for pdf in sources_DB]\n",
    "\n",
    "# Print the result\n",
    "print(\"\\nCleaned sources:\\n\", cleaned_sources_DB)"
   ]
  },
  {
   "cell_type": "code",
   "execution_count": 7,
   "metadata": {},
   "outputs": [],
   "source": [
    "# if you want to remove your DB:\n",
    "## di_drg.remove_chrom(CHROMA_PATH=path_to_Chroma)\n",
    "\n",
    "# pdf_chunks is a dictionary as such we can run over the keys:\n",
    "for pdf in pdf_chunks.keys():\n",
    "    if pdf not in cleaned_sources_DB:\n",
    "        print(f\"The PDF '{pdf}' is not included in the DB, as such:\")\n",
    "        print(\"create DB for\", pdf)\n",
    "        di_drg.save_to_chrom(chunks=pdf_chunks[pdf], CHROMA_PATH=path_to_Chroma, openAI_key=key.openAI_key)"
   ]
  },
  {
   "cell_type": "code",
   "execution_count": 8,
   "metadata": {},
   "outputs": [
    {
     "name": "stdout",
     "output_type": "stream",
     "text": [
      "Number of sources in DB: 2\n",
      "\n",
      "Sources:\n",
      " ['data/scenario texts\\\\socially assistive robot.pdf', 'data/scenario texts\\\\rescue robot.pdf']\n"
     ]
    }
   ],
   "source": [
    "sources_DB = di_drg.inspect_chrom(CHROMA_PATH=path_to_Chroma, openAI_key=key.openAI_key)\n",
    "print(\"Number of sources in DB:\", len(sources_DB))\n",
    "print(\"\\nSources:\\n\", sources_DB)"
   ]
  },
  {
   "cell_type": "markdown",
   "metadata": {},
   "source": [
    "## Data Retrieval and Generation\n",
    "\n",
    "your prompt template (system message):"
   ]
  },
  {
   "cell_type": "code",
   "execution_count": 9,
   "metadata": {},
   "outputs": [],
   "source": [
    "PROMPT_TEMPLATE = \"\"\"\n",
    "    \"You are an assistant for question-answering tasks. \"\n",
    "    \"Use the following pieces of retrieved context to answer \"\n",
    "    \"the question. If you don't know the answer, say that you \"\n",
    "    \"don't know. Use three sentences maximum and keep the \"\n",
    "    \"answer concise.\"\n",
    "    \"\\n\\n\"\n",
    "    \"{context}\"\n",
    "\n",
    "---\n",
    "\n",
    "Answer the question based on the above context: {question}\n",
    "\"\"\""
   ]
  },
  {
   "cell_type": "code",
   "execution_count": 10,
   "metadata": {},
   "outputs": [],
   "source": [
    "# Question query 2\n",
    "question = \"\"\"\n",
    "What are the advantages of soft robots?\n",
    "\"\"\""
   ]
  },
  {
   "cell_type": "code",
   "execution_count": 11,
   "metadata": {},
   "outputs": [
    {
     "name": "stderr",
     "output_type": "stream",
     "text": [
      "Number of requested results 150 is greater than number of elements in index 31, updating n_results = 31\n"
     ]
    },
    {
     "name": "stdout",
     "output_type": "stream",
     "text": [
      "Number of possible relevant text chunks found with a threshold similarity of 0.8: 11\n",
      "Query: Human: \n",
      "    \"You are an assistant for question-answering tasks. \"\n",
      "    \"Use the following pieces of retrieved context to answer \"\n",
      "    \"the question. If you don't know the answer, say that you \"\n",
      "    \"don't know. Use three sentences maximum and keep the \"\n",
      "    \"answer concise.\"\n",
      "    \"\n",
      "\n",
      "\"\n",
      "    \"precision and accuracy  \n",
      "●  Autonomous  rescue capabilities, allowing robots to carry and transport \n",
      "victims to safety   \n",
      "Possible risks of soft robots for search and rescue missions might be:  \n",
      "●  Algorithms guiding soft robots may be biased, leading to unfair or \n",
      "discriminatory outcomes, regarding  (i) where to concentrate rescue efforts, (ii) \n",
      "whom to search for first, (iii) who should be given priority treatment, (iv) who \n",
      "must be left to wait\n",
      "\n",
      "---\n",
      "\n",
      "––––––––––––  Third  Page in Experiment (Intervention) ––––––––––––   \n",
      "Given the information on soft robots, we invite you to adjust your CAM regarding the \n",
      "risks and benefits of utilizing soft robots for search and rescue missions . We are \n",
      "interested in knowing if the softness or rigidity of a robot influences your evaluation of \n",
      "its suitability for search and rescue missions, based on the information available on \n",
      "soft robots.\n",
      "\n",
      "---\n",
      "\n",
      "––––––––––––  Third  Page in Experiment (Intervention) ––––––––––––   \n",
      "Given the information on soft robots, we invite you to adjust your CAM regarding the \n",
      "risks and benefits of utilizing socially assistive soft robots (SASR). We are interested \n",
      "in knowing if the softness or rigidity of a robot influences your evaluation of its \n",
      "suitability for socially assistive tasks, based on the information available on soft \n",
      "robots.\n",
      "\n",
      "---\n",
      "\n",
      "must be left to wait  \n",
      "●  The soft and  adaptable nature of soft robots could potentially create \n",
      "challenges in ensuring the safety and reliability of the robot in hazardous \n",
      "environments  \n",
      "●  Rescue robots could be misused, particularly in conflict zones for activities \n",
      "such as bomb deployment\n",
      "\n",
      "---\n",
      "\n",
      "Soft robots are designed to mimic the properties of living entities such as animals. \n",
      "Unlike rigid robots, which are typically composed of hard materials like metal or hard \n",
      "plastic, soft robots do not have electronic devices in themselves and are made of \n",
      "flexible soft materials like silicone, making them more adaptable and lifelike. They \n",
      "often have natural shapes and can bend, twist, and stretch like living organisms, such\n",
      "\n",
      "---\n",
      "\n",
      "––––––––––––  Second  Page in Experiment (Intervention) ––––––––––––   \n",
      "Soft Robots for Search and Rescue Missions  \n",
      "Benefits of soft robots for search and rescue missions might be:  \n",
      "●  Access to areas unreachable or too dangerous for human rescuers  \n",
      "●  Delivery  of essential supplies (water, food, medicine) until victims are safely  \n",
      "extracted  \n",
      "●  Reduced risk of injury to victims due to their flexibility and adaptability\n",
      "\n",
      "---\n",
      "\n",
      "for individuals with autism, assisting them to recognize and understand \n",
      "emotions in others, which can enhance interpersonal communication skills  \n",
      "●  Less likely to cause injury during physic al interactions because of their \n",
      "softness  \n",
      " \n",
      "Possible risks of socially assistive soft robots (SASR) might be:  \n",
      "●  Users may become overly reliant on the robot for emotional support or \n",
      "companionship, potentially reducing their engagement with human social \n",
      "networks\n",
      "\n",
      "---\n",
      "\n",
      "to mimic the properties of living entities such as animals. Unlike normal robots, which \n",
      "are typically composed of hard materials like metal or hard -plastic, soft robots do not \n",
      "have electronic devices in them and are made of flexible, soft materials like silicone. \n",
      "They often have natural shapes and can bend, twist, and stretch like living \n",
      "organis ms, such as snakes or octopi. Designed with inspiration from living entities,\n",
      "\n",
      "---\n",
      "\n",
      "–––––––––––––  First Page in Experiment (Intervention) ––––––––––––   \n",
      "Please read the following information on soft robots carefully. \n",
      "Afterwards we will ask you to adjust your CAM.  \n",
      "Currently, there is a trend towards using a new type of so -called soft robots as \n",
      "socially assistive robots for therapy, elderly care, education or as social companions. \n",
      "Soft robots are designed to mimic the properties of living entities such as animals.\n",
      "\n",
      "---\n",
      "\n",
      "often have natural shapes and can bend, twist, and stretch like living organisms, such \n",
      "as snakes or octopi. Designed with inspiration from living entities, these soft robots \n",
      "often look and feel more lifelike than rigid robots.  \n",
      "Furthermore, soft robots have the ability to express and perceive human emotions, \n",
      "communicate through expressions such as gaze and gestures, and offer a life -like \n",
      "experience due to their softness and flexibility. F or example, Paro, a robot for animal\"\n",
      "\n",
      "---\n",
      "\n",
      "Answer the question based on the above context: \n",
      "What are the advantages of soft robots?\n",
      "\n",
      " \n",
      "\n",
      "\n"
     ]
    },
    {
     "name": "stderr",
     "output_type": "stream",
     "text": [
      "c:\\DATEN\\PHD\\Article_SoftRobotIntervention\\Analyses\\main study - LLM\\src\\forChromaApproach.py:147: LangChainDeprecationWarning: The method `BaseChatModel.predict` was deprecated in langchain-core 0.1.7 and will be removed in 1.0. Use :meth:`~invoke` instead.\n",
      "  response_text = model.predict(prompt)\n"
     ]
    }
   ],
   "source": [
    "response, source_page_pairs, filtered_hits, all_hits = di_drg.retrieveGenerate(query_text=question, prompt_template=PROMPT_TEMPLATE, openAI_key=key.openAI_key, chroma_path=path_to_Chroma, \n",
    "                                                                            docsReturn=10, thresholdSimilarity=0.8)"
   ]
  },
  {
   "cell_type": "code",
   "execution_count": 12,
   "metadata": {},
   "outputs": [
    {
     "name": "stdout",
     "output_type": "stream",
     "text": [
      "The advantages of soft robots include access to unreachable or dangerous areas for human rescuers, delivery of essential supplies to victims, and reduced risk of injury due to their flexibility and adaptability. Soft robots are also designed to mimic living entities, making them more adaptable and lifelike compared to rigid robots. Additionally, they can assist individuals with autism in recognizing and understanding emotions, enhancing interpersonal communication skills.\n"
     ]
    }
   ],
   "source": [
    "print(response)"
   ]
  },
  {
   "cell_type": "code",
   "execution_count": 13,
   "metadata": {},
   "outputs": [
    {
     "name": "stdout",
     "output_type": "stream",
     "text": [
      "[('data/scenario texts\\\\rescue robot.pdf', 1), ('data/scenario texts\\\\rescue robot.pdf', 5), ('data/scenario texts\\\\socially assistive robot.pdf', 5), ('data/scenario texts\\\\rescue robot.pdf', 4), ('data/scenario texts\\\\socially assistive robot.pdf', 3), ('data/scenario texts\\\\rescue robot.pdf', 4), ('data/scenario texts\\\\socially assistive robot.pdf', 4), ('data/scenario texts\\\\rescue robot.pdf', 3), ('data/scenario texts\\\\socially assistive robot.pdf', 3), ('data/scenario texts\\\\socially assistive robot.pdf', 3)]\n"
     ]
    }
   ],
   "source": [
    "print(source_page_pairs)"
   ]
  },
  {
   "cell_type": "code",
   "execution_count": 14,
   "metadata": {},
   "outputs": [
    {
     "name": "stdout",
     "output_type": "stream",
     "text": [
      "11\n",
      "(Document(metadata={'page': 4, 'source': 'data/scenario texts\\\\rescue robot.pdf'}, page_content='––––––––––––  Second  Page in Experiment (Intervention) ––––––––––––   \\nSoft Robots for Search and Rescue Missions  \\nBenefits of soft robots for search and rescue missions might be:  \\n●  Access to areas unreachable or too dangerous for human rescuers  \\n●  Delivery  of essential supplies (water, food, medicine) until victims are safely  \\nextracted  \\n●  Reduced risk of injury to victims due to their flexibility and adaptability'), 0.8405289303258905)\n"
     ]
    }
   ],
   "source": [
    "print(len(all_hits))\n",
    "print(all_hits[0])"
   ]
  },
  {
   "cell_type": "markdown",
   "metadata": {},
   "source": [
    "# Summarizing Data\n",
    "- for A, B graph\n",
    "- for category specific graph\n",
    "\n",
    "\n",
    "## Load .xlsx files (lists of words)\n",
    "\n",
    "* rescue robot_multipleSheets\n",
    "* socially assistive robot_multipleSheets\n",
    "* rescue robot_socially assistive robot_multipleSheets\n",
    "\n",
    "> there are seperate columns for new (added concepts), deleted (deleted concepts), constant (not changed concepts)\n"
   ]
  },
  {
   "cell_type": "code",
   "execution_count": 15,
   "metadata": {},
   "outputs": [
    {
     "name": "stdout",
     "output_type": "stream",
     "text": [
      "c:\\DATEN\\PHD\\Article_SoftRobotIntervention\\Analyses\\main study - LLM\n"
     ]
    }
   ],
   "source": [
    "## set working environment\n",
    "#> Get the current working directory\n",
    "print(os.getcwd())\n",
    "directory = os.getcwd()"
   ]
  },
  {
   "cell_type": "code",
   "execution_count": 16,
   "metadata": {},
   "outputs": [
    {
     "name": "stdout",
     "output_type": "stream",
     "text": [
      "Sheet names combined: ['RCPP', 'LC', 'T', 'SIP', 'HRIP', 'AN', 'SIN', 'R', 'HC', 'RCN', 'SA', 'TP', 'TL', 'RCPN', 'HRIN', 'MT', 'RCA', 'AP']\n",
      "Sheet names RR: ['RCPP', 'LC', 'T', 'SIP', 'HRIP', 'AN', 'SIN', 'R', 'HC', 'RCN', 'SA', 'TP', 'TL', 'RCPN', 'HRIN', 'MT', 'RCA', 'AP']\n",
      "Sheet names SAR: ['RCPP', 'LC', 'T', 'SIP', 'HRIP', 'AN', 'SIN', 'R', 'HC', 'RCN', 'SA', 'TP', 'TL', 'RCPN', 'HRIN', 'MT', 'RCA', 'AP']\n"
     ]
    }
   ],
   "source": [
    "import pandas as pd\n",
    "\n",
    "## Load the xlsx file of the rescue robot and the socially assistive robot combined\n",
    "# Path to your Excel file\n",
    "file_path = directory + \"/data/\" + \"rescue robot_social assistance robot_multipleSheets_new\" + \".xlsx\"\n",
    "# Load the Excel file\n",
    "excel_data = pd.ExcelFile(file_path)\n",
    "# Print the sheet names\n",
    "print(\"Sheet names combined:\", excel_data.sheet_names)\n",
    "# Load all sheets into a dictionary of dataframes\n",
    "all_sheets_Combined = {sheet_name: excel_data.parse(sheet_name) for sheet_name in excel_data.sheet_names}\n",
    "\n",
    "\n",
    "\n",
    "## Load the xlsx file of the rescue robot and the socially assistive robot combined\n",
    "# Path to your Excel file\n",
    "file_path = directory + \"/data/\" + \"rescue robot_multipleSheets_new\" + \".xlsx\"\n",
    "# Load the Excel file\n",
    "excel_data = pd.ExcelFile(file_path)\n",
    "# Print the sheet names\n",
    "print(\"Sheet names RR:\", excel_data.sheet_names)\n",
    "# Load all sheets into a dictionary of dataframes\n",
    "all_sheets_RR = {sheet_name: excel_data.parse(sheet_name) for sheet_name in excel_data.sheet_names}\n",
    "\n",
    "## Load the xlsx file of the rescue robot and the socially assistive robot combined\n",
    "# Path to your Excel file\n",
    "file_path = directory + \"/data/\" + \"social assistance robot_multipleSheets_new\" + \".xlsx\"\n",
    "# Load the Excel file\n",
    "excel_data = pd.ExcelFile(file_path)\n",
    "# Print the sheet names\n",
    "print(\"Sheet names SAR:\", excel_data.sheet_names)\n",
    "# Load all sheets into a dictionary of dataframes\n",
    "all_sheets_SAR = {sheet_name: excel_data.parse(sheet_name) for sheet_name in excel_data.sheet_names}"
   ]
  },
  {
   "cell_type": "markdown",
   "metadata": {},
   "source": [
    "## Additional dictonaries to provide LLM context"
   ]
  },
  {
   "cell_type": "code",
   "execution_count": 17,
   "metadata": {},
   "outputs": [
    {
     "name": "stdout",
     "output_type": "stream",
     "text": [
      "{'RCPP': 'perceived positive usefulness (rest category, refers to a classification of arguments that do not fit into any of the predefined categories)', 'LC': 'perceived low costs', 'T': 'perceived trust', 'SIP': 'perceived positive social impact', 'HRIP': 'perceived positive Human-Robot-Interaction', 'AN': 'perceived negative anthropomorphism', 'SIN': 'perceived positive social impact', 'R': 'perceived risks', 'HC': 'perceived high costs', 'RCN': 'neutral rest category (rest category refers to a classification of arguments that do not fit into any of the predefined categories)', 'SA': 'perceived safety', 'TP': 'perceived technological possibilities', 'TL': 'perceived technological limitations', 'RCPN': 'perceived negative usefulness (rest category, refers to a classification of arguments that do not fit into any of the predefined categories)', 'HRIN': 'perceived negative Human-Robot-Interaction', 'MT': 'perceived mistrust', 'RCA': 'ambivalent rest category (rest category refers to a classification of arguments that do not fit into any of the predefined categories)', 'AP': 'perceived positive anthropomorphism'}\n",
      "dict_keys(['RCPP', 'LC', 'T', 'SIP', 'HRIP', 'AN', 'SIN', 'R', 'HC', 'RCN', 'SA', 'TP', 'TL', 'RCPN', 'HRIN', 'MT', 'RCA', 'AP'])\n",
      "perceived negative anthropomorphism\n"
     ]
    }
   ],
   "source": [
    "abbreviations_dict = {\n",
    "    'RCPP': 'perceived positive usefulness (rest category, refers to a classification of arguments that do not fit into any of the predefined categories)',\n",
    "    'LC': 'perceived low costs',\n",
    "    'T': 'perceived trust',\n",
    "    'SIP': 'perceived positive social impact',\n",
    "    'HRIP': 'perceived positive Human-Robot-Interaction',\n",
    "    'AN': 'perceived negative anthropomorphism',\n",
    "    'SIN': 'perceived positive social impact',\n",
    "    'R': 'perceived risks',\n",
    "    'HC': 'perceived high costs',\n",
    "    'RCN': 'neutral rest category (rest category refers to a classification of arguments that do not fit into any of the predefined categories)',\n",
    "    'SA': 'perceived safety',\n",
    "    'TP': 'perceived technological possibilities',\n",
    "    'TL': 'perceived technological limitations',\n",
    "    'RCPN': 'perceived negative usefulness (rest category, refers to a classification of arguments that do not fit into any of the predefined categories)',\n",
    "    'HRIN': 'perceived negative Human-Robot-Interaction',\n",
    "    'MT': 'perceived mistrust',\n",
    "    'RCA': 'ambivalent rest category (rest category refers to a classification of arguments that do not fit into any of the predefined categories)',\n",
    "    'AP': 'perceived positive anthropomorphism'\n",
    "}\n",
    "\n",
    "print(abbreviations_dict)\n",
    "print(abbreviations_dict.keys())\n",
    "print(abbreviations_dict['AN'])"
   ]
  },
  {
   "cell_type": "markdown",
   "metadata": {},
   "source": [
    "keep only subset of list (which have meaningfull differences):"
   ]
  },
  {
   "cell_type": "code",
   "execution_count": 18,
   "metadata": {},
   "outputs": [
    {
     "name": "stdout",
     "output_type": "stream",
     "text": [
      "{'TP': 'perceived technological possibilities', 'TL': 'perceived technological limitations', 'SA': 'perceived safety', 'R': 'perceived risks', 'HRIP': 'perceived positive Human-Robot-Interaction', 'HRIN': 'perceived negative Human-Robot-Interaction', 'AP': 'perceived positive anthropomorphism', 'AN': 'perceived negative anthropomorphism'}\n"
     ]
    }
   ],
   "source": [
    "# Keys to keep\n",
    "keys_to_keep = ['TP', 'TL', 'SA', 'R', 'HRIP', 'HRIN', 'AP', 'AN']\n",
    "\n",
    "# Filter the dictionary\n",
    "abbreviations_dict = {key: abbreviations_dict[key] for key in keys_to_keep}\n",
    "\n",
    "# Display the filtered dictionary\n",
    "print(abbreviations_dict)"
   ]
  },
  {
   "cell_type": "markdown",
   "metadata": {},
   "source": [
    "Use dictionaries to map each word to its comment:"
   ]
  },
  {
   "cell_type": "code",
   "execution_count": 19,
   "metadata": {},
   "outputs": [
    {
     "name": "stdout",
     "output_type": "stream",
     "text": [
      "{'a': ['comment1', 'comment3'], 'b': ['comment2', 'comment5'], 'c': ['comment4']}\n"
     ]
    }
   ],
   "source": [
    "import numpy as np\n",
    "\n",
    "def create_multivalue_dict(df, key_col, value_col):\n",
    "    \"\"\"\n",
    "    Create a dictionary from a DataFrame where each key maps to a list of values.\n",
    "    \n",
    "    Parameters:\n",
    "    df (pd.DataFrame): The input DataFrame.\n",
    "    key_col (str): The column name to be used as keys.\n",
    "    value_col (str): The column name to be used as values.\n",
    "    \n",
    "    Returns:\n",
    "    dict: A dictionary where each key maps to a list of values.\n",
    "    \"\"\"\n",
    "    # Remove rows with NaN in the key columns\n",
    "    df = df.dropna(subset=[key_col])\n",
    "\n",
    "    # Create a dictionary to map items to their comments, allowing for multiple comments per key\n",
    "    multivalue_dict = {}\n",
    "    for key, value in zip(df[key_col], df[value_col]):\n",
    "        if key in multivalue_dict:\n",
    "            multivalue_dict[key].append(value)\n",
    "        else:\n",
    "            multivalue_dict[key] = [value]\n",
    "\n",
    "    return multivalue_dict\n",
    "\n",
    "# Example usage\n",
    "data = {\n",
    "    'constant': ['a', 'b', 'a', 'c', 'b', np.nan],\n",
    "    'constant_comments': ['comment1', 'comment2', 'comment3', 'comment4', 'comment5', 'comment6']\n",
    "}\n",
    "df = pd.DataFrame(data)\n",
    "\n",
    "df_mapping = create_multivalue_dict(df, 'constant', 'constant_comments')\n",
    "print(df_mapping)\n"
   ]
  },
  {
   "cell_type": "markdown",
   "metadata": {},
   "source": [
    "test create_multivalue_dict() function:"
   ]
  },
  {
   "cell_type": "code",
   "execution_count": 20,
   "metadata": {},
   "outputs": [],
   "source": [
    "sheet_name = \"SA\""
   ]
  },
  {
   "cell_type": "code",
   "execution_count": 21,
   "metadata": {},
   "outputs": [
    {
     "name": "stdout",
     "output_type": "stream",
     "text": [
      "mapping constant x comments: {'quick hygienic help': [nan], 'efficient': ['Work on statistics can be made more efficient through probabilities.', nan, nan, nan], 'safety': ['Prevents people from having to work under difficult or dangerous conditions to increase safety.', 'Enables deployment in difficult situations where human rescuers would put themselves in danger', nan, nan, nan, 'through reliability', 'No people are being put in danger'], 'remote control': ['Can be operated by experts via remote control or autonomous systems to perform operations from a safe distance.', nan, nan, nan, nan, 'Minimizes risks associated with autonomy'], 'speed and efficiency': ['Robots can often act faster than humans and increase the speed of emergency interventions', 'Improvement of speed and efficiency of rescue operations', nan], 'safe': ['People do not have to put themselves in dangerous situations'], 'reliable': ['Can be precisely controlled', nan, nan, nan, nan], 'health monitoring': [nan, 'People no longer necessarily need an emergency button if an external system can watch over them and summon help when in doubt.'], 'Precise execution': ['Robots perform tasks purposefully'], 'Ability to learn': ['The robots are learning and being further developed, making them more efficient'], 'no people necessary': [nan], 'stronger than humans': [nan, 'In many situations, e.g. when clearing rubble, a great advantage.', nan, nan], 'faster than humans': [nan, nan], 'precise handling': [nan], 'reliability': [nan, 'Machines can accomplish their tasks reliably and reproducibly (provided they are well programmed and built)', nan, nan, nan], 'always correct': [nan], 'protection of rescue forces': ['for example in contamination scenarios', 'Reduced deployment of human rescue forces in dangerous situations', nan, 'human rescuers do not have to put themselves in danger'], 'in danger zones': [nan], 'toxic places': ['Places where people can only breathe with special equipment (gas mask)'], 'no distraction': [nan], 'by injuries': [nan], 'consistent': [nan], 'consistent performance': [nan], 'emergency monitoring': ['Depending on how a robot is equipped, it could respond very quickly in an emergency, faster than a human.'], 'more strong': [nan], 'without basic need': ['Water, sleep, food etc.'], 'faster intervention': [nan], 'area of application': ['Can be used in areas too dangerous for humans', 'Can be used in areas that are too dangerous for humans.'], 'reaching hard-to-access places': ['Robots and drones are small and agile. Therefore, they can reach places that are difficult or even dangerous for humans to reach.'], 'discover dangerous areas': [nan], 'quick processing': [nan], 'care of people': [nan], 'perform operations': ['disease'], 'enter dangerous situation': [nan], 'No illness': ['Robots do not get infected, they do not spread diseases, and they do not get sick.'], 'less risk': [nan, 'Specifically less risk to further human lives, as rescue teams can use robots'], 'efficiency in search': [nan], 'no fatigue': [nan, 'Unlike human rescuers, robots do not tire even during long operations'], 'cover dangerous areas': ['even where it is dangerous for humans, a robot can go there'], 'precision & accuracy': [nan], 'no human errors': [nan], 'more attentive': [nan], 'use in dangerous situations': ['Rescue robots can be used in dangerous situations where humans are exposed to too high a risk.'], 'can act quickly': ['Robots can intervene quickly, as they do not need to be dressed or prepared and are autonomous', 'The robots can act faster than a human in an emergency.'], 'No exhaustion': [nan], 'Range': ['Robots, again just the drone can rescue victims faster in difficult terrain or bring help, e.g. medicine, food'], 'accessibility of inaccessible places': [nan], 'improved approach': [nan], 'precise work': [nan], 'rescue of people': [nan], 'deployment possibility': ['Also possible under dangerous conditions'], 'replaceable': ['In case of loss, no human sacrifice', 'During operations, unlike human rescuers, there is no need to pay attention to the safety of the robots, as they can be easily replaced.'], 'unrestricted access': ['Robots can operate in environments that would be toxic to humans, e.g. areas contaminated with radiation.'], 'sparing human life': ['If robots are used instead of human rescuers, the lives and health of the rescuers do not have to be put at risk.'], 'reduced risk': ['By using robots, no human forces are exposed to dangerous situations'], 'precision': [nan], 'more targeted help': [nan], 'saves lives': ['For example, when human helpers are not available, a rescue robot can still save human lives.', 'send a robot into a danger zone instead of a human', nan], 'protects aid workers': ['Since employees are not unnecessarily exposed to dangers, strictly speaking, this also saves their lives.'], 'fewer mistakes': [nan], 'overall more productive': [nan], 'greater accuracy': [nan], 'usable in emergencies': ['To inspect debris more accurately'], 'protection of rescue personnel': [nan], 'accessibility of places': ['Accessibility difficult to reach'], 'increased efficiency': [nan], 'faster recovery': ['One could send robots into the fire without danger to human lives, etc, to combat the cause more quickly.'], 'weather independent': ['Even in storms etc., perhaps an option for critical tasks'], 'safety for emergency personnel': [nan], 'strength (power)': ['for example, for lifting debris parts'], 'quick action': [nan], 'no danger': ['For human rescue forces in action', 'No human doctor etc. needs to enter the operating area and thus it is significantly safer and therefore protects human lives.'], 'efficiency': [nan, 'Robots could be more capable in disaster cases than human helpers.', nan, 'Robots are not limited to human speed, vision, and perception in general.', nan, 'both equally fast work, more productive way of working as well as improved access to danger zones', nan], 'access to areas': ['Access to areas difficult or only reachable through considerable dangers for people'], 'vital objects': ['Victims receive vitally important things, such as water, food, and medicine'], 'rescue forces safety': ['Emergency services can avoid dangers if, for example, pictures of the location were taken by robots.'], 'more/ easier access': ['Robots can create (easier) access to places where it would otherwise be more difficult.'], 'reduce number of victims': ['Robots could make rescue operations more efficient and faster, potentially saving more victims.'], 'no life endangered': [nan], 'can save lives': [nan, nan], 'not emotionally driven': [nan], 'focused': [nan], 'exclusion of human error': [nan], 'flexible': ['The robot could operate in dangerous areas and is therefore not limited.'], 'stronger than human': ['Specially equipped machines could help trapped victims quicker and more efficiently.'], 'chances of success': ['A reliable and error-free rescue robot could therefore save people faster and more than a human.'], 'accuracy of execution': [nan], 'enter dangerous areas': [nan], 'do not get distracted': ['Rescue robots follow their programming and can focus better on the rescue without being influenced by emotions.'], 'speed / agility': [nan], 'real-time data': [nan], 'strength': [nan, 'the robot can, for example, move objects that a human could not move'], 'simplified access': [nan], 'quick help': [nan, nan, nan], 'risk-free rescue': ['From the side of the rescuers, who do not have to put themselves in danger'], 'better CPR': [nan], 'life-threatening places': ['The possibility of entering dangerous places that people do not dare to approach, such as wreck parts, battlefields, etc.'], 'more reliable than humans': [nan], 'reach dangerous places': [nan], 'do not get tired': [nan, nan], 'cannot die': [nan], '\"small\" operations': ['Especially good for smaller operations and possibly the transport'], 'toxic environment': [nan], 'safer for humans': [nan, nan], 'dexterity': ['Often higher skill than human rescuers'], 'responsiveness': ['Robots have a significantly higher reaction capability than human rescuers'], 'Accuracy of rescue robots': ['this way human errors can be reduced'], 'quality/precision': [nan], 'quantity': ['more rescue operations or more people saved possible'], 'fewer deaths': [nan], 'faster operation': [nan], 'accuracy': [nan, nan], 'faster help': ['Since the risk to life is lower, rescue workers can send a robot before a complete analysis of the problem area is available.'], 'stronger': ['Robots might potentially be able to move things that humans would have great difficulty with.'], 'Not susceptible to infection': ['Robots are insensitive to infections.'], '24/7 readiness': [nan], 'access to hard-to-reach places': [nan], 'human safety': [nan], 'useful addition': ['To human rescuers.'], '\"dare\" more': ['can also be used in war zones, only material loss through explosives'], 'eyes and ears': ['for the rescue forces from a safe distance'], 'less danger': ['for human rescue forces', nan, nan], 'dangerous areas': [nan, nan], 'endurance': [nan], 'performance': [nan], 'rescue and safety': [nan], 'danger': ['less human danger'], 'no rescuer endangered': [nan], 'access': ['access to areas where people cannot reach'], 'rational efficiency': ['No suicidal experiments in rescue'], 'quick deployment': [nan, nan], 'no exhaustion': [nan], 'save many people': [nan], 'Adaptability': [nan], 'continuous monitoring': [nan], 'not tired': [nan], 'more human rescue': [nan], 'easier finding': ['Through their sensors like thermal imaging, the robots can better find people.'], 'do not lose strength': ['Robots do not lose stamina while humans could lose strength during missions.'], 'delivery of goods': ['Robots can, for example, deliver goods in war zones, which would be dangerous for humans.'], 'faster abolition': ['Rescue robots could shorten the path to doctors/hospitals and the abolition of injured people.'], 'safety risks': [nan], 'can be replaced': ['Robots can be replaced by other robots in case of loss'], 'better search capabilities': ['Robots can search better in the dark and in smoke etc because they have numerous sensors'], 'for danger': ['can be used in times of danger instead of humans'], 'efficient reconnaissance work': ['Through algorithms, maps can be read and created more quickly'], 'rescue efficient and': [nan], 'higher utilization': ['the robots can be used continuously'], 'faster access': ['easier access to dangerous place'], 'error reduction': [nan], 'simplification of difficult situations': ['Many rescue situations prove difficult for people to reach or to intervene, automation can clearly help here.'], 'accessibility of special regions': [nan], 'risk reduction for aid workers': ['Should people go into difficult areas, for example for avalanche rescue, they put themselves in danger'], 'fire department support': [nan], 'risk': ['In dangerous environments or situations, there is of course much less risk for the people'], 'dispensable': ['the loss of a robot is less tragic than the loss of a human rescuer'], 'immune': ['a robot is immune to many dangers that would be deadly for humans such as smoke gases, chemicals, temperatures'], 'protects people': ['No human risks necessary'], 'surpasses human rescuers': ['Can be used in situations where people cannot reach'], 'low risk': [nan], 'safety for rescue workers': [nan], 'access to dangerous area': [nan], 'no performance drop': [nan], 'follows instructions precisely': [nan], 'earthquake rescue': [nan], 'lifting heavy weights': [nan], 'risk minimization': ['Approximately during search actions in risky areas'], 'precision in search': [nan], 'More flexible than human': ['People cannot access some areas or cannot see whether people are still alive. For example, in an earthquake incident under the rubble.'], 'Faster than human': ['In an earthquake, for example, recently in Turkey, the help arrived too late and this led to more loss. Robots would be more flexible and could be used faster, rather than gathering all people together and rushing to help.'], 'Stronger than human': ['As already mentioned, many people lost their lives in the earthquake in Turkey, and this was because human strength was not enough at a certain point. For example, the walls that fell on people could not be lifted, which is why arms and legs had to be cut off. If the robot was there, it could show more strength and lift the wall.'], 'speed': ['the robot can probably save faster than a human'], 'accessibility of contaminated places': ['Poisonous gases, smoke, radiation etc. play no role'], 'can be stronger': [nan], 'can work long': [nan], 'are physically superior': ['Strength, agility, mobility'], 'are mentally superior': ['No trauma for rescuers'], 'use in dangerous areas': [nan], 'use in inaccessibility': [nan], 'accuracy of work': [nan], 'does not risk human lives': [nan]}\n",
      "181\n",
      "mapping new x comments: {'lower risk of injury': [nan, 'through soft robots', nan, 'due to their softness', 'With soft robots', nan, 'Lower risk of injury due to the adaptability of the robot', nan], 'flexible': [nan, nan, nan], 'low risk of injury': [nan, nan, nan, 'Due to the fact that a soft robot is not made of metal, but rather soft, the risk is lower.', nan, 'In comparison to hard plastic/metal', nan, 'with soft robots', 'helping hand'], 'safety': ['Soft material reduces risk of injury'], 'robots are more efficient': [nan], 'knowledge': ['You get the information from the internet and can capture and assign the data faster than humans.', nan], 'less risk of injury': [nan, nan, nan], 'reduction of injury risk': [nan, nan, \"compared to 'soft' rescue robots; valid for hard rescue robots\", nan, nan], 'delivery of supplies': [nan], 'precise work': [nan], 'food/water transport': [nan], 'animal protection': ['Using a soft robot instead of an animal protects the animal from potentially harmful behavior by the owner.'], 'reach the inaccessible': [nan], 'reduce risk of injury': [nan], 'reliable': ['is always ready'], 'direct help': ['through water/food'], 'reduced risk of injury': ['through soft materials', 'the victim due to the organic construction method', nan, nan], 'time savings in emergencies': [nan], 'care of victims': [nan], 'exploration': ['Assess the safety of the dangerous area'], 'supply with food': [nan, nan], 'adaptability': [nan], 'few physical risks': ['e.g. through injuries'], 'accessible tight spaces': ['Due to their flexibility, they can access narrow spaces that are not accessible to people.'], 'decision-making options': ['in theory, a robot should be able to make a logical decision better than a human because emotions etc. cannot cloud a decision'], 'injury prevention': [nan], 'more people saved': [nan], 'low risks': ['Soft robots pose only a low risk to the victims due to their flexibility.'], 'life-threatening places': [nan], 'vital help': [nan], 'more flexible than humans': [nan], 'fast': ['faster than a human to distribute aid supplies.'], 'Adaptability': [nan], 'camera images': ['To perform an image analysis in retrospect'], 'human error susceptibility': [nan], 'medication supply': [nan], 'inaccessible areas': [nan]}\n",
      "37\n",
      "mapping deleted x comments: {'faster': ['Works faster'], 'precise work possible': [nan], 'higher precision': [nan], 'safety': [nan], 'efficiency': [nan], 'save more people': [nan]}\n",
      "6\n"
     ]
    }
   ],
   "source": [
    "# Remove rows with NaN in the key columns as they cannot be used as dictionary keys\n",
    "#> not sensitive to multiple identical keys: dict(zip(df['constant'], df['constant_comments']))\n",
    "df = all_sheets_Combined[sheet_name]\n",
    "\n",
    "constant_comments_mapping = create_multivalue_dict(df, 'constant', 'constant_comments')\n",
    "print(\"mapping constant x comments:\", constant_comments_mapping)\n",
    "print(len(constant_comments_mapping))\n",
    "\n",
    "new_comments_mapping = create_multivalue_dict(df, 'new', 'new_comments')\n",
    "print(\"mapping new x comments:\", new_comments_mapping)\n",
    "print(len(new_comments_mapping))\n",
    "\n",
    "deleted_comments_mapping = create_multivalue_dict(df, 'deleted', 'deleted_comments')\n",
    "print(\"mapping deleted x comments:\", deleted_comments_mapping)\n",
    "print(len(deleted_comments_mapping))"
   ]
  },
  {
   "cell_type": "code",
   "execution_count": 22,
   "metadata": {},
   "outputs": [],
   "source": [
    "def combine_dicts(dict1, dict2):\n",
    "    \"\"\"\n",
    "    Combine two dictionaries where each key maps to a list of values.\n",
    "    \n",
    "    Parameters:\n",
    "    dict1 (dict): The first dictionary.\n",
    "    dict2 (dict): The second dictionary.\n",
    "    \n",
    "    Returns:\n",
    "    dict: A combined dictionary where each key maps to a concatenated list of values.\n",
    "    \"\"\"\n",
    "    combined_dict = dict1.copy()\n",
    "    for key, values in dict2.items():\n",
    "        if key in combined_dict:\n",
    "            combined_dict[key].extend(values)\n",
    "        else:\n",
    "            combined_dict[key] = values\n",
    "    return combined_dict"
   ]
  },
  {
   "cell_type": "markdown",
   "metadata": {},
   "source": [
    "test combine_dicts() function:"
   ]
  },
  {
   "cell_type": "code",
   "execution_count": 23,
   "metadata": {},
   "outputs": [
    {
     "name": "stdout",
     "output_type": "stream",
     "text": [
      "mapping constant, new x comments: {'quick hygienic help': [nan], 'efficient': ['Work on statistics can be made more efficient through probabilities.', nan, nan, nan], 'safety': ['Prevents people from having to work under difficult or dangerous conditions to increase safety.', 'Enables deployment in difficult situations where human rescuers would put themselves in danger', nan, nan, nan, 'through reliability', 'No people are being put in danger', 'Soft material reduces risk of injury'], 'remote control': ['Can be operated by experts via remote control or autonomous systems to perform operations from a safe distance.', nan, nan, nan, nan, 'Minimizes risks associated with autonomy'], 'speed and efficiency': ['Robots can often act faster than humans and increase the speed of emergency interventions', 'Improvement of speed and efficiency of rescue operations', nan], 'safe': ['People do not have to put themselves in dangerous situations'], 'reliable': ['Can be precisely controlled', nan, nan, nan, nan, 'is always ready'], 'health monitoring': [nan, 'People no longer necessarily need an emergency button if an external system can watch over them and summon help when in doubt.'], 'Precise execution': ['Robots perform tasks purposefully'], 'Ability to learn': ['The robots are learning and being further developed, making them more efficient'], 'no people necessary': [nan], 'stronger than humans': [nan, 'In many situations, e.g. when clearing rubble, a great advantage.', nan, nan], 'faster than humans': [nan, nan], 'precise handling': [nan], 'reliability': [nan, 'Machines can accomplish their tasks reliably and reproducibly (provided they are well programmed and built)', nan, nan, nan], 'always correct': [nan], 'protection of rescue forces': ['for example in contamination scenarios', 'Reduced deployment of human rescue forces in dangerous situations', nan, 'human rescuers do not have to put themselves in danger'], 'in danger zones': [nan], 'toxic places': ['Places where people can only breathe with special equipment (gas mask)'], 'no distraction': [nan], 'by injuries': [nan], 'consistent': [nan], 'consistent performance': [nan], 'emergency monitoring': ['Depending on how a robot is equipped, it could respond very quickly in an emergency, faster than a human.'], 'more strong': [nan], 'without basic need': ['Water, sleep, food etc.'], 'faster intervention': [nan], 'area of application': ['Can be used in areas too dangerous for humans', 'Can be used in areas that are too dangerous for humans.'], 'reaching hard-to-access places': ['Robots and drones are small and agile. Therefore, they can reach places that are difficult or even dangerous for humans to reach.'], 'discover dangerous areas': [nan], 'quick processing': [nan], 'care of people': [nan], 'perform operations': ['disease'], 'enter dangerous situation': [nan], 'No illness': ['Robots do not get infected, they do not spread diseases, and they do not get sick.'], 'less risk': [nan, 'Specifically less risk to further human lives, as rescue teams can use robots'], 'efficiency in search': [nan], 'no fatigue': [nan, 'Unlike human rescuers, robots do not tire even during long operations'], 'cover dangerous areas': ['even where it is dangerous for humans, a robot can go there'], 'precision & accuracy': [nan], 'no human errors': [nan], 'more attentive': [nan], 'use in dangerous situations': ['Rescue robots can be used in dangerous situations where humans are exposed to too high a risk.'], 'can act quickly': ['Robots can intervene quickly, as they do not need to be dressed or prepared and are autonomous', 'The robots can act faster than a human in an emergency.'], 'No exhaustion': [nan], 'Range': ['Robots, again just the drone can rescue victims faster in difficult terrain or bring help, e.g. medicine, food'], 'accessibility of inaccessible places': [nan], 'improved approach': [nan], 'precise work': [nan, nan], 'rescue of people': [nan], 'deployment possibility': ['Also possible under dangerous conditions'], 'replaceable': ['In case of loss, no human sacrifice', 'During operations, unlike human rescuers, there is no need to pay attention to the safety of the robots, as they can be easily replaced.'], 'unrestricted access': ['Robots can operate in environments that would be toxic to humans, e.g. areas contaminated with radiation.'], 'sparing human life': ['If robots are used instead of human rescuers, the lives and health of the rescuers do not have to be put at risk.'], 'reduced risk': ['By using robots, no human forces are exposed to dangerous situations'], 'precision': [nan], 'more targeted help': [nan], 'saves lives': ['For example, when human helpers are not available, a rescue robot can still save human lives.', 'send a robot into a danger zone instead of a human', nan], 'protects aid workers': ['Since employees are not unnecessarily exposed to dangers, strictly speaking, this also saves their lives.'], 'fewer mistakes': [nan], 'overall more productive': [nan], 'greater accuracy': [nan], 'usable in emergencies': ['To inspect debris more accurately'], 'protection of rescue personnel': [nan], 'accessibility of places': ['Accessibility difficult to reach'], 'increased efficiency': [nan], 'faster recovery': ['One could send robots into the fire without danger to human lives, etc, to combat the cause more quickly.'], 'weather independent': ['Even in storms etc., perhaps an option for critical tasks'], 'safety for emergency personnel': [nan], 'strength (power)': ['for example, for lifting debris parts'], 'quick action': [nan], 'no danger': ['For human rescue forces in action', 'No human doctor etc. needs to enter the operating area and thus it is significantly safer and therefore protects human lives.'], 'efficiency': [nan, 'Robots could be more capable in disaster cases than human helpers.', nan, 'Robots are not limited to human speed, vision, and perception in general.', nan, 'both equally fast work, more productive way of working as well as improved access to danger zones', nan], 'access to areas': ['Access to areas difficult or only reachable through considerable dangers for people'], 'vital objects': ['Victims receive vitally important things, such as water, food, and medicine'], 'rescue forces safety': ['Emergency services can avoid dangers if, for example, pictures of the location were taken by robots.'], 'more/ easier access': ['Robots can create (easier) access to places where it would otherwise be more difficult.'], 'reduce number of victims': ['Robots could make rescue operations more efficient and faster, potentially saving more victims.'], 'no life endangered': [nan], 'can save lives': [nan, nan], 'not emotionally driven': [nan], 'focused': [nan], 'exclusion of human error': [nan], 'flexible': ['The robot could operate in dangerous areas and is therefore not limited.', nan, nan, nan], 'stronger than human': ['Specially equipped machines could help trapped victims quicker and more efficiently.'], 'chances of success': ['A reliable and error-free rescue robot could therefore save people faster and more than a human.'], 'accuracy of execution': [nan], 'enter dangerous areas': [nan], 'do not get distracted': ['Rescue robots follow their programming and can focus better on the rescue without being influenced by emotions.'], 'speed / agility': [nan], 'real-time data': [nan], 'strength': [nan, 'the robot can, for example, move objects that a human could not move'], 'simplified access': [nan], 'quick help': [nan, nan, nan], 'risk-free rescue': ['From the side of the rescuers, who do not have to put themselves in danger'], 'better CPR': [nan], 'life-threatening places': ['The possibility of entering dangerous places that people do not dare to approach, such as wreck parts, battlefields, etc.', nan], 'more reliable than humans': [nan], 'reach dangerous places': [nan], 'do not get tired': [nan, nan], 'cannot die': [nan], '\"small\" operations': ['Especially good for smaller operations and possibly the transport'], 'toxic environment': [nan], 'safer for humans': [nan, nan], 'dexterity': ['Often higher skill than human rescuers'], 'responsiveness': ['Robots have a significantly higher reaction capability than human rescuers'], 'Accuracy of rescue robots': ['this way human errors can be reduced'], 'quality/precision': [nan], 'quantity': ['more rescue operations or more people saved possible'], 'fewer deaths': [nan], 'faster operation': [nan], 'accuracy': [nan, nan], 'faster help': ['Since the risk to life is lower, rescue workers can send a robot before a complete analysis of the problem area is available.'], 'stronger': ['Robots might potentially be able to move things that humans would have great difficulty with.'], 'Not susceptible to infection': ['Robots are insensitive to infections.'], '24/7 readiness': [nan], 'access to hard-to-reach places': [nan], 'human safety': [nan], 'useful addition': ['To human rescuers.'], '\"dare\" more': ['can also be used in war zones, only material loss through explosives'], 'eyes and ears': ['for the rescue forces from a safe distance'], 'less danger': ['for human rescue forces', nan, nan], 'dangerous areas': [nan, nan], 'endurance': [nan], 'performance': [nan], 'rescue and safety': [nan], 'danger': ['less human danger'], 'no rescuer endangered': [nan], 'access': ['access to areas where people cannot reach'], 'rational efficiency': ['No suicidal experiments in rescue'], 'quick deployment': [nan, nan], 'no exhaustion': [nan], 'save many people': [nan], 'Adaptability': [nan, nan], 'continuous monitoring': [nan], 'not tired': [nan], 'more human rescue': [nan], 'easier finding': ['Through their sensors like thermal imaging, the robots can better find people.'], 'do not lose strength': ['Robots do not lose stamina while humans could lose strength during missions.'], 'delivery of goods': ['Robots can, for example, deliver goods in war zones, which would be dangerous for humans.'], 'faster abolition': ['Rescue robots could shorten the path to doctors/hospitals and the abolition of injured people.'], 'safety risks': [nan], 'can be replaced': ['Robots can be replaced by other robots in case of loss'], 'better search capabilities': ['Robots can search better in the dark and in smoke etc because they have numerous sensors'], 'for danger': ['can be used in times of danger instead of humans'], 'efficient reconnaissance work': ['Through algorithms, maps can be read and created more quickly'], 'rescue efficient and': [nan], 'higher utilization': ['the robots can be used continuously'], 'faster access': ['easier access to dangerous place'], 'error reduction': [nan], 'simplification of difficult situations': ['Many rescue situations prove difficult for people to reach or to intervene, automation can clearly help here.'], 'accessibility of special regions': [nan], 'risk reduction for aid workers': ['Should people go into difficult areas, for example for avalanche rescue, they put themselves in danger'], 'fire department support': [nan], 'risk': ['In dangerous environments or situations, there is of course much less risk for the people'], 'dispensable': ['the loss of a robot is less tragic than the loss of a human rescuer'], 'immune': ['a robot is immune to many dangers that would be deadly for humans such as smoke gases, chemicals, temperatures'], 'protects people': ['No human risks necessary'], 'surpasses human rescuers': ['Can be used in situations where people cannot reach'], 'low risk': [nan], 'safety for rescue workers': [nan], 'access to dangerous area': [nan], 'no performance drop': [nan], 'follows instructions precisely': [nan], 'earthquake rescue': [nan], 'lifting heavy weights': [nan], 'risk minimization': ['Approximately during search actions in risky areas'], 'precision in search': [nan], 'More flexible than human': ['People cannot access some areas or cannot see whether people are still alive. For example, in an earthquake incident under the rubble.'], 'Faster than human': ['In an earthquake, for example, recently in Turkey, the help arrived too late and this led to more loss. Robots would be more flexible and could be used faster, rather than gathering all people together and rushing to help.'], 'Stronger than human': ['As already mentioned, many people lost their lives in the earthquake in Turkey, and this was because human strength was not enough at a certain point. For example, the walls that fell on people could not be lifted, which is why arms and legs had to be cut off. If the robot was there, it could show more strength and lift the wall.'], 'speed': ['the robot can probably save faster than a human'], 'accessibility of contaminated places': ['Poisonous gases, smoke, radiation etc. play no role'], 'can be stronger': [nan], 'can work long': [nan], 'are physically superior': ['Strength, agility, mobility'], 'are mentally superior': ['No trauma for rescuers'], 'use in dangerous areas': [nan], 'use in inaccessibility': [nan], 'accuracy of work': [nan], 'does not risk human lives': [nan], 'lower risk of injury': [nan, 'through soft robots', nan, 'due to their softness', 'With soft robots', nan, 'Lower risk of injury due to the adaptability of the robot', nan], 'low risk of injury': [nan, nan, nan, 'Due to the fact that a soft robot is not made of metal, but rather soft, the risk is lower.', nan, 'In comparison to hard plastic/metal', nan, 'with soft robots', 'helping hand'], 'robots are more efficient': [nan], 'knowledge': ['You get the information from the internet and can capture and assign the data faster than humans.', nan], 'less risk of injury': [nan, nan, nan], 'reduction of injury risk': [nan, nan, \"compared to 'soft' rescue robots; valid for hard rescue robots\", nan, nan], 'delivery of supplies': [nan], 'food/water transport': [nan], 'animal protection': ['Using a soft robot instead of an animal protects the animal from potentially harmful behavior by the owner.'], 'reach the inaccessible': [nan], 'reduce risk of injury': [nan], 'direct help': ['through water/food'], 'reduced risk of injury': ['through soft materials', 'the victim due to the organic construction method', nan, nan], 'time savings in emergencies': [nan], 'care of victims': [nan], 'exploration': ['Assess the safety of the dangerous area'], 'supply with food': [nan, nan], 'adaptability': [nan], 'few physical risks': ['e.g. through injuries'], 'accessible tight spaces': ['Due to their flexibility, they can access narrow spaces that are not accessible to people.'], 'decision-making options': ['in theory, a robot should be able to make a logical decision better than a human because emotions etc. cannot cloud a decision'], 'injury prevention': [nan], 'more people saved': [nan], 'low risks': ['Soft robots pose only a low risk to the victims due to their flexibility.'], 'vital help': [nan], 'more flexible than humans': [nan], 'fast': ['faster than a human to distribute aid supplies.'], 'camera images': ['To perform an image analysis in retrospect'], 'human error susceptibility': [nan], 'medication supply': [nan], 'inaccessible areas': [nan]}\n",
      "212\n"
     ]
    }
   ],
   "source": [
    "constant_new_comments_mapping = combine_dicts(constant_comments_mapping, new_comments_mapping)\n",
    "print(\"mapping constant, new x comments:\", constant_new_comments_mapping)\n",
    "print(len(constant_new_comments_mapping))\n"
   ]
  },
  {
   "cell_type": "markdown",
   "metadata": {},
   "source": [
    "## Data for A, B graph (G2)\n",
    "\n",
    "Prompt to get list of arguments and explenations:"
   ]
  },
  {
   "cell_type": "code",
   "execution_count": 24,
   "metadata": {},
   "outputs": [
    {
     "name": "stdout",
     "output_type": "stream",
     "text": [
      "messages=[SystemMessage(content='\\nYou are a researcher summarizing two word lists that represent people\\'s assessments of rigid and soft robots, whereby laypersons were informed about the risks and benefits of rescue robots and socially assistive robots through scenario texts.\\n\\nParticipants shared their views on traditional rigid robots in a \"rigid\" list and on flexible, electronic-free soft robots in a \"soft\" list after learning about their respective risks and benefits. \\nThe overall theme is perceived safety.\\n\\nBoth \"rigid\" and \"soft\" lists are dictionaries with argument keys and comment values. If [nan] appears, it means no comment was provided; repeated entries or [nan] values indicate that the argument was emphasized multiple times.\\n\\nYour task:\\nSummarize the main points for each category into a JSON object. Fill the two arrays within the JSON object, \"rigid_arguments\" for the \"rigid\" list and \"soft_arguments\" for the \"soft\" list. \\nSummarize the main points for each category in a JSON object. Populate the two arrays, \"rigid_arguments\" and \"soft_arguments,\" with up to five key arguments each. \\nInclude a brief, interrelated explanation (up to two sentences) for each argument, derived from the provided lists.\\n\\n\\nOutput Format:\\n\\n{\\n  \"assessments\": {\\n    \"rigid_arguments\": [\\n      {\\n        \"argument\": \"argument1\",\\n        \"explanation\": \"explanation of argument1\"\\n      },\\n      {\\n        \"argument\": \"argument2\",\\n        \"explanation\": \"explanation of argument2\"\\n      },\\n      ...\\n    ],\\n    \"soft_arguments\": [\\n      {\\n        \"argument\": \"argument1\",\\n        \"explanation\": \"explanation of argument1\"\\n      },\\n      {\\n        \"argument\": \"argument2\",\\n        \"explanation\": \"explanation of argument2\"\\n      },\\n      ...\\n    ]\\n  }\\n}\\n\\nPlease respond with the entire JSON structure as specified, providing up to five arguments for each list, and without any additional commentary or context.\\n', additional_kwargs={}, response_metadata={}), HumanMessage(content='List \"rigid\": \\n{\\'quick hygienic help\\': [nan], \\'efficient\\': [\\'Work on statistics can be made more efficient through probabilities.\\', nan, nan, nan], \\'safety\\': [\\'Prevents people from having to work under difficult or dangerous conditions to increase safety.\\', \\'Enables deployment in difficult situations where human rescuers would put themselves in danger\\', nan, nan, nan, \\'through reliability\\', \\'No people are being put in danger\\', \\'Soft material reduces risk of injury\\'], \\'remote control\\': [\\'Can be operated by experts via remote control or autonomous systems to perform operations from a safe distance.\\', nan, nan, nan, nan, \\'Minimizes risks associated with autonomy\\'], \\'speed and efficiency\\': [\\'Robots can often act faster than humans and increase the speed of emergency interventions\\', \\'Improvement of speed and efficiency of rescue operations\\', nan], \\'safe\\': [\\'People do not have to put themselves in dangerous situations\\'], \\'reliable\\': [\\'Can be precisely controlled\\', nan, nan, nan, nan, \\'is always ready\\'], \\'health monitoring\\': [nan, \\'People no longer necessarily need an emergency button if an external system can watch over them and summon help when in doubt.\\'], \\'Precise execution\\': [\\'Robots perform tasks purposefully\\'], \\'Ability to learn\\': [\\'The robots are learning and being further developed, making them more efficient\\'], \\'no people necessary\\': [nan], \\'stronger than humans\\': [nan, \\'In many situations, e.g. when clearing rubble, a great advantage.\\', nan, nan], \\'faster than humans\\': [nan, nan], \\'precise handling\\': [nan], \\'reliability\\': [nan, \\'Machines can accomplish their tasks reliably and reproducibly (provided they are well programmed and built)\\', nan, nan, nan], \\'always correct\\': [nan], \\'protection of rescue forces\\': [\\'for example in contamination scenarios\\', \\'Reduced deployment of human rescue forces in dangerous situations\\', nan, \\'human rescuers do not have to put themselves in danger\\'], \\'in danger zones\\': [nan], \\'toxic places\\': [\\'Places where people can only breathe with special equipment (gas mask)\\'], \\'no distraction\\': [nan], \\'by injuries\\': [nan], \\'consistent\\': [nan], \\'consistent performance\\': [nan], \\'emergency monitoring\\': [\\'Depending on how a robot is equipped, it could respond very quickly in an emergency, faster than a human.\\'], \\'more strong\\': [nan], \\'without basic need\\': [\\'Water, sleep, food etc.\\'], \\'faster intervention\\': [nan], \\'area of application\\': [\\'Can be used in areas too dangerous for humans\\', \\'Can be used in areas that are too dangerous for humans.\\'], \\'reaching hard-to-access places\\': [\\'Robots and drones are small and agile. Therefore, they can reach places that are difficult or even dangerous for humans to reach.\\'], \\'discover dangerous areas\\': [nan], \\'quick processing\\': [nan], \\'care of people\\': [nan], \\'perform operations\\': [\\'disease\\'], \\'enter dangerous situation\\': [nan], \\'No illness\\': [\\'Robots do not get infected, they do not spread diseases, and they do not get sick.\\'], \\'less risk\\': [nan, \\'Specifically less risk to further human lives, as rescue teams can use robots\\'], \\'efficiency in search\\': [nan], \\'no fatigue\\': [nan, \\'Unlike human rescuers, robots do not tire even during long operations\\'], \\'cover dangerous areas\\': [\\'even where it is dangerous for humans, a robot can go there\\'], \\'precision & accuracy\\': [nan], \\'no human errors\\': [nan], \\'more attentive\\': [nan], \\'use in dangerous situations\\': [\\'Rescue robots can be used in dangerous situations where humans are exposed to too high a risk.\\'], \\'can act quickly\\': [\\'Robots can intervene quickly, as they do not need to be dressed or prepared and are autonomous\\', \\'The robots can act faster than a human in an emergency.\\'], \\'No exhaustion\\': [nan], \\'Range\\': [\\'Robots, again just the drone can rescue victims faster in difficult terrain or bring help, e.g. medicine, food\\'], \\'accessibility of inaccessible places\\': [nan], \\'improved approach\\': [nan], \\'precise work\\': [nan, nan], \\'rescue of people\\': [nan], \\'deployment possibility\\': [\\'Also possible under dangerous conditions\\'], \\'replaceable\\': [\\'In case of loss, no human sacrifice\\', \\'During operations, unlike human rescuers, there is no need to pay attention to the safety of the robots, as they can be easily replaced.\\'], \\'unrestricted access\\': [\\'Robots can operate in environments that would be toxic to humans, e.g. areas contaminated with radiation.\\'], \\'sparing human life\\': [\\'If robots are used instead of human rescuers, the lives and health of the rescuers do not have to be put at risk.\\'], \\'reduced risk\\': [\\'By using robots, no human forces are exposed to dangerous situations\\'], \\'precision\\': [nan], \\'more targeted help\\': [nan], \\'saves lives\\': [\\'For example, when human helpers are not available, a rescue robot can still save human lives.\\', \\'send a robot into a danger zone instead of a human\\', nan], \\'protects aid workers\\': [\\'Since employees are not unnecessarily exposed to dangers, strictly speaking, this also saves their lives.\\'], \\'fewer mistakes\\': [nan], \\'overall more productive\\': [nan], \\'greater accuracy\\': [nan], \\'usable in emergencies\\': [\\'To inspect debris more accurately\\'], \\'protection of rescue personnel\\': [nan], \\'accessibility of places\\': [\\'Accessibility difficult to reach\\'], \\'increased efficiency\\': [nan], \\'faster recovery\\': [\\'One could send robots into the fire without danger to human lives, etc, to combat the cause more quickly.\\'], \\'weather independent\\': [\\'Even in storms etc., perhaps an option for critical tasks\\'], \\'safety for emergency personnel\\': [nan], \\'strength (power)\\': [\\'for example, for lifting debris parts\\'], \\'quick action\\': [nan], \\'no danger\\': [\\'For human rescue forces in action\\', \\'No human doctor etc. needs to enter the operating area and thus it is significantly safer and therefore protects human lives.\\'], \\'efficiency\\': [nan, \\'Robots could be more capable in disaster cases than human helpers.\\', nan, \\'Robots are not limited to human speed, vision, and perception in general.\\', nan, \\'both equally fast work, more productive way of working as well as improved access to danger zones\\', nan], \\'access to areas\\': [\\'Access to areas difficult or only reachable through considerable dangers for people\\'], \\'vital objects\\': [\\'Victims receive vitally important things, such as water, food, and medicine\\'], \\'rescue forces safety\\': [\\'Emergency services can avoid dangers if, for example, pictures of the location were taken by robots.\\'], \\'more/ easier access\\': [\\'Robots can create (easier) access to places where it would otherwise be more difficult.\\'], \\'reduce number of victims\\': [\\'Robots could make rescue operations more efficient and faster, potentially saving more victims.\\'], \\'no life endangered\\': [nan], \\'can save lives\\': [nan, nan], \\'not emotionally driven\\': [nan], \\'focused\\': [nan], \\'exclusion of human error\\': [nan], \\'flexible\\': [\\'The robot could operate in dangerous areas and is therefore not limited.\\', nan, nan, nan], \\'stronger than human\\': [\\'Specially equipped machines could help trapped victims quicker and more efficiently.\\'], \\'chances of success\\': [\\'A reliable and error-free rescue robot could therefore save people faster and more than a human.\\'], \\'accuracy of execution\\': [nan], \\'enter dangerous areas\\': [nan], \\'do not get distracted\\': [\\'Rescue robots follow their programming and can focus better on the rescue without being influenced by emotions.\\'], \\'speed / agility\\': [nan], \\'real-time data\\': [nan], \\'strength\\': [nan, \\'the robot can, for example, move objects that a human could not move\\'], \\'simplified access\\': [nan], \\'quick help\\': [nan, nan, nan], \\'risk-free rescue\\': [\\'From the side of the rescuers, who do not have to put themselves in danger\\'], \\'better CPR\\': [nan], \\'life-threatening places\\': [\\'The possibility of entering dangerous places that people do not dare to approach, such as wreck parts, battlefields, etc.\\', nan], \\'more reliable than humans\\': [nan], \\'reach dangerous places\\': [nan], \\'do not get tired\\': [nan, nan], \\'cannot die\\': [nan], \\'\"small\" operations\\': [\\'Especially good for smaller operations and possibly the transport\\'], \\'toxic environment\\': [nan], \\'safer for humans\\': [nan, nan], \\'dexterity\\': [\\'Often higher skill than human rescuers\\'], \\'responsiveness\\': [\\'Robots have a significantly higher reaction capability than human rescuers\\'], \\'Accuracy of rescue robots\\': [\\'this way human errors can be reduced\\'], \\'quality/precision\\': [nan], \\'quantity\\': [\\'more rescue operations or more people saved possible\\'], \\'fewer deaths\\': [nan], \\'faster operation\\': [nan], \\'accuracy\\': [nan, nan], \\'faster help\\': [\\'Since the risk to life is lower, rescue workers can send a robot before a complete analysis of the problem area is available.\\'], \\'stronger\\': [\\'Robots might potentially be able to move things that humans would have great difficulty with.\\'], \\'Not susceptible to infection\\': [\\'Robots are insensitive to infections.\\'], \\'24/7 readiness\\': [nan], \\'access to hard-to-reach places\\': [nan], \\'human safety\\': [nan], \\'useful addition\\': [\\'To human rescuers.\\'], \\'\"dare\" more\\': [\\'can also be used in war zones, only material loss through explosives\\'], \\'eyes and ears\\': [\\'for the rescue forces from a safe distance\\'], \\'less danger\\': [\\'for human rescue forces\\', nan, nan], \\'dangerous areas\\': [nan, nan], \\'endurance\\': [nan], \\'performance\\': [nan], \\'rescue and safety\\': [nan], \\'danger\\': [\\'less human danger\\'], \\'no rescuer endangered\\': [nan], \\'access\\': [\\'access to areas where people cannot reach\\'], \\'rational efficiency\\': [\\'No suicidal experiments in rescue\\'], \\'quick deployment\\': [nan, nan], \\'no exhaustion\\': [nan], \\'save many people\\': [nan], \\'Adaptability\\': [nan, nan], \\'continuous monitoring\\': [nan], \\'not tired\\': [nan], \\'more human rescue\\': [nan], \\'easier finding\\': [\\'Through their sensors like thermal imaging, the robots can better find people.\\'], \\'do not lose strength\\': [\\'Robots do not lose stamina while humans could lose strength during missions.\\'], \\'delivery of goods\\': [\\'Robots can, for example, deliver goods in war zones, which would be dangerous for humans.\\'], \\'faster abolition\\': [\\'Rescue robots could shorten the path to doctors/hospitals and the abolition of injured people.\\'], \\'safety risks\\': [nan], \\'can be replaced\\': [\\'Robots can be replaced by other robots in case of loss\\'], \\'better search capabilities\\': [\\'Robots can search better in the dark and in smoke etc because they have numerous sensors\\'], \\'for danger\\': [\\'can be used in times of danger instead of humans\\'], \\'efficient reconnaissance work\\': [\\'Through algorithms, maps can be read and created more quickly\\'], \\'rescue efficient and\\': [nan], \\'higher utilization\\': [\\'the robots can be used continuously\\'], \\'faster access\\': [\\'easier access to dangerous place\\'], \\'error reduction\\': [nan], \\'simplification of difficult situations\\': [\\'Many rescue situations prove difficult for people to reach or to intervene, automation can clearly help here.\\'], \\'accessibility of special regions\\': [nan], \\'risk reduction for aid workers\\': [\\'Should people go into difficult areas, for example for avalanche rescue, they put themselves in danger\\'], \\'fire department support\\': [nan], \\'risk\\': [\\'In dangerous environments or situations, there is of course much less risk for the people\\'], \\'dispensable\\': [\\'the loss of a robot is less tragic than the loss of a human rescuer\\'], \\'immune\\': [\\'a robot is immune to many dangers that would be deadly for humans such as smoke gases, chemicals, temperatures\\'], \\'protects people\\': [\\'No human risks necessary\\'], \\'surpasses human rescuers\\': [\\'Can be used in situations where people cannot reach\\'], \\'low risk\\': [nan], \\'safety for rescue workers\\': [nan], \\'access to dangerous area\\': [nan], \\'no performance drop\\': [nan], \\'follows instructions precisely\\': [nan], \\'earthquake rescue\\': [nan], \\'lifting heavy weights\\': [nan], \\'risk minimization\\': [\\'Approximately during search actions in risky areas\\'], \\'precision in search\\': [nan], \\'More flexible than human\\': [\\'People cannot access some areas or cannot see whether people are still alive. For example, in an earthquake incident under the rubble.\\'], \\'Faster than human\\': [\\'In an earthquake, for example, recently in Turkey, the help arrived too late and this led to more loss. Robots would be more flexible and could be used faster, rather than gathering all people together and rushing to help.\\'], \\'Stronger than human\\': [\\'As already mentioned, many people lost their lives in the earthquake in Turkey, and this was because human strength was not enough at a certain point. For example, the walls that fell on people could not be lifted, which is why arms and legs had to be cut off. If the robot was there, it could show more strength and lift the wall.\\'], \\'speed\\': [\\'the robot can probably save faster than a human\\'], \\'accessibility of contaminated places\\': [\\'Poisonous gases, smoke, radiation etc. play no role\\'], \\'can be stronger\\': [nan], \\'can work long\\': [nan], \\'are physically superior\\': [\\'Strength, agility, mobility\\'], \\'are mentally superior\\': [\\'No trauma for rescuers\\'], \\'use in dangerous areas\\': [nan], \\'use in inaccessibility\\': [nan], \\'accuracy of work\\': [nan], \\'does not risk human lives\\': [nan]}\\n\\nList \"soft\": \\n{\\'lower risk of injury\\': [nan, \\'through soft robots\\', nan, \\'due to their softness\\', \\'With soft robots\\', nan, \\'Lower risk of injury due to the adaptability of the robot\\', nan], \\'flexible\\': [nan, nan, nan], \\'low risk of injury\\': [nan, nan, nan, \\'Due to the fact that a soft robot is not made of metal, but rather soft, the risk is lower.\\', nan, \\'In comparison to hard plastic/metal\\', nan, \\'with soft robots\\', \\'helping hand\\'], \\'safety\\': [\\'Soft material reduces risk of injury\\'], \\'robots are more efficient\\': [nan], \\'knowledge\\': [\\'You get the information from the internet and can capture and assign the data faster than humans.\\', nan], \\'less risk of injury\\': [nan, nan, nan], \\'reduction of injury risk\\': [nan, nan, \"compared to \\'soft\\' rescue robots; valid for hard rescue robots\", nan, nan], \\'delivery of supplies\\': [nan], \\'precise work\\': [nan], \\'food/water transport\\': [nan], \\'animal protection\\': [\\'Using a soft robot instead of an animal protects the animal from potentially harmful behavior by the owner.\\'], \\'reach the inaccessible\\': [nan], \\'reduce risk of injury\\': [nan], \\'reliable\\': [\\'is always ready\\'], \\'direct help\\': [\\'through water/food\\'], \\'reduced risk of injury\\': [\\'through soft materials\\', \\'the victim due to the organic construction method\\', nan, nan], \\'time savings in emergencies\\': [nan], \\'care of victims\\': [nan], \\'exploration\\': [\\'Assess the safety of the dangerous area\\'], \\'supply with food\\': [nan, nan], \\'adaptability\\': [nan], \\'few physical risks\\': [\\'e.g. through injuries\\'], \\'accessible tight spaces\\': [\\'Due to their flexibility, they can access narrow spaces that are not accessible to people.\\'], \\'decision-making options\\': [\\'in theory, a robot should be able to make a logical decision better than a human because emotions etc. cannot cloud a decision\\'], \\'injury prevention\\': [nan], \\'more people saved\\': [nan], \\'low risks\\': [\\'Soft robots pose only a low risk to the victims due to their flexibility.\\'], \\'life-threatening places\\': [nan], \\'vital help\\': [nan], \\'more flexible than humans\\': [nan], \\'fast\\': [\\'faster than a human to distribute aid supplies.\\'], \\'Adaptability\\': [nan], \\'camera images\\': [\\'To perform an image analysis in retrospect\\'], \\'human error susceptibility\\': [nan], \\'medication supply\\': [nan], \\'inaccessible areas\\': [nan]}', additional_kwargs={}, response_metadata={})]\n",
      "template_out: messages=[SystemMessage(content='\\nYou are a researcher summarizing two word lists that represent people\\'s assessments of rigid and soft robots, whereby laypersons were informed about the risks and benefits of rescue robots and socially assistive robots through scenario texts.\\n\\nParticipants shared their views on traditional rigid robots in a \"rigid\" list and on flexible, electronic-free soft robots in a \"soft\" list after learning about their respective risks and benefits. \\nThe overall theme is perceived safety.\\n\\nBoth \"rigid\" and \"soft\" lists are dictionaries with argument keys and comment values. If [nan] appears, it means no comment was provided; repeated entries or [nan] values indicate that the argument was emphasized multiple times.\\n\\nYour task:\\nSummarize the main points for each category into a JSON object. Fill the two arrays within the JSON object, \"rigid_arguments\" for the \"rigid\" list and \"soft_arguments\" for the \"soft\" list. \\nSummarize the main points for each category in a JSON object. Populate the two arrays, \"rigid_arguments\" and \"soft_arguments,\" with up to five key arguments each. \\nInclude a brief, interrelated explanation (up to two sentences) for each argument, derived from the provided lists.\\n\\n\\nOutput Format:\\n\\n{\\n  \"assessments\": {\\n    \"rigid_arguments\": [\\n      {\\n        \"argument\": \"argument1\",\\n        \"explanation\": \"explanation of argument1\"\\n      },\\n      {\\n        \"argument\": \"argument2\",\\n        \"explanation\": \"explanation of argument2\"\\n      },\\n      ...\\n    ],\\n    \"soft_arguments\": [\\n      {\\n        \"argument\": \"argument1\",\\n        \"explanation\": \"explanation of argument1\"\\n      },\\n      {\\n        \"argument\": \"argument2\",\\n        \"explanation\": \"explanation of argument2\"\\n      },\\n      ...\\n    ]\\n  }\\n}\\n\\nPlease respond with the entire JSON structure as specified, providing up to five arguments for each list, and without any additional commentary or context.\\n', additional_kwargs={}, response_metadata={}), HumanMessage(content='List \"rigid\": \\n{\\'quick hygienic help\\': [nan], \\'efficient\\': [\\'Work on statistics can be made more efficient through probabilities.\\', nan, nan, nan], \\'safety\\': [\\'Prevents people from having to work under difficult or dangerous conditions to increase safety.\\', \\'Enables deployment in difficult situations where human rescuers would put themselves in danger\\', nan, nan, nan, \\'through reliability\\', \\'No people are being put in danger\\', \\'Soft material reduces risk of injury\\'], \\'remote control\\': [\\'Can be operated by experts via remote control or autonomous systems to perform operations from a safe distance.\\', nan, nan, nan, nan, \\'Minimizes risks associated with autonomy\\'], \\'speed and efficiency\\': [\\'Robots can often act faster than humans and increase the speed of emergency interventions\\', \\'Improvement of speed and efficiency of rescue operations\\', nan], \\'safe\\': [\\'People do not have to put themselves in dangerous situations\\'], \\'reliable\\': [\\'Can be precisely controlled\\', nan, nan, nan, nan, \\'is always ready\\'], \\'health monitoring\\': [nan, \\'People no longer necessarily need an emergency button if an external system can watch over them and summon help when in doubt.\\'], \\'Precise execution\\': [\\'Robots perform tasks purposefully\\'], \\'Ability to learn\\': [\\'The robots are learning and being further developed, making them more efficient\\'], \\'no people necessary\\': [nan], \\'stronger than humans\\': [nan, \\'In many situations, e.g. when clearing rubble, a great advantage.\\', nan, nan], \\'faster than humans\\': [nan, nan], \\'precise handling\\': [nan], \\'reliability\\': [nan, \\'Machines can accomplish their tasks reliably and reproducibly (provided they are well programmed and built)\\', nan, nan, nan], \\'always correct\\': [nan], \\'protection of rescue forces\\': [\\'for example in contamination scenarios\\', \\'Reduced deployment of human rescue forces in dangerous situations\\', nan, \\'human rescuers do not have to put themselves in danger\\'], \\'in danger zones\\': [nan], \\'toxic places\\': [\\'Places where people can only breathe with special equipment (gas mask)\\'], \\'no distraction\\': [nan], \\'by injuries\\': [nan], \\'consistent\\': [nan], \\'consistent performance\\': [nan], \\'emergency monitoring\\': [\\'Depending on how a robot is equipped, it could respond very quickly in an emergency, faster than a human.\\'], \\'more strong\\': [nan], \\'without basic need\\': [\\'Water, sleep, food etc.\\'], \\'faster intervention\\': [nan], \\'area of application\\': [\\'Can be used in areas too dangerous for humans\\', \\'Can be used in areas that are too dangerous for humans.\\'], \\'reaching hard-to-access places\\': [\\'Robots and drones are small and agile. Therefore, they can reach places that are difficult or even dangerous for humans to reach.\\'], \\'discover dangerous areas\\': [nan], \\'quick processing\\': [nan], \\'care of people\\': [nan], \\'perform operations\\': [\\'disease\\'], \\'enter dangerous situation\\': [nan], \\'No illness\\': [\\'Robots do not get infected, they do not spread diseases, and they do not get sick.\\'], \\'less risk\\': [nan, \\'Specifically less risk to further human lives, as rescue teams can use robots\\'], \\'efficiency in search\\': [nan], \\'no fatigue\\': [nan, \\'Unlike human rescuers, robots do not tire even during long operations\\'], \\'cover dangerous areas\\': [\\'even where it is dangerous for humans, a robot can go there\\'], \\'precision & accuracy\\': [nan], \\'no human errors\\': [nan], \\'more attentive\\': [nan], \\'use in dangerous situations\\': [\\'Rescue robots can be used in dangerous situations where humans are exposed to too high a risk.\\'], \\'can act quickly\\': [\\'Robots can intervene quickly, as they do not need to be dressed or prepared and are autonomous\\', \\'The robots can act faster than a human in an emergency.\\'], \\'No exhaustion\\': [nan], \\'Range\\': [\\'Robots, again just the drone can rescue victims faster in difficult terrain or bring help, e.g. medicine, food\\'], \\'accessibility of inaccessible places\\': [nan], \\'improved approach\\': [nan], \\'precise work\\': [nan, nan], \\'rescue of people\\': [nan], \\'deployment possibility\\': [\\'Also possible under dangerous conditions\\'], \\'replaceable\\': [\\'In case of loss, no human sacrifice\\', \\'During operations, unlike human rescuers, there is no need to pay attention to the safety of the robots, as they can be easily replaced.\\'], \\'unrestricted access\\': [\\'Robots can operate in environments that would be toxic to humans, e.g. areas contaminated with radiation.\\'], \\'sparing human life\\': [\\'If robots are used instead of human rescuers, the lives and health of the rescuers do not have to be put at risk.\\'], \\'reduced risk\\': [\\'By using robots, no human forces are exposed to dangerous situations\\'], \\'precision\\': [nan], \\'more targeted help\\': [nan], \\'saves lives\\': [\\'For example, when human helpers are not available, a rescue robot can still save human lives.\\', \\'send a robot into a danger zone instead of a human\\', nan], \\'protects aid workers\\': [\\'Since employees are not unnecessarily exposed to dangers, strictly speaking, this also saves their lives.\\'], \\'fewer mistakes\\': [nan], \\'overall more productive\\': [nan], \\'greater accuracy\\': [nan], \\'usable in emergencies\\': [\\'To inspect debris more accurately\\'], \\'protection of rescue personnel\\': [nan], \\'accessibility of places\\': [\\'Accessibility difficult to reach\\'], \\'increased efficiency\\': [nan], \\'faster recovery\\': [\\'One could send robots into the fire without danger to human lives, etc, to combat the cause more quickly.\\'], \\'weather independent\\': [\\'Even in storms etc., perhaps an option for critical tasks\\'], \\'safety for emergency personnel\\': [nan], \\'strength (power)\\': [\\'for example, for lifting debris parts\\'], \\'quick action\\': [nan], \\'no danger\\': [\\'For human rescue forces in action\\', \\'No human doctor etc. needs to enter the operating area and thus it is significantly safer and therefore protects human lives.\\'], \\'efficiency\\': [nan, \\'Robots could be more capable in disaster cases than human helpers.\\', nan, \\'Robots are not limited to human speed, vision, and perception in general.\\', nan, \\'both equally fast work, more productive way of working as well as improved access to danger zones\\', nan], \\'access to areas\\': [\\'Access to areas difficult or only reachable through considerable dangers for people\\'], \\'vital objects\\': [\\'Victims receive vitally important things, such as water, food, and medicine\\'], \\'rescue forces safety\\': [\\'Emergency services can avoid dangers if, for example, pictures of the location were taken by robots.\\'], \\'more/ easier access\\': [\\'Robots can create (easier) access to places where it would otherwise be more difficult.\\'], \\'reduce number of victims\\': [\\'Robots could make rescue operations more efficient and faster, potentially saving more victims.\\'], \\'no life endangered\\': [nan], \\'can save lives\\': [nan, nan], \\'not emotionally driven\\': [nan], \\'focused\\': [nan], \\'exclusion of human error\\': [nan], \\'flexible\\': [\\'The robot could operate in dangerous areas and is therefore not limited.\\', nan, nan, nan], \\'stronger than human\\': [\\'Specially equipped machines could help trapped victims quicker and more efficiently.\\'], \\'chances of success\\': [\\'A reliable and error-free rescue robot could therefore save people faster and more than a human.\\'], \\'accuracy of execution\\': [nan], \\'enter dangerous areas\\': [nan], \\'do not get distracted\\': [\\'Rescue robots follow their programming and can focus better on the rescue without being influenced by emotions.\\'], \\'speed / agility\\': [nan], \\'real-time data\\': [nan], \\'strength\\': [nan, \\'the robot can, for example, move objects that a human could not move\\'], \\'simplified access\\': [nan], \\'quick help\\': [nan, nan, nan], \\'risk-free rescue\\': [\\'From the side of the rescuers, who do not have to put themselves in danger\\'], \\'better CPR\\': [nan], \\'life-threatening places\\': [\\'The possibility of entering dangerous places that people do not dare to approach, such as wreck parts, battlefields, etc.\\', nan], \\'more reliable than humans\\': [nan], \\'reach dangerous places\\': [nan], \\'do not get tired\\': [nan, nan], \\'cannot die\\': [nan], \\'\"small\" operations\\': [\\'Especially good for smaller operations and possibly the transport\\'], \\'toxic environment\\': [nan], \\'safer for humans\\': [nan, nan], \\'dexterity\\': [\\'Often higher skill than human rescuers\\'], \\'responsiveness\\': [\\'Robots have a significantly higher reaction capability than human rescuers\\'], \\'Accuracy of rescue robots\\': [\\'this way human errors can be reduced\\'], \\'quality/precision\\': [nan], \\'quantity\\': [\\'more rescue operations or more people saved possible\\'], \\'fewer deaths\\': [nan], \\'faster operation\\': [nan], \\'accuracy\\': [nan, nan], \\'faster help\\': [\\'Since the risk to life is lower, rescue workers can send a robot before a complete analysis of the problem area is available.\\'], \\'stronger\\': [\\'Robots might potentially be able to move things that humans would have great difficulty with.\\'], \\'Not susceptible to infection\\': [\\'Robots are insensitive to infections.\\'], \\'24/7 readiness\\': [nan], \\'access to hard-to-reach places\\': [nan], \\'human safety\\': [nan], \\'useful addition\\': [\\'To human rescuers.\\'], \\'\"dare\" more\\': [\\'can also be used in war zones, only material loss through explosives\\'], \\'eyes and ears\\': [\\'for the rescue forces from a safe distance\\'], \\'less danger\\': [\\'for human rescue forces\\', nan, nan], \\'dangerous areas\\': [nan, nan], \\'endurance\\': [nan], \\'performance\\': [nan], \\'rescue and safety\\': [nan], \\'danger\\': [\\'less human danger\\'], \\'no rescuer endangered\\': [nan], \\'access\\': [\\'access to areas where people cannot reach\\'], \\'rational efficiency\\': [\\'No suicidal experiments in rescue\\'], \\'quick deployment\\': [nan, nan], \\'no exhaustion\\': [nan], \\'save many people\\': [nan], \\'Adaptability\\': [nan, nan], \\'continuous monitoring\\': [nan], \\'not tired\\': [nan], \\'more human rescue\\': [nan], \\'easier finding\\': [\\'Through their sensors like thermal imaging, the robots can better find people.\\'], \\'do not lose strength\\': [\\'Robots do not lose stamina while humans could lose strength during missions.\\'], \\'delivery of goods\\': [\\'Robots can, for example, deliver goods in war zones, which would be dangerous for humans.\\'], \\'faster abolition\\': [\\'Rescue robots could shorten the path to doctors/hospitals and the abolition of injured people.\\'], \\'safety risks\\': [nan], \\'can be replaced\\': [\\'Robots can be replaced by other robots in case of loss\\'], \\'better search capabilities\\': [\\'Robots can search better in the dark and in smoke etc because they have numerous sensors\\'], \\'for danger\\': [\\'can be used in times of danger instead of humans\\'], \\'efficient reconnaissance work\\': [\\'Through algorithms, maps can be read and created more quickly\\'], \\'rescue efficient and\\': [nan], \\'higher utilization\\': [\\'the robots can be used continuously\\'], \\'faster access\\': [\\'easier access to dangerous place\\'], \\'error reduction\\': [nan], \\'simplification of difficult situations\\': [\\'Many rescue situations prove difficult for people to reach or to intervene, automation can clearly help here.\\'], \\'accessibility of special regions\\': [nan], \\'risk reduction for aid workers\\': [\\'Should people go into difficult areas, for example for avalanche rescue, they put themselves in danger\\'], \\'fire department support\\': [nan], \\'risk\\': [\\'In dangerous environments or situations, there is of course much less risk for the people\\'], \\'dispensable\\': [\\'the loss of a robot is less tragic than the loss of a human rescuer\\'], \\'immune\\': [\\'a robot is immune to many dangers that would be deadly for humans such as smoke gases, chemicals, temperatures\\'], \\'protects people\\': [\\'No human risks necessary\\'], \\'surpasses human rescuers\\': [\\'Can be used in situations where people cannot reach\\'], \\'low risk\\': [nan], \\'safety for rescue workers\\': [nan], \\'access to dangerous area\\': [nan], \\'no performance drop\\': [nan], \\'follows instructions precisely\\': [nan], \\'earthquake rescue\\': [nan], \\'lifting heavy weights\\': [nan], \\'risk minimization\\': [\\'Approximately during search actions in risky areas\\'], \\'precision in search\\': [nan], \\'More flexible than human\\': [\\'People cannot access some areas or cannot see whether people are still alive. For example, in an earthquake incident under the rubble.\\'], \\'Faster than human\\': [\\'In an earthquake, for example, recently in Turkey, the help arrived too late and this led to more loss. Robots would be more flexible and could be used faster, rather than gathering all people together and rushing to help.\\'], \\'Stronger than human\\': [\\'As already mentioned, many people lost their lives in the earthquake in Turkey, and this was because human strength was not enough at a certain point. For example, the walls that fell on people could not be lifted, which is why arms and legs had to be cut off. If the robot was there, it could show more strength and lift the wall.\\'], \\'speed\\': [\\'the robot can probably save faster than a human\\'], \\'accessibility of contaminated places\\': [\\'Poisonous gases, smoke, radiation etc. play no role\\'], \\'can be stronger\\': [nan], \\'can work long\\': [nan], \\'are physically superior\\': [\\'Strength, agility, mobility\\'], \\'are mentally superior\\': [\\'No trauma for rescuers\\'], \\'use in dangerous areas\\': [nan], \\'use in inaccessibility\\': [nan], \\'accuracy of work\\': [nan], \\'does not risk human lives\\': [nan]}\\n\\nList \"soft\": \\n{\\'lower risk of injury\\': [nan, \\'through soft robots\\', nan, \\'due to their softness\\', \\'With soft robots\\', nan, \\'Lower risk of injury due to the adaptability of the robot\\', nan], \\'flexible\\': [nan, nan, nan], \\'low risk of injury\\': [nan, nan, nan, \\'Due to the fact that a soft robot is not made of metal, but rather soft, the risk is lower.\\', nan, \\'In comparison to hard plastic/metal\\', nan, \\'with soft robots\\', \\'helping hand\\'], \\'safety\\': [\\'Soft material reduces risk of injury\\'], \\'robots are more efficient\\': [nan], \\'knowledge\\': [\\'You get the information from the internet and can capture and assign the data faster than humans.\\', nan], \\'less risk of injury\\': [nan, nan, nan], \\'reduction of injury risk\\': [nan, nan, \"compared to \\'soft\\' rescue robots; valid for hard rescue robots\", nan, nan], \\'delivery of supplies\\': [nan], \\'precise work\\': [nan], \\'food/water transport\\': [nan], \\'animal protection\\': [\\'Using a soft robot instead of an animal protects the animal from potentially harmful behavior by the owner.\\'], \\'reach the inaccessible\\': [nan], \\'reduce risk of injury\\': [nan], \\'reliable\\': [\\'is always ready\\'], \\'direct help\\': [\\'through water/food\\'], \\'reduced risk of injury\\': [\\'through soft materials\\', \\'the victim due to the organic construction method\\', nan, nan], \\'time savings in emergencies\\': [nan], \\'care of victims\\': [nan], \\'exploration\\': [\\'Assess the safety of the dangerous area\\'], \\'supply with food\\': [nan, nan], \\'adaptability\\': [nan], \\'few physical risks\\': [\\'e.g. through injuries\\'], \\'accessible tight spaces\\': [\\'Due to their flexibility, they can access narrow spaces that are not accessible to people.\\'], \\'decision-making options\\': [\\'in theory, a robot should be able to make a logical decision better than a human because emotions etc. cannot cloud a decision\\'], \\'injury prevention\\': [nan], \\'more people saved\\': [nan], \\'low risks\\': [\\'Soft robots pose only a low risk to the victims due to their flexibility.\\'], \\'life-threatening places\\': [nan], \\'vital help\\': [nan], \\'more flexible than humans\\': [nan], \\'fast\\': [\\'faster than a human to distribute aid supplies.\\'], \\'Adaptability\\': [nan], \\'camera images\\': [\\'To perform an image analysis in retrospect\\'], \\'human error susceptibility\\': [nan], \\'medication supply\\': [nan], \\'inaccessible areas\\': [nan]}', additional_kwargs={}, response_metadata={})]\n",
      "template_out.to_messages(): [SystemMessage(content='\\nYou are a researcher summarizing two word lists that represent people\\'s assessments of rigid and soft robots, whereby laypersons were informed about the risks and benefits of rescue robots and socially assistive robots through scenario texts.\\n\\nParticipants shared their views on traditional rigid robots in a \"rigid\" list and on flexible, electronic-free soft robots in a \"soft\" list after learning about their respective risks and benefits. \\nThe overall theme is perceived safety.\\n\\nBoth \"rigid\" and \"soft\" lists are dictionaries with argument keys and comment values. If [nan] appears, it means no comment was provided; repeated entries or [nan] values indicate that the argument was emphasized multiple times.\\n\\nYour task:\\nSummarize the main points for each category into a JSON object. Fill the two arrays within the JSON object, \"rigid_arguments\" for the \"rigid\" list and \"soft_arguments\" for the \"soft\" list. \\nSummarize the main points for each category in a JSON object. Populate the two arrays, \"rigid_arguments\" and \"soft_arguments,\" with up to five key arguments each. \\nInclude a brief, interrelated explanation (up to two sentences) for each argument, derived from the provided lists.\\n\\n\\nOutput Format:\\n\\n{\\n  \"assessments\": {\\n    \"rigid_arguments\": [\\n      {\\n        \"argument\": \"argument1\",\\n        \"explanation\": \"explanation of argument1\"\\n      },\\n      {\\n        \"argument\": \"argument2\",\\n        \"explanation\": \"explanation of argument2\"\\n      },\\n      ...\\n    ],\\n    \"soft_arguments\": [\\n      {\\n        \"argument\": \"argument1\",\\n        \"explanation\": \"explanation of argument1\"\\n      },\\n      {\\n        \"argument\": \"argument2\",\\n        \"explanation\": \"explanation of argument2\"\\n      },\\n      ...\\n    ]\\n  }\\n}\\n\\nPlease respond with the entire JSON structure as specified, providing up to five arguments for each list, and without any additional commentary or context.\\n', additional_kwargs={}, response_metadata={}), HumanMessage(content='List \"rigid\": \\n{\\'quick hygienic help\\': [nan], \\'efficient\\': [\\'Work on statistics can be made more efficient through probabilities.\\', nan, nan, nan], \\'safety\\': [\\'Prevents people from having to work under difficult or dangerous conditions to increase safety.\\', \\'Enables deployment in difficult situations where human rescuers would put themselves in danger\\', nan, nan, nan, \\'through reliability\\', \\'No people are being put in danger\\', \\'Soft material reduces risk of injury\\'], \\'remote control\\': [\\'Can be operated by experts via remote control or autonomous systems to perform operations from a safe distance.\\', nan, nan, nan, nan, \\'Minimizes risks associated with autonomy\\'], \\'speed and efficiency\\': [\\'Robots can often act faster than humans and increase the speed of emergency interventions\\', \\'Improvement of speed and efficiency of rescue operations\\', nan], \\'safe\\': [\\'People do not have to put themselves in dangerous situations\\'], \\'reliable\\': [\\'Can be precisely controlled\\', nan, nan, nan, nan, \\'is always ready\\'], \\'health monitoring\\': [nan, \\'People no longer necessarily need an emergency button if an external system can watch over them and summon help when in doubt.\\'], \\'Precise execution\\': [\\'Robots perform tasks purposefully\\'], \\'Ability to learn\\': [\\'The robots are learning and being further developed, making them more efficient\\'], \\'no people necessary\\': [nan], \\'stronger than humans\\': [nan, \\'In many situations, e.g. when clearing rubble, a great advantage.\\', nan, nan], \\'faster than humans\\': [nan, nan], \\'precise handling\\': [nan], \\'reliability\\': [nan, \\'Machines can accomplish their tasks reliably and reproducibly (provided they are well programmed and built)\\', nan, nan, nan], \\'always correct\\': [nan], \\'protection of rescue forces\\': [\\'for example in contamination scenarios\\', \\'Reduced deployment of human rescue forces in dangerous situations\\', nan, \\'human rescuers do not have to put themselves in danger\\'], \\'in danger zones\\': [nan], \\'toxic places\\': [\\'Places where people can only breathe with special equipment (gas mask)\\'], \\'no distraction\\': [nan], \\'by injuries\\': [nan], \\'consistent\\': [nan], \\'consistent performance\\': [nan], \\'emergency monitoring\\': [\\'Depending on how a robot is equipped, it could respond very quickly in an emergency, faster than a human.\\'], \\'more strong\\': [nan], \\'without basic need\\': [\\'Water, sleep, food etc.\\'], \\'faster intervention\\': [nan], \\'area of application\\': [\\'Can be used in areas too dangerous for humans\\', \\'Can be used in areas that are too dangerous for humans.\\'], \\'reaching hard-to-access places\\': [\\'Robots and drones are small and agile. Therefore, they can reach places that are difficult or even dangerous for humans to reach.\\'], \\'discover dangerous areas\\': [nan], \\'quick processing\\': [nan], \\'care of people\\': [nan], \\'perform operations\\': [\\'disease\\'], \\'enter dangerous situation\\': [nan], \\'No illness\\': [\\'Robots do not get infected, they do not spread diseases, and they do not get sick.\\'], \\'less risk\\': [nan, \\'Specifically less risk to further human lives, as rescue teams can use robots\\'], \\'efficiency in search\\': [nan], \\'no fatigue\\': [nan, \\'Unlike human rescuers, robots do not tire even during long operations\\'], \\'cover dangerous areas\\': [\\'even where it is dangerous for humans, a robot can go there\\'], \\'precision & accuracy\\': [nan], \\'no human errors\\': [nan], \\'more attentive\\': [nan], \\'use in dangerous situations\\': [\\'Rescue robots can be used in dangerous situations where humans are exposed to too high a risk.\\'], \\'can act quickly\\': [\\'Robots can intervene quickly, as they do not need to be dressed or prepared and are autonomous\\', \\'The robots can act faster than a human in an emergency.\\'], \\'No exhaustion\\': [nan], \\'Range\\': [\\'Robots, again just the drone can rescue victims faster in difficult terrain or bring help, e.g. medicine, food\\'], \\'accessibility of inaccessible places\\': [nan], \\'improved approach\\': [nan], \\'precise work\\': [nan, nan], \\'rescue of people\\': [nan], \\'deployment possibility\\': [\\'Also possible under dangerous conditions\\'], \\'replaceable\\': [\\'In case of loss, no human sacrifice\\', \\'During operations, unlike human rescuers, there is no need to pay attention to the safety of the robots, as they can be easily replaced.\\'], \\'unrestricted access\\': [\\'Robots can operate in environments that would be toxic to humans, e.g. areas contaminated with radiation.\\'], \\'sparing human life\\': [\\'If robots are used instead of human rescuers, the lives and health of the rescuers do not have to be put at risk.\\'], \\'reduced risk\\': [\\'By using robots, no human forces are exposed to dangerous situations\\'], \\'precision\\': [nan], \\'more targeted help\\': [nan], \\'saves lives\\': [\\'For example, when human helpers are not available, a rescue robot can still save human lives.\\', \\'send a robot into a danger zone instead of a human\\', nan], \\'protects aid workers\\': [\\'Since employees are not unnecessarily exposed to dangers, strictly speaking, this also saves their lives.\\'], \\'fewer mistakes\\': [nan], \\'overall more productive\\': [nan], \\'greater accuracy\\': [nan], \\'usable in emergencies\\': [\\'To inspect debris more accurately\\'], \\'protection of rescue personnel\\': [nan], \\'accessibility of places\\': [\\'Accessibility difficult to reach\\'], \\'increased efficiency\\': [nan], \\'faster recovery\\': [\\'One could send robots into the fire without danger to human lives, etc, to combat the cause more quickly.\\'], \\'weather independent\\': [\\'Even in storms etc., perhaps an option for critical tasks\\'], \\'safety for emergency personnel\\': [nan], \\'strength (power)\\': [\\'for example, for lifting debris parts\\'], \\'quick action\\': [nan], \\'no danger\\': [\\'For human rescue forces in action\\', \\'No human doctor etc. needs to enter the operating area and thus it is significantly safer and therefore protects human lives.\\'], \\'efficiency\\': [nan, \\'Robots could be more capable in disaster cases than human helpers.\\', nan, \\'Robots are not limited to human speed, vision, and perception in general.\\', nan, \\'both equally fast work, more productive way of working as well as improved access to danger zones\\', nan], \\'access to areas\\': [\\'Access to areas difficult or only reachable through considerable dangers for people\\'], \\'vital objects\\': [\\'Victims receive vitally important things, such as water, food, and medicine\\'], \\'rescue forces safety\\': [\\'Emergency services can avoid dangers if, for example, pictures of the location were taken by robots.\\'], \\'more/ easier access\\': [\\'Robots can create (easier) access to places where it would otherwise be more difficult.\\'], \\'reduce number of victims\\': [\\'Robots could make rescue operations more efficient and faster, potentially saving more victims.\\'], \\'no life endangered\\': [nan], \\'can save lives\\': [nan, nan], \\'not emotionally driven\\': [nan], \\'focused\\': [nan], \\'exclusion of human error\\': [nan], \\'flexible\\': [\\'The robot could operate in dangerous areas and is therefore not limited.\\', nan, nan, nan], \\'stronger than human\\': [\\'Specially equipped machines could help trapped victims quicker and more efficiently.\\'], \\'chances of success\\': [\\'A reliable and error-free rescue robot could therefore save people faster and more than a human.\\'], \\'accuracy of execution\\': [nan], \\'enter dangerous areas\\': [nan], \\'do not get distracted\\': [\\'Rescue robots follow their programming and can focus better on the rescue without being influenced by emotions.\\'], \\'speed / agility\\': [nan], \\'real-time data\\': [nan], \\'strength\\': [nan, \\'the robot can, for example, move objects that a human could not move\\'], \\'simplified access\\': [nan], \\'quick help\\': [nan, nan, nan], \\'risk-free rescue\\': [\\'From the side of the rescuers, who do not have to put themselves in danger\\'], \\'better CPR\\': [nan], \\'life-threatening places\\': [\\'The possibility of entering dangerous places that people do not dare to approach, such as wreck parts, battlefields, etc.\\', nan], \\'more reliable than humans\\': [nan], \\'reach dangerous places\\': [nan], \\'do not get tired\\': [nan, nan], \\'cannot die\\': [nan], \\'\"small\" operations\\': [\\'Especially good for smaller operations and possibly the transport\\'], \\'toxic environment\\': [nan], \\'safer for humans\\': [nan, nan], \\'dexterity\\': [\\'Often higher skill than human rescuers\\'], \\'responsiveness\\': [\\'Robots have a significantly higher reaction capability than human rescuers\\'], \\'Accuracy of rescue robots\\': [\\'this way human errors can be reduced\\'], \\'quality/precision\\': [nan], \\'quantity\\': [\\'more rescue operations or more people saved possible\\'], \\'fewer deaths\\': [nan], \\'faster operation\\': [nan], \\'accuracy\\': [nan, nan], \\'faster help\\': [\\'Since the risk to life is lower, rescue workers can send a robot before a complete analysis of the problem area is available.\\'], \\'stronger\\': [\\'Robots might potentially be able to move things that humans would have great difficulty with.\\'], \\'Not susceptible to infection\\': [\\'Robots are insensitive to infections.\\'], \\'24/7 readiness\\': [nan], \\'access to hard-to-reach places\\': [nan], \\'human safety\\': [nan], \\'useful addition\\': [\\'To human rescuers.\\'], \\'\"dare\" more\\': [\\'can also be used in war zones, only material loss through explosives\\'], \\'eyes and ears\\': [\\'for the rescue forces from a safe distance\\'], \\'less danger\\': [\\'for human rescue forces\\', nan, nan], \\'dangerous areas\\': [nan, nan], \\'endurance\\': [nan], \\'performance\\': [nan], \\'rescue and safety\\': [nan], \\'danger\\': [\\'less human danger\\'], \\'no rescuer endangered\\': [nan], \\'access\\': [\\'access to areas where people cannot reach\\'], \\'rational efficiency\\': [\\'No suicidal experiments in rescue\\'], \\'quick deployment\\': [nan, nan], \\'no exhaustion\\': [nan], \\'save many people\\': [nan], \\'Adaptability\\': [nan, nan], \\'continuous monitoring\\': [nan], \\'not tired\\': [nan], \\'more human rescue\\': [nan], \\'easier finding\\': [\\'Through their sensors like thermal imaging, the robots can better find people.\\'], \\'do not lose strength\\': [\\'Robots do not lose stamina while humans could lose strength during missions.\\'], \\'delivery of goods\\': [\\'Robots can, for example, deliver goods in war zones, which would be dangerous for humans.\\'], \\'faster abolition\\': [\\'Rescue robots could shorten the path to doctors/hospitals and the abolition of injured people.\\'], \\'safety risks\\': [nan], \\'can be replaced\\': [\\'Robots can be replaced by other robots in case of loss\\'], \\'better search capabilities\\': [\\'Robots can search better in the dark and in smoke etc because they have numerous sensors\\'], \\'for danger\\': [\\'can be used in times of danger instead of humans\\'], \\'efficient reconnaissance work\\': [\\'Through algorithms, maps can be read and created more quickly\\'], \\'rescue efficient and\\': [nan], \\'higher utilization\\': [\\'the robots can be used continuously\\'], \\'faster access\\': [\\'easier access to dangerous place\\'], \\'error reduction\\': [nan], \\'simplification of difficult situations\\': [\\'Many rescue situations prove difficult for people to reach or to intervene, automation can clearly help here.\\'], \\'accessibility of special regions\\': [nan], \\'risk reduction for aid workers\\': [\\'Should people go into difficult areas, for example for avalanche rescue, they put themselves in danger\\'], \\'fire department support\\': [nan], \\'risk\\': [\\'In dangerous environments or situations, there is of course much less risk for the people\\'], \\'dispensable\\': [\\'the loss of a robot is less tragic than the loss of a human rescuer\\'], \\'immune\\': [\\'a robot is immune to many dangers that would be deadly for humans such as smoke gases, chemicals, temperatures\\'], \\'protects people\\': [\\'No human risks necessary\\'], \\'surpasses human rescuers\\': [\\'Can be used in situations where people cannot reach\\'], \\'low risk\\': [nan], \\'safety for rescue workers\\': [nan], \\'access to dangerous area\\': [nan], \\'no performance drop\\': [nan], \\'follows instructions precisely\\': [nan], \\'earthquake rescue\\': [nan], \\'lifting heavy weights\\': [nan], \\'risk minimization\\': [\\'Approximately during search actions in risky areas\\'], \\'precision in search\\': [nan], \\'More flexible than human\\': [\\'People cannot access some areas or cannot see whether people are still alive. For example, in an earthquake incident under the rubble.\\'], \\'Faster than human\\': [\\'In an earthquake, for example, recently in Turkey, the help arrived too late and this led to more loss. Robots would be more flexible and could be used faster, rather than gathering all people together and rushing to help.\\'], \\'Stronger than human\\': [\\'As already mentioned, many people lost their lives in the earthquake in Turkey, and this was because human strength was not enough at a certain point. For example, the walls that fell on people could not be lifted, which is why arms and legs had to be cut off. If the robot was there, it could show more strength and lift the wall.\\'], \\'speed\\': [\\'the robot can probably save faster than a human\\'], \\'accessibility of contaminated places\\': [\\'Poisonous gases, smoke, radiation etc. play no role\\'], \\'can be stronger\\': [nan], \\'can work long\\': [nan], \\'are physically superior\\': [\\'Strength, agility, mobility\\'], \\'are mentally superior\\': [\\'No trauma for rescuers\\'], \\'use in dangerous areas\\': [nan], \\'use in inaccessibility\\': [nan], \\'accuracy of work\\': [nan], \\'does not risk human lives\\': [nan]}\\n\\nList \"soft\": \\n{\\'lower risk of injury\\': [nan, \\'through soft robots\\', nan, \\'due to their softness\\', \\'With soft robots\\', nan, \\'Lower risk of injury due to the adaptability of the robot\\', nan], \\'flexible\\': [nan, nan, nan], \\'low risk of injury\\': [nan, nan, nan, \\'Due to the fact that a soft robot is not made of metal, but rather soft, the risk is lower.\\', nan, \\'In comparison to hard plastic/metal\\', nan, \\'with soft robots\\', \\'helping hand\\'], \\'safety\\': [\\'Soft material reduces risk of injury\\'], \\'robots are more efficient\\': [nan], \\'knowledge\\': [\\'You get the information from the internet and can capture and assign the data faster than humans.\\', nan], \\'less risk of injury\\': [nan, nan, nan], \\'reduction of injury risk\\': [nan, nan, \"compared to \\'soft\\' rescue robots; valid for hard rescue robots\", nan, nan], \\'delivery of supplies\\': [nan], \\'precise work\\': [nan], \\'food/water transport\\': [nan], \\'animal protection\\': [\\'Using a soft robot instead of an animal protects the animal from potentially harmful behavior by the owner.\\'], \\'reach the inaccessible\\': [nan], \\'reduce risk of injury\\': [nan], \\'reliable\\': [\\'is always ready\\'], \\'direct help\\': [\\'through water/food\\'], \\'reduced risk of injury\\': [\\'through soft materials\\', \\'the victim due to the organic construction method\\', nan, nan], \\'time savings in emergencies\\': [nan], \\'care of victims\\': [nan], \\'exploration\\': [\\'Assess the safety of the dangerous area\\'], \\'supply with food\\': [nan, nan], \\'adaptability\\': [nan], \\'few physical risks\\': [\\'e.g. through injuries\\'], \\'accessible tight spaces\\': [\\'Due to their flexibility, they can access narrow spaces that are not accessible to people.\\'], \\'decision-making options\\': [\\'in theory, a robot should be able to make a logical decision better than a human because emotions etc. cannot cloud a decision\\'], \\'injury prevention\\': [nan], \\'more people saved\\': [nan], \\'low risks\\': [\\'Soft robots pose only a low risk to the victims due to their flexibility.\\'], \\'life-threatening places\\': [nan], \\'vital help\\': [nan], \\'more flexible than humans\\': [nan], \\'fast\\': [\\'faster than a human to distribute aid supplies.\\'], \\'Adaptability\\': [nan], \\'camera images\\': [\\'To perform an image analysis in retrospect\\'], \\'human error susceptibility\\': [nan], \\'medication supply\\': [nan], \\'inaccessible areas\\': [nan]}', additional_kwargs={}, response_metadata={})]\n"
     ]
    }
   ],
   "source": [
    "from langchain_core.prompts import ChatPromptTemplate\n",
    "\n",
    "\n",
    "system_template = \"\"\"\n",
    "You are a researcher summarizing two word lists that represent people's assessments of rigid and soft robots, whereby laypersons were informed about the risks and benefits of {robots} through scenario texts.\n",
    "\n",
    "Participants shared their views on traditional rigid robots in a \"rigid\" list and on flexible, electronic-free soft robots in a \"soft\" list after learning about their respective risks and benefits. \n",
    "The overall theme is {topicCategory}.\n",
    "\n",
    "Both \"rigid\" and \"soft\" lists are dictionaries with argument keys and comment values. If [nan] appears, it means no comment was provided; repeated entries or [nan] values indicate that the argument was emphasized multiple times.\n",
    "\n",
    "Your task:\n",
    "Summarize the main points for each category into a JSON object. Fill the two arrays within the JSON object, \"rigid_arguments\" for the \"rigid\" list and \"soft_arguments\" for the \"soft\" list. \n",
    "Summarize the main points for each category in a JSON object. Populate the two arrays, \"rigid_arguments\" and \"soft_arguments,\" with up to five key arguments each. \n",
    "Include a brief, interrelated explanation (up to two sentences) for each argument, derived from the provided lists.\n",
    "\n",
    "\n",
    "Output Format:\n",
    "\n",
    "{{\n",
    "  \"assessments\": {{\n",
    "    \"rigid_arguments\": [\n",
    "      {{\n",
    "        \"argument\": \"argument1\",\n",
    "        \"explanation\": \"explanation of argument1\"\n",
    "      }},\n",
    "      {{\n",
    "        \"argument\": \"argument2\",\n",
    "        \"explanation\": \"explanation of argument2\"\n",
    "      }},\n",
    "      ...\n",
    "    ],\n",
    "    \"soft_arguments\": [\n",
    "      {{\n",
    "        \"argument\": \"argument1\",\n",
    "        \"explanation\": \"explanation of argument1\"\n",
    "      }},\n",
    "      {{\n",
    "        \"argument\": \"argument2\",\n",
    "        \"explanation\": \"explanation of argument2\"\n",
    "      }},\n",
    "      ...\n",
    "    ]\n",
    "  }}\n",
    "}}\n",
    "\n",
    "Please respond with the entire JSON structure as specified, providing up to five arguments for each list, and without any additional commentary or context.\n",
    "\"\"\"\n",
    "\n",
    "\n",
    "user_template = \"\"\"List \"rigid\": \n",
    "{rigid}\n",
    "\n",
    "List \"soft\": \n",
    "{soft}\"\"\"\n",
    "\n",
    "# rescue robots and socially assistive robots\n",
    "prompt_template = ChatPromptTemplate.from_messages(\n",
    "    [(\"system\", system_template), (\"user\", user_template)]\n",
    ")\n",
    "\n",
    "template_out = prompt_template.invoke({\"robots\": \"rescue robots and socially assistive robots\", \"topicCategory\": abbreviations_dict[sheet_name], \"rigid\": constant_comments_mapping, \"soft\": new_comments_mapping})\n",
    "print(template_out)\n",
    "\n",
    "print(\"template_out:\", template_out)\n",
    "print(\"template_out.to_messages():\", template_out.to_messages())"
   ]
  },
  {
   "cell_type": "markdown",
   "metadata": {},
   "source": [
    "### Single Run\n",
    "\n",
    "Function to call LLM:"
   ]
  },
  {
   "cell_type": "code",
   "execution_count": 25,
   "metadata": {},
   "outputs": [],
   "source": [
    "from langchain_openai import ChatOpenAI\n",
    "from langchain.callbacks import get_openai_callback\n",
    "\n",
    "def huggingface_API_call(\n",
    "    prompt,\n",
    "    \n",
    "    robots,\n",
    "    topicCategory,\n",
    "    dictonaryRigid,\n",
    "    dictonarySoft,\n",
    "    \n",
    "    api_key=key.hugging_api_key,\n",
    "\n",
    "    model_name=\"meta-llama/Meta-Llama-3-70B-Instruct\",\n",
    "    json_schema=None,\n",
    "    max_tokens=1000,\n",
    "    temperature=0.2,\n",
    "    verbose=True\n",
    "):\n",
    "\n",
    "    # Initialize the ChatOpenAI model for Hugging Face\n",
    "    model = ChatOpenAI(\n",
    "        model=model_name,\n",
    "        openai_api_key=api_key,\n",
    "        openai_api_base=\"https://api-inference.huggingface.co/v1/\",\n",
    "        max_tokens=max_tokens,\n",
    "        temperature=temperature\n",
    "    )\n",
    "\n",
    "    # Check if structured output is required and configure it\n",
    "    if json_schema:\n",
    "        structured_llm = model.with_structured_output(json_schema, include_raw=True)\n",
    "        chain = prompt | structured_llm\n",
    "    else:\n",
    "        chain = prompt | model\n",
    "\n",
    "    # Execute the model and output response details\n",
    "    with get_openai_callback() as cb:\n",
    "        response = chain.invoke(\n",
    "            {\"robots\": robots, \"topicCategory\": topicCategory, \"rigid\": dictonaryRigid, \"soft\": dictonarySoft}\n",
    "        )\n",
    "        \n",
    "        if cb.total_tokens > max_tokens:\n",
    "            print(\"Warning: The response may be incomplete due to exceeding the maximum token limit.\")\n",
    "        \n",
    "        if verbose:\n",
    "            print(cb)\n",
    "            print(f\"Total Tokens: {cb.total_tokens}\")\n",
    "            print(f\"Prompt Tokens: {cb.prompt_tokens}\")\n",
    "            print(f\"Completion Tokens: {cb.completion_tokens}\")\n",
    "            print(f\"Total Cost (USD): ${cb.total_cost}\")\n",
    "\n",
    "    return response"
   ]
  },
  {
   "cell_type": "code",
   "execution_count": 26,
   "metadata": {},
   "outputs": [
    {
     "name": "stdout",
     "output_type": "stream",
     "text": [
      "Warning: The response may be incomplete due to exceeding the maximum token limit.\n",
      "Tokens Used: 4411\n",
      "\tPrompt Tokens: 3949\n",
      "\tCompletion Tokens: 462\n",
      "Successful Requests: 1\n",
      "Total Cost (USD): $0.0\n",
      "Total Tokens: 4411\n",
      "Prompt Tokens: 3949\n",
      "Completion Tokens: 462\n",
      "Total Cost (USD): $0.0\n"
     ]
    }
   ],
   "source": [
    "response = huggingface_API_call(\n",
    "    prompt=prompt_template,\n",
    "    \n",
    "    robots=\"rescue robots and socially assistive robots\",\n",
    "    topicCategory=abbreviations_dict[sheet_name],\n",
    "    dictonaryRigid=constant_comments_mapping,\n",
    "    dictonarySoft=new_comments_mapping,\n",
    "    \n",
    "    api_key=key.hugging_api_key,\n",
    "    model_name=\"meta-llama/Meta-Llama-3-70B-Instruct\",\n",
    "\n",
    "    json_schema=None,\n",
    "    max_tokens=4000,\n",
    "    temperature=0.2,\n",
    "    verbose=True\n",
    ")"
   ]
  },
  {
   "cell_type": "markdown",
   "metadata": {},
   "source": [
    "result - structured JSON output:"
   ]
  },
  {
   "cell_type": "code",
   "execution_count": 27,
   "metadata": {},
   "outputs": [
    {
     "data": {
      "text/plain": [
       "AIMessage(content='{\\n  \"assessments\": {\\n    \"rigid_arguments\": [\\n      {\\n        \"argument\": \"safety\",\\n        \"explanation\": \"Rigid robots can prevent people from having to work under difficult or dangerous conditions, increasing safety and reducing the risk of injury.\"\\n      },\\n      {\\n        \"argument\": \"efficiency\",\\n        \"explanation\": \"Rigid robots can work faster and more efficiently than humans, improving the speed and effectiveness of rescue operations.\"\\n      },\\n      {\\n        \"argument\": \"reliability\",\\n        \"explanation\": \"Rigid robots can be precisely controlled and are always ready to perform tasks, making them a reliable option for rescue operations.\"\\n      },\\n      {\\n        \"argument\": \"strength\",\\n        \"explanation\": \"Rigid robots can perform tasks that require great strength, such as lifting debris, and can operate in environments that would be toxic to humans.\"\\n      },\\n      {\\n        \"argument\": \"accessibility\",\\n        \"explanation\": \"Rigid robots can access areas that are difficult or impossible for humans to reach, making them ideal for search and rescue operations.\"\\n      }\\n    ],\\n    \"soft_arguments\": [\\n      {\\n        \"argument\": \"lower risk of injury\",\\n        \"explanation\": \"Soft robots pose a lower risk of injury to victims due to their adaptability and softness, making them a safer option for rescue operations.\"\\n      },\\n      {\\n        \"argument\": \"flexibility\",\\n        \"explanation\": \"Soft robots are flexible and can access narrow spaces that are not accessible to people, making them ideal for search and rescue operations in tight spaces.\"\\n      },\\n      {\\n        \"argument\": \"reliability\",\\n        \"explanation\": \"Soft robots are reliable and can perform tasks efficiently, making them a trustworthy option for rescue operations.\"\\n      },\\n      {\\n        \"argument\": \"adaptability\",\\n        \"explanation\": \"Soft robots can adapt to different situations and environments, making them a versatile option for rescue operations.\"\\n      },\\n      {\\n        \"argument\": \"care of victims\",\\n        \"explanation\": \"Soft robots can provide direct help to victims, such as delivering food and water, and can care for them in a way that is not possible with rigid robots.\"\\n      }\\n    ]\\n  }\\n}', additional_kwargs={'refusal': None}, response_metadata={'token_usage': {'completion_tokens': 462, 'prompt_tokens': 3949, 'total_tokens': 4411, 'completion_tokens_details': None, 'prompt_tokens_details': None}, 'model_name': 'meta-llama/Meta-Llama-3-70B-Instruct', 'system_fingerprint': '2.3.1-dev0-sha-169178b', 'finish_reason': 'stop', 'logprobs': None}, id='run-3bd152fc-cb03-4b52-9cb6-6f1910f8966a-0', usage_metadata={'input_tokens': 3949, 'output_tokens': 462, 'total_tokens': 4411, 'input_token_details': {}, 'output_token_details': {}})"
      ]
     },
     "execution_count": 27,
     "metadata": {},
     "output_type": "execute_result"
    }
   ],
   "source": [
    "response"
   ]
  },
  {
   "cell_type": "code",
   "execution_count": 28,
   "metadata": {},
   "outputs": [
    {
     "data": {
      "text/plain": [
       "'{\\n  \"assessments\": {\\n    \"rigid_arguments\": [\\n      {\\n        \"argument\": \"safety\",\\n        \"explanation\": \"Rigid robots can prevent people from having to work under difficult or dangerous conditions, increasing safety and reducing the risk of injury.\"\\n      },\\n      {\\n        \"argument\": \"efficiency\",\\n        \"explanation\": \"Rigid robots can work faster and more efficiently than humans, improving the speed and effectiveness of rescue operations.\"\\n      },\\n      {\\n        \"argument\": \"reliability\",\\n        \"explanation\": \"Rigid robots can be precisely controlled and are always ready to perform tasks, making them a reliable option for rescue operations.\"\\n      },\\n      {\\n        \"argument\": \"strength\",\\n        \"explanation\": \"Rigid robots can perform tasks that require great strength, such as lifting debris, and can operate in environments that would be toxic to humans.\"\\n      },\\n      {\\n        \"argument\": \"accessibility\",\\n        \"explanation\": \"Rigid robots can access areas that are difficult or impossible for humans to reach, making them ideal for search and rescue operations.\"\\n      }\\n    ],\\n    \"soft_arguments\": [\\n      {\\n        \"argument\": \"lower risk of injury\",\\n        \"explanation\": \"Soft robots pose a lower risk of injury to victims due to their adaptability and softness, making them a safer option for rescue operations.\"\\n      },\\n      {\\n        \"argument\": \"flexibility\",\\n        \"explanation\": \"Soft robots are flexible and can access narrow spaces that are not accessible to people, making them ideal for search and rescue operations in tight spaces.\"\\n      },\\n      {\\n        \"argument\": \"reliability\",\\n        \"explanation\": \"Soft robots are reliable and can perform tasks efficiently, making them a trustworthy option for rescue operations.\"\\n      },\\n      {\\n        \"argument\": \"adaptability\",\\n        \"explanation\": \"Soft robots can adapt to different situations and environments, making them a versatile option for rescue operations.\"\\n      },\\n      {\\n        \"argument\": \"care of victims\",\\n        \"explanation\": \"Soft robots can provide direct help to victims, such as delivering food and water, and can care for them in a way that is not possible with rigid robots.\"\\n      }\\n    ]\\n  }\\n}'"
      ]
     },
     "execution_count": 28,
     "metadata": {},
     "output_type": "execute_result"
    }
   ],
   "source": [
    "response.content"
   ]
  },
  {
   "cell_type": "code",
   "execution_count": 29,
   "metadata": {},
   "outputs": [],
   "source": [
    "import json\n",
    "import re\n",
    "\n",
    "try:\n",
    "    # Attempt to parse the response directly as JSON\n",
    "    data = json.loads(response.content)\n",
    "    # print(\"Valid JSON object:\", json.dumps(data, indent=2))\n",
    "except json.JSONDecodeError:\n",
    "    # If not valid JSON, handle extraction using regex to match JSON block between triple backticks (```)\n",
    "    json_match = re.search(r'```(.*?)```', response.content, re.DOTALL)\n",
    "    # If JSON block is found, parse it\n",
    "    if json_match:\n",
    "        json_text = json_match.group(1).strip()  # Extract JSON text and strip whitespace\n",
    "        try:\n",
    "            data = json.loads(json_text)   # Parse JSON\n",
    "            print(\"Valid JSON object after regex:\", json.dumps(data, indent=2))\n",
    "        except json.JSONDecodeError as e:\n",
    "            print(\"Failed to parse JSON:\", e)\n",
    "    else:\n",
    "        print(\"No JSON object found.\")"
   ]
  },
  {
   "cell_type": "code",
   "execution_count": 30,
   "metadata": {},
   "outputs": [
    {
     "name": "stdout",
     "output_type": "stream",
     "text": [
      "    type              argument  \\\n",
      "0  rigid                safety   \n",
      "1  rigid            efficiency   \n",
      "2  rigid           reliability   \n",
      "3  rigid              strength   \n",
      "4  rigid         accessibility   \n",
      "5   soft  lower risk of injury   \n",
      "6   soft           flexibility   \n",
      "7   soft           reliability   \n",
      "8   soft          adaptability   \n",
      "9   soft       care of victims   \n",
      "\n",
      "                                         explanation category  \n",
      "0  Rigid robots can prevent people from having to...       SA  \n",
      "1  Rigid robots can work faster and more efficien...       SA  \n",
      "2  Rigid robots can be precisely controlled and a...       SA  \n",
      "3  Rigid robots can perform tasks that require gr...       SA  \n",
      "4  Rigid robots can access areas that are difficu...       SA  \n",
      "5  Soft robots pose a lower risk of injury to vic...       SA  \n",
      "6  Soft robots are flexible and can access narrow...       SA  \n",
      "7  Soft robots are reliable and can perform tasks...       SA  \n",
      "8  Soft robots can adapt to different situations ...       SA  \n",
      "9  Soft robots can provide direct help to victims...       SA  \n"
     ]
    }
   ],
   "source": [
    "# Extract rigid and soft arguments and format them into a DataFrame\n",
    "arguments = []\n",
    "for category, items in data['assessments'].items():\n",
    "    for item in items:\n",
    "        arguments.append({\n",
    "            'type': category.split('_')[0],  # Extracts 'rigid' or 'soft' from 'rigid_arguments'/'soft_arguments'\n",
    "            'argument': item['argument'],\n",
    "            'explanation': item['explanation']\n",
    "        })\n",
    "\n",
    "# Create DataFrame\n",
    "df = pd.DataFrame(arguments)\n",
    "\n",
    "df[\"category\"] = sheet_name\n",
    "\n",
    "# Display the DataFrame\n",
    "print(df)"
   ]
  },
  {
   "cell_type": "markdown",
   "metadata": {},
   "source": [
    "### Multiple Runs\n",
    "\n",
    "Higher order function to call LLM for all categories:"
   ]
  },
  {
   "cell_type": "code",
   "execution_count": 31,
   "metadata": {},
   "outputs": [],
   "source": [
    "import json\n",
    "import pandas as pd\n",
    "import re\n",
    "\n",
    "def process_robot_data(type_robot):\n",
    "    # Define naming based on type_robot\n",
    "    if type_robot == \"RR\":\n",
    "        all_sheets = all_sheets_RR\n",
    "        naming_robots = \"rescue robots\"\n",
    "    elif type_robot == \"SAR\":\n",
    "        all_sheets = all_sheets_SAR\n",
    "        naming_robots = \"socially assistive robots\"\n",
    "    elif type_robot == \"Combined\":\n",
    "        all_sheets = all_sheets_Combined\n",
    "        naming_robots = \"rescue robots and socially assistive robots\"\n",
    "    else:\n",
    "        raise ValueError(\"Invalid type_robot specified.\")\n",
    "\n",
    "    # Initialize an empty DataFrame for concatenation\n",
    "    final_df = pd.DataFrame()\n",
    "\n",
    "    for index, category in enumerate(abbreviations_dict.keys()):\n",
    "        print(f\"index: {index}, category: {category}\")\n",
    "\n",
    "        # Load the specific DataFrame for the current category\n",
    "        df = all_sheets[category]\n",
    "\n",
    "        # Generate constant and new comments mappings\n",
    "        constant_comments_mapping = create_multivalue_dict(df, 'constant', 'constant_comments')\n",
    "        new_comments_mapping = create_multivalue_dict(df, 'new', 'new_comments')\n",
    "\n",
    "        # Call API with specified parameters\n",
    "        response = huggingface_API_call(\n",
    "            prompt=prompt_template,\n",
    "            robots=naming_robots,\n",
    "            topicCategory=abbreviations_dict[category],\n",
    "            dictonaryRigid=constant_comments_mapping,\n",
    "            dictonarySoft=new_comments_mapping,\n",
    "            api_key=key.hugging_api_key,\n",
    "            model_name=\"meta-llama/Meta-Llama-3-70B-Instruct\",\n",
    "            json_schema=None,\n",
    "            max_tokens=4200,\n",
    "            temperature=0.0,\n",
    "            verbose=False\n",
    "        )\n",
    "        \n",
    "        # print(\"response.content:\\n\", response.content)\n",
    "        #  data = json.loads(response.content)\n",
    "        # Regular expression to match JSON block between triple backticks (```)\n",
    "        try:\n",
    "            # Attempt to parse the response directly as JSON\n",
    "            data = json.loads(response.content)\n",
    "            # print(\"Valid JSON object:\", json.dumps(data, indent=2))\n",
    "        except json.JSONDecodeError:\n",
    "            # If not valid JSON, handle extraction using regex to match JSON block between triple backticks (```)\n",
    "            json_match = re.search(r'```(.*?)```', response.content, re.DOTALL)\n",
    "            # If JSON block is found, parse it\n",
    "            if json_match:\n",
    "                json_text = json_match.group(1).strip()  # Extract JSON text and strip whitespace\n",
    "                try:\n",
    "                    data = json.loads(json_text)   # Parse JSON\n",
    "                    # print(\"Valid JSON object after regex:\", json.dumps(data, indent=2))\n",
    "                except json.JSONDecodeError as e:\n",
    "                    print(\"Failed to parse JSON:\", e)\n",
    "                    # break # !!!\n",
    "            else:\n",
    "                print(\"No JSON object found.\")\n",
    "                # break # !!!\n",
    "\n",
    "        # Extract arguments and format them into a temporary DataFrame\n",
    "        arguments = []\n",
    "        for arg_category, items in data['assessments'].items():\n",
    "            for item in items:\n",
    "                arguments.append({\n",
    "                    'type': arg_category.split('_')[0],\n",
    "                    'argument': item['argument'],\n",
    "                    'explanation': item['explanation']\n",
    "                })\n",
    "\n",
    "        df_tmp = pd.DataFrame(arguments)\n",
    "        df_tmp[\"category\"] = category\n",
    "        \n",
    "        print(f\"length of df_tmp: {len(df_tmp)}\")\n",
    "\n",
    "        # Concatenate the current DataFrame to the final DataFrame\n",
    "        final_df = pd.concat([final_df, df_tmp], ignore_index=True)\n",
    "\n",
    "    return final_df"
   ]
  },
  {
   "cell_type": "markdown",
   "metadata": {},
   "source": [
    "logic if process_robot_data() should be run:"
   ]
  },
  {
   "cell_type": "code",
   "execution_count": 32,
   "metadata": {},
   "outputs": [],
   "source": [
    "run_process_robot_data = False # True"
   ]
  },
  {
   "cell_type": "markdown",
   "metadata": {},
   "source": [
    "for rescue robots:"
   ]
  },
  {
   "cell_type": "code",
   "execution_count": 33,
   "metadata": {},
   "outputs": [],
   "source": [
    "# Path to your Excel file\n",
    "file_path = directory + \"/output/G2/\" + \"rescue robots\" + \".xlsx\"\n",
    "\n",
    "if run_process_robot_data:\n",
    "    df_RR = process_robot_data(type_robot=\"RR\")\n",
    "    # save the dataframe to an Excel file\n",
    "    df_RR.to_excel(file_path, index=False)\n",
    "else:\n",
    "    df_RR = pd.read_excel(file_path)"
   ]
  },
  {
   "cell_type": "markdown",
   "metadata": {},
   "source": [
    "for socially assistive robots:"
   ]
  },
  {
   "cell_type": "code",
   "execution_count": 34,
   "metadata": {},
   "outputs": [],
   "source": [
    "# Path to your Excel file\n",
    "file_path = directory + \"/output/G2/\" + \"socially assistive robots\" + \".xlsx\"\n",
    "    \n",
    "if run_process_robot_data:\n",
    "    df_SAR = process_robot_data(type_robot=\"SAR\")\n",
    "    # save the dataframe to an Excel file\n",
    "    df_SAR.to_excel(file_path, index=False)\n",
    "else:\n",
    "    df_SAR = pd.read_excel(file_path)"
   ]
  },
  {
   "cell_type": "markdown",
   "metadata": {},
   "source": [
    "for rescue robots and socially assistive robots:"
   ]
  },
  {
   "cell_type": "code",
   "execution_count": 35,
   "metadata": {},
   "outputs": [],
   "source": [
    "# Path to your Excel file\n",
    "file_path = directory + \"/output/G2/\" + \"rescue robots AND socially assistive robots\" + \".xlsx\"\n",
    "\n",
    "if run_process_robot_data:\n",
    "    df_Combined = process_robot_data(type_robot=\"Combined\")\n",
    "    # save the dataframe to an Excel file\n",
    "    df_Combined.to_excel(file_path, index=False)\n",
    "else:\n",
    "    df_Combined = pd.read_excel(file_path)"
   ]
  },
  {
   "cell_type": "markdown",
   "metadata": {},
   "source": [
    "### Summarize Generated Data for A, B graph (G2)"
   ]
  },
  {
   "cell_type": "code",
   "execution_count": 36,
   "metadata": {},
   "outputs": [],
   "source": [
    "tmp_rigid = df_RR[(df_RR[\"category\"] == \"TP\") & (df_RR[\"type\"] == \"rigid\")]\n",
    "tmp_soft = df_RR[(df_RR[\"category\"] == \"TP\") & (df_RR[\"type\"] == \"soft\")]\n",
    "\n",
    "tmp_string_rigid = 'Arguments for \"rigid\" robots:'\n",
    "for index, row in tmp_rigid.iterrows():\n",
    "    tmp_string_rigid += \" \\n \" + row[\"argument\"]\n",
    "    tmp_string_rigid += \": \" + row[\"explanation\"]\n",
    "    \n",
    "tmp_string_soft = 'Arguments for \"soft\" robots:'\n",
    "for index, row in tmp_soft.iterrows():\n",
    "    tmp_string_soft += \" \\n \" + row[\"argument\"]\n",
    "    tmp_string_soft += \": \" + row[\"explanation\"]"
   ]
  },
  {
   "cell_type": "code",
   "execution_count": 37,
   "metadata": {},
   "outputs": [
    {
     "data": {
      "text/plain": [
       "'Arguments for \"rigid\" robots: \\n new places: Rigid robots can search in places where people cannot reach, such as underwater caves or narrow openings. \\n resilience: Rigid robots can withstand adverse conditions, making them more effective in disaster areas. \\n special abilities: Rigid robots can perform special tasks like flying, hacking doors, or sending images to the control center with cameras. \\n environment-independent: Rigid robots can operate in various environments, including air, water, and ground, and can withstand toxic or narrow environments. \\n more power: Rigid robots can have more strength than humans, allowing them to perform tasks that require heavy lifting or drilling.'"
      ]
     },
     "execution_count": 37,
     "metadata": {},
     "output_type": "execute_result"
    }
   ],
   "source": [
    "tmp_string_rigid"
   ]
  },
  {
   "cell_type": "code",
   "execution_count": 38,
   "metadata": {},
   "outputs": [
    {
     "data": {
      "text/plain": [
       "'Arguments for \"soft\" robots: \\n deliver supplies: Soft robots can deliver essential goods like food, water, and medicine to victims in hard-to-reach areas. \\n accessible: Soft robots can reach inaccessible places due to their small size and high flexibility, allowing them to supply victims with vital resources. \\n care for victims: Soft robots can provide care for victims during the rescue operation, such as delivering food and medicine. \\n adaptability: Soft robots can adapt to complex problems and changing situations, making them effective in disaster areas. \\n temporary supply: Soft robots can provide temporary supply of vital resources to victims until human rescuers arrive.'"
      ]
     },
     "execution_count": 38,
     "metadata": {},
     "output_type": "execute_result"
    }
   ],
   "source": [
    "tmp_string_soft"
   ]
  },
  {
   "cell_type": "markdown",
   "metadata": {},
   "source": [
    "Prompt to get summary (focus on overlapping, diverging arguments) for A, B graph regarding single categories:"
   ]
  },
  {
   "cell_type": "code",
   "execution_count": 39,
   "metadata": {},
   "outputs": [
    {
     "name": "stdout",
     "output_type": "stream",
     "text": [
      "messages=[SystemMessage(content='\\nYou are a researcher summarizing central arguments and their explenations of people\\'s assessments of rigid and soft robots, \\nwhereby laypersons were informed about the risks and benefits of rescue robots through scenario texts.\\n\\nParticipants shared their central arguments and explenations on traditional rigid robots in arguments for \"rigid\" robots \\nand on flexible, electronic-free soft robots in arguments for \"soft\" robots.\\n\\nThe overall theme of these arguments is perceived technological possibilities.\\n\\nYour task:\\n\\nWrite a paragraph highlighting the commonalities of the arguments for rigid and soft robots followed by a brief discussion of the main differences, \\nfocusing stronger on the arguments for soft robots. \\n\\nThe paragraph should be limited to four sentences. Provide only the paragraph without any additional commentary or context.\\n', additional_kwargs={}, response_metadata={}), HumanMessage(content='arguments for \"rigid\" robots: \\nArguments for \"rigid\" robots: \\n new places: Rigid robots can search in places where people cannot reach, such as underwater caves or narrow openings. \\n resilience: Rigid robots can withstand adverse conditions, making them more effective in disaster areas. \\n special abilities: Rigid robots can perform special tasks like flying, hacking doors, or sending images to the control center with cameras. \\n environment-independent: Rigid robots can operate in various environments, including air, water, and ground, and can withstand toxic or narrow environments. \\n more power: Rigid robots can have more strength than humans, allowing them to perform tasks that require heavy lifting or drilling.\\n\\narguments for \"soft\" robots: \\nArguments for \"soft\" robots: \\n deliver supplies: Soft robots can deliver essential goods like food, water, and medicine to victims in hard-to-reach areas. \\n accessible: Soft robots can reach inaccessible places due to their small size and high flexibility, allowing them to supply victims with vital resources. \\n care for victims: Soft robots can provide care for victims during the rescue operation, such as delivering food and medicine. \\n adaptability: Soft robots can adapt to complex problems and changing situations, making them effective in disaster areas. \\n temporary supply: Soft robots can provide temporary supply of vital resources to victims until human rescuers arrive.', additional_kwargs={}, response_metadata={})]\n",
      "template_out: messages=[SystemMessage(content='\\nYou are a researcher summarizing central arguments and their explenations of people\\'s assessments of rigid and soft robots, \\nwhereby laypersons were informed about the risks and benefits of rescue robots through scenario texts.\\n\\nParticipants shared their central arguments and explenations on traditional rigid robots in arguments for \"rigid\" robots \\nand on flexible, electronic-free soft robots in arguments for \"soft\" robots.\\n\\nThe overall theme of these arguments is perceived technological possibilities.\\n\\nYour task:\\n\\nWrite a paragraph highlighting the commonalities of the arguments for rigid and soft robots followed by a brief discussion of the main differences, \\nfocusing stronger on the arguments for soft robots. \\n\\nThe paragraph should be limited to four sentences. Provide only the paragraph without any additional commentary or context.\\n', additional_kwargs={}, response_metadata={}), HumanMessage(content='arguments for \"rigid\" robots: \\nArguments for \"rigid\" robots: \\n new places: Rigid robots can search in places where people cannot reach, such as underwater caves or narrow openings. \\n resilience: Rigid robots can withstand adverse conditions, making them more effective in disaster areas. \\n special abilities: Rigid robots can perform special tasks like flying, hacking doors, or sending images to the control center with cameras. \\n environment-independent: Rigid robots can operate in various environments, including air, water, and ground, and can withstand toxic or narrow environments. \\n more power: Rigid robots can have more strength than humans, allowing them to perform tasks that require heavy lifting or drilling.\\n\\narguments for \"soft\" robots: \\nArguments for \"soft\" robots: \\n deliver supplies: Soft robots can deliver essential goods like food, water, and medicine to victims in hard-to-reach areas. \\n accessible: Soft robots can reach inaccessible places due to their small size and high flexibility, allowing them to supply victims with vital resources. \\n care for victims: Soft robots can provide care for victims during the rescue operation, such as delivering food and medicine. \\n adaptability: Soft robots can adapt to complex problems and changing situations, making them effective in disaster areas. \\n temporary supply: Soft robots can provide temporary supply of vital resources to victims until human rescuers arrive.', additional_kwargs={}, response_metadata={})]\n",
      "template_out.to_messages(): [SystemMessage(content='\\nYou are a researcher summarizing central arguments and their explenations of people\\'s assessments of rigid and soft robots, \\nwhereby laypersons were informed about the risks and benefits of rescue robots through scenario texts.\\n\\nParticipants shared their central arguments and explenations on traditional rigid robots in arguments for \"rigid\" robots \\nand on flexible, electronic-free soft robots in arguments for \"soft\" robots.\\n\\nThe overall theme of these arguments is perceived technological possibilities.\\n\\nYour task:\\n\\nWrite a paragraph highlighting the commonalities of the arguments for rigid and soft robots followed by a brief discussion of the main differences, \\nfocusing stronger on the arguments for soft robots. \\n\\nThe paragraph should be limited to four sentences. Provide only the paragraph without any additional commentary or context.\\n', additional_kwargs={}, response_metadata={}), HumanMessage(content='arguments for \"rigid\" robots: \\nArguments for \"rigid\" robots: \\n new places: Rigid robots can search in places where people cannot reach, such as underwater caves or narrow openings. \\n resilience: Rigid robots can withstand adverse conditions, making them more effective in disaster areas. \\n special abilities: Rigid robots can perform special tasks like flying, hacking doors, or sending images to the control center with cameras. \\n environment-independent: Rigid robots can operate in various environments, including air, water, and ground, and can withstand toxic or narrow environments. \\n more power: Rigid robots can have more strength than humans, allowing them to perform tasks that require heavy lifting or drilling.\\n\\narguments for \"soft\" robots: \\nArguments for \"soft\" robots: \\n deliver supplies: Soft robots can deliver essential goods like food, water, and medicine to victims in hard-to-reach areas. \\n accessible: Soft robots can reach inaccessible places due to their small size and high flexibility, allowing them to supply victims with vital resources. \\n care for victims: Soft robots can provide care for victims during the rescue operation, such as delivering food and medicine. \\n adaptability: Soft robots can adapt to complex problems and changing situations, making them effective in disaster areas. \\n temporary supply: Soft robots can provide temporary supply of vital resources to victims until human rescuers arrive.', additional_kwargs={}, response_metadata={})]\n"
     ]
    }
   ],
   "source": [
    "from langchain_core.prompts import ChatPromptTemplate\n",
    "\n",
    "\n",
    "system_template = \"\"\"\n",
    "You are a researcher summarizing central arguments and their explenations of people's assessments of rigid and soft robots, \n",
    "whereby laypersons were informed about the risks and benefits of {robots} through scenario texts.\n",
    "\n",
    "Participants shared their central arguments and explenations on traditional rigid robots in arguments for \"rigid\" robots \n",
    "and on flexible, electronic-free soft robots in arguments for \"soft\" robots.\n",
    "\n",
    "The overall theme of these arguments is {topicCategory}.\n",
    "\n",
    "Your task:\n",
    "\n",
    "Write a paragraph highlighting the commonalities of the arguments for rigid and soft robots followed by a brief discussion of the main differences, \n",
    "focusing stronger on the arguments for soft robots. \n",
    "\n",
    "The paragraph should be limited to four sentences. Provide only the paragraph without any additional commentary or context.\n",
    "\"\"\"\n",
    "\n",
    "\n",
    "user_template = \"\"\"arguments for \"rigid\" robots: \n",
    "{rigid}\n",
    "\n",
    "arguments for \"soft\" robots: \n",
    "{soft}\"\"\"\n",
    "\n",
    "# rescue robots and socially assistive robots\n",
    "prompt_template = ChatPromptTemplate.from_messages(\n",
    "    [(\"system\", system_template), (\"user\", user_template)]\n",
    ")\n",
    "\n",
    "template_out = prompt_template.invoke({\"robots\": \"rescue robots\", \"topicCategory\": abbreviations_dict[\"TP\"], \"rigid\": tmp_string_rigid, \"soft\": tmp_string_soft})\n",
    "print(template_out)\n",
    "\n",
    "print(\"template_out:\", template_out)\n",
    "print(\"template_out.to_messages():\", template_out.to_messages())"
   ]
  },
  {
   "cell_type": "markdown",
   "metadata": {},
   "source": [
    "#### Single Run\n",
    "\n",
    "Function to call LLM:"
   ]
  },
  {
   "cell_type": "code",
   "execution_count": 40,
   "metadata": {},
   "outputs": [
    {
     "name": "stdout",
     "output_type": "stream",
     "text": [
      "Tokens Used: 559\n",
      "\tPrompt Tokens: 444\n",
      "\tCompletion Tokens: 115\n",
      "Successful Requests: 1\n",
      "Total Cost (USD): $0.0\n",
      "Total Tokens: 559\n",
      "Prompt Tokens: 444\n",
      "Completion Tokens: 115\n",
      "Total Cost (USD): $0.0\n"
     ]
    }
   ],
   "source": [
    "response = huggingface_API_call(\n",
    "    prompt=prompt_template,\n",
    "    \n",
    "    robots=\"rescue robots\",\n",
    "    topicCategory=abbreviations_dict[\"TP\"],\n",
    "    dictonaryRigid=tmp_string_rigid,\n",
    "    dictonarySoft=tmp_string_soft,\n",
    "    \n",
    "    api_key=key.hugging_api_key,\n",
    "    model_name=\"meta-llama/Meta-Llama-3-70B-Instruct\",\n",
    "\n",
    "    json_schema=None,\n",
    "    max_tokens=4000,\n",
    "    temperature=0.2,\n",
    "    verbose=True\n",
    ")"
   ]
  },
  {
   "cell_type": "code",
   "execution_count": 41,
   "metadata": {},
   "outputs": [
    {
     "data": {
      "text/plain": [
       "AIMessage(content='The arguments for both rigid and soft robots share a common focus on their potential to access and operate in challenging environments, highlighting their ability to reach and assist victims in hard-to-reach areas. Both types of robots are seen as capable of providing essential resources and care to those in need. Additionally, both are perceived as adaptable to different situations and environments. However, the arguments for soft robots place a stronger emphasis on their ability to provide care and temporary supply of vital resources, underscoring their potential to make a more immediate and tangible impact on the well-being of victims.', additional_kwargs={'refusal': None}, response_metadata={'token_usage': {'completion_tokens': 115, 'prompt_tokens': 444, 'total_tokens': 559, 'completion_tokens_details': None, 'prompt_tokens_details': None}, 'model_name': 'meta-llama/Meta-Llama-3-70B-Instruct', 'system_fingerprint': '2.3.1-dev0-sha-169178b', 'finish_reason': 'stop', 'logprobs': None}, id='run-9919cbdd-a6b6-4bc1-80a0-2e15dd41af5e-0', usage_metadata={'input_tokens': 444, 'output_tokens': 115, 'total_tokens': 559, 'input_token_details': {}, 'output_token_details': {}})"
      ]
     },
     "execution_count": 41,
     "metadata": {},
     "output_type": "execute_result"
    }
   ],
   "source": [
    "response"
   ]
  },
  {
   "cell_type": "code",
   "execution_count": 42,
   "metadata": {},
   "outputs": [
    {
     "data": {
      "text/plain": [
       "'The arguments for both rigid and soft robots share a common focus on their potential to access and operate in challenging environments, highlighting their ability to reach and assist victims in hard-to-reach areas. Both types of robots are seen as capable of providing essential resources and care to those in need. Additionally, both are perceived as adaptable to different situations and environments. However, the arguments for soft robots place a stronger emphasis on their ability to provide care and temporary supply of vital resources, underscoring their potential to make a more immediate and tangible impact on the well-being of victims.'"
      ]
     },
     "execution_count": 42,
     "metadata": {},
     "output_type": "execute_result"
    }
   ],
   "source": [
    "response.content"
   ]
  },
  {
   "cell_type": "markdown",
   "metadata": {},
   "source": [
    "### Multiple Runs\n",
    "\n",
    "Higher order function to call LLM for all categories:"
   ]
  },
  {
   "cell_type": "code",
   "execution_count": 43,
   "metadata": {},
   "outputs": [],
   "source": [
    "import pandas as pd\n",
    "\n",
    "def summarize_processed_robot_data(type_robot):\n",
    "    # Define naming based on type_robot\n",
    "    if type_robot == \"RR\":\n",
    "        tmp_df = df_RR\n",
    "        naming_robots = \"rescue robots\"\n",
    "    elif type_robot == \"SAR\":\n",
    "        tmp_df = df_SAR\n",
    "        naming_robots = \"socially assistive robots\"\n",
    "    elif type_robot == \"Combined\":\n",
    "        tmp_df = df_Combined\n",
    "        naming_robots = \"rescue robots and socially assistive robots\"\n",
    "    else:\n",
    "        raise ValueError(\"Invalid type_robot specified.\")\n",
    "\n",
    "\n",
    "    # Initialize an empty DataFrame for concatenation\n",
    "    data_array = []\n",
    "    \n",
    "    for index, category in enumerate(abbreviations_dict.keys()):\n",
    "        print(f\"index: {index}, category: {category}\")\n",
    "\n",
    "        # Load the specific DataFrame for the current category\n",
    "        tmp_rigid = tmp_df[(tmp_df[\"category\"] == category) & (tmp_df[\"type\"] == \"rigid\")]\n",
    "        tmp_soft = tmp_df[(tmp_df[\"category\"] == category) & (tmp_df[\"type\"] == \"soft\")]\n",
    "        \n",
    "        tmp_string_rigid = 'Arguments for \"rigid\" robots:'\n",
    "        for index, row in tmp_rigid.iterrows():\n",
    "            tmp_string_rigid += \" \\n \" + row[\"argument\"]\n",
    "            tmp_string_rigid += \": \" + row[\"explanation\"]\n",
    "\n",
    "        tmp_string_soft = 'Arguments for \"soft\" robots:'\n",
    "        for index, row in tmp_soft.iterrows():\n",
    "            tmp_string_soft += \" \\n \" + row[\"argument\"]\n",
    "            tmp_string_soft += \": \" + row[\"explanation\"]\n",
    "        \n",
    "        \n",
    "        # Call API with specified parameters\n",
    "        response = huggingface_API_call(\n",
    "            prompt=prompt_template,\n",
    "            \n",
    "            robots=naming_robots,\n",
    "            topicCategory=abbreviations_dict[category],\n",
    "            dictonaryRigid=tmp_string_rigid,\n",
    "            dictonarySoft=tmp_string_soft,\n",
    "            \n",
    "            api_key=key.hugging_api_key,\n",
    "            model_name=\"meta-llama/Meta-Llama-3-70B-Instruct\",\n",
    "\n",
    "            json_schema=None,\n",
    "            max_tokens=4200,\n",
    "            temperature=0.0,\n",
    "            verbose=False\n",
    "        )\n",
    "        \n",
    "        data_array.append({'category': category, 'summary':response.content})\n",
    "\n",
    "    final_df = pd.DataFrame(data_array)\n",
    "    return final_df"
   ]
  },
  {
   "cell_type": "code",
   "execution_count": 44,
   "metadata": {},
   "outputs": [],
   "source": [
    "run_summary_processed_robot_data = False # True"
   ]
  },
  {
   "cell_type": "markdown",
   "metadata": {},
   "source": [
    "for rescue robots - summary:"
   ]
  },
  {
   "cell_type": "code",
   "execution_count": 45,
   "metadata": {},
   "outputs": [],
   "source": [
    "# Path to your Excel file\n",
    "file_path = directory + \"/output/G2/\" + \"rescue robots summary\" + \".xlsx\"\n",
    "\n",
    "if run_summary_processed_robot_data:\n",
    "    df_RR_summary = summarize_processed_robot_data(type_robot=\"RR\")\n",
    "    # save the dataframe to an Excel file\n",
    "    df_RR_summary.to_excel(file_path, index=False)\n",
    "else:\n",
    "    df_RR_summary = pd.read_excel(file_path)"
   ]
  },
  {
   "cell_type": "markdown",
   "metadata": {},
   "source": [
    "for socially assistive robots - summary:"
   ]
  },
  {
   "cell_type": "code",
   "execution_count": 46,
   "metadata": {},
   "outputs": [],
   "source": [
    "# Path to your Excel file\n",
    "file_path = directory + \"/output/G2/\" + \"socially assistive robots summary\" + \".xlsx\"\n",
    "    \n",
    "if run_summary_processed_robot_data:\n",
    "    df_SAR_summary = summarize_processed_robot_data(type_robot=\"SAR\")\n",
    "    # save the dataframe to an Excel file\n",
    "    df_SAR_summary.to_excel(file_path, index=False)\n",
    "else:\n",
    "    df_SAR_summary = pd.read_excel(file_path)"
   ]
  },
  {
   "cell_type": "markdown",
   "metadata": {},
   "source": [
    "## Data for Category Specific Graph (G3)\n",
    "\n",
    "All the loaded files are originally from the following GitHub page: https://github.com/PerttuHamalainen/LLMCode"
   ]
  },
  {
   "cell_type": "code",
   "execution_count": 47,
   "metadata": {},
   "outputs": [],
   "source": [
    "import os\n",
    "import sys\n",
    "\n",
    "# Assuming 'src' is one level down (in the current directory or a subdirectory)\n",
    "path_to_src = os.path.join('src/LLMCode')  # Moves one level down to 'src' folder\n",
    "\n",
    "# Add the path to sys.path\n",
    "sys.path.append(path_to_src)\n",
    "\n",
    "# Now you can import your modules\n",
    "#import llms as LLMCode_LLMS\n",
    "#import coding as LLMCode_coding\n",
    "\n",
    "import src.LLMCode as LLMCode"
   ]
  },
  {
   "cell_type": "markdown",
   "metadata": {},
   "source": [
    "load openAI key into environment:"
   ]
  },
  {
   "cell_type": "code",
   "execution_count": 48,
   "metadata": {},
   "outputs": [],
   "source": [
    "import os\n",
    "\n",
    "os.environ[\"OPENAI_API_KEY\"] = key.openAI_key"
   ]
  },
  {
   "cell_type": "markdown",
   "metadata": {},
   "source": [
    "## prepare data"
   ]
  },
  {
   "cell_type": "code",
   "execution_count": 49,
   "metadata": {},
   "outputs": [
    {
     "name": "stdout",
     "output_type": "stream",
     "text": [
      "sheet_name: SA\n",
      "mapping constant x comments: {'safety': ['Prevents people from having to work under difficult or dangerous conditions to increase safety.', 'Enables deployment in difficult situations where human rescuers would put themselves in danger', nan, nan, nan, 'through reliability', 'No people are being put in danger'], 'remote control': ['Can be operated by experts via remote control or autonomous systems to perform operations from a safe distance.', nan, nan, nan, nan, 'Minimizes risks associated with autonomy'], 'speed and efficiency': ['Robots can often act faster than humans and increase the speed of emergency interventions', 'Improvement of speed and efficiency of rescue operations', nan], 'safe': ['People do not have to put themselves in dangerous situations'], 'reliable': ['Can be precisely controlled', nan, nan, nan, nan], 'no people necessary': [nan], 'stronger than humans': [nan, 'In many situations, e.g. when clearing rubble, a great advantage.', nan, nan], 'faster than humans': [nan, nan], 'precise handling': [nan], 'reliability': [nan, 'Machines can accomplish their tasks reliably and reproducibly (provided they are well programmed and built)', nan, nan, nan], 'protection of rescue forces': ['for example in contamination scenarios', 'Reduced deployment of human rescue forces in dangerous situations', nan, 'human rescuers do not have to put themselves in danger'], 'in danger zones': [nan], 'toxic places': ['Places where people can only breathe with special equipment (gas mask)'], 'no distraction': [nan], 'by injuries': [nan], 'consistent': [nan], 'consistent performance': [nan], 'more strong': [nan], 'without basic need': ['Water, sleep, food etc.'], 'faster intervention': [nan], 'area of application': ['Can be used in areas too dangerous for humans', 'Can be used in areas that are too dangerous for humans.'], 'reaching hard-to-access places': ['Robots and drones are small and agile. Therefore, they can reach places that are difficult or even dangerous for humans to reach.'], 'discover dangerous areas': [nan], 'quick processing': [nan], 'care of people': [nan], 'perform operations': ['disease'], 'enter dangerous situation': [nan], 'less risk': [nan, 'Specifically less risk to further human lives, as rescue teams can use robots'], 'efficiency in search': [nan], 'no fatigue': [nan, 'Unlike human rescuers, robots do not tire even during long operations'], 'cover dangerous areas': ['even where it is dangerous for humans, a robot can go there'], 'precision & accuracy': [nan], 'use in dangerous situations': ['Rescue robots can be used in dangerous situations where humans are exposed to too high a risk.'], 'can act quickly': ['Robots can intervene quickly, as they do not need to be dressed or prepared and are autonomous', 'The robots can act faster than a human in an emergency.'], 'No exhaustion': [nan], 'Range': ['Robots, again just the drone can rescue victims faster in difficult terrain or bring help, e.g. medicine, food'], 'accessibility of inaccessible places': [nan], 'improved approach': [nan], 'precise work': [nan], 'rescue of people': [nan], 'deployment possibility': ['Also possible under dangerous conditions'], 'replaceable': ['In case of loss, no human sacrifice', 'During operations, unlike human rescuers, there is no need to pay attention to the safety of the robots, as they can be easily replaced.'], 'unrestricted access': ['Robots can operate in environments that would be toxic to humans, e.g. areas contaminated with radiation.'], 'sparing human life': ['If robots are used instead of human rescuers, the lives and health of the rescuers do not have to be put at risk.'], 'reduced risk': ['By using robots, no human forces are exposed to dangerous situations'], 'precision': [nan], 'more targeted help': [nan], 'saves lives': ['For example, when human helpers are not available, a rescue robot can still save human lives.', 'send a robot into a danger zone instead of a human', nan], 'protects aid workers': ['Since employees are not unnecessarily exposed to dangers, strictly speaking, this also saves their lives.'], 'fewer mistakes': [nan], 'overall more productive': [nan], 'greater accuracy': [nan], 'usable in emergencies': ['To inspect debris more accurately'], 'protection of rescue personnel': [nan], 'accessibility of places': ['Accessibility difficult to reach'], 'increased efficiency': [nan], 'faster recovery': ['One could send robots into the fire without danger to human lives, etc, to combat the cause more quickly.'], 'weather independent': ['Even in storms etc., perhaps an option for critical tasks'], 'safety for emergency personnel': [nan], 'strength (power)': ['for example, for lifting debris parts'], 'quick action': [nan], 'no danger': ['For human rescue forces in action', 'No human doctor etc. needs to enter the operating area and thus it is significantly safer and therefore protects human lives.'], 'efficiency': [nan, 'Robots could be more capable in disaster cases than human helpers.', nan, 'Robots are not limited to human speed, vision, and perception in general.', nan, 'both equally fast work, more productive way of working as well as improved access to danger zones', nan], 'access to areas': ['Access to areas difficult or only reachable through considerable dangers for people'], 'vital objects': ['Victims receive vitally important things, such as water, food, and medicine'], 'rescue forces safety': ['Emergency services can avoid dangers if, for example, pictures of the location were taken by robots.'], 'more/ easier access': ['Robots can create (easier) access to places where it would otherwise be more difficult.'], 'reduce number of victims': ['Robots could make rescue operations more efficient and faster, potentially saving more victims.'], 'no life endangered': [nan], 'can save lives': [nan, nan], 'not emotionally driven': [nan], 'focused': [nan], 'exclusion of human error': [nan], 'flexible': ['The robot could operate in dangerous areas and is therefore not limited.'], 'stronger than human': ['Specially equipped machines could help trapped victims quicker and more efficiently.'], 'chances of success': ['A reliable and error-free rescue robot could therefore save people faster and more than a human.'], 'accuracy of execution': [nan], 'enter dangerous areas': [nan], 'do not get distracted': ['Rescue robots follow their programming and can focus better on the rescue without being influenced by emotions.'], 'speed / agility': [nan], 'real-time data': [nan], 'strength': [nan, 'the robot can, for example, move objects that a human could not move'], 'simplified access': [nan], 'quick help': [nan, nan, nan], 'risk-free rescue': ['From the side of the rescuers, who do not have to put themselves in danger'], 'better CPR': [nan], 'life-threatening places': ['The possibility of entering dangerous places that people do not dare to approach, such as wreck parts, battlefields, etc.'], 'efficient': [nan, nan, nan], 'reach dangerous places': [nan], 'do not get tired': [nan, nan], 'cannot die': [nan], '\"small\" operations': ['Especially good for smaller operations and possibly the transport'], 'toxic environment': [nan], 'safer for humans': [nan, nan], 'dexterity': ['Often higher skill than human rescuers'], 'responsiveness': ['Robots have a significantly higher reaction capability than human rescuers'], 'Accuracy of rescue robots': ['this way human errors can be reduced'], 'quality/precision': [nan], 'quantity': ['more rescue operations or more people saved possible'], 'fewer deaths': [nan], 'faster operation': [nan], 'accuracy': [nan, nan], 'faster help': ['Since the risk to life is lower, rescue workers can send a robot before a complete analysis of the problem area is available.'], 'stronger': ['Robots might potentially be able to move things that humans would have great difficulty with.'], '24/7 readiness': [nan], 'access to hard-to-reach places': [nan], 'human safety': [nan], 'useful addition': ['To human rescuers.'], '\"dare\" more': ['can also be used in war zones, only material loss through explosives'], 'eyes and ears': ['for the rescue forces from a safe distance'], 'less danger': ['for human rescue forces', nan, nan], 'dangerous areas': [nan, nan], 'endurance': [nan], 'performance': [nan], 'rescue and safety': [nan], 'danger': ['less human danger'], 'no rescuer endangered': [nan], 'access': ['access to areas where people cannot reach'], 'rational efficiency': ['No suicidal experiments in rescue'], 'quick deployment': [nan, nan], 'no exhaustion': [nan], 'save many people': [nan], 'not tired': [nan], 'more human rescue': [nan], 'easier finding': ['Through their sensors like thermal imaging, the robots can better find people.'], 'do not lose strength': ['Robots do not lose stamina while humans could lose strength during missions.'], 'delivery of goods': ['Robots can, for example, deliver goods in war zones, which would be dangerous for humans.'], 'faster abolition': ['Rescue robots could shorten the path to doctors/hospitals and the abolition of injured people.'], 'safety risks': [nan], 'can be replaced': ['Robots can be replaced by other robots in case of loss'], 'better search capabilities': ['Robots can search better in the dark and in smoke etc because they have numerous sensors'], 'for danger': ['can be used in times of danger instead of humans'], 'efficient reconnaissance work': ['Through algorithms, maps can be read and created more quickly'], 'rescue efficient and': [nan], 'faster access': ['easier access to dangerous place'], 'error reduction': [nan], 'simplification of difficult situations': ['Many rescue situations prove difficult for people to reach or to intervene, automation can clearly help here.'], 'accessibility of special regions': [nan], 'risk reduction for aid workers': ['Should people go into difficult areas, for example for avalanche rescue, they put themselves in danger'], 'fire department support': [nan], 'risk': ['In dangerous environments or situations, there is of course much less risk for the people'], 'dispensable': ['the loss of a robot is less tragic than the loss of a human rescuer'], 'immune': ['a robot is immune to many dangers that would be deadly for humans such as smoke gases, chemicals, temperatures'], 'protects people': ['No human risks necessary'], 'surpasses human rescuers': ['Can be used in situations where people cannot reach'], 'low risk': [nan], 'safety for rescue workers': [nan], 'access to dangerous area': [nan], 'no performance drop': [nan], 'follows instructions precisely': [nan], 'earthquake rescue': [nan], 'lifting heavy weights': [nan], 'risk minimization': ['Approximately during search actions in risky areas'], 'precision in search': [nan], 'More flexible than human': ['People cannot access some areas or cannot see whether people are still alive. For example, in an earthquake incident under the rubble.'], 'Faster than human': ['In an earthquake, for example, recently in Turkey, the help arrived too late and this led to more loss. Robots would be more flexible and could be used faster, rather than gathering all people together and rushing to help.'], 'Stronger than human': ['As already mentioned, many people lost their lives in the earthquake in Turkey, and this was because human strength was not enough at a certain point. For example, the walls that fell on people could not be lifted, which is why arms and legs had to be cut off. If the robot was there, it could show more strength and lift the wall.'], 'speed': ['the robot can probably save faster than a human'], 'accessibility of contaminated places': ['Poisonous gases, smoke, radiation etc. play no role'], 'can be stronger': [nan], 'can work long': [nan], 'are physically superior': ['Strength, agility, mobility'], 'are mentally superior': ['No trauma for rescuers'], 'use in dangerous areas': [nan], 'use in inaccessibility': [nan], 'accuracy of work': [nan], 'does not risk human lives': [nan]}\n",
      "167\n",
      "mapping new x comments: {'flexible': [nan, nan, nan], 'less risk of injury': [nan, nan], 'reduction of injury risk': [nan, nan, \"compared to 'soft' rescue robots; valid for hard rescue robots\", nan, nan], 'delivery of supplies': [nan], 'precise work': [nan], 'food/water transport': [nan], 'reach the inaccessible': [nan], 'reduce risk of injury': [nan], 'direct help': ['through water/food'], 'time savings in emergencies': [nan], 'lower risk of injury': ['Lower risk of injury due to the adaptability of the robot'], 'care of victims': [nan], 'exploration': ['Assess the safety of the dangerous area'], 'supply with food': [nan, nan], 'adaptability': [nan], 'accessible tight spaces': ['Due to their flexibility, they can access narrow spaces that are not accessible to people.'], 'reduced risk of injury': ['the victim due to the organic construction method', nan, nan], 'injury prevention': [nan], 'more people saved': [nan], 'low risk of injury': ['helping hand'], 'low risks': ['Soft robots pose only a low risk to the victims due to their flexibility.'], 'life-threatening places': [nan], 'vital help': [nan], 'more flexible than humans': [nan], 'fast': ['faster than a human to distribute aid supplies.'], 'Adaptability': [nan], 'camera images': ['To perform an image analysis in retrospect'], 'human error susceptibility': [nan], 'medication supply': [nan], 'inaccessible areas': [nan]}\n",
      "30\n",
      "mapping deleted x comments: {'precise work possible': [nan], 'higher precision': [nan], 'safety': [nan], 'efficiency': [nan], 'save more people': [nan]}\n",
      "5\n"
     ]
    }
   ],
   "source": [
    "print(\"sheet_name:\", sheet_name)\n",
    "\n",
    "# Remove rows with NaN in the key columns as they cannot be used as dictionary keys\n",
    "#> not sensitive to multiple identical keys: dict(zip(df['constant'], df['constant_comments']))\n",
    "df = all_sheets_RR[sheet_name]\n",
    "\n",
    "constant_comments_mapping = create_multivalue_dict(df, 'constant', 'constant_comments')\n",
    "print(\"mapping constant x comments:\", constant_comments_mapping)\n",
    "print(len(constant_comments_mapping))\n",
    "\n",
    "new_comments_mapping = create_multivalue_dict(df, 'new', 'new_comments')\n",
    "print(\"mapping new x comments:\", new_comments_mapping)\n",
    "print(len(new_comments_mapping))\n",
    "\n",
    "deleted_comments_mapping = create_multivalue_dict(df, 'deleted', 'deleted_comments')\n",
    "print(\"mapping deleted x comments:\", deleted_comments_mapping)\n",
    "print(len(deleted_comments_mapping))"
   ]
  },
  {
   "cell_type": "code",
   "execution_count": 50,
   "metadata": {},
   "outputs": [
    {
     "name": "stdout",
     "output_type": "stream",
     "text": [
      "mapping constant, new x comments: {'safety': ['Prevents people from having to work under difficult or dangerous conditions to increase safety.', 'Enables deployment in difficult situations where human rescuers would put themselves in danger', nan, nan, nan, 'through reliability', 'No people are being put in danger'], 'remote control': ['Can be operated by experts via remote control or autonomous systems to perform operations from a safe distance.', nan, nan, nan, nan, 'Minimizes risks associated with autonomy'], 'speed and efficiency': ['Robots can often act faster than humans and increase the speed of emergency interventions', 'Improvement of speed and efficiency of rescue operations', nan], 'safe': ['People do not have to put themselves in dangerous situations'], 'reliable': ['Can be precisely controlled', nan, nan, nan, nan], 'no people necessary': [nan], 'stronger than humans': [nan, 'In many situations, e.g. when clearing rubble, a great advantage.', nan, nan], 'faster than humans': [nan, nan], 'precise handling': [nan], 'reliability': [nan, 'Machines can accomplish their tasks reliably and reproducibly (provided they are well programmed and built)', nan, nan, nan], 'protection of rescue forces': ['for example in contamination scenarios', 'Reduced deployment of human rescue forces in dangerous situations', nan, 'human rescuers do not have to put themselves in danger'], 'in danger zones': [nan], 'toxic places': ['Places where people can only breathe with special equipment (gas mask)'], 'no distraction': [nan], 'by injuries': [nan], 'consistent': [nan], 'consistent performance': [nan], 'more strong': [nan], 'without basic need': ['Water, sleep, food etc.'], 'faster intervention': [nan], 'area of application': ['Can be used in areas too dangerous for humans', 'Can be used in areas that are too dangerous for humans.'], 'reaching hard-to-access places': ['Robots and drones are small and agile. Therefore, they can reach places that are difficult or even dangerous for humans to reach.'], 'discover dangerous areas': [nan], 'quick processing': [nan], 'care of people': [nan], 'perform operations': ['disease'], 'enter dangerous situation': [nan], 'less risk': [nan, 'Specifically less risk to further human lives, as rescue teams can use robots'], 'efficiency in search': [nan], 'no fatigue': [nan, 'Unlike human rescuers, robots do not tire even during long operations'], 'cover dangerous areas': ['even where it is dangerous for humans, a robot can go there'], 'precision & accuracy': [nan], 'use in dangerous situations': ['Rescue robots can be used in dangerous situations where humans are exposed to too high a risk.'], 'can act quickly': ['Robots can intervene quickly, as they do not need to be dressed or prepared and are autonomous', 'The robots can act faster than a human in an emergency.'], 'No exhaustion': [nan], 'Range': ['Robots, again just the drone can rescue victims faster in difficult terrain or bring help, e.g. medicine, food'], 'accessibility of inaccessible places': [nan], 'improved approach': [nan], 'precise work': [nan, nan], 'rescue of people': [nan], 'deployment possibility': ['Also possible under dangerous conditions'], 'replaceable': ['In case of loss, no human sacrifice', 'During operations, unlike human rescuers, there is no need to pay attention to the safety of the robots, as they can be easily replaced.'], 'unrestricted access': ['Robots can operate in environments that would be toxic to humans, e.g. areas contaminated with radiation.'], 'sparing human life': ['If robots are used instead of human rescuers, the lives and health of the rescuers do not have to be put at risk.'], 'reduced risk': ['By using robots, no human forces are exposed to dangerous situations'], 'precision': [nan], 'more targeted help': [nan], 'saves lives': ['For example, when human helpers are not available, a rescue robot can still save human lives.', 'send a robot into a danger zone instead of a human', nan], 'protects aid workers': ['Since employees are not unnecessarily exposed to dangers, strictly speaking, this also saves their lives.'], 'fewer mistakes': [nan], 'overall more productive': [nan], 'greater accuracy': [nan], 'usable in emergencies': ['To inspect debris more accurately'], 'protection of rescue personnel': [nan], 'accessibility of places': ['Accessibility difficult to reach'], 'increased efficiency': [nan], 'faster recovery': ['One could send robots into the fire without danger to human lives, etc, to combat the cause more quickly.'], 'weather independent': ['Even in storms etc., perhaps an option for critical tasks'], 'safety for emergency personnel': [nan], 'strength (power)': ['for example, for lifting debris parts'], 'quick action': [nan], 'no danger': ['For human rescue forces in action', 'No human doctor etc. needs to enter the operating area and thus it is significantly safer and therefore protects human lives.'], 'efficiency': [nan, 'Robots could be more capable in disaster cases than human helpers.', nan, 'Robots are not limited to human speed, vision, and perception in general.', nan, 'both equally fast work, more productive way of working as well as improved access to danger zones', nan], 'access to areas': ['Access to areas difficult or only reachable through considerable dangers for people'], 'vital objects': ['Victims receive vitally important things, such as water, food, and medicine'], 'rescue forces safety': ['Emergency services can avoid dangers if, for example, pictures of the location were taken by robots.'], 'more/ easier access': ['Robots can create (easier) access to places where it would otherwise be more difficult.'], 'reduce number of victims': ['Robots could make rescue operations more efficient and faster, potentially saving more victims.'], 'no life endangered': [nan], 'can save lives': [nan, nan], 'not emotionally driven': [nan], 'focused': [nan], 'exclusion of human error': [nan], 'flexible': ['The robot could operate in dangerous areas and is therefore not limited.', nan, nan, nan], 'stronger than human': ['Specially equipped machines could help trapped victims quicker and more efficiently.'], 'chances of success': ['A reliable and error-free rescue robot could therefore save people faster and more than a human.'], 'accuracy of execution': [nan], 'enter dangerous areas': [nan], 'do not get distracted': ['Rescue robots follow their programming and can focus better on the rescue without being influenced by emotions.'], 'speed / agility': [nan], 'real-time data': [nan], 'strength': [nan, 'the robot can, for example, move objects that a human could not move'], 'simplified access': [nan], 'quick help': [nan, nan, nan], 'risk-free rescue': ['From the side of the rescuers, who do not have to put themselves in danger'], 'better CPR': [nan], 'life-threatening places': ['The possibility of entering dangerous places that people do not dare to approach, such as wreck parts, battlefields, etc.', nan], 'efficient': [nan, nan, nan], 'reach dangerous places': [nan], 'do not get tired': [nan, nan], 'cannot die': [nan], '\"small\" operations': ['Especially good for smaller operations and possibly the transport'], 'toxic environment': [nan], 'safer for humans': [nan, nan], 'dexterity': ['Often higher skill than human rescuers'], 'responsiveness': ['Robots have a significantly higher reaction capability than human rescuers'], 'Accuracy of rescue robots': ['this way human errors can be reduced'], 'quality/precision': [nan], 'quantity': ['more rescue operations or more people saved possible'], 'fewer deaths': [nan], 'faster operation': [nan], 'accuracy': [nan, nan], 'faster help': ['Since the risk to life is lower, rescue workers can send a robot before a complete analysis of the problem area is available.'], 'stronger': ['Robots might potentially be able to move things that humans would have great difficulty with.'], '24/7 readiness': [nan], 'access to hard-to-reach places': [nan], 'human safety': [nan], 'useful addition': ['To human rescuers.'], '\"dare\" more': ['can also be used in war zones, only material loss through explosives'], 'eyes and ears': ['for the rescue forces from a safe distance'], 'less danger': ['for human rescue forces', nan, nan], 'dangerous areas': [nan, nan], 'endurance': [nan], 'performance': [nan], 'rescue and safety': [nan], 'danger': ['less human danger'], 'no rescuer endangered': [nan], 'access': ['access to areas where people cannot reach'], 'rational efficiency': ['No suicidal experiments in rescue'], 'quick deployment': [nan, nan], 'no exhaustion': [nan], 'save many people': [nan], 'not tired': [nan], 'more human rescue': [nan], 'easier finding': ['Through their sensors like thermal imaging, the robots can better find people.'], 'do not lose strength': ['Robots do not lose stamina while humans could lose strength during missions.'], 'delivery of goods': ['Robots can, for example, deliver goods in war zones, which would be dangerous for humans.'], 'faster abolition': ['Rescue robots could shorten the path to doctors/hospitals and the abolition of injured people.'], 'safety risks': [nan], 'can be replaced': ['Robots can be replaced by other robots in case of loss'], 'better search capabilities': ['Robots can search better in the dark and in smoke etc because they have numerous sensors'], 'for danger': ['can be used in times of danger instead of humans'], 'efficient reconnaissance work': ['Through algorithms, maps can be read and created more quickly'], 'rescue efficient and': [nan], 'faster access': ['easier access to dangerous place'], 'error reduction': [nan], 'simplification of difficult situations': ['Many rescue situations prove difficult for people to reach or to intervene, automation can clearly help here.'], 'accessibility of special regions': [nan], 'risk reduction for aid workers': ['Should people go into difficult areas, for example for avalanche rescue, they put themselves in danger'], 'fire department support': [nan], 'risk': ['In dangerous environments or situations, there is of course much less risk for the people'], 'dispensable': ['the loss of a robot is less tragic than the loss of a human rescuer'], 'immune': ['a robot is immune to many dangers that would be deadly for humans such as smoke gases, chemicals, temperatures'], 'protects people': ['No human risks necessary'], 'surpasses human rescuers': ['Can be used in situations where people cannot reach'], 'low risk': [nan], 'safety for rescue workers': [nan], 'access to dangerous area': [nan], 'no performance drop': [nan], 'follows instructions precisely': [nan], 'earthquake rescue': [nan], 'lifting heavy weights': [nan], 'risk minimization': ['Approximately during search actions in risky areas'], 'precision in search': [nan], 'More flexible than human': ['People cannot access some areas or cannot see whether people are still alive. For example, in an earthquake incident under the rubble.'], 'Faster than human': ['In an earthquake, for example, recently in Turkey, the help arrived too late and this led to more loss. Robots would be more flexible and could be used faster, rather than gathering all people together and rushing to help.'], 'Stronger than human': ['As already mentioned, many people lost their lives in the earthquake in Turkey, and this was because human strength was not enough at a certain point. For example, the walls that fell on people could not be lifted, which is why arms and legs had to be cut off. If the robot was there, it could show more strength and lift the wall.'], 'speed': ['the robot can probably save faster than a human'], 'accessibility of contaminated places': ['Poisonous gases, smoke, radiation etc. play no role'], 'can be stronger': [nan], 'can work long': [nan], 'are physically superior': ['Strength, agility, mobility'], 'are mentally superior': ['No trauma for rescuers'], 'use in dangerous areas': [nan], 'use in inaccessibility': [nan], 'accuracy of work': [nan], 'does not risk human lives': [nan], 'less risk of injury': [nan, nan], 'reduction of injury risk': [nan, nan, \"compared to 'soft' rescue robots; valid for hard rescue robots\", nan, nan], 'delivery of supplies': [nan], 'food/water transport': [nan], 'reach the inaccessible': [nan], 'reduce risk of injury': [nan], 'direct help': ['through water/food'], 'time savings in emergencies': [nan], 'lower risk of injury': ['Lower risk of injury due to the adaptability of the robot'], 'care of victims': [nan], 'exploration': ['Assess the safety of the dangerous area'], 'supply with food': [nan, nan], 'adaptability': [nan], 'accessible tight spaces': ['Due to their flexibility, they can access narrow spaces that are not accessible to people.'], 'reduced risk of injury': ['the victim due to the organic construction method', nan, nan], 'injury prevention': [nan], 'more people saved': [nan], 'low risk of injury': ['helping hand'], 'low risks': ['Soft robots pose only a low risk to the victims due to their flexibility.'], 'vital help': [nan], 'more flexible than humans': [nan], 'fast': ['faster than a human to distribute aid supplies.'], 'Adaptability': [nan], 'camera images': ['To perform an image analysis in retrospect'], 'human error susceptibility': [nan], 'medication supply': [nan], 'inaccessible areas': [nan]}\n",
      "194\n"
     ]
    }
   ],
   "source": [
    "constant_new_comments_mapping = combine_dicts(constant_comments_mapping, new_comments_mapping)\n",
    "print(\"mapping constant, new x comments:\", constant_new_comments_mapping)\n",
    "print(len(constant_new_comments_mapping))\n"
   ]
  },
  {
   "cell_type": "code",
   "execution_count": 51,
   "metadata": {},
   "outputs": [
    {
     "name": "stdout",
     "output_type": "stream",
     "text": [
      "{'are physically superior: Strength, agility, mobility', 'can act quickly: Robots can intervene quickly, as they do not need to be dressed or prepared and are autonomous', 'replaceable: In case of loss, no human sacrifice', 'efficient reconnaissance work: Through algorithms, maps can be read and created more quickly', 'access: access to areas where people cannot reach', 'Accuracy of rescue robots: this way human errors can be reduced', 'increased efficiency', 'no danger: No human doctor etc. needs to enter the operating area and thus it is significantly safer and therefore protects human lives.', 'stronger: Robots might potentially be able to move things that humans would have great difficulty with.', 'greater accuracy', 'reduced risk: By using robots, no human forces are exposed to dangerous situations', 'simplification of difficult situations: Many rescue situations prove difficult for people to reach or to intervene, automation can clearly help here.', 'risk minimization: Approximately during search actions in risky areas', 'rescue and safety', 'safety: through reliability', 'no danger: For human rescue forces in action', 'supply with food', 'dangerous areas', 'use in dangerous situations: Rescue robots can be used in dangerous situations where humans are exposed to too high a risk.', 'more flexible than humans', 'speed and efficiency: Robots can often act faster than humans and increase the speed of emergency interventions', 'do not lose strength: Robots do not lose stamina while humans could lose strength during missions.', 'efficiency', 'remote control', 'efficiency: Robots are not limited to human speed, vision, and perception in general.', 'remote control: Can be operated by experts via remote control or autonomous systems to perform operations from a safe distance.', 'rescue of people', 'medication supply', 'perform operations: disease', 'strength: the robot can, for example, move objects that a human could not move', 'can be replaced: Robots can be replaced by other robots in case of loss', 'reduce number of victims: Robots could make rescue operations more efficient and faster, potentially saving more victims.', 'no rescuer endangered', 'less risk', 'direct help: through water/food', 'can work long', 'access to areas: Access to areas difficult or only reachable through considerable dangers for people', 'no exhaustion', 'risk reduction for aid workers: Should people go into difficult areas, for example for avalanche rescue, they put themselves in danger', 'improved approach', 'faster help: Since the risk to life is lower, rescue workers can send a robot before a complete analysis of the problem area is available.', 'protection of rescue forces: Reduced deployment of human rescue forces in dangerous situations', 'better CPR', 'precision & accuracy', 'more strong', 'protection of rescue personnel', 'access to hard-to-reach places', 'less danger: for human rescue forces', 'reduced risk of injury: the victim due to the organic construction method', 'more people saved', 'fewer deaths', 'for danger: can be used in times of danger instead of humans', 'strength', 'reach dangerous places', 'reach the inaccessible', 'reliable', 'speed / agility', 'no distraction', 'life-threatening places: The possibility of entering dangerous places that people do not dare to approach, such as wreck parts, battlefields, etc.', 'surpasses human rescuers: Can be used in situations where people cannot reach', 'saves lives', 'reduced risk of injury', 'protection of rescue forces: for example in contamination scenarios', 'Faster than human: In an earthquake, for example, recently in Turkey, the help arrived too late and this led to more loss. Robots would be more flexible and could be used faster, rather than gathering all people together and rushing to help.', 'dispensable: the loss of a robot is less tragic than the loss of a human rescuer', 'safer for humans', 'safety: No people are being put in danger', 'fire department support', 'human error susceptibility', 'safety', 'precision', 'risk-free rescue: From the side of the rescuers, who do not have to put themselves in danger', 'usable in emergencies: To inspect debris more accurately', '\"dare\" more: can also be used in war zones, only material loss through explosives', 'safety risks', 'protection of rescue forces', 'overall more productive', 'immune: a robot is immune to many dangers that would be deadly for humans such as smoke gases, chemicals, temperatures', 'remote control: Minimizes risks associated with autonomy', 'cover dangerous areas: even where it is dangerous for humans, a robot can go there', '24/7 readiness', 'do not get tired', 'low risk', 'toxic places: Places where people can only breathe with special equipment (gas mask)', 'replaceable: During operations, unlike human rescuers, there is no need to pay attention to the safety of the robots, as they can be easily replaced.', 'faster recovery: One could send robots into the fire without danger to human lives, etc, to combat the cause more quickly.', 'stronger than human: Specially equipped machines could help trapped victims quicker and more efficiently.', 'stronger than humans: In many situations, e.g. when clearing rubble, a great advantage.', 'cannot die', 'rescue efficient and', 'access to dangerous area', 'inaccessible areas', 'easier finding: Through their sensors like thermal imaging, the robots can better find people.', 'injury prevention', 'focused', 'not tired', 'stronger than humans', 'food/water transport', 'Stronger than human: As already mentioned, many people lost their lives in the earthquake in Turkey, and this was because human strength was not enough at a certain point. For example, the walls that fell on people could not be lifted, which is why arms and legs had to be cut off. If the robot was there, it could show more strength and lift the wall.', 'vital help', 'safety for rescue workers', 'area of application: Can be used in areas too dangerous for humans', 'safe: People do not have to put themselves in dangerous situations', '\"small\" operations: Especially good for smaller operations and possibly the transport', 'chances of success: A reliable and error-free rescue robot could therefore save people faster and more than a human.', 'protects aid workers: Since employees are not unnecessarily exposed to dangers, strictly speaking, this also saves their lives.', 'faster abolition: Rescue robots could shorten the path to doctors/hospitals and the abolition of injured people.', 'exploration: Assess the safety of the dangerous area', 'flexible: The robot could operate in dangerous areas and is therefore not limited.', 'no fatigue', 'rescue forces safety: Emergency services can avoid dangers if, for example, pictures of the location were taken by robots.', 'weather independent: Even in storms etc., perhaps an option for critical tasks', 'reliability', 'deployment possibility: Also possible under dangerous conditions', 'no people necessary', 'more/ easier access: Robots can create (easier) access to places where it would otherwise be more difficult.', 'quantity: more rescue operations or more people saved possible', 'quick deployment', 'time savings in emergencies', 'sparing human life: If robots are used instead of human rescuers, the lives and health of the rescuers do not have to be put at risk.', 'efficiency: both equally fast work, more productive way of working as well as improved access to danger zones', 'saves lives: send a robot into a danger zone instead of a human', 'no life endangered', 'precise work', 'human safety', 'consistent', 'toxic environment', 'low risks: Soft robots pose only a low risk to the victims due to their flexibility.', 'speed: the robot can probably save faster than a human', 'can be stronger', 'protection of rescue forces: human rescuers do not have to put themselves in danger', 'reduce risk of injury', 'reliable: Can be precisely controlled', 'more targeted help', 'More flexible than human: People cannot access some areas or cannot see whether people are still alive. For example, in an earthquake incident under the rubble.', 'less risk of injury', 'without basic need: Water, sleep, food etc.', 'quick help', 'enter dangerous areas', 'reduction of injury risk', 'accessibility of inaccessible places', 'real-time data', 'efficiency in search', 'earthquake rescue', 'Range: Robots, again just the drone can rescue victims faster in difficult terrain or bring help, e.g. medicine, food', 'precise handling', 'simplified access', 'error reduction', 'faster operation', 'risk: In dangerous environments or situations, there is of course much less risk for the people', 'flexible', 'camera images: To perform an image analysis in retrospect', 'faster intervention', 'can save lives', 'less danger', 'better search capabilities: Robots can search better in the dark and in smoke etc because they have numerous sensors', 'endurance', 'adaptability', 'speed and efficiency: Improvement of speed and efficiency of rescue operations', 'use in dangerous areas', 'safety for emergency personnel', 'quality/precision', 'vital objects: Victims receive vitally important things, such as water, food, and medicine', 'useful addition: To human rescuers.', 'by injuries', 'no fatigue: Unlike human rescuers, robots do not tire even during long operations', 'safety: Enables deployment in difficult situations where human rescuers would put themselves in danger', 'performance', 'low risk of injury: helping hand', 'faster access: easier access to dangerous place', 'no performance drop', 'consistent performance', 'lower risk of injury: Lower risk of injury due to the adaptability of the robot', 'accuracy of execution', 'less risk: Specifically less risk to further human lives, as rescue teams can use robots', 'fewer mistakes', 'reliability: Machines can accomplish their tasks reliably and reproducibly (provided they are well programmed and built)', 'eyes and ears: for the rescue forces from a safe distance', 'efficiency: Robots could be more capable in disaster cases than human helpers.', 'rational efficiency: No suicidal experiments in rescue', 'enter dangerous situation', 'No exhaustion', 'accuracy', 'use in inaccessibility', 'efficient', 'lifting heavy weights', 'accessibility of contaminated places: Poisonous gases, smoke, radiation etc. play no role', 'are mentally superior: No trauma for rescuers', 'not emotionally driven', 'accessible tight spaces: Due to their flexibility, they can access narrow spaces that are not accessible to people.', 'faster than humans', 'precision in search', 'follows instructions precisely', 'accessibility of places: Accessibility difficult to reach', 'care of people', 'life-threatening places', 'more human rescue', 'quick processing', 'delivery of goods: Robots can, for example, deliver goods in war zones, which would be dangerous for humans.', \"reduction of injury risk: compared to 'soft' rescue robots; valid for hard rescue robots\", 'care of victims', 'reaching hard-to-access places: Robots and drones are small and agile. Therefore, they can reach places that are difficult or even dangerous for humans to reach.', 'do not get distracted: Rescue robots follow their programming and can focus better on the rescue without being influenced by emotions.', 'accessibility of special regions', 'strength (power): for example, for lifting debris parts', 'responsiveness: Robots have a significantly higher reaction capability than human rescuers', 'delivery of supplies', 'accuracy of work', 'safety: Prevents people from having to work under difficult or dangerous conditions to increase safety.', 'save many people', 'does not risk human lives', 'in danger zones', 'fast: faster than a human to distribute aid supplies.', 'discover dangerous areas', 'quick action', 'area of application: Can be used in areas that are too dangerous for humans.', 'danger: less human danger', 'unrestricted access: Robots can operate in environments that would be toxic to humans, e.g. areas contaminated with radiation.', 'protects people: No human risks necessary', 'exclusion of human error', 'speed and efficiency', 'dexterity: Often higher skill than human rescuers', 'Adaptability', 'saves lives: For example, when human helpers are not available, a rescue robot can still save human lives.', 'can act quickly: The robots can act faster than a human in an emergency.'}\n"
     ]
    }
   ],
   "source": [
    "import numpy as np\n",
    "\n",
    "# Sample dictionary with NaN values\n",
    "dictionary = constant_new_comments_mapping\n",
    "\n",
    "# Initialize a set to store unique single concepts\n",
    "unique_concepts = set()\n",
    "\n",
    "# Iterate through the dictionary\n",
    "for key, values in dictionary.items():\n",
    "    for value in values:\n",
    "        # Check if the value is not NaN\n",
    "        if isinstance(value, str):\n",
    "            unique_concepts.add(f\"{key}: {value}\")\n",
    "        else:\n",
    "            unique_concepts.add(key)\n",
    "\n",
    "# Convert the set to a list and take only the first 10 elements\n",
    "single_concepts = unique_concepts # list(unique_concepts)[:10]\n",
    "\n",
    "# Print the result\n",
    "print(single_concepts)\n"
   ]
  },
  {
   "cell_type": "code",
   "execution_count": 52,
   "metadata": {},
   "outputs": [
    {
     "name": "stdout",
     "output_type": "stream",
     "text": [
      "225\n",
      "30\n"
     ]
    }
   ],
   "source": [
    "print(len(single_concepts))\n",
    "single_concepts = list(unique_concepts)[:30]\n",
    "print(len(single_concepts))"
   ]
  },
  {
   "cell_type": "markdown",
   "metadata": {},
   "source": [
    "## run LLMCode - a toolkit for AI-assisted qualitative data analysis"
   ]
  },
  {
   "cell_type": "code",
   "execution_count": 55,
   "metadata": {},
   "outputs": [],
   "source": [
    "LLMCode.init(API=\"OpenAI\")"
   ]
  },
  {
   "cell_type": "code",
   "execution_count": 56,
   "metadata": {},
   "outputs": [
    {
     "name": "stdout",
     "output_type": "stream",
     "text": [
      " |███-------------------------------------------------------------------------------------------------| 3.3% Arguments:\n",
      "model: gpt-4o\n",
      "prompt_batch: ['You are an expert qualitative researcher who is given the following text to analyze:\\n\\nare physically superior: Strength, agility, mobility\\n\\nOutput a single sentence summarising the most interesting insights in the text, specifically pertaining to the research question \"What are the key perceived benefits and risks regarding safety of the search and rescue robot?\". If there are no relevant insights, output \"The text contains no insights relevant to the research question.\"']\n",
      "max_tokens: 200\n",
      "use_cache: True\n",
      "temperature: 0\n",
      "system_message: You are a helpful assistant.\n",
      "stop: []\n",
      "API_type: OpenAI\n",
      "Arguments:\n",
      "model: gpt-4o\n",
      "prompt_batch: ['You are given a text to code inductively and the main insights from the text. Please carry out the following task:\\n- Respond by repeating the original text, but highlighting the coded statements by surrounding the statements with double asterisks, as if they were bolded text in a Markdown document.\\n- Include the associated code(s) immediately after the statement, separated by a semicolon and enclosed in <sup></sup> tags, as if they were superscript text in a Markdown document.\\n- Ignore text that is not insightful with regards to the research question.\\n- Preserve exact formatting of the original text. Do not correct typos or remove unnecessary spaces.\\n\\nBelow, I first give you examples of the output you should produce given an example input. After that, I give you the actual input to process.\\n\\nEXAMPLE INPUT:\\nI feel valued and appreciated by my team.\\n\\nEXAMPLE OUTPUT:\\n**I feel valued and appreciated**<sup>employee recognition</sup> by my team.\\n\\nEXAMPLE INPUT:\\nThe training programs are really beneficial.\\n\\nEXAMPLE OUTPUT:\\nThe **training programs**<sup>professional development</sup> are really beneficial.\\n\\nACTUAL INPUT:\\nare physically superior: Strength, agility, mobility\\n\\nMAIN INSIGHTS:\\nThe text contains no insights relevant to the research question.']\n",
      "max_tokens: 150\n",
      "use_cache: True\n",
      "temperature: 0\n",
      "system_message: You are a helpful assistant.\n",
      "stop: []\n",
      "API_type: OpenAI\n",
      "Warning: LLM output differs from the original text, with edit distance 84\n",
      "Original text: \"are physically superior: Strength, agility, mobility\"\n",
      "LLM output: \"The text contains no insights relevant to the research question, so there is nothing to highlight or code.\"\n",
      "Text reconstruction successful\n",
      "\n",
      "Had to reconstruct 1 texts due to LLM errors\n",
      " |██████----------------------------------------------------------------------------------------------| 6.7% Arguments:\n",
      "model: gpt-4o\n",
      "prompt_batch: ['You are an expert qualitative researcher who is given the following text to analyze:\\n\\ncan act quickly: Robots can intervene quickly, as they do not need to be dressed or prepared and are autonomous\\n\\nOutput a single sentence summarising the most interesting insights in the text, specifically pertaining to the research question \"What are the key perceived benefits and risks regarding safety of the search and rescue robot?\". If there are no relevant insights, output \"The text contains no insights relevant to the research question.\"']\n",
      "max_tokens: 200\n",
      "use_cache: True\n",
      "temperature: 0\n",
      "system_message: You are a helpful assistant.\n",
      "stop: []\n",
      "API_type: OpenAI\n",
      "Arguments:\n",
      "model: gpt-4o\n",
      "prompt_batch: ['You are given a text to code inductively and the main insights from the text. Please carry out the following task:\\n- Respond by repeating the original text, but highlighting the coded statements by surrounding the statements with double asterisks, as if they were bolded text in a Markdown document.\\n- Include the associated code(s) immediately after the statement, separated by a semicolon and enclosed in <sup></sup> tags, as if they were superscript text in a Markdown document.\\n- Ignore text that is not insightful with regards to the research question.\\n- Preserve exact formatting of the original text. Do not correct typos or remove unnecessary spaces.\\n\\nBelow, I first give you examples of the output you should produce given an example input. After that, I give you the actual input to process.\\n\\nEXAMPLE INPUT:\\nI feel valued and appreciated by my team.\\n\\nEXAMPLE OUTPUT:\\n**I feel valued and appreciated**<sup>employee recognition</sup> by my team.\\n\\nEXAMPLE INPUT:\\nThe training programs are really beneficial.\\n\\nEXAMPLE OUTPUT:\\nThe **training programs**<sup>professional development</sup> are really beneficial.\\n\\nACTUAL INPUT:\\ncan act quickly: Robots can intervene quickly, as they do not need to be dressed or prepared and are autonomous\\n\\nMAIN INSIGHTS:\\nThe text highlights the perceived benefit of search and rescue robots being able to act quickly and autonomously, enhancing their effectiveness in emergency situations.']\n",
      "max_tokens: 150\n",
      "use_cache: True\n",
      "temperature: 0\n",
      "system_message: You are a helpful assistant.\n",
      "stop: []\n",
      "API_type: OpenAI\n",
      "Arguments:\n",
      "model: gpt-4o\n",
      "prompt_batch: ['Write a brief but nuanced one-sentence description for the given inductive code, based on a set of texts annotated with the code.\\n For example, for the code \"overcommunication\", you might generate the description: Captures instances where participants discuss feeling overwhelmed by excessive communication, such as constant emails, messages, or meetings\\n Write the description in the context of a qualitative research project with the research question: What are the key perceived benefits and risks regarding safety of the search and rescue robot?.\\n\\nCODE: speed\\n\\nCODED TEXTS SEPARATED BY \"***\":\\ncan act quickly']\n",
      "max_tokens: 200\n",
      "use_cache: True\n",
      "temperature: 0\n",
      "system_message: You are a helpful assistant.\n",
      "stop: []\n",
      "API_type: OpenAI\n",
      "Arguments:\n",
      "model: gpt-4o\n",
      "prompt_batch: ['Write a brief but nuanced one-sentence description for the given inductive code, based on a set of texts annotated with the code.\\n For example, for the code \"overcommunication\", you might generate the description: Captures instances where participants discuss feeling overwhelmed by excessive communication, such as constant emails, messages, or meetings\\n Write the description in the context of a qualitative research project with the research question: What are the key perceived benefits and risks regarding safety of the search and rescue robot?.\\n\\nCODE: autonomy\\n\\nCODED TEXTS SEPARATED BY \"***\":\\nautonomous']\n",
      "max_tokens: 200\n",
      "use_cache: True\n",
      "temperature: 0\n",
      "system_message: You are a helpful assistant.\n",
      "stop: []\n",
      "API_type: OpenAI\n",
      " |██████████------------------------------------------------------------------------------------------| 10.0% Arguments:\n",
      "model: gpt-4o\n",
      "prompt_batch: ['You are an expert qualitative researcher who is given the following text to analyze:\\n\\nreplaceable: In case of loss, no human sacrifice\\n\\nOutput a single sentence summarising the most interesting insights in the text, specifically pertaining to the research question \"What are the key perceived benefits and risks regarding safety of the search and rescue robot?\". If there are no relevant insights, output \"The text contains no insights relevant to the research question.\"']\n",
      "max_tokens: 200\n",
      "use_cache: True\n",
      "temperature: 0\n",
      "system_message: You are a helpful assistant.\n",
      "stop: []\n",
      "API_type: OpenAI\n",
      "Arguments:\n",
      "model: gpt-4o\n",
      "prompt_batch: ['You are given a text to code inductively and the main insights from the text. Please carry out the following task:\\n- Respond by repeating the original text, but highlighting the coded statements by surrounding the statements with double asterisks, as if they were bolded text in a Markdown document.\\n- Include the associated code(s) immediately after the statement, separated by a semicolon and enclosed in <sup></sup> tags, as if they were superscript text in a Markdown document.\\n- Ignore text that is not insightful with regards to the research question.\\n- Preserve exact formatting of the original text. Do not correct typos or remove unnecessary spaces.\\n\\nSome examples of codes in the format \"{code}: {description}\". Please create new codes when needed:\\nspeed: Captures instances where participants highlight the robot\\'s ability to perform tasks rapidly, emphasizing the potential for swift response times in emergency situations, which can be crucial for enhancing safety during search and rescue operations.\\nautonomy: Captures instances where participants express concerns or appreciation for the robot\\'s ability to operate independently, highlighting both the potential for increased efficiency in search and rescue missions and the risks associated with reduced human oversight and control.\\n\\nBelow, I first give you examples of the output you should produce given an example input. After that, I give you the actual input to process.\\n\\nEXAMPLE INPUT:\\nI feel valued and appreciated by my team.\\n\\nEXAMPLE OUTPUT:\\n**I feel valued and appreciated**<sup>employee recognition</sup> by my team.\\n\\nEXAMPLE INPUT:\\nThe training programs are really beneficial.\\n\\nEXAMPLE OUTPUT:\\nThe **training programs**<sup>professional development</sup> are really beneficial.\\n\\nACTUAL INPUT:\\nreplaceable: In case of loss, no human sacrifice\\n\\nMAIN INSIGHTS:\\nThe text contains no insights relevant to the research question.']\n",
      "max_tokens: 150\n",
      "use_cache: True\n",
      "temperature: 0\n",
      "system_message: You are a helpful assistant.\n",
      "stop: []\n",
      "API_type: OpenAI\n",
      "Warning: LLM output differs from the original text, with edit distance 50\n",
      "Original text: \"replaceable: In case of loss, no human sacrifice\"\n",
      "LLM output: \"The text contains no insights relevant to the research question.\"\n",
      "Text reconstruction successful\n",
      "\n",
      "Had to reconstruct 1 texts due to LLM errors\n",
      " |█████████████---------------------------------------------------------------------------------------| 13.3% Arguments:\n",
      "model: gpt-4o\n",
      "prompt_batch: ['You are an expert qualitative researcher who is given the following text to analyze:\\n\\nefficient reconnaissance work: Through algorithms, maps can be read and created more quickly\\n\\nOutput a single sentence summarising the most interesting insights in the text, specifically pertaining to the research question \"What are the key perceived benefits and risks regarding safety of the search and rescue robot?\". If there are no relevant insights, output \"The text contains no insights relevant to the research question.\"']\n",
      "max_tokens: 200\n",
      "use_cache: True\n",
      "temperature: 0\n",
      "system_message: You are a helpful assistant.\n",
      "stop: []\n",
      "API_type: OpenAI\n",
      "Arguments:\n",
      "model: gpt-4o\n",
      "prompt_batch: ['You are given a text to code inductively and the main insights from the text. Please carry out the following task:\\n- Respond by repeating the original text, but highlighting the coded statements by surrounding the statements with double asterisks, as if they were bolded text in a Markdown document.\\n- Include the associated code(s) immediately after the statement, separated by a semicolon and enclosed in <sup></sup> tags, as if they were superscript text in a Markdown document.\\n- Ignore text that is not insightful with regards to the research question.\\n- Preserve exact formatting of the original text. Do not correct typos or remove unnecessary spaces.\\n\\nSome examples of codes in the format \"{code}: {description}\". Please create new codes when needed:\\nspeed: Captures instances where participants highlight the robot\\'s ability to perform tasks rapidly, emphasizing the potential for swift response times in emergency situations, which can be crucial for enhancing safety during search and rescue operations.\\nautonomy: Captures instances where participants express concerns or appreciation for the robot\\'s ability to operate independently, highlighting both the potential for increased efficiency in search and rescue missions and the risks associated with reduced human oversight and control.\\n\\nBelow, I first give you examples of the output you should produce given an example input. After that, I give you the actual input to process.\\n\\nEXAMPLE INPUT:\\nThe training programs are really beneficial.\\n\\nEXAMPLE OUTPUT:\\nThe **training programs**<sup>professional development</sup> are really beneficial.\\n\\nEXAMPLE INPUT:\\nI feel valued and appreciated by my team.\\n\\nEXAMPLE OUTPUT:\\n**I feel valued and appreciated**<sup>employee recognition</sup> by my team.\\n\\nACTUAL INPUT:\\nefficient reconnaissance work: Through algorithms, maps can be read and created more quickly\\n\\nMAIN INSIGHTS:\\nThe text contains no insights relevant to the research question.']\n",
      "max_tokens: 150\n",
      "use_cache: True\n",
      "temperature: 0\n",
      "system_message: You are a helpful assistant.\n",
      "stop: []\n",
      "API_type: OpenAI\n",
      "Warning: LLM output differs from the original text, with edit distance 82\n",
      "Original text: \"efficient reconnaissance work: Through algorithms, maps can be read and created more quickly\"\n",
      "LLM output: \"I'm sorry, but the text provided does not contain any insights relevant to the research question.\"\n",
      "Text reconstruction successful\n",
      "\n",
      "Had to reconstruct 1 texts due to LLM errors\n",
      " |████████████████------------------------------------------------------------------------------------| 16.7% Arguments:\n",
      "model: gpt-4o\n",
      "prompt_batch: ['You are an expert qualitative researcher who is given the following text to analyze:\\n\\naccess: access to areas where people cannot reach\\n\\nOutput a single sentence summarising the most interesting insights in the text, specifically pertaining to the research question \"What are the key perceived benefits and risks regarding safety of the search and rescue robot?\". If there are no relevant insights, output \"The text contains no insights relevant to the research question.\"']\n",
      "max_tokens: 200\n",
      "use_cache: True\n",
      "temperature: 0\n",
      "system_message: You are a helpful assistant.\n",
      "stop: []\n",
      "API_type: OpenAI\n",
      "Arguments:\n",
      "model: gpt-4o\n",
      "prompt_batch: ['You are given a text to code inductively and the main insights from the text. Please carry out the following task:\\n- Respond by repeating the original text, but highlighting the coded statements by surrounding the statements with double asterisks, as if they were bolded text in a Markdown document.\\n- Include the associated code(s) immediately after the statement, separated by a semicolon and enclosed in <sup></sup> tags, as if they were superscript text in a Markdown document.\\n- Ignore text that is not insightful with regards to the research question.\\n- Preserve exact formatting of the original text. Do not correct typos or remove unnecessary spaces.\\n\\nSome examples of codes in the format \"{code}: {description}\". Please create new codes when needed:\\nspeed: Captures instances where participants highlight the robot\\'s ability to perform tasks rapidly, emphasizing the potential for swift response times in emergency situations, which can be crucial for enhancing safety during search and rescue operations.\\nautonomy: Captures instances where participants express concerns or appreciation for the robot\\'s ability to operate independently, highlighting both the potential for increased efficiency in search and rescue missions and the risks associated with reduced human oversight and control.\\n\\nBelow, I first give you examples of the output you should produce given an example input. After that, I give you the actual input to process.\\n\\nEXAMPLE INPUT:\\nI feel valued and appreciated by my team.\\n\\nEXAMPLE OUTPUT:\\n**I feel valued and appreciated**<sup>employee recognition</sup> by my team.\\n\\nEXAMPLE INPUT:\\nThe training programs are really beneficial.\\n\\nEXAMPLE OUTPUT:\\nThe **training programs**<sup>professional development</sup> are really beneficial.\\n\\nACTUAL INPUT:\\naccess: access to areas where people cannot reach\\n\\nMAIN INSIGHTS:\\nThe text contains no insights relevant to the research question.']\n",
      "max_tokens: 150\n",
      "use_cache: True\n",
      "temperature: 0\n",
      "system_message: You are a helpful assistant.\n",
      "stop: []\n",
      "API_type: OpenAI\n",
      "Warning: LLM output differs from the original text, with edit distance 49\n",
      "Original text: \"access: access to areas where people cannot reach\"\n",
      "LLM output: \"The text contains no insights relevant to the research question.\"\n",
      "Text reconstruction successful\n",
      "\n",
      "Had to reconstruct 1 texts due to LLM errors\n",
      " |████████████████████--------------------------------------------------------------------------------| 20.0% Arguments:\n",
      "model: gpt-4o\n",
      "prompt_batch: ['You are an expert qualitative researcher who is given the following text to analyze:\\n\\nAccuracy of rescue robots: this way human errors can be reduced\\n\\nOutput a single sentence summarising the most interesting insights in the text, specifically pertaining to the research question \"What are the key perceived benefits and risks regarding safety of the search and rescue robot?\". If there are no relevant insights, output \"The text contains no insights relevant to the research question.\"']\n",
      "max_tokens: 200\n",
      "use_cache: True\n",
      "temperature: 0\n",
      "system_message: You are a helpful assistant.\n",
      "stop: []\n",
      "API_type: OpenAI\n",
      "Arguments:\n",
      "model: gpt-4o\n",
      "prompt_batch: ['You are given a text to code inductively and the main insights from the text. Please carry out the following task:\\n- Respond by repeating the original text, but highlighting the coded statements by surrounding the statements with double asterisks, as if they were bolded text in a Markdown document.\\n- Include the associated code(s) immediately after the statement, separated by a semicolon and enclosed in <sup></sup> tags, as if they were superscript text in a Markdown document.\\n- Ignore text that is not insightful with regards to the research question.\\n- Preserve exact formatting of the original text. Do not correct typos or remove unnecessary spaces.\\n\\nSome examples of codes in the format \"{code}: {description}\". Please create new codes when needed:\\nspeed: Captures instances where participants highlight the robot\\'s ability to perform tasks rapidly, emphasizing the potential for swift response times in emergency situations, which can be crucial for enhancing safety during search and rescue operations.\\nautonomy: Captures instances where participants express concerns or appreciation for the robot\\'s ability to operate independently, highlighting both the potential for increased efficiency in search and rescue missions and the risks associated with reduced human oversight and control.\\n\\nBelow, I first give you examples of the output you should produce given an example input. After that, I give you the actual input to process.\\n\\nEXAMPLE INPUT:\\nThe training programs are really beneficial.\\n\\nEXAMPLE OUTPUT:\\nThe **training programs**<sup>professional development</sup> are really beneficial.\\n\\nEXAMPLE INPUT:\\nI feel valued and appreciated by my team.\\n\\nEXAMPLE OUTPUT:\\n**I feel valued and appreciated**<sup>employee recognition</sup> by my team.\\n\\nACTUAL INPUT:\\nAccuracy of rescue robots: this way human errors can be reduced\\n\\nMAIN INSIGHTS:\\nThe text contains no insights relevant to the research question.']\n",
      "max_tokens: 150\n",
      "use_cache: True\n",
      "temperature: 0\n",
      "system_message: You are a helpful assistant.\n",
      "stop: []\n",
      "API_type: OpenAI\n",
      "Warning: LLM output differs from the original text, with edit distance 82\n",
      "Original text: \"Accuracy of rescue robots: this way human errors can be reduced\"\n",
      "LLM output: \"I'm sorry, but there are no insightful statements in the provided text that relate to the research question.\"\n",
      "Text reconstruction successful\n",
      "\n",
      "Had to reconstruct 1 texts due to LLM errors\n",
      " |███████████████████████-----------------------------------------------------------------------------| 23.3% Arguments:\n",
      "model: gpt-4o\n",
      "prompt_batch: ['You are an expert qualitative researcher who is given the following text to analyze:\\n\\nincreased efficiency\\n\\nOutput a single sentence summarising the most interesting insights in the text, specifically pertaining to the research question \"What are the key perceived benefits and risks regarding safety of the search and rescue robot?\". If there are no relevant insights, output \"The text contains no insights relevant to the research question.\"']\n",
      "max_tokens: 200\n",
      "use_cache: True\n",
      "temperature: 0\n",
      "system_message: You are a helpful assistant.\n",
      "stop: []\n",
      "API_type: OpenAI\n",
      "Arguments:\n",
      "model: gpt-4o\n",
      "prompt_batch: ['You are given a text to code inductively and the main insights from the text. Please carry out the following task:\\n- Respond by repeating the original text, but highlighting the coded statements by surrounding the statements with double asterisks, as if they were bolded text in a Markdown document.\\n- Include the associated code(s) immediately after the statement, separated by a semicolon and enclosed in <sup></sup> tags, as if they were superscript text in a Markdown document.\\n- Ignore text that is not insightful with regards to the research question.\\n- Preserve exact formatting of the original text. Do not correct typos or remove unnecessary spaces.\\n\\nSome examples of codes in the format \"{code}: {description}\". Please create new codes when needed:\\nspeed: Captures instances where participants highlight the robot\\'s ability to perform tasks rapidly, emphasizing the potential for swift response times in emergency situations, which can be crucial for enhancing safety during search and rescue operations.\\nautonomy: Captures instances where participants express concerns or appreciation for the robot\\'s ability to operate independently, highlighting both the potential for increased efficiency in search and rescue missions and the risks associated with reduced human oversight and control.\\n\\nBelow, I first give you examples of the output you should produce given an example input. After that, I give you the actual input to process.\\n\\nEXAMPLE INPUT:\\nI feel valued and appreciated by my team.\\n\\nEXAMPLE OUTPUT:\\n**I feel valued and appreciated**<sup>employee recognition</sup> by my team.\\n\\nEXAMPLE INPUT:\\nThe training programs are really beneficial.\\n\\nEXAMPLE OUTPUT:\\nThe **training programs**<sup>professional development</sup> are really beneficial.\\n\\nACTUAL INPUT:\\nincreased efficiency\\n\\nMAIN INSIGHTS:\\nThe text contains no insights relevant to the research question.']\n",
      "max_tokens: 150\n",
      "use_cache: True\n",
      "temperature: 0\n",
      "system_message: You are a helpful assistant.\n",
      "stop: []\n",
      "API_type: OpenAI\n",
      "Warning: LLM output differs from the original text, with edit distance 98\n",
      "Original text: \"increased efficiency\"\n",
      "LLM output: \"I'm sorry, but there are no insightful statements in the provided text that relate to the research question.\"\n",
      "Text reconstruction successful\n",
      "\n",
      "Had to reconstruct 1 texts due to LLM errors\n",
      " |██████████████████████████--------------------------------------------------------------------------| 26.7% Arguments:\n",
      "model: gpt-4o\n",
      "prompt_batch: ['You are an expert qualitative researcher who is given the following text to analyze:\\n\\nno danger: No human doctor etc. needs to enter the operating area and thus it is significantly safer and therefore protects human lives.\\n\\nOutput a single sentence summarising the most interesting insights in the text, specifically pertaining to the research question \"What are the key perceived benefits and risks regarding safety of the search and rescue robot?\". If there are no relevant insights, output \"The text contains no insights relevant to the research question.\"']\n",
      "max_tokens: 200\n",
      "use_cache: True\n",
      "temperature: 0\n",
      "system_message: You are a helpful assistant.\n",
      "stop: []\n",
      "API_type: OpenAI\n",
      "Arguments:\n",
      "model: gpt-4o\n",
      "prompt_batch: ['You are given a text to code inductively and the main insights from the text. Please carry out the following task:\\n- Respond by repeating the original text, but highlighting the coded statements by surrounding the statements with double asterisks, as if they were bolded text in a Markdown document.\\n- Include the associated code(s) immediately after the statement, separated by a semicolon and enclosed in <sup></sup> tags, as if they were superscript text in a Markdown document.\\n- Ignore text that is not insightful with regards to the research question.\\n- Preserve exact formatting of the original text. Do not correct typos or remove unnecessary spaces.\\n\\nSome examples of codes in the format \"{code}: {description}\". Please create new codes when needed:\\nspeed: Captures instances where participants highlight the robot\\'s ability to perform tasks rapidly, emphasizing the potential for swift response times in emergency situations, which can be crucial for enhancing safety during search and rescue operations.\\nautonomy: Captures instances where participants express concerns or appreciation for the robot\\'s ability to operate independently, highlighting both the potential for increased efficiency in search and rescue missions and the risks associated with reduced human oversight and control.\\n\\nBelow, I first give you examples of the output you should produce given an example input. After that, I give you the actual input to process.\\n\\nEXAMPLE INPUT:\\nI feel valued and appreciated by my team.\\n\\nEXAMPLE OUTPUT:\\n**I feel valued and appreciated**<sup>employee recognition</sup> by my team.\\n\\nEXAMPLE INPUT:\\nThe training programs are really beneficial.\\n\\nEXAMPLE OUTPUT:\\nThe **training programs**<sup>professional development</sup> are really beneficial.\\n\\nACTUAL INPUT:\\nno danger: No human doctor etc. needs to enter the operating area and thus it is significantly safer and therefore protects human lives.\\n\\nMAIN INSIGHTS:\\nThe text highlights a key perceived benefit of the search and rescue robot: it enhances safety by eliminating the need for human doctors to enter the operating area, thereby protecting human lives.']\n",
      "max_tokens: 150\n",
      "use_cache: True\n",
      "temperature: 0\n",
      "system_message: You are a helpful assistant.\n",
      "stop: []\n",
      "API_type: OpenAI\n",
      "Warning: LLM output differs from the original text, with edit distance 11\n",
      "Original text: \"no danger: No human doctor etc. needs to enter the operating area and thus it is significantly safer and therefore protects human lives.\"\n",
      "LLM output: \"**No human doctor etc. needs to enter the operating area**<sup>safety</sup> and **thus it is significantly safer and therefore protects human lives**<sup>safety</sup>.\"\n",
      "Text reconstruction successful\n",
      "\n",
      "Had to reconstruct 1 texts due to LLM errors\n",
      "Arguments:\n",
      "model: gpt-4o\n",
      "prompt_batch: ['Write a brief but nuanced one-sentence description for the given inductive code, based on a set of texts annotated with the code.\\n For example, for the code \"overcommunication\", you might generate the description: Captures instances where participants discuss feeling overwhelmed by excessive communication, such as constant emails, messages, or meetings\\n Write the description in the context of a qualitative research project with the research question: What are the key perceived benefits and risks regarding safety of the search and rescue robot?.\\n\\nCODE: safety\\n\\nCODED TEXTS SEPARATED BY \"***\":\\nNo human doctor etc. needs to enter the operating area']\n",
      "max_tokens: 200\n",
      "use_cache: True\n",
      "temperature: 0\n",
      "system_message: You are a helpful assistant.\n",
      "stop: []\n",
      "API_type: OpenAI\n",
      " |██████████████████████████████----------------------------------------------------------------------| 30.0% Arguments:\n",
      "model: gpt-4o\n",
      "prompt_batch: ['You are an expert qualitative researcher who is given the following text to analyze:\\n\\nstronger: Robots might potentially be able to move things that humans would have great difficulty with.\\n\\nOutput a single sentence summarising the most interesting insights in the text, specifically pertaining to the research question \"What are the key perceived benefits and risks regarding safety of the search and rescue robot?\". If there are no relevant insights, output \"The text contains no insights relevant to the research question.\"']\n",
      "max_tokens: 200\n",
      "use_cache: True\n",
      "temperature: 0\n",
      "system_message: You are a helpful assistant.\n",
      "stop: []\n",
      "API_type: OpenAI\n",
      "Arguments:\n",
      "model: gpt-4o\n",
      "prompt_batch: ['You are given a text to code inductively and the main insights from the text. Please carry out the following task:\\n- Respond by repeating the original text, but highlighting the coded statements by surrounding the statements with double asterisks, as if they were bolded text in a Markdown document.\\n- Include the associated code(s) immediately after the statement, separated by a semicolon and enclosed in <sup></sup> tags, as if they were superscript text in a Markdown document.\\n- Ignore text that is not insightful with regards to the research question.\\n- Preserve exact formatting of the original text. Do not correct typos or remove unnecessary spaces.\\n\\nSome examples of codes in the format \"{code}: {description}\". Please create new codes when needed:\\nsafety: Captures discussions where participants highlight the perceived safety benefits of search and rescue robots, such as reducing the need for human presence in hazardous environments, thereby minimizing risk to human life.\\nautonomy: Captures instances where participants express concerns or appreciation for the robot\\'s ability to operate independently, highlighting both the potential for increased efficiency in search and rescue missions and the risks associated with reduced human oversight and control.\\nspeed: Captures instances where participants highlight the robot\\'s ability to perform tasks rapidly, emphasizing the potential for swift response times in emergency situations, which can be crucial for enhancing safety during search and rescue operations.\\n\\nBelow, I first give you examples of the output you should produce given an example input. After that, I give you the actual input to process.\\n\\nEXAMPLE INPUT:\\nI feel valued and appreciated by my team.\\n\\nEXAMPLE OUTPUT:\\n**I feel valued and appreciated**<sup>employee recognition</sup> by my team.\\n\\nEXAMPLE INPUT:\\nThe training programs are really beneficial.\\n\\nEXAMPLE OUTPUT:\\nThe **training programs**<sup>professional development</sup> are really beneficial.\\n\\nACTUAL INPUT:\\nstronger: Robots might potentially be able to move things that humans would have great difficulty with.\\n\\nMAIN INSIGHTS:\\nThe text contains no insights relevant to the research question.']\n",
      "max_tokens: 150\n",
      "use_cache: True\n",
      "temperature: 0\n",
      "system_message: You are a helpful assistant.\n",
      "stop: []\n",
      "API_type: OpenAI\n",
      "Warning: LLM output differs from the original text, with edit distance 76\n",
      "Original text: \"stronger: Robots might potentially be able to move things that humans would have great difficulty with.\"\n",
      "LLM output: \"The text contains no insights relevant to the research question.\"\n",
      "Text reconstruction successful\n",
      "\n",
      "Had to reconstruct 1 texts due to LLM errors\n",
      " |█████████████████████████████████-------------------------------------------------------------------| 33.3% Arguments:\n",
      "model: gpt-4o\n",
      "prompt_batch: ['You are an expert qualitative researcher who is given the following text to analyze:\\n\\ngreater accuracy\\n\\nOutput a single sentence summarising the most interesting insights in the text, specifically pertaining to the research question \"What are the key perceived benefits and risks regarding safety of the search and rescue robot?\". If there are no relevant insights, output \"The text contains no insights relevant to the research question.\"']\n",
      "max_tokens: 200\n",
      "use_cache: True\n",
      "temperature: 0\n",
      "system_message: You are a helpful assistant.\n",
      "stop: []\n",
      "API_type: OpenAI\n",
      "Arguments:\n",
      "model: gpt-4o\n",
      "prompt_batch: ['You are given a text to code inductively and the main insights from the text. Please carry out the following task:\\n- Respond by repeating the original text, but highlighting the coded statements by surrounding the statements with double asterisks, as if they were bolded text in a Markdown document.\\n- Include the associated code(s) immediately after the statement, separated by a semicolon and enclosed in <sup></sup> tags, as if they were superscript text in a Markdown document.\\n- Ignore text that is not insightful with regards to the research question.\\n- Preserve exact formatting of the original text. Do not correct typos or remove unnecessary spaces.\\n\\nSome examples of codes in the format \"{code}: {description}\". Please create new codes when needed:\\nsafety: Captures discussions where participants highlight the perceived safety benefits of search and rescue robots, such as reducing the need for human presence in hazardous environments, thereby minimizing risk to human life.\\nautonomy: Captures instances where participants express concerns or appreciation for the robot\\'s ability to operate independently, highlighting both the potential for increased efficiency in search and rescue missions and the risks associated with reduced human oversight and control.\\nspeed: Captures instances where participants highlight the robot\\'s ability to perform tasks rapidly, emphasizing the potential for swift response times in emergency situations, which can be crucial for enhancing safety during search and rescue operations.\\n\\nBelow, I first give you examples of the output you should produce given an example input. After that, I give you the actual input to process.\\n\\nEXAMPLE INPUT:\\nThe training programs are really beneficial.\\n\\nEXAMPLE OUTPUT:\\nThe **training programs**<sup>professional development</sup> are really beneficial.\\n\\nEXAMPLE INPUT:\\nI feel valued and appreciated by my team.\\n\\nEXAMPLE OUTPUT:\\n**I feel valued and appreciated**<sup>employee recognition</sup> by my team.\\n\\nACTUAL INPUT:\\ngreater accuracy\\n\\nMAIN INSIGHTS:\\nThe text contains no insights relevant to the research question.']\n",
      "max_tokens: 150\n",
      "use_cache: True\n",
      "temperature: 0\n",
      "system_message: You are a helpful assistant.\n",
      "stop: []\n",
      "API_type: OpenAI\n",
      "Warning: LLM output differs from the original text, with edit distance 103\n",
      "Original text: \"greater accuracy\"\n",
      "LLM output: \"I'm sorry, but there are no insightful statements in the provided text that are relevant to the research question.\"\n",
      "Text reconstruction successful\n",
      "\n",
      "Had to reconstruct 1 texts due to LLM errors\n",
      " |████████████████████████████████████----------------------------------------------------------------| 36.7% Arguments:\n",
      "model: gpt-4o\n",
      "prompt_batch: ['You are an expert qualitative researcher who is given the following text to analyze:\\n\\nreduced risk: By using robots, no human forces are exposed to dangerous situations\\n\\nOutput a single sentence summarising the most interesting insights in the text, specifically pertaining to the research question \"What are the key perceived benefits and risks regarding safety of the search and rescue robot?\". If there are no relevant insights, output \"The text contains no insights relevant to the research question.\"']\n",
      "max_tokens: 200\n",
      "use_cache: True\n",
      "temperature: 0\n",
      "system_message: You are a helpful assistant.\n",
      "stop: []\n",
      "API_type: OpenAI\n",
      "Arguments:\n",
      "model: gpt-4o\n",
      "prompt_batch: ['You are given a text to code inductively and the main insights from the text. Please carry out the following task:\\n- Respond by repeating the original text, but highlighting the coded statements by surrounding the statements with double asterisks, as if they were bolded text in a Markdown document.\\n- Include the associated code(s) immediately after the statement, separated by a semicolon and enclosed in <sup></sup> tags, as if they were superscript text in a Markdown document.\\n- Ignore text that is not insightful with regards to the research question.\\n- Preserve exact formatting of the original text. Do not correct typos or remove unnecessary spaces.\\n\\nSome examples of codes in the format \"{code}: {description}\". Please create new codes when needed:\\nsafety: Captures discussions where participants highlight the perceived safety benefits of search and rescue robots, such as reducing the need for human presence in hazardous environments, thereby minimizing risk to human life.\\nspeed: Captures instances where participants highlight the robot\\'s ability to perform tasks rapidly, emphasizing the potential for swift response times in emergency situations, which can be crucial for enhancing safety during search and rescue operations.\\nautonomy: Captures instances where participants express concerns or appreciation for the robot\\'s ability to operate independently, highlighting both the potential for increased efficiency in search and rescue missions and the risks associated with reduced human oversight and control.\\n\\nBelow, I first give you examples of the output you should produce given an example input. After that, I give you the actual input to process.\\n\\nEXAMPLE INPUT:\\nI feel valued and appreciated by my team.\\n\\nEXAMPLE OUTPUT:\\n**I feel valued and appreciated**<sup>employee recognition</sup> by my team.\\n\\nEXAMPLE INPUT:\\nThe training programs are really beneficial.\\n\\nEXAMPLE OUTPUT:\\nThe **training programs**<sup>professional development</sup> are really beneficial.\\n\\nACTUAL INPUT:\\nreduced risk: By using robots, no human forces are exposed to dangerous situations\\n\\nMAIN INSIGHTS:\\nThe text highlights a key perceived benefit regarding safety, which is the reduction of risk to human forces by using robots in dangerous situations.']\n",
      "max_tokens: 150\n",
      "use_cache: True\n",
      "temperature: 0\n",
      "system_message: You are a helpful assistant.\n",
      "stop: []\n",
      "API_type: OpenAI\n",
      "Warning: LLM output differs from the original text, with edit distance 14\n",
      "Original text: \"reduced risk: By using robots, no human forces are exposed to dangerous situations\"\n",
      "LLM output: \"**By using robots, no human forces are exposed to dangerous situations**<sup>safety</sup>\"\n",
      "Text reconstruction successful\n",
      "\n",
      "Had to reconstruct 1 texts due to LLM errors\n",
      " |████████████████████████████████████████------------------------------------------------------------| 40.0% Arguments:\n",
      "model: gpt-4o\n",
      "prompt_batch: ['You are an expert qualitative researcher who is given the following text to analyze:\\n\\nsimplification of difficult situations: Many rescue situations prove difficult for people to reach or to intervene, automation can clearly help here.\\n\\nOutput a single sentence summarising the most interesting insights in the text, specifically pertaining to the research question \"What are the key perceived benefits and risks regarding safety of the search and rescue robot?\". If there are no relevant insights, output \"The text contains no insights relevant to the research question.\"']\n",
      "max_tokens: 200\n",
      "use_cache: True\n",
      "temperature: 0\n",
      "system_message: You are a helpful assistant.\n",
      "stop: []\n",
      "API_type: OpenAI\n",
      "Arguments:\n",
      "model: gpt-4o\n",
      "prompt_batch: ['You are given a text to code inductively and the main insights from the text. Please carry out the following task:\\n- Respond by repeating the original text, but highlighting the coded statements by surrounding the statements with double asterisks, as if they were bolded text in a Markdown document.\\n- Include the associated code(s) immediately after the statement, separated by a semicolon and enclosed in <sup></sup> tags, as if they were superscript text in a Markdown document.\\n- Ignore text that is not insightful with regards to the research question.\\n- Preserve exact formatting of the original text. Do not correct typos or remove unnecessary spaces.\\n\\nSome examples of codes in the format \"{code}: {description}\". Please create new codes when needed:\\nautonomy: Captures instances where participants express concerns or appreciation for the robot\\'s ability to operate independently, highlighting both the potential for increased efficiency in search and rescue missions and the risks associated with reduced human oversight and control.\\nsafety: Captures discussions where participants highlight the perceived safety benefits of search and rescue robots, such as reducing the need for human presence in hazardous environments, thereby minimizing risk to human life.\\nspeed: Captures instances where participants highlight the robot\\'s ability to perform tasks rapidly, emphasizing the potential for swift response times in emergency situations, which can be crucial for enhancing safety during search and rescue operations.\\n\\nBelow, I first give you examples of the output you should produce given an example input. After that, I give you the actual input to process.\\n\\nEXAMPLE INPUT:\\nThe training programs are really beneficial.\\n\\nEXAMPLE OUTPUT:\\nThe **training programs**<sup>professional development</sup> are really beneficial.\\n\\nEXAMPLE INPUT:\\nI feel valued and appreciated by my team.\\n\\nEXAMPLE OUTPUT:\\n**I feel valued and appreciated**<sup>employee recognition</sup> by my team.\\n\\nACTUAL INPUT:\\nsimplification of difficult situations: Many rescue situations prove difficult for people to reach or to intervene, automation can clearly help here.\\n\\nMAIN INSIGHTS:\\nThe text suggests that automation in rescue situations is perceived as beneficial for improving accessibility and intervention in difficult-to-reach areas.']\n",
      "max_tokens: 150\n",
      "use_cache: True\n",
      "temperature: 0\n",
      "system_message: You are a helpful assistant.\n",
      "stop: []\n",
      "API_type: OpenAI\n",
      "Warning: LLM output differs from the original text, with edit distance 40\n",
      "Original text: \"simplification of difficult situations: Many rescue situations prove difficult for people to reach or to intervene, automation can clearly help here.\"\n",
      "LLM output: \"**Many rescue situations prove difficult for people to reach or to intervene, automation can clearly help here.**<sup>accessibility</sup>\"\n",
      "Text reconstruction successful\n",
      "\n",
      "Had to reconstruct 1 texts due to LLM errors\n",
      "Arguments:\n",
      "model: gpt-4o\n",
      "prompt_batch: ['Write a brief but nuanced one-sentence description for the given inductive code, based on a set of texts annotated with the code.\\n For example, for the code \"overcommunication\", you might generate the description: Captures instances where participants discuss feeling overwhelmed by excessive communication, such as constant emails, messages, or meetings\\n Write the description in the context of a qualitative research project with the research question: What are the key perceived benefits and risks regarding safety of the search and rescue robot?.\\n\\nCODE: accessibility\\n\\nCODED TEXTS SEPARATED BY \"***\":\\nMany rescue situations prove difficult for people to reach or to intervene, automation can clearly help here.']\n",
      "max_tokens: 200\n",
      "use_cache: True\n",
      "temperature: 0\n",
      "system_message: You are a helpful assistant.\n",
      "stop: []\n",
      "API_type: OpenAI\n",
      " |███████████████████████████████████████████---------------------------------------------------------| 43.3% Arguments:\n",
      "model: gpt-4o\n",
      "prompt_batch: ['You are an expert qualitative researcher who is given the following text to analyze:\\n\\nrisk minimization: Approximately during search actions in risky areas\\n\\nOutput a single sentence summarising the most interesting insights in the text, specifically pertaining to the research question \"What are the key perceived benefits and risks regarding safety of the search and rescue robot?\". If there are no relevant insights, output \"The text contains no insights relevant to the research question.\"']\n",
      "max_tokens: 200\n",
      "use_cache: True\n",
      "temperature: 0\n",
      "system_message: You are a helpful assistant.\n",
      "stop: []\n",
      "API_type: OpenAI\n",
      "Arguments:\n",
      "model: gpt-4o\n",
      "prompt_batch: ['You are given a text to code inductively and the main insights from the text. Please carry out the following task:\\n- Respond by repeating the original text, but highlighting the coded statements by surrounding the statements with double asterisks, as if they were bolded text in a Markdown document.\\n- Include the associated code(s) immediately after the statement, separated by a semicolon and enclosed in <sup></sup> tags, as if they were superscript text in a Markdown document.\\n- Ignore text that is not insightful with regards to the research question.\\n- Preserve exact formatting of the original text. Do not correct typos or remove unnecessary spaces.\\n\\nSome examples of codes in the format \"{code}: {description}\". Please create new codes when needed:\\nspeed: Captures instances where participants highlight the robot\\'s ability to perform tasks rapidly, emphasizing the potential for swift response times in emergency situations, which can be crucial for enhancing safety during search and rescue operations.\\nautonomy: Captures instances where participants express concerns or appreciation for the robot\\'s ability to operate independently, highlighting both the potential for increased efficiency in search and rescue missions and the risks associated with reduced human oversight and control.\\naccessibility: Captures instances where participants highlight the advantage of search and rescue robots in accessing hazardous or hard-to-reach areas, thereby enhancing the effectiveness and safety of rescue operations.\\nsafety: Captures discussions where participants highlight the perceived safety benefits of search and rescue robots, such as reducing the need for human presence in hazardous environments, thereby minimizing risk to human life.\\n\\nBelow, I first give you examples of the output you should produce given an example input. After that, I give you the actual input to process.\\n\\nEXAMPLE INPUT:\\nThe training programs are really beneficial.\\n\\nEXAMPLE OUTPUT:\\nThe **training programs**<sup>professional development</sup> are really beneficial.\\n\\nEXAMPLE INPUT:\\nI feel valued and appreciated by my team.\\n\\nEXAMPLE OUTPUT:\\n**I feel valued and appreciated**<sup>employee recognition</sup> by my team.\\n\\nACTUAL INPUT:\\nrisk minimization: Approximately during search actions in risky areas\\n\\nMAIN INSIGHTS:\\nThe text contains no insights relevant to the research question.']\n",
      "max_tokens: 150\n",
      "use_cache: True\n",
      "temperature: 0\n",
      "system_message: You are a helpful assistant.\n",
      "stop: []\n",
      "API_type: OpenAI\n",
      "Warning: LLM output differs from the original text, with edit distance 142\n",
      "Original text: \"risk minimization: Approximately during search actions in risky areas\"\n",
      "LLM output: \"I'm sorry, but the text provided does not contain any statements that are insightful with regards to the research question. Therefore, there are no coded statements to highlight.\"\n",
      "Text reconstruction successful\n",
      "\n",
      "Had to reconstruct 1 texts due to LLM errors\n",
      " |██████████████████████████████████████████████------------------------------------------------------| 46.7% Arguments:\n",
      "model: gpt-4o\n",
      "prompt_batch: ['You are an expert qualitative researcher who is given the following text to analyze:\\n\\nrescue and safety\\n\\nOutput a single sentence summarising the most interesting insights in the text, specifically pertaining to the research question \"What are the key perceived benefits and risks regarding safety of the search and rescue robot?\". If there are no relevant insights, output \"The text contains no insights relevant to the research question.\"']\n",
      "max_tokens: 200\n",
      "use_cache: True\n",
      "temperature: 0\n",
      "system_message: You are a helpful assistant.\n",
      "stop: []\n",
      "API_type: OpenAI\n",
      "Arguments:\n",
      "model: gpt-4o\n",
      "prompt_batch: ['You are given a text to code inductively and the main insights from the text. Please carry out the following task:\\n- Respond by repeating the original text, but highlighting the coded statements by surrounding the statements with double asterisks, as if they were bolded text in a Markdown document.\\n- Include the associated code(s) immediately after the statement, separated by a semicolon and enclosed in <sup></sup> tags, as if they were superscript text in a Markdown document.\\n- Ignore text that is not insightful with regards to the research question.\\n- Preserve exact formatting of the original text. Do not correct typos or remove unnecessary spaces.\\n\\nSome examples of codes in the format \"{code}: {description}\". Please create new codes when needed:\\nsafety: Captures discussions where participants highlight the perceived safety benefits of search and rescue robots, such as reducing the need for human presence in hazardous environments, thereby minimizing risk to human life.\\nautonomy: Captures instances where participants express concerns or appreciation for the robot\\'s ability to operate independently, highlighting both the potential for increased efficiency in search and rescue missions and the risks associated with reduced human oversight and control.\\nspeed: Captures instances where participants highlight the robot\\'s ability to perform tasks rapidly, emphasizing the potential for swift response times in emergency situations, which can be crucial for enhancing safety during search and rescue operations.\\naccessibility: Captures instances where participants highlight the advantage of search and rescue robots in accessing hazardous or hard-to-reach areas, thereby enhancing the effectiveness and safety of rescue operations.\\n\\nBelow, I first give you examples of the output you should produce given an example input. After that, I give you the actual input to process.\\n\\nEXAMPLE INPUT:\\nI feel valued and appreciated by my team.\\n\\nEXAMPLE OUTPUT:\\n**I feel valued and appreciated**<sup>employee recognition</sup> by my team.\\n\\nEXAMPLE INPUT:\\nThe training programs are really beneficial.\\n\\nEXAMPLE OUTPUT:\\nThe **training programs**<sup>professional development</sup> are really beneficial.\\n\\nACTUAL INPUT:\\nrescue and safety\\n\\nMAIN INSIGHTS:\\nThe text contains no insights relevant to the research question.']\n",
      "max_tokens: 150\n",
      "use_cache: True\n",
      "temperature: 0\n",
      "system_message: You are a helpful assistant.\n",
      "stop: []\n",
      "API_type: OpenAI\n",
      " |██████████████████████████████████████████████████--------------------------------------------------| 50.0% Arguments:\n",
      "model: gpt-4o\n",
      "prompt_batch: ['You are an expert qualitative researcher who is given the following text to analyze:\\n\\nsafety: through reliability\\n\\nOutput a single sentence summarising the most interesting insights in the text, specifically pertaining to the research question \"What are the key perceived benefits and risks regarding safety of the search and rescue robot?\". If there are no relevant insights, output \"The text contains no insights relevant to the research question.\"']\n",
      "max_tokens: 200\n",
      "use_cache: True\n",
      "temperature: 0\n",
      "system_message: You are a helpful assistant.\n",
      "stop: []\n",
      "API_type: OpenAI\n",
      "Arguments:\n",
      "model: gpt-4o\n",
      "prompt_batch: ['You are given a text to code inductively and the main insights from the text. Please carry out the following task:\\n- Respond by repeating the original text, but highlighting the coded statements by surrounding the statements with double asterisks, as if they were bolded text in a Markdown document.\\n- Include the associated code(s) immediately after the statement, separated by a semicolon and enclosed in <sup></sup> tags, as if they were superscript text in a Markdown document.\\n- Ignore text that is not insightful with regards to the research question.\\n- Preserve exact formatting of the original text. Do not correct typos or remove unnecessary spaces.\\n\\nSome examples of codes in the format \"{code}: {description}\". Please create new codes when needed:\\nautonomy: Captures instances where participants express concerns or appreciation for the robot\\'s ability to operate independently, highlighting both the potential for increased efficiency in search and rescue missions and the risks associated with reduced human oversight and control.\\naccessibility: Captures instances where participants highlight the advantage of search and rescue robots in accessing hazardous or hard-to-reach areas, thereby enhancing the effectiveness and safety of rescue operations.\\nsafety: Captures discussions where participants highlight the perceived safety benefits of search and rescue robots, such as reducing the need for human presence in hazardous environments, thereby minimizing risk to human life.\\nspeed: Captures instances where participants highlight the robot\\'s ability to perform tasks rapidly, emphasizing the potential for swift response times in emergency situations, which can be crucial for enhancing safety during search and rescue operations.\\n\\nBelow, I first give you examples of the output you should produce given an example input. After that, I give you the actual input to process.\\n\\nEXAMPLE INPUT:\\nI feel valued and appreciated by my team.\\n\\nEXAMPLE OUTPUT:\\n**I feel valued and appreciated**<sup>employee recognition</sup> by my team.\\n\\nEXAMPLE INPUT:\\nThe training programs are really beneficial.\\n\\nEXAMPLE OUTPUT:\\nThe **training programs**<sup>professional development</sup> are really beneficial.\\n\\nACTUAL INPUT:\\nsafety: through reliability\\n\\nMAIN INSIGHTS:\\nThe text contains no insights relevant to the research question.']\n",
      "max_tokens: 150\n",
      "use_cache: True\n",
      "temperature: 0\n",
      "system_message: You are a helpful assistant.\n",
      "stop: []\n",
      "API_type: OpenAI\n",
      "Warning: LLM output differs from the original text, with edit distance 158\n",
      "Original text: \"safety: through reliability\"\n",
      "LLM output: \"I'm sorry, but the text provided does not contain any statements that are insightful with regards to the research question. Therefore, there are no coded statements to highlight.\"\n",
      "Text reconstruction successful\n",
      "\n",
      "Had to reconstruct 1 texts due to LLM errors\n",
      " |█████████████████████████████████████████████████████-----------------------------------------------| 53.3% Arguments:\n",
      "model: gpt-4o\n",
      "prompt_batch: ['You are an expert qualitative researcher who is given the following text to analyze:\\n\\nno danger: For human rescue forces in action\\n\\nOutput a single sentence summarising the most interesting insights in the text, specifically pertaining to the research question \"What are the key perceived benefits and risks regarding safety of the search and rescue robot?\". If there are no relevant insights, output \"The text contains no insights relevant to the research question.\"']\n",
      "max_tokens: 200\n",
      "use_cache: True\n",
      "temperature: 0\n",
      "system_message: You are a helpful assistant.\n",
      "stop: []\n",
      "API_type: OpenAI\n",
      "Arguments:\n",
      "model: gpt-4o\n",
      "prompt_batch: ['You are given a text to code inductively and the main insights from the text. Please carry out the following task:\\n- Respond by repeating the original text, but highlighting the coded statements by surrounding the statements with double asterisks, as if they were bolded text in a Markdown document.\\n- Include the associated code(s) immediately after the statement, separated by a semicolon and enclosed in <sup></sup> tags, as if they were superscript text in a Markdown document.\\n- Ignore text that is not insightful with regards to the research question.\\n- Preserve exact formatting of the original text. Do not correct typos or remove unnecessary spaces.\\n\\nSome examples of codes in the format \"{code}: {description}\". Please create new codes when needed:\\nspeed: Captures instances where participants highlight the robot\\'s ability to perform tasks rapidly, emphasizing the potential for swift response times in emergency situations, which can be crucial for enhancing safety during search and rescue operations.\\nautonomy: Captures instances where participants express concerns or appreciation for the robot\\'s ability to operate independently, highlighting both the potential for increased efficiency in search and rescue missions and the risks associated with reduced human oversight and control.\\nsafety: Captures discussions where participants highlight the perceived safety benefits of search and rescue robots, such as reducing the need for human presence in hazardous environments, thereby minimizing risk to human life.\\naccessibility: Captures instances where participants highlight the advantage of search and rescue robots in accessing hazardous or hard-to-reach areas, thereby enhancing the effectiveness and safety of rescue operations.\\n\\nBelow, I first give you examples of the output you should produce given an example input. After that, I give you the actual input to process.\\n\\nEXAMPLE INPUT:\\nThe training programs are really beneficial.\\n\\nEXAMPLE OUTPUT:\\nThe **training programs**<sup>professional development</sup> are really beneficial.\\n\\nEXAMPLE INPUT:\\nI feel valued and appreciated by my team.\\n\\nEXAMPLE OUTPUT:\\n**I feel valued and appreciated**<sup>employee recognition</sup> by my team.\\n\\nACTUAL INPUT:\\nno danger: For human rescue forces in action\\n\\nMAIN INSIGHTS:\\nThe text contains no insights relevant to the research question.']\n",
      "max_tokens: 150\n",
      "use_cache: True\n",
      "temperature: 0\n",
      "system_message: You are a helpful assistant.\n",
      "stop: []\n",
      "API_type: OpenAI\n",
      "Warning: LLM output differs from the original text, with edit distance 134\n",
      "Original text: \"no danger: For human rescue forces in action\"\n",
      "LLM output: \"I'm sorry, but there are no insightful statements in the provided text that relate to the research question. Therefore, there are no coded statements to highlight.\"\n",
      "Text reconstruction successful\n",
      "\n",
      "Had to reconstruct 1 texts due to LLM errors\n",
      " |████████████████████████████████████████████████████████--------------------------------------------| 56.7% Arguments:\n",
      "model: gpt-4o\n",
      "prompt_batch: ['You are an expert qualitative researcher who is given the following text to analyze:\\n\\nsupply with food\\n\\nOutput a single sentence summarising the most interesting insights in the text, specifically pertaining to the research question \"What are the key perceived benefits and risks regarding safety of the search and rescue robot?\". If there are no relevant insights, output \"The text contains no insights relevant to the research question.\"']\n",
      "max_tokens: 200\n",
      "use_cache: True\n",
      "temperature: 0\n",
      "system_message: You are a helpful assistant.\n",
      "stop: []\n",
      "API_type: OpenAI\n",
      "Arguments:\n",
      "model: gpt-4o\n",
      "prompt_batch: ['You are given a text to code inductively and the main insights from the text. Please carry out the following task:\\n- Respond by repeating the original text, but highlighting the coded statements by surrounding the statements with double asterisks, as if they were bolded text in a Markdown document.\\n- Include the associated code(s) immediately after the statement, separated by a semicolon and enclosed in <sup></sup> tags, as if they were superscript text in a Markdown document.\\n- Ignore text that is not insightful with regards to the research question.\\n- Preserve exact formatting of the original text. Do not correct typos or remove unnecessary spaces.\\n\\nSome examples of codes in the format \"{code}: {description}\". Please create new codes when needed:\\nsafety: Captures discussions where participants highlight the perceived safety benefits of search and rescue robots, such as reducing the need for human presence in hazardous environments, thereby minimizing risk to human life.\\nspeed: Captures instances where participants highlight the robot\\'s ability to perform tasks rapidly, emphasizing the potential for swift response times in emergency situations, which can be crucial for enhancing safety during search and rescue operations.\\nautonomy: Captures instances where participants express concerns or appreciation for the robot\\'s ability to operate independently, highlighting both the potential for increased efficiency in search and rescue missions and the risks associated with reduced human oversight and control.\\naccessibility: Captures instances where participants highlight the advantage of search and rescue robots in accessing hazardous or hard-to-reach areas, thereby enhancing the effectiveness and safety of rescue operations.\\n\\nBelow, I first give you examples of the output you should produce given an example input. After that, I give you the actual input to process.\\n\\nEXAMPLE INPUT:\\nI feel valued and appreciated by my team.\\n\\nEXAMPLE OUTPUT:\\n**I feel valued and appreciated**<sup>employee recognition</sup> by my team.\\n\\nEXAMPLE INPUT:\\nThe training programs are really beneficial.\\n\\nEXAMPLE OUTPUT:\\nThe **training programs**<sup>professional development</sup> are really beneficial.\\n\\nACTUAL INPUT:\\nsupply with food\\n\\nMAIN INSIGHTS:\\nThe text contains no insights relevant to the research question.']\n",
      "max_tokens: 150\n",
      "use_cache: True\n",
      "temperature: 0\n",
      "system_message: You are a helpful assistant.\n",
      "stop: []\n",
      "API_type: OpenAI\n",
      " |████████████████████████████████████████████████████████████----------------------------------------| 60.0% Arguments:\n",
      "model: gpt-4o\n",
      "prompt_batch: ['You are an expert qualitative researcher who is given the following text to analyze:\\n\\ndangerous areas\\n\\nOutput a single sentence summarising the most interesting insights in the text, specifically pertaining to the research question \"What are the key perceived benefits and risks regarding safety of the search and rescue robot?\". If there are no relevant insights, output \"The text contains no insights relevant to the research question.\"']\n",
      "max_tokens: 200\n",
      "use_cache: True\n",
      "temperature: 0\n",
      "system_message: You are a helpful assistant.\n",
      "stop: []\n",
      "API_type: OpenAI\n",
      "Arguments:\n",
      "model: gpt-4o\n",
      "prompt_batch: ['You are given a text to code inductively and the main insights from the text. Please carry out the following task:\\n- Respond by repeating the original text, but highlighting the coded statements by surrounding the statements with double asterisks, as if they were bolded text in a Markdown document.\\n- Include the associated code(s) immediately after the statement, separated by a semicolon and enclosed in <sup></sup> tags, as if they were superscript text in a Markdown document.\\n- Ignore text that is not insightful with regards to the research question.\\n- Preserve exact formatting of the original text. Do not correct typos or remove unnecessary spaces.\\n\\nSome examples of codes in the format \"{code}: {description}\". Please create new codes when needed:\\nspeed: Captures instances where participants highlight the robot\\'s ability to perform tasks rapidly, emphasizing the potential for swift response times in emergency situations, which can be crucial for enhancing safety during search and rescue operations.\\naccessibility: Captures instances where participants highlight the advantage of search and rescue robots in accessing hazardous or hard-to-reach areas, thereby enhancing the effectiveness and safety of rescue operations.\\nautonomy: Captures instances where participants express concerns or appreciation for the robot\\'s ability to operate independently, highlighting both the potential for increased efficiency in search and rescue missions and the risks associated with reduced human oversight and control.\\nsafety: Captures discussions where participants highlight the perceived safety benefits of search and rescue robots, such as reducing the need for human presence in hazardous environments, thereby minimizing risk to human life.\\n\\nBelow, I first give you examples of the output you should produce given an example input. After that, I give you the actual input to process.\\n\\nEXAMPLE INPUT:\\nThe training programs are really beneficial.\\n\\nEXAMPLE OUTPUT:\\nThe **training programs**<sup>professional development</sup> are really beneficial.\\n\\nEXAMPLE INPUT:\\nI feel valued and appreciated by my team.\\n\\nEXAMPLE OUTPUT:\\n**I feel valued and appreciated**<sup>employee recognition</sup> by my team.\\n\\nACTUAL INPUT:\\ndangerous areas\\n\\nMAIN INSIGHTS:\\nThe text contains no insights relevant to the research question.']\n",
      "max_tokens: 150\n",
      "use_cache: True\n",
      "temperature: 0\n",
      "system_message: You are a helpful assistant.\n",
      "stop: []\n",
      "API_type: OpenAI\n",
      "Warning: LLM output differs from the original text, with edit distance 163\n",
      "Original text: \"dangerous areas\"\n",
      "LLM output: \"I'm sorry, but the text provided does not contain any statements that are insightful with regards to the research question. Therefore, there are no coded statements to highlight.\"\n",
      "Text reconstruction successful\n",
      "\n",
      "Had to reconstruct 1 texts due to LLM errors\n",
      " |███████████████████████████████████████████████████████████████-------------------------------------| 63.3% Arguments:\n",
      "model: gpt-4o\n",
      "prompt_batch: ['You are an expert qualitative researcher who is given the following text to analyze:\\n\\nuse in dangerous situations: Rescue robots can be used in dangerous situations where humans are exposed to too high a risk.\\n\\nOutput a single sentence summarising the most interesting insights in the text, specifically pertaining to the research question \"What are the key perceived benefits and risks regarding safety of the search and rescue robot?\". If there are no relevant insights, output \"The text contains no insights relevant to the research question.\"']\n",
      "max_tokens: 200\n",
      "use_cache: True\n",
      "temperature: 0\n",
      "system_message: You are a helpful assistant.\n",
      "stop: []\n",
      "API_type: OpenAI\n",
      "Arguments:\n",
      "model: gpt-4o\n",
      "prompt_batch: ['You are given a text to code inductively and the main insights from the text. Please carry out the following task:\\n- Respond by repeating the original text, but highlighting the coded statements by surrounding the statements with double asterisks, as if they were bolded text in a Markdown document.\\n- Include the associated code(s) immediately after the statement, separated by a semicolon and enclosed in <sup></sup> tags, as if they were superscript text in a Markdown document.\\n- Ignore text that is not insightful with regards to the research question.\\n- Preserve exact formatting of the original text. Do not correct typos or remove unnecessary spaces.\\n\\nSome examples of codes in the format \"{code}: {description}\". Please create new codes when needed:\\nsafety: Captures discussions where participants highlight the perceived safety benefits of search and rescue robots, such as reducing the need for human presence in hazardous environments, thereby minimizing risk to human life.\\nspeed: Captures instances where participants highlight the robot\\'s ability to perform tasks rapidly, emphasizing the potential for swift response times in emergency situations, which can be crucial for enhancing safety during search and rescue operations.\\naccessibility: Captures instances where participants highlight the advantage of search and rescue robots in accessing hazardous or hard-to-reach areas, thereby enhancing the effectiveness and safety of rescue operations.\\nautonomy: Captures instances where participants express concerns or appreciation for the robot\\'s ability to operate independently, highlighting both the potential for increased efficiency in search and rescue missions and the risks associated with reduced human oversight and control.\\n\\nBelow, I first give you examples of the output you should produce given an example input. After that, I give you the actual input to process.\\n\\nEXAMPLE INPUT:\\nThe training programs are really beneficial.\\n\\nEXAMPLE OUTPUT:\\nThe **training programs**<sup>professional development</sup> are really beneficial.\\n\\nEXAMPLE INPUT:\\nI feel valued and appreciated by my team.\\n\\nEXAMPLE OUTPUT:\\n**I feel valued and appreciated**<sup>employee recognition</sup> by my team.\\n\\nACTUAL INPUT:\\nuse in dangerous situations: Rescue robots can be used in dangerous situations where humans are exposed to too high a risk.\\n\\nMAIN INSIGHTS:\\nThe text highlights the key perceived benefit of search and rescue robots as their ability to operate in dangerous situations, reducing the risk to human rescuers.']\n",
      "max_tokens: 150\n",
      "use_cache: True\n",
      "temperature: 0\n",
      "system_message: You are a helpful assistant.\n",
      "stop: []\n",
      "API_type: OpenAI\n",
      "Warning: LLM output differs from the original text, with edit distance 29\n",
      "Original text: \"use in dangerous situations: Rescue robots can be used in dangerous situations where humans are exposed to too high a risk.\"\n",
      "LLM output: \"**Rescue robots can be used in dangerous situations where humans are exposed to too high a risk.**<sup>safety</sup>\"\n",
      "Text reconstruction successful\n",
      "\n",
      "Had to reconstruct 1 texts due to LLM errors\n",
      " |██████████████████████████████████████████████████████████████████----------------------------------| 66.7% Arguments:\n",
      "model: gpt-4o\n",
      "prompt_batch: ['You are an expert qualitative researcher who is given the following text to analyze:\\n\\nmore flexible than humans\\n\\nOutput a single sentence summarising the most interesting insights in the text, specifically pertaining to the research question \"What are the key perceived benefits and risks regarding safety of the search and rescue robot?\". If there are no relevant insights, output \"The text contains no insights relevant to the research question.\"']\n",
      "max_tokens: 200\n",
      "use_cache: True\n",
      "temperature: 0\n",
      "system_message: You are a helpful assistant.\n",
      "stop: []\n",
      "API_type: OpenAI\n",
      "Arguments:\n",
      "model: gpt-4o\n",
      "prompt_batch: ['You are given a text to code inductively and the main insights from the text. Please carry out the following task:\\n- Respond by repeating the original text, but highlighting the coded statements by surrounding the statements with double asterisks, as if they were bolded text in a Markdown document.\\n- Include the associated code(s) immediately after the statement, separated by a semicolon and enclosed in <sup></sup> tags, as if they were superscript text in a Markdown document.\\n- Ignore text that is not insightful with regards to the research question.\\n- Preserve exact formatting of the original text. Do not correct typos or remove unnecessary spaces.\\n\\nSome examples of codes in the format \"{code}: {description}\". Please create new codes when needed:\\nspeed: Captures instances where participants highlight the robot\\'s ability to perform tasks rapidly, emphasizing the potential for swift response times in emergency situations, which can be crucial for enhancing safety during search and rescue operations.\\nautonomy: Captures instances where participants express concerns or appreciation for the robot\\'s ability to operate independently, highlighting both the potential for increased efficiency in search and rescue missions and the risks associated with reduced human oversight and control.\\naccessibility: Captures instances where participants highlight the advantage of search and rescue robots in accessing hazardous or hard-to-reach areas, thereby enhancing the effectiveness and safety of rescue operations.\\nsafety: Captures discussions where participants highlight the perceived safety benefits of search and rescue robots, such as reducing the need for human presence in hazardous environments, thereby minimizing risk to human life.\\n\\nBelow, I first give you examples of the output you should produce given an example input. After that, I give you the actual input to process.\\n\\nEXAMPLE INPUT:\\nI feel valued and appreciated by my team.\\n\\nEXAMPLE OUTPUT:\\n**I feel valued and appreciated**<sup>employee recognition</sup> by my team.\\n\\nEXAMPLE INPUT:\\nThe training programs are really beneficial.\\n\\nEXAMPLE OUTPUT:\\nThe **training programs**<sup>professional development</sup> are really beneficial.\\n\\nACTUAL INPUT:\\nmore flexible than humans\\n\\nMAIN INSIGHTS:\\nThe text contains no insights relevant to the research question.']\n",
      "max_tokens: 150\n",
      "use_cache: True\n",
      "temperature: 0\n",
      "system_message: You are a helpful assistant.\n",
      "stop: []\n",
      "API_type: OpenAI\n",
      "Warning: LLM output differs from the original text, with edit distance 125\n",
      "Original text: \"more flexible than humans\"\n",
      "LLM output: \"I'm sorry, but the text provided does not contain any insights relevant to the research question, so there are no coded statements to highlight.\"\n",
      "Text reconstruction successful\n",
      "\n",
      "Had to reconstruct 1 texts due to LLM errors\n",
      " |██████████████████████████████████████████████████████████████████████------------------------------| 70.0% Arguments:\n",
      "model: gpt-4o\n",
      "prompt_batch: ['You are an expert qualitative researcher who is given the following text to analyze:\\n\\nspeed and efficiency: Robots can often act faster than humans and increase the speed of emergency interventions\\n\\nOutput a single sentence summarising the most interesting insights in the text, specifically pertaining to the research question \"What are the key perceived benefits and risks regarding safety of the search and rescue robot?\". If there are no relevant insights, output \"The text contains no insights relevant to the research question.\"']\n",
      "max_tokens: 200\n",
      "use_cache: True\n",
      "temperature: 0\n",
      "system_message: You are a helpful assistant.\n",
      "stop: []\n",
      "API_type: OpenAI\n",
      "Arguments:\n",
      "model: gpt-4o\n",
      "prompt_batch: ['You are given a text to code inductively and the main insights from the text. Please carry out the following task:\\n- Respond by repeating the original text, but highlighting the coded statements by surrounding the statements with double asterisks, as if they were bolded text in a Markdown document.\\n- Include the associated code(s) immediately after the statement, separated by a semicolon and enclosed in <sup></sup> tags, as if they were superscript text in a Markdown document.\\n- Ignore text that is not insightful with regards to the research question.\\n- Preserve exact formatting of the original text. Do not correct typos or remove unnecessary spaces.\\n\\nSome examples of codes in the format \"{code}: {description}\". Please create new codes when needed:\\nsafety: Captures discussions where participants highlight the perceived safety benefits of search and rescue robots, such as reducing the need for human presence in hazardous environments, thereby minimizing risk to human life.\\naccessibility: Captures instances where participants highlight the advantage of search and rescue robots in accessing hazardous or hard-to-reach areas, thereby enhancing the effectiveness and safety of rescue operations.\\nspeed: Captures instances where participants highlight the robot\\'s ability to perform tasks rapidly, emphasizing the potential for swift response times in emergency situations, which can be crucial for enhancing safety during search and rescue operations.\\nautonomy: Captures instances where participants express concerns or appreciation for the robot\\'s ability to operate independently, highlighting both the potential for increased efficiency in search and rescue missions and the risks associated with reduced human oversight and control.\\n\\nBelow, I first give you examples of the output you should produce given an example input. After that, I give you the actual input to process.\\n\\nEXAMPLE INPUT:\\nI feel valued and appreciated by my team.\\n\\nEXAMPLE OUTPUT:\\n**I feel valued and appreciated**<sup>employee recognition</sup> by my team.\\n\\nEXAMPLE INPUT:\\nThe training programs are really beneficial.\\n\\nEXAMPLE OUTPUT:\\nThe **training programs**<sup>professional development</sup> are really beneficial.\\n\\nACTUAL INPUT:\\nspeed and efficiency: Robots can often act faster than humans and increase the speed of emergency interventions\\n\\nMAIN INSIGHTS:\\nThe text highlights the perceived benefit of robots in search and rescue operations as their ability to act faster than humans, thereby increasing the speed of emergency interventions.']\n",
      "max_tokens: 150\n",
      "use_cache: True\n",
      "temperature: 0\n",
      "system_message: You are a helpful assistant.\n",
      "stop: []\n",
      "API_type: OpenAI\n",
      "Warning: LLM output differs from the original text, with edit distance 22\n",
      "Original text: \"speed and efficiency: Robots can often act faster than humans and increase the speed of emergency interventions\"\n",
      "LLM output: \"**Robots can often act faster than humans and increase the speed of emergency interventions**<sup>speed</sup>\"\n",
      "Text reconstruction successful\n",
      "\n",
      "Had to reconstruct 1 texts due to LLM errors\n",
      " |█████████████████████████████████████████████████████████████████████████---------------------------| 73.3% Arguments:\n",
      "model: gpt-4o\n",
      "prompt_batch: ['You are an expert qualitative researcher who is given the following text to analyze:\\n\\ndo not lose strength: Robots do not lose stamina while humans could lose strength during missions.\\n\\nOutput a single sentence summarising the most interesting insights in the text, specifically pertaining to the research question \"What are the key perceived benefits and risks regarding safety of the search and rescue robot?\". If there are no relevant insights, output \"The text contains no insights relevant to the research question.\"']\n",
      "max_tokens: 200\n",
      "use_cache: True\n",
      "temperature: 0\n",
      "system_message: You are a helpful assistant.\n",
      "stop: []\n",
      "API_type: OpenAI\n",
      "Arguments:\n",
      "model: gpt-4o\n",
      "prompt_batch: ['You are given a text to code inductively and the main insights from the text. Please carry out the following task:\\n- Respond by repeating the original text, but highlighting the coded statements by surrounding the statements with double asterisks, as if they were bolded text in a Markdown document.\\n- Include the associated code(s) immediately after the statement, separated by a semicolon and enclosed in <sup></sup> tags, as if they were superscript text in a Markdown document.\\n- Ignore text that is not insightful with regards to the research question.\\n- Preserve exact formatting of the original text. Do not correct typos or remove unnecessary spaces.\\n\\nSome examples of codes in the format \"{code}: {description}\". Please create new codes when needed:\\nsafety: Captures discussions where participants highlight the perceived safety benefits of search and rescue robots, such as reducing the need for human presence in hazardous environments, thereby minimizing risk to human life.\\nspeed: Captures instances where participants highlight the robot\\'s ability to perform tasks rapidly, emphasizing the potential for swift response times in emergency situations, which can be crucial for enhancing safety during search and rescue operations.\\nautonomy: Captures instances where participants express concerns or appreciation for the robot\\'s ability to operate independently, highlighting both the potential for increased efficiency in search and rescue missions and the risks associated with reduced human oversight and control.\\naccessibility: Captures instances where participants highlight the advantage of search and rescue robots in accessing hazardous or hard-to-reach areas, thereby enhancing the effectiveness and safety of rescue operations.\\n\\nBelow, I first give you examples of the output you should produce given an example input. After that, I give you the actual input to process.\\n\\nEXAMPLE INPUT:\\nI feel valued and appreciated by my team.\\n\\nEXAMPLE OUTPUT:\\n**I feel valued and appreciated**<sup>employee recognition</sup> by my team.\\n\\nEXAMPLE INPUT:\\nThe training programs are really beneficial.\\n\\nEXAMPLE OUTPUT:\\nThe **training programs**<sup>professional development</sup> are really beneficial.\\n\\nACTUAL INPUT:\\ndo not lose strength: Robots do not lose stamina while humans could lose strength during missions.\\n\\nMAIN INSIGHTS:\\nThe text contains no insights relevant to the research question.']\n",
      "max_tokens: 150\n",
      "use_cache: True\n",
      "temperature: 0\n",
      "system_message: You are a helpful assistant.\n",
      "stop: []\n",
      "API_type: OpenAI\n",
      "Warning: LLM output differs from the original text, with edit distance 82\n",
      "Original text: \"do not lose strength: Robots do not lose stamina while humans could lose strength during missions.\"\n",
      "LLM output: \"The text contains no insights relevant to the research question, so there are no coded statements to highlight.\"\n",
      "Text reconstruction successful\n",
      "\n",
      "Had to reconstruct 1 texts due to LLM errors\n",
      " |████████████████████████████████████████████████████████████████████████████------------------------| 76.7% Arguments:\n",
      "model: gpt-4o\n",
      "prompt_batch: ['You are an expert qualitative researcher who is given the following text to analyze:\\n\\nefficiency\\n\\nOutput a single sentence summarising the most interesting insights in the text, specifically pertaining to the research question \"What are the key perceived benefits and risks regarding safety of the search and rescue robot?\". If there are no relevant insights, output \"The text contains no insights relevant to the research question.\"']\n",
      "max_tokens: 200\n",
      "use_cache: True\n",
      "temperature: 0\n",
      "system_message: You are a helpful assistant.\n",
      "stop: []\n",
      "API_type: OpenAI\n",
      "Arguments:\n",
      "model: gpt-4o\n",
      "prompt_batch: ['You are given a text to code inductively and the main insights from the text. Please carry out the following task:\\n- Respond by repeating the original text, but highlighting the coded statements by surrounding the statements with double asterisks, as if they were bolded text in a Markdown document.\\n- Include the associated code(s) immediately after the statement, separated by a semicolon and enclosed in <sup></sup> tags, as if they were superscript text in a Markdown document.\\n- Ignore text that is not insightful with regards to the research question.\\n- Preserve exact formatting of the original text. Do not correct typos or remove unnecessary spaces.\\n\\nSome examples of codes in the format \"{code}: {description}\". Please create new codes when needed:\\naccessibility: Captures instances where participants highlight the advantage of search and rescue robots in accessing hazardous or hard-to-reach areas, thereby enhancing the effectiveness and safety of rescue operations.\\nsafety: Captures discussions where participants highlight the perceived safety benefits of search and rescue robots, such as reducing the need for human presence in hazardous environments, thereby minimizing risk to human life.\\nspeed: Captures instances where participants highlight the robot\\'s ability to perform tasks rapidly, emphasizing the potential for swift response times in emergency situations, which can be crucial for enhancing safety during search and rescue operations.\\nautonomy: Captures instances where participants express concerns or appreciation for the robot\\'s ability to operate independently, highlighting both the potential for increased efficiency in search and rescue missions and the risks associated with reduced human oversight and control.\\n\\nBelow, I first give you examples of the output you should produce given an example input. After that, I give you the actual input to process.\\n\\nEXAMPLE INPUT:\\nThe training programs are really beneficial.\\n\\nEXAMPLE OUTPUT:\\nThe **training programs**<sup>professional development</sup> are really beneficial.\\n\\nEXAMPLE INPUT:\\nI feel valued and appreciated by my team.\\n\\nEXAMPLE OUTPUT:\\n**I feel valued and appreciated**<sup>employee recognition</sup> by my team.\\n\\nACTUAL INPUT:\\nefficiency\\n\\nMAIN INSIGHTS:\\nThe text contains no insights relevant to the research question.']\n",
      "max_tokens: 150\n",
      "use_cache: True\n",
      "temperature: 0\n",
      "system_message: You are a helpful assistant.\n",
      "stop: []\n",
      "API_type: OpenAI\n",
      " |████████████████████████████████████████████████████████████████████████████████--------------------| 80.0% Arguments:\n",
      "model: gpt-4o\n",
      "prompt_batch: ['You are an expert qualitative researcher who is given the following text to analyze:\\n\\nremote control\\n\\nOutput a single sentence summarising the most interesting insights in the text, specifically pertaining to the research question \"What are the key perceived benefits and risks regarding safety of the search and rescue robot?\". If there are no relevant insights, output \"The text contains no insights relevant to the research question.\"']\n",
      "max_tokens: 200\n",
      "use_cache: True\n",
      "temperature: 0\n",
      "system_message: You are a helpful assistant.\n",
      "stop: []\n",
      "API_type: OpenAI\n",
      "Arguments:\n",
      "model: gpt-4o\n",
      "prompt_batch: ['You are given a text to code inductively and the main insights from the text. Please carry out the following task:\\n- Respond by repeating the original text, but highlighting the coded statements by surrounding the statements with double asterisks, as if they were bolded text in a Markdown document.\\n- Include the associated code(s) immediately after the statement, separated by a semicolon and enclosed in <sup></sup> tags, as if they were superscript text in a Markdown document.\\n- Ignore text that is not insightful with regards to the research question.\\n- Preserve exact formatting of the original text. Do not correct typos or remove unnecessary spaces.\\n\\nSome examples of codes in the format \"{code}: {description}\". Please create new codes when needed:\\naccessibility: Captures instances where participants highlight the advantage of search and rescue robots in accessing hazardous or hard-to-reach areas, thereby enhancing the effectiveness and safety of rescue operations.\\nsafety: Captures discussions where participants highlight the perceived safety benefits of search and rescue robots, such as reducing the need for human presence in hazardous environments, thereby minimizing risk to human life.\\nautonomy: Captures instances where participants express concerns or appreciation for the robot\\'s ability to operate independently, highlighting both the potential for increased efficiency in search and rescue missions and the risks associated with reduced human oversight and control.\\nspeed: Captures instances where participants highlight the robot\\'s ability to perform tasks rapidly, emphasizing the potential for swift response times in emergency situations, which can be crucial for enhancing safety during search and rescue operations.\\n\\nBelow, I first give you examples of the output you should produce given an example input. After that, I give you the actual input to process.\\n\\nEXAMPLE INPUT:\\nThe training programs are really beneficial.\\n\\nEXAMPLE OUTPUT:\\nThe **training programs**<sup>professional development</sup> are really beneficial.\\n\\nEXAMPLE INPUT:\\nI feel valued and appreciated by my team.\\n\\nEXAMPLE OUTPUT:\\n**I feel valued and appreciated**<sup>employee recognition</sup> by my team.\\n\\nACTUAL INPUT:\\nremote control\\n\\nMAIN INSIGHTS:\\nThe text contains no insights relevant to the research question.']\n",
      "max_tokens: 150\n",
      "use_cache: True\n",
      "temperature: 0\n",
      "system_message: You are a helpful assistant.\n",
      "stop: []\n",
      "API_type: OpenAI\n",
      "Warning: LLM output differs from the original text, with edit distance 55\n",
      "Original text: \"remote control\"\n",
      "LLM output: \"The text contains no insights relevant to the research question.\"\n",
      "Text reconstruction successful\n",
      "\n",
      "Had to reconstruct 1 texts due to LLM errors\n",
      " |███████████████████████████████████████████████████████████████████████████████████-----------------| 83.3% Arguments:\n",
      "model: gpt-4o\n",
      "prompt_batch: ['You are an expert qualitative researcher who is given the following text to analyze:\\n\\nefficiency: Robots are not limited to human speed, vision, and perception in general.\\n\\nOutput a single sentence summarising the most interesting insights in the text, specifically pertaining to the research question \"What are the key perceived benefits and risks regarding safety of the search and rescue robot?\". If there are no relevant insights, output \"The text contains no insights relevant to the research question.\"']\n",
      "max_tokens: 200\n",
      "use_cache: True\n",
      "temperature: 0\n",
      "system_message: You are a helpful assistant.\n",
      "stop: []\n",
      "API_type: OpenAI\n",
      "Arguments:\n",
      "model: gpt-4o\n",
      "prompt_batch: ['You are given a text to code inductively and the main insights from the text. Please carry out the following task:\\n- Respond by repeating the original text, but highlighting the coded statements by surrounding the statements with double asterisks, as if they were bolded text in a Markdown document.\\n- Include the associated code(s) immediately after the statement, separated by a semicolon and enclosed in <sup></sup> tags, as if they were superscript text in a Markdown document.\\n- Ignore text that is not insightful with regards to the research question.\\n- Preserve exact formatting of the original text. Do not correct typos or remove unnecessary spaces.\\n\\nSome examples of codes in the format \"{code}: {description}\". Please create new codes when needed:\\nspeed: Captures instances where participants highlight the robot\\'s ability to perform tasks rapidly, emphasizing the potential for swift response times in emergency situations, which can be crucial for enhancing safety during search and rescue operations.\\nautonomy: Captures instances where participants express concerns or appreciation for the robot\\'s ability to operate independently, highlighting both the potential for increased efficiency in search and rescue missions and the risks associated with reduced human oversight and control.\\nsafety: Captures discussions where participants highlight the perceived safety benefits of search and rescue robots, such as reducing the need for human presence in hazardous environments, thereby minimizing risk to human life.\\naccessibility: Captures instances where participants highlight the advantage of search and rescue robots in accessing hazardous or hard-to-reach areas, thereby enhancing the effectiveness and safety of rescue operations.\\n\\nBelow, I first give you examples of the output you should produce given an example input. After that, I give you the actual input to process.\\n\\nEXAMPLE INPUT:\\nThe training programs are really beneficial.\\n\\nEXAMPLE OUTPUT:\\nThe **training programs**<sup>professional development</sup> are really beneficial.\\n\\nEXAMPLE INPUT:\\nI feel valued and appreciated by my team.\\n\\nEXAMPLE OUTPUT:\\n**I feel valued and appreciated**<sup>employee recognition</sup> by my team.\\n\\nACTUAL INPUT:\\nefficiency: Robots are not limited to human speed, vision, and perception in general.\\n\\nMAIN INSIGHTS:\\nThe text contains no insights relevant to the research question.']\n",
      "max_tokens: 150\n",
      "use_cache: True\n",
      "temperature: 0\n",
      "system_message: You are a helpful assistant.\n",
      "stop: []\n",
      "API_type: OpenAI\n",
      "Arguments:\n",
      "model: gpt-4o\n",
      "prompt_batch: ['Write a brief but nuanced one-sentence description for the given inductive code, based on a set of texts annotated with the code.\\n For example, for the code \"overcommunication\", you might generate the description: Captures instances where participants discuss feeling overwhelmed by excessive communication, such as constant emails, messages, or meetings\\n Write the description in the context of a qualitative research project with the research question: What are the key perceived benefits and risks regarding safety of the search and rescue robot?.\\n\\nCODE: efficiency\\n\\nCODED TEXTS SEPARATED BY \"***\":\\nRobots are not limited to human speed, vision, and perception in general.']\n",
      "max_tokens: 200\n",
      "use_cache: True\n",
      "temperature: 0\n",
      "system_message: You are a helpful assistant.\n",
      "stop: []\n",
      "API_type: OpenAI\n",
      " |██████████████████████████████████████████████████████████████████████████████████████--------------| 86.7% Arguments:\n",
      "model: gpt-4o\n",
      "prompt_batch: ['You are an expert qualitative researcher who is given the following text to analyze:\\n\\nremote control: Can be operated by experts via remote control or autonomous systems to perform operations from a safe distance.\\n\\nOutput a single sentence summarising the most interesting insights in the text, specifically pertaining to the research question \"What are the key perceived benefits and risks regarding safety of the search and rescue robot?\". If there are no relevant insights, output \"The text contains no insights relevant to the research question.\"']\n",
      "max_tokens: 200\n",
      "use_cache: True\n",
      "temperature: 0\n",
      "system_message: You are a helpful assistant.\n",
      "stop: []\n",
      "API_type: OpenAI\n",
      "Arguments:\n",
      "model: gpt-4o\n",
      "prompt_batch: ['You are given a text to code inductively and the main insights from the text. Please carry out the following task:\\n- Respond by repeating the original text, but highlighting the coded statements by surrounding the statements with double asterisks, as if they were bolded text in a Markdown document.\\n- Include the associated code(s) immediately after the statement, separated by a semicolon and enclosed in <sup></sup> tags, as if they were superscript text in a Markdown document.\\n- Ignore text that is not insightful with regards to the research question.\\n- Preserve exact formatting of the original text. Do not correct typos or remove unnecessary spaces.\\n\\nSome examples of codes in the format \"{code}: {description}\". Please create new codes when needed:\\nspeed: Captures instances where participants highlight the robot\\'s ability to perform tasks rapidly, emphasizing the potential for swift response times in emergency situations, which can be crucial for enhancing safety during search and rescue operations.\\nautonomy: Captures instances where participants express concerns or appreciation for the robot\\'s ability to operate independently, highlighting both the potential for increased efficiency in search and rescue missions and the risks associated with reduced human oversight and control.\\nsafety: Captures discussions where participants highlight the perceived safety benefits of search and rescue robots, such as reducing the need for human presence in hazardous environments, thereby minimizing risk to human life.\\nefficiency: Captures instances where participants highlight the enhanced operational speed and perceptual capabilities of search and rescue robots, emphasizing their ability to perform tasks more swiftly and accurately than human counterparts.\\naccessibility: Captures instances where participants highlight the advantage of search and rescue robots in accessing hazardous or hard-to-reach areas, thereby enhancing the effectiveness and safety of rescue operations.\\n\\nBelow, I first give you examples of the output you should produce given an example input. After that, I give you the actual input to process.\\n\\nEXAMPLE INPUT:\\nI feel valued and appreciated by my team.\\n\\nEXAMPLE OUTPUT:\\n**I feel valued and appreciated**<sup>employee recognition</sup> by my team.\\n\\nEXAMPLE INPUT:\\nThe training programs are really beneficial.\\n\\nEXAMPLE OUTPUT:\\nThe **training programs**<sup>professional development</sup> are really beneficial.\\n\\nACTUAL INPUT:\\nremote control: Can be operated by experts via remote control or autonomous systems to perform operations from a safe distance.\\n\\nMAIN INSIGHTS:\\nThe text highlights the key perceived benefit of safety in search and rescue robots, emphasizing their ability to be operated remotely or autonomously, allowing operations to be conducted from a safe distance.']\n",
      "max_tokens: 150\n",
      "use_cache: True\n",
      "temperature: 0\n",
      "system_message: You are a helpful assistant.\n",
      "stop: []\n",
      "API_type: OpenAI\n",
      " |██████████████████████████████████████████████████████████████████████████████████████████----------| 90.0% Arguments:\n",
      "model: gpt-4o\n",
      "prompt_batch: ['You are an expert qualitative researcher who is given the following text to analyze:\\n\\nrescue of people\\n\\nOutput a single sentence summarising the most interesting insights in the text, specifically pertaining to the research question \"What are the key perceived benefits and risks regarding safety of the search and rescue robot?\". If there are no relevant insights, output \"The text contains no insights relevant to the research question.\"']\n",
      "max_tokens: 200\n",
      "use_cache: True\n",
      "temperature: 0\n",
      "system_message: You are a helpful assistant.\n",
      "stop: []\n",
      "API_type: OpenAI\n",
      "Arguments:\n",
      "model: gpt-4o\n",
      "prompt_batch: ['You are given a text to code inductively and the main insights from the text. Please carry out the following task:\\n- Respond by repeating the original text, but highlighting the coded statements by surrounding the statements with double asterisks, as if they were bolded text in a Markdown document.\\n- Include the associated code(s) immediately after the statement, separated by a semicolon and enclosed in <sup></sup> tags, as if they were superscript text in a Markdown document.\\n- Ignore text that is not insightful with regards to the research question.\\n- Preserve exact formatting of the original text. Do not correct typos or remove unnecessary spaces.\\n\\nSome examples of codes in the format \"{code}: {description}\". Please create new codes when needed:\\nsafety: Captures discussions where participants highlight the perceived safety benefits of search and rescue robots, such as reducing the need for human presence in hazardous environments, thereby minimizing risk to human life.\\nspeed: Captures instances where participants highlight the robot\\'s ability to perform tasks rapidly, emphasizing the potential for swift response times in emergency situations, which can be crucial for enhancing safety during search and rescue operations.\\naccessibility: Captures instances where participants highlight the advantage of search and rescue robots in accessing hazardous or hard-to-reach areas, thereby enhancing the effectiveness and safety of rescue operations.\\nautonomy: Captures instances where participants express concerns or appreciation for the robot\\'s ability to operate independently, highlighting both the potential for increased efficiency in search and rescue missions and the risks associated with reduced human oversight and control.\\nefficiency: Captures instances where participants highlight the enhanced operational speed and perceptual capabilities of search and rescue robots, emphasizing their ability to perform tasks more swiftly and accurately than human counterparts.\\n\\nBelow, I first give you examples of the output you should produce given an example input. After that, I give you the actual input to process.\\n\\nEXAMPLE INPUT:\\nThe training programs are really beneficial.\\n\\nEXAMPLE OUTPUT:\\nThe **training programs**<sup>professional development</sup> are really beneficial.\\n\\nEXAMPLE INPUT:\\nI feel valued and appreciated by my team.\\n\\nEXAMPLE OUTPUT:\\n**I feel valued and appreciated**<sup>employee recognition</sup> by my team.\\n\\nACTUAL INPUT:\\nrescue of people\\n\\nMAIN INSIGHTS:\\nThe text contains no insights relevant to the research question.']\n",
      "max_tokens: 150\n",
      "use_cache: True\n",
      "temperature: 0\n",
      "system_message: You are a helpful assistant.\n",
      "stop: []\n",
      "API_type: OpenAI\n",
      " |█████████████████████████████████████████████████████████████████████████████████████████████-------| 93.3% Arguments:\n",
      "model: gpt-4o\n",
      "prompt_batch: ['You are an expert qualitative researcher who is given the following text to analyze:\\n\\nmedication supply\\n\\nOutput a single sentence summarising the most interesting insights in the text, specifically pertaining to the research question \"What are the key perceived benefits and risks regarding safety of the search and rescue robot?\". If there are no relevant insights, output \"The text contains no insights relevant to the research question.\"']\n",
      "max_tokens: 200\n",
      "use_cache: True\n",
      "temperature: 0\n",
      "system_message: You are a helpful assistant.\n",
      "stop: []\n",
      "API_type: OpenAI\n",
      "Arguments:\n",
      "model: gpt-4o\n",
      "prompt_batch: ['You are given a text to code inductively and the main insights from the text. Please carry out the following task:\\n- Respond by repeating the original text, but highlighting the coded statements by surrounding the statements with double asterisks, as if they were bolded text in a Markdown document.\\n- Include the associated code(s) immediately after the statement, separated by a semicolon and enclosed in <sup></sup> tags, as if they were superscript text in a Markdown document.\\n- Ignore text that is not insightful with regards to the research question.\\n- Preserve exact formatting of the original text. Do not correct typos or remove unnecessary spaces.\\n\\nSome examples of codes in the format \"{code}: {description}\". Please create new codes when needed:\\nautonomy: Captures instances where participants express concerns or appreciation for the robot\\'s ability to operate independently, highlighting both the potential for increased efficiency in search and rescue missions and the risks associated with reduced human oversight and control.\\nspeed: Captures instances where participants highlight the robot\\'s ability to perform tasks rapidly, emphasizing the potential for swift response times in emergency situations, which can be crucial for enhancing safety during search and rescue operations.\\nefficiency: Captures instances where participants highlight the enhanced operational speed and perceptual capabilities of search and rescue robots, emphasizing their ability to perform tasks more swiftly and accurately than human counterparts.\\nsafety: Captures discussions where participants highlight the perceived safety benefits of search and rescue robots, such as reducing the need for human presence in hazardous environments, thereby minimizing risk to human life.\\naccessibility: Captures instances where participants highlight the advantage of search and rescue robots in accessing hazardous or hard-to-reach areas, thereby enhancing the effectiveness and safety of rescue operations.\\n\\nBelow, I first give you examples of the output you should produce given an example input. After that, I give you the actual input to process.\\n\\nEXAMPLE INPUT:\\nThe training programs are really beneficial.\\n\\nEXAMPLE OUTPUT:\\nThe **training programs**<sup>professional development</sup> are really beneficial.\\n\\nEXAMPLE INPUT:\\nI feel valued and appreciated by my team.\\n\\nEXAMPLE OUTPUT:\\n**I feel valued and appreciated**<sup>employee recognition</sup> by my team.\\n\\nACTUAL INPUT:\\nmedication supply\\n\\nMAIN INSIGHTS:\\nThe text contains no insights relevant to the research question.']\n",
      "max_tokens: 150\n",
      "use_cache: True\n",
      "temperature: 0\n",
      "system_message: You are a helpful assistant.\n",
      "stop: []\n",
      "API_type: OpenAI\n",
      " |████████████████████████████████████████████████████████████████████████████████████████████████----| 96.7% Arguments:\n",
      "model: gpt-4o\n",
      "prompt_batch: ['You are an expert qualitative researcher who is given the following text to analyze:\\n\\nperform operations: disease\\n\\nOutput a single sentence summarising the most interesting insights in the text, specifically pertaining to the research question \"What are the key perceived benefits and risks regarding safety of the search and rescue robot?\". If there are no relevant insights, output \"The text contains no insights relevant to the research question.\"']\n",
      "max_tokens: 200\n",
      "use_cache: True\n",
      "temperature: 0\n",
      "system_message: You are a helpful assistant.\n",
      "stop: []\n",
      "API_type: OpenAI\n",
      "Arguments:\n",
      "model: gpt-4o\n",
      "prompt_batch: ['You are given a text to code inductively and the main insights from the text. Please carry out the following task:\\n- Respond by repeating the original text, but highlighting the coded statements by surrounding the statements with double asterisks, as if they were bolded text in a Markdown document.\\n- Include the associated code(s) immediately after the statement, separated by a semicolon and enclosed in <sup></sup> tags, as if they were superscript text in a Markdown document.\\n- Ignore text that is not insightful with regards to the research question.\\n- Preserve exact formatting of the original text. Do not correct typos or remove unnecessary spaces.\\n\\nSome examples of codes in the format \"{code}: {description}\". Please create new codes when needed:\\nautonomy: Captures instances where participants express concerns or appreciation for the robot\\'s ability to operate independently, highlighting both the potential for increased efficiency in search and rescue missions and the risks associated with reduced human oversight and control.\\nsafety: Captures discussions where participants highlight the perceived safety benefits of search and rescue robots, such as reducing the need for human presence in hazardous environments, thereby minimizing risk to human life.\\nefficiency: Captures instances where participants highlight the enhanced operational speed and perceptual capabilities of search and rescue robots, emphasizing their ability to perform tasks more swiftly and accurately than human counterparts.\\naccessibility: Captures instances where participants highlight the advantage of search and rescue robots in accessing hazardous or hard-to-reach areas, thereby enhancing the effectiveness and safety of rescue operations.\\nspeed: Captures instances where participants highlight the robot\\'s ability to perform tasks rapidly, emphasizing the potential for swift response times in emergency situations, which can be crucial for enhancing safety during search and rescue operations.\\n\\nBelow, I first give you examples of the output you should produce given an example input. After that, I give you the actual input to process.\\n\\nEXAMPLE INPUT:\\nThe training programs are really beneficial.\\n\\nEXAMPLE OUTPUT:\\nThe **training programs**<sup>professional development</sup> are really beneficial.\\n\\nEXAMPLE INPUT:\\nI feel valued and appreciated by my team.\\n\\nEXAMPLE OUTPUT:\\n**I feel valued and appreciated**<sup>employee recognition</sup> by my team.\\n\\nACTUAL INPUT:\\nperform operations: disease\\n\\nMAIN INSIGHTS:\\nThe text contains no insights relevant to the research question.']\n",
      "max_tokens: 150\n",
      "use_cache: True\n",
      "temperature: 0\n",
      "system_message: You are a helpful assistant.\n",
      "stop: []\n",
      "API_type: OpenAI\n",
      "Warning: LLM output differs from the original text, with edit distance 51\n",
      "Original text: \"perform operations: disease\"\n",
      "LLM output: \"The text contains no insights relevant to the research question.\"\n",
      "Text reconstruction successful\n",
      "\n",
      "Had to reconstruct 1 texts due to LLM errors\n",
      " |████████████████████████████████████████████████████████████████████████████████████████████████████| 100.0% \n",
      "Arguments:\n",
      "model: gpt-4o\n",
      "prompt_batch: ['You are an expert qualitative researcher who is given the following text to analyze:\\n\\nstrength: the robot can, for example, move objects that a human could not move\\n\\nOutput a single sentence summarising the most interesting insights in the text, specifically pertaining to the research question \"What are the key perceived benefits and risks regarding safety of the search and rescue robot?\". If there are no relevant insights, output \"The text contains no insights relevant to the research question.\"']\n",
      "max_tokens: 200\n",
      "use_cache: True\n",
      "temperature: 0\n",
      "system_message: You are a helpful assistant.\n",
      "stop: []\n",
      "API_type: OpenAI\n",
      "Arguments:\n",
      "model: gpt-4o\n",
      "prompt_batch: ['You are given a text to code inductively and the main insights from the text. Please carry out the following task:\\n- Respond by repeating the original text, but highlighting the coded statements by surrounding the statements with double asterisks, as if they were bolded text in a Markdown document.\\n- Include the associated code(s) immediately after the statement, separated by a semicolon and enclosed in <sup></sup> tags, as if they were superscript text in a Markdown document.\\n- Ignore text that is not insightful with regards to the research question.\\n- Preserve exact formatting of the original text. Do not correct typos or remove unnecessary spaces.\\n\\nSome examples of codes in the format \"{code}: {description}\". Please create new codes when needed:\\naccessibility: Captures instances where participants highlight the advantage of search and rescue robots in accessing hazardous or hard-to-reach areas, thereby enhancing the effectiveness and safety of rescue operations.\\nefficiency: Captures instances where participants highlight the enhanced operational speed and perceptual capabilities of search and rescue robots, emphasizing their ability to perform tasks more swiftly and accurately than human counterparts.\\nsafety: Captures discussions where participants highlight the perceived safety benefits of search and rescue robots, such as reducing the need for human presence in hazardous environments, thereby minimizing risk to human life.\\nspeed: Captures instances where participants highlight the robot\\'s ability to perform tasks rapidly, emphasizing the potential for swift response times in emergency situations, which can be crucial for enhancing safety during search and rescue operations.\\nautonomy: Captures instances where participants express concerns or appreciation for the robot\\'s ability to operate independently, highlighting both the potential for increased efficiency in search and rescue missions and the risks associated with reduced human oversight and control.\\n\\nBelow, I first give you examples of the output you should produce given an example input. After that, I give you the actual input to process.\\n\\nEXAMPLE INPUT:\\nThe training programs are really beneficial.\\n\\nEXAMPLE OUTPUT:\\nThe **training programs**<sup>professional development</sup> are really beneficial.\\n\\nEXAMPLE INPUT:\\nI feel valued and appreciated by my team.\\n\\nEXAMPLE OUTPUT:\\n**I feel valued and appreciated**<sup>employee recognition</sup> by my team.\\n\\nACTUAL INPUT:\\nstrength: the robot can, for example, move objects that a human could not move\\n\\nMAIN INSIGHTS:\\nThe text contains no insights relevant to the research question.']\n",
      "max_tokens: 150\n",
      "use_cache: True\n",
      "temperature: 0\n",
      "system_message: You are a helpful assistant.\n",
      "stop: []\n",
      "API_type: OpenAI\n",
      "Warning: LLM output differs from the original text, with edit distance 80\n",
      "Original text: \"strength: the robot can, for example, move objects that a human could not move\"\n",
      "LLM output: \"I'm sorry, but there are no insightful statements in the provided text that are relevant to the research question.\"\n",
      "Text reconstruction successful\n",
      "\n",
      "Had to reconstruct 1 texts due to LLM errors\n"
     ]
    }
   ],
   "source": [
    "import nest_asyncio\n",
    "nest_asyncio.apply()\n",
    "\n",
    "\n",
    "\n",
    "# Sample inputs for function arguments\n",
    "\n",
    "texts = single_concepts\n",
    "\n",
    "research_question = \"What are the key perceived benefits and risks regarding safety of the search and rescue robot?\"\n",
    "\n",
    "few_shot_examples = pd.DataFrame({\n",
    "    \"text\": [\n",
    "        \"I feel valued and appreciated by my team.\",\n",
    "        \"The training programs are really beneficial.\"\n",
    "    ],\n",
    "    \"coded_text\": [\n",
    "        \"**I feel valued and appreciated**<sup>employee recognition</sup> by my team.\",\n",
    "        \"The **training programs**<sup>professional development</sup> are really beneficial.\"\n",
    "    ]\n",
    "})\n",
    "\n",
    "gpt_model = \"gpt-4o\"  # or another preferred GPT model\n",
    "use_cache = True\n",
    "max_tokens = 150  # Specify maximum tokens for each prompt if necessary\n",
    "verbose = True\n",
    "\n",
    "# Now you can run:\n",
    "coded_texts, code_descriptions = LLMCode.code_inductively_with_code_consistency(\n",
    "    texts=texts,\n",
    "    research_question=research_question,\n",
    "    few_shot_examples=few_shot_examples,\n",
    "    gpt_model=gpt_model,\n",
    "    use_cache=use_cache,\n",
    "    max_tokens=max_tokens,\n",
    "    verbose=verbose\n",
    ")\n"
   ]
  },
  {
   "cell_type": "code",
   "execution_count": 57,
   "metadata": {},
   "outputs": [
    {
     "data": {
      "text/plain": [
       "30"
      ]
     },
     "execution_count": 57,
     "metadata": {},
     "output_type": "execute_result"
    }
   ],
   "source": [
    "len(coded_texts)"
   ]
  },
  {
   "cell_type": "code",
   "execution_count": 58,
   "metadata": {},
   "outputs": [
    {
     "name": "stdout",
     "output_type": "stream",
     "text": [
      "5\n",
      "{'speed': \"Captures instances where participants highlight the robot's ability to perform tasks rapidly, emphasizing the potential for swift response times in emergency situations, which can be crucial for enhancing safety during search and rescue operations.\", 'autonomy': \"Captures instances where participants express concerns or appreciation for the robot's ability to operate independently, highlighting both the potential for increased efficiency in search and rescue missions and the risks associated with reduced human oversight and control.\", 'safety': 'Captures discussions where participants highlight the perceived safety benefits of search and rescue robots, such as reducing the need for human presence in hazardous environments, thereby minimizing risk to human life.', 'accessibility': 'Captures instances where participants highlight the advantage of search and rescue robots in accessing hazardous or hard-to-reach areas, thereby enhancing the effectiveness and safety of rescue operations.', 'efficiency': 'Captures instances where participants highlight the enhanced operational speed and perceptual capabilities of search and rescue robots, emphasizing their ability to perform tasks more swiftly and accurately than human counterparts.'}\n"
     ]
    }
   ],
   "source": [
    "print(len(code_descriptions))\n",
    "print(code_descriptions)"
   ]
  },
  {
   "cell_type": "markdown",
   "metadata": {},
   "source": [
    "{'robot endurance': \"Captures discussions where participants highlight the robot's ability to operate for extended periods without fatigue, emphasizing its potential to enhance search and rescue missions by maintaining consistent performance over long durations.\",\n",
    " 'area of application': 'Captures discussions about specific environments or situations where the search and rescue robot is deemed particularly beneficial, such as hazardous locations that pose significant risks to human safety.',\n",
    " 'reduction in human deployment': 'Captures instances where participants highlight the perceived safety benefit of minimizing human exposure to hazardous environments by deploying search and rescue robots, thereby reducing the need for human personnel to enter potentially dangerous situations.',\n",
    " 'enhancing safety': 'Captures instances where participants highlight the benefit of minimizing human exposure to hazardous environments by utilizing search and rescue robots, thereby enhancing overall safety during operations.',\n",
    " 'rapid deployment': \"Captures instances where participants highlight the advantage of the search and rescue robot's ability to be quickly deployed to disaster sites, significantly reducing response time compared to human teams.\",\n",
    " 'simplification of difficult situations': 'Captures instances where participants highlight how search and rescue robots can streamline complex rescue operations by providing automated solutions that enhance accessibility and intervention in challenging environments.',\n",
    " 'key benefit': 'Captures instances where participants highlight the primary advantage of the search and rescue robot as its ability to save lives by efficiently locating and assisting individuals in emergency situations.',\n",
    " 'robot focus': 'Captures instances where participants emphasize the importance of the search and rescue robot maintaining a singular focus on its task to ensure efficiency and safety, avoiding distractions that could compromise its performance in critical situations.',\n",
    " 'replaceability': 'Captures discussions where participants highlight the perceived benefit of robots in search and rescue operations being easily replaceable, thus reducing concerns about their safety compared to human rescuers.',\n",
    " 'robot capability': \"Captures discussions where participants highlight the robot's ability to perform complex tasks with precision and agility, emphasizing its potential to enhance safety in search and rescue operations by navigating challenging environments effectively.\"}"
   ]
  },
  {
   "cell_type": "code",
   "execution_count": 59,
   "metadata": {},
   "outputs": [
    {
     "name": "stdout",
     "output_type": "stream",
     "text": [
      "Arguments:\n",
      "model: gpt-4o\n",
      "prompt_batch: ['You are an expert qualitative researcher conducting a project with the research question: What are the key perceived benefits and risks regarding safety of the search and rescue robot?. You are given a text to code deductively using a list of codes. Please carry out the following task:\\n- Respond by repeating the original text, but highlighting the coded statements by surrounding the statements with double asterisks, as if they were bolded text in a Markdown document.\\n- Include the associated code(s) immediately after the statement, separated by a semicolon and enclosed in <sup></sup> tags, as if they were superscript text in a Markdown document.\\n- Preserve exact formatting of the original text. Do not correct typos or remove unnecessary spaces.\\n\\nThe following is an example of the correct output format, with fictional codes:\\n\\nI really enjoy walking in the park on weekends. **It helps me clear my mind**<sup>mental clarity</sup> and **feel more connected to nature**<sup>connection to nature</sup>. Sometimes, I take my dog with me, and we just wander around, **enjoying the fresh air**<sup>sensory enjoyment; relaxation</sup>.\\n\\nUse codes from the following list:\\nsafety\\nautonomy\\nefficiency\\naccessibility\\nspeed\\n\\nINPUT:\\nare physically superior: Strength, agility, mobility', 'You are an expert qualitative researcher conducting a project with the research question: What are the key perceived benefits and risks regarding safety of the search and rescue robot?. You are given a text to code deductively using a list of codes. Please carry out the following task:\\n- Respond by repeating the original text, but highlighting the coded statements by surrounding the statements with double asterisks, as if they were bolded text in a Markdown document.\\n- Include the associated code(s) immediately after the statement, separated by a semicolon and enclosed in <sup></sup> tags, as if they were superscript text in a Markdown document.\\n- Preserve exact formatting of the original text. Do not correct typos or remove unnecessary spaces.\\n\\nThe following is an example of the correct output format, with fictional codes:\\n\\nI really enjoy walking in the park on weekends. **It helps me clear my mind**<sup>mental clarity</sup> and **feel more connected to nature**<sup>connection to nature</sup>. Sometimes, I take my dog with me, and we just wander around, **enjoying the fresh air**<sup>sensory enjoyment; relaxation</sup>.\\n\\nUse codes from the following list:\\nefficiency\\nautonomy\\nsafety\\naccessibility\\nspeed\\n\\nINPUT:\\ncan act quickly: Robots can intervene quickly, as they do not need to be dressed or prepared and are autonomous', 'You are an expert qualitative researcher conducting a project with the research question: What are the key perceived benefits and risks regarding safety of the search and rescue robot?. You are given a text to code deductively using a list of codes. Please carry out the following task:\\n- Respond by repeating the original text, but highlighting the coded statements by surrounding the statements with double asterisks, as if they were bolded text in a Markdown document.\\n- Include the associated code(s) immediately after the statement, separated by a semicolon and enclosed in <sup></sup> tags, as if they were superscript text in a Markdown document.\\n- Preserve exact formatting of the original text. Do not correct typos or remove unnecessary spaces.\\n\\nThe following is an example of the correct output format, with fictional codes:\\n\\nI really enjoy walking in the park on weekends. **It helps me clear my mind**<sup>mental clarity</sup> and **feel more connected to nature**<sup>connection to nature</sup>. Sometimes, I take my dog with me, and we just wander around, **enjoying the fresh air**<sup>sensory enjoyment; relaxation</sup>.\\n\\nUse codes from the following list:\\nefficiency\\naccessibility\\nautonomy\\nsafety\\nspeed\\n\\nINPUT:\\nreplaceable: In case of loss, no human sacrifice', 'You are an expert qualitative researcher conducting a project with the research question: What are the key perceived benefits and risks regarding safety of the search and rescue robot?. You are given a text to code deductively using a list of codes. Please carry out the following task:\\n- Respond by repeating the original text, but highlighting the coded statements by surrounding the statements with double asterisks, as if they were bolded text in a Markdown document.\\n- Include the associated code(s) immediately after the statement, separated by a semicolon and enclosed in <sup></sup> tags, as if they were superscript text in a Markdown document.\\n- Preserve exact formatting of the original text. Do not correct typos or remove unnecessary spaces.\\n\\nThe following is an example of the correct output format, with fictional codes:\\n\\nI really enjoy walking in the park on weekends. **It helps me clear my mind**<sup>mental clarity</sup> and **feel more connected to nature**<sup>connection to nature</sup>. Sometimes, I take my dog with me, and we just wander around, **enjoying the fresh air**<sup>sensory enjoyment; relaxation</sup>.\\n\\nUse codes from the following list:\\nsafety\\nautonomy\\naccessibility\\nspeed\\nefficiency\\n\\nINPUT:\\nefficient reconnaissance work: Through algorithms, maps can be read and created more quickly', 'You are an expert qualitative researcher conducting a project with the research question: What are the key perceived benefits and risks regarding safety of the search and rescue robot?. You are given a text to code deductively using a list of codes. Please carry out the following task:\\n- Respond by repeating the original text, but highlighting the coded statements by surrounding the statements with double asterisks, as if they were bolded text in a Markdown document.\\n- Include the associated code(s) immediately after the statement, separated by a semicolon and enclosed in <sup></sup> tags, as if they were superscript text in a Markdown document.\\n- Preserve exact formatting of the original text. Do not correct typos or remove unnecessary spaces.\\n\\nThe following is an example of the correct output format, with fictional codes:\\n\\nI really enjoy walking in the park on weekends. **It helps me clear my mind**<sup>mental clarity</sup> and **feel more connected to nature**<sup>connection to nature</sup>. Sometimes, I take my dog with me, and we just wander around, **enjoying the fresh air**<sup>sensory enjoyment; relaxation</sup>.\\n\\nUse codes from the following list:\\nsafety\\nefficiency\\nautonomy\\naccessibility\\nspeed\\n\\nINPUT:\\naccess: access to areas where people cannot reach', 'You are an expert qualitative researcher conducting a project with the research question: What are the key perceived benefits and risks regarding safety of the search and rescue robot?. You are given a text to code deductively using a list of codes. Please carry out the following task:\\n- Respond by repeating the original text, but highlighting the coded statements by surrounding the statements with double asterisks, as if they were bolded text in a Markdown document.\\n- Include the associated code(s) immediately after the statement, separated by a semicolon and enclosed in <sup></sup> tags, as if they were superscript text in a Markdown document.\\n- Preserve exact formatting of the original text. Do not correct typos or remove unnecessary spaces.\\n\\nThe following is an example of the correct output format, with fictional codes:\\n\\nI really enjoy walking in the park on weekends. **It helps me clear my mind**<sup>mental clarity</sup> and **feel more connected to nature**<sup>connection to nature</sup>. Sometimes, I take my dog with me, and we just wander around, **enjoying the fresh air**<sup>sensory enjoyment; relaxation</sup>.\\n\\nUse codes from the following list:\\nspeed\\nsafety\\nautonomy\\naccessibility\\nefficiency\\n\\nINPUT:\\nAccuracy of rescue robots: this way human errors can be reduced', 'You are an expert qualitative researcher conducting a project with the research question: What are the key perceived benefits and risks regarding safety of the search and rescue robot?. You are given a text to code deductively using a list of codes. Please carry out the following task:\\n- Respond by repeating the original text, but highlighting the coded statements by surrounding the statements with double asterisks, as if they were bolded text in a Markdown document.\\n- Include the associated code(s) immediately after the statement, separated by a semicolon and enclosed in <sup></sup> tags, as if they were superscript text in a Markdown document.\\n- Preserve exact formatting of the original text. Do not correct typos or remove unnecessary spaces.\\n\\nThe following is an example of the correct output format, with fictional codes:\\n\\nI really enjoy walking in the park on weekends. **It helps me clear my mind**<sup>mental clarity</sup> and **feel more connected to nature**<sup>connection to nature</sup>. Sometimes, I take my dog with me, and we just wander around, **enjoying the fresh air**<sup>sensory enjoyment; relaxation</sup>.\\n\\nUse codes from the following list:\\nautonomy\\naccessibility\\nefficiency\\nsafety\\nspeed\\n\\nINPUT:\\nincreased efficiency', 'You are an expert qualitative researcher conducting a project with the research question: What are the key perceived benefits and risks regarding safety of the search and rescue robot?. You are given a text to code deductively using a list of codes. Please carry out the following task:\\n- Respond by repeating the original text, but highlighting the coded statements by surrounding the statements with double asterisks, as if they were bolded text in a Markdown document.\\n- Include the associated code(s) immediately after the statement, separated by a semicolon and enclosed in <sup></sup> tags, as if they were superscript text in a Markdown document.\\n- Preserve exact formatting of the original text. Do not correct typos or remove unnecessary spaces.\\n\\nThe following is an example of the correct output format, with fictional codes:\\n\\nI really enjoy walking in the park on weekends. **It helps me clear my mind**<sup>mental clarity</sup> and **feel more connected to nature**<sup>connection to nature</sup>. Sometimes, I take my dog with me, and we just wander around, **enjoying the fresh air**<sup>sensory enjoyment; relaxation</sup>.\\n\\nUse codes from the following list:\\nspeed\\naccessibility\\nefficiency\\nautonomy\\nsafety\\n\\nINPUT:\\nno danger: No human doctor etc. needs to enter the operating area and thus it is significantly safer and therefore protects human lives.', 'You are an expert qualitative researcher conducting a project with the research question: What are the key perceived benefits and risks regarding safety of the search and rescue robot?. You are given a text to code deductively using a list of codes. Please carry out the following task:\\n- Respond by repeating the original text, but highlighting the coded statements by surrounding the statements with double asterisks, as if they were bolded text in a Markdown document.\\n- Include the associated code(s) immediately after the statement, separated by a semicolon and enclosed in <sup></sup> tags, as if they were superscript text in a Markdown document.\\n- Preserve exact formatting of the original text. Do not correct typos or remove unnecessary spaces.\\n\\nThe following is an example of the correct output format, with fictional codes:\\n\\nI really enjoy walking in the park on weekends. **It helps me clear my mind**<sup>mental clarity</sup> and **feel more connected to nature**<sup>connection to nature</sup>. Sometimes, I take my dog with me, and we just wander around, **enjoying the fresh air**<sup>sensory enjoyment; relaxation</sup>.\\n\\nUse codes from the following list:\\nautonomy\\nsafety\\nefficiency\\nspeed\\naccessibility\\n\\nINPUT:\\nstronger: Robots might potentially be able to move things that humans would have great difficulty with.', 'You are an expert qualitative researcher conducting a project with the research question: What are the key perceived benefits and risks regarding safety of the search and rescue robot?. You are given a text to code deductively using a list of codes. Please carry out the following task:\\n- Respond by repeating the original text, but highlighting the coded statements by surrounding the statements with double asterisks, as if they were bolded text in a Markdown document.\\n- Include the associated code(s) immediately after the statement, separated by a semicolon and enclosed in <sup></sup> tags, as if they were superscript text in a Markdown document.\\n- Preserve exact formatting of the original text. Do not correct typos or remove unnecessary spaces.\\n\\nThe following is an example of the correct output format, with fictional codes:\\n\\nI really enjoy walking in the park on weekends. **It helps me clear my mind**<sup>mental clarity</sup> and **feel more connected to nature**<sup>connection to nature</sup>. Sometimes, I take my dog with me, and we just wander around, **enjoying the fresh air**<sup>sensory enjoyment; relaxation</sup>.\\n\\nUse codes from the following list:\\nspeed\\naccessibility\\nautonomy\\nefficiency\\nsafety\\n\\nINPUT:\\ngreater accuracy']\n",
      "max_tokens: 149\n",
      "use_cache: True\n",
      "temperature: 0\n",
      "system_message: You are a helpful assistant.\n",
      "stop: []\n",
      "API_type: OpenAI\n",
      " |█████████████████████████████████-------------------------------------------------------------------| 33.3% Arguments:\n",
      "model: gpt-4o\n",
      "prompt_batch: ['You are an expert qualitative researcher conducting a project with the research question: What are the key perceived benefits and risks regarding safety of the search and rescue robot?. You are given a text to code deductively using a list of codes. Please carry out the following task:\\n- Respond by repeating the original text, but highlighting the coded statements by surrounding the statements with double asterisks, as if they were bolded text in a Markdown document.\\n- Include the associated code(s) immediately after the statement, separated by a semicolon and enclosed in <sup></sup> tags, as if they were superscript text in a Markdown document.\\n- Preserve exact formatting of the original text. Do not correct typos or remove unnecessary spaces.\\n\\nThe following is an example of the correct output format, with fictional codes:\\n\\nI really enjoy walking in the park on weekends. **It helps me clear my mind**<sup>mental clarity</sup> and **feel more connected to nature**<sup>connection to nature</sup>. Sometimes, I take my dog with me, and we just wander around, **enjoying the fresh air**<sup>sensory enjoyment; relaxation</sup>.\\n\\nUse codes from the following list:\\nspeed\\nefficiency\\naccessibility\\nsafety\\nautonomy\\n\\nINPUT:\\nreduced risk: By using robots, no human forces are exposed to dangerous situations', 'You are an expert qualitative researcher conducting a project with the research question: What are the key perceived benefits and risks regarding safety of the search and rescue robot?. You are given a text to code deductively using a list of codes. Please carry out the following task:\\n- Respond by repeating the original text, but highlighting the coded statements by surrounding the statements with double asterisks, as if they were bolded text in a Markdown document.\\n- Include the associated code(s) immediately after the statement, separated by a semicolon and enclosed in <sup></sup> tags, as if they were superscript text in a Markdown document.\\n- Preserve exact formatting of the original text. Do not correct typos or remove unnecessary spaces.\\n\\nThe following is an example of the correct output format, with fictional codes:\\n\\nI really enjoy walking in the park on weekends. **It helps me clear my mind**<sup>mental clarity</sup> and **feel more connected to nature**<sup>connection to nature</sup>. Sometimes, I take my dog with me, and we just wander around, **enjoying the fresh air**<sup>sensory enjoyment; relaxation</sup>.\\n\\nUse codes from the following list:\\nautonomy\\nspeed\\naccessibility\\nsafety\\nefficiency\\n\\nINPUT:\\nsimplification of difficult situations: Many rescue situations prove difficult for people to reach or to intervene, automation can clearly help here.', 'You are an expert qualitative researcher conducting a project with the research question: What are the key perceived benefits and risks regarding safety of the search and rescue robot?. You are given a text to code deductively using a list of codes. Please carry out the following task:\\n- Respond by repeating the original text, but highlighting the coded statements by surrounding the statements with double asterisks, as if they were bolded text in a Markdown document.\\n- Include the associated code(s) immediately after the statement, separated by a semicolon and enclosed in <sup></sup> tags, as if they were superscript text in a Markdown document.\\n- Preserve exact formatting of the original text. Do not correct typos or remove unnecessary spaces.\\n\\nThe following is an example of the correct output format, with fictional codes:\\n\\nI really enjoy walking in the park on weekends. **It helps me clear my mind**<sup>mental clarity</sup> and **feel more connected to nature**<sup>connection to nature</sup>. Sometimes, I take my dog with me, and we just wander around, **enjoying the fresh air**<sup>sensory enjoyment; relaxation</sup>.\\n\\nUse codes from the following list:\\nautonomy\\nsafety\\nspeed\\nefficiency\\naccessibility\\n\\nINPUT:\\nrisk minimization: Approximately during search actions in risky areas', 'You are an expert qualitative researcher conducting a project with the research question: What are the key perceived benefits and risks regarding safety of the search and rescue robot?. You are given a text to code deductively using a list of codes. Please carry out the following task:\\n- Respond by repeating the original text, but highlighting the coded statements by surrounding the statements with double asterisks, as if they were bolded text in a Markdown document.\\n- Include the associated code(s) immediately after the statement, separated by a semicolon and enclosed in <sup></sup> tags, as if they were superscript text in a Markdown document.\\n- Preserve exact formatting of the original text. Do not correct typos or remove unnecessary spaces.\\n\\nThe following is an example of the correct output format, with fictional codes:\\n\\nI really enjoy walking in the park on weekends. **It helps me clear my mind**<sup>mental clarity</sup> and **feel more connected to nature**<sup>connection to nature</sup>. Sometimes, I take my dog with me, and we just wander around, **enjoying the fresh air**<sup>sensory enjoyment; relaxation</sup>.\\n\\nUse codes from the following list:\\nsafety\\naccessibility\\nautonomy\\nspeed\\nefficiency\\n\\nINPUT:\\nrescue and safety', 'You are an expert qualitative researcher conducting a project with the research question: What are the key perceived benefits and risks regarding safety of the search and rescue robot?. You are given a text to code deductively using a list of codes. Please carry out the following task:\\n- Respond by repeating the original text, but highlighting the coded statements by surrounding the statements with double asterisks, as if they were bolded text in a Markdown document.\\n- Include the associated code(s) immediately after the statement, separated by a semicolon and enclosed in <sup></sup> tags, as if they were superscript text in a Markdown document.\\n- Preserve exact formatting of the original text. Do not correct typos or remove unnecessary spaces.\\n\\nThe following is an example of the correct output format, with fictional codes:\\n\\nI really enjoy walking in the park on weekends. **It helps me clear my mind**<sup>mental clarity</sup> and **feel more connected to nature**<sup>connection to nature</sup>. Sometimes, I take my dog with me, and we just wander around, **enjoying the fresh air**<sup>sensory enjoyment; relaxation</sup>.\\n\\nUse codes from the following list:\\nsafety\\nefficiency\\naccessibility\\nspeed\\nautonomy\\n\\nINPUT:\\nsafety: through reliability', 'You are an expert qualitative researcher conducting a project with the research question: What are the key perceived benefits and risks regarding safety of the search and rescue robot?. You are given a text to code deductively using a list of codes. Please carry out the following task:\\n- Respond by repeating the original text, but highlighting the coded statements by surrounding the statements with double asterisks, as if they were bolded text in a Markdown document.\\n- Include the associated code(s) immediately after the statement, separated by a semicolon and enclosed in <sup></sup> tags, as if they were superscript text in a Markdown document.\\n- Preserve exact formatting of the original text. Do not correct typos or remove unnecessary spaces.\\n\\nThe following is an example of the correct output format, with fictional codes:\\n\\nI really enjoy walking in the park on weekends. **It helps me clear my mind**<sup>mental clarity</sup> and **feel more connected to nature**<sup>connection to nature</sup>. Sometimes, I take my dog with me, and we just wander around, **enjoying the fresh air**<sup>sensory enjoyment; relaxation</sup>.\\n\\nUse codes from the following list:\\nefficiency\\nspeed\\naccessibility\\nsafety\\nautonomy\\n\\nINPUT:\\nno danger: For human rescue forces in action', 'You are an expert qualitative researcher conducting a project with the research question: What are the key perceived benefits and risks regarding safety of the search and rescue robot?. You are given a text to code deductively using a list of codes. Please carry out the following task:\\n- Respond by repeating the original text, but highlighting the coded statements by surrounding the statements with double asterisks, as if they were bolded text in a Markdown document.\\n- Include the associated code(s) immediately after the statement, separated by a semicolon and enclosed in <sup></sup> tags, as if they were superscript text in a Markdown document.\\n- Preserve exact formatting of the original text. Do not correct typos or remove unnecessary spaces.\\n\\nThe following is an example of the correct output format, with fictional codes:\\n\\nI really enjoy walking in the park on weekends. **It helps me clear my mind**<sup>mental clarity</sup> and **feel more connected to nature**<sup>connection to nature</sup>. Sometimes, I take my dog with me, and we just wander around, **enjoying the fresh air**<sup>sensory enjoyment; relaxation</sup>.\\n\\nUse codes from the following list:\\naccessibility\\nautonomy\\nefficiency\\nspeed\\nsafety\\n\\nINPUT:\\nsupply with food', 'You are an expert qualitative researcher conducting a project with the research question: What are the key perceived benefits and risks regarding safety of the search and rescue robot?. You are given a text to code deductively using a list of codes. Please carry out the following task:\\n- Respond by repeating the original text, but highlighting the coded statements by surrounding the statements with double asterisks, as if they were bolded text in a Markdown document.\\n- Include the associated code(s) immediately after the statement, separated by a semicolon and enclosed in <sup></sup> tags, as if they were superscript text in a Markdown document.\\n- Preserve exact formatting of the original text. Do not correct typos or remove unnecessary spaces.\\n\\nThe following is an example of the correct output format, with fictional codes:\\n\\nI really enjoy walking in the park on weekends. **It helps me clear my mind**<sup>mental clarity</sup> and **feel more connected to nature**<sup>connection to nature</sup>. Sometimes, I take my dog with me, and we just wander around, **enjoying the fresh air**<sup>sensory enjoyment; relaxation</sup>.\\n\\nUse codes from the following list:\\nspeed\\nsafety\\nautonomy\\naccessibility\\nefficiency\\n\\nINPUT:\\ndangerous areas', 'You are an expert qualitative researcher conducting a project with the research question: What are the key perceived benefits and risks regarding safety of the search and rescue robot?. You are given a text to code deductively using a list of codes. Please carry out the following task:\\n- Respond by repeating the original text, but highlighting the coded statements by surrounding the statements with double asterisks, as if they were bolded text in a Markdown document.\\n- Include the associated code(s) immediately after the statement, separated by a semicolon and enclosed in <sup></sup> tags, as if they were superscript text in a Markdown document.\\n- Preserve exact formatting of the original text. Do not correct typos or remove unnecessary spaces.\\n\\nThe following is an example of the correct output format, with fictional codes:\\n\\nI really enjoy walking in the park on weekends. **It helps me clear my mind**<sup>mental clarity</sup> and **feel more connected to nature**<sup>connection to nature</sup>. Sometimes, I take my dog with me, and we just wander around, **enjoying the fresh air**<sup>sensory enjoyment; relaxation</sup>.\\n\\nUse codes from the following list:\\nautonomy\\nspeed\\naccessibility\\nefficiency\\nsafety\\n\\nINPUT:\\nuse in dangerous situations: Rescue robots can be used in dangerous situations where humans are exposed to too high a risk.', 'You are an expert qualitative researcher conducting a project with the research question: What are the key perceived benefits and risks regarding safety of the search and rescue robot?. You are given a text to code deductively using a list of codes. Please carry out the following task:\\n- Respond by repeating the original text, but highlighting the coded statements by surrounding the statements with double asterisks, as if they were bolded text in a Markdown document.\\n- Include the associated code(s) immediately after the statement, separated by a semicolon and enclosed in <sup></sup> tags, as if they were superscript text in a Markdown document.\\n- Preserve exact formatting of the original text. Do not correct typos or remove unnecessary spaces.\\n\\nThe following is an example of the correct output format, with fictional codes:\\n\\nI really enjoy walking in the park on weekends. **It helps me clear my mind**<sup>mental clarity</sup> and **feel more connected to nature**<sup>connection to nature</sup>. Sometimes, I take my dog with me, and we just wander around, **enjoying the fresh air**<sup>sensory enjoyment; relaxation</sup>.\\n\\nUse codes from the following list:\\nspeed\\nefficiency\\naccessibility\\nsafety\\nautonomy\\n\\nINPUT:\\nmore flexible than humans']\n",
      "max_tokens: 149\n",
      "use_cache: True\n",
      "temperature: 0\n",
      "system_message: You are a helpful assistant.\n",
      "stop: []\n",
      "API_type: OpenAI\n",
      " |██████████████████████████████████████████████████████████████████----------------------------------| 66.7% Arguments:\n",
      "model: gpt-4o\n",
      "prompt_batch: ['You are an expert qualitative researcher conducting a project with the research question: What are the key perceived benefits and risks regarding safety of the search and rescue robot?. You are given a text to code deductively using a list of codes. Please carry out the following task:\\n- Respond by repeating the original text, but highlighting the coded statements by surrounding the statements with double asterisks, as if they were bolded text in a Markdown document.\\n- Include the associated code(s) immediately after the statement, separated by a semicolon and enclosed in <sup></sup> tags, as if they were superscript text in a Markdown document.\\n- Preserve exact formatting of the original text. Do not correct typos or remove unnecessary spaces.\\n\\nThe following is an example of the correct output format, with fictional codes:\\n\\nI really enjoy walking in the park on weekends. **It helps me clear my mind**<sup>mental clarity</sup> and **feel more connected to nature**<sup>connection to nature</sup>. Sometimes, I take my dog with me, and we just wander around, **enjoying the fresh air**<sup>sensory enjoyment; relaxation</sup>.\\n\\nUse codes from the following list:\\nspeed\\nsafety\\nefficiency\\nautonomy\\naccessibility\\n\\nINPUT:\\nspeed and efficiency: Robots can often act faster than humans and increase the speed of emergency interventions', 'You are an expert qualitative researcher conducting a project with the research question: What are the key perceived benefits and risks regarding safety of the search and rescue robot?. You are given a text to code deductively using a list of codes. Please carry out the following task:\\n- Respond by repeating the original text, but highlighting the coded statements by surrounding the statements with double asterisks, as if they were bolded text in a Markdown document.\\n- Include the associated code(s) immediately after the statement, separated by a semicolon and enclosed in <sup></sup> tags, as if they were superscript text in a Markdown document.\\n- Preserve exact formatting of the original text. Do not correct typos or remove unnecessary spaces.\\n\\nThe following is an example of the correct output format, with fictional codes:\\n\\nI really enjoy walking in the park on weekends. **It helps me clear my mind**<sup>mental clarity</sup> and **feel more connected to nature**<sup>connection to nature</sup>. Sometimes, I take my dog with me, and we just wander around, **enjoying the fresh air**<sup>sensory enjoyment; relaxation</sup>.\\n\\nUse codes from the following list:\\naccessibility\\nautonomy\\nspeed\\nefficiency\\nsafety\\n\\nINPUT:\\ndo not lose strength: Robots do not lose stamina while humans could lose strength during missions.', 'You are an expert qualitative researcher conducting a project with the research question: What are the key perceived benefits and risks regarding safety of the search and rescue robot?. You are given a text to code deductively using a list of codes. Please carry out the following task:\\n- Respond by repeating the original text, but highlighting the coded statements by surrounding the statements with double asterisks, as if they were bolded text in a Markdown document.\\n- Include the associated code(s) immediately after the statement, separated by a semicolon and enclosed in <sup></sup> tags, as if they were superscript text in a Markdown document.\\n- Preserve exact formatting of the original text. Do not correct typos or remove unnecessary spaces.\\n\\nThe following is an example of the correct output format, with fictional codes:\\n\\nI really enjoy walking in the park on weekends. **It helps me clear my mind**<sup>mental clarity</sup> and **feel more connected to nature**<sup>connection to nature</sup>. Sometimes, I take my dog with me, and we just wander around, **enjoying the fresh air**<sup>sensory enjoyment; relaxation</sup>.\\n\\nUse codes from the following list:\\naccessibility\\nsafety\\nefficiency\\nautonomy\\nspeed\\n\\nINPUT:\\nefficiency', 'You are an expert qualitative researcher conducting a project with the research question: What are the key perceived benefits and risks regarding safety of the search and rescue robot?. You are given a text to code deductively using a list of codes. Please carry out the following task:\\n- Respond by repeating the original text, but highlighting the coded statements by surrounding the statements with double asterisks, as if they were bolded text in a Markdown document.\\n- Include the associated code(s) immediately after the statement, separated by a semicolon and enclosed in <sup></sup> tags, as if they were superscript text in a Markdown document.\\n- Preserve exact formatting of the original text. Do not correct typos or remove unnecessary spaces.\\n\\nThe following is an example of the correct output format, with fictional codes:\\n\\nI really enjoy walking in the park on weekends. **It helps me clear my mind**<sup>mental clarity</sup> and **feel more connected to nature**<sup>connection to nature</sup>. Sometimes, I take my dog with me, and we just wander around, **enjoying the fresh air**<sup>sensory enjoyment; relaxation</sup>.\\n\\nUse codes from the following list:\\nautonomy\\naccessibility\\nspeed\\nsafety\\nefficiency\\n\\nINPUT:\\nremote control', 'You are an expert qualitative researcher conducting a project with the research question: What are the key perceived benefits and risks regarding safety of the search and rescue robot?. You are given a text to code deductively using a list of codes. Please carry out the following task:\\n- Respond by repeating the original text, but highlighting the coded statements by surrounding the statements with double asterisks, as if they were bolded text in a Markdown document.\\n- Include the associated code(s) immediately after the statement, separated by a semicolon and enclosed in <sup></sup> tags, as if they were superscript text in a Markdown document.\\n- Preserve exact formatting of the original text. Do not correct typos or remove unnecessary spaces.\\n\\nThe following is an example of the correct output format, with fictional codes:\\n\\nI really enjoy walking in the park on weekends. **It helps me clear my mind**<sup>mental clarity</sup> and **feel more connected to nature**<sup>connection to nature</sup>. Sometimes, I take my dog with me, and we just wander around, **enjoying the fresh air**<sup>sensory enjoyment; relaxation</sup>.\\n\\nUse codes from the following list:\\nspeed\\naccessibility\\nsafety\\nefficiency\\nautonomy\\n\\nINPUT:\\nefficiency: Robots are not limited to human speed, vision, and perception in general.', 'You are an expert qualitative researcher conducting a project with the research question: What are the key perceived benefits and risks regarding safety of the search and rescue robot?. You are given a text to code deductively using a list of codes. Please carry out the following task:\\n- Respond by repeating the original text, but highlighting the coded statements by surrounding the statements with double asterisks, as if they were bolded text in a Markdown document.\\n- Include the associated code(s) immediately after the statement, separated by a semicolon and enclosed in <sup></sup> tags, as if they were superscript text in a Markdown document.\\n- Preserve exact formatting of the original text. Do not correct typos or remove unnecessary spaces.\\n\\nThe following is an example of the correct output format, with fictional codes:\\n\\nI really enjoy walking in the park on weekends. **It helps me clear my mind**<sup>mental clarity</sup> and **feel more connected to nature**<sup>connection to nature</sup>. Sometimes, I take my dog with me, and we just wander around, **enjoying the fresh air**<sup>sensory enjoyment; relaxation</sup>.\\n\\nUse codes from the following list:\\nefficiency\\nautonomy\\nsafety\\naccessibility\\nspeed\\n\\nINPUT:\\nremote control: Can be operated by experts via remote control or autonomous systems to perform operations from a safe distance.', 'You are an expert qualitative researcher conducting a project with the research question: What are the key perceived benefits and risks regarding safety of the search and rescue robot?. You are given a text to code deductively using a list of codes. Please carry out the following task:\\n- Respond by repeating the original text, but highlighting the coded statements by surrounding the statements with double asterisks, as if they were bolded text in a Markdown document.\\n- Include the associated code(s) immediately after the statement, separated by a semicolon and enclosed in <sup></sup> tags, as if they were superscript text in a Markdown document.\\n- Preserve exact formatting of the original text. Do not correct typos or remove unnecessary spaces.\\n\\nThe following is an example of the correct output format, with fictional codes:\\n\\nI really enjoy walking in the park on weekends. **It helps me clear my mind**<sup>mental clarity</sup> and **feel more connected to nature**<sup>connection to nature</sup>. Sometimes, I take my dog with me, and we just wander around, **enjoying the fresh air**<sup>sensory enjoyment; relaxation</sup>.\\n\\nUse codes from the following list:\\nautonomy\\nefficiency\\naccessibility\\nspeed\\nsafety\\n\\nINPUT:\\nrescue of people', 'You are an expert qualitative researcher conducting a project with the research question: What are the key perceived benefits and risks regarding safety of the search and rescue robot?. You are given a text to code deductively using a list of codes. Please carry out the following task:\\n- Respond by repeating the original text, but highlighting the coded statements by surrounding the statements with double asterisks, as if they were bolded text in a Markdown document.\\n- Include the associated code(s) immediately after the statement, separated by a semicolon and enclosed in <sup></sup> tags, as if they were superscript text in a Markdown document.\\n- Preserve exact formatting of the original text. Do not correct typos or remove unnecessary spaces.\\n\\nThe following is an example of the correct output format, with fictional codes:\\n\\nI really enjoy walking in the park on weekends. **It helps me clear my mind**<sup>mental clarity</sup> and **feel more connected to nature**<sup>connection to nature</sup>. Sometimes, I take my dog with me, and we just wander around, **enjoying the fresh air**<sup>sensory enjoyment; relaxation</sup>.\\n\\nUse codes from the following list:\\nautonomy\\nspeed\\nsafety\\naccessibility\\nefficiency\\n\\nINPUT:\\nmedication supply', 'You are an expert qualitative researcher conducting a project with the research question: What are the key perceived benefits and risks regarding safety of the search and rescue robot?. You are given a text to code deductively using a list of codes. Please carry out the following task:\\n- Respond by repeating the original text, but highlighting the coded statements by surrounding the statements with double asterisks, as if they were bolded text in a Markdown document.\\n- Include the associated code(s) immediately after the statement, separated by a semicolon and enclosed in <sup></sup> tags, as if they were superscript text in a Markdown document.\\n- Preserve exact formatting of the original text. Do not correct typos or remove unnecessary spaces.\\n\\nThe following is an example of the correct output format, with fictional codes:\\n\\nI really enjoy walking in the park on weekends. **It helps me clear my mind**<sup>mental clarity</sup> and **feel more connected to nature**<sup>connection to nature</sup>. Sometimes, I take my dog with me, and we just wander around, **enjoying the fresh air**<sup>sensory enjoyment; relaxation</sup>.\\n\\nUse codes from the following list:\\naccessibility\\nsafety\\nautonomy\\nefficiency\\nspeed\\n\\nINPUT:\\nperform operations: disease', 'You are an expert qualitative researcher conducting a project with the research question: What are the key perceived benefits and risks regarding safety of the search and rescue robot?. You are given a text to code deductively using a list of codes. Please carry out the following task:\\n- Respond by repeating the original text, but highlighting the coded statements by surrounding the statements with double asterisks, as if they were bolded text in a Markdown document.\\n- Include the associated code(s) immediately after the statement, separated by a semicolon and enclosed in <sup></sup> tags, as if they were superscript text in a Markdown document.\\n- Preserve exact formatting of the original text. Do not correct typos or remove unnecessary spaces.\\n\\nThe following is an example of the correct output format, with fictional codes:\\n\\nI really enjoy walking in the park on weekends. **It helps me clear my mind**<sup>mental clarity</sup> and **feel more connected to nature**<sup>connection to nature</sup>. Sometimes, I take my dog with me, and we just wander around, **enjoying the fresh air**<sup>sensory enjoyment; relaxation</sup>.\\n\\nUse codes from the following list:\\naccessibility\\nautonomy\\nsafety\\nspeed\\nefficiency\\n\\nINPUT:\\nstrength: the robot can, for example, move objects that a human could not move']\n",
      "max_tokens: 149\n",
      "use_cache: True\n",
      "temperature: 0\n",
      "system_message: You are a helpful assistant.\n",
      "stop: []\n",
      "API_type: OpenAI\n",
      " |████████████████████████████████████████████████████████████████████████████████████████████████████| 100.0% \n"
     ]
    }
   ],
   "source": [
    "coded_texts_deductively = LLMCode.code_deductively(texts,\n",
    "                     research_question=research_question,\n",
    "                     codebook=code_descriptions,\n",
    "                     gpt_model=gpt_model,\n",
    "                     few_shot_examples=None,\n",
    "                     use_cache=True,\n",
    "                     verbose=False)"
   ]
  },
  {
   "cell_type": "code",
   "execution_count": 60,
   "metadata": {},
   "outputs": [
    {
     "data": {
      "text/plain": [
       "['are physically superior: **Strength, agility, mobility**<sup>efficiency</sup>',\n",
       " 'can act quickly: **Robots can intervene quickly**<sup>speed</sup>, **as they do not need to be dressed or prepared**<sup>efficiency</sup> and **are autonomous**<sup>autonomy</sup>',\n",
       " 'replaceable: **In case of loss, no human sacrifice**<sup>safety</sup>',\n",
       " 'efficient reconnaissance work: **Through algorithms, maps can be read and created more quickly**<sup>efficiency; speed</sup>',\n",
       " 'access: **access to areas where people cannot reach**<sup>accessibility</sup>',\n",
       " 'Accuracy of rescue robots: **this way human errors can be reduced**<sup>safety</sup>',\n",
       " '**increased efficiency**<sup>efficiency</sup>',\n",
       " 'no danger: **No human doctor etc. needs to enter the operating area and thus it is significantly safer**<sup>safety</sup> **and therefore protects human lives.**<sup>safety</sup>',\n",
       " 'stronger: **Robots might potentially be able to move things that humans would have great difficulty with.**<sup>efficiency</sup>',\n",
       " 'greater accuracy',\n",
       " 'reduced risk: **By using robots, no human forces are exposed to dangerous situations**<sup>safety</sup>',\n",
       " 'simplification of difficult situations: Many rescue situations prove difficult for people to reach or to intervene, **automation can clearly help here**<sup>accessibility; efficiency</sup>.',\n",
       " 'risk minimization: **Approximately during search actions in risky areas**<sup>safety</sup>',\n",
       " 'rescue and **safety**<sup>safety</sup>',\n",
       " 'safety: through reliability',\n",
       " 'no danger: **For human rescue forces in action**<sup>safety</sup>',\n",
       " 'supply with food',\n",
       " '**dangerous areas**<sup>safety</sup>',\n",
       " 'use in dangerous situations: **Rescue robots can be used in dangerous situations where humans are exposed to too high a risk.**<sup>safety</sup>',\n",
       " '**more flexible than humans**<sup>accessibility</sup>',\n",
       " 'speed and efficiency: **Robots can often act faster than humans**<sup>speed</sup> and **increase the speed of emergency interventions**<sup>efficiency</sup>',\n",
       " 'do not lose strength: **Robots do not lose stamina while humans could lose strength during missions.**<sup>efficiency</sup>',\n",
       " 'efficiency',\n",
       " 'remote control',\n",
       " 'efficiency: **Robots are not limited to human speed, vision, and perception in general.**<sup>efficiency</sup>',\n",
       " 'remote control: Can be operated by experts via **remote control**<sup>efficiency</sup> or **autonomous systems**<sup>autonomy</sup> to perform operations from a **safe distance**<sup>safety</sup>.',\n",
       " 'rescue of people',\n",
       " 'medication supply',\n",
       " 'perform operations: **disease**<sup>safety</sup>',\n",
       " 'strength: **the robot can, for example, move objects that a human could not move**<sup>efficiency</sup>']"
      ]
     },
     "execution_count": 60,
     "metadata": {},
     "output_type": "execute_result"
    }
   ],
   "source": [
    "coded_texts_deductively"
   ]
  },
  {
   "cell_type": "code",
   "execution_count": 61,
   "metadata": {},
   "outputs": [],
   "source": [
    "#@title Show distribution of LLM-generated deductive codes\n",
    "\n",
    "# Parse all codes and highlights in LLM output\n",
    "code_highlights_ded = LLMCode.get_codes_and_highlights(coded_texts_deductively)\n"
   ]
  },
  {
   "cell_type": "code",
   "execution_count": 62,
   "metadata": {},
   "outputs": [
    {
     "data": {
      "text/plain": [
       "defaultdict(list,\n",
       "            {'efficiency': ['Strength, agility, mobility',\n",
       "              'as they do not need to be dressed or prepared',\n",
       "              'Through algorithms, maps can be read and created more quickly',\n",
       "              'increased efficiency',\n",
       "              'Robots might potentially be able to move things that humans would have great difficulty with.',\n",
       "              'automation can clearly help here',\n",
       "              'increase the speed of emergency interventions',\n",
       "              'Robots do not lose stamina while humans could lose strength during missions.',\n",
       "              'Robots are not limited to human speed, vision, and perception in general.',\n",
       "              'remote control',\n",
       "              'the robot can, for example, move objects that a human could not move'],\n",
       "             'speed': ['Robots can intervene quickly',\n",
       "              'Through algorithms, maps can be read and created more quickly',\n",
       "              'Robots can often act faster than humans'],\n",
       "             'autonomy': ['are autonomous', 'autonomous systems'],\n",
       "             'safety': ['In case of loss, no human sacrifice',\n",
       "              'this way human errors can be reduced',\n",
       "              'No human doctor etc. needs to enter the operating area and thus it is significantly safer',\n",
       "              'and therefore protects human lives.',\n",
       "              'By using robots, no human forces are exposed to dangerous situations',\n",
       "              'Approximately during search actions in risky areas',\n",
       "              'safety',\n",
       "              'For human rescue forces in action',\n",
       "              'dangerous areas',\n",
       "              'Rescue robots can be used in dangerous situations where humans are exposed to too high a risk.',\n",
       "              'safe distance',\n",
       "              'disease'],\n",
       "             'accessibility': ['access to areas where people cannot reach',\n",
       "              'automation can clearly help here',\n",
       "              'more flexible than humans']})"
      ]
     },
     "execution_count": 62,
     "metadata": {},
     "output_type": "execute_result"
    }
   ],
   "source": [
    "code_highlights_ded"
   ]
  },
  {
   "cell_type": "code",
   "execution_count": 63,
   "metadata": {},
   "outputs": [
    {
     "data": {
      "application/vnd.plotly.v1+json": {
       "config": {
        "plotlyServerURL": "https://plot.ly"
       },
       "data": [
        {
         "alignmentgroup": "True",
         "hovertemplate": "Code=%{x}<br>Count=%{y}<extra></extra>",
         "legendgroup": "",
         "marker": {
          "color": "#636efa",
          "pattern": {
           "shape": ""
          }
         },
         "name": "",
         "offsetgroup": "",
         "orientation": "v",
         "showlegend": false,
         "textposition": "auto",
         "type": "bar",
         "x": [
          "safety",
          "efficiency",
          "speed",
          "accessibility",
          "autonomy"
         ],
         "xaxis": "x",
         "y": [
          12,
          11,
          3,
          3,
          2
         ],
         "yaxis": "y"
        }
       ],
       "layout": {
        "barmode": "relative",
        "legend": {
         "tracegroupgap": 0
        },
        "template": {
         "data": {
          "bar": [
           {
            "error_x": {
             "color": "#2a3f5f"
            },
            "error_y": {
             "color": "#2a3f5f"
            },
            "marker": {
             "line": {
              "color": "#E5ECF6",
              "width": 0.5
             },
             "pattern": {
              "fillmode": "overlay",
              "size": 10,
              "solidity": 0.2
             }
            },
            "type": "bar"
           }
          ],
          "barpolar": [
           {
            "marker": {
             "line": {
              "color": "#E5ECF6",
              "width": 0.5
             },
             "pattern": {
              "fillmode": "overlay",
              "size": 10,
              "solidity": 0.2
             }
            },
            "type": "barpolar"
           }
          ],
          "carpet": [
           {
            "aaxis": {
             "endlinecolor": "#2a3f5f",
             "gridcolor": "white",
             "linecolor": "white",
             "minorgridcolor": "white",
             "startlinecolor": "#2a3f5f"
            },
            "baxis": {
             "endlinecolor": "#2a3f5f",
             "gridcolor": "white",
             "linecolor": "white",
             "minorgridcolor": "white",
             "startlinecolor": "#2a3f5f"
            },
            "type": "carpet"
           }
          ],
          "choropleth": [
           {
            "colorbar": {
             "outlinewidth": 0,
             "ticks": ""
            },
            "type": "choropleth"
           }
          ],
          "contour": [
           {
            "colorbar": {
             "outlinewidth": 0,
             "ticks": ""
            },
            "colorscale": [
             [
              0,
              "#0d0887"
             ],
             [
              0.1111111111111111,
              "#46039f"
             ],
             [
              0.2222222222222222,
              "#7201a8"
             ],
             [
              0.3333333333333333,
              "#9c179e"
             ],
             [
              0.4444444444444444,
              "#bd3786"
             ],
             [
              0.5555555555555556,
              "#d8576b"
             ],
             [
              0.6666666666666666,
              "#ed7953"
             ],
             [
              0.7777777777777778,
              "#fb9f3a"
             ],
             [
              0.8888888888888888,
              "#fdca26"
             ],
             [
              1,
              "#f0f921"
             ]
            ],
            "type": "contour"
           }
          ],
          "contourcarpet": [
           {
            "colorbar": {
             "outlinewidth": 0,
             "ticks": ""
            },
            "type": "contourcarpet"
           }
          ],
          "heatmap": [
           {
            "colorbar": {
             "outlinewidth": 0,
             "ticks": ""
            },
            "colorscale": [
             [
              0,
              "#0d0887"
             ],
             [
              0.1111111111111111,
              "#46039f"
             ],
             [
              0.2222222222222222,
              "#7201a8"
             ],
             [
              0.3333333333333333,
              "#9c179e"
             ],
             [
              0.4444444444444444,
              "#bd3786"
             ],
             [
              0.5555555555555556,
              "#d8576b"
             ],
             [
              0.6666666666666666,
              "#ed7953"
             ],
             [
              0.7777777777777778,
              "#fb9f3a"
             ],
             [
              0.8888888888888888,
              "#fdca26"
             ],
             [
              1,
              "#f0f921"
             ]
            ],
            "type": "heatmap"
           }
          ],
          "heatmapgl": [
           {
            "colorbar": {
             "outlinewidth": 0,
             "ticks": ""
            },
            "colorscale": [
             [
              0,
              "#0d0887"
             ],
             [
              0.1111111111111111,
              "#46039f"
             ],
             [
              0.2222222222222222,
              "#7201a8"
             ],
             [
              0.3333333333333333,
              "#9c179e"
             ],
             [
              0.4444444444444444,
              "#bd3786"
             ],
             [
              0.5555555555555556,
              "#d8576b"
             ],
             [
              0.6666666666666666,
              "#ed7953"
             ],
             [
              0.7777777777777778,
              "#fb9f3a"
             ],
             [
              0.8888888888888888,
              "#fdca26"
             ],
             [
              1,
              "#f0f921"
             ]
            ],
            "type": "heatmapgl"
           }
          ],
          "histogram": [
           {
            "marker": {
             "pattern": {
              "fillmode": "overlay",
              "size": 10,
              "solidity": 0.2
             }
            },
            "type": "histogram"
           }
          ],
          "histogram2d": [
           {
            "colorbar": {
             "outlinewidth": 0,
             "ticks": ""
            },
            "colorscale": [
             [
              0,
              "#0d0887"
             ],
             [
              0.1111111111111111,
              "#46039f"
             ],
             [
              0.2222222222222222,
              "#7201a8"
             ],
             [
              0.3333333333333333,
              "#9c179e"
             ],
             [
              0.4444444444444444,
              "#bd3786"
             ],
             [
              0.5555555555555556,
              "#d8576b"
             ],
             [
              0.6666666666666666,
              "#ed7953"
             ],
             [
              0.7777777777777778,
              "#fb9f3a"
             ],
             [
              0.8888888888888888,
              "#fdca26"
             ],
             [
              1,
              "#f0f921"
             ]
            ],
            "type": "histogram2d"
           }
          ],
          "histogram2dcontour": [
           {
            "colorbar": {
             "outlinewidth": 0,
             "ticks": ""
            },
            "colorscale": [
             [
              0,
              "#0d0887"
             ],
             [
              0.1111111111111111,
              "#46039f"
             ],
             [
              0.2222222222222222,
              "#7201a8"
             ],
             [
              0.3333333333333333,
              "#9c179e"
             ],
             [
              0.4444444444444444,
              "#bd3786"
             ],
             [
              0.5555555555555556,
              "#d8576b"
             ],
             [
              0.6666666666666666,
              "#ed7953"
             ],
             [
              0.7777777777777778,
              "#fb9f3a"
             ],
             [
              0.8888888888888888,
              "#fdca26"
             ],
             [
              1,
              "#f0f921"
             ]
            ],
            "type": "histogram2dcontour"
           }
          ],
          "mesh3d": [
           {
            "colorbar": {
             "outlinewidth": 0,
             "ticks": ""
            },
            "type": "mesh3d"
           }
          ],
          "parcoords": [
           {
            "line": {
             "colorbar": {
              "outlinewidth": 0,
              "ticks": ""
             }
            },
            "type": "parcoords"
           }
          ],
          "pie": [
           {
            "automargin": true,
            "type": "pie"
           }
          ],
          "scatter": [
           {
            "fillpattern": {
             "fillmode": "overlay",
             "size": 10,
             "solidity": 0.2
            },
            "type": "scatter"
           }
          ],
          "scatter3d": [
           {
            "line": {
             "colorbar": {
              "outlinewidth": 0,
              "ticks": ""
             }
            },
            "marker": {
             "colorbar": {
              "outlinewidth": 0,
              "ticks": ""
             }
            },
            "type": "scatter3d"
           }
          ],
          "scattercarpet": [
           {
            "marker": {
             "colorbar": {
              "outlinewidth": 0,
              "ticks": ""
             }
            },
            "type": "scattercarpet"
           }
          ],
          "scattergeo": [
           {
            "marker": {
             "colorbar": {
              "outlinewidth": 0,
              "ticks": ""
             }
            },
            "type": "scattergeo"
           }
          ],
          "scattergl": [
           {
            "marker": {
             "colorbar": {
              "outlinewidth": 0,
              "ticks": ""
             }
            },
            "type": "scattergl"
           }
          ],
          "scattermapbox": [
           {
            "marker": {
             "colorbar": {
              "outlinewidth": 0,
              "ticks": ""
             }
            },
            "type": "scattermapbox"
           }
          ],
          "scatterpolar": [
           {
            "marker": {
             "colorbar": {
              "outlinewidth": 0,
              "ticks": ""
             }
            },
            "type": "scatterpolar"
           }
          ],
          "scatterpolargl": [
           {
            "marker": {
             "colorbar": {
              "outlinewidth": 0,
              "ticks": ""
             }
            },
            "type": "scatterpolargl"
           }
          ],
          "scatterternary": [
           {
            "marker": {
             "colorbar": {
              "outlinewidth": 0,
              "ticks": ""
             }
            },
            "type": "scatterternary"
           }
          ],
          "surface": [
           {
            "colorbar": {
             "outlinewidth": 0,
             "ticks": ""
            },
            "colorscale": [
             [
              0,
              "#0d0887"
             ],
             [
              0.1111111111111111,
              "#46039f"
             ],
             [
              0.2222222222222222,
              "#7201a8"
             ],
             [
              0.3333333333333333,
              "#9c179e"
             ],
             [
              0.4444444444444444,
              "#bd3786"
             ],
             [
              0.5555555555555556,
              "#d8576b"
             ],
             [
              0.6666666666666666,
              "#ed7953"
             ],
             [
              0.7777777777777778,
              "#fb9f3a"
             ],
             [
              0.8888888888888888,
              "#fdca26"
             ],
             [
              1,
              "#f0f921"
             ]
            ],
            "type": "surface"
           }
          ],
          "table": [
           {
            "cells": {
             "fill": {
              "color": "#EBF0F8"
             },
             "line": {
              "color": "white"
             }
            },
            "header": {
             "fill": {
              "color": "#C8D4E3"
             },
             "line": {
              "color": "white"
             }
            },
            "type": "table"
           }
          ]
         },
         "layout": {
          "annotationdefaults": {
           "arrowcolor": "#2a3f5f",
           "arrowhead": 0,
           "arrowwidth": 1
          },
          "autotypenumbers": "strict",
          "coloraxis": {
           "colorbar": {
            "outlinewidth": 0,
            "ticks": ""
           }
          },
          "colorscale": {
           "diverging": [
            [
             0,
             "#8e0152"
            ],
            [
             0.1,
             "#c51b7d"
            ],
            [
             0.2,
             "#de77ae"
            ],
            [
             0.3,
             "#f1b6da"
            ],
            [
             0.4,
             "#fde0ef"
            ],
            [
             0.5,
             "#f7f7f7"
            ],
            [
             0.6,
             "#e6f5d0"
            ],
            [
             0.7,
             "#b8e186"
            ],
            [
             0.8,
             "#7fbc41"
            ],
            [
             0.9,
             "#4d9221"
            ],
            [
             1,
             "#276419"
            ]
           ],
           "sequential": [
            [
             0,
             "#0d0887"
            ],
            [
             0.1111111111111111,
             "#46039f"
            ],
            [
             0.2222222222222222,
             "#7201a8"
            ],
            [
             0.3333333333333333,
             "#9c179e"
            ],
            [
             0.4444444444444444,
             "#bd3786"
            ],
            [
             0.5555555555555556,
             "#d8576b"
            ],
            [
             0.6666666666666666,
             "#ed7953"
            ],
            [
             0.7777777777777778,
             "#fb9f3a"
            ],
            [
             0.8888888888888888,
             "#fdca26"
            ],
            [
             1,
             "#f0f921"
            ]
           ],
           "sequentialminus": [
            [
             0,
             "#0d0887"
            ],
            [
             0.1111111111111111,
             "#46039f"
            ],
            [
             0.2222222222222222,
             "#7201a8"
            ],
            [
             0.3333333333333333,
             "#9c179e"
            ],
            [
             0.4444444444444444,
             "#bd3786"
            ],
            [
             0.5555555555555556,
             "#d8576b"
            ],
            [
             0.6666666666666666,
             "#ed7953"
            ],
            [
             0.7777777777777778,
             "#fb9f3a"
            ],
            [
             0.8888888888888888,
             "#fdca26"
            ],
            [
             1,
             "#f0f921"
            ]
           ]
          },
          "colorway": [
           "#636efa",
           "#EF553B",
           "#00cc96",
           "#ab63fa",
           "#FFA15A",
           "#19d3f3",
           "#FF6692",
           "#B6E880",
           "#FF97FF",
           "#FECB52"
          ],
          "font": {
           "color": "#2a3f5f"
          },
          "geo": {
           "bgcolor": "white",
           "lakecolor": "white",
           "landcolor": "#E5ECF6",
           "showlakes": true,
           "showland": true,
           "subunitcolor": "white"
          },
          "hoverlabel": {
           "align": "left"
          },
          "hovermode": "closest",
          "mapbox": {
           "style": "light"
          },
          "paper_bgcolor": "white",
          "plot_bgcolor": "#E5ECF6",
          "polar": {
           "angularaxis": {
            "gridcolor": "white",
            "linecolor": "white",
            "ticks": ""
           },
           "bgcolor": "#E5ECF6",
           "radialaxis": {
            "gridcolor": "white",
            "linecolor": "white",
            "ticks": ""
           }
          },
          "scene": {
           "xaxis": {
            "backgroundcolor": "#E5ECF6",
            "gridcolor": "white",
            "gridwidth": 2,
            "linecolor": "white",
            "showbackground": true,
            "ticks": "",
            "zerolinecolor": "white"
           },
           "yaxis": {
            "backgroundcolor": "#E5ECF6",
            "gridcolor": "white",
            "gridwidth": 2,
            "linecolor": "white",
            "showbackground": true,
            "ticks": "",
            "zerolinecolor": "white"
           },
           "zaxis": {
            "backgroundcolor": "#E5ECF6",
            "gridcolor": "white",
            "gridwidth": 2,
            "linecolor": "white",
            "showbackground": true,
            "ticks": "",
            "zerolinecolor": "white"
           }
          },
          "shapedefaults": {
           "line": {
            "color": "#2a3f5f"
           }
          },
          "ternary": {
           "aaxis": {
            "gridcolor": "white",
            "linecolor": "white",
            "ticks": ""
           },
           "baxis": {
            "gridcolor": "white",
            "linecolor": "white",
            "ticks": ""
           },
           "bgcolor": "#E5ECF6",
           "caxis": {
            "gridcolor": "white",
            "linecolor": "white",
            "ticks": ""
           }
          },
          "title": {
           "x": 0.05
          },
          "xaxis": {
           "automargin": true,
           "gridcolor": "white",
           "linecolor": "white",
           "ticks": "",
           "title": {
            "standoff": 15
           },
           "zerolinecolor": "white",
           "zerolinewidth": 2
          },
          "yaxis": {
           "automargin": true,
           "gridcolor": "white",
           "linecolor": "white",
           "ticks": "",
           "title": {
            "standoff": 15
           },
           "zerolinecolor": "white",
           "zerolinewidth": 2
          }
         }
        },
        "title": {
         "text": "LLM-generated inductive codes"
        },
        "xaxis": {
         "anchor": "y",
         "domain": [
          0,
          1
         ],
         "tickangle": -45,
         "title": {
          "text": "Code"
         }
        },
        "yaxis": {
         "anchor": "x",
         "domain": [
          0,
          1
         ],
         "title": {
          "text": "Count"
         }
        }
       }
      }
     },
     "metadata": {},
     "output_type": "display_data"
    }
   ],
   "source": [
    "import plotly.express as px\n",
    "\n",
    "\n",
    "# @title\n",
    "def plot_generated_codes(code_highlights, title):\n",
    "    code_counts = [(code, len(highlights)) for code, highlights in code_highlights.items()]\n",
    "    df_codes = pd.DataFrame(code_counts, columns=['Code', 'Count'])\n",
    "    df_codes = df_codes.sort_values(by='Count', ascending=False).reset_index(drop=True)\n",
    "\n",
    "    # Create a vertical bar plot using Plotly with angled x-axis labels\n",
    "    fig = px.bar(df_codes, x='Code', y='Count', title=title)\n",
    "\n",
    "    # Update layout to angle x-axis labels at 45 degrees\n",
    "    fig.update_layout(xaxis_tickangle=-45)\n",
    "    fig.show()\n",
    "\n",
    "# Parse all codes and highlights in LLM output\n",
    "plot_generated_codes(code_highlights_ded, 'LLM-generated inductive codes')"
   ]
  },
  {
   "cell_type": "code",
   "execution_count": null,
   "metadata": {},
   "outputs": [],
   "source": [
    "ERROR"
   ]
  },
  {
   "cell_type": "code",
   "execution_count": null,
   "metadata": {},
   "outputs": [],
   "source": [
    "system_template = \"\"\"\n",
    "<Context> You are a researcher tasked with summarizing a list of words into generic/superordinate categories. Based on these categories, create a dictionary that assigns the respective subordinate terms (keys from the provided \"overallList\") to the generic terms. Laypersons were informed about the potential risks and benefits of rigid and soft {robots} through scenario texts. They then listed their perceived risks and benefits of rigid and soft robots in the \"overallList\" wordlist. The overarching topic of the list is {topicCategory}, whereby the topic involved {topicCategoryDetails}.</Context>\n",
    "\n",
    "<Data Structure> The list \"overallList\" is a dictionary where the keys are written arguments, and the corresponding values are one or more comments related to those arguments. The value [nan] indicates that no specific comment was provided for the respective entry. If there are multiple comments or missing entries ([nan]), it signifies that the respective argument was mentioned multiple times, emphasizing its importance. </Data Structure>\n",
    "\n",
    "<Task> Your task is to create two outputs:\n",
    "1. A list called \"listGeneric\" that contains the generic/superordinate categories. You may use no more than six different categories.\n",
    "2. A dictionary called \"dictionary\" that contains: Keys (the generic/superordinate categories) and values (the corresponding words - keys - from the \"overallList\" that have been summarized under each category).\n",
    "The dictionary must contain all corresponding words (keys) from the \"overallList\". If it is not possible to assign a specific word, please place it in a category called \"rest category\".</Task>\n",
    "\"\"\"\n",
    "\n",
    "\n",
    "user_template = \"\"\"\n",
    "List \"overallList\": \n",
    "{overallList}\n",
    "\"\"\""
   ]
  },
  {
   "cell_type": "markdown",
   "metadata": {},
   "source": [
    "Prompt to apply coding guidelines:"
   ]
  },
  {
   "cell_type": "code",
   "execution_count": null,
   "metadata": {},
   "outputs": [],
   "source": [
    "# aaa"
   ]
  },
  {
   "cell_type": "code",
   "execution_count": null,
   "metadata": {},
   "outputs": [],
   "source": [
    "ERROR\n",
    "\n",
    "\n",
    "\n",
    "###############################################"
   ]
  },
  {
   "cell_type": "markdown",
   "metadata": {},
   "source": [
    "# aaaaaaaaaaaaaaaaaaaa"
   ]
  },
  {
   "cell_type": "markdown",
   "metadata": {},
   "source": [
    "### for task to get superordinate categories within single categories"
   ]
  },
  {
   "cell_type": "code",
   "execution_count": null,
   "metadata": {},
   "outputs": [],
   "source": [
    "system_template = \"\"\"\n",
    "<Context>\n",
    "You are a researcher tasked with summarizing a list of words into generic/superordinate categories. Based on these categories, create a dictionary that assigns the respective subordinate terms (keys from the provided \"overallList\") to the generic terms. Laypersons were informed about the potential risks and benefits of rigid and soft {robots} through scenario texts. They then listed their perceived risks and benefits of rigid and soft robots in the \"overallList\" wordlist. The overarching topic of the list is {topicCategory}.\n",
    "</Context>\n",
    "\n",
    "<Data Structure>\n",
    "The list \"overallList\" is a dictionary where the keys are written arguments, and the corresponding values are one or more comments related to those arguments. The value [nan] indicates that no specific comment was provided for the respective entry. If there are multiple comments or missing entries ([nan]), it signifies that the respective argument was mentioned multiple times, emphasizing its importance.\n",
    "</Data Structure>\n",
    "\n",
    "<Task>\n",
    "Your task is to create two outputs:\n",
    "1. A list called \"listGeneric\" that contains the generic/superordinate categories. You may use no more than six different categories.\n",
    "2. A dictionary called \"dictionary\" that contains:\n",
    "   - Keys: The generic/superordinate categories.\n",
    "   - Values: The corresponding words (keys) from the \"overallList\" that have been summarized under each category.\n",
    "The dictionary must contain all corresponding words (keys) from the \"overallList\". If it is not possible to assign a specific word, please place it in a category called \"rest category\".\n",
    "</Task>\n",
    "\"\"\"\n",
    "\n",
    "# !!!\n",
    "system_template = \"\"\"\n",
    "<Context> You are a researcher tasked with summarizing a list of words into generic/superordinate categories. Based on these categories, create a dictionary that assigns the respective subordinate terms (keys from the provided \"overallList\") to the generic terms. Laypersons were informed about the potential risks and benefits of rigid and soft {robots} through scenario texts. They then listed their perceived risks and benefits of rigid and soft robots in the \"overallList\" wordlist. The overarching topic of the list is {topicCategory}, whereby the topic involved {topicCategoryDetails}.</Context>\n",
    "\n",
    "<Data Structure> The list \"overallList\" is a dictionary where the keys are written arguments, and the corresponding values are one or more comments related to those arguments. The value [nan] indicates that no specific comment was provided for the respective entry. If there are multiple comments or missing entries ([nan]), it signifies that the respective argument was mentioned multiple times, emphasizing its importance. </Data Structure>\n",
    "\n",
    "<Task> Your task is to create two outputs:\n",
    "1. A list called \"listGeneric\" that contains the generic/superordinate categories. You may use no more than six different categories.\n",
    "2. A dictionary called \"dictionary\" that contains: Keys (the generic/superordinate categories) and values (the corresponding words - keys - from the \"overallList\" that have been summarized under each category).\n",
    "The dictionary must contain all corresponding words (keys) from the \"overallList\". If it is not possible to assign a specific word, please place it in a category called \"rest category\".</Task>\n",
    "\"\"\"\n",
    "\n",
    "\n",
    "\n",
    "\n",
    "user_template = \"\"\"\n",
    "List \"overallList\": \n",
    "{overallList}\n",
    "\"\"\"\n",
    "\n",
    "# rescue robots and socially assistive robots\n",
    "prompt_template_SC = ChatPromptTemplate.from_messages(\n",
    "    [(\"system\", system_template), (\"user\", user_template)]\n",
    ")\n",
    "\n",
    "constant_new_comments_mapping = combine_dicts(constant_comments_mapping, new_comments_mapping)\n",
    "\n",
    "result = prompt_template_SC.invoke({\"robots\": \"rescue robots and socially assistive robots\", \"topicCategory\": abbreviations_dict[sheet_name], \"overallList\": constant_new_comments_mapping})\n",
    "print(result)\n",
    "\n",
    "print(\"result:\", result)\n",
    "print(\"result.to_messages():\", result.to_messages())"
   ]
  },
  {
   "cell_type": "markdown",
   "metadata": {},
   "source": [
    "## Provide schemas for structured outputs\n",
    "\n",
    "### for task to get main findings, differences and summary"
   ]
  },
  {
   "cell_type": "code",
   "execution_count": null,
   "metadata": {},
   "outputs": [],
   "source": [
    "json_schema = {\n",
    "    \"title\": \"Outputs\",\n",
    "    \"description\": \"Bullet lists detailing the similarities and differences between the rigid and soft lists and a summary paragraph.\",\n",
    "    \"type\": \"object\",\n",
    "    \"properties\": {\n",
    "        \"mainFindings\": {\n",
    "            \"type\": \"string\",\n",
    "            \"description\": \"Bullet lists highlighting the main findings of the provided rigid and soft lists\",\n",
    "        },\n",
    "        \"differences\": {\n",
    "            \"type\": \"string\",\n",
    "            \"description\": \"Bullet lists detailing the differences between the rigid and soft lists\",\n",
    "        },\n",
    "          \"summary\": {\n",
    "            \"type\": \"string\",\n",
    "            \"description\": \"Summary paragraph that provides a summary of the main findings and the found differences\",\n",
    "        },\n",
    "    },\n",
    "    \"required\": [\"similarities\", \"differences\", \"summary\"],\n",
    "}"
   ]
  },
  {
   "cell_type": "markdown",
   "metadata": {},
   "source": [
    "### for task to get superordinate categories within single categories"
   ]
  },
  {
   "cell_type": "code",
   "execution_count": null,
   "metadata": {},
   "outputs": [],
   "source": [
    "json_schema_notUsed = {\n",
    "    \"title\": \"Outputs\",\n",
    "    \"description\": \"List that contains the generic / superordinate categories and a dictionary, which assigns the respective subordinate terms to the generic terms.\",\n",
    "    \"type\": \"object\",\n",
    "    \"properties\": {\n",
    "        \"listGeneric\": {\n",
    "            \"type\": \"string\",\n",
    "            \"description\": \"List that contains the generic / superordinate categories\",\n",
    "        },\n",
    "        \"dictionary\": {\n",
    "            \"type\": \"string\",\n",
    "            \"description\": \"Dictionary that contains the keys, the generic / superordinate categories and the corresponding words that have been summarised under the respective category\",\n",
    "        },\n",
    "    },\n",
    "    \"required\": [\"listGeneric\", \"dictionary\"],\n",
    "}"
   ]
  },
  {
   "cell_type": "code",
   "execution_count": null,
   "metadata": {},
   "outputs": [],
   "source": [
    "json_schema_SC = {\n",
    "    \"title\": \"Outputs\",\n",
    "    \"description\": \"List that contains the generic/superordinate categories and a dictionary that assigns the respective subordinate terms to the generic terms.\",\n",
    "    \"type\": \"object\",\n",
    "    \"properties\": {\n",
    "        \"listGeneric\": {\n",
    "            \"type\": \"array\",\n",
    "            \"description\": \"List that contains the generic/superordinate categories.\",\n",
    "            \"items\": {\n",
    "                \"type\": \"string\"\n",
    "            }\n",
    "        },\n",
    "        \"dictionary\": {\n",
    "            \"type\": \"object\",\n",
    "            \"description\": \"Dictionary that contains the generic/superordinate categories as keys and the corresponding words from the 'overallList' as values.\",\n",
    "            \"additionalProperties\": {\n",
    "                \"type\": \"array\",\n",
    "                \"items\": {\n",
    "                    \"type\": \"string\"\n",
    "                }\n",
    "            }\n",
    "        }\n",
    "    },\n",
    "    \"required\": [\"listGeneric\", \"dictionary\"]\n",
    "}"
   ]
  },
  {
   "cell_type": "markdown",
   "metadata": {},
   "source": [
    "## Define basic API call\n",
    "\n",
    "### for task to get main findings, differences and summary"
   ]
  },
  {
   "cell_type": "code",
   "execution_count": null,
   "metadata": {},
   "outputs": [],
   "source": [
    "def basic_API_call(\n",
    "    prompt,\n",
    "    robots,\n",
    "    topicCategory,\n",
    "    openai_api_key,\n",
    "    dictonaryRigid,\n",
    "    dictonarySoft,\n",
    "    json_schema,\n",
    "    model_name=\"gpt-4o\",\n",
    "    max_tokens=1000,\n",
    "):\n",
    "\n",
    "    # prompt = PromptTemplate(template=template)\n",
    "    seed = 123\n",
    "\n",
    "    model = ChatOpenAI(model=model_name, openai_api_key=openai_api_key, max_tokens=max_tokens, model_kwargs={\"seed\": seed}, temperature=0.0)\n",
    "       \n",
    "    structured_llm = model.with_structured_output(json_schema, include_raw=True)\n",
    "    chain = prompt | structured_llm\n",
    "\n",
    "    with get_openai_callback() as cb:\n",
    "        response = chain.invoke(\n",
    "            {\"robots\": robots, \"topicCategory\": topicCategory, \"rigid\": dictonaryRigid, \"soft\": dictonarySoft}\n",
    "        )\n",
    "        print(cb)\n",
    "    \n",
    "    print(f\"Total Tokens: {cb.total_tokens}\")\n",
    "    print(f\"Prompt Tokens: {cb.prompt_tokens}\")\n",
    "    print(f\"Completion Tokens: {cb.completion_tokens}\")\n",
    "    print(f\"Total Cost (USD): ${cb.total_cost}\")\n",
    "        \n",
    "    return response"
   ]
  },
  {
   "cell_type": "markdown",
   "metadata": {},
   "source": [
    "### for task to get superordinate categories within single categories"
   ]
  },
  {
   "cell_type": "code",
   "execution_count": null,
   "metadata": {},
   "outputs": [],
   "source": [
    "def basic_API_call_SC(\n",
    "    prompt,\n",
    "    robots,\n",
    "    topicCategory,\n",
    "    openai_api_key,\n",
    "    dictonaryCombined,\n",
    "    json_schema,\n",
    "    model_name=\"gpt-4o\",\n",
    "    max_tokens=1000,\n",
    "):\n",
    "\n",
    "    # prompt = PromptTemplate(template=template)\n",
    "    seed = 123\n",
    "\n",
    "    model = ChatOpenAI(model=model_name, openai_api_key=openai_api_key, max_tokens=max_tokens, model_kwargs={\"seed\": seed}, temperature=0.0)\n",
    "       \n",
    "    structured_llm = model.with_structured_output(json_schema, include_raw=True)\n",
    "    chain = prompt | structured_llm\n",
    "\n",
    "    with get_openai_callback() as cb:\n",
    "        response = chain.invoke(\n",
    "            {\"robots\": robots, \"topicCategory\": topicCategory, \"overallList\": dictonaryCombined}\n",
    "        )\n",
    "        print(cb)\n",
    "    \n",
    "    print(f\"Total Tokens: {cb.total_tokens}\")\n",
    "    print(f\"Prompt Tokens: {cb.prompt_tokens}\")\n",
    "    print(f\"Completion Tokens: {cb.completion_tokens}\")\n",
    "    print(f\"Total Cost (USD): ${cb.total_cost}\")\n",
    "        \n",
    "    return response"
   ]
  },
  {
   "cell_type": "markdown",
   "metadata": {},
   "source": [
    "# Run ChatGPT\n",
    "\n",
    "## Example (overall)\n",
    "\n",
    "only for main findings, difference, summary\n",
    "\n",
    "> Remark: The argument structures between the two types of robots differ significantly. Therefore, the robots are qualitatively summarized separately to ensure a clear and accurate comparison."
   ]
  },
  {
   "cell_type": "code",
   "execution_count": null,
   "metadata": {},
   "outputs": [],
   "source": [
    "print(f\"sheet_name: {sheet_name}\")\n",
    "print(f\"abbreviations_dict[sheet_name]: {abbreviations_dict[sheet_name]}\")\n",
    "\n",
    "\n",
    "result = basic_API_call(prompt=prompt_template,\n",
    "    robots=\"rescue robots and socially assistive robots\",\n",
    "    topicCategory=abbreviations_dict[sheet_name],\n",
    "    openai_api_key=key.openai_api_key,\n",
    "    dictonaryRigid=constant_comments_mapping, # overall\n",
    "    dictonarySoft=new_comments_mapping,\n",
    "    json_schema=json_schema,\n",
    "    model_name=\"gpt-4o\",\n",
    "    max_tokens=1000,\n",
    ")"
   ]
  },
  {
   "cell_type": "code",
   "execution_count": null,
   "metadata": {},
   "outputs": [],
   "source": [
    "# Extract the 'parsed' section from the JSON data\n",
    "parsed_section = result.get('parsed', {})\n",
    "#print(parsed_section)\n",
    "# Extract the translations\n",
    "mainFindings = parsed_section.get('mainFindings')\n",
    "differences = parsed_section.get('differences')\n",
    "summary = parsed_section.get('summary')\n",
    "\n",
    "print(f\"result (raw): {result}\")\n",
    "print(f\"mainFindings: {mainFindings}\")\n",
    "print(f\"differences: {differences}\")\n",
    "print(f\"summary: {summary}\")"
   ]
  },
  {
   "cell_type": "markdown",
   "metadata": {},
   "source": [
    "## Separately for robots (rescue robot and socially assistive robot)"
   ]
  },
  {
   "cell_type": "markdown",
   "metadata": {},
   "source": [
    "### for rescue robots (main findings, difference, summary)"
   ]
  },
  {
   "cell_type": "code",
   "execution_count": null,
   "metadata": {},
   "outputs": [],
   "source": [
    "categories = []\n",
    "mainFindings = []\n",
    "differences = []\n",
    "summary = []\n",
    "rawResults = []\n",
    "\n",
    "\n",
    "for category in abbreviations_dict.keys():\n",
    "    print(f\"category: {category}\")\n",
    "    \n",
    "    # do not process the rest categories\n",
    "    if category not in ['RCPP', 'RCPN', 'RCA', 'RCN']:\n",
    "        df = all_sheets_RR[category]\n",
    "        constant_comments_mapping = create_multivalue_dict(df, 'constant', 'constant_comments')\n",
    "        # print(\"mapping constant x comments:\", constant_comments_mapping)\n",
    "        # print(len(constant_comments_mapping))\n",
    "        \n",
    "        new_comments_mapping = create_multivalue_dict(df, 'new', 'new_comments')\n",
    "        # print(\"mapping new x comments:\", new_comments_mapping)\n",
    "        # print(len(new_comments_mapping))\n",
    "    \n",
    "        result = basic_API_call(prompt=prompt_template,\n",
    "            robots=\"rescue robots\",\n",
    "            topicCategory=abbreviations_dict[category],\n",
    "            openai_api_key=key.openai_api_key,\n",
    "            dictonaryRigid=constant_comments_mapping,\n",
    "            dictonarySoft=new_comments_mapping,\n",
    "            json_schema=json_schema,\n",
    "            model_name=\"gpt-4o\",\n",
    "            max_tokens=1600, # increase limit\n",
    "        )\n",
    "        \n",
    "        # append raw results\n",
    "        categories.append(category)\n",
    "        rawResults.append(result)\n",
    "        \n",
    "        # append parsed results\n",
    "        parsed_section = result.get('parsed', {})\n",
    "        mainFindings.append(parsed_section.get('mainFindings'))\n",
    "        differences.append(parsed_section.get('differences'))\n",
    "        summary.append(parsed_section.get('summary'))\n",
    "        #print(\"length of mainFindings:\", len(parsed_section.get('mainFindings')))\n",
    "        #print(\"length of differences:\", len(parsed_section.get('differences')))\n",
    "        #print(\"length of summary:\", len(parsed_section.get('summary')))\n",
    "        \n",
    "# save file\n",
    "df_RR = pd.DataFrame({\n",
    "    'Category': categories,\n",
    "    'mainFindings': mainFindings,\n",
    "    'differences': differences,\n",
    "    'summary': summary,\n",
    "    'rawResults' : rawResults\n",
    "})\n",
    "\n",
    "# Path to your Excel file\n",
    "file_path = directory + \"/output/\" + \"rescue robot_ChatGPT\" + \".xlsx\"\n",
    "# save the dataframe to an Excel file\n",
    "df_RR.to_excel(file_path, index=False)"
   ]
  },
  {
   "cell_type": "markdown",
   "metadata": {},
   "source": [
    "### for rescue robots (get superordinate categories within single categories: listGeneric, dictionary)"
   ]
  },
  {
   "cell_type": "code",
   "execution_count": null,
   "metadata": {},
   "outputs": [],
   "source": [
    "categories = []\n",
    "mainFindings = []\n",
    "differences = []\n",
    "summary = []\n",
    "rawResults = []\n",
    "\n",
    "\n",
    "for category in abbreviations_dict.keys():\n",
    "    print(f\"category: {category}\")\n",
    "    \n",
    "    # do not process the rest categories\n",
    "    # not in ['RCPP', 'RCPN', 'RCA', 'RCN']:\n",
    "    if category in ['MT']:\n",
    "        df = all_sheets_RR[category]\n",
    "        constant_comments_mapping = create_multivalue_dict(df, 'constant', 'constant_comments')\n",
    "        # print(\"mapping constant x comments:\", constant_comments_mapping)\n",
    "        # print(len(constant_comments_mapping))\n",
    "        \n",
    "        new_comments_mapping = create_multivalue_dict(df, 'new', 'new_comments')\n",
    "        # print(\"mapping new x comments:\", new_comments_mapping)\n",
    "        # print(len(new_comments_mapping))\n",
    "        constant_new_comments_mapping = combine_dicts(constant_comments_mapping, new_comments_mapping)\n",
    "\n",
    "\n",
    "        result = basic_API_call_SC(prompt=prompt_template_SC,\n",
    "            robots=\"rescue robots\",\n",
    "            topicCategory=abbreviations_dict[category],\n",
    "            openai_api_key=key.openai_api_key,\n",
    "            dictonaryCombined=constant_new_comments_mapping,\n",
    "            json_schema=json_schema_SC,\n",
    "            model_name=\"gpt-4o\",\n",
    "            max_tokens=2000, # increase limit\n",
    "        )\n",
    "        \n",
    "        # append raw results\n",
    "        categories.append(category)\n",
    "        rawResults.append(result)\n",
    "        \n",
    "        # append parsed results\n",
    "        #parsed_section = result.get('parsed', {})\n",
    "        #mainFindings.append(parsed_section.get('mainFindings'))\n",
    "        #differences.append(parsed_section.get('differences'))\n",
    "        #summary.append(parsed_section.get('summary'))\n",
    "        #print(\"length of mainFindings:\", len(parsed_section.get('mainFindings')))\n",
    "        #print(\"length of differences:\", len(parsed_section.get('differences')))\n",
    "        #print(\"length of summary:\", len(parsed_section.get('summary')))\n",
    "        \n"
   ]
  },
  {
   "cell_type": "code",
   "execution_count": null,
   "metadata": {},
   "outputs": [],
   "source": [
    "parsed_section = result.get('parsed', {})\n",
    "print(parsed_section)"
   ]
  },
  {
   "cell_type": "code",
   "execution_count": null,
   "metadata": {},
   "outputs": [],
   "source": [
    "# save file\n",
    "df_RR = pd.DataFrame({\n",
    "    'Category': categories,\n",
    "    'mainFindings': mainFindings,\n",
    "    'differences': differences,\n",
    "    'summary': summary,\n",
    "    'rawResults' : rawResults\n",
    "})\n",
    "\n",
    "# Path to your Excel file\n",
    "file_path = directory + \"/output/\" + \"rescue robot_ChatGPT\" + \".xlsx\"\n",
    "# save the dataframe to an Excel file\n",
    "df_RR.to_excel(file_path, index=False)"
   ]
  },
  {
   "cell_type": "markdown",
   "metadata": {},
   "source": [
    "### for socially assistive robots (main findings, difference, summary)"
   ]
  },
  {
   "cell_type": "code",
   "execution_count": null,
   "metadata": {},
   "outputs": [],
   "source": [
    "categories = []\n",
    "mainFindings = []\n",
    "differences = []\n",
    "summary = []\n",
    "rawResults = []\n",
    "\n",
    "\n",
    "for category in abbreviations_dict.keys():\n",
    "    print(f\"category: {category}\")\n",
    "    \n",
    "    # do not process the rest categories\n",
    "    if category not in ['RCPP', 'RCPN', 'RCA', 'RCN']:\n",
    "        df = all_sheets_SAR[category]\n",
    "        constant_comments_mapping = create_multivalue_dict(df, 'constant', 'constant_comments')\n",
    "        # print(\"mapping constant x comments:\", constant_comments_mapping)\n",
    "        # print(len(constant_comments_mapping))\n",
    "        \n",
    "        new_comments_mapping = create_multivalue_dict(df, 'new', 'new_comments')\n",
    "        # print(\"mapping new x comments:\", new_comments_mapping)\n",
    "        # print(len(new_comments_mapping))\n",
    "    \n",
    "        result = basic_API_call(prompt=prompt_template,\n",
    "            robots=\"socially assistive robots\",\n",
    "            topicCategory=abbreviations_dict[category],\n",
    "            openai_api_key=key.openai_api_key,\n",
    "            dictonaryRigid=constant_comments_mapping,\n",
    "            dictonarySoft=new_comments_mapping,\n",
    "            json_schema=json_schema,\n",
    "            model_name=\"gpt-4o\",\n",
    "            max_tokens=1000,\n",
    "        )\n",
    "        \n",
    "        # append raw results\n",
    "        categories.append(category)\n",
    "        rawResults.append(result)\n",
    "        \n",
    "        # append parsed results\n",
    "        parsed_section = result.get('parsed', {})\n",
    "        mainFindings.append(parsed_section.get('mainFindings'))\n",
    "        differences.append(parsed_section.get('differences'))\n",
    "        summary.append(parsed_section.get('summary'))\n",
    "        \n",
    "# save file\n",
    "df_SAR = pd.DataFrame({\n",
    "    'Category': categories,\n",
    "    'mainFindings': mainFindings,\n",
    "    'differences': differences,\n",
    "    'summary': summary,\n",
    "    'rawResults' : rawResults\n",
    "})\n",
    "\n",
    "# Path to your Excel file\n",
    "file_path = directory + \"/output/\" + \"socially assistive robot_ChatGPT\" + \".xlsx\"\n",
    "# save the dataframe to an Excel file\n",
    "df_SAR.to_excel(file_path, index=False)"
   ]
  }
 ],
 "metadata": {
  "kernelspec": {
   "display_name": "Python 3",
   "language": "python",
   "name": "python3"
  },
  "language_info": {
   "codemirror_mode": {
    "name": "ipython",
    "version": 3
   },
   "file_extension": ".py",
   "mimetype": "text/x-python",
   "name": "python",
   "nbconvert_exporter": "python",
   "pygments_lexer": "ipython3",
   "version": "3.11.9"
  }
 },
 "nbformat": 4,
 "nbformat_minor": 2
}
