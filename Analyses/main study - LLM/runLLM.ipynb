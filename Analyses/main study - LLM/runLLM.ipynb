{
 "cells": [
  {
   "cell_type": "markdown",
   "metadata": {},
   "source": [
    "# Summarizing Data for Results Graphics in \"R2: Perceived risks and benefits qualitative\"\n",
    "\n",
    "There are two central steps involved:\n",
    "\n",
    "\n",
    "**Check Szenario Texts:**\n",
    "- to check if topic was already mentioned for the category specific graph\n",
    "\n",
    "**Summarizing Data:**\n",
    "- for A, B graph\n",
    "- for category specific graph\n",
    "\n",
    "\n",
    "\n",
    "***\n",
    "**Coding sources**\n",
    "\n",
    "Code snippets from my (Julius Fenn) Large Language Model Workshop: https://github.com/FennStatistics/introductory-workshop-in-LLMs/\n",
    "\n",
    "\n",
    "I extend the code provided and explained in the following documenations:\n",
    "* Build a PDF ingestion and Question/Answering system: https://python.langchain.com/v0.2/docs/tutorials/pdf_qa/\n",
    "\n",
    "* https://python.langchain.com/v0.2/docs/tutorials/llm_chain/ (Build a Simple LLM Application with LCEL)\n",
    "* https://python.langchain.com/v0.2/docs/how_to/structured_output/ (How to return structured data from a model)\n",
    "* https://python.langchain.com/v0.2/docs/how_to/llm_token_usage_tracking/ (How to track token usage for LLMs)\n",
    "\n",
    "\n",
    "***\n",
    "## If you facing issues running your Code:\n",
    "\n",
    "It could be the case that chroma and langchain-core are not compatible."
   ]
  },
  {
   "cell_type": "markdown",
   "metadata": {},
   "source": []
  },
  {
   "cell_type": "code",
   "execution_count": 1,
   "metadata": {},
   "outputs": [],
   "source": [
    "## run in your terminal; could be necessary to downgrade package:\n",
    "# pip uninstall langchain-core\n",
    "# pip install langchain-core==0.3.10\n",
    "\n",
    "## or install older version of chromadb:\n",
    "# pip install --upgrade chromadb==0.5.0"
   ]
  },
  {
   "cell_type": "markdown",
   "metadata": {},
   "source": [
    "## Get API, local supabase server key(s)"
   ]
  },
  {
   "cell_type": "code",
   "execution_count": 2,
   "metadata": {},
   "outputs": [],
   "source": [
    "import os\n",
    "import sys\n",
    "\n",
    "# Assuming 'src' is one level down (in the current directory or a subdirectory)\n",
    "path_to_src = os.path.join('src')  # Moves one level down to 'src' folder\n",
    "\n",
    "# Add the path to sys.path\n",
    "sys.path.append(path_to_src)\n",
    "\n",
    "# Now you can import your API_key module\n",
    "import API_key as key"
   ]
  },
  {
   "cell_type": "markdown",
   "metadata": {},
   "source": [
    "## include self-written functions"
   ]
  },
  {
   "cell_type": "code",
   "execution_count": 3,
   "metadata": {},
   "outputs": [],
   "source": [
    "import src.forChromaApproach as di_drg"
   ]
  },
  {
   "cell_type": "markdown",
   "metadata": {},
   "source": [
    "# Check Szenario Texts\n",
    "\n",
    "## Load Scenario Texts\n",
    "This should be the final scenario texts in English of the two robots:\n",
    "\n",
    "* rescue robot\n",
    "* socially assistive robot"
   ]
  },
  {
   "cell_type": "code",
   "execution_count": 4,
   "metadata": {},
   "outputs": [
    {
     "name": "stdout",
     "output_type": "stream",
     "text": [
      "\n",
      "PDF: rescue robot.pdf\n",
      "Total Pages: 6\n",
      "\n",
      "PDF: socially assistive robot.pdf\n",
      "Total Pages: 6\n"
     ]
    }
   ],
   "source": [
    "path_to_PDFs = os.path.join('data/scenario texts')  # Moves one level up to 'PDFs' folder\n",
    "\n",
    "pdf_pages = di_drg.load_pdfs_by_filename(path_to_PDFs, verbose=False)\n",
    "\n",
    "# Optional: Print the loaded pages by filename\n",
    "for filename, pages in pdf_pages.items():\n",
    "    print(f\"\\nPDF: {filename}\")\n",
    "    print(f\"Total Pages: {len(pages)}\")\n",
    "    # print(pages[0])"
   ]
  },
  {
   "cell_type": "markdown",
   "metadata": {},
   "source": [
    "## Data Storage: Text chunks are converted into vector embeddings and stored in a vector database (Vector DB) next to their respective text chunks."
   ]
  },
  {
   "cell_type": "code",
   "execution_count": 5,
   "metadata": {},
   "outputs": [
    {
     "name": "stdout",
     "output_type": "stream",
     "text": [
      "\n",
      "PDF: rescue robot.pdf\n",
      "Total Chunks: 15\n",
      "\n",
      "PDF: socially assistive robot.pdf\n",
      "Total Chunks: 16\n"
     ]
    }
   ],
   "source": [
    "pdf_chunks = di_drg.split_pdf_pages_into_chunks(pdf_pages, chunk_size=500, chunk_overlap=150, verbose=False)\n",
    "\n",
    "# Optional: Print a summary of chunks created per PDF\n",
    "for filename, chunks in pdf_chunks.items():\n",
    "    print(f\"\\nPDF: {filename}\")\n",
    "    print(f\"Total Chunks: {len(chunks)}\")"
   ]
  },
  {
   "cell_type": "code",
   "execution_count": 6,
   "metadata": {},
   "outputs": [
    {
     "name": "stderr",
     "output_type": "stream",
     "text": [
      "c:\\DATEN\\PHD\\Article_SoftRobotIntervention\\Analyses\\main study - LLM\\src\\forChromaApproach.py:90: LangChainDeprecationWarning: The class `Chroma` was deprecated in LangChain 0.2.9 and will be removed in 1.0. An updated version of the class exists in the :class:`~langchain-chroma package and should be used instead. To use it run `pip install -U :class:`~langchain-chroma` and import as `from :class:`~langchain_chroma import Chroma``.\n",
      "  db = Chroma(persist_directory=CHROMA_PATH, embedding_function=OpenAIEmbeddings(api_key=openAI_key))\n"
     ]
    },
    {
     "name": "stdout",
     "output_type": "stream",
     "text": [
      "Number of sources in DB: 2\n",
      "\n",
      "Sources:\n",
      " ['data/scenario texts\\\\rescue robot.pdf', 'data/scenario texts\\\\socially assistive robot.pdf']\n",
      "\n",
      "Cleaned sources:\n",
      " ['rescue robot.pdf', 'socially assistive robot.pdf']\n"
     ]
    }
   ],
   "source": [
    "path_to_Chroma = os.path.join('DB_Chroma')  # Moves one level up to 'PDFs' folder\n",
    "\n",
    "sources_DB = di_drg.inspect_chrom(CHROMA_PATH=path_to_Chroma, openAI_key=key.openAI_key)\n",
    "print(\"Number of sources in DB:\", len(sources_DB))\n",
    "print(\"\\nSources:\\n\", sources_DB)\n",
    "\n",
    "# Remove the \"PDFs\\\\\" prefix from all entries\n",
    "cleaned_sources_DB = [pdf.replace('PDFs\\\\', '').replace('data/scenario texts\\\\', '') for pdf in sources_DB]\n",
    "\n",
    "# Print the result\n",
    "print(\"\\nCleaned sources:\\n\", cleaned_sources_DB)"
   ]
  },
  {
   "cell_type": "code",
   "execution_count": 7,
   "metadata": {},
   "outputs": [],
   "source": [
    "# if you want to remove your DB:\n",
    "## di_drg.remove_chrom(CHROMA_PATH=path_to_Chroma)\n",
    "\n",
    "# pdf_chunks is a dictionary as such we can run over the keys:\n",
    "for pdf in pdf_chunks.keys():\n",
    "    if pdf not in cleaned_sources_DB:\n",
    "        print(f\"The PDF '{pdf}' is not included in the DB, as such:\")\n",
    "        print(\"create DB for\", pdf)\n",
    "        di_drg.save_to_chrom(chunks=pdf_chunks[pdf], CHROMA_PATH=path_to_Chroma, openAI_key=key.openAI_key)"
   ]
  },
  {
   "cell_type": "code",
   "execution_count": 8,
   "metadata": {},
   "outputs": [
    {
     "name": "stdout",
     "output_type": "stream",
     "text": [
      "Number of sources in DB: 2\n",
      "\n",
      "Sources:\n",
      " ['data/scenario texts\\\\rescue robot.pdf', 'data/scenario texts\\\\socially assistive robot.pdf']\n"
     ]
    }
   ],
   "source": [
    "sources_DB = di_drg.inspect_chrom(CHROMA_PATH=path_to_Chroma, openAI_key=key.openAI_key)\n",
    "print(\"Number of sources in DB:\", len(sources_DB))\n",
    "print(\"\\nSources:\\n\", sources_DB)"
   ]
  },
  {
   "cell_type": "markdown",
   "metadata": {},
   "source": [
    "## Data Retrieval and Generation\n",
    "\n",
    "your prompt template (system message):"
   ]
  },
  {
   "cell_type": "code",
   "execution_count": 9,
   "metadata": {},
   "outputs": [],
   "source": [
    "PROMPT_TEMPLATE = \"\"\"\n",
    "    \"You are an assistant for question-answering tasks. \"\n",
    "    \"Use the following pieces of retrieved context to answer \"\n",
    "    \"the question. If you don't know the answer, say that you \"\n",
    "    \"don't know. Use three sentences maximum and keep the \"\n",
    "    \"answer concise.\"\n",
    "    \"\\n\\n\"\n",
    "    \"{context}\"\n",
    "\n",
    "---\n",
    "\n",
    "Answer the question based on the above context: {question}\n",
    "\"\"\""
   ]
  },
  {
   "cell_type": "code",
   "execution_count": 10,
   "metadata": {},
   "outputs": [],
   "source": [
    "# Question query 2\n",
    "question = \"\"\"\n",
    "What are the advantages of soft robots?\n",
    "\"\"\""
   ]
  },
  {
   "cell_type": "code",
   "execution_count": 11,
   "metadata": {},
   "outputs": [
    {
     "name": "stderr",
     "output_type": "stream",
     "text": [
      "Number of requested results 150 is greater than number of elements in index 31, updating n_results = 31\n"
     ]
    },
    {
     "name": "stdout",
     "output_type": "stream",
     "text": [
      "Number of possible relevant text chunks found with a threshold similarity of 0.8: 11\n",
      "Query: Human: \n",
      "    \"You are an assistant for question-answering tasks. \"\n",
      "    \"Use the following pieces of retrieved context to answer \"\n",
      "    \"the question. If you don't know the answer, say that you \"\n",
      "    \"don't know. Use three sentences maximum and keep the \"\n",
      "    \"answer concise.\"\n",
      "    \"\n",
      "\n",
      "\"\n",
      "    \"––––––––––––  Second  Page in Experiment (Intervention) ––––––––––––   \n",
      "Soft Robots for Search and Rescue Missions  \n",
      "Benefits of soft robots for search and rescue missions might be:  \n",
      "●  Access to areas unreachable or too dangerous for human rescuers  \n",
      "●  Delivery  of essential supplies (water, food, medicine) until victims are safely  \n",
      "extracted  \n",
      "●  Reduced risk of injury to victims due to their flexibility and adaptability\n",
      "\n",
      "---\n",
      "\n",
      "often have natural shapes and can bend, twist, and stretch like living organisms, such \n",
      "as snakes or octopi. Designed with inspiration from living entities, these soft robots \n",
      "often look and feel more lifelike than rigid robots.  \n",
      "Furthermore, soft robots have the ability to express and perceive human emotions, \n",
      "communicate through expressions such as gaze and gestures, and offer a life -like \n",
      "experience due to their softness and flexibility. F or example, Paro, a robot for animal\n",
      "\n",
      "---\n",
      "\n",
      "precision and accuracy  \n",
      "●  Autonomous  rescue capabilities, allowing robots to carry and transport \n",
      "victims to safety   \n",
      "Possible risks of soft robots for search and rescue missions might be:  \n",
      "●  Algorithms guiding soft robots may be biased, leading to unfair or \n",
      "discriminatory outcomes, regarding  (i) where to concentrate rescue efforts, (ii) \n",
      "whom to search for first, (iii) who should be given priority treatment, (iv) who \n",
      "must be left to wait\n",
      "\n",
      "---\n",
      "\n",
      "extracted  \n",
      "●  Reduced risk of injury to victims due to their flexibility and adaptability  \n",
      "Possible risks of soft robots for search and rescue missions might be:  \n",
      "●  Algorithms  guiding soft robots may be biased, leading to unfair or \n",
      "discriminatory outcomes, regarding (i) where to concentrate rescue efforts, (ii) \n",
      "whom to search for first, (iii) who should be given priority treatment, (iv) who \n",
      "must be left to wait  \n",
      "●  The soft and  adaptable nature of soft robots could potentially create\n",
      "\n",
      "---\n",
      "\n",
      "––––––––––––  Third  Page in Experiment (Intervention) ––––––––––––   \n",
      "Given the information on soft robots, we invite you to adjust your CAM regarding the \n",
      "risks and benefits of utilizing socially assistive soft robots (SASR). We are interested \n",
      "in knowing if the softness or rigidity of a robot influences your evaluation of its \n",
      "suitability for socially assistive tasks, based on the information available on soft \n",
      "robots.\n",
      "\n",
      "---\n",
      "\n",
      "Soft robots are designed to mimic the properties of living entities such as animals. \n",
      "Unlike rigid robots, which are typically composed of hard materials like metal or hard \n",
      "plastic, soft robots do not have electronic devices in themselves and are made of \n",
      "flexible soft materials like silicone, making them more adaptable and lifelike. They \n",
      "often have natural shapes and can bend, twist, and stretch like living organisms, such\n",
      "\n",
      "---\n",
      "\n",
      "–––––––––––––  First Page in Experiment (Intervention) ––––––––––––   \n",
      "Please read the following information on soft robots carefully. \n",
      "Afterwards we will ask you to adjust your CAM.  \n",
      "Currently, there is a trend towards using a new type of so -called soft robots as \n",
      "socially assistive robots for therapy, elderly care, education or as social companions. \n",
      "Soft robots are designed to mimic the properties of living entities such as animals.\n",
      "\n",
      "---\n",
      "\n",
      "to mimic the properties of living entities such as animals. Unlike normal robots, which \n",
      "are typically composed of hard materials like metal or hard -plastic, soft robots do not \n",
      "have electronic devices in them and are made of flexible, soft materials like silicone. \n",
      "They often have natural shapes and can bend, twist, and stretch like living \n",
      "organis ms, such as snakes or octopi. Designed with inspiration from living entities,\n",
      "\n",
      "---\n",
      "\n",
      "must be left to wait  \n",
      "●  The soft and  adaptable nature of soft robots could potentially create \n",
      "challenges in ensuring the safety and reliability of the robot in hazardous \n",
      "environments  \n",
      "●  Rescue robots could be misused, particularly in conflict zones for activities \n",
      "such as bomb deployment\n",
      "\n",
      "---\n",
      "\n",
      "for individuals with autism, assisting them to recognize and understand \n",
      "emotions in others, which can enhance interpersonal communication skills  \n",
      "●  Less likely to cause injury during physic al interactions because of their \n",
      "softness  \n",
      " \n",
      "Possible risks of socially assistive soft robots (SASR) might be:  \n",
      "●  Users may become overly reliant on the robot for emotional support or \n",
      "companionship, potentially reducing their engagement with human social \n",
      "networks\"\n",
      "\n",
      "---\n",
      "\n",
      "Answer the question based on the above context: \n",
      "What are the advantages of soft robots?\n",
      "\n",
      " \n",
      "\n",
      "\n"
     ]
    },
    {
     "name": "stderr",
     "output_type": "stream",
     "text": [
      "c:\\DATEN\\PHD\\Article_SoftRobotIntervention\\Analyses\\main study - LLM\\src\\forChromaApproach.py:147: LangChainDeprecationWarning: The method `BaseChatModel.predict` was deprecated in langchain-core 0.1.7 and will be removed in 1.0. Use :meth:`~invoke` instead.\n",
      "  response_text = model.predict(prompt)\n"
     ]
    }
   ],
   "source": [
    "response, source_page_pairs, filtered_hits, all_hits = di_drg.retrieveGenerate(query_text=question, prompt_template=PROMPT_TEMPLATE, openAI_key=key.openAI_key, chroma_path=path_to_Chroma, \n",
    "                                                                            docsReturn=10, thresholdSimilarity=0.8)"
   ]
  },
  {
   "cell_type": "code",
   "execution_count": 12,
   "metadata": {},
   "outputs": [
    {
     "name": "stdout",
     "output_type": "stream",
     "text": [
      "The advantages of soft robots for search and rescue missions include access to areas unreachable or too dangerous for human rescuers, delivery of essential supplies to victims, and reduced risk of injury due to their flexibility and adaptability. Additionally, soft robots can mimic the properties of living organisms, express and perceive human emotions, and offer a lifelike experience through their softness and flexibility.\n"
     ]
    }
   ],
   "source": [
    "print(response)"
   ]
  },
  {
   "cell_type": "code",
   "execution_count": 13,
   "metadata": {},
   "outputs": [
    {
     "name": "stdout",
     "output_type": "stream",
     "text": [
      "[('data/scenario texts\\\\rescue robot.pdf', 4), ('data/scenario texts\\\\socially assistive robot.pdf', 3), ('data/scenario texts\\\\rescue robot.pdf', 1), ('data/scenario texts\\\\rescue robot.pdf', 4), ('data/scenario texts\\\\socially assistive robot.pdf', 5), ('data/scenario texts\\\\socially assistive robot.pdf', 3), ('data/scenario texts\\\\socially assistive robot.pdf', 3), ('data/scenario texts\\\\rescue robot.pdf', 3), ('data/scenario texts\\\\rescue robot.pdf', 4), ('data/scenario texts\\\\socially assistive robot.pdf', 4)]\n"
     ]
    }
   ],
   "source": [
    "print(source_page_pairs)"
   ]
  },
  {
   "cell_type": "code",
   "execution_count": 14,
   "metadata": {},
   "outputs": [
    {
     "name": "stdout",
     "output_type": "stream",
     "text": [
      "11\n",
      "(Document(metadata={'page': 4, 'source': 'data/scenario texts\\\\rescue robot.pdf'}, page_content='––––––––––––  Second  Page in Experiment (Intervention) ––––––––––––   \\nSoft Robots for Search and Rescue Missions  \\nBenefits of soft robots for search and rescue missions might be:  \\n●  Access to areas unreachable or too dangerous for human rescuers  \\n●  Delivery  of essential supplies (water, food, medicine) until victims are safely  \\nextracted  \\n●  Reduced risk of injury to victims due to their flexibility and adaptability'), 0.8404701183282403)\n"
     ]
    }
   ],
   "source": [
    "print(len(all_hits))\n",
    "print(all_hits[0])"
   ]
  },
  {
   "cell_type": "markdown",
   "metadata": {},
   "source": [
    "# Summarizing Data\n",
    "- for A, B graph\n",
    "- for category specific graph\n",
    "\n",
    "\n",
    "## Load .xlsx files (lists of words)\n",
    "\n",
    "* rescue robot_multipleSheets\n",
    "* socially assistive robot_multipleSheets\n",
    "* rescue robot_socially assistive robot_multipleSheets\n",
    "\n",
    "> there are seperate columns for new (added concepts), deleted (deleted concepts), constant (not changed concepts)\n"
   ]
  },
  {
   "cell_type": "code",
   "execution_count": 15,
   "metadata": {},
   "outputs": [
    {
     "name": "stdout",
     "output_type": "stream",
     "text": [
      "c:\\DATEN\\PHD\\Article_SoftRobotIntervention\\Analyses\\main study - LLM\n"
     ]
    }
   ],
   "source": [
    "## set working environment\n",
    "#> Get the current working directory\n",
    "print(os.getcwd())\n",
    "directory = os.getcwd()"
   ]
  },
  {
   "cell_type": "code",
   "execution_count": 16,
   "metadata": {},
   "outputs": [
    {
     "name": "stdout",
     "output_type": "stream",
     "text": [
      "Sheet names combined: ['RCPP', 'LC', 'T', 'SIP', 'HRIP', 'AN', 'SIN', 'R', 'HC', 'RCN', 'SA', 'TP', 'TL', 'RCPN', 'HRIN', 'MT', 'RCA', 'AP']\n",
      "Sheet names RR: ['RCPP', 'LC', 'T', 'SIP', 'HRIP', 'AN', 'SIN', 'R', 'HC', 'RCN', 'SA', 'TP', 'TL', 'RCPN', 'HRIN', 'MT', 'RCA', 'AP']\n",
      "Sheet names SAR: ['RCPP', 'LC', 'T', 'SIP', 'HRIP', 'AN', 'SIN', 'R', 'HC', 'RCN', 'SA', 'TP', 'TL', 'RCPN', 'HRIN', 'MT', 'RCA', 'AP']\n"
     ]
    }
   ],
   "source": [
    "import pandas as pd\n",
    "\n",
    "## Load the xlsx file of the rescue robot and the socially assistive robot combined\n",
    "# Path to your Excel file\n",
    "file_path = directory + \"/data/\" + \"rescue robot_social assistance robot_multipleSheets_new\" + \".xlsx\"\n",
    "# Load the Excel file\n",
    "excel_data = pd.ExcelFile(file_path)\n",
    "# Print the sheet names\n",
    "print(\"Sheet names combined:\", excel_data.sheet_names)\n",
    "# Load all sheets into a dictionary of dataframes\n",
    "all_sheets_Combined = {sheet_name: excel_data.parse(sheet_name) for sheet_name in excel_data.sheet_names}\n",
    "\n",
    "\n",
    "\n",
    "## Load the xlsx file of the rescue robot and the socially assistive robot combined\n",
    "# Path to your Excel file\n",
    "file_path = directory + \"/data/\" + \"rescue robot_multipleSheets_new\" + \".xlsx\"\n",
    "# Load the Excel file\n",
    "excel_data = pd.ExcelFile(file_path)\n",
    "# Print the sheet names\n",
    "print(\"Sheet names RR:\", excel_data.sheet_names)\n",
    "# Load all sheets into a dictionary of dataframes\n",
    "all_sheets_RR = {sheet_name: excel_data.parse(sheet_name) for sheet_name in excel_data.sheet_names}\n",
    "\n",
    "## Load the xlsx file of the rescue robot and the socially assistive robot combined\n",
    "# Path to your Excel file\n",
    "file_path = directory + \"/data/\" + \"social assistance robot_multipleSheets_new\" + \".xlsx\"\n",
    "# Load the Excel file\n",
    "excel_data = pd.ExcelFile(file_path)\n",
    "# Print the sheet names\n",
    "print(\"Sheet names SAR:\", excel_data.sheet_names)\n",
    "# Load all sheets into a dictionary of dataframes\n",
    "all_sheets_SAR = {sheet_name: excel_data.parse(sheet_name) for sheet_name in excel_data.sheet_names}"
   ]
  },
  {
   "cell_type": "markdown",
   "metadata": {},
   "source": [
    "## Additional dictonaries to provide LLM context"
   ]
  },
  {
   "cell_type": "code",
   "execution_count": 17,
   "metadata": {},
   "outputs": [
    {
     "name": "stdout",
     "output_type": "stream",
     "text": [
      "{'RCPP': 'perceived positive usefulness (rest category, refers to a classification of arguments that do not fit into any of the predefined categories)', 'LC': 'perceived low costs', 'T': 'perceived trust', 'SIP': 'perceived positive social impact', 'HRIP': 'perceived positive Human-Robot-Interaction', 'AN': 'perceived negative anthropomorphism', 'SIN': 'perceived positive social impact', 'R': 'perceived risks', 'HC': 'perceived high costs', 'RCN': 'neutral rest category (rest category refers to a classification of arguments that do not fit into any of the predefined categories)', 'SA': 'perceived safety', 'TP': 'perceived technological possibilities', 'TL': 'perceived technological limitations', 'RCPN': 'perceived negative usefulness (rest category, refers to a classification of arguments that do not fit into any of the predefined categories)', 'HRIN': 'perceived negative Human-Robot-Interaction', 'MT': 'perceived mistrust', 'RCA': 'ambivalent rest category (rest category refers to a classification of arguments that do not fit into any of the predefined categories)', 'AP': 'perceived positive anthropomorphism'}\n",
      "dict_keys(['RCPP', 'LC', 'T', 'SIP', 'HRIP', 'AN', 'SIN', 'R', 'HC', 'RCN', 'SA', 'TP', 'TL', 'RCPN', 'HRIN', 'MT', 'RCA', 'AP'])\n",
      "perceived negative anthropomorphism\n"
     ]
    }
   ],
   "source": [
    "abbreviations_dict = {\n",
    "    'RCPP': 'perceived positive usefulness (rest category, refers to a classification of arguments that do not fit into any of the predefined categories)',\n",
    "    'LC': 'perceived low costs',\n",
    "    'T': 'perceived trust',\n",
    "    'SIP': 'perceived positive social impact',\n",
    "    'HRIP': 'perceived positive Human-Robot-Interaction',\n",
    "    'AN': 'perceived negative anthropomorphism',\n",
    "    'SIN': 'perceived positive social impact',\n",
    "    'R': 'perceived risks',\n",
    "    'HC': 'perceived high costs',\n",
    "    'RCN': 'neutral rest category (rest category refers to a classification of arguments that do not fit into any of the predefined categories)',\n",
    "    'SA': 'perceived safety',\n",
    "    'TP': 'perceived technological possibilities',\n",
    "    'TL': 'perceived technological limitations',\n",
    "    'RCPN': 'perceived negative usefulness (rest category, refers to a classification of arguments that do not fit into any of the predefined categories)',\n",
    "    'HRIN': 'perceived negative Human-Robot-Interaction',\n",
    "    'MT': 'perceived mistrust',\n",
    "    'RCA': 'ambivalent rest category (rest category refers to a classification of arguments that do not fit into any of the predefined categories)',\n",
    "    'AP': 'perceived positive anthropomorphism'\n",
    "}\n",
    "\n",
    "print(abbreviations_dict)\n",
    "print(abbreviations_dict.keys())\n",
    "print(abbreviations_dict['AN'])"
   ]
  },
  {
   "cell_type": "markdown",
   "metadata": {},
   "source": [
    "keep only subset of list (which have meaningfull differences):"
   ]
  },
  {
   "cell_type": "code",
   "execution_count": 18,
   "metadata": {},
   "outputs": [
    {
     "name": "stdout",
     "output_type": "stream",
     "text": [
      "{'TP': 'perceived technological possibilities', 'TL': 'perceived technological limitations', 'SA': 'perceived safety', 'R': 'perceived risks', 'HRIP': 'perceived positive Human-Robot-Interaction', 'HRIN': 'perceived negative Human-Robot-Interaction', 'AP': 'perceived positive anthropomorphism', 'AN': 'perceived negative anthropomorphism'}\n"
     ]
    }
   ],
   "source": [
    "# Keys to keep\n",
    "keys_to_keep = ['TP', 'TL', 'SA', 'R', 'HRIP', 'HRIN', 'AP', 'AN']\n",
    "\n",
    "# Filter the dictionary\n",
    "abbreviations_dict = {key: abbreviations_dict[key] for key in keys_to_keep}\n",
    "\n",
    "# Display the filtered dictionary\n",
    "print(abbreviations_dict)"
   ]
  },
  {
   "cell_type": "markdown",
   "metadata": {},
   "source": [
    "Use dictionaries to map each word to its comment:"
   ]
  },
  {
   "cell_type": "code",
   "execution_count": 19,
   "metadata": {},
   "outputs": [
    {
     "name": "stdout",
     "output_type": "stream",
     "text": [
      "{'a': ['comment1', 'comment3'], 'b': ['comment2', 'comment5'], 'c': ['comment4']}\n"
     ]
    }
   ],
   "source": [
    "import numpy as np\n",
    "\n",
    "def create_multivalue_dict(df, key_col, value_col):\n",
    "    \"\"\"\n",
    "    Create a dictionary from a DataFrame where each key maps to a list of values.\n",
    "    \n",
    "    Parameters:\n",
    "    df (pd.DataFrame): The input DataFrame.\n",
    "    key_col (str): The column name to be used as keys.\n",
    "    value_col (str): The column name to be used as values.\n",
    "    \n",
    "    Returns:\n",
    "    dict: A dictionary where each key maps to a list of values.\n",
    "    \"\"\"\n",
    "    # Remove rows with NaN in the key columns\n",
    "    df = df.dropna(subset=[key_col])\n",
    "\n",
    "    # Create a dictionary to map items to their comments, allowing for multiple comments per key\n",
    "    multivalue_dict = {}\n",
    "    for key, value in zip(df[key_col], df[value_col]):\n",
    "        if key in multivalue_dict:\n",
    "            multivalue_dict[key].append(value)\n",
    "        else:\n",
    "            multivalue_dict[key] = [value]\n",
    "\n",
    "    return multivalue_dict\n",
    "\n",
    "# Example usage\n",
    "data = {\n",
    "    'constant': ['a', 'b', 'a', 'c', 'b', np.nan],\n",
    "    'constant_comments': ['comment1', 'comment2', 'comment3', 'comment4', 'comment5', 'comment6']\n",
    "}\n",
    "df = pd.DataFrame(data)\n",
    "\n",
    "df_mapping = create_multivalue_dict(df, 'constant', 'constant_comments')\n",
    "print(df_mapping)\n"
   ]
  },
  {
   "cell_type": "markdown",
   "metadata": {},
   "source": [
    "test create_multivalue_dict() function:"
   ]
  },
  {
   "cell_type": "code",
   "execution_count": 20,
   "metadata": {},
   "outputs": [],
   "source": [
    "sheet_name = \"SA\""
   ]
  },
  {
   "cell_type": "code",
   "execution_count": 21,
   "metadata": {},
   "outputs": [
    {
     "name": "stdout",
     "output_type": "stream",
     "text": [
      "mapping constant x comments: {'quick hygienic help': [nan], 'efficient': ['Work on statistics can be made more efficient through probabilities.', nan, nan, nan], 'safety': ['Prevents people from having to work under difficult or dangerous conditions to increase safety.', 'Enables deployment in difficult situations where human rescuers would put themselves in danger', nan, nan, nan, 'through reliability', 'No people are being put in danger'], 'remote control': ['Can be operated by experts via remote control or autonomous systems to perform operations from a safe distance.', nan, nan, nan, nan, 'Minimizes risks associated with autonomy'], 'speed and efficiency': ['Robots can often act faster than humans and increase the speed of emergency interventions', 'Improvement of speed and efficiency of rescue operations', nan], 'safe': ['People do not have to put themselves in dangerous situations'], 'reliable': ['Can be precisely controlled', nan, nan, nan, nan], 'health monitoring': [nan, 'People no longer necessarily need an emergency button if an external system can watch over them and summon help when in doubt.'], 'Precise execution': ['Robots perform tasks purposefully'], 'Ability to learn': ['The robots are learning and being further developed, making them more efficient'], 'no people necessary': [nan], 'stronger than humans': [nan, 'In many situations, e.g. when clearing rubble, a great advantage.', nan, nan], 'faster than humans': [nan, nan], 'precise handling': [nan], 'reliability': [nan, 'Machines can accomplish their tasks reliably and reproducibly (provided they are well programmed and built)', nan, nan, nan], 'always correct': [nan], 'protection of rescue forces': ['for example in contamination scenarios', 'Reduced deployment of human rescue forces in dangerous situations', nan, 'human rescuers do not have to put themselves in danger'], 'in danger zones': [nan], 'toxic places': ['Places where people can only breathe with special equipment (gas mask)'], 'no distraction': [nan], 'by injuries': [nan], 'consistent': [nan], 'consistent performance': [nan], 'emergency monitoring': ['Depending on how a robot is equipped, it could respond very quickly in an emergency, faster than a human.'], 'more strong': [nan], 'without basic need': ['Water, sleep, food etc.'], 'faster intervention': [nan], 'area of application': ['Can be used in areas too dangerous for humans', 'Can be used in areas that are too dangerous for humans.'], 'reaching hard-to-access places': ['Robots and drones are small and agile. Therefore, they can reach places that are difficult or even dangerous for humans to reach.'], 'discover dangerous areas': [nan], 'quick processing': [nan], 'care of people': [nan], 'perform operations': ['disease'], 'enter dangerous situation': [nan], 'No illness': ['Robots do not get infected, they do not spread diseases, and they do not get sick.'], 'less risk': [nan, 'Specifically less risk to further human lives, as rescue teams can use robots'], 'efficiency in search': [nan], 'no fatigue': [nan, 'Unlike human rescuers, robots do not tire even during long operations'], 'cover dangerous areas': ['even where it is dangerous for humans, a robot can go there'], 'precision & accuracy': [nan], 'no human errors': [nan], 'more attentive': [nan], 'use in dangerous situations': ['Rescue robots can be used in dangerous situations where humans are exposed to too high a risk.'], 'can act quickly': ['Robots can intervene quickly, as they do not need to be dressed or prepared and are autonomous', 'The robots can act faster than a human in an emergency.'], 'No exhaustion': [nan], 'Range': ['Robots, again just the drone can rescue victims faster in difficult terrain or bring help, e.g. medicine, food'], 'accessibility of inaccessible places': [nan], 'improved approach': [nan], 'precise work': [nan], 'rescue of people': [nan], 'deployment possibility': ['Also possible under dangerous conditions'], 'replaceable': ['In case of loss, no human sacrifice', 'During operations, unlike human rescuers, there is no need to pay attention to the safety of the robots, as they can be easily replaced.'], 'unrestricted access': ['Robots can operate in environments that would be toxic to humans, e.g. areas contaminated with radiation.'], 'sparing human life': ['If robots are used instead of human rescuers, the lives and health of the rescuers do not have to be put at risk.'], 'reduced risk': ['By using robots, no human forces are exposed to dangerous situations'], 'precision': [nan], 'more targeted help': [nan], 'saves lives': ['For example, when human helpers are not available, a rescue robot can still save human lives.', 'send a robot into a danger zone instead of a human', nan], 'protects aid workers': ['Since employees are not unnecessarily exposed to dangers, strictly speaking, this also saves their lives.'], 'fewer mistakes': [nan], 'overall more productive': [nan], 'greater accuracy': [nan], 'usable in emergencies': ['To inspect debris more accurately'], 'protection of rescue personnel': [nan], 'accessibility of places': ['Accessibility difficult to reach'], 'increased efficiency': [nan], 'faster recovery': ['One could send robots into the fire without danger to human lives, etc, to combat the cause more quickly.'], 'weather independent': ['Even in storms etc., perhaps an option for critical tasks'], 'safety for emergency personnel': [nan], 'strength (power)': ['for example, for lifting debris parts'], 'quick action': [nan], 'no danger': ['For human rescue forces in action', 'No human doctor etc. needs to enter the operating area and thus it is significantly safer and therefore protects human lives.'], 'efficiency': [nan, 'Robots could be more capable in disaster cases than human helpers.', nan, 'Robots are not limited to human speed, vision, and perception in general.', nan, 'both equally fast work, more productive way of working as well as improved access to danger zones', nan], 'access to areas': ['Access to areas difficult or only reachable through considerable dangers for people'], 'vital objects': ['Victims receive vitally important things, such as water, food, and medicine'], 'rescue forces safety': ['Emergency services can avoid dangers if, for example, pictures of the location were taken by robots.'], 'more/ easier access': ['Robots can create (easier) access to places where it would otherwise be more difficult.'], 'reduce number of victims': ['Robots could make rescue operations more efficient and faster, potentially saving more victims.'], 'no life endangered': [nan], 'can save lives': [nan, nan], 'not emotionally driven': [nan], 'focused': [nan], 'exclusion of human error': [nan], 'flexible': ['The robot could operate in dangerous areas and is therefore not limited.'], 'stronger than human': ['Specially equipped machines could help trapped victims quicker and more efficiently.'], 'chances of success': ['A reliable and error-free rescue robot could therefore save people faster and more than a human.'], 'accuracy of execution': [nan], 'enter dangerous areas': [nan], 'do not get distracted': ['Rescue robots follow their programming and can focus better on the rescue without being influenced by emotions.'], 'speed / agility': [nan], 'real-time data': [nan], 'strength': [nan, 'the robot can, for example, move objects that a human could not move'], 'simplified access': [nan], 'quick help': [nan, nan, nan], 'risk-free rescue': ['From the side of the rescuers, who do not have to put themselves in danger'], 'better CPR': [nan], 'life-threatening places': ['The possibility of entering dangerous places that people do not dare to approach, such as wreck parts, battlefields, etc.'], 'more reliable than humans': [nan], 'reach dangerous places': [nan], 'do not get tired': [nan, nan], 'cannot die': [nan], '\"small\" operations': ['Especially good for smaller operations and possibly the transport'], 'toxic environment': [nan], 'safer for humans': [nan, nan], 'dexterity': ['Often higher skill than human rescuers'], 'responsiveness': ['Robots have a significantly higher reaction capability than human rescuers'], 'Accuracy of rescue robots': ['this way human errors can be reduced'], 'quality/precision': [nan], 'quantity': ['more rescue operations or more people saved possible'], 'fewer deaths': [nan], 'faster operation': [nan], 'accuracy': [nan, nan], 'faster help': ['Since the risk to life is lower, rescue workers can send a robot before a complete analysis of the problem area is available.'], 'stronger': ['Robots might potentially be able to move things that humans would have great difficulty with.'], 'Not susceptible to infection': ['Robots are insensitive to infections.'], '24/7 readiness': [nan], 'access to hard-to-reach places': [nan], 'human safety': [nan], 'useful addition': ['To human rescuers.'], '\"dare\" more': ['can also be used in war zones, only material loss through explosives'], 'eyes and ears': ['for the rescue forces from a safe distance'], 'less danger': ['for human rescue forces', nan, nan], 'dangerous areas': [nan, nan], 'endurance': [nan], 'performance': [nan], 'rescue and safety': [nan], 'danger': ['less human danger'], 'no rescuer endangered': [nan], 'access': ['access to areas where people cannot reach'], 'rational efficiency': ['No suicidal experiments in rescue'], 'quick deployment': [nan, nan], 'no exhaustion': [nan], 'save many people': [nan], 'Adaptability': [nan], 'continuous monitoring': [nan], 'not tired': [nan], 'more human rescue': [nan], 'easier finding': ['Through their sensors like thermal imaging, the robots can better find people.'], 'do not lose strength': ['Robots do not lose stamina while humans could lose strength during missions.'], 'delivery of goods': ['Robots can, for example, deliver goods in war zones, which would be dangerous for humans.'], 'faster abolition': ['Rescue robots could shorten the path to doctors/hospitals and the abolition of injured people.'], 'safety risks': [nan], 'can be replaced': ['Robots can be replaced by other robots in case of loss'], 'better search capabilities': ['Robots can search better in the dark and in smoke etc because they have numerous sensors'], 'for danger': ['can be used in times of danger instead of humans'], 'efficient reconnaissance work': ['Through algorithms, maps can be read and created more quickly'], 'rescue efficient and': [nan], 'higher utilization': ['the robots can be used continuously'], 'faster access': ['easier access to dangerous place'], 'error reduction': [nan], 'simplification of difficult situations': ['Many rescue situations prove difficult for people to reach or to intervene, automation can clearly help here.'], 'accessibility of special regions': [nan], 'risk reduction for aid workers': ['Should people go into difficult areas, for example for avalanche rescue, they put themselves in danger'], 'fire department support': [nan], 'risk': ['In dangerous environments or situations, there is of course much less risk for the people'], 'dispensable': ['the loss of a robot is less tragic than the loss of a human rescuer'], 'immune': ['a robot is immune to many dangers that would be deadly for humans such as smoke gases, chemicals, temperatures'], 'protects people': ['No human risks necessary'], 'surpasses human rescuers': ['Can be used in situations where people cannot reach'], 'low risk': [nan], 'safety for rescue workers': [nan], 'access to dangerous area': [nan], 'no performance drop': [nan], 'follows instructions precisely': [nan], 'earthquake rescue': [nan], 'lifting heavy weights': [nan], 'risk minimization': ['Approximately during search actions in risky areas'], 'precision in search': [nan], 'More flexible than human': ['People cannot access some areas or cannot see whether people are still alive. For example, in an earthquake incident under the rubble.'], 'Faster than human': ['In an earthquake, for example, recently in Turkey, the help arrived too late and this led to more loss. Robots would be more flexible and could be used faster, rather than gathering all people together and rushing to help.'], 'Stronger than human': ['As already mentioned, many people lost their lives in the earthquake in Turkey, and this was because human strength was not enough at a certain point. For example, the walls that fell on people could not be lifted, which is why arms and legs had to be cut off. If the robot was there, it could show more strength and lift the wall.'], 'speed': ['the robot can probably save faster than a human'], 'accessibility of contaminated places': ['Poisonous gases, smoke, radiation etc. play no role'], 'can be stronger': [nan], 'can work long': [nan], 'are physically superior': ['Strength, agility, mobility'], 'are mentally superior': ['No trauma for rescuers'], 'use in dangerous areas': [nan], 'use in inaccessibility': [nan], 'accuracy of work': [nan], 'does not risk human lives': [nan]}\n",
      "181\n",
      "mapping new x comments: {'lower risk of injury': [nan, 'through soft robots', nan, 'due to their softness', 'With soft robots', nan, 'Lower risk of injury due to the adaptability of the robot', nan], 'flexible': [nan, nan, nan], 'low risk of injury': [nan, nan, nan, 'Due to the fact that a soft robot is not made of metal, but rather soft, the risk is lower.', nan, 'In comparison to hard plastic/metal', nan, 'with soft robots', 'helping hand'], 'safety': ['Soft material reduces risk of injury'], 'robots are more efficient': [nan], 'knowledge': ['You get the information from the internet and can capture and assign the data faster than humans.', nan], 'less risk of injury': [nan, nan, nan], 'reduction of injury risk': [nan, nan, \"compared to 'soft' rescue robots; valid for hard rescue robots\", nan, nan], 'delivery of supplies': [nan], 'precise work': [nan], 'food/water transport': [nan], 'animal protection': ['Using a soft robot instead of an animal protects the animal from potentially harmful behavior by the owner.'], 'reach the inaccessible': [nan], 'reduce risk of injury': [nan], 'reliable': ['is always ready'], 'direct help': ['through water/food'], 'reduced risk of injury': ['through soft materials', 'the victim due to the organic construction method', nan, nan], 'time savings in emergencies': [nan], 'care of victims': [nan], 'exploration': ['Assess the safety of the dangerous area'], 'supply with food': [nan, nan], 'adaptability': [nan], 'few physical risks': ['e.g. through injuries'], 'accessible tight spaces': ['Due to their flexibility, they can access narrow spaces that are not accessible to people.'], 'decision-making options': ['in theory, a robot should be able to make a logical decision better than a human because emotions etc. cannot cloud a decision'], 'injury prevention': [nan], 'more people saved': [nan], 'low risks': ['Soft robots pose only a low risk to the victims due to their flexibility.'], 'life-threatening places': [nan], 'vital help': [nan], 'more flexible than humans': [nan], 'fast': ['faster than a human to distribute aid supplies.'], 'Adaptability': [nan], 'camera images': ['To perform an image analysis in retrospect'], 'human error susceptibility': [nan], 'medication supply': [nan], 'inaccessible areas': [nan]}\n",
      "37\n",
      "mapping deleted x comments: {'faster': ['Works faster'], 'precise work possible': [nan], 'higher precision': [nan], 'safety': [nan], 'efficiency': [nan], 'save more people': [nan]}\n",
      "6\n"
     ]
    }
   ],
   "source": [
    "# Remove rows with NaN in the key columns as they cannot be used as dictionary keys\n",
    "#> not sensitive to multiple identical keys: dict(zip(df['constant'], df['constant_comments']))\n",
    "df = all_sheets_Combined[sheet_name]\n",
    "\n",
    "constant_comments_mapping = create_multivalue_dict(df, 'constant', 'constant_comments')\n",
    "print(\"mapping constant x comments:\", constant_comments_mapping)\n",
    "print(len(constant_comments_mapping))\n",
    "\n",
    "new_comments_mapping = create_multivalue_dict(df, 'new', 'new_comments')\n",
    "print(\"mapping new x comments:\", new_comments_mapping)\n",
    "print(len(new_comments_mapping))\n",
    "\n",
    "deleted_comments_mapping = create_multivalue_dict(df, 'deleted', 'deleted_comments')\n",
    "print(\"mapping deleted x comments:\", deleted_comments_mapping)\n",
    "print(len(deleted_comments_mapping))"
   ]
  },
  {
   "cell_type": "code",
   "execution_count": 22,
   "metadata": {},
   "outputs": [],
   "source": [
    "def combine_dicts(dict1, dict2):\n",
    "    \"\"\"\n",
    "    Combine two dictionaries where each key maps to a list of values.\n",
    "    \n",
    "    Parameters:\n",
    "    dict1 (dict): The first dictionary.\n",
    "    dict2 (dict): The second dictionary.\n",
    "    \n",
    "    Returns:\n",
    "    dict: A combined dictionary where each key maps to a concatenated list of values.\n",
    "    \"\"\"\n",
    "    combined_dict = dict1.copy()\n",
    "    for key, values in dict2.items():\n",
    "        if key in combined_dict:\n",
    "            combined_dict[key].extend(values)\n",
    "        else:\n",
    "            combined_dict[key] = values\n",
    "    return combined_dict"
   ]
  },
  {
   "cell_type": "markdown",
   "metadata": {},
   "source": [
    "test combine_dicts() function:"
   ]
  },
  {
   "cell_type": "code",
   "execution_count": 23,
   "metadata": {},
   "outputs": [
    {
     "name": "stdout",
     "output_type": "stream",
     "text": [
      "mapping constant, new x comments: {'quick hygienic help': [nan], 'efficient': ['Work on statistics can be made more efficient through probabilities.', nan, nan, nan], 'safety': ['Prevents people from having to work under difficult or dangerous conditions to increase safety.', 'Enables deployment in difficult situations where human rescuers would put themselves in danger', nan, nan, nan, 'through reliability', 'No people are being put in danger', 'Soft material reduces risk of injury'], 'remote control': ['Can be operated by experts via remote control or autonomous systems to perform operations from a safe distance.', nan, nan, nan, nan, 'Minimizes risks associated with autonomy'], 'speed and efficiency': ['Robots can often act faster than humans and increase the speed of emergency interventions', 'Improvement of speed and efficiency of rescue operations', nan], 'safe': ['People do not have to put themselves in dangerous situations'], 'reliable': ['Can be precisely controlled', nan, nan, nan, nan, 'is always ready'], 'health monitoring': [nan, 'People no longer necessarily need an emergency button if an external system can watch over them and summon help when in doubt.'], 'Precise execution': ['Robots perform tasks purposefully'], 'Ability to learn': ['The robots are learning and being further developed, making them more efficient'], 'no people necessary': [nan], 'stronger than humans': [nan, 'In many situations, e.g. when clearing rubble, a great advantage.', nan, nan], 'faster than humans': [nan, nan], 'precise handling': [nan], 'reliability': [nan, 'Machines can accomplish their tasks reliably and reproducibly (provided they are well programmed and built)', nan, nan, nan], 'always correct': [nan], 'protection of rescue forces': ['for example in contamination scenarios', 'Reduced deployment of human rescue forces in dangerous situations', nan, 'human rescuers do not have to put themselves in danger'], 'in danger zones': [nan], 'toxic places': ['Places where people can only breathe with special equipment (gas mask)'], 'no distraction': [nan], 'by injuries': [nan], 'consistent': [nan], 'consistent performance': [nan], 'emergency monitoring': ['Depending on how a robot is equipped, it could respond very quickly in an emergency, faster than a human.'], 'more strong': [nan], 'without basic need': ['Water, sleep, food etc.'], 'faster intervention': [nan], 'area of application': ['Can be used in areas too dangerous for humans', 'Can be used in areas that are too dangerous for humans.'], 'reaching hard-to-access places': ['Robots and drones are small and agile. Therefore, they can reach places that are difficult or even dangerous for humans to reach.'], 'discover dangerous areas': [nan], 'quick processing': [nan], 'care of people': [nan], 'perform operations': ['disease'], 'enter dangerous situation': [nan], 'No illness': ['Robots do not get infected, they do not spread diseases, and they do not get sick.'], 'less risk': [nan, 'Specifically less risk to further human lives, as rescue teams can use robots'], 'efficiency in search': [nan], 'no fatigue': [nan, 'Unlike human rescuers, robots do not tire even during long operations'], 'cover dangerous areas': ['even where it is dangerous for humans, a robot can go there'], 'precision & accuracy': [nan], 'no human errors': [nan], 'more attentive': [nan], 'use in dangerous situations': ['Rescue robots can be used in dangerous situations where humans are exposed to too high a risk.'], 'can act quickly': ['Robots can intervene quickly, as they do not need to be dressed or prepared and are autonomous', 'The robots can act faster than a human in an emergency.'], 'No exhaustion': [nan], 'Range': ['Robots, again just the drone can rescue victims faster in difficult terrain or bring help, e.g. medicine, food'], 'accessibility of inaccessible places': [nan], 'improved approach': [nan], 'precise work': [nan, nan], 'rescue of people': [nan], 'deployment possibility': ['Also possible under dangerous conditions'], 'replaceable': ['In case of loss, no human sacrifice', 'During operations, unlike human rescuers, there is no need to pay attention to the safety of the robots, as they can be easily replaced.'], 'unrestricted access': ['Robots can operate in environments that would be toxic to humans, e.g. areas contaminated with radiation.'], 'sparing human life': ['If robots are used instead of human rescuers, the lives and health of the rescuers do not have to be put at risk.'], 'reduced risk': ['By using robots, no human forces are exposed to dangerous situations'], 'precision': [nan], 'more targeted help': [nan], 'saves lives': ['For example, when human helpers are not available, a rescue robot can still save human lives.', 'send a robot into a danger zone instead of a human', nan], 'protects aid workers': ['Since employees are not unnecessarily exposed to dangers, strictly speaking, this also saves their lives.'], 'fewer mistakes': [nan], 'overall more productive': [nan], 'greater accuracy': [nan], 'usable in emergencies': ['To inspect debris more accurately'], 'protection of rescue personnel': [nan], 'accessibility of places': ['Accessibility difficult to reach'], 'increased efficiency': [nan], 'faster recovery': ['One could send robots into the fire without danger to human lives, etc, to combat the cause more quickly.'], 'weather independent': ['Even in storms etc., perhaps an option for critical tasks'], 'safety for emergency personnel': [nan], 'strength (power)': ['for example, for lifting debris parts'], 'quick action': [nan], 'no danger': ['For human rescue forces in action', 'No human doctor etc. needs to enter the operating area and thus it is significantly safer and therefore protects human lives.'], 'efficiency': [nan, 'Robots could be more capable in disaster cases than human helpers.', nan, 'Robots are not limited to human speed, vision, and perception in general.', nan, 'both equally fast work, more productive way of working as well as improved access to danger zones', nan], 'access to areas': ['Access to areas difficult or only reachable through considerable dangers for people'], 'vital objects': ['Victims receive vitally important things, such as water, food, and medicine'], 'rescue forces safety': ['Emergency services can avoid dangers if, for example, pictures of the location were taken by robots.'], 'more/ easier access': ['Robots can create (easier) access to places where it would otherwise be more difficult.'], 'reduce number of victims': ['Robots could make rescue operations more efficient and faster, potentially saving more victims.'], 'no life endangered': [nan], 'can save lives': [nan, nan], 'not emotionally driven': [nan], 'focused': [nan], 'exclusion of human error': [nan], 'flexible': ['The robot could operate in dangerous areas and is therefore not limited.', nan, nan, nan], 'stronger than human': ['Specially equipped machines could help trapped victims quicker and more efficiently.'], 'chances of success': ['A reliable and error-free rescue robot could therefore save people faster and more than a human.'], 'accuracy of execution': [nan], 'enter dangerous areas': [nan], 'do not get distracted': ['Rescue robots follow their programming and can focus better on the rescue without being influenced by emotions.'], 'speed / agility': [nan], 'real-time data': [nan], 'strength': [nan, 'the robot can, for example, move objects that a human could not move'], 'simplified access': [nan], 'quick help': [nan, nan, nan], 'risk-free rescue': ['From the side of the rescuers, who do not have to put themselves in danger'], 'better CPR': [nan], 'life-threatening places': ['The possibility of entering dangerous places that people do not dare to approach, such as wreck parts, battlefields, etc.', nan], 'more reliable than humans': [nan], 'reach dangerous places': [nan], 'do not get tired': [nan, nan], 'cannot die': [nan], '\"small\" operations': ['Especially good for smaller operations and possibly the transport'], 'toxic environment': [nan], 'safer for humans': [nan, nan], 'dexterity': ['Often higher skill than human rescuers'], 'responsiveness': ['Robots have a significantly higher reaction capability than human rescuers'], 'Accuracy of rescue robots': ['this way human errors can be reduced'], 'quality/precision': [nan], 'quantity': ['more rescue operations or more people saved possible'], 'fewer deaths': [nan], 'faster operation': [nan], 'accuracy': [nan, nan], 'faster help': ['Since the risk to life is lower, rescue workers can send a robot before a complete analysis of the problem area is available.'], 'stronger': ['Robots might potentially be able to move things that humans would have great difficulty with.'], 'Not susceptible to infection': ['Robots are insensitive to infections.'], '24/7 readiness': [nan], 'access to hard-to-reach places': [nan], 'human safety': [nan], 'useful addition': ['To human rescuers.'], '\"dare\" more': ['can also be used in war zones, only material loss through explosives'], 'eyes and ears': ['for the rescue forces from a safe distance'], 'less danger': ['for human rescue forces', nan, nan], 'dangerous areas': [nan, nan], 'endurance': [nan], 'performance': [nan], 'rescue and safety': [nan], 'danger': ['less human danger'], 'no rescuer endangered': [nan], 'access': ['access to areas where people cannot reach'], 'rational efficiency': ['No suicidal experiments in rescue'], 'quick deployment': [nan, nan], 'no exhaustion': [nan], 'save many people': [nan], 'Adaptability': [nan, nan], 'continuous monitoring': [nan], 'not tired': [nan], 'more human rescue': [nan], 'easier finding': ['Through their sensors like thermal imaging, the robots can better find people.'], 'do not lose strength': ['Robots do not lose stamina while humans could lose strength during missions.'], 'delivery of goods': ['Robots can, for example, deliver goods in war zones, which would be dangerous for humans.'], 'faster abolition': ['Rescue robots could shorten the path to doctors/hospitals and the abolition of injured people.'], 'safety risks': [nan], 'can be replaced': ['Robots can be replaced by other robots in case of loss'], 'better search capabilities': ['Robots can search better in the dark and in smoke etc because they have numerous sensors'], 'for danger': ['can be used in times of danger instead of humans'], 'efficient reconnaissance work': ['Through algorithms, maps can be read and created more quickly'], 'rescue efficient and': [nan], 'higher utilization': ['the robots can be used continuously'], 'faster access': ['easier access to dangerous place'], 'error reduction': [nan], 'simplification of difficult situations': ['Many rescue situations prove difficult for people to reach or to intervene, automation can clearly help here.'], 'accessibility of special regions': [nan], 'risk reduction for aid workers': ['Should people go into difficult areas, for example for avalanche rescue, they put themselves in danger'], 'fire department support': [nan], 'risk': ['In dangerous environments or situations, there is of course much less risk for the people'], 'dispensable': ['the loss of a robot is less tragic than the loss of a human rescuer'], 'immune': ['a robot is immune to many dangers that would be deadly for humans such as smoke gases, chemicals, temperatures'], 'protects people': ['No human risks necessary'], 'surpasses human rescuers': ['Can be used in situations where people cannot reach'], 'low risk': [nan], 'safety for rescue workers': [nan], 'access to dangerous area': [nan], 'no performance drop': [nan], 'follows instructions precisely': [nan], 'earthquake rescue': [nan], 'lifting heavy weights': [nan], 'risk minimization': ['Approximately during search actions in risky areas'], 'precision in search': [nan], 'More flexible than human': ['People cannot access some areas or cannot see whether people are still alive. For example, in an earthquake incident under the rubble.'], 'Faster than human': ['In an earthquake, for example, recently in Turkey, the help arrived too late and this led to more loss. Robots would be more flexible and could be used faster, rather than gathering all people together and rushing to help.'], 'Stronger than human': ['As already mentioned, many people lost their lives in the earthquake in Turkey, and this was because human strength was not enough at a certain point. For example, the walls that fell on people could not be lifted, which is why arms and legs had to be cut off. If the robot was there, it could show more strength and lift the wall.'], 'speed': ['the robot can probably save faster than a human'], 'accessibility of contaminated places': ['Poisonous gases, smoke, radiation etc. play no role'], 'can be stronger': [nan], 'can work long': [nan], 'are physically superior': ['Strength, agility, mobility'], 'are mentally superior': ['No trauma for rescuers'], 'use in dangerous areas': [nan], 'use in inaccessibility': [nan], 'accuracy of work': [nan], 'does not risk human lives': [nan], 'lower risk of injury': [nan, 'through soft robots', nan, 'due to their softness', 'With soft robots', nan, 'Lower risk of injury due to the adaptability of the robot', nan], 'low risk of injury': [nan, nan, nan, 'Due to the fact that a soft robot is not made of metal, but rather soft, the risk is lower.', nan, 'In comparison to hard plastic/metal', nan, 'with soft robots', 'helping hand'], 'robots are more efficient': [nan], 'knowledge': ['You get the information from the internet and can capture and assign the data faster than humans.', nan], 'less risk of injury': [nan, nan, nan], 'reduction of injury risk': [nan, nan, \"compared to 'soft' rescue robots; valid for hard rescue robots\", nan, nan], 'delivery of supplies': [nan], 'food/water transport': [nan], 'animal protection': ['Using a soft robot instead of an animal protects the animal from potentially harmful behavior by the owner.'], 'reach the inaccessible': [nan], 'reduce risk of injury': [nan], 'direct help': ['through water/food'], 'reduced risk of injury': ['through soft materials', 'the victim due to the organic construction method', nan, nan], 'time savings in emergencies': [nan], 'care of victims': [nan], 'exploration': ['Assess the safety of the dangerous area'], 'supply with food': [nan, nan], 'adaptability': [nan], 'few physical risks': ['e.g. through injuries'], 'accessible tight spaces': ['Due to their flexibility, they can access narrow spaces that are not accessible to people.'], 'decision-making options': ['in theory, a robot should be able to make a logical decision better than a human because emotions etc. cannot cloud a decision'], 'injury prevention': [nan], 'more people saved': [nan], 'low risks': ['Soft robots pose only a low risk to the victims due to their flexibility.'], 'vital help': [nan], 'more flexible than humans': [nan], 'fast': ['faster than a human to distribute aid supplies.'], 'camera images': ['To perform an image analysis in retrospect'], 'human error susceptibility': [nan], 'medication supply': [nan], 'inaccessible areas': [nan]}\n",
      "212\n"
     ]
    }
   ],
   "source": [
    "constant_new_comments_mapping = combine_dicts(constant_comments_mapping, new_comments_mapping)\n",
    "print(\"mapping constant, new x comments:\", constant_new_comments_mapping)\n",
    "print(len(constant_new_comments_mapping))\n"
   ]
  },
  {
   "cell_type": "markdown",
   "metadata": {},
   "source": [
    "## Data for A, B graph (G2)\n",
    "\n",
    "Prompt to get list of arguments and explenations:"
   ]
  },
  {
   "cell_type": "code",
   "execution_count": 24,
   "metadata": {},
   "outputs": [
    {
     "name": "stdout",
     "output_type": "stream",
     "text": [
      "messages=[SystemMessage(content='\\nYou are a researcher summarizing two word lists that represent people\\'s assessments of rigid and soft robots, whereby laypersons were informed about the risks and benefits of rescue robots and socially assistive robots through scenario texts.\\n\\nParticipants shared their views on traditional rigid robots in a \"rigid\" list and on flexible, electronic-free soft robots in a \"soft\" list after learning about their respective risks and benefits. \\nThe overall theme is perceived safety.\\n\\nBoth \"rigid\" and \"soft\" lists are dictionaries with argument keys and comment values. If [nan] appears, it means no comment was provided; repeated entries or [nan] values indicate that the argument was emphasized multiple times.\\n\\nYour task:\\nSummarize the main points for each category into a JSON object. Fill the two arrays within the JSON object, \"rigid_arguments\" for the \"rigid\" list and \"soft_arguments\" for the \"soft\" list. \\nSummarize the main points for each category in a JSON object. Populate the two arrays, \"rigid_arguments\" and \"soft_arguments,\" with up to five key arguments each. \\nInclude a brief, interrelated explanation (up to two sentences) for each argument, derived from the provided lists.\\n\\n\\nOutput Format:\\n\\n{\\n  \"assessments\": {\\n    \"rigid_arguments\": [\\n      {\\n        \"argument\": \"argument1\",\\n        \"explanation\": \"explanation of argument1\"\\n      },\\n      {\\n        \"argument\": \"argument2\",\\n        \"explanation\": \"explanation of argument2\"\\n      },\\n      ...\\n    ],\\n    \"soft_arguments\": [\\n      {\\n        \"argument\": \"argument1\",\\n        \"explanation\": \"explanation of argument1\"\\n      },\\n      {\\n        \"argument\": \"argument2\",\\n        \"explanation\": \"explanation of argument2\"\\n      },\\n      ...\\n    ]\\n  }\\n}\\n\\nPlease respond with the entire JSON structure as specified, providing up to five arguments for each list, and without any additional commentary or context.\\n', additional_kwargs={}, response_metadata={}), HumanMessage(content='List \"rigid\": \\n{\\'quick hygienic help\\': [nan], \\'efficient\\': [\\'Work on statistics can be made more efficient through probabilities.\\', nan, nan, nan], \\'safety\\': [\\'Prevents people from having to work under difficult or dangerous conditions to increase safety.\\', \\'Enables deployment in difficult situations where human rescuers would put themselves in danger\\', nan, nan, nan, \\'through reliability\\', \\'No people are being put in danger\\', \\'Soft material reduces risk of injury\\'], \\'remote control\\': [\\'Can be operated by experts via remote control or autonomous systems to perform operations from a safe distance.\\', nan, nan, nan, nan, \\'Minimizes risks associated with autonomy\\'], \\'speed and efficiency\\': [\\'Robots can often act faster than humans and increase the speed of emergency interventions\\', \\'Improvement of speed and efficiency of rescue operations\\', nan], \\'safe\\': [\\'People do not have to put themselves in dangerous situations\\'], \\'reliable\\': [\\'Can be precisely controlled\\', nan, nan, nan, nan, \\'is always ready\\'], \\'health monitoring\\': [nan, \\'People no longer necessarily need an emergency button if an external system can watch over them and summon help when in doubt.\\'], \\'Precise execution\\': [\\'Robots perform tasks purposefully\\'], \\'Ability to learn\\': [\\'The robots are learning and being further developed, making them more efficient\\'], \\'no people necessary\\': [nan], \\'stronger than humans\\': [nan, \\'In many situations, e.g. when clearing rubble, a great advantage.\\', nan, nan], \\'faster than humans\\': [nan, nan], \\'precise handling\\': [nan], \\'reliability\\': [nan, \\'Machines can accomplish their tasks reliably and reproducibly (provided they are well programmed and built)\\', nan, nan, nan], \\'always correct\\': [nan], \\'protection of rescue forces\\': [\\'for example in contamination scenarios\\', \\'Reduced deployment of human rescue forces in dangerous situations\\', nan, \\'human rescuers do not have to put themselves in danger\\'], \\'in danger zones\\': [nan], \\'toxic places\\': [\\'Places where people can only breathe with special equipment (gas mask)\\'], \\'no distraction\\': [nan], \\'by injuries\\': [nan], \\'consistent\\': [nan], \\'consistent performance\\': [nan], \\'emergency monitoring\\': [\\'Depending on how a robot is equipped, it could respond very quickly in an emergency, faster than a human.\\'], \\'more strong\\': [nan], \\'without basic need\\': [\\'Water, sleep, food etc.\\'], \\'faster intervention\\': [nan], \\'area of application\\': [\\'Can be used in areas too dangerous for humans\\', \\'Can be used in areas that are too dangerous for humans.\\'], \\'reaching hard-to-access places\\': [\\'Robots and drones are small and agile. Therefore, they can reach places that are difficult or even dangerous for humans to reach.\\'], \\'discover dangerous areas\\': [nan], \\'quick processing\\': [nan], \\'care of people\\': [nan], \\'perform operations\\': [\\'disease\\'], \\'enter dangerous situation\\': [nan], \\'No illness\\': [\\'Robots do not get infected, they do not spread diseases, and they do not get sick.\\'], \\'less risk\\': [nan, \\'Specifically less risk to further human lives, as rescue teams can use robots\\'], \\'efficiency in search\\': [nan], \\'no fatigue\\': [nan, \\'Unlike human rescuers, robots do not tire even during long operations\\'], \\'cover dangerous areas\\': [\\'even where it is dangerous for humans, a robot can go there\\'], \\'precision & accuracy\\': [nan], \\'no human errors\\': [nan], \\'more attentive\\': [nan], \\'use in dangerous situations\\': [\\'Rescue robots can be used in dangerous situations where humans are exposed to too high a risk.\\'], \\'can act quickly\\': [\\'Robots can intervene quickly, as they do not need to be dressed or prepared and are autonomous\\', \\'The robots can act faster than a human in an emergency.\\'], \\'No exhaustion\\': [nan], \\'Range\\': [\\'Robots, again just the drone can rescue victims faster in difficult terrain or bring help, e.g. medicine, food\\'], \\'accessibility of inaccessible places\\': [nan], \\'improved approach\\': [nan], \\'precise work\\': [nan, nan], \\'rescue of people\\': [nan], \\'deployment possibility\\': [\\'Also possible under dangerous conditions\\'], \\'replaceable\\': [\\'In case of loss, no human sacrifice\\', \\'During operations, unlike human rescuers, there is no need to pay attention to the safety of the robots, as they can be easily replaced.\\'], \\'unrestricted access\\': [\\'Robots can operate in environments that would be toxic to humans, e.g. areas contaminated with radiation.\\'], \\'sparing human life\\': [\\'If robots are used instead of human rescuers, the lives and health of the rescuers do not have to be put at risk.\\'], \\'reduced risk\\': [\\'By using robots, no human forces are exposed to dangerous situations\\'], \\'precision\\': [nan], \\'more targeted help\\': [nan], \\'saves lives\\': [\\'For example, when human helpers are not available, a rescue robot can still save human lives.\\', \\'send a robot into a danger zone instead of a human\\', nan], \\'protects aid workers\\': [\\'Since employees are not unnecessarily exposed to dangers, strictly speaking, this also saves their lives.\\'], \\'fewer mistakes\\': [nan], \\'overall more productive\\': [nan], \\'greater accuracy\\': [nan], \\'usable in emergencies\\': [\\'To inspect debris more accurately\\'], \\'protection of rescue personnel\\': [nan], \\'accessibility of places\\': [\\'Accessibility difficult to reach\\'], \\'increased efficiency\\': [nan], \\'faster recovery\\': [\\'One could send robots into the fire without danger to human lives, etc, to combat the cause more quickly.\\'], \\'weather independent\\': [\\'Even in storms etc., perhaps an option for critical tasks\\'], \\'safety for emergency personnel\\': [nan], \\'strength (power)\\': [\\'for example, for lifting debris parts\\'], \\'quick action\\': [nan], \\'no danger\\': [\\'For human rescue forces in action\\', \\'No human doctor etc. needs to enter the operating area and thus it is significantly safer and therefore protects human lives.\\'], \\'efficiency\\': [nan, \\'Robots could be more capable in disaster cases than human helpers.\\', nan, \\'Robots are not limited to human speed, vision, and perception in general.\\', nan, \\'both equally fast work, more productive way of working as well as improved access to danger zones\\', nan], \\'access to areas\\': [\\'Access to areas difficult or only reachable through considerable dangers for people\\'], \\'vital objects\\': [\\'Victims receive vitally important things, such as water, food, and medicine\\'], \\'rescue forces safety\\': [\\'Emergency services can avoid dangers if, for example, pictures of the location were taken by robots.\\'], \\'more/ easier access\\': [\\'Robots can create (easier) access to places where it would otherwise be more difficult.\\'], \\'reduce number of victims\\': [\\'Robots could make rescue operations more efficient and faster, potentially saving more victims.\\'], \\'no life endangered\\': [nan], \\'can save lives\\': [nan, nan], \\'not emotionally driven\\': [nan], \\'focused\\': [nan], \\'exclusion of human error\\': [nan], \\'flexible\\': [\\'The robot could operate in dangerous areas and is therefore not limited.\\', nan, nan, nan], \\'stronger than human\\': [\\'Specially equipped machines could help trapped victims quicker and more efficiently.\\'], \\'chances of success\\': [\\'A reliable and error-free rescue robot could therefore save people faster and more than a human.\\'], \\'accuracy of execution\\': [nan], \\'enter dangerous areas\\': [nan], \\'do not get distracted\\': [\\'Rescue robots follow their programming and can focus better on the rescue without being influenced by emotions.\\'], \\'speed / agility\\': [nan], \\'real-time data\\': [nan], \\'strength\\': [nan, \\'the robot can, for example, move objects that a human could not move\\'], \\'simplified access\\': [nan], \\'quick help\\': [nan, nan, nan], \\'risk-free rescue\\': [\\'From the side of the rescuers, who do not have to put themselves in danger\\'], \\'better CPR\\': [nan], \\'life-threatening places\\': [\\'The possibility of entering dangerous places that people do not dare to approach, such as wreck parts, battlefields, etc.\\', nan], \\'more reliable than humans\\': [nan], \\'reach dangerous places\\': [nan], \\'do not get tired\\': [nan, nan], \\'cannot die\\': [nan], \\'\"small\" operations\\': [\\'Especially good for smaller operations and possibly the transport\\'], \\'toxic environment\\': [nan], \\'safer for humans\\': [nan, nan], \\'dexterity\\': [\\'Often higher skill than human rescuers\\'], \\'responsiveness\\': [\\'Robots have a significantly higher reaction capability than human rescuers\\'], \\'Accuracy of rescue robots\\': [\\'this way human errors can be reduced\\'], \\'quality/precision\\': [nan], \\'quantity\\': [\\'more rescue operations or more people saved possible\\'], \\'fewer deaths\\': [nan], \\'faster operation\\': [nan], \\'accuracy\\': [nan, nan], \\'faster help\\': [\\'Since the risk to life is lower, rescue workers can send a robot before a complete analysis of the problem area is available.\\'], \\'stronger\\': [\\'Robots might potentially be able to move things that humans would have great difficulty with.\\'], \\'Not susceptible to infection\\': [\\'Robots are insensitive to infections.\\'], \\'24/7 readiness\\': [nan], \\'access to hard-to-reach places\\': [nan], \\'human safety\\': [nan], \\'useful addition\\': [\\'To human rescuers.\\'], \\'\"dare\" more\\': [\\'can also be used in war zones, only material loss through explosives\\'], \\'eyes and ears\\': [\\'for the rescue forces from a safe distance\\'], \\'less danger\\': [\\'for human rescue forces\\', nan, nan], \\'dangerous areas\\': [nan, nan], \\'endurance\\': [nan], \\'performance\\': [nan], \\'rescue and safety\\': [nan], \\'danger\\': [\\'less human danger\\'], \\'no rescuer endangered\\': [nan], \\'access\\': [\\'access to areas where people cannot reach\\'], \\'rational efficiency\\': [\\'No suicidal experiments in rescue\\'], \\'quick deployment\\': [nan, nan], \\'no exhaustion\\': [nan], \\'save many people\\': [nan], \\'Adaptability\\': [nan, nan], \\'continuous monitoring\\': [nan], \\'not tired\\': [nan], \\'more human rescue\\': [nan], \\'easier finding\\': [\\'Through their sensors like thermal imaging, the robots can better find people.\\'], \\'do not lose strength\\': [\\'Robots do not lose stamina while humans could lose strength during missions.\\'], \\'delivery of goods\\': [\\'Robots can, for example, deliver goods in war zones, which would be dangerous for humans.\\'], \\'faster abolition\\': [\\'Rescue robots could shorten the path to doctors/hospitals and the abolition of injured people.\\'], \\'safety risks\\': [nan], \\'can be replaced\\': [\\'Robots can be replaced by other robots in case of loss\\'], \\'better search capabilities\\': [\\'Robots can search better in the dark and in smoke etc because they have numerous sensors\\'], \\'for danger\\': [\\'can be used in times of danger instead of humans\\'], \\'efficient reconnaissance work\\': [\\'Through algorithms, maps can be read and created more quickly\\'], \\'rescue efficient and\\': [nan], \\'higher utilization\\': [\\'the robots can be used continuously\\'], \\'faster access\\': [\\'easier access to dangerous place\\'], \\'error reduction\\': [nan], \\'simplification of difficult situations\\': [\\'Many rescue situations prove difficult for people to reach or to intervene, automation can clearly help here.\\'], \\'accessibility of special regions\\': [nan], \\'risk reduction for aid workers\\': [\\'Should people go into difficult areas, for example for avalanche rescue, they put themselves in danger\\'], \\'fire department support\\': [nan], \\'risk\\': [\\'In dangerous environments or situations, there is of course much less risk for the people\\'], \\'dispensable\\': [\\'the loss of a robot is less tragic than the loss of a human rescuer\\'], \\'immune\\': [\\'a robot is immune to many dangers that would be deadly for humans such as smoke gases, chemicals, temperatures\\'], \\'protects people\\': [\\'No human risks necessary\\'], \\'surpasses human rescuers\\': [\\'Can be used in situations where people cannot reach\\'], \\'low risk\\': [nan], \\'safety for rescue workers\\': [nan], \\'access to dangerous area\\': [nan], \\'no performance drop\\': [nan], \\'follows instructions precisely\\': [nan], \\'earthquake rescue\\': [nan], \\'lifting heavy weights\\': [nan], \\'risk minimization\\': [\\'Approximately during search actions in risky areas\\'], \\'precision in search\\': [nan], \\'More flexible than human\\': [\\'People cannot access some areas or cannot see whether people are still alive. For example, in an earthquake incident under the rubble.\\'], \\'Faster than human\\': [\\'In an earthquake, for example, recently in Turkey, the help arrived too late and this led to more loss. Robots would be more flexible and could be used faster, rather than gathering all people together and rushing to help.\\'], \\'Stronger than human\\': [\\'As already mentioned, many people lost their lives in the earthquake in Turkey, and this was because human strength was not enough at a certain point. For example, the walls that fell on people could not be lifted, which is why arms and legs had to be cut off. If the robot was there, it could show more strength and lift the wall.\\'], \\'speed\\': [\\'the robot can probably save faster than a human\\'], \\'accessibility of contaminated places\\': [\\'Poisonous gases, smoke, radiation etc. play no role\\'], \\'can be stronger\\': [nan], \\'can work long\\': [nan], \\'are physically superior\\': [\\'Strength, agility, mobility\\'], \\'are mentally superior\\': [\\'No trauma for rescuers\\'], \\'use in dangerous areas\\': [nan], \\'use in inaccessibility\\': [nan], \\'accuracy of work\\': [nan], \\'does not risk human lives\\': [nan]}\\n\\nList \"soft\": \\n{\\'lower risk of injury\\': [nan, \\'through soft robots\\', nan, \\'due to their softness\\', \\'With soft robots\\', nan, \\'Lower risk of injury due to the adaptability of the robot\\', nan], \\'flexible\\': [nan, nan, nan], \\'low risk of injury\\': [nan, nan, nan, \\'Due to the fact that a soft robot is not made of metal, but rather soft, the risk is lower.\\', nan, \\'In comparison to hard plastic/metal\\', nan, \\'with soft robots\\', \\'helping hand\\'], \\'safety\\': [\\'Soft material reduces risk of injury\\'], \\'robots are more efficient\\': [nan], \\'knowledge\\': [\\'You get the information from the internet and can capture and assign the data faster than humans.\\', nan], \\'less risk of injury\\': [nan, nan, nan], \\'reduction of injury risk\\': [nan, nan, \"compared to \\'soft\\' rescue robots; valid for hard rescue robots\", nan, nan], \\'delivery of supplies\\': [nan], \\'precise work\\': [nan], \\'food/water transport\\': [nan], \\'animal protection\\': [\\'Using a soft robot instead of an animal protects the animal from potentially harmful behavior by the owner.\\'], \\'reach the inaccessible\\': [nan], \\'reduce risk of injury\\': [nan], \\'reliable\\': [\\'is always ready\\'], \\'direct help\\': [\\'through water/food\\'], \\'reduced risk of injury\\': [\\'through soft materials\\', \\'the victim due to the organic construction method\\', nan, nan], \\'time savings in emergencies\\': [nan], \\'care of victims\\': [nan], \\'exploration\\': [\\'Assess the safety of the dangerous area\\'], \\'supply with food\\': [nan, nan], \\'adaptability\\': [nan], \\'few physical risks\\': [\\'e.g. through injuries\\'], \\'accessible tight spaces\\': [\\'Due to their flexibility, they can access narrow spaces that are not accessible to people.\\'], \\'decision-making options\\': [\\'in theory, a robot should be able to make a logical decision better than a human because emotions etc. cannot cloud a decision\\'], \\'injury prevention\\': [nan], \\'more people saved\\': [nan], \\'low risks\\': [\\'Soft robots pose only a low risk to the victims due to their flexibility.\\'], \\'life-threatening places\\': [nan], \\'vital help\\': [nan], \\'more flexible than humans\\': [nan], \\'fast\\': [\\'faster than a human to distribute aid supplies.\\'], \\'Adaptability\\': [nan], \\'camera images\\': [\\'To perform an image analysis in retrospect\\'], \\'human error susceptibility\\': [nan], \\'medication supply\\': [nan], \\'inaccessible areas\\': [nan]}', additional_kwargs={}, response_metadata={})]\n",
      "template_out: messages=[SystemMessage(content='\\nYou are a researcher summarizing two word lists that represent people\\'s assessments of rigid and soft robots, whereby laypersons were informed about the risks and benefits of rescue robots and socially assistive robots through scenario texts.\\n\\nParticipants shared their views on traditional rigid robots in a \"rigid\" list and on flexible, electronic-free soft robots in a \"soft\" list after learning about their respective risks and benefits. \\nThe overall theme is perceived safety.\\n\\nBoth \"rigid\" and \"soft\" lists are dictionaries with argument keys and comment values. If [nan] appears, it means no comment was provided; repeated entries or [nan] values indicate that the argument was emphasized multiple times.\\n\\nYour task:\\nSummarize the main points for each category into a JSON object. Fill the two arrays within the JSON object, \"rigid_arguments\" for the \"rigid\" list and \"soft_arguments\" for the \"soft\" list. \\nSummarize the main points for each category in a JSON object. Populate the two arrays, \"rigid_arguments\" and \"soft_arguments,\" with up to five key arguments each. \\nInclude a brief, interrelated explanation (up to two sentences) for each argument, derived from the provided lists.\\n\\n\\nOutput Format:\\n\\n{\\n  \"assessments\": {\\n    \"rigid_arguments\": [\\n      {\\n        \"argument\": \"argument1\",\\n        \"explanation\": \"explanation of argument1\"\\n      },\\n      {\\n        \"argument\": \"argument2\",\\n        \"explanation\": \"explanation of argument2\"\\n      },\\n      ...\\n    ],\\n    \"soft_arguments\": [\\n      {\\n        \"argument\": \"argument1\",\\n        \"explanation\": \"explanation of argument1\"\\n      },\\n      {\\n        \"argument\": \"argument2\",\\n        \"explanation\": \"explanation of argument2\"\\n      },\\n      ...\\n    ]\\n  }\\n}\\n\\nPlease respond with the entire JSON structure as specified, providing up to five arguments for each list, and without any additional commentary or context.\\n', additional_kwargs={}, response_metadata={}), HumanMessage(content='List \"rigid\": \\n{\\'quick hygienic help\\': [nan], \\'efficient\\': [\\'Work on statistics can be made more efficient through probabilities.\\', nan, nan, nan], \\'safety\\': [\\'Prevents people from having to work under difficult or dangerous conditions to increase safety.\\', \\'Enables deployment in difficult situations where human rescuers would put themselves in danger\\', nan, nan, nan, \\'through reliability\\', \\'No people are being put in danger\\', \\'Soft material reduces risk of injury\\'], \\'remote control\\': [\\'Can be operated by experts via remote control or autonomous systems to perform operations from a safe distance.\\', nan, nan, nan, nan, \\'Minimizes risks associated with autonomy\\'], \\'speed and efficiency\\': [\\'Robots can often act faster than humans and increase the speed of emergency interventions\\', \\'Improvement of speed and efficiency of rescue operations\\', nan], \\'safe\\': [\\'People do not have to put themselves in dangerous situations\\'], \\'reliable\\': [\\'Can be precisely controlled\\', nan, nan, nan, nan, \\'is always ready\\'], \\'health monitoring\\': [nan, \\'People no longer necessarily need an emergency button if an external system can watch over them and summon help when in doubt.\\'], \\'Precise execution\\': [\\'Robots perform tasks purposefully\\'], \\'Ability to learn\\': [\\'The robots are learning and being further developed, making them more efficient\\'], \\'no people necessary\\': [nan], \\'stronger than humans\\': [nan, \\'In many situations, e.g. when clearing rubble, a great advantage.\\', nan, nan], \\'faster than humans\\': [nan, nan], \\'precise handling\\': [nan], \\'reliability\\': [nan, \\'Machines can accomplish their tasks reliably and reproducibly (provided they are well programmed and built)\\', nan, nan, nan], \\'always correct\\': [nan], \\'protection of rescue forces\\': [\\'for example in contamination scenarios\\', \\'Reduced deployment of human rescue forces in dangerous situations\\', nan, \\'human rescuers do not have to put themselves in danger\\'], \\'in danger zones\\': [nan], \\'toxic places\\': [\\'Places where people can only breathe with special equipment (gas mask)\\'], \\'no distraction\\': [nan], \\'by injuries\\': [nan], \\'consistent\\': [nan], \\'consistent performance\\': [nan], \\'emergency monitoring\\': [\\'Depending on how a robot is equipped, it could respond very quickly in an emergency, faster than a human.\\'], \\'more strong\\': [nan], \\'without basic need\\': [\\'Water, sleep, food etc.\\'], \\'faster intervention\\': [nan], \\'area of application\\': [\\'Can be used in areas too dangerous for humans\\', \\'Can be used in areas that are too dangerous for humans.\\'], \\'reaching hard-to-access places\\': [\\'Robots and drones are small and agile. Therefore, they can reach places that are difficult or even dangerous for humans to reach.\\'], \\'discover dangerous areas\\': [nan], \\'quick processing\\': [nan], \\'care of people\\': [nan], \\'perform operations\\': [\\'disease\\'], \\'enter dangerous situation\\': [nan], \\'No illness\\': [\\'Robots do not get infected, they do not spread diseases, and they do not get sick.\\'], \\'less risk\\': [nan, \\'Specifically less risk to further human lives, as rescue teams can use robots\\'], \\'efficiency in search\\': [nan], \\'no fatigue\\': [nan, \\'Unlike human rescuers, robots do not tire even during long operations\\'], \\'cover dangerous areas\\': [\\'even where it is dangerous for humans, a robot can go there\\'], \\'precision & accuracy\\': [nan], \\'no human errors\\': [nan], \\'more attentive\\': [nan], \\'use in dangerous situations\\': [\\'Rescue robots can be used in dangerous situations where humans are exposed to too high a risk.\\'], \\'can act quickly\\': [\\'Robots can intervene quickly, as they do not need to be dressed or prepared and are autonomous\\', \\'The robots can act faster than a human in an emergency.\\'], \\'No exhaustion\\': [nan], \\'Range\\': [\\'Robots, again just the drone can rescue victims faster in difficult terrain or bring help, e.g. medicine, food\\'], \\'accessibility of inaccessible places\\': [nan], \\'improved approach\\': [nan], \\'precise work\\': [nan, nan], \\'rescue of people\\': [nan], \\'deployment possibility\\': [\\'Also possible under dangerous conditions\\'], \\'replaceable\\': [\\'In case of loss, no human sacrifice\\', \\'During operations, unlike human rescuers, there is no need to pay attention to the safety of the robots, as they can be easily replaced.\\'], \\'unrestricted access\\': [\\'Robots can operate in environments that would be toxic to humans, e.g. areas contaminated with radiation.\\'], \\'sparing human life\\': [\\'If robots are used instead of human rescuers, the lives and health of the rescuers do not have to be put at risk.\\'], \\'reduced risk\\': [\\'By using robots, no human forces are exposed to dangerous situations\\'], \\'precision\\': [nan], \\'more targeted help\\': [nan], \\'saves lives\\': [\\'For example, when human helpers are not available, a rescue robot can still save human lives.\\', \\'send a robot into a danger zone instead of a human\\', nan], \\'protects aid workers\\': [\\'Since employees are not unnecessarily exposed to dangers, strictly speaking, this also saves their lives.\\'], \\'fewer mistakes\\': [nan], \\'overall more productive\\': [nan], \\'greater accuracy\\': [nan], \\'usable in emergencies\\': [\\'To inspect debris more accurately\\'], \\'protection of rescue personnel\\': [nan], \\'accessibility of places\\': [\\'Accessibility difficult to reach\\'], \\'increased efficiency\\': [nan], \\'faster recovery\\': [\\'One could send robots into the fire without danger to human lives, etc, to combat the cause more quickly.\\'], \\'weather independent\\': [\\'Even in storms etc., perhaps an option for critical tasks\\'], \\'safety for emergency personnel\\': [nan], \\'strength (power)\\': [\\'for example, for lifting debris parts\\'], \\'quick action\\': [nan], \\'no danger\\': [\\'For human rescue forces in action\\', \\'No human doctor etc. needs to enter the operating area and thus it is significantly safer and therefore protects human lives.\\'], \\'efficiency\\': [nan, \\'Robots could be more capable in disaster cases than human helpers.\\', nan, \\'Robots are not limited to human speed, vision, and perception in general.\\', nan, \\'both equally fast work, more productive way of working as well as improved access to danger zones\\', nan], \\'access to areas\\': [\\'Access to areas difficult or only reachable through considerable dangers for people\\'], \\'vital objects\\': [\\'Victims receive vitally important things, such as water, food, and medicine\\'], \\'rescue forces safety\\': [\\'Emergency services can avoid dangers if, for example, pictures of the location were taken by robots.\\'], \\'more/ easier access\\': [\\'Robots can create (easier) access to places where it would otherwise be more difficult.\\'], \\'reduce number of victims\\': [\\'Robots could make rescue operations more efficient and faster, potentially saving more victims.\\'], \\'no life endangered\\': [nan], \\'can save lives\\': [nan, nan], \\'not emotionally driven\\': [nan], \\'focused\\': [nan], \\'exclusion of human error\\': [nan], \\'flexible\\': [\\'The robot could operate in dangerous areas and is therefore not limited.\\', nan, nan, nan], \\'stronger than human\\': [\\'Specially equipped machines could help trapped victims quicker and more efficiently.\\'], \\'chances of success\\': [\\'A reliable and error-free rescue robot could therefore save people faster and more than a human.\\'], \\'accuracy of execution\\': [nan], \\'enter dangerous areas\\': [nan], \\'do not get distracted\\': [\\'Rescue robots follow their programming and can focus better on the rescue without being influenced by emotions.\\'], \\'speed / agility\\': [nan], \\'real-time data\\': [nan], \\'strength\\': [nan, \\'the robot can, for example, move objects that a human could not move\\'], \\'simplified access\\': [nan], \\'quick help\\': [nan, nan, nan], \\'risk-free rescue\\': [\\'From the side of the rescuers, who do not have to put themselves in danger\\'], \\'better CPR\\': [nan], \\'life-threatening places\\': [\\'The possibility of entering dangerous places that people do not dare to approach, such as wreck parts, battlefields, etc.\\', nan], \\'more reliable than humans\\': [nan], \\'reach dangerous places\\': [nan], \\'do not get tired\\': [nan, nan], \\'cannot die\\': [nan], \\'\"small\" operations\\': [\\'Especially good for smaller operations and possibly the transport\\'], \\'toxic environment\\': [nan], \\'safer for humans\\': [nan, nan], \\'dexterity\\': [\\'Often higher skill than human rescuers\\'], \\'responsiveness\\': [\\'Robots have a significantly higher reaction capability than human rescuers\\'], \\'Accuracy of rescue robots\\': [\\'this way human errors can be reduced\\'], \\'quality/precision\\': [nan], \\'quantity\\': [\\'more rescue operations or more people saved possible\\'], \\'fewer deaths\\': [nan], \\'faster operation\\': [nan], \\'accuracy\\': [nan, nan], \\'faster help\\': [\\'Since the risk to life is lower, rescue workers can send a robot before a complete analysis of the problem area is available.\\'], \\'stronger\\': [\\'Robots might potentially be able to move things that humans would have great difficulty with.\\'], \\'Not susceptible to infection\\': [\\'Robots are insensitive to infections.\\'], \\'24/7 readiness\\': [nan], \\'access to hard-to-reach places\\': [nan], \\'human safety\\': [nan], \\'useful addition\\': [\\'To human rescuers.\\'], \\'\"dare\" more\\': [\\'can also be used in war zones, only material loss through explosives\\'], \\'eyes and ears\\': [\\'for the rescue forces from a safe distance\\'], \\'less danger\\': [\\'for human rescue forces\\', nan, nan], \\'dangerous areas\\': [nan, nan], \\'endurance\\': [nan], \\'performance\\': [nan], \\'rescue and safety\\': [nan], \\'danger\\': [\\'less human danger\\'], \\'no rescuer endangered\\': [nan], \\'access\\': [\\'access to areas where people cannot reach\\'], \\'rational efficiency\\': [\\'No suicidal experiments in rescue\\'], \\'quick deployment\\': [nan, nan], \\'no exhaustion\\': [nan], \\'save many people\\': [nan], \\'Adaptability\\': [nan, nan], \\'continuous monitoring\\': [nan], \\'not tired\\': [nan], \\'more human rescue\\': [nan], \\'easier finding\\': [\\'Through their sensors like thermal imaging, the robots can better find people.\\'], \\'do not lose strength\\': [\\'Robots do not lose stamina while humans could lose strength during missions.\\'], \\'delivery of goods\\': [\\'Robots can, for example, deliver goods in war zones, which would be dangerous for humans.\\'], \\'faster abolition\\': [\\'Rescue robots could shorten the path to doctors/hospitals and the abolition of injured people.\\'], \\'safety risks\\': [nan], \\'can be replaced\\': [\\'Robots can be replaced by other robots in case of loss\\'], \\'better search capabilities\\': [\\'Robots can search better in the dark and in smoke etc because they have numerous sensors\\'], \\'for danger\\': [\\'can be used in times of danger instead of humans\\'], \\'efficient reconnaissance work\\': [\\'Through algorithms, maps can be read and created more quickly\\'], \\'rescue efficient and\\': [nan], \\'higher utilization\\': [\\'the robots can be used continuously\\'], \\'faster access\\': [\\'easier access to dangerous place\\'], \\'error reduction\\': [nan], \\'simplification of difficult situations\\': [\\'Many rescue situations prove difficult for people to reach or to intervene, automation can clearly help here.\\'], \\'accessibility of special regions\\': [nan], \\'risk reduction for aid workers\\': [\\'Should people go into difficult areas, for example for avalanche rescue, they put themselves in danger\\'], \\'fire department support\\': [nan], \\'risk\\': [\\'In dangerous environments or situations, there is of course much less risk for the people\\'], \\'dispensable\\': [\\'the loss of a robot is less tragic than the loss of a human rescuer\\'], \\'immune\\': [\\'a robot is immune to many dangers that would be deadly for humans such as smoke gases, chemicals, temperatures\\'], \\'protects people\\': [\\'No human risks necessary\\'], \\'surpasses human rescuers\\': [\\'Can be used in situations where people cannot reach\\'], \\'low risk\\': [nan], \\'safety for rescue workers\\': [nan], \\'access to dangerous area\\': [nan], \\'no performance drop\\': [nan], \\'follows instructions precisely\\': [nan], \\'earthquake rescue\\': [nan], \\'lifting heavy weights\\': [nan], \\'risk minimization\\': [\\'Approximately during search actions in risky areas\\'], \\'precision in search\\': [nan], \\'More flexible than human\\': [\\'People cannot access some areas or cannot see whether people are still alive. For example, in an earthquake incident under the rubble.\\'], \\'Faster than human\\': [\\'In an earthquake, for example, recently in Turkey, the help arrived too late and this led to more loss. Robots would be more flexible and could be used faster, rather than gathering all people together and rushing to help.\\'], \\'Stronger than human\\': [\\'As already mentioned, many people lost their lives in the earthquake in Turkey, and this was because human strength was not enough at a certain point. For example, the walls that fell on people could not be lifted, which is why arms and legs had to be cut off. If the robot was there, it could show more strength and lift the wall.\\'], \\'speed\\': [\\'the robot can probably save faster than a human\\'], \\'accessibility of contaminated places\\': [\\'Poisonous gases, smoke, radiation etc. play no role\\'], \\'can be stronger\\': [nan], \\'can work long\\': [nan], \\'are physically superior\\': [\\'Strength, agility, mobility\\'], \\'are mentally superior\\': [\\'No trauma for rescuers\\'], \\'use in dangerous areas\\': [nan], \\'use in inaccessibility\\': [nan], \\'accuracy of work\\': [nan], \\'does not risk human lives\\': [nan]}\\n\\nList \"soft\": \\n{\\'lower risk of injury\\': [nan, \\'through soft robots\\', nan, \\'due to their softness\\', \\'With soft robots\\', nan, \\'Lower risk of injury due to the adaptability of the robot\\', nan], \\'flexible\\': [nan, nan, nan], \\'low risk of injury\\': [nan, nan, nan, \\'Due to the fact that a soft robot is not made of metal, but rather soft, the risk is lower.\\', nan, \\'In comparison to hard plastic/metal\\', nan, \\'with soft robots\\', \\'helping hand\\'], \\'safety\\': [\\'Soft material reduces risk of injury\\'], \\'robots are more efficient\\': [nan], \\'knowledge\\': [\\'You get the information from the internet and can capture and assign the data faster than humans.\\', nan], \\'less risk of injury\\': [nan, nan, nan], \\'reduction of injury risk\\': [nan, nan, \"compared to \\'soft\\' rescue robots; valid for hard rescue robots\", nan, nan], \\'delivery of supplies\\': [nan], \\'precise work\\': [nan], \\'food/water transport\\': [nan], \\'animal protection\\': [\\'Using a soft robot instead of an animal protects the animal from potentially harmful behavior by the owner.\\'], \\'reach the inaccessible\\': [nan], \\'reduce risk of injury\\': [nan], \\'reliable\\': [\\'is always ready\\'], \\'direct help\\': [\\'through water/food\\'], \\'reduced risk of injury\\': [\\'through soft materials\\', \\'the victim due to the organic construction method\\', nan, nan], \\'time savings in emergencies\\': [nan], \\'care of victims\\': [nan], \\'exploration\\': [\\'Assess the safety of the dangerous area\\'], \\'supply with food\\': [nan, nan], \\'adaptability\\': [nan], \\'few physical risks\\': [\\'e.g. through injuries\\'], \\'accessible tight spaces\\': [\\'Due to their flexibility, they can access narrow spaces that are not accessible to people.\\'], \\'decision-making options\\': [\\'in theory, a robot should be able to make a logical decision better than a human because emotions etc. cannot cloud a decision\\'], \\'injury prevention\\': [nan], \\'more people saved\\': [nan], \\'low risks\\': [\\'Soft robots pose only a low risk to the victims due to their flexibility.\\'], \\'life-threatening places\\': [nan], \\'vital help\\': [nan], \\'more flexible than humans\\': [nan], \\'fast\\': [\\'faster than a human to distribute aid supplies.\\'], \\'Adaptability\\': [nan], \\'camera images\\': [\\'To perform an image analysis in retrospect\\'], \\'human error susceptibility\\': [nan], \\'medication supply\\': [nan], \\'inaccessible areas\\': [nan]}', additional_kwargs={}, response_metadata={})]\n",
      "template_out.to_messages(): [SystemMessage(content='\\nYou are a researcher summarizing two word lists that represent people\\'s assessments of rigid and soft robots, whereby laypersons were informed about the risks and benefits of rescue robots and socially assistive robots through scenario texts.\\n\\nParticipants shared their views on traditional rigid robots in a \"rigid\" list and on flexible, electronic-free soft robots in a \"soft\" list after learning about their respective risks and benefits. \\nThe overall theme is perceived safety.\\n\\nBoth \"rigid\" and \"soft\" lists are dictionaries with argument keys and comment values. If [nan] appears, it means no comment was provided; repeated entries or [nan] values indicate that the argument was emphasized multiple times.\\n\\nYour task:\\nSummarize the main points for each category into a JSON object. Fill the two arrays within the JSON object, \"rigid_arguments\" for the \"rigid\" list and \"soft_arguments\" for the \"soft\" list. \\nSummarize the main points for each category in a JSON object. Populate the two arrays, \"rigid_arguments\" and \"soft_arguments,\" with up to five key arguments each. \\nInclude a brief, interrelated explanation (up to two sentences) for each argument, derived from the provided lists.\\n\\n\\nOutput Format:\\n\\n{\\n  \"assessments\": {\\n    \"rigid_arguments\": [\\n      {\\n        \"argument\": \"argument1\",\\n        \"explanation\": \"explanation of argument1\"\\n      },\\n      {\\n        \"argument\": \"argument2\",\\n        \"explanation\": \"explanation of argument2\"\\n      },\\n      ...\\n    ],\\n    \"soft_arguments\": [\\n      {\\n        \"argument\": \"argument1\",\\n        \"explanation\": \"explanation of argument1\"\\n      },\\n      {\\n        \"argument\": \"argument2\",\\n        \"explanation\": \"explanation of argument2\"\\n      },\\n      ...\\n    ]\\n  }\\n}\\n\\nPlease respond with the entire JSON structure as specified, providing up to five arguments for each list, and without any additional commentary or context.\\n', additional_kwargs={}, response_metadata={}), HumanMessage(content='List \"rigid\": \\n{\\'quick hygienic help\\': [nan], \\'efficient\\': [\\'Work on statistics can be made more efficient through probabilities.\\', nan, nan, nan], \\'safety\\': [\\'Prevents people from having to work under difficult or dangerous conditions to increase safety.\\', \\'Enables deployment in difficult situations where human rescuers would put themselves in danger\\', nan, nan, nan, \\'through reliability\\', \\'No people are being put in danger\\', \\'Soft material reduces risk of injury\\'], \\'remote control\\': [\\'Can be operated by experts via remote control or autonomous systems to perform operations from a safe distance.\\', nan, nan, nan, nan, \\'Minimizes risks associated with autonomy\\'], \\'speed and efficiency\\': [\\'Robots can often act faster than humans and increase the speed of emergency interventions\\', \\'Improvement of speed and efficiency of rescue operations\\', nan], \\'safe\\': [\\'People do not have to put themselves in dangerous situations\\'], \\'reliable\\': [\\'Can be precisely controlled\\', nan, nan, nan, nan, \\'is always ready\\'], \\'health monitoring\\': [nan, \\'People no longer necessarily need an emergency button if an external system can watch over them and summon help when in doubt.\\'], \\'Precise execution\\': [\\'Robots perform tasks purposefully\\'], \\'Ability to learn\\': [\\'The robots are learning and being further developed, making them more efficient\\'], \\'no people necessary\\': [nan], \\'stronger than humans\\': [nan, \\'In many situations, e.g. when clearing rubble, a great advantage.\\', nan, nan], \\'faster than humans\\': [nan, nan], \\'precise handling\\': [nan], \\'reliability\\': [nan, \\'Machines can accomplish their tasks reliably and reproducibly (provided they are well programmed and built)\\', nan, nan, nan], \\'always correct\\': [nan], \\'protection of rescue forces\\': [\\'for example in contamination scenarios\\', \\'Reduced deployment of human rescue forces in dangerous situations\\', nan, \\'human rescuers do not have to put themselves in danger\\'], \\'in danger zones\\': [nan], \\'toxic places\\': [\\'Places where people can only breathe with special equipment (gas mask)\\'], \\'no distraction\\': [nan], \\'by injuries\\': [nan], \\'consistent\\': [nan], \\'consistent performance\\': [nan], \\'emergency monitoring\\': [\\'Depending on how a robot is equipped, it could respond very quickly in an emergency, faster than a human.\\'], \\'more strong\\': [nan], \\'without basic need\\': [\\'Water, sleep, food etc.\\'], \\'faster intervention\\': [nan], \\'area of application\\': [\\'Can be used in areas too dangerous for humans\\', \\'Can be used in areas that are too dangerous for humans.\\'], \\'reaching hard-to-access places\\': [\\'Robots and drones are small and agile. Therefore, they can reach places that are difficult or even dangerous for humans to reach.\\'], \\'discover dangerous areas\\': [nan], \\'quick processing\\': [nan], \\'care of people\\': [nan], \\'perform operations\\': [\\'disease\\'], \\'enter dangerous situation\\': [nan], \\'No illness\\': [\\'Robots do not get infected, they do not spread diseases, and they do not get sick.\\'], \\'less risk\\': [nan, \\'Specifically less risk to further human lives, as rescue teams can use robots\\'], \\'efficiency in search\\': [nan], \\'no fatigue\\': [nan, \\'Unlike human rescuers, robots do not tire even during long operations\\'], \\'cover dangerous areas\\': [\\'even where it is dangerous for humans, a robot can go there\\'], \\'precision & accuracy\\': [nan], \\'no human errors\\': [nan], \\'more attentive\\': [nan], \\'use in dangerous situations\\': [\\'Rescue robots can be used in dangerous situations where humans are exposed to too high a risk.\\'], \\'can act quickly\\': [\\'Robots can intervene quickly, as they do not need to be dressed or prepared and are autonomous\\', \\'The robots can act faster than a human in an emergency.\\'], \\'No exhaustion\\': [nan], \\'Range\\': [\\'Robots, again just the drone can rescue victims faster in difficult terrain or bring help, e.g. medicine, food\\'], \\'accessibility of inaccessible places\\': [nan], \\'improved approach\\': [nan], \\'precise work\\': [nan, nan], \\'rescue of people\\': [nan], \\'deployment possibility\\': [\\'Also possible under dangerous conditions\\'], \\'replaceable\\': [\\'In case of loss, no human sacrifice\\', \\'During operations, unlike human rescuers, there is no need to pay attention to the safety of the robots, as they can be easily replaced.\\'], \\'unrestricted access\\': [\\'Robots can operate in environments that would be toxic to humans, e.g. areas contaminated with radiation.\\'], \\'sparing human life\\': [\\'If robots are used instead of human rescuers, the lives and health of the rescuers do not have to be put at risk.\\'], \\'reduced risk\\': [\\'By using robots, no human forces are exposed to dangerous situations\\'], \\'precision\\': [nan], \\'more targeted help\\': [nan], \\'saves lives\\': [\\'For example, when human helpers are not available, a rescue robot can still save human lives.\\', \\'send a robot into a danger zone instead of a human\\', nan], \\'protects aid workers\\': [\\'Since employees are not unnecessarily exposed to dangers, strictly speaking, this also saves their lives.\\'], \\'fewer mistakes\\': [nan], \\'overall more productive\\': [nan], \\'greater accuracy\\': [nan], \\'usable in emergencies\\': [\\'To inspect debris more accurately\\'], \\'protection of rescue personnel\\': [nan], \\'accessibility of places\\': [\\'Accessibility difficult to reach\\'], \\'increased efficiency\\': [nan], \\'faster recovery\\': [\\'One could send robots into the fire without danger to human lives, etc, to combat the cause more quickly.\\'], \\'weather independent\\': [\\'Even in storms etc., perhaps an option for critical tasks\\'], \\'safety for emergency personnel\\': [nan], \\'strength (power)\\': [\\'for example, for lifting debris parts\\'], \\'quick action\\': [nan], \\'no danger\\': [\\'For human rescue forces in action\\', \\'No human doctor etc. needs to enter the operating area and thus it is significantly safer and therefore protects human lives.\\'], \\'efficiency\\': [nan, \\'Robots could be more capable in disaster cases than human helpers.\\', nan, \\'Robots are not limited to human speed, vision, and perception in general.\\', nan, \\'both equally fast work, more productive way of working as well as improved access to danger zones\\', nan], \\'access to areas\\': [\\'Access to areas difficult or only reachable through considerable dangers for people\\'], \\'vital objects\\': [\\'Victims receive vitally important things, such as water, food, and medicine\\'], \\'rescue forces safety\\': [\\'Emergency services can avoid dangers if, for example, pictures of the location were taken by robots.\\'], \\'more/ easier access\\': [\\'Robots can create (easier) access to places where it would otherwise be more difficult.\\'], \\'reduce number of victims\\': [\\'Robots could make rescue operations more efficient and faster, potentially saving more victims.\\'], \\'no life endangered\\': [nan], \\'can save lives\\': [nan, nan], \\'not emotionally driven\\': [nan], \\'focused\\': [nan], \\'exclusion of human error\\': [nan], \\'flexible\\': [\\'The robot could operate in dangerous areas and is therefore not limited.\\', nan, nan, nan], \\'stronger than human\\': [\\'Specially equipped machines could help trapped victims quicker and more efficiently.\\'], \\'chances of success\\': [\\'A reliable and error-free rescue robot could therefore save people faster and more than a human.\\'], \\'accuracy of execution\\': [nan], \\'enter dangerous areas\\': [nan], \\'do not get distracted\\': [\\'Rescue robots follow their programming and can focus better on the rescue without being influenced by emotions.\\'], \\'speed / agility\\': [nan], \\'real-time data\\': [nan], \\'strength\\': [nan, \\'the robot can, for example, move objects that a human could not move\\'], \\'simplified access\\': [nan], \\'quick help\\': [nan, nan, nan], \\'risk-free rescue\\': [\\'From the side of the rescuers, who do not have to put themselves in danger\\'], \\'better CPR\\': [nan], \\'life-threatening places\\': [\\'The possibility of entering dangerous places that people do not dare to approach, such as wreck parts, battlefields, etc.\\', nan], \\'more reliable than humans\\': [nan], \\'reach dangerous places\\': [nan], \\'do not get tired\\': [nan, nan], \\'cannot die\\': [nan], \\'\"small\" operations\\': [\\'Especially good for smaller operations and possibly the transport\\'], \\'toxic environment\\': [nan], \\'safer for humans\\': [nan, nan], \\'dexterity\\': [\\'Often higher skill than human rescuers\\'], \\'responsiveness\\': [\\'Robots have a significantly higher reaction capability than human rescuers\\'], \\'Accuracy of rescue robots\\': [\\'this way human errors can be reduced\\'], \\'quality/precision\\': [nan], \\'quantity\\': [\\'more rescue operations or more people saved possible\\'], \\'fewer deaths\\': [nan], \\'faster operation\\': [nan], \\'accuracy\\': [nan, nan], \\'faster help\\': [\\'Since the risk to life is lower, rescue workers can send a robot before a complete analysis of the problem area is available.\\'], \\'stronger\\': [\\'Robots might potentially be able to move things that humans would have great difficulty with.\\'], \\'Not susceptible to infection\\': [\\'Robots are insensitive to infections.\\'], \\'24/7 readiness\\': [nan], \\'access to hard-to-reach places\\': [nan], \\'human safety\\': [nan], \\'useful addition\\': [\\'To human rescuers.\\'], \\'\"dare\" more\\': [\\'can also be used in war zones, only material loss through explosives\\'], \\'eyes and ears\\': [\\'for the rescue forces from a safe distance\\'], \\'less danger\\': [\\'for human rescue forces\\', nan, nan], \\'dangerous areas\\': [nan, nan], \\'endurance\\': [nan], \\'performance\\': [nan], \\'rescue and safety\\': [nan], \\'danger\\': [\\'less human danger\\'], \\'no rescuer endangered\\': [nan], \\'access\\': [\\'access to areas where people cannot reach\\'], \\'rational efficiency\\': [\\'No suicidal experiments in rescue\\'], \\'quick deployment\\': [nan, nan], \\'no exhaustion\\': [nan], \\'save many people\\': [nan], \\'Adaptability\\': [nan, nan], \\'continuous monitoring\\': [nan], \\'not tired\\': [nan], \\'more human rescue\\': [nan], \\'easier finding\\': [\\'Through their sensors like thermal imaging, the robots can better find people.\\'], \\'do not lose strength\\': [\\'Robots do not lose stamina while humans could lose strength during missions.\\'], \\'delivery of goods\\': [\\'Robots can, for example, deliver goods in war zones, which would be dangerous for humans.\\'], \\'faster abolition\\': [\\'Rescue robots could shorten the path to doctors/hospitals and the abolition of injured people.\\'], \\'safety risks\\': [nan], \\'can be replaced\\': [\\'Robots can be replaced by other robots in case of loss\\'], \\'better search capabilities\\': [\\'Robots can search better in the dark and in smoke etc because they have numerous sensors\\'], \\'for danger\\': [\\'can be used in times of danger instead of humans\\'], \\'efficient reconnaissance work\\': [\\'Through algorithms, maps can be read and created more quickly\\'], \\'rescue efficient and\\': [nan], \\'higher utilization\\': [\\'the robots can be used continuously\\'], \\'faster access\\': [\\'easier access to dangerous place\\'], \\'error reduction\\': [nan], \\'simplification of difficult situations\\': [\\'Many rescue situations prove difficult for people to reach or to intervene, automation can clearly help here.\\'], \\'accessibility of special regions\\': [nan], \\'risk reduction for aid workers\\': [\\'Should people go into difficult areas, for example for avalanche rescue, they put themselves in danger\\'], \\'fire department support\\': [nan], \\'risk\\': [\\'In dangerous environments or situations, there is of course much less risk for the people\\'], \\'dispensable\\': [\\'the loss of a robot is less tragic than the loss of a human rescuer\\'], \\'immune\\': [\\'a robot is immune to many dangers that would be deadly for humans such as smoke gases, chemicals, temperatures\\'], \\'protects people\\': [\\'No human risks necessary\\'], \\'surpasses human rescuers\\': [\\'Can be used in situations where people cannot reach\\'], \\'low risk\\': [nan], \\'safety for rescue workers\\': [nan], \\'access to dangerous area\\': [nan], \\'no performance drop\\': [nan], \\'follows instructions precisely\\': [nan], \\'earthquake rescue\\': [nan], \\'lifting heavy weights\\': [nan], \\'risk minimization\\': [\\'Approximately during search actions in risky areas\\'], \\'precision in search\\': [nan], \\'More flexible than human\\': [\\'People cannot access some areas or cannot see whether people are still alive. For example, in an earthquake incident under the rubble.\\'], \\'Faster than human\\': [\\'In an earthquake, for example, recently in Turkey, the help arrived too late and this led to more loss. Robots would be more flexible and could be used faster, rather than gathering all people together and rushing to help.\\'], \\'Stronger than human\\': [\\'As already mentioned, many people lost their lives in the earthquake in Turkey, and this was because human strength was not enough at a certain point. For example, the walls that fell on people could not be lifted, which is why arms and legs had to be cut off. If the robot was there, it could show more strength and lift the wall.\\'], \\'speed\\': [\\'the robot can probably save faster than a human\\'], \\'accessibility of contaminated places\\': [\\'Poisonous gases, smoke, radiation etc. play no role\\'], \\'can be stronger\\': [nan], \\'can work long\\': [nan], \\'are physically superior\\': [\\'Strength, agility, mobility\\'], \\'are mentally superior\\': [\\'No trauma for rescuers\\'], \\'use in dangerous areas\\': [nan], \\'use in inaccessibility\\': [nan], \\'accuracy of work\\': [nan], \\'does not risk human lives\\': [nan]}\\n\\nList \"soft\": \\n{\\'lower risk of injury\\': [nan, \\'through soft robots\\', nan, \\'due to their softness\\', \\'With soft robots\\', nan, \\'Lower risk of injury due to the adaptability of the robot\\', nan], \\'flexible\\': [nan, nan, nan], \\'low risk of injury\\': [nan, nan, nan, \\'Due to the fact that a soft robot is not made of metal, but rather soft, the risk is lower.\\', nan, \\'In comparison to hard plastic/metal\\', nan, \\'with soft robots\\', \\'helping hand\\'], \\'safety\\': [\\'Soft material reduces risk of injury\\'], \\'robots are more efficient\\': [nan], \\'knowledge\\': [\\'You get the information from the internet and can capture and assign the data faster than humans.\\', nan], \\'less risk of injury\\': [nan, nan, nan], \\'reduction of injury risk\\': [nan, nan, \"compared to \\'soft\\' rescue robots; valid for hard rescue robots\", nan, nan], \\'delivery of supplies\\': [nan], \\'precise work\\': [nan], \\'food/water transport\\': [nan], \\'animal protection\\': [\\'Using a soft robot instead of an animal protects the animal from potentially harmful behavior by the owner.\\'], \\'reach the inaccessible\\': [nan], \\'reduce risk of injury\\': [nan], \\'reliable\\': [\\'is always ready\\'], \\'direct help\\': [\\'through water/food\\'], \\'reduced risk of injury\\': [\\'through soft materials\\', \\'the victim due to the organic construction method\\', nan, nan], \\'time savings in emergencies\\': [nan], \\'care of victims\\': [nan], \\'exploration\\': [\\'Assess the safety of the dangerous area\\'], \\'supply with food\\': [nan, nan], \\'adaptability\\': [nan], \\'few physical risks\\': [\\'e.g. through injuries\\'], \\'accessible tight spaces\\': [\\'Due to their flexibility, they can access narrow spaces that are not accessible to people.\\'], \\'decision-making options\\': [\\'in theory, a robot should be able to make a logical decision better than a human because emotions etc. cannot cloud a decision\\'], \\'injury prevention\\': [nan], \\'more people saved\\': [nan], \\'low risks\\': [\\'Soft robots pose only a low risk to the victims due to their flexibility.\\'], \\'life-threatening places\\': [nan], \\'vital help\\': [nan], \\'more flexible than humans\\': [nan], \\'fast\\': [\\'faster than a human to distribute aid supplies.\\'], \\'Adaptability\\': [nan], \\'camera images\\': [\\'To perform an image analysis in retrospect\\'], \\'human error susceptibility\\': [nan], \\'medication supply\\': [nan], \\'inaccessible areas\\': [nan]}', additional_kwargs={}, response_metadata={})]\n"
     ]
    }
   ],
   "source": [
    "from langchain_core.prompts import ChatPromptTemplate\n",
    "\n",
    "\n",
    "system_template = \"\"\"\n",
    "You are a researcher summarizing two word lists that represent people's assessments of rigid and soft robots, whereby laypersons were informed about the risks and benefits of {robots} through scenario texts.\n",
    "\n",
    "Participants shared their views on traditional rigid robots in a \"rigid\" list and on flexible, electronic-free soft robots in a \"soft\" list after learning about their respective risks and benefits. \n",
    "The overall theme is {topicCategory}.\n",
    "\n",
    "Both \"rigid\" and \"soft\" lists are dictionaries with argument keys and comment values. If [nan] appears, it means no comment was provided; repeated entries or [nan] values indicate that the argument was emphasized multiple times.\n",
    "\n",
    "Your task:\n",
    "Summarize the main points for each category into a JSON object. Fill the two arrays within the JSON object, \"rigid_arguments\" for the \"rigid\" list and \"soft_arguments\" for the \"soft\" list. \n",
    "Summarize the main points for each category in a JSON object. Populate the two arrays, \"rigid_arguments\" and \"soft_arguments,\" with up to five key arguments each. \n",
    "Include a brief, interrelated explanation (up to two sentences) for each argument, derived from the provided lists.\n",
    "\n",
    "\n",
    "Output Format:\n",
    "\n",
    "{{\n",
    "  \"assessments\": {{\n",
    "    \"rigid_arguments\": [\n",
    "      {{\n",
    "        \"argument\": \"argument1\",\n",
    "        \"explanation\": \"explanation of argument1\"\n",
    "      }},\n",
    "      {{\n",
    "        \"argument\": \"argument2\",\n",
    "        \"explanation\": \"explanation of argument2\"\n",
    "      }},\n",
    "      ...\n",
    "    ],\n",
    "    \"soft_arguments\": [\n",
    "      {{\n",
    "        \"argument\": \"argument1\",\n",
    "        \"explanation\": \"explanation of argument1\"\n",
    "      }},\n",
    "      {{\n",
    "        \"argument\": \"argument2\",\n",
    "        \"explanation\": \"explanation of argument2\"\n",
    "      }},\n",
    "      ...\n",
    "    ]\n",
    "  }}\n",
    "}}\n",
    "\n",
    "Please respond with the entire JSON structure as specified, providing up to five arguments for each list, and without any additional commentary or context.\n",
    "\"\"\"\n",
    "\n",
    "\n",
    "user_template = \"\"\"List \"rigid\": \n",
    "{rigid}\n",
    "\n",
    "List \"soft\": \n",
    "{soft}\"\"\"\n",
    "\n",
    "# rescue robots and socially assistive robots\n",
    "prompt_template = ChatPromptTemplate.from_messages(\n",
    "    [(\"system\", system_template), (\"user\", user_template)]\n",
    ")\n",
    "\n",
    "template_out = prompt_template.invoke({\"robots\": \"rescue robots and socially assistive robots\", \"topicCategory\": abbreviations_dict[sheet_name], \"rigid\": constant_comments_mapping, \"soft\": new_comments_mapping})\n",
    "print(template_out)\n",
    "\n",
    "print(\"template_out:\", template_out)\n",
    "print(\"template_out.to_messages():\", template_out.to_messages())"
   ]
  },
  {
   "cell_type": "markdown",
   "metadata": {},
   "source": [
    "### Single Run\n",
    "\n",
    "Function to call LLM:"
   ]
  },
  {
   "cell_type": "code",
   "execution_count": 25,
   "metadata": {},
   "outputs": [],
   "source": [
    "from langchain_openai import ChatOpenAI\n",
    "from langchain.callbacks import get_openai_callback\n",
    "\n",
    "def huggingface_API_call(\n",
    "    prompt,\n",
    "    \n",
    "    robots,\n",
    "    topicCategory,\n",
    "    dictonaryRigid,\n",
    "    dictonarySoft,\n",
    "    \n",
    "    api_key=key.hugging_api_key,\n",
    "\n",
    "    model_name=\"meta-llama/Meta-Llama-3-70B-Instruct\",\n",
    "    json_schema=None,\n",
    "    max_tokens=1000,\n",
    "    temperature=0.2,\n",
    "    verbose=True\n",
    "):\n",
    "\n",
    "    # Initialize the ChatOpenAI model for Hugging Face\n",
    "    model = ChatOpenAI(\n",
    "        model=model_name,\n",
    "        openai_api_key=api_key,\n",
    "        openai_api_base=\"https://api-inference.huggingface.co/v1/\",\n",
    "        max_tokens=max_tokens,\n",
    "        temperature=temperature\n",
    "    )\n",
    "\n",
    "    # Check if structured output is required and configure it\n",
    "    if json_schema:\n",
    "        structured_llm = model.with_structured_output(json_schema, include_raw=True)\n",
    "        chain = prompt | structured_llm\n",
    "    else:\n",
    "        chain = prompt | model\n",
    "\n",
    "    # Execute the model and output response details\n",
    "    with get_openai_callback() as cb:\n",
    "        response = chain.invoke(\n",
    "            {\"robots\": robots, \"topicCategory\": topicCategory, \"rigid\": dictonaryRigid, \"soft\": dictonarySoft}\n",
    "        )\n",
    "        \n",
    "        if cb.total_tokens > max_tokens:\n",
    "            print(\"Warning: The response may be incomplete due to exceeding the maximum token limit.\")\n",
    "        \n",
    "        if verbose:\n",
    "            print(cb)\n",
    "            print(f\"Total Tokens: {cb.total_tokens}\")\n",
    "            print(f\"Prompt Tokens: {cb.prompt_tokens}\")\n",
    "            print(f\"Completion Tokens: {cb.completion_tokens}\")\n",
    "            print(f\"Total Cost (USD): ${cb.total_cost}\")\n",
    "\n",
    "    return response"
   ]
  },
  {
   "cell_type": "code",
   "execution_count": 26,
   "metadata": {},
   "outputs": [
    {
     "name": "stdout",
     "output_type": "stream",
     "text": [
      "Warning: The response may be incomplete due to exceeding the maximum token limit.\n",
      "Tokens Used: 4429\n",
      "\tPrompt Tokens: 3949\n",
      "\tCompletion Tokens: 480\n",
      "Successful Requests: 1\n",
      "Total Cost (USD): $0.0\n",
      "Total Tokens: 4429\n",
      "Prompt Tokens: 3949\n",
      "Completion Tokens: 480\n",
      "Total Cost (USD): $0.0\n"
     ]
    }
   ],
   "source": [
    "response = huggingface_API_call(\n",
    "    prompt=prompt_template,\n",
    "    \n",
    "    robots=\"rescue robots and socially assistive robots\",\n",
    "    topicCategory=abbreviations_dict[sheet_name],\n",
    "    dictonaryRigid=constant_comments_mapping,\n",
    "    dictonarySoft=new_comments_mapping,\n",
    "    \n",
    "    api_key=key.hugging_api_key,\n",
    "    model_name=\"meta-llama/Meta-Llama-3-70B-Instruct\",\n",
    "\n",
    "    json_schema=None,\n",
    "    max_tokens=4000,\n",
    "    temperature=0.2,\n",
    "    verbose=True\n",
    ")"
   ]
  },
  {
   "cell_type": "markdown",
   "metadata": {},
   "source": [
    "result - structured JSON output:"
   ]
  },
  {
   "cell_type": "code",
   "execution_count": 27,
   "metadata": {},
   "outputs": [
    {
     "data": {
      "text/plain": [
       "AIMessage(content='Here is the JSON object summarizing the main points for each category:\\n\\n```\\n{\\n  \"assessments\": {\\n    \"rigid_arguments\": [\\n      {\\n        \"argument\": \"safety\",\\n        \"explanation\": \"Rigid robots can prevent people from having to work under difficult or dangerous conditions, increasing safety and reducing the risk of injury.\"\\n      },\\n      {\\n        \"argument\": \"efficiency\",\\n        \"explanation\": \"Rigid robots can work faster and more efficiently than humans, improving the speed and effectiveness of rescue operations.\"\\n      },\\n      {\\n        \"argument\": \"reliability\",\\n        \"explanation\": \"Rigid robots can be precisely controlled and are always ready to perform tasks, making them a reliable option for rescue operations.\"\\n      },\\n      {\\n        \"argument\": \"strength\",\\n        \"explanation\": \"Rigid robots can perform tasks that require strength, such as lifting debris, and can operate in environments that would be toxic to humans.\"\\n      },\\n      {\\n        \"argument\": \"accessibility\",\\n        \"explanation\": \"Rigid robots can access areas that are difficult or impossible for humans to reach, making them ideal for search and rescue operations.\"\\n      }\\n    ],\\n    \"soft_arguments\": [\\n      {\\n        \"argument\": \"lower risk of injury\",\\n        \"explanation\": \"Soft robots pose a lower risk of injury to victims due to their flexibility and softness, making them a safer option for rescue operations.\"\\n      },\\n      {\\n        \"argument\": \"flexibility\",\\n        \"explanation\": \"Soft robots are flexible and can adapt to different environments and situations, making them ideal for search and rescue operations.\"\\n      },\\n      {\\n        \"argument\": \"reduction of injury risk\",\\n        \"explanation\": \"Soft robots can reduce the risk of injury to victims and rescuers alike, making them a safer option for rescue operations.\"\\n      },\\n      {\\n        \"argument\": \"accessibility\",\\n        \"explanation\": \"Soft robots can access tight spaces and areas that are difficult or impossible for humans to reach, making them ideal for search and rescue operations.\"\\n      },\\n      {\\n        \"argument\": \"care of victims\",\\n        \"explanation\": \"Soft robots can provide direct help to victims, such as delivering food and water, and can provide care and support in emergency situations.\"\\n      }\\n    ]\\n  }\\n}\\n```', additional_kwargs={'refusal': None}, response_metadata={'token_usage': {'completion_tokens': 480, 'prompt_tokens': 3949, 'total_tokens': 4429, 'completion_tokens_details': None, 'prompt_tokens_details': None}, 'model_name': 'meta-llama/Meta-Llama-3-70B-Instruct', 'system_fingerprint': '2.3.1-dev0-sha-169178b', 'finish_reason': 'stop', 'logprobs': None}, id='run-72d2ee97-92b0-40c4-9426-1f26f5d8511b-0', usage_metadata={'input_tokens': 3949, 'output_tokens': 480, 'total_tokens': 4429, 'input_token_details': {}, 'output_token_details': {}})"
      ]
     },
     "execution_count": 27,
     "metadata": {},
     "output_type": "execute_result"
    }
   ],
   "source": [
    "response"
   ]
  },
  {
   "cell_type": "code",
   "execution_count": 28,
   "metadata": {},
   "outputs": [
    {
     "data": {
      "text/plain": [
       "'Here is the JSON object summarizing the main points for each category:\\n\\n```\\n{\\n  \"assessments\": {\\n    \"rigid_arguments\": [\\n      {\\n        \"argument\": \"safety\",\\n        \"explanation\": \"Rigid robots can prevent people from having to work under difficult or dangerous conditions, increasing safety and reducing the risk of injury.\"\\n      },\\n      {\\n        \"argument\": \"efficiency\",\\n        \"explanation\": \"Rigid robots can work faster and more efficiently than humans, improving the speed and effectiveness of rescue operations.\"\\n      },\\n      {\\n        \"argument\": \"reliability\",\\n        \"explanation\": \"Rigid robots can be precisely controlled and are always ready to perform tasks, making them a reliable option for rescue operations.\"\\n      },\\n      {\\n        \"argument\": \"strength\",\\n        \"explanation\": \"Rigid robots can perform tasks that require strength, such as lifting debris, and can operate in environments that would be toxic to humans.\"\\n      },\\n      {\\n        \"argument\": \"accessibility\",\\n        \"explanation\": \"Rigid robots can access areas that are difficult or impossible for humans to reach, making them ideal for search and rescue operations.\"\\n      }\\n    ],\\n    \"soft_arguments\": [\\n      {\\n        \"argument\": \"lower risk of injury\",\\n        \"explanation\": \"Soft robots pose a lower risk of injury to victims due to their flexibility and softness, making them a safer option for rescue operations.\"\\n      },\\n      {\\n        \"argument\": \"flexibility\",\\n        \"explanation\": \"Soft robots are flexible and can adapt to different environments and situations, making them ideal for search and rescue operations.\"\\n      },\\n      {\\n        \"argument\": \"reduction of injury risk\",\\n        \"explanation\": \"Soft robots can reduce the risk of injury to victims and rescuers alike, making them a safer option for rescue operations.\"\\n      },\\n      {\\n        \"argument\": \"accessibility\",\\n        \"explanation\": \"Soft robots can access tight spaces and areas that are difficult or impossible for humans to reach, making them ideal for search and rescue operations.\"\\n      },\\n      {\\n        \"argument\": \"care of victims\",\\n        \"explanation\": \"Soft robots can provide direct help to victims, such as delivering food and water, and can provide care and support in emergency situations.\"\\n      }\\n    ]\\n  }\\n}\\n```'"
      ]
     },
     "execution_count": 28,
     "metadata": {},
     "output_type": "execute_result"
    }
   ],
   "source": [
    "response.content"
   ]
  },
  {
   "cell_type": "code",
   "execution_count": 29,
   "metadata": {},
   "outputs": [
    {
     "name": "stdout",
     "output_type": "stream",
     "text": [
      "Valid JSON object after regex: {\n",
      "  \"assessments\": {\n",
      "    \"rigid_arguments\": [\n",
      "      {\n",
      "        \"argument\": \"safety\",\n",
      "        \"explanation\": \"Rigid robots can prevent people from having to work under difficult or dangerous conditions, increasing safety and reducing the risk of injury.\"\n",
      "      },\n",
      "      {\n",
      "        \"argument\": \"efficiency\",\n",
      "        \"explanation\": \"Rigid robots can work faster and more efficiently than humans, improving the speed and effectiveness of rescue operations.\"\n",
      "      },\n",
      "      {\n",
      "        \"argument\": \"reliability\",\n",
      "        \"explanation\": \"Rigid robots can be precisely controlled and are always ready to perform tasks, making them a reliable option for rescue operations.\"\n",
      "      },\n",
      "      {\n",
      "        \"argument\": \"strength\",\n",
      "        \"explanation\": \"Rigid robots can perform tasks that require strength, such as lifting debris, and can operate in environments that would be toxic to humans.\"\n",
      "      },\n",
      "      {\n",
      "        \"argument\": \"accessibility\",\n",
      "        \"explanation\": \"Rigid robots can access areas that are difficult or impossible for humans to reach, making them ideal for search and rescue operations.\"\n",
      "      }\n",
      "    ],\n",
      "    \"soft_arguments\": [\n",
      "      {\n",
      "        \"argument\": \"lower risk of injury\",\n",
      "        \"explanation\": \"Soft robots pose a lower risk of injury to victims due to their flexibility and softness, making them a safer option for rescue operations.\"\n",
      "      },\n",
      "      {\n",
      "        \"argument\": \"flexibility\",\n",
      "        \"explanation\": \"Soft robots are flexible and can adapt to different environments and situations, making them ideal for search and rescue operations.\"\n",
      "      },\n",
      "      {\n",
      "        \"argument\": \"reduction of injury risk\",\n",
      "        \"explanation\": \"Soft robots can reduce the risk of injury to victims and rescuers alike, making them a safer option for rescue operations.\"\n",
      "      },\n",
      "      {\n",
      "        \"argument\": \"accessibility\",\n",
      "        \"explanation\": \"Soft robots can access tight spaces and areas that are difficult or impossible for humans to reach, making them ideal for search and rescue operations.\"\n",
      "      },\n",
      "      {\n",
      "        \"argument\": \"care of victims\",\n",
      "        \"explanation\": \"Soft robots can provide direct help to victims, such as delivering food and water, and can provide care and support in emergency situations.\"\n",
      "      }\n",
      "    ]\n",
      "  }\n",
      "}\n"
     ]
    }
   ],
   "source": [
    "import json\n",
    "import re\n",
    "\n",
    "try:\n",
    "    # Attempt to parse the response directly as JSON\n",
    "    data = json.loads(response.content)\n",
    "    # print(\"Valid JSON object:\", json.dumps(data, indent=2))\n",
    "except json.JSONDecodeError:\n",
    "    # If not valid JSON, handle extraction using regex to match JSON block between triple backticks (```)\n",
    "    json_match = re.search(r'```(.*?)```', response.content, re.DOTALL)\n",
    "    # If JSON block is found, parse it\n",
    "    if json_match:\n",
    "        json_text = json_match.group(1).strip()  # Extract JSON text and strip whitespace\n",
    "        try:\n",
    "            data = json.loads(json_text)   # Parse JSON\n",
    "            print(\"Valid JSON object after regex:\", json.dumps(data, indent=2))\n",
    "        except json.JSONDecodeError as e:\n",
    "            print(\"Failed to parse JSON:\", e)\n",
    "    else:\n",
    "        print(\"No JSON object found.\")"
   ]
  },
  {
   "cell_type": "code",
   "execution_count": 30,
   "metadata": {},
   "outputs": [
    {
     "name": "stdout",
     "output_type": "stream",
     "text": [
      "    type                  argument  \\\n",
      "0  rigid                    safety   \n",
      "1  rigid                efficiency   \n",
      "2  rigid               reliability   \n",
      "3  rigid                  strength   \n",
      "4  rigid             accessibility   \n",
      "5   soft      lower risk of injury   \n",
      "6   soft               flexibility   \n",
      "7   soft  reduction of injury risk   \n",
      "8   soft             accessibility   \n",
      "9   soft           care of victims   \n",
      "\n",
      "                                         explanation category  \n",
      "0  Rigid robots can prevent people from having to...       SA  \n",
      "1  Rigid robots can work faster and more efficien...       SA  \n",
      "2  Rigid robots can be precisely controlled and a...       SA  \n",
      "3  Rigid robots can perform tasks that require st...       SA  \n",
      "4  Rigid robots can access areas that are difficu...       SA  \n",
      "5  Soft robots pose a lower risk of injury to vic...       SA  \n",
      "6  Soft robots are flexible and can adapt to diff...       SA  \n",
      "7  Soft robots can reduce the risk of injury to v...       SA  \n",
      "8  Soft robots can access tight spaces and areas ...       SA  \n",
      "9  Soft robots can provide direct help to victims...       SA  \n"
     ]
    }
   ],
   "source": [
    "# Extract rigid and soft arguments and format them into a DataFrame\n",
    "arguments = []\n",
    "for category, items in data['assessments'].items():\n",
    "    for item in items:\n",
    "        arguments.append({\n",
    "            'type': category.split('_')[0],  # Extracts 'rigid' or 'soft' from 'rigid_arguments'/'soft_arguments'\n",
    "            'argument': item['argument'],\n",
    "            'explanation': item['explanation']\n",
    "        })\n",
    "\n",
    "# Create DataFrame\n",
    "df = pd.DataFrame(arguments)\n",
    "\n",
    "df[\"category\"] = sheet_name\n",
    "\n",
    "# Display the DataFrame\n",
    "print(df)"
   ]
  },
  {
   "cell_type": "markdown",
   "metadata": {},
   "source": [
    "### Multiple Runs\n",
    "\n",
    "Higher order function to call LLM for all categories:"
   ]
  },
  {
   "cell_type": "code",
   "execution_count": 31,
   "metadata": {},
   "outputs": [],
   "source": [
    "import json\n",
    "import pandas as pd\n",
    "import re\n",
    "\n",
    "def process_robot_data(type_robot):\n",
    "    # Define naming based on type_robot\n",
    "    if type_robot == \"RR\":\n",
    "        all_sheets = all_sheets_RR\n",
    "        naming_robots = \"rescue robots\"\n",
    "    elif type_robot == \"SAR\":\n",
    "        all_sheets = all_sheets_SAR\n",
    "        naming_robots = \"socially assistive robots\"\n",
    "    elif type_robot == \"Combined\":\n",
    "        all_sheets = all_sheets_Combined\n",
    "        naming_robots = \"rescue robots and socially assistive robots\"\n",
    "    else:\n",
    "        raise ValueError(\"Invalid type_robot specified.\")\n",
    "\n",
    "    # Initialize an empty DataFrame for concatenation\n",
    "    final_df = pd.DataFrame()\n",
    "\n",
    "    for index, category in enumerate(abbreviations_dict.keys()):\n",
    "        print(f\"index: {index}, category: {category}\")\n",
    "\n",
    "        # Load the specific DataFrame for the current category\n",
    "        df = all_sheets[category]\n",
    "\n",
    "        # Generate constant and new comments mappings\n",
    "        constant_comments_mapping = create_multivalue_dict(df, 'constant', 'constant_comments')\n",
    "        new_comments_mapping = create_multivalue_dict(df, 'new', 'new_comments')\n",
    "\n",
    "        # Call API with specified parameters\n",
    "        response = huggingface_API_call(\n",
    "            prompt=prompt_template,\n",
    "            robots=naming_robots,\n",
    "            topicCategory=abbreviations_dict[category],\n",
    "            dictonaryRigid=constant_comments_mapping,\n",
    "            dictonarySoft=new_comments_mapping,\n",
    "            api_key=key.hugging_api_key,\n",
    "            model_name=\"meta-llama/Meta-Llama-3-70B-Instruct\",\n",
    "            json_schema=None,\n",
    "            max_tokens=4200,\n",
    "            temperature=0.0,\n",
    "            verbose=False\n",
    "        )\n",
    "        \n",
    "        # print(\"response.content:\\n\", response.content)\n",
    "        #  data = json.loads(response.content)\n",
    "        # Regular expression to match JSON block between triple backticks (```)\n",
    "        try:\n",
    "            # Attempt to parse the response directly as JSON\n",
    "            data = json.loads(response.content)\n",
    "            # print(\"Valid JSON object:\", json.dumps(data, indent=2))\n",
    "        except json.JSONDecodeError:\n",
    "            # If not valid JSON, handle extraction using regex to match JSON block between triple backticks (```)\n",
    "            json_match = re.search(r'```(.*?)```', response.content, re.DOTALL)\n",
    "            # If JSON block is found, parse it\n",
    "            if json_match:\n",
    "                json_text = json_match.group(1).strip()  # Extract JSON text and strip whitespace\n",
    "                try:\n",
    "                    data = json.loads(json_text)   # Parse JSON\n",
    "                    # print(\"Valid JSON object after regex:\", json.dumps(data, indent=2))\n",
    "                except json.JSONDecodeError as e:\n",
    "                    print(\"Failed to parse JSON:\", e)\n",
    "                    # break # !!!\n",
    "            else:\n",
    "                print(\"No JSON object found.\")\n",
    "                # break # !!!\n",
    "\n",
    "        # Extract arguments and format them into a temporary DataFrame\n",
    "        arguments = []\n",
    "        for arg_category, items in data['assessments'].items():\n",
    "            for item in items:\n",
    "                arguments.append({\n",
    "                    'type': arg_category.split('_')[0],\n",
    "                    'argument': item['argument'],\n",
    "                    'explanation': item['explanation']\n",
    "                })\n",
    "\n",
    "        df_tmp = pd.DataFrame(arguments)\n",
    "        df_tmp[\"category\"] = category\n",
    "        \n",
    "        print(f\"length of df_tmp: {len(df_tmp)}\")\n",
    "\n",
    "        # Concatenate the current DataFrame to the final DataFrame\n",
    "        final_df = pd.concat([final_df, df_tmp], ignore_index=True)\n",
    "\n",
    "    return final_df"
   ]
  },
  {
   "cell_type": "markdown",
   "metadata": {},
   "source": [
    "logic if process_robot_data() should be run:"
   ]
  },
  {
   "cell_type": "code",
   "execution_count": 32,
   "metadata": {},
   "outputs": [],
   "source": [
    "run_process_robot_data = False # True"
   ]
  },
  {
   "cell_type": "markdown",
   "metadata": {},
   "source": [
    "for rescue robots:"
   ]
  },
  {
   "cell_type": "code",
   "execution_count": 33,
   "metadata": {},
   "outputs": [],
   "source": [
    "# Path to your Excel file\n",
    "file_path = directory + \"/output/G2/\" + \"rescue robots\" + \".xlsx\"\n",
    "\n",
    "if run_process_robot_data:\n",
    "    df_RR = process_robot_data(type_robot=\"RR\")\n",
    "    # save the dataframe to an Excel file\n",
    "    df_RR.to_excel(file_path, index=False)\n",
    "else:\n",
    "    df_RR = pd.read_excel(file_path)"
   ]
  },
  {
   "cell_type": "markdown",
   "metadata": {},
   "source": [
    "for socially assistive robots:"
   ]
  },
  {
   "cell_type": "code",
   "execution_count": 34,
   "metadata": {},
   "outputs": [],
   "source": [
    "# Path to your Excel file\n",
    "file_path = directory + \"/output/G2/\" + \"socially assistive robots\" + \".xlsx\"\n",
    "    \n",
    "if run_process_robot_data:\n",
    "    df_SAR = process_robot_data(type_robot=\"SAR\")\n",
    "    # save the dataframe to an Excel file\n",
    "    df_SAR.to_excel(file_path, index=False)\n",
    "else:\n",
    "    df_SAR = pd.read_excel(file_path)"
   ]
  },
  {
   "cell_type": "markdown",
   "metadata": {},
   "source": [
    "for rescue robots and socially assistive robots:"
   ]
  },
  {
   "cell_type": "code",
   "execution_count": 35,
   "metadata": {},
   "outputs": [],
   "source": [
    "# Path to your Excel file\n",
    "file_path = directory + \"/output/G2/\" + \"rescue robots AND socially assistive robots\" + \".xlsx\"\n",
    "\n",
    "if run_process_robot_data:\n",
    "    df_Combined = process_robot_data(type_robot=\"Combined\")\n",
    "    # save the dataframe to an Excel file\n",
    "    df_Combined.to_excel(file_path, index=False)\n",
    "else:\n",
    "    df_Combined = pd.read_excel(file_path)"
   ]
  },
  {
   "cell_type": "markdown",
   "metadata": {},
   "source": [
    "### Summarize Generated Data for A, B graph (G2)"
   ]
  },
  {
   "cell_type": "code",
   "execution_count": 36,
   "metadata": {},
   "outputs": [],
   "source": [
    "tmp_rigid = df_RR[(df_RR[\"category\"] == \"TP\") & (df_RR[\"type\"] == \"rigid\")]\n",
    "tmp_soft = df_RR[(df_RR[\"category\"] == \"TP\") & (df_RR[\"type\"] == \"soft\")]\n",
    "\n",
    "tmp_string_rigid = 'Arguments for \"rigid\" robots:'\n",
    "for index, row in tmp_rigid.iterrows():\n",
    "    tmp_string_rigid += \" \\n \" + row[\"argument\"]\n",
    "    tmp_string_rigid += \": \" + row[\"explanation\"]\n",
    "    \n",
    "tmp_string_soft = 'Arguments for \"soft\" robots:'\n",
    "for index, row in tmp_soft.iterrows():\n",
    "    tmp_string_soft += \" \\n \" + row[\"argument\"]\n",
    "    tmp_string_soft += \": \" + row[\"explanation\"]"
   ]
  },
  {
   "cell_type": "code",
   "execution_count": 37,
   "metadata": {},
   "outputs": [
    {
     "data": {
      "text/plain": [
       "'Arguments for \"rigid\" robots: \\n new places: Rigid robots can search in places where people cannot reach, such as underwater caves or narrow openings. \\n resilience: Rigid robots can withstand adverse conditions, making them more effective in disaster areas. \\n special abilities: Rigid robots can perform special tasks like flying, hacking doors, or sending images to the control center with cameras. \\n environment-independent: Rigid robots can operate in various environments, including air, water, and ground, and can withstand toxic or narrow environments. \\n more power: Rigid robots can have more strength than humans, allowing them to perform tasks that require heavy lifting or drilling.'"
      ]
     },
     "execution_count": 37,
     "metadata": {},
     "output_type": "execute_result"
    }
   ],
   "source": [
    "tmp_string_rigid"
   ]
  },
  {
   "cell_type": "code",
   "execution_count": 38,
   "metadata": {},
   "outputs": [
    {
     "data": {
      "text/plain": [
       "'Arguments for \"soft\" robots: \\n deliver supplies: Soft robots can deliver essential goods like food, water, and medicine to victims in hard-to-reach areas. \\n accessible: Soft robots can reach inaccessible places due to their small size and high flexibility, allowing them to supply victims with vital resources. \\n care for victims: Soft robots can provide care for victims during the rescue operation, such as delivering food and medicine. \\n adaptability: Soft robots can adapt to complex problems and changing situations, making them effective in disaster areas. \\n temporary supply: Soft robots can provide temporary supply of vital resources to victims until human rescuers arrive.'"
      ]
     },
     "execution_count": 38,
     "metadata": {},
     "output_type": "execute_result"
    }
   ],
   "source": [
    "tmp_string_soft"
   ]
  },
  {
   "cell_type": "markdown",
   "metadata": {},
   "source": [
    "Prompt to get summary (focus on overlapping, diverging arguments) for A, B graph regarding single categories:"
   ]
  },
  {
   "cell_type": "code",
   "execution_count": 39,
   "metadata": {},
   "outputs": [
    {
     "name": "stdout",
     "output_type": "stream",
     "text": [
      "messages=[SystemMessage(content='\\nYou are a researcher summarizing central arguments and their explenations of people\\'s assessments of rigid and soft robots, \\nwhereby laypersons were informed about the risks and benefits of rescue robots through scenario texts.\\n\\nParticipants shared their central arguments and explenations on traditional rigid robots in arguments for \"rigid\" robots \\nand on flexible, electronic-free soft robots in arguments for \"soft\" robots.\\n\\nThe overall theme of these arguments is perceived technological possibilities.\\n\\nYour task:\\n\\nWrite a paragraph highlighting the commonalities of the arguments for rigid and soft robots followed by a brief discussion of the main differences, \\nfocusing stronger on the arguments for soft robots. \\n\\nThe paragraph should be limited to four sentences. Provide only the paragraph without any additional commentary or context.\\n', additional_kwargs={}, response_metadata={}), HumanMessage(content='arguments for \"rigid\" robots: \\nArguments for \"rigid\" robots: \\n new places: Rigid robots can search in places where people cannot reach, such as underwater caves or narrow openings. \\n resilience: Rigid robots can withstand adverse conditions, making them more effective in disaster areas. \\n special abilities: Rigid robots can perform special tasks like flying, hacking doors, or sending images to the control center with cameras. \\n environment-independent: Rigid robots can operate in various environments, including air, water, and ground, and can withstand toxic or narrow environments. \\n more power: Rigid robots can have more strength than humans, allowing them to perform tasks that require heavy lifting or drilling.\\n\\narguments for \"soft\" robots: \\nArguments for \"soft\" robots: \\n deliver supplies: Soft robots can deliver essential goods like food, water, and medicine to victims in hard-to-reach areas. \\n accessible: Soft robots can reach inaccessible places due to their small size and high flexibility, allowing them to supply victims with vital resources. \\n care for victims: Soft robots can provide care for victims during the rescue operation, such as delivering food and medicine. \\n adaptability: Soft robots can adapt to complex problems and changing situations, making them effective in disaster areas. \\n temporary supply: Soft robots can provide temporary supply of vital resources to victims until human rescuers arrive.', additional_kwargs={}, response_metadata={})]\n",
      "template_out: messages=[SystemMessage(content='\\nYou are a researcher summarizing central arguments and their explenations of people\\'s assessments of rigid and soft robots, \\nwhereby laypersons were informed about the risks and benefits of rescue robots through scenario texts.\\n\\nParticipants shared their central arguments and explenations on traditional rigid robots in arguments for \"rigid\" robots \\nand on flexible, electronic-free soft robots in arguments for \"soft\" robots.\\n\\nThe overall theme of these arguments is perceived technological possibilities.\\n\\nYour task:\\n\\nWrite a paragraph highlighting the commonalities of the arguments for rigid and soft robots followed by a brief discussion of the main differences, \\nfocusing stronger on the arguments for soft robots. \\n\\nThe paragraph should be limited to four sentences. Provide only the paragraph without any additional commentary or context.\\n', additional_kwargs={}, response_metadata={}), HumanMessage(content='arguments for \"rigid\" robots: \\nArguments for \"rigid\" robots: \\n new places: Rigid robots can search in places where people cannot reach, such as underwater caves or narrow openings. \\n resilience: Rigid robots can withstand adverse conditions, making them more effective in disaster areas. \\n special abilities: Rigid robots can perform special tasks like flying, hacking doors, or sending images to the control center with cameras. \\n environment-independent: Rigid robots can operate in various environments, including air, water, and ground, and can withstand toxic or narrow environments. \\n more power: Rigid robots can have more strength than humans, allowing them to perform tasks that require heavy lifting or drilling.\\n\\narguments for \"soft\" robots: \\nArguments for \"soft\" robots: \\n deliver supplies: Soft robots can deliver essential goods like food, water, and medicine to victims in hard-to-reach areas. \\n accessible: Soft robots can reach inaccessible places due to their small size and high flexibility, allowing them to supply victims with vital resources. \\n care for victims: Soft robots can provide care for victims during the rescue operation, such as delivering food and medicine. \\n adaptability: Soft robots can adapt to complex problems and changing situations, making them effective in disaster areas. \\n temporary supply: Soft robots can provide temporary supply of vital resources to victims until human rescuers arrive.', additional_kwargs={}, response_metadata={})]\n",
      "template_out.to_messages(): [SystemMessage(content='\\nYou are a researcher summarizing central arguments and their explenations of people\\'s assessments of rigid and soft robots, \\nwhereby laypersons were informed about the risks and benefits of rescue robots through scenario texts.\\n\\nParticipants shared their central arguments and explenations on traditional rigid robots in arguments for \"rigid\" robots \\nand on flexible, electronic-free soft robots in arguments for \"soft\" robots.\\n\\nThe overall theme of these arguments is perceived technological possibilities.\\n\\nYour task:\\n\\nWrite a paragraph highlighting the commonalities of the arguments for rigid and soft robots followed by a brief discussion of the main differences, \\nfocusing stronger on the arguments for soft robots. \\n\\nThe paragraph should be limited to four sentences. Provide only the paragraph without any additional commentary or context.\\n', additional_kwargs={}, response_metadata={}), HumanMessage(content='arguments for \"rigid\" robots: \\nArguments for \"rigid\" robots: \\n new places: Rigid robots can search in places where people cannot reach, such as underwater caves or narrow openings. \\n resilience: Rigid robots can withstand adverse conditions, making them more effective in disaster areas. \\n special abilities: Rigid robots can perform special tasks like flying, hacking doors, or sending images to the control center with cameras. \\n environment-independent: Rigid robots can operate in various environments, including air, water, and ground, and can withstand toxic or narrow environments. \\n more power: Rigid robots can have more strength than humans, allowing them to perform tasks that require heavy lifting or drilling.\\n\\narguments for \"soft\" robots: \\nArguments for \"soft\" robots: \\n deliver supplies: Soft robots can deliver essential goods like food, water, and medicine to victims in hard-to-reach areas. \\n accessible: Soft robots can reach inaccessible places due to their small size and high flexibility, allowing them to supply victims with vital resources. \\n care for victims: Soft robots can provide care for victims during the rescue operation, such as delivering food and medicine. \\n adaptability: Soft robots can adapt to complex problems and changing situations, making them effective in disaster areas. \\n temporary supply: Soft robots can provide temporary supply of vital resources to victims until human rescuers arrive.', additional_kwargs={}, response_metadata={})]\n"
     ]
    }
   ],
   "source": [
    "from langchain_core.prompts import ChatPromptTemplate\n",
    "\n",
    "\n",
    "system_template = \"\"\"\n",
    "You are a researcher summarizing central arguments and their explenations of people's assessments of rigid and soft robots, \n",
    "whereby laypersons were informed about the risks and benefits of {robots} through scenario texts.\n",
    "\n",
    "Participants shared their central arguments and explenations on traditional rigid robots in arguments for \"rigid\" robots \n",
    "and on flexible, electronic-free soft robots in arguments for \"soft\" robots.\n",
    "\n",
    "The overall theme of these arguments is {topicCategory}.\n",
    "\n",
    "Your task:\n",
    "\n",
    "Write a paragraph highlighting the commonalities of the arguments for rigid and soft robots followed by a brief discussion of the main differences, \n",
    "focusing stronger on the arguments for soft robots. \n",
    "\n",
    "The paragraph should be limited to four sentences. Provide only the paragraph without any additional commentary or context.\n",
    "\"\"\"\n",
    "\n",
    "\n",
    "user_template = \"\"\"arguments for \"rigid\" robots: \n",
    "{rigid}\n",
    "\n",
    "arguments for \"soft\" robots: \n",
    "{soft}\"\"\"\n",
    "\n",
    "# rescue robots and socially assistive robots\n",
    "prompt_template = ChatPromptTemplate.from_messages(\n",
    "    [(\"system\", system_template), (\"user\", user_template)]\n",
    ")\n",
    "\n",
    "template_out = prompt_template.invoke({\"robots\": \"rescue robots\", \"topicCategory\": abbreviations_dict[\"TP\"], \"rigid\": tmp_string_rigid, \"soft\": tmp_string_soft})\n",
    "print(template_out)\n",
    "\n",
    "print(\"template_out:\", template_out)\n",
    "print(\"template_out.to_messages():\", template_out.to_messages())"
   ]
  },
  {
   "cell_type": "markdown",
   "metadata": {},
   "source": [
    "#### Single Run\n",
    "\n",
    "Function to call LLM:"
   ]
  },
  {
   "cell_type": "code",
   "execution_count": 40,
   "metadata": {},
   "outputs": [
    {
     "name": "stdout",
     "output_type": "stream",
     "text": [
      "Tokens Used: 560\n",
      "\tPrompt Tokens: 444\n",
      "\tCompletion Tokens: 116\n",
      "Successful Requests: 1\n",
      "Total Cost (USD): $0.0\n",
      "Total Tokens: 560\n",
      "Prompt Tokens: 444\n",
      "Completion Tokens: 116\n",
      "Total Cost (USD): $0.0\n"
     ]
    }
   ],
   "source": [
    "response = huggingface_API_call(\n",
    "    prompt=prompt_template,\n",
    "    \n",
    "    robots=\"rescue robots\",\n",
    "    topicCategory=abbreviations_dict[\"TP\"],\n",
    "    dictonaryRigid=tmp_string_rigid,\n",
    "    dictonarySoft=tmp_string_soft,\n",
    "    \n",
    "    api_key=key.hugging_api_key,\n",
    "    model_name=\"meta-llama/Meta-Llama-3-70B-Instruct\",\n",
    "\n",
    "    json_schema=None,\n",
    "    max_tokens=4000,\n",
    "    temperature=0.2,\n",
    "    verbose=True\n",
    ")"
   ]
  },
  {
   "cell_type": "code",
   "execution_count": 41,
   "metadata": {},
   "outputs": [
    {
     "data": {
      "text/plain": [
       "AIMessage(content='The arguments for both rigid and soft robots share a common focus on their perceived technological possibilities, highlighting their potential to access and operate in challenging environments, and provide essential resources and care to victims. Both types of robots are seen as capable of reaching inaccessible areas and performing tasks that humans cannot. However, the arguments for soft robots emphasize their adaptability, flexibility, and ability to provide care and temporary supply of vital resources, whereas rigid robots are seen as more powerful and resilient. Overall, the arguments for soft robots paint a picture of a more nuanced and supportive role in rescue operations.', additional_kwargs={'refusal': None}, response_metadata={'token_usage': {'completion_tokens': 116, 'prompt_tokens': 444, 'total_tokens': 560, 'completion_tokens_details': None, 'prompt_tokens_details': None}, 'model_name': 'meta-llama/Meta-Llama-3-70B-Instruct', 'system_fingerprint': '2.3.1-dev0-sha-169178b', 'finish_reason': 'stop', 'logprobs': None}, id='run-1815e6a1-a331-4ecb-bdde-0d98954af59b-0', usage_metadata={'input_tokens': 444, 'output_tokens': 116, 'total_tokens': 560, 'input_token_details': {}, 'output_token_details': {}})"
      ]
     },
     "execution_count": 41,
     "metadata": {},
     "output_type": "execute_result"
    }
   ],
   "source": [
    "response"
   ]
  },
  {
   "cell_type": "code",
   "execution_count": 42,
   "metadata": {},
   "outputs": [
    {
     "data": {
      "text/plain": [
       "'The arguments for both rigid and soft robots share a common focus on their perceived technological possibilities, highlighting their potential to access and operate in challenging environments, and provide essential resources and care to victims. Both types of robots are seen as capable of reaching inaccessible areas and performing tasks that humans cannot. However, the arguments for soft robots emphasize their adaptability, flexibility, and ability to provide care and temporary supply of vital resources, whereas rigid robots are seen as more powerful and resilient. Overall, the arguments for soft robots paint a picture of a more nuanced and supportive role in rescue operations.'"
      ]
     },
     "execution_count": 42,
     "metadata": {},
     "output_type": "execute_result"
    }
   ],
   "source": [
    "response.content"
   ]
  },
  {
   "cell_type": "markdown",
   "metadata": {},
   "source": [
    "### Multiple Runs\n",
    "\n",
    "Higher order function to call LLM for all categories:"
   ]
  },
  {
   "cell_type": "code",
   "execution_count": 43,
   "metadata": {},
   "outputs": [],
   "source": [
    "import pandas as pd\n",
    "\n",
    "def summarize_processed_robot_data(type_robot):\n",
    "    # Define naming based on type_robot\n",
    "    if type_robot == \"RR\":\n",
    "        tmp_df = df_RR\n",
    "        naming_robots = \"rescue robots\"\n",
    "    elif type_robot == \"SAR\":\n",
    "        tmp_df = df_SAR\n",
    "        naming_robots = \"socially assistive robots\"\n",
    "    elif type_robot == \"Combined\":\n",
    "        tmp_df = df_Combined\n",
    "        naming_robots = \"rescue robots and socially assistive robots\"\n",
    "    else:\n",
    "        raise ValueError(\"Invalid type_robot specified.\")\n",
    "\n",
    "\n",
    "    # Initialize an empty DataFrame for concatenation\n",
    "    data_array = []\n",
    "    \n",
    "    for index, category in enumerate(abbreviations_dict.keys()):\n",
    "        print(f\"index: {index}, category: {category}\")\n",
    "\n",
    "        # Load the specific DataFrame for the current category\n",
    "        tmp_rigid = tmp_df[(tmp_df[\"category\"] == category) & (tmp_df[\"type\"] == \"rigid\")]\n",
    "        tmp_soft = tmp_df[(tmp_df[\"category\"] == category) & (tmp_df[\"type\"] == \"soft\")]\n",
    "        \n",
    "        tmp_string_rigid = 'Arguments for \"rigid\" robots:'\n",
    "        for index, row in tmp_rigid.iterrows():\n",
    "            tmp_string_rigid += \" \\n \" + row[\"argument\"]\n",
    "            tmp_string_rigid += \": \" + row[\"explanation\"]\n",
    "\n",
    "        tmp_string_soft = 'Arguments for \"soft\" robots:'\n",
    "        for index, row in tmp_soft.iterrows():\n",
    "            tmp_string_soft += \" \\n \" + row[\"argument\"]\n",
    "            tmp_string_soft += \": \" + row[\"explanation\"]\n",
    "        \n",
    "        \n",
    "        # Call API with specified parameters\n",
    "        response = huggingface_API_call(\n",
    "            prompt=prompt_template,\n",
    "            \n",
    "            robots=naming_robots,\n",
    "            topicCategory=abbreviations_dict[category],\n",
    "            dictonaryRigid=tmp_string_rigid,\n",
    "            dictonarySoft=tmp_string_soft,\n",
    "            \n",
    "            api_key=key.hugging_api_key,\n",
    "            model_name=\"meta-llama/Meta-Llama-3-70B-Instruct\",\n",
    "\n",
    "            json_schema=None,\n",
    "            max_tokens=4200,\n",
    "            temperature=0.0,\n",
    "            verbose=False\n",
    "        )\n",
    "        \n",
    "        data_array.append({'category': category, 'summary':response.content})\n",
    "\n",
    "    final_df = pd.DataFrame(data_array)\n",
    "    return final_df"
   ]
  },
  {
   "cell_type": "code",
   "execution_count": 44,
   "metadata": {},
   "outputs": [],
   "source": [
    "run_summary_processed_robot_data = False # True"
   ]
  },
  {
   "cell_type": "markdown",
   "metadata": {},
   "source": [
    "for rescue robots - summary:"
   ]
  },
  {
   "cell_type": "code",
   "execution_count": 45,
   "metadata": {},
   "outputs": [],
   "source": [
    "# Path to your Excel file\n",
    "file_path = directory + \"/output/G2/\" + \"rescue robots summary\" + \".xlsx\"\n",
    "\n",
    "if run_summary_processed_robot_data:\n",
    "    df_RR_summary = summarize_processed_robot_data(type_robot=\"RR\")\n",
    "    # save the dataframe to an Excel file\n",
    "    df_RR_summary.to_excel(file_path, index=False)\n",
    "else:\n",
    "    df_RR_summary = pd.read_excel(file_path)"
   ]
  },
  {
   "cell_type": "markdown",
   "metadata": {},
   "source": [
    "for socially assistive robots - summary:"
   ]
  },
  {
   "cell_type": "code",
   "execution_count": 46,
   "metadata": {},
   "outputs": [],
   "source": [
    "# Path to your Excel file\n",
    "file_path = directory + \"/output/G2/\" + \"socially assistive robots summary\" + \".xlsx\"\n",
    "    \n",
    "if run_summary_processed_robot_data:\n",
    "    df_SAR_summary = summarize_processed_robot_data(type_robot=\"SAR\")\n",
    "    # save the dataframe to an Excel file\n",
    "    df_SAR_summary.to_excel(file_path, index=False)\n",
    "else:\n",
    "    df_SAR_summary = pd.read_excel(file_path)"
   ]
  },
  {
   "cell_type": "markdown",
   "metadata": {},
   "source": [
    "## Data for Category Specific Graph (G3)\n",
    "\n",
    "All the loaded files are originally from the following GitHub page: https://github.com/PerttuHamalainen/LLMCode"
   ]
  },
  {
   "cell_type": "code",
   "execution_count": 47,
   "metadata": {},
   "outputs": [],
   "source": [
    "import os\n",
    "import sys\n",
    "\n",
    "# Assuming 'src' is one level down (in the current directory or a subdirectory)\n",
    "path_to_src = os.path.join('src/LLMCode')  # Moves one level down to 'src' folder\n",
    "\n",
    "# Add the path to sys.path\n",
    "sys.path.append(path_to_src)\n",
    "\n",
    "# Now you can import your modules\n",
    "#import llms as LLMCode_LLMS\n",
    "#import coding as LLMCode_coding\n",
    "\n",
    "import src.LLMCode as LLMCode"
   ]
  },
  {
   "cell_type": "markdown",
   "metadata": {},
   "source": [
    "load openAI key into environment:"
   ]
  },
  {
   "cell_type": "code",
   "execution_count": 48,
   "metadata": {},
   "outputs": [],
   "source": [
    "import os\n",
    "\n",
    "os.environ[\"OPENAI_API_KEY\"] = key.openAI_key"
   ]
  },
  {
   "cell_type": "markdown",
   "metadata": {},
   "source": [
    "initalize LLM:"
   ]
  },
  {
   "cell_type": "code",
   "execution_count": 49,
   "metadata": {},
   "outputs": [],
   "source": [
    "LLMCode.init(API=\"OpenAI\")"
   ]
  },
  {
   "cell_type": "markdown",
   "metadata": {},
   "source": [
    "## Single Run\n",
    "\n",
    "### prepare data"
   ]
  },
  {
   "cell_type": "code",
   "execution_count": 50,
   "metadata": {},
   "outputs": [
    {
     "name": "stdout",
     "output_type": "stream",
     "text": [
      "sheet_name: SA\n",
      "mapping constant x comments: {'safety': ['Prevents people from having to work under difficult or dangerous conditions to increase safety.', 'Enables deployment in difficult situations where human rescuers would put themselves in danger', nan, nan, nan, 'through reliability', 'No people are being put in danger'], 'remote control': ['Can be operated by experts via remote control or autonomous systems to perform operations from a safe distance.', nan, nan, nan, nan, 'Minimizes risks associated with autonomy'], 'speed and efficiency': ['Robots can often act faster than humans and increase the speed of emergency interventions', 'Improvement of speed and efficiency of rescue operations', nan], 'safe': ['People do not have to put themselves in dangerous situations'], 'reliable': ['Can be precisely controlled', nan, nan, nan, nan], 'no people necessary': [nan], 'stronger than humans': [nan, 'In many situations, e.g. when clearing rubble, a great advantage.', nan, nan], 'faster than humans': [nan, nan], 'precise handling': [nan], 'reliability': [nan, 'Machines can accomplish their tasks reliably and reproducibly (provided they are well programmed and built)', nan, nan, nan], 'protection of rescue forces': ['for example in contamination scenarios', 'Reduced deployment of human rescue forces in dangerous situations', nan, 'human rescuers do not have to put themselves in danger'], 'in danger zones': [nan], 'toxic places': ['Places where people can only breathe with special equipment (gas mask)'], 'no distraction': [nan], 'by injuries': [nan], 'consistent': [nan], 'consistent performance': [nan], 'more strong': [nan], 'without basic need': ['Water, sleep, food etc.'], 'faster intervention': [nan], 'area of application': ['Can be used in areas too dangerous for humans', 'Can be used in areas that are too dangerous for humans.'], 'reaching hard-to-access places': ['Robots and drones are small and agile. Therefore, they can reach places that are difficult or even dangerous for humans to reach.'], 'discover dangerous areas': [nan], 'quick processing': [nan], 'care of people': [nan], 'perform operations': ['disease'], 'enter dangerous situation': [nan], 'less risk': [nan, 'Specifically less risk to further human lives, as rescue teams can use robots'], 'efficiency in search': [nan], 'no fatigue': [nan, 'Unlike human rescuers, robots do not tire even during long operations'], 'cover dangerous areas': ['even where it is dangerous for humans, a robot can go there'], 'precision & accuracy': [nan], 'use in dangerous situations': ['Rescue robots can be used in dangerous situations where humans are exposed to too high a risk.'], 'can act quickly': ['Robots can intervene quickly, as they do not need to be dressed or prepared and are autonomous', 'The robots can act faster than a human in an emergency.'], 'No exhaustion': [nan], 'Range': ['Robots, again just the drone can rescue victims faster in difficult terrain or bring help, e.g. medicine, food'], 'accessibility of inaccessible places': [nan], 'improved approach': [nan], 'precise work': [nan], 'rescue of people': [nan], 'deployment possibility': ['Also possible under dangerous conditions'], 'replaceable': ['In case of loss, no human sacrifice', 'During operations, unlike human rescuers, there is no need to pay attention to the safety of the robots, as they can be easily replaced.'], 'unrestricted access': ['Robots can operate in environments that would be toxic to humans, e.g. areas contaminated with radiation.'], 'sparing human life': ['If robots are used instead of human rescuers, the lives and health of the rescuers do not have to be put at risk.'], 'reduced risk': ['By using robots, no human forces are exposed to dangerous situations'], 'precision': [nan], 'more targeted help': [nan], 'saves lives': ['For example, when human helpers are not available, a rescue robot can still save human lives.', 'send a robot into a danger zone instead of a human', nan], 'protects aid workers': ['Since employees are not unnecessarily exposed to dangers, strictly speaking, this also saves their lives.'], 'fewer mistakes': [nan], 'overall more productive': [nan], 'greater accuracy': [nan], 'usable in emergencies': ['To inspect debris more accurately'], 'protection of rescue personnel': [nan], 'accessibility of places': ['Accessibility difficult to reach'], 'increased efficiency': [nan], 'faster recovery': ['One could send robots into the fire without danger to human lives, etc, to combat the cause more quickly.'], 'weather independent': ['Even in storms etc., perhaps an option for critical tasks'], 'safety for emergency personnel': [nan], 'strength (power)': ['for example, for lifting debris parts'], 'quick action': [nan], 'no danger': ['For human rescue forces in action', 'No human doctor etc. needs to enter the operating area and thus it is significantly safer and therefore protects human lives.'], 'efficiency': [nan, 'Robots could be more capable in disaster cases than human helpers.', nan, 'Robots are not limited to human speed, vision, and perception in general.', nan, 'both equally fast work, more productive way of working as well as improved access to danger zones', nan], 'access to areas': ['Access to areas difficult or only reachable through considerable dangers for people'], 'vital objects': ['Victims receive vitally important things, such as water, food, and medicine'], 'rescue forces safety': ['Emergency services can avoid dangers if, for example, pictures of the location were taken by robots.'], 'more/ easier access': ['Robots can create (easier) access to places where it would otherwise be more difficult.'], 'reduce number of victims': ['Robots could make rescue operations more efficient and faster, potentially saving more victims.'], 'no life endangered': [nan], 'can save lives': [nan, nan], 'not emotionally driven': [nan], 'focused': [nan], 'exclusion of human error': [nan], 'flexible': ['The robot could operate in dangerous areas and is therefore not limited.'], 'stronger than human': ['Specially equipped machines could help trapped victims quicker and more efficiently.'], 'chances of success': ['A reliable and error-free rescue robot could therefore save people faster and more than a human.'], 'accuracy of execution': [nan], 'enter dangerous areas': [nan], 'do not get distracted': ['Rescue robots follow their programming and can focus better on the rescue without being influenced by emotions.'], 'speed / agility': [nan], 'real-time data': [nan], 'strength': [nan, 'the robot can, for example, move objects that a human could not move'], 'simplified access': [nan], 'quick help': [nan, nan, nan], 'risk-free rescue': ['From the side of the rescuers, who do not have to put themselves in danger'], 'better CPR': [nan], 'life-threatening places': ['The possibility of entering dangerous places that people do not dare to approach, such as wreck parts, battlefields, etc.'], 'efficient': [nan, nan, nan], 'reach dangerous places': [nan], 'do not get tired': [nan, nan], 'cannot die': [nan], '\"small\" operations': ['Especially good for smaller operations and possibly the transport'], 'toxic environment': [nan], 'safer for humans': [nan, nan], 'dexterity': ['Often higher skill than human rescuers'], 'responsiveness': ['Robots have a significantly higher reaction capability than human rescuers'], 'Accuracy of rescue robots': ['this way human errors can be reduced'], 'quality/precision': [nan], 'quantity': ['more rescue operations or more people saved possible'], 'fewer deaths': [nan], 'faster operation': [nan], 'accuracy': [nan, nan], 'faster help': ['Since the risk to life is lower, rescue workers can send a robot before a complete analysis of the problem area is available.'], 'stronger': ['Robots might potentially be able to move things that humans would have great difficulty with.'], '24/7 readiness': [nan], 'access to hard-to-reach places': [nan], 'human safety': [nan], 'useful addition': ['To human rescuers.'], '\"dare\" more': ['can also be used in war zones, only material loss through explosives'], 'eyes and ears': ['for the rescue forces from a safe distance'], 'less danger': ['for human rescue forces', nan, nan], 'dangerous areas': [nan, nan], 'endurance': [nan], 'performance': [nan], 'rescue and safety': [nan], 'danger': ['less human danger'], 'no rescuer endangered': [nan], 'access': ['access to areas where people cannot reach'], 'rational efficiency': ['No suicidal experiments in rescue'], 'quick deployment': [nan, nan], 'no exhaustion': [nan], 'save many people': [nan], 'not tired': [nan], 'more human rescue': [nan], 'easier finding': ['Through their sensors like thermal imaging, the robots can better find people.'], 'do not lose strength': ['Robots do not lose stamina while humans could lose strength during missions.'], 'delivery of goods': ['Robots can, for example, deliver goods in war zones, which would be dangerous for humans.'], 'faster abolition': ['Rescue robots could shorten the path to doctors/hospitals and the abolition of injured people.'], 'safety risks': [nan], 'can be replaced': ['Robots can be replaced by other robots in case of loss'], 'better search capabilities': ['Robots can search better in the dark and in smoke etc because they have numerous sensors'], 'for danger': ['can be used in times of danger instead of humans'], 'efficient reconnaissance work': ['Through algorithms, maps can be read and created more quickly'], 'rescue efficient and': [nan], 'faster access': ['easier access to dangerous place'], 'error reduction': [nan], 'simplification of difficult situations': ['Many rescue situations prove difficult for people to reach or to intervene, automation can clearly help here.'], 'accessibility of special regions': [nan], 'risk reduction for aid workers': ['Should people go into difficult areas, for example for avalanche rescue, they put themselves in danger'], 'fire department support': [nan], 'risk': ['In dangerous environments or situations, there is of course much less risk for the people'], 'dispensable': ['the loss of a robot is less tragic than the loss of a human rescuer'], 'immune': ['a robot is immune to many dangers that would be deadly for humans such as smoke gases, chemicals, temperatures'], 'protects people': ['No human risks necessary'], 'surpasses human rescuers': ['Can be used in situations where people cannot reach'], 'low risk': [nan], 'safety for rescue workers': [nan], 'access to dangerous area': [nan], 'no performance drop': [nan], 'follows instructions precisely': [nan], 'earthquake rescue': [nan], 'lifting heavy weights': [nan], 'risk minimization': ['Approximately during search actions in risky areas'], 'precision in search': [nan], 'More flexible than human': ['People cannot access some areas or cannot see whether people are still alive. For example, in an earthquake incident under the rubble.'], 'Faster than human': ['In an earthquake, for example, recently in Turkey, the help arrived too late and this led to more loss. Robots would be more flexible and could be used faster, rather than gathering all people together and rushing to help.'], 'Stronger than human': ['As already mentioned, many people lost their lives in the earthquake in Turkey, and this was because human strength was not enough at a certain point. For example, the walls that fell on people could not be lifted, which is why arms and legs had to be cut off. If the robot was there, it could show more strength and lift the wall.'], 'speed': ['the robot can probably save faster than a human'], 'accessibility of contaminated places': ['Poisonous gases, smoke, radiation etc. play no role'], 'can be stronger': [nan], 'can work long': [nan], 'are physically superior': ['Strength, agility, mobility'], 'are mentally superior': ['No trauma for rescuers'], 'use in dangerous areas': [nan], 'use in inaccessibility': [nan], 'accuracy of work': [nan], 'does not risk human lives': [nan]}\n",
      "167\n",
      "mapping new x comments: {'flexible': [nan, nan, nan], 'less risk of injury': [nan, nan], 'reduction of injury risk': [nan, nan, \"compared to 'soft' rescue robots; valid for hard rescue robots\", nan, nan], 'delivery of supplies': [nan], 'precise work': [nan], 'food/water transport': [nan], 'reach the inaccessible': [nan], 'reduce risk of injury': [nan], 'direct help': ['through water/food'], 'time savings in emergencies': [nan], 'lower risk of injury': ['Lower risk of injury due to the adaptability of the robot'], 'care of victims': [nan], 'exploration': ['Assess the safety of the dangerous area'], 'supply with food': [nan, nan], 'adaptability': [nan], 'accessible tight spaces': ['Due to their flexibility, they can access narrow spaces that are not accessible to people.'], 'reduced risk of injury': ['the victim due to the organic construction method', nan, nan], 'injury prevention': [nan], 'more people saved': [nan], 'low risk of injury': ['helping hand'], 'low risks': ['Soft robots pose only a low risk to the victims due to their flexibility.'], 'life-threatening places': [nan], 'vital help': [nan], 'more flexible than humans': [nan], 'fast': ['faster than a human to distribute aid supplies.'], 'Adaptability': [nan], 'camera images': ['To perform an image analysis in retrospect'], 'human error susceptibility': [nan], 'medication supply': [nan], 'inaccessible areas': [nan]}\n",
      "30\n",
      "mapping deleted x comments: {'precise work possible': [nan], 'higher precision': [nan], 'safety': [nan], 'efficiency': [nan], 'save more people': [nan]}\n",
      "5\n"
     ]
    }
   ],
   "source": [
    "print(\"sheet_name:\", sheet_name)\n",
    "\n",
    "# Remove rows with NaN in the key columns as they cannot be used as dictionary keys\n",
    "#> not sensitive to multiple identical keys: dict(zip(df['constant'], df['constant_comments']))\n",
    "df = all_sheets_RR[sheet_name]\n",
    "\n",
    "constant_comments_mapping = create_multivalue_dict(df, 'constant', 'constant_comments')\n",
    "print(\"mapping constant x comments:\", constant_comments_mapping)\n",
    "print(len(constant_comments_mapping))\n",
    "\n",
    "new_comments_mapping = create_multivalue_dict(df, 'new', 'new_comments')\n",
    "print(\"mapping new x comments:\", new_comments_mapping)\n",
    "print(len(new_comments_mapping))\n",
    "\n",
    "deleted_comments_mapping = create_multivalue_dict(df, 'deleted', 'deleted_comments')\n",
    "print(\"mapping deleted x comments:\", deleted_comments_mapping)\n",
    "print(len(deleted_comments_mapping))"
   ]
  },
  {
   "cell_type": "code",
   "execution_count": 51,
   "metadata": {},
   "outputs": [
    {
     "name": "stdout",
     "output_type": "stream",
     "text": [
      "mapping constant, new x comments: {'safety': ['Prevents people from having to work under difficult or dangerous conditions to increase safety.', 'Enables deployment in difficult situations where human rescuers would put themselves in danger', nan, nan, nan, 'through reliability', 'No people are being put in danger'], 'remote control': ['Can be operated by experts via remote control or autonomous systems to perform operations from a safe distance.', nan, nan, nan, nan, 'Minimizes risks associated with autonomy'], 'speed and efficiency': ['Robots can often act faster than humans and increase the speed of emergency interventions', 'Improvement of speed and efficiency of rescue operations', nan], 'safe': ['People do not have to put themselves in dangerous situations'], 'reliable': ['Can be precisely controlled', nan, nan, nan, nan], 'no people necessary': [nan], 'stronger than humans': [nan, 'In many situations, e.g. when clearing rubble, a great advantage.', nan, nan], 'faster than humans': [nan, nan], 'precise handling': [nan], 'reliability': [nan, 'Machines can accomplish their tasks reliably and reproducibly (provided they are well programmed and built)', nan, nan, nan], 'protection of rescue forces': ['for example in contamination scenarios', 'Reduced deployment of human rescue forces in dangerous situations', nan, 'human rescuers do not have to put themselves in danger'], 'in danger zones': [nan], 'toxic places': ['Places where people can only breathe with special equipment (gas mask)'], 'no distraction': [nan], 'by injuries': [nan], 'consistent': [nan], 'consistent performance': [nan], 'more strong': [nan], 'without basic need': ['Water, sleep, food etc.'], 'faster intervention': [nan], 'area of application': ['Can be used in areas too dangerous for humans', 'Can be used in areas that are too dangerous for humans.'], 'reaching hard-to-access places': ['Robots and drones are small and agile. Therefore, they can reach places that are difficult or even dangerous for humans to reach.'], 'discover dangerous areas': [nan], 'quick processing': [nan], 'care of people': [nan], 'perform operations': ['disease'], 'enter dangerous situation': [nan], 'less risk': [nan, 'Specifically less risk to further human lives, as rescue teams can use robots'], 'efficiency in search': [nan], 'no fatigue': [nan, 'Unlike human rescuers, robots do not tire even during long operations'], 'cover dangerous areas': ['even where it is dangerous for humans, a robot can go there'], 'precision & accuracy': [nan], 'use in dangerous situations': ['Rescue robots can be used in dangerous situations where humans are exposed to too high a risk.'], 'can act quickly': ['Robots can intervene quickly, as they do not need to be dressed or prepared and are autonomous', 'The robots can act faster than a human in an emergency.'], 'No exhaustion': [nan], 'Range': ['Robots, again just the drone can rescue victims faster in difficult terrain or bring help, e.g. medicine, food'], 'accessibility of inaccessible places': [nan], 'improved approach': [nan], 'precise work': [nan, nan], 'rescue of people': [nan], 'deployment possibility': ['Also possible under dangerous conditions'], 'replaceable': ['In case of loss, no human sacrifice', 'During operations, unlike human rescuers, there is no need to pay attention to the safety of the robots, as they can be easily replaced.'], 'unrestricted access': ['Robots can operate in environments that would be toxic to humans, e.g. areas contaminated with radiation.'], 'sparing human life': ['If robots are used instead of human rescuers, the lives and health of the rescuers do not have to be put at risk.'], 'reduced risk': ['By using robots, no human forces are exposed to dangerous situations'], 'precision': [nan], 'more targeted help': [nan], 'saves lives': ['For example, when human helpers are not available, a rescue robot can still save human lives.', 'send a robot into a danger zone instead of a human', nan], 'protects aid workers': ['Since employees are not unnecessarily exposed to dangers, strictly speaking, this also saves their lives.'], 'fewer mistakes': [nan], 'overall more productive': [nan], 'greater accuracy': [nan], 'usable in emergencies': ['To inspect debris more accurately'], 'protection of rescue personnel': [nan], 'accessibility of places': ['Accessibility difficult to reach'], 'increased efficiency': [nan], 'faster recovery': ['One could send robots into the fire without danger to human lives, etc, to combat the cause more quickly.'], 'weather independent': ['Even in storms etc., perhaps an option for critical tasks'], 'safety for emergency personnel': [nan], 'strength (power)': ['for example, for lifting debris parts'], 'quick action': [nan], 'no danger': ['For human rescue forces in action', 'No human doctor etc. needs to enter the operating area and thus it is significantly safer and therefore protects human lives.'], 'efficiency': [nan, 'Robots could be more capable in disaster cases than human helpers.', nan, 'Robots are not limited to human speed, vision, and perception in general.', nan, 'both equally fast work, more productive way of working as well as improved access to danger zones', nan], 'access to areas': ['Access to areas difficult or only reachable through considerable dangers for people'], 'vital objects': ['Victims receive vitally important things, such as water, food, and medicine'], 'rescue forces safety': ['Emergency services can avoid dangers if, for example, pictures of the location were taken by robots.'], 'more/ easier access': ['Robots can create (easier) access to places where it would otherwise be more difficult.'], 'reduce number of victims': ['Robots could make rescue operations more efficient and faster, potentially saving more victims.'], 'no life endangered': [nan], 'can save lives': [nan, nan], 'not emotionally driven': [nan], 'focused': [nan], 'exclusion of human error': [nan], 'flexible': ['The robot could operate in dangerous areas and is therefore not limited.', nan, nan, nan], 'stronger than human': ['Specially equipped machines could help trapped victims quicker and more efficiently.'], 'chances of success': ['A reliable and error-free rescue robot could therefore save people faster and more than a human.'], 'accuracy of execution': [nan], 'enter dangerous areas': [nan], 'do not get distracted': ['Rescue robots follow their programming and can focus better on the rescue without being influenced by emotions.'], 'speed / agility': [nan], 'real-time data': [nan], 'strength': [nan, 'the robot can, for example, move objects that a human could not move'], 'simplified access': [nan], 'quick help': [nan, nan, nan], 'risk-free rescue': ['From the side of the rescuers, who do not have to put themselves in danger'], 'better CPR': [nan], 'life-threatening places': ['The possibility of entering dangerous places that people do not dare to approach, such as wreck parts, battlefields, etc.', nan], 'efficient': [nan, nan, nan], 'reach dangerous places': [nan], 'do not get tired': [nan, nan], 'cannot die': [nan], '\"small\" operations': ['Especially good for smaller operations and possibly the transport'], 'toxic environment': [nan], 'safer for humans': [nan, nan], 'dexterity': ['Often higher skill than human rescuers'], 'responsiveness': ['Robots have a significantly higher reaction capability than human rescuers'], 'Accuracy of rescue robots': ['this way human errors can be reduced'], 'quality/precision': [nan], 'quantity': ['more rescue operations or more people saved possible'], 'fewer deaths': [nan], 'faster operation': [nan], 'accuracy': [nan, nan], 'faster help': ['Since the risk to life is lower, rescue workers can send a robot before a complete analysis of the problem area is available.'], 'stronger': ['Robots might potentially be able to move things that humans would have great difficulty with.'], '24/7 readiness': [nan], 'access to hard-to-reach places': [nan], 'human safety': [nan], 'useful addition': ['To human rescuers.'], '\"dare\" more': ['can also be used in war zones, only material loss through explosives'], 'eyes and ears': ['for the rescue forces from a safe distance'], 'less danger': ['for human rescue forces', nan, nan], 'dangerous areas': [nan, nan], 'endurance': [nan], 'performance': [nan], 'rescue and safety': [nan], 'danger': ['less human danger'], 'no rescuer endangered': [nan], 'access': ['access to areas where people cannot reach'], 'rational efficiency': ['No suicidal experiments in rescue'], 'quick deployment': [nan, nan], 'no exhaustion': [nan], 'save many people': [nan], 'not tired': [nan], 'more human rescue': [nan], 'easier finding': ['Through their sensors like thermal imaging, the robots can better find people.'], 'do not lose strength': ['Robots do not lose stamina while humans could lose strength during missions.'], 'delivery of goods': ['Robots can, for example, deliver goods in war zones, which would be dangerous for humans.'], 'faster abolition': ['Rescue robots could shorten the path to doctors/hospitals and the abolition of injured people.'], 'safety risks': [nan], 'can be replaced': ['Robots can be replaced by other robots in case of loss'], 'better search capabilities': ['Robots can search better in the dark and in smoke etc because they have numerous sensors'], 'for danger': ['can be used in times of danger instead of humans'], 'efficient reconnaissance work': ['Through algorithms, maps can be read and created more quickly'], 'rescue efficient and': [nan], 'faster access': ['easier access to dangerous place'], 'error reduction': [nan], 'simplification of difficult situations': ['Many rescue situations prove difficult for people to reach or to intervene, automation can clearly help here.'], 'accessibility of special regions': [nan], 'risk reduction for aid workers': ['Should people go into difficult areas, for example for avalanche rescue, they put themselves in danger'], 'fire department support': [nan], 'risk': ['In dangerous environments or situations, there is of course much less risk for the people'], 'dispensable': ['the loss of a robot is less tragic than the loss of a human rescuer'], 'immune': ['a robot is immune to many dangers that would be deadly for humans such as smoke gases, chemicals, temperatures'], 'protects people': ['No human risks necessary'], 'surpasses human rescuers': ['Can be used in situations where people cannot reach'], 'low risk': [nan], 'safety for rescue workers': [nan], 'access to dangerous area': [nan], 'no performance drop': [nan], 'follows instructions precisely': [nan], 'earthquake rescue': [nan], 'lifting heavy weights': [nan], 'risk minimization': ['Approximately during search actions in risky areas'], 'precision in search': [nan], 'More flexible than human': ['People cannot access some areas or cannot see whether people are still alive. For example, in an earthquake incident under the rubble.'], 'Faster than human': ['In an earthquake, for example, recently in Turkey, the help arrived too late and this led to more loss. Robots would be more flexible and could be used faster, rather than gathering all people together and rushing to help.'], 'Stronger than human': ['As already mentioned, many people lost their lives in the earthquake in Turkey, and this was because human strength was not enough at a certain point. For example, the walls that fell on people could not be lifted, which is why arms and legs had to be cut off. If the robot was there, it could show more strength and lift the wall.'], 'speed': ['the robot can probably save faster than a human'], 'accessibility of contaminated places': ['Poisonous gases, smoke, radiation etc. play no role'], 'can be stronger': [nan], 'can work long': [nan], 'are physically superior': ['Strength, agility, mobility'], 'are mentally superior': ['No trauma for rescuers'], 'use in dangerous areas': [nan], 'use in inaccessibility': [nan], 'accuracy of work': [nan], 'does not risk human lives': [nan], 'less risk of injury': [nan, nan], 'reduction of injury risk': [nan, nan, \"compared to 'soft' rescue robots; valid for hard rescue robots\", nan, nan], 'delivery of supplies': [nan], 'food/water transport': [nan], 'reach the inaccessible': [nan], 'reduce risk of injury': [nan], 'direct help': ['through water/food'], 'time savings in emergencies': [nan], 'lower risk of injury': ['Lower risk of injury due to the adaptability of the robot'], 'care of victims': [nan], 'exploration': ['Assess the safety of the dangerous area'], 'supply with food': [nan, nan], 'adaptability': [nan], 'accessible tight spaces': ['Due to their flexibility, they can access narrow spaces that are not accessible to people.'], 'reduced risk of injury': ['the victim due to the organic construction method', nan, nan], 'injury prevention': [nan], 'more people saved': [nan], 'low risk of injury': ['helping hand'], 'low risks': ['Soft robots pose only a low risk to the victims due to their flexibility.'], 'vital help': [nan], 'more flexible than humans': [nan], 'fast': ['faster than a human to distribute aid supplies.'], 'Adaptability': [nan], 'camera images': ['To perform an image analysis in retrospect'], 'human error susceptibility': [nan], 'medication supply': [nan], 'inaccessible areas': [nan]}\n",
      "194\n"
     ]
    }
   ],
   "source": [
    "constant_new_comments_mapping = combine_dicts(constant_comments_mapping, new_comments_mapping)\n",
    "print(\"mapping constant, new x comments:\", constant_new_comments_mapping)\n",
    "print(len(constant_new_comments_mapping))\n"
   ]
  },
  {
   "cell_type": "code",
   "execution_count": 52,
   "metadata": {},
   "outputs": [
    {
     "name": "stdout",
     "output_type": "stream",
     "text": [
      "262\n",
      "209\n"
     ]
    }
   ],
   "source": [
    "# Sample dictionary with NaN values\n",
    "dictionary = constant_new_comments_mapping\n",
    "\n",
    "# Initialize the list to store single concepts\n",
    "single_concepts = []\n",
    "\n",
    "# Iterate through the dictionary\n",
    "for key, values in dictionary.items():\n",
    "    for value in values:\n",
    "        # Check if the value is not NaN\n",
    "        if isinstance(value, str):\n",
    "            single_concepts.append(f\"{key}: {value}\")\n",
    "        else:\n",
    "            single_concepts.append(key)\n",
    "\n",
    "# Print the result\n",
    "print(len(single_concepts))\n",
    "\n",
    "\n",
    "# Filter unique entries with more than one word\n",
    "single_concepts_unique = list({entry for entry in single_concepts if len(entry.split()) > 1})\n",
    "\n",
    "# Print the result\n",
    "print(len(single_concepts_unique))"
   ]
  },
  {
   "cell_type": "code",
   "execution_count": 53,
   "metadata": {},
   "outputs": [
    {
     "name": "stdout",
     "output_type": "stream",
     "text": [
      "['dispensable: the loss of a robot is less tragic than the loss of a human rescuer', 'injury prevention', 'reduce risk of injury', 'deployment possibility: Also possible under dangerous conditions', 'responsiveness: Robots have a significantly higher reaction capability than human rescuers', 'less risk', 'precise handling', 'accessible tight spaces: Due to their flexibility, they can access narrow spaces that are not accessible to people.', 'enter dangerous areas', 'use in dangerous areas', 'strength (power): for example, for lifting debris parts', 'weather independent: Even in storms etc., perhaps an option for critical tasks', 'sparing human life: If robots are used instead of human rescuers, the lives and health of the rescuers do not have to be put at risk.', 'stronger than humans', 'More flexible than human: People cannot access some areas or cannot see whether people are still alive. For example, in an earthquake incident under the rubble.', 'life-threatening places: The possibility of entering dangerous places that people do not dare to approach, such as wreck parts, battlefields, etc.', 'access to areas: Access to areas difficult or only reachable through considerable dangers for people', 'immune: a robot is immune to many dangers that would be deadly for humans such as smoke gases, chemicals, temperatures', 'use in inaccessibility', 'Range: Robots, again just the drone can rescue victims faster in difficult terrain or bring help, e.g. medicine, food', 'safety: Enables deployment in difficult situations where human rescuers would put themselves in danger', 'no exhaustion', 'low risk', 'reduced risk of injury: the victim due to the organic construction method', 'perform operations: disease', 'Faster than human: In an earthquake, for example, recently in Turkey, the help arrived too late and this led to more loss. Robots would be more flexible and could be used faster, rather than gathering all people together and rushing to help.', 'exclusion of human error', 'dexterity: Often higher skill than human rescuers', 'care of victims', 'no distraction', 'simplified access', 'reach the inaccessible', 'reliability: Machines can accomplish their tasks reliably and reproducibly (provided they are well programmed and built)', 'safety: Prevents people from having to work under difficult or dangerous conditions to increase safety.', 'are mentally superior: No trauma for rescuers', 'quick action', 'no performance drop', 'safety for emergency personnel', 'food/water transport', 'no fatigue: Unlike human rescuers, robots do not tire even during long operations', 'rescue efficient and', 'earthquake rescue', 'faster help: Since the risk to life is lower, rescue workers can send a robot before a complete analysis of the problem area is available.', 'protects people: No human risks necessary', 'reliable: Can be precisely controlled', 'area of application: Can be used in areas too dangerous for humans', '\"dare\" more: can also be used in war zones, only material loss through explosives', 'access to hard-to-reach places', 'flexible: The robot could operate in dangerous areas and is therefore not limited.', 'rescue forces safety: Emergency services can avoid dangers if, for example, pictures of the location were taken by robots.', 'discover dangerous areas', 'not tired', 'risk: In dangerous environments or situations, there is of course much less risk for the people', 'vital help', 'surpasses human rescuers: Can be used in situations where people cannot reach', 'precision & accuracy', 'accessibility of places: Accessibility difficult to reach', 'direct help: through water/food', 'less risk: Specifically less risk to further human lives, as rescue teams can use robots', 'reach dangerous places', 'protection of rescue personnel', 'accessibility of inaccessible places', 'saves lives: For example, when human helpers are not available, a rescue robot can still save human lives.', 'safety: No people are being put in danger', 'stronger than human: Specially equipped machines could help trapped victims quicker and more efficiently.', 'toxic environment', 'no danger: For human rescue forces in action', 'chances of success: A reliable and error-free rescue robot could therefore save people faster and more than a human.', 'efficiency: both equally fast work, more productive way of working as well as improved access to danger zones', 'efficiency in search', 'No exhaustion', 'more targeted help', 'better search capabilities: Robots can search better in the dark and in smoke etc because they have numerous sensors', 'overall more productive', 'greater accuracy', 'save many people', 'lower risk of injury: Lower risk of injury due to the adaptability of the robot', 'care of people', 'less danger', 'efficiency: Robots are not limited to human speed, vision, and perception in general.', 'real-time data', 'do not get tired', 'Accuracy of rescue robots: this way human errors can be reduced', 'better CPR', 'rational efficiency: No suicidal experiments in rescue', 'fewer deaths', 'useful addition: To human rescuers.', 'can act quickly: Robots can intervene quickly, as they do not need to be dressed or prepared and are autonomous', 'accessibility of special regions', 'precise work', 'remote control', 'accuracy of work', 'risk reduction for aid workers: Should people go into difficult areas, for example for avalanche rescue, they put themselves in danger', 'quick processing', 'strength: the robot can, for example, move objects that a human could not move', 'eyes and ears: for the rescue forces from a safe distance', 'do not lose strength: Robots do not lose stamina while humans could lose strength during missions.', 'by injuries', 'reduction of injury risk', 'medication supply', 'safer for humans', 'enter dangerous situation', 'safety: through reliability', 'no rescuer endangered', 'no fatigue', 'cover dangerous areas: even where it is dangerous for humans, a robot can go there', 'vital objects: Victims receive vitally important things, such as water, food, and medicine', 'can work long', 'speed and efficiency: Improvement of speed and efficiency of rescue operations', 'more human rescue', 'low risks: Soft robots pose only a low risk to the victims due to their flexibility.', 'precision in search', 'risk-free rescue: From the side of the rescuers, who do not have to put themselves in danger', 'fewer mistakes', 'remote control: Can be operated by experts via remote control or autonomous systems to perform operations from a safe distance.', 'exploration: Assess the safety of the dangerous area', 'protection of rescue forces', 'speed / agility', 'faster than humans', 'rescue and safety', 'delivery of goods: Robots can, for example, deliver goods in war zones, which would be dangerous for humans.', 'without basic need: Water, sleep, food etc.', 'supply with food', 'inaccessible areas', '\"small\" operations: Especially good for smaller operations and possibly the transport', 'replaceable: In case of loss, no human sacrifice', '24/7 readiness', 'reduce number of victims: Robots could make rescue operations more efficient and faster, potentially saving more victims.', 'lifting heavy weights', 'can save lives', 'cannot die', 'access: access to areas where people cannot reach', 'simplification of difficult situations: Many rescue situations prove difficult for people to reach or to intervene, automation can clearly help here.', 'can act quickly: The robots can act faster than a human in an emergency.', 'in danger zones', 'consistent performance', 'safety for rescue workers', 'fire department support', 'not emotionally driven', 'error reduction', 'area of application: Can be used in areas that are too dangerous for humans.', 'follows instructions precisely', 'life-threatening places', 'replaceable: During operations, unlike human rescuers, there is no need to pay attention to the safety of the robots, as they can be easily replaced.', \"reduction of injury risk: compared to 'soft' rescue robots; valid for hard rescue robots\", 'usable in emergencies: To inspect debris more accurately', 'human error susceptibility', 'reduced risk: By using robots, no human forces are exposed to dangerous situations', 'no life endangered', 'toxic places: Places where people can only breathe with special equipment (gas mask)', 'low risk of injury: helping hand', 'easier finding: Through their sensors like thermal imaging, the robots can better find people.', 'less risk of injury', 'remote control: Minimizes risks associated with autonomy', 'speed and efficiency', 'speed and efficiency: Robots can often act faster than humans and increase the speed of emergency interventions', 'safe: People do not have to put themselves in dangerous situations', 'efficient reconnaissance work: Through algorithms, maps can be read and created more quickly', 'are physically superior: Strength, agility, mobility', 'reaching hard-to-access places: Robots and drones are small and agile. Therefore, they can reach places that are difficult or even dangerous for humans to reach.', 'quantity: more rescue operations or more people saved possible', 'use in dangerous situations: Rescue robots can be used in dangerous situations where humans are exposed to too high a risk.', 'Stronger than human: As already mentioned, many people lost their lives in the earthquake in Turkey, and this was because human strength was not enough at a certain point. For example, the walls that fell on people could not be lifted, which is why arms and legs had to be cut off. If the robot was there, it could show more strength and lift the wall.', 'stronger than humans: In many situations, e.g. when clearing rubble, a great advantage.', 'improved approach', 'faster intervention', 'access to dangerous area', 'speed: the robot can probably save faster than a human', 'efficiency: Robots could be more capable in disaster cases than human helpers.', 'protection of rescue forces: human rescuers do not have to put themselves in danger', 'saves lives: send a robot into a danger zone instead of a human', 'faster recovery: One could send robots into the fire without danger to human lives, etc, to combat the cause more quickly.', 'reduced risk of injury', 'camera images: To perform an image analysis in retrospect', 'delivery of supplies', 'can be stronger', 'time savings in emergencies', 'accessibility of contaminated places: Poisonous gases, smoke, radiation etc. play no role', 'fast: faster than a human to distribute aid supplies.', 'stronger: Robots might potentially be able to move things that humans would have great difficulty with.', 'can be replaced: Robots can be replaced by other robots in case of loss', 'less danger: for human rescue forces', 'protection of rescue forces: Reduced deployment of human rescue forces in dangerous situations', 'no people necessary', 'saves lives', 'more flexible than humans', 'increased efficiency', 'does not risk human lives', 'accuracy of execution', 'rescue of people', 'more strong', 'more people saved', 'danger: less human danger', 'unrestricted access: Robots can operate in environments that would be toxic to humans, e.g. areas contaminated with radiation.', 'risk minimization: Approximately during search actions in risky areas', 'protects aid workers: Since employees are not unnecessarily exposed to dangers, strictly speaking, this also saves their lives.', 'protection of rescue forces: for example in contamination scenarios', 'dangerous areas', 'faster operation', 'faster access: easier access to dangerous place', 'no danger: No human doctor etc. needs to enter the operating area and thus it is significantly safer and therefore protects human lives.', 'do not get distracted: Rescue robots follow their programming and can focus better on the rescue without being influenced by emotions.', 'quick help', 'safety risks', 'human safety', 'more/ easier access: Robots can create (easier) access to places where it would otherwise be more difficult.', 'for danger: can be used in times of danger instead of humans', 'faster abolition: Rescue robots could shorten the path to doctors/hospitals and the abolition of injured people.', 'quick deployment']\n"
     ]
    }
   ],
   "source": [
    "print(single_concepts_unique)"
   ]
  },
  {
   "cell_type": "code",
   "execution_count": 54,
   "metadata": {},
   "outputs": [
    {
     "name": "stdout",
     "output_type": "stream",
     "text": [
      "262\n",
      "20\n"
     ]
    }
   ],
   "source": [
    "import random\n",
    "\n",
    "print(len(single_concepts))\n",
    "\n",
    "# Draw 30 random entries (if the list has less than 30 entries, it will return the entire list)\n",
    "single_concepts = random.sample(single_concepts_unique, min(20, len(single_concepts_unique)))\n",
    "\n",
    "print(len(single_concepts))"
   ]
  },
  {
   "cell_type": "code",
   "execution_count": 55,
   "metadata": {},
   "outputs": [
    {
     "data": {
      "text/plain": [
       "['food/water transport',\n",
       " 'reliable: Can be precisely controlled',\n",
       " 'unrestricted access: Robots can operate in environments that would be toxic to humans, e.g. areas contaminated with radiation.',\n",
       " 'greater accuracy',\n",
       " 'quick help',\n",
       " 'do not get tired',\n",
       " 'fire department support',\n",
       " 'responsiveness: Robots have a significantly higher reaction capability than human rescuers',\n",
       " 'dispensable: the loss of a robot is less tragic than the loss of a human rescuer',\n",
       " 'less danger: for human rescue forces',\n",
       " 'earthquake rescue',\n",
       " 'toxic places: Places where people can only breathe with special equipment (gas mask)',\n",
       " 'life-threatening places',\n",
       " 'protection of rescue forces: for example in contamination scenarios',\n",
       " 'do not lose strength: Robots do not lose stamina while humans could lose strength during missions.',\n",
       " 'fewer deaths',\n",
       " 'protection of rescue forces: Reduced deployment of human rescue forces in dangerous situations',\n",
       " 'sparing human life: If robots are used instead of human rescuers, the lives and health of the rescuers do not have to be put at risk.',\n",
       " 'rescue efficient and',\n",
       " 'are physically superior: Strength, agility, mobility']"
      ]
     },
     "execution_count": 55,
     "metadata": {},
     "output_type": "execute_result"
    }
   ],
   "source": [
    "single_concepts"
   ]
  },
  {
   "cell_type": "markdown",
   "metadata": {},
   "source": [
    "### run LLMCode (inductive)\n",
    "\n",
    "a toolkit for AI-assisted qualitative data analysis"
   ]
  },
  {
   "cell_type": "code",
   "execution_count": 56,
   "metadata": {},
   "outputs": [
    {
     "name": "stdout",
     "output_type": "stream",
     "text": [
      " |██████████████████████████████----------------------------------------------------------------------| 30.0% Warning: LLM output differs from the original text, with edit distance 52\n",
      "Original text: \"do not get tired\"\n",
      "LLM output: \"The text contains no insights relevant to the research question.\"\n",
      "Text reconstruction successful\n",
      "\n",
      "Had to reconstruct 1 texts due to LLM errors\n",
      " |████████████████████████████████████████████████████████████████████████████████████████████████████| 100.0% \n"
     ]
    }
   ],
   "source": [
    "import nest_asyncio\n",
    "nest_asyncio.apply()\n",
    "\n",
    "\n",
    "\n",
    "# Sample inputs for function arguments\n",
    "\n",
    "texts = single_concepts\n",
    "\n",
    "research_question = \"What are the key perceived benefits and risks regarding safety of the search and rescue robot?\"\n",
    "\n",
    "\n",
    "few_shot_examples = pd.DataFrame({\n",
    "    \"text\": [\n",
    "        \"The game and it's graphics, music and story made me feel calm and happy  in a way nothing else could at the time. Playing it felt like a journey to another, better place , and that's art to me.\",\n",
    "        \"I played the game Kairo, or Cairo I can't remember, it was an atmospheric puzzle game with big rooms filled with mist and interesting lighting, all the textures were concrete\"],\n",
    "    \"coded_text\": [\n",
    "        \"The game and it's graphics, music and story **made me feel calm and happy**<sup>emotional response</sup> in a way nothing else could at the time. **Playing it felt like a journey to another, better place**<sup>setting; immersion</sup>, and that's art to me.\",\n",
    "        \"I played the game Kairo, or Cairo I can't remember, **it was an atmospheric puzzle game with big rooms filled with mist and interesting lighting, all the textures were concrete**<sup>setting; creativity</sup>\"\n",
    "    ]\n",
    "})\n",
    "\n",
    "\n",
    "\n",
    "gpt_model = \"gpt-4o\"  # or another preferred GPT model\n",
    "use_cache = True\n",
    "max_tokens = 150  # Specify maximum tokens for each prompt if necessary\n",
    "verbose = True\n",
    "topicCategory = abbreviations_dict[sheet_name]\n",
    "\n",
    "\n",
    "# Now you can run:\n",
    "coded_texts, code_descriptions = LLMCode.code_inductively_with_code_consistency_adj(\n",
    "    texts=texts,\n",
    "    research_question=research_question,\n",
    "    topicCategory=topicCategory,\n",
    "    few_shot_examples=few_shot_examples,\n",
    "    gpt_model=gpt_model,\n",
    "    use_cache=use_cache,\n",
    "    max_tokens=max_tokens,\n",
    "    verbose=verbose\n",
    ")"
   ]
  },
  {
   "cell_type": "code",
   "execution_count": 57,
   "metadata": {},
   "outputs": [
    {
     "name": "stdout",
     "output_type": "stream",
     "text": [
      "20\n"
     ]
    },
    {
     "data": {
      "text/plain": [
       "['food/water transport',\n",
       " 'reliable: Can be precisely controlled',\n",
       " '**unrestricted access: Robots can operate in environments that would be toxic to humans, e.g. areas contaminated with radiation.**<sup>safety; hazardous environments</sup>',\n",
       " 'greater accuracy',\n",
       " 'quick help',\n",
       " 'do not get tired',\n",
       " '**fire department support**<sup>no relevant insights</sup>',\n",
       " '**responsiveness: Robots have a significantly higher reaction capability than human rescuers**<sup>safety</sup>',\n",
       " '**dispensable: the loss of a robot is less tragic than the loss of a human rescuer**<sup>safety</sup>',\n",
       " '**less danger: for human rescue forces**<sup>safety</sup>',\n",
       " '**earthquake rescue**<sup>no relevant insights</sup>',\n",
       " 'toxic places: Places where people can only breathe with special equipment (gas mask)',\n",
       " '**life-threatening places**<sup>no relevant insights</sup>',\n",
       " '**protection of rescue forces: for example in contamination scenarios**<sup>no relevant insights</sup>',\n",
       " '**do not lose strength: Robots do not lose stamina while humans could lose strength during missions.**<sup>no relevant insights</sup>',\n",
       " '**fewer deaths**<sup>no relevant insights</sup>',\n",
       " '**protection of rescue forces: Reduced deployment of human rescue forces in dangerous situations**<sup>safety; hazardous environments</sup>',\n",
       " '**sparing human life: If robots are used instead of human rescuers, the lives and health of the rescuers do not have to be put at risk.**<sup>safety</sup>',\n",
       " '**rescue efficient and**<sup>no relevant insights</sup>',\n",
       " '**are physically superior: Strength, agility, mobility**<sup>no relevant insights</sup>']"
      ]
     },
     "execution_count": 57,
     "metadata": {},
     "output_type": "execute_result"
    }
   ],
   "source": [
    "print(len(coded_texts))\n",
    "coded_texts"
   ]
  },
  {
   "cell_type": "code",
   "execution_count": 58,
   "metadata": {},
   "outputs": [
    {
     "name": "stdout",
     "output_type": "stream",
     "text": [
      "3\n"
     ]
    },
    {
     "data": {
      "text/plain": [
       "{'safety': 'Captures discussions on the perceived safety benefits of search and rescue robots, particularly their ability to access hazardous environments, such as radiation-contaminated areas, without risking human lives.',\n",
       " 'hazardous environments': 'Captures discussions about the ability of search and rescue robots to safely navigate and perform tasks in environments that are dangerous or inaccessible to humans, such as those contaminated with hazardous substances or extreme conditions.',\n",
       " 'no relevant insights': 'Captures instances where participants mention topics or information that do not provide meaningful contributions or insights related to the perceived benefits and risks regarding the safety of the search and rescue robot, such as generic statements or unrelated themes.'}"
      ]
     },
     "execution_count": 58,
     "metadata": {},
     "output_type": "execute_result"
    }
   ],
   "source": [
    "print(len(code_descriptions))\n",
    "code_descriptions"
   ]
  },
  {
   "cell_type": "code",
   "execution_count": 59,
   "metadata": {},
   "outputs": [
    {
     "name": "stdout",
     "output_type": "stream",
     "text": [
      "my_array:\n",
      " [{'robot': 'RR', 'category': 'SA', 'coded_texts': ['food/water transport', 'reliable: Can be precisely controlled', '**unrestricted access: Robots can operate in environments that would be toxic to humans, e.g. areas contaminated with radiation.**<sup>safety; hazardous environments</sup>', 'greater accuracy', 'quick help', 'do not get tired', '**fire department support**<sup>no relevant insights</sup>', '**responsiveness: Robots have a significantly higher reaction capability than human rescuers**<sup>safety</sup>', '**dispensable: the loss of a robot is less tragic than the loss of a human rescuer**<sup>safety</sup>', '**less danger: for human rescue forces**<sup>safety</sup>', '**earthquake rescue**<sup>no relevant insights</sup>', 'toxic places: Places where people can only breathe with special equipment (gas mask)', '**life-threatening places**<sup>no relevant insights</sup>', '**protection of rescue forces: for example in contamination scenarios**<sup>no relevant insights</sup>', '**do not lose strength: Robots do not lose stamina while humans could lose strength during missions.**<sup>no relevant insights</sup>', '**fewer deaths**<sup>no relevant insights</sup>', '**protection of rescue forces: Reduced deployment of human rescue forces in dangerous situations**<sup>safety; hazardous environments</sup>', '**sparing human life: If robots are used instead of human rescuers, the lives and health of the rescuers do not have to be put at risk.**<sup>safety</sup>', '**rescue efficient and**<sup>no relevant insights</sup>', '**are physically superior: Strength, agility, mobility**<sup>no relevant insights</sup>'], 'code_descriptions': {'safety': 'Captures discussions on the perceived safety benefits of search and rescue robots, particularly their ability to access hazardous environments, such as radiation-contaminated areas, without risking human lives.', 'hazardous environments': 'Captures discussions about the ability of search and rescue robots to safely navigate and perform tasks in environments that are dangerous or inaccessible to humans, such as those contaminated with hazardous substances or extreme conditions.', 'no relevant insights': 'Captures instances where participants mention topics or information that do not provide meaningful contributions or insights related to the perceived benefits and risks regarding the safety of the search and rescue robot, such as generic statements or unrelated themes.'}}]\n",
      "loaded_array:\n",
      " [{'robot': 'RR', 'category': 'SA', 'coded_texts': ['food/water transport', 'reliable: Can be precisely controlled', '**unrestricted access: Robots can operate in environments that would be toxic to humans, e.g. areas contaminated with radiation.**<sup>safety; hazardous environments</sup>', 'greater accuracy', 'quick help', 'do not get tired', '**fire department support**<sup>no relevant insights</sup>', '**responsiveness: Robots have a significantly higher reaction capability than human rescuers**<sup>safety</sup>', '**dispensable: the loss of a robot is less tragic than the loss of a human rescuer**<sup>safety</sup>', '**less danger: for human rescue forces**<sup>safety</sup>', '**earthquake rescue**<sup>no relevant insights</sup>', 'toxic places: Places where people can only breathe with special equipment (gas mask)', '**life-threatening places**<sup>no relevant insights</sup>', '**protection of rescue forces: for example in contamination scenarios**<sup>no relevant insights</sup>', '**do not lose strength: Robots do not lose stamina while humans could lose strength during missions.**<sup>no relevant insights</sup>', '**fewer deaths**<sup>no relevant insights</sup>', '**protection of rescue forces: Reduced deployment of human rescue forces in dangerous situations**<sup>safety; hazardous environments</sup>', '**sparing human life: If robots are used instead of human rescuers, the lives and health of the rescuers do not have to be put at risk.**<sup>safety</sup>', '**rescue efficient and**<sup>no relevant insights</sup>', '**are physically superior: Strength, agility, mobility**<sup>no relevant insights</sup>'], 'code_descriptions': {'safety': 'Captures discussions on the perceived safety benefits of search and rescue robots, particularly their ability to access hazardous environments, such as radiation-contaminated areas, without risking human lives.', 'hazardous environments': 'Captures discussions about the ability of search and rescue robots to safely navigate and perform tasks in environments that are dangerous or inaccessible to humans, such as those contaminated with hazardous substances or extreme conditions.', 'no relevant insights': 'Captures instances where participants mention topics or information that do not provide meaningful contributions or insights related to the perceived benefits and risks regarding the safety of the search and rescue robot, such as generic statements or unrelated themes.'}}]\n"
     ]
    }
   ],
   "source": [
    "import json\n",
    "\n",
    "my_array = [\n",
    "    {'robot': 'RR', 'category': 'SA', 'coded_texts': coded_texts, 'code_descriptions': code_descriptions}\n",
    "]\n",
    "print(\"my_array:\\n\", my_array)\n",
    "\n",
    "file_path = directory + \"/output/G3/\"\n",
    "\n",
    "\n",
    "# Save to JSON file\n",
    "with open(file_path + 'output_LLMcode_test.json', 'w') as file:\n",
    "    json.dump(my_array, file, indent=4)\n",
    "\n",
    "# To load the data back\n",
    "with open(file_path + 'output_LLMcode_test.json', 'r') as file:\n",
    "    loaded_array = json.load(file)\n",
    "\n",
    "# Print loaded data\n",
    "print(\"loaded_array:\\n\", loaded_array)"
   ]
  },
  {
   "cell_type": "markdown",
   "metadata": {},
   "source": [
    "## Multiple Runs\n",
    "\n",
    "### run LLMCode (inductive)\n",
    "\n",
    "a toolkit for AI-assisted qualitative data analysis\n",
    "\n",
    "\n",
    "few shots examples are fixed for all runs:"
   ]
  },
  {
   "cell_type": "code",
   "execution_count": 65,
   "metadata": {},
   "outputs": [],
   "source": [
    "few_shot_examples = pd.DataFrame({\n",
    "    \"text\": [\n",
    "        \"The game and it's graphics, music and story made me feel calm and happy  in a way nothing else could at the time. Playing it felt like a journey to another, better place , and that's art to me.\",\n",
    "        \"I played the game Kairo, or Cairo I can't remember, it was an atmospheric puzzle game with big rooms filled with mist and interesting lighting, all the textures were concrete\"],\n",
    "    \"coded_text\": [\n",
    "        \"The game and it's graphics, music and story **made me feel calm and happy**<sup>emotional response</sup> in a way nothing else could at the time. **Playing it felt like a journey to another, better place**<sup>setting; immersion</sup>, and that's art to me.\",\n",
    "        \"I played the game Kairo, or Cairo I can't remember, **it was an atmospheric puzzle game with big rooms filled with mist and interesting lighting, all the textures were concrete**<sup>setting; creativity</sup>\"\n",
    "    ]\n",
    "})"
   ]
  },
  {
   "cell_type": "markdown",
   "metadata": {},
   "source": [
    "function to run multiple times..."
   ]
  },
  {
   "cell_type": "code",
   "execution_count": 66,
   "metadata": {},
   "outputs": [],
   "source": [
    "import random\n",
    "import pandas as pd\n",
    "import json\n",
    "\n",
    "def process_robot_data(type_robot, category, abbreviations_dict, all_sheets_RR, all_sheets_SAR, all_sheets_Combined, \n",
    "                       directory, few_shot_examples, create_multivalue_dict, combine_dicts, LLMCode, \n",
    "                       gpt_model=\"gpt-3.5-turbo\", use_cache=True, max_tokens=200, verbose=True, \n",
    "                       random_entries=True, random_entries_count=20):\n",
    "    \"\"\"\n",
    "    Processes data for the specified robot type and category and saves the output as Excel and JSON.\n",
    "\n",
    "    Parameters:\n",
    "        type_robot (str): The type of robot (\"SAR\", \"RR\", or \"Combined\").\n",
    "        category (str): The category to process.\n",
    "        abbreviations_dict (dict): Dictionary containing abbreviations and their meanings.\n",
    "        all_sheets_RR (dict): Data for rescue robots.\n",
    "        all_sheets_SAR (dict): Data for socially assistive robots.\n",
    "        all_sheets_Combined (dict): Data for combined robots.\n",
    "        directory (str): Directory to save output files.\n",
    "        few_shot_examples (list): Few-shot examples for the LLM.\n",
    "        create_multivalue_dict (function): Function to create multi-value mappings.\n",
    "        combine_dicts (function): Function to combine dictionaries.\n",
    "        LLMCode (object): An object with the code induction method.\n",
    "        gpt_model (str): GPT model to use. Defaults to \"gpt-3.5-turbo\".\n",
    "        use_cache (bool): Whether to use cache. Defaults to True.\n",
    "        max_tokens (int): Maximum token length for the GPT response. Defaults to 200.\n",
    "        verbose (bool): Whether to print verbose output. Defaults to True.\n",
    "        random_entries (bool): Whether to sample random entries. Defaults to True.\n",
    "        random_entries_count (int): Number of random entries to sample. Defaults to 20.\n",
    "\n",
    "    Returns:\n",
    "        None\n",
    "    \"\"\"\n",
    "    # Determine the appropriate data source\n",
    "    if type_robot == \"RR\":\n",
    "        tmp_df = all_sheets_RR\n",
    "        naming_robots = \"rescue robots\"\n",
    "    elif type_robot == \"SAR\":\n",
    "        tmp_df = all_sheets_SAR\n",
    "        naming_robots = \"socially assistive robots\"\n",
    "    elif type_robot == \"Combined\":\n",
    "        tmp_df = all_sheets_Combined\n",
    "        naming_robots = \"rescue robots and socially assistive robots\"\n",
    "    else:\n",
    "        raise ValueError(\"Invalid type_robot specified.\")\n",
    "    \n",
    "    # Ensure category exists\n",
    "    if category not in abbreviations_dict:\n",
    "        raise ValueError(f\"Category '{category}' is not in the abbreviations dictionary.\")\n",
    "    \n",
    "    topic_category = abbreviations_dict[category]\n",
    "    df = tmp_df[category]\n",
    "    \n",
    "    # Create combined dictionary\n",
    "    constant_comments_mapping = create_multivalue_dict(df, 'constant', 'constant_comments')\n",
    "    new_comments_mapping = create_multivalue_dict(df, 'new', 'new_comments')\n",
    "    constant_new_comments_mapping = combine_dicts(constant_comments_mapping, new_comments_mapping)\n",
    "    \n",
    "    # Generate single concepts\n",
    "    single_concepts = []\n",
    "    for key, values in constant_new_comments_mapping.items():\n",
    "        for value in values:\n",
    "            if isinstance(value, str):\n",
    "                single_concepts.append(f\"{key}: {value}\")\n",
    "            else:\n",
    "                single_concepts.append(key)\n",
    "    \n",
    "    # Filter for entries with more than one word\n",
    "    single_concepts = list({entry for entry in single_concepts if len(entry.split()) > 1})\n",
    "    \n",
    "    if random_entries:\n",
    "        single_concepts = random.sample(single_concepts, min(random_entries_count, len(single_concepts)))\n",
    "\n",
    "    research_question = f\"What are the mentioned key benefits and risks regarding the {topic_category} of {naming_robots}?\"\n",
    "    \n",
    "    if verbose:\n",
    "        print(f\"Processing category: {category}\")\n",
    "        print(\"Research Question:\", research_question)\n",
    "    \n",
    "    # Perform LLM coding\n",
    "    coded_texts, code_descriptions = LLMCode.code_inductively_with_code_consistency_adj(\n",
    "        texts=single_concepts,\n",
    "        research_question=research_question,\n",
    "        topicCategory=topic_category,\n",
    "        few_shot_examples=few_shot_examples,\n",
    "        gpt_model=gpt_model,\n",
    "        use_cache=use_cache,\n",
    "        max_tokens=max_tokens,\n",
    "        verbose=verbose\n",
    "    )\n",
    "    \n",
    "    # Prepare data for saving\n",
    "    json_data = {'robot': type_robot, 'category': category, 'coded_texts': coded_texts, 'code_descriptions': code_descriptions}\n",
    "\n",
    "    # Save as JSON\n",
    "    if type_robot == \"RR\":\n",
    "        json_file_path = f\"{directory}/output/G3/json RR/{type_robot} - {category}.json\"\n",
    "    elif type_robot == \"SAR\":\n",
    "        json_file_path = f\"{directory}/output/G3/json SAR/{type_robot} - {category}.json\"\n",
    "    else: \n",
    "        json_file_path = f\"{directory}/output/G3/{type_robot} - {category}.json\"\n",
    "\n",
    "    with open(json_file_path, 'w') as file:\n",
    "        json.dump([json_data], file, indent=4)\n",
    "    \n",
    "    if verbose:\n",
    "        print(f\"JSON file saved to {json_file_path}\")"
   ]
  },
  {
   "cell_type": "markdown",
   "metadata": {},
   "source": [
    "#### run LLMCode (inductive) for RR"
   ]
  },
  {
   "cell_type": "code",
   "execution_count": 67,
   "metadata": {},
   "outputs": [],
   "source": [
    "run_inductive_coding = False # True"
   ]
  },
  {
   "cell_type": "code",
   "execution_count": 68,
   "metadata": {},
   "outputs": [],
   "source": [
    "type_robot = \"RR\"\n",
    "\n",
    "if run_inductive_coding:\n",
    "    for index, category in enumerate(abbreviations_dict.keys()):\n",
    "        print(f\"index: {index}, category: {category}\")\n",
    "\n",
    "        process_robot_data(\n",
    "            type_robot=type_robot,\n",
    "            category=category,\n",
    "            abbreviations_dict=abbreviations_dict,\n",
    "            all_sheets_RR=all_sheets_RR,\n",
    "            all_sheets_SAR=all_sheets_SAR,\n",
    "            all_sheets_Combined=all_sheets_Combined,\n",
    "            directory=directory,\n",
    "            few_shot_examples=few_shot_examples,\n",
    "            create_multivalue_dict=create_multivalue_dict,\n",
    "            combine_dicts=combine_dicts,\n",
    "            LLMCode=LLMCode,\n",
    "            gpt_model=\"gpt-3.5-turbo\",\n",
    "            use_cache=True,\n",
    "            max_tokens=200,\n",
    "            verbose=True,\n",
    "            random_entries=False,\n",
    "            random_entries_count=None\n",
    "        )"
   ]
  },
  {
   "cell_type": "markdown",
   "metadata": {},
   "source": [
    "store data into one combined file:"
   ]
  },
  {
   "cell_type": "code",
   "execution_count": 69,
   "metadata": {},
   "outputs": [],
   "source": [
    "import os\n",
    "import json\n",
    "\n",
    "\n",
    "if run_inductive_coding:\n",
    "    # Path to the folder containing the JSON files\n",
    "    folder_path = directory + \"/output/G3/json RR\"\n",
    "\n",
    "    # Initialize an empty list to store combined data\n",
    "    combined_data = []\n",
    "\n",
    "    # Loop through all files in the folder\n",
    "    for filename in os.listdir(folder_path):\n",
    "        if filename.endswith(\".json\"):  # Check if the file is a JSON file\n",
    "            file_path = os.path.join(folder_path, filename)\n",
    "            with open(file_path, \"r\", encoding=\"utf-8\") as file:\n",
    "                try:\n",
    "                    data = json.load(file)\n",
    "                    if isinstance(data, list):  # Check if the JSON content is a list\n",
    "                        combined_data.extend(data)  # Add the list's content to the combined data\n",
    "                    else:\n",
    "                        print(f\"Skipping {filename}: not a list\")\n",
    "                except json.JSONDecodeError as e:\n",
    "                    print(f\"Error reading {filename}: {e}\")\n",
    "\n",
    "    # Output the combined data to a new JSON file\n",
    "    output_file = directory + \"/output/G3/\" + \"combined_RR.json\"\n",
    "    with open(output_file, \"w\", encoding=\"utf-8\") as file:\n",
    "        json.dump(combined_data, file, indent=4, ensure_ascii=False)\n",
    "\n",
    "    print(f\"Combined JSON data saved to {output_file}\")"
   ]
  },
  {
   "cell_type": "markdown",
   "metadata": {},
   "source": [
    "#### run LLMCode (inductive) for SAR"
   ]
  },
  {
   "cell_type": "code",
   "execution_count": 70,
   "metadata": {},
   "outputs": [],
   "source": [
    "type_robot = \"SAR\"\n",
    "\n",
    "if run_inductive_coding:\n",
    "    for index, category in enumerate(abbreviations_dict.keys()):\n",
    "        print(f\"index: {index}, category: {category}\")\n",
    "\n",
    "        process_robot_data(\n",
    "            type_robot=type_robot,\n",
    "            category=category,\n",
    "            abbreviations_dict=abbreviations_dict,\n",
    "            all_sheets_RR=all_sheets_RR,\n",
    "            all_sheets_SAR=all_sheets_SAR,\n",
    "            all_sheets_Combined=all_sheets_Combined,\n",
    "            directory=directory,\n",
    "            few_shot_examples=few_shot_examples,\n",
    "            create_multivalue_dict=create_multivalue_dict,\n",
    "            combine_dicts=combine_dicts,\n",
    "            LLMCode=LLMCode,\n",
    "            gpt_model=\"gpt-3.5-turbo\",\n",
    "            use_cache=True,\n",
    "            max_tokens=200,\n",
    "            verbose=True,\n",
    "            random_entries=False,\n",
    "            random_entries_count=None\n",
    "        )"
   ]
  },
  {
   "cell_type": "markdown",
   "metadata": {},
   "source": [
    "store data into one combined file:"
   ]
  },
  {
   "cell_type": "code",
   "execution_count": 71,
   "metadata": {},
   "outputs": [],
   "source": [
    "import os\n",
    "import json\n",
    "\n",
    "if run_inductive_coding:\n",
    "    # Path to the folder containing the JSON files\n",
    "    folder_path = directory + \"/output/G3/json SAR\"\n",
    "\n",
    "    # Initialize an empty list to store combined data\n",
    "    combined_data = []\n",
    "\n",
    "    # Loop through all files in the folder\n",
    "    for filename in os.listdir(folder_path):\n",
    "        if filename.endswith(\".json\"):  # Check if the file is a JSON file\n",
    "            file_path = os.path.join(folder_path, filename)\n",
    "            with open(file_path, \"r\", encoding=\"utf-8\") as file:\n",
    "                try:\n",
    "                    data = json.load(file)\n",
    "                    if isinstance(data, list):  # Check if the JSON content is a list\n",
    "                        combined_data.extend(data)  # Add the list's content to the combined data\n",
    "                    else:\n",
    "                        print(f\"Skipping {filename}: not a list\")\n",
    "                except json.JSONDecodeError as e:\n",
    "                    print(f\"Error reading {filename}: {e}\")\n",
    "\n",
    "    # Output the combined data to a new JSON file\n",
    "    output_file = directory + \"/output/G3/\" + \"combined_SAR.json\"\n",
    "    with open(output_file, \"w\", encoding=\"utf-8\") as file:\n",
    "        json.dump(combined_data, file, indent=4, ensure_ascii=False)\n",
    "\n",
    "    print(f\"Combined JSON data saved to {output_file}\")"
   ]
  },
  {
   "cell_type": "markdown",
   "metadata": {},
   "source": [
    "### run LLMCode (deductive)\n",
    "\n",
    "a toolkit for AI-assisted qualitative data analysis\n",
    "\n",
    "\n",
    "prepare data:"
   ]
  },
  {
   "cell_type": "code",
   "execution_count": 223,
   "metadata": {},
   "outputs": [],
   "source": [
    "import os\n",
    "import json\n",
    "\n",
    "# Define the path to the folder containing your JSON files\n",
    "folder_path = directory + \"/output/G3/\" + \"json RR - improved\"\n",
    "\n",
    "# Create an empty dictionary to store the combined JSON data\n",
    "array_categories_RR = []\n",
    "array_codingDescriptions_RR = []\n",
    "\n",
    "\n",
    "# Iterate through all files in the folder\n",
    "for filename in os.listdir(folder_path):\n",
    "    # Check if the file has a .json extension\n",
    "    if filename.endswith(\".json\"):\n",
    "        file_path = os.path.join(folder_path, filename)\n",
    "        with open(file_path, 'r') as json_file:\n",
    "            try:\n",
    "                # Load the JSON content and update the combined dictionary\n",
    "                file_data = json.load(json_file)\n",
    "                array_categories_RR.append(file_data[0][\"category\"])\n",
    "                array_codingDescriptions_RR.append(file_data[0][\"code_descriptions\"])\n",
    "            except json.JSONDecodeError as e:\n",
    "                print(f\"Error decoding JSON from file {filename}: {e}\")\n",
    "                \n",
    "\n",
    "\n",
    "\n",
    "# Define the path to the folder containing your JSON files\n",
    "folder_path = directory + \"/output/G3/\" + \"json SAR - improved\"    \n",
    "\n",
    "   \n",
    "# Create an empty dictionary to store the combined JSON data\n",
    "array_categories_SAR = []\n",
    "array_codingDescriptions_SAR = []\n",
    "\n",
    "\n",
    "# Iterate through all files in the folder\n",
    "for filename in os.listdir(folder_path):\n",
    "    # Check if the file has a .json extension\n",
    "    if filename.endswith(\".json\"):\n",
    "        file_path = os.path.join(folder_path, filename)\n",
    "        with open(file_path, 'r') as json_file:\n",
    "            try:\n",
    "                # Load the JSON content and update the combined dictionary\n",
    "                file_data = json.load(json_file)\n",
    "                array_categories_SAR.append(file_data[0][\"category\"])\n",
    "                array_codingDescriptions_SAR.append(file_data[0][\"code_descriptions\"])\n",
    "            except json.JSONDecodeError as e:\n",
    "                print(f\"Error decoding JSON from file {filename}: {e}\")"
   ]
  },
  {
   "cell_type": "code",
   "execution_count": 224,
   "metadata": {},
   "outputs": [
    {
     "name": "stdout",
     "output_type": "stream",
     "text": [
      "Category: HRIP\n",
      "Code Description: {'hope': 'Captures instances where participants express emotional reassurance and optimism, emphasizing the belief that rescue robots provide hope to victims through their presence or potential impact.', 'endurance': \"Highlights physical and mental stamina in human-robot interaction, focusing on participants' discussions about sustaining performance or functionality during prolonged interactions with rescue robots.\", 'complementary role': 'Identifies instances where rescue robots provide tangible support in rescue scenarios, including delivering essential resources, while complementing human actions and tasks, enhancing capabilities through collaboration.', 'comfort': 'Captures instances where the soft design, adaptable forms, or non-mechanical appearance of rescue robots provide emotional reassurance and calm to victims in distress.'}\n"
     ]
    }
   ],
   "source": [
    "# Function to get description based on matching index\n",
    "def get_description(match, categories, descriptions):\n",
    "    try:\n",
    "        # Find the index of the match in categories\n",
    "        index = categories.index(match)\n",
    "        # Retrieve the corresponding description\n",
    "        return descriptions[index]\n",
    "    except ValueError:\n",
    "        # Return None if match is not found\n",
    "        return None\n",
    "\n",
    "# Example usage\n",
    "match = 'HRIP'  # Replace with the category you want to match\n",
    "description = get_description('HRIP', array_categories_RR, array_codingDescriptions_RR)\n",
    "\n",
    "print(f\"Category: {match}\")\n",
    "print(f\"Code Description: {description}\")\n"
   ]
  },
  {
   "cell_type": "markdown",
   "metadata": {},
   "source": [
    "function to run multiple times..."
   ]
  },
  {
   "cell_type": "code",
   "execution_count": 225,
   "metadata": {},
   "outputs": [],
   "source": [
    "import pandas as pd\n",
    "\n",
    "def process_robot_data_deductively(type_robot, category, \n",
    "                                   abbreviations_dict, \n",
    "                                   all_sheets_RR, all_sheets_SAR,\n",
    "                                   array_categories, array_codingDescriptions,\n",
    "                                   directory, \n",
    "                                   create_multivalue_dict, combine_dicts, LLMCode,\n",
    "                                   gpt_model=\"gpt-3.5-turbo\", use_cache=True, verbose=True):\n",
    "    \"\"\"\n",
    "    Processes data for the specified robot type and category and saves the output as Excel and JSON.\n",
    "\n",
    "    Parameters:\n",
    "\n",
    "    Returns:\n",
    "        None\n",
    "    \"\"\"\n",
    "    # Determine the appropriate data source\n",
    "    if type_robot == \"RR\":\n",
    "        tmp_df = all_sheets_RR\n",
    "        naming_robots = \"rescue robots\"\n",
    "    elif type_robot == \"SAR\":\n",
    "        tmp_df = all_sheets_SAR\n",
    "        naming_robots = \"socially assistive robots\"\n",
    "    else:\n",
    "        raise ValueError(\"Invalid type_robot specified.\")\n",
    "    \n",
    "    # Ensure category exists\n",
    "    if category not in abbreviations_dict:\n",
    "        raise ValueError(f\"Category '{category}' is not in the abbreviations dictionary.\")\n",
    "    \n",
    "    topic_category = abbreviations_dict[category]\n",
    "    df = tmp_df[category]\n",
    "    \n",
    "    # Create combined dictionary\n",
    "    constant_comments_mapping = create_multivalue_dict(df, 'constant', 'constant_comments')\n",
    "    new_comments_mapping = create_multivalue_dict(df, 'new', 'new_comments')\n",
    "    \n",
    "    # constant_new_comments_mapping = combine_dicts(constant_comments_mapping, new_comments_mapping)    \n",
    "    ### hardly any cases:  \n",
    "    # deleted_comments_mapping = create_multivalue_dict(df, 'deleted', 'deleted_comments')\n",
    "    # constant_new_deleted_comments_mapping = combine_dicts(constant_new_comments_mapping, deleted_comments_mapping)\n",
    "\n",
    "    ### Generate single concepts for CONSTANT\n",
    "    single_concepts_constant = []\n",
    "    for key, values in constant_comments_mapping.items():\n",
    "        for value in values:\n",
    "            if isinstance(value, str):\n",
    "                single_concepts_constant.append(f\"{key}: {value}\")\n",
    "            else:\n",
    "                single_concepts_constant.append(key)\n",
    "    \n",
    "    # Filter for entries with more than one word\n",
    "    single_concepts_constant = list({entry for entry in single_concepts_constant if len(entry.split()) > 1})\n",
    "\n",
    "    ### Generate single concepts for NEW\n",
    "    single_concepts_new = []\n",
    "    for key, values in new_comments_mapping.items():\n",
    "        for value in values:\n",
    "            if isinstance(value, str):\n",
    "                single_concepts_new.append(f\"{key}: {value}\")\n",
    "            else:\n",
    "                single_concepts_new.append(key)\n",
    "    \n",
    "    # Filter for entries with more than one word\n",
    "    single_concepts_new = list({entry for entry in single_concepts_new if len(entry.split()) > 1})\n",
    "\n",
    "\n",
    "\n",
    "    research_question = f\"What are the mentioned key benefits and risks regarding the {topic_category} of {naming_robots}?\"\n",
    "    \n",
    "    if verbose:\n",
    "        print(f\"Processing category: {category}\")\n",
    "        print(\"Research Question:\", research_question)\n",
    "    \n",
    "\n",
    "    code_descriptions = get_description(category, array_categories, array_codingDescriptions)\n",
    "\n",
    "  \n",
    "    coded_texts_deductively_constant = LLMCode.code_deductively(texts=single_concepts_constant,\n",
    "                     research_question=research_question,\n",
    "                     codebook=code_descriptions,\n",
    "                     gpt_model=gpt_model,\n",
    "                     few_shot_examples=None,\n",
    "                     use_cache=use_cache,\n",
    "                     verbose=verbose)\n",
    "    \n",
    "    coded_texts_deductively_new = LLMCode.code_deductively(texts=single_concepts_new,\n",
    "                     research_question=research_question,\n",
    "                     codebook=code_descriptions,\n",
    "                     gpt_model=gpt_model,\n",
    "                     few_shot_examples=None,\n",
    "                     use_cache=use_cache,\n",
    "                     verbose=verbose)\n",
    "    \n",
    "    ### get a dictionary of code highlights and return a frequency table for CONSTANT\n",
    "    code_highlights_constant = LLMCode.get_codes_and_highlights(coded_texts_deductively_constant)\n",
    "\n",
    "    code_counts_constant = [(code, len(highlights)) for code, highlights in code_highlights_constant.items()]\n",
    "    df_codes_constant = pd.DataFrame(code_counts_constant, columns=['Code', 'Count'])\n",
    "    df_codes_constant = df_codes_constant.sort_values(by='Count', ascending=False).reset_index(drop=True)\n",
    "    \n",
    "    ### get a dictionary of code highlights and return a frequency table for NEW\n",
    "    code_highlights_new = LLMCode.get_codes_and_highlights(coded_texts_deductively_new)\n",
    "\n",
    "    code_counts_new = [(code, len(highlights)) for code, highlights in code_highlights_new.items()]\n",
    "    df_codes_new = pd.DataFrame(code_counts_new, columns=['Code', 'Count'])\n",
    "    df_codes_new = df_codes_new.sort_values(by='Count', ascending=False).reset_index(drop=True)\n",
    "\n",
    "    # Merge the two frequency tables\n",
    "    df_merged = pd.merge(df_codes_constant, df_codes_new, on='Code', how='left', suffixes=('_1', '_2'))\n",
    "\n",
    "    # Rename the columns\n",
    "    df_merged.rename(columns={'Count_1': 'soft', 'Count_2': 'rigid'}, inplace=True)\n",
    "\n",
    "    # Fill missing values with 0 for codes not present in the second DataFrame\n",
    "    df_merged['rigid'] = df_merged['rigid'].fillna(0).astype(int)\n",
    "\n",
    "    df_merged.insert(0, \"Category\", category)\n",
    "    df_merged.insert(1, \"Robot\", type_robot)\n",
    " \n",
    "    json_data = {'robot': type_robot, 'category': category, 'coded_texts_deductively_constant': coded_texts_deductively_constant, 'coded_texts_deductively_new': coded_texts_deductively_new}\n",
    "\n",
    "    return {'coded_texts': json_data, \"frequency_codes\": df_merged}  # Returning as a dictionary"
   ]
  },
  {
   "cell_type": "markdown",
   "metadata": {},
   "source": [
    "#### for RR"
   ]
  },
  {
   "cell_type": "code",
   "execution_count": null,
   "metadata": {},
   "outputs": [],
   "source": [
    "run_deductive_coding = False # False"
   ]
  },
  {
   "cell_type": "code",
   "execution_count": 220,
   "metadata": {},
   "outputs": [
    {
     "name": "stdout",
     "output_type": "stream",
     "text": [
      "index: 0, category: TP\n",
      "Processing category: TP\n",
      "Research Question: What are the mentioned key benefits and risks regarding the perceived technological possibilities of rescue robots?\n",
      " |████████████████████████████████████████████████████████████████████████████████████████████████████| 100.0% \n",
      "Warning: LLM output differs from the original text, with edit distance 13\n",
      "Original text: \"resilience: Can withstand adverse conditions, which makes them more effective in disaster areas\"\n",
      "LLM output: \"**Can withstand adverse conditions**<sup>resilience</sup>, which makes them **more effective in disaster areas**<sup>effectiveness</sup>.\"\n",
      "Text reconstruction successful\n",
      "\n",
      "Warning: LLM output differs from the original text, with edit distance 3\n",
      "Original text: \"permanent readiness: e.g. Robots do not need sleep\"\n",
      "LLM output: \"**permanent readiness: e.g. Robots do not need sleep**<sup>readiness</sup>; <sup>basic needs</sup>.\"\n",
      "Distance less than treshold 5, accept\n",
      "\n",
      "Warning: LLM output differs from the original text, with edit distance 1\n",
      "Original text: \"Accessibility: You can reach areas that are not accessible to humans\"\n",
      "LLM output: \"**Accessibility: You can reach areas that are not accessible to humans**<sup>accessibility</sup>.\"\n",
      "Distance less than treshold 5, accept\n",
      "\n",
      "Warning: LLM output differs from the original text, with edit distance 20\n",
      "Original text: \"many areas of application\"\n",
      "LLM output: \"many areas of application; **more possibilities**<sup>more possibilities</sup>\"\n",
      "Could not find the LLM-annotated text \"more possibilities\" in the original text \"many areas of application\"\n",
      "Text reconstruction failed, discard LLM response\n",
      "\n",
      "Warning: LLM output differs from the original text, with edit distance 10\n",
      "Original text: \"work faster: Like for example screwing, drilling, welding, painting\"\n",
      "LLM output: \"**work faster**<sup>efficiency</sup>: Like for example **screwing, drilling, welding**<sup>specialized tasks</sup>\"\n",
      "Text reconstruction successful\n",
      "\n",
      "Warning: LLM output differs from the original text, with edit distance 19\n",
      "Original text: \"are \"unlimited\" available: theoretically speaking, in contrast to human rescuers\"\n",
      "LLM output: \"are \"unlimited\" available: theoretically speaking, in contrast to human rescuers **more possibilities**<sup>more possibilities</sup>\"\n",
      "Could not find the LLM-annotated text \"more possibilities\" in the original text \"are \"unlimited\" available: theoretically speaking, in contrast to human rescuers\"\n",
      "Text reconstruction failed, discard LLM response\n",
      "\n",
      "Warning: LLM output differs from the original text, with edit distance 1\n",
      "Original text: \"technical search tools: Simple application through robots that can bundle technical aids\"\n",
      "LLM output: \"**technical search tools**: Simple application through robots that can bundle technical aids<sup>information generation; versatility</sup>.\"\n",
      "Distance less than treshold 5, accept\n",
      "\n",
      "Warning: LLM output differs from the original text, with edit distance 18\n",
      "Original text: \"multiplicability: Unlike humans, theoretically available unlimited times\"\n",
      "LLM output: \"**Unlike humans, theoretically available unlimited times**<sup>multiplicability</sup>\"\n",
      "Text reconstruction successful\n",
      "\n",
      "Warning: LLM output differs from the original text, with edit distance 17\n",
      "Original text: \"time commitment: Autonomous robots can complement human searches and accordingly work in parallel, leading to time savings.\"\n",
      "LLM output: \"**Autonomous robots can complement human searches**<sup>autonomy</sup> and accordingly **work in parallel**<sup>efficiency</sup>, leading to **time savings**<sup>efficiency</sup>.\"\n",
      "Text reconstruction successful\n",
      "\n",
      "Warning: LLM output differs from the original text, with edit distance 1\n",
      "Original text: \"mapping: Maps can be created over the searched area, which promote an overview\"\n",
      "LLM output: \"**mapping: Maps can be created over the searched area**<sup>data collection</sup>, **which promote an overview**<sup>situational awareness</sup>.\"\n",
      "Distance less than treshold 5, accept\n",
      "\n",
      "Warning: LLM output differs from the original text, with edit distance 26\n",
      "Original text: \"information generation: Emergency services can make their own operations more effective through the data collected by the robot.\"\n",
      "LLM output: \"**Emergency services can make their own operations more effective through the** ***data collected by the robot***<sup>information generation</sup>.\"\n",
      "Text reconstruction successful\n",
      "\n",
      "Warning: LLM output differs from the original text, with edit distance 2\n",
      "Original text: \"impressions shareable live: can broadcast live, easier than with humans\"\n",
      "LLM output: \"**impressions shareable live: can broadcast live**<sup>live broadcasting</sup>; **easier than with humans**<sup>versatility</sup>.\"\n",
      "Distance less than treshold 5, accept\n",
      "\n",
      "Warning: LLM output differs from the original text, with edit distance 1\n",
      "Original text: \"strength: Robots can be constructed to have superhuman strength, for example, to lift debris.\"\n",
      "LLM output: \"Strength: **Robots can be constructed to have superhuman strength**, for example, to lift debris<sup>strength</sup>.\"\n",
      "Distance less than treshold 5, accept\n",
      "\n",
      "Warning: LLM output differs from the original text, with edit distance 1\n",
      "Original text: \"collection of information: Robots can collect information about victims\"\n",
      "LLM output: \"**collection of information: Robots can collect information about victims**<sup>data collection</sup>.\"\n",
      "Distance less than treshold 5, accept\n",
      "\n",
      "Warning: LLM output differs from the original text, with edit distance 25\n",
      "Original text: \"environment-independent: Operable in air, water, ground. Toxic or narrow environments.\"\n",
      "LLM output: \"**Operable in air, water, ground**<sup>versatility</sup>. **Toxic or narrow environments**<sup>environment-independent</sup>.\"\n",
      "Text reconstruction successful\n",
      "\n",
      "Warning: LLM output differs from the original text, with edit distance 20\n",
      "Original text: \"remote controlled: Through remote control, people can be involved in the search and the search can thus be improved\"\n",
      "LLM output: \"**Through remote control, people can be involved in the search**<sup>remote controlled; search improvement</sup> and **the search can thus be improved**<sup>search improvement</sup>.\"\n",
      "Text reconstruction successful\n",
      "\n",
      "Warning: LLM output differs from the original text, with edit distance 8\n",
      "Original text: \"speed: Robots can make the rescue overall faster, and this can save lives\"\n",
      "LLM output: \"**Robots can make the rescue overall faster**<sup>speed</sup>, and **this can save lives**<sup>effectiveness</sup>.\"\n",
      "Text reconstruction successful\n",
      "\n",
      "Warning: LLM output differs from the original text, with edit distance 16\n",
      "Original text: \"mine clearance: Because the robots are smaller, they could help in the event of a spill.\"\n",
      "LLM output: \"**Because the robots are smaller, they could help in the event of a spill**<sup>mine clearance</sup>.\"\n",
      "Text reconstruction successful\n",
      "\n",
      "Had to reconstruct 9 texts due to LLM errors\n",
      "WARNING: A total of 2 LLM outputs were discarded because of errors\n",
      "\n",
      "WARNING: Output contains code \"resilience\" that is not in the codebook, removing...\n",
      "WARNING: Output contains code \"**multiplicability**\" that is not in the codebook, removing...\n",
      "WARNING: Output contains code \"environment-independent\" that is not in the codebook, removing...\n",
      " |████████████████████████████████████████████████████████████████████████████████████████████████████| 100.0% \n",
      "Warning: LLM output differs from the original text, with edit distance 2\n",
      "Original text: \"transport of supplies: Can transport significantly more food, etc., and thus supply people needing rescue\"\n",
      "LLM output: \"**transport of supplies: Can transport significantly more food, etc., and thus supply people needing rescue**<sup>transport of supplies</sup>; <sup>efficiency</sup>\"\n",
      "Distance less than treshold 5, accept\n",
      "\n",
      "Warning: LLM output differs from the original text, with edit distance 1\n",
      "Original text: \"care of the victims: Victims can be cared for by robots during the long rescue operation\"\n",
      "LLM output: \"**care of the victims: Victims can be cared for by robots during the long rescue operation**<sup>basic needs; a robot's continuous operation</sup>.\"\n",
      "Distance less than treshold 5, accept\n",
      "\n",
      "Warning: LLM output differs from the original text, with edit distance 1\n",
      "Original text: \"hybrid systems: Both remote-controlled and autonomous\"\n",
      "LLM output: \"**hybrid systems:** Both **remote-controlled**<sup>remote controlled</sup> and **autonomous**<sup>autonomy</sup>.\"\n",
      "Distance less than treshold 5, accept\n",
      "\n",
      "Warning: LLM output differs from the original text, with edit distance 1\n",
      "Original text: \"supply with goods: Supplying victims with water, food, medicines etc.\"\n",
      "LLM output: \"**supply with goods:** Supplying victims with water, food, medicines etc.<sup>basic needs</sup>.\"\n",
      "Distance less than treshold 5, accept\n",
      "\n",
      "WARNING: Output contains code \"rescue robots\" that is not in the codebook, removing...\n",
      "WARNING: Output contains code \"transport of supplies\" that is not in the codebook, removing...\n",
      "index: 1, category: TL\n",
      "Processing category: TL\n",
      "Research Question: What are the mentioned key benefits and risks regarding the perceived technological limitations of rescue robots?\n",
      " |████████████████████████████████████████████████████████████████████████████████████████████████████| 100.0% \n",
      "Warning: LLM output differs from the original text, with edit distance 8\n",
      "Original text: \"errors: The algorithms may contain errors, which can cause mistakes in rescues\"\n",
      "LLM output: \"**The algorithms may contain errors**<sup>error risk</sup>, which can cause mistakes in rescues\"\n",
      "Text reconstruction successful\n",
      "\n",
      "Warning: LLM output differs from the original text, with edit distance 17\n",
      "Original text: \"faulty analyses: Fully autonomous robots would have to use recognition software that might make mistakes that wouldn't happen to humans.\"\n",
      "LLM output: \"**Fully autonomous robots would have to use recognition software that might make mistakes that wouldn't happen to humans**<sup>faulty analyses</sup>.\"\n",
      "Text reconstruction successful\n",
      "\n",
      "Warning: LLM output differs from the original text, with edit distance 4\n",
      "Original text: \"technical failure possible: empty battery, no reception\"\n",
      "LLM output: \"**technical failure possible: empty battery, no reception**<sup>perceived risk</sup>; <sup>operational_delay</sup>; <sup>robot_runtime</sup>\"\n",
      "Distance less than treshold 5, accept\n",
      "\n",
      "Warning: LLM output differs from the original text, with edit distance 12\n",
      "Original text: \"error risk: Unclear whether the robot is currently capable of responding better than a human\"\n",
      "LLM output: \"**Unclear whether the robot is currently capable of responding better than a human**<sup>error risk</sup>\"\n",
      "Text reconstruction successful\n",
      "\n",
      "Warning: LLM output differs from the original text, with edit distance 1\n",
      "Original text: \"cannot improvise: Situations that were not considered in programming could be a challenge and potentially dangerous.\"\n",
      "LLM output: \"**cannot improvise:** Situations that were not considered in programming could be a challenge and potentially dangerous.<sup>immature technology; perceived risk</sup>.\"\n",
      "Distance less than treshold 5, accept\n",
      "\n",
      "Warning: LLM output differs from the original text, with edit distance 21\n",
      "Original text: \"development status: Current rescue robots are not yet developed enough to be efficient in all situations\"\n",
      "LLM output: \"**Current rescue robots are not yet developed enough**<sup>immature technology</sup> **to be efficient in all situations**<sup>specialization</sup>.\"\n",
      "Text reconstruction successful\n",
      "\n",
      "Had to reconstruct 4 texts due to LLM errors\n",
      "WARNING: Output contains code \"limited mobility\" that is not in the codebook, removing...\n",
      " |████████████████████████████████████████████████████████████████████████████████████████████████████| 100.0% \n",
      "Warning: LLM output differs from the original text, with edit distance 12\n",
      "Original text: \"robustness: Potentially, rescue robots break because they are not robust (enough).\"\n",
      "LLM output: \"**Potentially, rescue robots break because they are not robust (enough)**<sup>robustness: damage not excludable</sup>.\"\n",
      "Text reconstruction successful\n",
      "\n",
      "Warning: LLM output differs from the original text, with edit distance 8\n",
      "Original text: \"damage: The robots could be damaged in dangerous situations.\"\n",
      "LLM output: \"**The robots could be damaged in dangerous situations**<sup>damage not excludable</sup>.\"\n",
      "Text reconstruction successful\n",
      "\n",
      "Had to reconstruct 2 texts due to LLM errors\n",
      "WARNING: Output contains code \"robustness: damage not excludable\" that is not in the codebook, removing...\n",
      "index: 2, category: SA\n",
      "Processing category: SA\n",
      "Research Question: What are the mentioned key benefits and risks regarding the perceived safety of rescue robots?\n",
      " |████████████████████████████████████████████████████████████████████████████████████████████████████| 100.0% \n",
      "Warning: LLM output differs from the original text, with edit distance 1\n",
      "Original text: \"life-threatening places: The possibility of entering dangerous places that people do not dare to approach, such as wreck parts, battlefields, etc.\"\n",
      "LLM output: \"life-threatening places: **The possibility of entering dangerous places that people do not dare to approach, such as wreck parts, battlefields, etc.**<sup>search capabilities</sup>.\"\n",
      "Distance less than treshold 5, accept\n",
      "\n",
      "Warning: LLM output differs from the original text, with edit distance 17\n",
      "Original text: \"access to areas: Access to areas difficult or only reachable through considerable dangers for people\"\n",
      "LLM output: \"**Access to areas difficult or only reachable through considerable dangers for people**<sup>access</sup>\"\n",
      "Text reconstruction successful\n",
      "\n",
      "Warning: LLM output differs from the original text, with edit distance 10\n",
      "Original text: \"immune: a robot is immune to many dangers that would be deadly for humans such as smoke gases, chemicals, temperatures\"\n",
      "LLM output: \"**a robot is immune to many dangers that would be deadly for humans such as smoke gases, chemicals, temperatures**<sup>safety</sup>; <sup>risk reduction</sup>\"\n",
      "Text reconstruction successful\n",
      "\n",
      "Warning: LLM output differs from the original text, with edit distance 1\n",
      "Original text: \"Range: Robots, again just the drone can rescue victims faster in difficult terrain or bring help, e.g. medicine, food\"\n",
      "LLM output: \"Range: Robots, again just the drone can **rescue victims faster**<sup>speed</sup> in difficult terrain or bring help, e.g. **medicine, food**<sup>delivery of goods</sup>.\"\n",
      "Distance less than treshold 5, accept\n",
      "\n",
      "Warning: LLM output differs from the original text, with edit distance 10\n",
      "Original text: \"faster help: Since the risk to life is lower, rescue workers can send a robot before a complete analysis of the problem area is available.\"\n",
      "LLM output: \"**faster help:** Since the **risk reduction**<sup>risk reduction</sup> to life is lower, rescue workers can send a robot before a complete analysis of the problem area is available.\"\n",
      "Could not find the LLM-annotated text \"faster help:** Since the **risk reduction\" in the original text \"faster help: Since the risk to life is lower, rescue workers can send a robot before a complete analysis of the problem area is available.\"\n",
      "Text reconstruction failed, discard LLM response\n",
      "\n",
      "Warning: LLM output differs from the original text, with edit distance 2\n",
      "Original text: \"\"dare\" more: can also be used in war zones, only material loss through explosives\"\n",
      "LLM output: \"**dare**<sup>operational capability</sup> more: can also be used in war zones, only material loss through explosives\"\n",
      "Distance less than treshold 5, accept\n",
      "\n",
      "Warning: LLM output differs from the original text, with edit distance 22\n",
      "Original text: \"rescue forces safety: Emergency services can avoid dangers if, for example, pictures of the location were taken by robots.\"\n",
      "LLM output: \"**Emergency services can avoid dangers**<sup>safety</sup> if, for example, **pictures of the location were taken by robots**<sup>operational capability</sup>.\"\n",
      "Text reconstruction successful\n",
      "\n",
      "Warning: LLM output differs from the original text, with edit distance 6\n",
      "Original text: \"risk: In dangerous environments or situations, there is of course much less risk for the people\"\n",
      "LLM output: \"**In dangerous environments or situations, there is of course much less risk for the people**<sup>risk reduction</sup>\"\n",
      "Text reconstruction successful\n",
      "\n",
      "Warning: LLM output differs from the original text, with edit distance 1\n",
      "Original text: \"efficiency: both equally fast work, more productive way of working as well as improved access to danger zones\"\n",
      "LLM output: \"**efficiency: both equally fast work**<sup>efficiency</sup>, **more productive way of working**<sup>efficiency</sup> as well as **improved access to danger zones**<sup>access</sup>.\"\n",
      "Distance less than treshold 5, accept\n",
      "\n",
      "Warning: LLM output differs from the original text, with edit distance 1\n",
      "Original text: \"can act quickly: Robots can intervene quickly, as they do not need to be dressed or prepared and are autonomous\"\n",
      "LLM output: \"**can act quickly:** Robots can intervene quickly, as they do not need to be dressed or prepared and are autonomous<sup>speed; automation</sup>.\"\n",
      "Distance less than treshold 5, accept\n",
      "\n",
      "Warning: LLM output differs from the original text, with edit distance 22\n",
      "Original text: \"can work long\"\n",
      "LLM output: \"can work long **physical capabilities**<sup>physical capabilities</sup>\"\n",
      "Could not find the LLM-annotated text \"physical capabilities\" in the original text \"can work long\"\n",
      "Text reconstruction failed, discard LLM response\n",
      "\n",
      "Warning: LLM output differs from the original text, with edit distance 1\n",
      "Original text: \"\"small\" operations: Especially good for smaller operations and possibly the transport\"\n",
      "LLM output: \"\"small\" operations: Especially good for **smaller operations**<sup>operational capability</sup> and possibly the **transport**<sup>delivery of goods</sup>.\"\n",
      "Distance less than treshold 5, accept\n",
      "\n",
      "Warning: LLM output differs from the original text, with edit distance 13\n",
      "Original text: \"replaceable: In case of loss, no human sacrifice\"\n",
      "LLM output: \"**In case of loss, no human sacrifice**<sup>replaceable</sup>\"\n",
      "Text reconstruction successful\n",
      "\n",
      "Warning: LLM output differs from the original text, with edit distance 8\n",
      "Original text: \"access: access to areas where people cannot reach\"\n",
      "LLM output: \"**access to areas where people cannot reach**<sup>access</sup>\"\n",
      "Text reconstruction successful\n",
      "\n",
      "Warning: LLM output differs from the original text, with edit distance 1\n",
      "Original text: \"speed and efficiency: Robots can often act faster than humans and increase the speed of emergency interventions\"\n",
      "LLM output: \"**speed and efficiency: Robots can often act faster than humans**<sup>speed</sup> **and increase the speed of emergency interventions**<sup>efficiency</sup>.\"\n",
      "Distance less than treshold 5, accept\n",
      "\n",
      "Warning: LLM output differs from the original text, with edit distance 82\n",
      "Original text: \"efficient reconnaissance work: Through algorithms, maps can be read and created more quickly\"\n",
      "LLM output: \"The following is an example of the correct output format, with fictional codes:\n",
      "\n",
      "**efficient reconnaissance work**<sup>efficiency</sup>: **Through algorithms, maps can be read and created more quickly**<sup>automation; speed</sup>.\"\n",
      "Text reconstruction successful\n",
      "\n",
      "Warning: LLM output differs from the original text, with edit distance 4\n",
      "Original text: \"are physically superior: Strength, agility, mobility\"\n",
      "LLM output: \"**are physically superior:**<sup>physical capabilities</sup> **Strength, agility, mobility**<sup>strength</sup>; <sup>agility</sup>; <sup>mobility</sup>\"\n",
      "Distance less than treshold 5, accept\n",
      "\n",
      "Warning: LLM output differs from the original text, with edit distance 1\n",
      "Original text: \"can be replaced: Robots can be replaced by other robots in case of loss\"\n",
      "LLM output: \"**can be replaced:** Robots **can be replaced by other robots**<sup>replaceable</sup> **in case of loss**<sup>replaceability</sup>.\"\n",
      "Distance less than treshold 5, accept\n",
      "\n",
      "Warning: LLM output differs from the original text, with edit distance 1\n",
      "Original text: \"no danger: No human doctor etc. needs to enter the operating area and thus it is significantly safer and therefore protects human lives.\"\n",
      "LLM output: \"**no danger:** No human doctor etc. needs to enter the operating area and thus it is significantly safer and therefore protects human lives.<sup>safety; benefit; risk reduction</sup>.\"\n",
      "Distance less than treshold 5, accept\n",
      "\n",
      "Had to reconstruct 7 texts due to LLM errors\n",
      "WARNING: A total of 2 LLM outputs were discarded because of errors\n",
      "\n",
      " |████████████████████████████████████████████████████████████████████████████████████████████████████| 100.0% \n",
      "Warning: LLM output differs from the original text, with edit distance 1\n",
      "Original text: \"reduction of injury risk: compared to 'soft' rescue robots; valid for hard rescue robots\"\n",
      "LLM output: \"**reduction of injury risk: compared to 'soft' rescue robots**<sup>risk reduction</sup>; **valid for hard rescue robots**<sup>safety</sup>.\"\n",
      "Distance less than treshold 5, accept\n",
      "\n",
      "Warning: LLM output differs from the original text, with edit distance 19\n",
      "Original text: \"food/water transport\"\n",
      "LLM output: \"food/water transport; **delivery of goods**<sup>delivery of goods</sup>\"\n",
      "Could not find the LLM-annotated text \"delivery of goods\" in the original text \"food/water transport\"\n",
      "Text reconstruction failed, discard LLM response\n",
      "\n",
      "WARNING: A total of 1 LLM outputs were discarded because of errors\n",
      "\n",
      "index: 3, category: R\n",
      "Processing category: R\n",
      "Research Question: What are the mentioned key benefits and risks regarding the perceived risks of rescue robots?\n",
      " |████████████████████████████████████████████████████████████████████████████████████████████████████| 100.0% \n",
      "Warning: LLM output differs from the original text, with edit distance 1\n",
      "Original text: \"Inability in unprogrammed situations: not everything can be pre-programmed and there are many unexpected situations in the rescue fields\"\n",
      "LLM output: \"Inability in unprogrammed situations: **not everything can be pre-programmed**<sup>precision</sup> and **there are many unexpected situations in the rescue fields**<sup>unpredictability</sup>.\"\n",
      "Distance less than treshold 5, accept\n",
      "\n",
      "Warning: LLM output differs from the original text, with edit distance 1\n",
      "Original text: \"malfunctions: Due to a technical defect, there is a risk that the machine may harm the victim. For example, gripping arms may grip too tight and strangle the victim, or clearance drills may murder the victim.\"\n",
      "LLM output: \"**malfunctions:** Due to a technical defect, there is a risk that the machine may harm the victim. For example, gripping arms may grip too tight and strangle the victim, or clearance drills may murder the victim. **<sup>potential harm to victims; perceived risk</sup>**\"\n",
      "Distance less than treshold 5, accept\n",
      "\n",
      "Warning: LLM output differs from the original text, with edit distance 1\n",
      "Original text: \"control over robot actions: It is not certain how robots will react and whether control over them can be maintained\"\n",
      "LLM output: \"**control over robot actions: It is not certain how robots will react and whether control over them can be maintained**<sup>unpredictability; potential risk</sup>.\"\n",
      "Distance less than treshold 5, accept\n",
      "\n",
      " |████████████████████████████████████████████████████████████████████████████████████████████████████| 100.0% \n",
      "Warning: LLM output differs from the original text, with edit distance 1\n",
      "Original text: \"possibly unreliable: in comparison to 'hard' rescue robots; applicable for soft rescue robots\"\n",
      "LLM output: \"**possibly unreliable: in comparison to 'hard' rescue robots**<sup>reliability</sup>; **applicable for soft rescue robots**<sup>precision</sup>.\"\n",
      "Distance less than treshold 5, accept\n",
      "\n",
      "Warning: LLM output differs from the original text, with edit distance 1\n",
      "Original text: \"possibly less precise: compared to 'hard' rescue robots; applicable for soft rescue robots\"\n",
      "LLM output: \"**possibly less precise: compared to 'hard' rescue robots**<sup>precision</sup>; **applicable for soft rescue robots**<sup>applicability</sup>.\"\n",
      "Distance less than treshold 5, accept\n",
      "\n",
      "Warning: LLM output differs from the original text, with edit distance 10\n",
      "Original text: \"accuracy: Accuracy may be limited\"\n",
      "LLM output: \"**Accuracy may be limited**<sup>accuracy; technical limitation</sup>\"\n",
      "Text reconstruction successful\n",
      "\n",
      "Had to reconstruct 1 texts due to LLM errors\n",
      "WARNING: Output contains code \"applicability\" that is not in the codebook, removing...\n",
      "index: 4, category: HRIP\n",
      "Processing category: HRIP\n",
      "Research Question: What are the mentioned key benefits and risks regarding the perceived positive Human-Robot-Interaction of rescue robots?\n",
      "Warning: LLM output differs from the original text, with edit distance 6\n",
      "Original text: \"hope: Robots can give victims hope that they might be rescued, which could impact their endurance\"\n",
      "LLM output: \"**Robots can give victims hope that they might be rescued**<sup>hope</sup>, **which could impact their endurance**<sup>endurance</sup>\"\n",
      "Text reconstruction successful\n",
      "\n",
      "Warning: LLM output differs from the original text, with edit distance 8\n",
      "Original text: \"supply: Robots can take care of people who are initially unreachable\"\n",
      "LLM output: \"**Robots can take care of people who are initially unreachable**<sup>complementary role</sup>\"\n",
      "Text reconstruction successful\n",
      "\n",
      "Had to reconstruct 2 texts due to LLM errors\n",
      "index: 5, category: HRIN\n",
      "Processing category: HRIN\n",
      "Research Question: What are the mentioned key benefits and risks regarding the perceived negative Human-Robot-Interaction of rescue robots?\n",
      " |████████████████████████████████████████████████████████████████████████████████████████████████████| 100.0% \n",
      "Warning: LLM output differs from the original text, with edit distance 20\n",
      "Original text: \"emotional coldness: The use of humans in emergency situations is probably more pleasant for the victims than the use of cold/emotionless robots.\"\n",
      "LLM output: \"**The use of humans in emergency situations is probably more pleasant for the victims than the use of cold/emotionless robots**<sup>emotional coldness</sup>.\"\n",
      "Text reconstruction successful\n",
      "\n",
      "Warning: LLM output differs from the original text, with edit distance 1\n",
      "Original text: \"impersonal: lack of human closeness, which the victim may need\"\n",
      "LLM output: \"**impersonal: lack of human closeness**<sup>lack of emotional understanding</sup>, **which the victim may need**<sup>emotions</sup>.\"\n",
      "Distance less than treshold 5, accept\n",
      "\n",
      "Had to reconstruct 1 texts due to LLM errors\n",
      "index: 6, category: AP\n",
      "Processing category: AP\n",
      "Research Question: What are the mentioned key benefits and risks regarding the perceived positive anthropomorphism of rescue robots?\n",
      " |████████████████████████████████████████████████████████████████████████████████████████████████████| 100.0% \n",
      "Warning: LLM output differs from the original text, with edit distance 22\n",
      "Original text: \"autonomous decisions: Robots decide on life and death. They possibly make more logical decisions when they are not guided by emotions and prejudices as humans do.\"\n",
      "LLM output: \"**Robots decide on life and death**<sup>autonomous decisions</sup>. They possibly make more logical decisions when they are not guided by emotions and prejudices as humans do.\"\n",
      "Text reconstruction successful\n",
      "\n",
      "Warning: LLM output differs from the original text, with edit distance 22\n",
      "Original text: \"lack of emotionality: Human rescuers could be shocked, carry trauma from it, all of which a robot can handle.\"\n",
      "LLM output: \"**Human rescuers could be shocked, carry trauma from it, all of which a robot can handle**<sup>lack of emotionality</sup>.\"\n",
      "Text reconstruction successful\n",
      "\n",
      "Had to reconstruct 2 texts due to LLM errors\n",
      "index: 7, category: AN\n",
      "Processing category: AN\n",
      "Research Question: What are the mentioned key benefits and risks regarding the perceived negative anthropomorphism of rescue robots?\n",
      " |████████████████████████████████████████████████████████████████████████████████████████████████████| 100.0% \n",
      "Warning: LLM output differs from the original text, with edit distance 12\n",
      "Original text: \"compassion: The robot is not a living being and therefore cannot provide emotional support to potential victims.\"\n",
      "LLM output: \"**The robot is not a living being**<sup>perceived_negative_anthropomorphism</sup> and therefore **cannot provide emotional support to potential victims**<sup>lack_of_empathy</sup>.\"\n",
      "Text reconstruction successful\n",
      "\n",
      "Had to reconstruct 1 texts due to LLM errors\n"
     ]
    }
   ],
   "source": [
    "type_robot = \"RR\"\n",
    "\n",
    "file_path_xlsx = directory + \"/output/G3/rescue robot frequency table codes\" + \".xlsx\"\n",
    "file_path_json = directory + \"/output/G3/rescue robot coded texts\" + \".json\"\n",
    "\n",
    "if run_deductive_coding:\n",
    "    \n",
    "    json_objects = []\n",
    "    dataframes = []\n",
    "    \n",
    "    \n",
    "    for index, category in enumerate(abbreviations_dict.keys()):\n",
    "        print(f\"index: {index}, category: {category}\")\n",
    "        \n",
    "        tmp_out = process_robot_data_deductively(type_robot=type_robot,\n",
    "                               category=category,\n",
    "                               abbreviations_dict=abbreviations_dict, \n",
    "                               all_sheets_RR=all_sheets_RR,\n",
    "                               all_sheets_SAR=all_sheets_SAR,\n",
    "                               array_categories=array_categories_RR, \n",
    "                               array_codingDescriptions=array_codingDescriptions_RR,\n",
    "                               directory=directory,\n",
    "                               create_multivalue_dict=create_multivalue_dict,\n",
    "                               combine_dicts=combine_dicts,\n",
    "                               LLMCode=LLMCode,\n",
    "                               gpt_model=\"gpt-3.5-turbo\", use_cache=True, verbose=True)\n",
    "        \n",
    "        json_objects.append(tmp_out[\"coded_texts\"])\n",
    "        dataframes.append(tmp_out[\"frequency_codes\"])\n",
    "       \n",
    "    \n",
    "    combined_df = pd.concat(dataframes, ignore_index=True)    \n",
    "    combined_df.to_excel(file_path_xlsx, index=False)\n",
    "\n",
    "    with open(file_path_json, 'w', encoding='utf-8') as json_file:\n",
    "        json.dump(json_objects, json_file, indent=4, ensure_ascii=False)"
   ]
  },
  {
   "cell_type": "markdown",
   "metadata": {},
   "source": [
    "#### for SAR"
   ]
  },
  {
   "cell_type": "code",
   "execution_count": null,
   "metadata": {},
   "outputs": [
    {
     "data": {
      "text/plain": [
       "defaultdict(list,\n",
       "            {'comfort': ['no fear'],\n",
       "             'complementary role': ['autonomous support',\n",
       "              'can work complementary: complements human activities']})"
      ]
     },
     "execution_count": 186,
     "metadata": {},
     "output_type": "execute_result"
    }
   ],
   "source": [
    "type_robot = \"SAR\"\n",
    "\n",
    "file_path_xlsx = directory + \"/output/G3/socially assistive robot frequency table codes\" + \".xlsx\"\n",
    "file_path_json = directory + \"/output/G3/socially assistive robot coded texts\" + \".json\"\n",
    "\n",
    "if run_deductive_coding:\n",
    "    \n",
    "    json_objects = []\n",
    "    dataframes = []\n",
    "    \n",
    "    \n",
    "    for index, category in enumerate(abbreviations_dict.keys()):\n",
    "        print(f\"index: {index}, category: {category}\")\n",
    "        \n",
    "        tmp_out = process_robot_data_deductively(type_robot=type_robot,\n",
    "                               category=category,\n",
    "                               abbreviations_dict=abbreviations_dict, \n",
    "                               all_sheets_RR=all_sheets_RR,\n",
    "                               all_sheets_SAR=all_sheets_SAR,\n",
    "                               array_categories=array_categories_SAR, \n",
    "                               array_codingDescriptions=array_codingDescriptions_SAR,\n",
    "                               directory=directory,\n",
    "                               create_multivalue_dict=create_multivalue_dict,\n",
    "                               combine_dicts=combine_dicts,\n",
    "                               LLMCode=LLMCode,\n",
    "                               gpt_model=\"gpt-3.5-turbo\", use_cache=True, verbose=True)\n",
    "        \n",
    "        json_objects.append(tmp_out[\"coded_texts\"])\n",
    "        dataframes.append(tmp_out[\"frequency_codes\"])\n",
    "       \n",
    "    \n",
    "    combined_df = pd.concat(dataframes, ignore_index=True)    \n",
    "    combined_df.to_excel(file_path_xlsx, index=False)\n",
    "\n",
    "    with open(file_path_json, 'w', encoding='utf-8') as json_file:\n",
    "        json.dump(json_objects, json_file, indent=4, ensure_ascii=False)"
   ]
  }
 ],
 "metadata": {
  "kernelspec": {
   "display_name": "Python 3",
   "language": "python",
   "name": "python3"
  },
  "language_info": {
   "codemirror_mode": {
    "name": "ipython",
    "version": 3
   },
   "file_extension": ".py",
   "mimetype": "text/x-python",
   "name": "python",
   "nbconvert_exporter": "python",
   "pygments_lexer": "ipython3",
   "version": "3.11.9"
  }
 },
 "nbformat": 4,
 "nbformat_minor": 2
}
