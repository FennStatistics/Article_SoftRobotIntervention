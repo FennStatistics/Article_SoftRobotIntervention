{
 "cells": [
  {
   "cell_type": "markdown",
   "metadata": {},
   "source": [
    "# Load needed modules"
   ]
  },
  {
   "cell_type": "code",
   "execution_count": 1,
   "metadata": {},
   "outputs": [],
   "source": [
    "# modules:\n",
    "import pandas as pd\n",
    "import os\n",
    "from openai import OpenAI\n",
    "import numpy as np\n",
    "\n",
    "import re\n",
    "\n",
    "\n",
    "\n",
    "# get external variables or functions:\n",
    "import src.API_key as key"
   ]
  },
  {
   "cell_type": "markdown",
   "metadata": {},
   "source": [
    "# Load data to feed ChatGPT\n",
    "> this should be the processed data by \"EXCEL aufbereiten\"\n",
    "\n",
    "define the name of the data set you want to read (must be \".xlsx\" file):"
   ]
  },
  {
   "cell_type": "code",
   "execution_count": 2,
   "metadata": {},
   "outputs": [],
   "source": [
    "nameData_long = \"class_LEB_CH 9.1_long\"\n",
    "nameData_wide = \"class_LEB_CH 9.1\""
   ]
  },
  {
   "cell_type": "code",
   "execution_count": 3,
   "metadata": {},
   "outputs": [
    {
     "name": "stdout",
     "output_type": "stream",
     "text": [
      "c:\\DATEN\\PHD\\Steffen_LEB\\LEB generieren\n"
     ]
    }
   ],
   "source": [
    "print(os.getcwd())\n",
    "# Get the current working directory\n",
    "os.chdir(\"data\") \n",
    "directory = os.getcwd()"
   ]
  },
  {
   "cell_type": "code",
   "execution_count": 4,
   "metadata": {},
   "outputs": [
    {
     "name": "stdout",
     "output_type": "stream",
     "text": [
      "c:\\DATEN\\PHD\\Steffen_LEB\\LEB generieren\\data\n"
     ]
    }
   ],
   "source": [
    "# print the current working directory\n",
    "print(directory)"
   ]
  },
  {
   "cell_type": "code",
   "execution_count": 5,
   "metadata": {},
   "outputs": [
    {
     "name": "stdout",
     "output_type": "stream",
     "text": [
      "['class_LEB_CH 9.1.xlsx', 'class_LEB_CH 9.1_long.xlsx']\n"
     ]
    }
   ],
   "source": [
    "# List files in the current working directory\n",
    "files = os.listdir('.')\n",
    "# Display the list of files\n",
    "print(files)"
   ]
  },
  {
   "cell_type": "code",
   "execution_count": 6,
   "metadata": {},
   "outputs": [
    {
     "name": "stdout",
     "output_type": "stream",
     "text": [
      "38\n",
      "['Albiez, Elias' 'Brennert, Marlon' 'Carbone, Valerio' 'Dorner, Sebastian'\n",
      " 'Jung, Emily' 'Knab, Alicia' 'Knopf, Ben' 'Kraut, Lars' 'Kraut, Laura'\n",
      " 'Kunzmann, Emanuel' 'Mresh, Joudi' 'Naimi, Yara' 'Neff, Florian'\n",
      " 'Öztürk, Rana' 'Schwaß, Niklas' 'Stark, Amy' 'Still, Julian'\n",
      " 'Thomas, Lovetta' 'Vera, Anthony']\n"
     ]
    },
    {
     "name": "stderr",
     "output_type": "stream",
     "text": [
      "c:\\Users\\fenn\\AppData\\Local\\R-MINI~1\\Lib\\site-packages\\openpyxl\\styles\\stylesheet.py:226: UserWarning: Workbook contains no default style, apply openpyxl's default\n",
      "  warn(\"Workbook contains no default style, apply openpyxl's default\")\n"
     ]
    }
   ],
   "source": [
    "# Load the .xlsx file into a DataFrame\n",
    "df = pd.read_excel(directory + \"/\" + nameData_long + \".xlsx\")\n",
    "\n",
    "print(df.__len__())\n",
    "print(df['Name'].unique())\n",
    "#print(df['competences'])"
   ]
  },
  {
   "cell_type": "markdown",
   "metadata": {},
   "source": [
    "# Set up ChatGPT"
   ]
  },
  {
   "cell_type": "markdown",
   "metadata": {},
   "source": [
    "## 1. create prompt text"
   ]
  },
  {
   "cell_type": "code",
   "execution_count": 7,
   "metadata": {},
   "outputs": [
    {
     "name": "stdout",
     "output_type": "stream",
     "text": [
      "[None, None, 'Ich möchte einen Lernentwicklungsbericht für einen Schüler namens Carbone, Valerio schreiben. Verwende hierbei die dritte Person, um die Lernentwicklung des Schülers sachlich zu beschreiben. Achte hierbei auf das Geschlecht des Namens. Verwende nur den Vornamen des Schülers. Dieser Lernentwicklungsbericht sollte nur aus einem einzigen Paragraphen bestehen und folgend aufgebaut sein: 1. Schreibe ein Satz zur mündlichen Note im Unterricht, ohne das Wort \"mündlich\" zu verwenden. \\n                2. Schreibe zu jeder Kontrolle zwei bis drei Sätze, wobei das Niveau des Schülers am Anfang genannt wird. Beachte hierbei zu jedem Textblock der jeweiligen Kontrolle etwas zu schreiben, wobei \"UND\" für verschiedene Fähigkeiten innerhalb einer erworbenen Kompetenz steht. Schreibe pro Kontrolle / Check jedoch nicht mehr als 40 Worte. Verwende nicht das Wort \"Kontrolle\" oder \"Check\". \\n                3. Am Schluss des Paragraphen soll \"(Fe)\" stehen.\\n                Hierbei übergebe ich dir im Folgenden, die dafür relevanten Informationen:     \\n                zu 1. mündliche Note:  \\n                gezeigtes Engagement im Unterricht: beteiligt sich aktiv, sowie gezeigtes Interesse im Unterricht: reges.\\n                zu 2. Kontrollen:\\n                    Check1:\\n                    Niveau der  erworbene Kompetenzen: lückenhaft\\n\\n                    Kompetenzen:\\n                    Stoffe anhand ihrer Bausteine ordnen (Metalle, flüchtige/molekulare Stoffe, Salze) UND mit dem Kern-Hülle-Modell den Aufbau von Atomen darstellen (Proton, Elektron, Neutron) UND auf der Grundlage eines Modellversuchs zum Rutherfordschen Streuversuch das Kern-Hülle-Modell beschreiben UND den Zusammenhang zwischen Atombau und Stellung der Atome im Periodensystem der Elemente beschreiben (Atomsymbole, Protonenanzahl)\\n                    \\n                    \\n                    Check2:\\n                    Niveau der  erworbene Kompetenzen: lückenhaft\\n\\n                    Kompetenzen:\\n                    Moleküle als miteinander verbundene Atome beschreiben UND die Ionenbindung beschreiben und typische Eigenschaften des Natriumchlorids begründen (Ionengitter, Sprödigkeit, hohe Schmelztemperatur)\\n\\neinfache Verhältnisformeln mithilfe vorgegebener Ionen unter Anleitung aufstellen UND den Informationsgehalt von Molekülformeln beschreiben (H2O, O2, CO2)\\n\\nMolekülen und Ionengittern Bindungstypen zuordnen (Elektronenpaarbindung, Ionenbindung)\\n                    \\n                    ', 'Ich möchte einen Lernentwicklungsbericht für einen Schüler namens Dorner, Sebastian schreiben. Verwende hierbei die dritte Person, um die Lernentwicklung des Schülers sachlich zu beschreiben. Achte hierbei auf das Geschlecht des Namens. Verwende nur den Vornamen des Schülers. Dieser Lernentwicklungsbericht sollte nur aus einem einzigen Paragraphen bestehen und folgend aufgebaut sein: 1. Schreibe ein Satz zur mündlichen Note im Unterricht, ohne das Wort \"mündlich\" zu verwenden. \\n                2. Schreibe zu jeder Kontrolle zwei bis drei Sätze, wobei das Niveau des Schülers am Anfang genannt wird. Beachte hierbei zu jedem Textblock der jeweiligen Kontrolle etwas zu schreiben, wobei \"UND\" für verschiedene Fähigkeiten innerhalb einer erworbenen Kompetenz steht. Schreibe pro Kontrolle / Check jedoch nicht mehr als 40 Worte. Verwende nicht das Wort \"Kontrolle\" oder \"Check\". \\n                3. Am Schluss des Paragraphen soll \"(Fe)\" stehen.\\n                Hierbei übergebe ich dir im Folgenden, die dafür relevanten Informationen:     \\n                zu 1. mündliche Note:  \\n                gezeigtes Engagement im Unterricht: beteiligt sich sehr aktiv, sowie gezeigtes Interesse im Unterricht: überdurchschnittlich .\\n                zu 2. Kontrollen:\\n                    Check1:\\n                    Niveau der  erworbene Kompetenzen: sehr sicher\\n\\n                    Kompetenzen:\\n                    Stoffe anhand ihrer Stoffteilchen ordnen (Metalle, Edelgase, flüchtige/molekulare Stoffe, Salze) UND mit einem Atommodell den Aufbau von Atomen und Ionen erläutern (Proton, Elektron, Neutron, Kern-Hülle-Modell, Schalenmodell, Außenelektron, Ionenbildung, Edelgaskonfiguration) UND auf der Grundlage des Rutherfordschen Streuversuchs das Kern-Hülle-Modell beschreiben UND den Zusammenhang zwischen Atombau und Stellung der Atome im Periodensystem der Elemente erklären (Atomsymbole, Ordnungszahl, Protonenanzahl, Elektronenanzahl, Neutronenanzahl, Massenzahl, Außenelektronen, Hauptgruppe, Periode)\\n                    \\n                    \\n                    Check2:\\n                    Niveau der  erworbene Kompetenzen: sehr sicher\\n\\n                    Kompetenzen:\\n                    Moleküle als miteinander verbundene Atome beschreiben UND die Ionenbindung beschreiben und typische Eigenschaften des Natriumchlorids und seiner wässrigen Lösung begründen (Ionengitter, Sprödigkeit, hohe Schmelztemperatur, elektrische Leitfähigkeit) UND die Metallbindung beschreiben und damit typische Eigenschaften der Metalle begründen (Duktilität, elektrische Leitfähigkeit)\\n\\neinfache Verhältnisformeln mithilfe der Edelgasregel unter Anleitung aufstellen UND den Informationsgehalt von Verhältnisformeln und Molekülformeln beschreiben\\n\\npolare und unpolare Elektronenpaarbindungen vergleichen (Elektronegativität) UND den Zusammenhang zwischen Bindungstyp, räumlichem Bau und Dipol-Eigenschaft des Wassers darstellen UND Stoffteilchen Bindungstypen zuordnen (Elektronenpaarbindung, Ionenbindung, Metallbindung) UND zwischenmolekulare Wechselwirkungen beschreiben (Wechselwirkungen zwischen temporären Dipolen, Wasserstoffbrücken)\\n                    \\n                    ', 'Ich möchte einen Lernentwicklungsbericht für einen Schüler namens Jung, Emily schreiben. Verwende hierbei die dritte Person, um die Lernentwicklung des Schülers sachlich zu beschreiben. Achte hierbei auf das Geschlecht des Namens. Verwende nur den Vornamen des Schülers. Dieser Lernentwicklungsbericht sollte nur aus einem einzigen Paragraphen bestehen und folgend aufgebaut sein: 1. Schreibe ein Satz zur mündlichen Note im Unterricht, ohne das Wort \"mündlich\" zu verwenden. \\n                2. Schreibe zu jeder Kontrolle zwei bis drei Sätze, wobei das Niveau des Schülers am Anfang genannt wird. Beachte hierbei zu jedem Textblock der jeweiligen Kontrolle etwas zu schreiben, wobei \"UND\" für verschiedene Fähigkeiten innerhalb einer erworbenen Kompetenz steht. Schreibe pro Kontrolle / Check jedoch nicht mehr als 40 Worte. Verwende nicht das Wort \"Kontrolle\" oder \"Check\". \\n                3. Am Schluss des Paragraphen soll \"(Fe)\" stehen.\\n                Hierbei übergebe ich dir im Folgenden, die dafür relevanten Informationen:     \\n                zu 1. mündliche Note:  \\n                gezeigtes Engagement im Unterricht: beteiligt sich teilweise, sowie gezeigtes Interesse im Unterricht: teilweise.\\n                zu 2. Kontrollen:\\n                    Check1:\\n                    Niveau der  erworbene Kompetenzen: lückenhaft\\n\\n                    Kompetenzen:\\n                    Stoffe anhand ihrer Stoffteilchen ordnen (Metalle, Edelgase, flüchtige/molekulare Stoffe, Salze) UND mit einem Atommodell den Aufbau von Atomen und Ionen erläutern (Proton, Elektron, Neutron, Kern-Hülle-Modell, Schalenmodell, Außenelektron, Ionenbildung, Edelgaskonfiguration) UND auf der Grundlage des Rutherfordschen Streuversuchs das Kern-Hülle-Modell beschreiben UND den Zusammenhang zwischen Atombau und Stellung der Atome im Periodensystem der Elemente erklären (Atomsymbole, Ordnungszahl, Protonenanzahl, Elektronenanzahl, Neutronenanzahl, Massenzahl, Außenelektronen, Hauptgruppe, Periode)\\n                    \\n                    \\n                    Check2:\\n                    Niveau der  erworbene Kompetenzen: sicher\\n\\n                    Kompetenzen:\\n                    Moleküle als miteinander verbundene Atome beschreiben UND die Ionenbindung beschreiben und typische Eigenschaften des Natriumchlorids und seiner wässrigen Lösung begründen (Ionengitter, Sprödigkeit, hohe Schmelztemperatur, elektrische Leitfähigkeit) UND die Metallbindung beschreiben und damit typische Eigenschaften der Metalle begründen (Duktilität, elektrische Leitfähigkeit)\\n\\neinfache Verhältnisformeln mithilfe der Edelgasregel unter Anleitung aufstellen UND den Informationsgehalt von Verhältnisformeln und Molekülformeln beschreiben\\n\\npolare und unpolare Elektronenpaarbindungen vergleichen (Elektronegativität) UND den Zusammenhang zwischen Bindungstyp, räumlichem Bau und Dipol-Eigenschaft des Wassers darstellen UND Stoffteilchen Bindungstypen zuordnen (Elektronenpaarbindung, Ionenbindung, Metallbindung) UND zwischenmolekulare Wechselwirkungen beschreiben (Wechselwirkungen zwischen temporären Dipolen, Wasserstoffbrücken)\\n                    \\n                    ', 'Ich möchte einen Lernentwicklungsbericht für einen Schüler namens Knab, Alicia schreiben. Verwende hierbei die dritte Person, um die Lernentwicklung des Schülers sachlich zu beschreiben. Achte hierbei auf das Geschlecht des Namens. Verwende nur den Vornamen des Schülers. Dieser Lernentwicklungsbericht sollte nur aus einem einzigen Paragraphen bestehen und folgend aufgebaut sein: 1. Schreibe ein Satz zur mündlichen Note im Unterricht, ohne das Wort \"mündlich\" zu verwenden. \\n                2. Schreibe zu jeder Kontrolle zwei bis drei Sätze, wobei das Niveau des Schülers am Anfang genannt wird. Beachte hierbei zu jedem Textblock der jeweiligen Kontrolle etwas zu schreiben, wobei \"UND\" für verschiedene Fähigkeiten innerhalb einer erworbenen Kompetenz steht. Schreibe pro Kontrolle / Check jedoch nicht mehr als 40 Worte. Verwende nicht das Wort \"Kontrolle\" oder \"Check\". \\n                3. Am Schluss des Paragraphen soll \"(Fe)\" stehen.\\n                Hierbei übergebe ich dir im Folgenden, die dafür relevanten Informationen:     \\n                zu 1. mündliche Note:  \\n                gezeigtes Engagement im Unterricht: beteiligt sich teilweise, sowie gezeigtes Interesse im Unterricht: teilweise.\\n                zu 2. Kontrollen:\\n                    Check1:\\n                    Niveau der  erworbene Kompetenzen: lückenhaft\\n\\n                    Kompetenzen:\\n                    Stoffe anhand ihrer Bausteine ordnen (Metalle, flüchtige/molekulare Stoffe, Salze) UND mit dem Kern-Hülle-Modell den Aufbau von Atomen darstellen (Proton, Elektron, Neutron) UND auf der Grundlage eines Modellversuchs zum Rutherfordschen Streuversuch das Kern-Hülle-Modell beschreiben UND den Zusammenhang zwischen Atombau und Stellung der Atome im Periodensystem der Elemente beschreiben (Atomsymbole, Protonenanzahl)\\n                    \\n                    \\n                    Check2:\\n                    Niveau der  erworbene Kompetenzen: lückenhaft\\n\\n                    Kompetenzen:\\n                    Moleküle als miteinander verbundene Atome beschreiben UND die Ionenbindung beschreiben und typische Eigenschaften des Natriumchlorids begründen (Ionengitter, Sprödigkeit, hohe Schmelztemperatur)\\n\\neinfache Verhältnisformeln mithilfe vorgegebener Ionen unter Anleitung aufstellen UND den Informationsgehalt von Molekülformeln beschreiben (H2O, O2, CO2)\\n\\nMolekülen und Ionengittern Bindungstypen zuordnen (Elektronenpaarbindung, Ionenbindung)\\n                    \\n                    ', 'Ich möchte einen Lernentwicklungsbericht für einen Schüler namens Knopf, Ben schreiben. Verwende hierbei die dritte Person, um die Lernentwicklung des Schülers sachlich zu beschreiben. Achte hierbei auf das Geschlecht des Namens. Verwende nur den Vornamen des Schülers. Dieser Lernentwicklungsbericht sollte nur aus einem einzigen Paragraphen bestehen und folgend aufgebaut sein: 1. Schreibe ein Satz zur mündlichen Note im Unterricht, ohne das Wort \"mündlich\" zu verwenden. \\n                2. Schreibe zu jeder Kontrolle zwei bis drei Sätze, wobei das Niveau des Schülers am Anfang genannt wird. Beachte hierbei zu jedem Textblock der jeweiligen Kontrolle etwas zu schreiben, wobei \"UND\" für verschiedene Fähigkeiten innerhalb einer erworbenen Kompetenz steht. Schreibe pro Kontrolle / Check jedoch nicht mehr als 40 Worte. Verwende nicht das Wort \"Kontrolle\" oder \"Check\". \\n                3. Am Schluss des Paragraphen soll \"(Fe)\" stehen.\\n                Hierbei übergebe ich dir im Folgenden, die dafür relevanten Informationen:     \\n                zu 1. mündliche Note:  \\n                gezeigtes Engagement im Unterricht: beteiligt sich aktiv, sowie gezeigtes Interesse im Unterricht: reges.\\n                zu 2. Kontrollen:\\n                    Check1:\\n                    Niveau der  erworbene Kompetenzen: teilweise\\n\\n                    Kompetenzen:\\n                    Stoffe anhand ihrer Stoffteilchen ordnen (Metalle, Edelgase, flüchtige/molekulare Stoffe, Salze) UND mit einem Atommodell den Aufbau von Atomen und Ionen erläutern (Proton, Elektron, Neutron, Kern-Hülle-Modell, Schalenmodell, Außenelektron, Ionenbildung, Edelgaskonfiguration) UND auf der Grundlage des Rutherfordschen Streuversuchs das Kern-Hülle-Modell beschreiben UND den Zusammenhang zwischen Atombau und Stellung der Atome im Periodensystem der Elemente erklären (Atomsymbole, Ordnungszahl, Protonenanzahl, Elektronenanzahl, Neutronenanzahl, Massenzahl, Außenelektronen, Hauptgruppe, Periode)\\n                    \\n                    \\n                    Check2:\\n                    Niveau der  erworbene Kompetenzen: teilweise\\n\\n                    Kompetenzen:\\n                    Moleküle als miteinander verbundene Atome beschreiben UND die Ionenbindung beschreiben und typische Eigenschaften des Natriumchlorids und seiner wässrigen Lösung begründen (Ionengitter, Sprödigkeit, hohe Schmelztemperatur, elektrische Leitfähigkeit) UND die Metallbindung beschreiben und damit typische Eigenschaften der Metalle begründen (Duktilität, elektrische Leitfähigkeit)\\n\\neinfache Verhältnisformeln mithilfe der Edelgasregel unter Anleitung aufstellen UND den Informationsgehalt von Verhältnisformeln und Molekülformeln beschreiben\\n\\npolare und unpolare Elektronenpaarbindungen vergleichen (Elektronegativität) UND den Zusammenhang zwischen Bindungstyp, räumlichem Bau und Dipol-Eigenschaft des Wassers darstellen UND Stoffteilchen Bindungstypen zuordnen (Elektronenpaarbindung, Ionenbindung, Metallbindung) UND zwischenmolekulare Wechselwirkungen beschreiben (Wechselwirkungen zwischen temporären Dipolen, Wasserstoffbrücken)\\n                    \\n                    ', 'Ich möchte einen Lernentwicklungsbericht für einen Schüler namens Kraut, Lars schreiben. Verwende hierbei die dritte Person, um die Lernentwicklung des Schülers sachlich zu beschreiben. Achte hierbei auf das Geschlecht des Namens. Verwende nur den Vornamen des Schülers. Dieser Lernentwicklungsbericht sollte nur aus einem einzigen Paragraphen bestehen und folgend aufgebaut sein: 1. Schreibe ein Satz zur mündlichen Note im Unterricht, ohne das Wort \"mündlich\" zu verwenden. \\n                2. Schreibe zu jeder Kontrolle zwei bis drei Sätze, wobei das Niveau des Schülers am Anfang genannt wird. Beachte hierbei zu jedem Textblock der jeweiligen Kontrolle etwas zu schreiben, wobei \"UND\" für verschiedene Fähigkeiten innerhalb einer erworbenen Kompetenz steht. Schreibe pro Kontrolle / Check jedoch nicht mehr als 40 Worte. Verwende nicht das Wort \"Kontrolle\" oder \"Check\". \\n                3. Am Schluss des Paragraphen soll \"(Fe)\" stehen.\\n                Hierbei übergebe ich dir im Folgenden, die dafür relevanten Informationen:     \\n                zu 1. mündliche Note:  \\n                gezeigtes Engagement im Unterricht: beteiligt sich teilweise, sowie gezeigtes Interesse im Unterricht: teilweise.\\n                zu 2. Kontrollen:\\n                    Check1:\\n                    Niveau der  erworbene Kompetenzen: kaum\\n\\n                    Kompetenzen:\\n                    Stoffe anhand ihrer Bausteine ordnen (Metalle, flüchtige/molekulare Stoffe, Salze) UND mit dem Kern-Hülle-Modell den Aufbau von Atomen darstellen (Proton, Elektron, Neutron) UND auf der Grundlage eines Modellversuchs zum Rutherfordschen Streuversuch das Kern-Hülle-Modell beschreiben UND den Zusammenhang zwischen Atombau und Stellung der Atome im Periodensystem der Elemente beschreiben (Atomsymbole, Protonenanzahl)\\n                    \\n                    \\n                    Check2:\\n                    Niveau der  erworbene Kompetenzen: kaum\\n\\n                    Kompetenzen:\\n                    Moleküle als miteinander verbundene Atome beschreiben UND die Ionenbindung beschreiben und typische Eigenschaften des Natriumchlorids begründen (Ionengitter, Sprödigkeit, hohe Schmelztemperatur)\\n\\neinfache Verhältnisformeln mithilfe vorgegebener Ionen unter Anleitung aufstellen UND den Informationsgehalt von Molekülformeln beschreiben (H2O, O2, CO2)\\n\\nMolekülen und Ionengittern Bindungstypen zuordnen (Elektronenpaarbindung, Ionenbindung)\\n                    \\n                    ', 'Ich möchte einen Lernentwicklungsbericht für einen Schüler namens Kraut, Laura schreiben. Verwende hierbei die dritte Person, um die Lernentwicklung des Schülers sachlich zu beschreiben. Achte hierbei auf das Geschlecht des Namens. Verwende nur den Vornamen des Schülers. Dieser Lernentwicklungsbericht sollte nur aus einem einzigen Paragraphen bestehen und folgend aufgebaut sein: 1. Schreibe ein Satz zur mündlichen Note im Unterricht, ohne das Wort \"mündlich\" zu verwenden. \\n                2. Schreibe zu jeder Kontrolle zwei bis drei Sätze, wobei das Niveau des Schülers am Anfang genannt wird. Beachte hierbei zu jedem Textblock der jeweiligen Kontrolle etwas zu schreiben, wobei \"UND\" für verschiedene Fähigkeiten innerhalb einer erworbenen Kompetenz steht. Schreibe pro Kontrolle / Check jedoch nicht mehr als 40 Worte. Verwende nicht das Wort \"Kontrolle\" oder \"Check\". \\n                3. Am Schluss des Paragraphen soll \"(Fe)\" stehen.\\n                Hierbei übergebe ich dir im Folgenden, die dafür relevanten Informationen:     \\n                zu 1. mündliche Note:  \\n                gezeigtes Engagement im Unterricht: beteiligt sich wenig, sowie gezeigtes Interesse im Unterricht: wenig.\\n                zu 2. Kontrollen:\\n                    Check1:\\n                    Niveau der  erworbene Kompetenzen: lückenhaft\\n\\n                    Kompetenzen:\\n                    Stoffe anhand ihrer Bausteine ordnen (Metalle, flüchtige/molekulare Stoffe, Salze) UND mit dem Kern-Hülle-Modell den Aufbau von Atomen darstellen (Proton, Elektron, Neutron) UND auf der Grundlage eines Modellversuchs zum Rutherfordschen Streuversuch das Kern-Hülle-Modell beschreiben UND den Zusammenhang zwischen Atombau und Stellung der Atome im Periodensystem der Elemente beschreiben (Atomsymbole, Protonenanzahl)\\n                    \\n                    \\n                    Check2:\\n                    Niveau der  erworbene Kompetenzen: lückenhaft\\n\\n                    Kompetenzen:\\n                    Moleküle als miteinander verbundene Atome beschreiben UND die Ionenbindung beschreiben und typische Eigenschaften des Natriumchlorids begründen (Ionengitter, Sprödigkeit, hohe Schmelztemperatur)\\n\\neinfache Verhältnisformeln mithilfe vorgegebener Ionen unter Anleitung aufstellen UND den Informationsgehalt von Molekülformeln beschreiben (H2O, O2, CO2)\\n\\nMolekülen und Ionengittern Bindungstypen zuordnen (Elektronenpaarbindung, Ionenbindung)\\n                    \\n                    ', 'Ich möchte einen Lernentwicklungsbericht für einen Schüler namens Kunzmann, Emanuel schreiben. Verwende hierbei die dritte Person, um die Lernentwicklung des Schülers sachlich zu beschreiben. Achte hierbei auf das Geschlecht des Namens. Verwende nur den Vornamen des Schülers. Dieser Lernentwicklungsbericht sollte nur aus einem einzigen Paragraphen bestehen und folgend aufgebaut sein: 1. Schreibe ein Satz zur mündlichen Note im Unterricht, ohne das Wort \"mündlich\" zu verwenden. \\n                2. Schreibe zu jeder Kontrolle zwei bis drei Sätze, wobei das Niveau des Schülers am Anfang genannt wird. Beachte hierbei zu jedem Textblock der jeweiligen Kontrolle etwas zu schreiben, wobei \"UND\" für verschiedene Fähigkeiten innerhalb einer erworbenen Kompetenz steht. Schreibe pro Kontrolle / Check jedoch nicht mehr als 40 Worte. Verwende nicht das Wort \"Kontrolle\" oder \"Check\". \\n                3. Am Schluss des Paragraphen soll \"(Fe)\" stehen.\\n                Hierbei übergebe ich dir im Folgenden, die dafür relevanten Informationen:     \\n                zu 1. mündliche Note:  \\n                gezeigtes Engagement im Unterricht: beteiligt sich wenig, sowie gezeigtes Interesse im Unterricht: wenig.\\n                zu 2. Kontrollen:\\n                    Check1:\\n                    Niveau der  erworbene Kompetenzen: lückenhaft\\n\\n                    Kompetenzen:\\n                    Stoffe anhand ihrer Stoffteilchen ordnen (Metalle, Edelgase, flüchtige/molekulare Stoffe, Salze) UND mit einem Atommodell den Aufbau von Atomen und Ionen erläutern (Proton, Elektron, Neutron, Kern-Hülle-Modell, Schalenmodell, Außenelektron, Ionenbildung, Edelgaskonfiguration) UND auf der Grundlage des Rutherfordschen Streuversuchs das Kern-Hülle-Modell beschreiben UND den Zusammenhang zwischen Atombau und Stellung der Atome im Periodensystem der Elemente erklären (Atomsymbole, Ordnungszahl, Protonenanzahl, Elektronenanzahl, Neutronenanzahl, Massenzahl, Außenelektronen, Hauptgruppe, Periode)\\n                    \\n                    \\n                    Check2:\\n                    Niveau der  erworbene Kompetenzen: kaum\\n\\n                    Kompetenzen:\\n                    Moleküle als miteinander verbundene Atome beschreiben UND die Ionenbindung beschreiben und typische Eigenschaften des Natriumchlorids und seiner wässrigen Lösung begründen (Ionengitter, Sprödigkeit, hohe Schmelztemperatur, elektrische Leitfähigkeit) UND die Metallbindung beschreiben und damit typische Eigenschaften der Metalle begründen (Duktilität, elektrische Leitfähigkeit)\\n\\neinfache Verhältnisformeln mithilfe der Edelgasregel unter Anleitung aufstellen UND den Informationsgehalt von Verhältnisformeln und Molekülformeln beschreiben\\n\\npolare und unpolare Elektronenpaarbindungen vergleichen (Elektronegativität) UND den Zusammenhang zwischen Bindungstyp, räumlichem Bau und Dipol-Eigenschaft des Wassers darstellen UND Stoffteilchen Bindungstypen zuordnen (Elektronenpaarbindung, Ionenbindung, Metallbindung) UND zwischenmolekulare Wechselwirkungen beschreiben (Wechselwirkungen zwischen temporären Dipolen, Wasserstoffbrücken)\\n                    \\n                    ', 'Ich möchte einen Lernentwicklungsbericht für einen Schüler namens Mresh, Joudi schreiben. Verwende hierbei die dritte Person, um die Lernentwicklung des Schülers sachlich zu beschreiben. Achte hierbei auf das Geschlecht des Namens. Verwende nur den Vornamen des Schülers. Dieser Lernentwicklungsbericht sollte nur aus einem einzigen Paragraphen bestehen und folgend aufgebaut sein: 1. Schreibe ein Satz zur mündlichen Note im Unterricht, ohne das Wort \"mündlich\" zu verwenden. \\n                2. Schreibe zu jeder Kontrolle zwei bis drei Sätze, wobei das Niveau des Schülers am Anfang genannt wird. Beachte hierbei zu jedem Textblock der jeweiligen Kontrolle etwas zu schreiben, wobei \"UND\" für verschiedene Fähigkeiten innerhalb einer erworbenen Kompetenz steht. Schreibe pro Kontrolle / Check jedoch nicht mehr als 40 Worte. Verwende nicht das Wort \"Kontrolle\" oder \"Check\". \\n                3. Am Schluss des Paragraphen soll \"(Fe)\" stehen.\\n                Hierbei übergebe ich dir im Folgenden, die dafür relevanten Informationen:     \\n                zu 1. mündliche Note:  \\n                gezeigtes Engagement im Unterricht: beteiligt sich wenig, sowie gezeigtes Interesse im Unterricht: wenig.\\n                zu 2. Kontrollen:\\n                    Check1:\\n                    Niveau der  erworbene Kompetenzen: kaum\\n\\n                    Kompetenzen:\\n                    Stoffe anhand ihrer Stoffteilchen ordnen (Metalle, Edelgase, flüchtige/molekulare Stoffe, Salze) UND mit einem Atommodell den Aufbau von Atomen und Ionen erläutern (Proton, Elektron, Neutron, Kern-Hülle-Modell, Schalenmodell, Außenelektron, Ionenbildung, Edelgaskonfiguration) UND auf der Grundlage des Rutherfordschen Streuversuchs das Kern-Hülle-Modell beschreiben UND den Zusammenhang zwischen Atombau und Stellung der Atome im Periodensystem der Elemente erklären (Atomsymbole, Ordnungszahl, Protonenanzahl, Elektronenanzahl, Neutronenanzahl, Massenzahl, Außenelektronen, Hauptgruppe, Periode)\\n                    \\n                    \\n                    Check2:\\n                    Niveau der  erworbene Kompetenzen: kaum\\n\\n                    Kompetenzen:\\n                    Moleküle als miteinander verbundene Atome beschreiben UND die Ionenbindung beschreiben und typische Eigenschaften des Natriumchlorids und seiner wässrigen Lösung begründen (Ionengitter, Sprödigkeit, hohe Schmelztemperatur, elektrische Leitfähigkeit) UND die Metallbindung beschreiben und damit typische Eigenschaften der Metalle begründen (Duktilität, elektrische Leitfähigkeit)\\n\\neinfache Verhältnisformeln mithilfe der Edelgasregel unter Anleitung aufstellen UND den Informationsgehalt von Verhältnisformeln und Molekülformeln beschreiben\\n\\npolare und unpolare Elektronenpaarbindungen vergleichen (Elektronegativität) UND den Zusammenhang zwischen Bindungstyp, räumlichem Bau und Dipol-Eigenschaft des Wassers darstellen UND Stoffteilchen Bindungstypen zuordnen (Elektronenpaarbindung, Ionenbindung, Metallbindung) UND zwischenmolekulare Wechselwirkungen beschreiben (Wechselwirkungen zwischen temporären Dipolen, Wasserstoffbrücken)\\n                    \\n                    ', 'Ich möchte einen Lernentwicklungsbericht für einen Schüler namens Naimi, Yara schreiben. Verwende hierbei die dritte Person, um die Lernentwicklung des Schülers sachlich zu beschreiben. Achte hierbei auf das Geschlecht des Namens. Verwende nur den Vornamen des Schülers. Dieser Lernentwicklungsbericht sollte nur aus einem einzigen Paragraphen bestehen und folgend aufgebaut sein: 1. Schreibe ein Satz zur mündlichen Note im Unterricht, ohne das Wort \"mündlich\" zu verwenden. \\n                2. Schreibe zu jeder Kontrolle zwei bis drei Sätze, wobei das Niveau des Schülers am Anfang genannt wird. Beachte hierbei zu jedem Textblock der jeweiligen Kontrolle etwas zu schreiben, wobei \"UND\" für verschiedene Fähigkeiten innerhalb einer erworbenen Kompetenz steht. Schreibe pro Kontrolle / Check jedoch nicht mehr als 40 Worte. Verwende nicht das Wort \"Kontrolle\" oder \"Check\". \\n                3. Am Schluss des Paragraphen soll \"(Fe)\" stehen.\\n                Hierbei übergebe ich dir im Folgenden, die dafür relevanten Informationen:     \\n                zu 1. mündliche Note:  \\n                gezeigtes Engagement im Unterricht: beteiligt sich teilweise, sowie gezeigtes Interesse im Unterricht: teilweise.\\n                zu 2. Kontrollen:\\n                    Check1:\\n                    Niveau der  erworbene Kompetenzen: teilweise\\n\\n                    Kompetenzen:\\n                    Stoffe anhand ihrer Stoffteilchen ordnen (Metalle, Edelgase, flüchtige/molekulare Stoffe, Salze) UND mit einem Atommodell den Aufbau von Atomen und Ionen erläutern (Proton, Elektron, Neutron, Kern-Hülle-Modell, Schalenmodell, Außenelektron, Ionenbildung, Edelgaskonfiguration) UND auf der Grundlage des Rutherfordschen Streuversuchs das Kern-Hülle-Modell beschreiben UND den Zusammenhang zwischen Atombau und Stellung der Atome im Periodensystem der Elemente erklären (Atomsymbole, Ordnungszahl, Protonenanzahl, Elektronenanzahl, Neutronenanzahl, Massenzahl, Außenelektronen, Hauptgruppe, Periode)\\n                    \\n                    \\n                    Check2:\\n                    Niveau der  erworbene Kompetenzen: teilweise\\n\\n                    Kompetenzen:\\n                    Moleküle als miteinander verbundene Atome beschreiben UND die Ionenbindung beschreiben und typische Eigenschaften des Natriumchlorids und seiner wässrigen Lösung begründen (Ionengitter, Sprödigkeit, hohe Schmelztemperatur, elektrische Leitfähigkeit) UND die Metallbindung beschreiben und damit typische Eigenschaften der Metalle begründen (Duktilität, elektrische Leitfähigkeit)\\n\\neinfache Verhältnisformeln mithilfe der Edelgasregel unter Anleitung aufstellen UND den Informationsgehalt von Verhältnisformeln und Molekülformeln beschreiben\\n\\npolare und unpolare Elektronenpaarbindungen vergleichen (Elektronegativität) UND den Zusammenhang zwischen Bindungstyp, räumlichem Bau und Dipol-Eigenschaft des Wassers darstellen UND Stoffteilchen Bindungstypen zuordnen (Elektronenpaarbindung, Ionenbindung, Metallbindung) UND zwischenmolekulare Wechselwirkungen beschreiben (Wechselwirkungen zwischen temporären Dipolen, Wasserstoffbrücken)\\n                    \\n                    ', 'Ich möchte einen Lernentwicklungsbericht für einen Schüler namens Neff, Florian schreiben. Verwende hierbei die dritte Person, um die Lernentwicklung des Schülers sachlich zu beschreiben. Achte hierbei auf das Geschlecht des Namens. Verwende nur den Vornamen des Schülers. Dieser Lernentwicklungsbericht sollte nur aus einem einzigen Paragraphen bestehen und folgend aufgebaut sein: 1. Schreibe ein Satz zur mündlichen Note im Unterricht, ohne das Wort \"mündlich\" zu verwenden. \\n                2. Schreibe zu jeder Kontrolle zwei bis drei Sätze, wobei das Niveau des Schülers am Anfang genannt wird. Beachte hierbei zu jedem Textblock der jeweiligen Kontrolle etwas zu schreiben, wobei \"UND\" für verschiedene Fähigkeiten innerhalb einer erworbenen Kompetenz steht. Schreibe pro Kontrolle / Check jedoch nicht mehr als 40 Worte. Verwende nicht das Wort \"Kontrolle\" oder \"Check\". \\n                3. Am Schluss des Paragraphen soll \"(Fe)\" stehen.\\n                Hierbei übergebe ich dir im Folgenden, die dafür relevanten Informationen:     \\n                zu 1. mündliche Note:  \\n                gezeigtes Engagement im Unterricht: beteiligt sich unregelmäßig, sowie gezeigtes Interesse im Unterricht: selten.\\n                zu 2. Kontrollen:\\n                    Check1:\\n                    Niveau der  erworbene Kompetenzen: lückenhaft\\n\\n                    Kompetenzen:\\n                    Stoffe anhand ihrer Bausteine ordnen (Metalle, flüchtige/molekulare Stoffe, Salze) UND mit dem Kern-Hülle-Modell den Aufbau von Atomen darstellen (Proton, Elektron, Neutron) UND auf der Grundlage eines Modellversuchs zum Rutherfordschen Streuversuch das Kern-Hülle-Modell beschreiben UND den Zusammenhang zwischen Atombau und Stellung der Atome im Periodensystem der Elemente beschreiben (Atomsymbole, Protonenanzahl)\\n                    \\n                    \\n                    Check2:\\n                    Niveau der  erworbene Kompetenzen: lückenhaft\\n\\n                    Kompetenzen:\\n                    Moleküle als miteinander verbundene Atome beschreiben UND die Ionenbindung beschreiben und typische Eigenschaften des Natriumchlorids begründen (Ionengitter, Sprödigkeit, hohe Schmelztemperatur)\\n\\neinfache Verhältnisformeln mithilfe vorgegebener Ionen unter Anleitung aufstellen UND den Informationsgehalt von Molekülformeln beschreiben (H2O, O2, CO2)\\n\\nMolekülen und Ionengittern Bindungstypen zuordnen (Elektronenpaarbindung, Ionenbindung)\\n                    \\n                    ', 'Ich möchte einen Lernentwicklungsbericht für einen Schüler namens Öztürk, Rana schreiben. Verwende hierbei die dritte Person, um die Lernentwicklung des Schülers sachlich zu beschreiben. Achte hierbei auf das Geschlecht des Namens. Verwende nur den Vornamen des Schülers. Dieser Lernentwicklungsbericht sollte nur aus einem einzigen Paragraphen bestehen und folgend aufgebaut sein: 1. Schreibe ein Satz zur mündlichen Note im Unterricht, ohne das Wort \"mündlich\" zu verwenden. \\n                2. Schreibe zu jeder Kontrolle zwei bis drei Sätze, wobei das Niveau des Schülers am Anfang genannt wird. Beachte hierbei zu jedem Textblock der jeweiligen Kontrolle etwas zu schreiben, wobei \"UND\" für verschiedene Fähigkeiten innerhalb einer erworbenen Kompetenz steht. Schreibe pro Kontrolle / Check jedoch nicht mehr als 40 Worte. Verwende nicht das Wort \"Kontrolle\" oder \"Check\". \\n                3. Am Schluss des Paragraphen soll \"(Fe)\" stehen.\\n                Hierbei übergebe ich dir im Folgenden, die dafür relevanten Informationen:     \\n                zu 1. mündliche Note:  \\n                gezeigtes Engagement im Unterricht: beteiligt sich teilweise, sowie gezeigtes Interesse im Unterricht: teilweise.\\n                zu 2. Kontrollen:\\n                    Check1:\\n                    Niveau der  erworbene Kompetenzen: lückenhaft\\n\\n                    Kompetenzen:\\n                    Stoffe anhand ihrer Stoffteilchen ordnen (Metalle, Edelgase, flüchtige/molekulare Stoffe, Salze) UND mit einem Atommodell den Aufbau von Atomen und Ionen erläutern (Proton, Elektron, Neutron, Kern-Hülle-Modell, Schalenmodell, Außenelektron, Ionenbildung, Edelgaskonfiguration) UND auf der Grundlage des Rutherfordschen Streuversuchs das Kern-Hülle-Modell beschreiben UND den Zusammenhang zwischen Atombau und Stellung der Atome im Periodensystem der Elemente erklären (Atomsymbole, Ordnungszahl, Protonenanzahl, Elektronenanzahl, Neutronenanzahl, Massenzahl, Außenelektronen, Hauptgruppe, Periode)\\n                    \\n                    \\n                    Check2:\\n                    Niveau der  erworbene Kompetenzen: kaum\\n\\n                    Kompetenzen:\\n                    Moleküle als miteinander verbundene Atome beschreiben UND die Ionenbindung beschreiben und typische Eigenschaften des Natriumchlorids und seiner wässrigen Lösung begründen (Ionengitter, Sprödigkeit, hohe Schmelztemperatur, elektrische Leitfähigkeit) UND die Metallbindung beschreiben und damit typische Eigenschaften der Metalle begründen (Duktilität, elektrische Leitfähigkeit)\\n\\neinfache Verhältnisformeln mithilfe der Edelgasregel unter Anleitung aufstellen UND den Informationsgehalt von Verhältnisformeln und Molekülformeln beschreiben\\n\\npolare und unpolare Elektronenpaarbindungen vergleichen (Elektronegativität) UND den Zusammenhang zwischen Bindungstyp, räumlichem Bau und Dipol-Eigenschaft des Wassers darstellen UND Stoffteilchen Bindungstypen zuordnen (Elektronenpaarbindung, Ionenbindung, Metallbindung) UND zwischenmolekulare Wechselwirkungen beschreiben (Wechselwirkungen zwischen temporären Dipolen, Wasserstoffbrücken)\\n                    \\n                    ', None, 'Ich möchte einen Lernentwicklungsbericht für einen Schüler namens Stark, Amy schreiben. Verwende hierbei die dritte Person, um die Lernentwicklung des Schülers sachlich zu beschreiben. Achte hierbei auf das Geschlecht des Namens. Verwende nur den Vornamen des Schülers. Dieser Lernentwicklungsbericht sollte nur aus einem einzigen Paragraphen bestehen und folgend aufgebaut sein: 1. Schreibe ein Satz zur mündlichen Note im Unterricht, ohne das Wort \"mündlich\" zu verwenden. \\n                2. Schreibe zu jeder Kontrolle zwei bis drei Sätze, wobei das Niveau des Schülers am Anfang genannt wird. Beachte hierbei zu jedem Textblock der jeweiligen Kontrolle etwas zu schreiben, wobei \"UND\" für verschiedene Fähigkeiten innerhalb einer erworbenen Kompetenz steht. Schreibe pro Kontrolle / Check jedoch nicht mehr als 40 Worte. Verwende nicht das Wort \"Kontrolle\" oder \"Check\". \\n                3. Am Schluss des Paragraphen soll \"(Fe)\" stehen.\\n                Hierbei übergebe ich dir im Folgenden, die dafür relevanten Informationen:     \\n                zu 1. mündliche Note:  \\n                gezeigtes Engagement im Unterricht: beteiligt sich teilweise, sowie gezeigtes Interesse im Unterricht: teilweise.\\n                zu 2. Kontrollen:\\n                    Check1:\\n                    Niveau der  erworbene Kompetenzen: teilweise\\n\\n                    Kompetenzen:\\n                    Stoffe anhand ihrer Stoffteilchen ordnen (Metalle, Edelgase, flüchtige/molekulare Stoffe, Salze) UND mit einem Atommodell den Aufbau von Atomen und Ionen erläutern (Proton, Elektron, Neutron, Kern-Hülle-Modell, Schalenmodell, Außenelektron, Ionenbildung, Edelgaskonfiguration) UND auf der Grundlage des Rutherfordschen Streuversuchs das Kern-Hülle-Modell beschreiben UND den Zusammenhang zwischen Atombau und Stellung der Atome im Periodensystem der Elemente erklären (Atomsymbole, Ordnungszahl, Protonenanzahl, Elektronenanzahl, Neutronenanzahl, Massenzahl, Außenelektronen, Hauptgruppe, Periode)\\n                    \\n                    \\n                    Check2:\\n                    Niveau der  erworbene Kompetenzen: teilweise\\n\\n                    Kompetenzen:\\n                    Moleküle als miteinander verbundene Atome beschreiben UND die Ionenbindung beschreiben und typische Eigenschaften des Natriumchlorids und seiner wässrigen Lösung begründen (Ionengitter, Sprödigkeit, hohe Schmelztemperatur, elektrische Leitfähigkeit) UND die Metallbindung beschreiben und damit typische Eigenschaften der Metalle begründen (Duktilität, elektrische Leitfähigkeit)\\n\\neinfache Verhältnisformeln mithilfe der Edelgasregel unter Anleitung aufstellen UND den Informationsgehalt von Verhältnisformeln und Molekülformeln beschreiben\\n\\npolare und unpolare Elektronenpaarbindungen vergleichen (Elektronegativität) UND den Zusammenhang zwischen Bindungstyp, räumlichem Bau und Dipol-Eigenschaft des Wassers darstellen UND Stoffteilchen Bindungstypen zuordnen (Elektronenpaarbindung, Ionenbindung, Metallbindung) UND zwischenmolekulare Wechselwirkungen beschreiben (Wechselwirkungen zwischen temporären Dipolen, Wasserstoffbrücken)\\n                    \\n                    ', 'Ich möchte einen Lernentwicklungsbericht für einen Schüler namens Still, Julian schreiben. Verwende hierbei die dritte Person, um die Lernentwicklung des Schülers sachlich zu beschreiben. Achte hierbei auf das Geschlecht des Namens. Verwende nur den Vornamen des Schülers. Dieser Lernentwicklungsbericht sollte nur aus einem einzigen Paragraphen bestehen und folgend aufgebaut sein: 1. Schreibe ein Satz zur mündlichen Note im Unterricht, ohne das Wort \"mündlich\" zu verwenden. \\n                2. Schreibe zu jeder Kontrolle zwei bis drei Sätze, wobei das Niveau des Schülers am Anfang genannt wird. Beachte hierbei zu jedem Textblock der jeweiligen Kontrolle etwas zu schreiben, wobei \"UND\" für verschiedene Fähigkeiten innerhalb einer erworbenen Kompetenz steht. Schreibe pro Kontrolle / Check jedoch nicht mehr als 40 Worte. Verwende nicht das Wort \"Kontrolle\" oder \"Check\". \\n                3. Am Schluss des Paragraphen soll \"(Fe)\" stehen.\\n                Hierbei übergebe ich dir im Folgenden, die dafür relevanten Informationen:     \\n                zu 1. mündliche Note:  \\n                gezeigtes Engagement im Unterricht: beteiligt sich aktiv, sowie gezeigtes Interesse im Unterricht: reges.\\n                zu 2. Kontrollen:\\n                    Check1:\\n                    Niveau der  erworbene Kompetenzen: sicher\\n\\n                    Kompetenzen:\\n                    Stoffe anhand ihrer Stoffteilchen ordnen (Metalle, Edelgase, flüchtige/molekulare Stoffe, Salze) UND mit einem Atommodell den Aufbau von Atomen und Ionen erläutern (Proton, Elektron, Neutron, Kern-Hülle-Modell, Schalenmodell, Außenelektron, Ionenbildung, Edelgaskonfiguration) UND auf der Grundlage des Rutherfordschen Streuversuchs das Kern-Hülle-Modell beschreiben UND den Zusammenhang zwischen Atombau und Stellung der Atome im Periodensystem der Elemente erklären (Atomsymbole, Ordnungszahl, Protonenanzahl, Elektronenanzahl, Neutronenanzahl, Massenzahl, Außenelektronen, Hauptgruppe, Periode)\\n                    \\n                    \\n                    Check2:\\n                    Niveau der  erworbene Kompetenzen: sehr sicher\\n\\n                    Kompetenzen:\\n                    Moleküle als miteinander verbundene Atome beschreiben UND die Ionenbindung beschreiben und typische Eigenschaften des Natriumchlorids und seiner wässrigen Lösung begründen (Ionengitter, Sprödigkeit, hohe Schmelztemperatur, elektrische Leitfähigkeit) UND die Metallbindung beschreiben und damit typische Eigenschaften der Metalle begründen (Duktilität, elektrische Leitfähigkeit)\\n\\neinfache Verhältnisformeln mithilfe der Edelgasregel unter Anleitung aufstellen UND den Informationsgehalt von Verhältnisformeln und Molekülformeln beschreiben\\n\\npolare und unpolare Elektronenpaarbindungen vergleichen (Elektronegativität) UND den Zusammenhang zwischen Bindungstyp, räumlichem Bau und Dipol-Eigenschaft des Wassers darstellen UND Stoffteilchen Bindungstypen zuordnen (Elektronenpaarbindung, Ionenbindung, Metallbindung) UND zwischenmolekulare Wechselwirkungen beschreiben (Wechselwirkungen zwischen temporären Dipolen, Wasserstoffbrücken)\\n                    \\n                    ', 'Ich möchte einen Lernentwicklungsbericht für einen Schüler namens Thomas, Lovetta schreiben. Verwende hierbei die dritte Person, um die Lernentwicklung des Schülers sachlich zu beschreiben. Achte hierbei auf das Geschlecht des Namens. Verwende nur den Vornamen des Schülers. Dieser Lernentwicklungsbericht sollte nur aus einem einzigen Paragraphen bestehen und folgend aufgebaut sein: 1. Schreibe ein Satz zur mündlichen Note im Unterricht, ohne das Wort \"mündlich\" zu verwenden. \\n                2. Schreibe zu jeder Kontrolle zwei bis drei Sätze, wobei das Niveau des Schülers am Anfang genannt wird. Beachte hierbei zu jedem Textblock der jeweiligen Kontrolle etwas zu schreiben, wobei \"UND\" für verschiedene Fähigkeiten innerhalb einer erworbenen Kompetenz steht. Schreibe pro Kontrolle / Check jedoch nicht mehr als 40 Worte. Verwende nicht das Wort \"Kontrolle\" oder \"Check\". \\n                3. Am Schluss des Paragraphen soll \"(Fe)\" stehen.\\n                Hierbei übergebe ich dir im Folgenden, die dafür relevanten Informationen:     \\n                zu 1. mündliche Note:  \\n                gezeigtes Engagement im Unterricht: beteiligt sich sehr wenig, sowie gezeigtes Interesse im Unterricht: sehr wenig.\\n                zu 2. Kontrollen:\\n                    Check1:\\n                    Niveau der  erworbene Kompetenzen: nicht\\n\\n                    Kompetenzen:\\n                    Stoffe anhand ihrer Stoffteilchen ordnen (Metalle, Edelgase, flüchtige/molekulare Stoffe, Salze) UND mit einem Atommodell den Aufbau von Atomen und Ionen erläutern (Proton, Elektron, Neutron, Kern-Hülle-Modell, Schalenmodell, Außenelektron, Ionenbildung, Edelgaskonfiguration) UND auf der Grundlage des Rutherfordschen Streuversuchs das Kern-Hülle-Modell beschreiben UND den Zusammenhang zwischen Atombau und Stellung der Atome im Periodensystem der Elemente erklären (Atomsymbole, Ordnungszahl, Protonenanzahl, Elektronenanzahl, Neutronenanzahl, Massenzahl, Außenelektronen, Hauptgruppe, Periode)\\n                    \\n                    \\n                    Check2:\\n                    Niveau der  erworbene Kompetenzen: lückenhaft\\n\\n                    Kompetenzen:\\n                    Moleküle als miteinander verbundene Atome beschreiben UND die Ionenbindung beschreiben und typische Eigenschaften des Natriumchlorids und seiner wässrigen Lösung begründen (Ionengitter, Sprödigkeit, hohe Schmelztemperatur, elektrische Leitfähigkeit) UND die Metallbindung beschreiben und damit typische Eigenschaften der Metalle begründen (Duktilität, elektrische Leitfähigkeit)\\n\\neinfache Verhältnisformeln mithilfe der Edelgasregel unter Anleitung aufstellen UND den Informationsgehalt von Verhältnisformeln und Molekülformeln beschreiben\\n\\npolare und unpolare Elektronenpaarbindungen vergleichen (Elektronegativität) UND den Zusammenhang zwischen Bindungstyp, räumlichem Bau und Dipol-Eigenschaft des Wassers darstellen UND Stoffteilchen Bindungstypen zuordnen (Elektronenpaarbindung, Ionenbindung, Metallbindung) UND zwischenmolekulare Wechselwirkungen beschreiben (Wechselwirkungen zwischen temporären Dipolen, Wasserstoffbrücken)\\n                    \\n                    ', 'Ich möchte einen Lernentwicklungsbericht für einen Schüler namens Vera, Anthony schreiben. Verwende hierbei die dritte Person, um die Lernentwicklung des Schülers sachlich zu beschreiben. Achte hierbei auf das Geschlecht des Namens. Verwende nur den Vornamen des Schülers. Dieser Lernentwicklungsbericht sollte nur aus einem einzigen Paragraphen bestehen und folgend aufgebaut sein: 1. Schreibe ein Satz zur mündlichen Note im Unterricht, ohne das Wort \"mündlich\" zu verwenden. \\n                2. Schreibe zu jeder Kontrolle zwei bis drei Sätze, wobei das Niveau des Schülers am Anfang genannt wird. Beachte hierbei zu jedem Textblock der jeweiligen Kontrolle etwas zu schreiben, wobei \"UND\" für verschiedene Fähigkeiten innerhalb einer erworbenen Kompetenz steht. Schreibe pro Kontrolle / Check jedoch nicht mehr als 40 Worte. Verwende nicht das Wort \"Kontrolle\" oder \"Check\". \\n                3. Am Schluss des Paragraphen soll \"(Fe)\" stehen.\\n                Hierbei übergebe ich dir im Folgenden, die dafür relevanten Informationen:     \\n                zu 1. mündliche Note:  \\n                gezeigtes Engagement im Unterricht: beteiligt sich teilweise, sowie gezeigtes Interesse im Unterricht: teilweise.\\n                zu 2. Kontrollen:\\n                    Check1:\\n                    Niveau der  erworbene Kompetenzen: lückenhaft\\n\\n                    Kompetenzen:\\n                    Stoffe anhand ihrer Bausteine ordnen (Metalle, flüchtige/molekulare Stoffe, Salze) UND mit dem Kern-Hülle-Modell den Aufbau von Atomen darstellen (Proton, Elektron, Neutron) UND auf der Grundlage eines Modellversuchs zum Rutherfordschen Streuversuch das Kern-Hülle-Modell beschreiben UND den Zusammenhang zwischen Atombau und Stellung der Atome im Periodensystem der Elemente beschreiben (Atomsymbole, Protonenanzahl)\\n                    \\n                    \\n                    Check2:\\n                    Niveau der  erworbene Kompetenzen: lückenhaft\\n\\n                    Kompetenzen:\\n                    Moleküle als miteinander verbundene Atome beschreiben UND die Ionenbindung beschreiben und typische Eigenschaften des Natriumchlorids begründen (Ionengitter, Sprödigkeit, hohe Schmelztemperatur)\\n\\neinfache Verhältnisformeln mithilfe vorgegebener Ionen unter Anleitung aufstellen UND den Informationsgehalt von Molekülformeln beschreiben (H2O, O2, CO2)\\n\\nMolekülen und Ionengittern Bindungstypen zuordnen (Elektronenpaarbindung, Ionenbindung)\\n                    \\n                    ']\n"
     ]
    }
   ],
   "source": [
    "# Function to create the dynamic text\n",
    "def create_prompt_learning_report(data):\n",
    "    reports = []\n",
    "    shown_names = set()\n",
    "    for index, row in data.iterrows():\n",
    "        name = row['Name']\n",
    "        if name not in shown_names:\n",
    "            shown_names.add(name)\n",
    "            oral_mark_wording_inv = row['OralMark_wording_inv']\n",
    "            oral_mark_wording_int = row['OralMark_wording_int']\n",
    "            \n",
    "            if pd.isna(oral_mark_wording_inv):\n",
    "                reports.append(None)\n",
    "            else:                \n",
    "                condition = data['Name'] == name\n",
    "                data_checks = data[condition]\n",
    "\n",
    "                # Construct the text\n",
    "                report = f\"\"\"Ich möchte einen Lernentwicklungsbericht für einen Schüler namens {name} schreiben. Verwende hierbei die dritte Person, um die Lernentwicklung des Schülers sachlich zu beschreiben. Achte hierbei auf das Geschlecht des Namens. Verwende nur den Vornamen des Schülers. Dieser Lernentwicklungsbericht sollte nur aus einem einzigen Paragraphen bestehen und folgend aufgebaut sein:\"\"\"\n",
    "                report += f\"\"\" 1. Schreibe ein Satz zur mündlichen Note im Unterricht, ohne das Wort \"mündlich\" zu verwenden. \n",
    "                2. Schreibe zu jeder Kontrolle zwei bis drei Sätze, wobei das Niveau des Schülers am Anfang genannt wird. Beachte hierbei zu jedem Textblock der jeweiligen Kontrolle etwas zu schreiben, wobei \"UND\" für verschiedene Fähigkeiten innerhalb einer erworbenen Kompetenz steht. Schreibe pro Kontrolle / Check jedoch nicht mehr als 40 Worte. Verwende nicht das Wort \"Kontrolle\" oder \"Check\". \n",
    "                3. Am Schluss des Paragraphen soll \"(Fe)\" stehen.\"\"\"\n",
    "                report += f\"\"\"\n",
    "                Hierbei übergebe ich dir im Folgenden, die dafür relevanten Informationen:     \n",
    "                \"\"\"\n",
    "                report += f\"\"\"zu 1. mündliche Note:  \n",
    "                gezeigtes Engagement im Unterricht: {oral_mark_wording_inv}, sowie gezeigtes Interesse im Unterricht: {oral_mark_wording_int}.\n",
    "                \"\"\"\n",
    "                report += f\"\"\"zu 2. Kontrollen:\"\"\"\n",
    "                \n",
    "                for index, row in data_checks.iterrows():\n",
    "                    check = row['Check']\n",
    "                    competences = re.sub('\\xad', '', row['competences'])\n",
    "                    wording = row['wording']\n",
    "                    report += f\"\"\"\n",
    "                    {check}:\n",
    "                    Niveau der  erworbene Kompetenzen: {wording}\n",
    "\n",
    "                    Kompetenzen:\n",
    "                    {competences}\n",
    "                    \n",
    "                    \"\"\"\n",
    "                    \n",
    "                reports.append(report)\n",
    "    return reports\n",
    "\n",
    "promptText = create_prompt_learning_report(df)\n",
    "print(promptText)"
   ]
  },
  {
   "cell_type": "markdown",
   "metadata": {},
   "source": [
    "## 2. apply ChatGPT"
   ]
  },
  {
   "cell_type": "markdown",
   "metadata": {},
   "source": [
    "Function for API call"
   ]
  },
  {
   "cell_type": "code",
   "execution_count": 8,
   "metadata": {},
   "outputs": [],
   "source": [
    "from langchain import PromptTemplate, LLMChain\n",
    "from langchain_openai import ChatOpenAI\n",
    "from langchain.callbacks import get_openai_callback\n",
    "def basic_API_call(\n",
    "    openai_api_key,\n",
    "    template,\n",
    "    model_name=\"gpt-4\",\n",
    "    max_tokens=150,\n",
    "):\n",
    "\n",
    "    prompt = PromptTemplate(template=template)\n",
    "    # top_p_value = float(\"0\")\n",
    "    seed = 123\n",
    "    llm_chain = LLMChain(\n",
    "        prompt=prompt,\n",
    "        llm=ChatOpenAI(\n",
    "            # llm=OpenAI(\n",
    "            temperature=0.0,\n",
    "            openai_api_key=openai_api_key,\n",
    "            model_name=model_name,\n",
    "            max_tokens=max_tokens,\n",
    "            # model_kwargs={\"top_p\": top_p_value, \"seed\": seed},\n",
    "            model_kwargs={\"seed\": seed},\n",
    "        ),\n",
    "        return_final_only=False,\n",
    "    )\n",
    "    \n",
    "    with get_openai_callback() as cb:\n",
    "        response = llm_chain.invoke(\n",
    "            {}\n",
    "        )\n",
    "        print(cb)\n",
    "        \n",
    "    return response"
   ]
  },
  {
   "cell_type": "code",
   "execution_count": 9,
   "metadata": {},
   "outputs": [],
   "source": [
    "# response = basic_API_call(key.openai_api_key, promptText[16], model_name=\"gpt-4\", max_tokens=1000)\n",
    "# response['text']\n",
    "# response"
   ]
  },
  {
   "cell_type": "markdown",
   "metadata": {},
   "source": [
    "add LEBs to existing pupil data.frame"
   ]
  },
  {
   "cell_type": "code",
   "execution_count": 10,
   "metadata": {},
   "outputs": [
    {
     "name": "stderr",
     "output_type": "stream",
     "text": [
      "c:\\Users\\fenn\\AppData\\Local\\R-MINI~1\\Lib\\site-packages\\openpyxl\\styles\\stylesheet.py:226: UserWarning: Workbook contains no default style, apply openpyxl's default\n",
      "  warn(\"Workbook contains no default style, apply openpyxl's default\")\n"
     ]
    }
   ],
   "source": [
    "# load data set of pupils\n",
    "df_wide = pd.read_excel(directory + \"/\" + nameData_wide + \".xlsx\")\n",
    "# Add an empty column \"LEB_neu\" to the DataFrame\n",
    "df_wide['LEB_neu'] = None"
   ]
  },
  {
   "cell_type": "code",
   "execution_count": 11,
   "metadata": {},
   "outputs": [
    {
     "name": "stderr",
     "output_type": "stream",
     "text": [
      "c:\\Users\\fenn\\AppData\\Local\\R-MINI~1\\Lib\\site-packages\\langchain_core\\_api\\deprecation.py:139: LangChainDeprecationWarning: The class `LLMChain` was deprecated in LangChain 0.1.17 and will be removed in 0.3.0. Use RunnableSequence, e.g., `prompt | llm` instead.\n",
      "  warn_deprecated(\n"
     ]
    },
    {
     "name": "stdout",
     "output_type": "stream",
     "text": [
      "Tokens Used: 965\n",
      "\tPrompt Tokens: 674\n",
      "\tCompletion Tokens: 291\n",
      "Successful Requests: 1\n",
      "Total Cost (USD): $0.037680000000000005\n"
     ]
    },
    {
     "name": "stderr",
     "output_type": "stream",
     "text": [
      "C:\\Users\\fenn\\AppData\\Local\\Temp\\ipykernel_341232\\2683912681.py:9: FutureWarning: ChainedAssignmentError: behaviour will change in pandas 3.0!\n",
      "You are setting values through chained assignment. Currently this works in certain cases, but when using Copy-on-Write (which will become the default behaviour in pandas 3.0) this will never work to update the original DataFrame or Series, because the intermediate object on which we are setting values will behave as a copy.\n",
      "A typical example is when you are setting values in a column of a DataFrame, like:\n",
      "\n",
      "df[\"col\"][row_indexer] = value\n",
      "\n",
      "Use `df.loc[row_indexer, \"col\"] = values` instead, to perform the assignment in a single step and ensure this keeps updating the original `df`.\n",
      "\n",
      "See the caveats in the documentation: https://pandas.pydata.org/pandas-docs/stable/user_guide/indexing.html#returning-a-view-versus-a-copy\n",
      "\n",
      "  df_wide['LEB_neu'][i] = response['text']\n",
      "C:\\Users\\fenn\\AppData\\Local\\Temp\\ipykernel_341232\\2683912681.py:9: SettingWithCopyWarning: \n",
      "A value is trying to be set on a copy of a slice from a DataFrame\n",
      "\n",
      "See the caveats in the documentation: https://pandas.pydata.org/pandas-docs/stable/user_guide/indexing.html#returning-a-view-versus-a-copy\n",
      "  df_wide['LEB_neu'][i] = response['text']\n"
     ]
    },
    {
     "name": "stdout",
     "output_type": "stream",
     "text": [
      "Tokens Used: 1242\n",
      "\tPrompt Tokens: 880\n",
      "\tCompletion Tokens: 362\n",
      "Successful Requests: 1\n",
      "Total Cost (USD): $0.048119999999999996\n"
     ]
    },
    {
     "name": "stderr",
     "output_type": "stream",
     "text": [
      "C:\\Users\\fenn\\AppData\\Local\\Temp\\ipykernel_341232\\2683912681.py:9: FutureWarning: ChainedAssignmentError: behaviour will change in pandas 3.0!\n",
      "You are setting values through chained assignment. Currently this works in certain cases, but when using Copy-on-Write (which will become the default behaviour in pandas 3.0) this will never work to update the original DataFrame or Series, because the intermediate object on which we are setting values will behave as a copy.\n",
      "A typical example is when you are setting values in a column of a DataFrame, like:\n",
      "\n",
      "df[\"col\"][row_indexer] = value\n",
      "\n",
      "Use `df.loc[row_indexer, \"col\"] = values` instead, to perform the assignment in a single step and ensure this keeps updating the original `df`.\n",
      "\n",
      "See the caveats in the documentation: https://pandas.pydata.org/pandas-docs/stable/user_guide/indexing.html#returning-a-view-versus-a-copy\n",
      "\n",
      "  df_wide['LEB_neu'][i] = response['text']\n",
      "C:\\Users\\fenn\\AppData\\Local\\Temp\\ipykernel_341232\\2683912681.py:9: SettingWithCopyWarning: \n",
      "A value is trying to be set on a copy of a slice from a DataFrame\n",
      "\n",
      "See the caveats in the documentation: https://pandas.pydata.org/pandas-docs/stable/user_guide/indexing.html#returning-a-view-versus-a-copy\n",
      "  df_wide['LEB_neu'][i] = response['text']\n"
     ]
    },
    {
     "name": "stdout",
     "output_type": "stream",
     "text": [
      "Tokens Used: 1193\n",
      "\tPrompt Tokens: 876\n",
      "\tCompletion Tokens: 317\n",
      "Successful Requests: 1\n",
      "Total Cost (USD): $0.04529999999999999\n"
     ]
    },
    {
     "name": "stderr",
     "output_type": "stream",
     "text": [
      "C:\\Users\\fenn\\AppData\\Local\\Temp\\ipykernel_341232\\2683912681.py:9: FutureWarning: ChainedAssignmentError: behaviour will change in pandas 3.0!\n",
      "You are setting values through chained assignment. Currently this works in certain cases, but when using Copy-on-Write (which will become the default behaviour in pandas 3.0) this will never work to update the original DataFrame or Series, because the intermediate object on which we are setting values will behave as a copy.\n",
      "A typical example is when you are setting values in a column of a DataFrame, like:\n",
      "\n",
      "df[\"col\"][row_indexer] = value\n",
      "\n",
      "Use `df.loc[row_indexer, \"col\"] = values` instead, to perform the assignment in a single step and ensure this keeps updating the original `df`.\n",
      "\n",
      "See the caveats in the documentation: https://pandas.pydata.org/pandas-docs/stable/user_guide/indexing.html#returning-a-view-versus-a-copy\n",
      "\n",
      "  df_wide['LEB_neu'][i] = response['text']\n",
      "C:\\Users\\fenn\\AppData\\Local\\Temp\\ipykernel_341232\\2683912681.py:9: SettingWithCopyWarning: \n",
      "A value is trying to be set on a copy of a slice from a DataFrame\n",
      "\n",
      "See the caveats in the documentation: https://pandas.pydata.org/pandas-docs/stable/user_guide/indexing.html#returning-a-view-versus-a-copy\n",
      "  df_wide['LEB_neu'][i] = response['text']\n"
     ]
    },
    {
     "name": "stdout",
     "output_type": "stream",
     "text": [
      "Tokens Used: 964\n",
      "\tPrompt Tokens: 673\n",
      "\tCompletion Tokens: 291\n",
      "Successful Requests: 1\n",
      "Total Cost (USD): $0.03765\n"
     ]
    },
    {
     "name": "stderr",
     "output_type": "stream",
     "text": [
      "C:\\Users\\fenn\\AppData\\Local\\Temp\\ipykernel_341232\\2683912681.py:9: FutureWarning: ChainedAssignmentError: behaviour will change in pandas 3.0!\n",
      "You are setting values through chained assignment. Currently this works in certain cases, but when using Copy-on-Write (which will become the default behaviour in pandas 3.0) this will never work to update the original DataFrame or Series, because the intermediate object on which we are setting values will behave as a copy.\n",
      "A typical example is when you are setting values in a column of a DataFrame, like:\n",
      "\n",
      "df[\"col\"][row_indexer] = value\n",
      "\n",
      "Use `df.loc[row_indexer, \"col\"] = values` instead, to perform the assignment in a single step and ensure this keeps updating the original `df`.\n",
      "\n",
      "See the caveats in the documentation: https://pandas.pydata.org/pandas-docs/stable/user_guide/indexing.html#returning-a-view-versus-a-copy\n",
      "\n",
      "  df_wide['LEB_neu'][i] = response['text']\n",
      "C:\\Users\\fenn\\AppData\\Local\\Temp\\ipykernel_341232\\2683912681.py:9: SettingWithCopyWarning: \n",
      "A value is trying to be set on a copy of a slice from a DataFrame\n",
      "\n",
      "See the caveats in the documentation: https://pandas.pydata.org/pandas-docs/stable/user_guide/indexing.html#returning-a-view-versus-a-copy\n",
      "  df_wide['LEB_neu'][i] = response['text']\n"
     ]
    },
    {
     "name": "stdout",
     "output_type": "stream",
     "text": [
      "Tokens Used: 1169\n",
      "\tPrompt Tokens: 876\n",
      "\tCompletion Tokens: 293\n",
      "Successful Requests: 1\n",
      "Total Cost (USD): $0.043859999999999996\n"
     ]
    },
    {
     "name": "stderr",
     "output_type": "stream",
     "text": [
      "C:\\Users\\fenn\\AppData\\Local\\Temp\\ipykernel_341232\\2683912681.py:9: FutureWarning: ChainedAssignmentError: behaviour will change in pandas 3.0!\n",
      "You are setting values through chained assignment. Currently this works in certain cases, but when using Copy-on-Write (which will become the default behaviour in pandas 3.0) this will never work to update the original DataFrame or Series, because the intermediate object on which we are setting values will behave as a copy.\n",
      "A typical example is when you are setting values in a column of a DataFrame, like:\n",
      "\n",
      "df[\"col\"][row_indexer] = value\n",
      "\n",
      "Use `df.loc[row_indexer, \"col\"] = values` instead, to perform the assignment in a single step and ensure this keeps updating the original `df`.\n",
      "\n",
      "See the caveats in the documentation: https://pandas.pydata.org/pandas-docs/stable/user_guide/indexing.html#returning-a-view-versus-a-copy\n",
      "\n",
      "  df_wide['LEB_neu'][i] = response['text']\n",
      "C:\\Users\\fenn\\AppData\\Local\\Temp\\ipykernel_341232\\2683912681.py:9: SettingWithCopyWarning: \n",
      "A value is trying to be set on a copy of a slice from a DataFrame\n",
      "\n",
      "See the caveats in the documentation: https://pandas.pydata.org/pandas-docs/stable/user_guide/indexing.html#returning-a-view-versus-a-copy\n",
      "  df_wide['LEB_neu'][i] = response['text']\n"
     ]
    },
    {
     "name": "stdout",
     "output_type": "stream",
     "text": [
      "Tokens Used: 959\n",
      "\tPrompt Tokens: 667\n",
      "\tCompletion Tokens: 292\n",
      "Successful Requests: 1\n",
      "Total Cost (USD): $0.037529999999999994\n"
     ]
    },
    {
     "name": "stderr",
     "output_type": "stream",
     "text": [
      "C:\\Users\\fenn\\AppData\\Local\\Temp\\ipykernel_341232\\2683912681.py:9: FutureWarning: ChainedAssignmentError: behaviour will change in pandas 3.0!\n",
      "You are setting values through chained assignment. Currently this works in certain cases, but when using Copy-on-Write (which will become the default behaviour in pandas 3.0) this will never work to update the original DataFrame or Series, because the intermediate object on which we are setting values will behave as a copy.\n",
      "A typical example is when you are setting values in a column of a DataFrame, like:\n",
      "\n",
      "df[\"col\"][row_indexer] = value\n",
      "\n",
      "Use `df.loc[row_indexer, \"col\"] = values` instead, to perform the assignment in a single step and ensure this keeps updating the original `df`.\n",
      "\n",
      "See the caveats in the documentation: https://pandas.pydata.org/pandas-docs/stable/user_guide/indexing.html#returning-a-view-versus-a-copy\n",
      "\n",
      "  df_wide['LEB_neu'][i] = response['text']\n",
      "C:\\Users\\fenn\\AppData\\Local\\Temp\\ipykernel_341232\\2683912681.py:9: SettingWithCopyWarning: \n",
      "A value is trying to be set on a copy of a slice from a DataFrame\n",
      "\n",
      "See the caveats in the documentation: https://pandas.pydata.org/pandas-docs/stable/user_guide/indexing.html#returning-a-view-versus-a-copy\n",
      "  df_wide['LEB_neu'][i] = response['text']\n"
     ]
    },
    {
     "name": "stdout",
     "output_type": "stream",
     "text": [
      "Tokens Used: 956\n",
      "\tPrompt Tokens: 671\n",
      "\tCompletion Tokens: 285\n",
      "Successful Requests: 1\n",
      "Total Cost (USD): $0.03723\n"
     ]
    },
    {
     "name": "stderr",
     "output_type": "stream",
     "text": [
      "C:\\Users\\fenn\\AppData\\Local\\Temp\\ipykernel_341232\\2683912681.py:9: FutureWarning: ChainedAssignmentError: behaviour will change in pandas 3.0!\n",
      "You are setting values through chained assignment. Currently this works in certain cases, but when using Copy-on-Write (which will become the default behaviour in pandas 3.0) this will never work to update the original DataFrame or Series, because the intermediate object on which we are setting values will behave as a copy.\n",
      "A typical example is when you are setting values in a column of a DataFrame, like:\n",
      "\n",
      "df[\"col\"][row_indexer] = value\n",
      "\n",
      "Use `df.loc[row_indexer, \"col\"] = values` instead, to perform the assignment in a single step and ensure this keeps updating the original `df`.\n",
      "\n",
      "See the caveats in the documentation: https://pandas.pydata.org/pandas-docs/stable/user_guide/indexing.html#returning-a-view-versus-a-copy\n",
      "\n",
      "  df_wide['LEB_neu'][i] = response['text']\n",
      "C:\\Users\\fenn\\AppData\\Local\\Temp\\ipykernel_341232\\2683912681.py:9: SettingWithCopyWarning: \n",
      "A value is trying to be set on a copy of a slice from a DataFrame\n",
      "\n",
      "See the caveats in the documentation: https://pandas.pydata.org/pandas-docs/stable/user_guide/indexing.html#returning-a-view-versus-a-copy\n",
      "  df_wide['LEB_neu'][i] = response['text']\n"
     ]
    },
    {
     "name": "stdout",
     "output_type": "stream",
     "text": [
      "Tokens Used: 1272\n",
      "\tPrompt Tokens: 876\n",
      "\tCompletion Tokens: 396\n",
      "Successful Requests: 1\n",
      "Total Cost (USD): $0.05004\n"
     ]
    },
    {
     "name": "stderr",
     "output_type": "stream",
     "text": [
      "C:\\Users\\fenn\\AppData\\Local\\Temp\\ipykernel_341232\\2683912681.py:9: FutureWarning: ChainedAssignmentError: behaviour will change in pandas 3.0!\n",
      "You are setting values through chained assignment. Currently this works in certain cases, but when using Copy-on-Write (which will become the default behaviour in pandas 3.0) this will never work to update the original DataFrame or Series, because the intermediate object on which we are setting values will behave as a copy.\n",
      "A typical example is when you are setting values in a column of a DataFrame, like:\n",
      "\n",
      "df[\"col\"][row_indexer] = value\n",
      "\n",
      "Use `df.loc[row_indexer, \"col\"] = values` instead, to perform the assignment in a single step and ensure this keeps updating the original `df`.\n",
      "\n",
      "See the caveats in the documentation: https://pandas.pydata.org/pandas-docs/stable/user_guide/indexing.html#returning-a-view-versus-a-copy\n",
      "\n",
      "  df_wide['LEB_neu'][i] = response['text']\n",
      "C:\\Users\\fenn\\AppData\\Local\\Temp\\ipykernel_341232\\2683912681.py:9: SettingWithCopyWarning: \n",
      "A value is trying to be set on a copy of a slice from a DataFrame\n",
      "\n",
      "See the caveats in the documentation: https://pandas.pydata.org/pandas-docs/stable/user_guide/indexing.html#returning-a-view-versus-a-copy\n",
      "  df_wide['LEB_neu'][i] = response['text']\n"
     ]
    },
    {
     "name": "stdout",
     "output_type": "stream",
     "text": [
      "Tokens Used: 1198\n",
      "\tPrompt Tokens: 874\n",
      "\tCompletion Tokens: 324\n",
      "Successful Requests: 1\n",
      "Total Cost (USD): $0.04566\n"
     ]
    },
    {
     "name": "stderr",
     "output_type": "stream",
     "text": [
      "C:\\Users\\fenn\\AppData\\Local\\Temp\\ipykernel_341232\\2683912681.py:9: FutureWarning: ChainedAssignmentError: behaviour will change in pandas 3.0!\n",
      "You are setting values through chained assignment. Currently this works in certain cases, but when using Copy-on-Write (which will become the default behaviour in pandas 3.0) this will never work to update the original DataFrame or Series, because the intermediate object on which we are setting values will behave as a copy.\n",
      "A typical example is when you are setting values in a column of a DataFrame, like:\n",
      "\n",
      "df[\"col\"][row_indexer] = value\n",
      "\n",
      "Use `df.loc[row_indexer, \"col\"] = values` instead, to perform the assignment in a single step and ensure this keeps updating the original `df`.\n",
      "\n",
      "See the caveats in the documentation: https://pandas.pydata.org/pandas-docs/stable/user_guide/indexing.html#returning-a-view-versus-a-copy\n",
      "\n",
      "  df_wide['LEB_neu'][i] = response['text']\n",
      "C:\\Users\\fenn\\AppData\\Local\\Temp\\ipykernel_341232\\2683912681.py:9: SettingWithCopyWarning: \n",
      "A value is trying to be set on a copy of a slice from a DataFrame\n",
      "\n",
      "See the caveats in the documentation: https://pandas.pydata.org/pandas-docs/stable/user_guide/indexing.html#returning-a-view-versus-a-copy\n",
      "  df_wide['LEB_neu'][i] = response['text']\n"
     ]
    },
    {
     "name": "stdout",
     "output_type": "stream",
     "text": [
      "Tokens Used: 1177\n",
      "\tPrompt Tokens: 878\n",
      "\tCompletion Tokens: 299\n",
      "Successful Requests: 1\n",
      "Total Cost (USD): $0.04428\n"
     ]
    },
    {
     "name": "stderr",
     "output_type": "stream",
     "text": [
      "C:\\Users\\fenn\\AppData\\Local\\Temp\\ipykernel_341232\\2683912681.py:9: FutureWarning: ChainedAssignmentError: behaviour will change in pandas 3.0!\n",
      "You are setting values through chained assignment. Currently this works in certain cases, but when using Copy-on-Write (which will become the default behaviour in pandas 3.0) this will never work to update the original DataFrame or Series, because the intermediate object on which we are setting values will behave as a copy.\n",
      "A typical example is when you are setting values in a column of a DataFrame, like:\n",
      "\n",
      "df[\"col\"][row_indexer] = value\n",
      "\n",
      "Use `df.loc[row_indexer, \"col\"] = values` instead, to perform the assignment in a single step and ensure this keeps updating the original `df`.\n",
      "\n",
      "See the caveats in the documentation: https://pandas.pydata.org/pandas-docs/stable/user_guide/indexing.html#returning-a-view-versus-a-copy\n",
      "\n",
      "  df_wide['LEB_neu'][i] = response['text']\n",
      "C:\\Users\\fenn\\AppData\\Local\\Temp\\ipykernel_341232\\2683912681.py:9: SettingWithCopyWarning: \n",
      "A value is trying to be set on a copy of a slice from a DataFrame\n",
      "\n",
      "See the caveats in the documentation: https://pandas.pydata.org/pandas-docs/stable/user_guide/indexing.html#returning-a-view-versus-a-copy\n",
      "  df_wide['LEB_neu'][i] = response['text']\n"
     ]
    },
    {
     "name": "stdout",
     "output_type": "stream",
     "text": [
      "Tokens Used: 980\n",
      "\tPrompt Tokens: 676\n",
      "\tCompletion Tokens: 304\n",
      "Successful Requests: 1\n",
      "Total Cost (USD): $0.03852\n"
     ]
    },
    {
     "name": "stderr",
     "output_type": "stream",
     "text": [
      "C:\\Users\\fenn\\AppData\\Local\\Temp\\ipykernel_341232\\2683912681.py:9: FutureWarning: ChainedAssignmentError: behaviour will change in pandas 3.0!\n",
      "You are setting values through chained assignment. Currently this works in certain cases, but when using Copy-on-Write (which will become the default behaviour in pandas 3.0) this will never work to update the original DataFrame or Series, because the intermediate object on which we are setting values will behave as a copy.\n",
      "A typical example is when you are setting values in a column of a DataFrame, like:\n",
      "\n",
      "df[\"col\"][row_indexer] = value\n",
      "\n",
      "Use `df.loc[row_indexer, \"col\"] = values` instead, to perform the assignment in a single step and ensure this keeps updating the original `df`.\n",
      "\n",
      "See the caveats in the documentation: https://pandas.pydata.org/pandas-docs/stable/user_guide/indexing.html#returning-a-view-versus-a-copy\n",
      "\n",
      "  df_wide['LEB_neu'][i] = response['text']\n",
      "C:\\Users\\fenn\\AppData\\Local\\Temp\\ipykernel_341232\\2683912681.py:9: SettingWithCopyWarning: \n",
      "A value is trying to be set on a copy of a slice from a DataFrame\n",
      "\n",
      "See the caveats in the documentation: https://pandas.pydata.org/pandas-docs/stable/user_guide/indexing.html#returning-a-view-versus-a-copy\n",
      "  df_wide['LEB_neu'][i] = response['text']\n"
     ]
    },
    {
     "name": "stdout",
     "output_type": "stream",
     "text": [
      "Tokens Used: 1267\n",
      "\tPrompt Tokens: 880\n",
      "\tCompletion Tokens: 387\n",
      "Successful Requests: 1\n",
      "Total Cost (USD): $0.04962\n"
     ]
    },
    {
     "name": "stderr",
     "output_type": "stream",
     "text": [
      "C:\\Users\\fenn\\AppData\\Local\\Temp\\ipykernel_341232\\2683912681.py:9: FutureWarning: ChainedAssignmentError: behaviour will change in pandas 3.0!\n",
      "You are setting values through chained assignment. Currently this works in certain cases, but when using Copy-on-Write (which will become the default behaviour in pandas 3.0) this will never work to update the original DataFrame or Series, because the intermediate object on which we are setting values will behave as a copy.\n",
      "A typical example is when you are setting values in a column of a DataFrame, like:\n",
      "\n",
      "df[\"col\"][row_indexer] = value\n",
      "\n",
      "Use `df.loc[row_indexer, \"col\"] = values` instead, to perform the assignment in a single step and ensure this keeps updating the original `df`.\n",
      "\n",
      "See the caveats in the documentation: https://pandas.pydata.org/pandas-docs/stable/user_guide/indexing.html#returning-a-view-versus-a-copy\n",
      "\n",
      "  df_wide['LEB_neu'][i] = response['text']\n",
      "C:\\Users\\fenn\\AppData\\Local\\Temp\\ipykernel_341232\\2683912681.py:9: SettingWithCopyWarning: \n",
      "A value is trying to be set on a copy of a slice from a DataFrame\n",
      "\n",
      "See the caveats in the documentation: https://pandas.pydata.org/pandas-docs/stable/user_guide/indexing.html#returning-a-view-versus-a-copy\n",
      "  df_wide['LEB_neu'][i] = response['text']\n"
     ]
    },
    {
     "name": "stdout",
     "output_type": "stream",
     "text": [
      "Tokens Used: 1165\n",
      "\tPrompt Tokens: 875\n",
      "\tCompletion Tokens: 290\n",
      "Successful Requests: 1\n",
      "Total Cost (USD): $0.043649999999999994\n"
     ]
    },
    {
     "name": "stderr",
     "output_type": "stream",
     "text": [
      "C:\\Users\\fenn\\AppData\\Local\\Temp\\ipykernel_341232\\2683912681.py:9: FutureWarning: ChainedAssignmentError: behaviour will change in pandas 3.0!\n",
      "You are setting values through chained assignment. Currently this works in certain cases, but when using Copy-on-Write (which will become the default behaviour in pandas 3.0) this will never work to update the original DataFrame or Series, because the intermediate object on which we are setting values will behave as a copy.\n",
      "A typical example is when you are setting values in a column of a DataFrame, like:\n",
      "\n",
      "df[\"col\"][row_indexer] = value\n",
      "\n",
      "Use `df.loc[row_indexer, \"col\"] = values` instead, to perform the assignment in a single step and ensure this keeps updating the original `df`.\n",
      "\n",
      "See the caveats in the documentation: https://pandas.pydata.org/pandas-docs/stable/user_guide/indexing.html#returning-a-view-versus-a-copy\n",
      "\n",
      "  df_wide['LEB_neu'][i] = response['text']\n",
      "C:\\Users\\fenn\\AppData\\Local\\Temp\\ipykernel_341232\\2683912681.py:9: SettingWithCopyWarning: \n",
      "A value is trying to be set on a copy of a slice from a DataFrame\n",
      "\n",
      "See the caveats in the documentation: https://pandas.pydata.org/pandas-docs/stable/user_guide/indexing.html#returning-a-view-versus-a-copy\n",
      "  df_wide['LEB_neu'][i] = response['text']\n"
     ]
    },
    {
     "name": "stdout",
     "output_type": "stream",
     "text": [
      "Tokens Used: 1224\n",
      "\tPrompt Tokens: 873\n",
      "\tCompletion Tokens: 351\n",
      "Successful Requests: 1\n",
      "Total Cost (USD): $0.04725\n"
     ]
    },
    {
     "name": "stderr",
     "output_type": "stream",
     "text": [
      "C:\\Users\\fenn\\AppData\\Local\\Temp\\ipykernel_341232\\2683912681.py:9: FutureWarning: ChainedAssignmentError: behaviour will change in pandas 3.0!\n",
      "You are setting values through chained assignment. Currently this works in certain cases, but when using Copy-on-Write (which will become the default behaviour in pandas 3.0) this will never work to update the original DataFrame or Series, because the intermediate object on which we are setting values will behave as a copy.\n",
      "A typical example is when you are setting values in a column of a DataFrame, like:\n",
      "\n",
      "df[\"col\"][row_indexer] = value\n",
      "\n",
      "Use `df.loc[row_indexer, \"col\"] = values` instead, to perform the assignment in a single step and ensure this keeps updating the original `df`.\n",
      "\n",
      "See the caveats in the documentation: https://pandas.pydata.org/pandas-docs/stable/user_guide/indexing.html#returning-a-view-versus-a-copy\n",
      "\n",
      "  df_wide['LEB_neu'][i] = response['text']\n",
      "C:\\Users\\fenn\\AppData\\Local\\Temp\\ipykernel_341232\\2683912681.py:9: SettingWithCopyWarning: \n",
      "A value is trying to be set on a copy of a slice from a DataFrame\n",
      "\n",
      "See the caveats in the documentation: https://pandas.pydata.org/pandas-docs/stable/user_guide/indexing.html#returning-a-view-versus-a-copy\n",
      "  df_wide['LEB_neu'][i] = response['text']\n"
     ]
    },
    {
     "name": "stdout",
     "output_type": "stream",
     "text": [
      "Tokens Used: 1212\n",
      "\tPrompt Tokens: 877\n",
      "\tCompletion Tokens: 335\n",
      "Successful Requests: 1\n",
      "Total Cost (USD): $0.04641\n"
     ]
    },
    {
     "name": "stderr",
     "output_type": "stream",
     "text": [
      "C:\\Users\\fenn\\AppData\\Local\\Temp\\ipykernel_341232\\2683912681.py:9: FutureWarning: ChainedAssignmentError: behaviour will change in pandas 3.0!\n",
      "You are setting values through chained assignment. Currently this works in certain cases, but when using Copy-on-Write (which will become the default behaviour in pandas 3.0) this will never work to update the original DataFrame or Series, because the intermediate object on which we are setting values will behave as a copy.\n",
      "A typical example is when you are setting values in a column of a DataFrame, like:\n",
      "\n",
      "df[\"col\"][row_indexer] = value\n",
      "\n",
      "Use `df.loc[row_indexer, \"col\"] = values` instead, to perform the assignment in a single step and ensure this keeps updating the original `df`.\n",
      "\n",
      "See the caveats in the documentation: https://pandas.pydata.org/pandas-docs/stable/user_guide/indexing.html#returning-a-view-versus-a-copy\n",
      "\n",
      "  df_wide['LEB_neu'][i] = response['text']\n",
      "C:\\Users\\fenn\\AppData\\Local\\Temp\\ipykernel_341232\\2683912681.py:9: SettingWithCopyWarning: \n",
      "A value is trying to be set on a copy of a slice from a DataFrame\n",
      "\n",
      "See the caveats in the documentation: https://pandas.pydata.org/pandas-docs/stable/user_guide/indexing.html#returning-a-view-versus-a-copy\n",
      "  df_wide['LEB_neu'][i] = response['text']\n"
     ]
    },
    {
     "name": "stdout",
     "output_type": "stream",
     "text": [
      "Tokens Used: 1058\n",
      "\tPrompt Tokens: 672\n",
      "\tCompletion Tokens: 386\n",
      "Successful Requests: 1\n",
      "Total Cost (USD): $0.04332\n"
     ]
    },
    {
     "name": "stderr",
     "output_type": "stream",
     "text": [
      "C:\\Users\\fenn\\AppData\\Local\\Temp\\ipykernel_341232\\2683912681.py:9: FutureWarning: ChainedAssignmentError: behaviour will change in pandas 3.0!\n",
      "You are setting values through chained assignment. Currently this works in certain cases, but when using Copy-on-Write (which will become the default behaviour in pandas 3.0) this will never work to update the original DataFrame or Series, because the intermediate object on which we are setting values will behave as a copy.\n",
      "A typical example is when you are setting values in a column of a DataFrame, like:\n",
      "\n",
      "df[\"col\"][row_indexer] = value\n",
      "\n",
      "Use `df.loc[row_indexer, \"col\"] = values` instead, to perform the assignment in a single step and ensure this keeps updating the original `df`.\n",
      "\n",
      "See the caveats in the documentation: https://pandas.pydata.org/pandas-docs/stable/user_guide/indexing.html#returning-a-view-versus-a-copy\n",
      "\n",
      "  df_wide['LEB_neu'][i] = response['text']\n",
      "C:\\Users\\fenn\\AppData\\Local\\Temp\\ipykernel_341232\\2683912681.py:9: SettingWithCopyWarning: \n",
      "A value is trying to be set on a copy of a slice from a DataFrame\n",
      "\n",
      "See the caveats in the documentation: https://pandas.pydata.org/pandas-docs/stable/user_guide/indexing.html#returning-a-view-versus-a-copy\n",
      "  df_wide['LEB_neu'][i] = response['text']\n"
     ]
    }
   ],
   "source": [
    "response_full = []\n",
    "\n",
    "for i in range(0, len(promptText)):\n",
    "    if promptText[i] is not None:\n",
    "        # print(i)\n",
    "        # print(promptText[i])\n",
    "        response = basic_API_call(key.openai_api_key, promptText[i], model_name=\"gpt-4\", max_tokens=1000)\n",
    "            \n",
    "        df_wide['LEB_neu'][i] = response['text']\n",
    "        response_full.append(response)"
   ]
  },
  {
   "cell_type": "code",
   "execution_count": 12,
   "metadata": {},
   "outputs": [
    {
     "name": "stdout",
     "output_type": "stream",
     "text": [
      "c:\\DATEN\\PHD\\Steffen_LEB\\LEB generieren\\data\n",
      "c:\\DATEN\\PHD\\Steffen_LEB\\LEB generieren\\output\n"
     ]
    }
   ],
   "source": [
    "print(os.getcwd())\n",
    "os.chdir(\"../output\") \n",
    "print(os.getcwd())\n",
    "# set the current working directory\n",
    "directory = os.getcwd()\n",
    "# Save the DataFrame to an Excel file\n",
    "df_wide.to_excel(directory + \"/\" + nameData_wide + \"_LEB\" + \".xlsx\", index=False)\n",
    "\n",
    "\n",
    "# Save the DataFrame to an Excel file\n",
    "df_json = pd.DataFrame(response_full)\n",
    "df_json.to_excel(directory + \"/\" + nameData_wide + \"_fullResponse\" + \".xlsx\", index=False)"
   ]
  }
 ],
 "metadata": {
  "kernelspec": {
   "display_name": "spaceenvironment",
   "language": "python",
   "name": "python3"
  },
  "language_info": {
   "codemirror_mode": {
    "name": "ipython",
    "version": 3
   },
   "file_extension": ".py",
   "mimetype": "text/x-python",
   "name": "python",
   "nbconvert_exporter": "python",
   "pygments_lexer": "ipython3",
   "version": "3.11.9"
  }
 },
 "nbformat": 4,
 "nbformat_minor": 2
}
