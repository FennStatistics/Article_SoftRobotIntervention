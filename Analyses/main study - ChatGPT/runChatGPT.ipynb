{
 "cells": [
  {
   "cell_type": "markdown",
   "metadata": {},
   "source": [
    "# Load needed modules"
   ]
  },
  {
   "cell_type": "code",
   "execution_count": 1,
   "metadata": {},
   "outputs": [],
   "source": [
    "# modules:\n",
    "import pandas as pd\n",
    "import os\n",
    "from openai import OpenAI\n",
    "import numpy as np\n",
    "\n",
    "import re\n",
    "\n",
    "import math\n",
    "\n",
    "from langchain_openai import ChatOpenAI\n",
    "\n",
    "# to read pdf files\n",
    "from langchain_community.document_loaders import PyPDFLoader\n",
    "\n",
    "# to read text of pdf files\n",
    "from langchain_chroma import Chroma\n",
    "from langchain_openai import OpenAIEmbeddings\n",
    "from langchain_text_splitters import RecursiveCharacterTextSplitter\n",
    "\n",
    "from langchain.chains import create_retrieval_chain\n",
    "from langchain.chains.combine_documents import create_stuff_documents_chain\n",
    "from langchain_core.prompts import ChatPromptTemplate\n",
    "\n",
    "# get external variables or functions:\n",
    "import src.API_key as key"
   ]
  },
  {
   "cell_type": "markdown",
   "metadata": {},
   "source": [
    "# Load data to feed ChatGPT"
   ]
  },
  {
   "cell_type": "code",
   "execution_count": 2,
   "metadata": {},
   "outputs": [
    {
     "name": "stdout",
     "output_type": "stream",
     "text": [
      "c:\\DATEN\\PHD\\Article_SoftRobotIntervention\\Analyses\\main study - ChatGPT\n",
      "['.venv', 'data', 'output', 'runChatGPT.ipynb', 'src', 'v01', 'v02']\n"
     ]
    }
   ],
   "source": [
    "## set working environment\n",
    "#> Get the current working directory\n",
    "print(os.getcwd())\n",
    "directory = os.getcwd()\n",
    "\n",
    "# List files in the current working directory\n",
    "files = os.listdir('.')\n",
    "# Display the list of files\n",
    "print(files)"
   ]
  },
  {
   "cell_type": "markdown",
   "metadata": {},
   "source": [
    "## Load Scenario Texts\n",
    "This should be the final scenario texts in English of the two robots:\n",
    "\n",
    "* rescue robot\n",
    "* socially assistive robot\n",
    "\n",
    "\n",
    "source: https://python.langchain.com/v0.2/docs/tutorials/pdf_qa/"
   ]
  },
  {
   "cell_type": "code",
   "execution_count": 3,
   "metadata": {},
   "outputs": [
    {
     "name": "stdout",
     "output_type": "stream",
     "text": [
      "6\n",
      "6\n"
     ]
    }
   ],
   "source": [
    "# Load the scenario texts of the rescue robot\n",
    "file_path = directory + \"/data/scenario texts/\" + \"rescue robot\" + \".pdf\"\n",
    "loader = PyPDFLoader(file_path)\n",
    "doc_RR = loader.load()\n",
    "print(len(doc_RR))\n",
    "\n",
    "# Load the scenario texts of the socially assistive robot\n",
    "file_path = directory + \"/data/scenario texts/\" + \"socially assistive robot\" + \".pdf\"\n",
    "loader = PyPDFLoader(file_path)\n",
    "doc_SAR = loader.load()\n",
    "print(len(doc_SAR))"
   ]
  },
  {
   "cell_type": "markdown",
   "metadata": {},
   "source": [
    " Using a text splitter, the loaded documents will be split into smaller documents that can more easily fit into an LLM's context window, then load them into a vector store. Then a retriever from the vector store is created for use in our RAG chain."
   ]
  },
  {
   "cell_type": "code",
   "execution_count": 4,
   "metadata": {},
   "outputs": [],
   "source": [
    "text_splitter = RecursiveCharacterTextSplitter(chunk_size=1000, chunk_overlap=200)\n",
    "splits_RR = text_splitter.split_documents(doc_RR)\n",
    "vectorstore_RR = Chroma.from_documents(documents=splits_RR, embedding=OpenAIEmbeddings(openai_api_key=key.openai_api_key))\n",
    "\n",
    "retriever_RR = vectorstore_RR.as_retriever()"
   ]
  },
  {
   "cell_type": "code",
   "execution_count": 5,
   "metadata": {},
   "outputs": [],
   "source": [
    "llm = ChatOpenAI(model=\"gpt-4o\", openai_api_key=key.openai_api_key)"
   ]
  },
  {
   "cell_type": "code",
   "execution_count": 20,
   "metadata": {},
   "outputs": [
    {
     "data": {
      "text/plain": [
       "{'input': 'What are the advantages of rescue robots?',\n",
       " 'context': [Document(metadata={'page': 0, 'source': 'c:\\\\DATEN\\\\PHD\\\\Article_SoftRobotIntervention\\\\Analyses\\\\main study - ChatGPT/data/scenario texts/rescue robot.pdf'}, page_content='essential supplies, and autonomously assisting in the rescue of victims, these robots \\ncan enhance the efficiency and effectiveness of rescue operations.  \\nWhile robots f or search and rescue are still in the development phase, it is important \\nto consider the ethical aspects (risks and benefits) of these technologies.'),\n",
       "  Document(metadata={'page': 0, 'source': 'c:\\\\DATEN\\\\PHD\\\\Article_SoftRobotIntervention\\\\Analyses\\\\main study - ChatGPT/data/scenario texts/rescue robot.pdf'}, page_content='––––––––––––––––––  First Page in Experiment ––––––––––––––––––   \\nPlease read the following text carefully.  \\nAfterwards we will ask you to draw a CAM around the predefined \\nknotpoint:  \\n\"Which risks and benefits come to your mind when considering the \\nuse of robots in search and rescue missions?\"  \\nRescue robots are a relatively new field of technology designed to search and rescue \\nhuman beings in disaster situations (earthquakes, collapsed  buildings, contaminated \\nareas, etc.). Rescue robots, including drones and ground robots, can operate in \\ndangerous and contaminated areas that are otherwise inaccessible to human \\nrescuers. By performing tasks such as visually inspecting damaged structures,  \\nsearching for victims, creating maps of the affected area, clearing debris, delivering \\nessential supplies, and autonomously assisting in the rescue of victims, these robots \\ncan enhance the efficiency and effectiveness of rescue operations.'),\n",
       "  Document(metadata={'page': 1, 'source': 'c:\\\\DATEN\\\\PHD\\\\Article_SoftRobotIntervention\\\\Analyses\\\\main study - ChatGPT/data/scenario texts/rescue robot.pdf'}, page_content='––––––––––––––––– Second Page in Experiment –––––––––––––––––   \\nRobots for Search and Rescue M issions  \\nBenefits of robots for search and rescue missions might be:  \\n●  Access to areas unreachable or too dangerous for human rescuers  \\n●  Consistent and reliable performance, especially for tasks that require  \\nprecision and accuracy  \\n●  Autonomous  rescue capabilities, allowing robots to carry and transport \\nvictims to safety   \\nPossible risks of soft robots for search and rescue missions might be:  \\n●  Algorithms guiding soft robots may be biased, leading to unfair or \\ndiscriminatory outcomes, regarding  (i) where to concentrate rescue efforts, (ii) \\nwhom to search for first, (iii) who should be given priority treatment, (iv) who \\nmust be left to wait  \\n●  The level of autonomy in SAR operations might raise the question, if remote \\ncontrol of robotic operatio ns is preferable to full autonomy in precarious \\nsituations'),\n",
       "  Document(metadata={'page': 4, 'source': 'c:\\\\DATEN\\\\PHD\\\\Article_SoftRobotIntervention\\\\Analyses\\\\main study - ChatGPT/data/scenario texts/rescue robot.pdf'}, page_content='––––––––––––  Second  Page in Experiment (Intervention) ––––––––––––   \\nSoft Robots for Search and Rescue Missions  \\nBenefits of soft robots for search and rescue missions might be:  \\n●  Access to areas unreachable or too dangerous for human rescuers  \\n●  Delivery  of essential supplies (water, food, medicine) until victims are safely  \\nextracted  \\n●  Reduced risk of injury to victims due to their flexibility and adaptability  \\nPossible risks of soft robots for search and rescue missions might be:  \\n●  Algorithms  guiding soft robots may be biased, leading to unfair or \\ndiscriminatory outcomes, regarding (i) where to concentrate rescue efforts, (ii) \\nwhom to search for first, (iii) who should be given priority treatment, (iv) who \\nmust be left to wait  \\n●  The soft and  adaptable nature of soft robots could potentially create \\nchallenges in ensuring the safety and reliability of the robot in hazardous \\nenvironments')],\n",
       " 'answer': 'The advantages of rescue robots include their ability to access areas that are unreachable or too dangerous for human rescuers, provide consistent and reliable performance in tasks requiring precision and accuracy, and offer autonomous rescue capabilities, allowing them to carry and transport victims to safety. Additionally, they can deliver essential supplies such as water, food, and medicine to victims until they are safely extracted.'}"
      ]
     },
     "execution_count": 20,
     "metadata": {},
     "output_type": "execute_result"
    }
   ],
   "source": [
    "system_prompt = (\n",
    "    \"You are an assistant for question-answering tasks. \"\n",
    "    \"Use the following pieces of retrieved context to answer \"\n",
    "    \"the question. If you don't know the answer, say that you \"\n",
    "    \"don't know. Use three sentences maximum and keep the \"\n",
    "    \"answer concise.\"\n",
    "    \"\\n\\n\"\n",
    "    \"{context}\"\n",
    ")\n",
    "\n",
    "prompt = ChatPromptTemplate.from_messages(\n",
    "    [\n",
    "        (\"system\", system_prompt),\n",
    "        (\"human\", \"{input}\"),\n",
    "    ]\n",
    ")\n",
    "\n",
    "\n",
    "question_answer_chain = create_stuff_documents_chain(llm, prompt)\n",
    "rag_chain = create_retrieval_chain(retriever_RR, question_answer_chain)\n",
    "\n",
    "results = rag_chain.invoke({\"input\": \"What are the advantages of rescue robots?\"})\n",
    "\n",
    "results"
   ]
  },
  {
   "cell_type": "code",
   "execution_count": 22,
   "metadata": {},
   "outputs": [
    {
     "name": "stdout",
     "output_type": "stream",
     "text": [
      "essential supplies, and autonomously assisting in the rescue of victims, these robots \n",
      "can enhance the efficiency and effectiveness of rescue operations.  \n",
      "While robots f or search and rescue are still in the development phase, it is important \n",
      "to consider the ethical aspects (risks and benefits) of these technologies.\n",
      "{'page': 0, 'source': 'c:\\\\DATEN\\\\PHD\\\\Article_SoftRobotIntervention\\\\Analyses\\\\main study - ChatGPT/data/scenario texts/rescue robot.pdf'}\n"
     ]
    }
   ],
   "source": [
    "print(results[\"context\"][0].page_content)\n",
    "print(results[\"context\"][0].metadata)"
   ]
  },
  {
   "cell_type": "markdown",
   "metadata": {},
   "source": [
    "## Load .xlsx files (lists of words)\n",
    "This should be the final scenario texts in English of the two robots combined and seperated:\n",
    "\n",
    "* rescue robot_multipleSheets\n",
    "* socially assistive robot_multipleSheets\n",
    "* rescue robot_socially assistive robot_multipleSheets\n",
    "\n",
    "sources:\n",
    "* https://python.langchain.com/v0.2/docs/tutorials/llm_chain/ (Build a Simple LLM Application with LCEL)\n",
    "* https://python.langchain.com/v0.2/docs/how_to/structured_output/ (How to return structured data from a model)\n",
    "* https://python.langchain.com/v0.2/docs/how_to/llm_token_usage_tracking/ (How to track token usage for LLMs)\n"
   ]
  },
  {
   "cell_type": "code",
   "execution_count": 5,
   "metadata": {},
   "outputs": [
    {
     "name": "stdout",
     "output_type": "stream",
     "text": [
      "Sheet names combined: ['RCPP', 'LC', 'T', 'SIP', 'HRIP', 'AN', 'SIN', 'R', 'HC', 'RCN', 'SA', 'TP', 'TL', 'RCPN', 'HRIN', 'MT', 'RCA', 'AP']\n",
      "Sheet names RR: ['RCPP', 'LC', 'T', 'SIP', 'HRIP', 'AN', 'SIN', 'R', 'HC', 'RCN', 'SA', 'TP', 'TL', 'RCPN', 'HRIN', 'MT', 'RCA', 'AP']\n",
      "Sheet names SAR: ['RCPP', 'LC', 'T', 'SIP', 'HRIP', 'AN', 'SIN', 'R', 'HC', 'RCN', 'SA', 'TP', 'TL', 'RCPN', 'HRIN', 'MT', 'RCA', 'AP']\n"
     ]
    }
   ],
   "source": [
    "## Load the xlsx file of the rescue robot and the socially assistive robot combined\n",
    "# Path to your Excel file\n",
    "file_path = directory + \"/data/\" + \"rescue robot_socially assistive robot_multipleSheets\" + \".xlsx\"\n",
    "# Load the Excel file\n",
    "excel_data = pd.ExcelFile(file_path)\n",
    "# Print the sheet names\n",
    "print(\"Sheet names combined:\", excel_data.sheet_names)\n",
    "# Load all sheets into a dictionary of dataframes\n",
    "all_sheets_Combined = {sheet_name: excel_data.parse(sheet_name) for sheet_name in excel_data.sheet_names}\n",
    "\n",
    "\n",
    "## Load the xlsx file of the rescue robot and the socially assistive robot combined\n",
    "# Path to your Excel file\n",
    "file_path = directory + \"/data/\" + \"rescue robot_multipleSheets\" + \".xlsx\"\n",
    "# Load the Excel file\n",
    "excel_data = pd.ExcelFile(file_path)\n",
    "# Print the sheet names\n",
    "print(\"Sheet names RR:\", excel_data.sheet_names)\n",
    "# Load all sheets into a dictionary of dataframes\n",
    "all_sheets_RR = {sheet_name: excel_data.parse(sheet_name) for sheet_name in excel_data.sheet_names}\n",
    "\n",
    "\n",
    "\n",
    "## Load the xlsx file of the rescue robot and the socially assistive robot combined\n",
    "# Path to your Excel file\n",
    "file_path = directory + \"/data/\" + \"socially assistive robot_multipleSheets\" + \".xlsx\"\n",
    "# Load the Excel file\n",
    "excel_data = pd.ExcelFile(file_path)\n",
    "# Print the sheet names\n",
    "print(\"Sheet names SAR:\", excel_data.sheet_names)\n",
    "# Load all sheets into a dictionary of dataframes\n",
    "all_sheets_SAR = {sheet_name: excel_data.parse(sheet_name) for sheet_name in excel_data.sheet_names}\n"
   ]
  },
  {
   "cell_type": "code",
   "execution_count": 6,
   "metadata": {},
   "outputs": [
    {
     "name": "stdout",
     "output_type": "stream",
     "text": [
      "(88, 6)\n",
      "(41, 6)\n",
      "(47, 6)\n"
     ]
    }
   ],
   "source": [
    "# Example: Access data from a specific sheet\n",
    "sheet_name = 'T'\n",
    "print(all_sheets_Combined[sheet_name].shape)\n",
    "print(all_sheets_RR[sheet_name].shape)\n",
    "print(all_sheets_SAR[sheet_name].shape)"
   ]
  },
  {
   "cell_type": "markdown",
   "metadata": {},
   "source": [
    "Use dictionaries to map each word to its comment."
   ]
  },
  {
   "cell_type": "code",
   "execution_count": 7,
   "metadata": {},
   "outputs": [
    {
     "name": "stdout",
     "output_type": "stream",
     "text": [
      "{'a': ['comment1', 'comment3'], 'b': ['comment2', 'comment5'], 'c': ['comment4']}\n"
     ]
    }
   ],
   "source": [
    "def create_multivalue_dict(df, key_col, value_col):\n",
    "    \"\"\"\n",
    "    Create a dictionary from a DataFrame where each key maps to a list of values.\n",
    "    \n",
    "    Parameters:\n",
    "    df (pd.DataFrame): The input DataFrame.\n",
    "    key_col (str): The column name to be used as keys.\n",
    "    value_col (str): The column name to be used as values.\n",
    "    \n",
    "    Returns:\n",
    "    dict: A dictionary where each key maps to a list of values.\n",
    "    \"\"\"\n",
    "    # Remove rows with NaN in the key columns\n",
    "    df = df.dropna(subset=[key_col])\n",
    "\n",
    "    # Create a dictionary to map items to their comments, allowing for multiple comments per key\n",
    "    multivalue_dict = {}\n",
    "    for key, value in zip(df[key_col], df[value_col]):\n",
    "        if key in multivalue_dict:\n",
    "            multivalue_dict[key].append(value)\n",
    "        else:\n",
    "            multivalue_dict[key] = [value]\n",
    "\n",
    "    return multivalue_dict\n",
    "\n",
    "# Example usage\n",
    "data = {\n",
    "    'constant': ['a', 'b', 'a', 'c', 'b', np.nan],\n",
    "    'constant_comments': ['comment1', 'comment2', 'comment3', 'comment4', 'comment5', 'comment6']\n",
    "}\n",
    "df = pd.DataFrame(data)\n",
    "\n",
    "df_mapping = create_multivalue_dict(df, 'constant', 'constant_comments')\n",
    "print(df_mapping)"
   ]
  },
  {
   "cell_type": "code",
   "execution_count": 9,
   "metadata": {},
   "outputs": [
    {
     "name": "stdout",
     "output_type": "stream",
     "text": [
      "mapping constant x comments {'constant availability (timewise)': [nan], 'unconditional emotional accompaniment': [nan], 'discreet': ['Stop complaining'], 'Less abuse weak': ['There is unspeakable abuse of vulnerable individuals by nursing staff. I read a newspaper article where a person had installed a hidden camera in the room of their elderly mother (to find out who was stealing), and it turned out there was severe, severe abuse by nursing staff.'], 'People think': [nan], 'exact task repetition': [nan], 'robot not sick': [nan], 'neutral': ['Social assistance robots are neutral and do not swing from emotional state to positive or negative'], 'objective': [\"No condemnation or falsification of feelings. Soberly considers the facts. // The robot doesn't care who you are.\"], 'fact-based': ['Assistance robots proceed schematically according to facts and can refer to scientific data free from emotions. // Scientific elaboration and programming of behaviors can achieve a desired reaction. Science has a lot of data ready that can hit a broad group.'], 'make emotionless decisions': ['Sometimes decisions need to be made without emotion, and a robot can do that better than a human'], 'adapted programming': ['You can choose for yourself how the robot should be'], 'better recognize disease patterns': [nan], 'therapeutic function': [nan], 'competence': ['Knows all methods and the latest findings of science.'], 'availability, reliability': ['Is available 24/7, never sick, does not strike, is completely flexible.'], 'neutrality': ['Robi knows no antipathies, he treats everyone without prejudice.'], 'reliable information': [nan], 'organized': [nan], 'in caves': ['Caves, not big enough for humans. For contacting or delivering food, water, oxygen'], 'robust material': [nan], 'resilient': [nan, nan], 'unbiased': [\"(depending on programming) because there's no sympathy or antipathy, or issues with the hierarchy\", nan, 'Unclear, to what extent a robot can be programmed impartially'], 'More individual care possible': [nan], 'objective conversation partner': ['I imagine a social assistance robot as unbiased (depending on the AI training).'], 'more precise than humans': [nan], 'many data available': [nan], 'care 24/7': ['Robots hardly need any breaks and can adapt to the clients'], 'better analysis': ['Possibly, robots can analyze learning problems or diseases better and faster.'], 'unlimited usability': [nan], 'efficient work': [nan], 'modern possibilities': ['Robots create new treatment options.'], 'makes few mistakes': [nan], 'treats everyone equally': ['Discriminate against no one'], 'non-judgmental feedback': [nan], 'prejudice-free': ['Robots in relation to the people who use the robots'], 'personal': [nan], 'provision of services': ['Robots can be used in situations where human performance is not sufficient'], 'objectivity': [nan], 'medication check': ['Can check the correct medication for example'], 'better memory': ['Robots can often remember things better than humans'], 'no human fluctuations': ['Always\" ready for use; if developed so far, then possibly usable as needed.'], 'individual reference': ['People can get personalized assistance to a greater extent with assistance robots than without robots.'], 'faster work': ['Robots show no fatigue'], 'no fatigue': [nan], 'significantly stronger': ['and faster than humans'], 'possibility of special programs': ['Robots could specifically address disease patterns'], 'assume responsibility': [nan], 'certifications': [nan], 'transparency necessary': ['It should be evident how rescue robots were programmed and make decisions so that their work can be critically evaluated.'], 'reliable performance': [nan, nan, nan, nan], 'never tired': [nan], 'never sick': [nan], 'sturdier': [nan], 'task-oriented': ['Stress is not an issue. It does what it was programmed for.'], 'no bad actors': ['Transparent coding process, which is visible.'], 'No abuse weak': ['e.g. robbing the elderly, people with dementia, or abusing children, which unfortunately some people are capable of.'], 'minimization of dangers': ['for body and life of people'], 'advantages for environment': ['Due to its programming, the environment can be less damaged.'], 'more resistant': ['Especially in severe weather conditions, robots may be more resistant and easier to deploy than humans'], 'no disgust': [nan], 'does not rate': [nan], 'reliable results/performance': [nan], 'tailored care': [nan], 'search for victims': [nan], 'representation of graphs': ['You can use machine graphs for the damaged area'], 'robot acts rationally': ['The robot always acts rationally or objectively and is not upset by a difficult child or a difficult person. It will always act the same, no matter how it is treated etc.'], 'uninterrupted care': [nan], 'continuous monitoring': ['in unstable patients'], 'reliable': [nan], 'calm': ['can act cooler'], 'broader qualification': ['The robot can be trained on a wide number of special cases'], 'creativity': [nan], 'long-term less prone to error': ['Due to the learning process, it can be assumed that an intelligent rescue system can overtake humans in the long term.'], 'no danger to humans': [nan], 'robust': [nan], 'faster decision-making ability': [nan], 'data protection': [nan], 'readiness for action': ['probably longer than assistants, since the robots have to be transported first and all the technical equipment needs to be set up'], 'remove load': ['Of course, people are capable of anything, which is clearly demonstrated by the existence of so many job descriptions and our active involvement in every industry. Robots could take the burden off us and we could focus on other industries.'], 'lens': ['A rescue robot only acts as it was programmed and not according to feelings.'], 'not prone to stress': [nan]}\n",
      "82\n",
      "mapping new x comments {'individual': ['the robot can be individually designed and adapted according to needs or type of therapy.'], 'Adaptable to the rescue situation': [nan], 'programming': [nan], 'less error-prone': ['Properly configured machines are less prone to errors than humans'], 'bring essential supplies': [nan], 'larger knowledge base': ['can draw on more knowledge than a human'], 'hacking': [nan], 'More mobile than humans': ['Robots may potentially access smaller areas that are not accessible to humans.'], 'no conventional relationship': [\"Robots are not influenced by human relationships or 'chemistry', i.e., they offer a neutral basic attitude for cooperation, as if two people possibly do not like each other.\"], 'possibilities for deployment': ['Through several types of robots, a suitable one can be selected for the task.']}\n",
      "10\n"
     ]
    }
   ],
   "source": [
    "# Remove rows with NaN in the key columns as they cannot be used as dictionary keys\n",
    "#> not sensitive to multiple identical keys: dict(zip(df['constant'], df['constant_comments']))\n",
    "df = all_sheets_Combined[sheet_name]\n",
    "\n",
    "constant_comments_mapping = create_multivalue_dict(df, 'constant', 'constant_comments')\n",
    "print(\"mapping constant x comments:\", constant_comments_mapping)\n",
    "print(len(constant_comments_mapping))\n",
    "\n",
    "new_comments_mapping = create_multivalue_dict(df, 'new', 'new_comments')\n",
    "print(\"mapping new x comments:\", new_comments_mapping)\n",
    "print(len(new_comments_mapping))"
   ]
  },
  {
   "cell_type": "markdown",
   "metadata": {},
   "source": [
    "# Set up ChatGPT"
   ]
  },
  {
   "cell_type": "code",
   "execution_count": 24,
   "metadata": {},
   "outputs": [
    {
     "name": "stdout",
     "output_type": "stream",
     "text": [
      "result: messages=[SystemMessage(content='Translate the following into italian:'), HumanMessage(content='hi')]\n",
      "result.to_messages(): [SystemMessage(content='Translate the following into italian:'), HumanMessage(content='hi')]\n",
      "content='Wie viel kostet der Fisch?' response_metadata={'token_usage': {'completion_tokens': 8, 'prompt_tokens': 23, 'total_tokens': 31}, 'model_name': 'gpt-3.5-turbo', 'system_fingerprint': None, 'finish_reason': 'stop', 'logprobs': None} id='run-e0ca7b80-b0e7-4e79-b88e-3b00e7f31150-0' usage_metadata={'input_tokens': 23, 'output_tokens': 8, 'total_tokens': 31}\n",
      "---\n",
      "\n",
      "Total Tokens: 31\n",
      "Prompt Tokens: 23\n",
      "Completion Tokens: 8\n",
      "Total Cost (USD): $5.0499999999999994e-05\n"
     ]
    }
   ],
   "source": [
    "system_template = \"Translate the following into {language}:\"\n",
    "\n",
    "prompt_template = ChatPromptTemplate.from_messages(\n",
    "    [(\"system\", system_template), (\"user\", \"{text}\")]\n",
    ")\n",
    "\n",
    "\n",
    "result = prompt_template.invoke({\"language\": \"italian\", \"text\": \"hi\"})\n",
    "\n",
    "print(\"result:\", result)\n",
    "print(\"result.to_messages():\", result.to_messages())\n",
    "\n",
    "model = ChatOpenAI(model=\"gpt-3.5-turbo\", openai_api_key=key.openai_api_key)\n",
    "\n",
    "chain = prompt_template | model\n",
    "\n",
    "\n",
    "\n",
    "with get_openai_callback() as cb:\n",
    "    result = chain.invoke({\"language\": \"german\", \"text\": \"How much is the fish?\"})\n",
    "    print(result)\n",
    "    print(\"---\")\n",
    "print()\n",
    "\n",
    "\n",
    "print(f\"Total Tokens: {cb.total_tokens}\")\n",
    "print(f\"Prompt Tokens: {cb.prompt_tokens}\")\n",
    "print(f\"Completion Tokens: {cb.completion_tokens}\")\n",
    "print(f\"Total Cost (USD): ${cb.total_cost}\")"
   ]
  },
  {
   "cell_type": "code",
   "execution_count": 25,
   "metadata": {},
   "outputs": [
    {
     "data": {
      "text/plain": [
       "'Wie viel kostet der Fisch?'"
      ]
     },
     "execution_count": 25,
     "metadata": {},
     "output_type": "execute_result"
    }
   ],
   "source": [
    "from langchain_core.output_parsers import StrOutputParser\n",
    "\n",
    "parser = StrOutputParser()\n",
    "parser.invoke(result)"
   ]
  },
  {
   "cell_type": "code",
   "execution_count": 31,
   "metadata": {},
   "outputs": [
    {
     "data": {
      "text/plain": [
       "Joke(setup='Why did the cat and dog go to space?', punchline='To find the purr-fect planet!', rating=8)"
      ]
     },
     "execution_count": 31,
     "metadata": {},
     "output_type": "execute_result"
    }
   ],
   "source": [
    "llm = ChatOpenAI(model=\"gpt-3.5-turbo-0125\", openai_api_key=key.openai_api_key)\n",
    "\n",
    "\n",
    "from typing import Optional\n",
    "\n",
    "from langchain_core.pydantic_v1 import BaseModel, Field\n",
    "\n",
    "\n",
    "class Joke(BaseModel):\n",
    "    \"\"\"Joke to tell user.\"\"\"\n",
    "\n",
    "    setup: str = Field(description=\"The setup of the joke\")\n",
    "    punchline: str = Field(description=\"The punchline to the joke\")\n",
    "    rating: Optional[int] = Field(description=\"How funny the joke is, from 1 to 10\")\n",
    "\n",
    "\n",
    "structured_llm = llm.with_structured_output(Joke)\n",
    "\n",
    "structured_llm.invoke(\"Tell me a joke about cats and dogs in the space\")"
   ]
  },
  {
   "cell_type": "code",
   "execution_count": 32,
   "metadata": {},
   "outputs": [
    {
     "data": {
      "text/plain": [
       "{'setup': 'Why was the cat sitting on the computer?',\n",
       " 'punchline': 'To keep an eye on the mouse!',\n",
       " 'rating': 8}"
      ]
     },
     "execution_count": 32,
     "metadata": {},
     "output_type": "execute_result"
    }
   ],
   "source": [
    "json_schema = {\n",
    "    \"title\": \"joke\",\n",
    "    \"description\": \"Joke to tell user.\",\n",
    "    \"type\": \"object\",\n",
    "    \"properties\": {\n",
    "        \"setup\": {\n",
    "            \"type\": \"string\",\n",
    "            \"description\": \"The setup of the joke\",\n",
    "        },\n",
    "        \"punchline\": {\n",
    "            \"type\": \"string\",\n",
    "            \"description\": \"The punchline to the joke\",\n",
    "        },\n",
    "        \"rating\": {\n",
    "            \"type\": \"integer\",\n",
    "            \"description\": \"How funny the joke is, from 1 to 10\",\n",
    "        },\n",
    "    },\n",
    "    \"required\": [\"setup\", \"punchline\"],\n",
    "}\n",
    "structured_llm = llm.with_structured_output(json_schema)\n",
    "\n",
    "structured_llm.invoke(\"Tell me a joke about cats\")"
   ]
  },
  {
   "cell_type": "code",
   "execution_count": 34,
   "metadata": {},
   "outputs": [
    {
     "ename": "KeyError",
     "evalue": "\"Input to ChatPromptTemplate is missing variables {'language2', 'language1'}.  Expected: ['language1', 'language2', 'text'] Received: ['language', 'text']\"",
     "output_type": "error",
     "traceback": [
      "\u001b[1;31m---------------------------------------------------------------------------\u001b[0m",
      "\u001b[1;31mKeyError\u001b[0m                                  Traceback (most recent call last)",
      "Cell \u001b[1;32mIn[34], line 9\u001b[0m\n\u001b[0;32m      2\u001b[0m user_template \u001b[38;5;241m=\u001b[39m \u001b[38;5;124m\"\u001b[39m\u001b[38;5;132;01m{text}\u001b[39;00m\u001b[38;5;124m\"\u001b[39m\n\u001b[0;32m      4\u001b[0m prompt_template \u001b[38;5;241m=\u001b[39m ChatPromptTemplate\u001b[38;5;241m.\u001b[39mfrom_messages(\n\u001b[0;32m      5\u001b[0m     [(\u001b[38;5;124m\"\u001b[39m\u001b[38;5;124msystem\u001b[39m\u001b[38;5;124m\"\u001b[39m, system_template), (\u001b[38;5;124m\"\u001b[39m\u001b[38;5;124muser\u001b[39m\u001b[38;5;124m\"\u001b[39m, user_template)]\n\u001b[0;32m      6\u001b[0m )\n\u001b[1;32m----> 9\u001b[0m result \u001b[38;5;241m=\u001b[39m prompt_template\u001b[38;5;241m.\u001b[39minvoke({\u001b[38;5;124m\"\u001b[39m\u001b[38;5;124mlanguage\u001b[39m\u001b[38;5;124m\"\u001b[39m: \u001b[38;5;124m\"\u001b[39m\u001b[38;5;124mitalian\u001b[39m\u001b[38;5;124m\"\u001b[39m, \u001b[38;5;124m\"\u001b[39m\u001b[38;5;124mtext\u001b[39m\u001b[38;5;124m\"\u001b[39m: \u001b[38;5;124m\"\u001b[39m\u001b[38;5;124mhi\u001b[39m\u001b[38;5;124m\"\u001b[39m})\n\u001b[0;32m     11\u001b[0m \u001b[38;5;28mprint\u001b[39m(\u001b[38;5;124m\"\u001b[39m\u001b[38;5;124mresult:\u001b[39m\u001b[38;5;124m\"\u001b[39m, result)\n\u001b[0;32m     12\u001b[0m \u001b[38;5;28mprint\u001b[39m(\u001b[38;5;124m\"\u001b[39m\u001b[38;5;124mresult.to_messages():\u001b[39m\u001b[38;5;124m\"\u001b[39m, result\u001b[38;5;241m.\u001b[39mto_messages())\n",
      "File \u001b[1;32mc:\\Users\\fenn\\AppData\\Local\\R-MINI~1\\Lib\\site-packages\\langchain_core\\prompts\\base.py:179\u001b[0m, in \u001b[0;36mBasePromptTemplate.invoke\u001b[1;34m(self, input, config)\u001b[0m\n\u001b[0;32m    177\u001b[0m \u001b[38;5;28;01mif\u001b[39;00m \u001b[38;5;28mself\u001b[39m\u001b[38;5;241m.\u001b[39mtags:\n\u001b[0;32m    178\u001b[0m     config[\u001b[38;5;124m\"\u001b[39m\u001b[38;5;124mtags\u001b[39m\u001b[38;5;124m\"\u001b[39m] \u001b[38;5;241m=\u001b[39m config[\u001b[38;5;124m\"\u001b[39m\u001b[38;5;124mtags\u001b[39m\u001b[38;5;124m\"\u001b[39m] \u001b[38;5;241m+\u001b[39m \u001b[38;5;28mself\u001b[39m\u001b[38;5;241m.\u001b[39mtags\n\u001b[1;32m--> 179\u001b[0m \u001b[38;5;28;01mreturn\u001b[39;00m \u001b[38;5;28mself\u001b[39m\u001b[38;5;241m.\u001b[39m_call_with_config(\n\u001b[0;32m    180\u001b[0m     \u001b[38;5;28mself\u001b[39m\u001b[38;5;241m.\u001b[39m_format_prompt_with_error_handling,\n\u001b[0;32m    181\u001b[0m     \u001b[38;5;28minput\u001b[39m,\n\u001b[0;32m    182\u001b[0m     config,\n\u001b[0;32m    183\u001b[0m     run_type\u001b[38;5;241m=\u001b[39m\u001b[38;5;124m\"\u001b[39m\u001b[38;5;124mprompt\u001b[39m\u001b[38;5;124m\"\u001b[39m,\n\u001b[0;32m    184\u001b[0m )\n",
      "File \u001b[1;32mc:\\Users\\fenn\\AppData\\Local\\R-MINI~1\\Lib\\site-packages\\langchain_core\\runnables\\base.py:1593\u001b[0m, in \u001b[0;36mRunnable._call_with_config\u001b[1;34m(self, func, input, config, run_type, **kwargs)\u001b[0m\n\u001b[0;32m   1589\u001b[0m     context \u001b[38;5;241m=\u001b[39m copy_context()\n\u001b[0;32m   1590\u001b[0m     context\u001b[38;5;241m.\u001b[39mrun(_set_config_context, child_config)\n\u001b[0;32m   1591\u001b[0m     output \u001b[38;5;241m=\u001b[39m cast(\n\u001b[0;32m   1592\u001b[0m         Output,\n\u001b[1;32m-> 1593\u001b[0m         context\u001b[38;5;241m.\u001b[39mrun(\n\u001b[0;32m   1594\u001b[0m             call_func_with_variable_args,  \u001b[38;5;66;03m# type: ignore[arg-type]\u001b[39;00m\n\u001b[0;32m   1595\u001b[0m             func,  \u001b[38;5;66;03m# type: ignore[arg-type]\u001b[39;00m\n\u001b[0;32m   1596\u001b[0m             \u001b[38;5;28minput\u001b[39m,  \u001b[38;5;66;03m# type: ignore[arg-type]\u001b[39;00m\n\u001b[0;32m   1597\u001b[0m             config,\n\u001b[0;32m   1598\u001b[0m             run_manager,\n\u001b[0;32m   1599\u001b[0m             \u001b[38;5;241m*\u001b[39m\u001b[38;5;241m*\u001b[39mkwargs,\n\u001b[0;32m   1600\u001b[0m         ),\n\u001b[0;32m   1601\u001b[0m     )\n\u001b[0;32m   1602\u001b[0m \u001b[38;5;28;01mexcept\u001b[39;00m \u001b[38;5;167;01mBaseException\u001b[39;00m \u001b[38;5;28;01mas\u001b[39;00m e:\n\u001b[0;32m   1603\u001b[0m     run_manager\u001b[38;5;241m.\u001b[39mon_chain_error(e)\n",
      "File \u001b[1;32mc:\\Users\\fenn\\AppData\\Local\\R-MINI~1\\Lib\\site-packages\\langchain_core\\runnables\\config.py:380\u001b[0m, in \u001b[0;36mcall_func_with_variable_args\u001b[1;34m(func, input, config, run_manager, **kwargs)\u001b[0m\n\u001b[0;32m    378\u001b[0m \u001b[38;5;28;01mif\u001b[39;00m run_manager \u001b[38;5;129;01mis\u001b[39;00m \u001b[38;5;129;01mnot\u001b[39;00m \u001b[38;5;28;01mNone\u001b[39;00m \u001b[38;5;129;01mand\u001b[39;00m accepts_run_manager(func):\n\u001b[0;32m    379\u001b[0m     kwargs[\u001b[38;5;124m\"\u001b[39m\u001b[38;5;124mrun_manager\u001b[39m\u001b[38;5;124m\"\u001b[39m] \u001b[38;5;241m=\u001b[39m run_manager\n\u001b[1;32m--> 380\u001b[0m \u001b[38;5;28;01mreturn\u001b[39;00m func(\u001b[38;5;28minput\u001b[39m, \u001b[38;5;241m*\u001b[39m\u001b[38;5;241m*\u001b[39mkwargs)\n",
      "File \u001b[1;32mc:\\Users\\fenn\\AppData\\Local\\R-MINI~1\\Lib\\site-packages\\langchain_core\\prompts\\base.py:153\u001b[0m, in \u001b[0;36mBasePromptTemplate._format_prompt_with_error_handling\u001b[1;34m(self, inner_input)\u001b[0m\n\u001b[0;32m    152\u001b[0m \u001b[38;5;28;01mdef\u001b[39;00m \u001b[38;5;21m_format_prompt_with_error_handling\u001b[39m(\u001b[38;5;28mself\u001b[39m, inner_input: Dict) \u001b[38;5;241m-\u001b[39m\u001b[38;5;241m>\u001b[39m PromptValue:\n\u001b[1;32m--> 153\u001b[0m     _inner_input \u001b[38;5;241m=\u001b[39m \u001b[38;5;28mself\u001b[39m\u001b[38;5;241m.\u001b[39m_validate_input(inner_input)\n\u001b[0;32m    154\u001b[0m     \u001b[38;5;28;01mreturn\u001b[39;00m \u001b[38;5;28mself\u001b[39m\u001b[38;5;241m.\u001b[39mformat_prompt(\u001b[38;5;241m*\u001b[39m\u001b[38;5;241m*\u001b[39m_inner_input)\n",
      "File \u001b[1;32mc:\\Users\\fenn\\AppData\\Local\\R-MINI~1\\Lib\\site-packages\\langchain_core\\prompts\\base.py:145\u001b[0m, in \u001b[0;36mBasePromptTemplate._validate_input\u001b[1;34m(self, inner_input)\u001b[0m\n\u001b[0;32m    143\u001b[0m missing \u001b[38;5;241m=\u001b[39m \u001b[38;5;28mset\u001b[39m(\u001b[38;5;28mself\u001b[39m\u001b[38;5;241m.\u001b[39minput_variables)\u001b[38;5;241m.\u001b[39mdifference(inner_input)\n\u001b[0;32m    144\u001b[0m \u001b[38;5;28;01mif\u001b[39;00m missing:\n\u001b[1;32m--> 145\u001b[0m     \u001b[38;5;28;01mraise\u001b[39;00m \u001b[38;5;167;01mKeyError\u001b[39;00m(\n\u001b[0;32m    146\u001b[0m         \u001b[38;5;124mf\u001b[39m\u001b[38;5;124m\"\u001b[39m\u001b[38;5;124mInput to \u001b[39m\u001b[38;5;132;01m{\u001b[39;00m\u001b[38;5;28mself\u001b[39m\u001b[38;5;241m.\u001b[39m\u001b[38;5;18m__class__\u001b[39m\u001b[38;5;241m.\u001b[39m\u001b[38;5;18m__name__\u001b[39m\u001b[38;5;132;01m}\u001b[39;00m\u001b[38;5;124m is missing variables \u001b[39m\u001b[38;5;132;01m{\u001b[39;00mmissing\u001b[38;5;132;01m}\u001b[39;00m\u001b[38;5;124m. \u001b[39m\u001b[38;5;124m\"\u001b[39m\n\u001b[0;32m    147\u001b[0m         \u001b[38;5;124mf\u001b[39m\u001b[38;5;124m\"\u001b[39m\u001b[38;5;124m Expected: \u001b[39m\u001b[38;5;132;01m{\u001b[39;00m\u001b[38;5;28mself\u001b[39m\u001b[38;5;241m.\u001b[39minput_variables\u001b[38;5;132;01m}\u001b[39;00m\u001b[38;5;124m\"\u001b[39m\n\u001b[0;32m    148\u001b[0m         \u001b[38;5;124mf\u001b[39m\u001b[38;5;124m\"\u001b[39m\u001b[38;5;124m Received: \u001b[39m\u001b[38;5;132;01m{\u001b[39;00m\u001b[38;5;28mlist\u001b[39m(inner_input\u001b[38;5;241m.\u001b[39mkeys())\u001b[38;5;132;01m}\u001b[39;00m\u001b[38;5;124m\"\u001b[39m\n\u001b[0;32m    149\u001b[0m     )\n\u001b[0;32m    150\u001b[0m \u001b[38;5;28;01mreturn\u001b[39;00m inner_input\n",
      "\u001b[1;31mKeyError\u001b[0m: \"Input to ChatPromptTemplate is missing variables {'language2', 'language1'}.  Expected: ['language1', 'language2', 'text'] Received: ['language', 'text']\""
     ]
    }
   ],
   "source": [
    "system_template = \"Translate the following into the following two languages: {language1}, {language2}:\"\n",
    "user_template = \"{text}\"\n",
    "\n",
    "prompt_template = ChatPromptTemplate.from_messages(\n",
    "    [(\"system\", system_template), (\"user\", user_template)]\n",
    ")\n",
    "\n",
    "\n",
    "result = prompt_template.invoke({\"language1\": \"italian\", \"text\": \"hi\"})\n",
    "\n",
    "print(\"result:\", result)\n",
    "print(\"result.to_messages():\", result.to_messages())\n",
    "\n",
    "model = ChatOpenAI(model=\"gpt-3.5-turbo\", openai_api_key=key.openai_api_key)\n",
    "\n",
    "chain = prompt_template | model\n",
    "\n",
    "\n",
    "\n",
    "with get_openai_callback() as cb:\n",
    "    result = chain.invoke({\"language1\": \"german\", \"text\": \"How much is the fish?\"})\n",
    "    print(result)\n",
    "    print(\"---\")\n",
    "print()\n",
    "\n",
    "\n",
    "print(f\"Total Tokens: {cb.total_tokens}\")\n",
    "print(f\"Prompt Tokens: {cb.prompt_tokens}\")\n",
    "print(f\"Completion Tokens: {cb.completion_tokens}\")\n",
    "print(f\"Total Cost (USD): ${cb.total_cost}\")"
   ]
  },
  {
   "cell_type": "markdown",
   "metadata": {},
   "source": [
    "## 1. create prompt text"
   ]
  },
  {
   "cell_type": "code",
   "execution_count": 7,
   "metadata": {},
   "outputs": [
    {
     "name": "stdout",
     "output_type": "stream",
     "text": [
      "[None, None, 'Ich möchte einen Lernentwicklungsbericht für einen Schüler namens Carbone, Valerio schreiben. Verwende hierbei die dritte Person, um die Lernentwicklung des Schülers sachlich zu beschreiben. Achte hierbei auf das Geschlecht des Namens. Verwende nur den Vornamen des Schülers. Dieser Lernentwicklungsbericht sollte nur aus einem einzigen Paragraphen bestehen und folgend aufgebaut sein: 1. Schreibe ein Satz zur mündlichen Note im Unterricht, ohne das Wort \"mündlich\" zu verwenden. \\n                2. Schreibe zu jeder Kontrolle zwei bis drei Sätze, wobei das Niveau des Schülers am Anfang genannt wird. Beachte hierbei zu jedem Textblock der jeweiligen Kontrolle etwas zu schreiben, wobei \"UND\" für verschiedene Fähigkeiten innerhalb einer erworbenen Kompetenz steht. Schreibe pro Kontrolle / Check jedoch nicht mehr als 40 Worte. Verwende nicht das Wort \"Kontrolle\" oder \"Check\". \\n                3. Am Schluss des Paragraphen soll \"(Fe)\" stehen.\\n                Hierbei übergebe ich dir im Folgenden, die dafür relevanten Informationen:     \\n                zu 1. mündliche Note:  \\n                gezeigtes Engagement im Unterricht: beteiligt sich aktiv, sowie gezeigtes Interesse im Unterricht: reges.\\n                zu 2. Kontrollen:\\n                    Check1:\\n                    Niveau der  erworbene Kompetenzen: lückenhaft\\n\\n                    Kompetenzen:\\n                    Stoffe anhand ihrer Bausteine ordnen (Metalle, flüchtige/molekulare Stoffe, Salze) UND mit dem Kern-Hülle-Modell den Aufbau von Atomen darstellen (Proton, Elektron, Neutron) UND auf der Grundlage eines Modellversuchs zum Rutherfordschen Streuversuch das Kern-Hülle-Modell beschreiben UND den Zusammenhang zwischen Atombau und Stellung der Atome im Periodensystem der Elemente beschreiben (Atomsymbole, Protonenanzahl)\\n                    \\n                    \\n                    Check2:\\n                    Niveau der  erworbene Kompetenzen: lückenhaft\\n\\n                    Kompetenzen:\\n                    Moleküle als miteinander verbundene Atome beschreiben UND die Ionenbindung beschreiben und typische Eigenschaften des Natriumchlorids begründen (Ionengitter, Sprödigkeit, hohe Schmelztemperatur)\\n\\neinfache Verhältnisformeln mithilfe vorgegebener Ionen unter Anleitung aufstellen UND den Informationsgehalt von Molekülformeln beschreiben (H2O, O2, CO2)\\n\\nMolekülen und Ionengittern Bindungstypen zuordnen (Elektronenpaarbindung, Ionenbindung)\\n                    \\n                    ', 'Ich möchte einen Lernentwicklungsbericht für einen Schüler namens Dorner, Sebastian schreiben. Verwende hierbei die dritte Person, um die Lernentwicklung des Schülers sachlich zu beschreiben. Achte hierbei auf das Geschlecht des Namens. Verwende nur den Vornamen des Schülers. Dieser Lernentwicklungsbericht sollte nur aus einem einzigen Paragraphen bestehen und folgend aufgebaut sein: 1. Schreibe ein Satz zur mündlichen Note im Unterricht, ohne das Wort \"mündlich\" zu verwenden. \\n                2. Schreibe zu jeder Kontrolle zwei bis drei Sätze, wobei das Niveau des Schülers am Anfang genannt wird. Beachte hierbei zu jedem Textblock der jeweiligen Kontrolle etwas zu schreiben, wobei \"UND\" für verschiedene Fähigkeiten innerhalb einer erworbenen Kompetenz steht. Schreibe pro Kontrolle / Check jedoch nicht mehr als 40 Worte. Verwende nicht das Wort \"Kontrolle\" oder \"Check\". \\n                3. Am Schluss des Paragraphen soll \"(Fe)\" stehen.\\n                Hierbei übergebe ich dir im Folgenden, die dafür relevanten Informationen:     \\n                zu 1. mündliche Note:  \\n                gezeigtes Engagement im Unterricht: beteiligt sich sehr aktiv, sowie gezeigtes Interesse im Unterricht: überdurchschnittlich .\\n                zu 2. Kontrollen:\\n                    Check1:\\n                    Niveau der  erworbene Kompetenzen: sehr sicher\\n\\n                    Kompetenzen:\\n                    Stoffe anhand ihrer Stoffteilchen ordnen (Metalle, Edelgase, flüchtige/molekulare Stoffe, Salze) UND mit einem Atommodell den Aufbau von Atomen und Ionen erläutern (Proton, Elektron, Neutron, Kern-Hülle-Modell, Schalenmodell, Außenelektron, Ionenbildung, Edelgaskonfiguration) UND auf der Grundlage des Rutherfordschen Streuversuchs das Kern-Hülle-Modell beschreiben UND den Zusammenhang zwischen Atombau und Stellung der Atome im Periodensystem der Elemente erklären (Atomsymbole, Ordnungszahl, Protonenanzahl, Elektronenanzahl, Neutronenanzahl, Massenzahl, Außenelektronen, Hauptgruppe, Periode)\\n                    \\n                    \\n                    Check2:\\n                    Niveau der  erworbene Kompetenzen: sehr sicher\\n\\n                    Kompetenzen:\\n                    Moleküle als miteinander verbundene Atome beschreiben UND die Ionenbindung beschreiben und typische Eigenschaften des Natriumchlorids und seiner wässrigen Lösung begründen (Ionengitter, Sprödigkeit, hohe Schmelztemperatur, elektrische Leitfähigkeit) UND die Metallbindung beschreiben und damit typische Eigenschaften der Metalle begründen (Duktilität, elektrische Leitfähigkeit)\\n\\neinfache Verhältnisformeln mithilfe der Edelgasregel unter Anleitung aufstellen UND den Informationsgehalt von Verhältnisformeln und Molekülformeln beschreiben\\n\\npolare und unpolare Elektronenpaarbindungen vergleichen (Elektronegativität) UND den Zusammenhang zwischen Bindungstyp, räumlichem Bau und Dipol-Eigenschaft des Wassers darstellen UND Stoffteilchen Bindungstypen zuordnen (Elektronenpaarbindung, Ionenbindung, Metallbindung) UND zwischenmolekulare Wechselwirkungen beschreiben (Wechselwirkungen zwischen temporären Dipolen, Wasserstoffbrücken)\\n                    \\n                    ', 'Ich möchte einen Lernentwicklungsbericht für einen Schüler namens Jung, Emily schreiben. Verwende hierbei die dritte Person, um die Lernentwicklung des Schülers sachlich zu beschreiben. Achte hierbei auf das Geschlecht des Namens. Verwende nur den Vornamen des Schülers. Dieser Lernentwicklungsbericht sollte nur aus einem einzigen Paragraphen bestehen und folgend aufgebaut sein: 1. Schreibe ein Satz zur mündlichen Note im Unterricht, ohne das Wort \"mündlich\" zu verwenden. \\n                2. Schreibe zu jeder Kontrolle zwei bis drei Sätze, wobei das Niveau des Schülers am Anfang genannt wird. Beachte hierbei zu jedem Textblock der jeweiligen Kontrolle etwas zu schreiben, wobei \"UND\" für verschiedene Fähigkeiten innerhalb einer erworbenen Kompetenz steht. Schreibe pro Kontrolle / Check jedoch nicht mehr als 40 Worte. Verwende nicht das Wort \"Kontrolle\" oder \"Check\". \\n                3. Am Schluss des Paragraphen soll \"(Fe)\" stehen.\\n                Hierbei übergebe ich dir im Folgenden, die dafür relevanten Informationen:     \\n                zu 1. mündliche Note:  \\n                gezeigtes Engagement im Unterricht: beteiligt sich teilweise, sowie gezeigtes Interesse im Unterricht: teilweise.\\n                zu 2. Kontrollen:\\n                    Check1:\\n                    Niveau der  erworbene Kompetenzen: lückenhaft\\n\\n                    Kompetenzen:\\n                    Stoffe anhand ihrer Stoffteilchen ordnen (Metalle, Edelgase, flüchtige/molekulare Stoffe, Salze) UND mit einem Atommodell den Aufbau von Atomen und Ionen erläutern (Proton, Elektron, Neutron, Kern-Hülle-Modell, Schalenmodell, Außenelektron, Ionenbildung, Edelgaskonfiguration) UND auf der Grundlage des Rutherfordschen Streuversuchs das Kern-Hülle-Modell beschreiben UND den Zusammenhang zwischen Atombau und Stellung der Atome im Periodensystem der Elemente erklären (Atomsymbole, Ordnungszahl, Protonenanzahl, Elektronenanzahl, Neutronenanzahl, Massenzahl, Außenelektronen, Hauptgruppe, Periode)\\n                    \\n                    \\n                    Check2:\\n                    Niveau der  erworbene Kompetenzen: sicher\\n\\n                    Kompetenzen:\\n                    Moleküle als miteinander verbundene Atome beschreiben UND die Ionenbindung beschreiben und typische Eigenschaften des Natriumchlorids und seiner wässrigen Lösung begründen (Ionengitter, Sprödigkeit, hohe Schmelztemperatur, elektrische Leitfähigkeit) UND die Metallbindung beschreiben und damit typische Eigenschaften der Metalle begründen (Duktilität, elektrische Leitfähigkeit)\\n\\neinfache Verhältnisformeln mithilfe der Edelgasregel unter Anleitung aufstellen UND den Informationsgehalt von Verhältnisformeln und Molekülformeln beschreiben\\n\\npolare und unpolare Elektronenpaarbindungen vergleichen (Elektronegativität) UND den Zusammenhang zwischen Bindungstyp, räumlichem Bau und Dipol-Eigenschaft des Wassers darstellen UND Stoffteilchen Bindungstypen zuordnen (Elektronenpaarbindung, Ionenbindung, Metallbindung) UND zwischenmolekulare Wechselwirkungen beschreiben (Wechselwirkungen zwischen temporären Dipolen, Wasserstoffbrücken)\\n                    \\n                    ', 'Ich möchte einen Lernentwicklungsbericht für einen Schüler namens Knab, Alicia schreiben. Verwende hierbei die dritte Person, um die Lernentwicklung des Schülers sachlich zu beschreiben. Achte hierbei auf das Geschlecht des Namens. Verwende nur den Vornamen des Schülers. Dieser Lernentwicklungsbericht sollte nur aus einem einzigen Paragraphen bestehen und folgend aufgebaut sein: 1. Schreibe ein Satz zur mündlichen Note im Unterricht, ohne das Wort \"mündlich\" zu verwenden. \\n                2. Schreibe zu jeder Kontrolle zwei bis drei Sätze, wobei das Niveau des Schülers am Anfang genannt wird. Beachte hierbei zu jedem Textblock der jeweiligen Kontrolle etwas zu schreiben, wobei \"UND\" für verschiedene Fähigkeiten innerhalb einer erworbenen Kompetenz steht. Schreibe pro Kontrolle / Check jedoch nicht mehr als 40 Worte. Verwende nicht das Wort \"Kontrolle\" oder \"Check\". \\n                3. Am Schluss des Paragraphen soll \"(Fe)\" stehen.\\n                Hierbei übergebe ich dir im Folgenden, die dafür relevanten Informationen:     \\n                zu 1. mündliche Note:  \\n                gezeigtes Engagement im Unterricht: beteiligt sich teilweise, sowie gezeigtes Interesse im Unterricht: teilweise.\\n                zu 2. Kontrollen:\\n                    Check1:\\n                    Niveau der  erworbene Kompetenzen: lückenhaft\\n\\n                    Kompetenzen:\\n                    Stoffe anhand ihrer Bausteine ordnen (Metalle, flüchtige/molekulare Stoffe, Salze) UND mit dem Kern-Hülle-Modell den Aufbau von Atomen darstellen (Proton, Elektron, Neutron) UND auf der Grundlage eines Modellversuchs zum Rutherfordschen Streuversuch das Kern-Hülle-Modell beschreiben UND den Zusammenhang zwischen Atombau und Stellung der Atome im Periodensystem der Elemente beschreiben (Atomsymbole, Protonenanzahl)\\n                    \\n                    \\n                    Check2:\\n                    Niveau der  erworbene Kompetenzen: lückenhaft\\n\\n                    Kompetenzen:\\n                    Moleküle als miteinander verbundene Atome beschreiben UND die Ionenbindung beschreiben und typische Eigenschaften des Natriumchlorids begründen (Ionengitter, Sprödigkeit, hohe Schmelztemperatur)\\n\\neinfache Verhältnisformeln mithilfe vorgegebener Ionen unter Anleitung aufstellen UND den Informationsgehalt von Molekülformeln beschreiben (H2O, O2, CO2)\\n\\nMolekülen und Ionengittern Bindungstypen zuordnen (Elektronenpaarbindung, Ionenbindung)\\n                    \\n                    ', 'Ich möchte einen Lernentwicklungsbericht für einen Schüler namens Knopf, Ben schreiben. Verwende hierbei die dritte Person, um die Lernentwicklung des Schülers sachlich zu beschreiben. Achte hierbei auf das Geschlecht des Namens. Verwende nur den Vornamen des Schülers. Dieser Lernentwicklungsbericht sollte nur aus einem einzigen Paragraphen bestehen und folgend aufgebaut sein: 1. Schreibe ein Satz zur mündlichen Note im Unterricht, ohne das Wort \"mündlich\" zu verwenden. \\n                2. Schreibe zu jeder Kontrolle zwei bis drei Sätze, wobei das Niveau des Schülers am Anfang genannt wird. Beachte hierbei zu jedem Textblock der jeweiligen Kontrolle etwas zu schreiben, wobei \"UND\" für verschiedene Fähigkeiten innerhalb einer erworbenen Kompetenz steht. Schreibe pro Kontrolle / Check jedoch nicht mehr als 40 Worte. Verwende nicht das Wort \"Kontrolle\" oder \"Check\". \\n                3. Am Schluss des Paragraphen soll \"(Fe)\" stehen.\\n                Hierbei übergebe ich dir im Folgenden, die dafür relevanten Informationen:     \\n                zu 1. mündliche Note:  \\n                gezeigtes Engagement im Unterricht: beteiligt sich aktiv, sowie gezeigtes Interesse im Unterricht: reges.\\n                zu 2. Kontrollen:\\n                    Check1:\\n                    Niveau der  erworbene Kompetenzen: teilweise\\n\\n                    Kompetenzen:\\n                    Stoffe anhand ihrer Stoffteilchen ordnen (Metalle, Edelgase, flüchtige/molekulare Stoffe, Salze) UND mit einem Atommodell den Aufbau von Atomen und Ionen erläutern (Proton, Elektron, Neutron, Kern-Hülle-Modell, Schalenmodell, Außenelektron, Ionenbildung, Edelgaskonfiguration) UND auf der Grundlage des Rutherfordschen Streuversuchs das Kern-Hülle-Modell beschreiben UND den Zusammenhang zwischen Atombau und Stellung der Atome im Periodensystem der Elemente erklären (Atomsymbole, Ordnungszahl, Protonenanzahl, Elektronenanzahl, Neutronenanzahl, Massenzahl, Außenelektronen, Hauptgruppe, Periode)\\n                    \\n                    \\n                    Check2:\\n                    Niveau der  erworbene Kompetenzen: teilweise\\n\\n                    Kompetenzen:\\n                    Moleküle als miteinander verbundene Atome beschreiben UND die Ionenbindung beschreiben und typische Eigenschaften des Natriumchlorids und seiner wässrigen Lösung begründen (Ionengitter, Sprödigkeit, hohe Schmelztemperatur, elektrische Leitfähigkeit) UND die Metallbindung beschreiben und damit typische Eigenschaften der Metalle begründen (Duktilität, elektrische Leitfähigkeit)\\n\\neinfache Verhältnisformeln mithilfe der Edelgasregel unter Anleitung aufstellen UND den Informationsgehalt von Verhältnisformeln und Molekülformeln beschreiben\\n\\npolare und unpolare Elektronenpaarbindungen vergleichen (Elektronegativität) UND den Zusammenhang zwischen Bindungstyp, räumlichem Bau und Dipol-Eigenschaft des Wassers darstellen UND Stoffteilchen Bindungstypen zuordnen (Elektronenpaarbindung, Ionenbindung, Metallbindung) UND zwischenmolekulare Wechselwirkungen beschreiben (Wechselwirkungen zwischen temporären Dipolen, Wasserstoffbrücken)\\n                    \\n                    ', 'Ich möchte einen Lernentwicklungsbericht für einen Schüler namens Kraut, Lars schreiben. Verwende hierbei die dritte Person, um die Lernentwicklung des Schülers sachlich zu beschreiben. Achte hierbei auf das Geschlecht des Namens. Verwende nur den Vornamen des Schülers. Dieser Lernentwicklungsbericht sollte nur aus einem einzigen Paragraphen bestehen und folgend aufgebaut sein: 1. Schreibe ein Satz zur mündlichen Note im Unterricht, ohne das Wort \"mündlich\" zu verwenden. \\n                2. Schreibe zu jeder Kontrolle zwei bis drei Sätze, wobei das Niveau des Schülers am Anfang genannt wird. Beachte hierbei zu jedem Textblock der jeweiligen Kontrolle etwas zu schreiben, wobei \"UND\" für verschiedene Fähigkeiten innerhalb einer erworbenen Kompetenz steht. Schreibe pro Kontrolle / Check jedoch nicht mehr als 40 Worte. Verwende nicht das Wort \"Kontrolle\" oder \"Check\". \\n                3. Am Schluss des Paragraphen soll \"(Fe)\" stehen.\\n                Hierbei übergebe ich dir im Folgenden, die dafür relevanten Informationen:     \\n                zu 1. mündliche Note:  \\n                gezeigtes Engagement im Unterricht: beteiligt sich teilweise, sowie gezeigtes Interesse im Unterricht: teilweise.\\n                zu 2. Kontrollen:\\n                    Check1:\\n                    Niveau der  erworbene Kompetenzen: kaum\\n\\n                    Kompetenzen:\\n                    Stoffe anhand ihrer Bausteine ordnen (Metalle, flüchtige/molekulare Stoffe, Salze) UND mit dem Kern-Hülle-Modell den Aufbau von Atomen darstellen (Proton, Elektron, Neutron) UND auf der Grundlage eines Modellversuchs zum Rutherfordschen Streuversuch das Kern-Hülle-Modell beschreiben UND den Zusammenhang zwischen Atombau und Stellung der Atome im Periodensystem der Elemente beschreiben (Atomsymbole, Protonenanzahl)\\n                    \\n                    \\n                    Check2:\\n                    Niveau der  erworbene Kompetenzen: kaum\\n\\n                    Kompetenzen:\\n                    Moleküle als miteinander verbundene Atome beschreiben UND die Ionenbindung beschreiben und typische Eigenschaften des Natriumchlorids begründen (Ionengitter, Sprödigkeit, hohe Schmelztemperatur)\\n\\neinfache Verhältnisformeln mithilfe vorgegebener Ionen unter Anleitung aufstellen UND den Informationsgehalt von Molekülformeln beschreiben (H2O, O2, CO2)\\n\\nMolekülen und Ionengittern Bindungstypen zuordnen (Elektronenpaarbindung, Ionenbindung)\\n                    \\n                    ', 'Ich möchte einen Lernentwicklungsbericht für einen Schüler namens Kraut, Laura schreiben. Verwende hierbei die dritte Person, um die Lernentwicklung des Schülers sachlich zu beschreiben. Achte hierbei auf das Geschlecht des Namens. Verwende nur den Vornamen des Schülers. Dieser Lernentwicklungsbericht sollte nur aus einem einzigen Paragraphen bestehen und folgend aufgebaut sein: 1. Schreibe ein Satz zur mündlichen Note im Unterricht, ohne das Wort \"mündlich\" zu verwenden. \\n                2. Schreibe zu jeder Kontrolle zwei bis drei Sätze, wobei das Niveau des Schülers am Anfang genannt wird. Beachte hierbei zu jedem Textblock der jeweiligen Kontrolle etwas zu schreiben, wobei \"UND\" für verschiedene Fähigkeiten innerhalb einer erworbenen Kompetenz steht. Schreibe pro Kontrolle / Check jedoch nicht mehr als 40 Worte. Verwende nicht das Wort \"Kontrolle\" oder \"Check\". \\n                3. Am Schluss des Paragraphen soll \"(Fe)\" stehen.\\n                Hierbei übergebe ich dir im Folgenden, die dafür relevanten Informationen:     \\n                zu 1. mündliche Note:  \\n                gezeigtes Engagement im Unterricht: beteiligt sich wenig, sowie gezeigtes Interesse im Unterricht: wenig.\\n                zu 2. Kontrollen:\\n                    Check1:\\n                    Niveau der  erworbene Kompetenzen: lückenhaft\\n\\n                    Kompetenzen:\\n                    Stoffe anhand ihrer Bausteine ordnen (Metalle, flüchtige/molekulare Stoffe, Salze) UND mit dem Kern-Hülle-Modell den Aufbau von Atomen darstellen (Proton, Elektron, Neutron) UND auf der Grundlage eines Modellversuchs zum Rutherfordschen Streuversuch das Kern-Hülle-Modell beschreiben UND den Zusammenhang zwischen Atombau und Stellung der Atome im Periodensystem der Elemente beschreiben (Atomsymbole, Protonenanzahl)\\n                    \\n                    \\n                    Check2:\\n                    Niveau der  erworbene Kompetenzen: lückenhaft\\n\\n                    Kompetenzen:\\n                    Moleküle als miteinander verbundene Atome beschreiben UND die Ionenbindung beschreiben und typische Eigenschaften des Natriumchlorids begründen (Ionengitter, Sprödigkeit, hohe Schmelztemperatur)\\n\\neinfache Verhältnisformeln mithilfe vorgegebener Ionen unter Anleitung aufstellen UND den Informationsgehalt von Molekülformeln beschreiben (H2O, O2, CO2)\\n\\nMolekülen und Ionengittern Bindungstypen zuordnen (Elektronenpaarbindung, Ionenbindung)\\n                    \\n                    ', 'Ich möchte einen Lernentwicklungsbericht für einen Schüler namens Kunzmann, Emanuel schreiben. Verwende hierbei die dritte Person, um die Lernentwicklung des Schülers sachlich zu beschreiben. Achte hierbei auf das Geschlecht des Namens. Verwende nur den Vornamen des Schülers. Dieser Lernentwicklungsbericht sollte nur aus einem einzigen Paragraphen bestehen und folgend aufgebaut sein: 1. Schreibe ein Satz zur mündlichen Note im Unterricht, ohne das Wort \"mündlich\" zu verwenden. \\n                2. Schreibe zu jeder Kontrolle zwei bis drei Sätze, wobei das Niveau des Schülers am Anfang genannt wird. Beachte hierbei zu jedem Textblock der jeweiligen Kontrolle etwas zu schreiben, wobei \"UND\" für verschiedene Fähigkeiten innerhalb einer erworbenen Kompetenz steht. Schreibe pro Kontrolle / Check jedoch nicht mehr als 40 Worte. Verwende nicht das Wort \"Kontrolle\" oder \"Check\". \\n                3. Am Schluss des Paragraphen soll \"(Fe)\" stehen.\\n                Hierbei übergebe ich dir im Folgenden, die dafür relevanten Informationen:     \\n                zu 1. mündliche Note:  \\n                gezeigtes Engagement im Unterricht: beteiligt sich wenig, sowie gezeigtes Interesse im Unterricht: wenig.\\n                zu 2. Kontrollen:\\n                    Check1:\\n                    Niveau der  erworbene Kompetenzen: lückenhaft\\n\\n                    Kompetenzen:\\n                    Stoffe anhand ihrer Stoffteilchen ordnen (Metalle, Edelgase, flüchtige/molekulare Stoffe, Salze) UND mit einem Atommodell den Aufbau von Atomen und Ionen erläutern (Proton, Elektron, Neutron, Kern-Hülle-Modell, Schalenmodell, Außenelektron, Ionenbildung, Edelgaskonfiguration) UND auf der Grundlage des Rutherfordschen Streuversuchs das Kern-Hülle-Modell beschreiben UND den Zusammenhang zwischen Atombau und Stellung der Atome im Periodensystem der Elemente erklären (Atomsymbole, Ordnungszahl, Protonenanzahl, Elektronenanzahl, Neutronenanzahl, Massenzahl, Außenelektronen, Hauptgruppe, Periode)\\n                    \\n                    \\n                    Check2:\\n                    Niveau der  erworbene Kompetenzen: kaum\\n\\n                    Kompetenzen:\\n                    Moleküle als miteinander verbundene Atome beschreiben UND die Ionenbindung beschreiben und typische Eigenschaften des Natriumchlorids und seiner wässrigen Lösung begründen (Ionengitter, Sprödigkeit, hohe Schmelztemperatur, elektrische Leitfähigkeit) UND die Metallbindung beschreiben und damit typische Eigenschaften der Metalle begründen (Duktilität, elektrische Leitfähigkeit)\\n\\neinfache Verhältnisformeln mithilfe der Edelgasregel unter Anleitung aufstellen UND den Informationsgehalt von Verhältnisformeln und Molekülformeln beschreiben\\n\\npolare und unpolare Elektronenpaarbindungen vergleichen (Elektronegativität) UND den Zusammenhang zwischen Bindungstyp, räumlichem Bau und Dipol-Eigenschaft des Wassers darstellen UND Stoffteilchen Bindungstypen zuordnen (Elektronenpaarbindung, Ionenbindung, Metallbindung) UND zwischenmolekulare Wechselwirkungen beschreiben (Wechselwirkungen zwischen temporären Dipolen, Wasserstoffbrücken)\\n                    \\n                    ', 'Ich möchte einen Lernentwicklungsbericht für einen Schüler namens Mresh, Joudi schreiben. Verwende hierbei die dritte Person, um die Lernentwicklung des Schülers sachlich zu beschreiben. Achte hierbei auf das Geschlecht des Namens. Verwende nur den Vornamen des Schülers. Dieser Lernentwicklungsbericht sollte nur aus einem einzigen Paragraphen bestehen und folgend aufgebaut sein: 1. Schreibe ein Satz zur mündlichen Note im Unterricht, ohne das Wort \"mündlich\" zu verwenden. \\n                2. Schreibe zu jeder Kontrolle zwei bis drei Sätze, wobei das Niveau des Schülers am Anfang genannt wird. Beachte hierbei zu jedem Textblock der jeweiligen Kontrolle etwas zu schreiben, wobei \"UND\" für verschiedene Fähigkeiten innerhalb einer erworbenen Kompetenz steht. Schreibe pro Kontrolle / Check jedoch nicht mehr als 40 Worte. Verwende nicht das Wort \"Kontrolle\" oder \"Check\". \\n                3. Am Schluss des Paragraphen soll \"(Fe)\" stehen.\\n                Hierbei übergebe ich dir im Folgenden, die dafür relevanten Informationen:     \\n                zu 1. mündliche Note:  \\n                gezeigtes Engagement im Unterricht: beteiligt sich wenig, sowie gezeigtes Interesse im Unterricht: wenig.\\n                zu 2. Kontrollen:\\n                    Check1:\\n                    Niveau der  erworbene Kompetenzen: kaum\\n\\n                    Kompetenzen:\\n                    Stoffe anhand ihrer Stoffteilchen ordnen (Metalle, Edelgase, flüchtige/molekulare Stoffe, Salze) UND mit einem Atommodell den Aufbau von Atomen und Ionen erläutern (Proton, Elektron, Neutron, Kern-Hülle-Modell, Schalenmodell, Außenelektron, Ionenbildung, Edelgaskonfiguration) UND auf der Grundlage des Rutherfordschen Streuversuchs das Kern-Hülle-Modell beschreiben UND den Zusammenhang zwischen Atombau und Stellung der Atome im Periodensystem der Elemente erklären (Atomsymbole, Ordnungszahl, Protonenanzahl, Elektronenanzahl, Neutronenanzahl, Massenzahl, Außenelektronen, Hauptgruppe, Periode)\\n                    \\n                    \\n                    Check2:\\n                    Niveau der  erworbene Kompetenzen: kaum\\n\\n                    Kompetenzen:\\n                    Moleküle als miteinander verbundene Atome beschreiben UND die Ionenbindung beschreiben und typische Eigenschaften des Natriumchlorids und seiner wässrigen Lösung begründen (Ionengitter, Sprödigkeit, hohe Schmelztemperatur, elektrische Leitfähigkeit) UND die Metallbindung beschreiben und damit typische Eigenschaften der Metalle begründen (Duktilität, elektrische Leitfähigkeit)\\n\\neinfache Verhältnisformeln mithilfe der Edelgasregel unter Anleitung aufstellen UND den Informationsgehalt von Verhältnisformeln und Molekülformeln beschreiben\\n\\npolare und unpolare Elektronenpaarbindungen vergleichen (Elektronegativität) UND den Zusammenhang zwischen Bindungstyp, räumlichem Bau und Dipol-Eigenschaft des Wassers darstellen UND Stoffteilchen Bindungstypen zuordnen (Elektronenpaarbindung, Ionenbindung, Metallbindung) UND zwischenmolekulare Wechselwirkungen beschreiben (Wechselwirkungen zwischen temporären Dipolen, Wasserstoffbrücken)\\n                    \\n                    ', 'Ich möchte einen Lernentwicklungsbericht für einen Schüler namens Naimi, Yara schreiben. Verwende hierbei die dritte Person, um die Lernentwicklung des Schülers sachlich zu beschreiben. Achte hierbei auf das Geschlecht des Namens. Verwende nur den Vornamen des Schülers. Dieser Lernentwicklungsbericht sollte nur aus einem einzigen Paragraphen bestehen und folgend aufgebaut sein: 1. Schreibe ein Satz zur mündlichen Note im Unterricht, ohne das Wort \"mündlich\" zu verwenden. \\n                2. Schreibe zu jeder Kontrolle zwei bis drei Sätze, wobei das Niveau des Schülers am Anfang genannt wird. Beachte hierbei zu jedem Textblock der jeweiligen Kontrolle etwas zu schreiben, wobei \"UND\" für verschiedene Fähigkeiten innerhalb einer erworbenen Kompetenz steht. Schreibe pro Kontrolle / Check jedoch nicht mehr als 40 Worte. Verwende nicht das Wort \"Kontrolle\" oder \"Check\". \\n                3. Am Schluss des Paragraphen soll \"(Fe)\" stehen.\\n                Hierbei übergebe ich dir im Folgenden, die dafür relevanten Informationen:     \\n                zu 1. mündliche Note:  \\n                gezeigtes Engagement im Unterricht: beteiligt sich teilweise, sowie gezeigtes Interesse im Unterricht: teilweise.\\n                zu 2. Kontrollen:\\n                    Check1:\\n                    Niveau der  erworbene Kompetenzen: teilweise\\n\\n                    Kompetenzen:\\n                    Stoffe anhand ihrer Stoffteilchen ordnen (Metalle, Edelgase, flüchtige/molekulare Stoffe, Salze) UND mit einem Atommodell den Aufbau von Atomen und Ionen erläutern (Proton, Elektron, Neutron, Kern-Hülle-Modell, Schalenmodell, Außenelektron, Ionenbildung, Edelgaskonfiguration) UND auf der Grundlage des Rutherfordschen Streuversuchs das Kern-Hülle-Modell beschreiben UND den Zusammenhang zwischen Atombau und Stellung der Atome im Periodensystem der Elemente erklären (Atomsymbole, Ordnungszahl, Protonenanzahl, Elektronenanzahl, Neutronenanzahl, Massenzahl, Außenelektronen, Hauptgruppe, Periode)\\n                    \\n                    \\n                    Check2:\\n                    Niveau der  erworbene Kompetenzen: teilweise\\n\\n                    Kompetenzen:\\n                    Moleküle als miteinander verbundene Atome beschreiben UND die Ionenbindung beschreiben und typische Eigenschaften des Natriumchlorids und seiner wässrigen Lösung begründen (Ionengitter, Sprödigkeit, hohe Schmelztemperatur, elektrische Leitfähigkeit) UND die Metallbindung beschreiben und damit typische Eigenschaften der Metalle begründen (Duktilität, elektrische Leitfähigkeit)\\n\\neinfache Verhältnisformeln mithilfe der Edelgasregel unter Anleitung aufstellen UND den Informationsgehalt von Verhältnisformeln und Molekülformeln beschreiben\\n\\npolare und unpolare Elektronenpaarbindungen vergleichen (Elektronegativität) UND den Zusammenhang zwischen Bindungstyp, räumlichem Bau und Dipol-Eigenschaft des Wassers darstellen UND Stoffteilchen Bindungstypen zuordnen (Elektronenpaarbindung, Ionenbindung, Metallbindung) UND zwischenmolekulare Wechselwirkungen beschreiben (Wechselwirkungen zwischen temporären Dipolen, Wasserstoffbrücken)\\n                    \\n                    ', 'Ich möchte einen Lernentwicklungsbericht für einen Schüler namens Neff, Florian schreiben. Verwende hierbei die dritte Person, um die Lernentwicklung des Schülers sachlich zu beschreiben. Achte hierbei auf das Geschlecht des Namens. Verwende nur den Vornamen des Schülers. Dieser Lernentwicklungsbericht sollte nur aus einem einzigen Paragraphen bestehen und folgend aufgebaut sein: 1. Schreibe ein Satz zur mündlichen Note im Unterricht, ohne das Wort \"mündlich\" zu verwenden. \\n                2. Schreibe zu jeder Kontrolle zwei bis drei Sätze, wobei das Niveau des Schülers am Anfang genannt wird. Beachte hierbei zu jedem Textblock der jeweiligen Kontrolle etwas zu schreiben, wobei \"UND\" für verschiedene Fähigkeiten innerhalb einer erworbenen Kompetenz steht. Schreibe pro Kontrolle / Check jedoch nicht mehr als 40 Worte. Verwende nicht das Wort \"Kontrolle\" oder \"Check\". \\n                3. Am Schluss des Paragraphen soll \"(Fe)\" stehen.\\n                Hierbei übergebe ich dir im Folgenden, die dafür relevanten Informationen:     \\n                zu 1. mündliche Note:  \\n                gezeigtes Engagement im Unterricht: beteiligt sich unregelmäßig, sowie gezeigtes Interesse im Unterricht: selten.\\n                zu 2. Kontrollen:\\n                    Check1:\\n                    Niveau der  erworbene Kompetenzen: lückenhaft\\n\\n                    Kompetenzen:\\n                    Stoffe anhand ihrer Bausteine ordnen (Metalle, flüchtige/molekulare Stoffe, Salze) UND mit dem Kern-Hülle-Modell den Aufbau von Atomen darstellen (Proton, Elektron, Neutron) UND auf der Grundlage eines Modellversuchs zum Rutherfordschen Streuversuch das Kern-Hülle-Modell beschreiben UND den Zusammenhang zwischen Atombau und Stellung der Atome im Periodensystem der Elemente beschreiben (Atomsymbole, Protonenanzahl)\\n                    \\n                    \\n                    Check2:\\n                    Niveau der  erworbene Kompetenzen: lückenhaft\\n\\n                    Kompetenzen:\\n                    Moleküle als miteinander verbundene Atome beschreiben UND die Ionenbindung beschreiben und typische Eigenschaften des Natriumchlorids begründen (Ionengitter, Sprödigkeit, hohe Schmelztemperatur)\\n\\neinfache Verhältnisformeln mithilfe vorgegebener Ionen unter Anleitung aufstellen UND den Informationsgehalt von Molekülformeln beschreiben (H2O, O2, CO2)\\n\\nMolekülen und Ionengittern Bindungstypen zuordnen (Elektronenpaarbindung, Ionenbindung)\\n                    \\n                    ', 'Ich möchte einen Lernentwicklungsbericht für einen Schüler namens Öztürk, Rana schreiben. Verwende hierbei die dritte Person, um die Lernentwicklung des Schülers sachlich zu beschreiben. Achte hierbei auf das Geschlecht des Namens. Verwende nur den Vornamen des Schülers. Dieser Lernentwicklungsbericht sollte nur aus einem einzigen Paragraphen bestehen und folgend aufgebaut sein: 1. Schreibe ein Satz zur mündlichen Note im Unterricht, ohne das Wort \"mündlich\" zu verwenden. \\n                2. Schreibe zu jeder Kontrolle zwei bis drei Sätze, wobei das Niveau des Schülers am Anfang genannt wird. Beachte hierbei zu jedem Textblock der jeweiligen Kontrolle etwas zu schreiben, wobei \"UND\" für verschiedene Fähigkeiten innerhalb einer erworbenen Kompetenz steht. Schreibe pro Kontrolle / Check jedoch nicht mehr als 40 Worte. Verwende nicht das Wort \"Kontrolle\" oder \"Check\". \\n                3. Am Schluss des Paragraphen soll \"(Fe)\" stehen.\\n                Hierbei übergebe ich dir im Folgenden, die dafür relevanten Informationen:     \\n                zu 1. mündliche Note:  \\n                gezeigtes Engagement im Unterricht: beteiligt sich teilweise, sowie gezeigtes Interesse im Unterricht: teilweise.\\n                zu 2. Kontrollen:\\n                    Check1:\\n                    Niveau der  erworbene Kompetenzen: lückenhaft\\n\\n                    Kompetenzen:\\n                    Stoffe anhand ihrer Stoffteilchen ordnen (Metalle, Edelgase, flüchtige/molekulare Stoffe, Salze) UND mit einem Atommodell den Aufbau von Atomen und Ionen erläutern (Proton, Elektron, Neutron, Kern-Hülle-Modell, Schalenmodell, Außenelektron, Ionenbildung, Edelgaskonfiguration) UND auf der Grundlage des Rutherfordschen Streuversuchs das Kern-Hülle-Modell beschreiben UND den Zusammenhang zwischen Atombau und Stellung der Atome im Periodensystem der Elemente erklären (Atomsymbole, Ordnungszahl, Protonenanzahl, Elektronenanzahl, Neutronenanzahl, Massenzahl, Außenelektronen, Hauptgruppe, Periode)\\n                    \\n                    \\n                    Check2:\\n                    Niveau der  erworbene Kompetenzen: kaum\\n\\n                    Kompetenzen:\\n                    Moleküle als miteinander verbundene Atome beschreiben UND die Ionenbindung beschreiben und typische Eigenschaften des Natriumchlorids und seiner wässrigen Lösung begründen (Ionengitter, Sprödigkeit, hohe Schmelztemperatur, elektrische Leitfähigkeit) UND die Metallbindung beschreiben und damit typische Eigenschaften der Metalle begründen (Duktilität, elektrische Leitfähigkeit)\\n\\neinfache Verhältnisformeln mithilfe der Edelgasregel unter Anleitung aufstellen UND den Informationsgehalt von Verhältnisformeln und Molekülformeln beschreiben\\n\\npolare und unpolare Elektronenpaarbindungen vergleichen (Elektronegativität) UND den Zusammenhang zwischen Bindungstyp, räumlichem Bau und Dipol-Eigenschaft des Wassers darstellen UND Stoffteilchen Bindungstypen zuordnen (Elektronenpaarbindung, Ionenbindung, Metallbindung) UND zwischenmolekulare Wechselwirkungen beschreiben (Wechselwirkungen zwischen temporären Dipolen, Wasserstoffbrücken)\\n                    \\n                    ', None, 'Ich möchte einen Lernentwicklungsbericht für einen Schüler namens Stark, Amy schreiben. Verwende hierbei die dritte Person, um die Lernentwicklung des Schülers sachlich zu beschreiben. Achte hierbei auf das Geschlecht des Namens. Verwende nur den Vornamen des Schülers. Dieser Lernentwicklungsbericht sollte nur aus einem einzigen Paragraphen bestehen und folgend aufgebaut sein: 1. Schreibe ein Satz zur mündlichen Note im Unterricht, ohne das Wort \"mündlich\" zu verwenden. \\n                2. Schreibe zu jeder Kontrolle zwei bis drei Sätze, wobei das Niveau des Schülers am Anfang genannt wird. Beachte hierbei zu jedem Textblock der jeweiligen Kontrolle etwas zu schreiben, wobei \"UND\" für verschiedene Fähigkeiten innerhalb einer erworbenen Kompetenz steht. Schreibe pro Kontrolle / Check jedoch nicht mehr als 40 Worte. Verwende nicht das Wort \"Kontrolle\" oder \"Check\". \\n                3. Am Schluss des Paragraphen soll \"(Fe)\" stehen.\\n                Hierbei übergebe ich dir im Folgenden, die dafür relevanten Informationen:     \\n                zu 1. mündliche Note:  \\n                gezeigtes Engagement im Unterricht: beteiligt sich teilweise, sowie gezeigtes Interesse im Unterricht: teilweise.\\n                zu 2. Kontrollen:\\n                    Check1:\\n                    Niveau der  erworbene Kompetenzen: teilweise\\n\\n                    Kompetenzen:\\n                    Stoffe anhand ihrer Stoffteilchen ordnen (Metalle, Edelgase, flüchtige/molekulare Stoffe, Salze) UND mit einem Atommodell den Aufbau von Atomen und Ionen erläutern (Proton, Elektron, Neutron, Kern-Hülle-Modell, Schalenmodell, Außenelektron, Ionenbildung, Edelgaskonfiguration) UND auf der Grundlage des Rutherfordschen Streuversuchs das Kern-Hülle-Modell beschreiben UND den Zusammenhang zwischen Atombau und Stellung der Atome im Periodensystem der Elemente erklären (Atomsymbole, Ordnungszahl, Protonenanzahl, Elektronenanzahl, Neutronenanzahl, Massenzahl, Außenelektronen, Hauptgruppe, Periode)\\n                    \\n                    \\n                    Check2:\\n                    Niveau der  erworbene Kompetenzen: teilweise\\n\\n                    Kompetenzen:\\n                    Moleküle als miteinander verbundene Atome beschreiben UND die Ionenbindung beschreiben und typische Eigenschaften des Natriumchlorids und seiner wässrigen Lösung begründen (Ionengitter, Sprödigkeit, hohe Schmelztemperatur, elektrische Leitfähigkeit) UND die Metallbindung beschreiben und damit typische Eigenschaften der Metalle begründen (Duktilität, elektrische Leitfähigkeit)\\n\\neinfache Verhältnisformeln mithilfe der Edelgasregel unter Anleitung aufstellen UND den Informationsgehalt von Verhältnisformeln und Molekülformeln beschreiben\\n\\npolare und unpolare Elektronenpaarbindungen vergleichen (Elektronegativität) UND den Zusammenhang zwischen Bindungstyp, räumlichem Bau und Dipol-Eigenschaft des Wassers darstellen UND Stoffteilchen Bindungstypen zuordnen (Elektronenpaarbindung, Ionenbindung, Metallbindung) UND zwischenmolekulare Wechselwirkungen beschreiben (Wechselwirkungen zwischen temporären Dipolen, Wasserstoffbrücken)\\n                    \\n                    ', 'Ich möchte einen Lernentwicklungsbericht für einen Schüler namens Still, Julian schreiben. Verwende hierbei die dritte Person, um die Lernentwicklung des Schülers sachlich zu beschreiben. Achte hierbei auf das Geschlecht des Namens. Verwende nur den Vornamen des Schülers. Dieser Lernentwicklungsbericht sollte nur aus einem einzigen Paragraphen bestehen und folgend aufgebaut sein: 1. Schreibe ein Satz zur mündlichen Note im Unterricht, ohne das Wort \"mündlich\" zu verwenden. \\n                2. Schreibe zu jeder Kontrolle zwei bis drei Sätze, wobei das Niveau des Schülers am Anfang genannt wird. Beachte hierbei zu jedem Textblock der jeweiligen Kontrolle etwas zu schreiben, wobei \"UND\" für verschiedene Fähigkeiten innerhalb einer erworbenen Kompetenz steht. Schreibe pro Kontrolle / Check jedoch nicht mehr als 40 Worte. Verwende nicht das Wort \"Kontrolle\" oder \"Check\". \\n                3. Am Schluss des Paragraphen soll \"(Fe)\" stehen.\\n                Hierbei übergebe ich dir im Folgenden, die dafür relevanten Informationen:     \\n                zu 1. mündliche Note:  \\n                gezeigtes Engagement im Unterricht: beteiligt sich aktiv, sowie gezeigtes Interesse im Unterricht: reges.\\n                zu 2. Kontrollen:\\n                    Check1:\\n                    Niveau der  erworbene Kompetenzen: sicher\\n\\n                    Kompetenzen:\\n                    Stoffe anhand ihrer Stoffteilchen ordnen (Metalle, Edelgase, flüchtige/molekulare Stoffe, Salze) UND mit einem Atommodell den Aufbau von Atomen und Ionen erläutern (Proton, Elektron, Neutron, Kern-Hülle-Modell, Schalenmodell, Außenelektron, Ionenbildung, Edelgaskonfiguration) UND auf der Grundlage des Rutherfordschen Streuversuchs das Kern-Hülle-Modell beschreiben UND den Zusammenhang zwischen Atombau und Stellung der Atome im Periodensystem der Elemente erklären (Atomsymbole, Ordnungszahl, Protonenanzahl, Elektronenanzahl, Neutronenanzahl, Massenzahl, Außenelektronen, Hauptgruppe, Periode)\\n                    \\n                    \\n                    Check2:\\n                    Niveau der  erworbene Kompetenzen: sehr sicher\\n\\n                    Kompetenzen:\\n                    Moleküle als miteinander verbundene Atome beschreiben UND die Ionenbindung beschreiben und typische Eigenschaften des Natriumchlorids und seiner wässrigen Lösung begründen (Ionengitter, Sprödigkeit, hohe Schmelztemperatur, elektrische Leitfähigkeit) UND die Metallbindung beschreiben und damit typische Eigenschaften der Metalle begründen (Duktilität, elektrische Leitfähigkeit)\\n\\neinfache Verhältnisformeln mithilfe der Edelgasregel unter Anleitung aufstellen UND den Informationsgehalt von Verhältnisformeln und Molekülformeln beschreiben\\n\\npolare und unpolare Elektronenpaarbindungen vergleichen (Elektronegativität) UND den Zusammenhang zwischen Bindungstyp, räumlichem Bau und Dipol-Eigenschaft des Wassers darstellen UND Stoffteilchen Bindungstypen zuordnen (Elektronenpaarbindung, Ionenbindung, Metallbindung) UND zwischenmolekulare Wechselwirkungen beschreiben (Wechselwirkungen zwischen temporären Dipolen, Wasserstoffbrücken)\\n                    \\n                    ', 'Ich möchte einen Lernentwicklungsbericht für einen Schüler namens Thomas, Lovetta schreiben. Verwende hierbei die dritte Person, um die Lernentwicklung des Schülers sachlich zu beschreiben. Achte hierbei auf das Geschlecht des Namens. Verwende nur den Vornamen des Schülers. Dieser Lernentwicklungsbericht sollte nur aus einem einzigen Paragraphen bestehen und folgend aufgebaut sein: 1. Schreibe ein Satz zur mündlichen Note im Unterricht, ohne das Wort \"mündlich\" zu verwenden. \\n                2. Schreibe zu jeder Kontrolle zwei bis drei Sätze, wobei das Niveau des Schülers am Anfang genannt wird. Beachte hierbei zu jedem Textblock der jeweiligen Kontrolle etwas zu schreiben, wobei \"UND\" für verschiedene Fähigkeiten innerhalb einer erworbenen Kompetenz steht. Schreibe pro Kontrolle / Check jedoch nicht mehr als 40 Worte. Verwende nicht das Wort \"Kontrolle\" oder \"Check\". \\n                3. Am Schluss des Paragraphen soll \"(Fe)\" stehen.\\n                Hierbei übergebe ich dir im Folgenden, die dafür relevanten Informationen:     \\n                zu 1. mündliche Note:  \\n                gezeigtes Engagement im Unterricht: beteiligt sich sehr wenig, sowie gezeigtes Interesse im Unterricht: sehr wenig.\\n                zu 2. Kontrollen:\\n                    Check1:\\n                    Niveau der  erworbene Kompetenzen: nicht\\n\\n                    Kompetenzen:\\n                    Stoffe anhand ihrer Stoffteilchen ordnen (Metalle, Edelgase, flüchtige/molekulare Stoffe, Salze) UND mit einem Atommodell den Aufbau von Atomen und Ionen erläutern (Proton, Elektron, Neutron, Kern-Hülle-Modell, Schalenmodell, Außenelektron, Ionenbildung, Edelgaskonfiguration) UND auf der Grundlage des Rutherfordschen Streuversuchs das Kern-Hülle-Modell beschreiben UND den Zusammenhang zwischen Atombau und Stellung der Atome im Periodensystem der Elemente erklären (Atomsymbole, Ordnungszahl, Protonenanzahl, Elektronenanzahl, Neutronenanzahl, Massenzahl, Außenelektronen, Hauptgruppe, Periode)\\n                    \\n                    \\n                    Check2:\\n                    Niveau der  erworbene Kompetenzen: lückenhaft\\n\\n                    Kompetenzen:\\n                    Moleküle als miteinander verbundene Atome beschreiben UND die Ionenbindung beschreiben und typische Eigenschaften des Natriumchlorids und seiner wässrigen Lösung begründen (Ionengitter, Sprödigkeit, hohe Schmelztemperatur, elektrische Leitfähigkeit) UND die Metallbindung beschreiben und damit typische Eigenschaften der Metalle begründen (Duktilität, elektrische Leitfähigkeit)\\n\\neinfache Verhältnisformeln mithilfe der Edelgasregel unter Anleitung aufstellen UND den Informationsgehalt von Verhältnisformeln und Molekülformeln beschreiben\\n\\npolare und unpolare Elektronenpaarbindungen vergleichen (Elektronegativität) UND den Zusammenhang zwischen Bindungstyp, räumlichem Bau und Dipol-Eigenschaft des Wassers darstellen UND Stoffteilchen Bindungstypen zuordnen (Elektronenpaarbindung, Ionenbindung, Metallbindung) UND zwischenmolekulare Wechselwirkungen beschreiben (Wechselwirkungen zwischen temporären Dipolen, Wasserstoffbrücken)\\n                    \\n                    ', 'Ich möchte einen Lernentwicklungsbericht für einen Schüler namens Vera, Anthony schreiben. Verwende hierbei die dritte Person, um die Lernentwicklung des Schülers sachlich zu beschreiben. Achte hierbei auf das Geschlecht des Namens. Verwende nur den Vornamen des Schülers. Dieser Lernentwicklungsbericht sollte nur aus einem einzigen Paragraphen bestehen und folgend aufgebaut sein: 1. Schreibe ein Satz zur mündlichen Note im Unterricht, ohne das Wort \"mündlich\" zu verwenden. \\n                2. Schreibe zu jeder Kontrolle zwei bis drei Sätze, wobei das Niveau des Schülers am Anfang genannt wird. Beachte hierbei zu jedem Textblock der jeweiligen Kontrolle etwas zu schreiben, wobei \"UND\" für verschiedene Fähigkeiten innerhalb einer erworbenen Kompetenz steht. Schreibe pro Kontrolle / Check jedoch nicht mehr als 40 Worte. Verwende nicht das Wort \"Kontrolle\" oder \"Check\". \\n                3. Am Schluss des Paragraphen soll \"(Fe)\" stehen.\\n                Hierbei übergebe ich dir im Folgenden, die dafür relevanten Informationen:     \\n                zu 1. mündliche Note:  \\n                gezeigtes Engagement im Unterricht: beteiligt sich teilweise, sowie gezeigtes Interesse im Unterricht: teilweise.\\n                zu 2. Kontrollen:\\n                    Check1:\\n                    Niveau der  erworbene Kompetenzen: lückenhaft\\n\\n                    Kompetenzen:\\n                    Stoffe anhand ihrer Bausteine ordnen (Metalle, flüchtige/molekulare Stoffe, Salze) UND mit dem Kern-Hülle-Modell den Aufbau von Atomen darstellen (Proton, Elektron, Neutron) UND auf der Grundlage eines Modellversuchs zum Rutherfordschen Streuversuch das Kern-Hülle-Modell beschreiben UND den Zusammenhang zwischen Atombau und Stellung der Atome im Periodensystem der Elemente beschreiben (Atomsymbole, Protonenanzahl)\\n                    \\n                    \\n                    Check2:\\n                    Niveau der  erworbene Kompetenzen: lückenhaft\\n\\n                    Kompetenzen:\\n                    Moleküle als miteinander verbundene Atome beschreiben UND die Ionenbindung beschreiben und typische Eigenschaften des Natriumchlorids begründen (Ionengitter, Sprödigkeit, hohe Schmelztemperatur)\\n\\neinfache Verhältnisformeln mithilfe vorgegebener Ionen unter Anleitung aufstellen UND den Informationsgehalt von Molekülformeln beschreiben (H2O, O2, CO2)\\n\\nMolekülen und Ionengittern Bindungstypen zuordnen (Elektronenpaarbindung, Ionenbindung)\\n                    \\n                    ']\n"
     ]
    }
   ],
   "source": [
    "# Function to create the dynamic text\n",
    "def create_prompt_learning_report(data):\n",
    "    reports = []\n",
    "    shown_names = set()\n",
    "    for index, row in data.iterrows():\n",
    "        name = row['Name']\n",
    "        if name not in shown_names:\n",
    "            shown_names.add(name)\n",
    "            oral_mark_wording_inv = row['OralMark_wording_inv']\n",
    "            oral_mark_wording_int = row['OralMark_wording_int']\n",
    "            \n",
    "            if pd.isna(oral_mark_wording_inv):\n",
    "                reports.append(None)\n",
    "            else:                \n",
    "                condition = data['Name'] == name\n",
    "                data_checks = data[condition]\n",
    "\n",
    "                # Construct the text\n",
    "                report = f\"\"\"Ich möchte einen Lernentwicklungsbericht für einen Schüler namens {name} schreiben. Verwende hierbei die dritte Person, um die Lernentwicklung des Schülers sachlich zu beschreiben. Achte hierbei auf das Geschlecht des Namens. Verwende nur den Vornamen des Schülers. Dieser Lernentwicklungsbericht sollte nur aus einem einzigen Paragraphen bestehen und folgend aufgebaut sein:\"\"\"\n",
    "                report += f\"\"\" 1. Schreibe ein Satz zur mündlichen Note im Unterricht, ohne das Wort \"mündlich\" zu verwenden. \n",
    "                2. Schreibe zu jeder Kontrolle zwei bis drei Sätze, wobei das Niveau des Schülers am Anfang genannt wird. Beachte hierbei zu jedem Textblock der jeweiligen Kontrolle etwas zu schreiben, wobei \"UND\" für verschiedene Fähigkeiten innerhalb einer erworbenen Kompetenz steht. Schreibe pro Kontrolle / Check jedoch nicht mehr als 40 Worte. Verwende nicht das Wort \"Kontrolle\" oder \"Check\". \n",
    "                3. Am Schluss des Paragraphen soll \"(Fe)\" stehen.\"\"\"\n",
    "                report += f\"\"\"\n",
    "                Hierbei übergebe ich dir im Folgenden, die dafür relevanten Informationen:     \n",
    "                \"\"\"\n",
    "                report += f\"\"\"zu 1. mündliche Note:  \n",
    "                gezeigtes Engagement im Unterricht: {oral_mark_wording_inv}, sowie gezeigtes Interesse im Unterricht: {oral_mark_wording_int}.\n",
    "                \"\"\"\n",
    "                report += f\"\"\"zu 2. Kontrollen:\"\"\"\n",
    "                \n",
    "                for index, row in data_checks.iterrows():\n",
    "                    check = row['Check']\n",
    "                    competences = re.sub('\\xad', '', row['competences'])\n",
    "                    wording = row['wording']\n",
    "                    report += f\"\"\"\n",
    "                    {check}:\n",
    "                    Niveau der  erworbene Kompetenzen: {wording}\n",
    "\n",
    "                    Kompetenzen:\n",
    "                    {competences}\n",
    "                    \n",
    "                    \"\"\"\n",
    "                    \n",
    "                reports.append(report)\n",
    "    return reports\n",
    "\n",
    "promptText = create_prompt_learning_report(df)\n",
    "print(promptText)"
   ]
  },
  {
   "cell_type": "markdown",
   "metadata": {},
   "source": [
    "## 2. apply ChatGPT"
   ]
  },
  {
   "cell_type": "markdown",
   "metadata": {},
   "source": [
    "### overall"
   ]
  },
  {
   "cell_type": "markdown",
   "metadata": {},
   "source": [
    "Function for API call"
   ]
  },
  {
   "cell_type": "code",
   "execution_count": 8,
   "metadata": {},
   "outputs": [],
   "source": [
    "from langchain import PromptTemplate, LLMChain\n",
    "from langchain_openai import ChatOpenAI\n",
    "from langchain.callbacks import get_openai_callback\n",
    "def basic_API_call(\n",
    "    openai_api_key,\n",
    "    template,\n",
    "    model_name=\"gpt-4\",\n",
    "    max_tokens=150,\n",
    "):\n",
    "\n",
    "    prompt = PromptTemplate(template=template)\n",
    "    # top_p_value = float(\"0\")\n",
    "    seed = 123\n",
    "    llm_chain = LLMChain(\n",
    "        prompt=prompt,\n",
    "        llm=ChatOpenAI(\n",
    "            # llm=OpenAI(\n",
    "            temperature=0.0,\n",
    "            openai_api_key=openai_api_key,\n",
    "            model_name=model_name,\n",
    "            max_tokens=max_tokens,\n",
    "            # model_kwargs={\"top_p\": top_p_value, \"seed\": seed},\n",
    "            model_kwargs={\"seed\": seed},\n",
    "        ),\n",
    "        return_final_only=False,\n",
    "    )\n",
    "    \n",
    "    with get_openai_callback() as cb:\n",
    "        response = llm_chain.invoke(\n",
    "            {}\n",
    "        )\n",
    "        print(cb)\n",
    "        \n",
    "    return response"
   ]
  },
  {
   "cell_type": "code",
   "execution_count": 9,
   "metadata": {},
   "outputs": [],
   "source": [
    "# response = basic_API_call(key.openai_api_key, promptText[16], model_name=\"gpt-4\", max_tokens=1000)\n",
    "# response['text']\n",
    "# response"
   ]
  },
  {
   "cell_type": "markdown",
   "metadata": {},
   "source": [
    "add LEBs to existing pupil data.frame"
   ]
  },
  {
   "cell_type": "code",
   "execution_count": 10,
   "metadata": {},
   "outputs": [
    {
     "name": "stderr",
     "output_type": "stream",
     "text": [
      "c:\\Users\\fenn\\AppData\\Local\\R-MINI~1\\Lib\\site-packages\\openpyxl\\styles\\stylesheet.py:226: UserWarning: Workbook contains no default style, apply openpyxl's default\n",
      "  warn(\"Workbook contains no default style, apply openpyxl's default\")\n"
     ]
    }
   ],
   "source": [
    "# load data set of pupils\n",
    "df_wide = pd.read_excel(directory + \"/\" + nameData_wide + \".xlsx\")\n",
    "# Add an empty column \"LEB_neu\" to the DataFrame\n",
    "df_wide['LEB_neu'] = None"
   ]
  },
  {
   "cell_type": "code",
   "execution_count": 11,
   "metadata": {},
   "outputs": [
    {
     "name": "stderr",
     "output_type": "stream",
     "text": [
      "c:\\Users\\fenn\\AppData\\Local\\R-MINI~1\\Lib\\site-packages\\langchain_core\\_api\\deprecation.py:139: LangChainDeprecationWarning: The class `LLMChain` was deprecated in LangChain 0.1.17 and will be removed in 0.3.0. Use RunnableSequence, e.g., `prompt | llm` instead.\n",
      "  warn_deprecated(\n"
     ]
    },
    {
     "name": "stdout",
     "output_type": "stream",
     "text": [
      "Tokens Used: 965\n",
      "\tPrompt Tokens: 674\n",
      "\tCompletion Tokens: 291\n",
      "Successful Requests: 1\n",
      "Total Cost (USD): $0.037680000000000005\n"
     ]
    },
    {
     "name": "stderr",
     "output_type": "stream",
     "text": [
      "C:\\Users\\fenn\\AppData\\Local\\Temp\\ipykernel_341232\\2683912681.py:9: FutureWarning: ChainedAssignmentError: behaviour will change in pandas 3.0!\n",
      "You are setting values through chained assignment. Currently this works in certain cases, but when using Copy-on-Write (which will become the default behaviour in pandas 3.0) this will never work to update the original DataFrame or Series, because the intermediate object on which we are setting values will behave as a copy.\n",
      "A typical example is when you are setting values in a column of a DataFrame, like:\n",
      "\n",
      "df[\"col\"][row_indexer] = value\n",
      "\n",
      "Use `df.loc[row_indexer, \"col\"] = values` instead, to perform the assignment in a single step and ensure this keeps updating the original `df`.\n",
      "\n",
      "See the caveats in the documentation: https://pandas.pydata.org/pandas-docs/stable/user_guide/indexing.html#returning-a-view-versus-a-copy\n",
      "\n",
      "  df_wide['LEB_neu'][i] = response['text']\n",
      "C:\\Users\\fenn\\AppData\\Local\\Temp\\ipykernel_341232\\2683912681.py:9: SettingWithCopyWarning: \n",
      "A value is trying to be set on a copy of a slice from a DataFrame\n",
      "\n",
      "See the caveats in the documentation: https://pandas.pydata.org/pandas-docs/stable/user_guide/indexing.html#returning-a-view-versus-a-copy\n",
      "  df_wide['LEB_neu'][i] = response['text']\n"
     ]
    },
    {
     "name": "stdout",
     "output_type": "stream",
     "text": [
      "Tokens Used: 1242\n",
      "\tPrompt Tokens: 880\n",
      "\tCompletion Tokens: 362\n",
      "Successful Requests: 1\n",
      "Total Cost (USD): $0.048119999999999996\n"
     ]
    },
    {
     "name": "stderr",
     "output_type": "stream",
     "text": [
      "C:\\Users\\fenn\\AppData\\Local\\Temp\\ipykernel_341232\\2683912681.py:9: FutureWarning: ChainedAssignmentError: behaviour will change in pandas 3.0!\n",
      "You are setting values through chained assignment. Currently this works in certain cases, but when using Copy-on-Write (which will become the default behaviour in pandas 3.0) this will never work to update the original DataFrame or Series, because the intermediate object on which we are setting values will behave as a copy.\n",
      "A typical example is when you are setting values in a column of a DataFrame, like:\n",
      "\n",
      "df[\"col\"][row_indexer] = value\n",
      "\n",
      "Use `df.loc[row_indexer, \"col\"] = values` instead, to perform the assignment in a single step and ensure this keeps updating the original `df`.\n",
      "\n",
      "See the caveats in the documentation: https://pandas.pydata.org/pandas-docs/stable/user_guide/indexing.html#returning-a-view-versus-a-copy\n",
      "\n",
      "  df_wide['LEB_neu'][i] = response['text']\n",
      "C:\\Users\\fenn\\AppData\\Local\\Temp\\ipykernel_341232\\2683912681.py:9: SettingWithCopyWarning: \n",
      "A value is trying to be set on a copy of a slice from a DataFrame\n",
      "\n",
      "See the caveats in the documentation: https://pandas.pydata.org/pandas-docs/stable/user_guide/indexing.html#returning-a-view-versus-a-copy\n",
      "  df_wide['LEB_neu'][i] = response['text']\n"
     ]
    },
    {
     "name": "stdout",
     "output_type": "stream",
     "text": [
      "Tokens Used: 1193\n",
      "\tPrompt Tokens: 876\n",
      "\tCompletion Tokens: 317\n",
      "Successful Requests: 1\n",
      "Total Cost (USD): $0.04529999999999999\n"
     ]
    },
    {
     "name": "stderr",
     "output_type": "stream",
     "text": [
      "C:\\Users\\fenn\\AppData\\Local\\Temp\\ipykernel_341232\\2683912681.py:9: FutureWarning: ChainedAssignmentError: behaviour will change in pandas 3.0!\n",
      "You are setting values through chained assignment. Currently this works in certain cases, but when using Copy-on-Write (which will become the default behaviour in pandas 3.0) this will never work to update the original DataFrame or Series, because the intermediate object on which we are setting values will behave as a copy.\n",
      "A typical example is when you are setting values in a column of a DataFrame, like:\n",
      "\n",
      "df[\"col\"][row_indexer] = value\n",
      "\n",
      "Use `df.loc[row_indexer, \"col\"] = values` instead, to perform the assignment in a single step and ensure this keeps updating the original `df`.\n",
      "\n",
      "See the caveats in the documentation: https://pandas.pydata.org/pandas-docs/stable/user_guide/indexing.html#returning-a-view-versus-a-copy\n",
      "\n",
      "  df_wide['LEB_neu'][i] = response['text']\n",
      "C:\\Users\\fenn\\AppData\\Local\\Temp\\ipykernel_341232\\2683912681.py:9: SettingWithCopyWarning: \n",
      "A value is trying to be set on a copy of a slice from a DataFrame\n",
      "\n",
      "See the caveats in the documentation: https://pandas.pydata.org/pandas-docs/stable/user_guide/indexing.html#returning-a-view-versus-a-copy\n",
      "  df_wide['LEB_neu'][i] = response['text']\n"
     ]
    },
    {
     "name": "stdout",
     "output_type": "stream",
     "text": [
      "Tokens Used: 964\n",
      "\tPrompt Tokens: 673\n",
      "\tCompletion Tokens: 291\n",
      "Successful Requests: 1\n",
      "Total Cost (USD): $0.03765\n"
     ]
    },
    {
     "name": "stderr",
     "output_type": "stream",
     "text": [
      "C:\\Users\\fenn\\AppData\\Local\\Temp\\ipykernel_341232\\2683912681.py:9: FutureWarning: ChainedAssignmentError: behaviour will change in pandas 3.0!\n",
      "You are setting values through chained assignment. Currently this works in certain cases, but when using Copy-on-Write (which will become the default behaviour in pandas 3.0) this will never work to update the original DataFrame or Series, because the intermediate object on which we are setting values will behave as a copy.\n",
      "A typical example is when you are setting values in a column of a DataFrame, like:\n",
      "\n",
      "df[\"col\"][row_indexer] = value\n",
      "\n",
      "Use `df.loc[row_indexer, \"col\"] = values` instead, to perform the assignment in a single step and ensure this keeps updating the original `df`.\n",
      "\n",
      "See the caveats in the documentation: https://pandas.pydata.org/pandas-docs/stable/user_guide/indexing.html#returning-a-view-versus-a-copy\n",
      "\n",
      "  df_wide['LEB_neu'][i] = response['text']\n",
      "C:\\Users\\fenn\\AppData\\Local\\Temp\\ipykernel_341232\\2683912681.py:9: SettingWithCopyWarning: \n",
      "A value is trying to be set on a copy of a slice from a DataFrame\n",
      "\n",
      "See the caveats in the documentation: https://pandas.pydata.org/pandas-docs/stable/user_guide/indexing.html#returning-a-view-versus-a-copy\n",
      "  df_wide['LEB_neu'][i] = response['text']\n"
     ]
    },
    {
     "name": "stdout",
     "output_type": "stream",
     "text": [
      "Tokens Used: 1169\n",
      "\tPrompt Tokens: 876\n",
      "\tCompletion Tokens: 293\n",
      "Successful Requests: 1\n",
      "Total Cost (USD): $0.043859999999999996\n"
     ]
    },
    {
     "name": "stderr",
     "output_type": "stream",
     "text": [
      "C:\\Users\\fenn\\AppData\\Local\\Temp\\ipykernel_341232\\2683912681.py:9: FutureWarning: ChainedAssignmentError: behaviour will change in pandas 3.0!\n",
      "You are setting values through chained assignment. Currently this works in certain cases, but when using Copy-on-Write (which will become the default behaviour in pandas 3.0) this will never work to update the original DataFrame or Series, because the intermediate object on which we are setting values will behave as a copy.\n",
      "A typical example is when you are setting values in a column of a DataFrame, like:\n",
      "\n",
      "df[\"col\"][row_indexer] = value\n",
      "\n",
      "Use `df.loc[row_indexer, \"col\"] = values` instead, to perform the assignment in a single step and ensure this keeps updating the original `df`.\n",
      "\n",
      "See the caveats in the documentation: https://pandas.pydata.org/pandas-docs/stable/user_guide/indexing.html#returning-a-view-versus-a-copy\n",
      "\n",
      "  df_wide['LEB_neu'][i] = response['text']\n",
      "C:\\Users\\fenn\\AppData\\Local\\Temp\\ipykernel_341232\\2683912681.py:9: SettingWithCopyWarning: \n",
      "A value is trying to be set on a copy of a slice from a DataFrame\n",
      "\n",
      "See the caveats in the documentation: https://pandas.pydata.org/pandas-docs/stable/user_guide/indexing.html#returning-a-view-versus-a-copy\n",
      "  df_wide['LEB_neu'][i] = response['text']\n"
     ]
    },
    {
     "name": "stdout",
     "output_type": "stream",
     "text": [
      "Tokens Used: 959\n",
      "\tPrompt Tokens: 667\n",
      "\tCompletion Tokens: 292\n",
      "Successful Requests: 1\n",
      "Total Cost (USD): $0.037529999999999994\n"
     ]
    },
    {
     "name": "stderr",
     "output_type": "stream",
     "text": [
      "C:\\Users\\fenn\\AppData\\Local\\Temp\\ipykernel_341232\\2683912681.py:9: FutureWarning: ChainedAssignmentError: behaviour will change in pandas 3.0!\n",
      "You are setting values through chained assignment. Currently this works in certain cases, but when using Copy-on-Write (which will become the default behaviour in pandas 3.0) this will never work to update the original DataFrame or Series, because the intermediate object on which we are setting values will behave as a copy.\n",
      "A typical example is when you are setting values in a column of a DataFrame, like:\n",
      "\n",
      "df[\"col\"][row_indexer] = value\n",
      "\n",
      "Use `df.loc[row_indexer, \"col\"] = values` instead, to perform the assignment in a single step and ensure this keeps updating the original `df`.\n",
      "\n",
      "See the caveats in the documentation: https://pandas.pydata.org/pandas-docs/stable/user_guide/indexing.html#returning-a-view-versus-a-copy\n",
      "\n",
      "  df_wide['LEB_neu'][i] = response['text']\n",
      "C:\\Users\\fenn\\AppData\\Local\\Temp\\ipykernel_341232\\2683912681.py:9: SettingWithCopyWarning: \n",
      "A value is trying to be set on a copy of a slice from a DataFrame\n",
      "\n",
      "See the caveats in the documentation: https://pandas.pydata.org/pandas-docs/stable/user_guide/indexing.html#returning-a-view-versus-a-copy\n",
      "  df_wide['LEB_neu'][i] = response['text']\n"
     ]
    },
    {
     "name": "stdout",
     "output_type": "stream",
     "text": [
      "Tokens Used: 956\n",
      "\tPrompt Tokens: 671\n",
      "\tCompletion Tokens: 285\n",
      "Successful Requests: 1\n",
      "Total Cost (USD): $0.03723\n"
     ]
    },
    {
     "name": "stderr",
     "output_type": "stream",
     "text": [
      "C:\\Users\\fenn\\AppData\\Local\\Temp\\ipykernel_341232\\2683912681.py:9: FutureWarning: ChainedAssignmentError: behaviour will change in pandas 3.0!\n",
      "You are setting values through chained assignment. Currently this works in certain cases, but when using Copy-on-Write (which will become the default behaviour in pandas 3.0) this will never work to update the original DataFrame or Series, because the intermediate object on which we are setting values will behave as a copy.\n",
      "A typical example is when you are setting values in a column of a DataFrame, like:\n",
      "\n",
      "df[\"col\"][row_indexer] = value\n",
      "\n",
      "Use `df.loc[row_indexer, \"col\"] = values` instead, to perform the assignment in a single step and ensure this keeps updating the original `df`.\n",
      "\n",
      "See the caveats in the documentation: https://pandas.pydata.org/pandas-docs/stable/user_guide/indexing.html#returning-a-view-versus-a-copy\n",
      "\n",
      "  df_wide['LEB_neu'][i] = response['text']\n",
      "C:\\Users\\fenn\\AppData\\Local\\Temp\\ipykernel_341232\\2683912681.py:9: SettingWithCopyWarning: \n",
      "A value is trying to be set on a copy of a slice from a DataFrame\n",
      "\n",
      "See the caveats in the documentation: https://pandas.pydata.org/pandas-docs/stable/user_guide/indexing.html#returning-a-view-versus-a-copy\n",
      "  df_wide['LEB_neu'][i] = response['text']\n"
     ]
    },
    {
     "name": "stdout",
     "output_type": "stream",
     "text": [
      "Tokens Used: 1272\n",
      "\tPrompt Tokens: 876\n",
      "\tCompletion Tokens: 396\n",
      "Successful Requests: 1\n",
      "Total Cost (USD): $0.05004\n"
     ]
    },
    {
     "name": "stderr",
     "output_type": "stream",
     "text": [
      "C:\\Users\\fenn\\AppData\\Local\\Temp\\ipykernel_341232\\2683912681.py:9: FutureWarning: ChainedAssignmentError: behaviour will change in pandas 3.0!\n",
      "You are setting values through chained assignment. Currently this works in certain cases, but when using Copy-on-Write (which will become the default behaviour in pandas 3.0) this will never work to update the original DataFrame or Series, because the intermediate object on which we are setting values will behave as a copy.\n",
      "A typical example is when you are setting values in a column of a DataFrame, like:\n",
      "\n",
      "df[\"col\"][row_indexer] = value\n",
      "\n",
      "Use `df.loc[row_indexer, \"col\"] = values` instead, to perform the assignment in a single step and ensure this keeps updating the original `df`.\n",
      "\n",
      "See the caveats in the documentation: https://pandas.pydata.org/pandas-docs/stable/user_guide/indexing.html#returning-a-view-versus-a-copy\n",
      "\n",
      "  df_wide['LEB_neu'][i] = response['text']\n",
      "C:\\Users\\fenn\\AppData\\Local\\Temp\\ipykernel_341232\\2683912681.py:9: SettingWithCopyWarning: \n",
      "A value is trying to be set on a copy of a slice from a DataFrame\n",
      "\n",
      "See the caveats in the documentation: https://pandas.pydata.org/pandas-docs/stable/user_guide/indexing.html#returning-a-view-versus-a-copy\n",
      "  df_wide['LEB_neu'][i] = response['text']\n"
     ]
    },
    {
     "name": "stdout",
     "output_type": "stream",
     "text": [
      "Tokens Used: 1198\n",
      "\tPrompt Tokens: 874\n",
      "\tCompletion Tokens: 324\n",
      "Successful Requests: 1\n",
      "Total Cost (USD): $0.04566\n"
     ]
    },
    {
     "name": "stderr",
     "output_type": "stream",
     "text": [
      "C:\\Users\\fenn\\AppData\\Local\\Temp\\ipykernel_341232\\2683912681.py:9: FutureWarning: ChainedAssignmentError: behaviour will change in pandas 3.0!\n",
      "You are setting values through chained assignment. Currently this works in certain cases, but when using Copy-on-Write (which will become the default behaviour in pandas 3.0) this will never work to update the original DataFrame or Series, because the intermediate object on which we are setting values will behave as a copy.\n",
      "A typical example is when you are setting values in a column of a DataFrame, like:\n",
      "\n",
      "df[\"col\"][row_indexer] = value\n",
      "\n",
      "Use `df.loc[row_indexer, \"col\"] = values` instead, to perform the assignment in a single step and ensure this keeps updating the original `df`.\n",
      "\n",
      "See the caveats in the documentation: https://pandas.pydata.org/pandas-docs/stable/user_guide/indexing.html#returning-a-view-versus-a-copy\n",
      "\n",
      "  df_wide['LEB_neu'][i] = response['text']\n",
      "C:\\Users\\fenn\\AppData\\Local\\Temp\\ipykernel_341232\\2683912681.py:9: SettingWithCopyWarning: \n",
      "A value is trying to be set on a copy of a slice from a DataFrame\n",
      "\n",
      "See the caveats in the documentation: https://pandas.pydata.org/pandas-docs/stable/user_guide/indexing.html#returning-a-view-versus-a-copy\n",
      "  df_wide['LEB_neu'][i] = response['text']\n"
     ]
    },
    {
     "name": "stdout",
     "output_type": "stream",
     "text": [
      "Tokens Used: 1177\n",
      "\tPrompt Tokens: 878\n",
      "\tCompletion Tokens: 299\n",
      "Successful Requests: 1\n",
      "Total Cost (USD): $0.04428\n"
     ]
    },
    {
     "name": "stderr",
     "output_type": "stream",
     "text": [
      "C:\\Users\\fenn\\AppData\\Local\\Temp\\ipykernel_341232\\2683912681.py:9: FutureWarning: ChainedAssignmentError: behaviour will change in pandas 3.0!\n",
      "You are setting values through chained assignment. Currently this works in certain cases, but when using Copy-on-Write (which will become the default behaviour in pandas 3.0) this will never work to update the original DataFrame or Series, because the intermediate object on which we are setting values will behave as a copy.\n",
      "A typical example is when you are setting values in a column of a DataFrame, like:\n",
      "\n",
      "df[\"col\"][row_indexer] = value\n",
      "\n",
      "Use `df.loc[row_indexer, \"col\"] = values` instead, to perform the assignment in a single step and ensure this keeps updating the original `df`.\n",
      "\n",
      "See the caveats in the documentation: https://pandas.pydata.org/pandas-docs/stable/user_guide/indexing.html#returning-a-view-versus-a-copy\n",
      "\n",
      "  df_wide['LEB_neu'][i] = response['text']\n",
      "C:\\Users\\fenn\\AppData\\Local\\Temp\\ipykernel_341232\\2683912681.py:9: SettingWithCopyWarning: \n",
      "A value is trying to be set on a copy of a slice from a DataFrame\n",
      "\n",
      "See the caveats in the documentation: https://pandas.pydata.org/pandas-docs/stable/user_guide/indexing.html#returning-a-view-versus-a-copy\n",
      "  df_wide['LEB_neu'][i] = response['text']\n"
     ]
    },
    {
     "name": "stdout",
     "output_type": "stream",
     "text": [
      "Tokens Used: 980\n",
      "\tPrompt Tokens: 676\n",
      "\tCompletion Tokens: 304\n",
      "Successful Requests: 1\n",
      "Total Cost (USD): $0.03852\n"
     ]
    },
    {
     "name": "stderr",
     "output_type": "stream",
     "text": [
      "C:\\Users\\fenn\\AppData\\Local\\Temp\\ipykernel_341232\\2683912681.py:9: FutureWarning: ChainedAssignmentError: behaviour will change in pandas 3.0!\n",
      "You are setting values through chained assignment. Currently this works in certain cases, but when using Copy-on-Write (which will become the default behaviour in pandas 3.0) this will never work to update the original DataFrame or Series, because the intermediate object on which we are setting values will behave as a copy.\n",
      "A typical example is when you are setting values in a column of a DataFrame, like:\n",
      "\n",
      "df[\"col\"][row_indexer] = value\n",
      "\n",
      "Use `df.loc[row_indexer, \"col\"] = values` instead, to perform the assignment in a single step and ensure this keeps updating the original `df`.\n",
      "\n",
      "See the caveats in the documentation: https://pandas.pydata.org/pandas-docs/stable/user_guide/indexing.html#returning-a-view-versus-a-copy\n",
      "\n",
      "  df_wide['LEB_neu'][i] = response['text']\n",
      "C:\\Users\\fenn\\AppData\\Local\\Temp\\ipykernel_341232\\2683912681.py:9: SettingWithCopyWarning: \n",
      "A value is trying to be set on a copy of a slice from a DataFrame\n",
      "\n",
      "See the caveats in the documentation: https://pandas.pydata.org/pandas-docs/stable/user_guide/indexing.html#returning-a-view-versus-a-copy\n",
      "  df_wide['LEB_neu'][i] = response['text']\n"
     ]
    },
    {
     "name": "stdout",
     "output_type": "stream",
     "text": [
      "Tokens Used: 1267\n",
      "\tPrompt Tokens: 880\n",
      "\tCompletion Tokens: 387\n",
      "Successful Requests: 1\n",
      "Total Cost (USD): $0.04962\n"
     ]
    },
    {
     "name": "stderr",
     "output_type": "stream",
     "text": [
      "C:\\Users\\fenn\\AppData\\Local\\Temp\\ipykernel_341232\\2683912681.py:9: FutureWarning: ChainedAssignmentError: behaviour will change in pandas 3.0!\n",
      "You are setting values through chained assignment. Currently this works in certain cases, but when using Copy-on-Write (which will become the default behaviour in pandas 3.0) this will never work to update the original DataFrame or Series, because the intermediate object on which we are setting values will behave as a copy.\n",
      "A typical example is when you are setting values in a column of a DataFrame, like:\n",
      "\n",
      "df[\"col\"][row_indexer] = value\n",
      "\n",
      "Use `df.loc[row_indexer, \"col\"] = values` instead, to perform the assignment in a single step and ensure this keeps updating the original `df`.\n",
      "\n",
      "See the caveats in the documentation: https://pandas.pydata.org/pandas-docs/stable/user_guide/indexing.html#returning-a-view-versus-a-copy\n",
      "\n",
      "  df_wide['LEB_neu'][i] = response['text']\n",
      "C:\\Users\\fenn\\AppData\\Local\\Temp\\ipykernel_341232\\2683912681.py:9: SettingWithCopyWarning: \n",
      "A value is trying to be set on a copy of a slice from a DataFrame\n",
      "\n",
      "See the caveats in the documentation: https://pandas.pydata.org/pandas-docs/stable/user_guide/indexing.html#returning-a-view-versus-a-copy\n",
      "  df_wide['LEB_neu'][i] = response['text']\n"
     ]
    },
    {
     "name": "stdout",
     "output_type": "stream",
     "text": [
      "Tokens Used: 1165\n",
      "\tPrompt Tokens: 875\n",
      "\tCompletion Tokens: 290\n",
      "Successful Requests: 1\n",
      "Total Cost (USD): $0.043649999999999994\n"
     ]
    },
    {
     "name": "stderr",
     "output_type": "stream",
     "text": [
      "C:\\Users\\fenn\\AppData\\Local\\Temp\\ipykernel_341232\\2683912681.py:9: FutureWarning: ChainedAssignmentError: behaviour will change in pandas 3.0!\n",
      "You are setting values through chained assignment. Currently this works in certain cases, but when using Copy-on-Write (which will become the default behaviour in pandas 3.0) this will never work to update the original DataFrame or Series, because the intermediate object on which we are setting values will behave as a copy.\n",
      "A typical example is when you are setting values in a column of a DataFrame, like:\n",
      "\n",
      "df[\"col\"][row_indexer] = value\n",
      "\n",
      "Use `df.loc[row_indexer, \"col\"] = values` instead, to perform the assignment in a single step and ensure this keeps updating the original `df`.\n",
      "\n",
      "See the caveats in the documentation: https://pandas.pydata.org/pandas-docs/stable/user_guide/indexing.html#returning-a-view-versus-a-copy\n",
      "\n",
      "  df_wide['LEB_neu'][i] = response['text']\n",
      "C:\\Users\\fenn\\AppData\\Local\\Temp\\ipykernel_341232\\2683912681.py:9: SettingWithCopyWarning: \n",
      "A value is trying to be set on a copy of a slice from a DataFrame\n",
      "\n",
      "See the caveats in the documentation: https://pandas.pydata.org/pandas-docs/stable/user_guide/indexing.html#returning-a-view-versus-a-copy\n",
      "  df_wide['LEB_neu'][i] = response['text']\n"
     ]
    },
    {
     "name": "stdout",
     "output_type": "stream",
     "text": [
      "Tokens Used: 1224\n",
      "\tPrompt Tokens: 873\n",
      "\tCompletion Tokens: 351\n",
      "Successful Requests: 1\n",
      "Total Cost (USD): $0.04725\n"
     ]
    },
    {
     "name": "stderr",
     "output_type": "stream",
     "text": [
      "C:\\Users\\fenn\\AppData\\Local\\Temp\\ipykernel_341232\\2683912681.py:9: FutureWarning: ChainedAssignmentError: behaviour will change in pandas 3.0!\n",
      "You are setting values through chained assignment. Currently this works in certain cases, but when using Copy-on-Write (which will become the default behaviour in pandas 3.0) this will never work to update the original DataFrame or Series, because the intermediate object on which we are setting values will behave as a copy.\n",
      "A typical example is when you are setting values in a column of a DataFrame, like:\n",
      "\n",
      "df[\"col\"][row_indexer] = value\n",
      "\n",
      "Use `df.loc[row_indexer, \"col\"] = values` instead, to perform the assignment in a single step and ensure this keeps updating the original `df`.\n",
      "\n",
      "See the caveats in the documentation: https://pandas.pydata.org/pandas-docs/stable/user_guide/indexing.html#returning-a-view-versus-a-copy\n",
      "\n",
      "  df_wide['LEB_neu'][i] = response['text']\n",
      "C:\\Users\\fenn\\AppData\\Local\\Temp\\ipykernel_341232\\2683912681.py:9: SettingWithCopyWarning: \n",
      "A value is trying to be set on a copy of a slice from a DataFrame\n",
      "\n",
      "See the caveats in the documentation: https://pandas.pydata.org/pandas-docs/stable/user_guide/indexing.html#returning-a-view-versus-a-copy\n",
      "  df_wide['LEB_neu'][i] = response['text']\n"
     ]
    },
    {
     "name": "stdout",
     "output_type": "stream",
     "text": [
      "Tokens Used: 1212\n",
      "\tPrompt Tokens: 877\n",
      "\tCompletion Tokens: 335\n",
      "Successful Requests: 1\n",
      "Total Cost (USD): $0.04641\n"
     ]
    },
    {
     "name": "stderr",
     "output_type": "stream",
     "text": [
      "C:\\Users\\fenn\\AppData\\Local\\Temp\\ipykernel_341232\\2683912681.py:9: FutureWarning: ChainedAssignmentError: behaviour will change in pandas 3.0!\n",
      "You are setting values through chained assignment. Currently this works in certain cases, but when using Copy-on-Write (which will become the default behaviour in pandas 3.0) this will never work to update the original DataFrame or Series, because the intermediate object on which we are setting values will behave as a copy.\n",
      "A typical example is when you are setting values in a column of a DataFrame, like:\n",
      "\n",
      "df[\"col\"][row_indexer] = value\n",
      "\n",
      "Use `df.loc[row_indexer, \"col\"] = values` instead, to perform the assignment in a single step and ensure this keeps updating the original `df`.\n",
      "\n",
      "See the caveats in the documentation: https://pandas.pydata.org/pandas-docs/stable/user_guide/indexing.html#returning-a-view-versus-a-copy\n",
      "\n",
      "  df_wide['LEB_neu'][i] = response['text']\n",
      "C:\\Users\\fenn\\AppData\\Local\\Temp\\ipykernel_341232\\2683912681.py:9: SettingWithCopyWarning: \n",
      "A value is trying to be set on a copy of a slice from a DataFrame\n",
      "\n",
      "See the caveats in the documentation: https://pandas.pydata.org/pandas-docs/stable/user_guide/indexing.html#returning-a-view-versus-a-copy\n",
      "  df_wide['LEB_neu'][i] = response['text']\n"
     ]
    },
    {
     "name": "stdout",
     "output_type": "stream",
     "text": [
      "Tokens Used: 1058\n",
      "\tPrompt Tokens: 672\n",
      "\tCompletion Tokens: 386\n",
      "Successful Requests: 1\n",
      "Total Cost (USD): $0.04332\n"
     ]
    },
    {
     "name": "stderr",
     "output_type": "stream",
     "text": [
      "C:\\Users\\fenn\\AppData\\Local\\Temp\\ipykernel_341232\\2683912681.py:9: FutureWarning: ChainedAssignmentError: behaviour will change in pandas 3.0!\n",
      "You are setting values through chained assignment. Currently this works in certain cases, but when using Copy-on-Write (which will become the default behaviour in pandas 3.0) this will never work to update the original DataFrame or Series, because the intermediate object on which we are setting values will behave as a copy.\n",
      "A typical example is when you are setting values in a column of a DataFrame, like:\n",
      "\n",
      "df[\"col\"][row_indexer] = value\n",
      "\n",
      "Use `df.loc[row_indexer, \"col\"] = values` instead, to perform the assignment in a single step and ensure this keeps updating the original `df`.\n",
      "\n",
      "See the caveats in the documentation: https://pandas.pydata.org/pandas-docs/stable/user_guide/indexing.html#returning-a-view-versus-a-copy\n",
      "\n",
      "  df_wide['LEB_neu'][i] = response['text']\n",
      "C:\\Users\\fenn\\AppData\\Local\\Temp\\ipykernel_341232\\2683912681.py:9: SettingWithCopyWarning: \n",
      "A value is trying to be set on a copy of a slice from a DataFrame\n",
      "\n",
      "See the caveats in the documentation: https://pandas.pydata.org/pandas-docs/stable/user_guide/indexing.html#returning-a-view-versus-a-copy\n",
      "  df_wide['LEB_neu'][i] = response['text']\n"
     ]
    }
   ],
   "source": [
    "response_full = []\n",
    "\n",
    "for i in range(0, len(promptText)):\n",
    "    if promptText[i] is not None:\n",
    "        # print(i)\n",
    "        # print(promptText[i])\n",
    "        response = basic_API_call(key.openai_api_key, promptText[i], model_name=\"gpt-4\", max_tokens=1000)\n",
    "            \n",
    "        df_wide['LEB_neu'][i] = response['text']\n",
    "        response_full.append(response)"
   ]
  },
  {
   "cell_type": "code",
   "execution_count": 12,
   "metadata": {},
   "outputs": [
    {
     "name": "stdout",
     "output_type": "stream",
     "text": [
      "c:\\DATEN\\PHD\\Steffen_LEB\\LEB generieren\\data\n",
      "c:\\DATEN\\PHD\\Steffen_LEB\\LEB generieren\\output\n"
     ]
    }
   ],
   "source": [
    "print(os.getcwd())\n",
    "os.chdir(\"../output\") \n",
    "print(os.getcwd())\n",
    "# set the current working directory\n",
    "directory = os.getcwd()\n",
    "# Save the DataFrame to an Excel file\n",
    "df_wide.to_excel(directory + \"/\" + nameData_wide + \"_LEB\" + \".xlsx\", index=False)\n",
    "\n",
    "\n",
    "# Save the DataFrame to an Excel file\n",
    "df_json = pd.DataFrame(response_full)\n",
    "df_json.to_excel(directory + \"/\" + nameData_wide + \"_fullResponse\" + \".xlsx\", index=False)"
   ]
  }
 ],
 "metadata": {
  "kernelspec": {
   "display_name": "spaceenvironment",
   "language": "python",
   "name": "python3"
  },
  "language_info": {
   "codemirror_mode": {
    "name": "ipython",
    "version": 3
   },
   "file_extension": ".py",
   "mimetype": "text/x-python",
   "name": "python",
   "nbconvert_exporter": "python",
   "pygments_lexer": "ipython3",
   "version": "3.11.9"
  }
 },
 "nbformat": 4,
 "nbformat_minor": 2
}
